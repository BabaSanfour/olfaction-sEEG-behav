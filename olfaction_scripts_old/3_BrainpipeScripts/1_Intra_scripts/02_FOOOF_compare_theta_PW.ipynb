{
 "cells": [
  {
   "cell_type": "code",
   "execution_count": 3,
   "metadata": {},
   "outputs": [
    {
     "name": "stderr",
     "output_type": "stream",
     "text": [
      "/home/karim/anaconda3/envs/mne_coreg/lib/python3.6/site-packages/statsmodels/tools/_testing.py:19: FutureWarning: pandas.util.testing is deprecated. Use the functions in the public API at pandas.testing instead.\n",
      "  import pandas.util.testing as tm\n"
     ]
    }
   ],
   "source": [
    "from os.path import join, exists\n",
    "from os import makedirs\n",
    "import pandas as pd\n",
    "import numpy as np\n",
    "import matplotlib.pyplot as plt\n",
    "from itertools import product\n",
    "\n",
    "from brainpipe.system import study\n",
    "from utils import subjects\n",
    "\n",
    "from fooof.bands import Bands\n",
    "from fooof.plts.spectra import plot_spectrum, plot_spectrum_shading, plot_spectra_shading\n",
    "from fooof import FOOOF, FOOOFGroup\n",
    "from fooof.analysis import get_band_peak_fg\n",
    "from fooof.objs import fit_fooof_3d\n",
    "from fooof.objs.utils import average_fg, combine_fooofs, compare_info\n",
    "\n",
    "from mne.time_frequency import psd_welch\n",
    "from mne import create_info, EpochsArray\n",
    "from scipy.stats import mannwhitneyu\n",
    "import statsmodels.api as sm # import statsmodels "
   ]
  },
  {
   "cell_type": "code",
   "execution_count": 8,
   "metadata": {
    "scrolled": true
   },
   "outputs": [
    {
     "name": "stdout",
     "output_type": "stream",
     "text": [
      "-> Ripples loaded\n",
      "-> Olfacto loaded\n",
      "Effective window size : 2.000 (s)\n",
      "Effective window size : 2.000 (s)\n"
     ]
    },
    {
     "name": "stderr",
     "output_type": "stream",
     "text": [
      "/home/karim/anaconda3/envs/mne_coreg/lib/python3.6/site-packages/scipy/optimize/minpack.py:829: OptimizeWarning: Covariance of the parameters could not be estimated\n",
      "  category=OptimizeWarning)\n"
     ]
    },
    {
     "name": "stdout",
     "output_type": "stream",
     "text": [
      "Effective window size : 2.000 (s)\n",
      "Effective window size : 2.000 (s)\n"
     ]
    },
    {
     "name": "stderr",
     "output_type": "stream",
     "text": [
      "/home/karim/anaconda3/envs/mne_coreg/lib/python3.6/site-packages/scipy/optimize/minpack.py:829: OptimizeWarning: Covariance of the parameters could not be estimated\n",
      "  category=OptimizeWarning)\n",
      "/home/karim/anaconda3/envs/mne_coreg/lib/python3.6/site-packages/scipy/optimize/minpack.py:829: OptimizeWarning: Covariance of the parameters could not be estimated\n",
      "  category=OptimizeWarning)\n"
     ]
    },
    {
     "name": "stdout",
     "output_type": "stream",
     "text": [
      "Effective window size : 2.000 (s)\n",
      "Effective window size : 2.000 (s)\n"
     ]
    },
    {
     "name": "stderr",
     "output_type": "stream",
     "text": [
      "/home/karim/anaconda3/envs/mne_coreg/lib/python3.6/site-packages/scipy/optimize/minpack.py:829: OptimizeWarning: Covariance of the parameters could not be estimated\n",
      "  category=OptimizeWarning)\n",
      "/home/karim/anaconda3/envs/mne_coreg/lib/python3.6/site-packages/scipy/optimize/minpack.py:829: OptimizeWarning: Covariance of the parameters could not be estimated\n",
      "  category=OptimizeWarning)\n"
     ]
    },
    {
     "name": "stdout",
     "output_type": "stream",
     "text": [
      "LEFC b5-b4 missing elec in no odor\n",
      "Effective window size : 2.000 (s)\n",
      "Effective window size : 2.000 (s)\n",
      "Effective window size : 2.000 (s)\n",
      "Effective window size : 2.000 (s)\n"
     ]
    },
    {
     "name": "stderr",
     "output_type": "stream",
     "text": [
      "/home/karim/anaconda3/envs/mne_coreg/lib/python3.6/site-packages/scipy/optimize/minpack.py:829: OptimizeWarning: Covariance of the parameters could not be estimated\n",
      "  category=OptimizeWarning)\n",
      "/home/karim/anaconda3/envs/mne_coreg/lib/python3.6/site-packages/scipy/optimize/minpack.py:829: OptimizeWarning: Covariance of the parameters could not be estimated\n",
      "  category=OptimizeWarning)\n"
     ]
    },
    {
     "name": "stdout",
     "output_type": "stream",
     "text": [
      "Effective window size : 2.000 (s)\n",
      "Effective window size : 2.000 (s)\n",
      "Effective window size : 2.000 (s)\n",
      "Effective window size : 2.000 (s)\n",
      "Effective window size : 2.000 (s)\n",
      "Effective window size : 2.000 (s)\n",
      "Effective window size : 2.000 (s)\n",
      "Effective window size : 2.000 (s)\n",
      "Effective window size : 2.000 (s)\n",
      "Effective window size : 2.000 (s)\n"
     ]
    },
    {
     "name": "stderr",
     "output_type": "stream",
     "text": [
      "/home/karim/anaconda3/envs/mne_coreg/lib/python3.6/site-packages/scipy/optimize/minpack.py:829: OptimizeWarning: Covariance of the parameters could not be estimated\n",
      "  category=OptimizeWarning)\n"
     ]
    },
    {
     "name": "stdout",
     "output_type": "stream",
     "text": [
      "Effective window size : 2.000 (s)\n",
      "Effective window size : 2.000 (s)\n"
     ]
    },
    {
     "name": "stderr",
     "output_type": "stream",
     "text": [
      "/home/karim/anaconda3/envs/mne_coreg/lib/python3.6/site-packages/scipy/optimize/minpack.py:829: OptimizeWarning: Covariance of the parameters could not be estimated\n",
      "  category=OptimizeWarning)\n",
      "/home/karim/anaconda3/envs/mne_coreg/lib/python3.6/site-packages/scipy/optimize/minpack.py:829: OptimizeWarning: Covariance of the parameters could not be estimated\n",
      "  category=OptimizeWarning)\n"
     ]
    },
    {
     "name": "stdout",
     "output_type": "stream",
     "text": [
      "Effective window size : 2.000 (s)\n",
      "Effective window size : 2.000 (s)\n",
      "Effective window size : 2.000 (s)\n",
      "Effective window size : 2.000 (s)\n",
      "Effective window size : 2.000 (s)\n",
      "Effective window size : 2.000 (s)\n"
     ]
    },
    {
     "name": "stderr",
     "output_type": "stream",
     "text": [
      "/home/karim/anaconda3/envs/mne_coreg/lib/python3.6/site-packages/scipy/optimize/minpack.py:829: OptimizeWarning: Covariance of the parameters could not be estimated\n",
      "  category=OptimizeWarning)\n",
      "/home/karim/anaconda3/envs/mne_coreg/lib/python3.6/site-packages/scipy/optimize/minpack.py:829: OptimizeWarning: Covariance of the parameters could not be estimated\n",
      "  category=OptimizeWarning)\n"
     ]
    },
    {
     "name": "stdout",
     "output_type": "stream",
     "text": [
      "FERJ b'7-b'6 missing elec in no odor\n",
      "Effective window size : 2.000 (s)\n",
      "Effective window size : 2.000 (s)\n",
      "Effective window size : 2.000 (s)\n",
      "Effective window size : 2.000 (s)\n"
     ]
    },
    {
     "name": "stderr",
     "output_type": "stream",
     "text": [
      "/home/karim/anaconda3/envs/mne_coreg/lib/python3.6/site-packages/scipy/optimize/minpack.py:829: OptimizeWarning: Covariance of the parameters could not be estimated\n",
      "  category=OptimizeWarning)\n"
     ]
    },
    {
     "name": "stdout",
     "output_type": "stream",
     "text": [
      "Effective window size : 2.000 (s)\n",
      "Effective window size : 2.000 (s)\n"
     ]
    },
    {
     "name": "stderr",
     "output_type": "stream",
     "text": [
      "/home/karim/anaconda3/envs/mne_coreg/lib/python3.6/site-packages/scipy/optimize/minpack.py:829: OptimizeWarning: Covariance of the parameters could not be estimated\n",
      "  category=OptimizeWarning)\n",
      "/home/karim/anaconda3/envs/mne_coreg/lib/python3.6/site-packages/scipy/optimize/minpack.py:829: OptimizeWarning: Covariance of the parameters could not be estimated\n",
      "  category=OptimizeWarning)\n"
     ]
    },
    {
     "name": "stdout",
     "output_type": "stream",
     "text": [
      "Effective window size : 2.000 (s)\n",
      "Effective window size : 2.000 (s)\n"
     ]
    },
    {
     "name": "stderr",
     "output_type": "stream",
     "text": [
      "/home/karim/anaconda3/envs/mne_coreg/lib/python3.6/site-packages/scipy/optimize/minpack.py:829: OptimizeWarning: Covariance of the parameters could not be estimated\n",
      "  category=OptimizeWarning)\n",
      "/home/karim/anaconda3/envs/mne_coreg/lib/python3.6/site-packages/scipy/optimize/minpack.py:829: OptimizeWarning: Covariance of the parameters could not be estimated\n",
      "  category=OptimizeWarning)\n"
     ]
    },
    {
     "name": "stdout",
     "output_type": "stream",
     "text": [
      "Effective window size : 2.000 (s)\n",
      "Effective window size : 2.000 (s)\n"
     ]
    },
    {
     "name": "stderr",
     "output_type": "stream",
     "text": [
      "/home/karim/anaconda3/envs/mne_coreg/lib/python3.6/site-packages/scipy/optimize/minpack.py:829: OptimizeWarning: Covariance of the parameters could not be estimated\n",
      "  category=OptimizeWarning)\n"
     ]
    },
    {
     "name": "stdout",
     "output_type": "stream",
     "text": [
      "Effective window size : 2.000 (s)\n",
      "Effective window size : 2.000 (s)\n",
      "Effective window size : 2.000 (s)\n",
      "Effective window size : 2.000 (s)\n",
      "Effective window size : 2.000 (s)\n",
      "Effective window size : 2.000 (s)\n",
      "FERJ e4-e3 missing elec in no odor\n",
      "FERJ e5-e4 missing elec in no odor\n",
      "Effective window size : 2.000 (s)\n",
      "Effective window size : 2.000 (s)\n"
     ]
    },
    {
     "name": "stderr",
     "output_type": "stream",
     "text": [
      "/home/karim/anaconda3/envs/mne_coreg/lib/python3.6/site-packages/scipy/optimize/minpack.py:829: OptimizeWarning: Covariance of the parameters could not be estimated\n",
      "  category=OptimizeWarning)\n",
      "/home/karim/anaconda3/envs/mne_coreg/lib/python3.6/site-packages/scipy/optimize/minpack.py:829: OptimizeWarning: Covariance of the parameters could not be estimated\n",
      "  category=OptimizeWarning)\n"
     ]
    },
    {
     "name": "stdout",
     "output_type": "stream",
     "text": [
      "Effective window size : 2.000 (s)\n",
      "Effective window size : 2.000 (s)\n"
     ]
    },
    {
     "name": "stderr",
     "output_type": "stream",
     "text": [
      "/home/karim/anaconda3/envs/mne_coreg/lib/python3.6/site-packages/scipy/optimize/minpack.py:829: OptimizeWarning: Covariance of the parameters could not be estimated\n",
      "  category=OptimizeWarning)\n",
      "/home/karim/anaconda3/envs/mne_coreg/lib/python3.6/site-packages/scipy/optimize/minpack.py:829: OptimizeWarning: Covariance of the parameters could not be estimated\n",
      "  category=OptimizeWarning)\n"
     ]
    },
    {
     "name": "stdout",
     "output_type": "stream",
     "text": [
      "Effective window size : 2.000 (s)\n",
      "Effective window size : 2.000 (s)\n"
     ]
    },
    {
     "name": "stderr",
     "output_type": "stream",
     "text": [
      "/home/karim/anaconda3/envs/mne_coreg/lib/python3.6/site-packages/scipy/optimize/minpack.py:829: OptimizeWarning: Covariance of the parameters could not be estimated\n",
      "  category=OptimizeWarning)\n",
      "/home/karim/anaconda3/envs/mne_coreg/lib/python3.6/site-packages/scipy/optimize/minpack.py:829: OptimizeWarning: Covariance of the parameters could not be estimated\n",
      "  category=OptimizeWarning)\n"
     ]
    },
    {
     "name": "stdout",
     "output_type": "stream",
     "text": [
      "Effective window size : 2.000 (s)\n",
      "Effective window size : 2.000 (s)\n"
     ]
    },
    {
     "name": "stderr",
     "output_type": "stream",
     "text": [
      "/home/karim/anaconda3/envs/mne_coreg/lib/python3.6/site-packages/scipy/optimize/minpack.py:829: OptimizeWarning: Covariance of the parameters could not be estimated\n",
      "  category=OptimizeWarning)\n"
     ]
    },
    {
     "name": "stdout",
     "output_type": "stream",
     "text": [
      "Effective window size : 2.000 (s)\n",
      "Effective window size : 2.000 (s)\n"
     ]
    },
    {
     "name": "stderr",
     "output_type": "stream",
     "text": [
      "/home/karim/anaconda3/envs/mne_coreg/lib/python3.6/site-packages/scipy/optimize/minpack.py:829: OptimizeWarning: Covariance of the parameters could not be estimated\n",
      "  category=OptimizeWarning)\n"
     ]
    },
    {
     "name": "stdout",
     "output_type": "stream",
     "text": [
      "Effective window size : 2.000 (s)\n",
      "Effective window size : 2.000 (s)\n"
     ]
    },
    {
     "name": "stderr",
     "output_type": "stream",
     "text": [
      "/home/karim/anaconda3/envs/mne_coreg/lib/python3.6/site-packages/scipy/optimize/minpack.py:829: OptimizeWarning: Covariance of the parameters could not be estimated\n",
      "  category=OptimizeWarning)\n"
     ]
    },
    {
     "name": "stdout",
     "output_type": "stream",
     "text": [
      "Effective window size : 2.000 (s)\n",
      "Effective window size : 2.000 (s)\n"
     ]
    },
    {
     "name": "stderr",
     "output_type": "stream",
     "text": [
      "/home/karim/anaconda3/envs/mne_coreg/lib/python3.6/site-packages/scipy/optimize/minpack.py:829: OptimizeWarning: Covariance of the parameters could not be estimated\n",
      "  category=OptimizeWarning)\n"
     ]
    },
    {
     "name": "stdout",
     "output_type": "stream",
     "text": [
      "VACJ b5-b4 missing elec in no odor\n",
      "Effective window size : 2.000 (s)\n",
      "Effective window size : 2.000 (s)\n",
      "Effective window size : 2.000 (s)\n",
      "Effective window size : 2.000 (s)\n",
      "VACJ b'7-b'6 missing elec in no odor\n",
      "VACJ b'8-b'7 missing elec in no odor\n",
      "PIRJ b5-b4 missing elec in no odor\n",
      "PIRJ b'7-b'6 missing elec in no odor\n",
      "Effective window size : 2.000 (s)\n",
      "Effective window size : 2.000 (s)\n"
     ]
    },
    {
     "name": "stderr",
     "output_type": "stream",
     "text": [
      "/home/karim/anaconda3/envs/mne_coreg/lib/python3.6/site-packages/scipy/optimize/minpack.py:829: OptimizeWarning: Covariance of the parameters could not be estimated\n",
      "  category=OptimizeWarning)\n",
      "/home/karim/anaconda3/envs/mne_coreg/lib/python3.6/site-packages/scipy/optimize/minpack.py:829: OptimizeWarning: Covariance of the parameters could not be estimated\n",
      "  category=OptimizeWarning)\n",
      "/home/karim/anaconda3/envs/mne_coreg/lib/python3.6/site-packages/scipy/optimize/minpack.py:829: OptimizeWarning: Covariance of the parameters could not be estimated\n",
      "  category=OptimizeWarning)\n",
      "/home/karim/anaconda3/envs/mne_coreg/lib/python3.6/site-packages/scipy/optimize/minpack.py:829: OptimizeWarning: Covariance of the parameters could not be estimated\n",
      "  category=OptimizeWarning)\n",
      "/home/karim/anaconda3/envs/mne_coreg/lib/python3.6/site-packages/scipy/optimize/minpack.py:829: OptimizeWarning: Covariance of the parameters could not be estimated\n",
      "  category=OptimizeWarning)\n"
     ]
    },
    {
     "name": "stdout",
     "output_type": "stream",
     "text": [
      "PIRJ c5-c4 missing elec in no odor\n",
      "Effective window size : 2.000 (s)\n",
      "Effective window size : 2.000 (s)\n",
      "Effective window size : 2.000 (s)\n",
      "Effective window size : 2.000 (s)\n",
      "Effective window size : 2.000 (s)\n",
      "Effective window size : 2.000 (s)\n"
     ]
    },
    {
     "name": "stderr",
     "output_type": "stream",
     "text": [
      "/home/karim/anaconda3/envs/mne_coreg/lib/python3.6/site-packages/scipy/optimize/minpack.py:829: OptimizeWarning: Covariance of the parameters could not be estimated\n",
      "  category=OptimizeWarning)\n"
     ]
    },
    {
     "name": "stdout",
     "output_type": "stream",
     "text": [
      "Effective window size : 2.000 (s)\n",
      "Effective window size : 2.000 (s)\n",
      "Effective window size : 2.000 (s)\n",
      "Effective window size : 2.000 (s)\n",
      "Effective window size : 2.000 (s)\n",
      "Effective window size : 2.000 (s)\n"
     ]
    },
    {
     "name": "stderr",
     "output_type": "stream",
     "text": [
      "/home/karim/anaconda3/envs/mne_coreg/lib/python3.6/site-packages/scipy/optimize/minpack.py:829: OptimizeWarning: Covariance of the parameters could not be estimated\n",
      "  category=OptimizeWarning)\n"
     ]
    },
    {
     "name": "stdout",
     "output_type": "stream",
     "text": [
      "Effective window size : 2.000 (s)\n",
      "Effective window size : 2.000 (s)\n"
     ]
    },
    {
     "name": "stderr",
     "output_type": "stream",
     "text": [
      "/home/karim/anaconda3/envs/mne_coreg/lib/python3.6/site-packages/scipy/optimize/minpack.py:829: OptimizeWarning: Covariance of the parameters could not be estimated\n",
      "  category=OptimizeWarning)\n"
     ]
    },
    {
     "name": "stdout",
     "output_type": "stream",
     "text": [
      "Effective window size : 2.000 (s)\n",
      "Effective window size : 2.000 (s)\n"
     ]
    },
    {
     "name": "stderr",
     "output_type": "stream",
     "text": [
      "/home/karim/anaconda3/envs/mne_coreg/lib/python3.6/site-packages/scipy/optimize/minpack.py:829: OptimizeWarning: Covariance of the parameters could not be estimated\n",
      "  category=OptimizeWarning)\n"
     ]
    },
    {
     "name": "stdout",
     "output_type": "stream",
     "text": [
      "Effective window size : 2.000 (s)\n",
      "Effective window size : 2.000 (s)\n",
      "Effective window size : 2.000 (s)\n",
      "Effective window size : 2.000 (s)\n"
     ]
    },
    {
     "name": "stderr",
     "output_type": "stream",
     "text": [
      "/home/karim/anaconda3/envs/mne_coreg/lib/python3.6/site-packages/scipy/optimize/minpack.py:829: OptimizeWarning: Covariance of the parameters could not be estimated\n",
      "  category=OptimizeWarning)\n"
     ]
    },
    {
     "name": "stdout",
     "output_type": "stream",
     "text": [
      "Effective window size : 2.000 (s)\n",
      "Effective window size : 2.000 (s)\n",
      "SEMC e6-e5 missing elec in no odor\n",
      "Effective window size : 2.000 (s)\n",
      "Effective window size : 2.000 (s)\n",
      "Effective window size : 2.000 (s)\n",
      "Effective window size : 2.000 (s)\n"
     ]
    },
    {
     "name": "stderr",
     "output_type": "stream",
     "text": [
      "/home/karim/anaconda3/envs/mne_coreg/lib/python3.6/site-packages/scipy/optimize/minpack.py:829: OptimizeWarning: Covariance of the parameters could not be estimated\n",
      "  category=OptimizeWarning)\n"
     ]
    },
    {
     "name": "stdout",
     "output_type": "stream",
     "text": [
      "SEMC e9-e8 missing elec in no odor\n",
      "SEMC e10-e9 missing elec in no odor\n",
      "Effective window size : 2.000 (s)\n",
      "Effective window size : 2.000 (s)\n"
     ]
    },
    {
     "name": "stderr",
     "output_type": "stream",
     "text": [
      "/home/karim/anaconda3/envs/mne_coreg/lib/python3.6/site-packages/scipy/optimize/minpack.py:829: OptimizeWarning: Covariance of the parameters could not be estimated\n",
      "  category=OptimizeWarning)\n"
     ]
    },
    {
     "name": "stdout",
     "output_type": "stream",
     "text": [
      "SEMC o3-o2 missing elec in no odor\n",
      "SEMC o4-o3 missing elec in no odor\n",
      "Effective window size : 2.000 (s)\n",
      "Effective window size : 2.000 (s)\n"
     ]
    },
    {
     "name": "stderr",
     "output_type": "stream",
     "text": [
      "/home/karim/anaconda3/envs/mne_coreg/lib/python3.6/site-packages/scipy/optimize/minpack.py:829: OptimizeWarning: Covariance of the parameters could not be estimated\n",
      "  category=OptimizeWarning)\n"
     ]
    },
    {
     "name": "stdout",
     "output_type": "stream",
     "text": [
      "Effective window size : 2.000 (s)\n",
      "Effective window size : 2.000 (s)\n"
     ]
    },
    {
     "name": "stderr",
     "output_type": "stream",
     "text": [
      "/home/karim/anaconda3/envs/mne_coreg/lib/python3.6/site-packages/scipy/optimize/minpack.py:829: OptimizeWarning: Covariance of the parameters could not be estimated\n",
      "  category=OptimizeWarning)\n"
     ]
    },
    {
     "name": "stdout",
     "output_type": "stream",
     "text": [
      "Effective window size : 2.000 (s)\n",
      "Effective window size : 2.000 (s)\n"
     ]
    },
    {
     "name": "stderr",
     "output_type": "stream",
     "text": [
      "/home/karim/anaconda3/envs/mne_coreg/lib/python3.6/site-packages/scipy/optimize/minpack.py:829: OptimizeWarning: Covariance of the parameters could not be estimated\n",
      "  category=OptimizeWarning)\n",
      "/home/karim/anaconda3/envs/mne_coreg/lib/python3.6/site-packages/scipy/optimize/minpack.py:829: OptimizeWarning: Covariance of the parameters could not be estimated\n",
      "  category=OptimizeWarning)\n"
     ]
    },
    {
     "name": "stdout",
     "output_type": "stream",
     "text": [
      "Effective window size : 2.000 (s)\n",
      "Effective window size : 2.000 (s)\n"
     ]
    },
    {
     "name": "stderr",
     "output_type": "stream",
     "text": [
      "/home/karim/anaconda3/envs/mne_coreg/lib/python3.6/site-packages/scipy/optimize/minpack.py:829: OptimizeWarning: Covariance of the parameters could not be estimated\n",
      "  category=OptimizeWarning)\n"
     ]
    },
    {
     "name": "stdout",
     "output_type": "stream",
     "text": [
      "SEMC o15-o14 missing elec in no odor\n",
      "SEMC u3-u2 missing elec in no odor\n",
      "Effective window size : 2.000 (s)\n",
      "Effective window size : 2.000 (s)\n"
     ]
    },
    {
     "name": "stderr",
     "output_type": "stream",
     "text": [
      "/home/karim/anaconda3/envs/mne_coreg/lib/python3.6/site-packages/scipy/optimize/minpack.py:829: OptimizeWarning: Covariance of the parameters could not be estimated\n",
      "  category=OptimizeWarning)\n"
     ]
    },
    {
     "name": "stdout",
     "output_type": "stream",
     "text": [
      "Effective window size : 2.000 (s)\n",
      "Effective window size : 2.000 (s)\n"
     ]
    },
    {
     "name": "stderr",
     "output_type": "stream",
     "text": [
      "/home/karim/anaconda3/envs/mne_coreg/lib/python3.6/site-packages/scipy/optimize/minpack.py:829: OptimizeWarning: Covariance of the parameters could not be estimated\n",
      "  category=OptimizeWarning)\n"
     ]
    },
    {
     "name": "stdout",
     "output_type": "stream",
     "text": [
      "Effective window size : 2.000 (s)\n",
      "Effective window size : 2.000 (s)\n",
      "Effective window size : 2.000 (s)\n",
      "Effective window size : 2.000 (s)\n",
      "Effective window size : 2.000 (s)\n",
      "Effective window size : 2.000 (s)\n"
     ]
    },
    {
     "name": "stderr",
     "output_type": "stream",
     "text": [
      "/home/karim/anaconda3/envs/mne_coreg/lib/python3.6/site-packages/scipy/optimize/minpack.py:829: OptimizeWarning: Covariance of the parameters could not be estimated\n",
      "  category=OptimizeWarning)\n",
      "/home/karim/anaconda3/envs/mne_coreg/lib/python3.6/site-packages/scipy/optimize/minpack.py:829: OptimizeWarning: Covariance of the parameters could not be estimated\n",
      "  category=OptimizeWarning)\n"
     ]
    },
    {
     "name": "stdout",
     "output_type": "stream",
     "text": [
      "Effective window size : 2.000 (s)\n",
      "Effective window size : 2.000 (s)\n",
      "Effective window size : 2.000 (s)\n",
      "Effective window size : 2.000 (s)\n"
     ]
    },
    {
     "name": "stderr",
     "output_type": "stream",
     "text": [
      "/home/karim/anaconda3/envs/mne_coreg/lib/python3.6/site-packages/scipy/optimize/minpack.py:829: OptimizeWarning: Covariance of the parameters could not be estimated\n",
      "  category=OptimizeWarning)\n",
      "/home/karim/anaconda3/envs/mne_coreg/lib/python3.6/site-packages/scipy/optimize/minpack.py:829: OptimizeWarning: Covariance of the parameters could not be estimated\n",
      "  category=OptimizeWarning)\n"
     ]
    },
    {
     "name": "stdout",
     "output_type": "stream",
     "text": [
      "Effective window size : 2.000 (s)\n",
      "Effective window size : 2.000 (s)\n",
      "Effective window size : 2.000 (s)\n",
      "Effective window size : 2.000 (s)\n",
      "VACJ e'10-e'9 missing elec in no odor\n",
      "Effective window size : 2.000 (s)\n",
      "Effective window size : 2.000 (s)\n"
     ]
    },
    {
     "name": "stderr",
     "output_type": "stream",
     "text": [
      "/home/karim/anaconda3/envs/mne_coreg/lib/python3.6/site-packages/scipy/optimize/minpack.py:829: OptimizeWarning: Covariance of the parameters could not be estimated\n",
      "  category=OptimizeWarning)\n"
     ]
    },
    {
     "name": "stdout",
     "output_type": "stream",
     "text": [
      "VACJ f3-f2 missing elec in no odor\n",
      "VACJ f4-f3 missing elec in no odor\n",
      "VACJ f5-f4 missing elec in no odor\n",
      "VACJ f6-f5 missing elec in no odor\n",
      "VACJ o12-o11 missing elec in no odor\n",
      "Effective window size : 2.000 (s)\n",
      "Effective window size : 2.000 (s)\n"
     ]
    },
    {
     "name": "stderr",
     "output_type": "stream",
     "text": [
      "/home/karim/anaconda3/envs/mne_coreg/lib/python3.6/site-packages/scipy/optimize/minpack.py:829: OptimizeWarning: Covariance of the parameters could not be estimated\n",
      "  category=OptimizeWarning)\n"
     ]
    },
    {
     "name": "stdout",
     "output_type": "stream",
     "text": [
      "VACJ o'4-o'3 missing elec in no odor\n",
      "Effective window size : 2.000 (s)\n",
      "Effective window size : 2.000 (s)\n",
      "Effective window size : 2.000 (s)\n",
      "Effective window size : 2.000 (s)\n"
     ]
    },
    {
     "name": "stderr",
     "output_type": "stream",
     "text": [
      "/home/karim/anaconda3/envs/mne_coreg/lib/python3.6/site-packages/scipy/optimize/minpack.py:829: OptimizeWarning: Covariance of the parameters could not be estimated\n",
      "  category=OptimizeWarning)\n"
     ]
    },
    {
     "name": "stdout",
     "output_type": "stream",
     "text": [
      "Effective window size : 2.000 (s)\n",
      "Effective window size : 2.000 (s)\n"
     ]
    },
    {
     "name": "stderr",
     "output_type": "stream",
     "text": [
      "/home/karim/anaconda3/envs/mne_coreg/lib/python3.6/site-packages/scipy/optimize/minpack.py:829: OptimizeWarning: Covariance of the parameters could not be estimated\n",
      "  category=OptimizeWarning)\n"
     ]
    },
    {
     "name": "stdout",
     "output_type": "stream",
     "text": [
      "Effective window size : 2.000 (s)\n",
      "Effective window size : 2.000 (s)\n",
      "LEFC a3-a2 missing elec in no odor\n",
      "Effective window size : 2.000 (s)\n",
      "Effective window size : 2.000 (s)\n",
      "FERJ a4-a3 missing elec in no odor\n",
      "FERJ a5-a4 missing elec in no odor\n",
      "Effective window size : 2.000 (s)\n",
      "Effective window size : 2.000 (s)\n",
      "Effective window size : 2.000 (s)\n",
      "Effective window size : 2.000 (s)\n"
     ]
    },
    {
     "name": "stderr",
     "output_type": "stream",
     "text": [
      "/home/karim/anaconda3/envs/mne_coreg/lib/python3.6/site-packages/scipy/optimize/minpack.py:829: OptimizeWarning: Covariance of the parameters could not be estimated\n",
      "  category=OptimizeWarning)\n"
     ]
    },
    {
     "name": "stdout",
     "output_type": "stream",
     "text": [
      "Effective window size : 2.000 (s)\n",
      "Effective window size : 2.000 (s)\n"
     ]
    },
    {
     "name": "stderr",
     "output_type": "stream",
     "text": [
      "/home/karim/anaconda3/envs/mne_coreg/lib/python3.6/site-packages/scipy/optimize/minpack.py:829: OptimizeWarning: Covariance of the parameters could not be estimated\n",
      "  category=OptimizeWarning)\n",
      "/home/karim/anaconda3/envs/mne_coreg/lib/python3.6/site-packages/scipy/optimize/minpack.py:829: OptimizeWarning: Covariance of the parameters could not be estimated\n",
      "  category=OptimizeWarning)\n"
     ]
    },
    {
     "name": "stdout",
     "output_type": "stream",
     "text": [
      "Effective window size : 2.000 (s)\n",
      "Effective window size : 2.000 (s)\n",
      "Effective window size : 2.000 (s)\n",
      "Effective window size : 2.000 (s)\n"
     ]
    },
    {
     "name": "stderr",
     "output_type": "stream",
     "text": [
      "/home/karim/anaconda3/envs/mne_coreg/lib/python3.6/site-packages/scipy/optimize/minpack.py:829: OptimizeWarning: Covariance of the parameters could not be estimated\n",
      "  category=OptimizeWarning)\n",
      "/home/karim/anaconda3/envs/mne_coreg/lib/python3.6/site-packages/scipy/optimize/minpack.py:829: OptimizeWarning: Covariance of the parameters could not be estimated\n",
      "  category=OptimizeWarning)\n"
     ]
    },
    {
     "name": "stdout",
     "output_type": "stream",
     "text": [
      "Effective window size : 2.000 (s)\n",
      "Effective window size : 2.000 (s)\n"
     ]
    },
    {
     "name": "stderr",
     "output_type": "stream",
     "text": [
      "/home/karim/anaconda3/envs/mne_coreg/lib/python3.6/site-packages/scipy/optimize/minpack.py:829: OptimizeWarning: Covariance of the parameters could not be estimated\n",
      "  category=OptimizeWarning)\n",
      "/home/karim/anaconda3/envs/mne_coreg/lib/python3.6/site-packages/scipy/optimize/minpack.py:829: OptimizeWarning: Covariance of the parameters could not be estimated\n",
      "  category=OptimizeWarning)\n",
      "/home/karim/anaconda3/envs/mne_coreg/lib/python3.6/site-packages/scipy/optimize/minpack.py:829: OptimizeWarning: Covariance of the parameters could not be estimated\n",
      "  category=OptimizeWarning)\n",
      "/home/karim/anaconda3/envs/mne_coreg/lib/python3.6/site-packages/scipy/optimize/minpack.py:829: OptimizeWarning: Covariance of the parameters could not be estimated\n",
      "  category=OptimizeWarning)\n"
     ]
    },
    {
     "name": "stdout",
     "output_type": "stream",
     "text": [
      "FERJ j'5-j'4 missing elec in no odor\n"
     ]
    }
   ],
   "source": [
    "st = study('Ripples')\n",
    "st2 = study('Olfacto')\n",
    "PATH = join(st.path, 'database/R_odors/')\n",
    "PATH2 = join(st2.path, 'database/Retrieval_No_Odor/')\n",
    "csv_name = join(PATH, 'fg_models_theta/csv_su=all_roi={}_f=[2-9].csv')\n",
    "filename = join(PATH, '{}_cond=ALL_odors=ALL_bipo_INFO_clean.npz')\n",
    "filename2 = join(PATH2, '{}_odor_no_odor_bipo_sel_phys.npz')\n",
    "PATH_SAVE = join(st.path, 'feature/theta_psd_low_high_no_odor/')\n",
    "if not exists(PATH_SAVE):\n",
    "    makedirs(PATH_SAVE)\n",
    "\n",
    "rois = ['HC','orbital','olf']\n",
    "sf, fmin, fmax = 500, 1, 14\n",
    "bands = Bands({'theta' : [4,8]})\n",
    "\n",
    "for roi in rois:\n",
    "    df = pd.read_csv(csv_name.format(roi))\n",
    "    df = df.loc[df['theta_detect']==1]\n",
    "    nelecs = df.shape[0]\n",
    "    i = 0\n",
    "    pows_, CFs_ = np.zeros((nelecs,4)), np.zeros((nelecs,4))\n",
    "    Ts_od, Ts_2gr, Ts_3gr = np.zeros((nelecs,2)), np.zeros((nelecs,2)),np.zeros((nelecs,2))\n",
    "    for su,ch in zip(df['subjects'],df['channels']):\n",
    "        od_mat = np.load(filename.format(su),allow_pickle=True)\n",
    "        EM_2gr = od_mat['EM_2gr'] #to split trials in Low and High groups\n",
    "        no_mat = np.load(filename2.format(su),allow_pickle=True)\n",
    "        \n",
    "        ch_id = np.where(od_mat['channel']==ch)[0]\n",
    "        ch_no = np.where(no_mat['channels']==ch)[0]\n",
    "        if len(ch_no) < 1:\n",
    "            print(su,ch,'missing elec in no odor')\n",
    "            i += 1\n",
    "        else:\n",
    "            #ntrials, nchannels, npts\n",
    "            data_od = od_mat['x'][ch_id,...].swapaxes(0,-1).swapaxes(1,2)\n",
    "            data_no_od = no_mat['x'][ch_no,...].swapaxes(0,-1).swapaxes(1,2)\n",
    "            \n",
    "            info = create_info([ch],sfreq=sf,ch_types='eeg')\n",
    "            epochs = EpochsArray(data_od,info,tmin=-3,verbose=False)\n",
    "            epochs2 = EpochsArray(data_no_od,info,tmin=-3,verbose=False)\n",
    "            \n",
    "            #ntrials, nchannels, nfreqs\n",
    "            psds, freqs = psd_welch(epochs, fmin=fmin, fmax=fmax, n_jobs=1,\n",
    "                            tmin=0, tmax=2, n_overlap=150, n_fft=sf*2)\n",
    "            psds2, _ = psd_welch(epochs2, fmin=fmin, fmax=fmax, n_jobs=1,\n",
    "                            tmin=0, tmax=2, n_overlap=150, n_fft=sf*2)\n",
    "            ntrials = psds.shape[0]\n",
    "            psds2_rand = psds2[np.random.randint(0,psds2.shape[0],size=ntrials),...]\n",
    "\n",
    "            #Initialize a FOOOF object\n",
    "            fg = FOOOFGroup(peak_width_limits=[1,8], min_peak_height=0.2, # max_n_peaks=2,\n",
    "                            peak_threshold=1.,aperiodic_mode='fixed',verbose=False)\n",
    "            mod_od = fit_fooof_3d(fg,freqs, psds)\n",
    "            mod_no = fit_fooof_3d(fg,freqs, psds2)\n",
    "            \n",
    "            #extract peaks by freq bands\n",
    "            peak_od = np.squeeze([get_band_peak_fg(fg, bands.theta) for fg in mod_od])\n",
    "            peak_no = np.squeeze([get_band_peak_fg(fg,bands.theta) for fg in mod_no])\n",
    "            peak_low = peak_od[np.where(EM_2gr=='low')[0],...]\n",
    "            peak_high = peak_od[np.where(EM_2gr=='high')[0],...]\n",
    "            \n",
    "            #deal with nan values (no theta power detected on this trial)\n",
    "            peak_no_pow = np.nan_to_num(peak_no[:,1],0)\n",
    "            peak_od_pow = np.nan_to_num(peak_od[:,1],0)\n",
    "            peak_l_pow = np.nan_to_num(peak_low[:,1],0)\n",
    "            peak_h_pow = np.nan_to_num(peak_high[:,1],0)\n",
    "            \n",
    "            pows = [peak_no_pow,peak_od_pow,peak_l_pow,peak_h_pow]\n",
    "            CFs = [peak_no[:,0], peak_od[:,0], peak_low[:,0], peak_high[:,0]]\n",
    "            #print(np.array([np.mean(x) for x in pows]))\n",
    "            pows_[i] += np.array([np.median(x) for x in pows])\n",
    "            CFs_[i] += np.array([np.nanmedian(x) for x in CFs])\n",
    "            \n",
    "            Ts_od[i] += mannwhitneyu(peak_no_pow,peak_od[:,1],alternative=None)\n",
    "            Ts_2gr[i] += mannwhitneyu(peak_low[:,1],peak_high[:,1],alternative=None)\n",
    "            \n",
    "            Y = np.concatenate((peak_no_pow,peak_low[:,1],peak_high[:,1]))\n",
    "            X = [[0]*peak_no_pow.shape[0]+[1]*peak_low.shape[0]+[2]*peak_high.shape[0]]\n",
    "            X = np.asarray(X).swapaxes(0,1)\n",
    "            X = sm.add_constant(X)\n",
    "            results = sm.OLS(Y,X).fit()\n",
    "            Ts_3gr[i] += np.array([np.round(results.tvalues[1],3),results.pvalues[1]])\n",
    "            i += 1\n",
    "    #concat all data and update df\n",
    "    data = np.concatenate((pows_,CFs_,Ts_od,Ts_2gr,Ts_3gr),axis=1)\n",
    "    df2 = pd.DataFrame(data,columns=['PW_no','PW_od','PW_l','PW_h',\n",
    "                                     'CF_no','CF_od','CF_l','CF_h',\n",
    "                                     'T_od','p_od','T_lh','p_lh',\n",
    "                                     'T_ols','p_ols'])\n",
    "    df3 = pd.concat([df,df2],axis=1)\n",
    "    df3.to_csv(csv_name.format(roi).replace('[2-9].csv','[4-8]_med_allstats.csv'),index=False)          "
   ]
  },
  {
   "cell_type": "code",
   "execution_count": 12,
   "metadata": {},
   "outputs": [
    {
     "name": "stdout",
     "output_type": "stream",
     "text": [
      "-> Ripples loaded\n",
      "PW_no    0.786468\n",
      "PW_od    0.792693\n",
      "dtype: float64\n",
      "HC odor         Mixed Linear Model Regression Results\n",
      "======================================================\n",
      "Model:            MixedLM Dependent Variable: PWs     \n",
      "No. Observations: 78      Method:             REML    \n",
      "No. Groups:       5       Scale:              0.1679  \n",
      "Min. group size:  2       Likelihood:         -46.6006\n",
      "Max. group size:  44      Converged:          Yes     \n",
      "Mean group size:  15.6                                \n",
      "------------------------------------------------------\n",
      "              Coef. Std.Err.   z   P>|z| [0.025 0.975]\n",
      "------------------------------------------------------\n",
      "Intercept     0.702    0.187 3.747 0.000  0.335  1.069\n",
      "conds         0.006    0.093 0.067 0.947 -0.176  0.188\n",
      "Group Var     0.057    0.126                          \n",
      "======================================================\n",
      "\n",
      "PW_l    0.799837\n",
      "PW_h    0.796622\n",
      "dtype: float64\n",
      "HC mem2gr         Mixed Linear Model Regression Results\n",
      "======================================================\n",
      "Model:            MixedLM Dependent Variable: PWs     \n",
      "No. Observations: 78      Method:             REML    \n",
      "No. Groups:       5       Scale:              0.1728  \n",
      "Min. group size:  2       Likelihood:         -47.9796\n",
      "Max. group size:  44      Converged:          Yes     \n",
      "Mean group size:  15.6                                \n",
      "------------------------------------------------------\n",
      "            Coef.  Std.Err.   z    P>|z| [0.025 0.975]\n",
      "------------------------------------------------------\n",
      "Intercept    0.685    0.197  3.472 0.001  0.298  1.072\n",
      "conds       -0.003    0.094 -0.034 0.973 -0.188  0.181\n",
      "Group Var    0.072    0.148                           \n",
      "======================================================\n",
      "\n",
      "PW_no    0.786468\n",
      "PW_l     0.799837\n",
      "PW_h     0.796622\n",
      "dtype: float64\n",
      "HC od_mem         Mixed Linear Model Regression Results\n",
      "======================================================\n",
      "Model:            MixedLM Dependent Variable: PWs     \n",
      "No. Observations: 117     Method:             REML    \n",
      "No. Groups:       5       Scale:              0.1684  \n",
      "Min. group size:  3       Likelihood:         -68.9665\n",
      "Max. group size:  66      Converged:          Yes     \n",
      "Mean group size:  23.4                                \n",
      "------------------------------------------------------\n",
      "              Coef. Std.Err.   z   P>|z| [0.025 0.975]\n",
      "------------------------------------------------------\n",
      "Intercept     0.688    0.156 4.404 0.000  0.382  0.994\n",
      "conds         0.005    0.046 0.109 0.913 -0.086  0.096\n",
      "Group Var     0.063    0.127                          \n",
      "======================================================\n",
      "\n",
      "PW_no    0.685373\n",
      "PW_od    0.683337\n",
      "dtype: float64\n",
      "orbital odor         Mixed Linear Model Regression Results\n",
      "======================================================\n",
      "Model:            MixedLM Dependent Variable: PWs     \n",
      "No. Observations: 92      Method:             REML    \n",
      "No. Groups:       6       Scale:              0.1774  \n",
      "Min. group size:  2       Likelihood:         -57.4009\n",
      "Max. group size:  42      Converged:          Yes     \n",
      "Mean group size:  15.3                                \n",
      "------------------------------------------------------\n",
      "            Coef.  Std.Err.   z    P>|z| [0.025 0.975]\n",
      "------------------------------------------------------\n",
      "Intercept    0.822    0.181  4.542 0.000  0.467  1.177\n",
      "conds       -0.002    0.088 -0.023 0.982 -0.174  0.170\n",
      "Group Var    0.064    0.127                           \n",
      "======================================================\n",
      "\n",
      "PW_l    0.663880\n",
      "PW_h    0.696311\n",
      "dtype: float64\n",
      "orbital mem2gr         Mixed Linear Model Regression Results\n",
      "======================================================\n",
      "Model:            MixedLM Dependent Variable: PWs     \n",
      "No. Observations: 92      Method:             REML    \n",
      "No. Groups:       6       Scale:              0.1738  \n",
      "Min. group size:  2       Likelihood:         -57.0094\n",
      "Max. group size:  42      Converged:          Yes     \n",
      "Mean group size:  15.3                                \n",
      "------------------------------------------------------\n",
      "              Coef. Std.Err.   z   P>|z| [0.025 0.975]\n",
      "------------------------------------------------------\n",
      "Intercept     0.794    0.189 4.195 0.000  0.423  1.165\n",
      "conds         0.032    0.087 0.373 0.709 -0.138  0.203\n",
      "Group Var     0.084    0.161                          \n",
      "======================================================\n",
      "\n",
      "PW_no    0.685373\n",
      "PW_l     0.663880\n",
      "PW_h     0.696311\n",
      "dtype: float64\n",
      "orbital od_mem         Mixed Linear Model Regression Results\n",
      "======================================================\n",
      "Model:            MixedLM Dependent Variable: PWs     \n",
      "No. Observations: 138     Method:             REML    \n",
      "No. Groups:       6       Scale:              0.1735  \n",
      "Min. group size:  3       Likelihood:         -83.3511\n",
      "Max. group size:  63      Converged:          Yes     \n",
      "Mean group size:  23.0                                \n",
      "------------------------------------------------------\n",
      "              Coef. Std.Err.   z   P>|z| [0.025 0.975]\n",
      "------------------------------------------------------\n",
      "Intercept     0.827    0.151 5.459 0.000  0.530  1.124\n",
      "conds         0.005    0.043 0.126 0.900 -0.080  0.091\n",
      "Group Var     0.073    0.132                          \n",
      "======================================================\n",
      "\n",
      "PW_no    0.693294\n",
      "PW_od    0.781774\n",
      "dtype: float64\n",
      "olf odor         Mixed Linear Model Regression Results\n",
      "======================================================\n",
      "Model:            MixedLM Dependent Variable: PWs     \n",
      "No. Observations: 24      Method:             REML    \n",
      "No. Groups:       2       Scale:              0.3234  \n",
      "Min. group size:  4       Likelihood:         -21.2837\n",
      "Max. group size:  20      Converged:          Yes     \n",
      "Mean group size:  12.0                                \n",
      "------------------------------------------------------\n",
      "              Coef. Std.Err.   z   P>|z| [0.025 0.975]\n",
      "------------------------------------------------------\n",
      "Intercept     0.605    0.398 1.520 0.129 -0.175  1.385\n",
      "conds         0.088    0.232 0.381 0.703 -0.367  0.544\n",
      "Group Var     0.000    0.129                          \n",
      "======================================================\n",
      "\n",
      "PW_l    0.750075\n",
      "PW_h    0.779187\n",
      "dtype: float64\n",
      "olf mem2gr         Mixed Linear Model Regression Results\n",
      "======================================================\n",
      "Model:            MixedLM Dependent Variable: PWs     \n",
      "No. Observations: 24      Method:             REML    \n",
      "No. Groups:       2       Scale:              0.3681  \n",
      "Min. group size:  4       Likelihood:         -22.7070\n",
      "Max. group size:  20      Converged:          Yes     \n",
      "Mean group size:  12.0                                \n",
      "------------------------------------------------------\n",
      "              Coef. Std.Err.   z   P>|z| [0.025 0.975]\n",
      "------------------------------------------------------\n",
      "Intercept     0.721    0.426 1.693 0.090 -0.114  1.556\n",
      "conds         0.029    0.248 0.118 0.906 -0.456  0.515\n",
      "Group Var     0.000    0.143                          \n",
      "======================================================\n",
      "\n",
      "PW_no    0.693294\n",
      "PW_l     0.750075\n",
      "PW_h     0.779187\n",
      "dtype: float64\n",
      "olf od_mem         Mixed Linear Model Regression Results\n",
      "======================================================\n",
      "Model:            MixedLM Dependent Variable: PWs     \n",
      "No. Observations: 36      Method:             REML    \n",
      "No. Groups:       2       Scale:              0.3214  \n",
      "Min. group size:  6       Likelihood:         -32.5249\n",
      "Max. group size:  30      Converged:          Yes     \n",
      "Mean group size:  18.0                                \n",
      "------------------------------------------------------\n",
      "              Coef. Std.Err.   z   P>|z| [0.025 0.975]\n",
      "------------------------------------------------------\n",
      "Intercept     0.622    0.287 2.164 0.030  0.059  1.184\n",
      "conds         0.043    0.116 0.371 0.711 -0.184  0.270\n",
      "Group Var     0.015    0.121                          \n",
      "======================================================\n",
      "\n"
     ]
    },
    {
     "name": "stderr",
     "output_type": "stream",
     "text": [
      "/home/karim/anaconda3/envs/mne_coreg/lib/python3.6/site-packages/statsmodels/regression/mixed_linear_model.py:2094: ConvergenceWarning: The MLE may be on the boundary of the parameter space.\n",
      "  warnings.warn(msg, ConvergenceWarning)\n",
      "/home/karim/anaconda3/envs/mne_coreg/lib/python3.6/site-packages/statsmodels/regression/mixed_linear_model.py:2094: ConvergenceWarning: The MLE may be on the boundary of the parameter space.\n",
      "  warnings.warn(msg, ConvergenceWarning)\n"
     ]
    }
   ],
   "source": [
    "import statsmodels.api as sm\n",
    "import statsmodels.formula.api as smf\n",
    "\n",
    "st = study('Ripples')\n",
    "PATH = join(st.path, 'database/R_odors/')\n",
    "csv_name = join(PATH, 'fg_models_theta/csv_su=all_roi={}_f=[4-8]_med_allstats.csv')\n",
    "path_figs = join(PATH, 'plot_pow_theta_diff/')\n",
    "figname1 = join(path_figs, 'Mean_pow_all_su_conds={}.png')\n",
    "figname2 = join(path_figs, 'ratio_sig_pow_all_su_conds={}.png')\n",
    "\n",
    "if not exists(path_figs):\n",
    "    makedirs(path_figs)\n",
    "\n",
    "rois = ['HC','orbital','olf']\n",
    "conds = ['odor','mem2gr','od_mem']#,'od_mem']\n",
    "\n",
    "for roi in rois:\n",
    "    df = pd.read_csv(csv_name.format(roi))\n",
    "    for cond in conds:\n",
    "        if cond == 'odor':\n",
    "            cols = ['subjects','PW_no','PW_od']\n",
    "        if cond == 'mem2gr':\n",
    "            cols = ['subjects','PW_l','PW_h']\n",
    "        if cond == 'od_mem':\n",
    "            cols = ['subjects','PW_no','PW_l','PW_h']\n",
    "        df_ = df[cols]\n",
    "        df_ = df_.dropna()\n",
    "        nelecs = df_.shape[0]\n",
    "        subjects = np.concatenate([df_['subjects'].values]*(len(cols)-1))\n",
    "        PWs = np.concatenate(([df_[col] for col in cols if col!='subjects']))[:,np.newaxis]\n",
    "        conds_v = np.concatenate([[i]*nelecs for i,col in enumerate(cols) if col!='subjects'])[:,np.newaxis]\n",
    "        df_res = pd.DataFrame(data=np.concatenate((PWs,conds_v),axis=1),\n",
    "                              columns=['PWs','conds'],dtype='float')\n",
    "        \n",
    "        md = smf.mixedlm(\"PWs ~ conds\", df_res, groups=subjects)\n",
    "        mdf = md.fit()\n",
    "        print(df_.mean())\n",
    "        print(roi, cond, mdf.summary())"
   ]
  },
  {
   "cell_type": "code",
   "execution_count": 19,
   "metadata": {
    "collapsed": true
   },
   "outputs": [
    {
     "name": "stdout",
     "output_type": "stream",
     "text": [
      "-> Ripples loaded\n",
      "HC od_mem 40 3\n",
      "   subjects channels      y     PW_no      PW_l      PW_h  T_ols  \\\n",
      "4      LEFC    d2-d1 -13.65  0.782734  1.058931  1.346973  6.301   \n",
      "9      FERJ    b4-b3 -13.65  0.803814  0.943560  1.024083  2.909   \n",
      "42     PIRJ  b'6-b'5 -16.20  0.642992  0.404549  0.529617 -2.339   \n",
      "\n",
      "           p_ols  sign  \n",
      "4   1.030106e-09   1.0  \n",
      "9   3.870614e-03   1.0  \n",
      "42  1.980750e-02   1.0  \n",
      "\n",
      "\n",
      "orbital od_mem 48 10\n",
      "   subjects channels      y     PW_no      PW_l      PW_h   T_ols  \\\n",
      "4      LEFC    o4-o3  37.30  0.499102  1.215216  1.333414   8.989   \n",
      "5      LEFC    o5-o4  37.85  0.394118  1.138058  1.370249   9.318   \n",
      "7      LEFC    o7-o6  38.65  0.436789  1.403803  1.515289  11.558   \n",
      "8      LEFC   o10-o9  39.85  0.699760  1.102448  1.313850   6.453   \n",
      "11     SEMC    e7-e6  19.75  0.576901  0.795720  1.242931   4.164   \n",
      "12     SEMC    e8-e7  19.75  0.600611  0.744161  1.178345   2.675   \n",
      "23     SEMC    u5-u4  43.05  0.511966  0.700663  0.902981   3.690   \n",
      "30     VACJ  e'4-e'3  22.85  0.000000  0.810158  1.160317   6.195   \n",
      "42     VACJ  o'3-o'2  37.95  0.468652  0.724094  0.750940   2.582   \n",
      "47     PIRJ    o5-o4  38.35  0.942716  0.330354  0.429746  -6.363   \n",
      "\n",
      "           p_ols  sign  \n",
      "4   2.679095e-17   1.0  \n",
      "5   2.454998e-18   1.0  \n",
      "7   7.206300e-26   1.0  \n",
      "8   4.305257e-10   1.0  \n",
      "11  4.206581e-05   1.0  \n",
      "12  7.923347e-03   1.0  \n",
      "23  2.710033e-04   1.0  \n",
      "30  1.618216e-09   1.0  \n",
      "42  1.022300e-02   1.0  \n",
      "47  5.276256e-10   1.0  \n",
      "\n",
      "\n",
      "olf od_mem 10 3\n",
      "  subjects channels      y     PW_no      PW_l      PW_h  T_ols     p_ols  \\\n",
      "5     FERJ    b2-b1 -13.80  0.823740  1.115825  1.438196  4.578  0.000007   \n",
      "8     FERJ    j2-j1   3.75  0.996807  0.629735  0.816112 -3.696  0.000256   \n",
      "9     FERJ  j'3-j'2   3.70  0.628020  0.926909  0.935587  3.383  0.000804   \n",
      "\n",
      "   sign  \n",
      "5   1.0  \n",
      "8   1.0  \n",
      "9   1.0  \n",
      "\n",
      "\n"
     ]
    }
   ],
   "source": [
    "import statsmodels.api as sm\n",
    "import statsmodels.formula.api as smf\n",
    "\n",
    "st = study('Ripples')\n",
    "PATH = join(st.path, 'database/E_odors/')\n",
    "csv_name = join(PATH, 'fg_models_theta/csv_su=all_roi={}_f=[2-4]_med_allstats.csv')\n",
    "path_figs = join(PATH, 'plot_pow_theta_diff/')\n",
    "figname1 = join(path_figs, 'Mean_pow_all_su_conds={}.png')\n",
    "figname2 = join(path_figs, 'ratio_sig_pow_all_su_conds={}.png')\n",
    "\n",
    "if not exists(path_figs):\n",
    "    makedirs(path_figs)\n",
    "\n",
    "rois = ['HC','orbital','olf']\n",
    "conds = ['od_mem']#,'od_mem']\n",
    "\n",
    "for roi in rois:\n",
    "    df = pd.read_csv(csv_name.format(roi))\n",
    "    for cond in conds:\n",
    "        if cond == 'odor':\n",
    "            cols = ['subjects','channels','y','PW_no','PW_od','T_od','p_od']\n",
    "        if cond == 'mem2gr':\n",
    "            cols = ['subjects','channels','y','PW_l','PW_h','T_lh','p_lh']\n",
    "        if cond == 'od_mem':\n",
    "            cols = ['subjects','channels','y','PW_no','PW_l','PW_h','T_ols','p_ols']\n",
    "        df_ = df[cols]\n",
    "        df_ = df_.dropna()\n",
    "        df_['sign'] = np.sign(df_.iloc[:,-3]-df_.iloc[:,-4])\n",
    "        nelecs = df_.shape[0]\n",
    "        df_sig = df_.loc[(df_.iloc[:,-2]<0.05)&(df_['sign']>0)]\n",
    "        nelecs_sig = df_sig.shape[0]\n",
    "        print(roi,cond,nelecs,nelecs_sig)\n",
    "        print(df_sig)\n",
    "        print('\\n')"
   ]
  }
 ],
 "metadata": {
  "kernelspec": {
   "display_name": "Python 3",
   "language": "python",
   "name": "python3"
  },
  "language_info": {
   "codemirror_mode": {
    "name": "ipython",
    "version": 3
   },
   "file_extension": ".py",
   "mimetype": "text/x-python",
   "name": "python",
   "nbconvert_exporter": "python",
   "pygments_lexer": "ipython3",
   "version": "3.6.1"
  }
 },
 "nbformat": 4,
 "nbformat_minor": 2
}
