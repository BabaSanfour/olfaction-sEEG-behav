{
 "cells": [
  {
   "cell_type": "markdown",
   "metadata": {},
   "source": [
    "### Compute RSA matrices by Odor btw encoding and retrieval\n",
    "TF from 0 to 2s post odor "
   ]
  },
  {
   "cell_type": "code",
   "execution_count": 13,
   "metadata": {},
   "outputs": [],
   "source": [
    "from RSA import _btw_rsa_twoconds\n",
    "import numpy as np\n",
    "from itertools import product\n",
    "from os.path import isfile, join, exists\n",
    "from brainpipe.system import study\n",
    "from joblib import Parallel, delayed"
   ]
  },
  {
   "cell_type": "code",
   "execution_count": 15,
   "metadata": {},
   "outputs": [
    {
     "name": "stdout",
     "output_type": "stream",
     "text": [
      "-> Olfacto loaded\n"
     ]
    }
   ],
   "source": [
    "\"\"\"\n",
    "Compute RSA matrices btw Encoding and Retrieval by Odor and ROI\n",
    "Possibility to average RSA matrix across trials OR not\n",
    "IMPORTANT for statistics to have all trials\n",
    "\"\"\"\n",
    "\n",
    "st = study('Olfacto')\n",
    "path_TF = join(st.path,'feature/1_TF_{}_single_trial_rsa_by_odor/')\n",
    "save_path = join(st.path,'feature/1_RSA_E_R_by_odor/')\n",
    "dataname = '{}_odor_{}_{}_theta_TF.npz'\n",
    "\n",
    "rois_to_select = ['IFG','OFC','HC']\n",
    "su_odor_groups = {\n",
    "    'VACJ' : {'low':['11','14','12','10'],\n",
    "              'high':['15','17','16','13']},\n",
    "    'SEMC' : {'low':['7','10','11','12','13'],\n",
    "              'high':['5','8','9']},\n",
    "    'PIRJ' : {'low':['1','9','5'],\n",
    "              'high':['4','6','7','18']},\n",
    "    'LEFC' : {'low':['15','2','1','16'],\n",
    "              'high':['14','3','4','17']},\n",
    "    'FERJ' : {'low':['7','2','16','17'],\n",
    "              'high':['12','1','5','13']},}\n",
    "\n",
    "def rsa_E_R_iEEG(su,cond,od,roi,average):\n",
    "    savename = save_path+su+'_'+cond+'_odor_'+od+'_'+roi+'_E_R_rsa_theta_avg={}.npz'.format(average)\n",
    "    if not exists(savename):\n",
    "        print('processing rsa for ', su, cond, od, roi)\n",
    "        #load data from E and R (nfreqs nelecs nsamples ntrials)\n",
    "        matE = np.load(path_TF.format('E')+dataname.format(su,od,roi))\n",
    "        channelsE, xyzE, dataE = matE['channels'], matE['xyz_sel'], matE['TF']\n",
    "        #print('TF E ',dataE.shape)\n",
    "        matR = np.load(path_TF.format('R')+dataname.format(su,od,roi))\n",
    "        channelsR, xyzR, dataR = matR['channels'], matR['xyz_sel'], matR['TF']\n",
    "        #print('TF R ',dataR.shape)\n",
    "\n",
    "        #SELECT ONLY CORRESPONDING ELECTRODES\n",
    "        high_l = channelsE if len(channelsE) >= len(channelsR) else channelsR\n",
    "        low_l = channelsE if len(channelsE) < len(channelsR) else channelsR\n",
    "        ids = [i for i in high_l if i in low_l]\n",
    "        nelecs, nsamples = len(ids), dataE.shape[2]\n",
    "\n",
    "        #PREPARE COMMON DATA FOR RSA \n",
    "        ID_E = [i for i, el in enumerate(channelsE) if el in ids]\n",
    "        ID_R = [i for i, el in enumerate(channelsR) if el in ids]\n",
    "        channelsE_, xyzE_, dataE_ = channelsE[ID_E], xyzE[ID_E], dataE[:,ID_E]\n",
    "        channelsR_, xyzR_, dataR_ = channelsR[ID_R], xyzR[ID_R], dataR[:,ID_R]\n",
    "        print(dataE_.shape, dataR_.shape)\n",
    "        \n",
    "        #COMPUTE AND SAVE RSA\n",
    "        if average == True:\n",
    "            rsa_mat = np.zeros((nelecs,nsamples,nsamples))\n",
    "        elif average == False:\n",
    "            ncomb = dataE_.shape[-1]*dataR_.shape[-1]\n",
    "            rsa_mat = np.zeros((nelecs,ncomb,nsamples,nsamples))\n",
    "        for elec in range(nelecs):\n",
    "            rsa_mat[elec] += _btw_rsa_twoconds(dataE_[:,elec],dataR_[:,elec],\n",
    "                                    stat='pearson',average=average)\n",
    "\n",
    "        kwargs = {}\n",
    "        kwargs['channels'], kwargs['xyz'] = channelsE_, xyzE_\n",
    "        kwargs['rsa'] = rsa_mat\n",
    "        np.savez(savename,**kwargs)\n",
    "        print('E data', dataE.shape, 'R data',dataR.shape)\n",
    "        print('check rsa', rsa_mat.shape)\n",
    "    else :\n",
    "        print('RSA already computed --> ',savename)\n",
    "\n",
    "average = False #average rsa matrix across trials\n",
    "for su in su_odor_groups:\n",
    "    for cond in su_odor_groups[su]:\n",
    "        for od in su_odor_groups[su][cond]:\n",
    "            Parallel(n_jobs=3)(delayed(\n",
    "                    rsa_E_R_iEEG)(su,cond,od,roi,average) for roi in rois_to_select)"
   ]
  }
 ],
 "metadata": {
  "kernelspec": {
   "display_name": "Python 3",
   "language": "python",
   "name": "python3"
  },
  "language_info": {
   "codemirror_mode": {
    "name": "ipython",
    "version": 3
   },
   "file_extension": ".py",
   "mimetype": "text/x-python",
   "name": "python",
   "nbconvert_exporter": "python",
   "pygments_lexer": "ipython3",
   "version": "3.6.1"
  }
 },
 "nbformat": 4,
 "nbformat_minor": 2
}
