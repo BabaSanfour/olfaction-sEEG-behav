{
 "cells": [
  {
   "cell_type": "code",
   "execution_count": 87,
   "metadata": {},
   "outputs": [],
   "source": [
    "from neurora.rdm_cal import ecogRDM, eegRDM\n",
    "from neurora.rdm_plot import plot_rdm_1, plot_rdm_2\n",
    "from brainpipe.system import study\n",
    "import os.path as op\n",
    "import numpy as np"
   ]
  },
  {
   "cell_type": "code",
   "execution_count": 89,
   "metadata": {},
   "outputs": [
    {
     "name": "stdout",
     "output_type": "stream",
     "text": [
      "-> Olfacto loaded\n",
      "(74, 3584, 3)\n",
      "(1, 3, 2, 1075)\n",
      "(1, 1)\n",
      "(74, 3584, 3)\n",
      "(1, 3, 2, 1075)\n",
      "(1, 1)\n",
      "(74, 3584, 2)\n",
      "(1, 2, 2, 1075)\n",
      "(1, 1)\n",
      "(74, 3584, 4)\n",
      "(1, 4, 2, 1075)\n",
      "(1, 1)\n"
     ]
    }
   ],
   "source": [
    "st = study('Olfacto')\n",
    "# PATH_POW = op.join(st.path, 'feature/0_Power_Encoding_By_Odor/')\n",
    "PATH_POW = op.join(st.path, 'database/Encoding_By_Odor/')\n",
    "\n",
    "su = 'VACJ'\n",
    "odors = ['10','11','12','13']\n",
    "channels = [\"b3-b2\", \"b'2-b'1\"]\n",
    "\n",
    "for od in odors:\n",
    "    mat = np.load(PATH_POW+'{}_odor_{}_bipo_sel_physFT.npz'.format(su,od))\n",
    "    data, sf = mat['x'], mat['sf'] #nchan, n_times, trials\n",
    "    print(data.shape)\n",
    "    time = (np.arange(data.shape[1])/sf)-3\n",
    "    chs_ix = [i for i,x in enumerate(mat['channels']) if x in channels]\n",
    "    t_ix = [i for i,x in enumerate(time) if 0 < x <= 2.1]\n",
    "    #ncond,nchs,ntimes,ntrials\n",
    "    data_sel = data[chs_ix,t_ix[0]:t_ix[-1]+1,:][np.newaxis]\n",
    "    #RDM based on iEEG data print(data_sel.shape)\n",
    "    #n_cond, n_trials, n_chans, times.\n",
    "    data_sel = data_sel.swapaxes(1,-1).swapaxes(-2,-1)\n",
    "    print(data_sel.shape)\n",
    "    #opt calculate the RDM for each channel or for each time-point or not\n",
    "    RDM = ecogRDM(data_sel,len(channels),opt='channels') # “channels” or “time” or “all”.\n",
    "    print(RDM.shape)\n"
   ]
  }
 ],
 "metadata": {
  "kernelspec": {
   "display_name": "Python 3",
   "language": "python",
   "name": "python3"
  },
  "language_info": {
   "codemirror_mode": {
    "name": "ipython",
    "version": 3
   },
   "file_extension": ".py",
   "mimetype": "text/x-python",
   "name": "python",
   "nbconvert_exporter": "python",
   "pygments_lexer": "ipython3",
   "version": "3.6.1"
  }
 },
 "nbformat": 4,
 "nbformat_minor": 2
}
