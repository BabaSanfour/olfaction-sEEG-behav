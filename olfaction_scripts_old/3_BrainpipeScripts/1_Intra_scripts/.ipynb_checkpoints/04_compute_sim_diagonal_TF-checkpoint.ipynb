{
 "cells": [
  {
   "cell_type": "code",
   "execution_count": 1,
   "metadata": {},
   "outputs": [],
   "source": [
    "from RSA_diagonal import within_rsa, btw_rsa\n",
    "import numpy as np\n",
    "from itertools import product, combinations\n",
    "from os.path import isfile, join, exists\n",
    "from os import makedirs\n",
    "from brainpipe.system import study\n",
    "from joblib import Parallel, delayed"
   ]
  },
  {
   "cell_type": "code",
   "execution_count": 11,
   "metadata": {
    "scrolled": true
   },
   "outputs": [
    {
     "name": "stdout",
     "output_type": "stream",
     "text": [
      "-> Olfacto loaded\n"
     ]
    },
    {
     "data": {
      "text/plain": [
       "[None,\n",
       " None,\n",
       " None,\n",
       " None,\n",
       " None,\n",
       " None,\n",
       " None,\n",
       " None,\n",
       " None,\n",
       " None,\n",
       " None,\n",
       " None,\n",
       " None,\n",
       " None,\n",
       " None,\n",
       " None,\n",
       " None,\n",
       " None,\n",
       " None,\n",
       " None,\n",
       " None,\n",
       " None,\n",
       " None,\n",
       " None]"
      ]
     },
     "execution_count": 11,
     "metadata": {},
     "output_type": "execute_result"
    }
   ],
   "source": [
    "\"\"\"\n",
    "Compute RSA at Encoding OR Retrieval BY CONDITION\n",
    "Possibility to average RSA matrix across trials OR not\n",
    "IMPORTANT for statistics to have all trials\n",
    "(44 freqs x 61 points)\n",
    "\"\"\"\n",
    "\n",
    "st = study('Olfacto')\n",
    "path_TF = join(st.path,'feature/1_TF_{}_ST_by_cond/')\n",
    "TF_name = join(path_TF, 'TF_ST_{}_{}_2-120.npz')\n",
    "save_path = join(st.path,'feature/1_RSA_diag_{}_by_cond/')\n",
    "savename = join(save_path, 'rsa_diag_{}_cond_{}.npz')\n",
    "\n",
    "subjects = ['LEFC','CHAF','VACJ','SEMC','FERJ','PIRJ']\n",
    "conds =['high','low']\n",
    "phases = ['E','R']\n",
    "\n",
    "def rsa_diag_wth(su,cond,phase):\n",
    "    \n",
    "    print('processing rsa for ', su, cond, phase)\n",
    "    if not exists(save_path.format(phase)):\n",
    "        makedirs(save_path.format(phase))\n",
    "        \n",
    "    #load TF data (nfreqs nelecs nsamples ntrials)\n",
    "    mat = np.load(TF_name.format(phase,su,cond), allow_pickle=True)\n",
    "    channels, xyz, TF = mat['channels'], mat['xyz'], mat['TF'][:,:2,:,:4]\n",
    "    labels, time = mat['time'], mat['labels']\n",
    "    print('TF shape', TF.shape)\n",
    "    nfreqs, nelecs, nsamples, ntrials = TF.shape\n",
    "    labels, time = mat['labels'], mat['time']\n",
    "    \n",
    "    #Compute and save diag rsa arrays\n",
    "    ncomb = len([c for c in combinations(np.arange(ntrials), 2)])\n",
    "    rsa_mat = np.zeros((nelecs,ncomb,nsamples))\n",
    "    print('allocation',rsa_mat.shape)\n",
    "    \n",
    "    for elec in range(nelecs):\n",
    "        rsa_mat[elec] += within_rsa(TF[:,elec,:,:],stat='pearson')\n",
    "        rsa_elec = within_rsa(TF[:,elec,:,:],stat='pearson')\n",
    "        print(rsa_elec.shape, rsa_elec[:2,:])\n",
    "        0/0\n",
    "\n",
    "    kwargs = {}\n",
    "    kwargs['channels'], kwargs['xyz'] = channels, xyz\n",
    "    kwargs['time'], kwargs['labels'] = time, labels\n",
    "    kwargs['rsa'] = rsa_mat\n",
    "    #np.savez(savename.format(phase,su,cond),**kwargs)\n",
    "    0/0\n",
    "    print('check rsa', rsa_mat.shape)\n",
    "\n",
    "#for su,cond,ph in product(subjects,conds,phases):\n",
    "#    rsa_diag_wth(su,cond,ph)\n",
    "Parallel(n_jobs=-1)(delayed(\n",
    "       rsa_diag_wth)(su,cond,phase) for su,cond,phase in product(subjects,conds,phases))"
   ]
  },
  {
   "cell_type": "code",
   "execution_count": null,
   "metadata": {},
   "outputs": [],
   "source": [
    "from RSA_diagonal import within_rsa, btw_rsa\n",
    "import numpy as np\n",
    "from itertools import product, combinations\n",
    "from os.path import isfile, join, exists\n",
    "from os import makedirs\n",
    "from brainpipe.system import study\n",
    "from joblib import Parallel, delayed"
   ]
  },
  {
   "cell_type": "code",
   "execution_count": null,
   "metadata": {},
   "outputs": [],
   "source": [
    "\"\"\"\n",
    "Compute RSA between Encoding and Retreval BY CONDITION\n",
    "Possibility to average RSA matrix across trials OR not\n",
    "IMPORTANT for statistics to have all trials\n",
    "(44 freqs x 61 points)\n",
    "\"\"\"\n",
    "\n",
    "st = study('Olfacto')\n",
    "path_TF = join(st.path,'feature/1_TF_{}_ST_by_cond/')\n",
    "TF_name = join(path_TF, 'TF_ST_{}_{}_2-120.npz')\n",
    "save_path = join(st.path,'feature/1_RSA_diag_{}_by_cond/')\n",
    "savename = join(save_path, 'rsa_diag_{}_cond_{}.npz')\n",
    "\n",
    "subjects = ['LEFC','CHAF','VACJ','SEMC','FERJ','PIRJ']\n",
    "conds = ['low','high']\n",
    "phases = ['E_R']\n",
    "\n",
    "def rsa_diag_btw(su,phase,cond):\n",
    "    \n",
    "    print('processing rsa for ', su, phase,cond)\n",
    "    if not exists(save_path.format(phase)):\n",
    "        makedirs(save_path.format(phase))\n",
    "        \n",
    "    #load TF data (nfreqs nelecs nsamples ntrials)\n",
    "    mat = np.load(TF_name.format(phase[0],su,cond), allow_pickle=True)\n",
    "    channels, xyz, TF = mat['channels'], mat['xyz'], mat['TF']\n",
    "    labels, time = mat['time'], mat['labels']\n",
    "    print('TF shape', TF.shape)\n",
    "    nfreqs, nelecs, nsamples, ntrials = TF.shape\n",
    "    labels, time = mat['labels'], mat['time']\n",
    "    \n",
    "    TF_2 = np.load(TF_name.format(phase[-1],su,cond))['TF']\n",
    "    nb0, nb1 = range(ntrials), range(TF_2.shape[-1])\n",
    "    \n",
    "    #Compute and save diag rsa arrays\n",
    "    ncomb = len([c for c in product(nb0, nb1)])\n",
    "    rsa_mat = np.zeros((nelecs,ncomb,nsamples))\n",
    "    \n",
    "    for elec in range(nelecs):\n",
    "        rsa_mat[elec] += btw_rsa_twoconds(TF[:,elec,:,:],\n",
    "                                          TF_2[:,elec,:,:],stat='pearson')\n",
    "    kwargs = {}\n",
    "    kwargs['channels'], kwargs['xyz'] = channels, xyz\n",
    "    kwargs['time'], kwargs['labels'] = time, labels\n",
    "    kwargs['rsa'] = rsa_mat\n",
    "    np.savez(savename.format(phase,su,cond),**kwargs)\n",
    "    print('check rsa', rsa_mat.shape)\n",
    "\n",
    "#for su,ph,cond in product(subjects,phases,conds):\n",
    "#    rsa_diag_btw(su,ph,cond)\n",
    "Parallel(n_jobs=-1)(delayed(\n",
    "       rsa_diag_btw)(su,phase,cond) for su,phase,cond in product(subjects,phases,conds))"
   ]
  },
  {
   "cell_type": "code",
   "execution_count": null,
   "metadata": {},
   "outputs": [],
   "source": []
  }
 ],
 "metadata": {
  "kernelspec": {
   "display_name": "Python 3",
   "language": "python",
   "name": "python3"
  },
  "language_info": {
   "codemirror_mode": {
    "name": "ipython",
    "version": 3
   },
   "file_extension": ".py",
   "mimetype": "text/x-python",
   "name": "python",
   "nbconvert_exporter": "python",
   "pygments_lexer": "ipython3",
   "version": "3.6.1"
  }
 },
 "nbformat": 4,
 "nbformat_minor": 2
}
