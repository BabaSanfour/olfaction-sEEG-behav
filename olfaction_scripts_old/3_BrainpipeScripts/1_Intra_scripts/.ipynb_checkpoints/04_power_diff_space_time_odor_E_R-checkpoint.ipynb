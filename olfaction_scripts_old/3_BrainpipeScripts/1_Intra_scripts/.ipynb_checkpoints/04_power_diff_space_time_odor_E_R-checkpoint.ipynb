{
 "cells": [
  {
   "cell_type": "code",
   "execution_count": 1,
   "metadata": {},
   "outputs": [
    {
     "name": "stderr",
     "output_type": "stream",
     "text": [
      "/home/karim/anaconda3/envs/mne_coreg/lib/python3.6/site-packages/statsmodels/tools/_testing.py:19: FutureWarning: pandas.util.testing is deprecated. Use the functions in the public API at pandas.testing instead.\n",
      "  import pandas.util.testing as tm\n"
     ]
    }
   ],
   "source": [
    "from os.path import join, exists\n",
    "from os import makedirs\n",
    "import pandas as pd\n",
    "import numpy as np\n",
    "from itertools import product\n",
    "import matplotlib.pyplot as plt\n",
    "\n",
    "from brainpipe.system import study\n",
    "from scipy.stats import kendalltau, spearmanr, pearsonr, ttest_ind, zscore\n",
    "import statsmodels.api as sm\n",
    "from utils import subjects, odor_groups_3wgth, su_list_od"
   ]
  },
  {
   "cell_type": "markdown",
   "metadata": {},
   "source": [
    "### Characterize modulations of theta power at ENCODING\n",
    "Impact of time, space, context, memory and odor properties"
   ]
  },
  {
   "cell_type": "code",
   "execution_count": 2,
   "metadata": {},
   "outputs": [],
   "source": [
    "%load_ext autoreload\n",
    "%autoreload 2"
   ]
  },
  {
   "cell_type": "code",
   "execution_count": 12,
   "metadata": {},
   "outputs": [
    {
     "name": "stdout",
     "output_type": "stream",
     "text": [
      "-> Ripples loaded\n",
      "(28, 3500, 51)\n"
     ]
    },
    {
     "ename": "TypeError",
     "evalue": "compute_dist_trials_su_E() got multiple values for argument 'norm'",
     "output_type": "error",
     "traceback": [
      "\u001b[0;31m---------------------------------------------------------------------------\u001b[0m",
      "\u001b[0;31mTypeError\u001b[0m                                 Traceback (most recent call last)",
      "\u001b[0;32m<ipython-input-12-9878266874fc>\u001b[0m in \u001b[0;36m<module>\u001b[0;34m\u001b[0m\n\u001b[1;32m     27\u001b[0m     \u001b[0mdf_order\u001b[0m \u001b[0;34m=\u001b[0m \u001b[0mreorder_df\u001b[0m\u001b[0;34m(\u001b[0m\u001b[0mdf_b\u001b[0m\u001b[0;34m,\u001b[0m \u001b[0mod_order\u001b[0m\u001b[0;34m)\u001b[0m\u001b[0;34m\u001b[0m\u001b[0m\n\u001b[1;32m     28\u001b[0m     df_all_dist = compute_dist_trials_su_E(df_order, df_od_dist,\n\u001b[0;32m---> 29\u001b[0;31m                                                     su, trials_taken, cols_s, norm=True)\n\u001b[0m\u001b[1;32m     30\u001b[0m \u001b[0;34m\u001b[0m\u001b[0m\n\u001b[1;32m     31\u001b[0m     \u001b[0;31m#compute power distance\u001b[0m\u001b[0;34m\u001b[0m\u001b[0;34m\u001b[0m\u001b[0m\n",
      "\u001b[0;31mTypeError\u001b[0m: compute_dist_trials_su_E() got multiple values for argument 'norm'"
     ]
    }
   ],
   "source": [
    "from compute_odor_distances_all_pairs import compute_dist_trials_su_E, reorder_df\n",
    "st = study('Ripples')\n",
    "PATH = join(st.path, 'feature/theta_power_E_odors/')\n",
    "filename = join(PATH, '{}_odors=all_elecs=psd_freq={}_pow.npz')\n",
    "PATH_SAVE = join(PATH, 'distance_pow_features/')\n",
    "if not exists(PATH_SAVE):\n",
    "    makedirs(PATH_SAVE)\n",
    "\n",
    "PATH_b = '/media/1_Analyses_Intra_EM_Odor/1bis_OE_BaseSam/JPlailly201306_seeg_ALS/behavior/'\n",
    "df_perf = join(PATH_b,'encoding_individual_results.xls')\n",
    "df_od_dist = join(PATH_b,'distance_odors_all_pairs_meth=sum.csv')\n",
    "df_save = 'distance_dims=all_odors=all_su={}_norm={}.csv' #norm = scaling [0-1] for all features\n",
    "cols_s = ['trial_time','odor_num','encoding_day','0_insp_V','0_exp_V']\n",
    "\n",
    "freq = 'l_theta'\n",
    "subjects = subjects if freq != 'l_theta' else np.setdiff1d(subjects,['CHAF'])\n",
    "t0, t1 = 0, 2\n",
    "\n",
    "for su in subjects:\n",
    "    pow_mat = np.load(filename.format(su,freq), allow_pickle=True)\n",
    "    pow_data = pow_mat['xpow'][0][:,t_sel,:]\n",
    "    print(pow_data.shape)\n",
    "    trials_taken = pow_mat['trials_sel'] #select trials\n",
    "    od_order = np.array([int(x) for x in pow_mat['odor']])\n",
    "    \n",
    "    df_b = pd.read_excel(df_perf, sheet_name=su)[trials_taken]\n",
    "    df_order = reorder_df(df_b, od_order)\n",
    "    df_all_dist = compute_dist_trials_su_E(df_order, df_od_dist,\n",
    "                                                    su, trials_taken, cols_s, norm=True)\n",
    "    \n",
    "    #compute power distance\n",
    "    pow_dist = np.zeros(pow_data.shapedf_all_dist.shape[0])\n",
    "    \n",
    "    0/0"
   ]
  }
 ],
 "metadata": {
  "kernelspec": {
   "display_name": "Python 3",
   "language": "python",
   "name": "python3"
  },
  "language_info": {
   "codemirror_mode": {
    "name": "ipython",
    "version": 3
   },
   "file_extension": ".py",
   "mimetype": "text/x-python",
   "name": "python",
   "nbconvert_exporter": "python",
   "pygments_lexer": "ipython3",
   "version": "3.6.1"
  }
 },
 "nbformat": 4,
 "nbformat_minor": 2
}
