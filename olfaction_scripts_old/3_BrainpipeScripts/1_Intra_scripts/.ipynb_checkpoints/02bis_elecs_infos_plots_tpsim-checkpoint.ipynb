{
 "cells": [
  {
   "cell_type": "markdown",
   "metadata": {},
   "source": [
    "### Compute big mama npz files for all subjects"
   ]
  },
  {
   "cell_type": "code",
   "execution_count": 3,
   "metadata": {},
   "outputs": [
    {
     "name": "stdout",
     "output_type": "stream",
     "text": [
      "-> Olfacto loaded\n"
     ]
    }
   ],
   "source": [
    "from brainpipe.system import study\n",
    "from os.path import isfile, join\n",
    "import numpy as np\n",
    "from itertools import product\n",
    "import pandas as pd\n",
    "import matplotlib.pyplot as plt\n",
    "\n",
    "###############################################################################\n",
    "st = study('Olfacto')\n",
    "path_npz = join(st.path,'feature/TPSim_{}_By_Odor_By_Cond/TPS_by_cond/')\n",
    "tps_name = join(path_npz, 'TPS_spear_{}_cond_{}_{}.npz')\n",
    "path2save = join(st.path, 'figure/TPS_elecs_plots/')\n",
    "exp = 'Enc' #should be identical with Ret files\n",
    "freq, cond = 'theta','high' #same elecs whatever the freq or the cond\n",
    "#OFC coordinates according to neurosynth (75 studies included)\n",
    "x0,y0,z0 = 20, 30,-16\n",
    "x1,y1,z1 = -20, 32,-16\n",
    "rad = 10\n",
    "subjects = ['CHAF','VACJ','SEMC','PIRJ','LEFC','FERJ']\n",
    "###############################################################################\n",
    "\n",
    "## Create a npz file with all sources informations\n",
    "su_codes, s_xyz, s_elec = np.array([]),np.array([]), np.array([])\n",
    "su_names, s_channels,s_labels, = np.array([]),np.array([]),np.array([])\n",
    "\n",
    "for i,su in enumerate(sorted(subjects)):\n",
    "    mat = np.load(tps_name.format(exp,su,cond,freq), allow_pickle=True)\n",
    "#     print(mat.files)\n",
    "    xyz_all = mat['xyz']\n",
    "    for elec in range(xyz_all.shape[0]):\n",
    "        \n",
    "        ### INFO electrodes for all subjects\n",
    "        su_names = np.vstack((su_names,su)) if np.size(su_names) else su\n",
    "        su_codes = np.vstack((su_codes,'S'+str(i))) if np.size(su_codes) else 'S'+str(i)\n",
    "        lab = mat['label'][elec]\n",
    "        channel = mat['channel'][elec]               \n",
    "        xyz = xyz_all[elec]\n",
    "        \n",
    "        ### REMOVE pHC and non-olf OFC electrodes\n",
    "        x,y,z = xyz[0], xyz[1], xyz[2]\n",
    "        id_R = 1 if all([x0-rad<=x<=x0+rad, y0-rad<=y<=y0+rad,\n",
    "                z0-rad<=z<=z0+rad]) else 0\n",
    "        id_L = 1 if all([x1-rad<=x<=x1+rad, y1-rad<=y<=y1+rad,\n",
    "                z1-rad<=z<=z1+rad]) else 0\n",
    "        idx = id_R + id_L\n",
    "        lab = 'OFC_olf' if idx == 1 else lab\n",
    "        lab = 'aHC' if lab == 'HC' and y > -26 else lab\n",
    "        \n",
    "        s_xyz = np.vstack((s_xyz, xyz)) if np.size(s_xyz) else xyz\n",
    "        s_labels = np.vstack((s_labels, lab)) if np.size(s_labels) else lab\n",
    "        s_channels = np.vstack((s_channels, channel)) if np.size(s_channels) else channel\n",
    "        s_elec = np.vstack((s_elec,str(elec))) if np.size(s_elec) else str(elec)\n",
    "        \n",
    "su_names = np.squeeze(su_names)\n",
    "su_codes = np.squeeze(su_codes)\n",
    "s_labels = np.squeeze(s_labels)\n",
    "s_channels = np.squeeze(s_channels)\n",
    "s_elec = np.squeeze(s_elec)\n",
    "\n",
    "su_coord_label = {'su_codes':su_codes,'su_names':su_names,'s_xyz':s_xyz,\n",
    "                  's_labels':s_labels,'s_channels':s_channels,'s_elec':s_elec}\n",
    "\n",
    "file_source = 'All_subjects_sources_TPS_elecs.npz'\n",
    "np.savez(path2save+file_source,**su_coord_label)"
   ]
  },
  {
   "cell_type": "markdown",
   "metadata": {},
   "source": [
    "### Plot the electrodes distribution"
   ]
  },
  {
   "cell_type": "code",
   "execution_count": 4,
   "metadata": {},
   "outputs": [
    {
     "name": "stdout",
     "output_type": "stream",
     "text": [
      "-> Olfacto loaded\n",
      "(244, 1) (244, 1) (244, 1) (244, 1) (244, 1)\n",
      "(244, 1)\n"
     ]
    }
   ],
   "source": [
    "\"\"\"\n",
    "Plot electrodes distribution by patients: for 6 patients including only electrodes\n",
    "present both at encoding and retrieval\n",
    "\"\"\"\n",
    "from brainpipe.system import study\n",
    "from os.path import isfile, join\n",
    "import numpy as np\n",
    "from itertools import product\n",
    "import pandas as pd\n",
    "import matplotlib.pyplot as plt\n",
    "\n",
    "###############################################################################\n",
    "st = study('Olfacto')\n",
    "pathname = join(st.path,'figure/TPS_elecs_plots/')\n",
    "filename = join(pathname, 'All_subjects_sources_TPS_elecs.npz')\n",
    "rois_to_keep = ['ACC','Amg','Amg-PirT','aHC','HC','IFG','Ins','MFG','OFC_olf','PHG',\n",
    "                'SFG','pPirT',]\n",
    "###############################################################################\n",
    "\n",
    "#Create the df summarizing all elecs infos\n",
    "mat = np.load(filename,allow_pickle=True)\n",
    "id_rois = np.where([roi in rois_to_keep for roi in mat['s_labels']])\n",
    "\n",
    "subjects,su_codes, s_labels = mat['su_names'][id_rois][:,np.newaxis],\\\n",
    "        mat['su_codes'][id_rois][:,np.newaxis], mat['s_labels'][id_rois][:,np.newaxis]\n",
    "s_elec, s_channels = mat['s_elec'][id_rois][:,np.newaxis], \\\n",
    "        mat['s_channels'][id_rois][:,np.newaxis]\n",
    "print(subjects.shape, su_codes.shape,s_elec.shape, s_channels.shape, s_labels.shape)\n",
    "s_xyz = mat['s_xyz'][id_rois].swapaxes(0,1)\n",
    "s_x, s_y, s_z = s_xyz[0][:,np.newaxis], s_xyz[1][:,np.newaxis],s_xyz[2][:,np.newaxis]\n",
    "print(s_x.shape)\n",
    "\n",
    "elec_data = np.concatenate((subjects,su_codes, s_elec, s_channels,s_labels, \\\n",
    "                            s_x, s_y,s_z),axis=1)\n",
    "df0 = pd.DataFrame(elec_data, columns=['subjects','su_codes','elecs','channels',\n",
    "                'labels','x','y','z'])\n",
    "# Add information about the lobe of elecs\n",
    "dict_regions ={ 'ACC':'Frontal','IFG':'Frontal','MFG':'Frontal','SFG':'Frontal',\n",
    "                'Amg':'Olf','pPirT':'Olf','Amg-PirT':'Olf','Ins':'Olf','OFC_olf':'Olf',\n",
    "                'aHC':'MTL','PHG':'MTL','HC':'MTL'}\n",
    "df0['region'] = df0['labels'].map(dict_regions)\n",
    "\n",
    "dfname = '0_all_subjects_info_elecs.csv'\n",
    "df0.to_csv(pathname+dfname)"
   ]
  },
  {
   "cell_type": "code",
   "execution_count": 5,
   "metadata": {
    "scrolled": true
   },
   "outputs": [
    {
     "name": "stdout",
     "output_type": "stream",
     "text": [
      "          elecs\n",
      "su_codes       \n",
      "S0           57\n",
      "S1           39\n",
      "S2           34\n",
      "S3           27\n",
      "S4           51\n",
      "S5           36 sel su_codes\n",
      "S0    57\n",
      "S1    39\n",
      "S2    34\n",
      "S3    27\n",
      "S4    51\n",
      "S5    36\n",
      "Name: elecs, dtype: int64\n"
     ]
    },
    {
     "data": {
      "image/png": "[encoded data removed]",
      "text/plain": [
       "<Figure size 432x288 with 1 Axes>"
      ]
     },
     "metadata": {
      "needs_background": "light"
     },
     "output_type": "display_data"
    }
   ],
   "source": [
    "### PLOTS BY ROIs AND SUBJECTS\n",
    "colors = {'S0':'darkblue', 'S1':'royalblue', 'S2':'deepskyblue', 'S3':'yellow',\n",
    "          'S4':'darkorange', 'S5':'red'}\n",
    "\n",
    "## total nb of electrodes by patient\n",
    "elecs_su = df0[['su_codes','elecs']].groupby(['su_codes']).count()\n",
    "print(elecs_su,'sel',elecs_su['elecs'])\n",
    "fig = plt.figure()\n",
    "plt.bar(range(len(elecs_su)), elecs_su['elecs'],\n",
    "        color=[colors[i] for i,row in elecs_su.iterrows()])\n",
    "plt.title('Total number of electrodes by subjects')\n",
    "plt.ylabel('Nb of electrodes')\n",
    "plt.xlabel('Subjects')\n",
    "xticks_pos = np.arange(len(elecs_su))\n",
    "plt.xticks(xticks_pos,list(elecs_su['elecs'].index.values))\n",
    "plt.ylim(bottom=0, top=65)\n",
    "plt.savefig(pathname+'Total_elec_by_patient.png')"
   ]
  },
  {
   "cell_type": "code",
   "execution_count": 10,
   "metadata": {
    "scrolled": true
   },
   "outputs": [
    {
     "ename": "KeyError",
     "evalue": "'label'",
     "output_type": "error",
     "traceback": [
      "\u001b[0;31m---------------------------------------------------------------------------\u001b[0m",
      "\u001b[0;31mKeyError\u001b[0m                                  Traceback (most recent call last)",
      "\u001b[0;32m<ipython-input-10-e9cf909893bf>\u001b[0m in \u001b[0;36m<module>\u001b[0;34m()\u001b[0m\n\u001b[1;32m      1\u001b[0m \u001b[0mmethod\u001b[0m \u001b[0;34m=\u001b[0m \u001b[0;34m'label'\u001b[0m \u001b[0;31m#region\u001b[0m\u001b[0;34m\u001b[0m\u001b[0m\n\u001b[0;32m----> 2\u001b[0;31m \u001b[0melecs_su_roi\u001b[0m \u001b[0;34m=\u001b[0m \u001b[0mdf0\u001b[0m\u001b[0;34m.\u001b[0m\u001b[0mgroupby\u001b[0m\u001b[0;34m(\u001b[0m\u001b[0;34m[\u001b[0m\u001b[0;34m'su_codes'\u001b[0m\u001b[0;34m,\u001b[0m\u001b[0mmethod\u001b[0m\u001b[0;34m]\u001b[0m\u001b[0;34m)\u001b[0m\u001b[0;34m.\u001b[0m\u001b[0mcount\u001b[0m\u001b[0;34m(\u001b[0m\u001b[0;34m)\u001b[0m\u001b[0;34m[\u001b[0m\u001b[0;34m'elecs'\u001b[0m\u001b[0;34m]\u001b[0m\u001b[0;34m.\u001b[0m\u001b[0munstack\u001b[0m\u001b[0;34m(\u001b[0m\u001b[0;34m)\u001b[0m\u001b[0;34m\u001b[0m\u001b[0m\n\u001b[0m\u001b[1;32m      3\u001b[0m \u001b[0melecs_su_roi\u001b[0m \u001b[0;34m=\u001b[0m \u001b[0melecs_su_roi\u001b[0m\u001b[0;34m.\u001b[0m\u001b[0mfillna\u001b[0m\u001b[0;34m(\u001b[0m\u001b[0;36m0\u001b[0m\u001b[0;34m)\u001b[0m\u001b[0;34m\u001b[0m\u001b[0m\n\u001b[1;32m      4\u001b[0m \u001b[0;34m\u001b[0m\u001b[0m\n\u001b[1;32m      5\u001b[0m \u001b[0;31m#Plot nb of electrodes for each subjects\u001b[0m\u001b[0;34m\u001b[0m\u001b[0;34m\u001b[0m\u001b[0m\n",
      "\u001b[0;32m~/anaconda3/envs/mne_coreg/lib/python3.6/site-packages/pandas/core/generic.py\u001b[0m in \u001b[0;36mgroupby\u001b[0;34m(self, by, axis, level, as_index, sort, group_keys, squeeze, observed, **kwargs)\u001b[0m\n\u001b[1;32m   7892\u001b[0m             \u001b[0msqueeze\u001b[0m\u001b[0;34m=\u001b[0m\u001b[0msqueeze\u001b[0m\u001b[0;34m,\u001b[0m\u001b[0;34m\u001b[0m\u001b[0m\n\u001b[1;32m   7893\u001b[0m             \u001b[0mobserved\u001b[0m\u001b[0;34m=\u001b[0m\u001b[0mobserved\u001b[0m\u001b[0;34m,\u001b[0m\u001b[0;34m\u001b[0m\u001b[0m\n\u001b[0;32m-> 7894\u001b[0;31m             \u001b[0;34m**\u001b[0m\u001b[0mkwargs\u001b[0m\u001b[0;34m\u001b[0m\u001b[0m\n\u001b[0m\u001b[1;32m   7895\u001b[0m         )\n\u001b[1;32m   7896\u001b[0m \u001b[0;34m\u001b[0m\u001b[0m\n",
      "\u001b[0;32m~/anaconda3/envs/mne_coreg/lib/python3.6/site-packages/pandas/core/groupby/groupby.py\u001b[0m in \u001b[0;36mgroupby\u001b[0;34m(obj, by, **kwds)\u001b[0m\n\u001b[1;32m   2520\u001b[0m         \u001b[0;32mraise\u001b[0m \u001b[0mTypeError\u001b[0m\u001b[0;34m(\u001b[0m\u001b[0;34m\"invalid type: {}\"\u001b[0m\u001b[0;34m.\u001b[0m\u001b[0mformat\u001b[0m\u001b[0;34m(\u001b[0m\u001b[0mobj\u001b[0m\u001b[0;34m)\u001b[0m\u001b[0;34m)\u001b[0m\u001b[0;34m\u001b[0m\u001b[0m\n\u001b[1;32m   2521\u001b[0m \u001b[0;34m\u001b[0m\u001b[0m\n\u001b[0;32m-> 2522\u001b[0;31m     \u001b[0;32mreturn\u001b[0m \u001b[0mklass\u001b[0m\u001b[0;34m(\u001b[0m\u001b[0mobj\u001b[0m\u001b[0;34m,\u001b[0m \u001b[0mby\u001b[0m\u001b[0;34m,\u001b[0m \u001b[0;34m**\u001b[0m\u001b[0mkwds\u001b[0m\u001b[0;34m)\u001b[0m\u001b[0;34m\u001b[0m\u001b[0m\n\u001b[0m",
      "\u001b[0;32m~/anaconda3/envs/mne_coreg/lib/python3.6/site-packages/pandas/core/groupby/groupby.py\u001b[0m in \u001b[0;36m__init__\u001b[0;34m(self, obj, keys, axis, level, grouper, exclusions, selection, as_index, sort, group_keys, squeeze, observed, **kwargs)\u001b[0m\n\u001b[1;32m    389\u001b[0m                 \u001b[0msort\u001b[0m\u001b[0;34m=\u001b[0m\u001b[0msort\u001b[0m\u001b[0;34m,\u001b[0m\u001b[0;34m\u001b[0m\u001b[0m\n\u001b[1;32m    390\u001b[0m                 \u001b[0mobserved\u001b[0m\u001b[0;34m=\u001b[0m\u001b[0mobserved\u001b[0m\u001b[0;34m,\u001b[0m\u001b[0;34m\u001b[0m\u001b[0m\n\u001b[0;32m--> 391\u001b[0;31m                 \u001b[0mmutated\u001b[0m\u001b[0;34m=\u001b[0m\u001b[0mself\u001b[0m\u001b[0;34m.\u001b[0m\u001b[0mmutated\u001b[0m\u001b[0;34m,\u001b[0m\u001b[0;34m\u001b[0m\u001b[0m\n\u001b[0m\u001b[1;32m    392\u001b[0m             )\n\u001b[1;32m    393\u001b[0m \u001b[0;34m\u001b[0m\u001b[0m\n",
      "\u001b[0;32m~/anaconda3/envs/mne_coreg/lib/python3.6/site-packages/pandas/core/groupby/grouper.py\u001b[0m in \u001b[0;36m_get_grouper\u001b[0;34m(obj, key, axis, level, sort, observed, mutated, validate)\u001b[0m\n\u001b[1;32m    619\u001b[0m                 \u001b[0min_axis\u001b[0m\u001b[0;34m,\u001b[0m \u001b[0mname\u001b[0m\u001b[0;34m,\u001b[0m \u001b[0mlevel\u001b[0m\u001b[0;34m,\u001b[0m \u001b[0mgpr\u001b[0m \u001b[0;34m=\u001b[0m \u001b[0;32mFalse\u001b[0m\u001b[0;34m,\u001b[0m \u001b[0;32mNone\u001b[0m\u001b[0;34m,\u001b[0m \u001b[0mgpr\u001b[0m\u001b[0;34m,\u001b[0m \u001b[0;32mNone\u001b[0m\u001b[0;34m\u001b[0m\u001b[0m\n\u001b[1;32m    620\u001b[0m             \u001b[0;32melse\u001b[0m\u001b[0;34m:\u001b[0m\u001b[0;34m\u001b[0m\u001b[0m\n\u001b[0;32m--> 621\u001b[0;31m                 \u001b[0;32mraise\u001b[0m \u001b[0mKeyError\u001b[0m\u001b[0;34m(\u001b[0m\u001b[0mgpr\u001b[0m\u001b[0;34m)\u001b[0m\u001b[0;34m\u001b[0m\u001b[0m\n\u001b[0m\u001b[1;32m    622\u001b[0m         \u001b[0;32melif\u001b[0m \u001b[0misinstance\u001b[0m\u001b[0;34m(\u001b[0m\u001b[0mgpr\u001b[0m\u001b[0;34m,\u001b[0m \u001b[0mGrouper\u001b[0m\u001b[0;34m)\u001b[0m \u001b[0;32mand\u001b[0m \u001b[0mgpr\u001b[0m\u001b[0;34m.\u001b[0m\u001b[0mkey\u001b[0m \u001b[0;32mis\u001b[0m \u001b[0;32mnot\u001b[0m \u001b[0;32mNone\u001b[0m\u001b[0;34m:\u001b[0m\u001b[0;34m\u001b[0m\u001b[0m\n\u001b[1;32m    623\u001b[0m             \u001b[0;31m# Add key to exclusions\u001b[0m\u001b[0;34m\u001b[0m\u001b[0;34m\u001b[0m\u001b[0m\n",
      "\u001b[0;31mKeyError\u001b[0m: 'label'"
     ]
    }
   ],
   "source": [
    "method = 'label' #region\n",
    "elecs_su_roi = df0.groupby(['su_codes',method]).count()['elecs'].unstack()\n",
    "elecs_su_roi = elecs_su_roi.fillna(0)\n",
    "\n",
    "#Plot nb of electrodes for each subjects\n",
    "colors = {'S0':'darkblue', 'S1':'royalblue', 'S2':'deepskyblue', 'S3':'yellow',\n",
    "          'S4':'darkorange', 'S5':'red'}\n",
    "fig = plt.figure(figsize=(7,7))\n",
    "bottom = np.zeros(len(elecs_su_roi.columns))\n",
    "for s in enumerate(elecs_su_roi.index):\n",
    "    count = elecs_su_roi.iloc[elecs_su_roi.index.get_level_values('su_codes') == s[1]].values[0]\n",
    "    xpts = range(len(count))\n",
    "    print(s,count)\n",
    "    plt.bar(xpts, count, bottom=bottom, color=colors[s[1]], label=s[1])\n",
    "    bottom += count\n",
    "\n",
    "plt.title('Nb of electrodes by ROI and Subject')\n",
    "plt.ylabel('Nb of electrodes')\n",
    "plt.xticks(xpts,list(elecs_su_roi.columns.values),rotation=90)\n",
    "plt.tight_layout()\n",
    "plt.ylim(bottom=0, top=150)\n",
    "plt.legend(loc='best')\n",
    "plt.savefig(pathname+'Total_elec_by_patient_by_roi_'+method+'.png')\n",
    "plt.savefig(pathname+'Total_elec_by_patient_by_roi_'+method+'.pdf')"
   ]
  }
 ],
 "metadata": {
  "anaconda-cloud": {},
  "kernelspec": {
   "display_name": "Python 3",
   "language": "python",
   "name": "python3"
  },
  "language_info": {
   "codemirror_mode": {
    "name": "ipython",
    "version": 3
   },
   "file_extension": ".py",
   "mimetype": "text/x-python",
   "name": "python",
   "nbconvert_exporter": "python",
   "pygments_lexer": "ipython3",
   "version": "3.6.1"
  }
 },
 "nbformat": 4,
 "nbformat_minor": 2
}
