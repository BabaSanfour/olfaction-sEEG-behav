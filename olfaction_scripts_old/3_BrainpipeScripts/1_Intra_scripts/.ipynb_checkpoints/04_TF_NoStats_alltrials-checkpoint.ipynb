{
 "cells": [
  {
   "cell_type": "markdown",
   "metadata": {},
   "source": [
    "## Import libraries"
   ]
  },
  {
   "cell_type": "code",
   "execution_count": 2,
   "metadata": {
    "collapsed": true
   },
   "outputs": [],
   "source": [
    "import numpy as np\n",
    "import matplotlib.pyplot as plt\n",
    "from os import path\n",
    "#%matplotlib notebook\n",
    "\n",
    "from brainpipe.system import study\n",
    "from brainpipe.feature import TF\n",
    "from brainpipe.visual import *\n",
    "from brainpipe.statistics import *"
   ]
  },
  {
   "cell_type": "code",
   "execution_count": 3,
   "metadata": {
    "collapsed": false
   },
   "outputs": [],
   "source": [
    "sf = 512\n",
    "lines = [0]\n",
    "f = (1,120,4,2)  # Frequency vector: (from, to, width, step) 1 to 120 Hz 4 2 #0.1, 13, 0.5, 0.1\n",
    "baseline = [1408,1536] # Time in seconds (rest 700ms au milieu des 1s extraite) Odor (1408,1536) Rest 640,768\n",
    "width, step = 50, 10 #Time vector\n",
    "window_to_plot = [-250, 2000] # In seconds\n",
    "exp = 'E'"
   ]
  },
  {
   "cell_type": "markdown",
   "metadata": {},
   "source": [
    "### Compute TF on unbalanced data for all selected electrodes\n",
    "#### No baseline correction - over 5.5s after odor is sent"
   ]
  },
  {
   "cell_type": "code",
   "execution_count": null,
   "metadata": {
    "collapsed": false,
    "scrolled": false
   },
   "outputs": [],
   "source": [
    "st = study('Olfacto')\n",
    "path_data = path.join (st.path, 'database/Encoding_No_Odor/')\n",
    "path_respi = '/media/karim/Datas4To/1_Analyses_Intra_EM_Odor/1bis_OE_BaseSam/JPlailly201306_seeg_ALS/behavior/respiration_amplitude/'\n",
    "path2save = path.join (st.path, 'feature/0_Power_Retrieval_Rest_LowHigh/TF/all_trials/')\n",
    "conds = ['low', 'high']\n",
    "subjects = ['LEFC','CHAF','VACJ','SEMC','FERJ','PIRJ','MICP'] #LEFC','CHAF','VACJ','SEMC','FERJ','MICP','PIRJ\n",
    "\n",
    "for su in subjects:\n",
    "    data0 = np.load(path.join(path_data, su+'_odor_'+conds[0]+'_bipo_sel_physFT.npz'))['x']\n",
    "    data1 = np.load(path.join (path_data, su+'_odor_'+conds[1]+'_bipo_sel_physFT.npz'))['x']\n",
    "    names = np.load(path.join(path_data, su+'_odor_'+conds[0]+'_bipo_sel_physFT.npz'))['Mai_RL']\n",
    "    channels = np.load(path.join(path_data, su+'_odor_'+conds[0]+'_bipo_sel_physFT.npz'))['channels']\n",
    "    print (su, 'low shape: ', data0.shape, 'high shape: ', data1.shape)\n",
    "    all_data = np.concatenate((data0,data1),axis=2)\n",
    "    print (su, 'all shape: ', all_data.shape)\n",
    "    \n",
    "    # ========================= COMPUTE TF FOR 1 ELEC =============================================\n",
    "    for elec in range(data0.shape[0]):\n",
    "        data = all_data[elec,:,:]\n",
    "        channel, label, sf, npts = channels[elec], names[elec], 512, data.shape[0]\n",
    "        print (su, channel, label, data.shape, 'nb points', npts)\n",
    "\n",
    "        time = 1000 * np.arange(-1024,data.shape[0]-1024) / sf #to set the 0 in your TF\n",
    "        print ('Time points: ', len(time),min(time), max(time))\n",
    "        tfObj = TF(sf, npts, f=f, time=time, width=width, step=step,baseline=baseline, norm=3)\n",
    "        xtf_all, _ = tfObj.get(data, statmeth=None, maxstat=True, tail=2, metric='m_center')\n",
    "        xtf_all = 100*np.squeeze(xtf_all)\n",
    "        print ('TF size :', xtf_all.shape)\n",
    "        \n",
    "        timebin = np.array(tfObj.xvec)\n",
    "        sl = slice(np.argmin(np.abs(timebin-window_to_plot[0])), np.argmin(np.abs(timebin-window_to_plot[1])))\n",
    "        title = su+' Elec('+str(elec)+') '+channel+' '+label+' All trials'\n",
    "        print('TF sel', xtf_all[:,sl].shape)\n",
    "        tfObj.plot2D(plt.figure(), xtf_all[:, sl], xvec=tfObj.xvec[sl], yvec=tfObj.yvec, xlabel='Time (ms)',\n",
    "                    ylabel='Frequency (hz)', cblabel='Power change (%)', cmap='viridis', \n",
    "                     title=title,pltargs={'shading':'gouraud'},vmin=-100, vmax=100, resample=(0.5, 0.1))\n",
    "        ax = plt.gca()\n",
    "        addLines(ax, vLines=lines, vColor=['firebrick','firebrick','black'], vWidth=[2]*3)\n",
    "        \n",
    "        #Add breathing to the plots\n",
    "#         respi = np.mean(np.load(path_respi+su+'_sig_'+exp+'_prestim_resp.npy'),axis=0)[:200]\n",
    "#         time_resp = np.load(path_respi+su+'_time_'+exp+'_prestim_resp.npy')[:200]\n",
    "#         #Rescale breathing to fit TF plot\n",
    "#         new_respi = (respi-respi.min()+0.1)*(100/(respi.max()-respi.min()))\n",
    "#         ratio_time = 2000/200 #200 time points to plot in 2000ms\n",
    "#         new_time = np.arange(-1500,500,ratio_time)\n",
    "#         print('new time',ratio_time,new_time.shape,new_respi.shape)\n",
    "#         ax.plot(new_time,new_respi,'black')       \n",
    "        #Save all your plots\n",
    "        fname = (path2save+su+'_Elec('+str(elec)+')_'+channel+'_'+label+'_All_trials.png')\n",
    "        #print (fname)\n",
    "        plt.savefig(fname, dpi=300, bbox_inches='tight')\n",
    "        plt.clf()\n",
    "        plt.close()\n",
    "    del xtf_all, all_data, sf, channel\n",
    "    \n"
   ]
  },
  {
   "cell_type": "markdown",
   "metadata": {},
   "source": [
    "### TF for all elecs - ONE CONDITION"
   ]
  },
  {
   "cell_type": "code",
   "execution_count": null,
   "metadata": {},
   "outputs": [
    {
     "name": "stdout",
     "output_type": "stream",
     "text": [
      "-> Olfacto loaded\n",
      "CHAF no odor shape:  (93, 3584, 128)\n",
      "CHAF a'2-a'1 PCC (3584, 128) nb points 3584\n",
      "Time points:  3584 -3000.0 3998.046875\n",
      "TF size : (58, 354)\n",
      "TF sel (58, 116)\n",
      "new time 10.0 (200,) (200,)\n",
      "CHAF a'3-a'2 PCC (3584, 128) nb points 3584\n",
      "Time points:  3584 -3000.0 3998.046875\n",
      "TF size : (58, 354)\n",
      "TF sel (58, 116)\n",
      "new time 10.0 (200,) (200,)\n"
     ]
    }
   ],
   "source": [
    "st = study('Olfacto')\n",
    "path_data = path.join (st.path, 'database/Encoding_No_Odor/')\n",
    "path_respi = '/media/karim/Datas4To/1_Analyses_Intra_EM_Odor/1bis_OE_BaseSam/JPlailly201306_seeg_ALS/behavior/respiration_amplitude/'\n",
    "path2save = path.join (st.path, 'feature/TF_Inspi_No_Odor/Encoding/')\n",
    "conds = ['no_odor']\n",
    "subjects = ['LEFC','CHAF','VACJ','SEMC','FERJ','PIRJ','MICP'] #LEFC','CHAF','VACJ','SEMC','FERJ','MICP','PIRJ\n",
    "\n",
    "for su in subjects:\n",
    "    data0 = np.load(path.join(path_data, su+'_odor_'+conds[0]+'_bipo_sel_phys.npz'))['x']\n",
    "    names = np.load(path.join(path_data, su+'_odor_'+conds[0]+'_bipo_sel_phys.npz'))['Mai_RL']\n",
    "    channels = np.load(path.join(path_data, su+'_odor_'+conds[0]+'_bipo_sel_phys.npz'))['channels']\n",
    "    print (su, 'no odor shape: ', data0.shape)\n",
    "    \n",
    "    # ========================= COMPUTE TF FOR 1 ELEC =============================================\n",
    "    for elec in range(data0.shape[0]):\n",
    "        data = data0[elec,:,:]\n",
    "        channel, label, sf, npts = channels[elec], names[elec], 512, data.shape[0]\n",
    "        print (su, channel, label, data.shape, 'nb points', npts)\n",
    "\n",
    "        time = 1000 * np.arange(-1536,data.shape[0]-1536) / sf #to set the 0 in your TF\n",
    "        print ('Time points: ', len(time),min(time), max(time))\n",
    "        tfObj = TF(sf, npts, f=f, time=time, width=width, step=step,baseline=baseline, norm=3)\n",
    "        xtf_all, _ = tfObj.get(data, statmeth=None, maxstat=True, tail=2, metric='m_center')\n",
    "        xtf_all = 100*np.squeeze(xtf_all)\n",
    "        print ('TF size :', xtf_all.shape)\n",
    "        \n",
    "        timebin = np.array(tfObj.xvec)\n",
    "        sl = slice(np.argmin(np.abs(timebin-window_to_plot[0])), np.argmin(np.abs(timebin-window_to_plot[1])))\n",
    "        title = su+' Elec('+str(elec)+') '+channel+' '+label+' All trials'\n",
    "        print('TF sel', xtf_all[:,sl].shape)\n",
    "        tfObj.plot2D(plt.figure(), xtf_all[:, sl], xvec=tfObj.xvec[sl], yvec=tfObj.yvec, xlabel='Time (ms)',\n",
    "                    ylabel='Frequency (hz)', cblabel='Power change (%)', cmap='viridis', \n",
    "                     title=title,pltargs={'shading':'gouraud'},vmin=-100, vmax=100, resample=(0.5, 0.1))\n",
    "        ax = plt.gca()\n",
    "        addLines(ax, vLines=lines, vColor=['firebrick','firebrick','black'], vWidth=[2]*3)\n",
    "        \n",
    "        #Add breathing to the plots\n",
    "        respi = np.mean(np.load(path_respi+su+'_sig_'+exp+'_no_odor_resp.npy'),axis=0)[:200]\n",
    "        time_resp = np.load(path_respi+su+'_time_'+exp+'_no_odor_resp.npy')[:200]\n",
    "        #Rescale breathing to fit TF plot\n",
    "        new_respi = (respi-respi.min()+0.2)*(100/(respi.max()-respi.min()))\n",
    "        ratio_time = 2000/200 #200 time points to plot in 2000ms\n",
    "        new_time = np.arange(0,2000,ratio_time)\n",
    "        print('new time',ratio_time,new_time.shape,new_respi.shape)\n",
    "        ax.plot(new_time,new_respi,'black')       \n",
    "        #Save all your plots\n",
    "        fname = (path2save+su+'_Elec('+str(elec)+')_'+channel+'_'+label+'_All_trials.png')\n",
    "        #print (fname)\n",
    "        plt.savefig(fname, dpi=300, bbox_inches='tight')\n",
    "        plt.clf()\n",
    "        plt.close()\n",
    "    del xtf_all, data0, sf, channel, data\n",
    "    \n"
   ]
  }
 ],
 "metadata": {
  "anaconda-cloud": {},
  "kernelspec": {
   "display_name": "Python [default]",
   "language": "python",
   "name": "python3"
  },
  "language_info": {
   "codemirror_mode": {
    "name": "ipython",
    "version": 3
   },
   "file_extension": ".py",
   "mimetype": "text/x-python",
   "name": "python",
   "nbconvert_exporter": "python",
   "pygments_lexer": "ipython3",
   "version": "3.5.5"
  }
 },
 "nbformat": 4,
 "nbformat_minor": 2
}
