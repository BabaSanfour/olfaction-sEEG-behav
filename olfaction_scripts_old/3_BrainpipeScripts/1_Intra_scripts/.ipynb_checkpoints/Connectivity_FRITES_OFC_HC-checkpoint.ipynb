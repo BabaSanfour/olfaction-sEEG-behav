{
 "cells": [
  {
   "cell_type": "code",
   "execution_count": 1,
   "metadata": {},
   "outputs": [
    {
     "name": "stdout",
     "output_type": "stream",
     "text": [
      "-> Olfacto loaded\n"
     ]
    }
   ],
   "source": [
    "from brainpipe.system import study\n",
    "import numpy as np\n",
    "from itertools import product\n",
    "from os.path import join\n",
    "\n",
    "from brainets.spectral import mt_lf, mt_hga\n",
    "import mne\n",
    "from brainpipe.feature import power\n",
    "from brainpipe.feat.utils._feat import _manageWindow\n",
    "st = study('Olfacto')"
   ]
  },
  {
   "cell_type": "code",
   "execution_count": 109,
   "metadata": {
    "scrolled": true
   },
   "outputs": [
    {
     "name": "stdout",
     "output_type": "stream",
     "text": [
      "PIRJ ['labels', 'x', 'aal', 'xyz', 'channels', 'sf', 'Mai', 'BA', 'Mai_RL'] ['aHC' 'aHC' 'aHC' 'aHC' 'aHC' 'aHC' 'aHC' 'PHG' 'PHG' 'PHG' 'PHG' 'PHG'\n",
      " 'OFC_olf' 'OFC_olf' 'OFC_olf' 'OFC_olf' 'IFG' 'IFG' 'IFG' 'IFG' 'Ins_olf'\n",
      " 'Ins_olf' 'Ins_olf' 'Ins_olf'] ['aHC', 'aHC', 'aHC', 'aHC', 'aHC', 'aHC', 'aHC', 'OFC_olf', 'OFC_olf', 'OFC_olf', 'OFC_olf'] [0, 1, 2, 3, 4, 5, 6, 12, 13, 14, 15]\n",
      "2 matching events found\n",
      "No baseline correction applied\n",
      "Not setting metadata\n",
      "0 projection items activated\n",
      "0 bad epochs dropped\n"
     ]
    },
    {
     "name": "stderr",
     "output_type": "stream",
     "text": [
      "Spectral properties :\n",
      "- Frequency of interest (foi) : 100.0Hz\n",
      "- Number of cycles : 15\n",
      "- Number of tapers : 14\n",
      "- Time x Full bandwidth : 15.0\n",
      "- Temporal smoothing (T) : 0.1s\n",
      "- foi +/- W : [50.0, 150.0]Hz\n"
     ]
    },
    {
     "name": "stdout",
     "output_type": "stream",
     "text": [
      "9 matching events found\n",
      "No baseline correction applied\n",
      "Not setting metadata\n",
      "0 projection items activated\n",
      "0 bad epochs dropped\n"
     ]
    },
    {
     "name": "stderr",
     "output_type": "stream",
     "text": [
      "Spectral properties :\n",
      "- Frequency of interest (foi) : 100.0Hz\n",
      "- Number of cycles : 15\n",
      "- Number of tapers : 14\n",
      "- Time x Full bandwidth : 15.0\n",
      "- Temporal smoothing (T) : 0.1s\n",
      "- foi +/- W : [50.0, 150.0]Hz\n"
     ]
    },
    {
     "name": "stdout",
     "output_type": "stream",
     "text": [
      "14 matching events found\n",
      "No baseline correction applied\n",
      "Not setting metadata\n",
      "0 projection items activated\n",
      "0 bad epochs dropped\n"
     ]
    },
    {
     "name": "stderr",
     "output_type": "stream",
     "text": [
      "Spectral properties :\n",
      "- Frequency of interest (foi) : 100.0Hz\n",
      "- Number of cycles : 15\n",
      "- Number of tapers : 14\n",
      "- Time x Full bandwidth : 15.0\n",
      "- Temporal smoothing (T) : 0.1s\n",
      "- foi +/- W : [50.0, 150.0]Hz\n"
     ]
    },
    {
     "name": "stdout",
     "output_type": "stream",
     "text": [
      "(1, 25, 11, 1536) (1, 25, 11, 1536)\n",
      "[0, 1, 2, 3, 4, 5, 6, 12, 13, 14, 15] PIRJ ['aHC' 'aHC' 'aHC' 'aHC' 'aHC' 'aHC' 'aHC' 'PHG' 'PHG' 'PHG' 'PHG' 'PHG'\n",
      " 'OFC_olf' 'OFC_olf' 'OFC_olf' 'OFC_olf' 'IFG' 'IFG' 'IFG' 'IFG' 'Ins_olf'\n",
      " 'Ins_olf' 'Ins_olf' 'Ins_olf'] ['aHC' 'aHC' 'aHC' 'aHC' 'aHC' 'aHC' 'aHC' 'OFC_olf' 'OFC_olf' 'OFC_olf'\n",
      " 'OFC_olf']\n",
      "[0, 1, 2, 3, 4, 5, 6, 12, 13, 14, 15] PIRJ [[ 27.35 -16.8  -15.15]\n",
      " [ 31.2  -16.45 -15.25]\n",
      " [ 35.1  -16.2  -15.3 ]\n",
      " [-25.8  -16.2  -12.8 ]\n",
      " [-29.55 -16.25 -12.75]\n",
      " [-33.35 -16.3  -12.7 ]\n",
      " [-37.2  -16.25 -12.75]\n",
      " [ 25.15  -8.7  -36.25]\n",
      " [ 29.1   -8.6  -36.5 ]\n",
      " [ 33.1   -8.5  -36.75]\n",
      " [ 37.05  -8.3  -37.  ]\n",
      " [ 41.05  -8.1  -37.2 ]\n",
      " [ 10.05  37.8  -11.35]\n",
      " [ 21.45  38.35 -11.95]\n",
      " [ 25.25  38.4  -12.05]\n",
      " [ 29.05  38.5  -12.25]\n",
      " [ 36.65  38.85 -12.65]\n",
      " [ 40.45  38.95 -12.85]\n",
      " [ 44.3   39.1  -13.05]\n",
      " [ 48.1   39.2  -13.15]\n",
      " [ 39.65 -17.95  -1.55]\n",
      " [ 43.6  -17.65  -1.25]\n",
      " [ 47.55 -17.35  -1.05]\n",
      " [ 51.55 -17.2   -0.75]] [[ 27.35 -16.8  -15.15]\n",
      " [ 31.2  -16.45 -15.25]\n",
      " [ 35.1  -16.2  -15.3 ]\n",
      " [-25.8  -16.2  -12.8 ]\n",
      " [-29.55 -16.25 -12.75]\n",
      " [-33.35 -16.3  -12.7 ]\n",
      " [-37.2  -16.25 -12.75]\n",
      " [ 10.05  37.8  -11.35]\n",
      " [ 21.45  38.35 -11.95]\n",
      " [ 25.25  38.4  -12.05]\n",
      " [ 29.05  38.5  -12.25]]\n",
      "[0, 1, 2, 3, 4, 5, 6, 12, 13, 14, 15] PIRJ ['b2-b1' 'b3-b2' 'b4-b3' \"b'2-b'1\" \"b'3-b'2\" \"b'4-b'3\" \"b'5-b'4\" 'd2-d1'\n",
      " 'd3-d2' 'd4-d3' 'd5-d4' 'd6-d5' 'o2-o1' 'o5-o4' 'o6-o5' 'o7-o6' 'o9-o8'\n",
      " 'o10-o9' 'o11-o10' 'o12-o11' 't2-t1' 't3-t2' 't4-t3' 't5-t4'] ['b2-b1' 'b3-b2' 'b4-b3' \"b'2-b'1\" \"b'3-b'2\" \"b'4-b'3\" \"b'5-b'4\" 'o2-o1'\n",
      " 'o5-o4' 'o6-o5' 'o7-o6']\n"
     ]
    }
   ],
   "source": [
    "\"\"\"Compute instantaneous power for high freqs (50-150Hz) and lower freqs \"\"\"\n",
    "\n",
    "path_pow = join(st.path, 'database/Encoding_By_Cond_v=1_elecs=all/')\n",
    "path_save = join(st.path, 'feature/Conn_instant_Theta_HG_FRITE/')\n",
    "filename = join(path_pow, '{}_odor_{}_E.npz')\n",
    "filesave = join(path_save, '{}_odor_{}_E_2freqs.npz')\n",
    "\n",
    "conds, rois = ['high','mid','low'], ['aHC','OFC_olf']\n",
    "#subjects = ['FERJ','LEFC','PIRJ','SEMC','VACJ']\n",
    "subjects = ['PIRJ']\n",
    "\n",
    "for su in subjects:\n",
    "    data = np.load(filename.format(su,conds[0]),allow_pickle=True)\n",
    "    idx = [i for i,lab in enumerate(data['Mai_RL']) if lab in rois]\n",
    "    print(su, data.files, data['Mai_RL'],list(data['Mai_RL'][idx]),idx)\n",
    "\n",
    "    if len(idx) > 0:\n",
    "        pow_HG, pow_Th, y = np.array([]), np.array([]), []\n",
    "        for i, cond in enumerate(conds):\n",
    "            data = np.load(filename.format(su,cond), allow_pickle=True)\n",
    "            data_sel = data['x'][idx,:,:]\n",
    "            data_sel_mne = data_sel.swapaxes(0,2).swapaxes(1,2) #nchans ntimes nepochs\n",
    "            chans = [str(x) for x in data['channels'][idx]]\n",
    "            info = mne.create_info(ch_names=chans, sfreq=512.) \n",
    "            epochs = mne.EpochsArray(data_sel_mne,info=info) #nepochs nchans ntimes\n",
    "            \n",
    "            ft_theta = power(512, data_sel.shape[1], baseline=None,\n",
    "                             f=[3,7], method='hilbert1').get(data_sel,n_jobs=-1)[0]\n",
    "            ft_highG = mt_hga(epochs, n_cycles=15, time_bandwidth=15, \n",
    "                                  log_transform=False, picks = 'all')\n",
    "            \n",
    "            ft_theta = ft_theta[:,:,1024:2560,:]\n",
    "            ft_highG = ft_highG.data[:,:,:,1024:2560]\n",
    "            y.extend([i]*ft_highG.shape[0])\n",
    "            pow_Th = np.concatenate((pow_Th,ft_theta),axis=-1) if np.size(pow_Th) else ft_theta\n",
    "            pow_HG = np.concatenate((pow_HG,ft_highG),axis=0) if np.size(pow_HG) else ft_highG\n",
    "        pow_Th = pow_Th.swapaxes(1,3).swapaxes(2,3)\n",
    "        pow_HG = pow_HG.swapaxes(0,2).swapaxes(1,2)\n",
    "        print(pow_HG.shape, pow_Th.shape)\n",
    "\n",
    "        new_npz = {}\n",
    "        for f in ['Mai_RL','xyz','channels']:\n",
    "            print(idx, su, data[f], data[f][idx])\n",
    "            new_npz[f] = data[f][idx]\n",
    "        new_npz['pow_HG'], new_npz['pow_Th'], new_npz['y'] = pow_HG, pow_Th, y\n",
    "        _ , time = _manageWindow(data_sel.shape[1], width=None, step=None)\n",
    "        new_npz['time'] = (np.array(time[1024:2560]) / 512) - 3\n",
    "        np.savez(filesave.format(su,'all_3conds'),**new_npz)\n"
   ]
  },
  {
   "cell_type": "code",
   "execution_count": 110,
   "metadata": {},
   "outputs": [
    {
     "name": "stderr",
     "output_type": "stream",
     "text": [
      "Defining temporal windows\n",
      "    Definition of sliding windows (len=0.5, start=-1.0, stop=1.998046875, step=0.1)\n",
      "    25 windows defined\n"
     ]
    },
    {
     "name": "stdout",
     "output_type": "stream",
     "text": [
      "FERJ ['Mai_RL', 'xyz', 'channels', 'pow_HG', 'pow_Th', 'y', 'time'] ['aHC' 'aHC' 'aHC' 'aHC' 'aHC' 'aHC' 'aHC' 'aHC' 'aHC' 'aHC' 'aHC' 'aHC'\n",
      " 'aHC' 'aHC']\n"
     ]
    },
    {
     "name": "stderr",
     "output_type": "stream",
     "text": [
      "Definition of an electrophysiological dataset\n",
      "    NumPy inputs detected\n",
      "    Allowed mi_type=cd (y.dtype=int; z.dtype=none)\n",
      "Dataset composed of 1 subjects. At least -inf subjects per roi are required\n",
      "Definition of a non-parametric statistical workflow\n",
      "Workflow for computing mutual information (ffx - gc - cd)\n",
      "    Group data by roi\n",
      "    Apply copnorm (per subject=False; mi_type=cd)\n",
      "    Evaluate true and permuted mi (n_perm=100, n_jobs=4)\n",
      "    Fixed-effect inference (FFX)\n",
      "    Cluster forming threshold (tail=1; alpha=0.05; tfce=None)\n",
      "    Inference at cluster-level\n",
      "    Cluster detection (threshold=0.11650902256792368; tail=1)\n",
      "Defining temporal windows\n",
      "    Definition of sliding windows (len=0.5, start=-1.0, stop=1.998046875, step=0.1)\n",
      "    25 windows defined\n"
     ]
    },
    {
     "name": "stdout",
     "output_type": "stream",
     "text": [
      "FERJ ['Mai_RL', 'xyz', 'channels', 'pow_HG', 'pow_Th', 'y', 'time'] ['aHC' 'aHC' 'aHC' 'aHC' 'aHC' 'aHC' 'aHC' 'aHC' 'aHC' 'aHC' 'aHC' 'aHC'\n",
      " 'aHC' 'aHC']\n"
     ]
    },
    {
     "name": "stderr",
     "output_type": "stream",
     "text": [
      "Definition of an electrophysiological dataset\n",
      "    NumPy inputs detected\n",
      "    Allowed mi_type=cd (y.dtype=int; z.dtype=none)\n",
      "Dataset composed of 1 subjects. At least -inf subjects per roi are required\n",
      "Definition of a non-parametric statistical workflow\n",
      "Workflow for computing mutual information (ffx - gc - cd)\n",
      "    Group data by roi\n",
      "    Apply copnorm (per subject=False; mi_type=cd)\n",
      "    Evaluate true and permuted mi (n_perm=100, n_jobs=4)\n",
      "    Fixed-effect inference (FFX)\n",
      "    Cluster forming threshold (tail=1; alpha=0.05; tfce=None)\n",
      "    Inference at cluster-level\n",
      "    Cluster detection (threshold=0.11632605463411226; tail=1)\n",
      "Defining temporal windows\n",
      "    Definition of sliding windows (len=0.5, start=-1.0, stop=1.998046875, step=0.1)\n",
      "    25 windows defined\n"
     ]
    },
    {
     "name": "stdout",
     "output_type": "stream",
     "text": [
      "LEFC ['Mai_RL', 'xyz', 'channels', 'pow_HG', 'pow_Th', 'y', 'time'] ['aHC' 'aHC' 'aHC' 'aHC' 'aHC' 'aHC' 'aHC' 'aHC' 'OFC_olf' 'OFC_olf'\n",
      " 'OFC_olf' 'OFC_olf' 'OFC_olf']\n"
     ]
    },
    {
     "name": "stderr",
     "output_type": "stream",
     "text": [
      "Definition of an electrophysiological dataset\n",
      "    NumPy inputs detected\n",
      "    Allowed mi_type=cd (y.dtype=int; z.dtype=none)\n",
      "Dataset composed of 1 subjects. At least -inf subjects per roi are required\n",
      "Definition of a non-parametric statistical workflow\n",
      "Workflow for computing mutual information (ffx - gc - cd)\n",
      "    Group data by roi\n",
      "    Apply copnorm (per subject=False; mi_type=cd)\n",
      "    Evaluate true and permuted mi (n_perm=100, n_jobs=4)\n",
      "    Fixed-effect inference (FFX)\n",
      "    Cluster forming threshold (tail=1; alpha=0.05; tfce=None)\n",
      "    Inference at cluster-level\n",
      "    Cluster detection (threshold=0.0631331223666193; tail=1)\n",
      "Defining temporal windows\n",
      "    Definition of sliding windows (len=0.5, start=-1.0, stop=1.998046875, step=0.1)\n",
      "    25 windows defined\n"
     ]
    },
    {
     "name": "stdout",
     "output_type": "stream",
     "text": [
      "LEFC ['Mai_RL', 'xyz', 'channels', 'pow_HG', 'pow_Th', 'y', 'time'] ['aHC' 'aHC' 'aHC' 'aHC' 'aHC' 'aHC' 'aHC' 'aHC' 'OFC_olf' 'OFC_olf'\n",
      " 'OFC_olf' 'OFC_olf' 'OFC_olf']\n"
     ]
    },
    {
     "name": "stderr",
     "output_type": "stream",
     "text": [
      "Definition of an electrophysiological dataset\n",
      "    NumPy inputs detected\n",
      "    Allowed mi_type=cd (y.dtype=int; z.dtype=none)\n",
      "Dataset composed of 1 subjects. At least -inf subjects per roi are required\n",
      "Definition of a non-parametric statistical workflow\n",
      "Workflow for computing mutual information (ffx - gc - cd)\n",
      "    Group data by roi\n",
      "    Apply copnorm (per subject=False; mi_type=cd)\n",
      "    Evaluate true and permuted mi (n_perm=100, n_jobs=4)\n",
      "    Fixed-effect inference (FFX)\n",
      "    Cluster forming threshold (tail=1; alpha=0.05; tfce=None)\n",
      "    Inference at cluster-level\n",
      "    Cluster detection (threshold=0.062446042888410234; tail=1)\n",
      "Defining temporal windows\n",
      "    Definition of sliding windows (len=0.5, start=-1.0, stop=1.998046875, step=0.1)\n",
      "    25 windows defined\n"
     ]
    },
    {
     "name": "stdout",
     "output_type": "stream",
     "text": [
      "PIRJ ['Mai_RL', 'xyz', 'channels', 'pow_HG', 'pow_Th', 'y', 'time'] ['aHC' 'aHC' 'aHC' 'aHC' 'aHC' 'aHC' 'aHC' 'OFC_olf' 'OFC_olf' 'OFC_olf'\n",
      " 'OFC_olf']\n"
     ]
    },
    {
     "name": "stderr",
     "output_type": "stream",
     "text": [
      "Definition of an electrophysiological dataset\n",
      "    NumPy inputs detected\n",
      "    Allowed mi_type=cd (y.dtype=int; z.dtype=none)\n",
      "Dataset composed of 1 subjects. At least -inf subjects per roi are required\n",
      "Definition of a non-parametric statistical workflow\n",
      "Workflow for computing mutual information (ffx - gc - cd)\n",
      "    Group data by roi\n",
      "    Apply copnorm (per subject=False; mi_type=cd)\n",
      "    Evaluate true and permuted mi (n_perm=100, n_jobs=4)\n",
      "    Fixed-effect inference (FFX)\n",
      "    Cluster forming threshold (tail=1; alpha=0.05; tfce=None)\n",
      "    Inference at cluster-level\n",
      "    Cluster detection (threshold=0.17181375050970848; tail=1)\n",
      "Defining temporal windows\n",
      "    Definition of sliding windows (len=0.5, start=-1.0, stop=1.998046875, step=0.1)\n",
      "    25 windows defined\n"
     ]
    },
    {
     "name": "stdout",
     "output_type": "stream",
     "text": [
      "PIRJ ['Mai_RL', 'xyz', 'channels', 'pow_HG', 'pow_Th', 'y', 'time'] ['aHC' 'aHC' 'aHC' 'aHC' 'aHC' 'aHC' 'aHC' 'OFC_olf' 'OFC_olf' 'OFC_olf'\n",
      " 'OFC_olf']\n"
     ]
    },
    {
     "name": "stderr",
     "output_type": "stream",
     "text": [
      "Definition of an electrophysiological dataset\n",
      "    NumPy inputs detected\n",
      "    Allowed mi_type=cd (y.dtype=int; z.dtype=none)\n",
      "Dataset composed of 1 subjects. At least -inf subjects per roi are required\n",
      "Definition of a non-parametric statistical workflow\n",
      "Workflow for computing mutual information (ffx - gc - cd)\n",
      "    Group data by roi\n",
      "    Apply copnorm (per subject=False; mi_type=cd)\n",
      "    Evaluate true and permuted mi (n_perm=100, n_jobs=4)\n",
      "    Fixed-effect inference (FFX)\n",
      "    Cluster forming threshold (tail=1; alpha=0.05; tfce=None)\n",
      "    Inference at cluster-level\n",
      "    Cluster detection (threshold=0.17236406142209523; tail=1)\n",
      "Defining temporal windows\n",
      "    Definition of sliding windows (len=0.5, start=-1.0, stop=1.998046875, step=0.1)\n",
      "    25 windows defined\n"
     ]
    },
    {
     "name": "stdout",
     "output_type": "stream",
     "text": [
      "SEMC ['Mai_RL', 'xyz', 'channels', 'pow_HG', 'pow_Th', 'y', 'time'] ['aHC' 'aHC' 'aHC' 'aHC' 'aHC' 'OFC_olf' 'OFC_olf' 'OFC_olf']\n"
     ]
    },
    {
     "name": "stderr",
     "output_type": "stream",
     "text": [
      "Definition of an electrophysiological dataset\n",
      "    NumPy inputs detected\n",
      "    Allowed mi_type=cd (y.dtype=int; z.dtype=none)\n",
      "Dataset composed of 1 subjects. At least -inf subjects per roi are required\n",
      "Definition of a non-parametric statistical workflow\n",
      "Workflow for computing mutual information (ffx - gc - cd)\n",
      "    Group data by roi\n",
      "    Apply copnorm (per subject=False; mi_type=cd)\n",
      "    Evaluate true and permuted mi (n_perm=100, n_jobs=4)\n",
      "    Fixed-effect inference (FFX)\n",
      "    Cluster forming threshold (tail=1; alpha=0.05; tfce=None)\n",
      "    Inference at cluster-level\n",
      "    Cluster detection (threshold=0.08811414364890945; tail=1)\n",
      "Defining temporal windows\n",
      "    Definition of sliding windows (len=0.5, start=-1.0, stop=1.998046875, step=0.1)\n",
      "    25 windows defined\n"
     ]
    },
    {
     "name": "stdout",
     "output_type": "stream",
     "text": [
      "SEMC ['Mai_RL', 'xyz', 'channels', 'pow_HG', 'pow_Th', 'y', 'time'] ['aHC' 'aHC' 'aHC' 'aHC' 'aHC' 'OFC_olf' 'OFC_olf' 'OFC_olf']\n"
     ]
    },
    {
     "name": "stderr",
     "output_type": "stream",
     "text": [
      "Definition of an electrophysiological dataset\n",
      "    NumPy inputs detected\n",
      "    Allowed mi_type=cd (y.dtype=int; z.dtype=none)\n",
      "Dataset composed of 1 subjects. At least -inf subjects per roi are required\n",
      "Definition of a non-parametric statistical workflow\n",
      "Workflow for computing mutual information (ffx - gc - cd)\n",
      "    Group data by roi\n",
      "    Apply copnorm (per subject=False; mi_type=cd)\n",
      "    Evaluate true and permuted mi (n_perm=100, n_jobs=4)\n",
      "    Fixed-effect inference (FFX)\n",
      "    Cluster forming threshold (tail=1; alpha=0.05; tfce=None)\n",
      "    Inference at cluster-level\n",
      "    Cluster detection (threshold=0.08786615468662641; tail=1)\n",
      "Defining temporal windows\n",
      "    Definition of sliding windows (len=0.5, start=-1.0, stop=1.998046875, step=0.1)\n",
      "    25 windows defined\n"
     ]
    },
    {
     "name": "stdout",
     "output_type": "stream",
     "text": [
      "VACJ ['Mai_RL', 'xyz', 'channels', 'pow_HG', 'pow_Th', 'y', 'time'] ['aHC' 'aHC' 'aHC' 'aHC' 'aHC' 'aHC' 'aHC' 'aHC' 'OFC_olf' 'OFC_olf'\n",
      " 'OFC_olf' 'OFC_olf']\n"
     ]
    },
    {
     "name": "stderr",
     "output_type": "stream",
     "text": [
      "Definition of an electrophysiological dataset\n",
      "    NumPy inputs detected\n",
      "    Allowed mi_type=cd (y.dtype=int; z.dtype=none)\n",
      "Dataset composed of 1 subjects. At least -inf subjects per roi are required\n",
      "Definition of a non-parametric statistical workflow\n",
      "Workflow for computing mutual information (ffx - gc - cd)\n",
      "    Group data by roi\n",
      "    Apply copnorm (per subject=False; mi_type=cd)\n",
      "    Evaluate true and permuted mi (n_perm=100, n_jobs=4)\n",
      "    Fixed-effect inference (FFX)\n",
      "    Cluster forming threshold (tail=1; alpha=0.05; tfce=None)\n",
      "    Inference at cluster-level\n",
      "    Cluster detection (threshold=0.16916665955472823; tail=1)\n",
      "Defining temporal windows\n",
      "    Definition of sliding windows (len=0.5, start=-1.0, stop=1.998046875, step=0.1)\n",
      "    25 windows defined\n"
     ]
    },
    {
     "name": "stdout",
     "output_type": "stream",
     "text": [
      "VACJ ['Mai_RL', 'xyz', 'channels', 'pow_HG', 'pow_Th', 'y', 'time'] ['aHC' 'aHC' 'aHC' 'aHC' 'aHC' 'aHC' 'aHC' 'aHC' 'OFC_olf' 'OFC_olf'\n",
      " 'OFC_olf' 'OFC_olf']\n"
     ]
    },
    {
     "name": "stderr",
     "output_type": "stream",
     "text": [
      "Definition of an electrophysiological dataset\n",
      "    NumPy inputs detected\n",
      "    Allowed mi_type=cd (y.dtype=int; z.dtype=none)\n",
      "Dataset composed of 1 subjects. At least -inf subjects per roi are required\n",
      "Definition of a non-parametric statistical workflow\n",
      "Workflow for computing mutual information (ffx - gc - cd)\n",
      "    Group data by roi\n",
      "    Apply copnorm (per subject=False; mi_type=cd)\n",
      "    Evaluate true and permuted mi (n_perm=100, n_jobs=4)\n",
      "    Fixed-effect inference (FFX)\n",
      "    Cluster forming threshold (tail=1; alpha=0.05; tfce=None)\n",
      "    Inference at cluster-level\n",
      "    Cluster detection (threshold=0.16974218788487958; tail=1)\n"
     ]
    }
   ],
   "source": [
    "from frites.utils import define_windows\n",
    "from frites.conn import conn_dfc\n",
    "from frites.dataset import DatasetEphy\n",
    "from frites.workflow import WfMi\n",
    "\n",
    "\"\"\" Compute undirected Dynamic Functional Connectivity (DFC)\"\"\"\n",
    "path_save = join(st.path, 'feature/Conn_instant_Theta_HG_FRITE/')\n",
    "filesave = join(path_save, '{}_odor_{}_E_2freqs.npz')\n",
    "conn_save = join(path_save, '{}_conn_{}_{}_E_2freqs.nc')\n",
    "#win parametres in sec - windows to compute DFC\n",
    "#TO BE adapted to the size (in time) of the effect\n",
    "slwin_len = .5\n",
    "slwin_step = .1\n",
    "subjects = ['FERJ','LEFC','PIRJ','SEMC','VACJ']\n",
    "features = ['pow_HG','pow_Th']\n",
    "\n",
    "for su,feat in product(subjects,features):\n",
    "    \n",
    "    \"\"\" Compute undirected Dynamic Functional Connectivity (DFC)\"\"\"\n",
    "    data = np.load(filesave.format(su,'all_3conds'),allow_pickle=True)\n",
    "    ch_names = np.array([f\"{ch}_{lab}\" for ch,lab in zip(data['channels'],data['Mai_RL'])])\n",
    "    print(su, data.files, data['Mai_RL'])\n",
    "    \n",
    "    win_sample = define_windows(times=data['time'], slwin_len=slwin_len,\n",
    "                            slwin_step=slwin_step)[0]\n",
    "    dfc_inst = conn_dfc(data[feat].squeeze(), data['time'], \n",
    "                        ch_names, win_sample, verbose=False)[0]\n",
    "    dfc_inst.attrs['y'] = data['y']\n",
    "    dfc_inst.to_netcdf(conn_save.format(su,feat,'DFC'))\n",
    "    \n",
    "    \"\"\" Compute Statistics for DFC\"\"\"\n",
    "    dataset_dfc_inst = DatasetEphy(x=list(dfc_inst.data[np.newaxis]),\n",
    "                                   y=list(dfc_inst.attrs['y'][np.newaxis]), \n",
    "                                   times=dfc_inst['times'].data, \n",
    "                                   roi=list(dfc_inst['roi'].data[np.newaxis]))\n",
    "    wf_dfc_inst = WfMi(mi_type='cd', inference='ffx') #workflow\n",
    "    mi_dfc, mi_dfc_p = wf_dfc_inst.fit(dataset_dfc_inst,\n",
    "                                 mcp='cluster',n_perm=100, n_jobs=4, random_state=0)\n",
    "    mi_dfc.to_netcdf(conn_save.format(su,feat,'MI'))\n",
    "    mi_dfc_p.to_netcdf(conn_save.format(su,feat,'MI_p'))"
   ]
  },
  {
   "cell_type": "code",
   "execution_count": 172,
   "metadata": {},
   "outputs": [
    {
     "name": "stdout",
     "output_type": "stream",
     "text": [
      "[0 0 0 0 0 0 0 0 0 0 0 0 0 0 0 0 0 0 0 0 0 0 0 0 0 0 0 0 0 0 0 0 0 0 0 0 0\n",
      " 0 0 0 0 0 0 1 0 0 1 0 0 0 0 0 0 0 0 0 0 0 0 0 0 0 0 0 0 0 0 0 0 0 0 0 0 0\n",
      " 0 0 0 0] [1, 1, 1, 1, 1, 1, 1, 1, 1, 1, 1, 1, 1, 1, 1, 1, 1, 1, 1, 1, 1, 1, 1, 1, 1, 1, 1, 1, 1, 1, 1, 1, 1, 1, 1, 1, 1, 1, 1, 1, 1, 1, 1, 1, 1, 1, 1, 1, 1, 1, 1, 1, 1, 1, 1, 1, 1, 1, 1, 1, 1, 1, 1, 1, 1, 1, 1, 1, 0, 0, 0, 0, 0, 0, 0, 0, 0, 0] [0, 0, 0, 0, 0, 0, 0, 0, 0, 0, 0, 0, 0, 0, 0, 0, 0, 0, 0, 0, 0, 0, 0, 0, 0, 0, 0, 0, 0, 0, 0, 0, 0, 0, 0, 0, 0, 0, 0, 0, 0, 0, 0, 1, 0, 0, 1, 0, 0, 0, 0, 0, 0, 0, 0, 0, 0, 0, 0, 0, 0, 0, 0, 0, 0, 0, 0, 0, 0, 0, 0, 0, 0, 0, 0, 0, 0, 0]\n"
     ]
    },
    {
     "ename": "ZeroDivisionError",
     "evalue": "division by zero",
     "output_type": "error",
     "traceback": [
      "\u001b[0;31m---------------------------------------------------------\u001b[0m",
      "\u001b[0;31mZeroDivisionError\u001b[0m       Traceback (most recent call last)",
      "\u001b[0;32m<ipython-input-172-a9fc67c5a6f7>\u001b[0m in \u001b[0;36m<module>\u001b[0;34m()\u001b[0m\n\u001b[1;32m     18\u001b[0m     \u001b[0mis_sel\u001b[0m \u001b[0;34m=\u001b[0m \u001b[0;34m[\u001b[0m\u001b[0;36m1\u001b[0m \u001b[0;32mif\u001b[0m \u001b[0mx\u001b[0m\u001b[0;34m==\u001b[0m\u001b[0;36m1\u001b[0m \u001b[0;34m&\u001b[0m \u001b[0my\u001b[0m\u001b[0;34m==\u001b[0m\u001b[0;36m1\u001b[0m \u001b[0;32melse\u001b[0m \u001b[0;36m0\u001b[0m \u001b[0;32mfor\u001b[0m \u001b[0mx\u001b[0m\u001b[0;34m,\u001b[0m\u001b[0my\u001b[0m \u001b[0;32min\u001b[0m \u001b[0mzip\u001b[0m\u001b[0;34m(\u001b[0m\u001b[0mis_signif\u001b[0m\u001b[0;34m,\u001b[0m\u001b[0mis_roi\u001b[0m\u001b[0;34m)\u001b[0m\u001b[0;34m]\u001b[0m\u001b[0;34m\u001b[0m\u001b[0m\n\u001b[1;32m     19\u001b[0m     \u001b[0mprint\u001b[0m\u001b[0;34m(\u001b[0m\u001b[0mis_signif\u001b[0m\u001b[0;34m,\u001b[0m \u001b[0mis_roi\u001b[0m\u001b[0;34m,\u001b[0m \u001b[0mis_sel\u001b[0m\u001b[0;34m)\u001b[0m\u001b[0;34m\u001b[0m\u001b[0m\n\u001b[0;32m---> 20\u001b[0;31m     \u001b[0;36m0\u001b[0m\u001b[0;34m/\u001b[0m\u001b[0;36m0\u001b[0m\u001b[0;34m\u001b[0m\u001b[0m\n\u001b[0m\u001b[1;32m     21\u001b[0m     \u001b[0;31m#mi_dfc_back = mi_dfc_back.sel(roi = is_signif)\u001b[0m\u001b[0;34m\u001b[0m\u001b[0;34m\u001b[0m\u001b[0m\n\u001b[1;32m     22\u001b[0m     \u001b[0;31m#pv_dfc_back = pv_dfc_back.sel(roi = is_signif)\u001b[0m\u001b[0;34m\u001b[0m\u001b[0;34m\u001b[0m\u001b[0m\n",
      "\u001b[0;31mZeroDivisionError\u001b[0m: division by zero"
     ]
    }
   ],
   "source": [
    "import xarray as xr\n",
    "import matplotlib.pyplot as plt \n",
    "\n",
    "\"\"\"Plot DFC and stats\"\"\"\n",
    "\n",
    "subjects = ['LEFC','FERJ','SEMC','PIRJ','VACJ']\n",
    "features = ['pow_Th']\n",
    "\n",
    "for su,feat in product(subjects,features):\n",
    "    #load DFC, MI and stats\n",
    "    dfc = xr.load_dataarray(conn_save.format(su,feat,'DFC'))\n",
    "    mi_dfc = xr.load_dataarray(conn_save.format(su,feat,'MI'))\n",
    "    mi_p_dfc = xr.load_dataarray(conn_save.format(su,feat,'MI_p'))\n",
    "    dfc['trials'] = dfc.attrs['y']\n",
    "\n",
    "    is_signif = (mi_p_dfc < 0.2).any('times').data * 1\n",
    "    is_roi =  [1 if \"aHC\" in x else 0 for x in mi_p_dfc['roi'].data]\n",
    "    is_sel = [1 if x==1 & y==1 else 0 for x,y in zip(is_signif,is_roi)]\n",
    "    mi_dfc_back = mi_dfc_back.sel(roi = is_sel)\n",
    "    pv_dfc_back = pv_dfc_back.sel(roi = is_sel)\n",
    "    \n",
    "    if len(pv_dfc_back['roi'].data) > 0:\n",
    "        dfc_gp = dfc_array.groupby('trials').mean('trials')\n",
    "        dfc_gp = dfc_gp.sel(roi = is_signif).mean('roi').plot.line(x='times')\n",
    "        #plt.title()\n",
    "        plt.axvline(0,color='k')\n",
    "        plt.show(dfc_array['roi'].data[j])\n",
    "        plt.xlim(-0.7,2)\n",
    "        #plt.ylim(0.036,\n",
    "    \n",
    "        print(su, feat, pv_dfc_back['roi'].data)\n",
    "        mi_dfc_back_mean = mi_dfc_back.mean('roi')\n",
    "        pv_dfc_back_mean = pv_dfc_back.mean('roi')\n",
    "        pv_dfc_back.plot.line(x='times')\n",
    "        plt.axvline(0,color='k')\n",
    "        #plt.xticks([0,5,10,15,20,25,30],labels = ['-500','0','500','1000','1500','2000','2500'])\n"
   ]
  }
 ],
 "metadata": {
  "kernelspec": {
   "display_name": "Python 3",
   "language": "python",
   "name": "python3"
  },
  "language_info": {
   "codemirror_mode": {
    "name": "ipython",
    "version": 3
   },
   "file_extension": ".py",
   "mimetype": "text/x-python",
   "name": "python",
   "nbconvert_exporter": "python",
   "pygments_lexer": "ipython3",
   "version": "3.6.1"
  }
 },
 "nbformat": 4,
 "nbformat_minor": 2
}
