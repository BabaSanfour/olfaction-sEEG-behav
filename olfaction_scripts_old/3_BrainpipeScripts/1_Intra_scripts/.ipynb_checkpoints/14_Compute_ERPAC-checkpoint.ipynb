{
 "cells": [
  {
   "cell_type": "code",
   "execution_count": null,
   "metadata": {
    "collapsed": false
   },
   "outputs": [],
   "source": [
    "from os import path\n",
    "import numpy as np\n",
    "from itertools import product\n",
    "import matplotlib.pyplot as plt\n",
    "\n",
    "from brainpipe.system import study\n",
    "from brainpipe.feature import erpac\n",
    "from brainpipe.feat.utils._feat import _manageWindow\n",
    "from brainpipe.visual import *\n",
    "from tensorpac import Pac\n",
    "\n",
    "plt.style.use('seaborn-poster')"
   ]
  },
  {
   "cell_type": "markdown",
   "metadata": {},
   "source": [
    "### Compute and Plot PAC values \n",
    "    Low frequency phases and large broad band gamma amplitude"
   ]
  },
  {
   "cell_type": "code",
   "execution_count": null,
   "metadata": {
    "collapsed": false
   },
   "outputs": [],
   "source": [
    "st = study('Olfacto')\n",
    "Test = False\n",
    "if Test == True:\n",
    "    subjects = ['FERJ']\n",
    "    conds = {'subj':('LowHigh',['low','high'])}\n",
    "else:\n",
    "    subjects = ['FERJ','MICP','VACJ','SEMC','LEFC','PIRJ','CHAF']\n",
    "    conds = {'subj':('LowHigh',['low','high'])}"
   ]
  },
  {
   "cell_type": "markdown",
   "metadata": {},
   "source": [
    "### Compare different PAC methods and normalization"
   ]
  },
  {
   "cell_type": "code",
   "execution_count": null,
   "metadata": {
    "collapsed": false,
    "scrolled": true
   },
   "outputs": [],
   "source": [
    "for su, cond in product(subjects[:], sorted(conds)):\n",
    "    pathdata = path.join(st.path,'database/Encoding_EpiPerf_'+conds[cond][0]+'/')\n",
    "    path2save = path.join(st.path,'feature/2_PAC_Encoding_EpiPerf_'+conds[cond][0]+'/ERPAC/')\n",
    "    \n",
    "    for c in conds[cond][1]:\n",
    "        fi = su+'_odor_'+c+'_bipo_sel_physFT.npz'\n",
    "        loadname = pathdata+fi\n",
    "        if path.isfile(loadname):\n",
    "            mat = np.load(loadname)\n",
    "            print(mat.files)\n",
    "            data = mat['x'][:,:2304,:].swapaxes(1,2)\n",
    "            labels = mat['Mai_RL']\n",
    "            time = np.arange(-1000, 2500, 100)\n",
    "            n_elec, n_trials, npts = data.shape\n",
    "            sf, famp = 512., (60,120,5,1)\n",
    "            width, step = 358, 51\n",
    "            fpha = [[0.1,1.5],[2,3],[3,7],[8,13]]\n",
    "            fnames = ['VLFC', 'delta', 'theta', 'alpha']\n",
    "            print ('--> compute pac on : ', fi, 'data', data.shape, 'npts', npts, 'ntrials',n_trials, 'nelec', n_elec)              \n",
    "            \n",
    "            for elec in range(n_elec):\n",
    "                label = labels[elec]\n",
    "                data_elec = data[elec,:,:][np.newaxis].swapaxes(1,2)\n",
    "                # Define an ERPAC object :\n",
    "                print(data_elec.shape)\n",
    "                erpacObj = erpac(sf, npts, pha_f=fpha, pha_meth='hilbert', pha_cycle=3, \n",
    "                                 amp_f=famp, amp_meth='hilbert',amp_cycle=6,step=step, \n",
    "                                 width=width)\n",
    "                \n",
    "                # Compute the ERPAC - traxis specify which is the trial axis\n",
    "                pac, pval = erpacObj.get(data_elec, data_elec, n_perm=200, n_jobs=-1)\n",
    "                pac, pval = np.squeeze(pac), np.squeeze(pval)\n",
    "                print(pac.shape, pval.shape)\n",
    "                \n",
    "                for pha in range(pac.shape[0]):\n",
    "                    # Plot without p-values :\n",
    "                    fig = plt.figure()\n",
    "                    title = 'ERPAC for freqs '+fnames[pha]+' ['+str(fpha[pha])+'] / High-Gamma '+su+' '+c+' '+str(label)+' ('+str(elec)+')'\n",
    "                    Pac.pacplot(erpacObj,pac=pac[pha,:,:], xvec=time, yvec=[60,120], xlabel='Time (ms)', \n",
    "                            cmap='inferno',ylabel='Amplitude frequency', title=title, cblabel='ERPAC',\n",
    "                            vmin=0., rmaxis=True, interp=(.1,.1))\n",
    "                    addLines(plt.gca(),vLines=[0], vColor=['white'], vShape=['-'], vWidth=[2.])\n",
    "                    filename = su+'_ERPAC_'+fnames[pha]+'_gamma_'+label+'_('+str(elec)+')_'+c+'.png'\n",
    "                    plt.tight_layout()\n",
    "                    plt.savefig(path2save+filename)\n",
    "                    plt.clf()\n",
    "                    plt.close()"
   ]
  },
  {
   "cell_type": "code",
   "execution_count": null,
   "metadata": {
    "collapsed": true
   },
   "outputs": [],
   "source": []
  }
 ],
 "metadata": {
  "anaconda-cloud": {},
  "kernelspec": {
   "display_name": "Python [conda root]",
   "language": "python",
   "name": "conda-root-py"
  },
  "language_info": {
   "codemirror_mode": {
    "name": "ipython",
    "version": 3
   },
   "file_extension": ".py",
   "mimetype": "text/x-python",
   "name": "python",
   "nbconvert_exporter": "python",
   "pygments_lexer": "ipython3",
   "version": "3.5.5"
  }
 },
 "nbformat": 4,
 "nbformat_minor": 1
}
