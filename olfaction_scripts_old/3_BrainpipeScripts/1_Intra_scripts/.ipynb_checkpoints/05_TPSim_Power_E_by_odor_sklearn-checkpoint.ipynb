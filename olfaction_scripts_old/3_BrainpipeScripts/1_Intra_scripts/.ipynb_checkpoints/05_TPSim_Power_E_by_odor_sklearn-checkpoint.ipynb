{
 "cells": [
  {
   "cell_type": "markdown",
   "metadata": {},
   "source": [
    "## Import Libraries"
   ]
  },
  {
   "cell_type": "code",
   "execution_count": 1,
   "metadata": {},
   "outputs": [],
   "source": [
    "from os import path, makedirs\n",
    "from itertools import product\n",
    "import numpy as np\n",
    "import scipy.io as sio\n",
    "\n",
    "from brainpipe.system import study\n",
    "from brainpipe.statistics import *"
   ]
  },
  {
   "cell_type": "markdown",
   "metadata": {},
   "source": [
    "## Power Decoding - Partial//Detailed Encoding\n",
    "### For ALL time points"
   ]
  },
  {
   "cell_type": "code",
   "execution_count": null,
   "metadata": {
    "scrolled": true
   },
   "outputs": [
    {
     "name": "stdout",
     "output_type": "stream",
     "text": [
      "-> Olfacto loaded\n",
      "CHAF ['tps', 'pval', 'label', 'channel', 'xyz'] TPS shape:  [(57, 15), (57, 105)]\n",
      "--» processing CHAF elec 0 / 57 freq delta\n",
      "Size of the concatenated data:  (120, 1)\n",
      "Size of label for classif:  120\n",
      "Classification score 0.5890909090909091 (pvalue : 0.3086913086913087)\n",
      "--» processing CHAF elec 1 / 57 freq delta\n",
      "Size of the concatenated data:  (120, 1)\n",
      "Size of label for classif:  120\n",
      "Classification score 0.5290909090909091 (pvalue : 0.5464535464535465)\n",
      "--» processing CHAF elec 2 / 57 freq delta\n",
      "Size of the concatenated data:  (120, 1)\n",
      "Size of label for classif:  120\n",
      "Classification score 0.5872727272727273 (pvalue : 0.3386613386613387)\n",
      "--» processing CHAF elec 3 / 57 freq delta\n",
      "Size of the concatenated data:  (120, 1)\n",
      "Size of label for classif:  120\n",
      "Classification score 0.4663636363636364 (pvalue : 0.6443556443556444)\n",
      "--» processing CHAF elec 4 / 57 freq delta\n",
      "Size of the concatenated data:  (120, 1)\n",
      "Size of label for classif:  120\n"
     ]
    }
   ],
   "source": [
    "from sklearn.discriminant_analysis import LinearDiscriminantAnalysis as LDA\n",
    "from sklearn.model_selection import StratifiedKFold as SKFold\n",
    "from sklearn.model_selection import permutation_test_score\n",
    "from sklearn.metrics import roc_auc_score\n",
    "from numpy.random import permutation\n",
    "\n",
    "st = study('Olfacto')\n",
    "exp = 'Ret'#'Enc'\n",
    "conds, subjects = ['low','high'],['CHAF','VACJ','SEMC','LEFC','PIRJ','FERJ']\n",
    "# freqs = ['0_theta','1_alpha','2_beta','3_gamma']\n",
    "freqs = ['delta','theta', 'alpha', 'beta','low_gamma','high_gamma']\n",
    "path_pow = path.join(st.path, 'feature/TPSim_'+exp+'_By_Odor_By_Cond/TPS_by_cond/6freqs/')\n",
    "#path_pow = path.join(st.path, 'feature/TPSim_Enc_Ret_By_Odor_all/TPS_R_p_by_cond/TPS_R_p_by_cond/')\n",
    "filename = path.join(path_pow, 'TPS_spear_{}_cond_{}_{}_3s_zFisher.npz')\n",
    "save_path = path.join(st.path, 'classified/TPSim_classif_'+exp[0]+'_by_cond_6freqs_3s_zFisher/')\n",
    "#save_path = path.join(st.path, 'classified/Classif_TPSim_Enc_Ret_by_cond/')\n",
    "nperm = 1000\n",
    "\n",
    "for su in subjects:\n",
    "    for freq in freqs:\n",
    "        pow_list = []\n",
    "        #=========================== Load Power files (nfreq, nelec, nwin, ntrial) =================================    \n",
    "        mat0 = np.load(filename.format(su,conds[0],freq[:]),allow_pickle=True)\n",
    "        pow_list.append(mat0['tps'])\n",
    "        nelecs = mat0['tps'].shape[0]\n",
    "        mat1 = np.load(filename.format(su,conds[1],freq[:]),allow_pickle=True)\n",
    "        pow_list.append(mat1['tps'])\n",
    "        print (su,mat0.files, 'TPS shape: ', [pow.shape for pow in pow_list])\n",
    "        \n",
    "        #=========================== Create dict for all results =================================    \n",
    "        name_classif = (save_path+su +'_LDA_classif_'+freq+'_'+conds[0]+'_'+conds[1]+'_dissim.npz')\n",
    "        if not path.exists(name_classif):\n",
    "            kwargs = {}\n",
    "            kwargs['names'], kwargs['channels'] = mat0['label'], mat0['channel']\n",
    "            kwargs['xyz'] = mat0['xyz']\n",
    "\n",
    "            # =========================== Select Power for 1 elec 1 freq =================================                 \n",
    "            permut,auc = np.zeros((nelecs,nperm)),np.zeros((nelecs))\n",
    "            for elec_num in range(nelecs):\n",
    "                print('--» processing',su, 'elec', elec_num,'/',nelecs, 'freq',freq)\n",
    "                pow_data_elec = [power[elec_num][:,np.newaxis] for power in pow_list]\n",
    "\n",
    "                # create a data matrix, concatenate along the trial dimension\n",
    "                x = np.concatenate(pow_data_elec, axis=0)\n",
    "                print ('Size of the concatenated data: ', x.shape)\n",
    "                y = np.hstack([np.array([i]*len(power)) for i, power in enumerate(pow_data_elec)])\n",
    "                print ('Size of label for classif: ', len(y))\n",
    "\n",
    "                clf = LDA()\n",
    "                cv = SKFold(10)\n",
    "                score, permutation_scores, pvalue = permutation_test_score(\n",
    "                clf, x, y, scoring=\"roc_auc\", cv=cv, n_permutations=nperm, n_jobs=-1)\n",
    "                permut[elec_num] += permutation_scores\n",
    "                auc[elec_num] += score\n",
    "                print(\"Classification score %s (pvalue : %s)\" % (score, pvalue))\n",
    "\n",
    "            kwargs['perm'], kwargs['auc'] = permut, auc\n",
    "            #Save plots\n",
    "            if not path.exists(save_path):\n",
    "                makedirs(save_path)\n",
    "            np.savez(name_classif, **kwargs)\n",
    "            del x, y, pow_data_elec, permutation_scores, score\n",
    "        else:\n",
    "            print(name_classif, 'already computed')\n",
    "    del pow_list"
   ]
  },
  {
   "cell_type": "code",
   "execution_count": null,
   "metadata": {},
   "outputs": [],
   "source": []
  }
 ],
 "metadata": {
  "anaconda-cloud": {},
  "kernelspec": {
   "display_name": "Python 3",
   "language": "python",
   "name": "python3"
  },
  "language_info": {
   "codemirror_mode": {
    "name": "ipython",
    "version": 3
   },
   "file_extension": ".py",
   "mimetype": "text/x-python",
   "name": "python",
   "nbconvert_exporter": "python",
   "pygments_lexer": "ipython3",
   "version": "3.6.1"
  }
 },
 "nbformat": 4,
 "nbformat_minor": 2
}
