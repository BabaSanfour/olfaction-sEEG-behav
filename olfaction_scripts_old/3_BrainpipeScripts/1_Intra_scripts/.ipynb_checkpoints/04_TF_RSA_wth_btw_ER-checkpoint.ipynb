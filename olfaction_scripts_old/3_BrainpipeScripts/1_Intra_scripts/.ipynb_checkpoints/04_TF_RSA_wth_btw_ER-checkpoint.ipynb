{
 "cells": [
  {
   "cell_type": "markdown",
   "metadata": {},
   "source": [
    "### Compute RSA matrices by Odor btw encoding and retrieval\n",
    "TF from 0 to 2s post odor "
   ]
  },
  {
   "cell_type": "code",
   "execution_count": 30,
   "metadata": {},
   "outputs": [],
   "source": [
    "from RSA import _btw_rsa_twoconds\n",
    "import numpy as np\n",
    "from itertools import product\n",
    "from os.path import isfile, join, exists\n",
    "from brainpipe.system import study"
   ]
  },
  {
   "cell_type": "code",
   "execution_count": 32,
   "metadata": {},
   "outputs": [
    {
     "name": "stdout",
     "output_type": "stream",
     "text": [
      "-> Olfacto loaded\n",
      "(58, 51, 3) (58, 10, 51, 3)\n"
     ]
    },
    {
     "ename": "ZeroDivisionError",
     "evalue": "division by zero",
     "output_type": "error",
     "traceback": [
      "\u001b[0;31m---------------------------------------------------------------------------\u001b[0m",
      "\u001b[0;31mZeroDivisionError\u001b[0m                         Traceback (most recent call last)",
      "\u001b[0;32m<ipython-input-32-8a057dfae3b5>\u001b[0m in \u001b[0;36m<module>\u001b[0;34m()\u001b[0m\n\u001b[1;32m     41\u001b[0m                     \u001b[0mchannelsR_\u001b[0m\u001b[0;34m,\u001b[0m \u001b[0mxyzR_\u001b[0m\u001b[0;34m,\u001b[0m \u001b[0mdataR_\u001b[0m \u001b[0;34m=\u001b[0m \u001b[0mchannelsR\u001b[0m\u001b[0;34m[\u001b[0m\u001b[0mID_R\u001b[0m\u001b[0;34m]\u001b[0m\u001b[0;34m,\u001b[0m \u001b[0mxyzR\u001b[0m\u001b[0;34m[\u001b[0m\u001b[0mID_R\u001b[0m\u001b[0;34m]\u001b[0m\u001b[0;34m,\u001b[0m \u001b[0mdataR\u001b[0m\u001b[0;34m[\u001b[0m\u001b[0mID_R\u001b[0m\u001b[0;34m]\u001b[0m\u001b[0;34m\u001b[0m\u001b[0m\n\u001b[1;32m     42\u001b[0m                     \u001b[0mprint\u001b[0m\u001b[0;34m(\u001b[0m\u001b[0mdataE\u001b[0m\u001b[0;34m[\u001b[0m\u001b[0;34m:\u001b[0m\u001b[0;34m,\u001b[0m\u001b[0;36m0\u001b[0m\u001b[0;34m]\u001b[0m\u001b[0;34m.\u001b[0m\u001b[0mshape\u001b[0m\u001b[0;34m,\u001b[0m\u001b[0mdataR\u001b[0m\u001b[0;34m.\u001b[0m\u001b[0mshape\u001b[0m\u001b[0;34m)\u001b[0m\u001b[0;34m\u001b[0m\u001b[0m\n\u001b[0;32m---> 43\u001b[0;31m                     \u001b[0;36m0\u001b[0m\u001b[0;34m/\u001b[0m\u001b[0;36m0\u001b[0m\u001b[0;34m\u001b[0m\u001b[0m\n\u001b[0m\u001b[1;32m     44\u001b[0m                     \u001b[0;31m#COMPUTE AND SAVE RSA\u001b[0m\u001b[0;34m\u001b[0m\u001b[0;34m\u001b[0m\u001b[0m\n\u001b[1;32m     45\u001b[0m                     \u001b[0mrsa_mat\u001b[0m \u001b[0;34m=\u001b[0m \u001b[0mnp\u001b[0m\u001b[0;34m.\u001b[0m\u001b[0mzeros\u001b[0m\u001b[0;34m(\u001b[0m\u001b[0;34m(\u001b[0m\u001b[0mnelecs\u001b[0m\u001b[0;34m,\u001b[0m\u001b[0mnsamples\u001b[0m\u001b[0;34m,\u001b[0m\u001b[0mnsamples\u001b[0m\u001b[0;34m)\u001b[0m\u001b[0;34m)\u001b[0m\u001b[0;34m\u001b[0m\u001b[0m\n",
      "\u001b[0;31mZeroDivisionError\u001b[0m: division by zero"
     ]
    }
   ],
   "source": [
    "st = study('Olfacto')\n",
    "path_TF = join(st.path,'feature/1_TF_{}_single_trial_rsa_by_odor/')\n",
    "save_path = join(st.path,'feature/1_RSA_E_R_by_odor/')\n",
    "dataname = '{}_odor_{}_{}_TF.npz'\n",
    "\n",
    "rois_to_select = ['IFG','OFC','HC']\n",
    "su_odor_groups = {\n",
    "    'VACJ' : {'low':['11','14','12','10'],\n",
    "              'high':['15','17','16','13']},\n",
    "    'SEMC' : {'low':['7','10','11','12','13'],\n",
    "              'high':['5','8','9']},\n",
    "    'PIRJ' : {'low':['1','9','5'],\n",
    "              'high':['4','6','7','18']},\n",
    "    'LEFC' : {'low':['15','2','1','16'],\n",
    "              'high':['14','3','4','17']},\n",
    "    'FERJ' : {'low':['7','2','16','17'],\n",
    "              'high':['12','1','5','13']},}\n",
    "\n",
    "for su in su_odor_groups:\n",
    "    for cond in su_odor_groups[su]:\n",
    "        for od in su_odor_groups[su][cond]:\n",
    "            for roi in rois_to_select:\n",
    "                savename = save_path+su+'_'+cond+'_odor_'+od+'_'+roi+'_E_R_rsa.npz'\n",
    "                if not exists(savename):\n",
    "                    #load data from E and R\n",
    "                    matE = np.load(path_TF.format('E')+dataname.format(su,od,roi))\n",
    "                    channelsE, xyzE, dataE = matE['channels'], matE['xyz_sel'], matE['TF']\n",
    "                    matR = np.load(path_TF.format('R')+dataname.format(su,od,roi))\n",
    "                    channelsR, xyzR, dataR = matR['channels'], matR['xyz_sel'], matR['TF']\n",
    "                    \n",
    "                    #SELECT ONLY CORRESPONDING ELECTRODES\n",
    "                    high_l = channelsE if len(channelsE) >= len(channelsR) else channelsR\n",
    "                    low_l = channelsE if len(channelsE) < len(channelsR) else channelsR\n",
    "                    ids = [i for i in high_l if i in low_l]\n",
    "                    nelecs = len(ids)\n",
    "                    \n",
    "                    #PREPARE COMMON DATA FOR RSA\n",
    "                    ID_E = [i for i, el in enumerate(channelsE) if el in ids]\n",
    "                    ID_R = [i for i, el in enumerate(channelsR) if el in ids]\n",
    "                    channelsE_, xyzE_, dataE_ = channelsE[ID_E], xyzE[ID_E], dataE[ID_E]\n",
    "                    channelsR_, xyzR_, dataR_ = channelsR[ID_R], xyzR[ID_R], dataR[ID_R]                    \n",
    "\n",
    "                    #COMPUTE AND SAVE RSA\n",
    "                    rsa_mat = np.zeros((nelecs,nsamples,nsamples))\n",
    "                    for elec in range(nelecs):\n",
    "                        rsa = _btw_rsa_twoconds(dataE_[:,elec],dataR_[:,elec],\n",
    "                                                stat='pearson')\n",
    "                        \n",
    "                else :\n",
    "                    print('RSA already computed --> ',savename)\n",
    "    "
   ]
  },
  {
   "cell_type": "code",
   "execution_count": null,
   "metadata": {},
   "outputs": [],
   "source": []
  },
  {
   "cell_type": "code",
   "execution_count": null,
   "metadata": {},
   "outputs": [],
   "source": [
    "def rsa_by_chan(data,ch,n_chans):\n",
    "    start_time = time.time()\n",
    "    print('channel',ch,'/',n_chans)\n",
    "    rsa = within_rsa(data,stat='pearson')[np.newaxis]\n",
    "    elapsed_time = time.time() - start_time\n",
    "    print('elapsed time',elapsed_time/60)\n",
    "    print('rsa shape',rsa.shape)\n",
    "    return rsa\n",
    "\n",
    "#compute RSA by condition (no bootstrap, all trials included)\n",
    "for su,cond,task in product(subjects_perc,conds,tasks):\n",
    "    PATH_DATA = PATH_DISC if task == 'Discrimination_task' else PATH_PERC\n",
    "    filename = 'TF_files/'+su+'_'+cond+'_ML_epochs_TF.npz'\n",
    "    print('processing --> ',PATH_DATA+filename)\n",
    "    savename = filename.replace('ML_epochs_TF.npz','RSA.npz').replace('TF_files','rsa_by_cond')\n",
    "    \n",
    "        data = mat['TF'] # shape nfreqs, nchannels, npoints, ntrials\n",
    "        print('data shape', data.shape)\n",
    "        n_chans, nsamples = data.shape[1:-1]\n",
    "\n",
    "        rsa_tot = np.zeros((n_chans,nsamples,nsamples))        \n",
    "        parallel, rsa_by_chan, _ = parallel_func(rsa_by_chan, n_jobs=8)\n",
    "        rsa = parallel(rsa_by_chan(data[:,ch,:,:],ch,n_chans) for ch in range(n_chans))\n",
    "        rsa_tot = np.array(rsa)\n",
    "\n",
    "        #load all other information from the TF matrix and save\n",
    "        kwargs = {}\n",
    "        kwargs['baseline'] = mat['baseline']\n",
    "        kwargs['f'], kwargs['time'] = mat['f'], mat['time']\n",
    "        kwargs['time_step'], kwargs['ch_pos'] = mat['time_step'], mat['ch_pos']\n",
    "        kwargs['ch_names'] = mat['ch_names']\n",
    "        kwargs['rsa'] = rsa_tot\n",
    "        np.savez(PATH_DATA+savename,**kwargs)\n",
    "        del (kwargs, data, rsa_tot,rsa_by_chan)\n",
    "    else :\n",
    "        print('already computed --> ',PATH_DATA+filename)\n"
   ]
  }
 ],
 "metadata": {
  "kernelspec": {
   "display_name": "Python 3",
   "language": "python",
   "name": "python3"
  },
  "language_info": {
   "codemirror_mode": {
    "name": "ipython",
    "version": 3
   },
   "file_extension": ".py",
   "mimetype": "text/x-python",
   "name": "python",
   "nbconvert_exporter": "python",
   "pygments_lexer": "ipython3",
   "version": "3.6.1"
  }
 },
 "nbformat": 4,
 "nbformat_minor": 2
}
