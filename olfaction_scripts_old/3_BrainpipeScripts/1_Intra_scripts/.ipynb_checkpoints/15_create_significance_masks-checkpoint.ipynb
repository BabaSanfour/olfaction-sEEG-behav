{
 "cells": [
  {
   "cell_type": "markdown",
   "metadata": {},
   "source": [
    "### 1- Create stats masks - Electrodes to be plotted\n",
    "    Elec that reach the threshold in time (min sig)"
   ]
  },
  {
   "cell_type": "code",
   "execution_count": 1,
   "metadata": {
    "scrolled": true
   },
   "outputs": [
    {
     "name": "stdout",
     "output_type": "stream",
     "text": [
      "-> Olfacto loaded\n",
      "['s_elec_pow1', 's_labels', 's_xyz', 's_elec', 'su_codes', 's_perm', 's_elec_pow0', 's_da'] ['SFG' 'SFG' 'SFG' 'SFG' 'SFG' 'SFG' 'SFG' 'SFG' 'SFG' 'SFG']\n",
      "subjects ['S0' 'S1' 'S2' 'S3' 'S4' 'S5']\n",
      "perm max size [0.60833333333333339, 0.64654040404040392, 0.56232600732600735, 0.63901515151515154, 0.51807017543859657, 0.68095238095238098]\n"
     ]
    }
   ],
   "source": [
    "from brainpipe.system import study\n",
    "from os import listdir, makedirs\n",
    "from os.path import isfile, join, exists\n",
    "from brainpipe.statistics import *\n",
    "import numpy as np\n",
    "from itertools import product\n",
    "\n",
    "phase = 'odor'\n",
    "conds = ['low','high']\n",
    "###############################################################################\n",
    "st = study('Olfacto')\n",
    "path_npz = join(st.path, 'figure/LDA_TPSim_E_R_all_BBG/')\n",
    "path_to_save = join(path_npz, 'masks_stat/')\n",
    "f_form = '{}_sources_{}_{}_'+conds[0]+'_'+conds[1]+'_sel_physFT.npz'\n",
    "f_form = join(path_npz, f_form)\n",
    "f_save = '{}_mask_stat_{}_minwin{}_th{}.npy'\n",
    "f_save = join(path_to_save,f_save)\n",
    "###############################################################################\n",
    "if not exists(path_to_save):\n",
    "    makedirs(path_to_save)\n",
    "###############################################################################  \n",
    "#freqs = ['2_theta', '3_alpha','4_beta','5_gamma1','6_gamma2']\n",
    "freqs = ['0_theta', '1_alpha','2_beta','3_gamma']\n",
    "th = 0.01\n",
    "n_perms = 1000\n",
    "min_win = 1.\n",
    "\n",
    "rois_to_keep = ['ACC','Amg','Amg-PirT','HC','IFG','Ins','MFG','OFC','PHG',\n",
    "                'SFG','pPirT']\n",
    "\n",
    "#Define parameters\n",
    "mat = np.load(f_form.format('All_subjects','0_theta',phase))\n",
    "print(mat.files,mat['s_labels'][:10])\n",
    "idx_rois = np.where([roi in rois_to_keep for roi in mat['s_labels']])\n",
    "s_su = mat['su_codes'][idx_rois]\n",
    "subjects = np.unique(s_su)\n",
    "print('subjects',subjects)\n",
    "\n",
    "#Find threshold by subject\n",
    "th_by_su = []\n",
    "for su in subjects:\n",
    "    th_su = []\n",
    "    for freq in freqs:\n",
    "        mat = np.load(f_form.format('All_subjects',freq,phase))\n",
    "        id_su = np.where(mat['su_codes'][idx_rois]==su)\n",
    "        s_perm = mat['s_perm'][idx_rois][id_su]\n",
    "        th_elecs = []\n",
    "        for elec in range(s_perm.shape[0]):\n",
    "            #print(s_perm.shape, s_perm[elec].shape, s_perm[elec].size)\n",
    "            if s_perm[elec].size > n_perms:\n",
    "                perm = s_perm[elec]#[:,10:30]\n",
    "            else:\n",
    "                perm = s_perm[elec][:,np.newaxis]\n",
    "            th_perm = perm_pvalue2level(perm, p=th, maxst=True)[0]\n",
    "            th_elecs.append(th_perm)\n",
    "        th_su.append(max(th_elecs))\n",
    "    max_su = max(th_su)\n",
    "    th_by_su.append(max_su)\n",
    "print('perm max size',th_by_su)"
   ]
  },
  {
   "cell_type": "code",
   "execution_count": 2,
   "metadata": {
    "scrolled": true
   },
   "outputs": [
    {
     "name": "stdout",
     "output_type": "stream",
     "text": [
      "0_theta 278 23 Counter({'HC': 6, 'IFG': 4, 'SFG': 3, 'OFC': 2, 'ACC': 2, 'MFG': 2, 'Amg': 1, 'pPirT': 1, 'PHG': 1, 'Amg-PirT': 1})\n",
      "1_alpha 278 19 Counter({'HC': 6, 'OFC': 5, 'SFG': 3, 'Ins': 2, 'MFG': 2, 'IFG': 1})\n",
      "2_beta 278 32 Counter({'HC': 9, 'OFC': 6, 'SFG': 5, 'MFG': 5, 'ACC': 2, 'IFG': 2, 'Ins': 1, 'PHG': 1, 'Amg': 1})\n",
      "3_gamma 278 31 Counter({'HC': 7, 'OFC': 6, 'MFG': 4, 'ACC': 3, 'PHG': 3, 'IFG': 3, 'Ins': 2, 'SFG': 2, 'pPirT': 1})\n"
     ]
    }
   ],
   "source": [
    "from collections import Counter\n",
    "# Create masks for a specific perm threshold\n",
    "for freq in freqs:\n",
    "    mat = np.load(f_form.format('All_subjects',freq,phase))    \n",
    "    mask_f, labels = np.array([]),[]\n",
    "    for i,su in enumerate(subjects):\n",
    "        id_su = np.where(mat['su_codes'][idx_rois]==su)\n",
    "        #print('before select ROIs',mat['s_da'].shape, np.size(mat['s_da'][1]))\n",
    "        if np.size(mat['s_da'][1]) > 1:\n",
    "            s_da = mat['s_da'][idx_rois][id_su][:,10:30]\n",
    "        else:\n",
    "            s_da = mat['s_da'][idx_rois][id_su][:,np.newaxis]\n",
    "        #print('after select ROIs',s_da.shape)\n",
    "        s_labels = mat['s_labels'][idx_rois][id_su]\n",
    "        #print('elecs sel',s_labels.shape)\n",
    "        n_elecs, npts = s_da.shape\n",
    "        mask_su = []\n",
    "        for elec in range(n_elecs):\n",
    "            da_elec = s_da[elec]\n",
    "            label = s_labels[elec]\n",
    "            pvals = np.array([])\n",
    "            for t in range(npts):\n",
    "                if da_elec[t] > th_by_su[i]:\n",
    "                    pval = 1\n",
    "                    labels.append(label)\n",
    "                if da_elec[t] <= th_by_su[i]:\n",
    "                    pval = 0\n",
    "                pvals = np.hstack((pvals,pval)) if np.size(pvals) else pval\n",
    "            underp = np.where(pvals == 1)[0]\n",
    "            pvsplit = np.split(underp, np.where(np.diff(underp) != 1)[0]+1)\n",
    "            signif = [True for k in pvsplit if len(k) >= min_win]\n",
    "            if len(signif) >=1:\n",
    "                remove = False\n",
    "            else:\n",
    "                remove = True\n",
    "            mask_su.append(remove)\n",
    "        mask_f = np.hstack((mask_f, mask_su)) if np.size(mask_f) else mask_su\n",
    "    print(freq, len(mask_f),len(np.where(mask_f == False)[0]),Counter(labels))\n",
    "    np.save(f_save.format('All_subjects',freq,min_win,th,'freqs'),mask_f)"
   ]
  }
 ],
 "metadata": {
  "anaconda-cloud": {},
  "kernelspec": {
   "display_name": "Python [conda root]",
   "language": "python",
   "name": "conda-root-py"
  },
  "language_info": {
   "codemirror_mode": {
    "name": "ipython",
    "version": 3
   },
   "file_extension": ".py",
   "mimetype": "text/x-python",
   "name": "python",
   "nbconvert_exporter": "python",
   "pygments_lexer": "ipython3",
   "version": "3.5.5"
  }
 },
 "nbformat": 4,
 "nbformat_minor": 2
}
