{
 "cells": [
  {
   "cell_type": "markdown",
   "metadata": {},
   "source": [
    "### Create a df to sum up all results from all classif\n",
    "    0-Good/Bad 1-Poor/Partial 2-Partial/Detailed 3-Poor/Detailed"
   ]
  },
  {
   "cell_type": "code",
   "execution_count": null,
   "metadata": {
    "collapsed": true
   },
   "outputs": [],
   "source": [
    "from os import listdir, makedirs\n",
    "from os.path import isfile, join, exists\n",
    "import pandas as pd\n",
    "import numpy as np\n",
    "from itertools import product\n",
    "\n",
    "conds = {'0':['good','bad'],'1':['poor','partial'],'2':['partial','detailed'],\n",
    "         '3':['poor','detailed']}\n",
    "\n",
    "for cond in conds:\n",
    "    ###############################################################################\n",
    "    path = r'/media/karim/Datas4To/1_Analyses_Intra_EM_Odor/Olfacto/'\n",
    "    path_npz = join(path, 'figures_npz/0_'+conds[cond][0]+'_'+conds[cond][1]+'_4500_expi_noart/')\n",
    "    path_mask = join(path_npz, 'masks_visbrain/')\n",
    "    path_to_save = join(path, 'Bilan_classif/0_all_elecs/')\n",
    "    npz_form = join(path_npz,'{}_sources_{}_odor_'+conds[cond][0]+'_'+conds[cond][1]+'_Expi_sel_phys_{}.npz')\n",
    "    masks_vis_form = join(path_mask, '{}_mask_min{}_{}_minwin{}_th{}.npy')\n",
    "    ###############################################################################\n",
    "    if not exists(path_to_save):\n",
    "        makedirs(path_to_save)\n",
    "    ###############################################################################\n",
    "\n",
    "    freqs = ['0_VLFC','1_delta','2_theta', '3_alpha','4_beta','5_gamma1','6_gamma2']\n",
    "\n",
    "    for freq in freqs:\n",
    "        #Load all data for one classif one freq\n",
    "        arch_sig = np.load(npz_form.format('All_subjects',freq, 'None'))\n",
    "        #Create a df with all electrodes info\n",
    "        features = ['su_codes','s_elec','s_channels','s_labels','s_aal_RL','s_BA']\n",
    "        df_elec = np.array([])\n",
    "        for f in features:\n",
    "            data = arch_sig[f]\n",
    "            df_elec = np.vstack((df_elec,data)) if np.size(df_elec) else data\n",
    "        xyz = arch_sig['s_xyz']\n",
    "        x,y,z = xyz[:,0],xyz[:,1],xyz[:,2]\n",
    "        df_elec = np.vstack((df_elec,x,y,z))\n",
    "        df0 = pd.DataFrame(data=df_elec.T, columns=features+['x','y','z'])\n",
    "        #Select max values for power and AUC scores and create Time array\n",
    "        da = arch_sig['s_da'][:,:39]\n",
    "        pow0_max, pow1_max, idx_max, da_max = np.array([]), np.array([]), np.array([]), np.array([])\n",
    "        for elec in range(da.shape[0]):\n",
    "            print('shape da',da.shape)\n",
    "            idx = [i for i,j in enumerate(da[elec]) if j == max(da[elec])]\n",
    "            if len(idx) != 1:\n",
    "                idx = [idx[0]]\n",
    "            print('index',idx)\n",
    "            pow0, pow1 = arch_sig['s_elec_pow0'][elec][idx], arch_sig['s_elec_pow1'][elec][idx]\n",
    "            da_elec = da[elec][idx]\n",
    "            pow0_max = np.hstack((pow0_max,pow0)) if np.size(pow0_max) else pow0\n",
    "            pow1_max = np.hstack((pow1_max,pow1)) if np.size(pow1_max) else pow1\n",
    "            idx_max = np.hstack((idx_max,idx)) if np.size(idx_max) else idx\n",
    "            da_max = np.hstack((da_max, da_elec)) if np.size(da_max) else da_elec\n",
    "        df_data = np.concatenate((pow0_max[:,np.newaxis],pow1_max[:,np.newaxis],da_max[:,np.newaxis],idx_max[:,np.newaxis]),axis=1)\n",
    "        df1 = pd.DataFrame(data=df_data, columns=['pow0','pow1','da','idx'])\n",
    "        df_all = pd.concat((df0,df1),axis=1)\n",
    "        df_name = cond+'_Classif_'+conds[cond][0]+'_'+conds[cond][1]+'_'+freq+'_all_elecs.csv'\n",
    "        df_all.to_csv(path_to_save+df_name)"
   ]
  },
  {
   "cell_type": "markdown",
   "metadata": {},
   "source": [
    "### Mask significant results as function of time of the effect (wins)\n",
    "    statistics p < 0.05 corrected over electrodes and time"
   ]
  },
  {
   "cell_type": "code",
   "execution_count": null,
   "metadata": {
    "collapsed": true
   },
   "outputs": [],
   "source": [
    "from os import listdir, makedirs\n",
    "from os.path import isfile, join, exists\n",
    "import pandas as pd\n",
    "import numpy as np\n",
    "from itertools import product\n",
    "###############################################################################################\n",
    "path = r'/media/karim/Datas4To/1_Analyses_Intra_EM_Odor/Olfacto/'\n",
    "path_df = join(path, 'Bilan_classif/0_all_elecs/')\n",
    "path2save = join(path,'Bilan_classif/1_signif_elecs_wins/')\n",
    "###############################################################################################\n",
    "if not exists(path2save):\n",
    "    makedirs(path2save)\n",
    "##############################################################################################\n",
    "conds = {'0':['good','bad'],'1':['poor','partial'],'2':['partial','detailed'],\n",
    "         '3':['poor','detailed']}\n",
    "freqs = ['0_VLFC','1_delta','2_theta', '3_alpha','4_beta','5_gamma1','6_gamma2']\n",
    "bsls,wins,ths = ['None'], [3,4,5], ['05']\n",
    "\n",
    "for cond, freq, bsl, th in product(conds, freqs,bsls,ths):\n",
    "    df = pd.read_csv(path_df+cond+'_Classif_'+conds[cond][0]+'_'+conds[cond][1]+'_'+freq+'_all_elecs.csv')\n",
    "    path_mask = join(path,'figures_npz/'+'0_'+conds[cond][0]+'_'+conds[cond][1]+'_4500_expi_noart/masks_stat/')\n",
    "    for i,win in enumerate(wins):\n",
    "        #load data to plot and mask\n",
    "        mask = np.load(path_mask+'All_subjects_mask_stat_'+freq+'_minwin'+str(win)+'_th'+th+'.npy')[:,np.newaxis]\n",
    "        mask = np.repeat(mask,df.shape[1],axis=1)\n",
    "        if mask.dtype == bool:\n",
    "            df_sel = df.mask(mask).dropna()\n",
    "            df_name = cond+'_Classif_'+conds[cond][0]+'_'+conds[cond][1]+'_'+freq+'_win'+str(win)+'.csv'\n",
    "            df_sel.to_csv(path2save+df_name)"
   ]
  },
  {
   "cell_type": "markdown",
   "metadata": {},
   "source": [
    "### Mask significant results as function of time and nb of patients\n",
    "    statistics p < 0.05 corrected over electrodes and time\n"
   ]
  },
  {
   "cell_type": "code",
   "execution_count": null,
   "metadata": {
    "collapsed": true
   },
   "outputs": [],
   "source": [
    "from os import listdir, makedirs\n",
    "from os.path import isfile, join, exists\n",
    "import pandas as pd\n",
    "import numpy as np\n",
    "from itertools import product\n",
    "###############################################################################################\n",
    "path = r'/media/karim/Datas4To/1_Analyses_Intra_EM_Odor/Olfacto/'\n",
    "path_df = join(path, 'Bilan_classif/1_signif_elecs_wins/')\n",
    "path2save = join(path,'Bilan_classif/2_signif_elecs_patients/')\n",
    "###############################################################################################\n",
    "if not exists(path2save):\n",
    "    makedirs(path2save)\n",
    "##############################################################################################\n",
    "conds = {'0':['good','bad'],'1':['poor','partial'],'2':['partial','detailed'],\n",
    "         '3':['poor','detailed']}\n",
    "freqs = ['0_VLFC','1_delta','2_theta', '3_alpha','4_beta','5_gamma1','6_gamma2']\n",
    "bsls,wins,ths = ['None'], [3,4,5], ['05']\n",
    "\n",
    "df3, df4, df5 = None, None, None\n",
    "for cond, freq, bsl, th, win in product(conds, freqs,bsls,ths,wins):\n",
    "    print('processing on', conds[cond], win, freq)\n",
    "    df = pd.read_csv(path_df+cond+'_Classif_'+conds[cond][0]+'_'+conds[cond][1]+'_'+freq+'_win'+str(win)+'.csv')\n",
    "    df = df.drop(['Unnamed: 0.1'], axis=1)\n",
    "    df = df.rename(index=str,columns={'Unnamed: 0':'old_idx'})\n",
    "    print(df.shape)\n",
    "    \n",
    "    #count and select regions with enough patients\n",
    "    count = df.groupby(['s_aal_RL']).nunique()\n",
    "    count = count['su_codes']\n",
    "    rois_sig3, rois_sig4, rois_sig5 = [], [], []\n",
    "    for i,row in count.iteritems():\n",
    "        #print('how many patients',row, 'for roi', i)\n",
    "        if row >=3:\n",
    "            rois_sig3.append(i)\n",
    "        if row >=4:\n",
    "            rois_sig4.append(i)\n",
    "        if row >=5:\n",
    "            rois_sig5.append(i)\n",
    "    print(rois_sig3,rois_sig4,rois_sig5)\n",
    "    \n",
    "    # select data only in selected regions \n",
    "    df3 = df[df['s_aal_RL'].isin(rois_sig3)] if rois_sig3 else print('No rois3')\n",
    "    df4 = df[df['s_aal_RL'].isin(rois_sig4)] if rois_sig4 else print('No rois4')\n",
    "    df5 = df[df['s_aal_RL'].isin(rois_sig5)] if rois_sig5 else print('No rois5')\n",
    "    # save data for selected regions\n",
    "    df3_name = cond+'_Classif_'+conds[cond][0]+'_'+conds[cond][1]+'_'+freq+'_win'+str(win)+'_patients3.csv'\n",
    "    df4_name = cond+'_Classif_'+conds[cond][0]+'_'+conds[cond][1]+'_'+freq+'_win'+str(win)+'_patients4.csv'\n",
    "    df5_name = cond+'_Classif_'+conds[cond][0]+'_'+conds[cond][1]+'_'+freq+'_win'+str(win)+'_patients5.csv'\n",
    "    df3.to_csv(path2save+df3_name) if df3 is not None else print('no df3 saved')\n",
    "    df4.to_csv(path2save+df4_name) if df4 is not None else print('no df4 saved')\n",
    "    df5.to_csv(path2save+df5_name) if df5 is not None else print('no df5 saved')"
   ]
  }
 ],
 "metadata": {
  "anaconda-cloud": {},
  "kernelspec": {
   "display_name": "Python [conda root]",
   "language": "python",
   "name": "conda-root-py"
  },
  "language_info": {
   "codemirror_mode": {
    "name": "ipython",
    "version": 3
   },
   "file_extension": ".py",
   "mimetype": "text/x-python",
   "name": "python",
   "nbconvert_exporter": "python",
   "pygments_lexer": "ipython3",
   "version": "3.5.5"
  }
 },
 "nbformat": 4,
 "nbformat_minor": 1
}
