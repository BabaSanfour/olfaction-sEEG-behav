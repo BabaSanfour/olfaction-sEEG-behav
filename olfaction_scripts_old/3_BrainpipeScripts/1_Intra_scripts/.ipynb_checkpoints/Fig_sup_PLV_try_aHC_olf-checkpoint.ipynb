{
 "cells": [
  {
   "cell_type": "code",
   "execution_count": 12,
   "metadata": {},
   "outputs": [],
   "source": [
    "import numpy as np\n",
    "from os.path import join\n",
    "from itertools import product\n",
    "\n",
    "from brainpipe.system import study\n",
    "from brainpipe.feature import PLV\n",
    "\n",
    "from utils import subjects"
   ]
  },
  {
   "cell_type": "code",
   "execution_count": 21,
   "metadata": {
    "collapsed": true
   },
   "outputs": [
    {
     "name": "stdout",
     "output_type": "stream",
     "text": [
      "-> Olfacto loaded\n",
      "['labels', 'x', 'aal', 'xyz', 'channels', 'sf', 'Mai', 'BA', 'Mai_RL']\n",
      "['labels', 'x', 'aal', 'xyz', 'channels', 'sf', 'Mai', 'BA', 'Mai_RL']\n",
      "['labels', 'x', 'aal', 'xyz', 'channels', 'sf', 'Mai', 'BA', 'Mai_RL']\n",
      "['labels', 'x', 'aal', 'xyz', 'channels', 'sf', 'Mai', 'BA', 'Mai_RL']\n",
      "['labels', 'x', 'aal', 'xyz', 'channels', 'sf', 'Mai', 'BA', 'Mai_RL']\n",
      "['labels', 'x', 'aal', 'xyz', 'channels', 'sf', 'Mai', 'BA', 'Mai_RL']\n",
      ">> processing LEFC 8 elecs in aHC & 5 elecs in OFC_olf\n",
      "['labels', 'x', 'aal', 'xyz', 'channels', 'sf', 'Mai', 'BA', 'Mai_RL']\n",
      "['labels', 'x', 'aal', 'xyz', 'channels', 'sf', 'Mai', 'BA', 'Mai_RL']\n",
      "['labels', 'x', 'aal', 'xyz', 'channels', 'sf', 'Mai', 'BA', 'Mai_RL']\n",
      "['labels', 'x', 'aal', 'xyz', 'channels', 'sf', 'Mai', 'BA', 'Mai_RL']\n",
      "['labels', 'x', 'aal', 'xyz', 'channels', 'sf', 'Mai', 'BA', 'Mai_RL']\n",
      "['labels', 'x', 'aal', 'xyz', 'channels', 'sf', 'Mai', 'BA', 'Mai_RL']\n",
      ">> processing SEMC 5 elecs in aHC & 3 elecs in OFC_olf\n",
      "['labels', 'x', 'aal', 'xyz', 'channels', 'sf', 'Mai', 'BA', 'Mai_RL']\n",
      "['labels', 'x', 'aal', 'xyz', 'channels', 'sf', 'Mai', 'BA', 'Mai_RL']\n",
      "['labels', 'x', 'aal', 'xyz', 'channels', 'sf', 'Mai', 'BA', 'Mai_RL']\n",
      ">> processing VACJ 8 elecs in aHC & 4 elecs in OFC_olf\n",
      "['labels', 'x', 'aal', 'xyz', 'channels', 'sf', 'Mai', 'BA', 'Mai_RL']\n",
      "['labels', 'x', 'aal', 'xyz', 'channels', 'sf', 'Mai', 'BA', 'Mai_RL']\n",
      "['labels', 'x', 'aal', 'xyz', 'channels', 'sf', 'Mai', 'BA', 'Mai_RL']\n",
      ">> processing PIRJ 7 elecs in aHC & 4 elecs in OFC_olf\n"
     ]
    }
   ],
   "source": [
    "\"\"\"\n",
    "Compute PLV btw HC and OFC in patients with both ROIs\n",
    ">>> Try all frequency bands [theta to gamma]\n",
    "\"\"\"\n",
    "\n",
    "st = study('Olfacto')\n",
    "path_data = join(st.path, 'database/Encoding_By_Cond_v=1_elecs=all/2conds/')\n",
    "filename = join(path_data, '{}_odor_{}_E.npz')\n",
    "save_path = join(st.path, 'feature/PLV_all_freqs_Encoding_v=1_elecs=all/')\n",
    "savename = join(save_path, '{}_plv_conds=all_elecs=OFC_aHC.npz')\n",
    "conds = ['low','mid','high'] #to be concatenated\n",
    "\n",
    "# Parameters for the PLV\n",
    "f = [[3,7],[7,13],[13,30],[30,60],[60,120]] \n",
    "fname = ['theta','alpha','beta','gamma_low','gamma_high'] \n",
    "n_perm = 100\n",
    "sf = 512\n",
    "method = 'hilbert'\n",
    "to_take = [1024,2560] #[-1;+2s]\n",
    "\n",
    "for su in subjects:\n",
    "    \n",
    "    #concatenate all conds on trial dimension\n",
    "    all_data = np.array([])\n",
    "    for cond in conds:\n",
    "        mat = np.load(filename.format(su,cond),allow_pickle=True)\n",
    "        all_data = np.concatenate((all_data,mat['x']),axis=-1) if np.size(all_data) else mat['x']\n",
    "\n",
    "    #select only subjects with HC and OFC electrodes\n",
    "    log_su = [1 if all(i in mat['Mai_RL'] for i in ['aHC','OFC_olf']) else 0]\n",
    "    if log_su == [1]:\n",
    "        idx_HC = [i for i,lab in enumerate(mat['Mai_RL']) if lab == 'aHC']\n",
    "        idx_OFC = [i for i,lab in enumerate(mat['Mai_RL']) if lab == 'OFC_olf']\n",
    "        print('>> processing', su, len(idx_HC),'elecs in aHC &',\n",
    "                len(idx_OFC), 'elecs in OFC_olf')\n",
    "                \n",
    "        #compute PLV metrics between aHC and OFC electrodes\n",
    "        data_e1 = all_data[idx_HC,to_take[0]:to_take[1],:]\n",
    "        data_e2 = all_data[idx_OFC,to_take[0]:to_take[1],:]\n",
    "        def_plv = PLV(sf=sf, npts=to_take[1]-to_take[0], f=f, method=method, cycle=3)\n",
    "        \n",
    "        dico_plv = {}\n",
    "        dico_plv['plv'], dico_plv['p'] = def_plv.get(data_e1,data_e2,n_perm = n_perm)\n",
    "        \n",
    "        for c in ['xyz','channels','Mai_RL']:\n",
    "            dico_plv[c] = mat[c]\n",
    "        np.savez(savename.format(su),**dico_plv)"
   ]
  },
  {
   "cell_type": "code",
   "execution_count": 77,
   "metadata": {},
   "outputs": [
    {
     "name": "stdout",
     "output_type": "stream",
     "text": [
      "-> Olfacto loaded\n"
     ]
    },
    {
     "name": "stderr",
     "output_type": "stream",
     "text": [
      "/home/karim/anaconda3/envs/mne_coreg/lib/python3.6/site-packages/brainpipe-0.1.8-py3.6.egg/brainpipe/visu/cmon_plt.py:413: MatplotlibDeprecationWarning: \n",
      "The get_clim function was deprecated in Matplotlib 3.1 and will be removed in 3.3. Use ScalarMappable.get_clim instead.\n",
      "  clim = im.colorbar.get_clim()\n"
     ]
    }
   ],
   "source": [
    "\"\"\"\n",
    "Plot PLV values (nfreqs, nelecs1, nelecs2, npts)\n",
    "\"\"\"\n",
    "import matplotlib.pyplot as plt\n",
    "from brainpipe.visual import addLines\n",
    "\n",
    "st = study('Olfacto')\n",
    "data_path = join(st.path, 'feature/PLV_all_freqs_Encoding_v=1_elecs=all/')\n",
    "filename = join(data_path, '{}_plv_conds=all_elecs=OFC_aHC.npz')\n",
    "savename = join(data_path, '{}_{}_OFC={}_aHC=all_conds=all.png')\n",
    "\n",
    "subjects = ['LEFC','PIRJ','SEMC','VACJ']\n",
    "\n",
    "for su in subjects:\n",
    "    mat = np.load(filename.format(su))\n",
    "    plv = mat['plv']\n",
    "    nfreqs, nelecs1, nelecs2, npts = plv.shape\n",
    "    \n",
    "    for freq in range(1):\n",
    "        for elec in range(nelecs2): #OFC electrodes\n",
    "            plv_plot = plv[freq,:,elec,:]\n",
    "            time = np.arange(-1,2,1/512)\n",
    "            \n",
    "            #mask data not significant \n",
    "            pval = mat['p'][freq,:,elec,:]\n",
    "            mask = pval.copy()\n",
    "            sig_idx = mask < 0.05\n",
    "            mask[sig_idx] = 1\n",
    "            mask[np.invert(sig_idx)] = 0.6 #control for mask opcapity\n",
    "            \n",
    "            #plot PLV values\n",
    "            title = su+' PLV between OFC and aHC in elec('+str(elec)+')'\n",
    "            plvObj = PLV(sf=sf, npts=npts, f=f, method=method, cycle=3)\n",
    "            plvObj.plot2D(plt.figure(figsize=(6,5)), plv_plot, cmap='viridis',\n",
    "                          xvec=time, yvec=np.arange(1,nelecs1+2), xlabel='Time (s)',\n",
    "                          ylabel='Electrodes', title=title,mask=mask,pltype='imshow',\n",
    "                          cblabel='Phase Locking Value (PLV)',resample=(0,0))         \n",
    "            addLines(plt.gca(), vLines=[0], vColor=['black'], vWidth=[2])\n",
    "            \n",
    "            plt.savefig(savename.format(freq,su,str(elec)))\n",
    "            plt.clf()\n",
    "            plt.close()"
   ]
  },
  {
   "cell_type": "code",
   "execution_count": null,
   "metadata": {},
   "outputs": [],
   "source": [
    "\"\"\"\n",
    "Plot PLV by FREQ with stats (nfreqs, nelecs1, nelecs2, npts)\n",
    "\"\"\"\n",
    "import matplotlib.pyplot as plt\n",
    "from brainpipe.visual import addLines\n",
    "\n",
    "st = study('Olfacto')\n",
    "data_path = join(st.path, 'feature/PLV_all_freqs_Encoding_v=1_elecs=all/')\n",
    "filename = join(data_path, '{}_plv_conds=all_elecs=OFC_aHC.npz')\n",
    "savename = join(data_path, 'Freqs=all_{}_{}_OFC={}_aHC=all_conds=all.png')\n",
    "\n",
    "subjects = ['LEFC','PIRJ','SEMC','VACJ']\n",
    "\n",
    "for su in subjects:\n",
    "    mat = np.load(filename.format(su))\n",
    "    plv = mat['plv']\n",
    "    nfreqs, _, _, _ = plv.shape\n",
    "    \n",
    "    mean_plv, max_plv, min_pval = [], [], []\n",
    "    for freq in range(nfreqs):\n",
    "        mean_plv_freq = np.mean(plv[freq,:,:,:])\n",
    "        max_plv_freq = np.max(np.mean(plv[freq,:,:,:],axis=(0,1)))\n",
    "        p_min = np.min(np.mean(mat['p'][freq,:,:,:],axis=(0,1)))\n",
    "        \n",
    "        mean_plv.append(mean_plv_freq), max_plv.append(max_plv_freq)\n",
    "        min_pval.append(p_min)\n",
    "    \n",
    "    #Plot average data by subjects\n",
    "    title = su+' PLV between OFC and aHC ALL elecs ALL freqs'\n",
    "    plt.subplots()\n",
    "    \n",
    "    #pvalues corrected for multiple comparisons (0.05/5=0.01)\n",
    "    "
   ]
  }
 ],
 "metadata": {
  "kernelspec": {
   "display_name": "Python 3",
   "language": "python",
   "name": "python3"
  },
  "language_info": {
   "codemirror_mode": {
    "name": "ipython",
    "version": 3
   },
   "file_extension": ".py",
   "mimetype": "text/x-python",
   "name": "python",
   "nbconvert_exporter": "python",
   "pygments_lexer": "ipython3",
   "version": "3.6.1"
  }
 },
 "nbformat": 4,
 "nbformat_minor": 2
}
