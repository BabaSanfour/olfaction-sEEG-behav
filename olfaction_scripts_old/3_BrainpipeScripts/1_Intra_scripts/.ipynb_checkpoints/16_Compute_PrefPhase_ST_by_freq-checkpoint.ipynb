{
 "cells": [
  {
   "cell_type": "code",
   "execution_count": 1,
   "metadata": {
    "collapsed": false
   },
   "outputs": [],
   "source": [
    "from os import path\n",
    "import numpy as np\n",
    "import matplotlib.pyplot as plt\n",
    "\n",
    "from itertools import product\n",
    "from tensorpac import Pac\n",
    "\n",
    "from brainpipe.system import study\n",
    "from brainpipe.feature import pfdphase\n",
    "from brainpipe.visual import *\n",
    "from brainpipe.feat.utils._feat import _manageWindow\n",
    "\n",
    "plt.style.use('seaborn-poster')"
   ]
  },
  {
   "cell_type": "markdown",
   "metadata": {},
   "source": [
    "### Compute and Plot PAC values \n",
    "    Low frequency phases and large broad band gamma amplitude"
   ]
  },
  {
   "cell_type": "code",
   "execution_count": 2,
   "metadata": {
    "collapsed": false
   },
   "outputs": [
    {
     "name": "stdout",
     "output_type": "stream",
     "text": [
      "-> Olfacto loaded\n"
     ]
    }
   ],
   "source": [
    "st = study('Olfacto')\n",
    "Test = False\n",
    "if Test == True:\n",
    "    subjects = ['FERJ']\n",
    "    conds = {'subj':('LowHigh',['low','high'])}\n",
    "else:\n",
    "    subjects = ['FERJ','MICP','VACJ','SEMC','LEFC','PIRJ','CHAF']\n",
    "    conds = {'subj':('LowHigh',['low','high'])}"
   ]
  },
  {
   "cell_type": "code",
   "execution_count": 3,
   "metadata": {
    "collapsed": false,
    "scrolled": true
   },
   "outputs": [
    {
     "name": "stdout",
     "output_type": "stream",
     "text": [
      "FERJ_odor_low_bipo_sel_physFT_prefpha.npz  already computed\n",
      "['x', 'Mai_RL', 'labels', 'BA', 'xyz', 'aal', 'sf', 'channels', 'Mai']\n",
      "--> compute pac on :  FERJ_odor_high_bipo_sel_physFT.npz data (85, 3584, 14) npts 3584 ntrials 14 nelec 85\n",
      "['x', 'Mai_RL', 'labels', 'BA', 'xyz', 'aal', 'sf', 'channels', 'Mai']\n",
      "--> compute pac on :  MICP_odor_low_bipo_sel_physFT.npz data (62, 3584, 20) npts 3584 ntrials 20 nelec 62\n",
      "['x', 'Mai_RL', 'labels', 'BA', 'xyz', 'aal', 'sf', 'channels', 'Mai']\n",
      "--> compute pac on :  MICP_odor_high_bipo_sel_physFT.npz data (62, 3584, 54) npts 3584 ntrials 54 nelec 62\n",
      "['x', 'Mai_RL', 'labels', 'BA', 'xyz', 'aal', 'sf', 'channels', 'Mai']\n",
      "--> compute pac on :  VACJ_odor_low_bipo_sel_physFT.npz data (74, 3584, 11) npts 3584 ntrials 11 nelec 74\n",
      "['x', 'Mai_RL', 'labels', 'BA', 'xyz', 'aal', 'sf', 'channels', 'Mai']\n",
      "--> compute pac on :  VACJ_odor_high_bipo_sel_physFT.npz data (74, 3584, 11) npts 3584 ntrials 11 nelec 74\n",
      "['x', 'Mai_RL', 'labels', 'BA', 'xyz', 'aal', 'sf', 'channels', 'Mai']\n",
      "--> compute pac on :  SEMC_odor_low_bipo_sel_physFT.npz data (65, 3584, 31) npts 3584 ntrials 31 nelec 65\n",
      "['x', 'Mai_RL', 'labels', 'BA', 'xyz', 'aal', 'sf', 'channels', 'Mai']\n",
      "--> compute pac on :  SEMC_odor_high_bipo_sel_physFT.npz data (65, 3584, 9) npts 3584 ntrials 9 nelec 65\n",
      "['x', 'Mai_RL', 'labels', 'BA', 'xyz', 'aal', 'sf', 'channels', 'Mai']\n",
      "--> compute pac on :  LEFC_odor_low_bipo_sel_physFT.npz data (60, 3584, 34) npts 3584 ntrials 34 nelec 60\n",
      "['x', 'Mai_RL', 'labels', 'BA', 'xyz', 'aal', 'sf', 'channels', 'Mai']\n",
      "--> compute pac on :  LEFC_odor_high_bipo_sel_physFT.npz data (60, 3584, 21) npts 3584 ntrials 21 nelec 60\n",
      "['x', 'Mai_RL', 'labels', 'BA', 'xyz', 'aal', 'sf', 'channels', 'Mai']\n",
      "--> compute pac on :  PIRJ_odor_low_bipo_sel_physFT.npz data (52, 3584, 14) npts 3584 ntrials 14 nelec 52\n",
      "['x', 'Mai_RL', 'labels', 'BA', 'xyz', 'aal', 'sf', 'channels', 'Mai']\n",
      "--> compute pac on :  PIRJ_odor_high_bipo_sel_physFT.npz data (52, 3584, 11) npts 3584 ntrials 11 nelec 52\n",
      "['x', 'Mai_RL', 'labels', 'BA', 'xyz', 'aal', 'sf', 'channels', 'Mai']\n",
      "--> compute pac on :  CHAF_odor_low_bipo_sel_physFT.npz data (58, 3584, 6) npts 3584 ntrials 6 nelec 58\n",
      "['x', 'Mai_RL', 'labels', 'BA', 'xyz', 'aal', 'sf', 'channels', 'Mai']\n",
      "--> compute pac on :  CHAF_odor_high_bipo_sel_physFT.npz data (58, 3584, 15) npts 3584 ntrials 15 nelec 58\n"
     ]
    }
   ],
   "source": [
    "for su, cond in product(subjects[:], sorted(conds)):\n",
    "    pathdata = path.join(st.path,'database/Encoding_EpiPerf_'+conds[cond][0]+'/')\n",
    "    path2save = path.join(st.path,'feature/3_PrefPhase_Encoding_EpiPerf_'+conds[cond][0]+'/')\n",
    "    # Define phase settings \n",
    "    fpha = [[0.1,1.5],[2,3],[3,7], [8,13]]\n",
    "    famp = [[13,30],[30,60],[60,120]]\n",
    "    fname = ['VLFC','delta','theta', 'alpha']\n",
    "    \n",
    "    for c in conds[cond][1]:\n",
    "        # Load file :\n",
    "        fi = su+'_odor_'+c+'_bipo_sel_physFT.npz'\n",
    "        loadname = pathdata+fi\n",
    "        if path.exists(path2save+fi.replace('.npz','_prefpha.npz')):\n",
    "            print(fi.replace('.npz','_prefpha.npz'),' already computed')\n",
    "        else:\n",
    "            mat = np.load(loadname)\n",
    "            print(mat.files)\n",
    "            data = mat['x']\n",
    "            n_elec, npts, n_trials = data.shape\n",
    "            sf, width, step = 512.,358, 51\n",
    "            print ('--> compute pac on : ', fi, 'data', data.shape, 'npts', npts, 'ntrials',n_trials, 'nelec', n_elec)              \n",
    "            \n",
    "            #Compute pac, using the MVL method with surrogates and normalization (z-score)\n",
    "            p = pfdphase(sf, npts, pha_f=fpha, pha_meth='hilbert', pha_cycle=3, \n",
    "                    amp_f=famp,amp_meth='hilbert', amp_cycle=6, nbins=18, width=width,\n",
    "                    step=step,filtname='fir1')\n",
    "            kwargs = {}\n",
    "            kwargs['f'], kwargs['fname'], kwargs['famp'] = fpha, fname, famp\n",
    "            kwargs['s_aal'], kwargs['s_BA'] = mat['aal'], mat['BA']\n",
    "            kwargs['Mai_RL'], kwargs['channels'], kwargs['xyz'] = mat['Mai_RL'], mat['channels'], mat['xyz']\n",
    "            pfp, prf, _, _ = p.get(data,data,n_jobs=5) #(n_amplitude x n_phase x n_electrodes x n_windows x n_trials)\n",
    "            kwargs['pfd_mean'], kwargs['pfdpha'] = np.squeeze(prf), np.squeeze(pfp)\n",
    "            save_phase = path2save+fi.replace('.npz', '_prefpha.npz')\n",
    "            np.savez(save_phase, **kwargs)\n",
    "\n",
    "            del kwargs, data,pfp,prf, sf, n_elec, n_trials"
   ]
  },
  {
   "cell_type": "markdown",
   "metadata": {},
   "source": [
    "### Plot ST PAC values for all frequencies"
   ]
  },
  {
   "cell_type": "code",
   "execution_count": null,
   "metadata": {
    "collapsed": false
   },
   "outputs": [],
   "source": [
    "pathdata = path.join(st.path,'feature/2_PAC_Encoding_EpiPerf_LowHigh/')\n",
    "path2save = path.join(pathdata,'ST_PAC_plots/')\n",
    "\n",
    "files = st.search('_pac.npz', folder=pathdata)\n",
    "for fi in files:\n",
    "    loadname = path.join(pathdata,fi)\n",
    "    mat = np.load(loadname)\n",
    "    xpac = mat['pac']\n",
    "    n_elec, su = xpac.shape[1], fi[:4]\n",
    "    for elec in range(n_elec):\n",
    "        label = mat['Mai_RL'][elec]\n",
    "        pac_elec = np.squeeze(xpac)[:,elec,:,:].swapaxes(0,2) #ntrials,n_pts,n_phase\n",
    "        pac_elec = np.squeeze(np.mean(pac_elec,axis=1)) #mean pac value across time\n",
    "        fig = plt.figure()\n",
    "        plt.imshow(pac_elec, cmap='plasma',interpolation='none', origin ='lower', \n",
    "                   aspect='auto', vmin=0, vmax=2)\n",
    "        plt.title(su+' PAC - '+fi[10:14]+' Memory '+label+ ' elec('+str(elec)+')')\n",
    "        plt.xticks(np.arange(pac_elec.shape[1]),('VFLC','delta','theta','alpha'))\n",
    "        plt.ylabel('Trials')\n",
    "        plt.xlabel('Frequency for phase (Hz)')\n",
    "        cb = plt.colorbar(ticks=[0,1,2],label='PAC')\n",
    "        filename = fi.replace('sel_physFT_pac.npz',label+'_'+str(elec)+'_ST_pac.png')\n",
    "        plt.savefig(path2save+filename)\n",
    "        plt.tight_layout()\n",
    "        plt.clf()\n",
    "        plt.close()"
   ]
  },
  {
   "cell_type": "code",
   "execution_count": null,
   "metadata": {
    "collapsed": true
   },
   "outputs": [],
   "source": []
  }
 ],
 "metadata": {
  "anaconda-cloud": {},
  "kernelspec": {
   "display_name": "Python [conda root]",
   "language": "python",
   "name": "conda-root-py"
  },
  "language_info": {
   "codemirror_mode": {
    "name": "ipython",
    "version": 3
   },
   "file_extension": ".py",
   "mimetype": "text/x-python",
   "name": "python",
   "nbconvert_exporter": "python",
   "pygments_lexer": "ipython3",
   "version": "3.5.5"
  }
 },
 "nbformat": 4,
 "nbformat_minor": 2
}
