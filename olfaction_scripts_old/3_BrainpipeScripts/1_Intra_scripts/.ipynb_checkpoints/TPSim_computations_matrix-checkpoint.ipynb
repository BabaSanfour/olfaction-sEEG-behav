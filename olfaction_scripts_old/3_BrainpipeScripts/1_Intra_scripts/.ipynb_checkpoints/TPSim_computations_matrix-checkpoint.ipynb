{
 "cells": [
  {
   "cell_type": "markdown",
   "metadata": {},
   "source": [
    "### Compute TPSim matrix for all odors\n",
    "8 x 8 matrices by electrode (significant in classification analyses)"
   ]
  },
  {
   "cell_type": "code",
   "execution_count": 2,
   "metadata": {},
   "outputs": [],
   "source": [
    "from os.path import isfile, join, exists\n",
    "from os import listdir, makedirs\n",
    "import numpy as np\n",
    "import matplotlib.pyplot as plt\n",
    "from brainpipe.system import study\n",
    "from scipy.stats import spearmanr, pearsonr\n",
    "from itertools import product"
   ]
  },
  {
   "cell_type": "code",
   "execution_count": 5,
   "metadata": {},
   "outputs": [
    {
     "name": "stdout",
     "output_type": "stream",
     "text": [
      "-> Olfacto loaded\n",
      "CHAF\n",
      "FERJ\n",
      "LEFC\n",
      "PIRJ\n",
      "SEMC\n",
      "VACJ\n"
     ]
    },
    {
     "ename": "SyntaxError",
     "evalue": "'break' outside loop (<ipython-input-5-b7fd463b8b11>, line 33)",
     "output_type": "error",
     "traceback": [
      "\u001b[0;36m  File \u001b[0;32m\"<ipython-input-5-b7fd463b8b11>\"\u001b[0;36m, line \u001b[0;32m33\u001b[0m\n\u001b[0;31m    break\u001b[0m\n\u001b[0m         ^\u001b[0m\n\u001b[0;31mSyntaxError\u001b[0m\u001b[0;31m:\u001b[0m 'break' outside loop\n"
     ]
    }
   ],
   "source": [
    "###############################################################################\n",
    "st = study('Olfacto')\n",
    "# all meaning all electrodes present at E and R \n",
    "# not just the ones significant for Low High classif at E and R\n",
    "path_files = join(st.path,'feature/TPSim_Enc_Ret_By_Odor_all/')\n",
    "path2save = join(path_files, 'TPS_R_by_odors_matrix/')\n",
    "###############################################################################\n",
    "if not exists(path2save):\n",
    "    makedirs(path2save)\n",
    "###############################################################################\n",
    "\n",
    "sessions = ['E','R']\n",
    "su_codes = ['S0','S1','S2','S3','S4','S5']\n",
    "freqs = ['0_theta', '1_alpha', '2_beta','3_gamma']\n",
    "su_odors = {\n",
    "    'VACJ' : ['11','14','12','10','15','17','16','13'],\n",
    "    'PIRJ' : ['1','9','5','4','6','7','18'],\n",
    "    'LEFC' : ['15','2','1','16','14','3','4','17'],\n",
    "    'SEMC' : ['7','10','11','12','13','5','8','9'],\n",
    "    'FERJ' : ['7','2','16','17','12','1','5','13']}\n",
    "# S0   S1   S2    S3   S4   S5\n",
    "# CHAF,FERJ,LEFC,PIRJ,SEMC,VACJ\n",
    "rois_su_elecs = {\n",
    "    'HC':{'FERJ':[[2],[8,9,19],[8,9]],\n",
    "          'LEFC':[[2,8],[],[2,6]],\n",
    "          'PIRJ':[[5,10,12],[9,10],[2,4,5,7,10,12]],\n",
    "          'VACJ':[[],[1],[]]},\n",
    "    'OFC':{'FERJ':[[],[38]],\n",
    "           'LEFC':[[],[23]],\n",
    "           'PIRJ':[[],[22,41]]},\n",
    "    'IFG':{'FERJ':[[41],[],[],[40]],\n",
    "           'LEFC':[[28],[],[],[19]],\n",
    "           'SEMC':[[27],[],[],[19]],\n",
    "           'VACJ':[[14],[],[],[]]}}\n",
    "\n",
    "def compute_tpsim(data0, data1, stat):\n",
    "    \"\"\"compute the Temporal Pattern Similarity (tpsim) for all combinations of\n",
    "    single-trial power in 2 different conditions\n",
    "    \n",
    "    Parameters\n",
    "    ----------\n",
    "    data1, data2 : arrays\n",
    "        Must be of shape (n_pts, n_trials)\n",
    "    stat : string\n",
    "        The stat correlation method to use. 'pearson' or 'spearman'\n",
    "    Returns\n",
    "    -------\n",
    "    tpsim : value\n",
    "        The mean TPSim value \n",
    "    \"\"\"\n",
    "    corr = pearsonr if stat == 'pearson' else spearmanr\n",
    "    assert (\n",
    "        data0.shape == data1.shape\n",
    "    ), \"Error: shape of trial1 and trial2 must be the same\"\n",
    "    \n",
    "    n_trials0, n_trials1 = data0.shape[1],data1.shape[1]\n",
    "    \n",
    "    list_tpsim = np.zeros((n_trials0*n_trials1))\n",
    "    for trial0, trial1 in product(range(n_trials0),range(n_trials1)):\n",
    "        list_tpsim += corr(data0[:,trial0],data1[:,trial1])\n",
    "    return np.mean(list_tpsim)\n",
    "\n",
    "for su in (sorted(su_odors)):\n",
    "    print(su)\n",
    "break\n",
    "#     for sess in sessions:\n",
    "#         for cond in su_odor_groups[su]:\n",
    "#             big_concat = np.array([])\n",
    "#             for freq in freqs:\n",
    "#                 concat = np.array([])\n",
    "#                 for odor in su_odor_groups[su][cond]:\n",
    "#                     mat = np.load(path_files+su+'_odor'+str(odor)+'_'+sess+'_pow'+freq+'.npz',\n",
    "#                                  allow_pickle=True)\n",
    "#                     power = mat['xpow']\n",
    "# #                     print(su, freq, sess, cond, odor, mat.files)\n",
    "#                     concat = np.concatenate((concat,power), axis=2) if np.size(concat) else power\n",
    "#                 #concat by freq\n",
    "#                 big_concat = np.concatenate((big_concat,concat[np.newaxis]), axis=0) if np.size(big_concat) else concat[np.newaxis]\n",
    "#             #SAVE BIG_CONCAT FILE\n",
    "#             dico = {'xpow':big_concat, 'label':mat['label'],'channel':mat['channel'],'xyz':mat['xyz']}\n",
    "#             np.savez(path2save+'Pow_'+su+'_'+sess+'_'+cond+'_allfreqs.npz',**dico)"
   ]
  },
  {
   "cell_type": "code",
   "execution_count": 6,
   "metadata": {},
   "outputs": [
    {
     "data": {
      "image/png": "[encoded data removed]",
      "text/plain": [
       "<Figure size 432x288 with 2 Axes>"
      ]
     },
     "metadata": {
      "needs_background": "light"
     },
     "output_type": "display_data"
    }
   ],
   "source": [
    "plt.imshow(np.random.random((50,50)));\n",
    "plt.colorbar()\n",
    "plt.show()"
   ]
  }
 ],
 "metadata": {
  "kernelspec": {
   "display_name": "Python 3",
   "language": "python",
   "name": "python3"
  },
  "language_info": {
   "codemirror_mode": {
    "name": "ipython",
    "version": 3
   },
   "file_extension": ".py",
   "mimetype": "text/x-python",
   "name": "python",
   "nbconvert_exporter": "python",
   "pygments_lexer": "ipython3",
   "version": "3.6.1"
  }
 },
 "nbformat": 4,
 "nbformat_minor": 2
}
