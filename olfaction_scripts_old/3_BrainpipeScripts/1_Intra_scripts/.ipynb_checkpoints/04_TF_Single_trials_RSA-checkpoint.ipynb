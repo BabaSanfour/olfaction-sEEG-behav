{
 "cells": [
  {
   "cell_type": "markdown",
   "metadata": {},
   "source": [
    "## Import libraries"
   ]
  },
  {
   "cell_type": "code",
   "execution_count": 4,
   "metadata": {},
   "outputs": [],
   "source": [
    "import numpy as np\n",
    "from os import path, listdir\n",
    "\n",
    "from brainpipe.system import study\n",
    "from brainpipe.feature import TF\n",
    "from brainpipe.visual import *"
   ]
  },
  {
   "cell_type": "code",
   "execution_count": 3,
   "metadata": {},
   "outputs": [],
   "source": [
    "sf = 512\n",
    "lines = [0]\n",
    "f = (1,120,4,2)  # Frequency vector: (from, to, width, step) 1 to 120 Hz 4 2 #0.1, 13, 0.5, 0.1\n",
    "baseline = [1280,1408] # 250ms Time in seconds (rest 700ms au milieu des 1s extraite) Odor (1408,1536) Rest 640,768\n",
    "width, step = 50, 10 #Time vector\n",
    "window_to_plot = [0, 2000] # In seconds (start RSA analyses from 0s)\n",
    "exp = 'E'"
   ]
  },
  {
   "cell_type": "markdown",
   "metadata": {},
   "source": [
    "### Compute TF by odor single-trial\n",
    "250ms of baseline (-500 to -250ms before inspiration onset)"
   ]
  },
  {
   "cell_type": "code",
   "execution_count": 10,
   "metadata": {},
   "outputs": [
    {
     "name": "stdout",
     "output_type": "stream",
     "text": [
      "-> Olfacto loaded\n"
     ]
    },
    {
     "ename": "ValueError",
     "evalue": "Object arrays cannot be loaded when allow_pickle=False",
     "output_type": "error",
     "traceback": [
      "\u001b[0;31m---------------------------------------------------------------------------\u001b[0m",
      "\u001b[0;31mValueError\u001b[0m                                Traceback (most recent call last)",
      "\u001b[0;32m<ipython-input-10-6a7860e04252>\u001b[0m in \u001b[0;36m<module>\u001b[0;34m()\u001b[0m\n\u001b[1;32m     11\u001b[0m     \u001b[0;32mif\u001b[0m \u001b[0msplits\u001b[0m\u001b[0;34m[\u001b[0m\u001b[0;36m0\u001b[0m\u001b[0;34m]\u001b[0m \u001b[0;32min\u001b[0m \u001b[0msubjects\u001b[0m \u001b[0;32mand\u001b[0m \u001b[0msplits\u001b[0m\u001b[0;34m[\u001b[0m\u001b[0;34m-\u001b[0m\u001b[0;36m1\u001b[0m\u001b[0;34m]\u001b[0m \u001b[0;34m==\u001b[0m \u001b[0;34m'physFT.npz'\u001b[0m\u001b[0;34m:\u001b[0m\u001b[0;34m\u001b[0m\u001b[0m\n\u001b[1;32m     12\u001b[0m         \u001b[0mmat\u001b[0m \u001b[0;34m=\u001b[0m \u001b[0mnp\u001b[0m\u001b[0;34m.\u001b[0m\u001b[0mload\u001b[0m\u001b[0;34m(\u001b[0m\u001b[0mpath_data\u001b[0m\u001b[0;34m+\u001b[0m\u001b[0mf\u001b[0m\u001b[0;34m)\u001b[0m\u001b[0;34m\u001b[0m\u001b[0m\n\u001b[0;32m---> 13\u001b[0;31m         \u001b[0mlabels\u001b[0m\u001b[0;34m,\u001b[0m \u001b[0mdata\u001b[0m \u001b[0;34m=\u001b[0m \u001b[0mmat\u001b[0m\u001b[0;34m[\u001b[0m\u001b[0;34m'Mai_RL'\u001b[0m\u001b[0;34m]\u001b[0m\u001b[0;34m,\u001b[0m \u001b[0mmat\u001b[0m\u001b[0;34m[\u001b[0m\u001b[0;34m'x'\u001b[0m\u001b[0;34m]\u001b[0m\u001b[0;34m\u001b[0m\u001b[0m\n\u001b[0m\u001b[1;32m     14\u001b[0m         \u001b[0mprint\u001b[0m\u001b[0;34m(\u001b[0m\u001b[0;34m'data shape'\u001b[0m\u001b[0;34m,\u001b[0m \u001b[0mdata\u001b[0m\u001b[0;34m.\u001b[0m\u001b[0mshape\u001b[0m\u001b[0;34m)\u001b[0m\u001b[0;34m\u001b[0m\u001b[0m\n\u001b[1;32m     15\u001b[0m         \u001b[0;36m0\u001b[0m\u001b[0;34m/\u001b[0m\u001b[0;36m0\u001b[0m\u001b[0;34m\u001b[0m\u001b[0m\n",
      "\u001b[0;32m~/anaconda3/envs/mne_coreg/lib/python3.6/site-packages/numpy/lib/npyio.py\u001b[0m in \u001b[0;36m__getitem__\u001b[0;34m(self, key)\u001b[0m\n\u001b[1;32m    260\u001b[0m                 return format.read_array(bytes,\n\u001b[1;32m    261\u001b[0m                                          \u001b[0mallow_pickle\u001b[0m\u001b[0;34m=\u001b[0m\u001b[0mself\u001b[0m\u001b[0;34m.\u001b[0m\u001b[0mallow_pickle\u001b[0m\u001b[0;34m,\u001b[0m\u001b[0;34m\u001b[0m\u001b[0m\n\u001b[0;32m--> 262\u001b[0;31m                                          pickle_kwargs=self.pickle_kwargs)\n\u001b[0m\u001b[1;32m    263\u001b[0m             \u001b[0;32melse\u001b[0m\u001b[0;34m:\u001b[0m\u001b[0;34m\u001b[0m\u001b[0m\n\u001b[1;32m    264\u001b[0m                 \u001b[0;32mreturn\u001b[0m \u001b[0mself\u001b[0m\u001b[0;34m.\u001b[0m\u001b[0mzip\u001b[0m\u001b[0;34m.\u001b[0m\u001b[0mread\u001b[0m\u001b[0;34m(\u001b[0m\u001b[0mkey\u001b[0m\u001b[0;34m)\u001b[0m\u001b[0;34m\u001b[0m\u001b[0m\n",
      "\u001b[0;32m~/anaconda3/envs/mne_coreg/lib/python3.6/site-packages/numpy/lib/format.py\u001b[0m in \u001b[0;36mread_array\u001b[0;34m(fp, allow_pickle, pickle_kwargs)\u001b[0m\n\u001b[1;32m    694\u001b[0m         \u001b[0;31m# The array contained Python objects. We need to unpickle the data.\u001b[0m\u001b[0;34m\u001b[0m\u001b[0;34m\u001b[0m\u001b[0m\n\u001b[1;32m    695\u001b[0m         \u001b[0;32mif\u001b[0m \u001b[0;32mnot\u001b[0m \u001b[0mallow_pickle\u001b[0m\u001b[0;34m:\u001b[0m\u001b[0;34m\u001b[0m\u001b[0m\n\u001b[0;32m--> 696\u001b[0;31m             raise ValueError(\"Object arrays cannot be loaded when \"\n\u001b[0m\u001b[1;32m    697\u001b[0m                              \"allow_pickle=False\")\n\u001b[1;32m    698\u001b[0m         \u001b[0;32mif\u001b[0m \u001b[0mpickle_kwargs\u001b[0m \u001b[0;32mis\u001b[0m \u001b[0;32mNone\u001b[0m\u001b[0;34m:\u001b[0m\u001b[0;34m\u001b[0m\u001b[0m\n",
      "\u001b[0;31mValueError\u001b[0m: Object arrays cannot be loaded when allow_pickle=False"
     ]
    }
   ],
   "source": [
    "st = study('Olfacto')\n",
    "path_data = path.join (st.path, 'database/Encoding_By_Odor/')\n",
    "path2save = path.join (st.path, 'feature/1_TF_E_single_trial_rsa_by_odor/')\n",
    "subjects = ['LEFC','CHAF','VACJ','SEMC','FERJ','PIRJ']\n",
    "rois_selected = ['OFC','HC','IFG']\n",
    "\n",
    "files = listdir(path_data)\n",
    "\n",
    "for f in files:\n",
    "    splits = f.split('_')\n",
    "    if splits[0] in subjects and splits[-1] == 'physFT.npz':\n",
    "        mat = np.load(path_data+f)\n",
    "        labels, data = mat['Mai_RL'], mat['x']\n",
    "        print('data shape', data.shape)\n",
    "        0/0\n",
    "        \n",
    "        for roi in rois_selected:\n",
    "            #select electrodes from ROIs\n",
    "            idx_rois = [1 if roi == roi else 0 for roi in labels]\n",
    "            data_sel = data[idx_rois]\n",
    "            n_elecs = data.shape[0]\n",
    "            "
   ]
  },
  {
   "cell_type": "code",
   "execution_count": null,
   "metadata": {},
   "outputs": [],
   "source": [
    "   \n",
    "    # ========================= COMPUTE TF FOR 1 ELEC =============================================\n",
    "    for elec in [43]:#range(data0.shape[0]):\n",
    "        data = all_data[elec,:,:]\n",
    "        channel, label, sf, npts = channels[elec], names[elec], 512, data.shape[0]\n",
    "        print (su, channel, label, data.shape, 'nb points', npts)\n",
    "\n",
    "        time = 1000 * np.arange(-1024,data.shape[0]-1024) / sf #to set the 0 in your TF\n",
    "        print ('Time points: ', len(time),min(time), max(time))\n",
    "        tfObj = TF(sf, npts, f=f, time=time, width=width, step=step,baseline=baseline, norm=3)\n",
    "        xtf_all, _ = tfObj.get(data, statmeth=None, maxstat=True, tail=2, metric='m_center')\n",
    "        xtf_all = 100*np.squeeze(xtf_all)\n",
    "        print ('TF size :', xtf_all.shape)\n",
    "        \n",
    "        timebin = np.array(tfObj.xvec)\n",
    "        sl = slice(np.argmin(np.abs(timebin-window_to_plot[0])), np.argmin(np.abs(timebin-window_to_plot[1])))\n",
    "        title = su+' Elec('+str(elec)+') '+channel+' '+label+' All trials'\n",
    "        print('TF sel', xtf_all[:,sl].shape)\n",
    "        tfObj.plot2D(plt.figure(), xtf_all[:, sl], xvec=tfObj.xvec[sl], yvec=tfObj.yvec, xlabel='Time (ms)',\n",
    "                    ylabel='Frequency (hz)', cblabel='Power change (%)', cmap='viridis', \n",
    "                     title=title,pltargs={'shading':'gouraud'},vmin=-100, vmax=100, resample=(0.5, 0.1))\n",
    "        ax = plt.gca()\n",
    "        addLines(ax, vLines=lines, vColor=['firebrick','firebrick','black'], vWidth=[2]*3)\n",
    "          \n",
    "        #Save all your plots\n",
    "        fname = (path2save+su+'_Elec('+str(elec)+')_'+channel+'_'+label+'_All_trials.pdf')\n",
    "        #print (fname)\n",
    "        plt.savefig(fname, dpi=300, bbox_inches='tight')\n",
    "        plt.clf()\n",
    "        plt.close()\n",
    "    del xtf_all, all_data, sf, channel\n",
    "    \n"
   ]
  }
 ],
 "metadata": {
  "anaconda-cloud": {},
  "kernelspec": {
   "display_name": "Python 3",
   "language": "python",
   "name": "python3"
  },
  "language_info": {
   "codemirror_mode": {
    "name": "ipython",
    "version": 3
   },
   "file_extension": ".py",
   "mimetype": "text/x-python",
   "name": "python",
   "nbconvert_exporter": "python",
   "pygments_lexer": "ipython3",
   "version": "3.6.1"
  }
 },
 "nbformat": 4,
 "nbformat_minor": 2
}
