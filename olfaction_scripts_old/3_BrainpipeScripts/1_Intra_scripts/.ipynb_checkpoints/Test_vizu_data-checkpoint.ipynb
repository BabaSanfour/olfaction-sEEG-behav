{
 "cells": [
  {
   "cell_type": "code",
   "execution_count": 13,
   "metadata": {},
   "outputs": [],
   "source": [
    "from brainpipe.system import study\n",
    "import numpy as np\n",
    "from os.path import join\n",
    "from utils import subjects\n",
    "import matplotlib.pyplot as plt"
   ]
  },
  {
   "cell_type": "code",
   "execution_count": 73,
   "metadata": {},
   "outputs": [
    {
     "name": "stdout",
     "output_type": "stream",
     "text": [
      "-> Ripples loaded\n",
      "CHAF (2, 3500, 71)\n",
      "LEFC (20, 3500, 55)\n",
      "FERJ (44, 3500, 43)\n",
      "SEMC (42, 3500, 36)\n",
      "VACJ (51, 3500, 29)\n",
      "PIRJ (26, 3500, 60)\n"
     ]
    }
   ],
   "source": [
    "st = study('Ripples')\n",
    "PATH = join(st.path, 'database/E_odors/')\n",
    "datafile = join(PATH, '{}_cond=ALL_odors=ALL_bipo_INFO_clean.npz')\n",
    "sf = 500\n",
    "\n",
    "for su in subjects:\n",
    "    mat = np.load(datafile.format(su),allow_pickle=True)\n",
    "    time = (np.arange(mat['x'].shape[1])/sf) - 3 \n",
    "    t_sel = [i for i,t in enumerate(time) if 0 <= t <2]\n",
    "    t_bsl = [i for i,t in enumerate(time) if -0.2 <= t <0]\n",
    "    "
   ]
  }
 ],
 "metadata": {
  "kernelspec": {
   "display_name": "Python 3",
   "language": "python",
   "name": "python3"
  },
  "language_info": {
   "codemirror_mode": {
    "name": "ipython",
    "version": 3
   },
   "file_extension": ".py",
   "mimetype": "text/x-python",
   "name": "python",
   "nbconvert_exporter": "python",
   "pygments_lexer": "ipython3",
   "version": "3.6.1"
  }
 },
 "nbformat": 4,
 "nbformat_minor": 2
}
