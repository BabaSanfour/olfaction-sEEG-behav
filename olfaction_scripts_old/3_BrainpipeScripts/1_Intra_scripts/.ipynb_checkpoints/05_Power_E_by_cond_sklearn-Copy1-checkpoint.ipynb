{
 "cells": [
  {
   "cell_type": "markdown",
   "metadata": {},
   "source": [
    "## Import Libraries"
   ]
  },
  {
   "cell_type": "code",
   "execution_count": 2,
   "metadata": {},
   "outputs": [],
   "source": [
    "from os import path, makedirs\n",
    "from itertools import product\n",
    "import numpy as np\n",
    "import matplotlib.pyplot as plt\n",
    "from matplotlib.ticker import ScalarFormatter, MaxNLocator\n",
    "import scipy.io as sio\n",
    "\n",
    "from brainpipe.classification import *\n",
    "from brainpipe.system import study\n",
    "from brainpipe.feature import power, amplitude, sigfilt\n",
    "from brainpipe.visual import *\n",
    "from brainpipe.statistics import *\n",
    "from scipy.stats import *"
   ]
  },
  {
   "cell_type": "markdown",
   "metadata": {},
   "source": [
    "## Power Decoding - Partial//Detailed Encoding\n",
    "### For ALL time points"
   ]
  },
  {
   "cell_type": "code",
   "execution_count": null,
   "metadata": {
    "scrolled": true
   },
   "outputs": [
    {
     "name": "stdout",
     "output_type": "stream",
     "text": [
      "-> Olfacto loaded\n",
      "VACJ ['xpow', 'label', 'channel', 'xyz'] xpow shape:  [(48, 11), (48, 11)]\n",
      "--» processing VACJ elec 0 / 4 freq 0_theta\n",
      "Size of the concatenated data:  (22, 1)\n",
      "Size of label for classif:  22\n",
      "Classification score 0.35 (pvalue : 0.6403596403596403)\n",
      "--» processing VACJ elec 1 / 4 freq 0_theta\n",
      "Size of the concatenated data:  (22, 1)\n",
      "Size of label for classif:  22\n",
      "Classification score 0.65 (pvalue : 0.22877122877122877)\n",
      "--» processing VACJ elec 2 / 4 freq 0_theta\n",
      "Size of the concatenated data:  (22, 1)\n",
      "Size of label for classif:  22\n",
      "Classification score 0.7 (pvalue : 0.14285714285714285)\n",
      "--» processing VACJ elec 3 / 4 freq 0_theta\n",
      "Size of the concatenated data:  (22, 1)\n",
      "Size of label for classif:  22\n",
      "Classification score 0.37222222222222223 (pvalue : 0.6393606393606394)\n",
      "VACJ ['xpow', 'label', 'channel', 'xyz'] xpow shape:  [(48, 11), (48, 11)]\n",
      "--» processing VACJ elec 0 / 4 freq 1_alpha\n",
      "Size of the concatenated data:  (22, 1)\n",
      "Size of label for classif:  22\n",
      "Classification score 0.3 (pvalue : 0.7772227772227772)\n",
      "--» processing VACJ elec 1 / 4 freq 1_alpha\n",
      "Size of the concatenated data:  (22, 1)\n",
      "Size of label for classif:  22\n",
      "Classification score 0.65 (pvalue : 0.21578421578421578)\n",
      "--» processing VACJ elec 2 / 4 freq 1_alpha\n",
      "Size of the concatenated data:  (22, 1)\n",
      "Size of label for classif:  22\n",
      "Classification score 0.35 (pvalue : 0.6493506493506493)\n",
      "--» processing VACJ elec 3 / 4 freq 1_alpha\n",
      "Size of the concatenated data:  (22, 1)\n",
      "Size of label for classif:  22\n",
      "Classification score 0.7 (pvalue : 0.13886113886113885)\n",
      "VACJ ['xpow', 'label', 'channel', 'xyz'] xpow shape:  [(48, 11), (48, 11)]\n",
      "--» processing VACJ elec 0 / 4 freq 2_beta\n",
      "Size of the concatenated data:  (22, 1)\n",
      "Size of label for classif:  22\n",
      "Classification score 0.6 (pvalue : 0.3356643356643357)\n",
      "--» processing VACJ elec 1 / 4 freq 2_beta\n",
      "Size of the concatenated data:  (22, 1)\n",
      "Size of label for classif:  22\n"
     ]
    }
   ],
   "source": [
    "from sklearn.discriminant_analysis import LinearDiscriminantAnalysis as LDA\n",
    "from sklearn.model_selection import StratifiedKFold as SKFold\n",
    "from sklearn.model_selection import permutation_test_score\n",
    "from sklearn.metrics import roc_auc_score\n",
    "from numpy.random import permutation\n",
    "\n",
    "st = study('Olfacto')\n",
    "exp = 'Enc'#'Enc'\n",
    "conds, subjects = ['low','high'],['VACJ','CHAF','SEMC','LEFC','PIRJ','FERJ']\n",
    "freqs = ['0_theta','1_alpha','2_beta','3_gamma']\n",
    "path_pow = path.join(st.path, 'feature/TPSim_power_data/Power_all_elecs_E_R_by_cond/')\n",
    "pow_name = path.join(path_pow, 'Pow_{}_{}_{}_allfreqs.npz')\n",
    "save_path = path.join(st.path, 'classified/0_Classif_Pow_sklearn_mean_'+exp[0]+'_by_cond/')\n",
    "clf_name = path.join(st.path, '{}_LDA_clf_{}_{}_{}.npz')\n",
    "nperm = 1000\n",
    "\n",
    "for su in subjects:\n",
    "    for i,freq in enumerate(freqs):\n",
    "        pow_list = []\n",
    "        #=========================== Load Power files (nfreq, nelec, nwin, ntrial) =================================    \n",
    "        mat0 = np.load(pow_name.format(su,exp[0],conds[0]), allow_pickle=True)\n",
    "        pow_list.append(np.mean(mat0['xpow'][i,:,27:47,:],axis=1))\n",
    "        nelecs = mat0['xpow'].shape[0]\n",
    "        mat1 = np.load(pow_name.format(su,exp[0],conds[1]), allow_pickle=True)\n",
    "        pow_list.append(np.mean(mat1['xpow'][i,:,27:47,:],axis=1))\n",
    "        print (su,mat0.files, 'xpow shape: ', [pow.shape for pow in pow_list])\n",
    "        \n",
    "        #=========================== Create dict for all results =================================    \n",
    "        name_classif = clf_name.format(su,freq,conds[0],conds[1])\n",
    "        if not path.exists(name_classif):\n",
    "            kwargs = {}\n",
    "            kwargs['names'], kwargs['channels'] = mat0['label'], mat0['channel']\n",
    "            kwargs['xyz'] = mat0['xyz']\n",
    "\n",
    "            # =========================== Select Power for 1 elec 1 freq =================================                 \n",
    "            permut,auc = np.zeros((nelecs,nperm)),np.zeros((nelecs))\n",
    "            for elec_num in range(nelecs):\n",
    "                print('--» processing',su, 'elec', elec_num,'/',nelecs, 'freq',freq)\n",
    "                pow_data_elec = [power[elec_num][:,np.newaxis] for power in pow_list]\n",
    "\n",
    "                # create a data matrix, concatenate along the trial dimension\n",
    "                x = np.concatenate(pow_data_elec, axis=0)\n",
    "                print ('Size of the concatenated data: ', x.shape)\n",
    "                y = np.hstack([np.array([i]*len(power)) for i, power in enumerate(pow_data_elec)])\n",
    "                print ('Size of label for classif: ', len(y))\n",
    "\n",
    "                clf = LDA()\n",
    "                cv = SKFold(5)\n",
    "                score, permutation_scores, pvalue = permutation_test_score(\n",
    "                clf, x, y, scoring=\"roc_auc\", cv=cv, n_permutations=nperm, n_jobs=-1)\n",
    "                permut[elec_num] += permutation_scores\n",
    "                auc[elec_num] += score\n",
    "                print(\"Classification score %s (pvalue : %s)\" % (score, pvalue))\n",
    "\n",
    "            kwargs['perm'], kwargs['auc'] = permut, auc\n",
    "            #Save plots\n",
    "            np.savez(name_classif, **kwargs)\n",
    "            del x, y, pow_data_elec, permutation_scores, score\n",
    "        else:\n",
    "            print(name_classif, 'already computed')\n",
    "    del pow_list"
   ]
  },
  {
   "cell_type": "code",
   "execution_count": null,
   "metadata": {},
   "outputs": [],
   "source": []
  }
 ],
 "metadata": {
  "anaconda-cloud": {},
  "kernelspec": {
   "display_name": "Python 3",
   "language": "python",
   "name": "python3"
  },
  "language_info": {
   "codemirror_mode": {
    "name": "ipython",
    "version": 3
   },
   "file_extension": ".py",
   "mimetype": "text/x-python",
   "name": "python",
   "nbconvert_exporter": "python",
   "pygments_lexer": "ipython3",
   "version": "3.6.1"
  }
 },
 "nbformat": 4,
 "nbformat_minor": 2
}
