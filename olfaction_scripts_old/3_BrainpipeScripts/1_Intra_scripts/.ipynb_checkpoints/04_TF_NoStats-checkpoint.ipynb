{
 "cells": [
  {
   "cell_type": "markdown",
   "metadata": {},
   "source": [
    "## Import libraries"
   ]
  },
  {
   "cell_type": "code",
   "execution_count": null,
   "metadata": {
    "collapsed": true
   },
   "outputs": [],
   "source": [
    "import numpy as np\n",
    "import matplotlib.pyplot as plt\n",
    "from os import path\n",
    "#%matplotlib notebook\n",
    "\n",
    "from brainpipe.system import study\n",
    "from brainpipe.feature import TF\n",
    "from brainpipe.visual import *\n",
    "from brainpipe.statistics import *"
   ]
  },
  {
   "cell_type": "code",
   "execution_count": null,
   "metadata": {
    "collapsed": false
   },
   "outputs": [],
   "source": [
    "sf = 512\n",
    "n_perm = 1000\n",
    "f = (1,120,4,2)  # Frequency vector: (from, to, width, step) 1 to 120 Hz 4 2 #0.1, 13, 0.5, 0.1\n",
    "baseline = [0, 700] # Time in seconds (rest 700ms au milieu des 1s extraite)\n",
    "width, step = 50, 10 #Time vector"
   ]
  },
  {
   "cell_type": "markdown",
   "metadata": {},
   "source": [
    "### Compute TF on unbalanced data for all selected electrodes\n",
    "#### No baseline correction - over 5.5s after odor is sent"
   ]
  },
  {
   "cell_type": "code",
   "execution_count": null,
   "metadata": {
    "collapsed": false,
    "scrolled": true
   },
   "outputs": [],
   "source": [
    "st = study('Olfacto')\n",
    "path_data = path.join (st.path, 'database/Encoding_EpiPerf_4500_expi_noart/')\n",
    "path2save = path.join (st.path, 'feature/1_TF_Encoding_EpiPerf_4500_expi_noart/')\n",
    "conds = ['poor', 'partial','detailed']\n",
    "subjects = ['LEFC','CHAF','VACJ','SEMC','FERJ','MICP','PIRJ'] #LEFC','CHAF','VACJ','SEMC','FERJ','MICP','PIRJ\n",
    "\n",
    "for su in subjects:\n",
    "    data0 = np.load(path.join(path_data, su+'_odor_poor_bipo_sel.npz'))['x']\n",
    "    data1 = np.load(path.join (path_data, su+'_odor_partial_bipo_sel.npz'))['x']\n",
    "    names = np.load(path.join(path_data, su+'_odor_partial_bipo_sel.npz'))['label']\n",
    "    channels = np.load(path.join(path_data, su+'_odor_partial_bipo_sel.npz'))['channel']\n",
    "    \n",
    "    filename2 = path.join (path_data, su+'_odor_detailed_bipo_sel.npz')\n",
    "    if path.isfile(filename2) == False:\n",
    "        print (su, 'poor shape: ', data0.shape, 'partial shape: ', data1.shape)\n",
    "        # ========================= COMPUTE TF FOR 1 ELEC =============================================\n",
    "        for elec in range(data0.shape[0]):\n",
    "            poor, partial = data0[elec,:,:], data1[elec,:,:]\n",
    "            channel, label, sf = channels[elec], names[elec], 512\n",
    "            print (su, channel, label, poor.shape, partial.shape, 'nb points', poor.shape[0])\n",
    "\n",
    "            # time = all data points in the original data (window to plot is selected afterwards)\n",
    "            time = 1000 * np.arange(poor.shape[0]) / sf #to set the 0 in your TF\n",
    "            print ('Time points: ', len(time),min(time), max(time))\n",
    "            tfObj = TF(sf, poor.shape[0], f=f, time=time, width=width, step=step,baseline=baseline, norm=3)\n",
    "            xtf_poor, _ = tfObj.get((poor), statmeth=None, n_perm=n_perm, maxstat=False, tail=2, metric='m_center')\n",
    "            xtf_partial, _ = tfObj.get((partial), statmeth=None, n_perm=n_perm, maxstat=False, tail=2, metric='m_center')\n",
    "            print ('TF size :', xtf_poor.shape, xtf_partial.shape)\n",
    "            xtf_poor, xtf_partial = 100*np.swapaxes(xtf_poor,0,1), 100*np.swapaxes(xtf_partial,0,1)\n",
    "\n",
    "            # plot both TF in the same figure\n",
    "            xtf_all = np.concatenate((xtf_poor, xtf_partial), axis=0)\n",
    "            print ('TF size :', xtf_poor.shape,xtf_partial.shape)\n",
    "            fig = plt.figure(figsize=(10, 4))\n",
    "            title = su+' Elec('+str(elec)+') '+channel+' '+label+' Epi Perf'\n",
    "            fig, _ = tfObj.plot2D(fig, xtf_all, cmap='viridis', xvec=tfObj.xvec,\n",
    "                         yvec=tfObj.yvec, xlabel='Time (ms)', vmin=-100, vmax=100, ycb=-20,\n",
    "                         ylabel='Frequency (hz)', figtitle=title, title=['Poor EM', 'Partial EM'],\n",
    "                         cblabel='Power modulations (%)', pltype='imshow', resample=(0.1, 0.1),\n",
    "                        sharex=False, sharey=False, subdim=(1,2), subspace={'top':0.8})\n",
    "            #Save all your plots\n",
    "            fname = (path2save+su+'_TF_elec_('+str(elec)+')_'+channel+'_'+label+'_Poor-Partial.png')\n",
    "            print (fname)\n",
    "            fig.savefig(fname, dpi=300, bbox_inches='tight')\n",
    "            plt.close()\n",
    "        \n",
    "    if path.isfile(filename2) == True:\n",
    "        data2 = np.load(filename2)['x']\n",
    "        print (su, 'poor shape: ', data0.shape, 'partial shape: ', data1.shape, 'detailed shape', data2.shape)\n",
    "        # ========================= COMPUTE TF FOR 1 ELEC =============================================\n",
    "        for elec in range(data0.shape[0]):\n",
    "            poor, partial, detailed = data0[elec,:,:], data1[elec,:,:], data2[elec,:,:]\n",
    "            channel, label, sf = channels[elec], names[elec], 512\n",
    "            print (su, channel, label, poor.shape, partial.shape, detailed.shape, 'nb points', poor.shape[0])\n",
    "\n",
    "            # time = all data points in the original data (window to plot is selected afterwards)\n",
    "            time = 1000 * np.arange(poor.shape[0]) / sf #to set the 0 in your TF\n",
    "            print ('Time points: ', len(time),min(time), max(time))\n",
    "            tfObj = TF(sf, poor.shape[0], f=f, time=time, width=width, step=step,baseline=baseline, norm=3)\n",
    "            xtf_poor, _ = tfObj.get((poor), statmeth=None, n_perm=n_perm, maxstat=False, tail=2, metric='m_center')\n",
    "            xtf_partial, _ = tfObj.get((partial), statmeth=None, n_perm=n_perm, maxstat=False, tail=2, metric='m_center')\n",
    "            xtf_detailed, _ = tfObj.get((detailed), statmeth=None, n_perm=n_perm, maxstat=False, tail=2, metric='m_center')\n",
    "            print ('TF size :', xtf_poor.shape, xtf_partial.shape,xtf_detailed.shape)\n",
    "            xtf_poor, xtf_partial, xtf_detailed = 100*np.swapaxes(xtf_poor,0,1), 100*np.swapaxes(xtf_partial,0,1), 100*np.swapaxes(xtf_detailed,0,1)\n",
    "\n",
    "            # plot both TF in the same figure\n",
    "            xtf_all = np.concatenate((xtf_poor, xtf_partial, xtf_detailed), axis=0)\n",
    "            print ('TF size :', xtf_poor.shape,xtf_partial.shape, xtf_detailed.shape, xtf_all.shape)\n",
    "            fig = plt.figure(elec, figsize=(15, 5))\n",
    "            title = su+' Elec('+str(elec)+') '+channel+' '+label+' Epi Perf'\n",
    "            fig, _ = tfObj.plot2D(fig, xtf_all, cmap='viridis', xvec=tfObj.xvec,\n",
    "                         yvec=tfObj.yvec, xlabel='Time (ms)', vmin=-100, vmax=100, ycb=-20,\n",
    "                         ylabel='Frequency (hz)', figtitle=title, title=['Poor EM', 'Partial EM','Detailed EM'],\n",
    "                         cblabel='Power modulations (%)', pltype='imshow', resample=(0.1, 0.1),\n",
    "                        sharex=False, sharey=False, subdim=(1,3), subspace={'top':0.8})\n",
    "            #Save all your plots\n",
    "            fname = (path2save+su+'_TF_elec_('+str(elec)+')_'+channel+'_'+label+'_Poor-Partial-Detailed.png')\n",
    "            print (fname)\n",
    "            fig.savefig(fname, dpi=300, bbox_inches='tight')\n",
    "            plt.close()\n",
    "        del poor, partial, detailed, sf, channel\n",
    "\n"
   ]
  }
 ],
 "metadata": {
  "anaconda-cloud": {},
  "kernelspec": {
   "display_name": "Python [default]",
   "language": "python",
   "name": "python3"
  },
  "language_info": {
   "codemirror_mode": {
    "name": "ipython",
    "version": 3
   },
   "file_extension": ".py",
   "mimetype": "text/x-python",
   "name": "python",
   "nbconvert_exporter": "python",
   "pygments_lexer": "ipython3",
   "version": "3.5.5"
  }
 },
 "nbformat": 4,
 "nbformat_minor": 1
}
