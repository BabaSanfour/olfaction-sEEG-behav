{
 "cells": [
  {
   "cell_type": "markdown",
   "metadata": {
    "collapsed": true
   },
   "source": [
    "## Import Libraries"
   ]
  },
  {
   "cell_type": "code",
   "execution_count": 1,
   "metadata": {
    "collapsed": false
   },
   "outputs": [],
   "source": [
    "from os import path\n",
    "from itertools import product\n",
    "import numpy as np\n",
    "import matplotlib.pyplot as plt\n",
    "from matplotlib.ticker import ScalarFormatter, MaxNLocator\n",
    "import scipy.io as sio\n",
    "from brainpipe.classification import *\n",
    "from brainpipe.system import study\n",
    "from brainpipe.feature import phase, amplitude, sigfilt\n",
    "from brainpipe.visual import *\n",
    "from brainpipe.statistics import *\n",
    "from scipy.stats import *"
   ]
  },
  {
   "cell_type": "markdown",
   "metadata": {},
   "source": [
    "## User variables"
   ]
  },
  {
   "cell_type": "code",
   "execution_count": 2,
   "metadata": {
    "collapsed": false
   },
   "outputs": [
    {
     "name": "stdout",
     "output_type": "stream",
     "text": [
      "-> Olfacto loaded\n"
     ]
    }
   ],
   "source": [
    "bsl = None\n",
    "# PATH TO DATA\n",
    "st = study('Olfacto')\n",
    "path_phase = path.join(st.path, 'feature/2_Phase_Encoding_EpiPerf_4500_expi_noart/')\n",
    "save_path = path.join(st.path, 'classified/1_Classif_Phase_Partial_Detailed_EpiPerf_4500_expi_noart')\n",
    "# phase & STATS PARAMETERS\n",
    "nfreq = 4\n",
    "nperm = 100"
   ]
  },
  {
   "cell_type": "markdown",
   "metadata": {},
   "source": [
    "## phase Decoding - Partial//Detailed Encoding\n",
    "### For ALL time points"
   ]
  },
  {
   "cell_type": "code",
   "execution_count": null,
   "metadata": {
    "collapsed": false,
    "scrolled": true
   },
   "outputs": [],
   "source": [
    "from sklearn.discriminant_analysis import LinearDiscriminantAnalysis as LDA\n",
    "from sklearn.model_selection import StratifiedKFold as SKFold\n",
    "from sklearn.metrics import roc_auc_score\n",
    "from numpy.random import permutation\n",
    "\n",
    "conds,steps, subjects = ['partial','detailed'],['odor'],['FERJ','MICP','VACJ','SEMC','LEFC','PIRJ','CHAF']\n",
    "color_codes = ['darkorange','crimson']\n",
    "\n",
    "for su, step in product(subjects,steps):\n",
    "    phase_list = []\n",
    "    #=========================== Load phase files (nfreq, nelec, nwin, ntrial) =================================    \n",
    "    partial_mat = np.load(path.join(path_phase, su+'_'+step+'_partial_bipo_sel_phys_phase.npz'))\n",
    "    names, channels, freq_names, time = partial_mat['labels'], partial_mat['channels'],partial_mat['fname'], partial_mat['time']\n",
    "    phase_list.append(partial_mat['phase'])\n",
    "    nelecs = partial_mat['phase'].shape[0]\n",
    "    detailedname = path.join(path_phase, su+'_'+step+'_detailed_bipo_sel_phys_phase.npz')\n",
    "    if path.isfile(detailedname) == True:\n",
    "        phase_list.append(np.load(detailedname)['phase'])\n",
    "        print (su, 'phase shape: ', [phase.shape for phase in phase_list])\n",
    "    \n",
    "        # =========================== Select phase for 1 elec 1 freq =================================                 \n",
    "        for elec_num in range(nelecs):\n",
    "            for freq in range(nfreq):\n",
    "                print('--» processing',su, 'elec', elec_num,'/',nelecs, 'freq',freq)\n",
    "                phase_data_elec = []\n",
    "                for i,phase in enumerate(phase_list): #phase file (elecs, freqs, wins,trials))\n",
    "                    phase_data_elec.append(phase[elec_num,freq].swapaxes(0,1))\n",
    "                nwin = phase.shape[1]\n",
    "                elec, elec_label, freq_name = channels[elec_num], names[elec_num], freq_names[freq]\n",
    "                print ('elec ', elec, 'elec_label ', elec_label)\n",
    "\n",
    "        # =============================  Classification Computation ============================================================           \n",
    "                # create a data matrix, concatenate along the trial dimension\n",
    "                x = np.concatenate(phase_data_elec, axis=0)\n",
    "                print ('Size of the concatenated data: ', x.shape, 'Number time windows : ', x.shape[1])\n",
    "                y = np.hstack([np.array([i]*len(phase)) for i, phase in enumerate(phase_data_elec)])\n",
    "                print ('Size of label for classif: ', len(y))\n",
    "\n",
    "                auc = np.array([])\n",
    "                for t in range(x.shape[1]):\n",
    "                    X = x[:,t]\n",
    "                    X = X.reshape(-1, 1)\n",
    "                    score_rep = []\n",
    "                    for i in range(10):\n",
    "                        skf = SKFold(n_splits=5, random_state=None, shuffle=True)\n",
    "                        skf.get_n_splits(X, y)\n",
    "                        score_cv = []\n",
    "                        for train_index, test_index in skf.split(X, y):\n",
    "                            clf = LDA()\n",
    "                            X_train, X_test = X[train_index], X[test_index]\n",
    "                            y_train, y_test = y[train_index], y[test_index]\n",
    "                            clf.fit(X=X_train, y=y_train)\n",
    "                            y_pred = clf.predict(X_test)\n",
    "                            score_cv.append(roc_auc_score(y_test,y_pred,average='weighted'))\n",
    "                        score_rep.append(np.mean(score_cv))\n",
    "                    score_rep = np.asarray(score_rep).reshape(1,len(score_rep))\n",
    "                    auc = np.vstack((auc, score_rep)) if np.size(auc) else score_rep\n",
    "                auc = np.swapaxes(auc,0,1)\n",
    "\n",
    "                perm_scores = np.array([])\n",
    "                for t in range(x.shape[1]):\n",
    "                    X = x[:,t]\n",
    "                    X = X.reshape(-1, 1)\n",
    "                    perm_rep = []\n",
    "                    for perm in range(nperm):\n",
    "                        y_perm = y[permutation(len(y))]\n",
    "                        score_cv = []\n",
    "                        for train_index, test_index in skf.split(X, y_perm):\n",
    "                            clf = LDA()\n",
    "                            X_train, X_test = X[train_index], X[test_index]\n",
    "                            y_train, y_test = y_perm[train_index], y_perm[test_index]\n",
    "                            clf.fit(X=X_train, y=y_train)\n",
    "                            y_pred = clf.predict(X_test)\n",
    "                            score_cv.append(roc_auc_score(y_test,y_pred,average='weighted'))\n",
    "                        perm_rep.append(np.mean(score_cv))\n",
    "                    perm_rep = np.asarray(perm_rep).reshape(1,len(perm_rep))\n",
    "                    perm_scores = np.vstack((perm_scores, perm_rep)) if np.size(perm_scores) else perm_rep\n",
    "                perm_scores = np.swapaxes(perm_scores,0,1)\n",
    "                th_0_05_perm = perm_pvalue2level(perm_scores, p=0.05, maxst=True)\n",
    "                th_0_01_perm = perm_pvalue2level(perm_scores, p=0.01, maxst=True)\n",
    "                print('th_perm : ', th_0_05_perm[0], th_0_01_perm[0], 'auc_mean', auc.mean())\n",
    "\n",
    "        # ========================== Create a pvalue vector for uac measure ========================\n",
    "                auc_pvals = []\n",
    "                for i in range(auc.shape[1]):\n",
    "                    if np.mean(auc[:,i]) > th_0_01_perm[0]:\n",
    "                        auc_pvals.append(0.009)\n",
    "                    elif np.mean(auc[:,i]) > th_0_05_perm[0]:\n",
    "                        auc_pvals.append(0.04)\n",
    "                    else:\n",
    "                        auc_pvals.append(1)\n",
    "                print (auc_pvals)\n",
    "\n",
    "        # ============================== PLOT phase ANALYSIS + STATS & DECODING ACCURACY ===================================================\n",
    "                # plot and figure parameters\n",
    "                xfmt = ScalarFormatter(useMathText=True)\n",
    "                xfmt.set_powerlimits((0,3))\n",
    "                fig = plt.figure(1,figsize=(7,7))\n",
    "                title = 'Phase-Stats-DA for '+su+' Partial vs Detailed '+str(elec)+' '+str(elec_label)+' ('+str(elec_num)+')'\n",
    "                fig.suptitle(title, fontsize=12)\n",
    "\n",
    "                # Plot the phase + STATS\n",
    "                plt.subplot(211)        \n",
    "                BorderPlot(time, x, y=y, kind='sem', alpha=0.2, color=color_codes,linewidth=2, \n",
    "                           ncol=1, xlabel='Time (s)',ylabel = r'phase', legend=conds)\n",
    "                rmaxis(plt.gca(), ['right', 'top'])\n",
    "                plt.legend(loc=0, handletextpad=0.1, frameon=False)\n",
    "                plt.gca().yaxis.set_major_locator(MaxNLocator(3,integer=True))\n",
    "\n",
    "                # Plot DA for the phase\n",
    "                plt.subplot(212)\n",
    "                BorderPlot(time, auc, color='b', kind='sd',xlabel='Time (s)', ylim=[0.4,1.], ylabel='Decoding accuracy (%)',linewidth=2, alpha=0.3)\n",
    "                rmaxis(plt.gca(), ['right', 'top'])\n",
    "                plt.gca().yaxis.set_major_locator(MaxNLocator(3,integer=True))\n",
    "                plt.plot(time, th_0_05_perm*np.ones(len(time)), '--', color='r', linewidth=2)\n",
    "                #plt.plot(times_plot, th_0_01_perm*np.ones(len(times_plot)), '--', color='orange', linewidth=2)\n",
    "\n",
    "                #Filenames to save\n",
    "                name_auc = (save_path+'/'+str(freq)+'_'+freq_name+'/auc/'+su +'_auc_Partial_Detailed_'+str(elec_label)+'_('+str(elec_num)+').npy')\n",
    "                name_th_0_05_perm = (save_path+'/'+str(freq)+'_'+freq_name+'/auc/'+su +'_th_0_05_perm_'+str(elec_label)+'_('+str(elec_num)+').npy')\n",
    "                name_th_0_01_perm = (save_path+'/'+str(freq)+'_'+freq_name+'/auc/'+su +'_th_0_01_perm_'+str(elec_label)+'_('+str(elec_num)+').npy')\n",
    "                plot_name = (save_path+'/'+str(freq)+'_'+freq_name+'/fig/'+su +'_Phase_Partial_Detailed_'+str(elec)+'_'+str(elec_label)+'_('+str(elec_num)+').png')            \n",
    "\n",
    "                # Criteria to be significant\n",
    "                auc_pvals = np.ravel(auc_pvals)\n",
    "                underp = np.where(auc_pvals < 0.05)[0]\n",
    "                pvsplit = np.split(underp, np.where(np.diff(underp) != 1)[0]+1)\n",
    "                signif = [True for k in pvsplit if len(k) >= 3]\n",
    "                if len(signif) >=1:\n",
    "                    plot_sig = (save_path+'/'+str(freq)+'_'+freq_name+'/signif/'+su +'_Phase_Partial_Detailed_'+str(elec)+'_'+str(elec_label)+'_('+str(elec_num)+').png')            \n",
    "                    plt.savefig(plot_sig, dpi=300, bbox_inches='tight')\n",
    "\n",
    "                #Save plots\n",
    "                np.save(name_auc, auc)\n",
    "                np.save(name_th_0_05_perm, th_0_05_perm[0])\n",
    "                np.save(name_th_0_01_perm, th_0_01_perm[0])\n",
    "                plt.savefig(plot_name, dpi=300, bbox_inches='tight')\n",
    "                plt.clf()\n",
    "                plt.close() \n",
    "                del X, auc, phase_data_elec\n",
    "        del phase_list\n",
    "        \n",
    "    else: \n",
    "        print(su,'pas de condition detailed')"
   ]
  },
  {
   "cell_type": "code",
   "execution_count": null,
   "metadata": {
    "collapsed": true
   },
   "outputs": [],
   "source": []
  }
 ],
 "metadata": {
  "anaconda-cloud": {},
  "kernelspec": {
   "display_name": "Python [conda root]",
   "language": "python",
   "name": "conda-root-py"
  },
  "language_info": {
   "codemirror_mode": {
    "name": "ipython",
    "version": 3
   },
   "file_extension": ".py",
   "mimetype": "text/x-python",
   "name": "python",
   "nbconvert_exporter": "python",
   "pygments_lexer": "ipython3",
   "version": "3.5.5"
  }
 },
 "nbformat": 4,
 "nbformat_minor": 1
}
