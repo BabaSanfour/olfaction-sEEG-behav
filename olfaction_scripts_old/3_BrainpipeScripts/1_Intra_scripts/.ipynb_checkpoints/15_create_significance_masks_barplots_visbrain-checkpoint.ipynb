{
 "cells": [
  {
   "cell_type": "markdown",
   "metadata": {},
   "source": [
    "### 1- Create stats masks - Electrodes to be plotted\n",
    "    Elec that reach the threshold in time (min sig)"
   ]
  },
  {
   "cell_type": "code",
   "execution_count": 25,
   "metadata": {
    "collapsed": false,
    "scrolled": false
   },
   "outputs": [
    {
     "name": "stdout",
     "output_type": "stream",
     "text": [
      "-> Olfacto loaded\n",
      "2_theta 456 24\n",
      "6_gamma2 456 44\n"
     ]
    }
   ],
   "source": [
    "from brainpipe.system import study\n",
    "from os import listdir, makedirs\n",
    "from os.path import isfile, join, exists\n",
    "import numpy as np\n",
    "from itertools import product\n",
    "\n",
    "conds = ['low','high']\n",
    "bsl = '700ms'\n",
    "###############################################################################\n",
    "st = study('Olfacto')\n",
    "path_npz = join(st.path, 'figure/0_Classif_Power_E_EpiPerf_'+conds[0].capitalize()+conds[1].capitalize()+'_'+bsl+'/')\n",
    "path_to_save = join(path_npz, 'masks_stat/')\n",
    "f_form = '{}_sources_{}_odor_'+conds[0]+'_'+conds[1]+'_sel_physFT_{}.npz'\n",
    "f_form = join(path_npz, f_form)\n",
    "f_save = '{}_mask_stat_{}_minwin{}_th{}.npy'\n",
    "f_save = join(path_to_save,f_save)\n",
    "###############################################################################\n",
    "if not exists(path_to_save):\n",
    "    makedirs(path_to_save)\n",
    "###############################################################################  \n",
    "freqs = ['2_theta','6_gamma2']#['0_VLFC', '1_delta', '2_theta', '3_alpha', '4_beta','5_gamma1','6_gamma2']\n",
    "min_win = 1\n",
    "th = '01'\n",
    "for freq in freqs:\n",
    "    # Load the npz file with su_codes, xyz of signif and not signif elec\n",
    "    mat = np.load(f_form.format('All_subjects',freq,bsl))\n",
    "    subjects, s_th, s_da = mat['su_codes'],mat['s_th_'+th], mat['s_da']\n",
    "    #print(subjects.shape, s_th05.shape, s_th01.shape, s_da.shape)\n",
    "    su_codes = np.unique(subjects)\n",
    "    mask = np.array([])\n",
    "    for su in su_codes:\n",
    "        n_elecs = s_th[np.where(subjects ==su)].shape[0]\n",
    "        thresh = np.amax(s_th[np.where(subjects==su)])\n",
    "        da = s_da[np.where(subjects==su)]\n",
    "        #print(n_elecs,da.shape,th05)\n",
    "        for elec in range(n_elecs):\n",
    "            da_elec = da[elec,:]\n",
    "            pvals = np.array([])\n",
    "            for win in range(da_elec.shape[0]):\n",
    "                if da_elec[win] > thresh:\n",
    "                    pval = 1\n",
    "                if da_elec[win] <= thresh:\n",
    "                    pval = 0\n",
    "                pvals = np.hstack((pvals,pval)) if np.size(pvals) else pval\n",
    "            #criteria for an elec to be significant\n",
    "            pvals = np.ravel(pvals)\n",
    "            underp = np.where(pvals == 1)[0]\n",
    "            pvsplit = np.split(underp, np.where(np.diff(underp) != 1)[0]+1)\n",
    "            signif = [True for k in pvsplit if len(k) >= min_win]\n",
    "            if len(signif) >=1:\n",
    "                remove = False\n",
    "            else:\n",
    "                remove = True\n",
    "            mask = np.hstack((mask, remove)) if np.size(mask) else remove\n",
    "    print(freq, len(mask),len(np.where(mask == False)[0]))\n",
    "    np.save(f_save.format('All_subjects',freq,min_win,th),mask)"
   ]
  },
  {
   "cell_type": "markdown",
   "metadata": {},
   "source": [
    "### 2- Create masks - min patients"
   ]
  },
  {
   "cell_type": "code",
   "execution_count": 7,
   "metadata": {
    "collapsed": false,
    "scrolled": true
   },
   "outputs": [
    {
     "name": "stdout",
     "output_type": "stream",
     "text": [
      "-> Olfacto loaded\n",
      "['s_time', 's_channels', 's_aal', 'su_codes', 's_th_05', 's_BA', 's_labels', 's_xyz', 's_elec_pow0', 's_da', 's_elec_pow1', 's_aal_RL', 's_th_01', 's_elec', 's_MAI', 's_MAI_RL']\n",
      "S1 IFG o8-o7 75 number of elecs 1\n",
      "S1 IFG o9-o8 76 number of elecs 2\n",
      "S1 IFG o10-o9 77 number of elecs 3\n",
      "S2 IFG o9-o8 48 number of elecs 4\n",
      "S3 IFG o13-o12 37 number of elecs 5\n",
      "S4 IFG o11-o10 41 number of elecs 6\n",
      "S6 IFG e'4-e'3 24 number of elecs 7\n"
     ]
    }
   ],
   "source": [
    "from brainpipe.system import study\n",
    "from os import listdir, makedirs\n",
    "from os.path import isfile, join, exists\n",
    "import numpy as np\n",
    "from itertools import product\n",
    "from PIL import Image\n",
    "score = 'Epi'\n",
    "conds = ['low','high']\n",
    "bsl, th = '700ms', '01'\n",
    "###############################################################################\n",
    "st = study('Olfacto')\n",
    "path_classif = join(st.path, 'classified/0_Classif_Power_Encoding_EpiPerf_LowHigh_'+bsl+'/')\n",
    "path_npz = join(st.path, 'figure/0_Classif_Power_E_EpiPerf_'+conds[0].capitalize()+conds[1].capitalize()+'_'+bsl+'/')\n",
    "path_rois, path_stats = join(path_npz,'Signif_ROIs'+th+'/'), join(path_npz, 'masks_stat/')\n",
    "path_to_save = join(path_npz, 'masks_visbrain'+th+'/')\n",
    "path_save_fig = join(path_npz, 'Signif_timecourse'+th+'/')\n",
    "npz_form = join(path_npz, '{}_sources_{}_odor_'+conds[0]+'_'+conds[1]+'_sel_physFT_{}.npz')\n",
    "rois_form = join(path_rois, '{}_signif_min_{}_{}_min_win{}_th_{}.npy')\n",
    "stat_form = join(path_stats,'{}_mask_stat_{}_minwin{}_th{}.npy')\n",
    "mask_vis_form = join(path_to_save,'{}_mask_min{}_{}_minwin{}_th{}.npy')\n",
    "###############################################################################\n",
    "if not exists(path_to_save):\n",
    "    makedirs(path_to_save)\n",
    "if not exists(path_save_fig):\n",
    "    makedirs(path_save_fig)\n",
    "############################################################################### \n",
    "\n",
    "freqs = ['6_gamma2'] #'0_VLFC', '1_delta', '2_theta', '3_alpha', '4_beta','5_gamma1','6_gamma2\n",
    "su_codes = {'S0':'CHAF','S1':'FERJ','S2':'LEFC','S3':'SEMC','S4':'PIRJ','S5':'MICP','S6':'VACJ'}\n",
    "min_wins = ['1']#,'2','3','4','5']\n",
    "methods = ['MAI_RL'] #,'aal_RL','BA','aal',\n",
    "min_sigs = [5]#1,2,3,4,\n",
    "\n",
    "for freq,min_win,min_sig,method in product(freqs,min_wins,min_sigs,methods):\n",
    "    # Load the electrodes labels, electrodes significant (bool), rois significant (names)\n",
    "    npz_mat = np.load(npz_form.format('All_subjects',freq,bsl))\n",
    "    print(npz_mat.files)\n",
    "    labels0, labels, subjects = npz_mat['s_labels'],npz_mat['s_'+method],npz_mat['su_codes']\n",
    "    elecs, channels = npz_mat['s_elec'],npz_mat['s_channels']\n",
    "    stats = np.load(stat_form.format('All_subjects',freq,min_win,th))\n",
    "    rois = np.load(rois_form.format('s_Mai_RL',min_sig,freq[2:],min_win,th))\n",
    "    #print(rois)\n",
    "    mask_vis = []\n",
    "    i=0\n",
    "    for e in range(labels.shape[0]):\n",
    "        if stats[e]==0 and labels[e] in rois:\n",
    "            mask_vis.append(False)\n",
    "            i=i+1\n",
    "            print(subjects[e],labels[e],channels[e],elecs[e],'number of elecs',i)\n",
    "            #path_file = path_classif+su_codes[subjects[e]]+'/'+freq+'/fig/'\n",
    "            path_file_time = path_classif+freq+'/fig/'\n",
    "            filename = su_codes[subjects[e]]+'_Power_'+conds[0]+'_'+conds[1]+'_'+channels[e]+'_'+labels[e]+'_('+elecs[e]+').png'\n",
    "            img = Image.open(path_file_time+filename)\n",
    "            path_save_fig2 = path_save_fig+freq+'/'+method+'/'+labels[e]+'/'\n",
    "            if not exists(path_save_fig2):\n",
    "                makedirs(path_save_fig2)\n",
    "            img.save(path_save_fig2+'/min_patient'+str(min_sig)+'_minwin_'+str(min_win)+'_'+filename,'png')\n",
    "        else :\n",
    "            mask_vis.append(True)\n",
    "        #print(stats[e],labels[e], mask_vis[e])\n",
    "    np.save(mask_vis_form.format(method,min_sig,freq,min_win,th),mask_vis)"
   ]
  },
  {
   "cell_type": "code",
   "execution_count": null,
   "metadata": {
    "collapsed": true
   },
   "outputs": [],
   "source": []
  }
 ],
 "metadata": {
  "anaconda-cloud": {},
  "kernelspec": {
   "display_name": "Python [conda root]",
   "language": "python",
   "name": "conda-root-py"
  },
  "language_info": {
   "codemirror_mode": {
    "name": "ipython",
    "version": 3
   },
   "file_extension": ".py",
   "mimetype": "text/x-python",
   "name": "python",
   "nbconvert_exporter": "python",
   "pygments_lexer": "ipython3",
   "version": "3.5.5"
  }
 },
 "nbformat": 4,
 "nbformat_minor": 1
}
