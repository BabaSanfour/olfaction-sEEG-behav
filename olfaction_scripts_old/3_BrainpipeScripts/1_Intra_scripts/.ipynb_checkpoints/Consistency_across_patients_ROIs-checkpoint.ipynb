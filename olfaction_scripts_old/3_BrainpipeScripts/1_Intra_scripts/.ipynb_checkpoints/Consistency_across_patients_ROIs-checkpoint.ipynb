{
 "cells": [
  {
   "cell_type": "code",
   "execution_count": 2,
   "metadata": {
    "collapsed": false
   },
   "outputs": [],
   "source": [
    "from os.path import isfile, join\n",
    "import numpy as np\n",
    "import matplotlib.pyplot as plt\n",
    "from matplotlib.offsetbox import AnchoredText\n",
    "from brainpipe.system import study\n",
    "from scipy import stats\n",
    "from itertools import product"
   ]
  },
  {
   "cell_type": "code",
   "execution_count": 10,
   "metadata": {
    "collapsed": false,
    "scrolled": true
   },
   "outputs": [
    {
     "name": "stdout",
     "output_type": "stream",
     "text": [
      "-> Olfacto loaded\n",
      "masked subjects and rois (144,) (144,)\n",
      "rois present ['ACC' 'FuG' 'HC' 'IFG' 'MFG' 'MTG' 'OFC' 'PHG' 'SFG' 'STG']\n",
      "(456, 35) (456, 35) (35,)\n",
      "global files (456,) (456,) (456,)\n",
      "masked global file (144,) (144,) (144,)\n",
      "6_gamma2 Amg [] [] []\n"
     ]
    },
    {
     "name": "stderr",
     "output_type": "stream",
     "text": [
      "/home/karim/anaconda3/lib/python3.5/site-packages/numpy/core/fromnumeric.py:2909: RuntimeWarning: Mean of empty slice.\n",
      "  out=out, **kwargs)\n",
      "/home/karim/anaconda3/lib/python3.5/site-packages/numpy/core/_methods.py:80: RuntimeWarning: invalid value encountered in double_scalars\n",
      "  ret = ret.dtype.type(ret / rcount)\n"
     ]
    },
    {
     "ename": "ZeroDivisionError",
     "evalue": "division by zero",
     "output_type": "error",
     "traceback": [
      "\u001b[0;31m---------------------------------------------------------------------------\u001b[0m",
      "\u001b[0;31mZeroDivisionError\u001b[0m                         Traceback (most recent call last)",
      "\u001b[0;32m<ipython-input-10-c98cfea30090>\u001b[0m in \u001b[0;36m<module>\u001b[0;34m()\u001b[0m\n\u001b[1;32m     59\u001b[0m     \u001b[0mtime_by_su\u001b[0m \u001b[0;34m=\u001b[0m \u001b[0mtime_by_su\u001b[0m\u001b[0;34m[\u001b[0m\u001b[0mnp\u001b[0m\u001b[0;34m.\u001b[0m\u001b[0mlogical_not\u001b[0m\u001b[0;34m(\u001b[0m\u001b[0mnp\u001b[0m\u001b[0;34m.\u001b[0m\u001b[0misnan\u001b[0m\u001b[0;34m(\u001b[0m\u001b[0mtime_by_su\u001b[0m\u001b[0;34m)\u001b[0m\u001b[0;34m)\u001b[0m\u001b[0;34m]\u001b[0m\u001b[0;34m\u001b[0m\u001b[0m\n\u001b[1;32m     60\u001b[0m     \u001b[0mprint\u001b[0m\u001b[0;34m(\u001b[0m\u001b[0mfreq\u001b[0m\u001b[0;34m,\u001b[0m \u001b[0mroi\u001b[0m\u001b[0;34m,\u001b[0m \u001b[0mda_by_su\u001b[0m\u001b[0;34m,\u001b[0m\u001b[0mpow_by_su\u001b[0m\u001b[0;34m,\u001b[0m\u001b[0mtime_by_su\u001b[0m\u001b[0;34m)\u001b[0m\u001b[0;34m\u001b[0m\u001b[0m\n\u001b[0;32m---> 61\u001b[0;31m     \u001b[0;36m0\u001b[0m\u001b[0;34m/\u001b[0m\u001b[0;36m0\u001b[0m\u001b[0;34m\u001b[0m\u001b[0m\n\u001b[0m\u001b[1;32m     62\u001b[0m \u001b[0;34m\u001b[0m\u001b[0m\n\u001b[1;32m     63\u001b[0m     \u001b[0;31m#Plot all correlations\u001b[0m\u001b[0;34m\u001b[0m\u001b[0;34m\u001b[0m\u001b[0m\n",
      "\u001b[0;31mZeroDivisionError\u001b[0m: division by zero"
     ]
    }
   ],
   "source": [
    "th, bsl, feat = '01', 'None', 'pow'\n",
    "###############################################################################\n",
    "st = study('Olfacto')\n",
    "path_npz = join(st.path, 'figure/0_Classif_Power_E_EpiPerf_LowHigh_'+bsl+'/')\n",
    "npz_form = join(path_npz, '{}_sources_{}_{}_low_high_sel_physFT_{}.npz')\n",
    "path_mask = join(path_npz, 'masks_visbrain'+th+'/')\n",
    "masks_vis_form = join(path_mask, '{}_mask_min{}_{}_minwin{}_th{}.npy')\n",
    "###############################################################################\n",
    "\n",
    "subjects = ['CHAF','FERJ','LEFC','SEMC','PIRJ','MICP','VACJ']\n",
    "su_codes = ['S0','S1','S2','S3','S4','S5','S6']\n",
    "\n",
    "# Load mean results by subjects\n",
    "freqs, method, win, min_sig = ['6_gamma2'],['s_Mail_RL'], 1, 2\n",
    "for freq in freqs:  \n",
    "    # Power and classif results\n",
    "    arch_sig = np.load(npz_form.format('All_subjects',freq, 'odor',bsl))\n",
    "    mask = np.load(masks_vis_form.format('MAI_RL',min_sig,freq,str(win),th))\n",
    "    mask = np.logical_not(mask) #inverse True False\n",
    "    su_codes = arch_sig['su_codes'][mask]\n",
    "    s_Mai_RL = arch_sig['s_MAI_RL'][mask]\n",
    "    rois_list = np.unique(s_Mai_RL)\n",
    "    print('masked subjects and rois', su_codes.shape, s_Mai_RL.shape)\n",
    "    print('rois list',rois_list)\n",
    "    s_da, s_power = arch_sig['s_da'], ((arch_sig['s_elec_pow1']-arch_sig['s_elec_pow0'])/arch_sig['s_elec_pow0'])*100\n",
    "    s_time = np.arange(-1000,2500,100)\n",
    "    print(s_da.shape, s_power.shape,s_time.shape)\n",
    "    #Select the max AUC and corresponding power change for all electrodes\n",
    "    da_all, pow_all,time_all = np.array([]), np.array([]),np.array([])\n",
    "    for elec in range(s_da.shape[0]):\n",
    "        da_elec = s_da[elec]\n",
    "        idx = [i for i,j in enumerate(da_elec) if j ==max(da_elec)][0]\n",
    "        pow = s_power[elec][idx]\n",
    "        da = da_elec[idx]\n",
    "        time = s_time[idx]\n",
    "        pow_all = np.hstack((pow_all,pow)) if np.size(pow_all) else pow\n",
    "        da_all = np.hstack((da_all, da)) if np.size(da_all) else da\n",
    "        time_all = np.hstack((time_all,time)) if np.size(time_all) else time\n",
    "    print('global files',da_all.shape, pow_all.shape,time_all.shape)\n",
    "    #Mask non-significant electrodes\n",
    "    da_all,pow_all,time_all = da_all[mask], pow_all[mask], time_all[mask]\n",
    "    print('masked global file',da_all.shape, pow_all.shape,time_all.shape)\n",
    "    \n",
    "    for roi in rois_list:\n",
    "        #Create an array of mean values by subject for each roi\n",
    "        da_by_su, pow_by_su, time_by_su = np.array([]), np.array([]),np.array([])\n",
    "        da_std_su, pow_std_su, time_std_su = np.array([]), np.array([]),np.array([])\n",
    "        for s,su in enumerate(subjects):\n",
    "            da_su = np.mean(da_all[np.where((su_codes=='S'+str(s))&(s_Mai_RL==roi))])\n",
    "            da_std = np.std(da_all[np.where((su_codes=='S'+str(s))&(s_Mai_RL==roi))])\n",
    "            pow_su = np.mean(pow_all[np.where((su_codes=='S'+str(s))&(s_Mai_RL==roi))])\n",
    "            pow_std = np.std(pow_all[np.where((su_codes=='S'+str(s))&(s_Mai_RL==roi))])\n",
    "            time_su = np.mean(time_all[np.where((su_codes=='S'+str(s))&(s_Mai_RL==roi))])\n",
    "            time_std = np.std(time_all[np.where((su_codes=='S'+str(s))&(s_Mai_RL==roi))])\n",
    "            da_by_su = np.hstack((da_by_su,da_std)) if np.size(da_by_su) else da_std\n",
    "            da_std_su = np.hstack((da_std_su,da_su)) if np.size(da_std_su) else da_su\n",
    "            pow_by_su = np.hstack((pow_by_su,pow_su)) if np.size(pow_by_su) else pow_su\n",
    "            pow_std_su = np.hstack((pow_std_su,pow_std)) if np.size(pow_std_su) else pow_std \n",
    "            time_by_su = np.hstack((time_by_su,time_su)) if np.size(time_by_su) else time_su\n",
    "            time_std_su = np.hstack((time_std_su,time_std)) if np.size(time_std_su) else time_std\n",
    "        #remove nan values\n",
    "        da_by_su = da_by_su[np.logical_not(np.isnan(da_by_su))] \n",
    "        pow_by_su = pow_by_su[np.logical_not(np.isnan(pow_by_su))] \n",
    "        time_by_su = time_by_su[np.logical_not(np.isnan(time_by_su))]\n",
    "        da_std_su = da_std_su[np.logical_not(np.isnan(da_std_su))] \n",
    "        pow_std_su = pow_std_su[np.logical_not(np.isnan(pow_std_su))] \n",
    "        time_std_su = time_std_su[np.logical_not(np.isnan(time_std_su))]\n",
    "        print(freq, roi, da_by_su,pow_by_su,time_by_su)\n",
    "    0/0\n",
    "    \n",
    "    #Plot all correlations\n",
    "    scores, features = [scores_tot,scores_diff], [da_by_su,pow_by_su,time_by_su]\n",
    "    scores_names, feats_names= ['tot_EM','diff_EM',],['da_by_su','pow_by_su','time_by_su']\n",
    "    for i,score in enumerate(scores):\n",
    "        for j,feat in enumerate(features):\n",
    "            R, p = stats.pearsonr(score,feat)\n",
    "            R, p = round(R,2), round(p,3)\n",
    "            print('stats for',freq,scores_names[i],feats_names[j],R,p)\n",
    "            fig, ax = plt.subplots()\n",
    "            plt.title('Correlation btw '+scores_names[i]+' and '+feats_names[j]+' for '+freq)\n",
    "            plt.xlabel(scores_names[i]), plt.ylabel(feats_names[j])\n",
    "            anchored_text = AnchoredText('R coeff = %s, pval = %s' % (R, p), loc=2)\n",
    "            ax.add_artist(anchored_text)\n",
    "            fit = np.polyfit(score, feat, deg=1)\n",
    "            ax.plot(sorted(score), fit[0] * np.array(sorted(score)) + fit[1], color='red')\n",
    "            ax.scatter(score, feat, color = 'dodgerblue')\n",
    "            plt.savefig(path2save+'Correlation_'+freq+'_'+roi+'_'+scores_names[i]+'_'+feats_names[j]+'.png')\n",
    "            plt.savefig(path2save+'Correlation_'+freq+'_'+roi+'_'+scores_names[i]+'_'+feats_names[j]+'.pdf')\n",
    "            plt.clf()\n",
    "            plt.close()"
   ]
  },
  {
   "cell_type": "markdown",
   "metadata": {},
   "source": [
    "### Correlations btw memory perf and encoding strategy"
   ]
  },
  {
   "cell_type": "code",
   "execution_count": null,
   "metadata": {
    "collapsed": false
   },
   "outputs": [],
   "source": [
    "th, bsl, feat = '01', 'None', 'pow'\n",
    "###############################################################################\n",
    "st = study('Olfacto')\n",
    "path_npz = join(st.path, 'figure/0_Classif_Power_E_EpiPerf_LowHigh_'+bsl+'/')\n",
    "path_mask = join(path_npz, 'masks_visbrain'+th+'/')\n",
    "path2save = join(path_npz, 'Correlations/')\n",
    "npz_form = join(path_npz, '{}_sources_{}_{}_low_high_sel_physFT_{}.npz')\n",
    "masks_vis_form = join(path_mask, '{}_mask_min{}_{}_minwin{}_th{}.npy')\n",
    "f_form_save = join(path2save, 'Correl_{}_signif_min{}_'+feat+'_bsl_{}_th{}.png')\n",
    "###############################################################################\n",
    "\n",
    "subjects = ['CHAF','FERJ','LEFC','SEMC','PIRJ','MICP','VACJ']\n",
    "su_codes = ['S0','S1','S2','S3','S4','S5','S6']\n",
    "\n",
    "# Memory Performance\n",
    "scores_tot = [12.3,2.4,8.0,2.1,7.7,6.3,8.3]\n",
    "scores_low = [2.3,2.0,0.8,1.6,1.2,1.8,1.7]\n",
    "scores_high = [22.3,2.8,15.2,2.9,14.2,8.9,15.5]\n",
    "scores_diff = [scores_high[i]-scores_low[i] for i in range(len(scores_high))]\n",
    "\n",
    "#Encoding Performance\n",
    "count = [8.9,9.9,10.9,7.4,4.9,3.8,6.8]\n",
    "delta = [16.5,19.7,8.7,16.8,30.3,35.3,29.8]\n",
    "dur = [2.9,1.3,1.3,1.6,1.7,0.8,1.4]\n",
    "vol = [9.3,1.5,2.4,3.4,5.8,1.1,3.1]\n",
    "ampl = [4.5,2.0,3.0,3.5,4.5,2.3,3.2]\n",
    "    \n",
    "#Plot all correlations\n",
    "scores, features = [scores_tot,scores_diff], [count,delta,dur,vol,ampl]\n",
    "scores_names, feats_names= ['tot_EM','diff_EM'],['count','delta','dur','vol','ampl']\n",
    "for i,score in enumerate(scores):\n",
    "    for j,feat in enumerate(features):\n",
    "        R, p = stats.pearsonr(score,feat)\n",
    "        R, p = round(R,2), round(p,3)\n",
    "        print('stats for',scores_names[i],feats_names[j],R,p)\n",
    "        fig, ax = plt.subplots()\n",
    "        plt.title('Correlation btw '+scores_names[i]+' and '+feats_names[j]+' for '+freq)\n",
    "        plt.xlabel(scores_names[i]), plt.ylabel(feats_names[j])\n",
    "        anchored_text = AnchoredText('R coeff = %s, pval = %s' % (R, p), loc=2)\n",
    "        ax.add_artist(anchored_text)\n",
    "        fit = np.polyfit(score, feat, deg=1)\n",
    "        ax.plot(sorted(score), fit[0]*np.array(sorted(score)) + fit[1], color='red')\n",
    "        ax.scatter(score, feat, color = 'dodgerblue')\n",
    "        plt.savefig(path2save+'Correlation_'+freq+'_'+scores_names[i]+'_'+feats_names[j]+'.png')\n",
    "        plt.savefig(path2save+'Correlation_'+freq+'_'+scores_names[i]+'_'+feats_names[j]+'.pdf')\n",
    "        plt.clf()\n",
    "        plt.close()"
   ]
  }
 ],
 "metadata": {
  "anaconda-cloud": {},
  "kernelspec": {
   "display_name": "Python [conda root]",
   "language": "python",
   "name": "conda-root-py"
  },
  "language_info": {
   "codemirror_mode": {
    "name": "ipython",
    "version": 3
   },
   "file_extension": ".py",
   "mimetype": "text/x-python",
   "name": "python",
   "nbconvert_exporter": "python",
   "pygments_lexer": "ipython3",
   "version": "3.5.5"
  }
 },
 "nbformat": 4,
 "nbformat_minor": 1
}
