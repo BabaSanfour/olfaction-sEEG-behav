{
 "cells": [
  {
   "cell_type": "markdown",
   "metadata": {},
   "source": [
    "### Check files dimension in the database"
   ]
  },
  {
   "cell_type": "code",
   "execution_count": 9,
   "metadata": {
    "collapsed": false
   },
   "outputs": [
    {
     "name": "stdout",
     "output_type": "stream",
     "text": [
      "-> Olfacto loaded\n",
      "LEFC_odor_14_bipo_sel_physFT.npz (67, 3584, 3) ['Mai', 'channels', 'aal', 'sf', 'labels', 'xyz', 'Mai_RL', 'BA', 'x']\n",
      "LEFC_odor_3_bipo_sel_physFT.npz (67, 3584, 3) ['Mai', 'channels', 'aal', 'sf', 'labels', 'xyz', 'Mai_RL', 'BA', 'x']\n",
      "LEFC_odor_4_bipo_sel_physFT.npz (67, 3584, 3) ['Mai', 'channels', 'aal', 'sf', 'labels', 'xyz', 'Mai_RL', 'BA', 'x']\n",
      "LEFC_odor_15_bipo_sel_physFT.npz (67, 3584, 3) ['Mai', 'channels', 'aal', 'sf', 'labels', 'xyz', 'Mai_RL', 'BA', 'x']\n",
      "LEFC_odor_16_bipo_sel_physFT.npz (67, 3584, 3) ['Mai', 'channels', 'aal', 'sf', 'labels', 'xyz', 'Mai_RL', 'BA', 'x']\n",
      "LEFC_odor_17_bipo_sel_physFT.npz (67, 3584, 3) ['Mai', 'channels', 'aal', 'sf', 'labels', 'xyz', 'Mai_RL', 'BA', 'x']\n",
      "LEFC_odor_1_bipo_sel_physFT.npz (67, 3584, 3) ['Mai', 'channels', 'aal', 'sf', 'labels', 'xyz', 'Mai_RL', 'BA', 'x']\n",
      "LEFC_odor_2_bipo_sel_physFT.npz (67, 3584, 3) ['Mai', 'channels', 'aal', 'sf', 'labels', 'xyz', 'Mai_RL', 'BA', 'x']\n"
     ]
    }
   ],
   "source": [
    "import pandas as pd\n",
    "import numpy as np\n",
    "from brainpipe.system import study\n",
    "from os import path\n",
    "import os\n",
    "\n",
    "st = study('Olfacto')\n",
    "path_data = path.join(st.path,'database/Retrieval_By_Odor/') #Retrieval_EpiPerf_LowHigh\n",
    "files = os.listdir(path_data) #Retrieval_By_Odor\n",
    "#print(files)\n",
    "for fi in files:\n",
    "    if fi.endswith('bipo_sel_physFT.npz') and fi.startswith('LEFC'):\n",
    "        loadname = path_data+fi\n",
    "        mat = np.load(loadname)\n",
    "        x = np.load(loadname)['x']\n",
    "        print (fi, x.shape, mat.files)"
   ]
  },
  {
   "cell_type": "markdown",
   "metadata": {},
   "source": [
    "## Remove bad electrodes after artefact detection\n",
    "### TF with artefacts or 50Hz"
   ]
  },
  {
   "cell_type": "code",
   "execution_count": null,
   "metadata": {
    "collapsed": false
   },
   "outputs": [],
   "source": [
    "import numpy as np\n",
    "from brainpipe.system import study\n",
    "from os import path"
   ]
  },
  {
   "cell_type": "code",
   "execution_count": null,
   "metadata": {
    "collapsed": false,
    "scrolled": true
   },
   "outputs": [],
   "source": [
    "st = study('Olfacto')\n",
    "pathfiles = path.join(st.path, 'database/Retrieval_No_Odor/')\n",
    "#conds = ['low', 'high']\n",
    "phases = ['odor']#'rest'\n",
    "rej_elec = {\n",
    "    'CHAF' : [98,102,103,104],\n",
    "    'VACJ' : [0,66,67,68,122,128], \n",
    "    'SEMC' : [36],\n",
    "    'PIRJ' : [10,14,15,25,26,41,47,48,53,54,55,57,58,63,64,71,72,79,80,81,82,83,],\n",
    "    'LEFC' : [47,48,49,50,140,141,],\n",
    "    'MICP' : [4,9,13,71,],\n",
    "    'FERJ': [],\n",
    "            }\n",
    "files = [k for k in st.search('_bipo.npz', folder=('database/Retrieval_No_Odor/'))]\n",
    "for fi in files:\n",
    "    mat = np.load(pathfiles+fi)\n",
    "    x, sf, label, channel, xyz = mat['x'], mat['sf'], mat['label'], mat['channel'], mat['xyz']\n",
    "    print (fi, x.shape, label.shape, channel.shape, xyz.shape)\n",
    "\n",
    "    #Remove all bad electrodes from the database\n",
    "    new_x = np.delete(x,rej_elec[fi[:4]], axis=0)\n",
    "    new_label = np.delete(label,rej_elec[fi[:4]], axis=0)\n",
    "    new_channel = np.delete(channel,rej_elec[fi[:4]], axis=0)\n",
    "    new_xyz = np.delete(xyz,rej_elec[fi[:4]], axis=0)\n",
    "    print (fi, len(rej_elec[fi[:4]]),new_x.shape, new_label.shape, new_channel.shape, new_xyz.shape)\n",
    "\n",
    "    #Save all new information\n",
    "    mat_new = {'x':new_x, 'label':new_label, 'channel':new_channel, 'xyz':new_xyz, 'sf':sf}\n",
    "    file_source = fi.replace('bipo.npz','bipo2.npz')\n",
    "    np.savez(pathfiles+file_source,**mat_new)"
   ]
  },
  {
   "cell_type": "markdown",
   "metadata": {},
   "source": [
    "## Remove electrodes with WM"
   ]
  },
  {
   "cell_type": "code",
   "execution_count": null,
   "metadata": {
    "collapsed": false,
    "scrolled": true
   },
   "outputs": [],
   "source": [
    "st = study('Olfacto')\n",
    "pathfiles = path.join(st.path, 'database/Retrieval_No_Odor/')\n",
    "\n",
    "files = [k for k in st.search('_bipo2.npz', folder=('database/Retrieval_No_Odor/'))]\n",
    "for fi in files:\n",
    "    mat = np.load(pathfiles+fi)\n",
    "    data, label, channel, xyz,sf= mat['x'], mat['label'], mat['channel'], mat['xyz'],mat['sf']\n",
    "    print(fi, 'data shape: ', data.shape, label.shape, channel.shape, xyz.shape)\n",
    "\n",
    "    #create a list of all electrodes to remove\n",
    "    elecs = label.shape[0]\n",
    "    elecs_rej = []\n",
    "    for elec in range(elecs):\n",
    "        elec_rej_wm = np.where(label[elec].find('WM') != -1,int(elec),None)\n",
    "        elec_rej_lcr = np.where(label[elec].find('LCR') != -1,int(elec),None)\n",
    "        elec_rej_skull = np.where(label[elec].find('skull') != -1,int(elec),None)\n",
    "        elec_rej_out = np.where(label[elec].find('out') != -1,int(elec),None)\n",
    "        if elec_rej_wm != None:\n",
    "            elecs_rej = np.append(elecs_rej,elec_rej_wm)\n",
    "        if elec_rej_lcr != None and elec_rej_lcr != elec_rej_wm:\n",
    "            elecs_rej = np.append(elecs_rej,elec_rej_lcr)\n",
    "        if elec_rej_skull != None and elec_rej_skull != elec_rej_wm and elec_rej_skull != elec_rej_lcr:\n",
    "            elecs_rej = np.append(elecs_rej,elec_rej_skull)\n",
    "        if elec_rej_out != None and elec_rej_out != elec_rej_skull and elec_rej_out!= elec_rej_wm and elec_rej_out != elec_rej_lcr:\n",
    "            elecs_rej = np.append(elecs_rej, elec_rej_out)\n",
    "    print(fi[:4], elecs, elecs_rej)\n",
    "\n",
    "    #Remove all bad electrodes from the database\n",
    "    new_data, new_label = np.delete(data,elecs_rej, axis=0), np.delete(label,elecs_rej, axis=0)\n",
    "    new_channel, new_xyz = np.delete(channel,elecs_rej, axis=0), np.delete(xyz,elecs_rej, axis=0)\n",
    "    print (fi,'new data',new_data.shape, new_label.shape,new_channel.shape, new_xyz.shape)\n",
    "\n",
    "    #Save all new information\n",
    "    mat_new = {'x':new_data, 'label':new_label, 'channel':new_channel, 'xyz':new_xyz, 'sf':sf}\n",
    "    filename2 = fi.replace('bipo2.npz','bipo_sel.npz')\n",
    "    np.savez(pathfiles+filename2,**mat_new)\n",
    "    del elecs, elecs_rej, new_data, new_label, new_channel, new_xyz"
   ]
  },
  {
   "cell_type": "markdown",
   "metadata": {},
   "source": [
    "### Add AAL & BA labels to subjects' matrices\n",
    "### Add also the Mai labels (Jane-AL) post fMRI"
   ]
  },
  {
   "cell_type": "code",
   "execution_count": null,
   "metadata": {
    "collapsed": false
   },
   "outputs": [],
   "source": [
    "#############SANS LABELS DE MAI#######################################\n",
    "import pandas as pd\n",
    "import numpy as np\n",
    "from brainpipe.system import study\n",
    "from os import path\n",
    "\n",
    "st = study('Olfacto')\n",
    "path_data = path.join(st.path,'database/Retrieval_No_Odor/')\n",
    "path_labels = path.join(path_data,'_labels/') #create with visbrain in 4_Visbrain new scripts\n",
    "\n",
    "files = [k for k in st.search('_bipo_sel.npz', folder=('database/Retrieval_No_Odor/'))]\n",
    "for f in files:\n",
    "    mat = np.load(path_data+f)\n",
    "    kwargs = {}\n",
    "    kwargs['x'], kwargs['channels'], kwargs['xyz'] = mat['x'], mat['channel'],mat['xyz']\n",
    "    kwargs['labels'], kwargs['sf']=mat['label'],mat['sf']\n",
    "    # Load the AAL labels\n",
    "    aal = 'Elecs_'+f[:4]+'_labels_aal.csv'\n",
    "    df = pd.read_csv(path_labels+aal, sep=',')\n",
    "    kwargs['aal'] = df['aal'].values\n",
    "    # Load the BA labels\n",
    "    BA = 'Elecs_'+f[:4]+'_labels_brodmann.csv'\n",
    "    df = pd.read_csv(path_labels+BA, sep=',')\n",
    "    kwargs['BA'] = df['brodmann'].values\n",
    "    # Update the datafile\n",
    "    filename = f.replace('sel.npz','sel_phys.npz')\n",
    "    np.savez(path_data+filename, **kwargs)\n",
    "    mat2 = np.load(path_data+filename)\n",
    "    print(f[:4],mat2['x'].shape, mat2['xyz'].shape, mat2['aal'].shape, mat2['BA'].shape)\n",
    "    "
   ]
  },
  {
   "cell_type": "code",
   "execution_count": 4,
   "metadata": {
    "collapsed": false
   },
   "outputs": [
    {
     "name": "stdout",
     "output_type": "stream",
     "text": [
      "-> Olfacto loaded\n",
      "['sf', 'xyz', 'channels', 'x', 'aal', 'BA', 'labels']\n",
      "['xyz', 'Mai_RL', 'sf', 'x', 'BA', 'channels', 'labels', 'aal', 'Mai'] ['PCC_L' 'PCC_L' 'PrG_L' 'PrG_L' 'PrG_L'] ['PCC' 'PCC' 'PrG' 'PrG' 'PrG']\n",
      "CHAF (94, 3584, 12) (94, 3) (94,) (94,) (94,) (94,)\n",
      "['sf', 'xyz', 'channels', 'x', 'aal', 'BA', 'labels']\n",
      "['xyz', 'Mai_RL', 'sf', 'x', 'BA', 'channels', 'labels', 'aal', 'Mai'] ['PCC_L' 'PCC_L' 'PrG_L' 'PrG_L' 'PrG_L'] ['PCC' 'PCC' 'PrG' 'PrG' 'PrG']\n",
      "CHAF (94, 3584, 12) (94, 3) (94,) (94,) (94,) (94,)\n",
      "['sf', 'xyz', 'channels', 'x', 'aal', 'BA', 'labels']\n",
      "['xyz', 'Mai_RL', 'sf', 'x', 'BA', 'channels', 'labels', 'aal', 'Mai'] ['Amg_R' 'Amg_R' 'MTG_R' 'MTG_R' 'MTG_R'] ['Amg' 'Amg' 'MTG' 'MTG' 'MTG']\n",
      "FERJ (85, 3584, 12) (85, 3) (85,) (85,) (85,) (85,)\n",
      "['sf', 'xyz', 'channels', 'x', 'aal', 'BA', 'labels']\n",
      "['xyz', 'Mai_RL', 'sf', 'x', 'BA', 'channels', 'labels', 'aal', 'Mai'] ['Amg_R' 'Amg_R' 'MTG_R' 'MTG_R' 'MTG_R'] ['Amg' 'Amg' 'MTG' 'MTG' 'MTG']\n",
      "FERJ (85, 3584, 12) (85, 3) (85,) (85,) (85,) (85,)\n",
      "['sf', 'xyz', 'channels', 'x', 'aal', 'BA', 'labels']\n",
      "['xyz', 'Mai_RL', 'sf', 'x', 'BA', 'channels', 'labels', 'aal', 'Mai'] ['Amg-PirT_R' 'Ins_R' 'Ins_R' 'STG_R' 'MTG_R'] ['Amg-PirT' 'Ins' 'Ins' 'STG' 'MTG']\n",
      "LEFC (148, 3584, 12) (148, 3) (148,) (148,) (148,) (148,)\n",
      "['sf', 'xyz', 'channels', 'x', 'aal', 'BA', 'labels']\n",
      "['xyz', 'Mai_RL', 'sf', 'x', 'BA', 'channels', 'labels', 'aal', 'Mai'] ['Amg-PirT_R' 'Ins_R' 'Ins_R' 'STG_R' 'MTG_R'] ['Amg-PirT' 'Ins' 'Ins' 'STG' 'MTG']\n",
      "LEFC (148, 3584, 12) (148, 3) (148,) (148,) (148,) (148,)\n",
      "['sf', 'xyz', 'channels', 'x', 'aal', 'BA', 'labels']\n",
      "['xyz', 'Mai_RL', 'sf', 'x', 'BA', 'channels', 'labels', 'aal', 'Mai'] ['HC_R' 'HC_R' 'HC_R' 'MTG_R' 'MTG_R'] ['HC' 'HC' 'HC' 'MTG' 'MTG']\n",
      "PIRJ (61, 3584, 16) (61, 3) (61,) (61,) (61,) (61,)\n",
      "['sf', 'xyz', 'channels', 'x', 'aal', 'BA', 'labels']\n",
      "['xyz', 'Mai_RL', 'sf', 'x', 'BA', 'channels', 'labels', 'aal', 'Mai'] ['HC_R' 'HC_R' 'HC_R' 'MTG_R' 'MTG_R'] ['HC' 'HC' 'HC' 'MTG' 'MTG']\n",
      "PIRJ (61, 3584, 16) (61, 3) (61,) (61,) (61,) (61,)\n",
      "['sf', 'xyz', 'channels', 'x', 'aal', 'BA', 'labels']\n",
      "['xyz', 'Mai_RL', 'sf', 'x', 'BA', 'channels', 'labels', 'aal', 'Mai'] ['HC_R' 'HC_R' 'HC_R' 'HC_R' 'PHG_R'] ['HC' 'HC' 'HC' 'HC' 'PHG']\n",
      "SEMC (66, 3584, 9) (66, 3) (66,) (66,) (66,) (66,)\n",
      "['sf', 'xyz', 'channels', 'x', 'aal', 'BA', 'labels']\n",
      "['xyz', 'Mai_RL', 'sf', 'x', 'BA', 'channels', 'labels', 'aal', 'Mai'] ['HC_R' 'HC_R' 'HC_R' 'HC_R' 'PHG_R'] ['HC' 'HC' 'HC' 'HC' 'PHG']\n",
      "SEMC (66, 3584, 15) (66, 3) (66,) (66,) (66,) (66,)\n",
      "['sf', 'xyz', 'channels', 'x', 'aal', 'BA', 'labels']\n",
      "['xyz', 'Mai_RL', 'sf', 'x', 'BA', 'channels', 'labels', 'aal', 'Mai'] ['HC_R' 'HC_R' 'MTG_R' 'MTG_R' 'MTG_R'] ['HC' 'HC' 'MTG' 'MTG' 'MTG']\n",
      "VACJ (80, 3584, 12) (80, 3) (80,) (80,) (80,) (80,)\n",
      "['sf', 'xyz', 'channels', 'x', 'aal', 'BA', 'labels']\n",
      "['xyz', 'Mai_RL', 'sf', 'x', 'BA', 'channels', 'labels', 'aal', 'Mai'] ['HC_R' 'HC_R' 'MTG_R' 'MTG_R' 'MTG_R'] ['HC' 'HC' 'MTG' 'MTG' 'MTG']\n",
      "VACJ (80, 3584, 12) (80, 3) (80,) (80,) (80,) (80,)\n"
     ]
    }
   ],
   "source": [
    "import pandas as pd\n",
    "import numpy as np\n",
    "from brainpipe.system import study\n",
    "from os import path\n",
    "\n",
    "st = study('Olfacto')\n",
    "path_data = path.join(st.path,'database/Retrieval_EpiPerf_LowHigh/')\n",
    "path_labels = path.join(path_data,'_labels/') #create with visbrain in 4_Visbrain new scripts\n",
    "\n",
    "files = [k for k in st.search('_bipo_sel_phys.npz', folder=('database/Retrieval_EpiPerf_LowHigh/'))]\n",
    "for fi in files:\n",
    "    mat = np.load(path_data+fi)\n",
    "    print(mat.files)\n",
    "    kwargs = {}\n",
    "    kwargs['x'], kwargs['channels'], kwargs['xyz'] = mat['x'], mat['channels'],mat['xyz']\n",
    "    kwargs['labels'], kwargs['sf']=mat['labels'],mat['sf']\n",
    "    # Load the AAL labels\n",
    "    aal = 'Elecs_'+fi[:4]+'_labels_aal.csv'\n",
    "    df = pd.read_csv(path_labels+aal, sep=',')\n",
    "    kwargs['aal'] = df['aal'].values\n",
    "    # Load the BA labels\n",
    "    BA = 'Elecs_'+fi[:4]+'_labels_brodmann.csv'\n",
    "    df = pd.read_csv(path_labels+BA, sep=',')\n",
    "    kwargs['BA'] = df['brodmann'].values\n",
    "    #Load the new_labels from Mai atlas\n",
    "    Mai_file = '0_all_subjects_info_elecs.csv'\n",
    "    df2 = pd.read_csv(path_labels+Mai_file, sep=',')\n",
    "    Mai_data = df2['Mai_RL'].loc[df2['subjects'] == fi[:4]].values\n",
    "    kwargs['Mai_RL'] = Mai_data\n",
    "    #Add  the new labels Mai RL\n",
    "    kwargs['Mai'] = Mai_data+'_'+['R' if x > 0 else 'L' for x in df2['x'].loc[df2['subjects'] == fi[:4]].values]\n",
    "    # Update the datafile\n",
    "    filename2 = fi.replace('bipo_sel_phys.npz','bipo_sel_phys.npz')\n",
    "    np.savez(path_data+filename2, **kwargs)\n",
    "    mat2 = np.load(path_data+filename2)\n",
    "    print(mat2.files, mat2['Mai'][:5],mat2['Mai_RL'][:5])\n",
    "    print(fi[:4],mat2['x'].shape, mat2['xyz'].shape, mat2['aal'].shape, mat2['BA'].shape,\n",
    "          mat2['Mai'].shape, mat2['Mai_RL'].shape)"
   ]
  },
  {
   "cell_type": "markdown",
   "metadata": {},
   "source": [
    "### Select only regions present in at least 2 patients \n",
    "#### Remove all not memory related regions (motor, precentral, SMA)"
   ]
  },
  {
   "cell_type": "code",
   "execution_count": null,
   "metadata": {
    "collapsed": false
   },
   "outputs": [],
   "source": [
    "st = study('Olfacto')\n",
    "pathfiles = path.join(st.path, 'database/Encoding_EpiPerf_LowHigh/')\n",
    "subjects = ['CHAF','VACJ','SEMC','LEFC','MICP','PIRJ','FERJ']\n",
    "conds = ['bad','good']\n",
    "to_keep = ['Amygdala (R)', 'Cingulum Ant (R)','Cingulum Mid (R)', 'Frontal Inf Orb (R)', \n",
    "           'Frontal Inf Tri (R)', 'Frontal Mid (R)', 'Frontal Mid Orb (R)', 'Frontal Sup (R)',\n",
    "           'Frontal Sup Medial (R)', 'Frontal Sup Orb (R)', 'Hippocampus (R)', 'Insula (R)',\n",
    "           'ParaHippocampal (R)','Temporal Inf (R)', 'Temporal Mid (R)', 'Temporal Pole Mid (R)',\n",
    "           'Temporal Pole Sup (R)', 'Temporal Sup (R)','Amygdala (L)', 'Cingulum Ant (L)', \n",
    "           'Cingulum Mid (L)', 'Frontal Inf Orb (L)', 'Frontal Inf Tri (L)','Frontal Mid (L)', \n",
    "           'Frontal Mid Orb (L)', 'Frontal Sup (L)','Frontal Sup Medial (L)', 'Frontal Sup Orb (L)',\n",
    "           'Hippocampus (L)', 'Insula (L)','ParaHippocampal (L)','Temporal Inf (L)', \n",
    "           'Temporal Mid (L)','Temporal Pole Mid (L)','Temporal Pole Sup (L)', 'Temporal Sup (L)']\n",
    "\n",
    "for su in subjects:\n",
    "    for cond in conds:\n",
    "        mat = np.load(pathfiles+su+'_odor_'+cond+'_bipo_sel_phys.npz')\n",
    "        idx = np.where([mat['phys'][i] in to_keep for i in range(len(mat['phys']))])\n",
    "        kwargs = {}\n",
    "        kwargs['labels'], kwargs['x'], kwargs['phys'] = mat['labels'][idx], mat['x'][idx], mat['phys'][idx]\n",
    "        kwargs['xyz'], kwargs['channels'], kwargs['sf'] = mat['xyz'][idx], mat['channels'][idx], mat['sf']\n",
    "        np.savez(pathfiles+su+'_odor_'+cond+'_bipo_sel_phys2.npz',**kwargs)\n",
    "        del mat"
   ]
  }
 ],
 "metadata": {
  "anaconda-cloud": {},
  "kernelspec": {
   "display_name": "Python [conda root]",
   "language": "python",
   "name": "conda-root-py"
  },
  "language_info": {
   "codemirror_mode": {
    "name": "ipython",
    "version": 3
   },
   "file_extension": ".py",
   "mimetype": "text/x-python",
   "name": "python",
   "nbconvert_exporter": "python",
   "pygments_lexer": "ipython3",
   "version": "3.5.5"
  }
 },
 "nbformat": 4,
 "nbformat_minor": 2
}
