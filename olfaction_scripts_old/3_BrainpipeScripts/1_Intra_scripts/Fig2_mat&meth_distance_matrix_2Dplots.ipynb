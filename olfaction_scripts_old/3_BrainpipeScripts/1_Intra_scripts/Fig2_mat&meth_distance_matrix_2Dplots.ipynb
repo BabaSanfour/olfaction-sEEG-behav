{
 "cells": [
  {
   "cell_type": "markdown",
   "metadata": {},
   "source": [
    "### create a random matrix and plot distance and 2D plots"
   ]
  },
  {
   "cell_type": "code",
   "execution_count": 41,
   "metadata": {},
   "outputs": [
    {
     "name": "stdout",
     "output_type": "stream",
     "text": [
      "-> Olfacto loaded\n"
     ]
    }
   ],
   "source": [
    "import matplotlib.pyplot as plt\n",
    "from matplotlib.lines import Line2D\n",
    "from matplotlib import cm\n",
    "from matplotlib.patches import Patch\n",
    "from sklearn.manifold import MDS\n",
    "\n",
    "from brainpipe.system import study\n",
    "import numpy as np\n",
    "from os.path import join\n",
    "import random\n",
    "\"\"\"\n",
    "Plot TPSim matrices (RDM) for all odors (Familiarity Pleasantness, both)\n",
    "\"\"\"\n",
    "###############################################################################\n",
    "st = study('Olfacto')\n",
    "path_npz = join(st.path,'feature/TPSim_3groups_Enc/')\n",
    "savename = join(path_npz, 'distance_graphs/Plot_distance_{}_random_Fig2.png')\n",
    "###############################################################################\n",
    "\n",
    "rand_tps = [random.uniform(0, 1) for _ in range(36)]\n",
    "n_od = 8\n",
    "idx = list(np.arange(1,n_od+1))\n",
    "tri = np.zeros((n_od, n_od))\n",
    "#tri[np.triu_indices(n_od,1)] = rand_tps #diagonal of 0\n",
    "#tri[np.tril_indices(n_od, -1)] = tri.T[np.tril_indices(n_od, -1)]\n",
    "tri[np.triu_indices(n_od)] = rand_tps\n",
    "tri[np.tril_indices(n_od)] = tri.T[np.tril_indices(n_od)]\n",
    "\n",
    "model = MDS(n_components=2, dissimilarity='precomputed', random_state=1)\n",
    "out = model.fit_transform(tri)\n",
    "fig, (ax1,ax2) = plt.subplots(1,2,figsize=(8,3))\n",
    "colors = 'black'\n",
    "markers = 'o'\n",
    "\n",
    "for i, txt in enumerate(idx):\n",
    "    ax1.scatter(out[i,0], out[i,1], c=colors, marker=markers)\n",
    "    ax1.annotate('O'+str(txt), (out[i,0], out[i,1]))\n",
    "ax1.set_xlabel('component 1')\n",
    "ax1.set_ylabel('component 2')\n",
    "#ax1.axis('equal')\n",
    "\n",
    "#subplot #1 Graph 2D \n",
    "mask =  np.tri(tri.shape[0], k=-1) #mask upper triangle\n",
    "A = np.ma.array(tri, mask=mask) # mask out the lower triangle\n",
    "cmap = cm.get_cmap('viridis', 30)\n",
    "cax = ax2.imshow(A, vmin=0,interpolation=\"none\", cmap=cmap,aspect='auto')\n",
    "ax2.set_xticks(np.arange(n_od))\n",
    "ax2.set_yticks(np.arange(n_od))\n",
    "ax2.set_xticklabels(idx,fontsize=11)\n",
    "ax2.set_yticklabels(idx,fontsize=11)\n",
    "\n",
    "asp = np.abs(np.diff(ax1.get_xlim())[0] / np.diff(ax1.get_ylim())[0])\n",
    "ax1.set_aspect(asp)\n",
    "\n",
    "plt.colorbar(cax)\n",
    "plt.subplots_adjust(top=0.92)\n",
    "title = 'Distance btw odors in {} domaine )'.format('rand')\n",
    "fig.suptitle(title, fontsize=12)\n",
    "\n",
    "plt.savefig(savename.format('rand'))\n",
    "plt.savefig(savename.format('rand').replace('.png','.pdf'))\n",
    "plt.clf()\n",
    "plt.close()\n"
   ]
  }
 ],
 "metadata": {
  "kernelspec": {
   "display_name": "Python 3",
   "language": "python",
   "name": "python3"
  },
  "language_info": {
   "codemirror_mode": {
    "name": "ipython",
    "version": 3
   },
   "file_extension": ".py",
   "mimetype": "text/x-python",
   "name": "python",
   "nbconvert_exporter": "python",
   "pygments_lexer": "ipython3",
   "version": "3.6.1"
  }
 },
 "nbformat": 4,
 "nbformat_minor": 2
}
