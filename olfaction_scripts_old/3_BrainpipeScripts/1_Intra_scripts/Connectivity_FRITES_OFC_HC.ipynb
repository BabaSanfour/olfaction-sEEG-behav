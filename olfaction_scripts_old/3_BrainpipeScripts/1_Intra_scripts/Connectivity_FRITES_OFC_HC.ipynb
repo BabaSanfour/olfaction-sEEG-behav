{
 "cells": [
  {
   "cell_type": "code",
   "execution_count": 1,
   "metadata": {},
   "outputs": [
    {
     "name": "stdout",
     "output_type": "stream",
     "text": [
      "-> Olfacto loaded\n"
     ]
    }
   ],
   "source": [
    "from brainpipe.system import study\n",
    "import numpy as np\n",
    "from itertools import product\n",
    "from os.path import join\n",
    "\n",
    "from brainets.spectral import mt_lf, mt_hga\n",
    "import mne\n",
    "from brainpipe.feature import power\n",
    "from brainpipe.feat.utils._feat import _manageWindow\n",
    "st = study('Olfacto')"
   ]
  },
  {
   "cell_type": "code",
   "execution_count": 49,
   "metadata": {
    "scrolled": true
   },
   "outputs": [
    {
     "name": "stdout",
     "output_type": "stream",
     "text": [
      "9 matching events found\n",
      "No baseline correction applied\n",
      "Not setting metadata\n",
      "0 projection items activated\n",
      "0 bad epochs dropped\n"
     ]
    },
    {
     "name": "stderr",
     "output_type": "stream",
     "text": [
      "Spectral properties :\n",
      "- Frequency of interest (foi) : 100.0Hz\n",
      "- Number of cycles : 15\n",
      "- Number of tapers : 14\n",
      "- Time x Full bandwidth : 15.0\n",
      "- Temporal smoothing (T) : 0.1s\n",
      "- foi +/- W : [50.0, 150.0]Hz\n"
     ]
    },
    {
     "name": "stdout",
     "output_type": "stream",
     "text": [
      "16 matching events found\n",
      "No baseline correction applied\n",
      "Not setting metadata\n",
      "0 projection items activated\n",
      "0 bad epochs dropped\n"
     ]
    },
    {
     "name": "stderr",
     "output_type": "stream",
     "text": [
      "Spectral properties :\n",
      "- Frequency of interest (foi) : 100.0Hz\n",
      "- Number of cycles : 15\n",
      "- Number of tapers : 14\n",
      "- Time x Full bandwidth : 15.0\n",
      "- Temporal smoothing (T) : 0.1s\n",
      "- foi +/- W : [50.0, 150.0]Hz\n"
     ]
    },
    {
     "name": "stdout",
     "output_type": "stream",
     "text": [
      "(1, 25, 14, 1536) (1, 25, 14, 1536)\n",
      "17 matching events found\n",
      "No baseline correction applied\n",
      "Not setting metadata\n",
      "0 projection items activated\n",
      "0 bad epochs dropped\n"
     ]
    },
    {
     "name": "stderr",
     "output_type": "stream",
     "text": [
      "Spectral properties :\n",
      "- Frequency of interest (foi) : 100.0Hz\n",
      "- Number of cycles : 15\n",
      "- Number of tapers : 14\n",
      "- Time x Full bandwidth : 15.0\n",
      "- Temporal smoothing (T) : 0.1s\n",
      "- foi +/- W : [50.0, 150.0]Hz\n"
     ]
    },
    {
     "name": "stdout",
     "output_type": "stream",
     "text": [
      "23 matching events found\n",
      "No baseline correction applied\n",
      "Not setting metadata\n",
      "0 projection items activated\n",
      "0 bad epochs dropped\n"
     ]
    },
    {
     "name": "stderr",
     "output_type": "stream",
     "text": [
      "Spectral properties :\n",
      "- Frequency of interest (foi) : 100.0Hz\n",
      "- Number of cycles : 15\n",
      "- Number of tapers : 14\n",
      "- Time x Full bandwidth : 15.0\n",
      "- Temporal smoothing (T) : 0.1s\n",
      "- foi +/- W : [50.0, 150.0]Hz\n"
     ]
    },
    {
     "name": "stdout",
     "output_type": "stream",
     "text": [
      "(1, 40, 13, 1536) (1, 40, 13, 1536)\n",
      "2 matching events found\n",
      "No baseline correction applied\n",
      "Not setting metadata\n",
      "0 projection items activated\n",
      "0 bad epochs dropped\n"
     ]
    },
    {
     "name": "stderr",
     "output_type": "stream",
     "text": [
      "Spectral properties :\n",
      "- Frequency of interest (foi) : 100.0Hz\n",
      "- Number of cycles : 15\n",
      "- Number of tapers : 14\n",
      "- Time x Full bandwidth : 15.0\n",
      "- Temporal smoothing (T) : 0.1s\n",
      "- foi +/- W : [50.0, 150.0]Hz\n"
     ]
    },
    {
     "name": "stdout",
     "output_type": "stream",
     "text": [
      "14 matching events found\n",
      "No baseline correction applied\n",
      "Not setting metadata\n",
      "0 projection items activated\n",
      "0 bad epochs dropped\n"
     ]
    },
    {
     "name": "stderr",
     "output_type": "stream",
     "text": [
      "Spectral properties :\n",
      "- Frequency of interest (foi) : 100.0Hz\n",
      "- Number of cycles : 15\n",
      "- Number of tapers : 14\n",
      "- Time x Full bandwidth : 15.0\n",
      "- Temporal smoothing (T) : 0.1s\n",
      "- foi +/- W : [50.0, 150.0]Hz\n"
     ]
    },
    {
     "name": "stdout",
     "output_type": "stream",
     "text": [
      "(1, 16, 11, 1536) (1, 16, 11, 1536)\n",
      "9 matching events found\n",
      "No baseline correction applied\n",
      "Not setting metadata\n",
      "0 projection items activated\n",
      "0 bad epochs dropped\n"
     ]
    },
    {
     "name": "stderr",
     "output_type": "stream",
     "text": [
      "Spectral properties :\n",
      "- Frequency of interest (foi) : 100.0Hz\n",
      "- Number of cycles : 15\n",
      "- Number of tapers : 14\n",
      "- Time x Full bandwidth : 15.0\n",
      "- Temporal smoothing (T) : 0.1s\n",
      "- foi +/- W : [50.0, 150.0]Hz\n"
     ]
    },
    {
     "name": "stdout",
     "output_type": "stream",
     "text": [
      "21 matching events found\n",
      "No baseline correction applied\n",
      "Not setting metadata\n",
      "0 projection items activated\n",
      "0 bad epochs dropped\n"
     ]
    },
    {
     "name": "stderr",
     "output_type": "stream",
     "text": [
      "Spectral properties :\n",
      "- Frequency of interest (foi) : 100.0Hz\n",
      "- Number of cycles : 15\n",
      "- Number of tapers : 14\n",
      "- Time x Full bandwidth : 15.0\n",
      "- Temporal smoothing (T) : 0.1s\n",
      "- foi +/- W : [50.0, 150.0]Hz\n"
     ]
    },
    {
     "name": "stdout",
     "output_type": "stream",
     "text": [
      "(1, 30, 8, 1536) (1, 30, 8, 1536)\n",
      "9 matching events found\n",
      "No baseline correction applied\n",
      "Not setting metadata\n",
      "0 projection items activated\n",
      "0 bad epochs dropped\n"
     ]
    },
    {
     "name": "stderr",
     "output_type": "stream",
     "text": [
      "Spectral properties :\n",
      "- Frequency of interest (foi) : 100.0Hz\n",
      "- Number of cycles : 15\n",
      "- Number of tapers : 14\n",
      "- Time x Full bandwidth : 15.0\n",
      "- Temporal smoothing (T) : 0.1s\n",
      "- foi +/- W : [50.0, 150.0]Hz\n"
     ]
    },
    {
     "name": "stdout",
     "output_type": "stream",
     "text": [
      "9 matching events found\n",
      "No baseline correction applied\n",
      "Not setting metadata\n",
      "0 projection items activated\n",
      "0 bad epochs dropped\n"
     ]
    },
    {
     "name": "stderr",
     "output_type": "stream",
     "text": [
      "Spectral properties :\n",
      "- Frequency of interest (foi) : 100.0Hz\n",
      "- Number of cycles : 15\n",
      "- Number of tapers : 14\n",
      "- Time x Full bandwidth : 15.0\n",
      "- Temporal smoothing (T) : 0.1s\n",
      "- foi +/- W : [50.0, 150.0]Hz\n"
     ]
    },
    {
     "name": "stdout",
     "output_type": "stream",
     "text": [
      "(1, 18, 12, 1536) (1, 18, 12, 1536)\n"
     ]
    }
   ],
   "source": [
    "\"\"\"Compute instantaneous power for high freqs (50-150Hz) and lower freqs \"\"\"\n",
    "\n",
    "path_pow = join(st.path, 'database/Encoding_By_Cond_v=1_elecs=all/')\n",
    "path_save = join(st.path, 'feature/Conn_instant_Theta_HG_FRITE/')\n",
    "filename = join(path_pow, '{}_odor_{}_E.npz')\n",
    "filesave = join(path_save, '{}_odor_{}_E_2freqs.npz')\n",
    "\n",
    "conds, rois = ['high','low'], ['aHC','OFC_olf']\n",
    "subjects = ['FERJ','LEFC','PIRJ','SEMC','VACJ']\n",
    "#subjects = ['PIRJ']\n",
    "\n",
    "for su in subjects:\n",
    "    data = np.load(filename.format(su,conds[0]),allow_pickle=True)\n",
    "    idx = [i for i,lab in enumerate(data['Mai_RL']) if lab in rois]\n",
    "    #print(su, data.files, data['Mai_RL'],list(data['Mai_RL'][idx]),idx)\n",
    "\n",
    "    if len(idx) > 0:\n",
    "        pow_HG, pow_Th, y = np.array([]), np.array([]), []\n",
    "        for i, cond in enumerate(conds):\n",
    "            data = np.load(filename.format(su,cond), allow_pickle=True)\n",
    "            data_sel = data['x'][idx,:,:]\n",
    "            data_sel_mne = data_sel.swapaxes(0,2).swapaxes(1,2) #nchans ntimes nepochs\n",
    "            chans = [str(x) for x in data['channels'][idx]]\n",
    "            info = mne.create_info(ch_names=chans, sfreq=512.) \n",
    "            epochs = mne.EpochsArray(data_sel_mne,info=info) #nepochs nchans ntimes\n",
    "            \n",
    "            ft_theta = power(512, data_sel.shape[1], baseline=None,\n",
    "                             f=[3,7], method='hilbert1').get(data_sel,n_jobs=-1)[0]\n",
    "            ft_highG = mt_hga(epochs, n_cycles=15, time_bandwidth=15, \n",
    "                                  log_transform=False, picks = 'all')\n",
    "            \n",
    "            ft_theta = ft_theta[:,:,1024:2560,:]\n",
    "            ft_highG = ft_highG.data[:,:,:,1024:2560]\n",
    "            y.extend([i]*ft_highG.shape[0])\n",
    "            pow_Th = np.concatenate((pow_Th,ft_theta),axis=-1) if np.size(pow_Th) else ft_theta\n",
    "            pow_HG = np.concatenate((pow_HG,ft_highG),axis=0) if np.size(pow_HG) else ft_highG\n",
    "        pow_Th = pow_Th.swapaxes(1,3).swapaxes(2,3)\n",
    "        pow_HG = pow_HG.swapaxes(0,2).swapaxes(1,2)\n",
    "        print(pow_HG.shape, pow_Th.shape)\n",
    "\n",
    "        new_npz = {}\n",
    "        for f in ['Mai_RL','xyz','channels']:\n",
    "            #print(idx, su, data[f], data[f][idx])\n",
    "            new_npz[f] = data[f][idx]\n",
    "        new_npz['pow_HG'], new_npz['pow_Th'], new_npz['y'] = pow_HG, pow_Th, y\n",
    "        _ , time = _manageWindow(data_sel.shape[1], width=None, step=None)\n",
    "        new_npz['time'] = (np.array(time[1024:2560]) / 512) - 3\n",
    "        np.savez(filesave.format(su,'all_3conds'),**new_npz)\n"
   ]
  },
  {
   "cell_type": "code",
   "execution_count": 42,
   "metadata": {
    "scrolled": true
   },
   "outputs": [
    {
     "name": "stderr",
     "output_type": "stream",
     "text": [
      "Defining temporal windows\n",
      "    Definition of sliding windows (len=0.5, start=-1.0, stop=1.998046875, step=0.1)\n",
      "    25 windows defined\n"
     ]
    },
    {
     "name": "stdout",
     "output_type": "stream",
     "text": [
      "FERJ ['Mai_RL', 'xyz', 'channels', 'pow_HG', 'pow_Th', 'y', 'time'] ['aHC' 'aHC' 'aHC' 'aHC' 'aHC' 'aHC' 'aHC' 'aHC' 'aHC' 'aHC' 'aHC' 'aHC'\n",
      " 'aHC' 'aHC']\n"
     ]
    },
    {
     "name": "stderr",
     "output_type": "stream",
     "text": [
      "Definition of an electrophysiological dataset\n",
      "    NumPy inputs detected\n",
      "    Allowed mi_type=cd (y.dtype=int; z.dtype=none)\n",
      "Dataset composed of 1 subjects. At least -inf subjects per roi are required\n",
      "Definition of a non-parametric statistical workflow\n",
      "Workflow for computing mutual information (ffx - gc - cd)\n",
      "    Group data by roi\n",
      "    Apply copnorm (per subject=False; mi_type=cd)\n",
      "    Evaluate true and permuted mi (n_perm=100, n_jobs=4)\n",
      "    Fixed-effect inference (FFX)\n",
      "    Cluster forming threshold (tail=1; alpha=0.05; tfce=None)\n",
      "    Inference at cluster-level\n",
      "    Cluster detection (threshold=0.08220240373957075; tail=1)\n",
      "Defining temporal windows\n",
      "    Definition of sliding windows (len=0.5, start=-1.0, stop=1.998046875, step=0.1)\n",
      "    25 windows defined\n"
     ]
    },
    {
     "name": "stdout",
     "output_type": "stream",
     "text": [
      "FERJ ['Mai_RL', 'xyz', 'channels', 'pow_HG', 'pow_Th', 'y', 'time'] ['aHC' 'aHC' 'aHC' 'aHC' 'aHC' 'aHC' 'aHC' 'aHC' 'aHC' 'aHC' 'aHC' 'aHC'\n",
      " 'aHC' 'aHC']\n"
     ]
    },
    {
     "name": "stderr",
     "output_type": "stream",
     "text": [
      "Definition of an electrophysiological dataset\n",
      "    NumPy inputs detected\n",
      "    Allowed mi_type=cd (y.dtype=int; z.dtype=none)\n",
      "Dataset composed of 1 subjects. At least -inf subjects per roi are required\n",
      "Definition of a non-parametric statistical workflow\n",
      "Workflow for computing mutual information (ffx - gc - cd)\n",
      "    Group data by roi\n",
      "    Apply copnorm (per subject=False; mi_type=cd)\n",
      "    Evaluate true and permuted mi (n_perm=100, n_jobs=4)\n",
      "    Fixed-effect inference (FFX)\n",
      "    Cluster forming threshold (tail=1; alpha=0.05; tfce=None)\n",
      "    Inference at cluster-level\n",
      "    Cluster detection (threshold=0.08167272578352039; tail=1)\n",
      "Defining temporal windows\n",
      "    Definition of sliding windows (len=0.5, start=-1.0, stop=1.998046875, step=0.1)\n",
      "    25 windows defined\n"
     ]
    },
    {
     "name": "stdout",
     "output_type": "stream",
     "text": [
      "LEFC ['Mai_RL', 'xyz', 'channels', 'pow_HG', 'pow_Th', 'y', 'time'] ['aHC' 'aHC' 'aHC' 'aHC' 'aHC' 'aHC' 'aHC' 'aHC' 'OFC_olf' 'OFC_olf'\n",
      " 'OFC_olf' 'OFC_olf' 'OFC_olf']\n"
     ]
    },
    {
     "name": "stderr",
     "output_type": "stream",
     "text": [
      "Definition of an electrophysiological dataset\n",
      "    NumPy inputs detected\n",
      "    Allowed mi_type=cd (y.dtype=int; z.dtype=none)\n",
      "Dataset composed of 1 subjects. At least -inf subjects per roi are required\n",
      "Definition of a non-parametric statistical workflow\n",
      "Workflow for computing mutual information (ffx - gc - cd)\n",
      "    Group data by roi\n",
      "    Apply copnorm (per subject=False; mi_type=cd)\n",
      "    Evaluate true and permuted mi (n_perm=100, n_jobs=4)\n",
      "    Fixed-effect inference (FFX)\n",
      "    Cluster forming threshold (tail=1; alpha=0.05; tfce=None)\n",
      "    Inference at cluster-level\n",
      "    Cluster detection (threshold=0.04613275815135051; tail=1)\n",
      "Defining temporal windows\n",
      "    Definition of sliding windows (len=0.5, start=-1.0, stop=1.998046875, step=0.1)\n",
      "    25 windows defined\n"
     ]
    },
    {
     "name": "stdout",
     "output_type": "stream",
     "text": [
      "LEFC ['Mai_RL', 'xyz', 'channels', 'pow_HG', 'pow_Th', 'y', 'time'] ['aHC' 'aHC' 'aHC' 'aHC' 'aHC' 'aHC' 'aHC' 'aHC' 'OFC_olf' 'OFC_olf'\n",
      " 'OFC_olf' 'OFC_olf' 'OFC_olf']\n"
     ]
    },
    {
     "name": "stderr",
     "output_type": "stream",
     "text": [
      "Definition of an electrophysiological dataset\n",
      "    NumPy inputs detected\n",
      "    Allowed mi_type=cd (y.dtype=int; z.dtype=none)\n",
      "Dataset composed of 1 subjects. At least -inf subjects per roi are required\n",
      "Definition of a non-parametric statistical workflow\n",
      "Workflow for computing mutual information (ffx - gc - cd)\n",
      "    Group data by roi\n",
      "    Apply copnorm (per subject=False; mi_type=cd)\n",
      "    Evaluate true and permuted mi (n_perm=100, n_jobs=4)\n",
      "    Fixed-effect inference (FFX)\n",
      "    Cluster forming threshold (tail=1; alpha=0.05; tfce=None)\n",
      "    Inference at cluster-level\n",
      "    Cluster detection (threshold=0.045917486137179574; tail=1)\n",
      "Defining temporal windows\n",
      "    Definition of sliding windows (len=0.5, start=-1.0, stop=1.998046875, step=0.1)\n",
      "    25 windows defined\n"
     ]
    },
    {
     "name": "stdout",
     "output_type": "stream",
     "text": [
      "PIRJ ['Mai_RL', 'xyz', 'channels', 'pow_HG', 'pow_Th', 'y', 'time'] ['aHC' 'aHC' 'aHC' 'aHC' 'aHC' 'aHC' 'aHC' 'OFC_olf' 'OFC_olf' 'OFC_olf'\n",
      " 'OFC_olf']\n"
     ]
    },
    {
     "name": "stderr",
     "output_type": "stream",
     "text": [
      "Definition of an electrophysiological dataset\n",
      "    NumPy inputs detected\n",
      "    Allowed mi_type=cd (y.dtype=int; z.dtype=none)\n",
      "Dataset composed of 1 subjects. At least -inf subjects per roi are required\n",
      "Definition of a non-parametric statistical workflow\n",
      "Workflow for computing mutual information (ffx - gc - cd)\n",
      "    Group data by roi\n",
      "    Apply copnorm (per subject=False; mi_type=cd)\n",
      "    Evaluate true and permuted mi (n_perm=100, n_jobs=4)\n",
      "    Fixed-effect inference (FFX)\n",
      "    Cluster forming threshold (tail=1; alpha=0.05; tfce=None)\n",
      "    Inference at cluster-level\n",
      "    Cluster detection (threshold=0.10025313832740688; tail=1)\n",
      "Defining temporal windows\n",
      "    Definition of sliding windows (len=0.5, start=-1.0, stop=1.998046875, step=0.1)\n",
      "    25 windows defined\n"
     ]
    },
    {
     "name": "stdout",
     "output_type": "stream",
     "text": [
      "PIRJ ['Mai_RL', 'xyz', 'channels', 'pow_HG', 'pow_Th', 'y', 'time'] ['aHC' 'aHC' 'aHC' 'aHC' 'aHC' 'aHC' 'aHC' 'OFC_olf' 'OFC_olf' 'OFC_olf'\n",
      " 'OFC_olf']\n"
     ]
    },
    {
     "name": "stderr",
     "output_type": "stream",
     "text": [
      "Definition of an electrophysiological dataset\n",
      "    NumPy inputs detected\n",
      "    Allowed mi_type=cd (y.dtype=int; z.dtype=none)\n",
      "Dataset composed of 1 subjects. At least -inf subjects per roi are required\n",
      "Definition of a non-parametric statistical workflow\n",
      "Workflow for computing mutual information (ffx - gc - cd)\n",
      "    Group data by roi\n",
      "    Apply copnorm (per subject=False; mi_type=cd)\n",
      "    Evaluate true and permuted mi (n_perm=100, n_jobs=4)\n",
      "    Fixed-effect inference (FFX)\n",
      "    Cluster forming threshold (tail=1; alpha=0.05; tfce=None)\n",
      "    Inference at cluster-level\n",
      "    Cluster detection (threshold=0.10000128077186983; tail=1)\n",
      "Defining temporal windows\n",
      "    Definition of sliding windows (len=0.5, start=-1.0, stop=1.998046875, step=0.1)\n",
      "    25 windows defined\n"
     ]
    },
    {
     "name": "stdout",
     "output_type": "stream",
     "text": [
      "SEMC ['Mai_RL', 'xyz', 'channels', 'pow_HG', 'pow_Th', 'y', 'time'] ['aHC' 'aHC' 'aHC' 'aHC' 'aHC' 'OFC_olf' 'OFC_olf' 'OFC_olf']\n"
     ]
    },
    {
     "name": "stderr",
     "output_type": "stream",
     "text": [
      "Definition of an electrophysiological dataset\n",
      "    NumPy inputs detected\n",
      "    Allowed mi_type=cd (y.dtype=int; z.dtype=none)\n",
      "Dataset composed of 1 subjects. At least -inf subjects per roi are required\n",
      "Definition of a non-parametric statistical workflow\n",
      "Workflow for computing mutual information (ffx - gc - cd)\n",
      "    Group data by roi\n",
      "    Apply copnorm (per subject=False; mi_type=cd)\n",
      "    Evaluate true and permuted mi (n_perm=100, n_jobs=4)\n",
      "    Fixed-effect inference (FFX)\n",
      "    Cluster forming threshold (tail=1; alpha=0.05; tfce=None)\n",
      "    Inference at cluster-level\n",
      "    Cluster detection (threshold=0.0664977281279871; tail=1)\n",
      "Defining temporal windows\n",
      "    Definition of sliding windows (len=0.5, start=-1.0, stop=1.998046875, step=0.1)\n",
      "    25 windows defined\n"
     ]
    },
    {
     "name": "stdout",
     "output_type": "stream",
     "text": [
      "SEMC ['Mai_RL', 'xyz', 'channels', 'pow_HG', 'pow_Th', 'y', 'time'] ['aHC' 'aHC' 'aHC' 'aHC' 'aHC' 'OFC_olf' 'OFC_olf' 'OFC_olf']\n"
     ]
    },
    {
     "name": "stderr",
     "output_type": "stream",
     "text": [
      "Definition of an electrophysiological dataset\n",
      "    NumPy inputs detected\n",
      "    Allowed mi_type=cd (y.dtype=int; z.dtype=none)\n",
      "Dataset composed of 1 subjects. At least -inf subjects per roi are required\n",
      "Definition of a non-parametric statistical workflow\n",
      "Workflow for computing mutual information (ffx - gc - cd)\n",
      "    Group data by roi\n",
      "    Apply copnorm (per subject=False; mi_type=cd)\n",
      "    Evaluate true and permuted mi (n_perm=100, n_jobs=4)\n",
      "    Fixed-effect inference (FFX)\n",
      "    Cluster forming threshold (tail=1; alpha=0.05; tfce=None)\n",
      "    Inference at cluster-level\n",
      "    Cluster detection (threshold=0.06795496065182646; tail=1)\n",
      "Defining temporal windows\n",
      "    Definition of sliding windows (len=0.5, start=-1.0, stop=1.998046875, step=0.1)\n",
      "    25 windows defined\n"
     ]
    },
    {
     "name": "stdout",
     "output_type": "stream",
     "text": [
      "VACJ ['Mai_RL', 'xyz', 'channels', 'pow_HG', 'pow_Th', 'y', 'time'] ['aHC' 'aHC' 'aHC' 'aHC' 'aHC' 'aHC' 'aHC' 'aHC' 'OFC_olf' 'OFC_olf'\n",
      " 'OFC_olf' 'OFC_olf']\n"
     ]
    },
    {
     "name": "stderr",
     "output_type": "stream",
     "text": [
      "Definition of an electrophysiological dataset\n",
      "    NumPy inputs detected\n",
      "    Allowed mi_type=cd (y.dtype=int; z.dtype=none)\n",
      "Dataset composed of 1 subjects. At least -inf subjects per roi are required\n",
      "Definition of a non-parametric statistical workflow\n",
      "Workflow for computing mutual information (ffx - gc - cd)\n",
      "    Group data by roi\n",
      "    Apply copnorm (per subject=False; mi_type=cd)\n",
      "    Evaluate true and permuted mi (n_perm=100, n_jobs=4)\n",
      "    Fixed-effect inference (FFX)\n",
      "    Cluster forming threshold (tail=1; alpha=0.05; tfce=None)\n",
      "    Inference at cluster-level\n",
      "    Cluster detection (threshold=0.11314709916317263; tail=1)\n",
      "Defining temporal windows\n",
      "    Definition of sliding windows (len=0.5, start=-1.0, stop=1.998046875, step=0.1)\n",
      "    25 windows defined\n"
     ]
    },
    {
     "name": "stdout",
     "output_type": "stream",
     "text": [
      "VACJ ['Mai_RL', 'xyz', 'channels', 'pow_HG', 'pow_Th', 'y', 'time'] ['aHC' 'aHC' 'aHC' 'aHC' 'aHC' 'aHC' 'aHC' 'aHC' 'OFC_olf' 'OFC_olf'\n",
      " 'OFC_olf' 'OFC_olf']\n"
     ]
    },
    {
     "name": "stderr",
     "output_type": "stream",
     "text": [
      "Definition of an electrophysiological dataset\n",
      "    NumPy inputs detected\n",
      "    Allowed mi_type=cd (y.dtype=int; z.dtype=none)\n",
      "Dataset composed of 1 subjects. At least -inf subjects per roi are required\n",
      "Definition of a non-parametric statistical workflow\n",
      "Workflow for computing mutual information (ffx - gc - cd)\n",
      "    Group data by roi\n",
      "    Apply copnorm (per subject=False; mi_type=cd)\n",
      "    Evaluate true and permuted mi (n_perm=100, n_jobs=4)\n",
      "    Fixed-effect inference (FFX)\n",
      "    Cluster forming threshold (tail=1; alpha=0.05; tfce=None)\n",
      "    Inference at cluster-level\n",
      "    Cluster detection (threshold=0.11395122037246916; tail=1)\n"
     ]
    }
   ],
   "source": [
    "from frites.utils import define_windows\n",
    "from frites.conn import conn_dfc\n",
    "from frites.dataset import DatasetEphy\n",
    "from frites.workflow import WfMi\n",
    "\n",
    "\"\"\" Compute undirected Dynamic Functional Connectivity (DFC)\"\"\"\n",
    "path_save = join(st.path, 'feature/Conn_instant_Theta_HG_FRITE/')\n",
    "filesave = join(path_save, '{}_odor_{}_E_2freqs.npz')\n",
    "conn_save = join(path_save, '{}_conn_{}_{}_E_2freqs.nc')\n",
    "#win parametres in sec - windows to compute DFC\n",
    "#TO BE adapted to the size (in time) of the effect\n",
    "slwin_len = .5\n",
    "slwin_step = .1\n",
    "subjects = ['FERJ','LEFC','PIRJ','SEMC','VACJ']\n",
    "features = ['pow_HG','pow_Th']\n",
    "\n",
    "for su,feat in product(subjects,features):\n",
    "    \n",
    "    \"\"\" Compute undirected Dynamic Functional Connectivity (DFC)\"\"\"\n",
    "    data = np.load(filesave.format(su,'all_3conds'),allow_pickle=True)\n",
    "    ch_names = np.array([f\"{ch}_{lab}\" for ch,lab in zip(data['channels'],data['Mai_RL'])])\n",
    "    print(su, data.files, data['Mai_RL'])\n",
    "    \n",
    "    win_sample = define_windows(times=data['time'], slwin_len=slwin_len,\n",
    "                            slwin_step=slwin_step)[0]\n",
    "    dfc_inst = conn_dfc(data[feat].squeeze(), data['time'], \n",
    "                        ch_names, win_sample, verbose=False)[0]\n",
    "    dfc_inst.attrs['y'] = data['y']\n",
    "    dfc_inst.to_netcdf(conn_save.format(su,feat,'DFC'))\n",
    "    \n",
    "    \"\"\" Compute Statistics for DFC\"\"\"\n",
    "    dataset_dfc_inst = DatasetEphy(x=list(dfc_inst.data[np.newaxis]),\n",
    "                                   y=list(dfc_inst.attrs['y'][np.newaxis]), \n",
    "                                   times=dfc_inst['times'].data, \n",
    "                                   roi=list(dfc_inst['roi'].data[np.newaxis]))\n",
    "    wf_dfc_inst = WfMi(mi_type='cd', inference='ffx') #workflow\n",
    "    mi_dfc, mi_dfc_p = wf_dfc_inst.fit(dataset_dfc_inst,\n",
    "                                 mcp='cluster',n_perm=100, n_jobs=4, random_state=0)\n",
    "    mi_dfc.to_netcdf(conn_save.format(su,feat,'MI'))\n",
    "    mi_dfc_p.to_netcdf(conn_save.format(su,feat,'MI_p'))"
   ]
  },
  {
   "cell_type": "code",
   "execution_count": 48,
   "metadata": {
    "scrolled": false
   },
   "outputs": [
    {
     "name": "stdout",
     "output_type": "stream",
     "text": [
      "SEMC 1\n"
     ]
    },
    {
     "data": {
      "image/png": "[encoded data removed]",
      "text/plain": [
       "<Figure size 432x288 with 1 Axes>"
      ]
     },
     "metadata": {
      "needs_background": "light"
     },
     "output_type": "display_data"
    },
    {
     "data": {
      "text/plain": [
       "<Figure size 432x288 with 0 Axes>"
      ]
     },
     "metadata": {},
     "output_type": "display_data"
    }
   ],
   "source": [
    "import xarray as xr\n",
    "import matplotlib.pyplot as plt \n",
    "\n",
    "\"\"\"Plot DFC and stats\"\"\"\n",
    "\n",
    "subjects = ['LEFC','FERJ','SEMC','PIRJ','VACJ']\n",
    "features = ['pow_HG']\n",
    "path_save = join(st.path, 'feature/Conn_instant_Theta_HG_FRITE/')\n",
    "conn_save = join(path_save, '{}_conn_{}_{}_E_2freqs.nc')\n",
    "\n",
    "for su,feat in product(subjects,features):\n",
    "    #load DFC, MI and stats\n",
    "    dfc = xr.load_dataarray(conn_save.format(su,feat,'DFC'))\n",
    "    mi_dfc = xr.load_dataarray(conn_save.format(su,feat,'MI'))\n",
    "    mi_p_dfc = xr.load_dataarray(conn_save.format(su,feat,'MI_p'))\n",
    "    dfc['trials'] = dfc.attrs['y']\n",
    "\n",
    "    is_signif = (mi_p_dfc < 0.6).any('times').data * 1\n",
    "    is_roi =  [1 if \"OFC\" in x else 0 for x in mi_p_dfc['roi'].data]\n",
    "    is_sel = [True if (x==1 and y==1) else False for x,y in zip(is_signif,is_roi)]\n",
    "    mi_dfc = mi_dfc.sel(roi = is_sel)\n",
    "    mi_p_dfc = mi_p_dfc.sel(roi = is_sel)\n",
    "    \n",
    "    if len(mi_p_dfc['roi'].data) > 0:\n",
    "        print(su, len(mi_p_dfc['roi'].data))\n",
    "        for elec in mi_p_dfc['roi'].data:\n",
    "            plt.title(su+\"_aHC\"+'_elecs='+str(elec))\n",
    "            dfc_gp = dfc.groupby('trials').mean('trials')\n",
    "            dfc_gp = dfc_gp.sel(roi=elec).plot.line(x='times')\n",
    "            plt.axvline(0,color='k')\n",
    "            plt.xlim(-1,2)\n",
    "\n",
    "            #print(su, feat, mi_p_dfc['roi'].data)\n",
    "            #pv_dfc_back_mean = mi_p_dfc.mean('roi')\n",
    "            mi_dfc.sel(roi=elec).plot.line(x='times')\n",
    "            #plt.axvline(0,color='k')\n",
    "            #plt.xticks([0,5,10,15,20,25,30],labels = ['-500','0','500','1000','1500','2000','2500'])\n",
    "            plt.show()\n",
    "            plt.clf()"
   ]
  }
 ],
 "metadata": {
  "kernelspec": {
   "display_name": "Python 3",
   "language": "python",
   "name": "python3"
  },
  "language_info": {
   "codemirror_mode": {
    "name": "ipython",
    "version": 3
   },
   "file_extension": ".py",
   "mimetype": "text/x-python",
   "name": "python",
   "nbconvert_exporter": "python",
   "pygments_lexer": "ipython3",
   "version": "3.6.1"
  }
 },
 "nbformat": 4,
 "nbformat_minor": 2
}
