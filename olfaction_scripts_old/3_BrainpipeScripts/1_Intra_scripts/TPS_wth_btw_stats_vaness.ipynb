{
 "cells": [
  {
   "cell_type": "code",
   "execution_count": null,
   "metadata": {},
   "outputs": [],
   "source": [
    "\"\"\"\n",
    "Script pour Vaness :D \n",
    "Je t'ai mis les différentes fonctions pour calculer wth et btw TPS (c'est juste R pas 1-R)\n",
    "et un script qui teste pour la significativité des TPS \n",
    "pour être considéré comme significatif j'avais mis comme critère que ce soit\n",
    "<0.05 pour WTH et < 0.05 pour WTH-BTW\n",
    "\"\"\""
   ]
  },
  {
   "cell_type": "code",
   "execution_count": 2,
   "metadata": {},
   "outputs": [],
   "source": [
    "import numpy as np\n",
    "from itertools import product, combinations\n",
    "from scipy import stats"
   ]
  },
  {
   "cell_type": "code",
   "execution_count": 3,
   "metadata": {},
   "outputs": [],
   "source": [
    "def tpsim_btw_conds(pow_cond,pow_other):\n",
    "    \"\"\"\n",
    "    Compute tpsim for one odor (o1) with all other conds (concatenated on trials dim)\n",
    "    You then need to concatenate all conds (trials axis) for stats\n",
    "    Parameters\n",
    "    ----------\n",
    "    pow_cond : array\n",
    "        npts x ntrials (cond of interest)\n",
    "    pow_other : array\n",
    "        npts x ntrials (all trials for other conditions)\n",
    "\n",
    "    Returns\n",
    "    -------\n",
    "    tpsim : array\n",
    "        The Temporal Pattern Similarity between Cond of interest and Other Conds\n",
    "        (n_combinations of trials btw cond and other)\n",
    "    \"\"\"\n",
    "    \n",
    "    tps_btw = np.array([])\n",
    "    _, ntrials_cond = pow_cond.shape\n",
    "    _, ntrials_other = pow_other.shape\n",
    "    for t0, t1 in product(range(ntrials_cond),range(ntrials_other)):\n",
    "        R, p = stats.pearsonr(pow1[:,t0],pow2[:,t1]) #<<<< c'est ici que tu changes si tu veux la distance 1-r\n",
    "        tps_btw = np.vstack((tps_btw,R)) if np.size(tps_btw) else R\n",
    "    tps_btw = np.arctanh(tps_btw)\n",
    "    return tps_btw"
   ]
  },
  {
   "cell_type": "code",
   "execution_count": 4,
   "metadata": {},
   "outputs": [],
   "source": [
    "def tpsim_wth_conds(data):\n",
    "    \"\"\"\n",
    "    Compute tpsim for one cond (o1) between all trials (=consistency)\n",
    "    Parameters\n",
    "    ----------\n",
    "    data : npy array (ntrials,npts)\n",
    "\n",
    "    Returns\n",
    "    -------\n",
    "    tpsim : array\n",
    "        The Temporal Pattern Similarity between all odors BY odor\n",
    "        (n_pairs of trials wth cond)\n",
    "    \"\"\"\n",
    "    \n",
    "    _, ntrials = data.shape\n",
    "    tps_wth = np.array([])\n",
    "    for t0, t1 in combinations(np.arange(ntrials), 2):\n",
    "        R, _ = stats.pearsonr(data[:,t0],data[:,t1])\n",
    "        tps_wth = np.vstack((tps_wth,R)) if np.size(tps_wth) else R\n",
    "    tps_wth = np.arctanh(tps_wth)\n",
    "    return tps_wth"
   ]
  },
  {
   "cell_type": "code",
   "execution_count": null,
   "metadata": {},
   "outputs": [],
   "source": [
    "\"\"\"\n",
    "create diff wth - btw BY condition\n",
    "you then need to concatenate them (trial axis) for stats\n",
    "\"\"\"\n",
    "\n",
    "def tpsim_diff_by_cond(tps_wth, tps_btw):\n",
    "    \"\"\"\n",
    "    Compute DIFF tpsim Wth - mean(Btw) by condition\n",
    "    Parameters\n",
    "    ----------\n",
    "    tps_wth : array (ntrials_1)\n",
    "    tps_btw : array (ntrials_2) not necessary the same nb as ntrials_1\n",
    "\n",
    "    Returns\n",
    "    -------\n",
    "    tpsim_diff : array (ntrials_2)\n",
    "        The Temporal Pattern Similarity Diff \n",
    "    \"\"\"\n",
    "    \n",
    "    tps_diff = tps_wth - np.mean(tps_btw)\n",
    "    return tps_diff    "
   ]
  },
  {
   "cell_type": "code",
   "execution_count": null,
   "metadata": {},
   "outputs": [],
   "source": [
    "\"\"\"\n",
    "Ttests for significance of Wth - Btw and Diff consistency\n",
    "(là je n'ai pas recodé la fonction mais je te mets la fonction que tu dois utiliser)\n",
    "Après tu peux corriger tes pvalues avec la correction que tu veux ! \n",
    "Moi si btw pas significatif ça m'était égal j'ai juste checké wth et wth-btw \n",
    "Ah aussi j'incluais dans cette analyse que les TPS_wth positives \n",
    "(vu que pour moi, c'est ça qui conforte qu'on a bien une consistency à travers les essais)\n",
    "\"\"\"\n",
    "Tvals_wth, unc_p_wth = ttest_1samp(wth_tps, 0.0, axis=0)\n",
    "Tvals_btw, unc_p_btw = ttest_1samp(btw_tps, 0.0, axis=0)\n",
    "Tvals_diff, unc_p_diff = ttest_1samp(diff_tps, 0.0, axis=0)\n"
   ]
  }
 ],
 "metadata": {
  "kernelspec": {
   "display_name": "Python 3",
   "language": "python",
   "name": "python3"
  },
  "language_info": {
   "codemirror_mode": {
    "name": "ipython",
    "version": 3
   },
   "file_extension": ".py",
   "mimetype": "text/x-python",
   "name": "python",
   "nbconvert_exporter": "python",
   "pygments_lexer": "ipython3",
   "version": "3.6.1"
  }
 },
 "nbformat": 4,
 "nbformat_minor": 2
}
