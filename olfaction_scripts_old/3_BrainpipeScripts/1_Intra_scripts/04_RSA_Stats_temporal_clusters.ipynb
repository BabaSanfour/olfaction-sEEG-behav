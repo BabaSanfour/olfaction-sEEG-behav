{
 "cells": [
  {
   "cell_type": "markdown",
   "metadata": {},
   "source": [
    "### Compute F-test, permutations temporal clusters\n",
    "fonction mne.stats.permutation_cluster_test"
   ]
  },
  {
   "cell_type": "code",
   "execution_count": 1,
   "metadata": {},
   "outputs": [],
   "source": [
    "from brainpipe.system import study\n",
    "from brainpipe.visual import tilerplot\n",
    "import numpy as np\n",
    "from mne.stats import permutation_cluster_test\n",
    "from os import listdir\n",
    "from os.path import exists, join\n",
    "from itertools import product\n",
    "import glob\n",
    "from scipy.sparse import eye\n",
    "import matplotlib.pyplot as plt"
   ]
  },
  {
   "cell_type": "code",
   "execution_count": 4,
   "metadata": {
    "scrolled": true
   },
   "outputs": [
    {
     "name": "stdout",
     "output_type": "stream",
     "text": [
      "-> Olfacto loaded\n",
      "stat rsa for  LEFC HC low False\n",
      "stat rsa for  <class 'str'> <class 'str'> <class 'str'> <class 'str'>\n",
      "LEFC HC 0 / 8\n",
      "Using a threshold of 3.977779\n",
      "stat_fun(H1): min=nan max=nan\n",
      "Running initial clustering\n",
      "Found 0 clusters\n",
      "LEFC HC 1 / 8\n",
      "Using a threshold of 3.977779\n",
      "stat_fun(H1): min=nan max=nan\n",
      "Running initial clustering\n",
      "Found 2 clusters\n",
      "Permuting 1023 times...\n",
      "[                                                        ]   0.20%  |   "
     ]
    },
    {
     "name": "stderr",
     "output_type": "stream",
     "text": [
      "/home/karim/anaconda3/envs/mne_coreg/lib/python3.6/site-packages/mne/stats/parametric.py:119: RuntimeWarning: invalid value encountered in subtract\n",
      "  sstot = ss_alldata - square_of_sums_alldata / float(n_samples)\n",
      "/home/karim/anaconda3/envs/mne_coreg/lib/python3.6/site-packages/mne/stats/parametric.py:123: RuntimeWarning: invalid value encountered in subtract\n",
      "  ssbn -= square_of_sums_alldata / float(n_samples)\n",
      "<ipython-input-4-2a2b79490825>:31: RuntimeWarning: Provided stat_fun does not treat variables independently. Setting buffer_size to None.\n",
      "  tail=1,threshold=None,check_disjoint=True,step_down_p=0.05)\n",
      "/home/karim/anaconda3/envs/mne_coreg/lib/python3.6/site-packages/mne/stats/cluster_level.py:355: RuntimeWarning: invalid value encountered in greater\n",
      "  x_ins = [np.logical_and(x > thresh, include)]\n",
      "<ipython-input-4-2a2b79490825>:31: RuntimeWarning: No clusters found, returning empty H0, clusters, and cluster_pv\n",
      "  tail=1,threshold=None,check_disjoint=True,step_down_p=0.05)\n",
      "<ipython-input-4-2a2b79490825>:31: RuntimeWarning: Provided stat_fun does not treat variables independently. Setting buffer_size to None.\n",
      "  tail=1,threshold=None,check_disjoint=True,step_down_p=0.05)\n"
     ]
    },
    {
     "name": "stdout",
     "output_type": "stream",
     "text": [
      "[........................................................] 100.00%  |   \n",
      "Computing cluster p-values\n",
      "Step-down-in-jumps iteration #1 found 0 clusters to exclude from subsequent iterations\n",
      "Done.\n",
      "LEFC HC 2 / 8\n",
      "Using a threshold of 3.977779\n",
      "stat_fun(H1): min=nan max=nan\n",
      "Running initial clustering\n",
      "Found 12 clusters\n",
      "Permuting 1023 times...\n",
      "[...                                                     ]   6.06%  |   "
     ]
    },
    {
     "name": "stderr",
     "output_type": "stream",
     "text": [
      "<ipython-input-4-2a2b79490825>:31: RuntimeWarning: Provided stat_fun does not treat variables independently. Setting buffer_size to None.\n",
      "  tail=1,threshold=None,check_disjoint=True,step_down_p=0.05)\n"
     ]
    },
    {
     "name": "stdout",
     "output_type": "stream",
     "text": [
      "[........................................................] 100.00%  |   \n",
      "Computing cluster p-values\n",
      "Step-down-in-jumps iteration #1 found 0 clusters to exclude from subsequent iterations\n",
      "Done.\n",
      "LEFC HC 3 / 8\n",
      "Using a threshold of 3.977779\n",
      "stat_fun(H1): min=nan max=nan\n",
      "Running initial clustering\n",
      "Found 30 clusters\n",
      "Permuting 1023 times...\n",
      "[...                                                     ]   6.45%  |   "
     ]
    },
    {
     "name": "stderr",
     "output_type": "stream",
     "text": [
      "<ipython-input-4-2a2b79490825>:31: RuntimeWarning: Provided stat_fun does not treat variables independently. Setting buffer_size to None.\n",
      "  tail=1,threshold=None,check_disjoint=True,step_down_p=0.05)\n"
     ]
    },
    {
     "name": "stdout",
     "output_type": "stream",
     "text": [
      "[........................................................] 100.00%  |   \n",
      "Computing cluster p-values\n",
      "Step-down-in-jumps iteration #1 found 2 clusters to exclude from subsequent iterations\n",
      "Permuting 1023 times...\n",
      "[........................................................] 100.00%  |   \n",
      "Computing cluster p-values\n",
      "Step-down-in-jumps iteration #2 found 0 additional clusters to exclude from subsequent iterations\n",
      "Done.\n"
     ]
    },
    {
     "name": "stderr",
     "output_type": "stream",
     "text": [
      "/home/karim/anaconda3/envs/mne_coreg/lib/python3.6/site-packages/ipykernel_launcher.py:37: RuntimeWarning: invalid value encountered in subtract\n"
     ]
    },
    {
     "ename": "FileNotFoundError",
     "evalue": "[Errno 2] No such file or directory: '/media/karim/Datas4To/1_Analyses_Intra_EM_Odor/Olfacto/feature/1_RSA_E_R_by_odor/figures_high_low_stat/RSA_LEFC_High_Low_HC_elec3.png'",
     "output_type": "error",
     "traceback": [
      "\u001b[0;31m---------------------------------------------------------------------------\u001b[0m",
      "\u001b[0;31mFileNotFoundError\u001b[0m                         Traceback (most recent call last)",
      "\u001b[0;32m<ipython-input-4-2a2b79490825>\u001b[0m in \u001b[0;36m<module>\u001b[0;34m()\u001b[0m\n\u001b[1;32m     62\u001b[0m             \u001b[0;31m#concat all masks for all clusters\u001b[0m\u001b[0;34m\u001b[0m\u001b[0;34m\u001b[0m\u001b[0m\n\u001b[1;32m     63\u001b[0m             \u001b[0mimg2\u001b[0m \u001b[0;34m=\u001b[0m \u001b[0mplt\u001b[0m\u001b[0;34m.\u001b[0m\u001b[0mimshow\u001b[0m\u001b[0;34m(\u001b[0m\u001b[0mmerge\u001b[0m\u001b[0;34m,\u001b[0m\u001b[0malpha\u001b[0m\u001b[0;34m=\u001b[0m\u001b[0;36m0.3\u001b[0m\u001b[0;34m,\u001b[0m\u001b[0morigin\u001b[0m\u001b[0;34m=\u001b[0m\u001b[0;34m'lower'\u001b[0m\u001b[0;34m)\u001b[0m\u001b[0;34m\u001b[0m\u001b[0m\n\u001b[0;32m---> 64\u001b[0;31m             \u001b[0mplt\u001b[0m\u001b[0;34m.\u001b[0m\u001b[0msavefig\u001b[0m\u001b[0;34m(\u001b[0m\u001b[0mpath_save\u001b[0m\u001b[0;34m+\u001b[0m\u001b[0mplotname\u001b[0m\u001b[0;34m)\u001b[0m\u001b[0;34m\u001b[0m\u001b[0m\n\u001b[0m\u001b[1;32m     65\u001b[0m             \u001b[0mplt\u001b[0m\u001b[0;34m.\u001b[0m\u001b[0mclf\u001b[0m\u001b[0;34m(\u001b[0m\u001b[0;34m)\u001b[0m\u001b[0;34m\u001b[0m\u001b[0m\n\u001b[1;32m     66\u001b[0m             \u001b[0mplt\u001b[0m\u001b[0;34m.\u001b[0m\u001b[0mclose\u001b[0m\u001b[0;34m(\u001b[0m\u001b[0;34m)\u001b[0m\u001b[0;34m\u001b[0m\u001b[0m\n",
      "\u001b[0;32m~/anaconda3/envs/mne_coreg/lib/python3.6/site-packages/matplotlib/pyplot.py\u001b[0m in \u001b[0;36msavefig\u001b[0;34m(*args, **kwargs)\u001b[0m\n\u001b[1;32m    714\u001b[0m \u001b[0;32mdef\u001b[0m \u001b[0msavefig\u001b[0m\u001b[0;34m(\u001b[0m\u001b[0;34m*\u001b[0m\u001b[0margs\u001b[0m\u001b[0;34m,\u001b[0m \u001b[0;34m**\u001b[0m\u001b[0mkwargs\u001b[0m\u001b[0;34m)\u001b[0m\u001b[0;34m:\u001b[0m\u001b[0;34m\u001b[0m\u001b[0m\n\u001b[1;32m    715\u001b[0m     \u001b[0mfig\u001b[0m \u001b[0;34m=\u001b[0m \u001b[0mgcf\u001b[0m\u001b[0;34m(\u001b[0m\u001b[0;34m)\u001b[0m\u001b[0;34m\u001b[0m\u001b[0m\n\u001b[0;32m--> 716\u001b[0;31m     \u001b[0mres\u001b[0m \u001b[0;34m=\u001b[0m \u001b[0mfig\u001b[0m\u001b[0;34m.\u001b[0m\u001b[0msavefig\u001b[0m\u001b[0;34m(\u001b[0m\u001b[0;34m*\u001b[0m\u001b[0margs\u001b[0m\u001b[0;34m,\u001b[0m \u001b[0;34m**\u001b[0m\u001b[0mkwargs\u001b[0m\u001b[0;34m)\u001b[0m\u001b[0;34m\u001b[0m\u001b[0m\n\u001b[0m\u001b[1;32m    717\u001b[0m     \u001b[0mfig\u001b[0m\u001b[0;34m.\u001b[0m\u001b[0mcanvas\u001b[0m\u001b[0;34m.\u001b[0m\u001b[0mdraw_idle\u001b[0m\u001b[0;34m(\u001b[0m\u001b[0;34m)\u001b[0m   \u001b[0;31m# need this if 'transparent=True' to reset colors\u001b[0m\u001b[0;34m\u001b[0m\u001b[0m\n\u001b[1;32m    718\u001b[0m     \u001b[0;32mreturn\u001b[0m \u001b[0mres\u001b[0m\u001b[0;34m\u001b[0m\u001b[0m\n",
      "\u001b[0;32m~/anaconda3/envs/mne_coreg/lib/python3.6/site-packages/matplotlib/figure.py\u001b[0m in \u001b[0;36msavefig\u001b[0;34m(self, fname, transparent, **kwargs)\u001b[0m\n\u001b[1;32m   2178\u001b[0m             \u001b[0mself\u001b[0m\u001b[0;34m.\u001b[0m\u001b[0mpatch\u001b[0m\u001b[0;34m.\u001b[0m\u001b[0mset_visible\u001b[0m\u001b[0;34m(\u001b[0m\u001b[0mframeon\u001b[0m\u001b[0;34m)\u001b[0m\u001b[0;34m\u001b[0m\u001b[0m\n\u001b[1;32m   2179\u001b[0m \u001b[0;34m\u001b[0m\u001b[0m\n\u001b[0;32m-> 2180\u001b[0;31m         \u001b[0mself\u001b[0m\u001b[0;34m.\u001b[0m\u001b[0mcanvas\u001b[0m\u001b[0;34m.\u001b[0m\u001b[0mprint_figure\u001b[0m\u001b[0;34m(\u001b[0m\u001b[0mfname\u001b[0m\u001b[0;34m,\u001b[0m \u001b[0;34m**\u001b[0m\u001b[0mkwargs\u001b[0m\u001b[0;34m)\u001b[0m\u001b[0;34m\u001b[0m\u001b[0m\n\u001b[0m\u001b[1;32m   2181\u001b[0m \u001b[0;34m\u001b[0m\u001b[0m\n\u001b[1;32m   2182\u001b[0m         \u001b[0;32mif\u001b[0m \u001b[0mframeon\u001b[0m\u001b[0;34m:\u001b[0m\u001b[0;34m\u001b[0m\u001b[0m\n",
      "\u001b[0;32m~/anaconda3/envs/mne_coreg/lib/python3.6/site-packages/matplotlib/backend_bases.py\u001b[0m in \u001b[0;36mprint_figure\u001b[0;34m(self, filename, dpi, facecolor, edgecolor, orientation, format, bbox_inches, **kwargs)\u001b[0m\n\u001b[1;32m   2080\u001b[0m                     \u001b[0morientation\u001b[0m\u001b[0;34m=\u001b[0m\u001b[0morientation\u001b[0m\u001b[0;34m,\u001b[0m\u001b[0;34m\u001b[0m\u001b[0m\n\u001b[1;32m   2081\u001b[0m                     \u001b[0mbbox_inches_restore\u001b[0m\u001b[0;34m=\u001b[0m\u001b[0m_bbox_inches_restore\u001b[0m\u001b[0;34m,\u001b[0m\u001b[0;34m\u001b[0m\u001b[0m\n\u001b[0;32m-> 2082\u001b[0;31m                     **kwargs)\n\u001b[0m\u001b[1;32m   2083\u001b[0m             \u001b[0;32mfinally\u001b[0m\u001b[0;34m:\u001b[0m\u001b[0;34m\u001b[0m\u001b[0m\n\u001b[1;32m   2084\u001b[0m                 \u001b[0;32mif\u001b[0m \u001b[0mbbox_inches\u001b[0m \u001b[0;32mand\u001b[0m \u001b[0mrestore_bbox\u001b[0m\u001b[0;34m:\u001b[0m\u001b[0;34m\u001b[0m\u001b[0m\n",
      "\u001b[0;32m~/anaconda3/envs/mne_coreg/lib/python3.6/site-packages/matplotlib/backends/backend_agg.py\u001b[0m in \u001b[0;36mprint_png\u001b[0;34m(self, filename_or_obj, metadata, pil_kwargs, *args, **kwargs)\u001b[0m\n\u001b[1;32m    528\u001b[0m             \u001b[0mrenderer\u001b[0m \u001b[0;34m=\u001b[0m \u001b[0mself\u001b[0m\u001b[0;34m.\u001b[0m\u001b[0mget_renderer\u001b[0m\u001b[0;34m(\u001b[0m\u001b[0;34m)\u001b[0m\u001b[0;34m\u001b[0m\u001b[0m\n\u001b[1;32m    529\u001b[0m             \u001b[0;32mwith\u001b[0m \u001b[0mcbook\u001b[0m\u001b[0;34m.\u001b[0m\u001b[0m_setattr_cm\u001b[0m\u001b[0;34m(\u001b[0m\u001b[0mrenderer\u001b[0m\u001b[0;34m,\u001b[0m \u001b[0mdpi\u001b[0m\u001b[0;34m=\u001b[0m\u001b[0mself\u001b[0m\u001b[0;34m.\u001b[0m\u001b[0mfigure\u001b[0m\u001b[0;34m.\u001b[0m\u001b[0mdpi\u001b[0m\u001b[0;34m)\u001b[0m\u001b[0;34m,\u001b[0m\u001b[0;31m \u001b[0m\u001b[0;31m\\\u001b[0m\u001b[0;34m\u001b[0m\u001b[0m\n\u001b[0;32m--> 530\u001b[0;31m                     \u001b[0mcbook\u001b[0m\u001b[0;34m.\u001b[0m\u001b[0mopen_file_cm\u001b[0m\u001b[0;34m(\u001b[0m\u001b[0mfilename_or_obj\u001b[0m\u001b[0;34m,\u001b[0m \u001b[0;34m\"wb\"\u001b[0m\u001b[0;34m)\u001b[0m \u001b[0;32mas\u001b[0m \u001b[0mfh\u001b[0m\u001b[0;34m:\u001b[0m\u001b[0;34m\u001b[0m\u001b[0m\n\u001b[0m\u001b[1;32m    531\u001b[0m                 _png.write_png(renderer._renderer, fh,\n\u001b[1;32m    532\u001b[0m                                self.figure.dpi, metadata=metadata)\n",
      "\u001b[0;32m~/anaconda3/envs/mne_coreg/lib/python3.6/contextlib.py\u001b[0m in \u001b[0;36m__enter__\u001b[0;34m(self)\u001b[0m\n\u001b[1;32m     80\u001b[0m     \u001b[0;32mdef\u001b[0m \u001b[0m__enter__\u001b[0m\u001b[0;34m(\u001b[0m\u001b[0mself\u001b[0m\u001b[0;34m)\u001b[0m\u001b[0;34m:\u001b[0m\u001b[0;34m\u001b[0m\u001b[0m\n\u001b[1;32m     81\u001b[0m         \u001b[0;32mtry\u001b[0m\u001b[0;34m:\u001b[0m\u001b[0;34m\u001b[0m\u001b[0m\n\u001b[0;32m---> 82\u001b[0;31m             \u001b[0;32mreturn\u001b[0m \u001b[0mnext\u001b[0m\u001b[0;34m(\u001b[0m\u001b[0mself\u001b[0m\u001b[0;34m.\u001b[0m\u001b[0mgen\u001b[0m\u001b[0;34m)\u001b[0m\u001b[0;34m\u001b[0m\u001b[0m\n\u001b[0m\u001b[1;32m     83\u001b[0m         \u001b[0;32mexcept\u001b[0m \u001b[0mStopIteration\u001b[0m\u001b[0;34m:\u001b[0m\u001b[0;34m\u001b[0m\u001b[0m\n\u001b[1;32m     84\u001b[0m             \u001b[0;32mraise\u001b[0m \u001b[0mRuntimeError\u001b[0m\u001b[0;34m(\u001b[0m\u001b[0;34m\"generator didn't yield\"\u001b[0m\u001b[0;34m)\u001b[0m \u001b[0;32mfrom\u001b[0m \u001b[0;32mNone\u001b[0m\u001b[0;34m\u001b[0m\u001b[0m\n",
      "\u001b[0;32m~/anaconda3/envs/mne_coreg/lib/python3.6/site-packages/matplotlib/cbook/__init__.py\u001b[0m in \u001b[0;36mopen_file_cm\u001b[0;34m(path_or_file, mode, encoding)\u001b[0m\n\u001b[1;32m    445\u001b[0m \u001b[0;32mdef\u001b[0m \u001b[0mopen_file_cm\u001b[0m\u001b[0;34m(\u001b[0m\u001b[0mpath_or_file\u001b[0m\u001b[0;34m,\u001b[0m \u001b[0mmode\u001b[0m\u001b[0;34m=\u001b[0m\u001b[0;34m\"r\"\u001b[0m\u001b[0;34m,\u001b[0m \u001b[0mencoding\u001b[0m\u001b[0;34m=\u001b[0m\u001b[0;32mNone\u001b[0m\u001b[0;34m)\u001b[0m\u001b[0;34m:\u001b[0m\u001b[0;34m\u001b[0m\u001b[0m\n\u001b[1;32m    446\u001b[0m     \u001b[0;34mr\"\"\"Pass through file objects and context-manage `.PathLike`\\s.\"\"\"\u001b[0m\u001b[0;34m\u001b[0m\u001b[0m\n\u001b[0;32m--> 447\u001b[0;31m     \u001b[0mfh\u001b[0m\u001b[0;34m,\u001b[0m \u001b[0mopened\u001b[0m \u001b[0;34m=\u001b[0m \u001b[0mto_filehandle\u001b[0m\u001b[0;34m(\u001b[0m\u001b[0mpath_or_file\u001b[0m\u001b[0;34m,\u001b[0m \u001b[0mmode\u001b[0m\u001b[0;34m,\u001b[0m \u001b[0;32mTrue\u001b[0m\u001b[0;34m,\u001b[0m \u001b[0mencoding\u001b[0m\u001b[0;34m)\u001b[0m\u001b[0;34m\u001b[0m\u001b[0m\n\u001b[0m\u001b[1;32m    448\u001b[0m     \u001b[0;32mif\u001b[0m \u001b[0mopened\u001b[0m\u001b[0;34m:\u001b[0m\u001b[0;34m\u001b[0m\u001b[0m\n\u001b[1;32m    449\u001b[0m         \u001b[0;32mwith\u001b[0m \u001b[0mfh\u001b[0m\u001b[0;34m:\u001b[0m\u001b[0;34m\u001b[0m\u001b[0m\n",
      "\u001b[0;32m~/anaconda3/envs/mne_coreg/lib/python3.6/site-packages/matplotlib/cbook/__init__.py\u001b[0m in \u001b[0;36mto_filehandle\u001b[0;34m(fname, flag, return_opened, encoding)\u001b[0m\n\u001b[1;32m    430\u001b[0m             \u001b[0mfh\u001b[0m \u001b[0;34m=\u001b[0m \u001b[0mbz2\u001b[0m\u001b[0;34m.\u001b[0m\u001b[0mBZ2File\u001b[0m\u001b[0;34m(\u001b[0m\u001b[0mfname\u001b[0m\u001b[0;34m,\u001b[0m \u001b[0mflag\u001b[0m\u001b[0;34m)\u001b[0m\u001b[0;34m\u001b[0m\u001b[0m\n\u001b[1;32m    431\u001b[0m         \u001b[0;32melse\u001b[0m\u001b[0;34m:\u001b[0m\u001b[0;34m\u001b[0m\u001b[0m\n\u001b[0;32m--> 432\u001b[0;31m             \u001b[0mfh\u001b[0m \u001b[0;34m=\u001b[0m \u001b[0mopen\u001b[0m\u001b[0;34m(\u001b[0m\u001b[0mfname\u001b[0m\u001b[0;34m,\u001b[0m \u001b[0mflag\u001b[0m\u001b[0;34m,\u001b[0m \u001b[0mencoding\u001b[0m\u001b[0;34m=\u001b[0m\u001b[0mencoding\u001b[0m\u001b[0;34m)\u001b[0m\u001b[0;34m\u001b[0m\u001b[0m\n\u001b[0m\u001b[1;32m    433\u001b[0m         \u001b[0mopened\u001b[0m \u001b[0;34m=\u001b[0m \u001b[0;32mTrue\u001b[0m\u001b[0;34m\u001b[0m\u001b[0m\n\u001b[1;32m    434\u001b[0m     \u001b[0;32melif\u001b[0m \u001b[0mhasattr\u001b[0m\u001b[0;34m(\u001b[0m\u001b[0mfname\u001b[0m\u001b[0;34m,\u001b[0m \u001b[0;34m'seek'\u001b[0m\u001b[0;34m)\u001b[0m\u001b[0;34m:\u001b[0m\u001b[0;34m\u001b[0m\u001b[0m\n",
      "\u001b[0;31mFileNotFoundError\u001b[0m: [Errno 2] No such file or directory: '/media/karim/Datas4To/1_Analyses_Intra_EM_Odor/Olfacto/feature/1_RSA_E_R_by_odor/figures_high_low_stat/RSA_LEFC_High_Low_HC_elec3.png'"
     ]
    },
    {
     "data": {
      "image/png": "[encoded data removed]",
      "text/plain": [
       "<Figure size 432x288 with 2 Axes>"
      ]
     },
     "metadata": {
      "needs_background": "light"
     },
     "output_type": "display_data"
    }
   ],
   "source": [
    "st = study('Olfacto')\n",
    "path_rsa = join(st.path,'feature/1_RSA_E_R_by_odor/')\n",
    "path_save = join(path_rsa,'figures_high_low_stat/')\n",
    "subjects = ['LEFC','SEMC','PIRJ','FERJ','VACJ'] #CHAF not included no elec in ROIs\n",
    "conds = ['low','high']\n",
    "rois = ['HC','IFG','OFC']\n",
    "average = 'False'\n",
    "thresh = 0.05\n",
    "\n",
    "for su, roi in product(subjects,rois):\n",
    "    print('stat rsa for ',su,roi,conds[0],average)\n",
    "    print('stat rsa for ',type(su),type(roi),type(conds[0]),type(average))\n",
    "    filename_l = su+'_'+conds[0]+'_odor_*_'+roi+'_E_R_rsa_theta_avg='+average+'.npz'\n",
    "    filename_h = su+'_'+conds[1]+'_odor_*_'+roi+'_E_R_rsa_theta_avg='+average+'.npz'\n",
    "    files_low = [file for file in glob.glob(path_rsa+filename_l)]\n",
    "    files_high = [file for file in glob.glob(path_rsa+filename_h)]\n",
    "    #concatenate odors in the trials dimensions\n",
    "    #nelecs,ncomb,nsamples,nsamples\n",
    "    all_data_l = np.concatenate(([np.load(file)['rsa'] for file in files_low]),\n",
    "                              axis=1)\n",
    "    all_data_h = np.concatenate(([np.load(file)['rsa'] for file in files_high]),\n",
    "                              axis=1)\n",
    "    nelecs, nsamples = all_data_l.shape[0], all_data_l.shape[-1]\n",
    "    \n",
    "    for elec in range(nelecs):\n",
    "        print(su,roi,elec,'/',nelecs)\n",
    "        #compute statistics by electrode\n",
    "        all_conds = [all_data_h[elec],all_data_l[elec]]\n",
    "        connectivity = sum([eye(nsamples, nsamples, i) for i in range(-1, 2)])\n",
    "        _, clu0, p0, _ = permutation_cluster_test(all_conds, connectivity=None,\n",
    "                            tail=1,threshold=None,check_disjoint=True,step_down_p=0.05)\n",
    "        idx = [i for i, p in enumerate(p0) if p < thresh]\n",
    "        clu0 = np.array(clu0)\n",
    "        \n",
    "        if len(idx):\n",
    "            clu0, p0 = clu0[idx,:,:], p0[idx]\n",
    "            rsa_plot = np.mean(all_data_h[elec],axis=0)-np.mean(all_data_l[elec],axis=0)\n",
    "            merge = np.zeros((nsamples,nsamples))\n",
    "            for c in range(len(idx)):\n",
    "                merge += clu0[c]\n",
    "\n",
    "            #plot RSA difference map with statistics\n",
    "            plotname = 'RSA_'+su+'_High_Low_'+roi+'_elec'+str(elec)+'.png'\n",
    "            title = 'RSA for '+su+' High - Low in '+roi+' // Elec('+str(elec)+')'\n",
    "            fig, ax = plt.subplots()\n",
    "            plt.title(title)\n",
    "            vmin, vmax = np.nanmin(rsa_plot), np.nanmax(rsa_plot)\n",
    "            extr = abs(vmin) if abs(vmin)> vmax else vmax\n",
    "            img1 = plt.imshow(rsa_plot,vmin=-extr,vmax=extr,origin='lower')\n",
    "            size = rsa_plot.shape[0]-1\n",
    "            ticks = [0,size/4,size/2,(size)*3/4,size]\n",
    "            ticks_labels = [0,0.5,1,1.5,2]\n",
    "            ax.set_xticks(ticks, minor=False)\n",
    "            ax.set_yticks(ticks, minor=False)\n",
    "            ax.set_xticklabels(ticks_labels)\n",
    "            ax.set_yticklabels(ticks_labels)\n",
    "            plt.xlabel('Retrieval time (s)')\n",
    "            plt.ylabel('Encoding time (s)')\n",
    "            cbar = plt.colorbar()\n",
    "            cbar.set_label('RSA',rotation=270)\n",
    "            \n",
    "            #concat all masks for all clusters\n",
    "            img2 = plt.imshow(merge,alpha=0.3,origin='lower')\n",
    "            plt.savefig(path_save+plotname)\n",
    "            plt.clf()\n",
    "            plt.close()\n"
   ]
  },
  {
   "cell_type": "code",
   "execution_count": null,
   "metadata": {},
   "outputs": [],
   "source": []
  }
 ],
 "metadata": {
  "kernelspec": {
   "display_name": "Python 3",
   "language": "python",
   "name": "python3"
  },
  "language_info": {
   "codemirror_mode": {
    "name": "ipython",
    "version": 3
   },
   "file_extension": ".py",
   "mimetype": "text/x-python",
   "name": "python",
   "nbconvert_exporter": "python",
   "pygments_lexer": "ipython3",
   "version": "3.6.1"
  }
 },
 "nbformat": 4,
 "nbformat_minor": 2
}
