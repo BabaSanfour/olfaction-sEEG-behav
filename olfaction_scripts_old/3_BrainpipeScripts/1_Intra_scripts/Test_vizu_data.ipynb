{
 "cells": [
  {
   "cell_type": "code",
   "execution_count": 74,
   "metadata": {},
   "outputs": [],
   "source": [
    "from brainpipe.system import study\n",
    "import numpy as np\n",
    "from os.path import join\n",
    "from utils import subjects\n",
    "from itertools import product\n",
    "import matplotlib.pyplot as plt"
   ]
  },
  {
   "cell_type": "code",
   "execution_count": 77,
   "metadata": {},
   "outputs": [
    {
     "name": "stdout",
     "output_type": "stream",
     "text": [
      "-> Ripples loaded\n",
      "E_odors CHAF (2, 3500, 71)\n",
      "R_odors CHAF (2, 3500, 23)\n",
      "R_rec CHAF (2, 4000, 24)\n",
      "E_odors LEFC (19, 3500, 55)\n",
      "R_odors LEFC (19, 3500, 22)\n",
      "R_rec LEFC (19, 4000, 24)\n",
      "E_odors FERJ (39, 3500, 51)\n",
      "R_odors FERJ (39, 3500, 22)\n",
      "R_rec FERJ (39, 4000, 22)\n",
      "E_odors SEMC (32, 3500, 41)\n",
      "R_odors SEMC (32, 3500, 24)\n",
      "R_rec SEMC (32, 4000, 21)\n",
      "E_odors VACJ (43, 3500, 30)\n",
      "R_odors VACJ (43, 3500, 20)\n",
      "R_rec VACJ (43, 4000, 20)\n",
      "E_odors PIRJ (20, 3500, 80)\n",
      "R_odors PIRJ (20, 3500, 32)\n",
      "R_rec PIRJ (20, 4000, 32)\n"
     ]
    }
   ],
   "source": [
    "st = study('Ripples')\n",
    "PATH = join(st.path, 'database/{}/')\n",
    "datafile = join(PATH, '{}_cond=ALL_odors=ALL_bipo_INFO_clean.npz')\n",
    "sf = 500\n",
    "reps = ['E_odors','R_odors','R_rec']\n",
    "\n",
    "for su, rep in product(subjects,reps):\n",
    "    mat = np.load(datafile.format(rep,su),allow_pickle=True)\n",
    "    print(rep, su, mat['x'].shape)"
   ]
  }
 ],
 "metadata": {
  "kernelspec": {
   "display_name": "Python 3",
   "language": "python",
   "name": "python3"
  },
  "language_info": {
   "codemirror_mode": {
    "name": "ipython",
    "version": 3
   },
   "file_extension": ".py",
   "mimetype": "text/x-python",
   "name": "python",
   "nbconvert_exporter": "python",
   "pygments_lexer": "ipython3",
   "version": "3.6.1"
  }
 },
 "nbformat": 4,
 "nbformat_minor": 2
}
