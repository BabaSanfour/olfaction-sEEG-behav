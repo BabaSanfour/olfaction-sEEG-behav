{
 "cells": [
  {
   "cell_type": "code",
   "execution_count": 1,
   "metadata": {
    "scrolled": true
   },
   "outputs": [
    {
     "name": "stdout",
     "output_type": "stream",
     "text": [
      "Olfacto not found. use self.add() to add it\n",
      "Olfacto has been successfully created\n",
      "-> Olfacto loaded\n"
     ]
    }
   ],
   "source": [
    "\"\"\"This script create a study, which mean a set of repository\n",
    "which can be convenient to manage path. (might doesn't work on windows...)\n",
    "\"\"\"\n",
    "from brainpipe.system import study\n",
    "\n",
    "if __name__ == \"__main__\":\n",
    "    # Define path and name of the study :\n",
    "    path = r'/media/1_Analyses_Intra_EM_Odor/'\n",
    "    name = 'Olfacto'\n",
    "    # Create the study :\n",
    "    st = study(name)\n",
    "    st.add(path)\n"
   ]
  }
 ],
 "metadata": {
  "anaconda-cloud": {},
  "kernelspec": {
   "display_name": "Python 3",
   "language": "python",
   "name": "python3"
  },
  "language_info": {
   "codemirror_mode": {
    "name": "ipython",
    "version": 3
   },
   "file_extension": ".py",
   "mimetype": "text/x-python",
   "name": "python",
   "nbconvert_exporter": "python",
   "pygments_lexer": "ipython3",
   "version": "3.6.1"
  }
 },
 "nbformat": 4,
 "nbformat_minor": 1
}
