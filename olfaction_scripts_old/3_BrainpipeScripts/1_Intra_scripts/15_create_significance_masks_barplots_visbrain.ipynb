{
 "cells": [
  {
   "cell_type": "markdown",
   "metadata": {},
   "source": [
    "### 1- Create stats masks - Electrodes to be plotted\n",
    "    Elec that reach the threshold in time (min sig)"
   ]
  },
  {
   "cell_type": "code",
   "execution_count": 2,
   "metadata": {
    "scrolled": false
   },
   "outputs": [
    {
     "name": "stdout",
     "output_type": "stream",
     "text": [
      "-> Olfacto loaded\n"
     ]
    },
    {
     "ename": "FileNotFoundError",
     "evalue": "[Errno 2] No such file or directory: '/media/karim/Datas4To/1_Analyses_Intra_EM_Odor/Olfacto/figure/LDA_PAC_E_EpiPerf_LowHigh_BBG/All_subjects_sources_0_theta_odor_low_high_sel_physFT.npz'",
     "output_type": "error",
     "traceback": [
      "\u001b[0;31m---------------------------------------------------------------------------\u001b[0m",
      "\u001b[0;31mFileNotFoundError\u001b[0m                         Traceback (most recent call last)",
      "\u001b[0;32m<ipython-input-2-f4850928f45a>\u001b[0m in \u001b[0;36m<module>\u001b[0;34m()\u001b[0m\n\u001b[1;32m     23\u001b[0m \u001b[0;32mfor\u001b[0m \u001b[0mfreq\u001b[0m \u001b[0;32min\u001b[0m \u001b[0mfreqs\u001b[0m\u001b[0;34m:\u001b[0m\u001b[0;34m\u001b[0m\u001b[0m\n\u001b[1;32m     24\u001b[0m     \u001b[0;31m# Load the npz file with su_codes, xyz of signif and not signif elec\u001b[0m\u001b[0;34m\u001b[0m\u001b[0;34m\u001b[0m\u001b[0m\n\u001b[0;32m---> 25\u001b[0;31m     \u001b[0mmat\u001b[0m \u001b[0;34m=\u001b[0m \u001b[0mnp\u001b[0m\u001b[0;34m.\u001b[0m\u001b[0mload\u001b[0m\u001b[0;34m(\u001b[0m\u001b[0mf_form\u001b[0m\u001b[0;34m.\u001b[0m\u001b[0mformat\u001b[0m\u001b[0;34m(\u001b[0m\u001b[0;34m'All_subjects'\u001b[0m\u001b[0;34m,\u001b[0m\u001b[0mfreq\u001b[0m\u001b[0;34m)\u001b[0m\u001b[0;34m)\u001b[0m\u001b[0;34m\u001b[0m\u001b[0m\n\u001b[0m\u001b[1;32m     26\u001b[0m     \u001b[0msubjects\u001b[0m\u001b[0;34m,\u001b[0m \u001b[0ms_th\u001b[0m\u001b[0;34m,\u001b[0m \u001b[0ms_da\u001b[0m \u001b[0;34m=\u001b[0m \u001b[0mmat\u001b[0m\u001b[0;34m[\u001b[0m\u001b[0;34m'su_codes'\u001b[0m\u001b[0;34m]\u001b[0m\u001b[0;34m,\u001b[0m\u001b[0mmat\u001b[0m\u001b[0;34m[\u001b[0m\u001b[0;34m's_th_'\u001b[0m\u001b[0;34m+\u001b[0m\u001b[0mth\u001b[0m\u001b[0;34m]\u001b[0m\u001b[0;34m,\u001b[0m \u001b[0mmat\u001b[0m\u001b[0;34m[\u001b[0m\u001b[0;34m's_da'\u001b[0m\u001b[0;34m]\u001b[0m\u001b[0;34m\u001b[0m\u001b[0m\n\u001b[1;32m     27\u001b[0m     \u001b[0;31m#print(subjects.shape, s_th05.shape, s_th01.shape, s_da.shape)\u001b[0m\u001b[0;34m\u001b[0m\u001b[0;34m\u001b[0m\u001b[0m\n",
      "\u001b[0;32m~/anaconda3/lib/python3.5/site-packages/numpy/lib/npyio.py\u001b[0m in \u001b[0;36mload\u001b[0;34m(file, mmap_mode, allow_pickle, fix_imports, encoding)\u001b[0m\n\u001b[1;32m    368\u001b[0m     \u001b[0mown_fid\u001b[0m \u001b[0;34m=\u001b[0m \u001b[0;32mFalse\u001b[0m\u001b[0;34m\u001b[0m\u001b[0m\n\u001b[1;32m    369\u001b[0m     \u001b[0;32mif\u001b[0m \u001b[0misinstance\u001b[0m\u001b[0;34m(\u001b[0m\u001b[0mfile\u001b[0m\u001b[0;34m,\u001b[0m \u001b[0mbasestring\u001b[0m\u001b[0;34m)\u001b[0m\u001b[0;34m:\u001b[0m\u001b[0;34m\u001b[0m\u001b[0m\n\u001b[0;32m--> 370\u001b[0;31m         \u001b[0mfid\u001b[0m \u001b[0;34m=\u001b[0m \u001b[0mopen\u001b[0m\u001b[0;34m(\u001b[0m\u001b[0mfile\u001b[0m\u001b[0;34m,\u001b[0m \u001b[0;34m\"rb\"\u001b[0m\u001b[0;34m)\u001b[0m\u001b[0;34m\u001b[0m\u001b[0m\n\u001b[0m\u001b[1;32m    371\u001b[0m         \u001b[0mown_fid\u001b[0m \u001b[0;34m=\u001b[0m \u001b[0;32mTrue\u001b[0m\u001b[0;34m\u001b[0m\u001b[0m\n\u001b[1;32m    372\u001b[0m     \u001b[0;32melif\u001b[0m \u001b[0mis_pathlib_path\u001b[0m\u001b[0;34m(\u001b[0m\u001b[0mfile\u001b[0m\u001b[0;34m)\u001b[0m\u001b[0;34m:\u001b[0m\u001b[0;34m\u001b[0m\u001b[0m\n",
      "\u001b[0;31mFileNotFoundError\u001b[0m: [Errno 2] No such file or directory: '/media/karim/Datas4To/1_Analyses_Intra_EM_Odor/Olfacto/figure/LDA_PAC_E_EpiPerf_LowHigh_BBG/All_subjects_sources_0_theta_odor_low_high_sel_physFT.npz'"
     ]
    }
   ],
   "source": [
    "from brainpipe.system import study\n",
    "from os import listdir, makedirs\n",
    "from os.path import isfile, join, exists\n",
    "import numpy as np\n",
    "from itertools import product\n",
    "\n",
    "conds = ['low','high']\n",
    "###############################################################################\n",
    "st = study('Olfacto')\n",
    "path_npz = join(st.path, 'figure/LDA_PAC_E_EpiPerf_LowHigh_BBG/')\n",
    "path_to_save = join(path_npz, 'masks_stat/')\n",
    "f_form = '{}_sources_{}_odor_'+conds[0]+'_'+conds[1]+'_sel_physFT.npz'\n",
    "f_form = join(path_npz, f_form)\n",
    "f_save = '{}_mask_stat_{}_minwin{}_th{}.npy'\n",
    "f_save = join(path_to_save,f_save)\n",
    "###############################################################################\n",
    "if not exists(path_to_save):\n",
    "    makedirs(path_to_save)\n",
    "###############################################################################  \n",
    "freqs = ['0_theta', '1_alpha']#['0_VLFC', '1_delta', '2_theta', '3_alpha', '4_beta','5_gamma1','6_gamma2']\n",
    "min_win = 1\n",
    "th = '01'\n",
    "for freq in freqs:\n",
    "    # Load the npz file with su_codes, xyz of signif and not signif elec\n",
    "    mat = np.load(f_form.format('All_subjects',freq))\n",
    "    subjects, s_th, s_da = mat['su_codes'],mat['s_th_'+th], mat['s_da']\n",
    "    #print(subjects.shape, s_th05.shape, s_th01.shape, s_da.shape)\n",
    "    su_codes = np.unique(subjects)\n",
    "    mask = np.array([])\n",
    "    for su in su_codes:\n",
    "        n_elecs = s_th[np.where(subjects ==su)].shape[0]\n",
    "        thresh = np.amax(s_th[np.where(subjects==su)])\n",
    "        da = s_da[np.where(subjects==su)]\n",
    "        print(n_elecs,da.shape,thresh)\n",
    "        for elec in range(n_elecs):\n",
    "            da_elec = da[elec]\n",
    "            pvals = np.array([])\n",
    "            if da_elec > thresh:\n",
    "                pval = 1\n",
    "            if da_elec <= thresh:\n",
    "                pval = 0\n",
    "            pvals = np.hstack((pvals,pval)) if np.size(pvals) else pval\n",
    "            #criteria for an elec to be significant\n",
    "            pvals = np.ravel(pvals)\n",
    "            underp = np.where(pvals == 1)[0]\n",
    "            pvsplit = np.split(underp, np.where(np.diff(underp) != 1)[0]+1)\n",
    "            signif = [True for k in pvsplit if len(k) >= min_win]\n",
    "            if len(signif) >=1:\n",
    "                remove = False\n",
    "            else:\n",
    "                remove = True\n",
    "            mask = np.hstack((mask, remove)) if np.size(mask) else remove\n",
    "    print(freq, len(mask),len(np.where(mask == False)[0]))\n",
    "    np.save(f_save.format('All_subjects',freq,min_win,th),mask)"
   ]
  },
  {
   "cell_type": "markdown",
   "metadata": {},
   "source": [
    "### 2- Create masks - min patients"
   ]
  },
  {
   "cell_type": "code",
   "execution_count": 11,
   "metadata": {
    "scrolled": true
   },
   "outputs": [
    {
     "name": "stdout",
     "output_type": "stream",
     "text": [
      "-> Olfacto loaded\n",
      "['su_codes', 's_labels', 's_aal', 's_elec_feat1', 's_elec', 's_xyz', 's_BA', 's_th_01', 's_aal_RL', 's_MAI_RL', 's_th_05', 's_channels', 's_da', 's_elec_feat0']\n",
      "S1 Ins h4-h3 49 number of elecs 1\n",
      "S1 OFC o2-o1 69 number of elecs 2\n",
      "S1 Ins t2-t1 79 number of elecs 3\n",
      "S3 MFG k9-k8 24 number of elecs 4\n",
      "S3 MFG k12-k11 27 number of elecs 5\n",
      "S4 HC b2-b1 0 number of elecs 6\n",
      "S4 PHG d3-d2 26 number of elecs 7\n",
      "S5 Ins h4-h3 34 number of elecs 8\n",
      "['su_codes', 's_labels', 's_aal', 's_elec_feat1', 's_elec', 's_xyz', 's_BA', 's_th_01', 's_aal_RL', 's_MAI_RL', 's_th_05', 's_channels', 's_da', 's_elec_feat0']\n",
      "S1 HC b2-b1 5 number of elecs 1\n",
      "S1 IFG o11-o10 78 number of elecs 2\n",
      "S2 OFC o6-o5 45 number of elecs 3\n",
      "S3 STG j5-j4 21 number of elecs 4\n",
      "S4 MTG b'9-b'8 10 number of elecs 5\n",
      "S4 OFC j3-j2 33 number of elecs 6\n",
      "['su_codes', 's_labels', 's_aal', 's_elec_feat1', 's_elec', 's_xyz', 's_BA', 's_th_01', 's_aal_RL', 's_MAI_RL', 's_th_05', 's_channels', 's_da', 's_elec_feat0']\n",
      "S0 SFG c'5-c'4 3 number of elecs 1\n",
      "S1 ITG d'11-d'10 39 number of elecs 2\n",
      "S1 MTG e9-e8 44 number of elecs 3\n",
      "S1 STG h8-h7 50 number of elecs 4\n",
      "S1 ITG l8-l7 65 number of elecs 5\n",
      "S2 Amg-PirT a2-a1 0 number of elecs 6\n",
      "S2 HC d6-d5 17 number of elecs 7\n",
      "S2 ACC k2-k1 23 number of elecs 8\n",
      "S3 IFG e7-e6 9 number of elecs 9\n",
      "S3 IFG u10-u9 44 number of elecs 10\n",
      "S4 MTG c'9-c'8 24 number of elecs 11\n",
      "S5 MTG b10-b9 7 number of elecs 12\n",
      "S5 MTG c'12-c'11 25 number of elecs 13\n",
      "S6 MFG k12-k11 37 number of elecs 14\n",
      "['su_codes', 's_labels', 's_aal', 's_elec_feat1', 's_elec', 's_xyz', 's_BA', 's_th_01', 's_aal_RL', 's_MAI_RL', 's_th_05', 's_channels', 's_da', 's_elec_feat0']\n",
      "S0 SFG c'5-c'4 3 number of elecs 1\n",
      "S0 SFG d'5-d'4 8 number of elecs 2\n",
      "S0 ACC f'3-f'2 26 number of elecs 3\n",
      "S1 MTG a9-a8 3 number of elecs 4\n",
      "S3 OFC f3-f2 12 number of elecs 5\n",
      "S5 Ins h2-h1 32 number of elecs 6\n",
      "S6 FuG l4-l3 45 number of elecs 7\n"
     ]
    }
   ],
   "source": [
    "from brainpipe.system import study\n",
    "from os import listdir, makedirs\n",
    "from os.path import isfile, join, exists\n",
    "import numpy as np\n",
    "from itertools import product\n",
    "from PIL import Image\n",
    "score = 'Epi'\n",
    "conds = ['low','high']\n",
    "th = '05'\n",
    "###############################################################################\n",
    "st = study('Olfacto')\n",
    "path_classif = join(st.path, 'classified/1_Classif_PAC_Encoding_EpiPerf_LowHigh/')\n",
    "path_npz = join(st.path, 'figure/1_Classif_PAC_E_EpiPerf_'+conds[0].capitalize()+conds[1].capitalize()+'/')\n",
    "path_rois, path_stats = join(path_npz,'Signif_ROIs'+th+'/'), join(path_npz, 'masks_stat/')\n",
    "path_to_save = join(path_npz, 'masks_visbrain'+th+'/')\n",
    "path_save_fig = join(path_npz, 'Signif_timecourse'+th+'/')\n",
    "npz_form = join(path_npz, '{}_sources_{}_odor_'+conds[0]+'_'+conds[1]+'_sel_physFT.npz')\n",
    "rois_form = join(path_rois, '{}_signif_min_{}_{}_min_win{}_th_{}.npy')\n",
    "stat_form = join(path_stats,'{}_mask_stat_{}_minwin{}_th{}.npy')\n",
    "mask_vis_form = join(path_to_save,'{}_mask_min{}_{}_minwin{}_th{}.npy')\n",
    "###############################################################################\n",
    "if not exists(path_to_save):\n",
    "    makedirs(path_to_save)\n",
    "if not exists(path_save_fig):\n",
    "    makedirs(path_save_fig)\n",
    "############################################################################### \n",
    "\n",
    "freqs = ['0_VLFC', '1_delta', '2_theta', '3_alpha'] #'0_VLFC', '1_delta', '2_theta', '3_alpha', '4_beta','5_gamma1','6_gamma2\n",
    "su_codes = {'S0':'CHAF','S1':'FERJ','S2':'LEFC','S3':'SEMC','S4':'PIRJ','S5':'MICP','S6':'VACJ'}\n",
    "min_wins = ['1']#,'2','3','4','5']\n",
    "methods = ['MAI_RL'] #,'aal_RL','BA','aal',\n",
    "min_sigs = [1]#1,2,3,4,\n",
    "\n",
    "for freq,min_win,min_sig,method in product(freqs,min_wins,min_sigs,methods):\n",
    "    # Load the electrodes labels, electrodes significant (bool), rois significant (names)\n",
    "    npz_mat = np.load(npz_form.format('All_subjects',freq))\n",
    "    print(npz_mat.files)\n",
    "    labels, subjects = npz_mat['s_'+method],npz_mat['su_codes']\n",
    "    elecs, channels = npz_mat['s_elec'],npz_mat['s_channels']\n",
    "    stats = np.load(stat_form.format('All_subjects',freq,min_win,th))\n",
    "    rois = np.load(rois_form.format('s_Mai_RL',min_sig,freq[2:],min_win,th))\n",
    "    #print(rois)\n",
    "    mask_vis = []\n",
    "    i=0\n",
    "    for e in range(labels.shape[0]):\n",
    "        if stats[e]==0 and labels[e] in rois:\n",
    "            mask_vis.append(False)\n",
    "            i=i+1\n",
    "            print(subjects[e],labels[e],channels[e],elecs[e],'number of elecs',i)\n",
    "            #path_file = path_classif+su_codes[subjects[e]]+'/'+freq+'/fig/'\n",
    "            path_file_time = path_classif+freq+'/fig/'\n",
    "            filename = su_codes[subjects[e]]+'_Pac_'+conds[0]+'_'+conds[1]+'_'+channels[e]+'_'+labels[e]+'_('+elecs[e]+').png'\n",
    "            img = Image.open(path_file_time+filename)\n",
    "            path_save_fig2 = path_save_fig+freq+'/'+method+'/'+labels[e]+'/'\n",
    "            if not exists(path_save_fig2):\n",
    "                makedirs(path_save_fig2)\n",
    "            img.save(path_save_fig2+'/min_patient'+str(min_sig)+'_minwin_'+str(min_win)+'_'+filename,'png')\n",
    "        else :\n",
    "            mask_vis.append(True)\n",
    "        #print(stats[e],labels[e], mask_vis[e])\n",
    "    np.save(mask_vis_form.format(method,min_sig,freq,min_win,th),mask_vis)"
   ]
  },
  {
   "cell_type": "code",
   "execution_count": null,
   "metadata": {
    "collapsed": true
   },
   "outputs": [],
   "source": []
  }
 ],
 "metadata": {
  "anaconda-cloud": {},
  "kernelspec": {
   "display_name": "Python [conda root]",
   "language": "python",
   "name": "conda-root-py"
  },
  "language_info": {
   "codemirror_mode": {
    "name": "ipython",
    "version": 3
   },
   "file_extension": ".py",
   "mimetype": "text/x-python",
   "name": "python",
   "nbconvert_exporter": "python",
   "pygments_lexer": "ipython3",
   "version": "3.5.5"
  }
 },
 "nbformat": 4,
 "nbformat_minor": 1
}
