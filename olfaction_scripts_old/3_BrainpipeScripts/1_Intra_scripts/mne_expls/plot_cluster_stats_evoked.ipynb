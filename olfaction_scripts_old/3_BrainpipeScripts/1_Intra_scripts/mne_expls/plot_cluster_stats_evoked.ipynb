{
 "cells": [
  {
   "cell_type": "code",
   "execution_count": 2,
   "metadata": {},
   "outputs": [],
   "source": [
    "%matplotlib inline"
   ]
  },
  {
   "cell_type": "markdown",
   "metadata": {},
   "source": [
    "\n",
    "# Permutation F-test on sensor data with 1D cluster level\n",
    "\n",
    "\n",
    "One tests if the evoked response is significantly different\n",
    "between conditions. Multiple comparison problem is addressed\n",
    "with cluster level permutation test.\n"
   ]
  },
  {
   "cell_type": "code",
   "execution_count": 3,
   "metadata": {},
   "outputs": [
    {
     "name": "stdout",
     "output_type": "stream",
     "text": [
      "Automatically created module for IPython interactive environment\n"
     ]
    }
   ],
   "source": [
    "# Authors: Alexandre Gramfort <alexandre.gramfort@inria.fr>\n",
    "#\n",
    "# License: BSD (3-clause)\n",
    "\n",
    "import matplotlib.pyplot as plt\n",
    "\n",
    "import mne\n",
    "from mne import io\n",
    "from mne.stats import permutation_cluster_test\n",
    "from mne.datasets import sample\n",
    "\n",
    "print(__doc__)"
   ]
  },
  {
   "cell_type": "markdown",
   "metadata": {},
   "source": [
    "Set parameters\n",
    "\n"
   ]
  },
  {
   "cell_type": "code",
   "execution_count": 4,
   "metadata": {},
   "outputs": [
    {
     "name": "stdout",
     "output_type": "stream",
     "text": [
      "Opening raw data file /home/karim/mne_data/MNE-sample-data/MEG/sample/sample_audvis_filt-0-40_raw.fif...\n",
      "    Read a total of 4 projection items:\n",
      "        PCA-v1 (1 x 102)  idle\n",
      "        PCA-v2 (1 x 102)  idle\n",
      "        PCA-v3 (1 x 102)  idle\n",
      "        Average EEG reference (1 x 60)  idle\n",
      "    Range : 6450 ... 48149 =     42.956 ...   320.665 secs\n",
      "Ready.\n",
      "Current compensation grade : 0\n"
     ]
    }
   ],
   "source": [
    "data_path = sample.data_path()\n",
    "raw_fname = data_path + '/MEG/sample/sample_audvis_filt-0-40_raw.fif'\n",
    "event_fname = data_path + '/MEG/sample/sample_audvis_filt-0-40_raw-eve.fif'\n",
    "tmin = -0.2\n",
    "tmax = 0.5\n",
    "\n",
    "#   Setup for reading the raw data\n",
    "raw = io.read_raw_fif(raw_fname)\n",
    "events = mne.read_events(event_fname)\n",
    "\n",
    "channel = 'MEG 1332'  # include only this channel in analysis\n",
    "include = [channel]"
   ]
  },
  {
   "cell_type": "markdown",
   "metadata": {},
   "source": [
    "Read epochs for the channel of interest\n",
    "\n"
   ]
  },
  {
   "cell_type": "code",
   "execution_count": 5,
   "metadata": {},
   "outputs": [
    {
     "name": "stdout",
     "output_type": "stream",
     "text": [
      "72 matching events found\n",
      "Applying baseline correction (mode: mean)\n",
      "Not setting metadata\n",
      "4 projection items activated\n",
      "Loading data for 72 events and 106 original time points ...\n",
      "    Rejecting  epoch based on EOG : ['EOG 061']\n",
      "    Rejecting  epoch based on EOG : ['EOG 061']\n",
      "    Rejecting  epoch based on EOG : ['EOG 061']\n",
      "    Rejecting  epoch based on EOG : ['EOG 061']\n",
      "    Rejecting  epoch based on EOG : ['EOG 061']\n",
      "    Rejecting  epoch based on EOG : ['EOG 061']\n",
      "    Rejecting  epoch based on EOG : ['EOG 061']\n",
      "    Rejecting  epoch based on EOG : ['EOG 061']\n",
      "    Rejecting  epoch based on EOG : ['EOG 061']\n",
      "    Rejecting  epoch based on EOG : ['EOG 061']\n",
      "    Rejecting  epoch based on EOG : ['EOG 061']\n",
      "    Rejecting  epoch based on EOG : ['EOG 061']\n",
      "    Rejecting  epoch based on EOG : ['EOG 061']\n",
      "    Rejecting  epoch based on EOG : ['EOG 061']\n",
      "    Rejecting  epoch based on EOG : ['EOG 061']\n",
      "    Rejecting  epoch based on EOG : ['EOG 061']\n",
      "16 bad epochs dropped\n",
      "73 matching events found\n",
      "Applying baseline correction (mode: mean)\n",
      "Not setting metadata\n",
      "4 projection items activated\n",
      "Loading data for 73 events and 106 original time points ...\n",
      "    Rejecting  epoch based on EOG : ['EOG 061']\n",
      "    Rejecting  epoch based on EOG : ['EOG 061']\n",
      "    Rejecting  epoch based on EOG : ['EOG 061']\n",
      "    Rejecting  epoch based on EOG : ['EOG 061']\n",
      "    Rejecting  epoch based on EOG : ['EOG 061']\n",
      "    Rejecting  epoch based on EOG : ['EOG 061']\n",
      "    Rejecting  epoch based on EOG : ['EOG 061']\n",
      "    Rejecting  epoch based on EOG : ['EOG 061']\n",
      "    Rejecting  epoch based on EOG : ['EOG 061']\n",
      "    Rejecting  epoch based on EOG : ['EOG 061']\n",
      "    Rejecting  epoch based on EOG : ['EOG 061']\n",
      "11 bad epochs dropped\n"
     ]
    }
   ],
   "source": [
    "picks = mne.pick_types(raw.info, meg=False, eog=True, include=include,\n",
    "                       exclude='bads')\n",
    "event_id = 1\n",
    "reject = dict(grad=4000e-13, eog=150e-6)\n",
    "epochs1 = mne.Epochs(raw, events, event_id, tmin, tmax, picks=picks,\n",
    "                     baseline=(None, 0), reject=reject)\n",
    "condition1 = epochs1.get_data()  # as 3D matrix\n",
    "\n",
    "event_id = 2\n",
    "epochs2 = mne.Epochs(raw, events, event_id, tmin, tmax, picks=picks,\n",
    "                     baseline=(None, 0), reject=reject)\n",
    "condition2 = epochs2.get_data()  # as 3D matrix\n",
    "\n",
    "condition1 = condition1[:, 0, :]  # take only one channel to get a 2D array\n",
    "condition2 = condition2[:, 0, :]  # take only one channel to get a 2D array"
   ]
  },
  {
   "cell_type": "markdown",
   "metadata": {},
   "source": [
    "Compute statistic\n",
    "\n"
   ]
  },
  {
   "cell_type": "code",
   "execution_count": 6,
   "metadata": {},
   "outputs": [
    {
     "name": "stdout",
     "output_type": "stream",
     "text": [
      "stat_fun(H1): min=0.000227 max=38.167093\n",
      "Running initial clustering\n",
      "Found 4 clusters\n",
      "Permuting 999 times...\n",
      "[........................................................] 100.00%  |   \n",
      "Computing cluster p-values\n",
      "Done.\n"
     ]
    }
   ],
   "source": [
    "threshold = 6.0\n",
    "T_obs, clusters, cluster_p_values, H0 = \\\n",
    "    permutation_cluster_test([condition1, condition2], n_permutations=1000,\n",
    "                             threshold=threshold, tail=1, n_jobs=1)"
   ]
  },
  {
   "cell_type": "markdown",
   "metadata": {},
   "source": [
    "Plot\n",
    "\n"
   ]
  },
  {
   "cell_type": "code",
   "execution_count": 7,
   "metadata": {},
   "outputs": [
    {
     "data": {
      "image/png": "[encoded data removed]",
      "text/plain": [
       "<Figure size 432x288 with 2 Axes>"
      ]
     },
     "metadata": {
      "needs_background": "light"
     },
     "output_type": "display_data"
    }
   ],
   "source": [
    "times = epochs1.times\n",
    "plt.close('all')\n",
    "plt.subplot(211)\n",
    "plt.title('Channel : ' + channel)\n",
    "plt.plot(times, condition1.mean(axis=0) - condition2.mean(axis=0),\n",
    "         label=\"ERF Contrast (Event 1 - Event 2)\")\n",
    "plt.ylabel(\"MEG (T / m)\")\n",
    "plt.legend()\n",
    "plt.subplot(212)\n",
    "for i_c, c in enumerate(clusters):\n",
    "    c = c[0]\n",
    "    if cluster_p_values[i_c] <= 0.05:\n",
    "        h = plt.axvspan(times[c.start], times[c.stop - 1],\n",
    "                        color='r', alpha=0.3)\n",
    "    else:\n",
    "        plt.axvspan(times[c.start], times[c.stop - 1], color=(0.3, 0.3, 0.3),\n",
    "                    alpha=0.3)\n",
    "hf = plt.plot(times, T_obs, 'g')\n",
    "plt.legend((h, ), ('cluster p-value < 0.05', ))\n",
    "plt.xlabel(\"time (ms)\")\n",
    "plt.ylabel(\"f-values\")\n",
    "plt.show()"
   ]
  }
 ],
 "metadata": {
  "kernelspec": {
   "display_name": "Python 3",
   "language": "python",
   "name": "python3"
  },
  "language_info": {
   "codemirror_mode": {
    "name": "ipython",
    "version": 3
   },
   "file_extension": ".py",
   "mimetype": "text/x-python",
   "name": "python",
   "nbconvert_exporter": "python",
   "pygments_lexer": "ipython3",
   "version": "3.6.1"
  }
 },
 "nbformat": 4,
 "nbformat_minor": 1
}
