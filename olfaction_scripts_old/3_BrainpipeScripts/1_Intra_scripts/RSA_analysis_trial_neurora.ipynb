{
 "cells": [
  {
   "cell_type": "code",
   "execution_count": 87,
   "metadata": {},
   "outputs": [],
   "source": [
    "from neurora.rdm_cal import ecogRDM, eegRDM\n",
    "from neurora.rdm_plot import plot_rdm_1, plot_rdm_2\n",
    "from brainpipe.system import study\n",
    "import os.path as op\n",
    "import numpy as np"
   ]
  },
  {
   "cell_type": "code",
   "execution_count": 133,
   "metadata": {},
   "outputs": [
    {
     "name": "stdout",
     "output_type": "stream",
     "text": [
      "-> Olfacto loaded\n"
     ]
    },
    {
     "data": {
      "image/png": "[encoded data removed]",
      "text/plain": [
       "<Figure size 432x288 with 2 Axes>"
      ]
     },
     "metadata": {
      "needs_background": "light"
     },
     "output_type": "display_data"
    },
    {
     "data": {
      "image/png": "[encoded data removed]",
      "text/plain": [
       "<Figure size 432x288 with 2 Axes>"
      ]
     },
     "metadata": {
      "needs_background": "light"
     },
     "output_type": "display_data"
    },
    {
     "name": "stdout",
     "output_type": "stream",
     "text": [
      "8\n",
      "(8, 8)\n",
      "(8, 8)\n",
      "0.8038067366395734\n",
      "0.7959640041103029\n",
      "0.8296916209503722\n",
      "0.7609586993379679\n",
      "0.7364677807667717\n",
      "0.9560405652326834\n",
      "0.7943197311725023\n",
      "0.9687625756422898\n",
      "0.5460597143500409\n",
      "0.7486373819370227\n",
      "0.7058823452020779\n",
      "0.9673723678961154\n",
      "0.8108243665098593\n",
      "0.8274518237669315\n",
      "0.8441847699070412\n",
      "0.9565115296608679\n",
      "0.8487907485968738\n",
      "0.9280866733692051\n",
      "0.5402898684272974\n",
      "0.7704761450275212\n",
      "0.803832429895378\n",
      "0.6969819374440303\n",
      "0.9807902147041124\n",
      "0.3953544730841704\n",
      "0.6426441215914974\n",
      "0.7699524836458072\n",
      "0.8839452826531777\n",
      "0.7362014953184192\n",
      "[0.80380674 0.795964   0.82969162 0.7609587  0.73646778 0.95604057\n",
      " 0.79431973 0.96876258 0.54605971 0.74863738 0.70588235 0.96737237\n",
      " 0.81082437 0.82745182 0.84418477 0.95651153 0.84879075 0.92808667\n",
      " 0.54028987 0.77047615 0.80383243 0.69698194 0.98079021 0.39535447\n",
      " 0.64264412 0.76995248 0.88394528 0.7362015 ]\n",
      "[0.78320958 0.90554109 0.5609471  0.84894177 0.89073682 0.75830235\n",
      " 0.7003963  0.84139617 0.47274345 0.78532773 0.81560948 0.90110513\n",
      " 0.50702091 0.94511366 0.84910158 0.79326779 0.80518745 0.85730123\n",
      " 0.91099055 0.78907875 0.77418475 0.64385531 0.79223633 0.87776607\n",
      " 0.46073801 0.80344782 0.96777354 0.48018386]\n",
      "SpearmanrResult(correlation=0.20087575259989054, pvalue=0.305378111024327)\n",
      "(0.22918592077222968, 0.24073873065665094)\n",
      "KendalltauResult(correlation=0.13756613756613756, pvalue=0.31676542560212717)\n"
     ]
    }
   ],
   "source": [
    "st = study('Olfacto')\n",
    "phases = ['Encoding','Retrieval']\n",
    "\n",
    "RDMs = []\n",
    "for phase in phases:\n",
    "    PATH_POW = op.join(st.path, 'database/{}_By_Odor/'.format(phase))\n",
    "\n",
    "    su = 'VACJ'\n",
    "    # odors = list([['10','11','12','13'], ['14','15','16','17']])\n",
    "    odors = list(['10','11','12','13','14','15','16','17'])\n",
    "    channels = [\"b'2-b'1\"]\n",
    "\n",
    "    all_odors = []\n",
    "    for od in odors:\n",
    "        mat = np.load(PATH_POW+'{}_odor_{}_bipo_sel_physFT.npz'.format(su,od))\n",
    "        data, sf = mat['x'], mat['sf'] #nchan, n_times, trials\n",
    "        time = (np.arange(data.shape[1])/sf)-3\n",
    "        chs_ix = [i for i,x in enumerate(mat['channels']) if x in channels]\n",
    "        t_ix = [i for i,x in enumerate(time) if 0 < x <= 2.1]\n",
    "        data_sel = data[chs_ix,t_ix[0]:t_ix[-1]+1,:] #nchs,ntimes,ntrials\n",
    "        data_sel = data_sel.swapaxes(1,-1).swapaxes(0,1)[np.newaxis] #n_trials, n_chans, times\n",
    "        all_odors.append(data_sel)\n",
    "\n",
    "    min_tr = np.min([x.shape[1] for x in all_odors])\n",
    "    concat_all = np.array([])\n",
    "    for x in all_odors:\n",
    "        sel = x[:,:min_tr,...]\n",
    "        concat_all = np.vstack((concat_all,sel)) if np.size(concat_all) else sel\n",
    "    #RDM for iEEG, opt calculate the RDM for each channel or for each time-point or not\n",
    "    RDM = ecogRDM(concat_all,len(channels),opt='all') #“channels” or “time” or “all”.\n",
    "    plot_rdm_1(RDM)\n",
    "    RDMs.append(RDM)\n",
    "\n",
    "from neurora.rsa_corr import (rsa_correlation_spearman, rsa_correlation_kendall,\n",
    "                              rsa_correlation_pearson)\n",
    "rsa_spear = rsa_correlation_spearman(RDMs[0],RDMs[1])\n",
    "rsa_pear = rsa_correlation_pearson(RDMs[0],RDMs[1])\n",
    "rsa_ken = rsa_correlation_kendall(RDMs[0],RDMs[1])\n",
    "print(rsa_spear)\n",
    "print(rsa_pear)\n",
    "print(rsa_ken)"
   ]
  }
 ],
 "metadata": {
  "kernelspec": {
   "display_name": "Python 3",
   "language": "python",
   "name": "python3"
  },
  "language_info": {
   "codemirror_mode": {
    "name": "ipython",
    "version": 3
   },
   "file_extension": ".py",
   "mimetype": "text/x-python",
   "name": "python",
   "nbconvert_exporter": "python",
   "pygments_lexer": "ipython3",
   "version": "3.6.1"
  }
 },
 "nbformat": 4,
 "nbformat_minor": 2
}
