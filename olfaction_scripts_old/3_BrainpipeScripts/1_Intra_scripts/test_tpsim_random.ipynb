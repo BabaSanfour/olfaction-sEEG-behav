{
 "cells": [
  {
   "cell_type": "code",
   "execution_count": 7,
   "metadata": {},
   "outputs": [],
   "source": [
    "dict_001 = {'aHC':{'FERJ':[\"b2-b1\",\"b6-b5\"], 'PIRJ':[\"b'4-b'3\"], 'VACJ':[\"b3-b2\"]},\n",
    "            'OFC_olf':{'LEFC':[\"o4-o3\"], 'SEMC':[\"o5-o4\",\"o6-o5\"], 'PIRJ':[\"o5-o4\"]},\n",
    "            'IFG':{'FERJ':[\"o9-o8\",\"o10-o9\"], 'SEMC':[\"j2-j1\"], 'VACJ':[\"k'13-k'12\"]},}\n",
    "\n",
    "dict_01 = {'aHC':{'FERJ':[\"b2-b1\",\"b6-b5\",\"b3-b2\",\"b'5-b'4\"],'PIRJ':[\"b'4-b'3\"],\n",
    "                  'VACJ':[\"b3-b2\",\"b'2-b'1\"], 'SEMC':[\"b5-b4\"]},\n",
    "            'IFG': {'FERJ':[\"o9-o8\",\"o10-o9\",\"o8-o7\"], 'SEMC':[\"j2-j1\"],\n",
    "                    'VACJ':[\"k'13-k'12\"]},\n",
    "           'OFC_olf':{'LEFC':[\"o4-o3\",\"o6-o5\"], 'SEMC':[\"o5-o4\",\"o6-o5\",\"o7-o6\"],\n",
    "                      'PIRJ':[\"o5-o4\"]},\n",
    "           'PirT': {'FERJ':[\"a3-a2\",\"j2-j1\"], 'VACJ':[\"d'2-d'1\"]},}"
   ]
  },
  {
   "cell_type": "code",
   "execution_count": 24,
   "metadata": {},
   "outputs": [
    {
     "name": "stdout",
     "output_type": "stream",
     "text": [
      "-> Olfacto loaded\n",
      "0.5665106664126556 0.942490937377036 0.5556145391268758 -36.39425467497827\n"
     ]
    },
    {
     "data": {
      "image/png": "[encoded data removed]",
      "text/plain": [
       "<Figure size 720x432 with 1 Axes>"
      ]
     },
     "metadata": {
      "needs_background": "light"
     },
     "output_type": "display_data"
    },
    {
     "ename": "ZeroDivisionError",
     "evalue": "division by zero",
     "output_type": "error",
     "traceback": [
      "\u001b[0;31m---------------------------------------------------------------------------\u001b[0m",
      "\u001b[0;31mZeroDivisionError\u001b[0m                         Traceback (most recent call last)",
      "\u001b[0;32m<ipython-input-24-f76c1f9b1ede>\u001b[0m in \u001b[0;36m<module>\u001b[0;34m()\u001b[0m\n\u001b[1;32m     59\u001b[0m     \u001b[0mf\u001b[0m\u001b[0;34m.\u001b[0m\u001b[0msubplots_adjust\u001b[0m\u001b[0;34m(\u001b[0m\u001b[0mtop\u001b[0m\u001b[0;34m=\u001b[0m\u001b[0;36m0.93\u001b[0m\u001b[0;34m)\u001b[0m\u001b[0;34m\u001b[0m\u001b[0m\n\u001b[1;32m     60\u001b[0m     \u001b[0mplt\u001b[0m\u001b[0;34m.\u001b[0m\u001b[0mshow\u001b[0m\u001b[0;34m(\u001b[0m\u001b[0;34m)\u001b[0m\u001b[0;34m\u001b[0m\u001b[0m\n\u001b[0;32m---> 61\u001b[0;31m     \u001b[0;36m0\u001b[0m\u001b[0;34m/\u001b[0m\u001b[0;36m0\u001b[0m\u001b[0;34m\u001b[0m\u001b[0m\n\u001b[0m",
      "\u001b[0;31mZeroDivisionError\u001b[0m: division by zero"
     ]
    }
   ],
   "source": [
    "\"\"\"\n",
    "Test correlations with noise\n",
    "\"\"\"\n",
    "import numpy as np\n",
    "from scipy.signal import correlate\n",
    "from brainpipe.system import study\n",
    "import seaborn as sns\n",
    "from os.path import join\n",
    "from itertools import product\n",
    "import matplotlib.pyplot as plt \n",
    "\n",
    "###############################################################################\n",
    "st = study('Olfacto')\n",
    "path_tps = join(st.path, 'feature/TPSim_{}_By_Odor_By_Cond/TPS_by_cond/6freqs/')\n",
    "path_pow = join(st.path, 'feature/TPSim_power_data/Power_all_elecs_E_R_by_cond/')\n",
    "tps_form = join(path_tps, 'TPS_spear_{}_cond_{}_{}_3s_zFisher.npz')\n",
    "pow_form = join(path_pow, '{}_odor_{}_{}_6freqs.npz')\n",
    "###############################################################################\n",
    "\n",
    "phases = ['Enc_Ret','Enc','Ret']\n",
    "th = '0.001'\n",
    "dict_elecs = dict_001 if th == '0.001' else dict_01\n",
    "freqs = ['delta','theta','alpha','beta','low_gamma','high_gamma']\n",
    "rois = ['OFC_olf']\n",
    "\n",
    "for roi in rois:\n",
    "    freq = 'high_gamma' if roi in ['OFC_olf','IFG'] else 'beta'\n",
    "    id_freq = [i for i,f in enumerate(freqs) if f==freq]\n",
    "    tps_E, tps_R, tps_ER, tps_f = [],[],[],[]\n",
    "    for su in dict_elecs[roi]:\n",
    "        for chan in dict_elecs[roi][su]:\n",
    "            \n",
    "            mat = np.load(tps_form.format('Enc',su,'high',freq),allow_pickle=True)\n",
    "            idx_chan = [i for i,c in enumerate(mat['channel']) if c == chan][0]\n",
    "            tps_E.extend([np.mean(mat['tps'][idx_chan])])\n",
    "            tps_R.extend([np.mean(np.load(tps_form.format('Ret',su,'high',\n",
    "                                        freq))['tps'][idx_chan])])\n",
    "            tps_ER.extend([np.mean(np.load(tps_form.format('Enc_Ret',su,\n",
    "                                        'high',freq))['tps'][idx_chan])])\n",
    "            \n",
    "            pow_E = np.squeeze(np.load(pow_form.format(su,'high',\n",
    "                                    'E'))['xpow'][id_freq,idx_chan,17:47,:])\n",
    "            npts, ntr = (pow_E).shape\n",
    "            pow_fake = np.zeros([npts,ntr])\n",
    "            #pow_fake = np.random.randint(low=0,high=30,size=(npts, ntr))\n",
    "            for i in range(ntr):\n",
    "                _, pow_fake[:,i], _ = timeseries.sample(irregular_time_samples)\n",
    "            \n",
    "            tps_fake = [correlate(pow_E[:,t0],pow_fake[:,t1]) for t0,t1 in product(range(ntr),range(ntr))]\n",
    "            tps_f.extend([np.mean(tps_fake)])\n",
    "    sd_tps_E, sd_tps_R, sd_tps_ER, sd_tps_f = np.std(tps_E),np.std(tps_R),np.std(tps_ER),np.std(tps_f)\n",
    "    tps_E, tps_R, tps_ER, tps_f = np.mean(tps_E),np.mean(tps_R),np.mean(tps_ER),np.mean(tps_f)\n",
    "    tps_plot = [tps_E, tps_R, tps_ER, tps_f]\n",
    "    sd_tps_plot = [sd_tps_E, sd_tps_R, sd_tps_ER, sd_tps_f]\n",
    "    print(tps_E, tps_R, tps_ER, tps_f)\n",
    "    # Correlation Matrix Heatmap\n",
    "    f, ax = plt.subplots(figsize=(10, 6))\n",
    "    plt.bar(np.arange(4),tps_plot,yerr=sd_tps_plot)\n",
    "    f.subplots_adjust(top=0.93)\n",
    "    plt.show()\n",
    "    0/0\n"
   ]
  },
  {
   "cell_type": "code",
   "execution_count": 22,
   "metadata": {},
   "outputs": [],
   "source": [
    "import timesynth as ts\n",
    "# Initializing TimeSampler\n",
    "time_sampler = ts.TimeSampler(stop_time=20)\n",
    "# Sampling irregular time samples\n",
    "irregular_time_samples = time_sampler.sample_irregular_time(num_points=60, keep_percentage=50)\n",
    "# Initializing Sinusoidal signal\n",
    "sinusoid = ts.signals.Sinusoidal(amplitude=3,frequency=0.90)\n",
    "# Initializing Gaussian noise\n",
    "white_noise = ts.noise.GaussianNoise(std=0.3)\n",
    "# Initializing TimeSeries class with the signal and noise objects\n",
    "timeseries = ts.TimeSeries(sinusoid, noise_generator=white_noise)\n",
    "# Sampling using the irregular time samples\n",
    "samples, signals, errors = timeseries.sample(irregular_time_samples)"
   ]
  }
 ],
 "metadata": {
  "kernelspec": {
   "display_name": "Python 3",
   "language": "python",
   "name": "python3"
  },
  "language_info": {
   "codemirror_mode": {
    "name": "ipython",
    "version": 3
   },
   "file_extension": ".py",
   "mimetype": "text/x-python",
   "name": "python",
   "nbconvert_exporter": "python",
   "pygments_lexer": "ipython3",
   "version": "3.6.1"
  }
 },
 "nbformat": 4,
 "nbformat_minor": 2
}
