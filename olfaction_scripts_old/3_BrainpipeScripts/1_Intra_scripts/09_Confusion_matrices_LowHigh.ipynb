{
 "cells": [
  {
   "cell_type": "markdown",
   "metadata": {},
   "source": [
    "### Create confusion matrix"
   ]
  },
  {
   "cell_type": "code",
   "execution_count": 54,
   "metadata": {
    "collapsed": false
   },
   "outputs": [
    {
     "name": "stdout",
     "output_type": "stream",
     "text": [
      "-> Olfacto loaded\n"
     ]
    },
    {
     "ename": "FileNotFoundError",
     "evalue": "File b'/media/karim/Datas4To/1_Analyses_Intra_EM_Odor/Olfacto/figure/0_Classif_Power_E_EpiPerf_LowHigh_None/Bilan_classif/Mai_Classif_low_high_6_gamma2_win1_patients6.csv' does not exist",
     "output_type": "error",
     "traceback": [
      "\u001b[0;31m---------------------------------------------------------------------------\u001b[0m",
      "\u001b[0;31mFileNotFoundError\u001b[0m                         Traceback (most recent call last)",
      "\u001b[0;32m<ipython-input-54-db657cef7c33>\u001b[0m in \u001b[0;36m<module>\u001b[0;34m()\u001b[0m\n\u001b[1;32m     22\u001b[0m \u001b[0mroi75\u001b[0m \u001b[0;34m=\u001b[0m \u001b[0mnp\u001b[0m\u001b[0;34m.\u001b[0m\u001b[0marray\u001b[0m\u001b[0;34m(\u001b[0m\u001b[0;34m[\u001b[0m\u001b[0;34m]\u001b[0m\u001b[0;34m)\u001b[0m\u001b[0;34m\u001b[0m\u001b[0m\n\u001b[1;32m     23\u001b[0m \u001b[0mfilename\u001b[0m \u001b[0;34m=\u001b[0m \u001b[0mpath_df\u001b[0m\u001b[0;34m+\u001b[0m\u001b[0;34m'Mai_Classif_'\u001b[0m\u001b[0;34m+\u001b[0m\u001b[0mconds\u001b[0m\u001b[0;34m[\u001b[0m\u001b[0;36m0\u001b[0m\u001b[0;34m]\u001b[0m\u001b[0;34m+\u001b[0m\u001b[0;34m'_'\u001b[0m\u001b[0;34m+\u001b[0m\u001b[0mconds\u001b[0m\u001b[0;34m[\u001b[0m\u001b[0;36m1\u001b[0m\u001b[0;34m]\u001b[0m\u001b[0;34m+\u001b[0m\u001b[0;34m'_'\u001b[0m\u001b[0;34m+\u001b[0m\u001b[0mfreq\u001b[0m\u001b[0;34m+\u001b[0m\u001b[0;34m'_win'\u001b[0m\u001b[0;34m+\u001b[0m\u001b[0mwin\u001b[0m\u001b[0;34m+\u001b[0m\u001b[0;34m'_patients'\u001b[0m\u001b[0;34m+\u001b[0m\u001b[0mmin_sig\u001b[0m\u001b[0;34m+\u001b[0m\u001b[0;34m'.csv'\u001b[0m\u001b[0;34m\u001b[0m\u001b[0m\n\u001b[0;32m---> 24\u001b[0;31m \u001b[0mdf75\u001b[0m \u001b[0;34m=\u001b[0m \u001b[0mpd\u001b[0m\u001b[0;34m.\u001b[0m\u001b[0mread_csv\u001b[0m\u001b[0;34m(\u001b[0m\u001b[0mfilename\u001b[0m\u001b[0;34m)\u001b[0m\u001b[0;34m\u001b[0m\u001b[0m\n\u001b[0m\u001b[1;32m     25\u001b[0m \u001b[0mroi75\u001b[0m \u001b[0;34m=\u001b[0m \u001b[0mnp\u001b[0m\u001b[0;34m.\u001b[0m\u001b[0mhstack\u001b[0m\u001b[0;34m(\u001b[0m\u001b[0;34m(\u001b[0m\u001b[0mroi75\u001b[0m\u001b[0;34m,\u001b[0m\u001b[0mdf75\u001b[0m\u001b[0;34m[\u001b[0m\u001b[0;34m's_MAI_RL'\u001b[0m\u001b[0;34m]\u001b[0m\u001b[0;34m.\u001b[0m\u001b[0mvalues\u001b[0m\u001b[0;34m)\u001b[0m\u001b[0;34m)\u001b[0m \u001b[0;32mif\u001b[0m \u001b[0mnp\u001b[0m\u001b[0;34m.\u001b[0m\u001b[0msize\u001b[0m\u001b[0;34m(\u001b[0m\u001b[0mroi75\u001b[0m\u001b[0;34m)\u001b[0m \u001b[0;32melse\u001b[0m \u001b[0mdf75\u001b[0m\u001b[0;34m[\u001b[0m\u001b[0;34m's_MAI_RL'\u001b[0m\u001b[0;34m]\u001b[0m\u001b[0;34m.\u001b[0m\u001b[0mvalues\u001b[0m\u001b[0;34m\u001b[0m\u001b[0m\n\u001b[1;32m     26\u001b[0m \u001b[0mroi_all\u001b[0m \u001b[0;34m=\u001b[0m \u001b[0mnp\u001b[0m\u001b[0;34m.\u001b[0m\u001b[0munique\u001b[0m\u001b[0;34m(\u001b[0m\u001b[0mroi75\u001b[0m\u001b[0;34m)\u001b[0m\u001b[0;34m\u001b[0m\u001b[0m\n",
      "\u001b[0;32m/home/karim/anaconda3/lib/python3.5/site-packages/pandas/io/parsers.py\u001b[0m in \u001b[0;36mparser_f\u001b[0;34m(filepath_or_buffer, sep, delimiter, header, names, index_col, usecols, squeeze, prefix, mangle_dupe_cols, dtype, engine, converters, true_values, false_values, skipinitialspace, skiprows, nrows, na_values, keep_default_na, na_filter, verbose, skip_blank_lines, parse_dates, infer_datetime_format, keep_date_col, date_parser, dayfirst, iterator, chunksize, compression, thousands, decimal, lineterminator, quotechar, quoting, escapechar, comment, encoding, dialect, tupleize_cols, error_bad_lines, warn_bad_lines, skipfooter, skip_footer, doublequote, delim_whitespace, as_recarray, compact_ints, use_unsigned, low_memory, buffer_lines, memory_map, float_precision)\u001b[0m\n\u001b[1;32m    653\u001b[0m                     skip_blank_lines=skip_blank_lines)\n\u001b[1;32m    654\u001b[0m \u001b[0;34m\u001b[0m\u001b[0m\n\u001b[0;32m--> 655\u001b[0;31m         \u001b[0;32mreturn\u001b[0m \u001b[0m_read\u001b[0m\u001b[0;34m(\u001b[0m\u001b[0mfilepath_or_buffer\u001b[0m\u001b[0;34m,\u001b[0m \u001b[0mkwds\u001b[0m\u001b[0;34m)\u001b[0m\u001b[0;34m\u001b[0m\u001b[0m\n\u001b[0m\u001b[1;32m    656\u001b[0m \u001b[0;34m\u001b[0m\u001b[0m\n\u001b[1;32m    657\u001b[0m     \u001b[0mparser_f\u001b[0m\u001b[0;34m.\u001b[0m\u001b[0m__name__\u001b[0m \u001b[0;34m=\u001b[0m \u001b[0mname\u001b[0m\u001b[0;34m\u001b[0m\u001b[0m\n",
      "\u001b[0;32m/home/karim/anaconda3/lib/python3.5/site-packages/pandas/io/parsers.py\u001b[0m in \u001b[0;36m_read\u001b[0;34m(filepath_or_buffer, kwds)\u001b[0m\n\u001b[1;32m    403\u001b[0m \u001b[0;34m\u001b[0m\u001b[0m\n\u001b[1;32m    404\u001b[0m     \u001b[0;31m# Create the parser.\u001b[0m\u001b[0;34m\u001b[0m\u001b[0;34m\u001b[0m\u001b[0m\n\u001b[0;32m--> 405\u001b[0;31m     \u001b[0mparser\u001b[0m \u001b[0;34m=\u001b[0m \u001b[0mTextFileReader\u001b[0m\u001b[0;34m(\u001b[0m\u001b[0mfilepath_or_buffer\u001b[0m\u001b[0;34m,\u001b[0m \u001b[0;34m**\u001b[0m\u001b[0mkwds\u001b[0m\u001b[0;34m)\u001b[0m\u001b[0;34m\u001b[0m\u001b[0m\n\u001b[0m\u001b[1;32m    406\u001b[0m \u001b[0;34m\u001b[0m\u001b[0m\n\u001b[1;32m    407\u001b[0m     \u001b[0;32mif\u001b[0m \u001b[0mchunksize\u001b[0m \u001b[0;32mor\u001b[0m \u001b[0miterator\u001b[0m\u001b[0;34m:\u001b[0m\u001b[0;34m\u001b[0m\u001b[0m\n",
      "\u001b[0;32m/home/karim/anaconda3/lib/python3.5/site-packages/pandas/io/parsers.py\u001b[0m in \u001b[0;36m__init__\u001b[0;34m(self, f, engine, **kwds)\u001b[0m\n\u001b[1;32m    762\u001b[0m             \u001b[0mself\u001b[0m\u001b[0;34m.\u001b[0m\u001b[0moptions\u001b[0m\u001b[0;34m[\u001b[0m\u001b[0;34m'has_index_names'\u001b[0m\u001b[0;34m]\u001b[0m \u001b[0;34m=\u001b[0m \u001b[0mkwds\u001b[0m\u001b[0;34m[\u001b[0m\u001b[0;34m'has_index_names'\u001b[0m\u001b[0;34m]\u001b[0m\u001b[0;34m\u001b[0m\u001b[0m\n\u001b[1;32m    763\u001b[0m \u001b[0;34m\u001b[0m\u001b[0m\n\u001b[0;32m--> 764\u001b[0;31m         \u001b[0mself\u001b[0m\u001b[0;34m.\u001b[0m\u001b[0m_make_engine\u001b[0m\u001b[0;34m(\u001b[0m\u001b[0mself\u001b[0m\u001b[0;34m.\u001b[0m\u001b[0mengine\u001b[0m\u001b[0;34m)\u001b[0m\u001b[0;34m\u001b[0m\u001b[0m\n\u001b[0m\u001b[1;32m    765\u001b[0m \u001b[0;34m\u001b[0m\u001b[0m\n\u001b[1;32m    766\u001b[0m     \u001b[0;32mdef\u001b[0m \u001b[0mclose\u001b[0m\u001b[0;34m(\u001b[0m\u001b[0mself\u001b[0m\u001b[0;34m)\u001b[0m\u001b[0;34m:\u001b[0m\u001b[0;34m\u001b[0m\u001b[0m\n",
      "\u001b[0;32m/home/karim/anaconda3/lib/python3.5/site-packages/pandas/io/parsers.py\u001b[0m in \u001b[0;36m_make_engine\u001b[0;34m(self, engine)\u001b[0m\n\u001b[1;32m    983\u001b[0m     \u001b[0;32mdef\u001b[0m \u001b[0m_make_engine\u001b[0m\u001b[0;34m(\u001b[0m\u001b[0mself\u001b[0m\u001b[0;34m,\u001b[0m \u001b[0mengine\u001b[0m\u001b[0;34m=\u001b[0m\u001b[0;34m'c'\u001b[0m\u001b[0;34m)\u001b[0m\u001b[0;34m:\u001b[0m\u001b[0;34m\u001b[0m\u001b[0m\n\u001b[1;32m    984\u001b[0m         \u001b[0;32mif\u001b[0m \u001b[0mengine\u001b[0m \u001b[0;34m==\u001b[0m \u001b[0;34m'c'\u001b[0m\u001b[0;34m:\u001b[0m\u001b[0;34m\u001b[0m\u001b[0m\n\u001b[0;32m--> 985\u001b[0;31m             \u001b[0mself\u001b[0m\u001b[0;34m.\u001b[0m\u001b[0m_engine\u001b[0m \u001b[0;34m=\u001b[0m \u001b[0mCParserWrapper\u001b[0m\u001b[0;34m(\u001b[0m\u001b[0mself\u001b[0m\u001b[0;34m.\u001b[0m\u001b[0mf\u001b[0m\u001b[0;34m,\u001b[0m \u001b[0;34m**\u001b[0m\u001b[0mself\u001b[0m\u001b[0;34m.\u001b[0m\u001b[0moptions\u001b[0m\u001b[0;34m)\u001b[0m\u001b[0;34m\u001b[0m\u001b[0m\n\u001b[0m\u001b[1;32m    986\u001b[0m         \u001b[0;32melse\u001b[0m\u001b[0;34m:\u001b[0m\u001b[0;34m\u001b[0m\u001b[0m\n\u001b[1;32m    987\u001b[0m             \u001b[0;32mif\u001b[0m \u001b[0mengine\u001b[0m \u001b[0;34m==\u001b[0m \u001b[0;34m'python'\u001b[0m\u001b[0;34m:\u001b[0m\u001b[0;34m\u001b[0m\u001b[0m\n",
      "\u001b[0;32m/home/karim/anaconda3/lib/python3.5/site-packages/pandas/io/parsers.py\u001b[0m in \u001b[0;36m__init__\u001b[0;34m(self, src, **kwds)\u001b[0m\n\u001b[1;32m   1603\u001b[0m         \u001b[0mkwds\u001b[0m\u001b[0;34m[\u001b[0m\u001b[0;34m'allow_leading_cols'\u001b[0m\u001b[0;34m]\u001b[0m \u001b[0;34m=\u001b[0m \u001b[0mself\u001b[0m\u001b[0;34m.\u001b[0m\u001b[0mindex_col\u001b[0m \u001b[0;32mis\u001b[0m \u001b[0;32mnot\u001b[0m \u001b[0;32mFalse\u001b[0m\u001b[0;34m\u001b[0m\u001b[0m\n\u001b[1;32m   1604\u001b[0m \u001b[0;34m\u001b[0m\u001b[0m\n\u001b[0;32m-> 1605\u001b[0;31m         \u001b[0mself\u001b[0m\u001b[0;34m.\u001b[0m\u001b[0m_reader\u001b[0m \u001b[0;34m=\u001b[0m \u001b[0mparsers\u001b[0m\u001b[0;34m.\u001b[0m\u001b[0mTextReader\u001b[0m\u001b[0;34m(\u001b[0m\u001b[0msrc\u001b[0m\u001b[0;34m,\u001b[0m \u001b[0;34m**\u001b[0m\u001b[0mkwds\u001b[0m\u001b[0;34m)\u001b[0m\u001b[0;34m\u001b[0m\u001b[0m\n\u001b[0m\u001b[1;32m   1606\u001b[0m \u001b[0;34m\u001b[0m\u001b[0m\n\u001b[1;32m   1607\u001b[0m         \u001b[0;31m# XXX\u001b[0m\u001b[0;34m\u001b[0m\u001b[0;34m\u001b[0m\u001b[0m\n",
      "\u001b[0;32mpandas/_libs/parsers.pyx\u001b[0m in \u001b[0;36mpandas._libs.parsers.TextReader.__cinit__ (pandas/_libs/parsers.c:4209)\u001b[0;34m()\u001b[0m\n",
      "\u001b[0;32mpandas/_libs/parsers.pyx\u001b[0m in \u001b[0;36mpandas._libs.parsers.TextReader._setup_parser_source (pandas/_libs/parsers.c:8873)\u001b[0;34m()\u001b[0m\n",
      "\u001b[0;31mFileNotFoundError\u001b[0m: File b'/media/karim/Datas4To/1_Analyses_Intra_EM_Odor/Olfacto/figure/0_Classif_Power_E_EpiPerf_LowHigh_None/Bilan_classif/Mai_Classif_low_high_6_gamma2_win1_patients6.csv' does not exist"
     ]
    }
   ],
   "source": [
    "from os import listdir, makedirs\n",
    "from os.path import isfile, join, exists\n",
    "from os import listdir, makedirs\n",
    "from brainpipe.system import study\n",
    "import pandas as pd\n",
    "import numpy as np\n",
    "from itertools import product\n",
    "bsl = 'None'\n",
    "###############################################################################################\n",
    "st = study('Olfacto')\n",
    "path_df = join(st.path,'figure/0_Classif_Power_E_EpiPerf_LowHigh_'+bsl+'/Bilan_classif/')\n",
    "path2save = join(path_df,'Matrices/')\n",
    "###############################################################################################\n",
    "if not exists(path2save):\n",
    "    makedirs(path2save)\n",
    "###############################################################################\n",
    "freq = '6_gamma2'#['1_delta','2_theta','3_alpha','4_beta','5_gamma1','6_gamma2']#\n",
    "win,min_sig = '1','6'\n",
    "conds = ['low','high']\n",
    "\n",
    "#Create the list of rois to create the global matrix\n",
    "roi75 = np.array([])\n",
    "filename = path_df+'Mai_Classif_'+conds[0]+'_'+conds[1]+'_'+freq+'_win'+win+'_patients'+min_sig+'.csv'\n",
    "df75 = pd.read_csv(filename)\n",
    "roi75 = np.hstack((roi75,df75['s_MAI_RL'].values)) if np.size(roi75) else df75['s_MAI_RL'].values\n",
    "roi_all = np.unique(roi75)\n",
    "roi_all = np.delete(roi_all,np.where(roi_all=='Not f'),axis=0)\n",
    "roi_all = np.delete(roi_all,np.where(roi_all=='Not found'),axis=0)\n",
    "print(roi_all.shape,roi_all)\n",
    "#roi_all = np.delete(roi_all,[3,4])\n",
    "#print(roi_all)"
   ]
  },
  {
   "cell_type": "markdown",
   "metadata": {},
   "source": [
    "### Create the ROI matrix // nb of patients"
   ]
  },
  {
   "cell_type": "markdown",
   "metadata": {},
   "source": [
    "### FEATURE MATRIX\n",
    "    Power, DA, Time"
   ]
  },
  {
   "cell_type": "code",
   "execution_count": 52,
   "metadata": {
    "collapsed": false
   },
   "outputs": [
    {
     "name": "stdout",
     "output_type": "stream",
     "text": [
      "(8, 1) (8, 1) (8, 1)\n"
     ]
    }
   ],
   "source": [
    "#Create the boolean matrix to show only regions sig in at least 60% of patients\n",
    "da_mat, pow_mat, time_mat = np.array([]),np.array([]),np.array([])\n",
    "x_freq, x_cond = [], []\n",
    "feats = ['da','time','pow_change']\n",
    "groupby = 'cond'\n",
    "\n",
    "\n",
    "filename = path_df+'Mai_Classif_'+conds[0]+'_'+conds[1]+'_'+freq+'_win'+win+'_patients'+min_sig+'.csv'\n",
    "sig60, data = pd.read_csv(filename), np.array([])\n",
    "sig60['pow_change']= (sig60['p0']-sig60['p1'])/sig60['p1']\n",
    "gr = sig60.groupby(['s_MAI_RL','su_codes'])\n",
    "sel = gr[feats].agg(('max','min','mean'))\n",
    "da, time, rel_change = np.array([]), np.array([]), np.array([])\n",
    "for roi in roi_all:\n",
    "    df_roi = sel[sel.index.get_level_values(0)==roi]\n",
    "    da_val = df_roi.filter(like='da').filter(like='max').mean().values\n",
    "    time_val = df_roi.filter(like='time').filter(like='mean').mean().values\n",
    "    pow_min = df_roi.filter(like='pow_change').filter(like='min').mean().values\n",
    "    pow_max = df_roi.filter(like='pow_change').filter(like='max').mean().values\n",
    "    rel_change_val = []\n",
    "    if abs(pow_min[0])>abs(pow_max[0]):\n",
    "        rel_change_val = pow_min\n",
    "    elif abs(pow_min[0])<abs(pow_max[0]):\n",
    "        rel_change_val = pow_max\n",
    "    elif abs(pow_min[0])==abs(pow_max[0]):\n",
    "        rel_change_val = pow_max\n",
    "    elif np.isnan(pow_min):\n",
    "        rel_change_val = [np.nan]\n",
    "    #print('value for',roi,pow_min, pow_max,rel_change_val, da_val, time_val)\n",
    "\n",
    "    da = np.hstack((da,da_val)) if np.size(da) else da_val\n",
    "    time = np.hstack((time,time_val)) if np.size(time) else time_val\n",
    "    rel_change = np.hstack((rel_change,rel_change_val)) if np.size(rel_change) else rel_change_val\n",
    "    #print('vector',len(da),len(time),len(rel_change))\n",
    "da_mat = np.vstack((da_mat,da)) if np.size(da_mat) else da\n",
    "time_mat = np.vstack((time_mat,time)) if np.size(time_mat) else time\n",
    "pow_mat = np.vstack((pow_mat,rel_change)) if np.size(pow_mat) else rel_change\n",
    "da_mat,time_mat, pow_mat = da_mat[:,np.newaxis], time_mat[:,np.newaxis], pow_mat[:,np.newaxis]\n",
    "_, idx = np.unique(x_cond,return_index=True) #to keep order\n",
    "x_cond = [x_cond[i] for i in sorted(idx)]\n",
    "print(da_mat.shape, time_mat.shape, pow_mat.shape)"
   ]
  },
  {
   "cell_type": "markdown",
   "metadata": {},
   "source": [
    "### Plot the confusion matrix"
   ]
  },
  {
   "cell_type": "code",
   "execution_count": 53,
   "metadata": {
    "collapsed": false
   },
   "outputs": [
    {
     "name": "stdout",
     "output_type": "stream",
     "text": [
      "The autoreload extension is already loaded. To reload it, use:\n",
      "  %reload_ext autoreload\n",
      "0 8\n",
      "0 [] mean [[ 0.88161111]\n",
      " [ 0.84459913]\n",
      " [ 0.88057619]\n",
      " [ 0.90570833]\n",
      " [ 0.8469316 ]\n",
      " [ 0.90685714]\n",
      " [ 0.95579365]\n",
      " [ 0.87132846]] 0.886675703463\n",
      "<matplotlib.colors.LinearSegmentedColormap object at 0x7f43194c0b38> 1\n",
      "Confusion matrix, without normalization\n"
     ]
    },
    {
     "name": "stderr",
     "output_type": "stream",
     "text": [
      "/media/karim/Datas4To/1_Analyses_Intra_EM_Odor/3_BrainpipeScripts/1_Intra_scripts/confusion_matrix.py:22: MatplotlibDeprecationWarning: The set_axis_bgcolor function was deprecated in version 2.0. Use set_facecolor instead.\n",
      "  ax1.set_axis_bgcolor(\"silver\")\n"
     ]
    },
    {
     "data": {
      "image/png": "[encoded data removed]",
      "text/plain": [
       "<matplotlib.figure.Figure at 0x7f430d2ffe48>"
      ]
     },
     "metadata": {},
     "output_type": "display_data"
    },
    {
     "name": "stdout",
     "output_type": "stream",
     "text": [
      "1 8\n",
      "0 [] mean [[ 2.00976562]\n",
      " [ 1.91513672]\n",
      " [ 1.57729492]\n",
      " [ 1.45420619]\n",
      " [ 1.96029297]\n",
      " [ 1.91480469]\n",
      " [ 1.66728154]\n",
      " [ 2.44763184]] 1.86830181142\n",
      "<matplotlib.colors.LinearSegmentedColormap object at 0x7f4319464b00> 1\n",
      "Confusion matrix, without normalization\n"
     ]
    },
    {
     "data": {
      "image/png": "[encoded data removed]",
      "text/plain": [
       "<matplotlib.figure.Figure at 0x7f430d2bff98>"
      ]
     },
     "metadata": {},
     "output_type": "display_data"
    },
    {
     "name": "stdout",
     "output_type": "stream",
     "text": [
      "2 8\n",
      "0 [] mean [[ 0.24215345]\n",
      " [-0.13536178]\n",
      " [-0.14331441]\n",
      " [-0.15247172]\n",
      " [ 0.23829582]\n",
      " [-0.25689471]\n",
      " [ 0.41767444]\n",
      " [ 0.4039896 ]] 0.0767588357712\n",
      "<matplotlib.colors.LinearSegmentedColormap object at 0x7f43194649e8> 2\n",
      "Confusion matrix, without normalization\n",
      "min,max -0.256894711756 0.417674442091\n",
      "0.339255138487 -0.148808798986\n"
     ]
    },
    {
     "data": {
      "image/png": "[encoded data removed]",
      "text/plain": [
       "<matplotlib.figure.Figure at 0x7f430d42bcf8>"
      ]
     },
     "metadata": {},
     "output_type": "display_data"
    }
   ],
   "source": [
    "import matplotlib.pyplot as plt\n",
    "from confusion_matrix import plot_confusion_matrix\n",
    "%load_ext autoreload\n",
    "%autoreload 2\n",
    "\n",
    "freqnames = ['γ2']#,'θ','γ2']\n",
    "codes = {0:['da',plt.cm.BuPu,1],\n",
    "         1:['time',plt.cm.YlGn,1],\n",
    "         2:['pow_change',plt.cm.seismic,2]}\n",
    "feats_mat = [da_mat, time_mat, pow_mat]\n",
    "option = '75'\n",
    "# Plot non-normalized confusion matrix\n",
    "for i,mat in enumerate(feats_mat):\n",
    "    print(i, len(mat))\n",
    "    groups = len(np.unique(x_cond))\n",
    "    print(groups, x_cond,'mean',mat,np.nanmean(mat))\n",
    "    nconds = len(np.unique(x_cond))\n",
    "    print(codes[i][1],codes[i][2])\n",
    "    plot_confusion_matrix(mat, xtickslabels1=freqnames, xtickslabels2='low_high', \n",
    "        ytickslabels=roi_all,cmap=codes[i][1], ylabel='Regions',size=(2,3),cbsides=codes[i][2])\n",
    "    plot_name = path2save+'Matrix_recap_'+freqnames[0]+'_'+codes[i][0]+'_win'+win+'_min'+min_sig+'.png'\n",
    "    plt.savefig(plot_name, dpi=600, bbox_inches='tight')\n",
    "    plt.show()"
   ]
  }
 ],
 "metadata": {
  "anaconda-cloud": {},
  "kernelspec": {
   "display_name": "Python [conda root]",
   "language": "python",
   "name": "conda-root-py"
  },
  "language_info": {
   "codemirror_mode": {
    "name": "ipython",
    "version": 3
   },
   "file_extension": ".py",
   "mimetype": "text/x-python",
   "name": "python",
   "nbconvert_exporter": "python",
   "pygments_lexer": "ipython3",
   "version": "3.5.5"
  }
 },
 "nbformat": 4,
 "nbformat_minor": 1
}
