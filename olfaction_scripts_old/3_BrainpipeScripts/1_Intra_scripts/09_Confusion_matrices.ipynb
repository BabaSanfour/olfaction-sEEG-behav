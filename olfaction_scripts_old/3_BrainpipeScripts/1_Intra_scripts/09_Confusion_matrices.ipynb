{
 "cells": [
  {
   "cell_type": "markdown",
   "metadata": {},
   "source": [
    "### Create confusion matrix"
   ]
  },
  {
   "cell_type": "code",
   "execution_count": 29,
   "metadata": {
    "collapsed": false
   },
   "outputs": [
    {
     "name": "stdout",
     "output_type": "stream",
     "text": [
      "(7,) ['Frontal Inf Orb' 'Frontal Mid Orb' 'Fusiform' 'Hippocampus'\n",
      " 'Temporal Inf' 'Temporal Mid' 'Temporal Sup']\n",
      "['Frontal Inf Orb' 'Frontal Mid Orb' 'Fusiform' 'Temporal Mid'\n",
      " 'Temporal Sup']\n"
     ]
    }
   ],
   "source": [
    "from os import listdir, makedirs\n",
    "from os.path import isfile, join, exists\n",
    "import pandas as pd\n",
    "import numpy as np\n",
    "from itertools import product\n",
    "###############################################################################################\n",
    "path = r'/media/karim/Datas4To/1_Analyses_Intra_EM_Odor/Olfacto/'\n",
    "path_df = join(path,'Bilan_classif/2_signif_elecs_patients/')\n",
    "path2save = join(path,'Bilan_classif/3_Figures/')\n",
    "###############################################################################################\n",
    "\n",
    "freq = '2_theta'#['1_delta','2_theta','3_alpha','4_beta','5_gamma1','6_gamma2']#\n",
    "win = 'win3'\n",
    "classif = 'obj'\n",
    "\n",
    "if classif == 'all':\n",
    "    conds = {'0':['good','bad',5],'1':['poor','partial',5],'2':['partial','detailed',4],\n",
    "     '3':['poor','detailed',4]}\n",
    "if classif == 'obj':\n",
    "    conds = {'0':['poor','partial',5],'1':['partial','detailed',4],\n",
    "     '2':['poor','detailed',4]}\n",
    "\n",
    "#Create the list of rois to create the global matrix\n",
    "roi75 = np.array([])\n",
    "for cond in conds:\n",
    "    filename75 = path_df+cond+'_Classif_'+conds[cond][0]+'_'+conds[cond][1]+'_'+freq+'_'+win+'_patients'+str(conds[cond][2])+'.csv'\n",
    "    if isfile(filename75):\n",
    "        df75 = pd.read_csv(filename75)\n",
    "        roi75 = np.hstack((roi75,df75['s_aal_RL'].values)) if np.size(roi75) else df75['s_aal_RL'].values\n",
    "roi_all = np.unique(roi75)\n",
    "roi_all = np.delete(roi_all,np.where(roi_all=='Not f'),axis=0)\n",
    "roi_all = np.delete(roi_all,np.where(roi_all=='Not found'),axis=0)\n",
    "print(roi_all.shape,roi_all)\n",
    "roi_all = np.delete(roi_all,[3,4])\n",
    "print(roi_all)"
   ]
  },
  {
   "cell_type": "code",
   "execution_count": 21,
   "metadata": {
    "collapsed": false
   },
   "outputs": [
    {
     "name": "stdout",
     "output_type": "stream",
     "text": [
      "2_theta 2 [array(['Frontal Mid Orb', 'Fusiform', 'Hippocampus', 'Temporal Mid',\n",
      "       'Temporal Sup'], dtype=object)]\n",
      "2_theta 1 [array(['Frontal Mid Orb', 'Fusiform', 'Hippocampus', 'Temporal Mid',\n",
      "       'Temporal Sup'], dtype=object), array(['Frontal Mid Orb', 'Fusiform', 'Temporal Inf', 'Temporal Mid'], dtype=object)]\n",
      "2_theta 0 [array(['Frontal Mid Orb', 'Fusiform', 'Hippocampus', 'Temporal Mid',\n",
      "       'Temporal Sup'], dtype=object), array(['Frontal Mid Orb', 'Fusiform', 'Temporal Inf', 'Temporal Mid'], dtype=object), array(['Frontal Inf Orb', 'Fusiform', 'Temporal Mid', 'Temporal Sup'], dtype=object)]\n",
      "['Fusiform' 'Temporal Mid']\n"
     ]
    }
   ],
   "source": [
    "from os import listdir, makedirs\n",
    "from os.path import isfile, join, exists\n",
    "import pandas as pd\n",
    "import numpy as np\n",
    "from itertools import product\n",
    "from matplotlib import pyplot as plt\n",
    "from matplotlib.ticker import ScalarFormatter, MaxNLocator\n",
    "from scipy import stats\n",
    "\n",
    "###############################################################################################\n",
    "path = r'/media/karim/Datas4To/1_Analyses_Intra_EM_Odor/Olfacto/'\n",
    "path_df = join(path,'Bilan_classif/2_signif_elecs_patients/')\n",
    "path2save = join(path,'Bilan_classif/3_Figures/')\n",
    "###############################################################################################\n",
    "\n",
    "freqs = {'2_theta':'win3','6_gamma2':'win1'}#['1_delta','2_theta','3_alpha','4_beta','5_gamma1','6_gamma2']#\n",
    "conds = {'0':['poor','partial',5],'1':['partial','detailed',4],\n",
    "     '2':['poor','detailed',4]}\n",
    "feats = ['da','pow_change','time']\n",
    "\n",
    "#Create the list of rois to create the global matrix\n",
    "freq = '2_theta'\n",
    "roi_freq = []\n",
    "for cond in conds:\n",
    "    filename = path_df+cond+'_Classif_'+conds[cond][0]+'_'+conds[cond][1]+'_'+freq+'_'+freqs[freq]+'_patients'+str(conds[cond][2])+'.csv'\n",
    "    df = pd.read_csv(filename)\n",
    "    rois = df['s_aal_RL'].values\n",
    "    rois = np.unique(rois)\n",
    "    rois = np.delete(rois,np.where(rois=='Not found'), axis=0)\n",
    "    rois = np.delete(rois,np.where(rois=='Not f'), axis=0)\n",
    "    roi_freq.append(np.array(rois))\n",
    "    print(freq,cond,roi_freq,)\n",
    "roi_all = np.intersect1d(roi_freq[0],roi_freq[1])\n",
    "roi_all = np.intersect1d(roi_all,roi_freq[2])\n",
    "print(roi_all)"
   ]
  },
  {
   "cell_type": "markdown",
   "metadata": {},
   "source": [
    "### Create the ROI matrix // nb of patients"
   ]
  },
  {
   "cell_type": "code",
   "execution_count": 30,
   "metadata": {
    "collapsed": false
   },
   "outputs": [
    {
     "name": "stdout",
     "output_type": "stream",
     "text": [
      "0 ['poor', 'partial']\n",
      "1 ['partial', 'detailed']\n",
      "2 ['poor', 'detailed']\n",
      "big mama (5, 3) ['Theta', 'Theta', 'Theta'] ['Po/Pa', 'Pa/De', 'Po/De'] [[75 75 75]\n",
      " [75 75 75]\n",
      " [75 75 75]\n",
      " [75 75 75]\n",
      " [75 75 75]]\n",
      "[[ 75.  75.  75.]\n",
      " [ 75.  75.  75.]\n",
      " [ 75.  75.  75.]\n",
      " [ 75.  75.  75.]\n",
      " [ 75.  75.  75.]]\n"
     ]
    }
   ],
   "source": [
    "#Create the matrix\n",
    "big_matrix = np.array([])\n",
    "x_freq, x_cond = [], []\n",
    "groupby = 'cond'\n",
    "\n",
    "freqs = ['2_theta']#['1_delta','2_theta','3_alpha','4_beta','5_gamma1','6_gamma2']#\n",
    "conds = {'0':['poor','partial',5],'1':['partial','detailed',4],\n",
    "     '2':['poor','detailed',4]}\n",
    "    \n",
    "for cond in (sorted(conds)): #trick to impose iteration order for conds & freqs\n",
    "    print(cond,conds[cond][:2])\n",
    "    x_freq.append(freq[2:].capitalize())\n",
    "    x_cond.append(conds[cond][0][:2].capitalize()+'/'+conds[cond][1][:2].capitalize())\n",
    "    filename60 = path_df+cond+'_Classif_'+conds[cond][0]+'_'+conds[cond][1]+'_'+freq+'_win1_patients'+str(conds[cond][2])+'.csv'\n",
    "    filename75 = path_df+cond+'_Classif_'+conds[cond][0]+'_'+conds[cond][1]+'_'+freq+'_win1_patients'+str(conds[cond][2])+'.csv'\n",
    "    sig75, sig = None, np.array([])\n",
    "    sig60 = pd.read_csv(filename60)['s_aal_RL'].values\n",
    "    #print(sig60.shape)\n",
    "    if isfile(filename75):\n",
    "        sig75 = pd.read_csv(filename75)['s_aal_RL'].values\n",
    "        for roi in roi_all:\n",
    "            if roi in sig75:\n",
    "                sig = np.hstack((sig,75)) if np.size(sig) else 75\n",
    "            if roi not in sig75 and roi in sig60:\n",
    "                sig = np.hstack((sig,60)) if np.size(sig) else 60\n",
    "            if roi not in sig75 and roi not in sig60:\n",
    "                sig = np.hstack((sig,0)) if np.size(sig) else 0\n",
    "    if sig75 is None:\n",
    "        for roi in roi_all:\n",
    "            if roi in sig60:\n",
    "                sig = np.hstack((sig,60)) if np.size(sig) else 60\n",
    "            else:\n",
    "                sig = np.hstack((sig,0)) if np.size(sig) else 0\n",
    "    big_matrix = np.vstack((big_matrix,sig)) if np.size(big_matrix) else sig\n",
    "big_matrix = big_matrix.T\n",
    "_, idx = np.unique(x_cond,return_index=True) #to keep order\n",
    "x_cond = [x_cond[i] for i in sorted(idx)]\n",
    "print('big mama',big_matrix.shape, x_freq, x_cond,big_matrix)\n",
    "\n",
    "# Create mask of positions in x (with float datatype) where NaNs are to be put\n",
    "big_matrix = big_matrix.astype(np.float32)\n",
    "# big_matrix = big_matrix[big_matrix==0] = np.nan\n",
    "for i, j in product(range(big_matrix.shape[0]), range(big_matrix.shape[1])):\n",
    "    if big_matrix[i,j] == 0:\n",
    "        big_matrix[i,j] = np.nan\n",
    "print(big_matrix)\n",
    "   "
   ]
  },
  {
   "cell_type": "code",
   "execution_count": null,
   "metadata": {
    "collapsed": false,
    "scrolled": true
   },
   "outputs": [],
   "source": [
    "import matplotlib.pyplot as plt\n",
    "from confusion_matrix import plot_confusion_matrix\n",
    "%load_ext autoreload\n",
    "%autoreload 2\n",
    "\n",
    "freqnames = ['θ']#,'θ','γ2']\n",
    "codes = ['roi',plt.cm.Blues,1]\n",
    "option = '75'\n",
    "groups = len(np.unique(x_cond))\n",
    "nconds = len(np.unique(x_cond))\n",
    "plot_confusion_matrix(big_matrix, xtickslabels1=freqnames*groups, xtickslabels2=x_cond, \n",
    "    ytickslabels=roi_all,cmap=codes[1], ylabel='Regions',size=(5,5),cbsides=codes[2])\n",
    "plot_name = path2save+'Matrix_recap_'+codes[0]+'_'+freqnames[0]+'_by_'+groupby+'_'+str(nconds)+'conds_rois'+option+'.png'\n",
    "plt.savefig(plot_name, dpi=300, bbox_inches='tight')\n",
    "plt.show()"
   ]
  },
  {
   "cell_type": "markdown",
   "metadata": {},
   "source": [
    "### FEATURE MATRIX\n",
    "    Power, DA, Time"
   ]
  },
  {
   "cell_type": "code",
   "execution_count": 31,
   "metadata": {
    "collapsed": false
   },
   "outputs": [
    {
     "name": "stdout",
     "output_type": "stream",
     "text": [
      "(5, 3) (5, 3) (5, 3)\n"
     ]
    }
   ],
   "source": [
    "#Create the boolean matrix to show only regions sig in at least 60% of patients\n",
    "da_mat, pow_mat, time_mat = np.array([]),np.array([]),np.array([])\n",
    "x_freq, x_cond = [], []\n",
    "feats = ['da','time','pow_change']\n",
    "groupby = 'cond'\n",
    "\n",
    "for cond,freq in product(sorted(conds),freqs[:]): #trick to impose iteration order for conds & freqs\n",
    "    x_cond.append(conds[cond][0][:2].capitalize()+'/'+conds[cond][1][:2].capitalize())\n",
    "    filename60 = path_df+cond+'_Classif_'+conds[cond][0]+'_'+conds[cond][1]+'_'+freq+'_win1_patients'+str(conds[cond][2])+'.csv'\n",
    "    sig60, data = pd.read_csv(filename60), np.array([])\n",
    "    sig60['pow_change']= (sig60['p0']-sig60['p1'])/sig60['p1']\n",
    "    gr = sig60.groupby(['s_aal_RL','su_codes'])\n",
    "    sel = gr[feats].agg(('max','min','mean'))\n",
    "    da, time, rel_change = np.array([]), np.array([]), np.array([])\n",
    "    for roi in roi_all:\n",
    "        df_roi = sel[sel.index.get_level_values(0)==roi]\n",
    "        da_val = df_roi.filter(like='da').filter(like='max').mean().values\n",
    "        time_val = df_roi.filter(like='time').filter(like='mean').mean().values\n",
    "        pow_min = df_roi.filter(like='pow_change').filter(like='min').mean().values\n",
    "        pow_max = df_roi.filter(like='pow_change').filter(like='max').mean().values\n",
    "        rel_change_val = []\n",
    "        if abs(pow_min[0])>abs(pow_max[0]):\n",
    "            rel_change_val = pow_min\n",
    "        elif abs(pow_min[0])<abs(pow_max[0]):\n",
    "            rel_change_val = pow_max\n",
    "        elif abs(pow_min[0])==abs(pow_max[0]):\n",
    "            rel_change_val = pow_max\n",
    "        elif np.isnan(pow_min):\n",
    "            rel_change_val = [np.nan]\n",
    "        #print('value for',roi,pow_min, pow_max,rel_change_val, da_val, time_val)\n",
    "        \n",
    "        da = np.hstack((da,da_val)) if np.size(da) else da_val\n",
    "        time = np.hstack((time,time_val)) if np.size(time) else time_val\n",
    "        rel_change = np.hstack((rel_change,rel_change_val)) if np.size(rel_change) else rel_change_val\n",
    "        #print('vector',len(da),len(time),len(rel_change))\n",
    "    da_mat = np.vstack((da_mat,da)) if np.size(da_mat) else da\n",
    "    time_mat = np.vstack((time_mat,time)) if np.size(time_mat) else time\n",
    "    pow_mat = np.vstack((pow_mat,rel_change)) if np.size(pow_mat) else rel_change\n",
    "    #print('vector',len(da_mat),len(time_mat),len(pow_mat))\n",
    "da_mat,time_mat, pow_mat = da_mat.T, time_mat.T, pow_mat.T\n",
    "_, idx = np.unique(x_cond,return_index=True) #to keep order\n",
    "x_cond = [x_cond[i] for i in sorted(idx)]\n",
    "print(da_mat.shape, time_mat.shape, pow_mat.shape)"
   ]
  },
  {
   "cell_type": "markdown",
   "metadata": {},
   "source": [
    "### Plot the confusion matrix"
   ]
  },
  {
   "cell_type": "code",
   "execution_count": 32,
   "metadata": {
    "collapsed": false
   },
   "outputs": [
    {
     "name": "stdout",
     "output_type": "stream",
     "text": [
      "The autoreload extension is already loaded. To reload it, use:\n",
      "  %reload_ext autoreload\n",
      "0 5\n",
      "3 ['Po/Pa', 'Pa/De', 'Po/De'] mean [[ 0.81930566  0.74726515  0.82047619]\n",
      " [ 0.78488506  0.81452868  0.83104762]\n",
      " [ 0.78458312  0.78859794  0.85077976]\n",
      " [ 0.7963145   0.85929058  0.85654167]\n",
      " [ 0.80390281  0.84600271  0.89633929]] 0.819990716347\n",
      "Confusion matrix, without normalization\n"
     ]
    },
    {
     "name": "stderr",
     "output_type": "stream",
     "text": [
      "/media/karim/Datas4To/1_Analyses_Intra_EM_Odor/3_BrainpipeScripts/1_Intra_scripts/confusion_matrix.py:22: MatplotlibDeprecationWarning: The set_axis_bgcolor function was deprecated in version 2.0. Use set_facecolor instead.\n",
      "  ax1.set_axis_bgcolor(\"silver\")\n"
     ]
    },
    {
     "data": {
      "image/png": "[encoded data removed]",
      "text/plain": [
       "<matplotlib.figure.Figure at 0x7f16e5307cc0>"
      ]
     },
     "metadata": {},
     "output_type": "display_data"
    },
    {
     "name": "stdout",
     "output_type": "stream",
     "text": [
      "1 5\n",
      "3 ['Po/Pa', 'Pa/De', 'Po/De'] mean [[ 2.06194196  1.9309082   2.38733259]\n",
      " [ 2.45601563  2.28618164  2.22724609]\n",
      " [ 2.03632812  2.31066895  1.9744873 ]\n",
      " [ 2.51323993  2.16396252  2.19846797]\n",
      " [ 2.38477121  1.88169643  2.13510742]] 2.19655706474\n",
      "Confusion matrix, without normalization\n"
     ]
    },
    {
     "data": {
      "image/png": "[encoded data removed]",
      "text/plain": [
       "<matplotlib.figure.Figure at 0x7f16e57ddb38>"
      ]
     },
     "metadata": {},
     "output_type": "display_data"
    },
    {
     "name": "stdout",
     "output_type": "stream",
     "text": [
      "2 5\n",
      "3 ['Po/Pa', 'Pa/De', 'Po/De'] mean [[ 0.57721884  0.15033116  0.72931178]\n",
      " [ 0.760773   -0.29739227 -0.48467722]\n",
      " [-0.47220348 -0.57007847 -0.3043824 ]\n",
      " [ 1.08031454  1.16894523  1.02337419]\n",
      " [ 1.23832655 -0.28614593  0.55167226]] 0.324359185796\n",
      "Confusion matrix, without normalization\n",
      "min,max -0.570078466161 1.23832654805\n",
      "1.03476225885 -0.337946614064\n"
     ]
    },
    {
     "data": {
      "image/png": "[encoded data removed]",
      "text/plain": [
       "<matplotlib.figure.Figure at 0x7f16e5088208>"
      ]
     },
     "metadata": {},
     "output_type": "display_data"
    }
   ],
   "source": [
    "import matplotlib.pyplot as plt\n",
    "from confusion_matrix import plot_confusion_matrix\n",
    "%load_ext autoreload\n",
    "%autoreload 2\n",
    "\n",
    "freqnames = ['θ']#,'θ','γ2']\n",
    "codes = {0:['da',plt.cm.BuPu,1],\n",
    "         1:['time',plt.cm.YlGn,1],\n",
    "         2:['pow_change',plt.cm.seismic,2]}\n",
    "feats_mat = [da_mat, time_mat, pow_mat]\n",
    "option = '75'\n",
    "# Plot non-normalized confusion matrix\n",
    "for i,mat in enumerate(feats_mat):\n",
    "    print(i, len(mat))\n",
    "    groups = len(np.unique(x_cond))\n",
    "    print(groups, x_cond,'mean',mat,np.nanmean(mat))\n",
    "    nconds = len(np.unique(x_cond))\n",
    "    plot_confusion_matrix(mat, xtickslabels1=freqnames*groups, xtickslabels2=x_cond, \n",
    "        ytickslabels=roi_all,cmap=codes[i][1], ylabel='Regions',size=(5,3),cbsides=codes[i][2])\n",
    "    plot_name = path2save+'Matrix_recap_allrois_'+freqnames[0]+'_'+codes[i][0]+'_by_'+groupby+'_'+str(nconds)+'conds_rois'+option+'.png'\n",
    "    plt.savefig(plot_name, dpi=600, bbox_inches='tight')\n",
    "    plt.show()"
   ]
  }
 ],
 "metadata": {
  "anaconda-cloud": {},
  "kernelspec": {
   "display_name": "Python [conda root]",
   "language": "python",
   "name": "conda-root-py"
  },
  "language_info": {
   "codemirror_mode": {
    "name": "ipython",
    "version": 3
   },
   "file_extension": ".py",
   "mimetype": "text/x-python",
   "name": "python",
   "nbconvert_exporter": "python",
   "pygments_lexer": "ipython3",
   "version": "3.5.5"
  }
 },
 "nbformat": 4,
 "nbformat_minor": 1
}
