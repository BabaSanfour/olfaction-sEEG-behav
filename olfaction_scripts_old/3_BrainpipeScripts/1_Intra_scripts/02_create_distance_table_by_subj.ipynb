{
 "cells": [
  {
   "cell_type": "code",
   "execution_count": 1,
   "metadata": {},
   "outputs": [],
   "source": [
    "from os.path import join, exists\n",
    "from os import makedirs\n",
    "import pandas as pd\n",
    "import numpy as np\n",
    "\n",
    "from brainpipe.system import study\n",
    "from utils import subjects, pos_cirles, pos_up_down, pos_RL\n",
    "from codes import num_odor_to_ref\n",
    "from compute_odor_distances_all_pairs import compute_dist_trials_su_E, reorder_df"
   ]
  },
  {
   "cell_type": "markdown",
   "metadata": {},
   "source": [
    "### create dist table for all selected trials by patient"
   ]
  },
  {
   "cell_type": "code",
   "execution_count": null,
   "metadata": {},
   "outputs": [],
   "source": [
    "st = study('Ripples')\n",
    "#any freq will do just to get the trials selection by subj\n",
    "PATH = join(st.path, 'feature/theta_power_E_odors/')\n",
    "filename = join(PATH, '{}_odors=all_elecs=psd_freq=h_theta_pow.npz')\n",
    "PATH_SAVE = join(st.path, 'feature/distance_table_features/')\n",
    "dfname = join(PATH_SAVE, 'df_trials_dims=all_odors=all_su={}.csv')\n",
    "if not exists(PATH_SAVE):\n",
    "    makedirs(PATH_SAVE)\n",
    "\n",
    "PATH_b = '/media/1_Analyses_Intra_EM_Odor/1bis_OE_BaseSam/JPlailly201306_seeg_ALS/behavior/'\n",
    "df_perf = join(PATH_b,'encoding_individual_results.xls')\n",
    "df_od_name = join(PATH_b, 'Recap_Odeurs_Evaluations.xlsx')\n",
    "cols_s = ['trial_time','odor_num','encoding_day','image_context',\n",
    "          'insp_V','exp_V']\n",
    "cols_od = ['od_num','Pleasantness','Familiarity','strength',\n",
    "           'structure','type']\n",
    "\n",
    "for su in subjects:\n",
    "    print('processing',su)\n",
    "    pow_mat = np.load(filename.format(su), allow_pickle=True)\n",
    "    trials_taken = pow_mat['trials_sel'] #select trials\n",
    "    od_order = np.array([int(x) for x in pow_mat['odor']])\n",
    "\n",
    "    df_b = pd.read_excel(df_perf, sheet_name=su)[trials_taken]\n",
    "    df_order = reorder_df(df_b, od_order)\n",
    "    df_order['insp_V'] = np.abs(df_order['total_encodage_0_insp_volume'])\n",
    "    df_order['insp_V'] = df_order['insp_V'].fillna(df_order['insp_V'].mean())\n",
    "    df_order['exp_V'] = df_order['total_encodage_0_exp_volume']\n",
    "    df_order['exp_V'] = df_order['exp_V'].fillna(df_order['exp_V'].mean())\n",
    "    df_order = df_order[cols_s]\n",
    "    \n",
    "    df_od = pd.read_excel(df_od_name, sheet_name='Final')[cols_od]\n",
    "    df_od['odor_num'] = [int(x[1:]) for x in df_od['od_num']]\n",
    "    \n",
    "    n_trials = df_order.shape[0]\n",
    "    df_b_od = pd.DataFrame()\n",
    "    for trial in range(n_trials):\n",
    "        od = df_order['odor_num'].iloc[trial]\n",
    "        od_info = df_od.loc[df_od['odor_num']==od]\n",
    "        df_b_od = df_b_od.append(od_info,ignore_index=True)\n",
    "    df_b_od = df_b_od.drop(['od_num'],axis=1)\n",
    "    \n",
    "    df_tot = pd.merge(df_order,df_od,on='odor_num')\n",
    "    df_tot.to_csv(dfname.format(su,norm),index=False)"
   ]
  },
  {
   "cell_type": "markdown",
   "metadata": {},
   "source": [
    "### create MCA df (categorial dimension) by subj"
   ]
  },
  {
   "cell_type": "code",
   "execution_count": null,
   "metadata": {},
   "outputs": [],
   "source": [
    "import matplotlib.pyplot as plt\n",
    "from utils import pos_cirles\n",
    "\n",
    "for p in pos_cirles:\n",
    "    plt.plot(pos_cirles[p][0],pos_cirles[p][1],'+b')\n",
    "    plt.annotate(p, # this is the text\n",
    "                 (pos_cirles[p]), # this is the point to label\n",
    "                 textcoords=\"offset points\", # how to position the text\n",
    "                 xytext=(0,10), # distance from text to points (x,y)\n",
    "                 ha='center')\n",
    "plt.ylim(0,700)\n",
    "plt.xlim(-50,900)\n",
    "plt.gca().invert_yaxis()\n",
    "plt.show()"
   ]
  },
  {
   "cell_type": "code",
   "execution_count": 4,
   "metadata": {},
   "outputs": [
    {
     "name": "stdout",
     "output_type": "stream",
     "text": [
      "-> Ripples loaded\n",
      "processing CHAF\n",
      "processing LEFC\n",
      "processing FERJ\n",
      "processing SEMC\n",
      "processing VACJ\n",
      "processing PIRJ\n"
     ]
    }
   ],
   "source": [
    "st = study('Ripples')\n",
    "PATH = join(st.path, 'feature/distance_table_features/')\n",
    "dfname = join(PATH, 'df_trials_dims=all_odors=all_su={}.csv')\n",
    "df_save = join(PATH, 'df_dist=MCA_dims=2extr_odors=all_su={}.csv')\n",
    "df_save_all = join(PATH, 'df_dist=MCA_dims=2extr_odors=all_su=ALL.csv')\n",
    "\n",
    "df_all_su = pd.DataFrame()\n",
    "for su in subjects:\n",
    "    print('processing',su)\n",
    "    df_d = pd.read_csv(dfname.format(su))\n",
    "    df_d['Day'] = ['D'+str(x) for x in df_d['encoding_day']]\n",
    "    df_d['Context'] = df_d['image_context']\n",
    "    df_d['Loc'] = ['P'+str(num_odor_to_ref[su][od][1]) for od in df_d['odor_num']]\n",
    "    df_d['up_down'] = [pos_up_down[p] for p in df_d['Loc']]\n",
    "    df_d['R_L'] = [pos_RL[p] for p in df_d['Loc']]\n",
    "    #df_d['insp_V'] = pd.qcut(df_d['insp_V'], 2, \n",
    "    #                           labels=[\"insp_L\", \"insp_H\"])\n",
    "    #df_d['exp_V'] = pd.qcut(df_d['exp_V'], 2, \n",
    "    #                          labels=[\"exp_L\", \"exp_H\"])\n",
    "    df_d['Pleasantness'] = pd.qcut(df_d['Pleasantness'], 2,\n",
    "                                labels=[\"pleas_L\", \"pleas_H\"])\n",
    "    df_d['Familiarity'] = pd.qcut(df_d['Familiarity'], 2,\n",
    "                                labels=[\"fam_L\", \"fam_H\"])\n",
    "    #df_d['Time_E'] = pd.qcut(df_d['trial_time'], 2,\n",
    "    #                            labels=[\"EncT_L\", \"EncT_H\"])\n",
    "    #df_d['Time_od'] = df_d.groupby('od_num')[['trial_time']].transform(lambda x: pd.qcut(x,\\\n",
    "    #                                         2,labels=[\"OdT_L\", \"OdT_H\"]))\n",
    "    df_d = df_d.drop(['odor_num','od_num','trial_time','insp_V','exp_V',\n",
    "                     'encoding_day', 'image_context','Loc'],axis=1)\n",
    "    df_d['subjects'] = [su]*df_d.shape[0]\n",
    "    df_d.to_csv(df_save.format(su),index=False)\n",
    "    df_all_su = df_all_su.append(df_d)\n",
    "df_all_su.to_csv(df_save_all,index=False)"
   ]
  },
  {
   "cell_type": "code",
   "execution_count": null,
   "metadata": {},
   "outputs": [],
   "source": []
  }
 ],
 "metadata": {
  "kernelspec": {
   "display_name": "Python 3",
   "language": "python",
   "name": "python3"
  },
  "language_info": {
   "codemirror_mode": {
    "name": "ipython",
    "version": 3
   },
   "file_extension": ".py",
   "mimetype": "text/x-python",
   "name": "python",
   "nbconvert_exporter": "python",
   "pygments_lexer": "ipython3",
   "version": "3.6.1"
  }
 },
 "nbformat": 4,
 "nbformat_minor": 2
}
