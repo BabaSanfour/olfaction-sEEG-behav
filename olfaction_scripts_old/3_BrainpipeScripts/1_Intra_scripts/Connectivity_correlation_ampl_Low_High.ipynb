{
 "cells": [
  {
   "cell_type": "code",
   "execution_count": 1,
   "metadata": {},
   "outputs": [],
   "source": [
    "from brainpipe.system import study\n",
    "from itertools import combinations, product\n",
    "import numpy as np\n",
    "from os.path import join, exists\n",
    "from os import makedirs\n",
    "from scipy import stats"
   ]
  },
  {
   "cell_type": "code",
   "execution_count": 50,
   "metadata": {},
   "outputs": [
    {
     "name": "stdout",
     "output_type": "stream",
     "text": [
      "-> Olfacto loaded\n",
      "LEFC low ['OFC_olf' 'OFC_olf' 'OFC_olf' 'OFC_olf' 'OFC_olf'] ['aHC' 'aHC' 'aHC' 'aHC' 'aHC' 'aHC' 'aHC' 'aHC']\n",
      "LEFC high ['OFC_olf' 'OFC_olf' 'OFC_olf' 'OFC_olf' 'OFC_olf'] ['aHC' 'aHC' 'aHC' 'aHC' 'aHC' 'aHC' 'aHC' 'aHC']\n",
      "SEMC low ['OFC_olf' 'OFC_olf' 'OFC_olf'] ['aHC' 'aHC' 'aHC' 'aHC' 'aHC']\n",
      "SEMC high ['OFC_olf' 'OFC_olf' 'OFC_olf'] ['aHC' 'aHC' 'aHC' 'aHC' 'aHC']\n",
      "PIRJ low ['OFC_olf' 'OFC_olf' 'OFC_olf' 'OFC_olf'] ['aHC' 'aHC' 'aHC' 'aHC' 'aHC' 'aHC' 'aHC']\n",
      "PIRJ high ['OFC_olf' 'OFC_olf' 'OFC_olf' 'OFC_olf'] ['aHC']\n",
      "VACJ low ['OFC_olf' 'OFC_olf' 'OFC_olf' 'OFC_olf'] ['aHC' 'aHC' 'aHC' 'aHC' 'aHC' 'aHC' 'aHC' 'aHC']\n",
      "VACJ high ['OFC_olf' 'OFC_olf' 'OFC_olf' 'OFC_olf'] ['aHC' 'aHC' 'aHC' 'aHC' 'aHC' 'aHC' 'aHC' 'aHC']\n"
     ]
    }
   ],
   "source": [
    "\"\"\"Compute connectivity between OFC and aHC for HIGH/LOW \"\"\"\n",
    "\n",
    "st = study('Olfacto')\n",
    "path_data = join(st.path, 'feature/TPSim_power_data/Power_all_elecs_E_R_by_cond_3groups_v=1_elecs=all/')\n",
    "pow_file = join(path_data, '{}_odor_{}_{}_6freqs.npz')\n",
    "pathsave = join(st.path,'feature/Conn_corr_{}/')#_'+RT_type+'/')\n",
    "savename = join(pathsave,'Conn_pears_{}_{}_{}.npz')\n",
    "\n",
    "conds, rois, exp = ['low', 'high'], ['OFC_olf','aHC'], 'E'\n",
    "subjects = ['LEFC','SEMC','PIRJ','VACJ']#'CHAF','FERJ']\n",
    "to_take = [17,47]\n",
    "\n",
    "for su,cond in product(subjects,conds):\n",
    "    data = np.load(pow_file.format(su,cond,exp),allow_pickle=True)\n",
    "    sel_roi0 = [i for i,lab in enumerate(data['labels']) if lab == rois[0]]\n",
    "    sel_roi1 = [i for i,lab in enumerate(data['labels']) if lab == rois[1]]\n",
    "    print(su, cond, data['labels'][sel_roi0], data['labels'][sel_roi1])\n",
    "    \n",
    "    chans0, chans1 = data['channels'][sel_roi0], data['channels'][sel_roi1]\n",
    "    data0 = data['xpow'][0,sel_roi0,to_take[0]:to_take[1],:]\n",
    "    data1 = data['xpow'][0,sel_roi1,to_take[0]:to_take[1],:]\n",
    "    _, npts, ntrials = data1.shape\n",
    "    combs = np.array([a+'/'+b for a,b in product(chans0,chans1)])\n",
    "    \n",
    "    conn_mat = np.zeros((len(combs),ntrials))\n",
    "    for i,c in enumerate(combs):\n",
    "        pow_0 = np.squeeze(data0[np.where(chans0 == c.split('/')[0])[0],...])\n",
    "        pow_1 = np.squeeze(data1[np.where(chans1 == c.split('/')[1])[0],...])\n",
    "        conn_mat[i] =+ np.array([stats.pearsonr(pow_0[:,t],\n",
    "                                   pow_1[:,t])[0] for t in range(ntrials)])\n",
    "    np.savez(savename.format(exp,su,cond,'OFC_aHC'),conn=conn_mat,combs=combs)\n"
   ]
  },
  {
   "cell_type": "code",
   "execution_count": 56,
   "metadata": {},
   "outputs": [
    {
     "name": "stdout",
     "output_type": "stream",
     "text": [
      "-> Olfacto loaded\n",
      "LEFC xpow_E ['OFC_olf' 'OFC_olf' 'OFC_olf' 'OFC_olf' 'OFC_olf'] ['aHC' 'aHC' 'aHC' 'aHC' 'aHC' 'aHC' 'aHC' 'aHC']\n",
      "LEFC xpow_L ['OFC_olf' 'OFC_olf' 'OFC_olf' 'OFC_olf' 'OFC_olf'] ['aHC' 'aHC' 'aHC' 'aHC' 'aHC' 'aHC' 'aHC' 'aHC']\n",
      "SEMC xpow_E ['OFC_olf' 'OFC_olf' 'OFC_olf'] ['aHC' 'aHC' 'aHC' 'aHC' 'aHC']\n",
      "SEMC xpow_L ['OFC_olf' 'OFC_olf' 'OFC_olf'] ['aHC' 'aHC' 'aHC' 'aHC' 'aHC']\n",
      "PIRJ xpow_E ['OFC_olf' 'OFC_olf' 'OFC_olf' 'OFC_olf'] ['aHC']\n",
      "PIRJ xpow_L ['OFC_olf' 'OFC_olf' 'OFC_olf' 'OFC_olf'] ['aHC']\n",
      "VACJ xpow_E ['OFC_olf' 'OFC_olf' 'OFC_olf' 'OFC_olf'] ['aHC' 'aHC' 'aHC' 'aHC' 'aHC' 'aHC' 'aHC' 'aHC']\n",
      "VACJ xpow_L ['OFC_olf' 'OFC_olf' 'OFC_olf' 'OFC_olf'] ['aHC' 'aHC' 'aHC' 'aHC' 'aHC' 'aHC' 'aHC' 'aHC']\n"
     ]
    }
   ],
   "source": [
    "\"\"\"Compute connectivity between OFC and aHC for EARLY/LATE \"\"\"\n",
    "\n",
    "st = study('Olfacto')\n",
    "path_data = join(st.path, 'feature/TPSim_power_data/Power_all_elecs_E_R_by_cond_3groups_v=1_elecs=all/')\n",
    "pow_file = join(path_data, '{}_odor_ALL_ODORS_{}_6freqs_EL.npz')\n",
    "pathsave = join(st.path,'feature/Conn_corr_{}/')#_'+RT_type+'/')\n",
    "savename = join(pathsave,'Conn_pears_{}_{}_{}.npz')\n",
    "\n",
    "rois, exp, conds = ['OFC_olf','aHC'], 'E', ['xpow_E','xpow_L']\n",
    "subjects = ['LEFC','SEMC','PIRJ','VACJ']#'CHAF','FERJ']\n",
    "to_take = [17,47]\n",
    "\n",
    "for su,cond in product(subjects,conds):\n",
    "    data = np.load(pow_file.format(su,exp),allow_pickle=True)\n",
    "    sel_roi0 = [i for i,lab in enumerate(data['labels']) if lab == rois[0]]\n",
    "    sel_roi1 = [i for i,lab in enumerate(data['labels']) if lab == rois[1]]\n",
    "    print(su, cond, data['labels'][sel_roi0], data['labels'][sel_roi1])\n",
    "    \n",
    "    chans0, chans1 = data['channels'][sel_roi0], data['channels'][sel_roi1]\n",
    "    data0 = data[cond][0,sel_roi0,to_take[0]:to_take[1],:]\n",
    "    data1 = data[cond][0,sel_roi1,to_take[0]:to_take[1],:]\n",
    "    _, npts, ntrials = data1.shape\n",
    "    combs = np.array([a+'/'+b for a,b in product(chans0,chans1)])\n",
    "    \n",
    "    conn_mat = np.zeros((len(combs),ntrials))\n",
    "    for i,c in enumerate(combs):\n",
    "        pow_0 = np.squeeze(data0[np.where(chans0 == c.split('/')[0])[0],...])\n",
    "        pow_1 = np.squeeze(data1[np.where(chans1 == c.split('/')[1])[0],...])\n",
    "        conn_mat[i] =+ np.array([stats.pearsonr(pow_0[:,t],\n",
    "                                   pow_1[:,t])[0] for t in range(ntrials)])\n",
    "    np.savez(savename.format(exp,su,cond,'OFC_aHC'),conn=conn_mat,combs=combs)\n"
   ]
  },
  {
   "cell_type": "code",
   "execution_count": 57,
   "metadata": {},
   "outputs": [
    {
     "name": "stdout",
     "output_type": "stream",
     "text": [
      "-> Olfacto loaded\n",
      "LEFC (40, 26) (40, 29) 40\n",
      "LEFC [2.21579232 2.72066408 2.23016172]\n",
      "LEFC []\n",
      "SEMC (15, 18) (15, 22) 15\n",
      "SEMC [-3.14640842]\n",
      "SEMC [-3.14640842]\n",
      "VACJ (32, 9) (32, 13) 32\n",
      "VACJ []\n",
      "VACJ []\n",
      "PIRJ (4, 18) (4, 19) 4\n",
      "PIRJ []\n",
      "PIRJ []\n"
     ]
    }
   ],
   "source": [
    "\"\"\"Compare connectivity between 2 conditions\"\"\"\n",
    "from mne.stats import fdr_correction\n",
    "\n",
    "st = study('Olfacto')\n",
    "pathconn = join(st.path,'feature/Conn_corr_{}/')#_'+RT_type+'/')\n",
    "filename = join(pathconn,'Conn_pears_{}_{}_OFC_aHC.npz')\n",
    "\n",
    "conds, exp = ['xpow_E', 'xpow_L'], 'E'\n",
    "subjects = ['LEFC','SEMC','VACJ','PIRJ']#'CHAF','FERJ']\n",
    "\n",
    "for su in subjects:\n",
    "    conn_cond0 = np.load(filename.format(exp,su,conds[0]))['conn']    \n",
    "    conn_cond1 = np.load(filename.format(exp,su,conds[1]))['conn']\n",
    "    ncombs = conn_cond0.shape[0]\n",
    "    print(su, conn_cond0.shape, conn_cond1.shape, ncombs)\n",
    "\n",
    "    stats_T, stats_p = np.zeros(ncombs), np.zeros(ncombs)\n",
    "    for pair in range(ncombs):\n",
    "        stats_T[pair] =+ stats.ttest_ind(conn_cond0[pair,...],\n",
    "                                         conn_cond1[pair,...])[0]\n",
    "        stats_p[pair] =+ stats.ttest_ind(conn_cond0[pair,...],\n",
    "                                         conn_cond1[pair,...])[1]\n",
    "    FDR_p = fdr_correction(stats_p)[1]\n",
    "    \n",
    "    # Tvalue negative means cond B > cond A\n",
    "    print(su,stats_T[np.where(stats_p<0.05)[0]])    \n",
    "    print(su,stats_T[np.where(FDR_p<0.05)[0]])"
   ]
  }
 ],
 "metadata": {
  "kernelspec": {
   "display_name": "Python 3",
   "language": "python",
   "name": "python3"
  },
  "language_info": {
   "codemirror_mode": {
    "name": "ipython",
    "version": 3
   },
   "file_extension": ".py",
   "mimetype": "text/x-python",
   "name": "python",
   "nbconvert_exporter": "python",
   "pygments_lexer": "ipython3",
   "version": "3.6.1"
  }
 },
 "nbformat": 4,
 "nbformat_minor": 2
}
