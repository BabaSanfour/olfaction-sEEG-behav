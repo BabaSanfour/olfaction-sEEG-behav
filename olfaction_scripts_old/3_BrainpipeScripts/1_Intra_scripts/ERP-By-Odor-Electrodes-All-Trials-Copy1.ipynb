{
 "cells": [
  {
   "cell_type": "markdown",
   "metadata": {},
   "source": [
    "## Calculate ERPs"
   ]
  },
  {
   "cell_type": "code",
   "execution_count": 1,
   "metadata": {},
   "outputs": [],
   "source": [
    "#Importing files and modules\n",
    "\n",
    "import numpy as np\n",
    "import matplotlib.pyplot as plt\n",
    "from matplotlib.ticker import ScalarFormatter, MaxNLocator\n",
    "from os import path, makedirs\n",
    "#%matplotlib notebook\n",
    "from brainpipe.system import study\n",
    "from brainpipe.visual import *\n",
    "from brainpipe.statistics import *\n",
    "from mne.baseline import rescale\n",
    "from mne.filter import filter_data\n",
    "import pandas as pd\n",
    "from pandas import ExcelWriter\n",
    "\n",
    "from brainpipe.feat.utils._feat import _manageWindow"
   ]
  },
  {
   "cell_type": "markdown",
   "metadata": {},
   "source": [
    "## User variables"
   ]
  },
  {
   "cell_type": "code",
   "execution_count": null,
   "metadata": {
    "collapsed": true
   },
   "outputs": [],
   "source": [
    "low_pass_filter = 10.\n",
    "sf = 512.\n",
    "norm_mode = 'mean' #'ratio' 'mean' 'percent' \n",
    "baseline = [1408,1536] #-250ms à 0ms\n",
    "data_to_use = [1408,2560]#[-250,2050] # in ms\n",
    "n_perm = 200"
   ]
  },
  {
   "cell_type": "markdown",
   "metadata": {},
   "source": [
    "# Compute ERPs By Odor ALL & selected trials"
   ]
  },
  {
   "cell_type": "code",
   "execution_count": null,
   "metadata": {},
   "outputs": [],
   "source": [
    "def windows(array, win, step=1):\n",
    "    if step == 0: # otherwise infinite loop\n",
    "        raise ValueError(\"Parameter 'step' can't be 0\")\n",
    "    lst = list(array)\n",
    "    i = 0\n",
    "    while i + win < len(lst):\n",
    "        yield lst[i:i+win]\n",
    "        i += step\n",
    "\n",
    "def downsample(array,win,step):\n",
    "    ds_data = []\n",
    "    for win in windows(array, win, step):\n",
    "        mean = np.mean(win)\n",
    "        ds_data = np.append(ds_data,mean)\n",
    "    return ds_data\n",
    "\n",
    "def timing_ds(time,win,step,sf=512,onset=None):\n",
    "    time_points = []\n",
    "    for win in windows(time, win, step):\n",
    "        t = ((win[int(round((len(win)/2),0))]/512)*1000)-onset\n",
    "        time_points = np.append(time_points,t)\n",
    "    return time_points"
   ]
  },
  {
   "cell_type": "code",
   "execution_count": null,
   "metadata": {
    "scrolled": true
   },
   "outputs": [],
   "source": [
    "st = study('Olfacto')\n",
    "path_data0 = path.join(st.path, 'database/Encoding_No_Odor/')\n",
    "path_data1 = path.join(st.path, 'database/Encoding_EpiPerf_LowHigh/')\n",
    "path2save = path.join(st.path,'feature/ERP_Odor_No_Odor/Encoding_no_ds/')\n",
    "########################################################################\n",
    "if not path.exists(path2save):\n",
    "    makedirs(path2save)\n",
    "########################################################################\n",
    "\n",
    "subjects = ['MICP']#['LEFC','PIRJ','SEMC','CHAF','FERJ','VACJ']\n",
    "#subjects = ['CHAF', 'VACJ', 'SEMC', 'PIRJ','MICP'] # 'LEFC',\n",
    "conds = ['no_odor','low','high']\n",
    "\n",
    "for su in subjects:\n",
    "    mat0 = np.load(path_data0+su+'_odor_'+conds[0]+'_bipo_sel_phys.npz')\n",
    "    data0,labels,channels = mat0['x'],mat0['labels'],mat0['channels']\n",
    "    data1 = np.load(path_data1+su+'_odor_'+conds[1]+'_bipo_sel_phys.npz')['x']\n",
    "    data2 = np.load(path_data1+su+'_odor_'+conds[2]+'_bipo_sel_phys.npz')['x']\n",
    "    data_odor = np.concatenate((data1,data2), axis=2)\n",
    "    print(su,data0.shape, data_odor.shape)\n",
    "    \n",
    "    cond0_erps, cond1_erps = np.array([]), np.array([])\n",
    "    for elec in range(data0.shape[0]):\n",
    "        fig = plt.figure()\n",
    "\n",
    "        # Select data for one elec + name :\n",
    "        odor_elec = data_odor[elec].swapaxes(0,1)\n",
    "        no_odor_elec = data0[elec].swapaxes(0,1)\n",
    "        channel,label = channels[elec],labels[elec]\n",
    "        concat = np.concatenate((odor_elec,no_odor_elec), axis=0)\n",
    "        concat = np.array(concat, dtype='float64')\n",
    "        y = [0]*odor_elec.shape[0]+[1]*no_odor_elec.shape[0]\n",
    "        #print(odor_elec.shape, no_odor_elec.shape, concat.shape,len(y),y)\n",
    "                \n",
    "        #Filter data for one elec (all trials):\n",
    "        filtered_data = filter_data(concat, sfreq=512, l_freq=None, \n",
    "                    h_freq=low_pass_filter, method='fir', phase='zero-double').swapaxes(0,1)\n",
    "        print ('Size of filtered data:', filtered_data.shape)\n",
    "\n",
    "        #Normalize the non-averaged data (all trials)\n",
    "        times = np.arange(filtered_data.shape[0])\n",
    "        print ('time points : ', times.shape)\n",
    "        filtered_data_to_norm = np.swapaxes(filtered_data, 0, 1)\n",
    "        norm_filtered_data = rescale(filtered_data_to_norm, times=times, baseline=baseline, mode=norm_mode)\n",
    "        norm_filtered_data = np.swapaxes(norm_filtered_data, 0, 1)\n",
    "        print ('Size norm & filtered data : ', norm_filtered_data.shape,)\n",
    "\n",
    "# =======================PREPARE DATA TO PLOT AND PLOT THE ERPs=====================================\n",
    "        # Downsample each trial STER and extract time\n",
    "        all_trials_data = norm_filtered_data[range(baseline[0], data_to_use[1])]\n",
    "        print('-> Shape of all trials data to plot : ', all_trials_data.shape)\n",
    "        # Time vector :\n",
    "        times_plot = 1000 * np.arange((baseline[0] - baseline[1]), all_trials_data.shape[0]-baseline[1] + baseline[0],) / sf\n",
    "        print('-> Shape of time vector : ', times_plot.shape)\n",
    "            \n",
    "    #         time = np.arange(norm_filtered_data.shape[0])\n",
    "#         ds_time = timing_ds(time,win=358,step=51, sf=512, onset=3000)\n",
    "#         time_plot = [t for t in ds_time if data_to_use[0] < t <= data_to_use[1]]\n",
    "        \n",
    "#         ds_data_all_plot = np.array([])\n",
    "#         for trial in range(norm_filtered_data.shape[1]):\n",
    "#             ds_data = downsample(norm_filtered_data[:,trial],win=358, step=51)\n",
    "#             ds_plot = [p for i,p in enumerate(ds_data) if data_to_use[0] < ds_time[i] <= data_to_use[1]]\n",
    "#             ds_data_all_plot = np.vstack((ds_data_all_plot,ds_plot)) if np.size(ds_data_all_plot) else ds_plot\n",
    "#         ds_data_all_plot = ds_data_all_plot.swapaxes(0,1)\n",
    "#         print('-> Shape of all trials data to plot : ',ds_data_all_plot.shape)\n",
    "#         print('-> Shape of time vector : ', len(time_plot))\n",
    "\n",
    "        #Plot all trials \n",
    "        fig.suptitle(su+' ERP Odor/No Odor '+str(label)+' ('+str(channel)+') ', fontsize=14)\n",
    "        BorderPlot(times_plot, all_trials_data, y=y, xlabel='Time (ms)',ylabel = 'ERP',\n",
    "                   alpha=0.3,linewidth=2, color = ['orange','blue'],legend=['odor','no odor'])\n",
    "        plt.gca().yaxis.set_major_locator(MaxNLocator(3,integer=True))\n",
    "        rmaxis(plt.gca(), ['right', 'top'])\n",
    "        addLines(plt.gca(), vLines=[0], vColor=['firebrick']*2, vWidth=[2]*2, hLines=[0], hColor=['#000000'], hWidth=[2])\n",
    "\n",
    "        plt.legend(loc=0, handletextpad=0.1, frameon=False, fontsize = 'xx-small')\n",
    "        \n",
    "        #Save all the plots\n",
    "        fname = (path2save +su+ '_ERP_'+str(label)+'_'+str(channel)+'_('+str(elec)+').png')\n",
    "        print (fname)\n",
    "        plt.savefig(fname, dpi=300, bbox_inches='tight')\n",
    "        plt.clf()\n",
    "        plt.close\n",
    "        \n",
    "        #Save STER for each condition\n",
    "        yClass = np.unique(y)\n",
    "        cond0 = all_trials_data[:, np.where(y == yClass[0])[0]][np.newaxis]\n",
    "        cond1 = all_trials_data[:, np.where(y == yClass[1])[0]][np.newaxis]\n",
    "        cond0_erps = np.vstack((cond0_erps,cond0)) if np.size(cond0_erps) else cond0\n",
    "        cond1_erps = np.vstack((cond1_erps,cond1)) if np.size(cond1_erps) else cond1\n",
    "    \n",
    "        print('data to save', all_trials_data.shape,'cond0',cond0_erps.shape,'cond1',cond1_erps.shape)\n",
    "        del label, elec, channel, odor_elec, no_odor_elec, concat, filtered_data, filtered_data_to_norm, \n",
    "        norm_filtered_data, times, times_plot, all_trials_data\n",
    "    print(cond1_erps.shape,cond0_erps.shape)\n",
    "    np.save(path2save+su+'_odor_bipo_sel_phys.npy',cond0_erps)\n",
    "    np.save(path2save+su+'_no_odor_bipo_sel_phys.npy',cond1_erps)"
   ]
  },
  {
   "cell_type": "code",
   "execution_count": null,
   "metadata": {
    "collapsed": true
   },
   "outputs": [],
   "source": []
  }
 ],
 "metadata": {
  "anaconda-cloud": {},
  "kernelspec": {
   "display_name": "Python 3",
   "language": "python",
   "name": "python3"
  },
  "language_info": {
   "codemirror_mode": {
    "name": "ipython",
    "version": 3
   },
   "file_extension": ".py",
   "mimetype": "text/x-python",
   "name": "python",
   "nbconvert_exporter": "python",
   "pygments_lexer": "ipython3",
   "version": "3.6.1"
  }
 },
 "nbformat": 4,
 "nbformat_minor": 2
}
