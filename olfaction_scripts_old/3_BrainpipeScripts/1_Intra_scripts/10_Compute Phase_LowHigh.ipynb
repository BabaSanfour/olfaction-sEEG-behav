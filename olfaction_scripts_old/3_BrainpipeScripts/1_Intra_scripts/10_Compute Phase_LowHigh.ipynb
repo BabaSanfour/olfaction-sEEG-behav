{
 "cells": [
  {
   "cell_type": "markdown",
   "metadata": {
    "collapsed": true
   },
   "source": [
    "## Compute Phase Encoding"
   ]
  },
  {
   "cell_type": "code",
   "execution_count": null,
   "metadata": {
    "collapsed": false
   },
   "outputs": [],
   "source": [
    "from os import path,makedirs\n",
    "from os.path import exists\n",
    "import numpy as np\n",
    "import matplotlib.pyplot as plt\n",
    "from brainpipe.system import study\n",
    "from brainpipe.feature import power, amplitude, sigfilt, phase, PLF\n",
    "from brainpipe.visual import *\n",
    "from brainpipe.statistics import *\n",
    "from itertools import product"
   ]
  },
  {
   "cell_type": "markdown",
   "metadata": {},
   "source": [
    "## Compute phase \n",
    "    Instantaneous phase computation, value for the middle of each time window"
   ]
  },
  {
   "cell_type": "code",
   "execution_count": null,
   "metadata": {
    "collapsed": false,
    "scrolled": true
   },
   "outputs": [],
   "source": [
    "from brainpipe.feat.utils._feat import _manageWindow\n",
    "st = study('Olfacto')\n",
    "subjects = ['FERJ','MICP','VACJ','SEMC','LEFC','PIRJ','CHAF']#\n",
    "conds = {'subj':('LowHigh',['low', 'high'])}\n",
    "\n",
    "for su, cond in product(subjects[:], sorted(conds)):\n",
    "    pathdata = path.join(st.path,'database/Encoding_EpiPerf_'+conds[cond][0]+'/')\n",
    "    path2save = path.join(st.path,'feature/1_Phase_Encoding_EpiPerf_'+conds[cond][0]+'/')\n",
    "    # Define phase settings \n",
    "    f = [[0.1,1.5],[2,3],[3,7],[8,13]]\n",
    "    width, step = None,None\n",
    "    fname = ['VLFC','delta','theta', 'alpha']\n",
    "    \n",
    "    for c in conds[cond][1]:\n",
    "        # Load file :\n",
    "        fi = su+'_odor_'+c+'_bipo_sel_physFT.npz'\n",
    "        loadname = pathdata+fi\n",
    "        if path.isfile(loadname):\n",
    "            mat = np.load(loadname)\n",
    "            print(mat.files)\n",
    "            x = mat['x']\n",
    "            n_elec, npts, n_trials = x.shape\n",
    "            sf = 512.\n",
    "            print ('--> compute phase on : ', fi, 'data', x.shape, 'npts', npts, 'ntrials',n_trials, 'nelec', n_elec)              \n",
    "\n",
    "            # Define and save phase objects :\n",
    "            phase0bj = phase(sf, npts=npts, f=f, method='hilbert', width=width, step=step)\n",
    "            kwargs = {}\n",
    "            kwargs['f'], kwargs['fname'] = f, fname\n",
    "            kwargs['labels'], kwargs['channels'], kwargs['xyz'] = mat['labels'], mat['channels'], mat['xyz']\n",
    "            kwargs['s_aal'], kwargs['s_BA'] = mat['aal'], mat['BA']\n",
    "            kwargs['Mai_RL'], kwargs['Mai']  = mat['Mai_RL'], mat['Mai']\n",
    "            #print('time vector',time)\n",
    "            xPhase,  kwargs['phase_pval']= phase0bj.get(x,n_jobs=5)\n",
    "            # Select middle instantaneous phase for each window\n",
    "            sWidth, sStep = 358, 51\n",
    "            wins, sTime = _manageWindow(x.shape[1], width=sWidth, step=sStep)\n",
    "            kwargs['time'] = (np.array(sTime)-3*512)/512\n",
    "            print('stime', (np.array(sTime)-3*512)/512)\n",
    "            idx = [int(i) for i in sTime]  \n",
    "            sPhase = np.array([])\n",
    "            for i in idx:\n",
    "                sPhase = np.concatenate((sPhase,xPhase[:,:,i,np.newaxis,:]), axis = 2) if np.size(sPhase) else xPhase[:,:,i,np.newaxis,:]\n",
    "            kwargs['xPhase'], kwargs['sPhase'] = xPhase, sPhase\n",
    "            save_phase = path2save+fi.replace('.npz', '_phase.npz')\n",
    "            np.savez(save_phase, **kwargs)\n",
    "            del kwargs['xPhase'],  kwargs['phase_pval'], kwargs['fname']\n",
    "            del kwargs, x, sf, n_elec, n_trials"
   ]
  },
  {
   "cell_type": "markdown",
   "metadata": {},
   "source": [
    "### Plot Single-trial low frequency phase over time\n",
    "    by frequency bins (VLFC, delta, theta, alpha)"
   ]
  },
  {
   "cell_type": "code",
   "execution_count": null,
   "metadata": {
    "collapsed": false,
    "scrolled": false
   },
   "outputs": [],
   "source": [
    "import matplotlib.colors as colors\n",
    "from os.path import exists\n",
    "from os import makedirs\n",
    "st = study('Olfacto')\n",
    "subjects = ['FERJ','MICP','VACJ','SEMC','LEFC','PIRJ','CHAF']\n",
    "conds = {'subj':('LowHigh',['low', 'high'])}\n",
    "f = [[0.1,1.5],[2,3],[3,7],[8,13],[13,30]]\n",
    "fname = ['VLFC','delta','theta', 'alpha']\n",
    "\n",
    "for su, cond in product(subjects[:], sorted(conds)):\n",
    "    pathdata = path.join(st.path,'feature/1_Phase_Encoding_EpiPerf_'+conds[cond][0]+'/')\n",
    "    for c in conds[cond][1]:\n",
    "        # Load file :\n",
    "        fi = su+'_odor_'+c+'_bipo_sel_physFT_phase.npz'\n",
    "        loadname = pathdata+fi\n",
    "        if path.isfile(loadname):\n",
    "            mat = np.load(loadname)\n",
    "            x, time = mat['sPhase'], mat['time'] #nelecs, nfreq, nwins,ntrials\n",
    "            labels = mat['Mai_RL']\n",
    "            x = np.rad2deg(x)\n",
    "            n_elec, nfreq, npts, n_trials = x.shape\n",
    "            print ('--> compute phase on : ', fi, 'data', x.shape, 'npts', npts, 'ntrials',n_trials, 'nelec', n_elec)              \n",
    "            #Plot single-trial phase over time\n",
    "            for f, elec in product(range(nfreq),range(n_elec)):\n",
    "                path2save = pathdata+'Single_trial/'+fname[f]+'/'\n",
    "                if not exists(path2save):\n",
    "                    makedirs(path2save)\n",
    "                phase_plot = x[elec,f,17:52,:].swapaxes(0,1)\n",
    "                plt.imshow(phase_plot, cmap='rainbow',norm=colors.Normalize(vmin=-180,vmax=180),\n",
    "                   interpolation='none', origin ='lower', aspect='auto', extent=[-1,2.5,0,n_trials])\n",
    "                plt.title('Trial by trial '+fname[f]+' phase modulation - '+c.capitalize()+\n",
    "                          ' Memory \\n'+ labels[elec])\n",
    "                plt.ylabel('Trials')\n",
    "                plt.xlabel('Time (s)')\n",
    "                cb = plt.colorbar(ticks=[-180, -90, 0, 90,180], label='Phase (°)')\n",
    "                filename = su+'_ST_phase_'+fname[f]+'_'+str(elec)+'_'+labels[elec]+'_'+c+'.png'\n",
    "                plt.savefig(path2save+filename)\n",
    "                plt.clf()\n",
    "                plt.close()"
   ]
  },
  {
   "cell_type": "markdown",
   "metadata": {},
   "source": [
    "### Check all phase files dimensions"
   ]
  },
  {
   "cell_type": "code",
   "execution_count": null,
   "metadata": {
    "collapsed": false
   },
   "outputs": [],
   "source": [
    "st = study('Olfacto')\n",
    "files = st.search('_sel_phys_phase_test.npz', folder='feature/1_Phase_Encoding_EpiPerf_4500_expi_noart/')\n",
    "for fi in files:\n",
    "    loadname = path.join(st.path, 'feature/1_Phase_Encoding_EpiPerf_4500_expi_noart/', fi)\n",
    "    mat = np.load(loadname)\n",
    "    x = np.load(loadname)['phase']\n",
    "    # nfreq, nelec, nwin, ntrials\n",
    "    print (fi, x.shape, x[0,2,:,0])\n",
    "    print(mat.files)\n"
   ]
  },
  {
   "cell_type": "markdown",
   "metadata": {},
   "source": [
    "### Compute & Plot PLF"
   ]
  },
  {
   "cell_type": "code",
   "execution_count": null,
   "metadata": {
    "collapsed": false,
    "scrolled": true
   },
   "outputs": [],
   "source": [
    "from brainpipe.feat.utils._feat import _manageWindow\n",
    "\n",
    "st = study('Olfacto')\n",
    "subjects = ['FERJ','MICP','VACJ','SEMC','LEFC','PIRJ','CHAF']\n",
    "conds = {'subj':('LowHigh',['low', 'high'])}\n",
    "\n",
    "for su, cond in product(subjects[:], sorted(conds)):\n",
    "    pathdata = path.join(st.path,'database/Encoding_EpiPerf_'+conds[cond][0]+'/')\n",
    "    path2save = path.join(st.path,'feature/1_Phase_Encoding_EpiPerf_'+conds[cond][0]+'/PLF_plots/')\n",
    "    if not exists(path2save):\n",
    "        makedirs(path2save)\n",
    "    # Define phase settings \n",
    "    f = (0.1,13,0.5, 0.2)\n",
    "    #width, step = 358,51\n",
    "    width, step = None,None\n",
    "    \n",
    "    for c in conds[cond][1]:\n",
    "        # Load file :\n",
    "        fi = su+'_odor_'+c+'_bipo_sel_physFT.npz'\n",
    "        loadname = pathdata+fi\n",
    "        if path.isfile(loadname):\n",
    "            mat = np.load(loadname)\n",
    "            print(mat.files)\n",
    "            x = mat['x']\n",
    "            labels = mat['Mai_RL']\n",
    "            n_elec, npts, n_trials = x.shape\n",
    "            sf = 512.\n",
    "            print ('--> compute PLF on : ', fi, 'data', x.shape, 'npts', npts, 'ntrials',n_trials, 'nelec', n_elec)              \n",
    "            \n",
    "            for elec in range(n_elec):\n",
    "                # Define and save power objects :\n",
    "                n_elec, npts, n_trials = x.shape\n",
    "                print ('--> compute PLF on : ', elec,'/', n_elec)  \n",
    "                PLFObj = PLF(sf, npts=npts, f=f, method='hilbert1', width=width, step=step,\n",
    "                            filtname='fir1',axis=0,cycle=3)\n",
    "                PLF_plot, pvals = PLFObj.get(x[elec,:,:],n_jobs=5)\n",
    "                print(PLF_plot.shape)\n",
    "                #Time vector\n",
    "                npts = len(range(1024,2816))\n",
    "                time = np.arange(-512,npts-512,52)/512\n",
    "\n",
    "                # Plot PLF for one electrode\n",
    "                fig = plt.figure(figsize=(5, 4))\n",
    "                title = su+' Phase locking factor - '+c.capitalize()+' Memory \\n'+ labels[elec]+ ' elec('+str(elec)+')'\n",
    "                fig = PLFObj.plot2D(fig, PLF_plot[:,:,1024:2816], cmap='viridis', xvec=time,\n",
    "                         yvec=PLFObj.yvec, xlabel='Time (s)', vmin=0, vmax=0.7, ycb=-8,\n",
    "                         ylabel='Frequency (hz)', figtitle=title, cblabel='PLF', \n",
    "                        pltype='imshow', resample=(0.1, 0.1),subspace={'top':0.85},\n",
    "                        contour={'data':pvals, 'level':[0.001,], 'colors':['w'], 'linewidths':[1]},)\n",
    "                filename = su+'_PLF_'+str(elec)+'_'+labels[elec]+'_'+c+'.png'\n",
    "                plt.savefig(path2save+filename)\n",
    "                plt.clf()\n",
    "                plt.close()\n",
    "            del PLF_plot, \n",
    "            del x, sf, n_elec, n_trials"
   ]
  },
  {
   "cell_type": "code",
   "execution_count": null,
   "metadata": {
    "collapsed": true
   },
   "outputs": [],
   "source": []
  }
 ],
 "metadata": {
  "anaconda-cloud": {},
  "kernelspec": {
   "display_name": "Python [conda root]",
   "language": "python",
   "name": "conda-root-py"
  },
  "language_info": {
   "codemirror_mode": {
    "name": "ipython",
    "version": 3
   },
   "file_extension": ".py",
   "mimetype": "text/x-python",
   "name": "python",
   "nbconvert_exporter": "python",
   "pygments_lexer": "ipython3",
   "version": "3.5.5"
  }
 },
 "nbformat": 4,
 "nbformat_minor": 1
}
