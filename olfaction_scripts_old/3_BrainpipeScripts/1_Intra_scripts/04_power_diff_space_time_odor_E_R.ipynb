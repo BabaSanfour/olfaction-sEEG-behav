{
 "cells": [
  {
   "cell_type": "code",
   "execution_count": 1,
   "metadata": {},
   "outputs": [
    {
     "name": "stderr",
     "output_type": "stream",
     "text": [
      "/home/karim/anaconda3/envs/mne_coreg/lib/python3.6/site-packages/statsmodels/tools/_testing.py:19: FutureWarning: pandas.util.testing is deprecated. Use the functions in the public API at pandas.testing instead.\n",
      "  import pandas.util.testing as tm\n"
     ]
    }
   ],
   "source": [
    "from os.path import join, exists\n",
    "from os import makedirs\n",
    "import pandas as pd\n",
    "import numpy as np\n",
    "from itertools import product, combinations\n",
    "import matplotlib.pyplot as plt\n",
    "\n",
    "from brainpipe.system import study\n",
    "from scipy.stats import kendalltau, spearmanr, pearsonr, ttest_ind, zscore\n",
    "import statsmodels.api as sm\n",
    "from utils import subjects, odor_groups_3wgth, su_list_od\n",
    "from mne.stats import fdr_correction"
   ]
  },
  {
   "cell_type": "markdown",
   "metadata": {},
   "source": [
    "### Characterize modulations of theta power at ENCODING\n",
    "Impact of time, space, context, memory and odor properties"
   ]
  },
  {
   "cell_type": "code",
   "execution_count": null,
   "metadata": {},
   "outputs": [],
   "source": [
    "st = study('Ripples')\n",
    "PATH = join(st.path, 'feature/{}_power_E_odors/')\n",
    "filename = join(PATH, '{}_odors=all_elecs={}_freq={}_pow.npz')\n",
    "\n",
    "freqs = ['theta','gamma']\n",
    "freqs_to_elecs = { 'theta': ['psd','h_theta'],\n",
    "                   'gamma': ['all','h_gamma']}\n",
    "\n",
    "for freq in freqs:\n",
    "    y_HC = []\n",
    "    for su in subjects:\n",
    "        pow_mat = np.load(filename.format(freq, su, freqs_to_elecs[freq][0],\n",
    "                                         freqs_to_elecs[freq][1]), allow_pickle=True)\n",
    "        idx = np.where(pow_mat['labels']=='HC')[0]\n",
    "        y = pow_mat['xyz'][:,1][idx]\n",
    "        if len(y) > 1:\n",
    "            y_HC.extend(y)"
   ]
  },
  {
   "cell_type": "code",
   "execution_count": 27,
   "metadata": {},
   "outputs": [],
   "source": [
    "%load_ext autoreload\n",
    "%autoreload 2"
   ]
  },
  {
   "cell_type": "code",
   "execution_count": 31,
   "metadata": {},
   "outputs": [
    {
     "name": "stdout",
     "output_type": "stream",
     "text": [
      "-> Ripples loaded\n",
      "processing l_theta FERJ\n",
      "(1060, 11)\n"
     ]
    },
    {
     "ename": "ZeroDivisionError",
     "evalue": "division by zero",
     "output_type": "error",
     "traceback": [
      "\u001b[0;31m---------------------------------------------------------------------------\u001b[0m",
      "\u001b[0;31mZeroDivisionError\u001b[0m                         Traceback (most recent call last)",
      "\u001b[0;32m<ipython-input-31-a1354bddea7b>\u001b[0m in \u001b[0;36m<module>\u001b[0;34m\u001b[0m\n\u001b[1;32m     47\u001b[0m         \u001b[0mdf_all_dist\u001b[0m\u001b[0;34m.\u001b[0m\u001b[0mto_csv\u001b[0m\u001b[0;34m(\u001b[0m\u001b[0mdfname\u001b[0m\u001b[0;34m.\u001b[0m\u001b[0mformat\u001b[0m\u001b[0;34m(\u001b[0m\u001b[0msu\u001b[0m\u001b[0;34m,\u001b[0m\u001b[0mfreq\u001b[0m\u001b[0;34m,\u001b[0m\u001b[0mnorm\u001b[0m\u001b[0;34m)\u001b[0m\u001b[0;34m)\u001b[0m\u001b[0;34m\u001b[0m\u001b[0m\n\u001b[1;32m     48\u001b[0m         \u001b[0mprint\u001b[0m\u001b[0;34m(\u001b[0m\u001b[0mdf_all_dist\u001b[0m\u001b[0;34m.\u001b[0m\u001b[0mshape\u001b[0m\u001b[0;34m)\u001b[0m\u001b[0;34m\u001b[0m\u001b[0m\n\u001b[0;32m---> 49\u001b[0;31m         \u001b[0;36m0\u001b[0m\u001b[0;34m/\u001b[0m\u001b[0;36m0\u001b[0m\u001b[0;34m\u001b[0m\u001b[0m\n\u001b[0m\u001b[1;32m     50\u001b[0m \u001b[0;34m\u001b[0m\u001b[0m\n\u001b[1;32m     51\u001b[0m         \u001b[0;31m#compute power distance\u001b[0m\u001b[0;34m\u001b[0m\u001b[0;34m\u001b[0m\u001b[0m\n",
      "\u001b[0;31mZeroDivisionError\u001b[0m: division by zero"
     ]
    }
   ],
   "source": [
    "from compute_odor_distances_all_pairs import compute_dist_trials_su_E, reorder_df\n",
    "st = study('Ripples')\n",
    "PATH = join(st.path, 'feature/theta_power_E_odors/')\n",
    "filename = join(PATH, '{}_odors=all_elecs=psd_freq={}_pow.npz')\n",
    "PATH_SAVE = join(PATH, 'distance_pow_features/')\n",
    "savename = join(PATH_SAVE, '{}_odors=all_elecs=all_freq={}_dist=TPS.npz')\n",
    "dfname = join(PATH_SAVE, 'df_dist=TPS_dims=all_odors=all_su={}_freq={}_norm={}.csv')\n",
    "if not exists(PATH_SAVE):\n",
    "    makedirs(PATH_SAVE)\n",
    "\n",
    "PATH_b = '/media/1_Analyses_Intra_EM_Odor/1bis_OE_BaseSam/JPlailly201306_seeg_ALS/behavior/'\n",
    "df_perf = join(PATH_b,'encoding_individual_results.xls')\n",
    "df_od_dist = join(PATH_b,'distance_odors_all_pairs_meth=sum.csv')\n",
    "cols_s = ['trial_time','odor_num','encoding_day','0_insp_V','0_exp_V']\n",
    "\n",
    "freqs, norm = ['l_theta','h_theta'], True #['l_theta','h_theta']\n",
    "t0, t1 = 0, 2\n",
    "\n",
    "for freq in freqs:\n",
    "    subjs = subjects if freq != 'l_theta' else np.setdiff1d(subjects,['CHAF'])\n",
    "    for su in subjs:\n",
    "        print('processing',freq,su)\n",
    "        pow_mat = np.load(filename.format(su,freq), allow_pickle=True)\n",
    "        labels, y_coord = pow_mat['labels'], pow_mat['xyz'][:,1]\n",
    "        new_labs = []\n",
    "        for i,lab in enumerate(labels):\n",
    "            if (lab == 'HC') & (y_coord[i] > -20.5):\n",
    "                new_labs.append('aHC')\n",
    "            if (lab == 'HC') & (y_coord[i] <= -20.5):\n",
    "                new_labs.append('pHC')\n",
    "            if lab != 'HC':\n",
    "                new_labs.append(lab)\n",
    "        labels = np.array([lab if lab != 'orbital2' else 'orbital' for lab in labels])\n",
    "        time = pow_mat['time']-3\n",
    "        t_sel = [t for t,ti in enumerate(time) if t0<=ti<t1]\n",
    "        pow_data = pow_mat['xpow'][0,:,t_sel,:].swapaxes(0,1)\n",
    "        #pow_data = np.mean(pow_mat['xpow'][0,:,t_sel,:], axis=0)\n",
    "        #pow_data = (pow_data - np.min(pow_data))/(np.max(pow_data)-np.min(pow_data))\n",
    "        nelecs, _, ntrials = pow_data.shape\n",
    "        trials_taken = pow_mat['trials_sel'] #select trials\n",
    "        od_order = np.array([int(x) for x in pow_mat['odor']])\n",
    "\n",
    "        df_b = pd.read_excel(df_perf, sheet_name=su)[trials_taken]\n",
    "        df_order = reorder_df(df_b, od_order)\n",
    "        df_all_dist = compute_dist_trials_su_E(df_order, df_od_dist,\n",
    "                                                        su, cols_s, norm=norm)\n",
    "        df_all_dist.to_csv(dfname.format(su,freq,norm))\n",
    "        print(df_all_dist.shape)\n",
    "        0/0\n",
    "\n",
    "        #compute power distance\n",
    "        pow_dist = np.zeros((nelecs, df_all_dist.shape[0]))\n",
    "        for e in range(nelecs):\n",
    "            i = 0\n",
    "            for tr0, tr1 in combinations(range(ntrials),2):\n",
    "                if df_order['odor_num'].iloc[tr0] != df_order['odor_num'].iloc[tr1]:\n",
    "                    pow_dist[e,i] += 1 - pearsonr(pow_data[e,:,tr0],pow_data[e,:,tr1])[0]\n",
    "                    #pow_dist[e,i] += np.round(np.linalg.norm(pow_data[e,tr0]-pow_data[e,tr1]),2)\n",
    "                    i += 1\n",
    "        #rescale btw 0 and 1 as other features\n",
    "        pow_dist_z = (pow_dist - np.min(pow_dist))/(np.max(pow_dist)-np.min(pow_dist))\n",
    "        dico_dist = {}\n",
    "        for fi in np.setdiff1d(pow_mat.files,'xpow'):\n",
    "            dico_dist[fi] = pow_mat[fi]\n",
    "        dico_dist['dist_pow'] = pow_dist\n",
    "        dico_dist['dist_pow_z'] = pow_dist_z\n",
    "        dico_dist['new_lab'] = np.array(new_labs)\n",
    "        np.savez(savename.format(su,freq), **dico_dist)"
   ]
  },
  {
   "cell_type": "code",
   "execution_count": 24,
   "metadata": {
    "scrolled": true
   },
   "outputs": [
    {
     "name": "stdout",
     "output_type": "stream",
     "text": [
      "-> Ripples loaded\n",
      "processing l_theta FERJ\n",
      "processing l_theta LEFC\n",
      "processing l_theta PIRJ\n",
      "processing l_theta SEMC\n",
      "processing l_theta VACJ\n",
      "processing l_theta FERJ\n",
      "processing l_theta LEFC\n",
      "processing l_theta PIRJ\n",
      "processing l_theta SEMC\n",
      "processing l_theta VACJ\n",
      "processing l_theta FERJ\n",
      "processing l_theta LEFC\n",
      "processing l_theta PIRJ\n",
      "processing l_theta SEMC\n",
      "processing l_theta VACJ\n",
      "processing h_theta CHAF\n",
      "processing h_theta LEFC\n",
      "processing h_theta FERJ\n",
      "processing h_theta SEMC\n",
      "processing h_theta VACJ\n",
      "processing h_theta PIRJ\n",
      "processing h_theta CHAF\n",
      "processing h_theta LEFC\n",
      "processing h_theta FERJ\n",
      "processing h_theta SEMC\n",
      "processing h_theta VACJ\n",
      "processing h_theta PIRJ\n",
      "processing h_theta CHAF\n",
      "processing h_theta LEFC\n",
      "processing h_theta FERJ\n",
      "processing h_theta SEMC\n",
      "processing h_theta VACJ\n",
      "processing h_theta PIRJ\n"
     ]
    }
   ],
   "source": [
    "\"\"\"\n",
    "Compute similarities of spaces \n",
    "\"\"\"\n",
    "\n",
    "st = study('Ripples')\n",
    "PATH = join(st.path, 'feature/theta_power_E_odors/distance_pow_features/')\n",
    "PATH_SAVE = join(PATH, 'similarity_results/')\n",
    "if not exists(PATH_SAVE):\n",
    "    makedirs(PATH_SAVE)\n",
    "dataname = join(PATH, '{}_odors=all_elecs=all_freq={}_dist=TPS.npz')\n",
    "csvname = join(PATH, 'df_dist=TPS_dims=all_odors=all_su={}_freq={}_norm={}.csv')\n",
    "csv_save = join(PATH_SAVE, 'df_dist=TPS_su={}_freq={}_roi=all_feats=all_R={}.csv')\n",
    "\n",
    "freqs, norm = ['l_theta','h_theta'] , True #['l_theta','h_theta'] 'l_gamma','h_gamma'\n",
    "Rs = ['kend','pears','spear']\n",
    "feats = ['od_dist', 'temp_dist', 'resp_dist','spa_dist', 'rich_dist']\n",
    "\n",
    "for freq, R_meth in product(freqs,Rs):\n",
    "    subjs = subjects if freq != 'l_theta' else np.setdiff1d(subjects,['CHAF'])\n",
    "    for su in subjs:\n",
    "        print('processing',freq,su)\n",
    "        d_mat = np.load(dataname.format(su,freq), allow_pickle=True)\n",
    "        df_d = pd.read_csv(csvname.format(su,freq,norm))\n",
    "        dist_x = d_mat['dist_pow_z']\n",
    "        nelecs, ntrials = dist_x.shape\n",
    "\n",
    "        sim_spaces = np.zeros((nelecs,len(feats)))\n",
    "        sim_pvals = np.zeros((nelecs,len(feats)))\n",
    "        for e in range(nelecs):\n",
    "            for i,f in enumerate(feats):\n",
    "                if R_meth == 'kend':\n",
    "                    R,p = kendalltau(dist_x[e,:],df_d[f].values)\n",
    "                if R_meth == 'pears':\n",
    "                    R,p = pearsonr(dist_x[e,:],df_d[f].values)\n",
    "                if R_meth == 'spear':\n",
    "                    R,p = spearmanr(dist_x[e,:],df_d[f].values)\n",
    "                sim_spaces[e,i] += R\n",
    "                sim_pvals[e,i] += p\n",
    "\n",
    "        ch_data = np.concatenate((np.array([su]*nelecs)[:,np.newaxis],\n",
    "                                  d_mat['labels'][:,np.newaxis],\n",
    "                                  d_mat['new_lab'][:,np.newaxis],\n",
    "                                  d_mat['channels'][:,np.newaxis],\n",
    "                                  d_mat['xyz']), axis=1)\n",
    "        data_df = np.concatenate((ch_data,sim_spaces,sim_pvals), axis=1)\n",
    "        cols = ['subj','labels','new_lab','channels','x','y','z']+['sim_'+f for f in feats]\n",
    "        cols = cols + ['p_'+f for f in feats]\n",
    "        df_save = pd.DataFrame(data_df, columns=cols)\n",
    "        df_save.to_csv(csv_save.format(su,freq,R_meth),index=False)\n"
   ]
  },
  {
   "cell_type": "code",
   "execution_count": 25,
   "metadata": {},
   "outputs": [
    {
     "name": "stdout",
     "output_type": "stream",
     "text": [
      "-> Ripples loaded\n"
     ]
    }
   ],
   "source": [
    "\"\"\"\n",
    "sum-up results of space similarity\n",
    "\"\"\"\n",
    "\n",
    "st = study('Ripples')\n",
    "PATH = join(st.path, 'feature/theta_power_E_odors/distance_pow_features/similarity_results/')\n",
    "csvname = join(PATH, 'df_dist=TPS_su={}_freq={}_roi=all_feats=all_R={}.csv')\n",
    "savename = join(PATH, 'dist=TPS_all_su_freq={}_roi={}_feat={}_R={}.csv')\n",
    "\n",
    "freqs = ['l_theta','h_theta'] #['l_gamma','h_gamma'] 'l_theta','h_theta'\n",
    "Rs = ['pears']\n",
    "feats = ['od_dist','temp_dist','resp_dist','spa_dist','rich_dist']\n",
    "rois = ['olf','orbital','HC']\n",
    "\n",
    "for freq, feat, R_meth in product(freqs,feats,Rs):\n",
    "    subjs = subjects if freq != 'l_theta' else np.setdiff1d(subjects,['CHAF'])\n",
    "    for roi in rois:\n",
    "        df_sig = pd.DataFrame()\n",
    "        for su in subjs:\n",
    "            df_d = pd.read_csv(csvname.format(su,freq,R_meth))\n",
    "            df_s = df_d.loc[df_d['labels']==roi]\n",
    "            df_s['p_corr'] = fdr_correction(df_s['p_'+feat])[1]\n",
    "            df_s = df_s.loc[df_s['p_'+feat]<0.05]\n",
    "            \n",
    "            if df_s.shape[0] > 1:\n",
    "                df_s = df_s[['subj','labels','new_lab','channels',\n",
    "                         'x','y','z','sim_'+feat,'p_'+feat]]\n",
    "                df_sig = df_sig.append(df_s)\n",
    "        \n",
    "        if (df_sig.shape[0]>1):\n",
    "            df_sig_neg = df_sig.loc[df_sig['sim_'+feat]<0]\n",
    "            df_sig_pos = df_sig.loc[df_sig['sim_'+feat]>0]\n",
    "            if (df_sig.groupby(['subj']).count().shape[0]>=2):\n",
    "                print(freq,feat,roi,df_sig)\n",
    "                df_sig.to_csv(savename.format(freq,roi,feat,R_meth))\n",
    "                if df_sig_pos.groupby(['subj']).count().shape[0] >= 3:\n",
    "                    print('processing',freq,feat,R_meth,roi)\n",
    "                    print('nb elecs sig tot ', df_sig.shape[0])\n",
    "                    print('nb elecs sig pos ', df_sig_pos.shape[0])\n",
    "                    print('nb of sub sig pos', df_sig_pos.groupby(['subj']).count().shape[0])\n",
    "                    print(df_sig_pos)\n",
    "                if df_sig_neg.groupby(['subj']).count().shape[0] >= 3:\n",
    "                    print('nb elecs sig neg ', df_sig_neg.shape[0])\n",
    "                    print(freq,feat,roi,'nb of sub sig neg', df_sig_neg.groupby(['subj']).count().shape[0])\n",
    "                    print(df_sig_neg)\n",
    "                    print((''))\n"
   ]
  },
  {
   "cell_type": "code",
   "execution_count": null,
   "metadata": {},
   "outputs": [],
   "source": []
  }
 ],
 "metadata": {
  "kernelspec": {
   "display_name": "Python 3",
   "language": "python",
   "name": "python3"
  },
  "language_info": {
   "codemirror_mode": {
    "name": "ipython",
    "version": 3
   },
   "file_extension": ".py",
   "mimetype": "text/x-python",
   "name": "python",
   "nbconvert_exporter": "python",
   "pygments_lexer": "ipython3",
   "version": "3.6.1"
  }
 },
 "nbformat": 4,
 "nbformat_minor": 2
}
