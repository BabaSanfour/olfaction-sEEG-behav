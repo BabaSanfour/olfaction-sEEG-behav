{
 "cells": [
  {
   "cell_type": "code",
   "execution_count": 1,
   "metadata": {},
   "outputs": [],
   "source": [
    "from os import path\n",
    "import numpy as np\n",
    "import matplotlib.pyplot as plt\n",
    "\n",
    "from itertools import product\n",
    "from tensorpac import Pac\n",
    "\n",
    "from brainpipe.system import study\n",
    "from brainpipe.feature import pac\n",
    "from brainpipe.visual import *\n",
    "from brainpipe.feat.utils._feat import _manageWindow\n",
    "\n",
    "plt.style.use('seaborn-poster')"
   ]
  },
  {
   "cell_type": "markdown",
   "metadata": {},
   "source": [
    "### Compute and Plot PAC values \n",
    "    Low frequency phases and large broad band gamma amplitude"
   ]
  },
  {
   "cell_type": "code",
   "execution_count": 2,
   "metadata": {},
   "outputs": [
    {
     "name": "stdout",
     "output_type": "stream",
     "text": [
      "-> Olfacto loaded\n"
     ]
    }
   ],
   "source": [
    "st = study('Olfacto')\n",
    "Test = False\n",
    "if Test == True:\n",
    "    subjects = ['FERJ']\n",
    "    conds = {'subj':('LowHigh',['low','high'])}\n",
    "else:\n",
    "    subjects = ['FERJ','MICP','VACJ','SEMC','LEFC','PIRJ','CHAF']\n",
    "    conds = {'subj':('LowHigh',['low','high'])}"
   ]
  },
  {
   "cell_type": "code",
   "execution_count": 13,
   "metadata": {
    "scrolled": true
   },
   "outputs": [
    {
     "name": "stdout",
     "output_type": "stream",
     "text": [
      "['x', 'Mai_RL', 'labels', 'BA', 'xyz', 'aal', 'sf', 'channels', 'Mai']\n",
      "(85, 3584, 17)\n",
      "--> compute pac on :  FERJ_odor_low_bipo_sel_physFT.npz data (85, 3584, 17) npts 3584 ntrials 17 nelec 85\n",
      "[-2.65039062 -2.55078125 -2.45117188 -2.3515625  -2.25195312 -2.15234375\n",
      " -2.05273438 -1.953125   -1.85351562 -1.75390625 -1.65429688 -1.5546875\n",
      " -1.45507812 -1.35546875 -1.25585938 -1.15625    -1.05664062 -0.95703125\n",
      " -0.85742188 -0.7578125  -0.65820312 -0.55859375 -0.45898438 -0.359375\n",
      " -0.25976562 -0.16015625 -0.06054688  0.0390625   0.13867188  0.23828125\n",
      "  0.33789062  0.4375      0.53710938  0.63671875  0.73632812  0.8359375\n",
      "  0.93554688  1.03515625  1.13476562  1.234375    1.33398438  1.43359375\n",
      "  1.53320312  1.6328125   1.73242188  1.83203125  1.93164062  2.03125\n",
      "  2.13085938  2.23046875  2.33007812  2.4296875   2.52929688  2.62890625\n",
      "  2.72851562  2.828125    2.92773438  3.02734375  3.12695312  3.2265625\n",
      "  3.32617188  3.42578125  3.52539062  3.625     ] [ 0.0390625   0.13867188  0.23828125  0.33789062  0.4375      0.53710938\n",
      "  0.63671875  0.73632812  0.8359375   0.93554688  1.03515625  1.13476562\n",
      "  1.234375    1.33398438  1.43359375  1.53320312  1.6328125   1.73242188\n",
      "  1.83203125  1.93164062]\n"
     ]
    },
    {
     "ename": "ZeroDivisionError",
     "evalue": "division by zero",
     "output_type": "error",
     "traceback": [
      "\u001b[0;31m---------------------------------------------------------------------------\u001b[0m",
      "\u001b[0;31mZeroDivisionError\u001b[0m                         Traceback (most recent call last)",
      "\u001b[0;32m<ipython-input-13-f1a22f95f8ea>\u001b[0m in \u001b[0;36m<module>\u001b[0;34m()\u001b[0m\n\u001b[1;32m     26\u001b[0m         \u001b[0mtime\u001b[0m \u001b[0;34m=\u001b[0m \u001b[0;34m(\u001b[0m\u001b[0mnp\u001b[0m\u001b[0;34m.\u001b[0m\u001b[0marray\u001b[0m\u001b[0;34m(\u001b[0m\u001b[0mtime\u001b[0m\u001b[0;34m)\u001b[0m \u001b[0;34m/\u001b[0m \u001b[0;36m512\u001b[0m\u001b[0;34m)\u001b[0m \u001b[0;34m-\u001b[0m \u001b[0;36m3\u001b[0m\u001b[0;34m\u001b[0m\u001b[0m\n\u001b[1;32m     27\u001b[0m         \u001b[0mprint\u001b[0m\u001b[0;34m(\u001b[0m\u001b[0mtime\u001b[0m\u001b[0;34m,\u001b[0m \u001b[0mtime\u001b[0m\u001b[0;34m[\u001b[0m\u001b[0;36m27\u001b[0m\u001b[0;34m:\u001b[0m\u001b[0;36m47\u001b[0m\u001b[0;34m]\u001b[0m\u001b[0;34m)\u001b[0m\u001b[0;34m\u001b[0m\u001b[0m\n\u001b[0;32m---> 28\u001b[0;31m         \u001b[0;36m0\u001b[0m\u001b[0;34m/\u001b[0m\u001b[0;36m0\u001b[0m\u001b[0;34m\u001b[0m\u001b[0m\n\u001b[0m\u001b[1;32m     29\u001b[0m         \u001b[0;31m#Compute pac, using the MVL method with surrogates and normalization (z-score)\u001b[0m\u001b[0;34m\u001b[0m\u001b[0;34m\u001b[0m\u001b[0m\n\u001b[1;32m     30\u001b[0m         p = pac(sf, npts, Id='114', pha_f=fpha, pha_meth='hilbert', pha_cycle=3, \n",
      "\u001b[0;31mZeroDivisionError\u001b[0m: division by zero"
     ]
    }
   ],
   "source": [
    "from brainpipe.feat.utils._feat import _manageWindow\n",
    "\n",
    "for su, cond in product(subjects[:], sorted(conds)):\n",
    "    pathdata = path.join(st.path,'database/Encoding_EpiPerf_LowHigh/')\n",
    "    path2save = path.join(st.path,'feature/2_PAC_Encoding_EpiPerf_LowHigh/')\n",
    "    # Define phase settings \n",
    "    fpha = [[3,7], [8,13]]\n",
    "    famp = [[30,120]]\n",
    "    fname = ['theta', 'alpha']\n",
    "    \n",
    "    for c in conds[cond][1]:\n",
    "        # Load file :\n",
    "        fi = su+'_odor_'+c+'_bipo_sel_physFT.npz'\n",
    "        loadname = pathdata+fi\n",
    "#         if path.exists(path2save+fi.replace('.npz','_pac.npz')):\n",
    "#             print(fi.replace('.npz','_pac.npz'),' already computed')\n",
    "#         else:\n",
    "        mat = np.load(loadname)\n",
    "        print(mat.files)\n",
    "        data = mat['x']\n",
    "        print(data.shape)\n",
    "        n_elec, npts, n_trials = data.shape\n",
    "        sf, width, step = 512.,358, 51\n",
    "        print ('--> compute pac on : ', fi, 'data', data.shape, 'npts', npts, 'ntrials',n_trials, 'nelec', n_elec)              \n",
    "        _, time = _manageWindow(data.shape[1], width=width, step=step)\n",
    "        time = (np.array(time) / 512) - 3\n",
    "        print(time, time[27:47])\n",
    "        0/0\n",
    "        #Compute pac, using the MVL method with surrogates and normalization (z-score)\n",
    "        p = pac(sf, npts, Id='114', pha_f=fpha, pha_meth='hilbert', pha_cycle=3, \n",
    "                amp_f=famp,amp_meth='hilbert', amp_cycle=6, nbins=18, width=width,\n",
    "                step=step,filtname='fir1')\n",
    "        kwargs = {}\n",
    "        kwargs['f'], kwargs['fname'], kwargs['famp'] = fpha, fname, famp\n",
    "        kwargs['s_aal'], kwargs['s_BA'] = mat['aal'], mat['BA']\n",
    "        kwargs['Mai_RL'], kwargs['channels'], kwargs['xyz'] = mat['Mai_RL'], mat['channels'], mat['xyz']\n",
    "        xpac, _ = p.get(data,data,n_jobs=5) #(n_amplitude x n_phase x n_electrodes x n_windows x n_trials)\n",
    "        kwargs['pac'] = np.squeeze(xpac)\n",
    "        save_phase = path2save+fi.replace('.npz', '_pac.npz')\n",
    "        np.savez(save_phase, **kwargs)\n",
    "\n",
    "        del kwargs, data,xpac, sf, n_elec, n_trials"
   ]
  },
  {
   "cell_type": "markdown",
   "metadata": {},
   "source": [
    "### Plot ST PAC values for all frequencies"
   ]
  },
  {
   "cell_type": "code",
   "execution_count": 5,
   "metadata": {},
   "outputs": [],
   "source": [
    "pathdata = path.join(st.path,'feature/2_PAC_Encoding_EpiPerf_LowHigh/')\n",
    "path2save = path.join(pathdata,'ST_PAC_plots/')\n",
    "\n",
    "files = st.search('_pac.npz', folder=pathdata)\n",
    "for fi in files:\n",
    "    loadname = path.join(pathdata,fi)\n",
    "    mat = np.load(loadname)\n",
    "    xpac = mat['pac']\n",
    "    n_elec, su = xpac.shape[1], fi[:4]\n",
    "    for elec in range(n_elec):\n",
    "        label = mat['Mai_RL'][elec]\n",
    "        pac_elec = np.squeeze(xpac)[:,elec,:,:].swapaxes(0,2) #ntrials,n_pts,n_phase\n",
    "        pac_elec = np.squeeze(np.mean(pac_elec,axis=1)) #mean pac value across time\n",
    "        fig = plt.figure()\n",
    "        plt.imshow(pac_elec, cmap='plasma',interpolation='none', origin ='lower', \n",
    "                   aspect='auto', vmin=0, vmax=2)\n",
    "        plt.title(su+' PAC - '+fi[10:14]+' Memory '+label+ ' elec('+str(elec)+')')\n",
    "        plt.xticks(np.arange(pac_elec.shape[1]),('theta','alpha'))\n",
    "        plt.ylabel('Trials')\n",
    "        plt.xlabel('Frequency for phase (Hz)')\n",
    "        cb = plt.colorbar(ticks=[0,1,2],label='PAC')\n",
    "        filename = fi.replace('sel_physFT_pac.npz',label+'_'+str(elec)+'_ST_pac.png')\n",
    "        plt.savefig(path2save+filename)\n",
    "        plt.tight_layout()\n",
    "        plt.clf()\n",
    "        plt.close()"
   ]
  },
  {
   "cell_type": "code",
   "execution_count": null,
   "metadata": {
    "collapsed": true
   },
   "outputs": [],
   "source": []
  }
 ],
 "metadata": {
  "anaconda-cloud": {},
  "kernelspec": {
   "display_name": "Python [conda root]",
   "language": "python",
   "name": "conda-root-py"
  },
  "language_info": {
   "codemirror_mode": {
    "name": "ipython",
    "version": 3
   },
   "file_extension": ".py",
   "mimetype": "text/x-python",
   "name": "python",
   "nbconvert_exporter": "python",
   "pygments_lexer": "ipython3",
   "version": "3.5.5"
  }
 },
 "nbformat": 4,
 "nbformat_minor": 2
}
