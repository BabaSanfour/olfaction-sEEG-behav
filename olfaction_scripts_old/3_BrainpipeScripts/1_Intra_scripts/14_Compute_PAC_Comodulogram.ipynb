{
 "cells": [
  {
   "cell_type": "code",
   "execution_count": null,
   "metadata": {},
   "outputs": [],
   "source": [
    "from os import path\n",
    "import numpy as np\n",
    "import matplotlib.pyplot as plt\n",
    "from brainpipe.system import study\n",
    "from itertools import product\n",
    "from tensorpac import Pac\n",
    "from brainpipe.feat.utils._feat import _manageWindow\n",
    "\n",
    "plt.style.use('seaborn-poster')"
   ]
  },
  {
   "cell_type": "markdown",
   "metadata": {},
   "source": [
    "### Compute and Plot PAC values \n",
    "    Low frequency phases and large broad band gamma amplitude"
   ]
  },
  {
   "cell_type": "code",
   "execution_count": null,
   "metadata": {},
   "outputs": [],
   "source": [
    "st = study('Olfacto')\n",
    "Test = False\n",
    "if Test == True:\n",
    "    subjects = ['FERJ']\n",
    "    conds = {'subj':('LowHigh',['low','high'])}\n",
    "else:\n",
    "    subjects = ['FERJ','MICP','VACJ','SEMC','LEFC','PIRJ','CHAF']\n",
    "    conds = {'subj':('LowHigh',['low','high'])}"
   ]
  },
  {
   "cell_type": "markdown",
   "metadata": {},
   "source": [
    "### Compare different PAC methods and normalization"
   ]
  },
  {
   "cell_type": "code",
   "execution_count": null,
   "metadata": {
    "scrolled": false
   },
   "outputs": [],
   "source": [
    "for su, cond in product(subjects[:], sorted(conds)):\n",
    "    pathdata = path.join(st.path,'database/Encoding_EpiPerf_'+conds[cond][0]+'/')\n",
    "    path2save = path.join(st.path,'feature/2_PAC_Encoding_EpiPerf_'+conds[cond][0]+'/')\n",
    "    \n",
    "    for c in conds[cond][1]:\n",
    "        fi = su+'_odor_'+c+'_bipo_sel_physFT.npz'\n",
    "        loadname = pathdata+fi\n",
    "        if path.isfile(loadname):\n",
    "            data = np.load(loadname)\n",
    "            data = data['x'][:,:2304,:].swapaxes(1,2)\n",
    "            n_elec, n_trials, npts = data.shape\n",
    "            sf, famp = 512., (13,120,2,1)\n",
    "            fpha = (0.1,13,1,.2)\n",
    "            print ('--> compute pac on : ', fi, 'data', data.shape, 'npts', npts, 'ntrials',n_trials, 'nelec', n_elec)              \n",
    "            \n",
    "            for elec in range(n_elec):\n",
    "                data_elec = data[elec,:,:]\n",
    "                print(data_elec.shape)\n",
    "                p = Pac(fpha=fpha, famp=famp, filt='fir1', cycle=(3,6),dcomplex='hilbert')\n",
    "                phases = p.filter(sf, data_elec, axis=1, ftype='phase')\n",
    "                amplitudes = p.filter(sf, data_elec, axis=1, ftype='amplitude')\n",
    "                print(phases.shape, amplitudes.shape)\n",
    "                \n",
    "                plt.figure(figsize=(22, 22))\n",
    "                for i,k in enumerate(range(5)):\n",
    "                    # Change the pac method :\n",
    "                    p.idpac = (1, 1, k)\n",
    "                    print('-> Normalization using ' + p.norm)\n",
    "                    #print('-> PAC using ' + str(p))\n",
    "                    # Compute only the PAC without filtering :\n",
    "                    xpac = p.fit(phases, amplitudes, axis=2, nperm=100)\n",
    "                    # Plot :\n",
    "                    title = p.method + '\\n' + p.surro + '\\n' + p.norm\n",
    "                    plt.subplot(4, 3, k+1)\n",
    "                    p.comodulogram(xpac.mean(-1), title=title, cmap='Spectral_r')\n",
    "                for i,j in enumerate(range(7,12,1)):\n",
    "                    print(i,j)\n",
    "                    plt.subplot(4,3,j)\n",
    "                    p.idpac = (1, 1, i)\n",
    "                    xpac_corr = p.filterfit(sf, data_elec, data_elec, axis=1)\n",
    "                    title = p.method + '\\n' + p.surro + '\\n' + p.norm\n",
    "                    p.comodulogram(xpac_corr.mean(-1), title=title, cmap='Spectral_r')\n",
    "                plt.tight_layout()\n",
    "                plt.show()\n",
    "                0/0"
   ]
  },
  {
   "cell_type": "markdown",
   "metadata": {},
   "source": [
    "### Compute and plot comodulograms"
   ]
  },
  {
   "cell_type": "code",
   "execution_count": null,
   "metadata": {
    "scrolled": true
   },
   "outputs": [],
   "source": [
    "for su, cond in product(subjects[:], sorted(conds)):\n",
    "    pathdata = path.join(st.path,'database/Encoding_EpiPerf_'+conds[cond][0]+'/')\n",
    "    path2save = path.join(st.path,'feature/2_PAC_Encoding_EpiPerf_'+conds[cond][0]+'/Comodulograms/')\n",
    "    \n",
    "    for c in conds[cond][1]:\n",
    "        fi = su+'_odor_'+c+'_bipo_sel_physFT.npz'\n",
    "        loadname = pathdata+fi\n",
    "        if path.isfile(loadname):\n",
    "            data = np.load(loadname)\n",
    "            data,labels = data['x'][:,768:2816,:].swapaxes(1,2), data['Mai_RL']\n",
    "            n_elec, n_trials, npts = data.shape\n",
    "            sf, famp = 512., (13,120,3,1)\n",
    "            fpha = (0.1,13,1,.2)\n",
    "            print ('--> compute pac on : ', fi, 'data', data.shape, 'npts', npts, 'ntrials',n_trials, 'nelec', n_elec)              \n",
    "            \n",
    "            for elec in range(n_elec):\n",
    "                data_elec = data[elec,:,:]\n",
    "                #print(data_elec.shape)\n",
    "                p = Pac(idpac=(1, 1, 4),fpha=fpha, famp=famp, filt='fir1', cycle=(3,6),dcomplex='hilbert')\n",
    "                               \n",
    "                plt.figure(figsize=(12,9))\n",
    "                xpac_corr = p.filterfit(sf, data_elec, data_elec, axis=1)\n",
    "                title = 'PAC - '+c.capitalize()+ ' Memory - '+ labels[elec]\n",
    "                p.comodulogram(xpac_corr.mean(-1), title=title, plotas='imshow', \n",
    "                               cmap='plasma', vmin=0, interp=(.1,.1), vmax=0.7)\n",
    "                filename = su+'_PAC_'+str(elec)+'_'+labels[elec]+'_'+c+'.png'\n",
    "                plt.tight_layout()\n",
    "                plt.savefig(path2save+filename)\n",
    "                plt.clf()\n",
    "                plt.close()"
   ]
  },
  {
   "cell_type": "code",
   "execution_count": null,
   "metadata": {},
   "outputs": [],
   "source": []
  }
 ],
 "metadata": {
  "anaconda-cloud": {},
  "kernelspec": {
   "display_name": "Python [conda root]",
   "language": "python",
   "name": "conda-root-py"
  },
  "language_info": {
   "codemirror_mode": {
    "name": "ipython",
    "version": 3
   },
   "file_extension": ".py",
   "mimetype": "text/x-python",
   "name": "python",
   "nbconvert_exporter": "python",
   "pygments_lexer": "ipython3",
   "version": "3.5.5"
  }
 },
 "nbformat": 4,
 "nbformat_minor": 1
}
