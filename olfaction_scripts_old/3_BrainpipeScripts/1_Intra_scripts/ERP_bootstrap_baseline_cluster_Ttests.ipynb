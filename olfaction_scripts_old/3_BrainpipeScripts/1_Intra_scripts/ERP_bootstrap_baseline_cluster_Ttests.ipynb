{
 "cells": [
  {
   "cell_type": "code",
   "execution_count": 4,
   "metadata": {},
   "outputs": [],
   "source": [
    "import numpy as np\n",
    "import pandas as pd\n",
    "import matplotlib.pyplot as plt\n",
    "import scikits.bootstrap as boot\n",
    "from os import path, makedirs\n",
    "from matplotlib.ticker import ScalarFormatter, MaxNLocator\n",
    "\n",
    "from brainpipe.system import study\n",
    "from brainpipe.visual import *\n",
    "from brainpipe.statistics import *\n",
    "from mne.baseline import rescale\n",
    "from mne.filter import filter_data, resample\n",
    "from scipy.stats import *\n",
    "import glob"
   ]
  },
  {
   "cell_type": "code",
   "execution_count": 5,
   "metadata": {},
   "outputs": [],
   "source": [
    "# ANALYSIS PARAMETERS\n",
    "low_pass_filter = 10.\n",
    "sf = 512.\n",
    "norm_mode = 'mean' #'ratio' 'mean' 'percent' \n",
    "bsl = (1485,1536) #(922,1024) #-200 to 0ms before odor perception\n",
    "data_to_use = [1485, 1895] #-200 to 2000ms after odor\n",
    "time_points = data_to_use[1]-data_to_use[0]\n",
    "n_rep = 100 #bootstrap\n",
    "alpha = 0.05\n",
    "resamp = 5.12"
   ]
  },
  {
   "cell_type": "code",
   "execution_count": 49,
   "metadata": {
    "scrolled": false
   },
   "outputs": [
    {
     "name": "stdout",
     "output_type": "stream",
     "text": [
      "-> Olfacto loaded\n",
      "Applying baseline correction (mode: mean)\n",
      "Applying baseline correction (mode: mean)\n",
      "(34, 3584) (21, 3584)\n",
      "data bad, good (100, 3584) (2100, 3584)\n",
      "(3584,) (3584,)\n",
      "Setting up low-pass filter at 10 Hz\n",
      "h_trans_bandwidth chosen to be 2.5 Hz\n",
      "Filter length of 677 samples (1.322 sec) selected\n",
      "Setting up low-pass filter at 10 Hz\n",
      "h_trans_bandwidth chosen to be 2.5 Hz\n",
      "Filter length of 677 samples (1.322 sec) selected\n",
      "LEFC olf low norm shape (1, 110) high norm shape (1, 110)\n",
      "time plots (110,)\n",
      "Applying baseline correction (mode: mean)\n",
      "Applying baseline correction (mode: mean)\n",
      "(14, 3584) (11, 3584)\n",
      "data bad, good (100, 3584) (1100, 3584)\n",
      "(3584,) (3584,)\n",
      "Setting up low-pass filter at 10 Hz\n",
      "h_trans_bandwidth chosen to be 2.5 Hz\n",
      "Filter length of 677 samples (1.322 sec) selected\n",
      "Setting up low-pass filter at 10 Hz\n",
      "h_trans_bandwidth chosen to be 2.5 Hz\n",
      "Filter length of 677 samples (1.322 sec) selected\n",
      "PIRJ olf low norm shape (1, 110) high norm shape (1, 110)\n",
      "time plots (110,)\n"
     ]
    }
   ],
   "source": [
    "st = study('Olfacto')\n",
    "\n",
    "exp, pval, freq = 'Encoding', '0.01', 'theta'\n",
    "conds = ['low','high']\n",
    "\n",
    "data_path = path.join(st.path, 'database/{}_EpiPerf_LowHigh/')\n",
    "dataname = path.join(data_path, '{}_odor_{}_common_renamed_OFC_HC.npz')\n",
    "\n",
    "df_path = path.join(st.path, 'figure/TPSim_LDA_{}_by_cond_6freqs_3s_dissim/')\n",
    "savename = path.join(df_path, 'ERPs_{}/ERP_{}_{}_elec({})_boot'+str(n_rep)+'_3s.png')\n",
    "savename2 = path.join(df_path, 'ERPs_{}/ERP_{}_{}_elec({})_boot'+str(n_rep)+'_3s.pdf')\n",
    "\n",
    "if not path.exists(df_path.format(exp[0])+'ERPs_{}'.format(pval)):\n",
    "    makedirs(df_path.format(exp[0])+'ERPs_{}'.format(pval))\n",
    "    \n",
    "files = glob.glob(df_path.format(exp[0])+'npy_figs/'+freq+'*'+pval+'_tps.csv')\n",
    "\n",
    "for fi in files:\n",
    "    lab = fi.split('_')[-4]\n",
    "    df = pd.read_csv(fi)\n",
    "    subjects, channels = df['subjects'], df['channels']\n",
    "\n",
    "    for su,chan in zip(subjects, channels):\n",
    "        mat0 = np.load(dataname.format(exp,su,conds[0]),allow_pickle=True)\n",
    "        mat1 = np.load(dataname.format(exp,su,conds[1]),allow_pickle=True)\n",
    "        # 3584 points >> 7s from -3 to +4s\n",
    "        data0, data1 = mat0['x'], mat1['x']\n",
    "        labels, mat_chans = mat0['labels'], mat0['channels']\n",
    "        idx = [i for i,c in enumerate(mat_chans) if c==chan][0]\n",
    "\n",
    "        x0, x1 = data0[idx].swapaxes(0,1), data1[idx].swapaxes(0,1)\n",
    "\n",
    "        time = np.arange(x0.shape[1])\n",
    "        norm_x0 = rescale(x0, times=time, baseline=bsl, mode=norm_mode)\n",
    "        norm_x1 = rescale(x1, times=time, baseline=bsl, mode=norm_mode)\n",
    "        print(norm_x0.shape, norm_x1.shape)\n",
    "\n",
    "        data0_rep, data1_rep = np.array([]), np.array([])\n",
    "        for i in range(n_rep):\n",
    "            if norm_x0.shape[0] > norm_x1.shape[0]:\n",
    "                data0_sel = np.mean(norm_x0[np.random.randint(norm_x0.shape[0],\n",
    "                                            size=norm_x1.shape[0]), :], axis=0)\n",
    "                data1_sel = norm_x1\n",
    "            if norm_x0.shape[0] < norm_x1.shape[0]:\n",
    "                data0_sel = norm_x0\n",
    "                data1_sel = np.mean(norm_x1[np.random.randint(norm_x1.shape[0], \n",
    "                                            size=norm_x0.shape[0]), :], axis=0)\n",
    "            elif norm_x0.shape[0] == norm_x1.shape[0]:\n",
    "                data0_sel, data1_sel = norm_x0, norm_x1\n",
    "            data0_rep = np.vstack((data0_rep, data0_sel)) if np.size(data0_rep) else data0_sel\n",
    "            data1_rep = np.vstack((data1_rep, data1_sel)) if np.size(data1_rep) else data1_sel\n",
    "        print('data bad, good',data0_rep.shape, data1_rep.shape)\n",
    "\n",
    "        mean_x0, mean_x1 = np.mean(data0_rep,axis=0),np.mean(data1_rep,axis=0)\n",
    "        print(mean_x0.shape, mean_x1.shape)\n",
    "        mean_x0, mean_x1 = np.array(mean_x0, dtype='float64'), np.array(mean_x1, dtype='float64')\n",
    "\n",
    "        filt_x0 = filter_data(mean_x0, sfreq=sf, l_freq=None, h_freq=low_pass_filter, \n",
    "                                                  method='fir', phase='zero-double')\n",
    "        filt_x1 = filter_data(mean_x1, sfreq=sf, l_freq=None, h_freq=low_pass_filter, \n",
    "                                                  method='fir', phase='zero-double')\n",
    "        final_x0 = filt_x0[data_to_use[0]:data_to_use[1]][np.newaxis]\n",
    "        final_x1 = filt_x1[data_to_use[0]:data_to_use[1]][np.newaxis]\n",
    "        final_x0, final_x1 = resample(final_x0,down=resamp), resample(final_x1,down=resamp)\n",
    "        print(su, lab, 'low norm shape', final_x0.shape, 'high norm shape', \n",
    "              final_x1.shape)\n",
    "\n",
    "        # ========================== PREPARE PLOTS AND SAVE STATS =========================================\n",
    "        # plot and figure parameters\n",
    "        xfmt = ScalarFormatter(useMathText=True)\n",
    "        xfmt.set_powerlimits((0,3))\n",
    "        fig = plt.figure(1,figsize=(9,6))\n",
    "        title = 'ERP and Stats for {} High/Low in {}'.format(su,lab)\n",
    "        fig.suptitle(title, fontsize=12)\n",
    "        times_plot = np.arange(-100,1000,10)\n",
    "        print('time plots', times_plot.shape)\n",
    "        # Plot the ERPs and the stats\n",
    "        data_all = np.concatenate((final_x0, final_x1), axis=0)\n",
    "        y = np.array([0]+[1])\n",
    "        data_plot = norm_x1[:,data_to_use[0]:data_to_use[1]].swapaxes(0,1)\n",
    "        #plt.plot(times_plot, data_plot)\n",
    "        BorderPlot(times_plot, data_all, y=y, kind='sd', alpha=0.2, color=['cornflowerblue','b'], \n",
    "                   linewidth=2, ncol=1, xlabel='Time (ms)',ylabel = r' $\\mu$V', \n",
    "                   legend = ['Low', 'High'])\n",
    "        addLines(plt.gca(), vLines=[0], vColor=['r'], vWidth=[2], hLines=[0], \n",
    "                 hColor=['#000000'], hWidth=[2])\n",
    "        rmaxis(plt.gca(), ['right', 'top'])\n",
    "        plt.legend(loc=0, handletextpad=0.1, frameon=False)\n",
    "        plt.gca().yaxis.set_major_locator(MaxNLocator(3,integer=True))\n",
    "        plt.savefig(savename.format(exp[0],pval,su,lab,chan), dpi=300, bbox_inches='tight')\n",
    "        plt.savefig(savename2.format(exp[0],pval,su,lab,chan), dpi=300, bbox_inches='tight')\n",
    "        plt.clf()\n",
    "        plt.close()\n",
    "        "
   ]
  },
  {
   "cell_type": "code",
   "execution_count": 56,
   "metadata": {},
   "outputs": [
    {
     "name": "stdout",
     "output_type": "stream",
     "text": [
      "-> Olfacto loaded\n",
      "Applying baseline correction (mode: mean)\n",
      "Setting up low-pass filter at 10 Hz\n",
      "h_trans_bandwidth chosen to be 2.5 Hz\n",
      "Filter length of 677 samples (1.322 sec) selected\n",
      "FERJ IFG All data norm shape (1, 110)\n",
      "time plots (110,)\n",
      "Applying baseline correction (mode: mean)\n",
      "Setting up low-pass filter at 10 Hz\n",
      "h_trans_bandwidth chosen to be 2.5 Hz\n",
      "Filter length of 677 samples (1.322 sec) selected\n",
      "PIRJ IFG All data norm shape (1, 110)\n",
      "time plots (110,)\n",
      "Applying baseline correction (mode: mean)\n",
      "Setting up low-pass filter at 10 Hz\n",
      "h_trans_bandwidth chosen to be 2.5 Hz\n",
      "Filter length of 677 samples (1.322 sec) selected\n",
      "PIRJ IFG All data norm shape (1, 110)\n",
      "time plots (110,)\n",
      "Applying baseline correction (mode: mean)\n",
      "Setting up low-pass filter at 10 Hz\n",
      "h_trans_bandwidth chosen to be 2.5 Hz\n",
      "Filter length of 677 samples (1.322 sec) selected\n",
      "SEMC IFG All data norm shape (1, 110)\n",
      "time plots (110,)\n",
      "Applying baseline correction (mode: mean)\n",
      "Setting up low-pass filter at 10 Hz\n",
      "h_trans_bandwidth chosen to be 2.5 Hz\n",
      "Filter length of 677 samples (1.322 sec) selected\n",
      "VACJ IFG All data norm shape (1, 110)\n",
      "time plots (110,)\n",
      "Applying baseline correction (mode: mean)\n",
      "Setting up low-pass filter at 10 Hz\n",
      "h_trans_bandwidth chosen to be 2.5 Hz\n",
      "Filter length of 677 samples (1.322 sec) selected\n",
      "VACJ IFG All data norm shape (1, 110)\n",
      "time plots (110,)\n",
      "Applying baseline correction (mode: mean)\n",
      "Setting up low-pass filter at 10 Hz\n",
      "h_trans_bandwidth chosen to be 2.5 Hz\n",
      "Filter length of 677 samples (1.322 sec) selected\n",
      "LEFC MFG All data norm shape (1, 110)\n",
      "time plots (110,)\n",
      "Applying baseline correction (mode: mean)\n",
      "Setting up low-pass filter at 10 Hz\n",
      "h_trans_bandwidth chosen to be 2.5 Hz\n",
      "Filter length of 677 samples (1.322 sec) selected\n",
      "SEMC MFG All data norm shape (1, 110)\n",
      "time plots (110,)\n",
      "Applying baseline correction (mode: mean)\n",
      "Setting up low-pass filter at 10 Hz\n",
      "h_trans_bandwidth chosen to be 2.5 Hz\n",
      "Filter length of 677 samples (1.322 sec) selected\n",
      "SEMC MFG All data norm shape (1, 110)\n",
      "time plots (110,)\n",
      "Applying baseline correction (mode: mean)\n",
      "Setting up low-pass filter at 10 Hz\n",
      "h_trans_bandwidth chosen to be 2.5 Hz\n",
      "Filter length of 677 samples (1.322 sec) selected\n",
      "SEMC MFG All data norm shape (1, 110)\n",
      "time plots (110,)\n",
      "Applying baseline correction (mode: mean)\n",
      "Setting up low-pass filter at 10 Hz\n",
      "h_trans_bandwidth chosen to be 2.5 Hz\n",
      "Filter length of 677 samples (1.322 sec) selected\n",
      "VACJ MFG All data norm shape (1, 110)\n",
      "time plots (110,)\n",
      "Applying baseline correction (mode: mean)\n",
      "Setting up low-pass filter at 10 Hz\n",
      "h_trans_bandwidth chosen to be 2.5 Hz\n",
      "Filter length of 677 samples (1.322 sec) selected\n",
      "FERJ pPirT All data norm shape (1, 110)\n",
      "time plots (110,)\n",
      "Applying baseline correction (mode: mean)\n",
      "Setting up low-pass filter at 10 Hz\n",
      "h_trans_bandwidth chosen to be 2.5 Hz\n",
      "Filter length of 677 samples (1.322 sec) selected\n",
      "FERJ pPirT All data norm shape (1, 110)\n",
      "time plots (110,)\n",
      "Applying baseline correction (mode: mean)\n",
      "Setting up low-pass filter at 10 Hz\n",
      "h_trans_bandwidth chosen to be 2.5 Hz\n",
      "Filter length of 677 samples (1.322 sec) selected\n",
      "VACJ pPirT All data norm shape (1, 110)\n",
      "time plots (110,)\n"
     ]
    }
   ],
   "source": [
    "\"\"\"\n",
    "Plot ERP combining Rich and Poor together\n",
    "\"\"\"\n",
    "st = study('Olfacto')\n",
    "\n",
    "exp, pval, freq = 'Retrieval', '0.01', 'theta'\n",
    "conds = ['low','high']\n",
    "\n",
    "data_path = path.join(st.path, 'database/{}_EpiPerf_LowHigh/')\n",
    "dataname = path.join(data_path, '{}_odor_{}_common_renamed_OFC_HC.npz')\n",
    "\n",
    "df_path = path.join(st.path, 'figure/TPSim_LDA_{}_by_cond_6freqs_3s_dissim/')\n",
    "savename = path.join(df_path, 'ERPs_{}/ERP_{}_{}_elec({})_all_3s.png')\n",
    "savename2 = path.join(df_path, 'ERPs_{}/ERP_{}_{}_elec({})_all_3s.pdf')\n",
    "\n",
    "if not path.exists(df_path.format(exp[0])+'ERPs_{}'.format(pval)):\n",
    "    makedirs(df_path.format(exp[0])+'ERPs_{}'.format(pval))\n",
    "    \n",
    "files = glob.glob(df_path.format(exp[0])+'npy_figs/'+freq+'*'+pval+'_tps.csv')\n",
    "\n",
    "for fi in files:\n",
    "    lab = fi.split('_')[-4]\n",
    "    df = pd.read_csv(fi)\n",
    "    subjects, channels = df['subjects'], df['channels']\n",
    "\n",
    "    for su,chan in zip(subjects, channels):\n",
    "        mat0 = np.load(dataname.format(exp,su,conds[0]),allow_pickle=True)\n",
    "        mat1 = np.load(dataname.format(exp,su,conds[1]),allow_pickle=True)\n",
    "        # 3584 points >> 7s from -3 to +4s\n",
    "        data0, data1 = mat0['x'], mat1['x']\n",
    "        data = np.concatenate((data0,data1), axis=-1)\n",
    "        labels, mat_chans = mat0['labels'], mat0['channels']\n",
    "        idx = [i for i,c in enumerate(mat_chans) if c==chan][0]\n",
    "\n",
    "        X = data[idx].swapaxes(0,1)\n",
    "        time = np.arange(X.shape[1])\n",
    "        norm_x0 = rescale(X, times=time, baseline=bsl, mode=norm_mode)\n",
    "        mean_x0 = np.mean(norm_x0,axis=0)\n",
    "        mean_x0 = np.array(mean_x0, dtype='float64')\n",
    "\n",
    "        filt_x0 = filter_data(mean_x0, sfreq=sf, l_freq=None, h_freq=low_pass_filter, \n",
    "                                                  method='fir', phase='zero-double')\n",
    "        final_x0 = filt_x0[data_to_use[0]:data_to_use[1]][np.newaxis]\n",
    "        final_x0 = resample(final_x0,down=resamp)\n",
    "        print(su, lab, 'All data norm shape', final_x0.shape)\n",
    "\n",
    "        # ========================== PREPARE PLOTS AND SAVE STATS =========================================\n",
    "        # plot and figure parameters\n",
    "        xfmt = ScalarFormatter(useMathText=True)\n",
    "        xfmt.set_powerlimits((0,3))\n",
    "        fig = plt.figure(1,figsize=(9,6))\n",
    "        title = 'ERP and Stats for {} High/Low in {}'.format(su,lab)\n",
    "        fig.suptitle(title, fontsize=12)\n",
    "        times_plot = np.arange(-100,1000,10)\n",
    "        print('time plots', times_plot.shape)\n",
    "        # Plot the ERPs and the stats\n",
    "        BorderPlot(times_plot, final_x0, y=None, kind='sd', alpha=0.2, color=['black'], \n",
    "                   linewidth=2, ncol=1, xlabel='Time (ms)',ylabel = r' $\\mu$V')\n",
    "        addLines(plt.gca(), vLines=[0], vColor=['r'], vWidth=[2], hLines=[0], \n",
    "                 hColor=['#000000'], hWidth=[2])\n",
    "        rmaxis(plt.gca(), ['right', 'top'])\n",
    "        plt.gca().yaxis.set_major_locator(MaxNLocator(3,integer=True))\n",
    "        plt.savefig(savename.format(exp[0],pval,su,lab,chan), dpi=300, bbox_inches='tight')\n",
    "        plt.savefig(savename2.format(exp[0],pval,su,lab,chan), dpi=300, bbox_inches='tight')\n",
    "        plt.clf()\n",
    "        plt.close()\n",
    "        "
   ]
  },
  {
   "cell_type": "code",
   "execution_count": 12,
   "metadata": {},
   "outputs": [],
   "source": [
    "\"\"\"\n",
    "Plot ERPs and F-test between conditions\n",
    "Average and filter ERPs just for visualization (after stats)\n",
    "\"\"\"\n",
    "%matplotlib inline\n",
    "import matplotlib.pyplot as plt\n",
    "\n",
    "import mne\n",
    "from mne import io\n",
    "from mne.baseline import rescale\n",
    "from mne.filter import filter_data\n",
    "from mne.stats import permutation_cluster_test\n",
    "\n",
    "import numpy as np\n",
    "import pandas as pd\n",
    "from brainpipe.system import study\n",
    "from os import path, makedirs\n",
    "import glob"
   ]
  },
  {
   "cell_type": "code",
   "execution_count": 42,
   "metadata": {},
   "outputs": [],
   "source": [
    "low_pass_filter = 10.\n",
    "sf = 512.\n",
    "norm_mode = 'mean' #'ratio' 'mean' 'percent' \n",
    "bsl = (1485,1536) #-200 to 0ms before odor perception\n",
    "data_to_use = [1485, 2048] #-200 to 2000ms after odor\n",
    "time_points = data_to_use[1]-data_to_use[0]\n",
    "n_permutations = 1000"
   ]
  },
  {
   "cell_type": "code",
   "execution_count": 44,
   "metadata": {
    "scrolled": true
   },
   "outputs": [
    {
     "name": "stdout",
     "output_type": "stream",
     "text": [
      "-> Olfacto loaded\n",
      "(34, 3584) (21, 3584)\n",
      "Applying baseline correction (mode: mean)\n",
      "Applying baseline correction (mode: mean)\n",
      "(34, 563) (21, 563)\n",
      "Using a threshold of 4.023017\n",
      "stat_fun(H1): min=0.000175 max=6.870533\n",
      "Running initial clustering\n",
      "Found 4 clusters\n",
      "Permuting 999 times...\n",
      "[........                                          ]  16.42%  |   "
     ]
    },
    {
     "name": "stderr",
     "output_type": "stream",
     "text": [
      "<ipython-input-44-51d4b7779a0a>:52: RuntimeWarning: Ignoring argument \"tail\", performing 1-tailed F-test\n",
      "  n_permutations=n_permutations,n_jobs=1)\n"
     ]
    },
    {
     "name": "stdout",
     "output_type": "stream",
     "text": [
      "[..................................................] 100.00%  |   \n",
      "Computing cluster p-values\n",
      "Done.\n",
      "0.577\n",
      "0.343\n",
      "0.271\n",
      "0.7\n",
      "(14, 3584) (11, 3584)\n",
      "Applying baseline correction (mode: mean)\n",
      "Applying baseline correction (mode: mean)\n",
      "(14, 563) (11, 563)\n",
      "Using a threshold of 4.279344\n",
      "stat_fun(H1): min=0.004433 max=7.658583\n",
      "Running initial clustering\n",
      "Found 4 clusters\n",
      "Permuting 999 times...\n",
      "[.....                                             ]  11.81%  |   "
     ]
    },
    {
     "name": "stderr",
     "output_type": "stream",
     "text": [
      "<ipython-input-44-51d4b7779a0a>:52: RuntimeWarning: Ignoring argument \"tail\", performing 1-tailed F-test\n",
      "  n_permutations=n_permutations,n_jobs=1)\n"
     ]
    },
    {
     "name": "stdout",
     "output_type": "stream",
     "text": [
      "[..................................................] 100.00%  |   \n",
      "Computing cluster p-values\n",
      "Done.\n",
      "0.825\n",
      "0.61\n",
      "0.706\n",
      "0.704\n"
     ]
    },
    {
     "data": {
      "image/png": "[encoded data removed]",
      "text/plain": [
       "<Figure size 432x288 with 2 Axes>"
      ]
     },
     "metadata": {
      "needs_background": "light"
     },
     "output_type": "display_data"
    }
   ],
   "source": [
    "st = study('Olfacto')\n",
    "\n",
    "exp, pval, freq = 'Encoding', '0.01', 'theta'\n",
    "conds = ['low','high']\n",
    "\n",
    "data_path = path.join(st.path, 'database/{}_EpiPerf_LowHigh/')\n",
    "dataname = path.join(data_path, '{}_odor_{}_common_renamed_OFC_HC.npz')\n",
    "\n",
    "df_path = path.join(st.path, 'figure/TPSim_LDA_{}_by_cond_6freqs_3s_dissim/')\n",
    "savename = path.join(df_path, 'ERPs_{}/ERP_{}_{}_elec({})_stats_1s.png')\n",
    "savename2 = path.join(df_path, 'ERPs_{}/ERP_{}_{}_elec({})_stats_1s.pdf')\n",
    "\n",
    "if not path.exists(df_path.format(exp[0])+'ERPs_{}'.format(pval)):\n",
    "    makedirs(df_path.format(exp[0])+'ERPs_{}'.format(pval))\n",
    "    \n",
    "files = glob.glob(df_path.format(exp[0])+'npy_figs/'+freq+'*'+pval+'_tps.csv')\n",
    "\n",
    "for fi in files:\n",
    "    lab = fi.split('_')[-4]\n",
    "    if lab == 'olf':\n",
    "        df = pd.read_csv(fi)\n",
    "        subjects, channels = df['subjects'], df['channels']\n",
    "\n",
    "        for su,chan in zip(subjects, channels):\n",
    "            mat0 = np.load(dataname.format(exp,su,conds[0]),allow_pickle=True)\n",
    "            mat1 = np.load(dataname.format(exp,su,conds[1]),allow_pickle=True)\n",
    "            # 3584 points >> 7s from -3 to +4s\n",
    "            data0, data1 = mat0['x'], mat1['x']\n",
    "            labels, mat_chans = mat0['labels'], mat0['channels']\n",
    "            idx = [i for i,c in enumerate(mat_chans) if c==chan][0]\n",
    "\n",
    "            x0, x1 = data0[idx].swapaxes(0,1), data1[idx].swapaxes(0,1)\n",
    "            print(x0.shape, x1.shape)\n",
    "\n",
    "            time = np.arange(x0.shape[1])\n",
    "            norm_x0 = rescale(x0, times=time, baseline=bsl, mode=norm_mode)\n",
    "            norm_x1 = rescale(x1, times=time, baseline=bsl, mode=norm_mode)\n",
    "            #norm_x0 = np.array(norm_x0, dtype='float64')\n",
    "            #norm_x1 = np.array(norm_x1, dtype='float64')\n",
    "\n",
    "            #filt_x0 = filter_data(norm_x0, sfreq=512, l_freq=None, h_freq=low_pass_filter, \n",
    "            #                                          method='fir', phase='zero-double')\n",
    "            #filt_x1 = filter_data(norm_x1, sfreq=512, l_freq=None, h_freq=low_pass_filter, \n",
    "            #                                          method='fir', phase='zero-double')\n",
    "\n",
    "            data_x0 = norm_x0[:,data_to_use[0]:data_to_use[1]]\n",
    "            data_x1 = norm_x1[:,data_to_use[0]:data_to_use[1]]\n",
    "            print(data_x0.shape, data_x1.shape)\n",
    "            data_x0, data_x1 = resample(data_x0,down=resamp), resample(data_x1,down=resamp)\n",
    "\n",
    "            T_obs, clusters, cluster_p_values, H0 = \\\n",
    "                permutation_cluster_test([data_x0, data_x1], \n",
    "                                         n_permutations=n_permutations,n_jobs=1)\n",
    "\n",
    "\n",
    "            time_plot = np.arange(-100,1000,10)\n",
    "            #time_plot = 1000 * np.arange(0, data_to_use[1]-bsl[1]) / sf\n",
    "            plt.close('all')\n",
    "            plt.subplot(211)\n",
    "            plt.title('Elec ({}) in {} for {}'.format(chan,lab,su))\n",
    "            plt.plot(time_plot, data_x0.mean(axis=0) - data_x1.mean(axis=0),\n",
    "                     label=\"ERF Contrast (Event 1 - Event 2)\")\n",
    "            plt.ylabel(\"ERP (uV)\")\n",
    "            plt.legend()\n",
    "            plt.subplot(212)\n",
    "            for i_c, c in enumerate(clusters):\n",
    "                c = c[0]\n",
    "                print(cluster_p_values[i_c])\n",
    "                if cluster_p_values[i_c] <= (0.01):\n",
    "                    h = plt.axvspan(time_plot[c.start], time_plot[c.stop - 1],\n",
    "                                    color='r', alpha=0.3)\n",
    "                    plt.legend((h, ), ('cluster p-value < 0.01', ))\n",
    "\n",
    "                else:\n",
    "                    h = plt.axvspan(time_plot[c.start], time_plot[c.stop - 1], color=(0.3, 0.3, 0.3),\n",
    "                                alpha=0.3)\n",
    "                    plt.legend((h, ), ('cluster p-value > 0.01', ))\n",
    "\n",
    "            hf = plt.plot(time_plot, T_obs, 'g')\n",
    "            plt.xlabel(\"time (ms)\")\n",
    "            plt.ylabel(\"f-values\")\n",
    "            plt.savefig(savename.format(exp[0],pval,su,lab,chan), dpi=300, bbox_inches='tight')\n",
    "            plt.savefig(savename2.format(exp[0],pval,su,lab,chan), dpi=300, bbox_inches='tight')\n"
   ]
  },
  {
   "cell_type": "code",
   "execution_count": 57,
   "metadata": {},
   "outputs": [],
   "source": [
    "\"\"\"\n",
    "Plot ERPs and F-test VS BASELINE \n",
    "Average and filter ERPs just for visualization (after stats)\n",
    "\"\"\"\n",
    "%matplotlib inline\n",
    "import matplotlib.pyplot as plt\n",
    "\n",
    "import mne\n",
    "from mne import io\n",
    "from mne.baseline import rescale\n",
    "from mne.filter import filter_data\n",
    "from mne.stats import permutation_cluster_test\n",
    "\n",
    "import numpy as np\n",
    "import pandas as pd\n",
    "from brainpipe.system import study\n",
    "from os import path, makedirs\n",
    "import glob"
   ]
  },
  {
   "cell_type": "code",
   "execution_count": 58,
   "metadata": {},
   "outputs": [],
   "source": [
    "low_pass_filter = 10.\n",
    "sf = 512.\n",
    "norm_mode = 'mean' #'ratio' 'mean' 'percent' \n",
    "bsl = (1485,1536) #-200 to 0ms before odor perception\n",
    "data_to_use = [1485, 2048] #-200 to 2000ms after odor\n",
    "time_points = data_to_use[1]-data_to_use[0]\n",
    "n_permutations = 1000"
   ]
  },
  {
   "cell_type": "code",
   "execution_count": 60,
   "metadata": {
    "scrolled": true
   },
   "outputs": [
    {
     "name": "stdout",
     "output_type": "stream",
     "text": [
      "-> Olfacto loaded\n",
      "Applying baseline correction (mode: mean)\n",
      "Using a threshold of 4.051749\n",
      "stat_fun(H1): min=0.001687 max=9.954097\n",
      "Running initial clustering\n",
      "Found 3 clusters\n",
      "Permuting 999 times...\n",
      "[.........                                         ]  18.12%  |   "
     ]
    },
    {
     "name": "stderr",
     "output_type": "stream",
     "text": [
      "<ipython-input-60-fa7ebda32238>:42: RuntimeWarning: Ignoring argument \"tail\", performing 1-tailed F-test\n",
      "  n_permutations=n_permutations,n_jobs=1)\n"
     ]
    },
    {
     "name": "stdout",
     "output_type": "stream",
     "text": [
      "[..................................................] 100.00%  |   \n",
      "Computing cluster p-values\n",
      "Done.\n",
      "0.509\n",
      "0.062\n",
      "0.314\n",
      "Applying baseline correction (mode: mean)\n",
      "Using a threshold of 3.995887\n",
      "stat_fun(H1): min=0.003462 max=8.869246\n",
      "Running initial clustering\n",
      "Found 4 clusters\n",
      "Permuting 999 times...\n",
      "[.....                                             ]  11.91%  |   "
     ]
    },
    {
     "name": "stderr",
     "output_type": "stream",
     "text": [
      "<ipython-input-60-fa7ebda32238>:42: RuntimeWarning: Ignoring argument \"tail\", performing 1-tailed F-test\n",
      "  n_permutations=n_permutations,n_jobs=1)\n"
     ]
    },
    {
     "name": "stdout",
     "output_type": "stream",
     "text": [
      "[..................................................] 100.00%  |   \n",
      "Computing cluster p-values\n",
      "Done.\n",
      "0.302\n",
      "0.691\n",
      "0.064\n",
      "0.252\n",
      "Applying baseline correction (mode: mean)\n",
      "Using a threshold of 3.995887\n",
      "stat_fun(H1): min=0.000034 max=19.642498\n",
      "Running initial clustering\n",
      "Found 7 clusters\n",
      "Permuting 999 times...\n",
      "[.......                                           ]  14.11%  |   "
     ]
    },
    {
     "name": "stderr",
     "output_type": "stream",
     "text": [
      "<ipython-input-60-fa7ebda32238>:42: RuntimeWarning: Ignoring argument \"tail\", performing 1-tailed F-test\n",
      "  n_permutations=n_permutations,n_jobs=1)\n"
     ]
    },
    {
     "name": "stdout",
     "output_type": "stream",
     "text": [
      "[..................................................] 100.00%  |   \n",
      "Computing cluster p-values\n",
      "Done.\n",
      "0.047\n",
      "0.007\n",
      "0.065\n",
      "0.109\n",
      "0.277\n",
      "0.654\n",
      "0.427\n",
      "Applying baseline correction (mode: mean)\n",
      "Using a threshold of 4.051749\n",
      "stat_fun(H1): min=0.000258 max=3.106190\n",
      "Running initial clustering\n",
      "Found 0 clusters\n"
     ]
    },
    {
     "name": "stderr",
     "output_type": "stream",
     "text": [
      "<ipython-input-60-fa7ebda32238>:42: RuntimeWarning: Ignoring argument \"tail\", performing 1-tailed F-test\n",
      "  n_permutations=n_permutations,n_jobs=1)\n",
      "<ipython-input-60-fa7ebda32238>:42: RuntimeWarning: No clusters found, returning empty H0, clusters, and cluster_pv\n",
      "  n_permutations=n_permutations,n_jobs=1)\n"
     ]
    },
    {
     "name": "stdout",
     "output_type": "stream",
     "text": [
      "Applying baseline correction (mode: mean)\n",
      "Using a threshold of 4.051749\n",
      "stat_fun(H1): min=0.002850 max=5.430829\n",
      "Running initial clustering\n",
      "Found 3 clusters\n",
      "Permuting 999 times...\n",
      "[........                                          ]  17.32%  |   "
     ]
    },
    {
     "name": "stderr",
     "output_type": "stream",
     "text": [
      "<ipython-input-60-fa7ebda32238>:42: RuntimeWarning: Ignoring argument \"tail\", performing 1-tailed F-test\n",
      "  n_permutations=n_permutations,n_jobs=1)\n"
     ]
    },
    {
     "name": "stdout",
     "output_type": "stream",
     "text": [
      "[..................................................] 100.00%  |   \n",
      "Computing cluster p-values\n",
      "Done.\n",
      "0.661\n",
      "0.709\n",
      "0.54\n",
      "Applying baseline correction (mode: mean)\n",
      "Using a threshold of 4.051749\n",
      "stat_fun(H1): min=0.000005 max=11.756524\n",
      "Running initial clustering\n",
      "Found 7 clusters\n",
      "Permuting 999 times...\n",
      "[.......                                           ]  15.12%  |   "
     ]
    },
    {
     "name": "stderr",
     "output_type": "stream",
     "text": [
      "<ipython-input-60-fa7ebda32238>:42: RuntimeWarning: Ignoring argument \"tail\", performing 1-tailed F-test\n",
      "  n_permutations=n_permutations,n_jobs=1)\n"
     ]
    },
    {
     "name": "stdout",
     "output_type": "stream",
     "text": [
      "[..................................................] 100.00%  |   \n",
      "Computing cluster p-values\n",
      "Done.\n",
      "0.31\n",
      "0.12\n",
      "0.091\n",
      "0.116\n",
      "0.276\n",
      "0.057\n",
      "0.146\n",
      "Applying baseline correction (mode: mean)\n",
      "Using a threshold of 4.051749\n",
      "stat_fun(H1): min=0.000047 max=6.300354\n",
      "Running initial clustering\n",
      "Found 2 clusters\n",
      "Permuting 999 times...\n",
      "[......                                            ]  12.91%  |   "
     ]
    },
    {
     "name": "stderr",
     "output_type": "stream",
     "text": [
      "<ipython-input-60-fa7ebda32238>:42: RuntimeWarning: Ignoring argument \"tail\", performing 1-tailed F-test\n",
      "  n_permutations=n_permutations,n_jobs=1)\n"
     ]
    },
    {
     "name": "stdout",
     "output_type": "stream",
     "text": [
      "[..................................................] 100.00%  |   \n",
      "Computing cluster p-values\n",
      "Done.\n",
      "0.332\n",
      "0.301\n",
      "Applying baseline correction (mode: mean)\n",
      "Using a threshold of 4.051749\n",
      "stat_fun(H1): min=0.000155 max=11.425746\n",
      "Running initial clustering\n",
      "Found 1 clusters\n",
      "Permuting 999 times...\n",
      "[........                                          ]  17.02%  |   "
     ]
    },
    {
     "name": "stderr",
     "output_type": "stream",
     "text": [
      "<ipython-input-60-fa7ebda32238>:42: RuntimeWarning: Ignoring argument \"tail\", performing 1-tailed F-test\n",
      "  n_permutations=n_permutations,n_jobs=1)\n"
     ]
    },
    {
     "name": "stdout",
     "output_type": "stream",
     "text": [
      "[..................................................] 100.00%  |   \n",
      "Computing cluster p-values\n",
      "Done.\n",
      "0.008\n",
      "Applying baseline correction (mode: mean)\n",
      "Using a threshold of 4.051749\n",
      "stat_fun(H1): min=0.000074 max=6.863761\n",
      "Running initial clustering\n",
      "Found 2 clusters\n",
      "Permuting 999 times...\n",
      "[                                                  ]   1.40%  |   "
     ]
    },
    {
     "name": "stderr",
     "output_type": "stream",
     "text": [
      "<ipython-input-60-fa7ebda32238>:42: RuntimeWarning: Ignoring argument \"tail\", performing 1-tailed F-test\n",
      "  n_permutations=n_permutations,n_jobs=1)\n"
     ]
    },
    {
     "name": "stdout",
     "output_type": "stream",
     "text": [
      "[..................................................] 100.00%  |   \n",
      "Computing cluster p-values\n",
      "Done.\n",
      "0.483\n",
      "0.354\n",
      "Applying baseline correction (mode: mean)\n",
      "Using a threshold of 4.051749\n",
      "stat_fun(H1): min=0.000097 max=5.798962\n",
      "Running initial clustering\n",
      "Found 1 clusters\n",
      "Permuting 999 times...\n",
      "[.......                                           ]  15.82%  |   "
     ]
    },
    {
     "name": "stderr",
     "output_type": "stream",
     "text": [
      "<ipython-input-60-fa7ebda32238>:42: RuntimeWarning: Ignoring argument \"tail\", performing 1-tailed F-test\n",
      "  n_permutations=n_permutations,n_jobs=1)\n"
     ]
    },
    {
     "name": "stdout",
     "output_type": "stream",
     "text": [
      "[..................................................] 100.00%  |   \n",
      "Computing cluster p-values\n",
      "Done.\n",
      "0.384\n",
      "Applying baseline correction (mode: mean)\n",
      "Using a threshold of 4.051749\n",
      "stat_fun(H1): min=0.000386 max=4.262722\n",
      "Running initial clustering\n",
      "Found 1 clusters\n",
      "Permuting 999 times...\n",
      "[........                                          ]  16.52%  |   "
     ]
    },
    {
     "name": "stderr",
     "output_type": "stream",
     "text": [
      "<ipython-input-60-fa7ebda32238>:42: RuntimeWarning: Ignoring argument \"tail\", performing 1-tailed F-test\n",
      "  n_permutations=n_permutations,n_jobs=1)\n"
     ]
    },
    {
     "name": "stdout",
     "output_type": "stream",
     "text": [
      "[..................................................] 100.00%  |   \n",
      "Computing cluster p-values\n",
      "Done.\n",
      "0.601\n",
      "Applying baseline correction (mode: mean)\n",
      "Using a threshold of 4.051749\n",
      "stat_fun(H1): min=0.000039 max=16.221657\n",
      "Running initial clustering\n",
      "Found 4 clusters\n",
      "Permuting 999 times...\n",
      "[......                                            ]  13.81%  |   "
     ]
    },
    {
     "name": "stderr",
     "output_type": "stream",
     "text": [
      "<ipython-input-60-fa7ebda32238>:42: RuntimeWarning: Ignoring argument \"tail\", performing 1-tailed F-test\n",
      "  n_permutations=n_permutations,n_jobs=1)\n"
     ]
    },
    {
     "name": "stdout",
     "output_type": "stream",
     "text": [
      "[..................................................] 100.00%  |   \n",
      "Computing cluster p-values\n",
      "Done.\n",
      "0.006\n",
      "0.626\n",
      "0.556\n",
      "0.305\n",
      "Applying baseline correction (mode: mean)\n",
      "Using a threshold of 4.051749\n",
      "stat_fun(H1): min=0.000024 max=3.154004\n",
      "Running initial clustering\n",
      "Found 0 clusters\n"
     ]
    },
    {
     "name": "stderr",
     "output_type": "stream",
     "text": [
      "<ipython-input-60-fa7ebda32238>:42: RuntimeWarning: Ignoring argument \"tail\", performing 1-tailed F-test\n",
      "  n_permutations=n_permutations,n_jobs=1)\n",
      "<ipython-input-60-fa7ebda32238>:42: RuntimeWarning: No clusters found, returning empty H0, clusters, and cluster_pv\n",
      "  n_permutations=n_permutations,n_jobs=1)\n"
     ]
    },
    {
     "name": "stdout",
     "output_type": "stream",
     "text": [
      "Applying baseline correction (mode: mean)\n",
      "Using a threshold of 4.051749\n",
      "stat_fun(H1): min=0.001539 max=8.021932\n",
      "Running initial clustering\n",
      "Found 1 clusters\n",
      "Permuting 999 times...\n",
      "[........                                          ]  16.72%  |   "
     ]
    },
    {
     "name": "stderr",
     "output_type": "stream",
     "text": [
      "<ipython-input-60-fa7ebda32238>:42: RuntimeWarning: Ignoring argument \"tail\", performing 1-tailed F-test\n",
      "  n_permutations=n_permutations,n_jobs=1)\n"
     ]
    },
    {
     "name": "stdout",
     "output_type": "stream",
     "text": [
      "[..................................................] 100.00%  |   \n",
      "Computing cluster p-values\n",
      "Done.\n",
      "0.432\n"
     ]
    },
    {
     "data": {
      "image/png": "[encoded data removed]",
      "text/plain": [
       "<Figure size 432x288 with 2 Axes>"
      ]
     },
     "metadata": {
      "needs_background": "light"
     },
     "output_type": "display_data"
    }
   ],
   "source": [
    "st = study('Olfacto')\n",
    "\n",
    "exp, pval, freq = 'Retrieval', '0.01', 'theta'\n",
    "conds = ['low','high']\n",
    "\n",
    "data_path = path.join(st.path, 'database/{}_EpiPerf_LowHigh/')\n",
    "dataname = path.join(data_path, '{}_odor_{}_common_renamed_OFC_HC.npz')\n",
    "\n",
    "df_path = path.join(st.path, 'figure/TPSim_LDA_{}_by_cond_6freqs_3s_dissim/')\n",
    "savename = path.join(df_path, 'ERPs_{}/ERP_{}_{}_elec({})_all_stats_1s.png')\n",
    "savename2 = path.join(df_path, 'ERPs_{}/ERP_{}_{}_elec({})_all_stats_1s.pdf')\n",
    "\n",
    "if not path.exists(df_path.format(exp[0])+'ERPs_{}'.format(pval)):\n",
    "    makedirs(df_path.format(exp[0])+'ERPs_{}'.format(pval))\n",
    "    \n",
    "files = glob.glob(df_path.format(exp[0])+'npy_figs/'+freq+'*'+pval+'_tps.csv')\n",
    "\n",
    "for fi in files:\n",
    "    lab = fi.split('_')[-4]\n",
    "    df = pd.read_csv(fi)\n",
    "    subjects, channels = df['subjects'], df['channels']\n",
    "\n",
    "    for su,chan in zip(subjects, channels):\n",
    "        mat0 = np.load(dataname.format(exp,su,conds[0]),allow_pickle=True)\n",
    "        mat1 = np.load(dataname.format(exp,su,conds[1]),allow_pickle=True)\n",
    "        # 3584 points >> 7s from -3 to +4s\n",
    "        data0 = np.concatenate((mat0['x'],mat1['x']),axis=-1)\n",
    "        labels, mat_chans = mat0['labels'], mat0['channels']\n",
    "        idx = [i for i,c in enumerate(mat_chans) if c==chan][0]\n",
    "\n",
    "        x0 = data0[idx].swapaxes(0,1)\n",
    "        time = np.arange(x0.shape[1])\n",
    "        norm_x0 = rescale(x0, times=time, baseline=bsl, mode=norm_mode)\n",
    "\n",
    "        data_x0 = norm_x0[:,data_to_use[0]:data_to_use[1]]\n",
    "        data_x1 = np.repeat(np.mean(norm_x0[:,bsl], axis=1)[:,np.newaxis],\n",
    "                                    data_x0.shape[1],axis=1)\n",
    "\n",
    "        data_x0, data_x1 = resample(data_x0,down=resamp), resample(data_x1,down=resamp)\n",
    "\n",
    "        T_obs, clusters, cluster_p_values, H0 = \\\n",
    "            permutation_cluster_test([data_x0, data_x1], \n",
    "                                     n_permutations=n_permutations,n_jobs=1)\n",
    "\n",
    "        time_plot = np.arange(-100,1000,10)\n",
    "        #time_plot = 1000 * np.arange(0, data_to_use[1]-bsl[1]) / sf\n",
    "        plt.close('all')\n",
    "        plt.subplot(211)\n",
    "        plt.title('Elec ({}) in {} for {}'.format(chan,lab,su))\n",
    "        plt.plot(time_plot, data_x0.mean(axis=0) - data_x1.mean(axis=0),\n",
    "                 label=\"ERF Contrast (Event 1 - Event 2)\")\n",
    "        plt.ylabel(\"ERP (uV)\")\n",
    "        plt.legend()\n",
    "        plt.subplot(212)\n",
    "        for i_c, c in enumerate(clusters):\n",
    "            c = c[0]\n",
    "            print(cluster_p_values[i_c])\n",
    "            if cluster_p_values[i_c] <= (0.01):\n",
    "                h = plt.axvspan(time_plot[c.start], time_plot[c.stop - 1],\n",
    "                                color='r', alpha=0.3)\n",
    "                plt.legend((h, ), ('cluster p-value < 0.01', ))\n",
    "\n",
    "            else:\n",
    "                h = plt.axvspan(time_plot[c.start], time_plot[c.stop - 1], color=(0.3, 0.3, 0.3),\n",
    "                            alpha=0.3)\n",
    "                plt.legend((h, ), ('cluster p-value > 0.01', ))\n",
    "\n",
    "        hf = plt.plot(time_plot, T_obs, 'g')\n",
    "        plt.xlabel(\"time (ms)\")\n",
    "        plt.ylabel(\"f-values\")\n",
    "        plt.savefig(savename.format(exp[0],pval,su,lab,chan), dpi=300, bbox_inches='tight')\n",
    "        plt.savefig(savename2.format(exp[0],pval,su,lab,chan), dpi=300, bbox_inches='tight')\n"
   ]
  }
 ],
 "metadata": {
  "anaconda-cloud": {},
  "kernelspec": {
   "display_name": "Python 3",
   "language": "python",
   "name": "python3"
  },
  "language_info": {
   "codemirror_mode": {
    "name": "ipython",
    "version": 3
   },
   "file_extension": ".py",
   "mimetype": "text/x-python",
   "name": "python",
   "nbconvert_exporter": "python",
   "pygments_lexer": "ipython3",
   "version": "3.6.1"
  }
 },
 "nbformat": 4,
 "nbformat_minor": 1
}
