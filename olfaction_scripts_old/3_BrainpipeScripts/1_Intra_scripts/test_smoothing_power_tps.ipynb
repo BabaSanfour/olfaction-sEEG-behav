{
 "cells": [
  {
   "cell_type": "code",
   "execution_count": 87,
   "metadata": {
    "scrolled": true
   },
   "outputs": [
    {
     "name": "stdout",
     "output_type": "stream",
     "text": [
      "-> Olfacto loaded\n",
      "(1, 3584, 23)\n"
     ]
    },
    {
     "ename": "ZeroDivisionError",
     "evalue": "division by zero",
     "output_type": "error",
     "traceback": [
      "\u001b[0;31m----------------------------------------------------------------\u001b[0m",
      "\u001b[0;31mZeroDivisionError\u001b[0m              Traceback (most recent call last)",
      "\u001b[0;32m<ipython-input-87-7fc2dfff8ec5>\u001b[0m in \u001b[0;36m<module>\u001b[0;34m()\u001b[0m\n\u001b[1;32m     31\u001b[0m     \u001b[0mdata\u001b[0m \u001b[0;34m=\u001b[0m \u001b[0mmat\u001b[0m\u001b[0;34m[\u001b[0m\u001b[0;34m'x'\u001b[0m\u001b[0;34m]\u001b[0m\u001b[0;34m[\u001b[0m\u001b[0mchs_idx\u001b[0m\u001b[0;34m,\u001b[0m\u001b[0;34m...\u001b[0m\u001b[0;34m]\u001b[0m\u001b[0;34m\u001b[0m\u001b[0m\n\u001b[1;32m     32\u001b[0m     \u001b[0mprint\u001b[0m\u001b[0;34m(\u001b[0m\u001b[0mdata\u001b[0m\u001b[0;34m.\u001b[0m\u001b[0mshape\u001b[0m\u001b[0;34m)\u001b[0m\u001b[0;34m\u001b[0m\u001b[0m\n\u001b[0;32m---> 33\u001b[0;31m     \u001b[0;36m0\u001b[0m\u001b[0;34m/\u001b[0m\u001b[0;36m0\u001b[0m\u001b[0;34m\u001b[0m\u001b[0m\n\u001b[0m\u001b[1;32m     34\u001b[0m \u001b[0;34m\u001b[0m\u001b[0m\n\u001b[1;32m     35\u001b[0m     \u001b[0mfig\u001b[0m\u001b[0;34m,\u001b[0m \u001b[0maxs\u001b[0m \u001b[0;34m=\u001b[0m \u001b[0mplt\u001b[0m\u001b[0;34m.\u001b[0m\u001b[0msubplots\u001b[0m\u001b[0;34m(\u001b[0m\u001b[0;36m8\u001b[0m\u001b[0;34m,\u001b[0m\u001b[0;36m4\u001b[0m\u001b[0;34m,\u001b[0m \u001b[0mfigsize\u001b[0m\u001b[0;34m=\u001b[0m\u001b[0;34m(\u001b[0m\u001b[0;36m20\u001b[0m\u001b[0;34m,\u001b[0m \u001b[0;36m40\u001b[0m\u001b[0;34m)\u001b[0m\u001b[0;34m,\u001b[0m \u001b[0mfacecolor\u001b[0m\u001b[0;34m=\u001b[0m\u001b[0;34m'w'\u001b[0m\u001b[0;34m,\u001b[0m \u001b[0medgecolor\u001b[0m\u001b[0;34m=\u001b[0m\u001b[0;34m'k'\u001b[0m\u001b[0;34m)\u001b[0m\u001b[0;34m\u001b[0m\u001b[0m\n",
      "\u001b[0;31mZeroDivisionError\u001b[0m: division by zero"
     ]
    }
   ],
   "source": [
    "\"\"\"\n",
    "TEST POWER AND AMPLITUDE BRAINPIPE FUNCTIONS\n",
    "\"\"\"\n",
    "import numpy as np\n",
    "from os import path, listdir, makedirs\n",
    "from itertools import product\n",
    "from brainpipe.system import study\n",
    "from brainpipe.feat.utils._feat import _manageWindow\n",
    "from brainpipe.feature import power, amplitude\n",
    "from rectification_smooth import rectification\n",
    "import matplotlib.pyplot as plt\n",
    "from scipy import stats\n",
    "\n",
    "st = study('Olfacto')\n",
    "PATH_DATA = path.join(st.path, 'database/Encoding_By_Cond_v=1_elecs=all/')\n",
    "filename = path.join(PATH_DATA, '{}_odor_{}_E.npz')\n",
    "subjects = ['LEFC']\n",
    "channels = ['b2-b1']\n",
    "conds = ['low']\n",
    "meth = '2_hilb'\n",
    "\n",
    "################################################################################################\n",
    "sf = 512\n",
    "widths = [None, 128, 256, 358] #no downsampling, 250ms, 500ms, 700ms\n",
    "steps = [5, 51] #steps None, 10ms, 100ms\n",
    "################################################################################################\n",
    "\n",
    "for su,cond in product(subjects,conds):\n",
    "    mat = np.load(filename.format(su,cond),allow_pickle=True)\n",
    "    chs_idx = [i for i,ch in enumerate(mat['channels']) if ch in channels]\n",
    "    data = mat['x'][chs_idx,...]\n",
    "    nelec, npts, ntrials = data.shape\n",
    "    \n",
    "    for t in range(ntrials):\n",
    "        fig, axs = plt.subplots(8,4, figsize=(20, 40), facecolor='w', edgecolor='k')\n",
    "        fig.subplots_adjust(hspace = .5, wspace=.001)\n",
    "        axs = axs.ravel()\n",
    "        i = 0\n",
    "        for width,step in product(widths,steps):\n",
    "            kwargs = {} # Define an empty dictionnary to saveall power parameters\n",
    "            kwargs['f'] = [[3,7]] # Frequency vector\n",
    "            fname = ['theta'] # Name of each frequencykwargs['f'] = [[3,7], [8,13], [13,30], [30,120]] # Frequency vector[0.1,1.5],[2,3]\n",
    "            kwargs['split'] = None\n",
    "            kwargs['width'], kwargs['step'] = width, step # take power in 358 samples (700ms) windows width every 51 samples (100ms)\n",
    "\n",
    "            # Compute and save power objects :\n",
    "            #ampObj_x = amplitude(sf, data.shape[1],baseline=None,**kwargs, method=meth)\n",
    "            powObj_x = power(sf, data.shape[1],baseline=None,**kwargs, method='hilbert')\n",
    "            rect_x = rectification(data,sf,[3,7],width,step)\n",
    "            powObj_x1 = power(sf, data.shape[1],baseline=None,**kwargs, method='hilbert1')\n",
    "            win_all, time = _manageWindow(data.shape[1], width=width, step=step)\n",
    "            #amp_ = ampObj_x.get(data,n_jobs=-1)[0]\n",
    "            pow_ = powObj_x.get(data,n_jobs=-1)[0]\n",
    "            pow_1 = powObj_x1.get(data,n_jobs=-1)[0]\n",
    "\n",
    "            time = (np.array(time)/sf)-3\n",
    "            nsel = [i for i,t in enumerate(time) if -1<=t<=2]\n",
    "            time_sel = time[nsel]\n",
    "            pow_sel, pow_sel1 = rect_x[0,:,nsel,2], pow_1[0,:,nsel,2]\n",
    "            pow_sel2 = pow_[0,:,nsel,2]\n",
    "            print(pow_sel.shape,pow_sel1.shape,data.shape)\n",
    "            R, p = stats.pearsonr(np.ravel(pow_sel),np.ravel(pow_sel1))\n",
    "            print(width, step, R,p)\n",
    "            #amp_sel = amp_[0,:,nsel,0]\n",
    "\n",
    "            #plot power enveloppe (trial1)\n",
    "            axs[i].plot(time,rect_x[0,0,:,2],'green')\n",
    "            axs[i].set_title('Rectif width={}, step={}'.format(width,step))\n",
    "            axs[i+1].plot(time,pow_1[0,0,:,2],'blue')\n",
    "            axs[i+1].set_title('BAD HILBERT width={}, step={}'.format(width,step))\n",
    "            axs[i+2].plot(time,pow_[0,0,:,2],'black')\n",
    "            axs[i+2].set_title('HILBERT width={}, step={}'.format(width,step))\n",
    "            axs[i+3].plot(np.arange(3584),data[0,:,2],'black')\n",
    "            axs[i+3].set_title('RAW width={}, step={}'.format(width,step))\n",
    "            i += 4\n",
    "        #plt.show()\n",
    "        plt.savefig('theta_power_example_smoothing_'+meth+'_trial='+str(t)+'.png')\n",
    "    0/0"
   ]
  },
  {
   "cell_type": "code",
   "execution_count": 64,
   "metadata": {},
   "outputs": [
    {
     "data": {
      "text/plain": [
       "1536"
      ]
     },
     "execution_count": 64,
     "metadata": {},
     "output_type": "execute_result"
    }
   ],
   "source": [
    "512*3"
   ]
  },
  {
   "cell_type": "code",
   "execution_count": null,
   "metadata": {},
   "outputs": [],
   "source": [
    "\"\"\"\n",
    "COMPUTE POWER WITH DIFFERENT STEP AND WIDTH\n",
    "\"\"\"\n",
    "\n",
    "\"\"\"\n",
    "TEST POWER AND AMPLITUDE BRAINPIPE FUNCTIONS\n",
    "\"\"\"\n",
    "import numpy as np\n",
    "from os import path, listdir, makedirs\n",
    "from itertools import product\n",
    "from brainpipe.system import study\n",
    "from brainpipe.feat.utils._feat import _manageWindow\n",
    "from brainpipe.feature import power, amplitude\n",
    "import matplotlib.pyplot as plt\n",
    "\n",
    "st = study('Olfacto')\n",
    "PATH_DATA = path.join(st.path, 'database/Encoding_By_Cond_v=1_elecs=all/')\n",
    "filename = path.join(PATH_DATA, '{}_odor_{}_E.npz')\n",
    "savename = path.join(st.path, 'feature/TPSim_power_data/try_smooth/')\n",
    "subjects = ['LEFC','CHAF','FERJ']\n",
    "channels = ['o7-o6']\n",
    "conds = ['low']\n",
    "\n",
    "################################################################################################\n",
    "sf = 512\n",
    "widths = [128, 256, 358] #no downsampling, 250ms, 500ms, 700ms\n",
    "steps = [5, 51] #steps None, 10ms, 100ms\n",
    "################################################################################################\n",
    "\n",
    "for su,cond in product(subjects,conds):\n",
    "    mat = np.load(filename.format(su,cond),allow_pickle=True)\n",
    "    \n",
    "    for width,step in product(widths,steps):\n",
    "        kwargs = {} # Define an empty dictionnary to saveall power parameters\n",
    "        kwargs['f'] = [[3,7]] # Frequency vector\n",
    "        fname = ['theta'] # Name of each frequencykwargs['f'] = [[3,7], [8,13], [13,30], [30,120]] # Frequency vector[0.1,1.5],[2,3]\n",
    "        kwargs['split'] = None\n",
    "        kwargs['width'], kwargs['step'] = width, step # take power in 358 samples (700ms) windows width every 51 samples (100ms)\n",
    "\n",
    "        # Compute and save power objects :\n",
    "        powObj_x = power(sf, data.shape[1],baseline=None,**kwargs, method='hilbert1')\n",
    "        win_all, time = _manageWindow(data.shape[1], width=width, step=step)\n",
    "        pow_ = powObj_x.get(data,n_jobs=-1)[0]\n"
   ]
  }
 ],
 "metadata": {
  "kernelspec": {
   "display_name": "Python 3",
   "language": "python",
   "name": "python3"
  },
  "language_info": {
   "codemirror_mode": {
    "name": "ipython",
    "version": 3
   },
   "file_extension": ".py",
   "mimetype": "text/x-python",
   "name": "python",
   "nbconvert_exporter": "python",
   "pygments_lexer": "ipython3",
   "version": "3.6.1"
  }
 },
 "nbformat": 4,
 "nbformat_minor": 2
}
