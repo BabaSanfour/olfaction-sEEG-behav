{
 "cells": [
  {
   "cell_type": "markdown",
   "metadata": {},
   "source": [
    "## Select electrodes for each subject"
   ]
  },
  {
   "cell_type": "code",
   "execution_count": 20,
   "metadata": {
    "collapsed": true
   },
   "outputs": [],
   "source": [
    "import numpy as np\n",
    "from brainpipe.system import study\n",
    "from os import path"
   ]
  },
  {
   "cell_type": "markdown",
   "metadata": {},
   "source": [
    "### Remove bad trials\n",
    "    Before concatenation in Good vs Bad"
   ]
  },
  {
   "cell_type": "code",
   "execution_count": 18,
   "metadata": {
    "collapsed": false
   },
   "outputs": [
    {
     "name": "stdout",
     "output_type": "stream",
     "text": [
      "shapes (4, 152, 2816) (4, 152, 2816) (4, 152, 2816)\n",
      "new shapes (3, 152, 2816) (3, 152, 2816) (3, 152, 2816)\n"
     ]
    }
   ],
   "source": [
    "path = r'/media/karim/Datas4To/1_Analyses_Intra_EM_Odor/OE_Matrices_NoArt/TS_E_all_by_odor_th40_art400_30_250_5s_expi/VACJ/'\n",
    "# for LEFC :: 3 trials to remove\n",
    "x1 = np.load(path+'E1/correct_ts_16_by_odor_trigs.npy')\n",
    "x2 = np.load(path+'E1/correct_ts_15_by_odor_trigs.npy')\n",
    "x3 = np.load(path+'E2/correct_ts_12_by_odor_trigs.npy')\n",
    "# x4 = np.load(path+'E2/correct_ts_5_by_odor_trigs.npy')\n",
    "print('shapes', x1.shape, x2.shape, x3.shape)\n",
    "new_x1 = np.delete(x1,[1], axis=0)\n",
    "new_x2 = np.delete(x2,[0], axis=0)\n",
    "new_x3 = np.delete(x3,[3], axis=0)\n",
    "# new_x4 = np.delete(x4,[], axis=0)\n",
    "print('new shapes', new_x1.shape, new_x2.shape, new_x3.shape)\n",
    "np.save(path+'E1/correct_ts_16_by_odor_trigs.npy',new_x1)\n",
    "np.save(path+'E1/correct_ts_15_by_odor_trigs.npy',new_x2)\n",
    "np.save(path+'E2/correct_ts_12_by_odor_trigs.npy',new_x3)\n",
    "# np.save(path+'E2/correct_ts_5_by_odor_trigs.npy',new_x4)"
   ]
  },
  {
   "cell_type": "markdown",
   "metadata": {},
   "source": [
    "### Remove electrodes in WM, LCR and skull\n",
    "    For all subjects"
   ]
  },
  {
   "cell_type": "code",
   "execution_count": 9,
   "metadata": {
    "collapsed": false
   },
   "outputs": [
    {
     "name": "stdout",
     "output_type": "stream",
     "text": [
      "-> Olfacto loaded\n",
      "['channel', 'label', 'xyz', 'x', 'sf']\n",
      "(71, 2816, 41)\n"
     ]
    }
   ],
   "source": [
    "st = study('Olfacto')\n",
    "pathfiles = path.join(st.path, 'database/TS_E_all_by_odor_th40_art400_30_250_Good_Bad_EpiScore_Expi/')\n",
    "badname = np.load(pathfiles+'PIRJ_odor_bad_bipo_new.npz')\n",
    "print(badname.files)\n",
    "mat = badname['x']\n",
    "print(mat.shape)"
   ]
  },
  {
   "cell_type": "code",
   "execution_count": 21,
   "metadata": {
    "collapsed": false
   },
   "outputs": [
    {
     "name": "stdout",
     "output_type": "stream",
     "text": [
      "-> Olfacto loaded\n",
      "VACJ\n",
      "bad shape:  (139, 2816, 14) (139,) (139,) (139, 3)\n",
      "good shape:  (139, 2816, 15) (139,) (139,) (139, 3)\n",
      "labels ['mHC-Ent' 'mHC-PHG&mHC-Ent' 'mHC-PHG-FuG&mHC-PHG' 'WM-FuG&mHC-PHG-FuG'\n",
      " 'MTG&WM-FuG' 'MTG' 'MTG' 'MTG' 'MTG' 'MTG' 'MTG' 'mHC' 'mHC' 'mHC' 'mHC'\n",
      " 'mHC' 'WM-mHC&mHC' 'WM-MTG&WM-mHC' 'WM-MTG' 'MTG&WM-MTG' 'MTG' 'MTG'\n",
      " 'Amg-PRC&Amg' 'Amg-PRC' 'PRC&Amg-PRC' 'WM-PRC&PRC' 'WM-Ppo&WM-PRC'\n",
      " 'WM-Ppo' 'MTG&WM-Ppo' 'MTG' 'MTG' 'MTG' 'MTG' 'IFGOp-IG'\n",
      " 'IFGOp-IFGTr&IFGOp-IG' 'IFGOp-IFGTr' 'IFGOp-IFGTr' 'WM-IFGOp&IFGOp-IFGTr'\n",
      " 'WM-IFGOp' 'IFGOp-IFGTr&WM-IFGOp' 'IFGOp-IFGTr' 'LCR&IFGOp-IFGTr' 'SRoG'\n",
      " 'WM-SRoG&SRoG' 'WM-IFPG&WM-SRoG' 'WM-IFPG' 'WM-IFPG' 'WM-IFPG'\n",
      " 'WM-MFG&WM-IFPG' 'MFG&WM-MFG' 'MFG' 'MFG' 'MFG-LCR&MFG'\n",
      " 'WM-ITG-MTG&WM-PPo' 'MTG&WM-ITG-MTG' 'MTG' 'LCR-MTG&MTG' 'LCR&LCR-MTG'\n",
      " 'LCR-skull&LCR' 'skull&LCR-skull' 'pPirtT&pPirT-Ent' 'WM-pPirT&pPirtT'\n",
      " 'WM-ITG&WM-pPirT' 'WM-MTG&WM-ITG' 'WM-MTG' 'MTG&WM-MTG' 'MTG' 'MTG'\n",
      " 'LCR-MTG&MTG' 'pgACC' 'WM-pgACC&pgACC' 'WM-pgACC' 'WM&WM-pgACC' 'WM'\n",
      " 'MFG&WM' 'MFG' 'MFG' 'MFG' 'MFG' 'MFG' 'MFG' 'LCR-MFG&MFG' 'LCR&LCR-MFG'\n",
      " 'pgACC' 'WM&pgACC' 'WM' 'WM' 'WM' 'WM' 'WM' 'WM' 'WM-IFGTr&WM'\n",
      " 'IFGTr&WM-IFGTr' 'IFGTr' 'IFGTr' 'IFGTr' 'LCR-IFGTr&IFGTr' 'LgG-FuG'\n",
      " 'FuG&LgG-FuG' 'FuG' 'FuG-pITG&FuG' 'FuG-pITG' 'pITG&FuG-pITG' 'pITG'\n",
      " 'pITG' 'pITG' 'pITG' 'LCR&pITG' 'SG-MOrG' 'MOrG&SG-MOrG' 'MOrG'\n",
      " 'MOrG-IOrG&MOrG' 'MOrG-IOrG' 'IOrG&MOrG-IOrG' 'IOrG' 'IOrG-IFGOr&IOrG'\n",
      " 'IFGOr&IOrG-IFGOr' 'IFGOr' 'LCR-IFGOr&IFGOr' 'IRoG' 'IRoG-SG&IRoG'\n",
      " 'WM-MOrG&IRoG-SG' 'MOrG&WM-MOrG' 'Iorg&MOrG' 'Iorg' 'Iorg' 'Iorg' 'Iorg'\n",
      " 'IFGOr&Iorg' 'IFGOr' 'Ins-TTG' 'TTG&Ins-TTG' 'TTG' 'TTG' 'STG-TTG&TTG'\n",
      " 'STG&STG-TTG' 'STG' 'STG' 'STG']\n",
      "VACJ odor bad (84, 2816, 14) (84,) (84,) (84, 3) good (84, 2816, 15) (84,) (84,) (84, 3)\n"
     ]
    }
   ],
   "source": [
    "st = study('Olfacto')\n",
    "pathfiles = path.join(st.path, 'database/TS_E_all_by_odor_th40_art400_30_250_Good_Bad_EpiScore_Expi/')\n",
    "#subjects = ['CHAF','VACJ','SEMC', 'LEFC','MICP','FERJ','PIRJ'] #'CHAF','VACJ','SEMC', 'LEFC','MICP', \n",
    "subjects = ['VACJ']\n",
    "phases = ['odor']\n",
    "for su in subjects:\n",
    "    for phase in phases:\n",
    "        print(su)\n",
    "        #load all subjects information\n",
    "        badname = np.load(pathfiles+su+'_odor_bad_bipo.npz')\n",
    "        goodname = np.load(pathfiles+su+'_odor_good_bipo.npz')\n",
    "        bad, bad_label, bad_channel, bad_xyz = badname['x'], badname['label'], badname['channel'], badname['xyz']\n",
    "        good, good_label, good_channel, good_xyz = goodname['x'], goodname['label'], goodname['channel'], goodname['xyz']\n",
    "        sf = goodname['sf']\n",
    "        print('bad shape: ', bad.shape, bad_label.shape, bad_channel.shape, bad_xyz.shape)\n",
    "        print('good shape: ', good.shape, good_label.shape, good_channel.shape, good_xyz.shape)\n",
    "        print('labels',good_label)\n",
    "        \n",
    "        #create a list of all electrodes to remove\n",
    "        rois_to_rej = ['WM','skull','out','LCR']\n",
    "        elecs_rej = []\n",
    "        for elec in range(bad_label.shape[0]):\n",
    "            if any(x in bad_label[elec] for x in rois_to_rej):\n",
    "                elecs_rej.append(elec)\n",
    "            else: continue\n",
    "\n",
    "        #Remove all bad electrodes from the database\n",
    "        new_bad, new_bad_label = np.delete(bad,elecs_rej, axis=0), np.delete(bad_label,elecs_rej, axis=0)\n",
    "        new_bad_channel, new_bad_xyz = np.delete(bad_channel,elecs_rej, axis=0), np.delete(bad_xyz,elecs_rej, axis=0)\n",
    "        new_good, new_good_label = np.delete(good,elecs_rej, axis=0), np.delete(good_label,elecs_rej, axis=0)\n",
    "        new_good_channel, new_good_xyz = np.delete(good_channel,elecs_rej, axis=0), np.delete(good_xyz,elecs_rej, axis=0)\n",
    "        print (su,phase,'bad',new_bad.shape, new_bad_label.shape,new_bad_channel.shape, new_bad_xyz.shape,\n",
    "              'good', new_good.shape, new_good_label.shape, new_good_channel.shape, new_good_xyz.shape)\n",
    "\n",
    "        #Save all new information\n",
    "        mat_good = {'x':new_bad, 'label':new_bad_label, 'channel':new_bad_channel, 'xyz':new_bad_xyz, 'sf':sf}\n",
    "        mat_bad = {'x':new_good, 'label':new_good_label, 'channel':new_good_channel, 'xyz':new_good_xyz, 'sf':sf}\n",
    "        file_good = su+'_'+phase+'_good_bipo_new.npz'\n",
    "        file_bad = su+'_'+phase+'_bad_bipo_new.npz'\n",
    "        np.savez(pathfiles+file_good,**mat_good)\n",
    "        np.savez(pathfiles+file_bad,**mat_bad)\n",
    "        del elecs_rej, new_bad, new_bad_label, new_bad_channel, new_bad_xyz, new_good\n",
    "        del new_good_label, new_good_channel, new_good_xyz"
   ]
  },
  {
   "cell_type": "markdown",
   "metadata": {},
   "source": [
    "### Select some electrodes"
   ]
  },
  {
   "cell_type": "code",
   "execution_count": 2,
   "metadata": {
    "collapsed": false
   },
   "outputs": [
    {
     "name": "stdout",
     "output_type": "stream",
     "text": [
      "-> Olfacto loaded\n",
      "bad shape:  (152, 2816, 23) (152,) (152,) (152, 3)\n",
      "good shape:  (152, 2816, 35) (152,) (152,) (152, 3)\n",
      "[0, 1, 2, 3, 4, 5, 6, 7, 8, 9, 10, 11, 12, 13, 14, 15, 16, 17, 18, 19, 20, 21, 22, 36, 37, 73, 74, 75, 76, 77, 78, 79, 80, 81, 82, 91, 92, 93, 94, 95, 96, 97, 98, 99, 100, 101, 102, 103, 104, 105, 106, 107, 108]\n",
      "LEFC bad (53, 2816, 23) (53,) (53,) (53, 3) good (53, 2816, 35) (53,) (53,) (53, 3)\n",
      "['a2-a1' 'a6-a5' 'a7-a6' 'a8-a7' 'a9-a8' 'a10-a9' 'a11-a10' 'b2-b1' 'b3-b2'\n",
      " 'b4-b3' 'b9-b8' 'b10-b9' 'b11-b10' 'd2-d1' 'd3-d2' 'd4-d3' 'd5-d4' 'd6-d5'\n",
      " 'd7-d6' 'd8-d7' 'd9-d8' 'd10-d9' 'd11-d10' 'j2-j1' 'j3-j2' 'q2-q1' 'q3-q2'\n",
      " 'q4-q3' 'q5-q4' 'q6-q5' 'q7-q6' 'q8-q7' 'q9-q8' 'q10-q9' 'q11-q10' 's2-s1'\n",
      " 's3-s2' 's4-s3' 's5-s4' 's6-s5' 's7-s6' 's8-s7' 's9-s8' 's10-s9' 's11-s10'\n",
      " 't2-t1' 't3-t2' 't4-t3' 't5-t4' 't6-t5' 't7-t6' 't8-t7' 't9-t8']\n"
     ]
    }
   ],
   "source": [
    "import numpy as np\n",
    "from brainpipe.system import study\n",
    "from os import path\n",
    "st = study('Olfacto')\n",
    "pathfiles = path.join(st.path, 'database/TS_E_all_by_odor_th40_art400_30_250_Good_Bad_EpiScore_Expi/')\n",
    "su = 'LEFC'\n",
    "################ LOAD FILES WITH ALL ELECTRODES ###########################################\n",
    "badname = np.load(pathfiles+su+'_odor_bad_bipo_new.npz')\n",
    "goodname = np.load(pathfiles+su+'_odor_good_bipo_new.npz')\n",
    "bad, bad_label, bad_channel, bad_xyz = badname['x'], badname['label'], badname['channel'], badname['xyz']\n",
    "good, good_label, good_channel, good_xyz = goodname['x'], goodname['label'], goodname['channel'], goodname['xyz']\n",
    "sf = goodname['sf']\n",
    "print('bad shape: ', bad.shape, bad_label.shape, bad_channel.shape, bad_xyz.shape)\n",
    "print('good shape: ', good.shape, good_label.shape, good_channel.shape, good_xyz.shape)\n",
    "\n",
    "############# CREATE A LIST OF ELECTRODES TO REMOVE #######################################\n",
    "all_elec = ['a','b','d','j','q','s','t']\n",
    "# Find the elecs id to remove them\n",
    "elecs_id = []\n",
    "for elec in range(bad_label.shape[0]):\n",
    "    if any(x in bad_channel[elec] for x in all_elec):\n",
    "        elecs_id.append(elec)\n",
    "    else: continue\n",
    "print(elecs_id)\n",
    "################ REMOVE ALL ELECS INFORMATION FROM THE DATABASE #######################################\n",
    "new_bad, new_bad_label = np.take(bad,elecs_id, axis=0), np.take(bad_label,elecs_id, axis=0)\n",
    "new_bad_channel, new_bad_xyz = np.take(bad_channel,elecs_id, axis=0), np.take(bad_xyz,elecs_id, axis=0)\n",
    "new_good, new_good_label = np.take(good,elecs_id, axis=0), np.take(good_label,elecs_id, axis=0)\n",
    "new_good_channel, new_good_xyz = np.take(good_channel,elecs_id, axis=0), np.take(good_xyz,elecs_id, axis=0)\n",
    "print (su,'bad',new_bad.shape, new_bad_label.shape,new_bad_channel.shape, new_bad_xyz.shape,\n",
    "      'good', new_good.shape, new_good_label.shape, new_good_channel.shape, new_good_xyz.shape)\n",
    "print(new_bad_channel)\n",
    "############### SAVE ELECTRODES TO ANALYZE ##################################################\n",
    "mat_good = {'x':new_bad, 'label':new_bad_label, 'channel':new_bad_channel, 'xyz':new_bad_xyz, 'sf':sf}\n",
    "mat_bad = {'x':new_good, 'label':new_good_label, 'channel':new_good_channel, 'xyz':new_good_xyz, 'sf':sf}\n",
    "file_good = su+'_odor_good_bipo_MTL_PrG.npz'\n",
    "file_bad = su+'_odor_bad_bipo_MTL_PrG.npz'\n",
    "np.savez(pathfiles+file_good,**mat_good)\n",
    "np.savez(pathfiles+file_bad,**mat_bad)\n",
    "del elecs_id, new_bad, new_bad_label, new_bad_channel, new_bad_xyz, new_good\n",
    "del new_good_label, new_good_channel, new_good_xyz"
   ]
  },
  {
   "cell_type": "code",
   "execution_count": 2,
   "metadata": {
    "collapsed": true
   },
   "outputs": [
    {
     "name": "stdout",
     "output_type": "stream",
     "text": [
      "-> Olfacto loaded\n",
      "bad shape:  (152, 2816, 23) (152,) (152,) (152, 3)\n",
      "good shape:  (152, 2816, 35) (152,) (152,) (152, 3)\n",
      "[25, 26, 27, 28, 31, 32, 33, 36, 37, 127, 128, 129, 130]\n",
      "LEFC bad (139, 2816, 23) (139,) (139,) (139, 3) good (139, 2816, 35) (139,) (139,) (139, 3)\n",
      "['a2-a1' 'a6-a5' 'a7-a6' 'a8-a7' 'a9-a8' 'a10-a9' 'a11-a10' 'b2-b1' 'b3-b2'\n",
      " 'b4-b3' 'b9-b8' 'b10-b9' 'b11-b10' 'd2-d1' 'd3-d2' 'd4-d3' 'd5-d4' 'd6-d5'\n",
      " 'd7-d6' 'd8-d7' 'd9-d8' 'd10-d9' 'd11-d10' 'g2-g1' 'g3-g2' 'g8-g7' 'g9-g8'\n",
      " 'g13-g12' 'g14-g13' 'k2-k1' 'k3-k2' 'k4-k3' 'k8-k7' 'k9-k8' 'k10-k9'\n",
      " 'k11-k10' 'k12-k11' 'l2-l1' 'l3-l2' 'l4-l3' 'l5-l4' 'l6-l5' 'l7-l6'\n",
      " 'l8-l7' 'l9-l8' 'l10-l9' 'l11-l10' 'm2-m1' 'm3-m2' 'm10-m9' 'm11-m10'\n",
      " 'm12-m11' 'm13-m12' 'm14-m13' 'o2-o1' 'o3-o2' 'o4-o3' 'o5-o4' 'o6-o5'\n",
      " 'o7-o6' 'o8-o7' 'o9-o8' 'o10-o9' 'o11-o10' 'q2-q1' 'q3-q2' 'q4-q3' 'q5-q4'\n",
      " 'q6-q5' 'q7-q6' 'q8-q7' 'q9-q8' 'q10-q9' 'q11-q10' 'r2-r1' 'r8-r7' 'r9-r8'\n",
      " 'r10-r9' 'r11-r10' 'r12-r11' 'r13-r12' 'r14-r13' 's2-s1' 's3-s2' 's4-s3'\n",
      " 's5-s4' 's6-s5' 's7-s6' 's8-s7' 's9-s8' 's10-s9' 's11-s10' 't2-t1' 't3-t2'\n",
      " 't4-t3' 't5-t4' 't6-t5' 't7-t6' 't8-t7' 't9-t8' 'v2-v1' 'v3-v2' 'v4-v3'\n",
      " 'v5-v4' 'v6-v5' 'v7-v6' 'v8-v7' 'v9-v8' 'v10-v9' 'v11-v10' 'v12-v11'\n",
      " 'w2-w1' 'w3-w2' 'w4-w3' 'w5-w4' 'w6-w5' 'w7-w6' 'w8-w7' 'x2-x1' 'x3-x2'\n",
      " 'x4-x3' 'x5-x4' 'x6-x5' 'x7-x6' 'x8-x7' 'x9-x8' 'x10-x9' 'x11-x10'\n",
      " 'x12-x11' 'x13-x12' 'x14-x13' 'y2-y1' 'y3-y2' 'y4-y3' 'y5-y4' 'y12-y11'\n",
      " 'y13-y12' 'y14-y13' 'y15-y14']\n"
     ]
    }
   ],
   "source": [
    "import numpy as np\n",
    "from brainpipe.system import study\n",
    "from os import path\n",
    "st = study('Olfacto')\n",
    "pathfiles = path.join(st.path, 'database/TS_E_all_by_odor_th40_art400_30_250_Good_Bad_EpiScore_Expi/')\n",
    "su = 'LEFC'\n",
    "\n",
    "################ LOAD FILES WITH ALL ELECTRODES ###########################################\n",
    "badname = np.load(pathfiles+su+'_odor_bad_bipo_new.npz')\n",
    "goodname = np.load(pathfiles+su+'_odor_good_bipo_new.npz')\n",
    "bad, bad_label, bad_channel, bad_xyz = badname['x'], badname['label'], badname['channel'], badname['xyz']\n",
    "good, good_label, good_channel, good_xyz = goodname['x'], goodname['label'], goodname['channel'], goodname['xyz']\n",
    "sf = goodname['sf']\n",
    "print('bad shape: ', bad.shape, bad_label.shape, bad_channel.shape, bad_xyz.shape)\n",
    "print('good shape: ', good.shape, good_label.shape, good_channel.shape, good_xyz.shape)\n",
    "\n",
    "############# CREATE A LIST OF ELECTRODES TO REMOVE #######################################\n",
    "all_elec = ['g4','g5','g6','g10','g11','j1','j2','j3']\n",
    "w = ['w{0}'.format(s) for s in range(9,13)]\n",
    "all_elec_remove = w+all_elec\n",
    "# Find the elecs id to remove them\n",
    "elecs_id = []\n",
    "for elec in range(bad_label.shape[0]):\n",
    "    if any(x in bad_channel[elec] for x in all_elec_remove):\n",
    "        elecs_id.append(elec)\n",
    "    else: continue\n",
    "print(elecs_id)\n",
    "\n",
    "################ REMOVE ALL ELECS INFORMATION FROM THE DATABASE #######################################\n",
    "new_bad, new_bad_label = np.delete(bad,elecs_id, axis=0), np.delete(bad_label,elecs_id, axis=0)\n",
    "new_bad_channel, new_bad_xyz = np.delete(bad_channel,elecs_id, axis=0), np.delete(bad_xyz,elecs_id, axis=0)\n",
    "new_good, new_good_label = np.delete(good,elecs_id, axis=0), np.delete(good_label,elecs_id, axis=0)\n",
    "new_good_channel, new_good_xyz = np.delete(good_channel,elecs_id, axis=0), np.delete(good_xyz,elecs_id, axis=0)\n",
    "print (su,'bad',new_bad.shape, new_bad_label.shape,new_bad_channel.shape, new_bad_xyz.shape,\n",
    "      'good', new_good.shape, new_good_label.shape, new_good_channel.shape, new_good_xyz.shape)\n",
    "print(new_bad_channel)\n",
    "############### SAVE ELECTRODES TO ANALYZE ##################################################\n",
    "mat_good = {'x':new_bad, 'label':new_bad_label, 'channel':new_bad_channel, 'xyz':new_bad_xyz, 'sf':sf}\n",
    "mat_bad = {'x':new_good, 'label':new_good_label, 'channel':new_good_channel, 'xyz':new_good_xyz, 'sf':sf}\n",
    "file_good = su+'_odor_good_bipo_sel.npz'\n",
    "file_bad = su+'_odor_bad_bipo_sel.npz'\n",
    "np.savez(pathfiles+file_good,**mat_good)\n",
    "np.savez(pathfiles+file_bad,**mat_bad)\n",
    "del elecs_id, new_bad, new_bad_label, new_bad_channel, new_bad_xyz, new_good\n",
    "del new_good_label, new_good_channel, new_good_xyz"
   ]
  },
  {
   "cell_type": "code",
   "execution_count": 22,
   "metadata": {
    "collapsed": false
   },
   "outputs": [
    {
     "name": "stdout",
     "output_type": "stream",
     "text": [
      "-> Olfacto loaded\n",
      "bad shape:  (84, 2816, 15) (84,) (84,) (84, 3)\n",
      "good shape:  (84, 2816, 14) (84,) (84,) (84, 3)\n",
      "[0, 1, 2, 9, 10, 11, 12, 13, 16, 17, 18]\n",
      "VACJ bad (73, 2816, 15) (73,) (73,) (73, 3) good (73, 2816, 14) (73,) (73,) (73, 3)\n",
      "['b7-b6' 'b8-b7' 'b9-b8' 'b10-b9' 'b11-b10' 'b12-b11' \"b'11-b'10\"\n",
      " \"b'12-b'11\" \"d'9-d'8\" \"d'10-d'9\" \"d'11-d'10\" \"d'12-d'11\" \"e'2-e'1\"\n",
      " \"e'3-e'2\" \"e'4-e'3\" \"e'5-e'4\" \"e'9-e'8\" 'f2-f1' 'f10-f9' 'f11-f10' 'j4-j3'\n",
      " \"j'2-j'1\" \"j'8-j'7\" \"j'9-j'8\" 'k2-k1' 'k8-k7' 'k9-k8' 'k10-k9' 'k11-k10'\n",
      " 'k12-k11' 'k13-k12' \"k'2-k'1\" \"k'12-k'11\" \"k'13-k'12\" \"k'14-k'13\" 'l2-l1'\n",
      " 'l3-l2' 'l4-l3' 'l5-l4' 'l6-l5' 'l7-l6' 'l8-l7' 'l9-l8' 'l10-l9' 'l11-l10'\n",
      " 'o2-o1' 'o3-o2' 'o4-o3' 'o5-o4' 'o6-o5' 'o7-o6' 'o8-o7' 'o9-o8' 'o10-o9'\n",
      " 'o11-o10' \"o'2-o'1\" \"o'3-o'2\" \"o'6-o'5\" \"o'7-o'6\" \"o'8-o'7\" \"o'9-o'8\"\n",
      " \"o'10-o'9\" \"o'11-o'10\" \"o'12-o'11\" 't2-t1' 't3-t2' 't4-t3' 't5-t4' 't6-t5'\n",
      " 't7-t6' 't8-t7' 't9-t8' 't10-t9']\n"
     ]
    }
   ],
   "source": [
    "import numpy as np\n",
    "from brainpipe.system import study\n",
    "from os import path\n",
    "st = study('Olfacto')\n",
    "pathfiles = path.join(st.path, 'database/TS_E_all_by_odor_th40_art400_30_250_Good_Bad_EpiScore_Expi/')\n",
    "su = 'VACJ'\n",
    "\n",
    "################ LOAD FILES WITH ALL ELECTRODES ###########################################\n",
    "badname = np.load(pathfiles+su+'_odor_bad_bipo_new.npz')\n",
    "goodname = np.load(pathfiles+su+'_odor_good_bipo_new.npz')\n",
    "bad, bad_label, bad_channel, bad_xyz = badname['x'], badname['label'], badname['channel'], badname['xyz']\n",
    "good, good_label, good_channel, good_xyz = goodname['x'], goodname['label'], goodname['channel'], goodname['xyz']\n",
    "sf = goodname['sf']\n",
    "print('bad shape: ', bad.shape, bad_label.shape, bad_channel.shape, bad_xyz.shape)\n",
    "print('good shape: ', good.shape, good_label.shape, good_channel.shape, good_xyz.shape)\n",
    "\n",
    "############# CREATE A LIST OF ELECTRODES TO REMOVE #######################################\n",
    "# all_elec = ['j1','j2','j3']\n",
    "# w = ['w{0}'.format(s) for s in range(9,13)]\n",
    "# all_elec_remove = w+all_elec\n",
    " # Find the elecs id to remove them\n",
    "#elecs_id = []\n",
    "#for elec in range(bad_label.shape[0]):\n",
    "#    if any(x in bad_channel[elec] for x in ['j8','j7']):\n",
    "#        elecs_id.append(elec)\n",
    "#    else: continue\n",
    "#print(elecs_id)\n",
    "\n",
    "a,b,c = list(range(0,3)),list(range(9,14)),list(range(16,19))\n",
    "elecs_id = a+b+c\n",
    "print(elecs_id)\n",
    "\n",
    "################ REMOVE ALL ELECS INFORMATION FROM THE DATABASE #######################################\n",
    "new_bad, new_bad_label = np.delete(bad,elecs_id, axis=0), np.delete(bad_label,elecs_id, axis=0)\n",
    "new_bad_channel, new_bad_xyz = np.delete(bad_channel,elecs_id, axis=0), np.delete(bad_xyz,elecs_id, axis=0)\n",
    "new_good, new_good_label = np.delete(good,elecs_id, axis=0), np.delete(good_label,elecs_id, axis=0)\n",
    "new_good_channel, new_good_xyz = np.delete(good_channel,elecs_id, axis=0), np.delete(good_xyz,elecs_id, axis=0)\n",
    "print (su,'bad',new_bad.shape, new_bad_label.shape,new_bad_channel.shape, new_bad_xyz.shape,\n",
    "      'good', new_good.shape, new_good_label.shape, new_good_channel.shape, new_good_xyz.shape)\n",
    "print(new_bad_channel)\n",
    "############### SAVE ELECTRODES TO ANALYZE ##################################################\n",
    "mat_bad = {'x':new_bad, 'label':new_bad_label, 'channel':new_bad_channel, 'xyz':new_bad_xyz, 'sf':sf}\n",
    "mat_good = {'x':new_good, 'label':new_good_label, 'channel':new_good_channel, 'xyz':new_good_xyz, 'sf':sf}\n",
    "file_good = su+'_odor_good_bipo_sel.npz'\n",
    "file_bad = su+'_odor_bad_bipo_sel.npz'\n",
    "np.savez(pathfiles+file_good,**mat_good)\n",
    "np.savez(pathfiles+file_bad,**mat_bad)\n",
    "del elecs_id, new_bad, new_bad_label, new_bad_channel, new_bad_xyz, new_good\n",
    "del new_good_label, new_good_channel, new_good_xyz"
   ]
  },
  {
   "cell_type": "markdown",
   "metadata": {},
   "source": [
    "### Select electrodes in MTL , Frontal OrG and ACC for all subjects"
   ]
  },
  {
   "cell_type": "code",
   "execution_count": null,
   "metadata": {
    "collapsed": false
   },
   "outputs": [],
   "source": [
    "st = study('Olfacto')\n",
    "pathfiles = path.join(st.path, 'database/TS_E_all_by_odor_th40_art400_30_250_Good_Bad_EpiScore_Expi/')\n",
    "subjects = ['CHAF','VACJ','SEMC','LEFC','MICP','PIRJ','FERJ'] \n",
    "\n",
    "for su in subjects:\n",
    "    #load all subjects information\n",
    "    badname = np.load(pathfiles+su+'_odor_bad_bipo_new.npz')\n",
    "    goodname = np.load(pathfiles+su+'_odor_good_bipo_new.npz')\n",
    "    bad, bad_label, bad_channel, bad_xyz = badname['x'], badname['label'], badname['channel'], badname['xyz']\n",
    "    good, good_label, good_channel, good_xyz = goodname['x'], goodname['label'], goodname['channel'], goodname['xyz']\n",
    "    sf = goodname['sf']\n",
    "    print('bad shape: ', bad.shape, bad_label.shape, bad_channel.shape, bad_xyz.shape)\n",
    "    print('good shape: ', good.shape, good_label.shape, good_channel.shape, good_xyz.shape)\n",
    "    #print('labels', bad_label)\n",
    "\n",
    "    #create a list of all electrodes to keep\n",
    "    elecs_sel = []\n",
    "    rois = ['HC','PHC','Pir','Amg','ACC','OrG','MTG','ITG','STG']\n",
    "    for elec in range(bad_label.shape[0]):\n",
    "        if any(x in bad_label[elec] for x in rois):\n",
    "            elecs_sel.append(elec)\n",
    "        else: continue\n",
    "\n",
    "    #Select electrodes from the database\n",
    "    new_bad, new_bad_label = np.take(bad,elecs_sel, axis=0), np.take(bad_label,elecs_sel, axis=0)\n",
    "    new_bad_channel, new_bad_xyz = np.take(bad_channel,elecs_sel, axis=0), np.take(bad_xyz,elecs_sel, axis=0)\n",
    "    new_good, new_good_label = np.take(good,elecs_sel, axis=0), np.take(good_label,elecs_sel, axis=0)\n",
    "    new_good_channel, new_good_xyz = np.take(good_channel,elecs_sel, axis=0), np.take(good_xyz,elecs_sel, axis=0)\n",
    "    print (su,'bad',new_bad.shape, new_bad_label.shape,new_bad_channel.shape, new_bad_xyz.shape,\n",
    "          'good', new_good.shape, new_good_label.shape, new_good_channel.shape, new_good_xyz.shape)\n",
    "\n",
    "    #Save all new information\n",
    "    mat_good = {'x':new_bad, 'label':new_bad_label, 'channel':new_bad_channel, 'xyz':new_bad_xyz, 'sf':sf}\n",
    "    mat_bad = {'x':new_good, 'label':new_good_label, 'channel':new_good_channel, 'xyz':new_good_xyz, 'sf':sf}\n",
    "    file_good = su+'_odor_good_bipo_new.npz'\n",
    "    file_bad = su+'_odor_bad_bipo_new.npz'\n",
    "    np.savez(pathfiles+file_good,**mat_good)\n",
    "    np.savez(pathfiles+file_bad,**mat_bad)\n",
    "    del elecs_sel, new_bad, new_bad_label, new_bad_channel, new_bad_xyz, new_good\n",
    "    del new_good_label, new_good_channel, new_good_xyz\n"
   ]
  }
 ],
 "metadata": {
  "anaconda-cloud": {},
  "kernelspec": {
   "display_name": "Python [default]",
   "language": "python",
   "name": "python3"
  },
  "language_info": {
   "codemirror_mode": {
    "name": "ipython",
    "version": 3
   },
   "file_extension": ".py",
   "mimetype": "text/x-python",
   "name": "python",
   "nbconvert_exporter": "python",
   "pygments_lexer": "ipython3",
   "version": "3.5.2"
  }
 },
 "nbformat": 4,
 "nbformat_minor": 1
}
