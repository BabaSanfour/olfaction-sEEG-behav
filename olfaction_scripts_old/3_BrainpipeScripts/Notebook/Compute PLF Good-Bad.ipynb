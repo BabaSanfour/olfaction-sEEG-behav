{
 "cells": [
  {
   "cell_type": "markdown",
   "metadata": {
    "collapsed": true
   },
   "source": [
    "## Compute Phase Encoding"
   ]
  },
  {
   "cell_type": "code",
   "execution_count": 5,
   "metadata": {
    "collapsed": false
   },
   "outputs": [],
   "source": [
    "import numpy as np\n",
    "import matplotlib.pyplot as plt\n",
    "import scipy.io as sio\n",
    "#%matplotlib notebook\n",
    "# %matplotlib inline\n",
    "# %load_ext autoreload\n",
    "# %autoreload 2\n",
    "from brainpipe.system import study\n",
    "from brainpipe.feature import power, amplitude, sigfilt, phase, PLF\n",
    "from brainpipe.visual import *\n",
    "\n",
    "from brainpipe.statistics import *\n",
    "from os import path"
   ]
  },
  {
   "cell_type": "markdown",
   "metadata": {},
   "source": [
    "### Check all files dimensions"
   ]
  },
  {
   "cell_type": "code",
   "execution_count": 6,
   "metadata": {
    "collapsed": true
   },
   "outputs": [
    {
     "name": "stdout",
     "output_type": "stream",
     "text": [
      "-> Olfacto loaded\n",
      "CHAF_odor_bad_bipo_sel.npz (94, 2816, 33) ['channel', 'label', 'xyz', 'x', 'sf']\n",
      "CHAF_odor_good_bipo_sel.npz (94, 2816, 33) ['channel', 'label', 'xyz', 'x', 'sf']\n",
      "FERJ_odor_bad_bipo_sel.npz (14, 2816, 26) ['channel', 'label', 'xyz', 'x', 'sf']\n",
      "FERJ_odor_good_bipo_sel.npz (14, 2816, 30) ['channel', 'label', 'xyz', 'x', 'sf']\n",
      "LEFC_odor_bad_bipo_sel.npz (139, 2816, 23) ['channel', 'label', 'xyz', 'x', 'sf']\n",
      "LEFC_odor_good_bipo_sel.npz (139, 2816, 35) ['channel', 'label', 'xyz', 'x', 'sf']\n",
      "MICP_odor_bad_bipo_sel.npz (67, 2816, 45) ['channel', 'label', 'xyz', 'x', 'sf']\n",
      "MICP_odor_good_bipo_sel.npz (67, 2816, 33) ['channel', 'label', 'xyz', 'x', 'sf']\n",
      "PIRJ_odor_bad_bipo_sel.npz (48, 2816, 35) ['channel', 'x', 'label', 'sf', 'xyz']\n",
      "PIRJ_odor_good_bipo_sel.npz (48, 2816, 39) ['channel', 'x', 'label', 'sf', 'xyz']\n",
      "SEMC_odor_bad_bipo_sel.npz (64, 2816, 18) ['channel', 'x', 'label', 'sf', 'xyz']\n",
      "SEMC_odor_good_bipo_sel.npz (64, 2816, 23) ['channel', 'x', 'label', 'sf', 'xyz']\n",
      "VACJ_odor_bad_bipo_sel.npz (73, 2816, 15) ['channel', 'x', 'label', 'sf', 'xyz']\n",
      "VACJ_odor_good_bipo_sel.npz (73, 2816, 14) ['channel', 'x', 'label', 'sf', 'xyz']\n"
     ]
    }
   ],
   "source": [
    "st = study('Olfacto')\n",
    "\n",
    "files = st.search('_bipo_sel.npz', folder='database/TS_E_all_by_odor_th40_art400_30_250_Good_Bad_EpiScore_Expi/')\n",
    "for fi in files:\n",
    "    loadname = path.join(st.path, 'database/TS_E_all_by_odor_th40_art400_30_250_Good_Bad_EpiScore_Expi/', fi)\n",
    "    mat = np.load(loadname)\n",
    "    x = np.load(loadname)['x']\n",
    "    print (fi, x.shape, mat.files)"
   ]
  },
  {
   "cell_type": "markdown",
   "metadata": {},
   "source": [
    "## Compute Phase locking factor\n",
    "    Consistency of phase across trials locked to an event's onset"
   ]
  },
  {
   "cell_type": "code",
   "execution_count": 7,
   "metadata": {
    "collapsed": false,
    "scrolled": true
   },
   "outputs": [
    {
     "name": "stdout",
     "output_type": "stream",
     "text": [
      "-> Olfacto loaded\n",
      "--> compute phase on :  LEFC_odor_bad_bipo_sel.npz data (139, 2816, 23) npts 2816 ntrials 23 nelec 139\n"
     ]
    },
    {
     "name": "stderr",
     "output_type": "stream",
     "text": [
      "/home/karim/anaconda3/lib/python3.5/site-packages/numpy/core/fromnumeric.py:2909: RuntimeWarning: Mean of empty slice.\n",
      "  out=out, **kwargs)\n",
      "/home/karim/anaconda3/lib/python3.5/site-packages/numpy/core/_methods.py:80: RuntimeWarning: invalid value encountered in double_scalars\n",
      "  ret = ret.dtype.type(ret / rcount)\n"
     ]
    },
    {
     "data": {
      "image/png": "[encoded data removed]",
      "text/plain": [
       "<matplotlib.figure.Figure at 0x7f672c7ba208>"
      ]
     },
     "metadata": {},
     "output_type": "display_data"
    },
    {
     "data": {
      "image/png": "[encoded data removed]",
      "text/plain": [
       "<matplotlib.figure.Figure at 0x7f67289cb400>"
      ]
     },
     "metadata": {},
     "output_type": "display_data"
    },
    {
     "name": "stderr",
     "output_type": "stream",
     "text": [
      "Process ForkPoolWorker-15:\n",
      "Process ForkPoolWorker-14:\n",
      "Process ForkPoolWorker-12:\n",
      "Traceback (most recent call last):\n",
      "  File \"/home/karim/anaconda3/lib/python3.5/multiprocessing/process.py\", line 249, in _bootstrap\n",
      "    self.run()\n",
      "  File \"/home/karim/anaconda3/lib/python3.5/multiprocessing/process.py\", line 93, in run\n",
      "    self._target(*self._args, **self._kwargs)\n",
      "Traceback (most recent call last):\n",
      "Traceback (most recent call last):\n",
      "  File \"/home/karim/anaconda3/lib/python3.5/multiprocessing/process.py\", line 249, in _bootstrap\n",
      "    self.run()\n",
      "  File \"/home/karim/anaconda3/lib/python3.5/multiprocessing/pool.py\", line 108, in worker\n",
      "    task = get()\n",
      "  File \"/home/karim/anaconda3/lib/python3.5/multiprocessing/process.py\", line 249, in _bootstrap\n",
      "    self.run()\n",
      "  File \"/home/karim/anaconda3/lib/python3.5/site-packages/joblib/pool.py\", line 357, in get\n",
      "    racquire()\n",
      "  File \"/home/karim/anaconda3/lib/python3.5/multiprocessing/process.py\", line 93, in run\n",
      "    self._target(*self._args, **self._kwargs)\n",
      "KeyboardInterrupt\n",
      "  File \"/home/karim/anaconda3/lib/python3.5/multiprocessing/pool.py\", line 108, in worker\n",
      "    task = get()\n",
      "  File \"/home/karim/anaconda3/lib/python3.5/multiprocessing/process.py\", line 93, in run\n",
      "    self._target(*self._args, **self._kwargs)\n",
      "  File \"/home/karim/anaconda3/lib/python3.5/multiprocessing/pool.py\", line 108, in worker\n",
      "    task = get()\n",
      "  File \"/home/karim/anaconda3/lib/python3.5/site-packages/joblib/pool.py\", line 359, in get\n",
      "    return recv()\n",
      "  File \"/home/karim/anaconda3/lib/python3.5/site-packages/joblib/pool.py\", line 357, in get\n",
      "    racquire()\n",
      "  File \"/home/karim/anaconda3/lib/python3.5/multiprocessing/connection.py\", line 250, in recv\n",
      "    buf = self._recv_bytes()\n",
      "  File \"/home/karim/anaconda3/lib/python3.5/multiprocessing/connection.py\", line 407, in _recv_bytes\n",
      "    buf = self._recv(4)\n",
      "KeyboardInterrupt\n",
      "  File \"/home/karim/anaconda3/lib/python3.5/multiprocessing/connection.py\", line 379, in _recv\n",
      "    chunk = read(handle, remaining)\n",
      "KeyboardInterrupt\n"
     ]
    },
    {
     "ename": "KeyboardInterrupt",
     "evalue": "",
     "output_type": "error",
     "traceback": [
      "\u001b[0;31m---------------------------------------------------------------------------\u001b[0m",
      "\u001b[0;31mKeyboardInterrupt\u001b[0m                         Traceback (most recent call last)",
      "\u001b[0;32m<ipython-input-7-0cad935da21a>\u001b[0m in \u001b[0;36m<module>\u001b[0;34m()\u001b[0m\n\u001b[1;32m     23\u001b[0m             \u001b[0;31m# Define and save power objects :\u001b[0m\u001b[0;34m\u001b[0m\u001b[0;34m\u001b[0m\u001b[0m\n\u001b[1;32m     24\u001b[0m             \u001b[0mPLF0bj\u001b[0m \u001b[0;34m=\u001b[0m \u001b[0mPLF\u001b[0m\u001b[0;34m(\u001b[0m\u001b[0msf\u001b[0m\u001b[0;34m,\u001b[0m \u001b[0mnpts\u001b[0m\u001b[0;34m=\u001b[0m\u001b[0mnpts\u001b[0m\u001b[0;34m,\u001b[0m \u001b[0mf\u001b[0m\u001b[0;34m=\u001b[0m\u001b[0mf\u001b[0m\u001b[0;34m,\u001b[0m \u001b[0mmethod\u001b[0m\u001b[0;34m=\u001b[0m\u001b[0;34m'hilbert'\u001b[0m\u001b[0;34m,\u001b[0m\u001b[0mwidth\u001b[0m\u001b[0;34m=\u001b[0m\u001b[0;36m358\u001b[0m\u001b[0;34m,\u001b[0m \u001b[0mstep\u001b[0m\u001b[0;34m=\u001b[0m\u001b[0;36m51\u001b[0m\u001b[0;34m,\u001b[0m \u001b[0mtime\u001b[0m\u001b[0;34m=\u001b[0m\u001b[0mtime\u001b[0m\u001b[0;34m)\u001b[0m\u001b[0;34m\u001b[0m\u001b[0m\n\u001b[0;32m---> 25\u001b[0;31m             \u001b[0mx_PLF\u001b[0m\u001b[0;34m,\u001b[0m \u001b[0mpval\u001b[0m \u001b[0;34m=\u001b[0m \u001b[0mPLF0bj\u001b[0m\u001b[0;34m.\u001b[0m\u001b[0mget\u001b[0m\u001b[0;34m(\u001b[0m\u001b[0mx_elec\u001b[0m\u001b[0;34m,\u001b[0m\u001b[0mn_jobs\u001b[0m\u001b[0;34m=\u001b[0m\u001b[0;36m5\u001b[0m\u001b[0;34m)\u001b[0m\u001b[0;34m\u001b[0m\u001b[0m\n\u001b[0m\u001b[1;32m     26\u001b[0m \u001b[0;31m#             x_PLF = np.squeeze(x_PLF)\u001b[0m\u001b[0;34m\u001b[0m\u001b[0;34m\u001b[0m\u001b[0m\n\u001b[1;32m     27\u001b[0m             \u001b[0;31m# Plot both PLF in the same figure for good and bad\u001b[0m\u001b[0;34m\u001b[0m\u001b[0;34m\u001b[0m\u001b[0m\n",
      "\u001b[0;32m/home/karim/anaconda3/lib/python3.5/site-packages/brainpipe/feat/basics.py\u001b[0m in \u001b[0;36mget\u001b[0;34m(self, x, getstat, n_jobs)\u001b[0m\n\u001b[1;32m    552\u001b[0m         \"\"\"\n\u001b[1;32m    553\u001b[0m         \u001b[0;31m# Get phase and p-values\u001b[0m\u001b[0;34m\u001b[0m\u001b[0;34m\u001b[0m\u001b[0m\n\u001b[0;32m--> 554\u001b[0;31m         \u001b[0mxf\u001b[0m\u001b[0;34m,\u001b[0m \u001b[0mpval\u001b[0m \u001b[0;34m=\u001b[0m \u001b[0mself\u001b[0m\u001b[0;34m.\u001b[0m\u001b[0m__phaO\u001b[0m\u001b[0;34m.\u001b[0m\u001b[0mget\u001b[0m\u001b[0;34m(\u001b[0m\u001b[0mx\u001b[0m\u001b[0;34m,\u001b[0m \u001b[0mgetstat\u001b[0m\u001b[0;34m=\u001b[0m\u001b[0mgetstat\u001b[0m\u001b[0;34m,\u001b[0m \u001b[0mn_jobs\u001b[0m\u001b[0;34m=\u001b[0m\u001b[0mn_jobs\u001b[0m\u001b[0;34m)\u001b[0m\u001b[0;34m\u001b[0m\u001b[0m\n\u001b[0m\u001b[1;32m    555\u001b[0m         \u001b[0;31m# Get plf\u001b[0m\u001b[0;34m\u001b[0m\u001b[0;34m\u001b[0m\u001b[0m\n\u001b[1;32m    556\u001b[0m         \u001b[0mplf\u001b[0m \u001b[0;34m=\u001b[0m \u001b[0mnp\u001b[0m\u001b[0;34m.\u001b[0m\u001b[0mabs\u001b[0m\u001b[0;34m(\u001b[0m\u001b[0mnp\u001b[0m\u001b[0;34m.\u001b[0m\u001b[0mexp\u001b[0m\u001b[0;34m(\u001b[0m\u001b[0;36m1j\u001b[0m\u001b[0;34m*\u001b[0m\u001b[0;34m(\u001b[0m\u001b[0mxf\u001b[0m\u001b[0;34m)\u001b[0m\u001b[0;34m)\u001b[0m\u001b[0;34m.\u001b[0m\u001b[0mmean\u001b[0m\u001b[0;34m(\u001b[0m\u001b[0;36m3\u001b[0m\u001b[0;34m)\u001b[0m\u001b[0;34m)\u001b[0m\u001b[0;34m\u001b[0m\u001b[0m\n",
      "\u001b[0;32m/home/karim/anaconda3/lib/python3.5/site-packages/brainpipe/feat/basics.py\u001b[0m in \u001b[0;36mget\u001b[0;34m(self, x, getstat, n_jobs)\u001b[0m\n\u001b[1;32m    475\u001b[0m         \u001b[0;31m# run feature computation:\u001b[0m\u001b[0;34m\u001b[0m\u001b[0;34m\u001b[0m\u001b[0m\n\u001b[1;32m    476\u001b[0m         data = Parallel(n_jobs=n_jobs)(\n\u001b[0;32m--> 477\u001b[0;31m             delayed(_phase)(x[k, ...], self) for k in range(nfeat))\n\u001b[0m\u001b[1;32m    478\u001b[0m         \u001b[0mxF\u001b[0m\u001b[0;34m,\u001b[0m \u001b[0mpvalues\u001b[0m \u001b[0;34m=\u001b[0m \u001b[0mzip\u001b[0m\u001b[0;34m(\u001b[0m\u001b[0;34m*\u001b[0m\u001b[0mdata\u001b[0m\u001b[0;34m)\u001b[0m\u001b[0;34m\u001b[0m\u001b[0m\n\u001b[1;32m    479\u001b[0m         \u001b[0;31m# Manage output type:\u001b[0m\u001b[0;34m\u001b[0m\u001b[0;34m\u001b[0m\u001b[0m\n",
      "\u001b[0;32m/home/karim/anaconda3/lib/python3.5/site-packages/joblib/parallel.py\u001b[0m in \u001b[0;36m__call__\u001b[0;34m(self, iterable)\u001b[0m\n\u001b[1;32m    808\u001b[0m                 \u001b[0;31m# consumption.\u001b[0m\u001b[0;34m\u001b[0m\u001b[0;34m\u001b[0m\u001b[0m\n\u001b[1;32m    809\u001b[0m                 \u001b[0mself\u001b[0m\u001b[0;34m.\u001b[0m\u001b[0m_iterating\u001b[0m \u001b[0;34m=\u001b[0m \u001b[0;32mFalse\u001b[0m\u001b[0;34m\u001b[0m\u001b[0m\n\u001b[0;32m--> 810\u001b[0;31m             \u001b[0mself\u001b[0m\u001b[0;34m.\u001b[0m\u001b[0mretrieve\u001b[0m\u001b[0;34m(\u001b[0m\u001b[0;34m)\u001b[0m\u001b[0;34m\u001b[0m\u001b[0m\n\u001b[0m\u001b[1;32m    811\u001b[0m             \u001b[0;31m# Make sure that we get a last message telling us we are done\u001b[0m\u001b[0;34m\u001b[0m\u001b[0;34m\u001b[0m\u001b[0m\n\u001b[1;32m    812\u001b[0m             \u001b[0melapsed_time\u001b[0m \u001b[0;34m=\u001b[0m \u001b[0mtime\u001b[0m\u001b[0;34m.\u001b[0m\u001b[0mtime\u001b[0m\u001b[0;34m(\u001b[0m\u001b[0;34m)\u001b[0m \u001b[0;34m-\u001b[0m \u001b[0mself\u001b[0m\u001b[0;34m.\u001b[0m\u001b[0m_start_time\u001b[0m\u001b[0;34m\u001b[0m\u001b[0m\n",
      "\u001b[0;32m/home/karim/anaconda3/lib/python3.5/site-packages/joblib/parallel.py\u001b[0m in \u001b[0;36mretrieve\u001b[0;34m(self)\u001b[0m\n\u001b[1;32m    755\u001b[0m                     \u001b[0;31m# a working pool as they expect.\u001b[0m\u001b[0;34m\u001b[0m\u001b[0;34m\u001b[0m\u001b[0m\n\u001b[1;32m    756\u001b[0m                     \u001b[0mself\u001b[0m\u001b[0;34m.\u001b[0m\u001b[0m_initialize_pool\u001b[0m\u001b[0;34m(\u001b[0m\u001b[0;34m)\u001b[0m\u001b[0;34m\u001b[0m\u001b[0m\n\u001b[0;32m--> 757\u001b[0;31m                 \u001b[0;32mraise\u001b[0m \u001b[0mexception\u001b[0m\u001b[0;34m\u001b[0m\u001b[0m\n\u001b[0m\u001b[1;32m    758\u001b[0m \u001b[0;34m\u001b[0m\u001b[0m\n\u001b[1;32m    759\u001b[0m     \u001b[0;32mdef\u001b[0m \u001b[0m__call__\u001b[0m\u001b[0;34m(\u001b[0m\u001b[0mself\u001b[0m\u001b[0;34m,\u001b[0m \u001b[0miterable\u001b[0m\u001b[0;34m)\u001b[0m\u001b[0;34m:\u001b[0m\u001b[0;34m\u001b[0m\u001b[0m\n",
      "\u001b[0;32m/home/karim/anaconda3/lib/python3.5/site-packages/joblib/parallel.py\u001b[0m in \u001b[0;36mretrieve\u001b[0;34m(self)\u001b[0m\n\u001b[1;32m    725\u001b[0m                 \u001b[0mjob\u001b[0m \u001b[0;34m=\u001b[0m \u001b[0mself\u001b[0m\u001b[0;34m.\u001b[0m\u001b[0m_jobs\u001b[0m\u001b[0;34m.\u001b[0m\u001b[0mpop\u001b[0m\u001b[0;34m(\u001b[0m\u001b[0;36m0\u001b[0m\u001b[0;34m)\u001b[0m\u001b[0;34m\u001b[0m\u001b[0m\n\u001b[1;32m    726\u001b[0m             \u001b[0;32mtry\u001b[0m\u001b[0;34m:\u001b[0m\u001b[0;34m\u001b[0m\u001b[0m\n\u001b[0;32m--> 727\u001b[0;31m                 \u001b[0mself\u001b[0m\u001b[0;34m.\u001b[0m\u001b[0m_output\u001b[0m\u001b[0;34m.\u001b[0m\u001b[0mextend\u001b[0m\u001b[0;34m(\u001b[0m\u001b[0mjob\u001b[0m\u001b[0;34m.\u001b[0m\u001b[0mget\u001b[0m\u001b[0;34m(\u001b[0m\u001b[0;34m)\u001b[0m\u001b[0;34m)\u001b[0m\u001b[0;34m\u001b[0m\u001b[0m\n\u001b[0m\u001b[1;32m    728\u001b[0m             \u001b[0;32mexcept\u001b[0m \u001b[0mtuple\u001b[0m\u001b[0;34m(\u001b[0m\u001b[0mself\u001b[0m\u001b[0;34m.\u001b[0m\u001b[0mexceptions\u001b[0m\u001b[0;34m)\u001b[0m \u001b[0;32mas\u001b[0m \u001b[0mexception\u001b[0m\u001b[0;34m:\u001b[0m\u001b[0;34m\u001b[0m\u001b[0m\n\u001b[1;32m    729\u001b[0m                 \u001b[0;31m# Stop dispatching any new job in the async callback thread\u001b[0m\u001b[0;34m\u001b[0m\u001b[0;34m\u001b[0m\u001b[0m\n",
      "\u001b[0;32m/home/karim/anaconda3/lib/python3.5/multiprocessing/pool.py\u001b[0m in \u001b[0;36mget\u001b[0;34m(self, timeout)\u001b[0m\n\u001b[1;32m    600\u001b[0m \u001b[0;34m\u001b[0m\u001b[0m\n\u001b[1;32m    601\u001b[0m     \u001b[0;32mdef\u001b[0m \u001b[0mget\u001b[0m\u001b[0;34m(\u001b[0m\u001b[0mself\u001b[0m\u001b[0;34m,\u001b[0m \u001b[0mtimeout\u001b[0m\u001b[0;34m=\u001b[0m\u001b[0;32mNone\u001b[0m\u001b[0;34m)\u001b[0m\u001b[0;34m:\u001b[0m\u001b[0;34m\u001b[0m\u001b[0m\n\u001b[0;32m--> 602\u001b[0;31m         \u001b[0mself\u001b[0m\u001b[0;34m.\u001b[0m\u001b[0mwait\u001b[0m\u001b[0;34m(\u001b[0m\u001b[0mtimeout\u001b[0m\u001b[0;34m)\u001b[0m\u001b[0;34m\u001b[0m\u001b[0m\n\u001b[0m\u001b[1;32m    603\u001b[0m         \u001b[0;32mif\u001b[0m \u001b[0;32mnot\u001b[0m \u001b[0mself\u001b[0m\u001b[0;34m.\u001b[0m\u001b[0mready\u001b[0m\u001b[0;34m(\u001b[0m\u001b[0;34m)\u001b[0m\u001b[0;34m:\u001b[0m\u001b[0;34m\u001b[0m\u001b[0m\n\u001b[1;32m    604\u001b[0m             \u001b[0;32mraise\u001b[0m \u001b[0mTimeoutError\u001b[0m\u001b[0;34m\u001b[0m\u001b[0m\n",
      "\u001b[0;32m/home/karim/anaconda3/lib/python3.5/multiprocessing/pool.py\u001b[0m in \u001b[0;36mwait\u001b[0;34m(self, timeout)\u001b[0m\n\u001b[1;32m    597\u001b[0m \u001b[0;34m\u001b[0m\u001b[0m\n\u001b[1;32m    598\u001b[0m     \u001b[0;32mdef\u001b[0m \u001b[0mwait\u001b[0m\u001b[0;34m(\u001b[0m\u001b[0mself\u001b[0m\u001b[0;34m,\u001b[0m \u001b[0mtimeout\u001b[0m\u001b[0;34m=\u001b[0m\u001b[0;32mNone\u001b[0m\u001b[0;34m)\u001b[0m\u001b[0;34m:\u001b[0m\u001b[0;34m\u001b[0m\u001b[0m\n\u001b[0;32m--> 599\u001b[0;31m         \u001b[0mself\u001b[0m\u001b[0;34m.\u001b[0m\u001b[0m_event\u001b[0m\u001b[0;34m.\u001b[0m\u001b[0mwait\u001b[0m\u001b[0;34m(\u001b[0m\u001b[0mtimeout\u001b[0m\u001b[0;34m)\u001b[0m\u001b[0;34m\u001b[0m\u001b[0m\n\u001b[0m\u001b[1;32m    600\u001b[0m \u001b[0;34m\u001b[0m\u001b[0m\n\u001b[1;32m    601\u001b[0m     \u001b[0;32mdef\u001b[0m \u001b[0mget\u001b[0m\u001b[0;34m(\u001b[0m\u001b[0mself\u001b[0m\u001b[0;34m,\u001b[0m \u001b[0mtimeout\u001b[0m\u001b[0;34m=\u001b[0m\u001b[0;32mNone\u001b[0m\u001b[0;34m)\u001b[0m\u001b[0;34m:\u001b[0m\u001b[0;34m\u001b[0m\u001b[0m\n",
      "\u001b[0;32m/home/karim/anaconda3/lib/python3.5/threading.py\u001b[0m in \u001b[0;36mwait\u001b[0;34m(self, timeout)\u001b[0m\n\u001b[1;32m    547\u001b[0m             \u001b[0msignaled\u001b[0m \u001b[0;34m=\u001b[0m \u001b[0mself\u001b[0m\u001b[0;34m.\u001b[0m\u001b[0m_flag\u001b[0m\u001b[0;34m\u001b[0m\u001b[0m\n\u001b[1;32m    548\u001b[0m             \u001b[0;32mif\u001b[0m \u001b[0;32mnot\u001b[0m \u001b[0msignaled\u001b[0m\u001b[0;34m:\u001b[0m\u001b[0;34m\u001b[0m\u001b[0m\n\u001b[0;32m--> 549\u001b[0;31m                 \u001b[0msignaled\u001b[0m \u001b[0;34m=\u001b[0m \u001b[0mself\u001b[0m\u001b[0;34m.\u001b[0m\u001b[0m_cond\u001b[0m\u001b[0;34m.\u001b[0m\u001b[0mwait\u001b[0m\u001b[0;34m(\u001b[0m\u001b[0mtimeout\u001b[0m\u001b[0;34m)\u001b[0m\u001b[0;34m\u001b[0m\u001b[0m\n\u001b[0m\u001b[1;32m    550\u001b[0m             \u001b[0;32mreturn\u001b[0m \u001b[0msignaled\u001b[0m\u001b[0;34m\u001b[0m\u001b[0m\n\u001b[1;32m    551\u001b[0m \u001b[0;34m\u001b[0m\u001b[0m\n",
      "\u001b[0;32m/home/karim/anaconda3/lib/python3.5/threading.py\u001b[0m in \u001b[0;36mwait\u001b[0;34m(self, timeout)\u001b[0m\n\u001b[1;32m    291\u001b[0m         \u001b[0;32mtry\u001b[0m\u001b[0;34m:\u001b[0m    \u001b[0;31m# restore state no matter what (e.g., KeyboardInterrupt)\u001b[0m\u001b[0;34m\u001b[0m\u001b[0m\n\u001b[1;32m    292\u001b[0m             \u001b[0;32mif\u001b[0m \u001b[0mtimeout\u001b[0m \u001b[0;32mis\u001b[0m \u001b[0;32mNone\u001b[0m\u001b[0;34m:\u001b[0m\u001b[0;34m\u001b[0m\u001b[0m\n\u001b[0;32m--> 293\u001b[0;31m                 \u001b[0mwaiter\u001b[0m\u001b[0;34m.\u001b[0m\u001b[0macquire\u001b[0m\u001b[0;34m(\u001b[0m\u001b[0;34m)\u001b[0m\u001b[0;34m\u001b[0m\u001b[0m\n\u001b[0m\u001b[1;32m    294\u001b[0m                 \u001b[0mgotit\u001b[0m \u001b[0;34m=\u001b[0m \u001b[0;32mTrue\u001b[0m\u001b[0;34m\u001b[0m\u001b[0m\n\u001b[1;32m    295\u001b[0m             \u001b[0;32melse\u001b[0m\u001b[0;34m:\u001b[0m\u001b[0;34m\u001b[0m\u001b[0m\n",
      "\u001b[0;31mKeyboardInterrupt\u001b[0m: "
     ]
    }
   ],
   "source": [
    "st = study('Olfacto')\n",
    "subjects = ['LEFC'] #'FERJ','MICP','VACJ','SEMC','LEFC','PIRJ','CHAF'\n",
    "conds = ['bad', 'good']\n",
    "\n",
    "# Define phase settings \n",
    "f = (0.1,13.,0.2,0.1)\n",
    "fname = ['VLFC','delta','theta', 'alpha']\n",
    "\n",
    "for su in subjects:\n",
    "    for cond in conds:\n",
    "        # Load file :\n",
    "        fi = su+'_odor_'+cond+'_bipo_sel.npz'\n",
    "        loadname = path.join(st.path, 'database/TS_E_all_by_odor_th40_art400_30_250_Good_Bad_EpiScore_Expi/', fi)\n",
    "        mat = np.load(loadname)\n",
    "        x, sf = mat['x'], 512.\n",
    "        n_elec, npts, n_trials = x.shape\n",
    "        print ('--> compute phase on : ', fi, 'data', x.shape, 'npts', npts, 'ntrials',n_trials, 'nelec', n_elec)              \n",
    "        \n",
    "        for elec in range(n_elec):\n",
    "            x_elec = x[elec,:,:][np.newaxis]\n",
    "            step = 5500/ x_elec.shape[0]\n",
    "            time = np.arange(0, 5500, step)\n",
    "            # Define and save power objects :\n",
    "            PLF0bj = PLF(sf, npts=npts, f=f, method='hilbert',width=358, step=51, time=time)\n",
    "            x_PLF, pval = PLF0bj.get(x_elec,n_jobs=5)\n",
    "#             x_PLF = np.squeeze(x_PLF)\n",
    "            # Plot both PLF in the same figure for good and bad\n",
    "            fig = plt.figure(1,figsize=(6,4))\n",
    "            title = 'trial '+str(elec)\n",
    "            fig, allax = PLF0bj.plot2D(fig, x_PLF, cmap='viridis', xlabel='Time (ms)', \n",
    "                xvec=PLF0bj.xvec, yvec=PLF0bj.yvec, ylabel='Frequency for phase (hz)', \n",
    "                figtitle=title, cblabel='PLF', vmin=0.,vmax=0.8)\n",
    "            plt.show()\n",
    "            "
   ]
  },
  {
   "cell_type": "code",
   "execution_count": null,
   "metadata": {
    "collapsed": true
   },
   "outputs": [],
   "source": [
    " kwargs = {}\n",
    "        kwargs['f'], kwargs['fname'] = f, fname\n",
    "        kwargs['labels'], kwargs['channels'], kwargs['xyz'] = mat['label'], mat['channel'], mat['xyz']\n",
    "        kwargs['PLF'],  kwargs['PLF_pval']= PLF0bj.get(x,n_jobs=5)\n",
    "        print('shape of PLF for one elec -->', kwargs['PLF'].shape)\n",
    "        save_phase = path.join(st.path, 'feature/7_Phase_E1E2_Odor_Good_Bad_EpiScore_Expi/', fi.replace('.npz', '_PLF.npz'))\n",
    "        np.savez(save_phase, **kwargs)\n",
    "        del kwargs['PLF'],  kwargs['PLF_pval'], kwargs['fname']\n",
    "        del kwargs, x, sf, n_elec, n_trials"
   ]
  },
  {
   "cell_type": "markdown",
   "metadata": {},
   "source": [
    "### Check all phase files dimensions"
   ]
  },
  {
   "cell_type": "code",
   "execution_count": 3,
   "metadata": {
    "collapsed": false
   },
   "outputs": [
    {
     "name": "stdout",
     "output_type": "stream",
     "text": [
      "-> Olfacto loaded\n",
      "CHAF_odor_bad_bipo_sel_PLF.npz (94, 12, 49)\n",
      "['f', 'PLF', 'labels', 'channels', 'fname', 'PLF_pval', 'xyz']\n",
      "CHAF_odor_good_bipo_sel_PLF.npz (94, 12, 49)\n",
      "['f', 'PLF', 'labels', 'channels', 'fname', 'PLF_pval', 'xyz']\n",
      "FERJ_odor_bad_bipo_sel_PLF.npz (14, 12, 49)\n",
      "['channels', 'fname', 'f', 'labels', 'PLF', 'xyz', 'PLF_pval']\n",
      "FERJ_odor_good_bipo_sel_PLF.npz (14, 12, 49)\n",
      "['channels', 'fname', 'f', 'labels', 'PLF', 'xyz', 'PLF_pval']\n",
      "LEFC_odor_bad_bipo_sel_PLF.npz (139, 12, 49)\n",
      "['f', 'PLF', 'labels', 'channels', 'fname', 'PLF_pval', 'xyz']\n",
      "LEFC_odor_good_bipo_sel_PLF.npz (139, 12, 49)\n",
      "['f', 'PLF', 'labels', 'channels', 'fname', 'PLF_pval', 'xyz']\n",
      "MICP_odor_bad_bipo_sel_PLF.npz (67, 12, 49)\n",
      "['channels', 'fname', 'f', 'labels', 'PLF', 'xyz', 'PLF_pval']\n",
      "MICP_odor_good_bipo_sel_PLF.npz (67, 12, 49)\n",
      "['channels', 'fname', 'f', 'labels', 'PLF', 'xyz', 'PLF_pval']\n",
      "PIRJ_odor_bad_bipo_sel_PLF.npz (48, 12, 49)\n",
      "['f', 'PLF', 'labels', 'channels', 'fname', 'PLF_pval', 'xyz']\n",
      "PIRJ_odor_good_bipo_sel_PLF.npz (48, 12, 49)\n",
      "['f', 'PLF', 'labels', 'channels', 'fname', 'PLF_pval', 'xyz']\n",
      "SEMC_odor_bad_bipo_sel_PLF.npz (64, 12, 49)\n",
      "['channels', 'fname', 'f', 'labels', 'PLF', 'xyz', 'PLF_pval']\n",
      "SEMC_odor_good_bipo_sel_PLF.npz (64, 12, 49)\n",
      "['channels', 'fname', 'f', 'labels', 'PLF', 'xyz', 'PLF_pval']\n",
      "VACJ_odor_bad_bipo_sel_PLF.npz (73, 12, 49)\n",
      "['channels', 'fname', 'f', 'labels', 'PLF', 'xyz', 'PLF_pval']\n",
      "VACJ_odor_good_bipo_sel_PLF.npz (73, 12, 49)\n",
      "['channels', 'fname', 'f', 'labels', 'PLF', 'xyz', 'PLF_pval']\n"
     ]
    }
   ],
   "source": [
    "st = study('Olfacto')\n",
    "files = st.search('_sel_PLF.npz', folder='feature/7_Phase_E1E2_Odor_Good_Bad_EpiScore_Expi/')\n",
    "for fi in files:\n",
    "    loadname = path.join(st.path, 'feature/7_Phase_E1E2_Odor_Good_Bad_EpiScore_Expi/', fi)\n",
    "    mat = np.load(loadname)\n",
    "    x = np.load(loadname)['PLF']\n",
    "    # nfreq, nelec, nwin, ntrials\n",
    "    print (fi, x.shape)\n",
    "    print(mat.files)"
   ]
  },
  {
   "cell_type": "markdown",
   "metadata": {},
   "source": [
    "### Plot all phases for all electrodes    \n",
    "    Ploting the PLF for good and bad conditions with stats"
   ]
  },
  {
   "cell_type": "code",
   "execution_count": null,
   "metadata": {
    "collapsed": false
   },
   "outputs": [],
   "source": [
    "#%matplotlib notebook\n",
    "st = study('Olfacto')\n",
    "path_phase = path.join(st.path, 'feature/7_Phase_E1E2_Odor_Good_Bad_EpiScore_Expi/')\n",
    "path_save = path.join(path_phase, 'figures_PLF/')\n",
    "subjects = ['FERJ','MICP','VACJ','SEMC','LEFC','PIRJ','CHAF']\n",
    "\n",
    "su = 'LEFC'\n",
    "freq = 0\n",
    "elec = 3\n",
    "\n",
    "#load big files (PLF: nelec, nfreq, npts)\n",
    "mat_good = np.load(path_phase+su+'_odor_good_bipo_sel_PLF.npz')\n",
    "good_phase, pvals_good = mat_good['PLF'],mat_good['PLF_pval']\n",
    "print(good_phase.shape, pvals_good.shape)\n",
    "nelecs, nfreq = good_phase.shape[0], good_phase.shape[1]\n",
    "mat_bad = np.load(path_phase+su+'_odor_bad_bipo_sel_PLF.npz')\n",
    "bad_phase, pvals_bad = mat_bad['PLF'], mat_bad['PLF_pval']\n",
    "freq_names, channels, labels = mat_good['fname'], mat_good['channels'], mat_good['labels']\n",
    "\n",
    "# files for one elec (shape: npts)\n",
    "print('plotting --> ', su, freq_names[freq],'elec', elec,'/',nelecs)\n",
    "elec_good_phase = good_phase[elec,freq,:]\n",
    "elec_bad_phase = bad_phase[elec,freq,:]\n",
    "pval_good, pval_bad = pvals_good[elec,freq,:], pvals_bad[elec,freq,:]\n",
    "freq_name, label, channel = freq_names[freq], labels[elec], channels[elec]\n",
    "print('elec good shape', elec_good_phase.shape, 'elec bad shape', elec_bad_phase.shape)\n",
    "\n",
    "# Plot both PLF in the same figure for good and bad\n",
    "fig = plt.figure(1,figsize=(6,4))\n",
    "step = 5500/ elec_good_phase.shape[0]\n",
    "time = np.arange(0, 5500, step)\n",
    "title = 'trial '\n",
    "fig, allax = PLF0bj.plot2D(fig, elec_good_phase, cmap='viridis', xlabel='Time (ms)', \n",
    "            ylabel='Frequency for phase (hz)', figtitle=title, cblabel='PLF')\n",
    "            "
   ]
  },
  {
   "cell_type": "code",
   "execution_count": null,
   "metadata": {
    "collapsed": true
   },
   "outputs": [],
   "source": [
    "time = 1000 * np.arange(plf_all.shape[0]) / sf #to set the 0 in your TF\n",
    "print ('Time points: ', len(time),min(time), max(time))\n",
    "tfObj = TF(sf, bad.shape[0], f=f, time=time, width=width, step=step,baseline=baseline, norm=3)\n",
    "xtf_bad, _ = tfObj.get((bad), statmeth=None, n_perm=n_perm, maxstat=False, tail=2, metric='m_center')\n",
    "xtf_good, _ = tfObj.get((good), statmeth=None, n_perm=n_perm, maxstat=False, tail=2, metric='m_center')\n",
    "print ('TF size :', xtf_bad.shape, xtf_good.shape)\n",
    "xtf_bad, xtf_good = 100*np.swapaxes(xtf_bad,0,1), 100*np.swapaxes(xtf_good,0,1)\n",
    "\n",
    "# plot both TF in the same figure\n",
    "xtf_all = np.concatenate((xtf_bad, xtf_good), axis=0)\n",
    "print ('TF size :', xtf_bad.shape,xtf_good.shape)\n",
    "fig = plt.figure(elec, figsize=(10, 4))\n",
    "title = su+' Elec('+str(elec)+') '+channel+' '+label+' Bad/Good'\n",
    "fig, allax = tfObj.plot2D(fig, xtf_all, cmap='viridis', xvec=tfObj.xvec,\n",
    "             yvec=tfObj.yvec, xlabel='Time (ms)', vmin=-100, vmax=100, ycb=-20,\n",
    "             ylabel='Frequency (hz)', figtitle=title, title=['Bad Odors', 'Good odors'],\n",
    "             cblabel='Power modulations (%)', pltype='imshow', resample=(0.1, 0.1),\n",
    "            sharex=False, sharey=False, subdim=(1,2), subspace={'top':0.8})\n",
    "for k in allax:\n",
    "    addLines(k, vLines=lines, vColor=['firebrick']*2, vWidth=[2]*2)\n",
    "#Save all your plots\n",
    "fname = (path2save+su+'_TF_elec_('+str(elec)+')_'+channel+'_'+label+'_Bad-Good.png')\n",
    "print (fname)\n",
    "fig.savefig(fname, dpi=300, bbox_inches='tight')\n",
    "plt.close()"
   ]
  }
 ],
 "metadata": {
  "anaconda-cloud": {},
  "kernelspec": {
   "display_name": "Python [conda root]",
   "language": "python",
   "name": "conda-root-py"
  },
  "language_info": {
   "codemirror_mode": {
    "name": "ipython",
    "version": 3
   },
   "file_extension": ".py",
   "mimetype": "text/x-python",
   "name": "python",
   "nbconvert_exporter": "python",
   "pygments_lexer": "ipython3",
   "version": "3.5.5"
  }
 },
 "nbformat": 4,
 "nbformat_minor": 1
}
