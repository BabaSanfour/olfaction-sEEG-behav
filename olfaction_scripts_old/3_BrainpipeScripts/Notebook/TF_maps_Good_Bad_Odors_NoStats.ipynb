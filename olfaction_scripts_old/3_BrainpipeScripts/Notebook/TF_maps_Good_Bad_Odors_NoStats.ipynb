{
 "cells": [
  {
   "cell_type": "markdown",
   "metadata": {},
   "source": [
    "## Import libraries"
   ]
  },
  {
   "cell_type": "code",
   "execution_count": 1,
   "metadata": {
    "collapsed": true
   },
   "outputs": [],
   "source": [
    "import numpy as np\n",
    "import matplotlib.pyplot as plt\n",
    "from os import path\n",
    "#%matplotlib notebook\n",
    "\n",
    "from brainpipe.system import study\n",
    "from brainpipe.feature import TF\n",
    "from brainpipe.visual import *\n",
    "from brainpipe.statistics import *"
   ]
  },
  {
   "cell_type": "code",
   "execution_count": 2,
   "metadata": {
    "collapsed": false
   },
   "outputs": [],
   "source": [
    "sf = 512\n",
    "n_perm = 1000\n",
    "f = (1,120,4,2)  # Frequency vector: (from, to, width, step) 1 to 120 Hz 4 2 #0.1, 13, 0.5, 0.1\n",
    "lines = [975,4000]\n",
    "baseline = [0, 700] # Time in seconds (rest 700ms au milieu des 1s extraite)\n",
    "width, step = 50, 10 #Time vector"
   ]
  },
  {
   "cell_type": "markdown",
   "metadata": {},
   "source": [
    "### Compute TF on unbalanced data for all selected electrodes\n",
    "#### No baseline correction - over 5.5s after odor is sent"
   ]
  },
  {
   "cell_type": "code",
   "execution_count": null,
   "metadata": {
    "collapsed": false,
    "scrolled": true
   },
   "outputs": [
    {
     "name": "stdout",
     "output_type": "stream",
     "text": [
      "-> Olfacto loaded\n",
      "LEFC bad shape:  (139, 2816, 23) good shape:  (139, 2816, 35)\n",
      "LEFC a2-a1 Amg-pPirT (2816, 23) (2816, 35) nb points 2816\n",
      "Time points:  2816 0.0 5498.046875\n",
      "TF size : (58, 1, 277) (58, 1, 277)\n",
      "TF size : (1, 58, 277) (1, 58, 277)\n",
      "/media/karim/Datas4To/1_Analyses_Intra_EM_Odor/Olfacto/feature/1_TF_Test/LEFC_TF_elec_(0)_a2-a1_Amg-pPirT_Bad-Good.png\n",
      "LEFC a6-a5 Ins-Ppo (2816, 23) (2816, 35) nb points 2816\n",
      "Time points:  2816 0.0 5498.046875\n",
      "TF size : (58, 1, 277) (58, 1, 277)\n",
      "TF size : (1, 58, 277) (1, 58, 277)\n",
      "/media/karim/Datas4To/1_Analyses_Intra_EM_Odor/Olfacto/feature/1_TF_Test/LEFC_TF_elec_(1)_a6-a5_Ins-Ppo_Bad-Good.png\n",
      "LEFC a7-a6 Ins-Ppo (2816, 23) (2816, 35) nb points 2816\n",
      "Time points:  2816 0.0 5498.046875\n",
      "TF size : (58, 1, 277) (58, 1, 277)\n",
      "TF size : (1, 58, 277) (1, 58, 277)\n",
      "/media/karim/Datas4To/1_Analyses_Intra_EM_Odor/Olfacto/feature/1_TF_Test/LEFC_TF_elec_(2)_a7-a6_Ins-Ppo_Bad-Good.png\n",
      "LEFC a8-a7 aSTG-aMTG&Ins-Ppo (2816, 23) (2816, 35) nb points 2816\n",
      "Time points:  2816 0.0 5498.046875\n"
     ]
    }
   ],
   "source": [
    "st = study('Olfacto')\n",
    "path_data = path.join (st.path, 'database/Test_Good_Bad_EpiScore_Expi/')\n",
    "path2save = path.join (st.path, 'feature/1_TF_Test/')\n",
    "conds = ['bad', 'good']\n",
    "#subjects = ['LEFC','CHAF','VACJ','SEMC','FERJ','MICP','PIRJ']\n",
    "subjects = ['LEFC','CHAF','VACJ','SEMC','FERJ','MICP','PIRJ']\n",
    "\n",
    "for su in subjects:\n",
    "    bad_data = np.load(path.join(path_data, su+'_odor_bad_bipo_sel.npz'))['x']\n",
    "    good_data = np.load(path.join(path_data, su+'_odor_good_bipo_sel.npz'))['x']\n",
    "    names = np.load(path.join(path_data, su+'_odor_good_bipo_sel.npz'))['label']\n",
    "    channels = np.load(path.join(path_data, su+'_odor_good_bipo_sel.npz'))['channel']\n",
    "    print (su, 'bad shape: ', bad_data.shape, 'good shape: ', good_data.shape)\n",
    "\n",
    "# ========================= COMPUTE TF FOR 1 ELEC =============================================\n",
    "    for elec in range(bad_data.shape[0]):\n",
    "        bad, good = bad_data[elec,:,:], good_data[elec,:,:]\n",
    "        channel, label, sf = channels[elec], names[elec], 512\n",
    "        print (su, channel, label, bad.shape, good.shape, 'nb points', bad.shape[0])\n",
    "        \n",
    "        #Get the TF\n",
    "        # time = all data points in the original data (window to plot is selected afterwards)\n",
    "        time = 1000 * np.arange(bad.shape[0]) / sf #to set the 0 in your TF\n",
    "        print ('Time points: ', len(time),min(time), max(time))\n",
    "        tfObj = TF(sf, bad.shape[0], f=f, time=time, width=width, step=step,baseline=baseline, norm=3)\n",
    "        xtf_bad, _ = tfObj.get((bad), statmeth=None, n_perm=n_perm, maxstat=False, tail=2, metric='m_center')\n",
    "        xtf_good, _ = tfObj.get((good), statmeth=None, n_perm=n_perm, maxstat=False, tail=2, metric='m_center')\n",
    "        print ('TF size :', xtf_bad.shape, xtf_good.shape)\n",
    "        xtf_bad, xtf_good = 100*np.swapaxes(xtf_bad,0,1), 100*np.swapaxes(xtf_good,0,1)\n",
    "        \n",
    "        # plot both TF in the same figure\n",
    "        xtf_all = np.concatenate((xtf_bad, xtf_good), axis=0)\n",
    "        print ('TF size :', xtf_bad.shape,xtf_good.shape)\n",
    "        fig = plt.figure(elec, figsize=(10, 4))\n",
    "        title = su+' Elec('+str(elec)+') '+channel+' '+label+' Bad/Good'\n",
    "        fig, allax = tfObj.plot2D(fig, xtf_all, cmap='viridis', xvec=tfObj.xvec,\n",
    "                     yvec=tfObj.yvec, xlabel='Time (ms)', vmin=-100, vmax=100, ycb=-20,\n",
    "                     ylabel='Frequency (hz)', figtitle=title, title=['Bad Odors', 'Good odors'],\n",
    "                     cblabel='Power modulations (%)', pltype='imshow', resample=(0.1, 0.1),\n",
    "                    sharex=False, sharey=False, subdim=(1,2), subspace={'top':0.8})\n",
    "        for k in allax:\n",
    "            addLines(k, vLines=lines, vColor=['firebrick']*2, vWidth=[2]*2)\n",
    "        #Save all your plots\n",
    "        fname = (path2save+su+'_TF_elec_('+str(elec)+')_'+channel+'_'+label+'_Bad-Good.png')\n",
    "        print (fname)\n",
    "        fig.savefig(fname, dpi=300, bbox_inches='tight')\n",
    "        plt.close()\n",
    "    del bad, good, sf, channel"
   ]
  },
  {
   "cell_type": "markdown",
   "metadata": {},
   "source": [
    "## TF by cond - Good & Bad Odors\n",
    "### Group both conditions later with an other script (Tools)"
   ]
  },
  {
   "cell_type": "code",
   "execution_count": null,
   "metadata": {
    "collapsed": true
   },
   "outputs": [],
   "source": [
    "sf = 512\n",
    "n_perm = 1000\n",
    "f = (0.1, 13, 0.5,0.25)  # Frequency vector: (from, to, width, step) 1 to 120 Hz 4 2 #0.1, 13, 0.5, 0.1\n",
    "bsl = 'Rest'\n",
    "if bsl == 'Rest':\n",
    "    baseline = [150, 850] # Time in seconds (rest 700ms au milieu des 1s extraite)\n",
    "elif bsl == 'Exp':\n",
    "    baseline = [1300, 2000] # Time in seconds (rest 500ms au milieu des 1s extraite)\n",
    "lines = [0]\n",
    "norm = 3\n",
    "width, step = 50, 10 #Time vector\n",
    "window_to_plot = [-500, 2000] # In seconds"
   ]
  },
  {
   "cell_type": "code",
   "execution_count": null,
   "metadata": {
    "collapsed": false,
    "scrolled": true
   },
   "outputs": [],
   "source": [
    "st = study('Olfacto')\n",
    "path_data = path.join (st.path, 'database/TS_E_all_by_odor_th40_art400_30_250_Good_Bad_EpiScore_Expi/')\n",
    "path2save = path.join (st.path, 'TimeFrequency/TF_Encoding_all_filter1_th40_400art_30_250_GoodBad_EPISCORE_Rois/')\n",
    "conds = ['bad', 'good']\n",
    "\n",
    "test = False\n",
    "if test == True:\n",
    "    n_elec = {'PIRJ' :1}\n",
    "    subjects = ['PIRJ']\n",
    "else :\n",
    "    subjects = ['VACJ','SEMC','PIRJ','LEFC','MICP','FERJ']#'CHAF',\n",
    "    n_elec = {\n",
    "    'CHAF' : 69,\n",
    "    'VACJ' : 84, \n",
    "    'SEMC' : 66,\n",
    "    'PIRJ' : 71,\n",
    "    'LEFC' : 152,\n",
    "    'MICP' : 76,\n",
    "    'FERJ' : 88,\n",
    "        }\n",
    "\n",
    "for su in subjects:\n",
    "    bad_data = np.load(path.join(path_data, su+'_concat_odor_bad_bipo_new.npz'))['x']\n",
    "    good_data = np.load(path.join(path_data, su+'_concat_odor_good_bipo_new.npz'))['x']\n",
    "    names = np.load(path.join(path_data, su+'_concat_odor_good_bipo_new.npz'))['label']\n",
    "    channels = np.load(path.join(path_data, su+'_concat_odor_good_bipo_new.npz'))['channel']\n",
    "    print (su, 'bad shape: ', bad_data.shape, 'good shape: ', good_data.shape)\n",
    "\n",
    "# ========================== SELECT ONLY ELECTRODES IN MTL ===================================\n",
    "    elecs_sel = []\n",
    "    for roi in rois:\n",
    "        for elec in range(n_elec[su]):\n",
    "            elec_sel = np.where(names[elec].find(roi) != -1,int(elec),None)\n",
    "            if elec_sel != None:\n",
    "                elecs_sel = np.append(elecs_sel,elec_sel)\n",
    "    # remove duplicates in elec list\n",
    "    elecs_final=[]\n",
    "    for i in elecs_sel:\n",
    "        if i not in elecs_final:\n",
    "            elecs_final.append(i)\n",
    "    print('sel', elecs_sel,len(elecs_sel), 'final',elecs_final, len(elecs_final))\n",
    "\n",
    "# ==========================  BALANCED CONDITIONS ===========================================\n",
    "    if bad_data.shape[2] > good_data.shape[2]:\n",
    "        bad_stat = bad_data[:,:,np.random.randint(bad_data.shape[2], size=good_data.shape[2])]\n",
    "        good_stat = good_data\n",
    "    elif bad_data.shape[2] < good_data.shape[2]:\n",
    "        bad_stat = bad_data\n",
    "        good_stat = good_data[:,:,np.random.randint(good_data.shape[2], size=bad_data.shape[2])]\n",
    "    else:\n",
    "        bad_stat, good_stat = bad_data, good_data\n",
    "    ntrials = bad_stat.shape[2]\n",
    "    print ('balanced data : ', bad_stat.shape, good_stat.shape)\n",
    "\n",
    "# ========================= COMPUTE TF FOR 1 ELEC =============================================\n",
    "    for elec in elecs_final:\n",
    "        bad, good = bad_stat[elec,:,:], good_stat[elec,:,:]\n",
    "        channel, label, sf = channels[elec], names[elec], 512\n",
    "        print (su, channel, label, bad.shape, good.shape, 'nb points', bad.shape[0])\n",
    "        \n",
    "        #Get the TF\n",
    "        # time = all data points in the original data (window to plot is selected afterwards)\n",
    "        time = 1000 * np.arange(-1024, bad.shape[0]-1024) / sf #to set the 0 in your TF\n",
    "        print ('Time points: ', len(time),min(time), max(time))\n",
    "        tfObj = TF(sf, bad.shape[0], f=f, baseline=baseline,norm=norm, time=time, width=width, step=step)\n",
    "        xtf_bad, _ = tfObj.get((bad), statmeth=None, n_perm=n_perm, maxstat=False, tail=2)\n",
    "        xtf_good, _ = tfObj.get((good), statmeth=None, n_perm=n_perm, maxstat=False, tail=2)\n",
    "        print ('TF size :', xtf_bad.shape, xtf_good.shape)\n",
    "        xtf_bad, xtf_good = 100*np.swapaxes(xtf_bad,0,1), 100*np.swapaxes(xtf_good,0,1)\n",
    "        xtf_all = np.concatenate((xtf_bad, xtf_good), axis=0)\n",
    "        print ('TF size :', xtf_bad.shape,xtf_good.shape) #'pvaltf : ', pvaltf.shape, pvaltf) #Freq bands * time windows\n",
    "\n",
    "        # Plot everything that is inside the window parameter :\n",
    "        timebin = np.array(tfObj.xvec)\n",
    "        sl = slice(np.argmin(np.abs(timebin-window_to_plot[0])), np.argmin(np.abs(timebin-window_to_plot[1])))\n",
    "\n",
    "        # Finally plot your TF\n",
    "        fig = plt.figure(elec, figsize=(10, 4))\n",
    "        title = su+' Elec('+str(elec)+') '+channel+' '+label+' Bad/Good ntrials:'+str(ntrials)\n",
    "        fig, allax = tfObj.plot2D(fig, xtf_all[:,:, sl], cmap='viridis', xvec=tfObj.xvec[sl],\n",
    "                     yvec=tfObj.yvec, xlabel='Time (ms)', vmin=-100, vmax=100, ycb=-20,\n",
    "                     ylabel='Frequency (hz)', figtitle=title, title=['Bad Odors', 'Good odors'],\n",
    "                     cblabel='Power modulations (%)', pltype='imshow', resample=(0.1, 0.1),\n",
    "                    sharex=False, sharey=False, subdim=(1,2), subspace={'top':0.8})\n",
    "        for k in allax:\n",
    "            addLines(k, vLines=lines, vColor=['firebrick'], vWidth=[2])\n",
    "        #Save all your plots\n",
    "        fname = (path2save+su+'_TF_elec_('+str(elec)+')_'+channel+'_'+label+'_Bad-Good_'+bsl+'.png')\n",
    "        print (fname)\n",
    "        fig.savefig(fname, dpi=300, bbox_inches='tight')\n",
    "        plt.close()\n",
    "    del bad, good, sf, channel"
   ]
  }
 ],
 "metadata": {
  "anaconda-cloud": {},
  "kernelspec": {
   "display_name": "Python [default]",
   "language": "python",
   "name": "python3"
  },
  "language_info": {
   "codemirror_mode": {
    "name": "ipython",
    "version": 3
   },
   "file_extension": ".py",
   "mimetype": "text/x-python",
   "name": "python",
   "nbconvert_exporter": "python",
   "pygments_lexer": "ipython3",
   "version": "3.5.5"
  }
 },
 "nbformat": 4,
 "nbformat_minor": 1
}
