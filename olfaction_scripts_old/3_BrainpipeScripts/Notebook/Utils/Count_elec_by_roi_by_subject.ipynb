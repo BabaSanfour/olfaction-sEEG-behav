{
 "cells": [
  {
   "cell_type": "code",
   "execution_count": 73,
   "metadata": {},
   "outputs": [
    {
     "name": "stdout",
     "output_type": "stream",
     "text": [
      "theta\n",
      "alpha\n",
      "beta\n",
      "gamma1\n",
      "gamma2\n"
     ]
    }
   ],
   "source": [
    "import numpy as np\n",
    "import pandas as pd\n",
    "from os import path\n",
    "\n",
    "path = r'/media/karim/Datas4To/1_Analyses_Intra_EM_Odor/Olfacto/Visbrain/Power_Stats_Repartitons_Projections_all/'\n",
    "freqs = ['theta','alpha','beta','gamma1','gamma2']\n",
    "for freq in freqs:\n",
    "    print(freq)\n",
    "    mat = pd.read_excel(path+'All_infos_elec_'+freq+'.xls')\n",
    "    mat['ref'] = mat['ref'].str[:4]\n",
    "    #mat = mat.sort_values('ref').sort_values('index')\n",
    "    mat = mat.drop(['mask', 'Id_sig', 'mask', 'data'], axis=1)\n",
    "    n_rep = mat.pivot_table(index=('index','aal'), columns='ref', aggfunc=len, fill_value=0)\n",
    "    mat['count'] = Series(np.('ref)', index=df1.index)\n",
    "    # Create a plot of elec repartition\n",
    "    \n",
    "    # Write in excel file the data\n",
    "    writer = pd.ExcelWriter(path+'n_elec_by_roi_su_'+freq+'.xls')\n",
    "    n_rep.to_excel(writer)\n",
    "    writer.save()\n",
    "    #print(n_rep)"
   ]
  }
 ],
 "metadata": {
  "anaconda-cloud": {},
  "kernelspec": {
   "display_name": "Python [conda root]",
   "language": "python",
   "name": "conda-root-py"
  },
  "language_info": {
   "codemirror_mode": {
    "name": "ipython",
    "version": 3
   },
   "file_extension": ".py",
   "mimetype": "text/x-python",
   "name": "python",
   "nbconvert_exporter": "python",
   "pygments_lexer": "ipython3",
   "version": "3.5.5"
  }
 },
 "nbformat": 4,
 "nbformat_minor": 1
}
