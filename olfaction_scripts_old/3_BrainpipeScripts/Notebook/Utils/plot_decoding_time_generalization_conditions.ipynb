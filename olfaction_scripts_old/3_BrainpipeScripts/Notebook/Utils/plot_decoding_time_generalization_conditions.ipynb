{
 "cells": [
  {
   "cell_type": "code",
   "execution_count": 1,
   "metadata": {},
   "outputs": [],
   "source": [
    "%matplotlib inline"
   ]
  },
  {
   "cell_type": "markdown",
   "metadata": {},
   "source": [
    "\n",
    "# Decoding sensor space data with generalization across time and conditions\n",
    "\n",
    "\n",
    "This example runs the analysis described in [1]_. It illustrates how one can\n",
    "fit a linear classifier to identify a discriminatory topography at a given time\n",
    "instant and subsequently assess whether this linear model can accurately\n",
    "predict all of the time samples of a second set of conditions.\n",
    "\n",
    "References\n",
    "----------\n",
    "\n",
    ".. [1] King & Dehaene (2014) 'Characterizing the dynamics of mental\n",
    "       representations: the Temporal Generalization method', Trends In\n",
    "       Cognitive Sciences, 18(4), 203-210. doi: 10.1016/j.tics.2014.01.002.\n",
    "\n"
   ]
  },
  {
   "cell_type": "code",
   "execution_count": 2,
   "metadata": {
    "scrolled": true
   },
   "outputs": [
    {
     "name": "stdout",
     "output_type": "stream",
     "text": [
      "Automatically created module for IPython interactive environment\n",
      "Successfully extracted to: ['/home/karim/mne_data/MNE-sample-data']\n",
      "Opening raw data file /home/karim/mne_data/MNE-sample-data/MEG/sample/sample_audvis_filt-0-40_raw.fif...\n",
      "    Read a total of 4 projection items:\n",
      "        PCA-v1 (1 x 102)  idle\n",
      "        PCA-v2 (1 x 102)  idle\n",
      "        PCA-v3 (1 x 102)  idle\n",
      "        Average EEG reference (1 x 60)  idle\n",
      "    Range : 6450 ... 48149 =     42.956 ...   320.665 secs\n",
      "Ready.\n",
      "Current compensation grade : 0\n",
      "Reading 0 ... 41699  =      0.000 ...   277.709 secs...\n",
      "Setting up band-pass filter from 1 - 30 Hz\n",
      "l_trans_bandwidth chosen to be 1.0 Hz\n",
      "h_trans_bandwidth chosen to be 7.5 Hz\n",
      "Filter length of 496 samples (3.303 sec) selected\n",
      "288 matching events found\n",
      "Created an SSP operator (subspace dimension = 3)\n",
      "4 projection items activated\n",
      "Loading data for 288 events and 69 original time points ...\n",
      "    Rejecting  epoch based on MAG : ['MEG 1711']\n",
      "1 bad epochs dropped\n"
     ]
    },
    {
     "data": {
      "image/png": "[encoded data removed]",
      "text/plain": [
       "<matplotlib.figure.Figure at 0x7fbb5b02fcf8>"
      ]
     },
     "metadata": {},
     "output_type": "display_data"
    }
   ],
   "source": [
    "# Authors: Jean-Remi King <jeanremi.king@gmail.com>\n",
    "#          Alexandre Gramfort <alexandre.gramfort@telecom-paristech.fr>\n",
    "#          Denis Engemann <denis.engemann@gmail.com>\n",
    "#\n",
    "# License: BSD (3-clause)\n",
    "\n",
    "import matplotlib.pyplot as plt\n",
    "\n",
    "from sklearn.pipeline import make_pipeline\n",
    "from sklearn.preprocessing import StandardScaler\n",
    "from sklearn.linear_model import LogisticRegression\n",
    "\n",
    "import mne\n",
    "from mne.datasets import sample\n",
    "from mne.decoding import GeneralizingEstimator\n",
    "\n",
    "print(__doc__)\n",
    "\n",
    "# Preprocess data\n",
    "data_path = sample.data_path()\n",
    "# Load and filter data, set up epochs\n",
    "raw_fname = data_path + '/MEG/sample/sample_audvis_filt-0-40_raw.fif'\n",
    "events_fname = data_path + '/MEG/sample/sample_audvis_filt-0-40_raw-eve.fif'\n",
    "raw = mne.io.read_raw_fif(raw_fname, preload=True)\n",
    "picks = mne.pick_types(raw.info, meg=True, exclude='bads')  # Pick MEG channels\n",
    "raw.filter(1., 30., fir_design='firwin')  # Band pass filtering signals\n",
    "events = mne.read_events(events_fname)\n",
    "event_id = {'Auditory/Left': 1, 'Auditory/Right': 2,\n",
    "            'Visual/Left': 3, 'Visual/Right': 4}\n",
    "tmin = -0.050\n",
    "tmax = 0.400\n",
    "decim = 2  # decimate to make the example faster to run\n",
    "epochs = mne.Epochs(raw, events, event_id=event_id, tmin=tmin, tmax=tmax,\n",
    "                    proj=True, picks=picks, baseline=None, preload=True,\n",
    "                    reject=dict(mag=5e-12), decim=decim)\n",
    "\n",
    "# We will train the classifier on all left visual vs auditory trials\n",
    "# and test on all right visual vs auditory trials.\n",
    "clf = make_pipeline(StandardScaler(), LogisticRegression())\n",
    "time_gen = GeneralizingEstimator(clf, scoring='roc_auc', n_jobs=1)\n",
    "\n",
    "# Fit classifiers on the epochs where the stimulus was presented to the left.\n",
    "# Note that the experimental condition y indicates auditory or visual\n",
    "time_gen.fit(X=epochs['Left'].get_data(),\n",
    "             y=epochs['Left'].events[:, 2] > 2)\n",
    "\n",
    "# Score on the epochs where the stimulus was presented to the right.\n",
    "scores = time_gen.score(X=epochs['Right'].get_data(),\n",
    "                        y=epochs['Right'].events[:, 2] > 2)\n",
    "\n",
    "# Plot\n",
    "fig, ax = plt.subplots(1)\n",
    "im = ax.matshow(scores, vmin=0, vmax=1., cmap='RdBu_r', origin='lower',\n",
    "                extent=epochs.times[[0, -1, 0, -1]])\n",
    "ax.axhline(0., color='k')\n",
    "ax.axvline(0., color='k')\n",
    "ax.xaxis.set_ticks_position('bottom')\n",
    "ax.set_xlabel('Testing Time (s)')\n",
    "ax.set_ylabel('Training Time (s)')\n",
    "ax.set_title('Generalization across time and condition')\n",
    "plt.colorbar(im, ax=ax)\n",
    "plt.show()"
   ]
  }
 ],
 "metadata": {
  "anaconda-cloud": {},
  "kernelspec": {
   "display_name": "Python 3",
   "language": "python",
   "name": "python3"
  },
  "language_info": {
   "codemirror_mode": {
    "name": "ipython",
    "version": 3
   },
   "file_extension": ".py",
   "mimetype": "text/x-python",
   "name": "python",
   "nbconvert_exporter": "python",
   "pygments_lexer": "ipython3",
   "version": "3.6.1"
  }
 },
 "nbformat": 4,
 "nbformat_minor": 1
}
