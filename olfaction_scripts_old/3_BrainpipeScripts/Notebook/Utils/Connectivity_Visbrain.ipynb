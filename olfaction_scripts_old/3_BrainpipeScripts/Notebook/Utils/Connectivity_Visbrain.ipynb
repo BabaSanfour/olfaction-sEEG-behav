{
 "cells": [
  {
   "cell_type": "code",
   "execution_count": 14,
   "metadata": {
    "collapsed": false,
    "scrolled": true
   },
   "outputs": [
    {
     "name": "stdout",
     "output_type": "stream",
     "text": [
      "(56, 3)\n"
     ]
    }
   ],
   "source": [
    "import numpy as np\n",
    "from os import path\n",
    "\n",
    "path2load = '/media/karim/Datas4To/Dropbox/Lyon_These/Graphes_Matrices_Visbrain/'\n",
    "s_xyz = np.loadtxt(path.join(path2load,'Coords2.txt'))\n",
    "coord = np.save(path.join(path2load,'Coords2bis.npy'),s_xyz)\n",
    "coord2 = np.load(path.join(path2load,'Coords2bis.npy'))\n",
    "print (coord2.shape)"
   ]
  },
  {
   "cell_type": "code",
   "execution_count": null,
   "metadata": {
    "collapsed": false
   },
   "outputs": [
    {
     "name": "stdout",
     "output_type": "stream",
     "text": [
      "(56, 3) (56,)\n",
      "[[0 1 1 ..., 0 0 0]\n",
      " [0 0 1 ..., 0 0 0]\n",
      " [0 0 0 ..., 0 0 0]\n",
      " ..., \n",
      " [0 0 0 ..., 0 1 1]\n",
      " [0 0 0 ..., 0 0 1]\n",
      " [0 0 0 ..., 0 0 0]]\n"
     ]
    }
   ],
   "source": [
    "from __future__ import print_function\n",
    "from visbrain import Brain\n",
    "import numpy as np\n",
    "from os import path\n",
    "\n",
    "# Create an empty kwargs dictionnary :\n",
    "kwargs = {}\n",
    "# Path to data\n",
    "path2load = '/media/karim/Datas4To/Dropbox/Lyon_These/Graphes_Matrices_Visbrain/'\n",
    "\n",
    "# ____________________________ DATA ____________________________\n",
    "\n",
    "# Load the xyz coordinates and labels of sources (ROIs):\n",
    "s_xyz = np.loadtxt(path.join(path2load,'Coords2.txt'))\n",
    "labels = np.loadtxt(path.join(path2load,'Labels2.txt'), dtype=bytes, delimiter=\"\\n\").astype(str) \n",
    "print (s_xyz.shape, labels.shape)\n",
    "\n",
    "kwargs['s_xyz'] = s_xyz\n",
    "N = s_xyz.shape[0]  # Number of ROIs\n",
    "kwargs['s_opacity'] = 0.5  # Sources opacity\n",
    "\n",
    "# To connect sources between them, we create a (N, N) array.\n",
    "# This array should be either upper or lower triangular to avoid redondant connections.\n",
    "c_connect = np.load(path.join(path2load, 'exclu_core_coclass6.npy')) #connectivity matrix (0 no connection, 1 connection)\n",
    "c_connect[np.tril_indices_from(c_connect)] = 0  # Set to zero inferior triangle\n",
    "kwargs['c_connect'] = c_connect\n",
    "# ____________________________ SETTINGS ____________________________\n",
    "\n",
    "# Control the dynamic range of sources radius and the edge color :\n",
    "kwargs['s_radiusmin'], kwargs['s_radiusmax'] = 2, 10\n",
    "kwargs['s_edgecolor'] = None  # 'white'\n",
    "kwargs['s_edgewidth'] = 0\n",
    "\n",
    "# Colormap properties (for sources) :\n",
    "kwargs['s_cmap'] = 'Greys' # Matplotlib colormap\n",
    "\n",
    "# Colormap properties (for connectivity) :\n",
    "kwargs['c_cmap'] = 'Greys' # Matplotlib colormap\n",
    "\n",
    "# Finally, use c_colorby to define how connections have to be colored.\n",
    "# if c_colorby is 'count', it's the number of connections which pear node\n",
    "# drive the colormap. If 'strength', it's the connectivity strength between\n",
    "# two nodes.\n",
    "kwargs['c_colorby'] = 'count'\n",
    "kwargs['c_radiusmin'] = 4\n",
    "kwargs['c_dynamic'] = (0.1, 1)\n",
    "\n",
    "# Atlas template and opacity :\n",
    "kwargs['a_template'] = 'B2'\n",
    "\n",
    "# Set font size, color and label for the colorbar :\n",
    "kwargs['cb_fontsize'] = 15\n",
    "kwargs['cb_fontcolor'] = 'black'\n",
    "\n",
    "vb = Brain(**kwargs)\n",
    "#vb.show()\n"
   ]
  }
 ],
 "metadata": {
  "anaconda-cloud": {},
  "kernelspec": {
   "display_name": "Python [default]",
   "language": "python",
   "name": "python3"
  },
  "language_info": {
   "codemirror_mode": {
    "name": "ipython",
    "version": 3
   },
   "file_extension": ".py",
   "mimetype": "text/x-python",
   "name": "python",
   "nbconvert_exporter": "python",
   "pygments_lexer": "ipython3",
   "version": "3.5.2"
  }
 },
 "nbformat": 4,
 "nbformat_minor": 1
}
