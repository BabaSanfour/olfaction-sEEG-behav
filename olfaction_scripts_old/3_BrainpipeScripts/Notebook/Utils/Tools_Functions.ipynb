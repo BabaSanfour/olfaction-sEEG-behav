{
 "cells": [
  {
   "cell_type": "code",
   "execution_count": null,
   "metadata": {
    "collapsed": true
   },
   "outputs": [],
   "source": [
    "concat_data = []\n",
    "rest = np.load(file_rest)\n",
    "concat_data.append(rest)\n",
    "concat = np.concatenate(concat_data, axis=0)"
   ]
  },
  {
   "cell_type": "code",
   "execution_count": null,
   "metadata": {
    "collapsed": true
   },
   "outputs": [],
   "source": [
    "#split in 3 parts an array (does not raise error if the 3 arrays don't have the exact same size)\n",
    "learning_files = np.array_split(norm_filtered_data, 3, axis=1)"
   ]
  },
  {
   "cell_type": "code",
   "execution_count": null,
   "metadata": {
    "collapsed": true
   },
   "outputs": [],
   "source": [
    "#Incrementing a list \n",
    "from itertools import accumulate\n",
    "click = [2, 5, 4, 4, 6, 12, 15, 8]\n",
    "print(len(click), click[0])\n",
    "all_clicks = list(accumulate(click))\n",
    "print (all_clicks)\n",
    "Output [2,7,11,15,21,33,48,56]"
   ]
  }
 ],
 "metadata": {
  "anaconda-cloud": {},
  "kernelspec": {
   "display_name": "Python [default]",
   "language": "python",
   "name": "python3"
  },
  "language_info": {
   "codemirror_mode": {
    "name": "ipython",
    "version": 3
   },
   "file_extension": ".py",
   "mimetype": "text/x-python",
   "name": "python",
   "nbconvert_exporter": "python",
   "pygments_lexer": "ipython3",
   "version": "3.5.5"
  }
 },
 "nbformat": 4,
 "nbformat_minor": 1
}
