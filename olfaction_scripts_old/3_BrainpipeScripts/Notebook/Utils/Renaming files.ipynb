{
 "cells": [
  {
   "cell_type": "markdown",
   "metadata": {},
   "source": [
    "# Renaming file names in a repertory\n",
    "## changing the extension or adding sth to all files"
   ]
  },
  {
   "cell_type": "code",
   "execution_count": 6,
   "metadata": {},
   "outputs": [],
   "source": [
    "import glob, os\n",
    "\n",
    "def rename(dir, pattern, titlePattern):\n",
    "    for pathAndFilename in glob.iglob(os.path.join(dir, pattern)):\n",
    "        title, ext = os.path.splitext(os.path.basename(pathAndFilename))\n",
    "        print (pathAndFilename, title, ext)\n",
    "        os.rename(pathAndFilename, \n",
    "                 os.path.join(dir, titlePattern % title + ext))\n",
    "        \n",
    "#rename(r'c:\\temp\\xx', r'*.doc', r'new(%s)')\n",
    "#The above example will convert all *.doc files in c:\\temp\\xx dir to new(%s).doc, \n",
    "#where %s is the previous base name of the file (without extension).\n",
    "#loadname.replace('.npz', '_power.npz').replace('database/', 'feature/')\n"
   ]
  },
  {
   "cell_type": "markdown",
   "metadata": {},
   "source": [
    "## Adding or modifiying the title"
   ]
  },
  {
   "cell_type": "code",
   "execution_count": 10,
   "metadata": {},
   "outputs": [
    {
     "name": "stdout",
     "output_type": "stream",
     "text": [
      "file renaming:  CHAF_Encoding_Expect_rest_alpha_0.001.png\n"
     ]
    },
    {
     "ename": "FileNotFoundError",
     "evalue": "[Errno 2] No such file or directory: 'CHAF_Encoding_Expect_rest_alpha_0.001.png' -> 'CHAF_Encoding_Expect_tot_rest_alpha_0.001.png'",
     "output_type": "error",
     "traceback": [
      "\u001b[0;31m---------------------------------------------------------------------------\u001b[0m",
      "\u001b[0;31mFileNotFoundError\u001b[0m                         Traceback (most recent call last)",
      "\u001b[0;32m<ipython-input-10-16b2f994208a>\u001b[0m in \u001b[0;36m<module>\u001b[0;34m()\u001b[0m\n\u001b[1;32m      7\u001b[0m \u001b[0;32mfor\u001b[0m \u001b[0mf\u001b[0m \u001b[0;32min\u001b[0m \u001b[0mos\u001b[0m\u001b[0;34m.\u001b[0m\u001b[0mlistdir\u001b[0m\u001b[0;34m(\u001b[0m\u001b[0mdir\u001b[0m\u001b[0;34m)\u001b[0m\u001b[0;34m:\u001b[0m\u001b[0;34m\u001b[0m\u001b[0m\n\u001b[1;32m      8\u001b[0m     \u001b[0mprint\u001b[0m \u001b[0;34m(\u001b[0m\u001b[0;34m'file renaming: '\u001b[0m\u001b[0;34m,\u001b[0m \u001b[0mf\u001b[0m\u001b[0;34m)\u001b[0m\u001b[0;34m\u001b[0m\u001b[0m\n\u001b[0;32m----> 9\u001b[0;31m     \u001b[0mos\u001b[0m\u001b[0;34m.\u001b[0m\u001b[0mrename\u001b[0m\u001b[0;34m(\u001b[0m\u001b[0mf\u001b[0m\u001b[0;34m,\u001b[0m \u001b[0mf\u001b[0m\u001b[0;34m.\u001b[0m\u001b[0mreplace\u001b[0m\u001b[0;34m(\u001b[0m\u001b[0mpattern\u001b[0m\u001b[0;34m,\u001b[0m \u001b[0mnewPattern\u001b[0m\u001b[0;34m)\u001b[0m\u001b[0;34m)\u001b[0m \u001b[0;31m# for exceptions if not f.startswith('.')\u001b[0m\u001b[0;34m\u001b[0m\u001b[0m\n\u001b[0m\u001b[1;32m     10\u001b[0m \u001b[0;34m\u001b[0m\u001b[0m\n",
      "\u001b[0;31mFileNotFoundError\u001b[0m: [Errno 2] No such file or directory: 'CHAF_Encoding_Expect_rest_alpha_0.001.png' -> 'CHAF_Encoding_Expect_tot_rest_alpha_0.001.png'"
     ]
    }
   ],
   "source": [
    "import os\n",
    "\n",
    "dir = r'/media/karim/Datas4To/Analyses_Intra_EM_Odor/Olfacto/classified/Classif_Windows_Percept_rest_Encoding_th40_art400_30_250/Rest_Percept_tot/'\n",
    "pattern = r'Expect_'\n",
    "newPattern = r'Expect_tot_'\n",
    "\n",
    "for f in os.listdir(dir):\n",
    "    print ('file renaming: ', f)\n",
    "    if f \n",
    "    os.rename(f, f.replace(pattern, newPattern)) # for exceptions if not f.startswith('.')\n",
    "\n",
    "#dans la commande batch\n",
    "import os\n",
    "[os.rename(f, f.replace('_', '-')) for f in os.listdir('.') if not f.startswith('.')]\n"
   ]
  }
 ],
 "metadata": {
  "anaconda-cloud": {},
  "kernelspec": {
   "display_name": "Python 3",
   "language": "python",
   "name": "python3"
  },
  "language_info": {
   "codemirror_mode": {
    "name": "ipython",
    "version": 3
   },
   "file_extension": ".py",
   "mimetype": "text/x-python",
   "name": "python",
   "nbconvert_exporter": "python",
   "pygments_lexer": "ipython3",
   "version": "3.6.1"
  }
 },
 "nbformat": 4,
 "nbformat_minor": 1
}
