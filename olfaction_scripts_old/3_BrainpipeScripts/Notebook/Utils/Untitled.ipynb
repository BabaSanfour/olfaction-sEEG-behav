{
 "cells": [
  {
   "cell_type": "code",
   "execution_count": 39,
   "metadata": {
    "collapsed": true
   },
   "outputs": [
    {
     "name": "stdout",
     "output_type": "stream",
     "text": [
      "(714,)\n",
      "(714,)\n",
      "(714,)\n",
      "(714,)\n",
      "(714,)\n",
      "(714,)\n",
      "(714,)\n",
      "(714,)\n",
      "(714,)\n",
      "(714,)\n",
      "(714,)\n",
      "(714,)\n",
      "(714,)\n",
      "(714,)\n",
      "(714,)\n",
      "(714,)\n",
      "(714,)\n",
      "(714,)\n",
      "(714,)\n",
      "(714,)\n",
      "(714,)\n",
      "(714,)\n",
      "(714,)\n",
      "(714,)\n",
      "(714,)\n",
      "(714,)\n",
      "(714,)\n",
      "(714,)\n",
      "(714,)\n",
      "(714,)\n",
      "(714,)\n",
      "(714,)\n",
      "(714,)\n",
      "(714,)\n",
      "(714,)\n"
     ]
    }
   ],
   "source": [
    "for win in range(nwin):\n",
    "    for freq in freqs: #not ploting delta band\n",
    "        #print (freq)\n",
    "        data_to_plot = np.load(path_data+'DA_'+freq+'_all_subjects_window'+str(win)+'.npy')\n",
    "        print (data_to_plot.shape)"
   ]
  },
  {
   "cell_type": "code",
   "execution_count": 40,
   "metadata": {
    "collapsed": true
   },
   "outputs": [
    {
     "name": "stdout",
     "output_type": "stream",
     "text": [
      "-> Olfacto loaded\n",
      "theta 0 (714,)\n",
      "theta 1 (714,)\n",
      "theta 2 (714,)\n",
      "theta 3 (714,)\n",
      "theta 4 (714,)\n",
      "theta 5 (714,)\n",
      "theta 6 (714,)\n",
      "alpha 0 (714,)\n",
      "alpha 1 (714,)\n",
      "alpha 2 (714,)\n",
      "alpha 3 (714,)\n",
      "alpha 4 (714,)\n",
      "alpha 5 (714,)\n",
      "alpha 6 (714,)\n",
      "beta 0 (714,)\n",
      "beta 1 (714,)\n",
      "beta 2 (714,)\n",
      "beta 3 (714,)\n",
      "beta 4 (714,)\n",
      "beta 5 (714,)\n",
      "beta 6 (714,)\n",
      "gamma30-60 0 (714,)\n",
      "gamma30-60 1 (714,)\n",
      "gamma30-60 2 (714,)\n",
      "gamma30-60 3 (714,)\n",
      "gamma30-60 4 (714,)\n",
      "gamma30-60 5 (714,)\n",
      "gamma30-60 6 (714,)\n",
      "gamma60-150 0 (714,)\n",
      "gamma60-150 1 (714,)\n",
      "gamma60-150 2 (714,)\n",
      "gamma60-150 3 (714,)\n",
      "gamma60-150 4 (714,)\n",
      "gamma60-150 5 (714,)\n",
      "gamma60-150 6 (714,)\n"
     ]
    }
   ],
   "source": [
    "from visbrain.visbrain import Brain\n",
    "import numpy as np\n",
    "from os import path\n",
    "import pandas as pd\n",
    "\n",
    "from brainpipe.system import study\n",
    "\n",
    "st = study('Olfacto')\n",
    "path_scripts = r'/media/karim/Datas4To/Analyses_Intra_EM_Odor/4_Visbrain_scripts/'\n",
    "path_data = path.join(st.path, 'classified/1_Classif_Windows_Encoding_th40_art400_30_250_by_label_500ms_windows/')\n",
    "path2save = path.join(st.path, 'Visbrain/Final/')\n",
    "kwargs = {}\n",
    "\n",
    "## ORDER OF SUBJECTS IMPORTANT TO MATCH XYZ INFO\n",
    "subjects = ['CHAF','VACJ','SEMC', 'LEFC','MICP', 'PIRJ',]\n",
    "nwin = 7\n",
    "freqs = ['theta', 'alpha', 'beta', 'gamma30-60', 'gamma60-150']\n",
    "n_elec = {\n",
    "        'CHAF':103,\n",
    "        'VACJ':133,\n",
    "        'SEMC':106,\n",
    "        'LEFC':187,\n",
    "        'MICP':101,\n",
    "        'PIRJ':84,\n",
    "        }\n",
    "\n",
    "## Create a global DA file for all subjects, all windows and all frequency bands :\n",
    "for freq in freqs:\n",
    "    for win in range(nwin):\n",
    "        all_data = None\n",
    "        for su in subjects:\n",
    "            if all_data is None:\n",
    "                all_data = np.mean(np.load(path_data+su+'_da_'+freq+'_Window_'+str(win)+'_lda.npy'),axis=0)\n",
    "                #print (all_data.shape)\n",
    "            else :\n",
    "                all_data = np.append(all_data, np.mean(np.load(path_data+su+'_da_'+freq+'_Window_'+str(win)+'_lda.npy'), axis=0),) #concatenate on the electrode dimension\n",
    "        #print (all_data.shape)\n",
    "        np.save(path_data+'DA_'+freq+'_all_subjects_window'+str(win)+'.npy', all_data)\n",
    "        print (freq, win, all_data.shape)\n",
    "\n"
   ]
  },
  {
   "cell_type": "code",
   "execution_count": 19,
   "metadata": {
    "collapsed": false
   },
   "outputs": [
    {
     "ename": "ImportError",
     "evalue": "No module named 'pipelines'",
     "output_type": "error",
     "traceback": [
      "\u001b[0;31m---------------------------------------------------------------------------\u001b[0m",
      "\u001b[0;31mImportError\u001b[0m                               Traceback (most recent call last)",
      "\u001b[0;32m<ipython-input-19-1944a0cc9ff2>\u001b[0m in \u001b[0;36m<module>\u001b[0;34m()\u001b[0m\n\u001b[1;32m      3\u001b[0m \u001b[0;32mimport\u001b[0m \u001b[0mnumpy\u001b[0m \u001b[0;32mas\u001b[0m \u001b[0mnp\u001b[0m\u001b[0;34m\u001b[0m\u001b[0m\n\u001b[1;32m      4\u001b[0m \u001b[0;32mimport\u001b[0m \u001b[0mos\u001b[0m\u001b[0;34m\u001b[0m\u001b[0m\n\u001b[0;32m----> 5\u001b[0;31m \u001b[0;32mfrom\u001b[0m \u001b[0mneuropype_graph\u001b[0m\u001b[0;34m.\u001b[0m\u001b[0mutils_net\u001b[0m \u001b[0;32mimport\u001b[0m \u001b[0mread_Pajek_corres_nodes_and_sparse_matrix\u001b[0m\u001b[0;34m\u001b[0m\u001b[0m\n\u001b[0m\u001b[1;32m      6\u001b[0m \u001b[0;32mfrom\u001b[0m \u001b[0mneuropype_graph\u001b[0m\u001b[0;34m.\u001b[0m\u001b[0mutils_net\u001b[0m \u001b[0;32mimport\u001b[0m \u001b[0mread_lol_file\u001b[0m\u001b[0;34m\u001b[0m\u001b[0m\n",
      "\u001b[0;32m/home/karim/Tools/python/Packages/neuropype_graph/neuropype_graph/__init__.py\u001b[0m in \u001b[0;36m<module>\u001b[0;34m()\u001b[0m\n\u001b[1;32m      1\u001b[0m \u001b[0;31m#import nodes\u001b[0m\u001b[0;34m\u001b[0m\u001b[0;34m\u001b[0m\u001b[0m\n\u001b[0;32m----> 2\u001b[0;31m \u001b[0;32mimport\u001b[0m \u001b[0mpipelines\u001b[0m\u001b[0;34m\u001b[0m\u001b[0m\n\u001b[0m\u001b[1;32m      3\u001b[0m \u001b[0;32mimport\u001b[0m \u001b[0minterfaces\u001b[0m\u001b[0;34m\u001b[0m\u001b[0m\n\u001b[1;32m      4\u001b[0m \u001b[0;31m#from nodes import correl_mat\u001b[0m\u001b[0;34m\u001b[0m\u001b[0;34m\u001b[0m\u001b[0m\n\u001b[1;32m      5\u001b[0m \u001b[0;31m#from nodes import modularity\u001b[0m\u001b[0;34m\u001b[0m\u001b[0;34m\u001b[0m\u001b[0m\n",
      "\u001b[0;31mImportError\u001b[0m: No module named 'pipelines'"
     ]
    }
   ],
   "source": [
    "from visbrain.visbrain import Brain\n",
    "from os import path\n",
    "import numpy as np\n",
    "\n",
    "from neuropype_graph.utils_net import read_Pajek_corres_nodes_and_sparse_matrix\n",
    "from neuropype_graph.utils_net import read_lol_file"
   ]
  },
  {
   "cell_type": "code",
   "execution_count": 17,
   "metadata": {
    "collapsed": false
   },
   "outputs": [
    {
     "name": "stdout",
     "output_type": "stream",
     "text": [
      "[[1 0 1 1 0 1 0 0 0 0 0 2 0 0 0 0 1 1 1 0 0 0 1 0 0 0 0 0 0 1 0 0 0 0 0 0 1\n",
      "  1 0 1 1 1 0 0 0 0 1 0 0 0 0 0 0 0 0 0]\n",
      " [1 1 0 1 0 1 0 0 0 0 0 2 0 0 0 0 1 1 1 0 0 0 1 0 0 0 0 0 0 1 0 0 0 0 0 0 1\n",
      "  1 0 1 1 1 0 0 0 0 1 0 0 0 0 0 0 0 0 0]\n",
      " [1 1 1 0 0 1 0 0 0 0 0 2 0 0 0 0 1 1 1 0 0 0 1 0 0 0 0 0 0 1 0 0 0 0 0 0 1\n",
      "  1 0 1 1 1 0 0 0 0 1 0 0 0 0 0 0 0 0 0]\n",
      " [0 0 0 0 0 0 0 0 0 0 0 0 0 0 0 0 0 0 0 0 0 0 0 0 0 0 0 0 0 0 0 0 0 0 0 0 0\n",
      "  0 0 0 0 0 0 0 0 0 0 0 0 0 0 0 0 0 0 0]\n",
      " [1 1 1 1 0 0 0 0 0 0 0 2 0 0 0 0 1 1 1 0 0 0 1 0 0 0 0 0 0 1 0 0 0 0 0 0 1\n",
      "  1 0 1 1 1 0 0 0 0 1 0 0 0 0 0 0 0 0 0]]\n",
      "['MFPG' 'pACC' 'pACC' 'pOFC' '' 'aPir/pOFC' '' '' 'aMCC' 'mCG' 'SFGL'\n",
      " 'pPir' 'MFG' 'PrG' 'SFGL' '' 'aSTS' 'MTG/ITG' 'MTG/ITG' '' 'PrG' '' 'PoG'\n",
      " 'SNigra' '' 'Snigra' 'dPPG' '' '' 'pTTG' '' 'PoG' '' '' '' 'PoG' 'POp'\n",
      " 'pSTS' 'PoG' 'pSTG' 'pSTG' 'MTG' 'SPL' 'PCun' 'PCun/dPCC' 'AnG' 'Ang/pSTG'\n",
      " 'ITG' '' 'OG' 'OG' 'OG' 'OG' 'OG' 'OG' 'OG'] 56\n"
     ]
    }
   ],
   "source": [
    "import numpy as np\n",
    "from os import path\n",
    "pathdata = '/media/karim/Datas4To/IRMf_Graph-Connectivity/Graphes_Matrices_Visbrain/'\n",
    "c_connect = np.load(path.join(pathdata, 'signif_odorcondcore_coclass7.npy')) #connectivity matrix (0 no connection, 1 connection)\n",
    "\n",
    "print(c_connect[1:6])\n",
    "labels = np.loadtxt(path.join(pathdata,'Labels2_2.txt'), dtype=bytes, delimiter=\"\\n\").astype(str) \n",
    "label_ind = np.where(c_connect.sum(1)>0,labels,\"\")\n",
    "print (label_ind, len(label_ind))"
   ]
  },
  {
   "cell_type": "code",
   "execution_count": 6,
   "metadata": {
    "collapsed": false
   },
   "outputs": [
    {
     "name": "stdout",
     "output_type": "stream",
     "text": [
      "(56, 56) [1 1 1 1 0 0 0 0 0 0 0 0 0 0 0 0 1 1 1 0 0 0 0] [0 0 0 0 0 0 1 0 0 0 0 0 0 1 1 0 1 1 1 0 0 0 0 1 0 0 0 0 0 0 0 0 0]\n"
     ]
    }
   ],
   "source": [
    "import numpy as np\n",
    "from os import path\n",
    "\n",
    "path = r'/media/karim/Datas4To/IRMf_Graph-Connectivity/Graphes_Matrices_Visbrain/'\n",
    "data = np.load(path+'exclu_core_coclass6.npy')\n",
    "print (data.shape, data[5,:23], data[5,23:])"
   ]
  }
 ],
 "metadata": {
  "anaconda-cloud": {},
  "kernelspec": {
   "display_name": "Python [default]",
   "language": "python",
   "name": "python3"
  },
  "language_info": {
   "codemirror_mode": {
    "name": "ipython",
    "version": 3
   },
   "file_extension": ".py",
   "mimetype": "text/x-python",
   "name": "python",
   "nbconvert_exporter": "python",
   "pygments_lexer": "ipython3",
   "version": "3.5.5"
  }
 },
 "nbformat": 4,
 "nbformat_minor": 1
}
