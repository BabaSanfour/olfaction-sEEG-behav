{
 "cells": [
  {
   "cell_type": "code",
   "execution_count": 3,
   "metadata": {
    "collapsed": false
   },
   "outputs": [],
   "source": [
    "import numpy as np\n",
    "import matplotlib.pyplot as plt\n",
    "%matplotlib notebook\n",
    "from brainpipe.classification import *\n",
    "\n",
    "from brainpipe.statistics import *\n",
    "import scipy.io as sio\n",
    "import mne\n",
    "from mne.viz import plot_topomap\n",
    "from mne import pick_types, find_layout\n",
    "import random as rand\n"
   ]
  },
  {
   "cell_type": "markdown",
   "metadata": {},
   "source": [
    "# Import files"
   ]
  },
  {
   "cell_type": "code",
   "execution_count": 4,
   "metadata": {
    "collapsed": false
   },
   "outputs": [],
   "source": [
    "grp = ['E1', 'E2', 'E3', 'E4', 'E5', 'E6', 'E7', 'E8', 'E9', 'E10', 'E11', 'E12', 'E13', 'E14', 'E15', 'E16',\n",
    "           'E17', 'E18', 'E19', 'E20', 'E21', 'E22', 'E23', 'E24', 'E25', 'E26', 'E27', 'E28', 'E29', 'E30', 'E31',\n",
    "           'E32', 'E33', 'E34', 'E35', 'E36', 'E37', 'E38', 'E39', 'E41', 'E42', 'E43', 'E44', 'E46',\n",
    "           'E47', 'E48', 'E49', 'E50', 'E51', 'E52', 'E53', 'E54', 'E55', 'E56', 'E57', 'E58', 'E59', 'E60', 'E61',\n",
    "           'E62', 'E63','E64','E65']"
   ]
  },
  {
   "cell_type": "code",
   "execution_count": null,
   "metadata": {
    "collapsed": false,
    "scrolled": false
   },
   "outputs": [],
   "source": [
    "filepath = \"/media/karim/4TB_drive/Final_DFA_analysis/60sec/\"\n",
    "savepath = \"/media/karim/4TB_drive/Final_DFA_analysis/60sec/classif/classif_intra_final/\"\n",
    "sensors_pos = sio.loadmat('/home/thomasthiery/Dropbox/Rep_MATLAB/electrodes_sevo_new.mat')['electrodes_sevo_new']\n",
    "\n",
    "Cx = 'beta'\n",
    "subjects = ['Sub_S2', 'Sub_S3','Sub_S4','Sub_S5','Sub_S6','Sub_S8','Sub_S10']\n",
    "temp_con = '_conscious_'\n",
    "temp_uncon = '_unconscious_'\n",
    "\n",
    "\n",
    "for k in subjects:\n",
    "\n",
    "    unconscious = sio.loadmat(filepath + k + temp_con   + Cx +  '_dfa_60sec_5_50sec.mat') ['beta']\n",
    "    conscious_temp = sio.loadmat(filepath + k + temp_uncon  + Cx +  '_dfa_60sec_5_50sec.mat') ['beta']\n",
    "    assert conscious_temp.shape[0]==unconscious.shape[0],\"attention, con et uncon pas le même nb d'elec\"\n",
    "    if conscious_temp.shape[0] == 65:\n",
    "        elec = np.ones(shape = (conscious_temp.shape[0]),dtype = bool)\n",
    "        elec[[39,44]] = False\n",
    "        conscious_temp = conscious_temp[elec,:]\n",
    "        unconscious = unconscious[elec,:]\n",
    "    \n",
    "    conscious=np.zeros((len(unconscious),len(unconscious[1]))) \n",
    "    for jj in range(len(conscious)):\n",
    "        conscious[jj,:] = np.random.choice(conscious_temp[jj],len(unconscious[1]))\n",
    "\n",
    "    a = np.zeros((conscious.shape[1]))\n",
    "    b = np.ones((unconscious.shape[1]))\n",
    "    \n",
    "    conscious_unconscious = np.concatenate((conscious, unconscious),axis=1).T\n",
    "\n",
    "    vectorlabel = np.concatenate((a, b), axis=0)\n",
    "    \n",
    "    cvO = defCv(vectorlabel, rep=1)\n",
    "    #print(cvO)\n",
    "\n",
    "    clfO = defClf(vectorlabel, clf='lda')\n",
    "    #print(clfO)\n",
    "\n",
    "    cl = classify(vectorlabel, clf=clfO, cvtype=cvO)\n",
    "    #print(cl)\n",
    "    \n",
    "    da, pvalue, daperm = cl.fit(conscious_unconscious, n_perm=1, grp=grp , method='label_rnd')\n",
    "\n",
    "    sio.savemat(savepath+k+'_da_'+Cx+'_new_sf_shallow_final_intra',{'da': da})\n",
    "    sio.savemat(savepath+k+'_pvalue_'+Cx+'_new_sf_shallow_final_intra',{'pvalue': pvalue})\n",
    "    sio.savemat(savepath+k+'_da_perm_'+Cx+'_new_sf_shallow_final_intra',{'daperm': daperm})\n",
    "    print(k)\n",
    "    fig1 = plt.figure(1, figsize=(20,10))\n",
    "\n",
    "    cl.daplot(da, daperm=daperm, chance_method='perm', rmax=['top', 'right'],\n",
    "            dpax=['bottom', 'left'], cmap='magma', ylim=[40,100], chance_unique=True,chance_level = 0.01,\n",
    "            chance_color='darkgreen')\n",
    "    fig1.savefig(savepath+k+'_'+Cx+'_new_sf_shallow_final.png', dpi=300, bbox_inches='tight')\n",
    "    \n",
    "    # Display informations about features :\n",
    "    cl.info.to_excel(savepath+k+'_'+Cx+'_new_sf_shallow_final_intra.xlsx')\n",
    "    plt.clf()\n",
    "    plt.close()\n",
    "    data = sio.loadmat(savepath+k+'_da_'+Cx+'_new_sf_shallow_final_intra.mat')['da'].T \n",
    "    data = np.squeeze(data)\n",
    "\n",
    "    mask_default = np.full((len(data)), False, dtype=bool)\n",
    "    mask = np.array(mask_default)\n",
    "    mask[data >np.amax(daperm)-0.01] = True\n",
    "\n",
    "    mask_params = dict(marker='*', markerfacecolor='w', markersize=15) # significant sensors appearence\n",
    "\n",
    "    fig = plt.figure(figsize = (10,15))\n",
    "    plt.subplot(1,2,1)\n",
    "    ax,_ = plot_topomap(data, sensors_pos,\n",
    "                    cmap='inferno', show=False, vmin=40, vmax=70, mask = mask, mask_params = mask_params)\n",
    "\n",
    "    fig.colorbar(ax, shrink=0.25)\n",
    "    plt.savefig(savepath + k+ '_da_sf_shallow_final_'+Cx+'_fig_python.png', dpi = 300)\n",
    "    plt.clf()\n",
    "    plt.close()\n",
    "    del da, pvalue, cl, fig, fig1"
   ]
  }
 ],
 "metadata": {
  "anaconda-cloud": {},
  "kernelspec": {
   "display_name": "Python [default]",
   "language": "python",
   "name": "python3"
  },
  "language_info": {
   "codemirror_mode": {
    "name": "ipython",
    "version": 3
   },
   "file_extension": ".py",
   "mimetype": "text/x-python",
   "name": "python",
   "nbconvert_exporter": "python",
   "pygments_lexer": "ipython3",
   "version": "3.5.2"
  }
 },
 "nbformat": 4,
 "nbformat_minor": 0
}
