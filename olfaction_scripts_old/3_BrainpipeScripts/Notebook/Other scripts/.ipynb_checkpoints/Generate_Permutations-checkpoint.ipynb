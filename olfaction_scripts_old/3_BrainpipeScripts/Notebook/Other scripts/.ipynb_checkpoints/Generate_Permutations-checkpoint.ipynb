{
 "cells": [
  {
   "cell_type": "markdown",
   "metadata": {},
   "source": [
    "## Generate permutations"
   ]
  },
  {
   "cell_type": "code",
   "execution_count": 1,
   "metadata": {
    "collapsed": false,
    "scrolled": false
   },
   "outputs": [],
   "source": [
    "def _init_categorical_perms(cats, permutations=1000):\n",
    "\n",
    "    \"\"\"\n",
    "    Creates a reciprocal permutation matrix\n",
    "    cats: numpy.array\n",
    "       List of binary class assignments\n",
    "    permutations: int\n",
    "       Number of permutations for permutation test\n",
    "    Note: This can only handle binary classes now\n",
    "    \"\"\"\n",
    "\n",
    "    c = len(cats)\n",
    "    num_cats = len(np.unique(cats)) # Number of distinct categories\n",
    "    copy_cats = copy.deepcopy(cats)\n",
    "    perms = np.array(np.zeros((c, num_cats*(permutations+1)), dtype=cats.dtype))\n",
    "    for m in range(permutations+1):\n",
    "        for i in range(num_cats):\n",
    "            perms[:,num_cats*m+i] = (copy_cats == i).astype(cats.dtype)\n",
    "        np.random.shuffle(copy_cats)\n",
    "    return perms"
   ]
  }
 ],
 "metadata": {
  "anaconda-cloud": {},
  "kernelspec": {
   "display_name": "Python [default]",
   "language": "python",
   "name": "python3"
  },
  "language_info": {
   "codemirror_mode": {
    "name": "ipython",
    "version": 3
   },
   "file_extension": ".py",
   "mimetype": "text/x-python",
   "name": "python",
   "nbconvert_exporter": "python",
   "pygments_lexer": "ipython3",
   "version": "3.5.2"
  }
 },
 "nbformat": 4,
 "nbformat_minor": 1
}
