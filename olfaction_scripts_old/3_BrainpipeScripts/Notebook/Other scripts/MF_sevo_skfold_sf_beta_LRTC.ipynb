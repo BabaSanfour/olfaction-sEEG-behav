{
 "cells": [
  {
   "cell_type": "code",
   "execution_count": 1,
   "metadata": {
    "collapsed": false
   },
   "outputs": [],
   "source": [
    "import numpy as np\n",
    "import pandas as pd\n",
    "import matplotlib.pyplot as plt\n",
    "import scipy.io as sio\n",
    "%matplotlib inline\n",
    "%load_ext autoreload\n",
    "%autoreload 2\n",
    "# u can use %matplotlib notebook, but there is some bugs with xticks and title\n",
    "\n",
    "from brainpipe import *\n",
    "import mne"
   ]
  },
  {
   "cell_type": "code",
   "execution_count": 2,
   "metadata": {
    "collapsed": false
   },
   "outputs": [
    {
     "ename": "FileNotFoundError",
     "evalue": "[Errno 2] No such file or directory: '/media/karim/4TB_drive/Final_DFA_analysis/60sec/classif/MF/Sall_conscious_elec_63_beta.mat'",
     "output_type": "error",
     "traceback": [
      "\u001b[0;31m---------------------------------------------------------------------------\u001b[0m",
      "\u001b[0;31mFileNotFoundError\u001b[0m                         Traceback (most recent call last)",
      "\u001b[0;32m<ipython-input-2-b4f7eaceaf68>\u001b[0m in \u001b[0;36m<module>\u001b[0;34m()\u001b[0m\n\u001b[1;32m      4\u001b[0m \u001b[0mfilename2\u001b[0m \u001b[0;34m=\u001b[0m \u001b[0;34m\"Sall_unconscious_elec_63_beta.mat\"\u001b[0m\u001b[0;34m\u001b[0m\u001b[0m\n\u001b[1;32m      5\u001b[0m \u001b[0;34m\u001b[0m\u001b[0m\n\u001b[0;32m----> 6\u001b[0;31m \u001b[0mSall_conscious\u001b[0m \u001b[0;34m=\u001b[0m \u001b[0msio\u001b[0m\u001b[0;34m.\u001b[0m\u001b[0mloadmat\u001b[0m\u001b[0;34m(\u001b[0m\u001b[0mfilepath\u001b[0m \u001b[0;34m+\u001b[0m \u001b[0mfilename1\u001b[0m\u001b[0;34m)\u001b[0m\u001b[0;34m[\u001b[0m\u001b[0;34m\"conscious_all\"\u001b[0m\u001b[0;34m]\u001b[0m\u001b[0;34m.\u001b[0m\u001b[0mT\u001b[0m\u001b[0;34m\u001b[0m\u001b[0m\n\u001b[0m\u001b[1;32m      7\u001b[0m \u001b[0mSall_unconscious\u001b[0m \u001b[0;34m=\u001b[0m \u001b[0msio\u001b[0m\u001b[0;34m.\u001b[0m\u001b[0mloadmat\u001b[0m\u001b[0;34m(\u001b[0m\u001b[0mfilepath\u001b[0m \u001b[0;34m+\u001b[0m \u001b[0mfilename2\u001b[0m\u001b[0;34m)\u001b[0m\u001b[0;34m[\u001b[0m\u001b[0;34m\"unconscious_all\"\u001b[0m\u001b[0;34m]\u001b[0m\u001b[0;34m.\u001b[0m\u001b[0mT\u001b[0m\u001b[0;34m\u001b[0m\u001b[0m\n\u001b[1;32m      8\u001b[0m \u001b[0;34m\u001b[0m\u001b[0m\n",
      "\u001b[0;32m/home/thomasthiery/anaconda3/lib/python3.5/site-packages/scipy/io/matlab/mio.py\u001b[0m in \u001b[0;36mloadmat\u001b[0;34m(file_name, mdict, appendmat, **kwargs)\u001b[0m\n\u001b[1;32m    133\u001b[0m     \"\"\"\n\u001b[1;32m    134\u001b[0m     \u001b[0mvariable_names\u001b[0m \u001b[0;34m=\u001b[0m \u001b[0mkwargs\u001b[0m\u001b[0;34m.\u001b[0m\u001b[0mpop\u001b[0m\u001b[0;34m(\u001b[0m\u001b[0;34m'variable_names'\u001b[0m\u001b[0;34m,\u001b[0m \u001b[0;32mNone\u001b[0m\u001b[0;34m)\u001b[0m\u001b[0;34m\u001b[0m\u001b[0m\n\u001b[0;32m--> 135\u001b[0;31m     \u001b[0mMR\u001b[0m \u001b[0;34m=\u001b[0m \u001b[0mmat_reader_factory\u001b[0m\u001b[0;34m(\u001b[0m\u001b[0mfile_name\u001b[0m\u001b[0;34m,\u001b[0m \u001b[0mappendmat\u001b[0m\u001b[0;34m,\u001b[0m \u001b[0;34m**\u001b[0m\u001b[0mkwargs\u001b[0m\u001b[0;34m)\u001b[0m\u001b[0;34m\u001b[0m\u001b[0m\n\u001b[0m\u001b[1;32m    136\u001b[0m     \u001b[0mmatfile_dict\u001b[0m \u001b[0;34m=\u001b[0m \u001b[0mMR\u001b[0m\u001b[0;34m.\u001b[0m\u001b[0mget_variables\u001b[0m\u001b[0;34m(\u001b[0m\u001b[0mvariable_names\u001b[0m\u001b[0;34m)\u001b[0m\u001b[0;34m\u001b[0m\u001b[0m\n\u001b[1;32m    137\u001b[0m     \u001b[0;32mif\u001b[0m \u001b[0mmdict\u001b[0m \u001b[0;32mis\u001b[0m \u001b[0;32mnot\u001b[0m \u001b[0;32mNone\u001b[0m\u001b[0;34m:\u001b[0m\u001b[0;34m\u001b[0m\u001b[0m\n",
      "\u001b[0;32m/home/thomasthiery/anaconda3/lib/python3.5/site-packages/scipy/io/matlab/mio.py\u001b[0m in \u001b[0;36mmat_reader_factory\u001b[0;34m(file_name, appendmat, **kwargs)\u001b[0m\n\u001b[1;32m     56\u001b[0m        \u001b[0mtype\u001b[0m \u001b[0mdetected\u001b[0m \u001b[0;32min\u001b[0m\u001b[0;31m \u001b[0m\u001b[0;31m`\u001b[0m\u001b[0mfilename\u001b[0m\u001b[0;31m`\u001b[0m\u001b[0;34m.\u001b[0m\u001b[0;34m\u001b[0m\u001b[0m\n\u001b[1;32m     57\u001b[0m     \"\"\"\n\u001b[0;32m---> 58\u001b[0;31m     \u001b[0mbyte_stream\u001b[0m \u001b[0;34m=\u001b[0m \u001b[0m_open_file\u001b[0m\u001b[0;34m(\u001b[0m\u001b[0mfile_name\u001b[0m\u001b[0;34m,\u001b[0m \u001b[0mappendmat\u001b[0m\u001b[0;34m)\u001b[0m\u001b[0;34m\u001b[0m\u001b[0m\n\u001b[0m\u001b[1;32m     59\u001b[0m     \u001b[0mmjv\u001b[0m\u001b[0;34m,\u001b[0m \u001b[0mmnv\u001b[0m \u001b[0;34m=\u001b[0m \u001b[0mget_matfile_version\u001b[0m\u001b[0;34m(\u001b[0m\u001b[0mbyte_stream\u001b[0m\u001b[0;34m)\u001b[0m\u001b[0;34m\u001b[0m\u001b[0m\n\u001b[1;32m     60\u001b[0m     \u001b[0;32mif\u001b[0m \u001b[0mmjv\u001b[0m \u001b[0;34m==\u001b[0m \u001b[0;36m0\u001b[0m\u001b[0;34m:\u001b[0m\u001b[0;34m\u001b[0m\u001b[0m\n",
      "\u001b[0;32m/home/thomasthiery/anaconda3/lib/python3.5/site-packages/scipy/io/matlab/mio.py\u001b[0m in \u001b[0;36m_open_file\u001b[0;34m(file_like, appendmat)\u001b[0m\n\u001b[1;32m     21\u001b[0m     \u001b[0;32mif\u001b[0m \u001b[0misinstance\u001b[0m\u001b[0;34m(\u001b[0m\u001b[0mfile_like\u001b[0m\u001b[0;34m,\u001b[0m \u001b[0mstring_types\u001b[0m\u001b[0;34m)\u001b[0m\u001b[0;34m:\u001b[0m\u001b[0;34m\u001b[0m\u001b[0m\n\u001b[1;32m     22\u001b[0m         \u001b[0;32mtry\u001b[0m\u001b[0;34m:\u001b[0m\u001b[0;34m\u001b[0m\u001b[0m\n\u001b[0;32m---> 23\u001b[0;31m             \u001b[0;32mreturn\u001b[0m \u001b[0mopen\u001b[0m\u001b[0;34m(\u001b[0m\u001b[0mfile_like\u001b[0m\u001b[0;34m,\u001b[0m \u001b[0;34m'rb'\u001b[0m\u001b[0;34m)\u001b[0m\u001b[0;34m\u001b[0m\u001b[0m\n\u001b[0m\u001b[1;32m     24\u001b[0m         \u001b[0;32mexcept\u001b[0m \u001b[0mIOError\u001b[0m \u001b[0;32mas\u001b[0m \u001b[0me\u001b[0m\u001b[0;34m:\u001b[0m\u001b[0;34m\u001b[0m\u001b[0m\n\u001b[1;32m     25\u001b[0m             \u001b[0;32mif\u001b[0m \u001b[0mappendmat\u001b[0m \u001b[0;32mand\u001b[0m \u001b[0;32mnot\u001b[0m \u001b[0mfile_like\u001b[0m\u001b[0;34m.\u001b[0m\u001b[0mendswith\u001b[0m\u001b[0;34m(\u001b[0m\u001b[0;34m'.mat'\u001b[0m\u001b[0;34m)\u001b[0m\u001b[0;34m:\u001b[0m\u001b[0;34m\u001b[0m\u001b[0m\n",
      "\u001b[0;31mFileNotFoundError\u001b[0m: [Errno 2] No such file or directory: '/media/karim/4TB_drive/Final_DFA_analysis/60sec/classif/MF/Sall_conscious_elec_63_beta.mat'"
     ]
    }
   ],
   "source": [
    "filepath = \"/media/karim/4TB_drive/Final_DFA_analysis/60sec/classif/MF/\"\n",
    "\n",
    "filename1 = \"Sall_conscious_elec_63_beta.mat\"\n",
    "filename2 = \"Sall_unconscious_elec_63_beta.mat\"\n",
    "\n",
    "Sall_conscious = sio.loadmat(filepath + filename1)[\"conscious_all\"].T\n",
    "Sall_unconscious = sio.loadmat(filepath + filename2)[\"unconscious_all\"].T\n",
    "\n",
    "a = np.zeros((Sall_conscious.shape[1]))\n",
    "b = np.ones((Sall_unconscious.shape[1]))\n",
    "\n",
    "               \n",
    "x = np.concatenate((Sall_conscious, Sall_unconscious),axis=1).T\n",
    "\n",
    "print(x.shape)\n",
    "\n",
    "y = np.concatenate((a, b), axis=0)"
   ]
  },
  {
   "cell_type": "code",
   "execution_count": 5,
   "metadata": {
    "collapsed": false
   },
   "outputs": [
    {
     "name": "stdout",
     "output_type": "stream",
     "text": [
      "-> Run the backward feature selection\n",
      "Step 1 -  group removed : 3 || DA = 72.0062208398\n",
      "Step 2 -  group removed : 9 || DA = 71.0730948678\n",
      "-> Run the backward feature selection\n",
      "Step 1 -  group removed : 12 || DA = 72.1617418351\n",
      "Step 2 -  group removed : 1 || DA = 72.6283048212\n",
      "Step 3 -  group removed : 39 || DA = 72.1617418351\n",
      "-> Run the backward feature selection\n",
      "Step 1 -  group removed : 37 || DA = 71.3841368585\n",
      "Step 2 -  group removed : 60 || DA = 71.5396578538\n",
      "Step 3 -  group removed : 36 || DA = 71.5396578538\n",
      "-> Run the backward feature selection\n",
      "Step 1 -  group removed : 52 || DA = 72.0062208398\n",
      "Step 2 -  group removed : 24 || DA = 71.8506998445\n",
      "-> Run the backward feature selection\n",
      "Step 1 -  group removed : 50 || DA = 70.9175738725\n",
      "Step 2 -  group removed : 4 || DA = 70.9175738725\n",
      "-> Run the backward feature selection\n",
      "Step 1 -  group removed : 39 || DA = 72.3172628305\n",
      "Step 2 -  group removed : 45 || DA = 71.6951788491\n",
      "-> Run the backward feature selection\n",
      "Step 1 -  group removed : 6 || DA = 71.2286158631\n",
      "Step 2 -  group removed : 2 || DA = 70.9175738725\n",
      "-> Run the backward feature selection\n",
      "Step 1 -  group removed : 32 || DA = 71.1180124224\n",
      "Step 2 -  group removed : 61 || DA = 71.5838509317\n",
      "Step 3 -  group removed : 9 || DA = 70.652173913\n",
      "-> Run the backward feature selection\n",
      "Step 1 -  group removed : 41 || DA = 70.6976744186\n",
      "Step 2 -  group removed : 29 || DA = 71.3178294574\n",
      "Step 3 -  group removed : 49 || DA = 70.6976744186\n",
      "-> Run the backward feature selection\n",
      "Step 1 -  group removed : 6 || DA = 71.7829457364\n",
      "Step 2 -  group removed : 25 || DA = 72.0930232558\n",
      "Step 3 -  group removed : 35 || DA = 72.2480620155\n",
      "Step 4 -  group removed : 5 || DA = 72.0930232558\n"
     ]
    }
   ],
   "source": [
    "# Multifeatures\n",
    "cl = 'rf'\n",
    "mfMeth = 'backward'\n",
    "\n",
    "\n",
    "clfIn={'clf': cl}\n",
    "clfOut={'clf': cl}\n",
    "cvIn={'cvtype': 'skfold', 'n_folds': 10, 'rep': 1}\n",
    "cvOut={'cvtype': 'skfold', 'n_folds': 10, 'rep': 1}\n",
    "\n",
    "mfO = mf(y,Id='3', cvIn=cvIn, cvOut=cvOut,clfIn=clfIn,clfOut=clfOut,\n",
    "         occurence='%', p=0.001, direction=mfMeth)\n",
    "da, prob, summary = mfO.fit(x)"
   ]
  },
  {
   "cell_type": "code",
   "execution_count": 6,
   "metadata": {
    "collapsed": false
   },
   "outputs": [],
   "source": [
    "# Run MF:\n",
    "\n",
    "#summary[\"pvalue\"] = bino_p2da(np.array(summary[\"da\"],[0.05, 0.01, 0.001, 0.00001]))\n",
    "#summary = summary.sort_values(\"da\", ascending=False)\n",
    "        \n",
    "# Sqve in Excel:\n",
    "sio.savemat(filepath+'da_con_uncon'+mfMeth,{'da': da})\n",
    "sio.savemat(filepath+'prob_uncon'+mfMeth,{'prob': prob})\n",
    "sio.savemat(filepath+'summary_con_uncon'+mfMeth,{'summary': summary})"
   ]
  },
  {
   "cell_type": "code",
   "execution_count": 8,
   "metadata": {
    "collapsed": false
   },
   "outputs": [
    {
     "data": {
      "text/html": [
       "<div>\n",
       "<table border=\"1\" class=\"dataframe\">\n",
       "  <thead>\n",
       "    <tr style=\"text-align: right;\">\n",
       "      <th></th>\n",
       "      <th>name</th>\n",
       "      <th>idx</th>\n",
       "      <th>group</th>\n",
       "      <th>da</th>\n",
       "      <th>occurrence</th>\n",
       "    </tr>\n",
       "  </thead>\n",
       "  <tbody>\n",
       "    <tr>\n",
       "      <th>0</th>\n",
       "      <td>none</td>\n",
       "      <td>[0, 1, 2, 3, 4, 5, 6, 7, 8, 9, 10, 11, 12, 13,...</td>\n",
       "      <td>[0, 1, 2, 3, 4, 5, 6, 7, 8, 9, 10, 11, 12, 13,...</td>\n",
       "      <td>69.65035</td>\n",
       "      <td>[1.6286644951140066, 1.4657980456026058, 1.628...</td>\n",
       "    </tr>\n",
       "  </tbody>\n",
       "</table>\n",
       "</div>"
      ],
      "text/plain": [
       "   name                                                idx  \\\n",
       "0  none  [0, 1, 2, 3, 4, 5, 6, 7, 8, 9, 10, 11, 12, 13,...   \n",
       "\n",
       "                                               group        da  \\\n",
       "0  [0, 1, 2, 3, 4, 5, 6, 7, 8, 9, 10, 11, 12, 13,...  69.65035   \n",
       "\n",
       "                                          occurrence  \n",
       "0  [1.6286644951140066, 1.4657980456026058, 1.628...  "
      ]
     },
     "execution_count": 8,
     "metadata": {},
     "output_type": "execute_result"
    }
   ],
   "source": [
    "mfO.MFstr\n",
    "summary"
   ]
  }
 ],
 "metadata": {
  "anaconda-cloud": {},
  "kernelspec": {
   "display_name": "Python [default]",
   "language": "python",
   "name": "python3"
  },
  "language_info": {
   "codemirror_mode": {
    "name": "ipython",
    "version": 3
   },
   "file_extension": ".py",
   "mimetype": "text/x-python",
   "name": "python",
   "nbconvert_exporter": "python",
   "pygments_lexer": "ipython3",
   "version": "3.5.2"
  }
 },
 "nbformat": 4,
 "nbformat_minor": 0
}
