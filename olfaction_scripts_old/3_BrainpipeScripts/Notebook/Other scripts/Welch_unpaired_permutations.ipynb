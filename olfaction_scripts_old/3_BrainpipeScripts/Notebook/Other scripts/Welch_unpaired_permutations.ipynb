{
 "cells": [
  {
   "cell_type": "markdown",
   "metadata": {},
   "source": [
    "## T-test permutations Welch (unequal variance)"
   ]
  },
  {
   "cell_type": "code",
   "execution_count": null,
   "metadata": {
    "collapsed": true
   },
   "outputs": [],
   "source": [
    "def ttest_perm(a, b, axis=0, permutations = 1000):\n",
    "    \"\"\"\n",
    "    Calculates the Welch's T-test for the means of TWO INDEPENDENT samples of scores\n",
    "    using permutation methods\n",
    "    This test is an equivalent to scipy.stats.ttest_ind, except it doesn't require the\n",
    "    normality assumption since it uses a permutation test.\n",
    "    Parameters\n",
    "    ----------\n",
    "    a : array_like\n",
    "        The array must be 2 dimensional\n",
    "    b: array_like\n",
    "        This array must be 1 dimensional and have the same size as\n",
    "        the length of the specified axis\n",
    "    axis : int, optional\n",
    "        Axis can equal None (ravel array first), or an integer (the axis\n",
    "        over which to operate on a and b).\n",
    "    permutations: int\n",
    "        Number of permutations used to calculate p-value\n",
    "    Returns\n",
    "    -------\n",
    "    t : float or array\n",
    "        The calculated t-statistic.\n",
    "    prob : float or array\n",
    "        The two-tailed p-value.\n",
    "    \"\"\"\n",
    "    assert len(a.shape) == 2\n",
    "    r, c = a.shape\n",
    "    mat = np.matrix(a)\n",
    "    if axis == 0: # Test with respect to rows\n",
    "        assert len(b) == c\n",
    "    else:\n",
    "        assert len(b) == r\n",
    "        mat = mat.transpose()\n",
    "\n",
    "    perms = _init_categorical_perms(b, permutations=1000)\n",
    "    perms = np.matrix(perms)\n",
    "    num_cats = 2\n",
    "    _, c = perms.shape\n",
    "    permutations = (c - num_cats) / num_cats\n",
    "\n",
    "    ## Perform matrix multiplication on data matrix\n",
    "    ## and calculate sums and squared sums\n",
    "    _sums  = mat * perms\n",
    "    _sums2 = np.multiply(mat, mat) * perms\n",
    "\n",
    "    ## Calculate means and sample variances\n",
    "    tot =  perms.sum(axis = 0)\n",
    "    _avgs  = _sums / tot\n",
    "    _avgs2 = _sums2 / tot\n",
    "    _vars  = _avgs2 - np.multiply(_avgs, _avgs)\n",
    "    _samp_vars =  np.multiply(tot, _vars) / (tot-1)\n",
    "\n",
    "    ## Calculate the t statistic\n",
    "    idx = np.arange(0, (permutations+1)*num_cats, num_cats, dtype=np.int32)\n",
    "    denom  = np.sqrt(_samp_vars[:, idx+1] / tot[:,idx+1]  + _samp_vars[:, idx] / tot[:,idx])\n",
    "    t_stat = np.divide(_avgs[:, idx] - _avgs[:, idx+1], denom)\n",
    "    ## Calculate the p-values\n",
    "    cmps =  abs(t_stat[:,1:]) >= abs(t_stat[:,0])\n",
    "    pvalues = (cmps.sum(axis = 1) + 1.)/(permutations + 1.)\n",
    "\n",
    "    return map(np.array, map(np.ravel, [t_stat[:, 0],pvalues]))"
   ]
  }
 ],
 "metadata": {
  "kernelspec": {
   "display_name": "Python [default]",
   "language": "python",
   "name": "python3"
  },
  "language_info": {
   "codemirror_mode": {
    "name": "ipython",
    "version": 3
   },
   "file_extension": ".py",
   "mimetype": "text/x-python",
   "name": "python",
   "nbconvert_exporter": "python",
   "pygments_lexer": "ipython3",
   "version": "3.5.2"
  }
 },
 "nbformat": 4,
 "nbformat_minor": 1
}
