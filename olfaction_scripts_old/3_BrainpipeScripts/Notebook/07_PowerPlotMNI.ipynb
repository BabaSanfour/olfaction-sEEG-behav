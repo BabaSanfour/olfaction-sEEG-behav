{
 "cells": [
  {
   "cell_type": "code",
   "execution_count": 1,
   "metadata": {
    "collapsed": false
   },
   "outputs": [
    {
     "name": "stdout",
     "output_type": "stream",
     "text": [
      "-> Olfacto loaded\n",
      "-> Coordinates file: CHAF_R123_OrdreMFconcat_trigg01_bipo.npz\n",
      "-> Feature file: CHAF_R123_OrdreMFconcat_trigg01_bipo_power.npz\n",
      "-> Coordinates file: FERJ_R123_OrdreMFconcat_trigg01_bipo.npz\n",
      "-> Feature file: FERJ_R123_OrdreMFconcat_trigg01_bipo_power.npz\n",
      "-> Coordinates file: LEFC_R123_OrdreMFconcat_trigg01_bipo.npz\n",
      "-> Feature file: LEFC_R123_OrdreMFconcat_trigg01_bipo_power.npz\n",
      "-> Coordinates file: PIRJ_R123_OrdreMFconcat_trigg01_bipo.npz\n",
      "-> Feature file: PIRJ_R123_OrdreMFconcat_trigg01_bipo_power.npz\n",
      "-> Coordinates file: SEMC_R123_OrdreMFconcat_trigg01_bipo.npz\n",
      "-> Feature file: SEMC_R123_OrdreMFconcat_trigg01_bipo_power.npz\n",
      "-> Coordinates file: VACJ_R123_OrdreMFconcat_trigg01_bipo.npz\n",
      "-> Feature file: VACJ_R123_OrdreMFconcat_trigg01_bipo_power.npz\n"
     ]
    },
    {
     "name": "stderr",
     "output_type": "stream",
     "text": [
      "C:\\Users\\Anne-Lise\\Anaconda3\\lib\\site-packages\\IPython\\config.py:13: ShimWarning: The `IPython.config` package has been deprecated. You should import from traitlets.config instead.\n",
      "  \"You should import from traitlets.config instead.\", ShimWarning)\n"
     ]
    }
   ],
   "source": [
    "\"\"\"This script illustrate how to use visbrain to plot your power features on a\n",
    "standard MNI brain.\n",
    "\n",
    "Need to install visbrain (from my repo) and paste the folder into\n",
    ".../site-packages/. You will probably have a problem with pyqt. In that\n",
    "case, you need to install pyqt 4 (something like this: conda install\n",
    "pyqt='4.17')\n",
    "\n",
    "\"\"\"\n",
    "import numpy as np\n",
    "from os import path\n",
    "\n",
    "from brainpipe.system import study\n",
    "from visbrain import vbrain\n",
    "\n",
    "if __name__ == '__main__':\n",
    "    # Load one power file :\n",
    "    st = study('Olfacto')\n",
    "    pattern = 'trigg01'  # Pattern for loading all your subjects\n",
    "    files = st.search(pattern, folder='feature')\n",
    "    frq2plt = 0  # The frequency to plot\n",
    "    window = 3  # Select one window\n",
    "    # Now, we construct the data to plot and coordinates :\n",
    "    s_data = np.array([])\n",
    "    s_xyz = np.array([])\n",
    "    for fi in files:\n",
    "        # Detect the subject :\n",
    "        suj = fi.split('_R123')[0]\n",
    "        # Load only xyz for this subject :\n",
    "        xyzFile = st.search(suj, '_bipo', folder='database')[0]\n",
    "        print('-> Coordinates file: ' + xyzFile)\n",
    "        xyz = np.load(path.join(st.path, 'database', xyzFile))['xyz']\n",
    "        # Now load the power features :\n",
    "        print('-> Feature file: ' + fi)\n",
    "        mat = np.load(path.join(st.path, 'feature', fi))\n",
    "        x = mat['xpow'][frq2plt, :, window, :].mean(1)\n",
    "        fname = mat['fname']\n",
    "        # Add x and xyz to sources variables :\n",
    "        s_data = np.concatenate((s_data, x)) if s_data.size else x\n",
    "        s_xyz = np.concatenate((s_xyz, xyz)) if s_xyz.size else xyz\n",
    "    # Create a visbrain instance :\n",
    "    ui_savename = suj + '_Fcy-' + fname[frq2plt] + '_Window-' + str(window)\n",
    "    vb = vbrain(s_data=s_data, s_xyz=s_xyz, ui_savename=ui_savename)\n",
    "    vb.show()\n"
   ]
  },
  {
   "cell_type": "code",
   "execution_count": null,
   "metadata": {
    "collapsed": true
   },
   "outputs": [],
   "source": []
  }
 ],
 "metadata": {
  "anaconda-cloud": {},
  "kernelspec": {
   "display_name": "Python [default]",
   "language": "python",
   "name": "python3"
  },
  "language_info": {
   "codemirror_mode": {
    "name": "ipython",
    "version": 3
   },
   "file_extension": ".py",
   "mimetype": "text/x-python",
   "name": "python",
   "nbconvert_exporter": "python",
   "pygments_lexer": "ipython3",
   "version": "3.5.2"
  }
 },
 "nbformat": 4,
 "nbformat_minor": 1
}
