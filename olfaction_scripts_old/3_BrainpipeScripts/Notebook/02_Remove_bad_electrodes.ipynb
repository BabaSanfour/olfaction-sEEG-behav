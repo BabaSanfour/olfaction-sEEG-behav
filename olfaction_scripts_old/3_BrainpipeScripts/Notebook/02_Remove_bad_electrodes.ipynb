{
 "cells": [
  {
   "cell_type": "code",
   "execution_count": null,
   "metadata": {
    "collapsed": true
   },
   "outputs": [],
   "source": []
  },
  {
   "cell_type": "code",
   "execution_count": 10,
   "metadata": {},
   "outputs": [
    {
     "name": "stdout",
     "output_type": "stream",
     "text": [
      "-> Olfacto loaded\n",
      "MICP_odor_bad.npz (121, 2816, 33) ['x', 'xyz', 'sf', 'channel', 'label']\n",
      "MICP_odor_bad_bipo.npz (104, 2816, 33) ['xyz', 'x', 'channel', 'sf', 'label']\n",
      "MICP_odor_bad_bipo2.npz (100, 2816, 33) ['channel', 'x', 'sf', 'label', 'xyz']\n",
      "MICP_odor_bad_bipo_new.npz (76, 2816, 45) ['label', 'xyz', 'x', 'sf', 'channel']\n",
      "MICP_odor_bad_bipo_sel.npz (74, 2816, 45) ['channel', 'x', 'sf', 'label', 'xyz']\n",
      "MICP_odor_bad_bipo_sel_aal_4.npz (60, 2816, 45) ['xyz', 'sf', 'labels', 'BA', 'channels', 'aal', 'x']\n",
      "MICP_odor_bad_bipo_sel_aal_5.npz (45, 2816, 45) ['xyz', 'sf', 'labels', 'BA', 'channels', 'aal', 'x']\n",
      "MICP_odor_bad_bipo_sel_phys.npz (67, 2816, 45) ['channels', 'BA', 'sf', 'labels', 'xyz', 'aal', 'x']\n",
      "MICP_odor_bad_bipo_sel_phys2.npz (62, 2816, 45) ['sf', 'phys', 'x', 'labels', 'channels', 'xyz']\n",
      "MICP_odor_good.npz (121, 2816, 45) ['x', 'xyz', 'sf', 'channel', 'label']\n",
      "MICP_odor_good_bipo.npz (104, 2816, 45) ['xyz', 'x', 'channel', 'sf', 'label']\n",
      "MICP_odor_good_bipo2.npz (100, 2816, 45) ['channel', 'x', 'sf', 'label', 'xyz']\n",
      "MICP_odor_good_bipo_new.npz (76, 2816, 33) ['label', 'xyz', 'x', 'sf', 'channel']\n",
      "MICP_odor_good_bipo_sel.npz (74, 2816, 33) ['channel', 'x', 'sf', 'label', 'xyz']\n",
      "MICP_odor_good_bipo_sel_aal_4.npz (60, 2816, 33) ['xyz', 'sf', 'labels', 'BA', 'channels', 'aal', 'x']\n",
      "MICP_odor_good_bipo_sel_aal_5.npz (45, 2816, 33) ['xyz', 'sf', 'labels', 'BA', 'channels', 'aal', 'x']\n",
      "MICP_odor_good_bipo_sel_phys.npz (67, 2816, 33) ['channels', 'BA', 'sf', 'labels', 'xyz', 'aal', 'x']\n",
      "MICP_odor_good_bipo_sel_phys2.npz (62, 2816, 33) ['sf', 'phys', 'x', 'labels', 'channels', 'xyz']\n"
     ]
    }
   ],
   "source": [
    "import pandas as pd\n",
    "import numpy as np\n",
    "from brainpipe.system import study\n",
    "from os import path\n",
    "import os\n",
    "\n",
    "st = study('Olfacto')\n",
    "path_data = path.join(st.path,'database/TS_E_all_by_odor_th40_art400_30_250_Good_Bad_EpiScore_Expi/')\n",
    "files = os.listdir(path_data)\n",
    "#print(files)\n",
    "for fi in files:\n",
    "    if fi.startswith('MICP'):\n",
    "        loadname = path_data+fi\n",
    "        mat = np.load(loadname)\n",
    "        x = np.load(loadname)['x']\n",
    "        print (fi, x.shape, mat.files)\n"
   ]
  },
  {
   "cell_type": "markdown",
   "metadata": {},
   "source": [
    "## Remove bad electrodes after artefact detection\n",
    "### TF with artefacts or 50Hz"
   ]
  },
  {
   "cell_type": "code",
   "execution_count": null,
   "metadata": {},
   "outputs": [],
   "source": [
    "import numpy as np\n",
    "from brainpipe.system import study\n",
    "from os import path"
   ]
  },
  {
   "cell_type": "code",
   "execution_count": 7,
   "metadata": {},
   "outputs": [
    {
     "name": "stdout",
     "output_type": "stream",
     "text": [
      "-> Olfacto loaded\n",
      "MICP (104, 2816, 33) (104,) (104,) (104, 3)\n",
      "MICP 4 (100, 2816, 33) (100,) (100,) (100, 3)\n",
      "MICP (104, 2816, 45) (104,) (104,) (104, 3)\n",
      "MICP 4 (100, 2816, 45) (100,) (100,) (100, 3)\n"
     ]
    }
   ],
   "source": [
    "st = study('Olfacto')\n",
    "pathfiles = path.join(st.path, 'database/TS_E_all_by_odor_th40_art400_30_250_Good_Bad_EpiScore_Expi/')\n",
    "subjects = ['MICP'] #CHAF','VACJ','SEMC','LEFC','MICP','PIRJ','FERJ'\n",
    "conds = ['bad', 'good']\n",
    "phases = ['odor']#'rest'\n",
    "rej_elec = {\n",
    "    'CHAF' : [98,102,103,104],\n",
    "    'VACJ' : [0,66,67,68,122,128], \n",
    "    'SEMC' : [36],\n",
    "    'PIRJ' : [10,14,15,25,26,41,47,48,53,54,55,57,58,63,64,71,72,79,80,81,82,83,],\n",
    "    'LEFC' : [47,48,49,50,140,141,],\n",
    "    'MICP' : [4,9,13,71,],\n",
    "    'FERJ': [],\n",
    "            }\n",
    "\n",
    "for su in subjects:\n",
    "    for cond in conds:\n",
    "        for phase in phases:\n",
    "            mat = np.load(pathfiles+su+'_'+phase+'_'+cond+'_bipo.npz')\n",
    "            x, sf, label, channel, xyz = mat['x'], mat['sf'], mat['label'], mat['channel'], mat['xyz']\n",
    "            print (su, x.shape, label.shape, channel.shape, xyz.shape)\n",
    "\n",
    "            #Remove all bad electrodes from the database\n",
    "            new_x = np.delete(x,rej_elec[su], axis=0)\n",
    "            new_label = np.delete(label,rej_elec[su], axis=0)\n",
    "            new_channel = np.delete(channel,rej_elec[su], axis=0)\n",
    "            new_xyz = np.delete(xyz,rej_elec[su], axis=0)\n",
    "            print (su, len(rej_elec[su]),new_x.shape, new_label.shape, new_channel.shape, new_xyz.shape)\n",
    "\n",
    "            #Save all new information\n",
    "            mat_new = {'x':new_x, 'label':new_label, 'channel':new_channel, 'xyz':new_xyz, 'sf':sf}\n",
    "            file_source = su+'_'+phase+'_'+cond+'_bipo2.npz'\n",
    "            np.savez(pathfiles+file_source,**mat_new)"
   ]
  },
  {
   "cell_type": "markdown",
   "metadata": {},
   "source": [
    "## Remove electrodes with WM"
   ]
  },
  {
   "cell_type": "code",
   "execution_count": 8,
   "metadata": {},
   "outputs": [
    {
     "name": "stdout",
     "output_type": "stream",
     "text": [
      "-> Olfacto loaded\n",
      "MICP\n",
      "bad shape:  (100, 2816, 33) (100,) (100,) (100, 3)\n",
      "good shape:  (100, 2816, 45) (100,) (100,) (100, 3)\n",
      "100\n",
      "MICP 100 [2 3 4 7 11 19 20 21 29 30 31 42 43 44 61 70 71 72 73 74 77 78 88 89 93 99]\n",
      "MICP odor bad (74, 2816, 33) (74,) (74,) (74, 3) good (74, 2816, 45) (74,) (74,) (74, 3)\n"
     ]
    },
    {
     "name": "stderr",
     "output_type": "stream",
     "text": [
      "/home/karim/anaconda3/lib/python3.5/site-packages/ipykernel/__main__.py:34: DeprecationWarning: using a non-integer array as obj in delete will result in an error in the future\n",
      "/home/karim/anaconda3/lib/python3.5/site-packages/ipykernel/__main__.py:35: DeprecationWarning: using a non-integer array as obj in delete will result in an error in the future\n",
      "/home/karim/anaconda3/lib/python3.5/site-packages/ipykernel/__main__.py:36: DeprecationWarning: using a non-integer array as obj in delete will result in an error in the future\n",
      "/home/karim/anaconda3/lib/python3.5/site-packages/ipykernel/__main__.py:37: DeprecationWarning: using a non-integer array as obj in delete will result in an error in the future\n"
     ]
    }
   ],
   "source": [
    "st = study('Olfacto')\n",
    "pathfiles = path.join(st.path, 'database/TS_E_all_by_odor_th40_art400_30_250_Good_Bad_EpiScore_Expi/')\n",
    "subjects = ['MICP'] #'CHAF','VACJ','SEMC', 'LEFC','MICP', \n",
    "phases = ['odor']\n",
    "for su in subjects:\n",
    "    for phase in phases:\n",
    "        print(su)\n",
    "        #load all subjects information\n",
    "        badname = np.load(pathfiles+su+'_odor_bad_bipo2.npz')\n",
    "        goodname = np.load(pathfiles+su+'_odor_good_bipo2.npz')\n",
    "        bad, bad_label, bad_channel, bad_xyz = badname['x'], badname['label'], badname['channel'], badname['xyz']\n",
    "        good, good_label, good_channel, good_xyz = goodname['x'], goodname['label'], goodname['channel'], goodname['xyz']\n",
    "        sf = goodname['sf']\n",
    "        print('bad shape: ', bad.shape, bad_label.shape, bad_channel.shape, bad_xyz.shape)\n",
    "        print('good shape: ', good.shape, good_label.shape, good_channel.shape, good_xyz.shape)\n",
    "\n",
    "        #create a list of all electrodes to remove\n",
    "        elecs = bad_label.shape[0]\n",
    "        print(elecs)\n",
    "        elecs_rej = []\n",
    "        for elec in range(elecs):\n",
    "            elec_rej_wm = np.where(bad_label[elec].find('WM') != -1,int(elec),None)\n",
    "            elec_rej_lcr = np.where(bad_label[elec].find('LCR') != -1,int(elec),None)\n",
    "            elec_rej_skull = np.where(bad_label[elec].find('skull') != -1,int(elec),None)\n",
    "            if elec_rej_wm != None:\n",
    "                elecs_rej = np.append(elecs_rej,elec_rej_wm)\n",
    "            if elec_rej_lcr != None and elec_rej_lcr != elec_rej_wm:\n",
    "                elecs_rej = np.append(elecs_rej,elec_rej_lcr)\n",
    "            if elec_rej_skull != None and elec_rej_skull != elec_rej_wm and elec_rej_skull != elec_rej_lcr:\n",
    "                elecs_rej = np.append(elecs_rej,elec_rej_skull)\n",
    "        print(su, elecs, elecs_rej)\n",
    "\n",
    "        #Remove all bad electrodes from the database\n",
    "        new_bad, new_bad_label = np.delete(bad,elecs_rej, axis=0), np.delete(bad_label,elecs_rej, axis=0)\n",
    "        new_bad_channel, new_bad_xyz = np.delete(bad_channel,elecs_rej, axis=0), np.delete(bad_xyz,elecs_rej, axis=0)\n",
    "        new_good, new_good_label = np.delete(good,elecs_rej, axis=0), np.delete(good_label,elecs_rej, axis=0)\n",
    "        new_good_channel, new_good_xyz = np.delete(good_channel,elecs_rej, axis=0), np.delete(good_xyz,elecs_rej, axis=0)\n",
    "        print (su,phase,'bad',new_bad.shape, new_bad_label.shape,new_bad_channel.shape, new_bad_xyz.shape,\n",
    "              'good', new_good.shape, new_good_label.shape, new_good_channel.shape, new_good_xyz.shape)\n",
    "\n",
    "        #Save all new information\n",
    "        mat_good = {'x':new_bad, 'label':new_bad_label, 'channel':new_bad_channel, 'xyz':new_bad_xyz, 'sf':sf}\n",
    "        mat_bad = {'x':new_good, 'label':new_good_label, 'channel':new_good_channel, 'xyz':new_good_xyz, 'sf':sf}\n",
    "        file_good = su+'_'+phase+'_good_bipo_sel.npz'\n",
    "        file_bad = su+'_'+phase+'_bad_bipo_sel.npz'\n",
    "        np.savez(pathfiles+file_good,**mat_good)\n",
    "        np.savez(pathfiles+file_bad,**mat_bad)\n",
    "        del elecs, elecs_rej, new_bad, new_bad_label, new_bad_channel, new_bad_xyz, new_good\n",
    "        del new_good_label, new_good_channel, new_good_xyz"
   ]
  },
  {
   "cell_type": "markdown",
   "metadata": {},
   "source": [
    "### Add AAL & BA labels to subjects' matrices"
   ]
  },
  {
   "cell_type": "code",
   "execution_count": 9,
   "metadata": {
    "scrolled": true
   },
   "outputs": [
    {
     "name": "stdout",
     "output_type": "stream",
     "text": [
      "-> Olfacto loaded\n"
     ]
    },
    {
     "ename": "FileNotFoundError",
     "evalue": "File b'/media/karim/Datas4To/1_Analyses_Intra_EM_Odor/Olfacto/database/TS_E_all_by_odor_th40_art400_30_250_Good_Bad_EpiScore_Expi/labels/Elecs_MICP_labels_aal.csv' does not exist",
     "output_type": "error",
     "traceback": [
      "\u001b[0;31m---------------------------------------------------------------------------\u001b[0m",
      "\u001b[0;31mFileNotFoundError\u001b[0m                         Traceback (most recent call last)",
      "\u001b[0;32m<ipython-input-9-67a13b20d496>\u001b[0m in \u001b[0;36m<module>\u001b[0;34m()\u001b[0m\n\u001b[1;32m     21\u001b[0m         \u001b[0;31m#aal = su+'_physio_labels_aal.csv'\u001b[0m\u001b[0;34m\u001b[0m\u001b[0;34m\u001b[0m\u001b[0m\n\u001b[1;32m     22\u001b[0m         \u001b[0maal\u001b[0m \u001b[0;34m=\u001b[0m \u001b[0;34m'Elecs_'\u001b[0m\u001b[0;34m+\u001b[0m\u001b[0msu\u001b[0m\u001b[0;34m+\u001b[0m\u001b[0;34m'_labels_aal.csv'\u001b[0m\u001b[0;34m\u001b[0m\u001b[0m\n\u001b[0;32m---> 23\u001b[0;31m         \u001b[0mdf\u001b[0m \u001b[0;34m=\u001b[0m \u001b[0mpd\u001b[0m\u001b[0;34m.\u001b[0m\u001b[0mread_csv\u001b[0m\u001b[0;34m(\u001b[0m\u001b[0mpath_labels\u001b[0m\u001b[0;34m+\u001b[0m\u001b[0maal\u001b[0m\u001b[0;34m,\u001b[0m \u001b[0msep\u001b[0m\u001b[0;34m=\u001b[0m\u001b[0;34m','\u001b[0m\u001b[0;34m)\u001b[0m\u001b[0;34m\u001b[0m\u001b[0m\n\u001b[0m\u001b[1;32m     24\u001b[0m         \u001b[0mkwargs\u001b[0m\u001b[0;34m[\u001b[0m\u001b[0;34m'aal'\u001b[0m\u001b[0;34m]\u001b[0m \u001b[0;34m=\u001b[0m \u001b[0mdf\u001b[0m\u001b[0;34m[\u001b[0m\u001b[0;34m'aal'\u001b[0m\u001b[0;34m]\u001b[0m\u001b[0;34m.\u001b[0m\u001b[0mvalues\u001b[0m\u001b[0;34m\u001b[0m\u001b[0m\n\u001b[1;32m     25\u001b[0m         \u001b[0;31m# Load the BA labels\u001b[0m\u001b[0;34m\u001b[0m\u001b[0;34m\u001b[0m\u001b[0m\n",
      "\u001b[0;32m/home/karim/anaconda3/lib/python3.5/site-packages/pandas/io/parsers.py\u001b[0m in \u001b[0;36mparser_f\u001b[0;34m(filepath_or_buffer, sep, delimiter, header, names, index_col, usecols, squeeze, prefix, mangle_dupe_cols, dtype, engine, converters, true_values, false_values, skipinitialspace, skiprows, nrows, na_values, keep_default_na, na_filter, verbose, skip_blank_lines, parse_dates, infer_datetime_format, keep_date_col, date_parser, dayfirst, iterator, chunksize, compression, thousands, decimal, lineterminator, quotechar, quoting, escapechar, comment, encoding, dialect, tupleize_cols, error_bad_lines, warn_bad_lines, skipfooter, skip_footer, doublequote, delim_whitespace, as_recarray, compact_ints, use_unsigned, low_memory, buffer_lines, memory_map, float_precision)\u001b[0m\n\u001b[1;32m    653\u001b[0m                     skip_blank_lines=skip_blank_lines)\n\u001b[1;32m    654\u001b[0m \u001b[0;34m\u001b[0m\u001b[0m\n\u001b[0;32m--> 655\u001b[0;31m         \u001b[0;32mreturn\u001b[0m \u001b[0m_read\u001b[0m\u001b[0;34m(\u001b[0m\u001b[0mfilepath_or_buffer\u001b[0m\u001b[0;34m,\u001b[0m \u001b[0mkwds\u001b[0m\u001b[0;34m)\u001b[0m\u001b[0;34m\u001b[0m\u001b[0m\n\u001b[0m\u001b[1;32m    656\u001b[0m \u001b[0;34m\u001b[0m\u001b[0m\n\u001b[1;32m    657\u001b[0m     \u001b[0mparser_f\u001b[0m\u001b[0;34m.\u001b[0m\u001b[0m__name__\u001b[0m \u001b[0;34m=\u001b[0m \u001b[0mname\u001b[0m\u001b[0;34m\u001b[0m\u001b[0m\n",
      "\u001b[0;32m/home/karim/anaconda3/lib/python3.5/site-packages/pandas/io/parsers.py\u001b[0m in \u001b[0;36m_read\u001b[0;34m(filepath_or_buffer, kwds)\u001b[0m\n\u001b[1;32m    403\u001b[0m \u001b[0;34m\u001b[0m\u001b[0m\n\u001b[1;32m    404\u001b[0m     \u001b[0;31m# Create the parser.\u001b[0m\u001b[0;34m\u001b[0m\u001b[0;34m\u001b[0m\u001b[0m\n\u001b[0;32m--> 405\u001b[0;31m     \u001b[0mparser\u001b[0m \u001b[0;34m=\u001b[0m \u001b[0mTextFileReader\u001b[0m\u001b[0;34m(\u001b[0m\u001b[0mfilepath_or_buffer\u001b[0m\u001b[0;34m,\u001b[0m \u001b[0;34m**\u001b[0m\u001b[0mkwds\u001b[0m\u001b[0;34m)\u001b[0m\u001b[0;34m\u001b[0m\u001b[0m\n\u001b[0m\u001b[1;32m    406\u001b[0m \u001b[0;34m\u001b[0m\u001b[0m\n\u001b[1;32m    407\u001b[0m     \u001b[0;32mif\u001b[0m \u001b[0mchunksize\u001b[0m \u001b[0;32mor\u001b[0m \u001b[0miterator\u001b[0m\u001b[0;34m:\u001b[0m\u001b[0;34m\u001b[0m\u001b[0m\n",
      "\u001b[0;32m/home/karim/anaconda3/lib/python3.5/site-packages/pandas/io/parsers.py\u001b[0m in \u001b[0;36m__init__\u001b[0;34m(self, f, engine, **kwds)\u001b[0m\n\u001b[1;32m    762\u001b[0m             \u001b[0mself\u001b[0m\u001b[0;34m.\u001b[0m\u001b[0moptions\u001b[0m\u001b[0;34m[\u001b[0m\u001b[0;34m'has_index_names'\u001b[0m\u001b[0;34m]\u001b[0m \u001b[0;34m=\u001b[0m \u001b[0mkwds\u001b[0m\u001b[0;34m[\u001b[0m\u001b[0;34m'has_index_names'\u001b[0m\u001b[0;34m]\u001b[0m\u001b[0;34m\u001b[0m\u001b[0m\n\u001b[1;32m    763\u001b[0m \u001b[0;34m\u001b[0m\u001b[0m\n\u001b[0;32m--> 764\u001b[0;31m         \u001b[0mself\u001b[0m\u001b[0;34m.\u001b[0m\u001b[0m_make_engine\u001b[0m\u001b[0;34m(\u001b[0m\u001b[0mself\u001b[0m\u001b[0;34m.\u001b[0m\u001b[0mengine\u001b[0m\u001b[0;34m)\u001b[0m\u001b[0;34m\u001b[0m\u001b[0m\n\u001b[0m\u001b[1;32m    765\u001b[0m \u001b[0;34m\u001b[0m\u001b[0m\n\u001b[1;32m    766\u001b[0m     \u001b[0;32mdef\u001b[0m \u001b[0mclose\u001b[0m\u001b[0;34m(\u001b[0m\u001b[0mself\u001b[0m\u001b[0;34m)\u001b[0m\u001b[0;34m:\u001b[0m\u001b[0;34m\u001b[0m\u001b[0m\n",
      "\u001b[0;32m/home/karim/anaconda3/lib/python3.5/site-packages/pandas/io/parsers.py\u001b[0m in \u001b[0;36m_make_engine\u001b[0;34m(self, engine)\u001b[0m\n\u001b[1;32m    983\u001b[0m     \u001b[0;32mdef\u001b[0m \u001b[0m_make_engine\u001b[0m\u001b[0;34m(\u001b[0m\u001b[0mself\u001b[0m\u001b[0;34m,\u001b[0m \u001b[0mengine\u001b[0m\u001b[0;34m=\u001b[0m\u001b[0;34m'c'\u001b[0m\u001b[0;34m)\u001b[0m\u001b[0;34m:\u001b[0m\u001b[0;34m\u001b[0m\u001b[0m\n\u001b[1;32m    984\u001b[0m         \u001b[0;32mif\u001b[0m \u001b[0mengine\u001b[0m \u001b[0;34m==\u001b[0m \u001b[0;34m'c'\u001b[0m\u001b[0;34m:\u001b[0m\u001b[0;34m\u001b[0m\u001b[0m\n\u001b[0;32m--> 985\u001b[0;31m             \u001b[0mself\u001b[0m\u001b[0;34m.\u001b[0m\u001b[0m_engine\u001b[0m \u001b[0;34m=\u001b[0m \u001b[0mCParserWrapper\u001b[0m\u001b[0;34m(\u001b[0m\u001b[0mself\u001b[0m\u001b[0;34m.\u001b[0m\u001b[0mf\u001b[0m\u001b[0;34m,\u001b[0m \u001b[0;34m**\u001b[0m\u001b[0mself\u001b[0m\u001b[0;34m.\u001b[0m\u001b[0moptions\u001b[0m\u001b[0;34m)\u001b[0m\u001b[0;34m\u001b[0m\u001b[0m\n\u001b[0m\u001b[1;32m    986\u001b[0m         \u001b[0;32melse\u001b[0m\u001b[0;34m:\u001b[0m\u001b[0;34m\u001b[0m\u001b[0m\n\u001b[1;32m    987\u001b[0m             \u001b[0;32mif\u001b[0m \u001b[0mengine\u001b[0m \u001b[0;34m==\u001b[0m \u001b[0;34m'python'\u001b[0m\u001b[0;34m:\u001b[0m\u001b[0;34m\u001b[0m\u001b[0m\n",
      "\u001b[0;32m/home/karim/anaconda3/lib/python3.5/site-packages/pandas/io/parsers.py\u001b[0m in \u001b[0;36m__init__\u001b[0;34m(self, src, **kwds)\u001b[0m\n\u001b[1;32m   1603\u001b[0m         \u001b[0mkwds\u001b[0m\u001b[0;34m[\u001b[0m\u001b[0;34m'allow_leading_cols'\u001b[0m\u001b[0;34m]\u001b[0m \u001b[0;34m=\u001b[0m \u001b[0mself\u001b[0m\u001b[0;34m.\u001b[0m\u001b[0mindex_col\u001b[0m \u001b[0;32mis\u001b[0m \u001b[0;32mnot\u001b[0m \u001b[0;32mFalse\u001b[0m\u001b[0;34m\u001b[0m\u001b[0m\n\u001b[1;32m   1604\u001b[0m \u001b[0;34m\u001b[0m\u001b[0m\n\u001b[0;32m-> 1605\u001b[0;31m         \u001b[0mself\u001b[0m\u001b[0;34m.\u001b[0m\u001b[0m_reader\u001b[0m \u001b[0;34m=\u001b[0m \u001b[0mparsers\u001b[0m\u001b[0;34m.\u001b[0m\u001b[0mTextReader\u001b[0m\u001b[0;34m(\u001b[0m\u001b[0msrc\u001b[0m\u001b[0;34m,\u001b[0m \u001b[0;34m**\u001b[0m\u001b[0mkwds\u001b[0m\u001b[0;34m)\u001b[0m\u001b[0;34m\u001b[0m\u001b[0m\n\u001b[0m\u001b[1;32m   1606\u001b[0m \u001b[0;34m\u001b[0m\u001b[0m\n\u001b[1;32m   1607\u001b[0m         \u001b[0;31m# XXX\u001b[0m\u001b[0;34m\u001b[0m\u001b[0;34m\u001b[0m\u001b[0m\n",
      "\u001b[0;32mpandas/_libs/parsers.pyx\u001b[0m in \u001b[0;36mpandas._libs.parsers.TextReader.__cinit__ (pandas/_libs/parsers.c:4209)\u001b[0;34m()\u001b[0m\n",
      "\u001b[0;32mpandas/_libs/parsers.pyx\u001b[0m in \u001b[0;36mpandas._libs.parsers.TextReader._setup_parser_source (pandas/_libs/parsers.c:8873)\u001b[0;34m()\u001b[0m\n",
      "\u001b[0;31mFileNotFoundError\u001b[0m: File b'/media/karim/Datas4To/1_Analyses_Intra_EM_Odor/Olfacto/database/TS_E_all_by_odor_th40_art400_30_250_Good_Bad_EpiScore_Expi/labels/Elecs_MICP_labels_aal.csv' does not exist"
     ]
    }
   ],
   "source": [
    "import pandas as pd\n",
    "import numpy as np\n",
    "from brainpipe.system import study\n",
    "from os import path\n",
    "\n",
    "st = study('Olfacto')\n",
    "subjects = ['MICP'] #'LEFC','CHAF','VACJ','SEMC','FERJ','MICP','PIRJ'\n",
    "#subjects = ['LEFC']\n",
    "conds=['bad','good']\n",
    "path_data = path.join(st.path,'database/TS_E_all_by_odor_th40_art400_30_250_Good_Bad_EpiScore_Expi/')\n",
    "path_labels = path.join(path_data,'labels/')\n",
    "\n",
    "for su in subjects:\n",
    "    for cond in conds:\n",
    "        # Load the data\n",
    "        mat = np.load(path_data+su+'_odor_'+cond+'_bipo_sel.npz')\n",
    "        kwargs = {}\n",
    "        kwargs['x'], kwargs['channels'], kwargs['xyz'] = mat['x'], mat['channel'],mat['xyz']\n",
    "        kwargs['labels'], kwargs['sf']=mat['label'],mat['sf']\n",
    "        # Load the AAL labels\n",
    "        #aal = su+'_physio_labels_aal.csv'\n",
    "        aal = 'Elecs_'+su+'_labels_aal.csv'\n",
    "        df = pd.read_csv(path_labels+aal, sep=',')\n",
    "        kwargs['aal'] = df['aal'].values\n",
    "        # Load the BA labels\n",
    "        BA = 'Elecs_'+su+'_labels_brodmann.csv'\n",
    "        df = pd.read_csv(path_labels+BA, sep=',')\n",
    "        kwargs['BA'] = df['brodmann'].values\n",
    "        # Update the datafile\n",
    "        filename2 = su+'_odor_'+cond+'_bipo_sel_phys.npz'\n",
    "        np.savez(path_data+filename2, **kwargs)\n",
    "        mat2 = np.load(path_data+su+'_odor_'+cond+'_bipo_sel_phys.npz')\n",
    "        print(mat2.files)\n",
    "        print(su,mat2['x'].shape, mat2['xyz'].shape, mat2['aal'].shape, mat2['BA'].shape)\n",
    "    "
   ]
  },
  {
   "cell_type": "markdown",
   "metadata": {},
   "source": [
    "### Select only regions present in at least 2 patients \n",
    "#### Remove all not memory related regions (motor, precentral, SMA)"
   ]
  },
  {
   "cell_type": "code",
   "execution_count": null,
   "metadata": {},
   "outputs": [],
   "source": [
    "st = study('Olfacto')\n",
    "pathfiles = path.join(st.path, 'database/TS_E_all_by_odor_th40_art400_30_250_Good_Bad_EpiScore_Expi/')\n",
    "subjects = ['CHAF','VACJ','SEMC','LEFC','MICP','PIRJ','FERJ']\n",
    "conds = ['bad','good']\n",
    "to_keep = ['Amygdala (R)', 'Cingulum Ant (R)','Cingulum Mid (R)', 'Frontal Inf Orb (R)', \n",
    "           'Frontal Inf Tri (R)', 'Frontal Mid (R)', 'Frontal Mid Orb (R)', 'Frontal Sup (R)',\n",
    "           'Frontal Sup Medial (R)', 'Frontal Sup Orb (R)', 'Hippocampus (R)', 'Insula (R)',\n",
    "           'ParaHippocampal (R)','Temporal Inf (R)', 'Temporal Mid (R)', 'Temporal Pole Mid (R)',\n",
    "           'Temporal Pole Sup (R)', 'Temporal Sup (R)','Amygdala (L)', 'Cingulum Ant (L)', \n",
    "           'Cingulum Mid (L)', 'Frontal Inf Orb (L)', 'Frontal Inf Tri (L)','Frontal Mid (L)', \n",
    "           'Frontal Mid Orb (L)', 'Frontal Sup (L)','Frontal Sup Medial (L)', 'Frontal Sup Orb (L)',\n",
    "           'Hippocampus (L)', 'Insula (L)','ParaHippocampal (L)','Temporal Inf (L)', \n",
    "           'Temporal Mid (L)','Temporal Pole Mid (L)','Temporal Pole Sup (L)', 'Temporal Sup (L)']\n",
    "\n",
    "for su in subjects:\n",
    "    for cond in conds:\n",
    "        mat = np.load(pathfiles+su+'_odor_'+cond+'_bipo_sel_phys.npz')\n",
    "        idx = np.where([mat['phys'][i] in to_keep for i in range(len(mat['phys']))])\n",
    "        kwargs = {}\n",
    "        kwargs['labels'], kwargs['x'], kwargs['phys'] = mat['labels'][idx], mat['x'][idx], mat['phys'][idx]\n",
    "        kwargs['xyz'], kwargs['channels'], kwargs['sf'] = mat['xyz'][idx], mat['channels'][idx], mat['sf']\n",
    "        np.savez(pathfiles+su+'_odor_'+cond+'_bipo_sel_phys2.npz',**kwargs)\n",
    "        del mat"
   ]
  }
 ],
 "metadata": {
  "anaconda-cloud": {},
  "kernelspec": {
   "display_name": "Python 3",
   "language": "python",
   "name": "python3"
  },
  "language_info": {
   "codemirror_mode": {
    "name": "ipython",
    "version": 3
   },
   "file_extension": ".py",
   "mimetype": "text/x-python",
   "name": "python",
   "nbconvert_exporter": "python",
   "pygments_lexer": "ipython3",
   "version": "3.6.1"
  }
 },
 "nbformat": 4,
 "nbformat_minor": 1
}
