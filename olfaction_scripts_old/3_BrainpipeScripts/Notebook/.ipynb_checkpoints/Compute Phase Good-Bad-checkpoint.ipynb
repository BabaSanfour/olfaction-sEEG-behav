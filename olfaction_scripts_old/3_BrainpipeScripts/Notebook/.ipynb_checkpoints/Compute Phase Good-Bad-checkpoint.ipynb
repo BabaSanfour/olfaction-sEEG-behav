{
 "cells": [
  {
   "cell_type": "markdown",
   "metadata": {
    "collapsed": true
   },
   "source": [
    "## Compute Phase Encoding"
   ]
  },
  {
   "cell_type": "code",
   "execution_count": 2,
   "metadata": {
    "collapsed": false
   },
   "outputs": [],
   "source": [
    "import numpy as np\n",
    "import matplotlib.pyplot as plt\n",
    "import scipy.io as sio\n",
    "#%matplotlib notebook\n",
    "# %matplotlib inline\n",
    "# %load_ext autoreload\n",
    "# %autoreload 2\n",
    "from brainpipe.system import study\n",
    "from brainpipe.feature import power, amplitude, sigfilt, phase, PLF\n",
    "from brainpipe.visual import *\n",
    "\n",
    "from brainpipe.statistics import *\n",
    "from os import path"
   ]
  },
  {
   "cell_type": "markdown",
   "metadata": {},
   "source": [
    "### Check all files dimensions"
   ]
  },
  {
   "cell_type": "code",
   "execution_count": 3,
   "metadata": {
    "collapsed": false
   },
   "outputs": [
    {
     "name": "stdout",
     "output_type": "stream",
     "text": [
      "-> Olfacto loaded\n",
      "CHAF_odor_bad_bipo_sel.npz (94, 2816, 33) ['channel', 'label', 'xyz', 'x', 'sf']\n",
      "CHAF_odor_good_bipo_sel.npz (94, 2816, 33) ['channel', 'label', 'xyz', 'x', 'sf']\n",
      "FERJ_odor_bad_bipo_sel.npz (14, 2816, 26) ['channel', 'label', 'xyz', 'x', 'sf']\n",
      "FERJ_odor_good_bipo_sel.npz (14, 2816, 30) ['channel', 'label', 'xyz', 'x', 'sf']\n",
      "LEFC_odor_bad_bipo_sel.npz (139, 2816, 23) ['channel', 'label', 'xyz', 'x', 'sf']\n",
      "LEFC_odor_good_bipo_sel.npz (139, 2816, 35) ['channel', 'label', 'xyz', 'x', 'sf']\n",
      "MICP_odor_bad_bipo_sel.npz (67, 2816, 45) ['channel', 'label', 'xyz', 'x', 'sf']\n",
      "MICP_odor_good_bipo_sel.npz (67, 2816, 33) ['channel', 'label', 'xyz', 'x', 'sf']\n",
      "PIRJ_odor_bad_bipo_sel.npz (48, 2816, 35) ['channel', 'x', 'label', 'sf', 'xyz']\n",
      "PIRJ_odor_good_bipo_sel.npz (48, 2816, 39) ['channel', 'x', 'label', 'sf', 'xyz']\n",
      "SEMC_odor_bad_bipo_sel.npz (64, 2816, 18) ['channel', 'x', 'label', 'sf', 'xyz']\n",
      "SEMC_odor_good_bipo_sel.npz (64, 2816, 23) ['channel', 'x', 'label', 'sf', 'xyz']\n",
      "VACJ_odor_bad_bipo_sel.npz (73, 2816, 15) ['channel', 'x', 'label', 'sf', 'xyz']\n",
      "VACJ_odor_good_bipo_sel.npz (73, 2816, 14) ['channel', 'x', 'label', 'sf', 'xyz']\n"
     ]
    }
   ],
   "source": [
    "st = study('Olfacto')\n",
    "\n",
    "files = st.search('_bipo_sel.npz', folder='database/TS_E_all_by_odor_th40_art400_30_250_Good_Bad_EpiScore_Expi/')\n",
    "for fi in files:\n",
    "    loadname = path.join(st.path, 'database/TS_E_all_by_odor_th40_art400_30_250_Good_Bad_EpiScore_Expi/', fi)\n",
    "    mat = np.load(loadname)\n",
    "    x = np.load(loadname)['x']\n",
    "    print (fi, x.shape, mat.files)"
   ]
  },
  {
   "cell_type": "markdown",
   "metadata": {},
   "source": [
    "## Compute phase \n",
    "Instantaneous phase computation"
   ]
  },
  {
   "cell_type": "code",
   "execution_count": null,
   "metadata": {
    "collapsed": false,
    "scrolled": true
   },
   "outputs": [
    {
     "name": "stdout",
     "output_type": "stream",
     "text": [
      "-> Olfacto loaded\n",
      "--> compute phase on :  FERJ_odor_bad_bipo_sel.npz data (14, 2816, 26) npts 2816 ntrials 26 nelec 14\n",
      "--> compute phase on :  FERJ_odor_good_bipo_sel.npz data (14, 2816, 30) npts 2816 ntrials 30 nelec 14\n",
      "--> compute phase on :  MICP_odor_bad_bipo_sel.npz data (67, 2816, 45) npts 2816 ntrials 45 nelec 67\n",
      "--> compute phase on :  MICP_odor_good_bipo_sel.npz data (67, 2816, 33) npts 2816 ntrials 33 nelec 67\n",
      "--> compute phase on :  VACJ_odor_bad_bipo_sel.npz data (73, 2816, 15) npts 2816 ntrials 15 nelec 73\n",
      "--> compute phase on :  VACJ_odor_good_bipo_sel.npz data (73, 2816, 14) npts 2816 ntrials 14 nelec 73\n",
      "--> compute phase on :  SEMC_odor_bad_bipo_sel.npz data (64, 2816, 18) npts 2816 ntrials 18 nelec 64\n",
      "--> compute phase on :  SEMC_odor_good_bipo_sel.npz data (64, 2816, 23) npts 2816 ntrials 23 nelec 64\n",
      "--> compute phase on :  LEFC_odor_bad_bipo_sel.npz data (139, 2816, 23) npts 2816 ntrials 23 nelec 139\n",
      "--> compute phase on :  LEFC_odor_good_bipo_sel.npz data (139, 2816, 35) npts 2816 ntrials 35 nelec 139\n",
      "--> compute phase on :  PIRJ_odor_bad_bipo_sel.npz data (48, 2816, 35) npts 2816 ntrials 35 nelec 48\n",
      "--> compute phase on :  PIRJ_odor_good_bipo_sel.npz data (48, 2816, 39) npts 2816 ntrials 39 nelec 48\n",
      "--> compute phase on :  CHAF_odor_bad_bipo_sel.npz data (94, 2816, 33) npts 2816 ntrials 33 nelec 94\n",
      "--> compute phase on :  CHAF_odor_good_bipo_sel.npz data (94, 2816, 33) npts 2816 ntrials 33 nelec 94\n"
     ]
    }
   ],
   "source": [
    "st = study('Olfacto')\n",
    "subjects = ['FERJ','MICP','VACJ','SEMC','LEFC','PIRJ','CHAF']\n",
    "conds = ['bad', 'good']\n",
    "\n",
    "for su in subjects:\n",
    "    for cond in conds:\n",
    "        # Define phase settings \n",
    "        f = [[0.1,1.5],[2,4],[4, 8], [8, 13]]\n",
    "        fname = ['VLFC','delta','theta', 'alpha']\n",
    "        \n",
    "        # Load file :\n",
    "        fi = su+'_odor_'+cond+'_bipo_sel.npz'\n",
    "        loadname = path.join(st.path, 'database/TS_E_all_by_odor_th40_art400_30_250_Good_Bad_EpiScore_Expi/', fi)\n",
    "        mat = np.load(loadname)\n",
    "        x = mat['x']\n",
    "        n_elec, npts, n_trials = x.shape\n",
    "        sf = 512.\n",
    "        print ('--> compute phase on : ', fi, 'data', x.shape, 'npts', npts, 'ntrials',n_trials, 'nelec', n_elec)              \n",
    "\n",
    "        # Define and save power objects :\n",
    "        phase0bj = phase(sf, npts=npts, f=f, method='hilbert', width=358, step=51)\n",
    "        kwargs = {}\n",
    "        kwargs['f'], kwargs['fname'] = f, fname\n",
    "        kwargs['labels'], kwargs['channels'], kwargs['xyz'] = mat['label'], mat['channel'], mat['xyz']\n",
    "        kwargs['phase'],  kwargs['phase_pval']= phase0bj.get(x,n_jobs=5)\n",
    "        \n",
    "        save_phase = path.join(st.path, 'feature/7_Phase_E1E2_Odor_Good_Bad_EpiScore_Expi/', fi.replace('.npz', '_phase.npz'))\n",
    "        np.savez(save_phase, **kwargs)\n",
    "        del kwargs['phase'],  kwargs['phase_pval'], kwargs['fname']\n",
    "        del kwargs, x, sf, n_elec, n_trials"
   ]
  },
  {
   "cell_type": "markdown",
   "metadata": {},
   "source": [
    "### Check all phase files dimensions"
   ]
  },
  {
   "cell_type": "code",
   "execution_count": 6,
   "metadata": {
    "collapsed": true
   },
   "outputs": [
    {
     "name": "stdout",
     "output_type": "stream",
     "text": [
      "-> Olfacto loaded\n",
      "CHAF_odor_bad_bipo_sel_PLF.npz (94, 4, 49)\n",
      "['labels', 'f', 'PLF', 'xyz', 'channels', 'fname', 'PLF_pval']\n",
      "CHAF_odor_good_bipo_sel_PLF.npz (94, 4, 49)\n",
      "['labels', 'f', 'PLF', 'xyz', 'channels', 'fname', 'PLF_pval']\n",
      "FERJ_odor_bad_bipo_sel_PLF.npz (14, 4, 49)\n",
      "['labels', 'f', 'PLF', 'xyz', 'channels', 'fname', 'PLF_pval']\n",
      "FERJ_odor_good_bipo_sel_PLF.npz (14, 4, 49)\n",
      "['labels', 'f', 'PLF', 'xyz', 'channels', 'fname', 'PLF_pval']\n",
      "LEFC_odor_bad_bipo_sel_PLF.npz (139, 4, 49)\n",
      "['labels', 'f', 'PLF', 'xyz', 'channels', 'fname', 'PLF_pval']\n",
      "LEFC_odor_good_bipo_sel_PLF.npz (139, 4, 49)\n",
      "['labels', 'f', 'PLF', 'xyz', 'channels', 'fname', 'PLF_pval']\n",
      "MICP_odor_bad_bipo_sel_PLF.npz (67, 4, 49)\n",
      "['labels', 'f', 'PLF', 'xyz', 'channels', 'fname', 'PLF_pval']\n",
      "MICP_odor_good_bipo_sel_PLF.npz (67, 4, 49)\n",
      "['labels', 'f', 'PLF', 'xyz', 'channels', 'fname', 'PLF_pval']\n",
      "PIRJ_odor_bad_bipo_sel_PLF.npz (48, 4, 49)\n",
      "['labels', 'f', 'PLF', 'xyz', 'channels', 'fname', 'PLF_pval']\n",
      "PIRJ_odor_good_bipo_sel_PLF.npz (48, 4, 49)\n",
      "['labels', 'f', 'PLF', 'xyz', 'channels', 'fname', 'PLF_pval']\n",
      "SEMC_odor_bad_bipo_sel_PLF.npz (64, 4, 49)\n",
      "['labels', 'f', 'PLF', 'xyz', 'channels', 'fname', 'PLF_pval']\n",
      "SEMC_odor_good_bipo_sel_PLF.npz (64, 4, 49)\n",
      "['labels', 'f', 'PLF', 'xyz', 'channels', 'fname', 'PLF_pval']\n",
      "VACJ_odor_bad_bipo_sel_PLF.npz (73, 4, 49)\n",
      "['labels', 'f', 'PLF', 'xyz', 'channels', 'fname', 'PLF_pval']\n",
      "VACJ_odor_good_bipo_sel_PLF.npz (73, 4, 49)\n",
      "['labels', 'f', 'PLF', 'xyz', 'channels', 'fname', 'PLF_pval']\n"
     ]
    }
   ],
   "source": [
    "st = study('Olfacto')\n",
    "files = st.search('_sel_phase.npz', folder='feature/7_Phase_E1E2_Odor_Good_Bad_EpiScore_Expi/')\n",
    "for fi in files:\n",
    "    loadname = path.join(st.path, 'feature/7_Phase_E1E2_Odor_Good_Bad_EpiScore_Expi/', fi)\n",
    "    mat = np.load(loadname)\n",
    "    x = np.load(loadname)['phase']\n",
    "    # nfreq, nelec, nwin, ntrials\n",
    "    print (fi, x.shape)\n",
    "    print(mat.files)\n"
   ]
  },
  {
   "cell_type": "markdown",
   "metadata": {},
   "source": [
    "### Plot phases for each electrodes"
   ]
  },
  {
   "cell_type": "code",
   "execution_count": null,
   "metadata": {
    "collapsed": true
   },
   "outputs": [],
   "source": [
    "#%matplotlib notebook\n",
    "st = study('Olfacto')\n",
    "path_phase = path.join(st.path, 'feature/7_Phase_E1E2_Odor_Good_Bad_EpiScore_Expi/')\n",
    "path_save = path.join(path_phase, 'figures_phase/')\n",
    "subjects = ['FERJ','MICP','VACJ','SEMC','LEFC','PIRJ','CHAF']\n",
    "\n",
    "for su in subjects:\n",
    "    mat_good = np.load(path_phase+su+'_odor_good_bipo_sel_phase.npz')\n",
    "    good_phase = mat_good['phase']\n",
    "    nelecs, nfreq = good_phase.shape[0], good_phase.shape[1]\n",
    "    bad_phase = np.load(path_phase+su+'_odor_bad_bipo_sel_phase.npz')['phase']\n",
    "    freq_names, channels, labels = mat_good['fname'], mat_good['channels'], mat_good['labels']\n",
    "    for freq in range(nfreq):\n",
    "        for elec in range(nelecs):\n",
    "            #phase files - nelecs, nphases,npts, ntrials\n",
    "            print('plotting --> ', su, freq_names[freq],'elec', elec,'/',nelecs)\n",
    "            elec_good_phase = good_phase[elec,freq,:,:]\n",
    "            elec_bad_phase = bad_phase[elec,freq,:,:]\n",
    "            freq_name, label, channel = freq_names[freq], labels[elec], channels[elec]\n",
    "            #print('good shape', elec_good_phase.shape, 'bad shape', elec_bad_phase.shape)\n",
    "            bad_good = np.concatenate((elec_good_phase,elec_bad_phase), axis = 1)\n",
    "            y = [1]*elec_good_phase.shape[1] + [0]*elec_bad_phase.shape[1]\n",
    "            #print('concat', bad_good.shape, 'label', len(y))\n",
    "\n",
    "            # create the figure\n",
    "            fig = plt.figure(1,figsize=(6,4))\n",
    "            step = 5500/ bad_good.shape[0]\n",
    "            time = np.arange(0, 5500, step)\n",
    "            title = 'Phase '+str(freq_name)+' '+su+' '+str(label)+' '+str(channel)+' ('+str(elec)+')'\n",
    "            fig.suptitle(title, fontsize=14)\n",
    "\n",
    "            BorderPlot(time, bad_good, y=y, xlabel='Time (ms)',ylabel = r'Phase modulation',\n",
    "                       alpha=0.3,linewidth=2,color=['m','b'],kind='sem',legend=['good','bad'])\n",
    "            rmaxis(plt.gca(), ['right', 'top'])\n",
    "            addLines(plt.gca(),hColor= ['dimgrey'], hLines=[0], hWidth=[1], hShape=['-'],vLines=[975,4000],\n",
    "                     vWidth=[1.5]*2,vShape=['--']*2)\n",
    "            #Save the figure\n",
    "            fname = (path_save+su+'_Phase_'+str(freq_name)+'_elec_'+str(channel)+'_'+str(label)+'_('+str(elec)+')_Bad-Good.png')\n",
    "            fig.savefig(fname, dpi=300, bbox_inches='tight')\n",
    "            plt.close()\n",
    "            #plt.show()"
   ]
  }
 ],
 "metadata": {
  "anaconda-cloud": {},
  "kernelspec": {
   "display_name": "Python [conda root]",
   "language": "python",
   "name": "conda-root-py"
  },
  "language_info": {
   "codemirror_mode": {
    "name": "ipython",
    "version": 3
   },
   "file_extension": ".py",
   "mimetype": "text/x-python",
   "name": "python",
   "nbconvert_exporter": "python",
   "pygments_lexer": "ipython3",
   "version": "3.5.2"
  }
 },
 "nbformat": 4,
 "nbformat_minor": 1
}
