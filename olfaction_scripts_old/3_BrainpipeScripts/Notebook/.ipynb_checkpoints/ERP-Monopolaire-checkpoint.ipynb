{
 "cells": [
  {
   "cell_type": "markdown",
   "metadata": {},
   "source": [
    "## Calculate ERPs"
   ]
  },
  {
   "cell_type": "code",
   "execution_count": null,
   "metadata": {
    "collapsed": true
   },
   "outputs": [],
   "source": [
    "#Importing files and modules\n",
    "\n",
    "import numpy as np\n",
    "import matplotlib.pyplot as plt\n",
    "from os import path\n",
    "%matplotlib notebook\n",
    "from brainpipe.system import study\n",
    "from brainpipe.visual import *\n",
    "from brainpipe.statistics import *\n",
    "from mne.baseline import rescale\n",
    "from mne.filter import filter_data"
   ]
  },
  {
   "cell_type": "markdown",
   "metadata": {},
   "source": [
    "## Plot ERP for one elec one cond corrected"
   ]
  },
  {
   "cell_type": "code",
   "execution_count": null,
   "metadata": {
    "collapsed": false
   },
   "outputs": [],
   "source": [
    "st = study('Olfacto')\n",
    "path_data = path.join (st.path, 'database/TS_E_all_cond_by_block_trigs/')\n",
    "\n",
    "#Data file for 1 subject\n",
    "filename = 'MICP_E1E2_concat_allfilter1.npz'\n",
    "data_all = np.load(path.join(path_data, filename))\n",
    "low_pass_filter = 10.\n",
    "norm_mode = 'mean' #'ratio' 'mean' 'percent' \n",
    "\n",
    "#Data for one elec + name\n",
    "elec = 37\n",
    "data, channel = data_all['x'], [data_all['channel'][i][0] for i in range(len(data_all['channel']))]\n",
    "print (data.shape)\n",
    "data_elec = data[elec,:,:]\n",
    "ntrials = len(data_elec[2])\n",
    "print (channel[0], 'n_trials :', ntrials)\n",
    "print (data_elec.shape)\n",
    "\n",
    "#Average the data for one electrode\n",
    "mean_data_elec = np.mean(data_elec, axis=1)\n",
    "print ('size of the data:',mean_data_elec.shape)\n",
    "\n",
    "#Normalize the ERP\n",
    "baseline = [973 , 1024]   #matrix are in sample\n",
    "times = np.arange(mean_data_elec.shape[0])\n",
    "norm_data = rescale(mean_data_elec, times=times, baseline=baseline, mode=norm_mode,)\n",
    "print (norm_data.shape, norm_data.dtype)"
   ]
  },
  {
   "cell_type": "markdown",
   "metadata": {},
   "source": [
    "## Compute stats"
   ]
  },
  {
   "cell_type": "code",
   "execution_count": null,
   "metadata": {
    "collapsed": false
   },
   "outputs": [],
   "source": [
    "#generate the permutations between baseline and signal\n",
    "baseline = norm_data [973:1024]\n",
    "print (baseline.shape)\n",
    "evoked_signal = norm_data[1024:1792]\n",
    "perm_data = perm_swap(baseline, evoked_signal, n_perm=1000, axis=0, rndstate=0) #axis=-1, the shape of a and b could be diffrent\n",
    "print(perm_data[0].shape, perm_data[1].shape)\n",
    "\n",
    "#Compute the statistics\n",
    "p_vals = perm_2pvalue(evoked_signal, perm_data[1], n_perm=1000, threshold=None, tail=2)\n",
    "add_p_to_plot = np.ones(int(baseline.shape[0]), dtype = None, order = 'C')\n",
    "p_vals_to_plot = np.insert(p_vals, 0, add_p_to_plot,)\n",
    "print (p_vals_to_plot.shape)\n"
   ]
  },
  {
   "cell_type": "markdown",
   "metadata": {},
   "source": [
    "## Plots stats and ERPs"
   ]
  },
  {
   "cell_type": "code",
   "execution_count": null,
   "metadata": {
    "collapsed": false
   },
   "outputs": [],
   "source": [
    "#Filter the data 10Hz (just for illustration)\n",
    "data_to_filter = norm_data[np.newaxis]\n",
    "data_to_filter = np.array(norm_data, dtype='float64')\n",
    "print (data_to_filter.shape, data_to_filter.dtype)\n",
    "filtered_data = filter_data(data_to_filter, sfreq=512, l_freq=None, h_freq=low_pass_filter, method='fir', phase='zero-double')\n",
    "print (filtered_data.shape,)\n",
    "\n",
    "#Data to plot\n",
    "norm_data_to_plot = norm_data[973:1792]\n",
    "print ('size window to plot', norm_data_to_plot.shape)\n",
    "filtered_data_to_plot = filtered_data[973:1792]\n",
    "times_plot = 1000 * np.arange(-51, norm_data_to_plot.shape[0]-51,) / 512\n",
    "print (times_plot.shape)\n",
    "\n",
    "#Plot the ERP data and filtered data\n",
    "fig = plt.figure()\n",
    "ax = fig.add_subplot(111)\n",
    "fig.subplots_adjust(top=0.85)\n",
    "ax.set_title('ERP_'+norm_mode, fontsize=14, fontweight='bold')\n",
    "ax.set_xlabel('Times (ms)', fontsize=12)\n",
    "ax.set_ylabel('Potential', fontsize=12)\n",
    "plt.plot(times_plot, norm_data_to_plot, '#808080', linewidth=1, label='data')\n",
    "plt.plot(times_plot, filtered_data_to_plot, 'g-', linewidth=2, label='filtered data < '+str(low_pass_filter)+'Hz')\n",
    "lines = (-100, 0) #time vector is in ms\n",
    "addPval(plt.gca(), p_vals_to_plot, p=0.05, x=times_plot, y=0.5, color='darkred', lw=3)\n",
    "addPval(plt.gca(), p_vals_to_plot, p=0.01, x=times_plot, y=0.2, color='darkblue', lw=4)\n",
    "addLines(plt.gca(), vLines=lines, vColor=['firebrick']*2, vWidth=[2]*2, hLines=[0], hColor=['#000000'], hWidth=[2])\n",
    "plt.grid()\n",
    "plt.legend(fontsize='small')\n",
    "plt.show()"
   ]
  },
  {
   "cell_type": "markdown",
   "metadata": {},
   "source": [
    "## Plot ERP for all eclectrodes all subjects"
   ]
  },
  {
   "cell_type": "code",
   "execution_count": null,
   "metadata": {
    "collapsed": true
   },
   "outputs": [],
   "source": [
    "#Import files & parameters\n",
    "st = study('Olfacto')\n",
    "path_data = path.join (st.path, 'database/TS_E_all_cond_by_block_trigs_60th_200art/')\n",
    "subjects = ['CHAF','VACJ','SEMC','FERJ','PIRJ','LEFC','MICP',]\n",
    "#subjects = ['MICP',]\n",
    "conds = ['all']\n",
    "norm_mode = 'mean'\n",
    "low_pass_filter = 10.\n",
    "n_elec = {\n",
    "    'CHAF' : 51,\n",
    "    'VACJ' : 152, \n",
    "    'SEMC' : 118,\n",
    "    'FERJ' : 126,\n",
    "    'PIRJ' : 117,\n",
    "    'LEFC' : 210,\n",
    "    'MICP' : 122,\n",
    "}\n",
    "\n",
    "for su in subjects:\n",
    "    for elec in range(0, n_elec[su],1):\n",
    "        for cond in conds:\n",
    "            filename = su+'_E1E2_concat_allfilter1.npz'\n",
    "            print (filename)\n",
    "            data_all = np.load(path.join(path_data, filename))\n",
    "            data, channel = data_all['x'], [data_all['channel'][i][0] for i in range(len(data_all['channel']))]\n",
    "            label = [data_all['label'][i][0] for i in range(len(data_all['label']))]\n",
    "#             print (data.shape, channel.shape)\n",
    "\n",
    "            #Select data \n",
    "            data_elec = data[elec,:,:]\n",
    "            n_trials = len(data_elec[2])\n",
    "            print ('nb of trials = ', n_trials)\n",
    "            #print (channel[0])\n",
    "            print (data_elec.shape)\n",
    "            \n",
    "            #filter data\n",
    "            data = np.array(data_elec, dtype='float64')\n",
    "            data_to_filter = np.swapaxes(data, 0, 1)\n",
    "            filtered_data = filter_data(data_to_filter, sfreq=512, l_freq=None, h_freq=low_pass_filter, method='fir', phase='zero-double')\n",
    "            print (data_to_filter.shape,)\n",
    "            \n",
    "            #Average data for one electrode\n",
    "            mean_filtered_data = np.mean(filtered_data, axis=0)\n",
    "            mean_data_elec = np.mean(data_elec, axis=1)\n",
    "            print (mean_data_elec.shape, mean_data_elec.shape[0])\n",
    "\n",
    "            #Normalize data\n",
    "            baseline = [717 , 768]   #matrix are in sample de -100ms à 0\n",
    "            times = np.arange(mean_data_elec.shape[0])\n",
    "            norm_data = rescale(mean_data_elec, times=times, baseline=baseline, mode=norm_mode, copy=True, verbose=None)\n",
    "            norm_filtered_data = rescale(mean_filtered_data, times=times, baseline=baseline, mode=norm_mode,copy=True, verbose=None)\n",
    "            print (norm_data.shape, norm_filtered_data.shape)\n",
    "            \n",
    "            #ON RAW DATA\n",
    "            #generate the permutations between baseline and signal\n",
    "            #baseline_raw = norm_data [973:1024]\n",
    "            #evoked_signal_raw = norm_data[1024:1792]\n",
    "            #perm_data_raw = perm_swap(baseline_raw, evoked_signal_raw, n_perm=1000, axis=0, rndstate=0) #axis=-1, the shape of a and b could be diffrent\n",
    "\n",
    "            #Compute the statistics\n",
    "            #p_vals_raw = perm_2pvalue(evoked_signal_raw, perm_data_raw[1], n_perm=1000, threshold=None, tail=2)\n",
    "            #add_p = np.ones(int(baseline_raw.shape[0]), dtype = None, order = 'C')\n",
    "            #p_vals_raw_to_plot = np.insert(p_vals_raw, 0, add_p,)\n",
    "            \n",
    "            #Correct p val over time\n",
    "            #perm_raw_corr = maxstat(perm_data_raw[1], axis=1) #-1, corrected permutations across all dimensions\n",
    "            #print (perm_raw_corr.shape)\n",
    "            #p_vals_raw_corr = perm_2pvalue(evoked_signal_raw, perm_raw_corr, n_perm=1000, threshold=None, tail=2)\n",
    "            #p_vals_raw_corr_to_plot = np.insert(p_vals_raw_corr, 0, add_p,)\n",
    "            #print (p_vals_raw_corr_to_plot)\n",
    "\n",
    "            #ON FILTERED DATA\n",
    "            #Filter the data 10Hz\n",
    "            #data_to_filter = norm_data[np.newaxis]\n",
    "            #data_to_filter = np.array(norm_data, dtype='float64')\n",
    "            #filtered_data = filter_data(data_to_filter, sfreq=512, l_freq=None, h_freq=low_pass_filter, method='fir', phase='zero-double')\n",
    "\n",
    "            #generate the permutations between baseline and signal\n",
    "            #baseline_filt = filtered_data [973:1024]\n",
    "            #evoked_signal_filt = filtered_data [1024:1792]\n",
    "            #perm_data_filt = perm_swap(baseline_filt, evoked_signal_filt, n_perm=1000, axis=0, rndstate=0) #axis=-1, the shape of a and b could be diffrent\n",
    "\n",
    "            #Compute the statistics\n",
    "            #p_vals_filt = perm_2pvalue(evoked_signal_filt, perm_data_filt[1], n_perm=1000, threshold=None, tail=2)\n",
    "            #add_p_filt = np.ones(int(baseline_filt.shape[0]), dtype = None, order = 'C')\n",
    "            #p_vals_filt_to_plot = np.insert(p_vals_filt, 0, add_p_filt,)\n",
    "            \n",
    "            #Correct p val over time\n",
    "            #perm_filt_corr = maxstat(perm_data_filt[1], axis=1) #-1, corrected permutations across all dimensions\n",
    "            #print (perm_filt_corr.shape)\n",
    "            #p_vals_filt_corr = perm_2pvalue(evoked_signal_filt, perm_filt_corr, n_perm=1000, threshold=None, tail=2)\n",
    "            #p_vals_filt_corr_to_plot = np.insert(p_vals_filt_corr, 0, add_p,)\n",
    "            #print (p_vals_filt_corr_to_plot)\n",
    "\n",
    "            #Data to plot\n",
    "            norm_data_to_plot = norm_data[717:1536] #de -100ms à + 1500ms\n",
    "            print ('size window to plot', norm_data_to_plot.shape)\n",
    "            filtered_data_to_plot = norm_filtered_data[717:1536]\n",
    "            times_plot = 1000 * np.arange(-51, norm_data_to_plot.shape[0]-51,) / 512\n",
    "            print (times_plot.shape)\n",
    "\n",
    "            #Plot the ERP data and filtered data\n",
    "            fig = plt.figure()\n",
    "            ax = fig.add_subplot(111)\n",
    "            fig.subplots_adjust(top=0.85)\n",
    "            ax.set_title(su+'_ERP_Odor_'+norm_mode+'_'+channel[elec]+'_'+label[elec]+' elec_num: '+str(elec)+'_ntrials:'+str(n_trials), fontsize=14, fontweight='bold')\n",
    "            ax.set_xlabel('Times (ms)', fontsize=12)\n",
    "            ax.set_ylabel('Potential', fontsize=12)\n",
    "            #BorderPlot(times_plot, filtered_data_to_plot, kind='sem', color='', alpha=0.2, linewidth=2, ncol=1, legend='filtered data < '+str(low_pass_filter)+'Hz')\n",
    "            plt.plot(times_plot, norm_data_to_plot, '#808080', linewidth=1, label='data')\n",
    "            plt.plot(times_plot, filtered_data_to_plot, 'g-', linewidth=2, label='filtered data < '+str(low_pass_filter)+'Hz')\n",
    "            lines = [0] #time vector is in ms\n",
    "            #addPval(plt.gca(), p_vals_filt_to_plot, p=0.05, x=times_plot, y=0.5, color='darkred', lw=3)\n",
    "            #addPval(plt.gca(), p_vals_filt_to_plot, p=0.01, x=times_plot, y=1, color='darkblue', lw=4)\n",
    "            #addPval(plt.gca(), p_vals_filt_corr_to_plot, p=0.05, x=times_plot, y=2, color='darkorange', lw=3)\n",
    "            #addPval(plt.gca(), p_vals_filt_corr_to_plot, p=0.01, x=times_plot, y=3, color='darkgrey', lw=4)\n",
    "            addLines(plt.gca(), vLines=lines, vColor=['firebrick'], vWidth=[2], hLines=[0], hColor=['#000000'], hWidth=[2])\n",
    "            plt.grid()\n",
    "            plt.legend(fontsize='small')\n",
    "#             plt.show()\n",
    "                      \n",
    "            #Save all your plots\n",
    "            rep = path.join(st.path, 'feature/ERP_Encoding_all_mono_100ms_mean_thr30_art400/',su)\n",
    "            fname = (rep + '_E1E2_ERP_concat_all_mono_' + channel [elec] +'_'+str(elec)+'_'+label[elec]+'.png')\n",
    "            print (fname)\n",
    "            plt.savefig(fname, dpi=300, bbox_inches='tight')\n",
    "            plt.close()\n",
    "del x, channel, n_elec, n_trials\n"
   ]
  }
 ],
 "metadata": {
  "anaconda-cloud": {},
  "kernelspec": {
   "display_name": "Python [default]",
   "language": "python",
   "name": "python3"
  },
  "language_info": {
   "codemirror_mode": {
    "name": "ipython",
    "version": 3
   },
   "file_extension": ".py",
   "mimetype": "text/x-python",
   "name": "python",
   "nbconvert_exporter": "python",
   "pygments_lexer": "ipython3",
   "version": "3.5.2"
  }
 },
 "nbformat": 4,
 "nbformat_minor": 1
}
