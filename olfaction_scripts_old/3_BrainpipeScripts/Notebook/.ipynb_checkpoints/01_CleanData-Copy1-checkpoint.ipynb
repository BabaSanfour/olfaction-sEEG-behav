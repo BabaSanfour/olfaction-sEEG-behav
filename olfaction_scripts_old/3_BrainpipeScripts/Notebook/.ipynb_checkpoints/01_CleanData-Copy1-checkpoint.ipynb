{
 "cells": [
  {
   "cell_type": "code",
   "execution_count": null,
   "metadata": {
    "collapsed": false
   },
   "outputs": [
    {
     "name": "stdout",
     "output_type": "stream",
     "text": [
      "-> Olfacto loaded\n",
      "-> Processing CHAF_R1R2R3_concat_all.npy\n"
     ]
    }
   ],
   "source": [
    "\"\"\"This script will clean your data/channels/coordinates,\n",
    "adapt it from matlab format and save in a convenient\n",
    "numpy format.\n",
    "\"\"\"\n",
    "import numpy as np\n",
    "import matplotlib.pyplot as plt\n",
    "from scipy.io import loadmat, savemat\n",
    "from os import path\n",
    "\n",
    "\n",
    "from brainpipe.system import study\n",
    "\n",
    "def _cleanData(pathdata, suj):\n",
    "    \"\"\"The function to clean your data. This is convenient\n",
    "    because you can loop on your subject/trigger and clean\n",
    "    everything in one script.\n",
    "    \"\"\"\n",
    "    # Import file :\n",
    "    file = '{suj}_R1R2R3_concat_all.npy'\n",
    "    loadname = file.format(suj=suj)\n",
    "    print('-> Processing '+loadname)\n",
    "    mat = np.load(path.join(pathdata, loadname))\n",
    "\n",
    "    # Make a clean version of channel name / xyz :\n",
    "    chan = mat['chanmonop'][0]\n",
    "    channel = [k[0][0] for k in chan[0]]  # Clean channel name\n",
    "    xyz = np.zeros((len(channel), 3), dtype=float)\n",
    "    for k in range(len(channel)):\n",
    "        xyz[k, 0] = chan[1][k][0]\n",
    "        xyz[k, 1] = chan[2][k][0]\n",
    "        xyz[k, 2] = chan[3][k][0]\n",
    "    print (channel)\n",
    "    xyz = xyz.round(decimals=1, out=None)\n",
    "    print (xyz)\n",
    "\n",
    "\n",
    "    # Clean matrix of data (remove unecessary channels)\n",
    "    x = mat['x']\n",
    "    if x.ndim == 2:  # This test is in case of x being a 2D matrix (make it 3D)\n",
    "        x = x[..., np.newaxis]\n",
    "\n",
    "    # Update variable inside the loaded file :\n",
    "    dico = dict(mat)\n",
    "    dico['x'] = x[0:len(channel), ...]\n",
    "    dico['xyz'] = (xyz)\n",
    "    dico['channel'] = channel\n",
    "    dico['sf'] = dico['sf'][0][0]\n",
    "    del dico['chanmonop']\n",
    "    del dico['__header__']\n",
    "    del dico['__globals__']\n",
    "    del dico['__version__']\n",
    "\n",
    "    return dico, loadname.split('.mat')[0]\n",
    "\n",
    "\n",
    "if __name__ == '__main__':\n",
    "    # Filesettings :\n",
    "    st = study('Olfacto') # Load the study\n",
    "    pathdata = r'C:\\Users\\Anne-Lise\\Dropbox\\Intra_EM\\1bis_OE_BaseSam\\Filtered_all_cond_300artefacts_strict_Rest1s_Odor-1+4\\_concat_files' # path where data are located\n",
    "    suj = ['CHAF', 'VACJ', 'SEMC', 'FERJ']\n",
    "    \n",
    "    for su in suj:\n",
    "        dico, shortname = _cleanData(pathdata, su)\n",
    "        path2save = path.join(st.path, 'database', shortname+'.npz') # make sure it's windows compatible\n",
    "        np.savez(path2save, **dico)\n",
    "        print('-> Save as : '+path2save+'\\n')\n",
    "\n"
   ]
  },
  {
   "cell_type": "code",
   "execution_count": null,
   "metadata": {
    "collapsed": true
   },
   "outputs": [],
   "source": []
  }
 ],
 "metadata": {
  "anaconda-cloud": {},
  "kernelspec": {
   "display_name": "Python [default]",
   "language": "python",
   "name": "python3"
  },
  "language_info": {
   "codemirror_mode": {
    "name": "ipython",
    "version": 3
   },
   "file_extension": ".py",
   "mimetype": "text/x-python",
   "name": "python",
   "nbconvert_exporter": "python",
   "pygments_lexer": "ipython3",
   "version": "3.5.2"
  }
 },
 "nbformat": 4,
 "nbformat_minor": 1
}
