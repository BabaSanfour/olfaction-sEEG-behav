{
 "cells": [
  {
   "cell_type": "markdown",
   "metadata": {},
   "source": [
    "## Import libraries"
   ]
  },
  {
   "cell_type": "code",
   "execution_count": null,
   "metadata": {
    "collapsed": true
   },
   "outputs": [],
   "source": [
    "import numpy as np\n",
    "import matplotlib.pyplot as plt\n",
    "from os import path\n",
    "\n",
    "#%matplotlib notebook\n",
    "\n",
    "from brainpipe.system import study\n",
    "from brainpipe.feature import TF\n",
    "from brainpipe.visual import *\n",
    "from brainpipe.statistics import *"
   ]
  },
  {
   "cell_type": "code",
   "execution_count": null,
   "metadata": {
    "collapsed": true
   },
   "outputs": [],
   "source": [
    "sf = 512\n",
    "n_perm = 1000\n",
    "f = (0.1, 150, 4, 2)  # Frequency vector: (from, to, width, step)\n",
    "baseline = [250, 750] # Time in seconds (rest 500ms au milieu des 1s extraite)\n",
    "lines = [0]\n",
    "norm = 3\n",
    "width, step = 50, 10 #Time vector\n",
    "window_to_plot = [-500, 3000] # In seconds"
   ]
  },
  {
   "cell_type": "markdown",
   "metadata": {},
   "source": [
    "## TF for all trials "
   ]
  },
  {
   "cell_type": "code",
   "execution_count": null,
   "metadata": {
    "collapsed": false,
    "scrolled": true
   },
   "outputs": [],
   "source": [
    "st = study('Olfacto')\n",
    "subjects = ['LEFC', 'PIRJ', 'CHAF', 'SEMC', 'VACJ', 'MICP']\n",
    "\n",
    "n_elec = {\n",
    "        'CHAF':103,\n",
    "        'VACJ':133,\n",
    "        'SEMC':106,\n",
    "        'LEFC':187,\n",
    "        'MICP':101,\n",
    "        'PIRJ':84,\n",
    "        }\n",
    "\n",
    "for su in subjects:\n",
    "    for elec in range(n_elec[su]):\n",
    "        file = su+'_E1E2_concat_all_bipo_new.npz'\n",
    "        mat = np.load(path.join(st.path, 'database/TS_E_all_cond_by_block_trigs_th40_art400_30_250_5s_concatOK', file))\n",
    "        x, sf, channel, label = mat['x'][elec, ...], int(mat['sf']), mat['channel'], mat['label']\n",
    "        label = list(mat['label'])\n",
    "        print (su, elec,)\n",
    "        ntrials = x.shape[1]\n",
    "        print ('size of the data : ', x.shape, 'Nb trials : ', ntrials)\n",
    "        \n",
    "        #Get the TF\n",
    "        time = 1000 * np.arange(-1024, x.shape[0]-1024) / sf #to set the 0 in your TF\n",
    "        print ('Time points: ', min(time), max(time))\n",
    "        tfObj = TF(sf, x.shape[0], f=f, baseline=baseline,norm=norm, time=time, width=width, step=step,)\n",
    "        xtf, pvaltf = tfObj.get((x), statmeth='permutation', n_perm=n_perm, maxstat=False, tail=2)\n",
    "        xtf, pvaltf = 100*np.squeeze(xtf), np.squeeze(pvaltf)\n",
    "        print ('TF size :', xtf.shape, 'pvaltf : ', pvaltf.shape, pvaltf) #Freq bands * time windows\n",
    "\n",
    "        # Plot everything that is inside the window parameter :\n",
    "        timebin = np.array(tfObj.xvec)\n",
    "        sl = slice(np.argmin(np.abs(timebin-window_to_plot[0])), np.argmin(np.abs(timebin-window_to_plot[1])))\n",
    "\n",
    "        # Finally plot you power :\n",
    "        title = 'TF_'+su+'_All_trials_Elec_'+str(elec)+'_'+channel[elec]+'_'+label[elec]+'_ntrials:'+str(x.shape[1])\n",
    "        th = 0.001 # toute les valeurs au dessus de ce seuil stat seront moins opaques\n",
    "        pvaltf_cut = pvaltf[:, sl]\n",
    "        mask = pvaltf_cut.copy()\n",
    "        print (mask)\n",
    "        signi_idx = mask <= th\n",
    "        mask[signi_idx] = 1\n",
    "        mask[np.invert(signi_idx)] = 0.7 #controle l'opacité du masque\n",
    "\n",
    "        # with stats\n",
    "        tfObj.plot2D(plt.figure(figsize=(12,10)), xtf[:, sl], cmap='viridis',  xvec=tfObj.xvec[sl], yvec=tfObj.yvec, xlabel='Time (ms)',\n",
    "                    vmin=-100, vmax=100, ylabel='Frequency (hz)', title=title,\n",
    "                   cblabel='Relative power modulations (%)', mask=mask, pltype='imshow', resample=(0.1, 0.1),\n",
    "                    contour={'data':pvaltf_cut, 'level':[0.001,], 'colors':['w'], 'linewidths':[1.5]},)         \n",
    "        addLines(plt.gca(), vLines=lines, vColor=['firebrick'], vWidth=[2])\n",
    "\n",
    "        #without stats\n",
    "        #tfObj.plot2D(plt.figure(), xtf[:, sl], cmap='viridis',  xvec=tfObj.xvec[sl], yvec=tfObj.yvec, xlabel='Time (ms)',\n",
    "          #           vmin=-100, vmax=100, ylabel='Frequency (hz)', title=title,\n",
    "          #            cblabel='Relative power modulations (%)', pltype='imshow', resample=(0.1, 0.1),)\n",
    "        #addLines(plt.gca(), vLines=lines, vColor=['firebrick'] * 2, vWidth=[2] * 2)\n",
    "\n",
    "        #Save all your plots\n",
    "        rep = path.join(st.path, 'TimeFrequency/TF_Encoding_all_filter1_th40_400art_30_250/Stats_uncorrect',su)\n",
    "        fname = (rep + '_TF_All_trials_Odor_Elec_'+str(elec)+'_'+channel[elec]+'_'+label[elec]+'_ntrials:'+str(x.shape[1])+'.png')\n",
    "        print (fname)\n",
    "        plt.savefig(fname, dpi=300, bbox_inches='tight')\n",
    "        plt.close()\n",
    "del x, sf, channel"
   ]
  },
  {
   "cell_type": "markdown",
   "metadata": {},
   "source": [
    "## TF trhough learning (early, middle, late)"
   ]
  },
  {
   "cell_type": "code",
   "execution_count": null,
   "metadata": {
    "collapsed": false,
    "scrolled": true
   },
   "outputs": [],
   "source": [
    "st = study('Olfacto')\n",
    "subjects = ['LEFC', 'PIRJ', 'CHAF', 'SEMC', 'VACJ', 'MICP']\n",
    "\n",
    "n_elec = {\n",
    "        'CHAF':103,\n",
    "        'VACJ':133,\n",
    "        'SEMC':106,\n",
    "        'LEFC':187,\n",
    "        'MICP':101,\n",
    "        'PIRJ':84,\n",
    "        }\n",
    "\n",
    "for su in subjects:\n",
    "    for elec in range(0, n_elec[su], 1):\n",
    "        file = su+'_E1E2_concat_all_bipo_new.npz'\n",
    "        mat = np.load(path.join(st.path, 'database/TS_E_all_cond_by_block_trigs_th40_art400_30_250_5s_concatOK', file))\n",
    "        x, sf, channel, label = mat['x'][elec, ...], int(mat['sf']), mat['channel'], mat['label']\n",
    "        label = list(mat['label'])\n",
    "        print (su, elec,)\n",
    "        ntrials = x.shape[1]\n",
    "        print ('size of the data : ', x.shape, 'Nb trials : ', ntrials)\n",
    "        learning_files = np.array_split(x, 3, axis=1)\n",
    "        print ('learning files : ', learning_files[0].shape, learning_files[1].shape,learning_files[2].shape,)\n",
    "        \n",
    "        for i in range (0,3,1):\n",
    "            # Get TF :\n",
    "            x = learning_files[i]\n",
    "            print ('selected learning file :', x.shape)\n",
    "            time = 1000 * np.arange(-768, x.shape[0]-768) / sf #to set the 0 in your TF\n",
    "            print ('Time points: ', min(time), max(time))\n",
    "            tfObj = TF(sf, x.shape[0], f=f, baseline=baseline,norm=norm, time=time, width=width, step=step,)\n",
    "            xtf, pvaltf = tfObj.get((x), statmeth='permutation', n_perm=n_perm, maxstat=False, tail=2)\n",
    "            xtf, pvaltf = 100*np.squeeze(xtf), np.squeeze(pvaltf)\n",
    "            print ('TF size :', xtf.shape, 'pvaltf : ', pvaltf.shape, pvaltf) #Freq bands * time windows\n",
    "\n",
    "            # Plot everything that is inside the window parameter :\n",
    "            timebin = np.array(tfObj.xvec)\n",
    "            sl = slice(np.argmin(np.abs(timebin-window_to_plot[0])), np.argmin(np.abs(timebin-window_to_plot[1])))\n",
    "\n",
    "            # Finally plot you power :\n",
    "            title = 'TF_'+su+'_Odor_Learning_'+str(i)+'_Elec_'+str(elec)+'_'+channel[elec]+'_'+label[elec]+'_ntrials:'+str(x.shape[1])\n",
    "            th = 0.01 # toute les valeurs au dessus de ce seuil stat seront moins opaques\n",
    "            pvaltf_cut = pvaltf[:, sl]\n",
    "            mask = pvaltf_cut.copy()\n",
    "            print (mask)\n",
    "            signi_idx = mask <= th\n",
    "            mask[signi_idx] = 1\n",
    "            mask[np.invert(signi_idx)] = 0.6 #controle l'opacité du masque\n",
    "\n",
    "            # with stats\n",
    "            tfObj.plot2D(plt.figure(), xtf[:, sl], cmap='viridis',  xvec=tfObj.xvec[sl], yvec=tfObj.yvec, xlabel='Time (ms)',\n",
    "                        vmin=-100, vmax=100, ylabel='Frequency (hz)', title=title,\n",
    "                       cblabel='Relative power modulations (%)', mask=mask, pltype='imshow', resample=(0.1, 0.1),\n",
    "                        contour={'data':pvaltf_cut, 'level':[0.001, 0.01], 'colors':['w', 'orange'], 'linewidths':[1.5,1]},)         \n",
    "            addLines(plt.gca(), vLines=lines, vColor=['firebrick'] * 2, vWidth=[2] * 2)\n",
    "\n",
    "            #without stats\n",
    "            #tfObj.plot2D(plt.figure(), xtf[:, sl], cmap='viridis',  xvec=tfObj.xvec[sl], yvec=tfObj.yvec, xlabel='Time (ms)',\n",
    "              #           vmin=-100, vmax=100, ylabel='Frequency (hz)', title=title,\n",
    "              #            cblabel='Relative power modulations (%)', pltype='imshow', resample=(0.1, 0.1),)\n",
    "            #addLines(plt.gca(), vLines=lines, vColor=['firebrick'] * 2, vWidth=[2] * 2)\n",
    "\n",
    "            #Save all your plots\n",
    "            rep = path.join(st.path, 'TimeFrequency/TF_Encoding_all_filter1_th40_400art_30_250/Stats_uncorrect_learning',su)\n",
    "            fname = (rep + '_TF_Odor_Elec_'+str(elec)+'_'+channel[elec]+'_'+label[elec]+'_ntrials:'+str(x.shape[1])+'_Learning_'+str(i)+'.png')\n",
    "            print (fname)\n",
    "            plt.savefig(fname, dpi=300, bbox_inches='tight')\n",
    "            plt.close()\n",
    "    del x, sf, channel\n",
    "\n",
    "\n",
    "\n"
   ]
  },
  {
   "cell_type": "code",
   "execution_count": null,
   "metadata": {
    "collapsed": true
   },
   "outputs": [],
   "source": []
  }
 ],
 "metadata": {
  "anaconda-cloud": {},
  "kernelspec": {
   "display_name": "Python [default]",
   "language": "python",
   "name": "python3"
  },
  "language_info": {
   "codemirror_mode": {
    "name": "ipython",
    "version": 3
   },
   "file_extension": ".py",
   "mimetype": "text/x-python",
   "name": "python",
   "nbconvert_exporter": "python",
   "pygments_lexer": "ipython3",
   "version": "3.5.2"
  }
 },
 "nbformat": 4,
 "nbformat_minor": 1
}
