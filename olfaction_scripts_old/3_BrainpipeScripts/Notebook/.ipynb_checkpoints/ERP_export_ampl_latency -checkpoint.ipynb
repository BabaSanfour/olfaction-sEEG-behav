{
 "cells": [
  {
   "cell_type": "markdown",
   "metadata": {},
   "source": [
    "## Calculate ERPs"
   ]
  },
  {
   "cell_type": "code",
   "execution_count": null,
   "metadata": {
    "collapsed": false
   },
   "outputs": [],
   "source": [
    "#Importing files and modules\n",
    "\n",
    "import numpy as np\n",
    "import matplotlib.pyplot as plt\n",
    "from os import path\n",
    "%matplotlib notebook\n",
    "from brainpipe.system import study\n",
    "from brainpipe.visual import *\n",
    "from brainpipe.statistics import *\n",
    "from mne.baseline import rescale\n",
    "from mne.filter import filter_data\n",
    "import pandas as pd\n",
    "from pandas import ExcelWriter\n",
    "\n",
    "from detect_peaks import detect_peaks"
   ]
  },
  {
   "cell_type": "markdown",
   "metadata": {},
   "source": [
    "## User variables"
   ]
  },
  {
   "cell_type": "code",
   "execution_count": null,
   "metadata": {
    "collapsed": true
   },
   "outputs": [],
   "source": [
    "low_pass_filter = 10.\n",
    "sf = 512.\n",
    "norm_mode = 'mean' #'ratio' 'mean' 'percent' \n",
    "baseline = [717 , 768]\n",
    "data_to_use = [768, 1536]\n",
    "n_perm = 200"
   ]
  },
  {
   "cell_type": "markdown",
   "metadata": {},
   "source": [
    "## ERP Amplitude - Latency - 1 elec"
   ]
  },
  {
   "cell_type": "code",
   "execution_count": null,
   "metadata": {
    "collapsed": false
   },
   "outputs": [],
   "source": [
    "st = study('Olfacto')\n",
    "path_data = path.join (st.path, 'database/TS_E_all_cond_by_block_trigs_th40_art400_30_250/')\n",
    "path_to_save = path.join (st.path, 'feature/ERP_Encoding_all_bipo_100ms_mean_thr40_art400_30_250/By_trial_max/')\n",
    "\n",
    "elec = 23\n",
    "su = 'VACJ'\n",
    "\n",
    "filename = su+'_E1E2_concat_allfilter1_bipo.npz'\n",
    "data_all = np.load(path.join(path_data, filename))\n",
    "data, channel, label = data_all['x'], data_all['channel'], data_all['label']\n",
    "\n",
    "# Select data for one elec + name :\n",
    "data_elec = data[elec,:,:]\n",
    "ntrials = len(data_elec[2])\n",
    "#print ('\\nOriginal data : ', data.shape, 'Channel : ', channel[elec], 'Label : ', label[elec], 'N_trials :', ntrials, 'One elec shape : ', data_elec.shape)\n",
    "\n",
    "#Filter data for one elec (all trials):\n",
    "data = np.array(data_elec, dtype='float64')\n",
    "data_to_filter = np.swapaxes(data, 0, 1)\n",
    "filtered_data = filter_data(data_to_filter, sfreq=512, l_freq=None, h_freq=low_pass_filter, method='fir', phase='zero-double')\n",
    "filtered_data = np.swapaxes(filtered_data, 0, 1)\n",
    "#print ('Size of filtered data:', filtered_data.shape,)\n",
    "\n",
    "#Normalize the non-averaged data (all trials)\n",
    "times = np.arange(filtered_data.shape[0])\n",
    "#print ('time points : ', times.shape)\n",
    "filtered_data_to_norm = np.swapaxes(filtered_data, 0, 1)\n",
    "norm_filtered_data = rescale(filtered_data_to_norm, times=times, baseline=baseline, mode=norm_mode)\n",
    "norm_filtered_data = np.swapaxes(norm_filtered_data, 0, 1)\n",
    "#print ('Size norm & filtered data : ', norm_filtered_data.shape,)\n",
    "\n",
    "# =======================COMPUTE AMPLITUDE AND LATENCY FOR EACH TRIAL=====================================\n",
    "# Select data\n",
    "concat_min = []\n",
    "concat_max = []\n",
    "for trial in range(0, ntrials, 1):\n",
    "    norm_filtered_data_to_plot = norm_filtered_data[range(baseline[0], data_to_use[1])]\n",
    "    time_x = 1000 * np.arange(baseline[0]-baseline[1], norm_filtered_data_to_plot.shape[0]+baseline[0]-baseline[1],) / sf\n",
    "    data_trial = norm_filtered_data[range(baseline[0], data_to_use[1]), trial]\n",
    "    print ('size of norm and fitlered data to use : ', data_trial.shape, 'time size : ', time_x.shape,)\n",
    "\n",
    "    #Minimums local\n",
    "    indexes_min = detect_peaks(data_trial, mph=25, valley = True, mpd=100,edge='both', show=False,)\n",
    "    min_trial_ampl = np.array(data_trial[indexes_min])\n",
    "    min_trial_time = np.array(time_x[indexes_min])\n",
    "    min_trial = np.stack([min_trial_ampl, min_trial_time], axis=0)\n",
    "    concat_min.append(min_trial)\n",
    "    min_array = np.concatenate(concat_min, axis=-1)\n",
    "    min_array = np.transpose(min_array, axes=None)\n",
    "    #print ('min array', min_array)\n",
    "    \n",
    "    #Maximums local\n",
    "    indexes_max = detect_peaks(data_trial, mph=25, mpd=100,edge='both', show=False,)\n",
    "    max_trial_ampl = np.array(data_trial[indexes_max])\n",
    "    max_trial_time = np.array(time_x[indexes_max])\n",
    "    max_trial = np.stack([max_trial_ampl, max_trial_time], axis=0)\n",
    "    concat_max.append(max_trial)\n",
    "    max_array = np.concatenate(concat_max, axis=-1)\n",
    "    max_array = np.transpose(max_array, axes=None)\n",
    "    #print ('max array', max_array)\n",
    "    \n",
    "    #plot the figure\n",
    "    fig = plt.figure(0, figsize=(12, 7))\n",
    "    ax = fig.add_subplot(111)\n",
    "    fig.subplots_adjust(top=0.85)\n",
    "    ax.set_xlabel('Times (ms)', fontsize=12)\n",
    "    ax.set_ylabel('Potential', fontsize=12)\n",
    "    plt.plot(time_x, data_trial, '#808080', linewidth=1.5, label='data')\n",
    "    #pplot(times_plot, data_trial_to_plot, indexes)\n",
    "    lines = [0]\n",
    "    addLines(plt.gca(), vLines=lines, vColor=['firebrick']*2, vWidth=[2]*2, hLines=[0], hColor=['#000000'], hWidth=[2])\n",
    "    plt.plot(min_trial_time, min_trial_ampl, 'b+', markersize=8, markeredgewidth=1.5 )\n",
    "    plt.plot(max_trial_time, max_trial_ampl, 'r+', markersize=8, markeredgewidth=1.5)\n",
    "    plt.grid()\n",
    "    #plt.show()\n",
    "\n",
    "    #save the figures\n",
    "    fname = (path_to_save+ su+'_E1E2_concat_all_'+str(label[elec])+'_trial_num_'+str(trial)+'.png')\n",
    "    print (fname)\n",
    "    plt.savefig(fname, dpi=300, bbox_inches='tight')\n",
    "    plt.close()\n",
    "\n",
    "# Save max min \n",
    "df_min = pd.DataFrame(min_array, columns = ('Min_Peak_Ampl', 'Min_Peak_Timing'))\n",
    "df_max = pd.DataFrame(max_array, columns = ('Max_Peak_Ampl', 'Max_Peak_Timing'))\n",
    "df_tot = df_max.append(df_min)\n",
    "print (df_tot)\n",
    "writer = ExcelWriter(path_to_save+su+'_min_max_peak_'+str(label[elec])+'.xlsx')\n",
    "df_tot.to_excel(writer)\n",
    "writer.save()"
   ]
  },
  {
   "cell_type": "code",
   "execution_count": null,
   "metadata": {
    "collapsed": true
   },
   "outputs": [],
   "source": []
  }
 ],
 "metadata": {
  "anaconda-cloud": {},
  "kernelspec": {
   "display_name": "Python [default]",
   "language": "python",
   "name": "python3"
  },
  "language_info": {
   "codemirror_mode": {
    "name": "ipython",
    "version": 3
   },
   "file_extension": ".py",
   "mimetype": "text/x-python",
   "name": "python",
   "nbconvert_exporter": "python",
   "pygments_lexer": "ipython3",
   "version": "3.5.2"
  }
 },
 "nbformat": 4,
 "nbformat_minor": 1
}
