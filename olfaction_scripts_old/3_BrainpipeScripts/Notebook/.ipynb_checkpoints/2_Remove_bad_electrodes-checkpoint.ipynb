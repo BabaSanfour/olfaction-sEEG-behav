{
 "cells": [
  {
   "cell_type": "markdown",
   "metadata": {},
   "source": [
    "## Remove bad electrodes after artefact detection\n",
    "### TF with artefacts or 50Hz"
   ]
  },
  {
   "cell_type": "code",
   "execution_count": 2,
   "metadata": {
    "collapsed": true
   },
   "outputs": [],
   "source": [
    "import numpy as np\n",
    "from brainpipe.system import study\n",
    "from os import path"
   ]
  },
  {
   "cell_type": "code",
   "execution_count": 10,
   "metadata": {
    "collapsed": false
   },
   "outputs": [
    {
     "name": "stdout",
     "output_type": "stream",
     "text": [
      "-> Olfacto loaded\n",
      "CHAF 4 (103, 2560, 40)\n",
      "VACJ 6 (133, 2560, 26)\n",
      "SEMC 1 (106, 2560, 40)\n",
      "LEFC 6 (187, 2560, 57)\n",
      "MICP 4 (101, 2560, 83)\n",
      "PIRJ 22 (84, 2560, 29)\n"
     ]
    }
   ],
   "source": [
    "st = study('Olfacto')\n",
    "pathfiles = path.join(st.path, 'database/TS_E_all_cond_by_block_trigs_th40_art400_30_250_5s_concatOK/')\n",
    "subjects = [ 'CHAF','VACJ','SEMC', 'LEFC','MICP', 'PIRJ',]\n",
    "rej_elec = {\n",
    "    'CHAF' : [98,102,103,104],\n",
    "    'VACJ' : [0,66,67,68,122,128], \n",
    "    'SEMC' : [36],\n",
    "    'PIRJ' : [10,14,15,25,26,41,47,48,53,54,55,57,58,63,64,71,72,79,80,81,82,83,],\n",
    "    'LEFC' : [47,48,49,50,140,141,],\n",
    "    'MICP' : [4,9,13,71,],\n",
    "            }\n",
    "\n",
    "for su in subjects:\n",
    "    mat = np.load(pathfiles+su+'_E1E2_concat_all_bipo.npz')\n",
    "    x, label, channel, xyz = mat['x'], mat['label'],mat['channel'],mat['xyz']\n",
    "    #print (su, x.shape,)\n",
    "    new_x = np.delete(x,rej_elec[su], axis=0)\n",
    "    print (su, len(rej_elec[su]),new_x.shape)"
   ]
  },
  {
   "cell_type": "code",
   "execution_count": null,
   "metadata": {
    "collapsed": true
   },
   "outputs": [],
   "source": [
    "n_elec = {\n",
    "        'CHAF':103,\n",
    "        'VACJ':133,\n",
    "        'SEMC':106,\n",
    "        'LEFC':187,\n",
    "        'MICP':101,\n",
    "        'PIRJ':84,\n",
    "        }\n"
   ]
  }
 ],
 "metadata": {
  "anaconda-cloud": {},
  "kernelspec": {
   "display_name": "Python [default]",
   "language": "python",
   "name": "python3"
  },
  "language_info": {
   "codemirror_mode": {
    "name": "ipython",
    "version": 3
   },
   "file_extension": ".py",
   "mimetype": "text/x-python",
   "name": "python",
   "nbconvert_exporter": "python",
   "pygments_lexer": "ipython3",
   "version": "3.5.2"
  }
 },
 "nbformat": 4,
 "nbformat_minor": 1
}
