{
 "cells": [
  {
   "cell_type": "markdown",
   "metadata": {},
   "source": [
    "## Import Libraries"
   ]
  },
  {
   "cell_type": "code",
   "execution_count": 1,
   "metadata": {
    "collapsed": true
   },
   "outputs": [],
   "source": [
    "import numpy as np\n",
    "import matplotlib.pyplot as plt\n",
    "from os import path\n",
    "import scipy.io as sio\n",
    "from matplotlib.ticker import ScalarFormatter, MaxNLocator\n",
    "#%matplotlib notebook\n",
    "import seaborn as sns\n",
    "\n",
    "from brainpipe.classification import *\n",
    "from brainpipe.system import study\n",
    "from brainpipe.visual import *\n",
    "from brainpipe.statistics import *\n",
    "from brainpipe.feature import power, amplitude, sigfilt\n",
    "import scipy.stats as stats"
   ]
  },
  {
   "cell_type": "markdown",
   "metadata": {},
   "source": [
    "## Bootstrap Statistics"
   ]
  },
  {
   "cell_type": "code",
   "execution_count": 2,
   "metadata": {
    "collapsed": true
   },
   "outputs": [],
   "source": [
    "def boot_matrix(z, B):\n",
    "    \"\"\"Bootstrap sample\n",
    "    Returns all bootstrap samples in a matrix, random trials (some repeated)\n",
    "    Do not change the size of the matrix always len(z) » len(z)*B\"\"\"\n",
    "    n = len(z)  # sample size\n",
    "    idz = np.random.randint(0, n, size=(B, n))  # indices to pick for all boostrap samples\n",
    "    return z[idz]\n",
    "\n",
    "def bootstrap_mean(x, B=10000, alpha=0.05):\n",
    "    \"\"\"Bootstrap standard error and (1-alpha)*100% c.i. for the population mean\n",
    "    Returns bootstrapped standard error and different types of confidence intervals\"\"\"\n",
    "    # 2D array, loop for each time points\n",
    "    x_boot_wins, x_sd_boot, x_ci_boot = np.array([]),np.array([]),np.array([])\n",
    "    for i in range(x.shape[1]):\n",
    "        # Deterministic things\n",
    "        x_win = x[:,i]\n",
    "        n = len(x_win)  # sample size\n",
    "        orig = x_win.mean()  # sample mean\n",
    "        se_mean = x_win.std()/np.sqrt(n) # standard error of the mean\n",
    "        qt = stats.t.ppf(q=1 - alpha/2, df=n - 1) # Student quantile\n",
    "        # Generate boostrap distribution of sample mean\n",
    "        xboot = boot_matrix(x_win, B=B)\n",
    "        xboot = xboot[:,:,np.newaxis]\n",
    "        sampling_distribution = xboot.mean(axis=1)\n",
    "        # Standard error and sample quantiles\n",
    "        se_mean_boot = sampling_distribution.std()\n",
    "        quantile_boot = np.percentile(sampling_distribution, q=(100*alpha/2, 100*(1-alpha/2)))\n",
    "        # Concatenate all values\n",
    "        x_boot_wins = np.concatenate((x_boot_wins,xboot), axis=2) if np.size(x_boot_wins) else xboot\n",
    "        x_sd_boot = np.vstack((x_sd_boot,se_mean_boot)) if np.size(x_sd_boot) else se_mean_boot\n",
    "        x_ci_boot = np.vstack((x_ci_boot,quantile_boot)) if np.size(x_ci_boot) else quantile_boot\n",
    "    print(x_boot_wins.shape, x_sd_boot.shape, x_ci_boot.shape)\n",
    "    return x_boot_wins, x_sd_boot, x_ci_boot"
   ]
  },
  {
   "cell_type": "markdown",
   "metadata": {},
   "source": [
    "## User variables"
   ]
  },
  {
   "cell_type": "code",
   "execution_count": 4,
   "metadata": {
    "collapsed": false
   },
   "outputs": [
    {
     "name": "stdout",
     "output_type": "stream",
     "text": [
      "-> Olfacto loaded\n"
     ]
    }
   ],
   "source": [
    "# where to find data\n",
    "st = study('Olfacto')\n",
    "score = 'Epi' #'Rec'\n",
    "if score == 'Epi':\n",
    "    path_elec = path.join(st.path, 'database/TS_E_all_by_odor_th40_art400_30_250_5s_Good_Bad_EpiScore/')\n",
    "    path_pow = path.join(st.path, 'feature/7_Power_E1E2_Odor_Good_Bad_700_100_EpiScore/')\n",
    "    save_pow = path.join(path_pow, 'Bootstrap_10000_Power_balanced/')\n",
    "# ANALYSIS PARAMETERS\n",
    "minsucc = 5 #nb of continuous samples to be significant"
   ]
  },
  {
   "cell_type": "markdown",
   "metadata": {},
   "source": [
    "## Power Decoding - Good Bad Odors Encoding"
   ]
  },
  {
   "cell_type": "code",
   "execution_count": 7,
   "metadata": {
    "collapsed": false,
    "scrolled": true
   },
   "outputs": [
    {
     "name": "stdout",
     "output_type": "stream",
     "text": [
      "PIRJ bad shape:  (5, 62, 29, 13) good shape:  (5, 62, 29, 15)\n",
      "balanced data :  (5, 62, 29, 13) (5, 62, 29, 13)\n",
      "data elec  (13, 29) (13, 29)\n",
      "nwin 29 elec  b2-b1 elec_label  aHC\n",
      "(10000, 13, 29) (29, 1) (29, 2)\n",
      "(10000, 13, 29) (29, 1) (29, 2)\n",
      "bootstrap mat :  (10000, 13, 29) (10000, 13, 29)\n",
      "29 [1, 1, 0.04, 1, 1, 1, 1, 1, 1, 0.04, 0.04, 0.04, 0.04, 0.04, 0.04, 0.04, 0.04, 0.04, 0.04, 0.04, 0.04, 1, 1, 1, 1, 1, 1, 1, 1]\n",
      "data elec  (13, 29) (13, 29)\n",
      "nwin 29 elec  b3-b2 elec_label  aHC\n",
      "(10000, 13, 29) (29, 1) (29, 2)\n",
      "(10000, 13, 29) (29, 1) (29, 2)\n",
      "bootstrap mat :  (10000, 13, 29) (10000, 13, 29)\n",
      "29 [1, 1, 0.04, 1, 1, 0.04, 0.04, 0.04, 0.04, 0.04, 0.04, 0.04, 0.04, 0.04, 0.04, 0.04, 0.04, 0.04, 0.04, 0.04, 0.04, 1, 1, 1, 1, 1, 1, 1, 1]\n"
     ]
    }
   ],
   "source": [
    "test = False\n",
    "\n",
    "if test == True:\n",
    "    n_elec = {'PIRJ' :2}\n",
    "    subjects = ['PIRJ']\n",
    "    nfreq = 1\n",
    "else :\n",
    "    subjects = ['MICP','VACJ','SEMC','PIRJ','LEFC','CHAF'] \n",
    "    nfreq = 5\n",
    "    n_elec = {\n",
    "    'CHAF' : 81,\n",
    "    'VACJ' : 91, \n",
    "    'SEMC' : 81,\n",
    "    'PIRJ' : 62,\n",
    "    'LEFC' : 160,\n",
    "    'MICP' : 79,\n",
    "        }\n",
    "\n",
    "for su in subjects:\n",
    "    #load power files (nfreq, nelec, nwin, ntrial)\n",
    "    bad_data = np.load(path.join(path_pow, su+'_concat_odor_bad_bipo_new_power.npz'))['xpow']\n",
    "    good_data = np.load(path.join(path_pow, su+'_concat_odor_good_bipo_new_power.npz'))['xpow']\n",
    "    print (su, 'bad shape: ', bad_data.shape, 'good shape: ', good_data.shape)\n",
    "\n",
    "# ==========================  BALANCED CONDITIONS - Bootstrap  =====================================\n",
    "    if bad_data.shape[3] > good_data.shape[3]:\n",
    "        bad_stat = bad_data[:,:,:,np.random.randint(bad_data.shape[3], size=good_data.shape[3])]\n",
    "        good_stat = good_data\n",
    "    elif bad_data.shape[3] < good_data.shape[3]:\n",
    "        bad_stat = bad_data\n",
    "        good_stat = good_data[:,:,:,np.random.randint(good_data.shape[3], size=bad_data.shape[3])]\n",
    "    else:\n",
    "        bad_stat, good_stat = bad_data, good_data\n",
    "    ntrials = bad_stat.shape[3]\n",
    "    print ('balanced data : ', bad_stat.shape, good_stat.shape)\n",
    "    \n",
    "# =========================== COMPUTE for 1 elec 1 freq ========================================    \n",
    "    for elec_num in range(n_elec[su]):\n",
    "        for freq in range(nfreq):\n",
    "            # load power files for 1 elec // 1 freq // Bad-Good conditions\n",
    "            bad_data_elec = bad_stat[freq,elec_num].swapaxes(0,1)\n",
    "            good_data_elec = good_stat[freq,elec_num].swapaxes(0,1)\n",
    "            print ('data elec ', bad_data_elec.shape, good_data_elec.shape)\n",
    "            ntrials = str(bad_data_elec.shape[0])+'/'+ str(good_data_elec.shape[0])\n",
    "            nwin = good_data_elec.shape[1]\n",
    "            elec = np.load(path.join(path_elec, su+'_concat_odor_bad_bipo_new.npz'))['channel'][elec_num]\n",
    "            elec_label = np.load(path.join(path_elec, su+'_concat_odor_bad_bipo_new.npz'))['label'][elec_num]\n",
    "            freq_name = np.load(path.join(path_pow, su+'_concat_odor_bad_bipo_new_power.npz'))['fname'][freq]\n",
    "            print ('nwin',nwin,'elec ', elec, 'elec_label ', elec_label)\n",
    "            \n",
    "#================================ BOOTSTRAP AND STATISTICS ====================================        \n",
    "            # Bootstrap and Welsh t-test\n",
    "            bad_boot, sd_bad_boot, ci_bad_boot = bootstrap_mean(bad_data_elec, B=10000)\n",
    "            good_boot, sd_good_boot, ci_good_boot = bootstrap_mean(good_data_elec, B=10000)            \n",
    "            print('bootstrap mat : ', bad_boot.shape, good_boot.shape)\n",
    "            # Data to average\n",
    "            bad_mean = np.mean(bad_data_elec, axis=0)\n",
    "            good_mean = np.mean(good_data_elec, axis=0)\n",
    "            # Create a threshold vector\n",
    "            th_vals = []\n",
    "            for t in range(nwin):\n",
    "                if ci_bad_boot[t,0] >= good_mean[t]:\n",
    "                    th_vals.append(0.04)\n",
    "                elif ci_bad_boot[t,1] <= good_mean[t]:\n",
    "                    th_vals.append(0.04)\n",
    "                else:\n",
    "                    th_vals.append(1)\n",
    "            print(len(th_vals), th_vals)\n",
    "            \n",
    "#========================== PREPARE PLOTS AND SAVE STATS =========================================\n",
    "            # plot and figure parameters\n",
    "            xfmt = ScalarFormatter(useMathText=True)\n",
    "            xfmt.set_powerlimits((0,3))\n",
    "            fig = plt.figure(1,figsize=(9,6))\n",
    "            rmaxis(plt.gca(), ['right', 'top'])\n",
    "            title = 'Bootstrap Power for '+su+' '+score+' Good/Bad '+str(elec)+' '+str(elec_label)+' ('+str(elec_num)+') ntrials:'+str(ntrials)\n",
    "            fig.suptitle(title, fontsize=12)\n",
    "            # Time vector to plot power\n",
    "            step = 3500/ good_data_elec.shape[1]\n",
    "            times_plot = np.arange(-500, 3000, step)\n",
    "            plt.gca().yaxis.set_major_locator(MaxNLocator(3,integer=True))\n",
    "            # Plot the Bootstrap STER with confidence intervals\n",
    "            plt.plot(times_plot, bad_mean, '-', color='b', label='bad')\n",
    "            plt.plot(times_plot, good_mean, '-', color='m', label='good')\n",
    "            plt.legend(loc=0, handletextpad=0.1, frameon=False) \n",
    "            plt.xlabel('Time (ms)')\n",
    "            plt.ylabel('Single trial evoked response (mV)')\n",
    "            plt.fill_between(times_plot, ci_bad_boot[:,0],ci_bad_boot[:,1], alpha=0.2, color='b')\n",
    "            plt.fill_between(times_plot, ci_good_boot[:,0],ci_good_boot[:,1], alpha=0.2, color='m')\n",
    "            addPval(plt.gca(), th_vals, p=0.05, x=times_plot, y=2, color='orange', lw=2, minsucc=minsucc)\n",
    "            addLines(plt.gca(), vLines=[0], vWidth=[2], vColor=['#000000'], hLines=[0], \n",
    "                     hColor=['#000000'], hWidth=[2])\n",
    "            # Significance criteria to reach      \n",
    "            pvals = np.ravel(th_vals)\n",
    "            underp = np.where(pvals < 1)[0]\n",
    "            pvsplit = np.split(underp, np.where(np.diff(underp) != 1)[0]+1)\n",
    "            signif = [True for k in pvsplit if len(k) >= minsucc ]\n",
    "\n",
    "            #Save plots and stats\n",
    "            if len(signif) >=1:\n",
    "                name_bad_boot = (save_pow+str(freq)+'_'+freq_name+'/Significant/data/'+su +'_bad_boot_' + score +'_'+str(elec_label)+'_('+str(elec)+').npy')                                    \n",
    "                name_ci_bad_boot = (save_pow+str(freq)+'_'+freq_name+'/Significant/data/'+su +'_ci_bad_boot_' + score +'_'+str(elec_label)+'_('+str(elec)+').npy')\n",
    "                name_good_boot = (save_pow+str(freq)+'_'+freq_name+'/Significant/data/'+su +'_good_boot_' + score +'_'+str(elec_label)+'_('+str(elec)+').npy')\n",
    "                name_ci_good_boot = (save_pow+str(freq)+'_'+freq_name+'/Significant/data/'+su +'_ci_good_boot_' + score +'_'+str(elec_label)+'_('+str(elec)+').npy')\n",
    "                plot_name = (save_pow+str(freq)+'_'+freq_name+'/Significant/fig/'+su +'_STER_' + score +'_'+str(elec_label)+'_('+str(elec)+').png')\n",
    "            else:\n",
    "                name_bad_boot = (save_pow+str(freq)+'_'+freq_name+'/Not_Significant/data/'+su +'_bad_boot_' + score +'_'+str(elec_label)+'_('+str(elec)+').npy')\n",
    "                name_ci_bad_boot = (save_pow+str(freq)+'_'+freq_name+'/Not_Significant/data/'+su +'_ci_bad_boot_' + score +'_'+str(elec_label)+'_('+str(elec)+').npy')\n",
    "                name_good_boot = (save_pow+str(freq)+'_'+freq_name+'/Not_Significant/data/'+su +'_good_boot_' + score +'_'+str(elec_label)+'_('+str(elec)+').npy')\n",
    "                name_ci_good_boot = (save_pow+str(freq)+'_'+freq_name+'/Not_Significant/data/'+su +'_ci_good_boot_' + score +'_'+str(elec_label)+'_('+str(elec)+').npy')\n",
    "                plot_name = (save_pow+str(freq)+'_'+freq_name+'/Not_Significant/fig/'+su +'_STER_' + score +'_'+str(elec_label)+'_('+str(elec)+').png')\n",
    "\n",
    "            np.save(name_bad_boot, bad_boot)\n",
    "            np.save(name_ci_bad_boot, ci_bad_boot)\n",
    "            np.save(name_good_boot, good_boot)\n",
    "            np.save(name_ci_good_boot, ci_good_boot)\n",
    "            plt.savefig(plot_name, dpi=300, bbox_inches='tight')\n",
    "            plt.clf()\n",
    "            plt.close()       "
   ]
  },
  {
   "cell_type": "code",
   "execution_count": null,
   "metadata": {
    "collapsed": true
   },
   "outputs": [],
   "source": []
  },
  {
   "cell_type": "code",
   "execution_count": null,
   "metadata": {
    "collapsed": true
   },
   "outputs": [],
   "source": []
  }
 ],
 "metadata": {
  "anaconda-cloud": {},
  "kernelspec": {
   "display_name": "Python [default]",
   "language": "python",
   "name": "python3"
  },
  "language_info": {
   "codemirror_mode": {
    "name": "ipython",
    "version": 3
   },
   "file_extension": ".py",
   "mimetype": "text/x-python",
   "name": "python",
   "nbconvert_exporter": "python",
   "pygments_lexer": "ipython3",
   "version": "3.5.2"
  }
 },
 "nbformat": 4,
 "nbformat_minor": 1
}
