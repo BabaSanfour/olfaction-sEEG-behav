{
 "cells": [
  {
   "cell_type": "code",
   "execution_count": null,
   "metadata": {
    "collapsed": true
   },
   "outputs": [],
   "source": [
    "## Import Libraries"
   ]
  },
  {
   "cell_type": "code",
   "execution_count": 1,
   "metadata": {
    "collapsed": false
   },
   "outputs": [],
   "source": [
    "import numpy as np\n",
    "import matplotlib.pyplot as plt\n",
    "from matplotlib.ticker import ScalarFormatter, MaxNLocator\n",
    "import scipy.io as sio\n",
    "\n",
    "from brainpipe.classification import *\n",
    "from brainpipe.system import study\n",
    "from brainpipe.feature import power, amplitude, sigfilt\n",
    "from brainpipe.visual import *\n",
    "from brainpipe.statistics import *\n",
    "from scipy.stats import *\n",
    "\n",
    "from os import path\n",
    "from mne.stats import *\n",
    "from mne.baseline import rescale\n",
    "from mne.filter import filter_data\n",
    "import time"
   ]
  },
  {
   "cell_type": "markdown",
   "metadata": {},
   "source": [
    "## User variables"
   ]
  },
  {
   "cell_type": "code",
   "execution_count": 2,
   "metadata": {
    "collapsed": false
   },
   "outputs": [
    {
     "name": "stdout",
     "output_type": "stream",
     "text": [
      "-> Olfacto loaded\n"
     ]
    }
   ],
   "source": [
    "# where to find data\n",
    "st = study('Olfacto')\n",
    "score = 'Epi' #'Rec'\n",
    "if score == 'Epi':\n",
    "    path_data = path.join (st.path, 'database/TS_E_all_by_odor_th40_art400_30_250_5s_Good_Bad_EpiScore/')\n",
    "    save_path = path.join(st.path, 'classified/0_Classif_ERP_EpiScore_all_electrodes/')\n",
    "if score == 'Rec':\n",
    "    path_data = path.join (st.path, 'database/TS_E_all_by_odor_th40_art400_30_250_Good_Bad_RecScore/')\n",
    "    save_path = path.join(st.path, 'classified/0_Classif_ERP_RecScore_all_electrodes/')\n",
    "\n",
    "# ANALYSIS PARAMETERS\n",
    "low_pass_filter = 10.\n",
    "sf = 512.\n",
    "norm_mode = 'mean' #'ratio' 'mean' 'percent' \n",
    "baseline = [973 , 1024] #100ms before odor perception\n",
    "data_to_use = [973, 1536] #1000ms after odor\n",
    "time_points = data_to_use[1]-data_to_use[0]\n",
    "classif = 'lda'\n",
    "n_rep = 1 #bootstrap\n",
    "alpha = 0.05\n",
    "winSample = 10 #in samples = 20ms\n",
    "minsucc = 3 #nb of continuous samples to be significant"
   ]
  },
  {
   "cell_type": "markdown",
   "metadata": {},
   "source": [
    "## ERPs Decoding - Good Bad Odors Encoding"
   ]
  },
  {
   "cell_type": "code",
   "execution_count": 5,
   "metadata": {
    "collapsed": true
   },
   "outputs": [
    {
     "name": "stdout",
     "output_type": "stream",
     "text": [
      "balanced data :  (91, 2560, 13) (91, 2560, 13)\n",
      "VACJ Channel :  b3-b2 Label :  mHC-PHG&mHC-Ent Bad shape :  (2560, 13) Good shape :  (2560, 13)\n",
      "Setting up low-pass filter at 10 Hz\n",
      "h_trans_bandwidth chosen to be 2.5 Hz\n",
      "Filter length of 1352 samples (2.641 sec) selected\n",
      "Setting up low-pass filter at 10 Hz\n",
      "h_trans_bandwidth chosen to be 2.5 Hz\n",
      "Filter length of 1352 samples (2.641 sec) selected\n",
      "Size of filtered data bad : (13, 2560) filtered data good :  (13, 2560)\n",
      "time points :  (2560,)\n",
      "Applying baseline correction (mode: mean)\n",
      "Applying baseline correction (mode: mean)\n",
      "Size norm & filtered data 0 :  (13, 2560) (13, 2560)\n",
      "-> Shape of bad data (13, 563) good data (13, 563)\n",
      "(13, 1000, 56) (13, 1000, 56)\n",
      "(1000, 56)\n",
      "[-1.8851549926526168, 1.8851549926526168] [-2.7959827292457673, 2.7959827292457673] [-4.3782986220291997, 4.3782986220291997]\n",
      "(56,) 2.55044214381 -2.23317295503\n",
      "Size of the concatenated data:  (26, 56) Number time windows :  56\n",
      "Size of label for classif:  26\n",
      "th_perm :  69.2307692308 80.7692307692 88.4615384615\n"
     ]
    },
    {
     "name": "stderr",
     "output_type": "stream",
     "text": [
      "/home/karim/anaconda3/lib/python3.5/site-packages/matplotlib/axes/_axes.py:545: UserWarning: No labelled objects found. Use label='...' kwarg on individual plots.\n",
      "  warnings.warn(\"No labelled objects found. \"\n"
     ]
    },
    {
     "name": "stdout",
     "output_type": "stream",
     "text": [
      "VACJ Channel :  b4-b3 Label :  mHC-PHG-FuG&mHC-PHG Bad shape :  (2560, 13) Good shape :  (2560, 13)\n",
      "Setting up low-pass filter at 10 Hz\n",
      "h_trans_bandwidth chosen to be 2.5 Hz\n",
      "Filter length of 1352 samples (2.641 sec) selected\n",
      "Setting up low-pass filter at 10 Hz\n",
      "h_trans_bandwidth chosen to be 2.5 Hz\n",
      "Filter length of 1352 samples (2.641 sec) selected\n",
      "Size of filtered data bad : (13, 2560) filtered data good :  (13, 2560)\n",
      "time points :  (2560,)\n",
      "Applying baseline correction (mode: mean)\n",
      "Applying baseline correction (mode: mean)\n",
      "Size norm & filtered data 0 :  (13, 2560) (13, 2560)\n",
      "-> Shape of bad data (13, 563) good data (13, 563)\n",
      "(13, 1000, 56) (13, 1000, 56)\n",
      "(1000, 56)\n",
      "[-1.8769356072358174, 1.8769356072358174] [-2.8060295195515574, 2.8060295195515574] [-5.0050492580544352, 5.0050492580544352]\n",
      "(56,) 1.12250263024 -0.750911435339\n",
      "Size of the concatenated data:  (26, 56) Number time windows :  56\n",
      "Size of label for classif:  26\n",
      "th_perm :  69.2307692308 76.9230769231 88.4615384615\n"
     ]
    },
    {
     "name": "stderr",
     "output_type": "stream",
     "text": [
      "/home/karim/anaconda3/lib/python3.5/site-packages/matplotlib/axes/_axes.py:545: UserWarning: No labelled objects found. Use label='...' kwarg on individual plots.\n",
      "  warnings.warn(\"No labelled objects found. \"\n"
     ]
    },
    {
     "name": "stdout",
     "output_type": "stream",
     "text": [
      "VACJ Channel :  b7-b6 Label :  MTG Bad shape :  (2560, 13) Good shape :  (2560, 13)\n",
      "Setting up low-pass filter at 10 Hz\n",
      "h_trans_bandwidth chosen to be 2.5 Hz\n",
      "Filter length of 1352 samples (2.641 sec) selected\n",
      "Setting up low-pass filter at 10 Hz\n",
      "h_trans_bandwidth chosen to be 2.5 Hz\n",
      "Filter length of 1352 samples (2.641 sec) selected\n",
      "Size of filtered data bad : (13, 2560) filtered data good :  (13, 2560)\n",
      "time points :  (2560,)\n",
      "Applying baseline correction (mode: mean)\n",
      "Applying baseline correction (mode: mean)\n",
      "Size norm & filtered data 0 :  (13, 2560) (13, 2560)\n",
      "-> Shape of bad data (13, 563) good data (13, 563)\n",
      "(13, 1000, 56) (13, 1000, 56)\n",
      "(1000, 56)\n",
      "[-1.8331693076418221, 1.8331693076418221] [-2.6943423106818711, 2.6943423106818711] [-4.5351920400901848, 4.5351920400901848]\n",
      "(56,) 1.0213897766 -2.77108789076\n",
      "Size of the concatenated data:  (26, 56) Number time windows :  56\n",
      "Size of label for classif:  26\n",
      "th_perm :  73.0769230769 76.9230769231 92.3076923077\n"
     ]
    },
    {
     "name": "stderr",
     "output_type": "stream",
     "text": [
      "/home/karim/anaconda3/lib/python3.5/site-packages/matplotlib/axes/_axes.py:545: UserWarning: No labelled objects found. Use label='...' kwarg on individual plots.\n",
      "  warnings.warn(\"No labelled objects found. \"\n"
     ]
    },
    {
     "name": "stdout",
     "output_type": "stream",
     "text": [
      "VACJ Channel :  b8-b7 Label :  MTG Bad shape :  (2560, 13) Good shape :  (2560, 13)\n",
      "Setting up low-pass filter at 10 Hz\n",
      "h_trans_bandwidth chosen to be 2.5 Hz\n",
      "Filter length of 1352 samples (2.641 sec) selected\n",
      "Setting up low-pass filter at 10 Hz\n",
      "h_trans_bandwidth chosen to be 2.5 Hz\n",
      "Filter length of 1352 samples (2.641 sec) selected\n",
      "Size of filtered data bad : (13, 2560) filtered data good :  (13, 2560)\n",
      "time points :  (2560,)\n",
      "Applying baseline correction (mode: mean)\n",
      "Applying baseline correction (mode: mean)\n",
      "Size norm & filtered data 0 :  (13, 2560) (13, 2560)\n",
      "-> Shape of bad data (13, 563) good data (13, 563)\n",
      "(13, 1000, 56) (13, 1000, 56)\n",
      "(1000, 56)\n",
      "[-1.7954567780567925, 1.7954567780567925] [-2.699831836498678, 2.699831836498678] [-4.4165673169156303, 4.4165673169156303]\n",
      "(56,) 1.15580965102 -1.63853729608\n",
      "Size of the concatenated data:  (26, 56) Number time windows :  56\n",
      "Size of label for classif:  26\n",
      "th_perm :  73.0769230769 76.9230769231 88.4615384615\n"
     ]
    },
    {
     "name": "stderr",
     "output_type": "stream",
     "text": [
      "/home/karim/anaconda3/lib/python3.5/site-packages/matplotlib/axes/_axes.py:545: UserWarning: No labelled objects found. Use label='...' kwarg on individual plots.\n",
      "  warnings.warn(\"No labelled objects found. \"\n"
     ]
    },
    {
     "name": "stdout",
     "output_type": "stream",
     "text": [
      "VACJ Channel :  b9-b8 Label :  MTG Bad shape :  (2560, 13) Good shape :  (2560, 13)\n",
      "Setting up low-pass filter at 10 Hz\n",
      "h_trans_bandwidth chosen to be 2.5 Hz\n",
      "Filter length of 1352 samples (2.641 sec) selected\n",
      "Setting up low-pass filter at 10 Hz\n",
      "h_trans_bandwidth chosen to be 2.5 Hz\n",
      "Filter length of 1352 samples (2.641 sec) selected\n",
      "Size of filtered data bad : (13, 2560) filtered data good :  (13, 2560)\n",
      "time points :  (2560,)\n",
      "Applying baseline correction (mode: mean)\n",
      "Applying baseline correction (mode: mean)\n",
      "Size norm & filtered data 0 :  (13, 2560) (13, 2560)\n",
      "-> Shape of bad data (13, 563) good data (13, 563)\n",
      "(13, 1000, 56) (13, 1000, 56)\n",
      "(1000, 56)\n",
      "[-1.8733809277835054, 1.8733809277835054] [-2.8115843721416787, 2.8115843721416787] [-5.0384176756504724, 5.0384176756504724]\n",
      "(56,) 1.50292757932 -1.44928436668\n",
      "Size of the concatenated data:  (26, 56) Number time windows :  56\n",
      "Size of label for classif:  26\n",
      "th_perm :  69.2307692308 76.9230769231 88.4615384615\n"
     ]
    },
    {
     "name": "stderr",
     "output_type": "stream",
     "text": [
      "/home/karim/anaconda3/lib/python3.5/site-packages/matplotlib/axes/_axes.py:545: UserWarning: No labelled objects found. Use label='...' kwarg on individual plots.\n",
      "  warnings.warn(\"No labelled objects found. \"\n"
     ]
    },
    {
     "name": "stdout",
     "output_type": "stream",
     "text": [
      "VACJ Channel :  b10-b9 Label :  MTG Bad shape :  (2560, 13) Good shape :  (2560, 13)\n",
      "Setting up low-pass filter at 10 Hz\n",
      "h_trans_bandwidth chosen to be 2.5 Hz\n",
      "Filter length of 1352 samples (2.641 sec) selected\n",
      "Setting up low-pass filter at 10 Hz\n",
      "h_trans_bandwidth chosen to be 2.5 Hz\n",
      "Filter length of 1352 samples (2.641 sec) selected\n",
      "Size of filtered data bad : (13, 2560) filtered data good :  (13, 2560)\n",
      "time points :  (2560,)\n",
      "Applying baseline correction (mode: mean)\n",
      "Applying baseline correction (mode: mean)\n",
      "Size norm & filtered data 0 :  (13, 2560) (13, 2560)\n",
      "-> Shape of bad data (13, 563) good data (13, 563)\n",
      "(13, 1000, 56) (13, 1000, 56)\n",
      "(1000, 56)\n",
      "[-1.8566822119562707, 1.8566822119562707] [-2.9403616469567053, 2.9403616469567053] [-5.3186527598384465, 5.3186527598384465]\n",
      "(56,) 2.42748639897 -1.2470046818\n",
      "Size of the concatenated data:  (26, 56) Number time windows :  56\n",
      "Size of label for classif:  26\n",
      "th_perm :  73.0769230769 80.7692307692 88.4615384615\n"
     ]
    },
    {
     "name": "stderr",
     "output_type": "stream",
     "text": [
      "/home/karim/anaconda3/lib/python3.5/site-packages/matplotlib/axes/_axes.py:545: UserWarning: No labelled objects found. Use label='...' kwarg on individual plots.\n",
      "  warnings.warn(\"No labelled objects found. \"\n"
     ]
    },
    {
     "name": "stdout",
     "output_type": "stream",
     "text": [
      "VACJ Channel :  b11-b10 Label :  MTG Bad shape :  (2560, 13) Good shape :  (2560, 13)\n",
      "Setting up low-pass filter at 10 Hz\n",
      "h_trans_bandwidth chosen to be 2.5 Hz\n",
      "Filter length of 1352 samples (2.641 sec) selected\n",
      "Setting up low-pass filter at 10 Hz\n",
      "h_trans_bandwidth chosen to be 2.5 Hz\n",
      "Filter length of 1352 samples (2.641 sec) selected\n",
      "Size of filtered data bad : (13, 2560) filtered data good :  (13, 2560)\n",
      "time points :  (2560,)\n",
      "Applying baseline correction (mode: mean)\n",
      "Applying baseline correction (mode: mean)\n",
      "Size norm & filtered data 0 :  (13, 2560) (13, 2560)\n",
      "-> Shape of bad data (13, 563) good data (13, 563)\n",
      "(13, 1000, 56) (13, 1000, 56)\n",
      "(1000, 56)\n",
      "[-1.8570423919094092, 1.8570423919094092] [-2.8600775682532706, 2.8600775682532706] [-4.6146216961954911, 4.6146216961954911]\n",
      "(56,) 1.92748979976 -1.47230776689\n",
      "Size of the concatenated data:  (26, 56) Number time windows :  56\n",
      "Size of label for classif:  26\n",
      "th_perm :  73.0769230769 76.9230769231 84.6153846154\n"
     ]
    },
    {
     "name": "stderr",
     "output_type": "stream",
     "text": [
      "/home/karim/anaconda3/lib/python3.5/site-packages/matplotlib/axes/_axes.py:545: UserWarning: No labelled objects found. Use label='...' kwarg on individual plots.\n",
      "  warnings.warn(\"No labelled objects found. \"\n"
     ]
    },
    {
     "name": "stdout",
     "output_type": "stream",
     "text": [
      "VACJ Channel :  b12-b11 Label :  MTG Bad shape :  (2560, 13) Good shape :  (2560, 13)\n",
      "Setting up low-pass filter at 10 Hz\n",
      "h_trans_bandwidth chosen to be 2.5 Hz\n",
      "Filter length of 1352 samples (2.641 sec) selected\n",
      "Setting up low-pass filter at 10 Hz\n",
      "h_trans_bandwidth chosen to be 2.5 Hz\n",
      "Filter length of 1352 samples (2.641 sec) selected\n",
      "Size of filtered data bad : (13, 2560) filtered data good :  (13, 2560)\n",
      "time points :  (2560,)\n",
      "Applying baseline correction (mode: mean)\n",
      "Applying baseline correction (mode: mean)\n",
      "Size norm & filtered data 0 :  (13, 2560) (13, 2560)\n",
      "-> Shape of bad data (13, 563) good data (13, 563)\n",
      "(13, 1000, 56) (13, 1000, 56)\n",
      "(1000, 56)\n",
      "[-1.8119186169448143, 1.8119186169448143] [-2.6069653437908751, 2.6069653437908751] [-4.0678904006881318, 4.0678904006881318]\n",
      "(56,) 1.72762574035 -1.46369938242\n",
      "Size of the concatenated data:  (26, 56) Number time windows :  56\n",
      "Size of label for classif:  26\n",
      "th_perm :  73.0769230769 76.9230769231 96.1538461538\n"
     ]
    },
    {
     "name": "stderr",
     "output_type": "stream",
     "text": [
      "/home/karim/anaconda3/lib/python3.5/site-packages/matplotlib/axes/_axes.py:545: UserWarning: No labelled objects found. Use label='...' kwarg on individual plots.\n",
      "  warnings.warn(\"No labelled objects found. \"\n"
     ]
    },
    {
     "name": "stdout",
     "output_type": "stream",
     "text": [
      "VACJ Channel :  b'2-b'1 Label :  mHC Bad shape :  (2560, 13) Good shape :  (2560, 13)\n",
      "Setting up low-pass filter at 10 Hz\n",
      "h_trans_bandwidth chosen to be 2.5 Hz\n",
      "Filter length of 1352 samples (2.641 sec) selected\n",
      "Setting up low-pass filter at 10 Hz\n",
      "h_trans_bandwidth chosen to be 2.5 Hz\n",
      "Filter length of 1352 samples (2.641 sec) selected\n",
      "Size of filtered data bad : (13, 2560) filtered data good :  (13, 2560)\n",
      "time points :  (2560,)\n",
      "Applying baseline correction (mode: mean)\n",
      "Applying baseline correction (mode: mean)\n",
      "Size norm & filtered data 0 :  (13, 2560) (13, 2560)\n",
      "-> Shape of bad data (13, 563) good data (13, 563)\n",
      "(13, 1000, 56) (13, 1000, 56)\n",
      "(1000, 56)\n",
      "[-1.8524445270348415, 1.8524445270348415] [-2.8227503200721009, 2.8227503200721009] [-4.2514649008674272, 4.2514649008674272]\n",
      "(56,) 2.04517117231 -2.41780978252\n",
      "Size of the concatenated data:  (26, 56) Number time windows :  56\n",
      "Size of label for classif:  26\n",
      "th_perm :  73.0769230769 76.9230769231 88.4615384615\n"
     ]
    },
    {
     "name": "stderr",
     "output_type": "stream",
     "text": [
      "/home/karim/anaconda3/lib/python3.5/site-packages/matplotlib/axes/_axes.py:545: UserWarning: No labelled objects found. Use label='...' kwarg on individual plots.\n",
      "  warnings.warn(\"No labelled objects found. \"\n"
     ]
    },
    {
     "name": "stdout",
     "output_type": "stream",
     "text": [
      "VACJ Channel :  b'3-b'2 Label :  mHC Bad shape :  (2560, 13) Good shape :  (2560, 13)\n",
      "Setting up low-pass filter at 10 Hz\n",
      "h_trans_bandwidth chosen to be 2.5 Hz\n",
      "Filter length of 1352 samples (2.641 sec) selected\n",
      "Setting up low-pass filter at 10 Hz\n",
      "h_trans_bandwidth chosen to be 2.5 Hz\n",
      "Filter length of 1352 samples (2.641 sec) selected\n",
      "Size of filtered data bad : (13, 2560) filtered data good :  (13, 2560)\n",
      "time points :  (2560,)\n",
      "Applying baseline correction (mode: mean)\n",
      "Applying baseline correction (mode: mean)\n",
      "Size norm & filtered data 0 :  (13, 2560) (13, 2560)\n",
      "-> Shape of bad data (13, 563) good data (13, 563)\n",
      "(13, 1000, 56) (13, 1000, 56)\n",
      "(1000, 56)\n",
      "[-1.8327645699847779, 1.8327645699847779] [-2.663175758763622, 2.663175758763622] [-3.9495297111859382, 3.9495297111859382]\n",
      "(56,) 1.34580462773 -1.48917981616\n",
      "Size of the concatenated data:  (26, 56) Number time windows :  56\n",
      "Size of label for classif:  26\n",
      "th_perm :  69.2307692308 76.9230769231 88.4615384615\n"
     ]
    },
    {
     "name": "stderr",
     "output_type": "stream",
     "text": [
      "/home/karim/anaconda3/lib/python3.5/site-packages/matplotlib/axes/_axes.py:545: UserWarning: No labelled objects found. Use label='...' kwarg on individual plots.\n",
      "  warnings.warn(\"No labelled objects found. \"\n"
     ]
    },
    {
     "name": "stdout",
     "output_type": "stream",
     "text": [
      "VACJ Channel :  b'4-b'3 Label :  mHC Bad shape :  (2560, 13) Good shape :  (2560, 13)\n",
      "Setting up low-pass filter at 10 Hz\n",
      "h_trans_bandwidth chosen to be 2.5 Hz\n",
      "Filter length of 1352 samples (2.641 sec) selected\n",
      "Setting up low-pass filter at 10 Hz\n",
      "h_trans_bandwidth chosen to be 2.5 Hz\n",
      "Filter length of 1352 samples (2.641 sec) selected\n",
      "Size of filtered data bad : (13, 2560) filtered data good :  (13, 2560)\n",
      "time points :  (2560,)\n",
      "Applying baseline correction (mode: mean)\n",
      "Applying baseline correction (mode: mean)\n",
      "Size norm & filtered data 0 :  (13, 2560) (13, 2560)\n",
      "-> Shape of bad data (13, 563) good data (13, 563)\n",
      "(13, 1000, 56) (13, 1000, 56)\n",
      "(1000, 56)\n",
      "[-1.8174085855364908, 1.8174085855364908] [-2.7281763826117738, 2.7281763826117738] [-4.3569429435460911, 4.3569429435460911]\n",
      "(56,) 2.57674144458 -2.24796981664\n",
      "Size of the concatenated data:  (26, 56) Number time windows :  56\n",
      "Size of label for classif:  26\n",
      "th_perm :  73.0769230769 76.9230769231 96.1538461538\n"
     ]
    },
    {
     "name": "stderr",
     "output_type": "stream",
     "text": [
      "/home/karim/anaconda3/lib/python3.5/site-packages/matplotlib/axes/_axes.py:545: UserWarning: No labelled objects found. Use label='...' kwarg on individual plots.\n",
      "  warnings.warn(\"No labelled objects found. \"\n"
     ]
    },
    {
     "name": "stdout",
     "output_type": "stream",
     "text": [
      "VACJ Channel :  b'5-b'4 Label :  mHC Bad shape :  (2560, 13) Good shape :  (2560, 13)\n",
      "Setting up low-pass filter at 10 Hz\n",
      "h_trans_bandwidth chosen to be 2.5 Hz\n",
      "Filter length of 1352 samples (2.641 sec) selected\n",
      "Setting up low-pass filter at 10 Hz\n",
      "h_trans_bandwidth chosen to be 2.5 Hz\n",
      "Filter length of 1352 samples (2.641 sec) selected\n",
      "Size of filtered data bad : (13, 2560) filtered data good :  (13, 2560)\n",
      "time points :  (2560,)\n",
      "Applying baseline correction (mode: mean)\n",
      "Applying baseline correction (mode: mean)\n",
      "Size norm & filtered data 0 :  (13, 2560) (13, 2560)\n",
      "-> Shape of bad data (13, 563) good data (13, 563)\n",
      "(13, 1000, 56) (13, 1000, 56)\n",
      "(1000, 56)\n",
      "[-1.8755818625947052, 1.8755818625947052] [-2.9214541288754954, 2.9214541288754954] [-5.0835259718649564, 5.0835259718649564]\n",
      "(56,) 1.78703225741 -1.85998531389\n",
      "Size of the concatenated data:  (26, 56) Number time windows :  56\n",
      "Size of label for classif:  26\n",
      "th_perm :  73.0769230769 76.9230769231 84.6153846154\n"
     ]
    },
    {
     "name": "stderr",
     "output_type": "stream",
     "text": [
      "/home/karim/anaconda3/lib/python3.5/site-packages/matplotlib/axes/_axes.py:545: UserWarning: No labelled objects found. Use label='...' kwarg on individual plots.\n",
      "  warnings.warn(\"No labelled objects found. \"\n"
     ]
    },
    {
     "name": "stdout",
     "output_type": "stream",
     "text": [
      "VACJ Channel :  b'6-b'5 Label :  mHC Bad shape :  (2560, 13) Good shape :  (2560, 13)\n",
      "Setting up low-pass filter at 10 Hz\n",
      "h_trans_bandwidth chosen to be 2.5 Hz\n",
      "Filter length of 1352 samples (2.641 sec) selected\n",
      "Setting up low-pass filter at 10 Hz\n",
      "h_trans_bandwidth chosen to be 2.5 Hz\n",
      "Filter length of 1352 samples (2.641 sec) selected\n",
      "Size of filtered data bad : (13, 2560) filtered data good :  (13, 2560)\n",
      "time points :  (2560,)\n",
      "Applying baseline correction (mode: mean)\n",
      "Applying baseline correction (mode: mean)\n",
      "Size norm & filtered data 0 :  (13, 2560) (13, 2560)\n",
      "-> Shape of bad data (13, 563) good data (13, 563)\n",
      "(13, 1000, 56) (13, 1000, 56)\n",
      "(1000, 56)\n",
      "[-1.9483565150082733, 1.9483565150082733] [-2.953412932252296, 2.953412932252296] [-4.9873434089442181, 4.9873434089442181]\n",
      "(56,) 1.64685951174 -0.990154767735\n",
      "Size of the concatenated data:  (26, 56) Number time windows :  56\n",
      "Size of label for classif:  26\n",
      "th_perm :  73.0769230769 76.9230769231 88.4615384615\n"
     ]
    },
    {
     "name": "stderr",
     "output_type": "stream",
     "text": [
      "/home/karim/anaconda3/lib/python3.5/site-packages/matplotlib/axes/_axes.py:545: UserWarning: No labelled objects found. Use label='...' kwarg on individual plots.\n",
      "  warnings.warn(\"No labelled objects found. \"\n"
     ]
    },
    {
     "name": "stdout",
     "output_type": "stream",
     "text": [
      "VACJ Channel :  b'11-b'10 Label :  MTG Bad shape :  (2560, 13) Good shape :  (2560, 13)\n",
      "Setting up low-pass filter at 10 Hz\n",
      "h_trans_bandwidth chosen to be 2.5 Hz\n",
      "Filter length of 1352 samples (2.641 sec) selected\n",
      "Setting up low-pass filter at 10 Hz\n",
      "h_trans_bandwidth chosen to be 2.5 Hz\n",
      "Filter length of 1352 samples (2.641 sec) selected\n",
      "Size of filtered data bad : (13, 2560) filtered data good :  (13, 2560)\n",
      "time points :  (2560,)\n",
      "Applying baseline correction (mode: mean)\n",
      "Applying baseline correction (mode: mean)\n",
      "Size norm & filtered data 0 :  (13, 2560) (13, 2560)\n",
      "-> Shape of bad data (13, 563) good data (13, 563)\n",
      "(13, 1000, 56) (13, 1000, 56)\n",
      "(1000, 56)\n",
      "[-1.7773948730375686, 1.7773948730375686] [-2.734877761476592, 2.734877761476592] [-4.4753835222131118, 4.4753835222131118]\n",
      "(56,) 1.0095846881 -1.51022693317\n",
      "Size of the concatenated data:  (26, 56) Number time windows :  56\n",
      "Size of label for classif:  26\n",
      "th_perm :  73.0769230769 76.9230769231 92.3076923077\n"
     ]
    },
    {
     "name": "stderr",
     "output_type": "stream",
     "text": [
      "/home/karim/anaconda3/lib/python3.5/site-packages/matplotlib/axes/_axes.py:545: UserWarning: No labelled objects found. Use label='...' kwarg on individual plots.\n",
      "  warnings.warn(\"No labelled objects found. \"\n"
     ]
    },
    {
     "name": "stdout",
     "output_type": "stream",
     "text": [
      "VACJ Channel :  b'12-b'11 Label :  MTG Bad shape :  (2560, 13) Good shape :  (2560, 13)\n",
      "Setting up low-pass filter at 10 Hz\n",
      "h_trans_bandwidth chosen to be 2.5 Hz\n",
      "Filter length of 1352 samples (2.641 sec) selected\n",
      "Setting up low-pass filter at 10 Hz\n",
      "h_trans_bandwidth chosen to be 2.5 Hz\n",
      "Filter length of 1352 samples (2.641 sec) selected\n",
      "Size of filtered data bad : (13, 2560) filtered data good :  (13, 2560)\n",
      "time points :  (2560,)\n",
      "Applying baseline correction (mode: mean)\n",
      "Applying baseline correction (mode: mean)\n",
      "Size norm & filtered data 0 :  (13, 2560) (13, 2560)\n",
      "-> Shape of bad data (13, 563) good data (13, 563)\n",
      "(13, 1000, 56) (13, 1000, 56)\n",
      "(1000, 56)\n",
      "[-1.8372337979984605, 1.8372337979984605] [-2.7634663126047991, 2.7634663126047991] [-4.361739644017316, 4.361739644017316]\n",
      "(56,) 1.61760910066 -2.60471961813\n",
      "Size of the concatenated data:  (26, 56) Number time windows :  56\n",
      "Size of label for classif:  26\n",
      "th_perm :  73.0769230769 76.9230769231 92.3076923077\n"
     ]
    },
    {
     "name": "stderr",
     "output_type": "stream",
     "text": [
      "/home/karim/anaconda3/lib/python3.5/site-packages/matplotlib/axes/_axes.py:545: UserWarning: No labelled objects found. Use label='...' kwarg on individual plots.\n",
      "  warnings.warn(\"No labelled objects found. \"\n"
     ]
    },
    {
     "name": "stdout",
     "output_type": "stream",
     "text": [
      "VACJ Channel :  d'2-d'1 Label :  Amg-PRC&Amg Bad shape :  (2560, 13) Good shape :  (2560, 13)\n",
      "Setting up low-pass filter at 10 Hz\n",
      "h_trans_bandwidth chosen to be 2.5 Hz\n",
      "Filter length of 1352 samples (2.641 sec) selected\n",
      "Setting up low-pass filter at 10 Hz\n",
      "h_trans_bandwidth chosen to be 2.5 Hz\n",
      "Filter length of 1352 samples (2.641 sec) selected\n",
      "Size of filtered data bad : (13, 2560) filtered data good :  (13, 2560)\n",
      "time points :  (2560,)\n",
      "Applying baseline correction (mode: mean)\n",
      "Applying baseline correction (mode: mean)\n",
      "Size norm & filtered data 0 :  (13, 2560) (13, 2560)\n",
      "-> Shape of bad data (13, 563) good data (13, 563)\n",
      "(13, 1000, 56) (13, 1000, 56)\n",
      "(1000, 56)\n",
      "[-1.8562313735456868, 1.8562313735456868] [-2.7492520135552794, 2.7492520135552794] [-4.9897042859181155, 4.9897042859181155]\n",
      "(56,) 1.51791074548 -1.56267283688\n",
      "Size of the concatenated data:  (26, 56) Number time windows :  56\n",
      "Size of label for classif:  26\n",
      "th_perm :  73.0769230769 76.9230769231 88.4615384615\n"
     ]
    },
    {
     "name": "stderr",
     "output_type": "stream",
     "text": [
      "/home/karim/anaconda3/lib/python3.5/site-packages/matplotlib/axes/_axes.py:545: UserWarning: No labelled objects found. Use label='...' kwarg on individual plots.\n",
      "  warnings.warn(\"No labelled objects found. \"\n"
     ]
    },
    {
     "name": "stdout",
     "output_type": "stream",
     "text": [
      "VACJ Channel :  d'3-d'2 Label :  Amg-PRC Bad shape :  (2560, 13) Good shape :  (2560, 13)\n",
      "Setting up low-pass filter at 10 Hz\n",
      "h_trans_bandwidth chosen to be 2.5 Hz\n",
      "Filter length of 1352 samples (2.641 sec) selected\n",
      "Setting up low-pass filter at 10 Hz\n",
      "h_trans_bandwidth chosen to be 2.5 Hz\n",
      "Filter length of 1352 samples (2.641 sec) selected\n",
      "Size of filtered data bad : (13, 2560) filtered data good :  (13, 2560)\n",
      "time points :  (2560,)\n",
      "Applying baseline correction (mode: mean)\n",
      "Applying baseline correction (mode: mean)\n",
      "Size norm & filtered data 0 :  (13, 2560) (13, 2560)\n",
      "-> Shape of bad data (13, 563) good data (13, 563)\n",
      "(13, 1000, 56) (13, 1000, 56)\n",
      "(1000, 56)\n",
      "[-1.8755834953815864, 1.8755834953815864] [-2.8421509702028018, 2.8421509702028018] [-4.9937495542655101, 4.9937495542655101]\n",
      "(56,) 2.92021224817 -0.864838537413\n",
      "Size of the concatenated data:  (26, 56) Number time windows :  56\n",
      "Size of label for classif:  26\n",
      "th_perm :  73.0769230769 76.9230769231 88.4615384615\n"
     ]
    },
    {
     "name": "stderr",
     "output_type": "stream",
     "text": [
      "/home/karim/anaconda3/lib/python3.5/site-packages/matplotlib/axes/_axes.py:545: UserWarning: No labelled objects found. Use label='...' kwarg on individual plots.\n",
      "  warnings.warn(\"No labelled objects found. \"\n"
     ]
    },
    {
     "name": "stdout",
     "output_type": "stream",
     "text": [
      "VACJ Channel :  d'4-d'3 Label :  PRC&Amg-PRC Bad shape :  (2560, 13) Good shape :  (2560, 13)\n",
      "Setting up low-pass filter at 10 Hz\n",
      "h_trans_bandwidth chosen to be 2.5 Hz\n",
      "Filter length of 1352 samples (2.641 sec) selected\n",
      "Setting up low-pass filter at 10 Hz\n",
      "h_trans_bandwidth chosen to be 2.5 Hz\n",
      "Filter length of 1352 samples (2.641 sec) selected\n",
      "Size of filtered data bad : (13, 2560) filtered data good :  (13, 2560)\n",
      "time points :  (2560,)\n",
      "Applying baseline correction (mode: mean)\n",
      "Applying baseline correction (mode: mean)\n",
      "Size norm & filtered data 0 :  (13, 2560) (13, 2560)\n",
      "-> Shape of bad data (13, 563) good data (13, 563)\n",
      "(13, 1000, 56) (13, 1000, 56)\n",
      "(1000, 56)\n",
      "[-1.8649303778102402, 1.8649303778102402] [-2.7851805314291407, 2.7851805314291407] [-6.073568431883186, 6.073568431883186]\n",
      "(56,) 0.79501245826 -0.818628670098\n",
      "Size of the concatenated data:  (26, 56) Number time windows :  56\n",
      "Size of label for classif:  26\n",
      "th_perm :  73.0769230769 76.9230769231 88.4615384615\n"
     ]
    },
    {
     "name": "stderr",
     "output_type": "stream",
     "text": [
      "/home/karim/anaconda3/lib/python3.5/site-packages/matplotlib/axes/_axes.py:545: UserWarning: No labelled objects found. Use label='...' kwarg on individual plots.\n",
      "  warnings.warn(\"No labelled objects found. \"\n"
     ]
    },
    {
     "name": "stdout",
     "output_type": "stream",
     "text": [
      "VACJ Channel :  d'9-d'8 Label :  MTG Bad shape :  (2560, 13) Good shape :  (2560, 13)\n",
      "Setting up low-pass filter at 10 Hz\n",
      "h_trans_bandwidth chosen to be 2.5 Hz\n",
      "Filter length of 1352 samples (2.641 sec) selected\n",
      "Setting up low-pass filter at 10 Hz\n",
      "h_trans_bandwidth chosen to be 2.5 Hz\n",
      "Filter length of 1352 samples (2.641 sec) selected\n",
      "Size of filtered data bad : (13, 2560) filtered data good :  (13, 2560)\n",
      "time points :  (2560,)\n",
      "Applying baseline correction (mode: mean)\n",
      "Applying baseline correction (mode: mean)\n",
      "Size norm & filtered data 0 :  (13, 2560) (13, 2560)\n",
      "-> Shape of bad data (13, 563) good data (13, 563)\n",
      "(13, 1000, 56) (13, 1000, 56)\n",
      "(1000, 56)\n",
      "[-1.9601099017199983, 1.9601099017199983] [-2.9350475823399038, 2.9350475823399038] [-5.0199525207257407, 5.0199525207257407]\n",
      "(56,) 0.793579275455 -2.06699719379\n",
      "Size of the concatenated data:  (26, 56) Number time windows :  56\n",
      "Size of label for classif:  26\n",
      "th_perm :  73.0769230769 76.9230769231 92.3076923077\n"
     ]
    },
    {
     "name": "stderr",
     "output_type": "stream",
     "text": [
      "/home/karim/anaconda3/lib/python3.5/site-packages/matplotlib/axes/_axes.py:545: UserWarning: No labelled objects found. Use label='...' kwarg on individual plots.\n",
      "  warnings.warn(\"No labelled objects found. \"\n"
     ]
    },
    {
     "name": "stdout",
     "output_type": "stream",
     "text": [
      "VACJ Channel :  d'10-d'9 Label :  MTG Bad shape :  (2560, 13) Good shape :  (2560, 13)\n",
      "Setting up low-pass filter at 10 Hz\n",
      "h_trans_bandwidth chosen to be 2.5 Hz\n",
      "Filter length of 1352 samples (2.641 sec) selected\n",
      "Setting up low-pass filter at 10 Hz\n",
      "h_trans_bandwidth chosen to be 2.5 Hz\n",
      "Filter length of 1352 samples (2.641 sec) selected\n",
      "Size of filtered data bad : (13, 2560) filtered data good :  (13, 2560)\n",
      "time points :  (2560,)\n",
      "Applying baseline correction (mode: mean)\n",
      "Applying baseline correction (mode: mean)\n",
      "Size norm & filtered data 0 :  (13, 2560) (13, 2560)\n",
      "-> Shape of bad data (13, 563) good data (13, 563)\n",
      "(13, 1000, 56) (13, 1000, 56)\n",
      "(1000, 56)\n",
      "[-1.8394684587472381, 1.8394684587472381] [-2.862225546109963, 2.862225546109963] [-6.4470325729785385, 6.4470325729785385]\n",
      "(56,) 2.59523191262 -1.00656586511\n",
      "Size of the concatenated data:  (26, 56) Number time windows :  56\n",
      "Size of label for classif:  26\n",
      "th_perm :  73.0769230769 76.9230769231 92.3076923077\n"
     ]
    },
    {
     "name": "stderr",
     "output_type": "stream",
     "text": [
      "/home/karim/anaconda3/lib/python3.5/site-packages/matplotlib/axes/_axes.py:545: UserWarning: No labelled objects found. Use label='...' kwarg on individual plots.\n",
      "  warnings.warn(\"No labelled objects found. \"\n"
     ]
    },
    {
     "name": "stdout",
     "output_type": "stream",
     "text": [
      "VACJ Channel :  d'11-d'10 Label :  MTG Bad shape :  (2560, 13) Good shape :  (2560, 13)\n",
      "Setting up low-pass filter at 10 Hz\n",
      "h_trans_bandwidth chosen to be 2.5 Hz\n",
      "Filter length of 1352 samples (2.641 sec) selected\n",
      "Setting up low-pass filter at 10 Hz\n",
      "h_trans_bandwidth chosen to be 2.5 Hz\n",
      "Filter length of 1352 samples (2.641 sec) selected\n",
      "Size of filtered data bad : (13, 2560) filtered data good :  (13, 2560)\n",
      "time points :  (2560,)\n",
      "Applying baseline correction (mode: mean)\n",
      "Applying baseline correction (mode: mean)\n",
      "Size norm & filtered data 0 :  (13, 2560) (13, 2560)\n",
      "-> Shape of bad data (13, 563) good data (13, 563)\n",
      "(13, 1000, 56) (13, 1000, 56)\n",
      "(1000, 56)\n",
      "[-1.8646807632083291, 1.8646807632083291] [-2.8321117646270904, 2.8321117646270904] [-5.5448452074272474, 5.5448452074272474]\n",
      "(56,) 2.00059959737 -0.834947772742\n",
      "Size of the concatenated data:  (26, 56) Number time windows :  56\n",
      "Size of label for classif:  26\n",
      "th_perm :  69.2307692308 76.9230769231 88.4615384615\n"
     ]
    },
    {
     "name": "stderr",
     "output_type": "stream",
     "text": [
      "/home/karim/anaconda3/lib/python3.5/site-packages/matplotlib/axes/_axes.py:545: UserWarning: No labelled objects found. Use label='...' kwarg on individual plots.\n",
      "  warnings.warn(\"No labelled objects found. \"\n"
     ]
    },
    {
     "name": "stdout",
     "output_type": "stream",
     "text": [
      "VACJ Channel :  d'12-d'11 Label :  MTG Bad shape :  (2560, 13) Good shape :  (2560, 13)\n",
      "Setting up low-pass filter at 10 Hz\n",
      "h_trans_bandwidth chosen to be 2.5 Hz\n",
      "Filter length of 1352 samples (2.641 sec) selected\n",
      "Setting up low-pass filter at 10 Hz\n",
      "h_trans_bandwidth chosen to be 2.5 Hz\n",
      "Filter length of 1352 samples (2.641 sec) selected\n",
      "Size of filtered data bad : (13, 2560) filtered data good :  (13, 2560)\n",
      "time points :  (2560,)\n",
      "Applying baseline correction (mode: mean)\n",
      "Applying baseline correction (mode: mean)\n",
      "Size norm & filtered data 0 :  (13, 2560) (13, 2560)\n",
      "-> Shape of bad data (13, 563) good data (13, 563)\n",
      "(13, 1000, 56) (13, 1000, 56)\n",
      "(1000, 56)\n",
      "[-1.8583517487541927, 1.8583517487541927] [-2.9842976911577788, 2.9842976911577788] [-4.5418018916949938, 4.5418018916949938]\n",
      "(56,) 2.5266386253 -1.49912052773\n",
      "Size of the concatenated data:  (26, 56) Number time windows :  56\n",
      "Size of label for classif:  26\n",
      "th_perm :  69.2307692308 76.9230769231 88.4615384615\n"
     ]
    },
    {
     "name": "stderr",
     "output_type": "stream",
     "text": [
      "/home/karim/anaconda3/lib/python3.5/site-packages/matplotlib/axes/_axes.py:545: UserWarning: No labelled objects found. Use label='...' kwarg on individual plots.\n",
      "  warnings.warn(\"No labelled objects found. \"\n"
     ]
    },
    {
     "name": "stdout",
     "output_type": "stream",
     "text": [
      "VACJ Channel :  e'2-e'1 Label :  IFGOp-IG Bad shape :  (2560, 13) Good shape :  (2560, 13)\n",
      "Setting up low-pass filter at 10 Hz\n",
      "h_trans_bandwidth chosen to be 2.5 Hz\n",
      "Filter length of 1352 samples (2.641 sec) selected\n",
      "Setting up low-pass filter at 10 Hz\n",
      "h_trans_bandwidth chosen to be 2.5 Hz\n",
      "Filter length of 1352 samples (2.641 sec) selected\n",
      "Size of filtered data bad : (13, 2560) filtered data good :  (13, 2560)\n",
      "time points :  (2560,)\n",
      "Applying baseline correction (mode: mean)\n",
      "Applying baseline correction (mode: mean)\n",
      "Size norm & filtered data 0 :  (13, 2560) (13, 2560)\n",
      "-> Shape of bad data (13, 563) good data (13, 563)\n",
      "(13, 1000, 56) (13, 1000, 56)\n",
      "(1000, 56)\n",
      "[-1.8679903540494069, 1.8679903540494069] [-2.8729552638934606, 2.8729552638934606] [-4.904644260533507, 4.904644260533507]\n",
      "(56,) 1.15130443001 -2.09091376806\n",
      "Size of the concatenated data:  (26, 56) Number time windows :  56\n",
      "Size of label for classif:  26\n",
      "th_perm :  73.0769230769 76.9230769231 92.3076923077\n"
     ]
    },
    {
     "name": "stderr",
     "output_type": "stream",
     "text": [
      "/home/karim/anaconda3/lib/python3.5/site-packages/matplotlib/axes/_axes.py:545: UserWarning: No labelled objects found. Use label='...' kwarg on individual plots.\n",
      "  warnings.warn(\"No labelled objects found. \"\n"
     ]
    },
    {
     "name": "stdout",
     "output_type": "stream",
     "text": [
      "VACJ Channel :  e'3-e'2 Label :  IFGOp-IFGTr&IFGOp-IG Bad shape :  (2560, 13) Good shape :  (2560, 13)\n",
      "Setting up low-pass filter at 10 Hz\n",
      "h_trans_bandwidth chosen to be 2.5 Hz\n",
      "Filter length of 1352 samples (2.641 sec) selected\n",
      "Setting up low-pass filter at 10 Hz\n",
      "h_trans_bandwidth chosen to be 2.5 Hz\n",
      "Filter length of 1352 samples (2.641 sec) selected\n",
      "Size of filtered data bad : (13, 2560) filtered data good :  (13, 2560)\n",
      "time points :  (2560,)\n",
      "Applying baseline correction (mode: mean)\n",
      "Applying baseline correction (mode: mean)\n",
      "Size norm & filtered data 0 :  (13, 2560) (13, 2560)\n",
      "-> Shape of bad data (13, 563) good data (13, 563)\n",
      "(13, 1000, 56) (13, 1000, 56)\n",
      "(1000, 56)\n",
      "[-1.9274461377647982, 1.9274461377647982] [-2.9714856142074089, 2.9714856142074089] [-4.6131154821067355, 4.6131154821067355]\n",
      "(56,) 0.825690939834 -1.79604845255\n",
      "Size of the concatenated data:  (26, 56) Number time windows :  56\n",
      "Size of label for classif:  26\n",
      "th_perm :  73.0769230769 76.9230769231 88.4615384615\n"
     ]
    },
    {
     "name": "stderr",
     "output_type": "stream",
     "text": [
      "/home/karim/anaconda3/lib/python3.5/site-packages/matplotlib/axes/_axes.py:545: UserWarning: No labelled objects found. Use label='...' kwarg on individual plots.\n",
      "  warnings.warn(\"No labelled objects found. \"\n"
     ]
    },
    {
     "name": "stdout",
     "output_type": "stream",
     "text": [
      "VACJ Channel :  e'4-e'3 Label :  IFGOp-IFGTr Bad shape :  (2560, 13) Good shape :  (2560, 13)\n",
      "Setting up low-pass filter at 10 Hz\n",
      "h_trans_bandwidth chosen to be 2.5 Hz\n",
      "Filter length of 1352 samples (2.641 sec) selected\n",
      "Setting up low-pass filter at 10 Hz\n",
      "h_trans_bandwidth chosen to be 2.5 Hz\n",
      "Filter length of 1352 samples (2.641 sec) selected\n",
      "Size of filtered data bad : (13, 2560) filtered data good :  (13, 2560)\n",
      "time points :  (2560,)\n",
      "Applying baseline correction (mode: mean)\n",
      "Applying baseline correction (mode: mean)\n",
      "Size norm & filtered data 0 :  (13, 2560) (13, 2560)\n",
      "-> Shape of bad data (13, 563) good data (13, 563)\n",
      "(13, 1000, 56) (13, 1000, 56)\n",
      "(1000, 56)\n",
      "[-1.886095009518161, 1.886095009518161] [-2.7964593128937483, 2.7964593128937483] [-5.9210791549339987, 5.9210791549339987]\n",
      "(56,) 0.760625432153 -1.32483345414\n",
      "Size of the concatenated data:  (26, 56) Number time windows :  56\n",
      "Size of label for classif:  26\n",
      "th_perm :  73.0769230769 76.9230769231 92.3076923077\n"
     ]
    },
    {
     "name": "stderr",
     "output_type": "stream",
     "text": [
      "/home/karim/anaconda3/lib/python3.5/site-packages/matplotlib/axes/_axes.py:545: UserWarning: No labelled objects found. Use label='...' kwarg on individual plots.\n",
      "  warnings.warn(\"No labelled objects found. \"\n"
     ]
    },
    {
     "name": "stdout",
     "output_type": "stream",
     "text": [
      "VACJ Channel :  e'5-e'4 Label :  IFGOp-IFGTr Bad shape :  (2560, 13) Good shape :  (2560, 13)\n",
      "Setting up low-pass filter at 10 Hz\n",
      "h_trans_bandwidth chosen to be 2.5 Hz\n",
      "Filter length of 1352 samples (2.641 sec) selected\n",
      "Setting up low-pass filter at 10 Hz\n",
      "h_trans_bandwidth chosen to be 2.5 Hz\n",
      "Filter length of 1352 samples (2.641 sec) selected\n",
      "Size of filtered data bad : (13, 2560) filtered data good :  (13, 2560)\n",
      "time points :  (2560,)\n",
      "Applying baseline correction (mode: mean)\n",
      "Applying baseline correction (mode: mean)\n",
      "Size norm & filtered data 0 :  (13, 2560) (13, 2560)\n",
      "-> Shape of bad data (13, 563) good data (13, 563)\n",
      "(13, 1000, 56) (13, 1000, 56)\n",
      "(1000, 56)\n",
      "[-1.8406040000863164, 1.8406040000863164] [-2.775162721261343, 2.775162721261343] [-4.1754751088886417, 4.1754751088886417]\n",
      "(56,) 1.18560792934 -1.36340311791\n",
      "Size of the concatenated data:  (26, 56) Number time windows :  56\n",
      "Size of label for classif:  26\n",
      "th_perm :  73.0769230769 76.9230769231 88.4615384615\n"
     ]
    },
    {
     "name": "stderr",
     "output_type": "stream",
     "text": [
      "/home/karim/anaconda3/lib/python3.5/site-packages/matplotlib/axes/_axes.py:545: UserWarning: No labelled objects found. Use label='...' kwarg on individual plots.\n",
      "  warnings.warn(\"No labelled objects found. \"\n"
     ]
    },
    {
     "name": "stdout",
     "output_type": "stream",
     "text": [
      "VACJ Channel :  e'9-e'8 Label :  IFGOp-IFGTr Bad shape :  (2560, 13) Good shape :  (2560, 13)\n",
      "Setting up low-pass filter at 10 Hz\n",
      "h_trans_bandwidth chosen to be 2.5 Hz\n",
      "Filter length of 1352 samples (2.641 sec) selected\n",
      "Setting up low-pass filter at 10 Hz\n",
      "h_trans_bandwidth chosen to be 2.5 Hz\n",
      "Filter length of 1352 samples (2.641 sec) selected\n",
      "Size of filtered data bad : (13, 2560) filtered data good :  (13, 2560)\n",
      "time points :  (2560,)\n",
      "Applying baseline correction (mode: mean)\n",
      "Applying baseline correction (mode: mean)\n",
      "Size norm & filtered data 0 :  (13, 2560) (13, 2560)\n",
      "-> Shape of bad data (13, 563) good data (13, 563)\n",
      "(13, 1000, 56) (13, 1000, 56)\n",
      "(1000, 56)\n",
      "[-1.9184540182880752, 1.9184540182880752] [-2.8226095803784466, 2.8226095803784466] [-4.7653205013179649, 4.7653205013179649]\n",
      "(56,) 3.24567960363 -2.11140361798\n",
      "Size of the concatenated data:  (26, 56) Number time windows :  56\n",
      "Size of label for classif:  26\n",
      "th_perm :  73.0769230769 76.9230769231 92.3076923077\n"
     ]
    },
    {
     "name": "stderr",
     "output_type": "stream",
     "text": [
      "/home/karim/anaconda3/lib/python3.5/site-packages/matplotlib/axes/_axes.py:545: UserWarning: No labelled objects found. Use label='...' kwarg on individual plots.\n",
      "  warnings.warn(\"No labelled objects found. \"\n"
     ]
    },
    {
     "name": "stdout",
     "output_type": "stream",
     "text": [
      "VACJ Channel :  e'10-e'9 Label :  LCR&IFGOp-IFGTr Bad shape :  (2560, 13) Good shape :  (2560, 13)\n",
      "Setting up low-pass filter at 10 Hz\n",
      "h_trans_bandwidth chosen to be 2.5 Hz\n",
      "Filter length of 1352 samples (2.641 sec) selected\n",
      "Setting up low-pass filter at 10 Hz\n",
      "h_trans_bandwidth chosen to be 2.5 Hz\n",
      "Filter length of 1352 samples (2.641 sec) selected\n",
      "Size of filtered data bad : (13, 2560) filtered data good :  (13, 2560)\n",
      "time points :  (2560,)\n",
      "Applying baseline correction (mode: mean)\n",
      "Applying baseline correction (mode: mean)\n",
      "Size norm & filtered data 0 :  (13, 2560) (13, 2560)\n",
      "-> Shape of bad data (13, 563) good data (13, 563)\n",
      "(13, 1000, 56) (13, 1000, 56)\n",
      "(1000, 56)\n",
      "[-1.8605549938691661, 1.8605549938691661] [-2.6146951813849837, 2.6146951813849837] [-5.2488167951617042, 5.2488167951617042]\n",
      "(56,) 1.7105738881 -1.75312448247\n",
      "Size of the concatenated data:  (26, 56) Number time windows :  56\n",
      "Size of label for classif:  26\n",
      "th_perm :  73.0769230769 76.9230769231 88.4615384615\n"
     ]
    },
    {
     "name": "stderr",
     "output_type": "stream",
     "text": [
      "/home/karim/anaconda3/lib/python3.5/site-packages/matplotlib/axes/_axes.py:545: UserWarning: No labelled objects found. Use label='...' kwarg on individual plots.\n",
      "  warnings.warn(\"No labelled objects found. \"\n"
     ]
    },
    {
     "name": "stdout",
     "output_type": "stream",
     "text": [
      "VACJ Channel :  f2-f1 Label :  SRoG Bad shape :  (2560, 13) Good shape :  (2560, 13)\n",
      "Setting up low-pass filter at 10 Hz\n",
      "h_trans_bandwidth chosen to be 2.5 Hz\n",
      "Filter length of 1352 samples (2.641 sec) selected\n",
      "Setting up low-pass filter at 10 Hz\n",
      "h_trans_bandwidth chosen to be 2.5 Hz\n",
      "Filter length of 1352 samples (2.641 sec) selected\n",
      "Size of filtered data bad : (13, 2560) filtered data good :  (13, 2560)\n",
      "time points :  (2560,)\n",
      "Applying baseline correction (mode: mean)\n",
      "Applying baseline correction (mode: mean)\n",
      "Size norm & filtered data 0 :  (13, 2560) (13, 2560)\n",
      "-> Shape of bad data (13, 563) good data (13, 563)\n",
      "(13, 1000, 56) (13, 1000, 56)\n",
      "(1000, 56)\n",
      "[-1.949986279894109, 1.949986279894109] [-3.0258922415537293, 3.0258922415537293] [-5.3475051140855241, 5.3475051140855241]\n",
      "(56,) 0.970760859451 -2.12638568435\n",
      "Size of the concatenated data:  (26, 56) Number time windows :  56\n",
      "Size of label for classif:  26\n",
      "th_perm :  73.0769230769 76.9230769231 88.4615384615\n"
     ]
    },
    {
     "name": "stderr",
     "output_type": "stream",
     "text": [
      "/home/karim/anaconda3/lib/python3.5/site-packages/matplotlib/axes/_axes.py:545: UserWarning: No labelled objects found. Use label='...' kwarg on individual plots.\n",
      "  warnings.warn(\"No labelled objects found. \"\n"
     ]
    },
    {
     "name": "stdout",
     "output_type": "stream",
     "text": [
      "VACJ Channel :  f10-f9 Label :  MFG Bad shape :  (2560, 13) Good shape :  (2560, 13)\n",
      "Setting up low-pass filter at 10 Hz\n",
      "h_trans_bandwidth chosen to be 2.5 Hz\n",
      "Filter length of 1352 samples (2.641 sec) selected\n",
      "Setting up low-pass filter at 10 Hz\n",
      "h_trans_bandwidth chosen to be 2.5 Hz\n",
      "Filter length of 1352 samples (2.641 sec) selected\n",
      "Size of filtered data bad : (13, 2560) filtered data good :  (13, 2560)\n",
      "time points :  (2560,)\n",
      "Applying baseline correction (mode: mean)\n",
      "Applying baseline correction (mode: mean)\n",
      "Size norm & filtered data 0 :  (13, 2560) (13, 2560)\n",
      "-> Shape of bad data (13, 563) good data (13, 563)\n",
      "(13, 1000, 56) (13, 1000, 56)\n",
      "(1000, 56)\n",
      "[-1.8505176223982132, 1.8505176223982132] [-2.7035012786967156, 2.7035012786967156] [-4.9121946403721335, 4.9121946403721335]\n",
      "(56,) 2.45238958948 -1.44456640878\n",
      "Size of the concatenated data:  (26, 56) Number time windows :  56\n",
      "Size of label for classif:  26\n",
      "th_perm :  73.0769230769 76.9230769231 92.3076923077\n"
     ]
    },
    {
     "name": "stderr",
     "output_type": "stream",
     "text": [
      "/home/karim/anaconda3/lib/python3.5/site-packages/matplotlib/axes/_axes.py:545: UserWarning: No labelled objects found. Use label='...' kwarg on individual plots.\n",
      "  warnings.warn(\"No labelled objects found. \"\n"
     ]
    },
    {
     "name": "stdout",
     "output_type": "stream",
     "text": [
      "VACJ Channel :  f11-f10 Label :  MFG Bad shape :  (2560, 13) Good shape :  (2560, 13)\n",
      "Setting up low-pass filter at 10 Hz\n",
      "h_trans_bandwidth chosen to be 2.5 Hz\n",
      "Filter length of 1352 samples (2.641 sec) selected\n",
      "Setting up low-pass filter at 10 Hz\n",
      "h_trans_bandwidth chosen to be 2.5 Hz\n",
      "Filter length of 1352 samples (2.641 sec) selected\n",
      "Size of filtered data bad : (13, 2560) filtered data good :  (13, 2560)\n",
      "time points :  (2560,)\n",
      "Applying baseline correction (mode: mean)\n",
      "Applying baseline correction (mode: mean)\n",
      "Size norm & filtered data 0 :  (13, 2560) (13, 2560)\n",
      "-> Shape of bad data (13, 563) good data (13, 563)\n",
      "(13, 1000, 56) (13, 1000, 56)\n",
      "(1000, 56)\n",
      "[-1.8721026990924428, 1.8721026990924428] [-2.8263016141620971, 2.8263016141620971] [-4.5611056073416245, 4.5611056073416245]\n",
      "(56,) 2.09921810569 -2.38443411743\n",
      "Size of the concatenated data:  (26, 56) Number time windows :  56\n",
      "Size of label for classif:  26\n",
      "th_perm :  73.0769230769 76.9230769231 92.3076923077\n"
     ]
    },
    {
     "name": "stderr",
     "output_type": "stream",
     "text": [
      "/home/karim/anaconda3/lib/python3.5/site-packages/matplotlib/axes/_axes.py:545: UserWarning: No labelled objects found. Use label='...' kwarg on individual plots.\n",
      "  warnings.warn(\"No labelled objects found. \"\n"
     ]
    },
    {
     "name": "stdout",
     "output_type": "stream",
     "text": [
      "VACJ Channel :  f12-f11 Label :  MFG-LCR&MFG Bad shape :  (2560, 13) Good shape :  (2560, 13)\n",
      "Setting up low-pass filter at 10 Hz\n",
      "h_trans_bandwidth chosen to be 2.5 Hz\n",
      "Filter length of 1352 samples (2.641 sec) selected\n",
      "Setting up low-pass filter at 10 Hz\n",
      "h_trans_bandwidth chosen to be 2.5 Hz\n",
      "Filter length of 1352 samples (2.641 sec) selected\n",
      "Size of filtered data bad : (13, 2560) filtered data good :  (13, 2560)\n",
      "time points :  (2560,)\n",
      "Applying baseline correction (mode: mean)\n",
      "Applying baseline correction (mode: mean)\n",
      "Size norm & filtered data 0 :  (13, 2560) (13, 2560)\n",
      "-> Shape of bad data (13, 563) good data (13, 563)\n",
      "(13, 1000, 56) (13, 1000, 56)\n",
      "(1000, 56)\n",
      "[-1.8170670515998062, 1.8170670515998062] [-2.9132900619417268, 2.9132900619417268] [-5.4707465263994797, 5.4707465263994797]\n",
      "(56,) 1.75441470644 -1.860790894\n",
      "Size of the concatenated data:  (26, 56) Number time windows :  56\n",
      "Size of label for classif:  26\n",
      "th_perm :  69.2307692308 76.9230769231 92.3076923077\n"
     ]
    },
    {
     "name": "stderr",
     "output_type": "stream",
     "text": [
      "/home/karim/anaconda3/lib/python3.5/site-packages/matplotlib/axes/_axes.py:545: UserWarning: No labelled objects found. Use label='...' kwarg on individual plots.\n",
      "  warnings.warn(\"No labelled objects found. \"\n"
     ]
    },
    {
     "name": "stdout",
     "output_type": "stream",
     "text": [
      "VACJ Channel :  j4-j3 Label :  MTG Bad shape :  (2560, 13) Good shape :  (2560, 13)\n",
      "Setting up low-pass filter at 10 Hz\n",
      "h_trans_bandwidth chosen to be 2.5 Hz\n",
      "Filter length of 1352 samples (2.641 sec) selected\n",
      "Setting up low-pass filter at 10 Hz\n",
      "h_trans_bandwidth chosen to be 2.5 Hz\n",
      "Filter length of 1352 samples (2.641 sec) selected\n",
      "Size of filtered data bad : (13, 2560) filtered data good :  (13, 2560)\n",
      "time points :  (2560,)\n",
      "Applying baseline correction (mode: mean)\n",
      "Applying baseline correction (mode: mean)\n",
      "Size norm & filtered data 0 :  (13, 2560) (13, 2560)\n",
      "-> Shape of bad data (13, 563) good data (13, 563)\n",
      "(13, 1000, 56) (13, 1000, 56)\n",
      "(1000, 56)\n",
      "[-1.8837773038430055, 1.8837773038430055] [-2.7842405995932, 2.7842405995932] [-5.1260771692524605, 5.1260771692524605]\n",
      "(56,) 2.34865000362 -1.74642810695\n",
      "Size of the concatenated data:  (26, 56) Number time windows :  56\n",
      "Size of label for classif:  26\n",
      "th_perm :  69.2307692308 76.9230769231 88.4615384615\n"
     ]
    },
    {
     "name": "stderr",
     "output_type": "stream",
     "text": [
      "/home/karim/anaconda3/lib/python3.5/site-packages/matplotlib/axes/_axes.py:545: UserWarning: No labelled objects found. Use label='...' kwarg on individual plots.\n",
      "  warnings.warn(\"No labelled objects found. \"\n"
     ]
    },
    {
     "name": "stdout",
     "output_type": "stream",
     "text": [
      "VACJ Channel :  j5-j4 Label :  LCR-MTG&MTG Bad shape :  (2560, 13) Good shape :  (2560, 13)\n",
      "Setting up low-pass filter at 10 Hz\n",
      "h_trans_bandwidth chosen to be 2.5 Hz\n",
      "Filter length of 1352 samples (2.641 sec) selected\n",
      "Setting up low-pass filter at 10 Hz\n",
      "h_trans_bandwidth chosen to be 2.5 Hz\n",
      "Filter length of 1352 samples (2.641 sec) selected\n",
      "Size of filtered data bad : (13, 2560) filtered data good :  (13, 2560)\n",
      "time points :  (2560,)\n",
      "Applying baseline correction (mode: mean)\n",
      "Applying baseline correction (mode: mean)\n",
      "Size norm & filtered data 0 :  (13, 2560) (13, 2560)\n",
      "-> Shape of bad data (13, 563) good data (13, 563)\n",
      "(13, 1000, 56) (13, 1000, 56)\n",
      "(1000, 56)\n",
      "[-1.9340501465457383, 1.9340501465457383] [-3.0075585360797614, 3.0075585360797614] [-6.209805998029803, 6.209805998029803]\n",
      "(56,) 2.58135963333 -0.657958083557\n",
      "Size of the concatenated data:  (26, 56) Number time windows :  56\n",
      "Size of label for classif:  26\n",
      "th_perm :  73.0769230769 76.9230769231 88.4615384615\n"
     ]
    },
    {
     "name": "stderr",
     "output_type": "stream",
     "text": [
      "/home/karim/anaconda3/lib/python3.5/site-packages/matplotlib/axes/_axes.py:545: UserWarning: No labelled objects found. Use label='...' kwarg on individual plots.\n",
      "  warnings.warn(\"No labelled objects found. \"\n"
     ]
    },
    {
     "name": "stdout",
     "output_type": "stream",
     "text": [
      "VACJ Channel :  j6-j5 Label :  LCR&LCR-MTG Bad shape :  (2560, 13) Good shape :  (2560, 13)\n",
      "Setting up low-pass filter at 10 Hz\n",
      "h_trans_bandwidth chosen to be 2.5 Hz\n",
      "Filter length of 1352 samples (2.641 sec) selected\n",
      "Setting up low-pass filter at 10 Hz\n",
      "h_trans_bandwidth chosen to be 2.5 Hz\n",
      "Filter length of 1352 samples (2.641 sec) selected\n",
      "Size of filtered data bad : (13, 2560) filtered data good :  (13, 2560)\n",
      "time points :  (2560,)\n",
      "Applying baseline correction (mode: mean)\n",
      "Applying baseline correction (mode: mean)\n",
      "Size norm & filtered data 0 :  (13, 2560) (13, 2560)\n",
      "-> Shape of bad data (13, 563) good data (13, 563)\n",
      "(13, 1000, 56) (13, 1000, 56)\n",
      "(1000, 56)\n",
      "[-1.9398035932676629, 1.9398035932676629] [-2.8843470179007635, 2.8843470179007635] [-4.8380805794501827, 4.8380805794501827]\n",
      "(56,) 2.20840660778 -1.56347241358\n",
      "Size of the concatenated data:  (26, 56) Number time windows :  56\n",
      "Size of label for classif:  26\n",
      "th_perm :  69.2307692308 76.9230769231 88.4615384615\n"
     ]
    },
    {
     "name": "stderr",
     "output_type": "stream",
     "text": [
      "/home/karim/anaconda3/lib/python3.5/site-packages/matplotlib/axes/_axes.py:545: UserWarning: No labelled objects found. Use label='...' kwarg on individual plots.\n",
      "  warnings.warn(\"No labelled objects found. \"\n"
     ]
    },
    {
     "name": "stdout",
     "output_type": "stream",
     "text": [
      "VACJ Channel :  j7-j6 Label :  LCR-skull&LCR Bad shape :  (2560, 13) Good shape :  (2560, 13)\n",
      "Setting up low-pass filter at 10 Hz\n",
      "h_trans_bandwidth chosen to be 2.5 Hz\n",
      "Filter length of 1352 samples (2.641 sec) selected\n",
      "Setting up low-pass filter at 10 Hz\n",
      "h_trans_bandwidth chosen to be 2.5 Hz\n",
      "Filter length of 1352 samples (2.641 sec) selected\n",
      "Size of filtered data bad : (13, 2560) filtered data good :  (13, 2560)\n",
      "time points :  (2560,)\n",
      "Applying baseline correction (mode: mean)\n",
      "Applying baseline correction (mode: mean)\n",
      "Size norm & filtered data 0 :  (13, 2560) (13, 2560)\n",
      "-> Shape of bad data (13, 563) good data (13, 563)\n",
      "(13, 1000, 56) (13, 1000, 56)\n",
      "(1000, 56)\n",
      "[-1.8365425386808676, 1.8365425386808676] [-2.9193755046443948, 2.9193755046443948] [-6.0211196460766354, 6.0211196460766354]\n",
      "(56,) 2.81704490734 -1.51000918062\n",
      "Size of the concatenated data:  (26, 56) Number time windows :  56\n",
      "Size of label for classif:  26\n",
      "th_perm :  73.0769230769 76.9230769231 92.3076923077\n"
     ]
    },
    {
     "name": "stderr",
     "output_type": "stream",
     "text": [
      "/home/karim/anaconda3/lib/python3.5/site-packages/matplotlib/axes/_axes.py:545: UserWarning: No labelled objects found. Use label='...' kwarg on individual plots.\n",
      "  warnings.warn(\"No labelled objects found. \"\n"
     ]
    },
    {
     "name": "stdout",
     "output_type": "stream",
     "text": [
      "VACJ Channel :  j8-j7 Label :  skull&LCR-skull Bad shape :  (2560, 13) Good shape :  (2560, 13)\n",
      "Setting up low-pass filter at 10 Hz\n",
      "h_trans_bandwidth chosen to be 2.5 Hz\n",
      "Filter length of 1352 samples (2.641 sec) selected\n",
      "Setting up low-pass filter at 10 Hz\n",
      "h_trans_bandwidth chosen to be 2.5 Hz\n",
      "Filter length of 1352 samples (2.641 sec) selected\n",
      "Size of filtered data bad : (13, 2560) filtered data good :  (13, 2560)\n",
      "time points :  (2560,)\n",
      "Applying baseline correction (mode: mean)\n",
      "Applying baseline correction (mode: mean)\n",
      "Size norm & filtered data 0 :  (13, 2560) (13, 2560)\n",
      "-> Shape of bad data (13, 563) good data (13, 563)\n",
      "(13, 1000, 56) (13, 1000, 56)\n",
      "(1000, 56)\n",
      "[-1.8530507392998712, 1.8530507392998712] [-2.9913148512043466, 2.9913148512043466] [-5.5659322987832036, 5.5659322987832036]\n",
      "(56,) 2.21971587724 -1.78734747544\n",
      "Size of the concatenated data:  (26, 56) Number time windows :  56\n",
      "Size of label for classif:  26\n",
      "th_perm :  73.0769230769 80.7692307692 88.4615384615\n"
     ]
    },
    {
     "name": "stderr",
     "output_type": "stream",
     "text": [
      "/home/karim/anaconda3/lib/python3.5/site-packages/matplotlib/axes/_axes.py:545: UserWarning: No labelled objects found. Use label='...' kwarg on individual plots.\n",
      "  warnings.warn(\"No labelled objects found. \"\n"
     ]
    },
    {
     "name": "stdout",
     "output_type": "stream",
     "text": [
      "VACJ Channel :  j'2-j'1 Label :  pPirtT&pPirT-Ent Bad shape :  (2560, 13) Good shape :  (2560, 13)\n",
      "Setting up low-pass filter at 10 Hz\n",
      "h_trans_bandwidth chosen to be 2.5 Hz\n",
      "Filter length of 1352 samples (2.641 sec) selected\n",
      "Setting up low-pass filter at 10 Hz\n",
      "h_trans_bandwidth chosen to be 2.5 Hz\n",
      "Filter length of 1352 samples (2.641 sec) selected\n",
      "Size of filtered data bad : (13, 2560) filtered data good :  (13, 2560)\n",
      "time points :  (2560,)\n",
      "Applying baseline correction (mode: mean)\n",
      "Applying baseline correction (mode: mean)\n",
      "Size norm & filtered data 0 :  (13, 2560) (13, 2560)\n",
      "-> Shape of bad data (13, 563) good data (13, 563)\n",
      "(13, 1000, 56) (13, 1000, 56)\n",
      "(1000, 56)\n",
      "[-1.7834232655651834, 1.7834232655651834] [-2.6337614549061747, 2.6337614549061747] [-4.3001596396780464, 4.3001596396780464]\n",
      "(56,) 1.21264323857 -1.4914705251\n",
      "Size of the concatenated data:  (26, 56) Number time windows :  56\n",
      "Size of label for classif:  26\n",
      "th_perm :  69.2307692308 76.9230769231 88.4615384615\n"
     ]
    },
    {
     "name": "stderr",
     "output_type": "stream",
     "text": [
      "/home/karim/anaconda3/lib/python3.5/site-packages/matplotlib/axes/_axes.py:545: UserWarning: No labelled objects found. Use label='...' kwarg on individual plots.\n",
      "  warnings.warn(\"No labelled objects found. \"\n"
     ]
    },
    {
     "name": "stdout",
     "output_type": "stream",
     "text": [
      "VACJ Channel :  k2-k1 Label :  pgACC Bad shape :  (2560, 13) Good shape :  (2560, 13)\n",
      "Setting up low-pass filter at 10 Hz\n",
      "h_trans_bandwidth chosen to be 2.5 Hz\n",
      "Filter length of 1352 samples (2.641 sec) selected\n",
      "Setting up low-pass filter at 10 Hz\n",
      "h_trans_bandwidth chosen to be 2.5 Hz\n",
      "Filter length of 1352 samples (2.641 sec) selected\n",
      "Size of filtered data bad : (13, 2560) filtered data good :  (13, 2560)\n",
      "time points :  (2560,)\n",
      "Applying baseline correction (mode: mean)\n",
      "Applying baseline correction (mode: mean)\n",
      "Size norm & filtered data 0 :  (13, 2560) (13, 2560)\n",
      "-> Shape of bad data (13, 563) good data (13, 563)\n",
      "(13, 1000, 56) (13, 1000, 56)\n",
      "(1000, 56)\n",
      "[-1.8162787572394841, 1.8162787572394841] [-2.9439791046853556, 2.9439791046853556] [-5.0420135444678245, 5.0420135444678245]\n",
      "(56,) 1.03423357196 -1.5279243874\n",
      "Size of the concatenated data:  (26, 56) Number time windows :  56\n",
      "Size of label for classif:  26\n",
      "th_perm :  73.0769230769 80.7692307692 88.4615384615\n"
     ]
    },
    {
     "name": "stderr",
     "output_type": "stream",
     "text": [
      "/home/karim/anaconda3/lib/python3.5/site-packages/matplotlib/axes/_axes.py:545: UserWarning: No labelled objects found. Use label='...' kwarg on individual plots.\n",
      "  warnings.warn(\"No labelled objects found. \"\n"
     ]
    },
    {
     "name": "stdout",
     "output_type": "stream",
     "text": [
      "VACJ Channel :  k8-k7 Label :  MFG Bad shape :  (2560, 13) Good shape :  (2560, 13)\n",
      "Setting up low-pass filter at 10 Hz\n",
      "h_trans_bandwidth chosen to be 2.5 Hz\n",
      "Filter length of 1352 samples (2.641 sec) selected\n",
      "Setting up low-pass filter at 10 Hz\n",
      "h_trans_bandwidth chosen to be 2.5 Hz\n",
      "Filter length of 1352 samples (2.641 sec) selected\n",
      "Size of filtered data bad : (13, 2560) filtered data good :  (13, 2560)\n",
      "time points :  (2560,)\n",
      "Applying baseline correction (mode: mean)\n",
      "Applying baseline correction (mode: mean)\n",
      "Size norm & filtered data 0 :  (13, 2560) (13, 2560)\n",
      "-> Shape of bad data (13, 563) good data (13, 563)\n",
      "(13, 1000, 56) (13, 1000, 56)\n",
      "(1000, 56)\n",
      "[-1.8420701275500266, 1.8420701275500266] [-2.8342100820281155, 2.8342100820281155] [-5.0602084899754152, 5.0602084899754152]\n",
      "(56,) 0.442868210052 -1.40487216083\n",
      "Size of the concatenated data:  (26, 56) Number time windows :  56\n",
      "Size of label for classif:  26\n",
      "th_perm :  73.0769230769 76.9230769231 92.3076923077\n"
     ]
    },
    {
     "name": "stderr",
     "output_type": "stream",
     "text": [
      "/home/karim/anaconda3/lib/python3.5/site-packages/matplotlib/axes/_axes.py:545: UserWarning: No labelled objects found. Use label='...' kwarg on individual plots.\n",
      "  warnings.warn(\"No labelled objects found. \"\n"
     ]
    },
    {
     "name": "stdout",
     "output_type": "stream",
     "text": [
      "VACJ Channel :  k9-k8 Label :  MFG Bad shape :  (2560, 13) Good shape :  (2560, 13)\n",
      "Setting up low-pass filter at 10 Hz\n",
      "h_trans_bandwidth chosen to be 2.5 Hz\n",
      "Filter length of 1352 samples (2.641 sec) selected\n",
      "Setting up low-pass filter at 10 Hz\n",
      "h_trans_bandwidth chosen to be 2.5 Hz\n",
      "Filter length of 1352 samples (2.641 sec) selected\n",
      "Size of filtered data bad : (13, 2560) filtered data good :  (13, 2560)\n",
      "time points :  (2560,)\n",
      "Applying baseline correction (mode: mean)\n",
      "Applying baseline correction (mode: mean)\n",
      "Size norm & filtered data 0 :  (13, 2560) (13, 2560)\n",
      "-> Shape of bad data (13, 563) good data (13, 563)\n",
      "(13, 1000, 56) (13, 1000, 56)\n",
      "(1000, 56)\n",
      "[-1.8459854493370424, 1.8459854493370424] [-2.7899273680329872, 2.7899273680329872] [-4.9596104912646357, 4.9596104912646357]\n",
      "(56,) 2.02853476682 -0.854968449059\n",
      "Size of the concatenated data:  (26, 56) Number time windows :  56\n",
      "Size of label for classif:  26\n",
      "th_perm :  73.0769230769 76.9230769231 88.4615384615\n"
     ]
    },
    {
     "name": "stderr",
     "output_type": "stream",
     "text": [
      "/home/karim/anaconda3/lib/python3.5/site-packages/matplotlib/axes/_axes.py:545: UserWarning: No labelled objects found. Use label='...' kwarg on individual plots.\n",
      "  warnings.warn(\"No labelled objects found. \"\n"
     ]
    },
    {
     "name": "stdout",
     "output_type": "stream",
     "text": [
      "VACJ Channel :  k10-k9 Label :  MFG Bad shape :  (2560, 13) Good shape :  (2560, 13)\n",
      "Setting up low-pass filter at 10 Hz\n",
      "h_trans_bandwidth chosen to be 2.5 Hz\n",
      "Filter length of 1352 samples (2.641 sec) selected\n",
      "Setting up low-pass filter at 10 Hz\n",
      "h_trans_bandwidth chosen to be 2.5 Hz\n",
      "Filter length of 1352 samples (2.641 sec) selected\n",
      "Size of filtered data bad : (13, 2560) filtered data good :  (13, 2560)\n",
      "time points :  (2560,)\n",
      "Applying baseline correction (mode: mean)\n",
      "Applying baseline correction (mode: mean)\n",
      "Size norm & filtered data 0 :  (13, 2560) (13, 2560)\n",
      "-> Shape of bad data (13, 563) good data (13, 563)\n",
      "(13, 1000, 56) (13, 1000, 56)\n",
      "(1000, 56)\n",
      "[-1.8475507143887973, 1.8475507143887973] [-2.8213826794644867, 2.8213826794644867] [-5.9284191918996809, 5.9284191918996809]\n",
      "(56,) 1.18954963934 -1.92522043884\n",
      "Size of the concatenated data:  (26, 56) Number time windows :  56\n",
      "Size of label for classif:  26\n",
      "th_perm :  73.0769230769 76.9230769231 96.1538461538\n"
     ]
    },
    {
     "name": "stderr",
     "output_type": "stream",
     "text": [
      "/home/karim/anaconda3/lib/python3.5/site-packages/matplotlib/axes/_axes.py:545: UserWarning: No labelled objects found. Use label='...' kwarg on individual plots.\n",
      "  warnings.warn(\"No labelled objects found. \"\n"
     ]
    },
    {
     "name": "stdout",
     "output_type": "stream",
     "text": [
      "VACJ Channel :  k11-k10 Label :  MFG Bad shape :  (2560, 13) Good shape :  (2560, 13)\n",
      "Setting up low-pass filter at 10 Hz\n",
      "h_trans_bandwidth chosen to be 2.5 Hz\n",
      "Filter length of 1352 samples (2.641 sec) selected\n",
      "Setting up low-pass filter at 10 Hz\n",
      "h_trans_bandwidth chosen to be 2.5 Hz\n",
      "Filter length of 1352 samples (2.641 sec) selected\n",
      "Size of filtered data bad : (13, 2560) filtered data good :  (13, 2560)\n",
      "time points :  (2560,)\n",
      "Applying baseline correction (mode: mean)\n",
      "Applying baseline correction (mode: mean)\n",
      "Size norm & filtered data 0 :  (13, 2560) (13, 2560)\n",
      "-> Shape of bad data (13, 563) good data (13, 563)\n",
      "(13, 1000, 56) (13, 1000, 56)\n",
      "(1000, 56)\n",
      "[-1.865084862520457, 1.865084862520457] [-2.7989238243923356, 2.7989238243923356] [-5.7416908495938568, 5.7416908495938568]\n",
      "(56,) 1.47108875795 -1.93649665392\n",
      "Size of the concatenated data:  (26, 56) Number time windows :  56\n",
      "Size of label for classif:  26\n",
      "th_perm :  73.0769230769 76.9230769231 92.3076923077\n"
     ]
    },
    {
     "name": "stderr",
     "output_type": "stream",
     "text": [
      "/home/karim/anaconda3/lib/python3.5/site-packages/matplotlib/axes/_axes.py:545: UserWarning: No labelled objects found. Use label='...' kwarg on individual plots.\n",
      "  warnings.warn(\"No labelled objects found. \"\n"
     ]
    },
    {
     "name": "stdout",
     "output_type": "stream",
     "text": [
      "VACJ Channel :  k12-k11 Label :  MFG Bad shape :  (2560, 13) Good shape :  (2560, 13)\n",
      "Setting up low-pass filter at 10 Hz\n",
      "h_trans_bandwidth chosen to be 2.5 Hz\n",
      "Filter length of 1352 samples (2.641 sec) selected\n",
      "Setting up low-pass filter at 10 Hz\n",
      "h_trans_bandwidth chosen to be 2.5 Hz\n",
      "Filter length of 1352 samples (2.641 sec) selected\n",
      "Size of filtered data bad : (13, 2560) filtered data good :  (13, 2560)\n",
      "time points :  (2560,)\n",
      "Applying baseline correction (mode: mean)\n",
      "Applying baseline correction (mode: mean)\n",
      "Size norm & filtered data 0 :  (13, 2560) (13, 2560)\n",
      "-> Shape of bad data (13, 563) good data (13, 563)\n",
      "(13, 1000, 56) (13, 1000, 56)\n",
      "(1000, 56)\n",
      "[-1.8705573154505373, 1.8705573154505373] [-2.9781237077118288, 2.9781237077118288] [-5.0887650239329716, 5.0887650239329716]\n",
      "(56,) 1.10452848216 -1.16867137025\n",
      "Size of the concatenated data:  (26, 56) Number time windows :  56\n",
      "Size of label for classif:  26\n",
      "th_perm :  73.0769230769 76.9230769231 88.4615384615\n"
     ]
    },
    {
     "name": "stderr",
     "output_type": "stream",
     "text": [
      "/home/karim/anaconda3/lib/python3.5/site-packages/matplotlib/axes/_axes.py:545: UserWarning: No labelled objects found. Use label='...' kwarg on individual plots.\n",
      "  warnings.warn(\"No labelled objects found. \"\n"
     ]
    },
    {
     "name": "stdout",
     "output_type": "stream",
     "text": [
      "VACJ Channel :  k13-k12 Label :  MFG Bad shape :  (2560, 13) Good shape :  (2560, 13)\n",
      "Setting up low-pass filter at 10 Hz\n",
      "h_trans_bandwidth chosen to be 2.5 Hz\n",
      "Filter length of 1352 samples (2.641 sec) selected\n",
      "Setting up low-pass filter at 10 Hz\n",
      "h_trans_bandwidth chosen to be 2.5 Hz\n",
      "Filter length of 1352 samples (2.641 sec) selected\n",
      "Size of filtered data bad : (13, 2560) filtered data good :  (13, 2560)\n",
      "time points :  (2560,)\n",
      "Applying baseline correction (mode: mean)\n",
      "Applying baseline correction (mode: mean)\n",
      "Size norm & filtered data 0 :  (13, 2560) (13, 2560)\n",
      "-> Shape of bad data (13, 563) good data (13, 563)\n",
      "(13, 1000, 56) (13, 1000, 56)\n",
      "(1000, 56)\n",
      "[-1.8419592192270338, 1.8419592192270338] [-2.8616625766560024, 2.8616625766560024] [-4.6955919630887006, 4.6955919630887006]\n",
      "(56,) 1.86022942903 -1.75750237597\n",
      "Size of the concatenated data:  (26, 56) Number time windows :  56\n",
      "Size of label for classif:  26\n",
      "th_perm :  73.0769230769 80.7692307692 88.4615384615\n"
     ]
    },
    {
     "name": "stderr",
     "output_type": "stream",
     "text": [
      "/home/karim/anaconda3/lib/python3.5/site-packages/matplotlib/axes/_axes.py:545: UserWarning: No labelled objects found. Use label='...' kwarg on individual plots.\n",
      "  warnings.warn(\"No labelled objects found. \"\n"
     ]
    },
    {
     "name": "stdout",
     "output_type": "stream",
     "text": [
      "VACJ Channel :  k14-k13 Label :  LCR-MFG&MFG Bad shape :  (2560, 13) Good shape :  (2560, 13)\n",
      "Setting up low-pass filter at 10 Hz\n",
      "h_trans_bandwidth chosen to be 2.5 Hz\n",
      "Filter length of 1352 samples (2.641 sec) selected\n",
      "Setting up low-pass filter at 10 Hz\n",
      "h_trans_bandwidth chosen to be 2.5 Hz\n",
      "Filter length of 1352 samples (2.641 sec) selected\n",
      "Size of filtered data bad : (13, 2560) filtered data good :  (13, 2560)\n",
      "time points :  (2560,)\n",
      "Applying baseline correction (mode: mean)\n",
      "Applying baseline correction (mode: mean)\n",
      "Size norm & filtered data 0 :  (13, 2560) (13, 2560)\n",
      "-> Shape of bad data (13, 563) good data (13, 563)\n",
      "(13, 1000, 56) (13, 1000, 56)\n",
      "(1000, 56)\n",
      "[-1.8549280897904323, 1.8549280897904323] [-2.832598319277313, 2.832598319277313] [-5.4073951420907598, 5.4073951420907598]\n",
      "(56,) 2.05255302811 -0.4392505611\n",
      "Size of the concatenated data:  (26, 56) Number time windows :  56\n",
      "Size of label for classif:  26\n",
      "th_perm :  73.0769230769 80.7692307692 88.4615384615\n"
     ]
    },
    {
     "name": "stderr",
     "output_type": "stream",
     "text": [
      "/home/karim/anaconda3/lib/python3.5/site-packages/matplotlib/axes/_axes.py:545: UserWarning: No labelled objects found. Use label='...' kwarg on individual plots.\n",
      "  warnings.warn(\"No labelled objects found. \"\n"
     ]
    },
    {
     "name": "stdout",
     "output_type": "stream",
     "text": [
      "VACJ Channel :  k15-k14 Label :  LCR&LCR-MFG Bad shape :  (2560, 13) Good shape :  (2560, 13)\n",
      "Setting up low-pass filter at 10 Hz\n",
      "h_trans_bandwidth chosen to be 2.5 Hz\n",
      "Filter length of 1352 samples (2.641 sec) selected\n",
      "Setting up low-pass filter at 10 Hz\n",
      "h_trans_bandwidth chosen to be 2.5 Hz\n",
      "Filter length of 1352 samples (2.641 sec) selected\n",
      "Size of filtered data bad : (13, 2560) filtered data good :  (13, 2560)\n",
      "time points :  (2560,)\n",
      "Applying baseline correction (mode: mean)\n",
      "Applying baseline correction (mode: mean)\n",
      "Size norm & filtered data 0 :  (13, 2560) (13, 2560)\n",
      "-> Shape of bad data (13, 563) good data (13, 563)\n",
      "(13, 1000, 56) (13, 1000, 56)\n",
      "(1000, 56)\n",
      "[-1.8588581126727004, 1.8588581126727004] [-2.8462297708248783, 2.8462297708248783] [-4.3330879171683234, 4.3330879171683234]\n",
      "(56,) 0.677832961898 -2.00741809083\n",
      "Size of the concatenated data:  (26, 56) Number time windows :  56\n",
      "Size of label for classif:  26\n",
      "th_perm :  73.0769230769 76.9230769231 92.3076923077\n"
     ]
    },
    {
     "name": "stderr",
     "output_type": "stream",
     "text": [
      "/home/karim/anaconda3/lib/python3.5/site-packages/matplotlib/axes/_axes.py:545: UserWarning: No labelled objects found. Use label='...' kwarg on individual plots.\n",
      "  warnings.warn(\"No labelled objects found. \"\n"
     ]
    },
    {
     "name": "stdout",
     "output_type": "stream",
     "text": [
      "VACJ Channel :  k'2-k'1 Label :  pgACC Bad shape :  (2560, 13) Good shape :  (2560, 13)\n",
      "Setting up low-pass filter at 10 Hz\n",
      "h_trans_bandwidth chosen to be 2.5 Hz\n",
      "Filter length of 1352 samples (2.641 sec) selected\n",
      "Setting up low-pass filter at 10 Hz\n",
      "h_trans_bandwidth chosen to be 2.5 Hz\n",
      "Filter length of 1352 samples (2.641 sec) selected\n",
      "Size of filtered data bad : (13, 2560) filtered data good :  (13, 2560)\n",
      "time points :  (2560,)\n",
      "Applying baseline correction (mode: mean)\n",
      "Applying baseline correction (mode: mean)\n",
      "Size norm & filtered data 0 :  (13, 2560) (13, 2560)\n",
      "-> Shape of bad data (13, 563) good data (13, 563)\n",
      "(13, 1000, 56) (13, 1000, 56)\n",
      "(1000, 56)\n",
      "[-1.886924198975688, 1.886924198975688] [-2.7244060652587963, 2.7244060652587963] [-4.9420897110344502, 4.9420897110344502]\n",
      "(56,) 1.96917153636 -1.15587647112\n",
      "Size of the concatenated data:  (26, 56) Number time windows :  56\n",
      "Size of label for classif:  26\n",
      "th_perm :  69.2307692308 80.7692307692 92.3076923077\n"
     ]
    },
    {
     "name": "stderr",
     "output_type": "stream",
     "text": [
      "/home/karim/anaconda3/lib/python3.5/site-packages/matplotlib/axes/_axes.py:545: UserWarning: No labelled objects found. Use label='...' kwarg on individual plots.\n",
      "  warnings.warn(\"No labelled objects found. \"\n"
     ]
    },
    {
     "name": "stdout",
     "output_type": "stream",
     "text": [
      "VACJ Channel :  k'12-k'11 Label :  IFGTr Bad shape :  (2560, 13) Good shape :  (2560, 13)\n",
      "Setting up low-pass filter at 10 Hz\n",
      "h_trans_bandwidth chosen to be 2.5 Hz\n",
      "Filter length of 1352 samples (2.641 sec) selected\n",
      "Setting up low-pass filter at 10 Hz\n",
      "h_trans_bandwidth chosen to be 2.5 Hz\n",
      "Filter length of 1352 samples (2.641 sec) selected\n",
      "Size of filtered data bad : (13, 2560) filtered data good :  (13, 2560)\n",
      "time points :  (2560,)\n",
      "Applying baseline correction (mode: mean)\n",
      "Applying baseline correction (mode: mean)\n",
      "Size norm & filtered data 0 :  (13, 2560) (13, 2560)\n",
      "-> Shape of bad data (13, 563) good data (13, 563)\n",
      "(13, 1000, 56) (13, 1000, 56)\n",
      "(1000, 56)\n",
      "[-1.8786257811436855, 1.8786257811436855] [-2.9386064191883143, 2.9386064191883143] [-5.7353561695916877, 5.7353561695916877]\n",
      "(56,) 1.81283183956 -1.71907954912\n",
      "Size of the concatenated data:  (26, 56) Number time windows :  56\n",
      "Size of label for classif:  26\n",
      "th_perm :  69.2307692308 76.9230769231 92.3076923077\n"
     ]
    },
    {
     "name": "stderr",
     "output_type": "stream",
     "text": [
      "/home/karim/anaconda3/lib/python3.5/site-packages/matplotlib/axes/_axes.py:545: UserWarning: No labelled objects found. Use label='...' kwarg on individual plots.\n",
      "  warnings.warn(\"No labelled objects found. \"\n"
     ]
    },
    {
     "name": "stdout",
     "output_type": "stream",
     "text": [
      "VACJ Channel :  k'13-k'12 Label :  IFGTr Bad shape :  (2560, 13) Good shape :  (2560, 13)\n",
      "Setting up low-pass filter at 10 Hz\n",
      "h_trans_bandwidth chosen to be 2.5 Hz\n",
      "Filter length of 1352 samples (2.641 sec) selected\n",
      "Setting up low-pass filter at 10 Hz\n",
      "h_trans_bandwidth chosen to be 2.5 Hz\n",
      "Filter length of 1352 samples (2.641 sec) selected\n",
      "Size of filtered data bad : (13, 2560) filtered data good :  (13, 2560)\n",
      "time points :  (2560,)\n",
      "Applying baseline correction (mode: mean)\n",
      "Applying baseline correction (mode: mean)\n",
      "Size norm & filtered data 0 :  (13, 2560) (13, 2560)\n",
      "-> Shape of bad data (13, 563) good data (13, 563)\n",
      "(13, 1000, 56) (13, 1000, 56)\n",
      "(1000, 56)\n",
      "[-1.8577964806192211, 1.8577964806192211] [-2.8608885096454117, 2.8608885096454117] [-4.6861329922846338, 4.6861329922846338]\n",
      "(56,) 1.30882526328 -2.25095029223\n",
      "Size of the concatenated data:  (26, 56) Number time windows :  56\n",
      "Size of label for classif:  26\n",
      "th_perm :  73.0769230769 80.7692307692 92.3076923077\n"
     ]
    },
    {
     "name": "stderr",
     "output_type": "stream",
     "text": [
      "/home/karim/anaconda3/lib/python3.5/site-packages/matplotlib/axes/_axes.py:545: UserWarning: No labelled objects found. Use label='...' kwarg on individual plots.\n",
      "  warnings.warn(\"No labelled objects found. \"\n"
     ]
    },
    {
     "name": "stdout",
     "output_type": "stream",
     "text": [
      "VACJ Channel :  k'14-k'13 Label :  IFGTr Bad shape :  (2560, 13) Good shape :  (2560, 13)\n",
      "Setting up low-pass filter at 10 Hz\n",
      "h_trans_bandwidth chosen to be 2.5 Hz\n",
      "Filter length of 1352 samples (2.641 sec) selected\n",
      "Setting up low-pass filter at 10 Hz\n",
      "h_trans_bandwidth chosen to be 2.5 Hz\n",
      "Filter length of 1352 samples (2.641 sec) selected\n",
      "Size of filtered data bad : (13, 2560) filtered data good :  (13, 2560)\n",
      "time points :  (2560,)\n",
      "Applying baseline correction (mode: mean)\n",
      "Applying baseline correction (mode: mean)\n",
      "Size norm & filtered data 0 :  (13, 2560) (13, 2560)\n",
      "-> Shape of bad data (13, 563) good data (13, 563)\n",
      "(13, 1000, 56) (13, 1000, 56)\n",
      "(1000, 56)\n",
      "[-1.8087586719436854, 1.8087586719436854] [-2.9313228812505119, 2.9313228812505119] [-5.1183425394648197, 5.1183425394648197]\n",
      "(56,) 1.79582125113 -1.81391074069\n",
      "Size of the concatenated data:  (26, 56) Number time windows :  56\n",
      "Size of label for classif:  26\n",
      "th_perm :  73.0769230769 76.9230769231 88.4615384615\n"
     ]
    },
    {
     "name": "stderr",
     "output_type": "stream",
     "text": [
      "/home/karim/anaconda3/lib/python3.5/site-packages/matplotlib/axes/_axes.py:545: UserWarning: No labelled objects found. Use label='...' kwarg on individual plots.\n",
      "  warnings.warn(\"No labelled objects found. \"\n"
     ]
    },
    {
     "name": "stdout",
     "output_type": "stream",
     "text": [
      "VACJ Channel :  k'15-k'14 Label :  LCR-IFGTr&IFGTr Bad shape :  (2560, 13) Good shape :  (2560, 13)\n",
      "Setting up low-pass filter at 10 Hz\n",
      "h_trans_bandwidth chosen to be 2.5 Hz\n",
      "Filter length of 1352 samples (2.641 sec) selected\n",
      "Setting up low-pass filter at 10 Hz\n",
      "h_trans_bandwidth chosen to be 2.5 Hz\n",
      "Filter length of 1352 samples (2.641 sec) selected\n",
      "Size of filtered data bad : (13, 2560) filtered data good :  (13, 2560)\n",
      "time points :  (2560,)\n",
      "Applying baseline correction (mode: mean)\n",
      "Applying baseline correction (mode: mean)\n",
      "Size norm & filtered data 0 :  (13, 2560) (13, 2560)\n",
      "-> Shape of bad data (13, 563) good data (13, 563)\n",
      "(13, 1000, 56) (13, 1000, 56)\n",
      "(1000, 56)\n",
      "[-1.9150514203132638, 1.9150514203132638] [-2.7935816370787037, 2.7935816370787037] [-4.3377938792857025, 4.3377938792857025]\n",
      "(56,) 2.35504926408 -1.67869784471\n",
      "Size of the concatenated data:  (26, 56) Number time windows :  56\n",
      "Size of label for classif:  26\n",
      "th_perm :  69.2307692308 80.7692307692 88.4615384615\n"
     ]
    },
    {
     "name": "stderr",
     "output_type": "stream",
     "text": [
      "/home/karim/anaconda3/lib/python3.5/site-packages/matplotlib/axes/_axes.py:545: UserWarning: No labelled objects found. Use label='...' kwarg on individual plots.\n",
      "  warnings.warn(\"No labelled objects found. \"\n"
     ]
    },
    {
     "name": "stdout",
     "output_type": "stream",
     "text": [
      "VACJ Channel :  l2-l1 Label :  LgG-FuG Bad shape :  (2560, 13) Good shape :  (2560, 13)\n",
      "Setting up low-pass filter at 10 Hz\n",
      "h_trans_bandwidth chosen to be 2.5 Hz\n",
      "Filter length of 1352 samples (2.641 sec) selected\n",
      "Setting up low-pass filter at 10 Hz\n",
      "h_trans_bandwidth chosen to be 2.5 Hz\n",
      "Filter length of 1352 samples (2.641 sec) selected\n",
      "Size of filtered data bad : (13, 2560) filtered data good :  (13, 2560)\n",
      "time points :  (2560,)\n",
      "Applying baseline correction (mode: mean)\n",
      "Applying baseline correction (mode: mean)\n",
      "Size norm & filtered data 0 :  (13, 2560) (13, 2560)\n",
      "-> Shape of bad data (13, 563) good data (13, 563)\n",
      "(13, 1000, 56) (13, 1000, 56)\n",
      "(1000, 56)\n",
      "[-1.8069202721577367, 1.8069202721577367] [-2.8204360601021601, 2.8204360601021601] [-5.5076289123159636, 5.5076289123159636]\n",
      "(56,) 1.18640459691 -2.52262653758\n",
      "Size of the concatenated data:  (26, 56) Number time windows :  56\n",
      "Size of label for classif:  26\n",
      "th_perm :  69.2307692308 76.9230769231 88.4615384615\n"
     ]
    },
    {
     "name": "stderr",
     "output_type": "stream",
     "text": [
      "/home/karim/anaconda3/lib/python3.5/site-packages/matplotlib/axes/_axes.py:545: UserWarning: No labelled objects found. Use label='...' kwarg on individual plots.\n",
      "  warnings.warn(\"No labelled objects found. \"\n"
     ]
    },
    {
     "name": "stdout",
     "output_type": "stream",
     "text": [
      "VACJ Channel :  l3-l2 Label :  FuG&LgG-FuG Bad shape :  (2560, 13) Good shape :  (2560, 13)\n",
      "Setting up low-pass filter at 10 Hz\n",
      "h_trans_bandwidth chosen to be 2.5 Hz\n",
      "Filter length of 1352 samples (2.641 sec) selected\n",
      "Setting up low-pass filter at 10 Hz\n",
      "h_trans_bandwidth chosen to be 2.5 Hz\n",
      "Filter length of 1352 samples (2.641 sec) selected\n",
      "Size of filtered data bad : (13, 2560) filtered data good :  (13, 2560)\n",
      "time points :  (2560,)\n",
      "Applying baseline correction (mode: mean)\n",
      "Applying baseline correction (mode: mean)\n",
      "Size norm & filtered data 0 :  (13, 2560) (13, 2560)\n",
      "-> Shape of bad data (13, 563) good data (13, 563)\n",
      "(13, 1000, 56) (13, 1000, 56)\n",
      "(1000, 56)\n",
      "[-1.8116025818277346, 1.8116025818277346] [-2.933696302555254, 2.933696302555254] [-4.6495973418047516, 4.6495973418047516]\n",
      "(56,) 1.04093053342 -1.76247071131\n",
      "Size of the concatenated data:  (26, 56) Number time windows :  56\n",
      "Size of label for classif:  26\n",
      "th_perm :  69.2307692308 76.9230769231 92.3076923077\n"
     ]
    },
    {
     "name": "stderr",
     "output_type": "stream",
     "text": [
      "/home/karim/anaconda3/lib/python3.5/site-packages/matplotlib/axes/_axes.py:545: UserWarning: No labelled objects found. Use label='...' kwarg on individual plots.\n",
      "  warnings.warn(\"No labelled objects found. \"\n"
     ]
    },
    {
     "name": "stdout",
     "output_type": "stream",
     "text": [
      "VACJ Channel :  l4-l3 Label :  FuG Bad shape :  (2560, 13) Good shape :  (2560, 13)\n",
      "Setting up low-pass filter at 10 Hz\n",
      "h_trans_bandwidth chosen to be 2.5 Hz\n",
      "Filter length of 1352 samples (2.641 sec) selected\n",
      "Setting up low-pass filter at 10 Hz\n",
      "h_trans_bandwidth chosen to be 2.5 Hz\n",
      "Filter length of 1352 samples (2.641 sec) selected\n",
      "Size of filtered data bad : (13, 2560) filtered data good :  (13, 2560)\n",
      "time points :  (2560,)\n",
      "Applying baseline correction (mode: mean)\n",
      "Applying baseline correction (mode: mean)\n",
      "Size norm & filtered data 0 :  (13, 2560) (13, 2560)\n",
      "-> Shape of bad data (13, 563) good data (13, 563)\n",
      "(13, 1000, 56) (13, 1000, 56)\n",
      "(1000, 56)\n",
      "[-1.8657700670966317, 1.8657700670966317] [-2.9080038402325958, 2.9080038402325958] [-4.6276125247687308, 4.6276125247687308]\n",
      "(56,) 1.79765561442 -0.978811960927\n",
      "Size of the concatenated data:  (26, 56) Number time windows :  56\n",
      "Size of label for classif:  26\n",
      "th_perm :  73.0769230769 76.9230769231 92.3076923077\n"
     ]
    },
    {
     "name": "stderr",
     "output_type": "stream",
     "text": [
      "/home/karim/anaconda3/lib/python3.5/site-packages/matplotlib/axes/_axes.py:545: UserWarning: No labelled objects found. Use label='...' kwarg on individual plots.\n",
      "  warnings.warn(\"No labelled objects found. \"\n"
     ]
    },
    {
     "name": "stdout",
     "output_type": "stream",
     "text": [
      "VACJ Channel :  l5-l4 Label :  FuG-pITG&FuG Bad shape :  (2560, 13) Good shape :  (2560, 13)\n",
      "Setting up low-pass filter at 10 Hz\n",
      "h_trans_bandwidth chosen to be 2.5 Hz\n",
      "Filter length of 1352 samples (2.641 sec) selected\n",
      "Setting up low-pass filter at 10 Hz\n",
      "h_trans_bandwidth chosen to be 2.5 Hz\n",
      "Filter length of 1352 samples (2.641 sec) selected\n",
      "Size of filtered data bad : (13, 2560) filtered data good :  (13, 2560)\n",
      "time points :  (2560,)\n",
      "Applying baseline correction (mode: mean)\n",
      "Applying baseline correction (mode: mean)\n",
      "Size norm & filtered data 0 :  (13, 2560) (13, 2560)\n",
      "-> Shape of bad data (13, 563) good data (13, 563)\n",
      "(13, 1000, 56) (13, 1000, 56)\n",
      "(1000, 56)\n",
      "[-1.8479047735706542, 1.8479047735706542] [-2.7292579361279596, 2.7292579361279596] [-4.4554596312432544, 4.4554596312432544]\n",
      "(56,) 1.74226029248 -0.711423641952\n",
      "Size of the concatenated data:  (26, 56) Number time windows :  56\n",
      "Size of label for classif:  26\n",
      "th_perm :  69.2307692308 76.9230769231 88.4615384615\n"
     ]
    },
    {
     "name": "stderr",
     "output_type": "stream",
     "text": [
      "/home/karim/anaconda3/lib/python3.5/site-packages/matplotlib/axes/_axes.py:545: UserWarning: No labelled objects found. Use label='...' kwarg on individual plots.\n",
      "  warnings.warn(\"No labelled objects found. \"\n"
     ]
    },
    {
     "name": "stdout",
     "output_type": "stream",
     "text": [
      "VACJ Channel :  l6-l5 Label :  FuG-pITG Bad shape :  (2560, 13) Good shape :  (2560, 13)\n",
      "Setting up low-pass filter at 10 Hz\n",
      "h_trans_bandwidth chosen to be 2.5 Hz\n",
      "Filter length of 1352 samples (2.641 sec) selected\n",
      "Setting up low-pass filter at 10 Hz\n",
      "h_trans_bandwidth chosen to be 2.5 Hz\n",
      "Filter length of 1352 samples (2.641 sec) selected\n",
      "Size of filtered data bad : (13, 2560) filtered data good :  (13, 2560)\n",
      "time points :  (2560,)\n",
      "Applying baseline correction (mode: mean)\n",
      "Applying baseline correction (mode: mean)\n",
      "Size norm & filtered data 0 :  (13, 2560) (13, 2560)\n",
      "-> Shape of bad data (13, 563) good data (13, 563)\n",
      "(13, 1000, 56) (13, 1000, 56)\n",
      "(1000, 56)\n",
      "[-1.9069207748683943, 1.9069207748683943] [-2.7886321157350573, 2.7886321157350573] [-5.9288147903187509, 5.9288147903187509]\n",
      "(56,) 1.57955596861 -1.32020340255\n",
      "Size of the concatenated data:  (26, 56) Number time windows :  56\n",
      "Size of label for classif:  26\n",
      "th_perm :  73.0769230769 80.7692307692 88.4615384615\n"
     ]
    },
    {
     "name": "stderr",
     "output_type": "stream",
     "text": [
      "/home/karim/anaconda3/lib/python3.5/site-packages/matplotlib/axes/_axes.py:545: UserWarning: No labelled objects found. Use label='...' kwarg on individual plots.\n",
      "  warnings.warn(\"No labelled objects found. \"\n"
     ]
    },
    {
     "name": "stdout",
     "output_type": "stream",
     "text": [
      "VACJ Channel :  l7-l6 Label :  pITG&FuG-pITG Bad shape :  (2560, 13) Good shape :  (2560, 13)\n",
      "Setting up low-pass filter at 10 Hz\n",
      "h_trans_bandwidth chosen to be 2.5 Hz\n",
      "Filter length of 1352 samples (2.641 sec) selected\n",
      "Setting up low-pass filter at 10 Hz\n",
      "h_trans_bandwidth chosen to be 2.5 Hz\n",
      "Filter length of 1352 samples (2.641 sec) selected\n",
      "Size of filtered data bad : (13, 2560) filtered data good :  (13, 2560)\n",
      "time points :  (2560,)\n",
      "Applying baseline correction (mode: mean)\n",
      "Applying baseline correction (mode: mean)\n",
      "Size norm & filtered data 0 :  (13, 2560) (13, 2560)\n",
      "-> Shape of bad data (13, 563) good data (13, 563)\n",
      "(13, 1000, 56) (13, 1000, 56)\n",
      "(1000, 56)\n",
      "[-1.8333660007513373, 1.8333660007513373] [-2.7700988141154865, 2.7700988141154865] [-4.2379577593268598, 4.2379577593268598]\n",
      "(56,) 1.30013744326 -1.572459233\n",
      "Size of the concatenated data:  (26, 56) Number time windows :  56\n",
      "Size of label for classif:  26\n",
      "th_perm :  73.0769230769 76.9230769231 92.3076923077\n"
     ]
    },
    {
     "name": "stderr",
     "output_type": "stream",
     "text": [
      "/home/karim/anaconda3/lib/python3.5/site-packages/matplotlib/axes/_axes.py:545: UserWarning: No labelled objects found. Use label='...' kwarg on individual plots.\n",
      "  warnings.warn(\"No labelled objects found. \"\n"
     ]
    },
    {
     "name": "stdout",
     "output_type": "stream",
     "text": [
      "VACJ Channel :  l8-l7 Label :  pITG Bad shape :  (2560, 13) Good shape :  (2560, 13)\n",
      "Setting up low-pass filter at 10 Hz\n",
      "h_trans_bandwidth chosen to be 2.5 Hz\n",
      "Filter length of 1352 samples (2.641 sec) selected\n",
      "Setting up low-pass filter at 10 Hz\n",
      "h_trans_bandwidth chosen to be 2.5 Hz\n",
      "Filter length of 1352 samples (2.641 sec) selected\n",
      "Size of filtered data bad : (13, 2560) filtered data good :  (13, 2560)\n",
      "time points :  (2560,)\n",
      "Applying baseline correction (mode: mean)\n",
      "Applying baseline correction (mode: mean)\n",
      "Size norm & filtered data 0 :  (13, 2560) (13, 2560)\n",
      "-> Shape of bad data (13, 563) good data (13, 563)\n",
      "(13, 1000, 56) (13, 1000, 56)\n",
      "(1000, 56)\n",
      "[-1.8392218048898294, 1.8392218048898294] [-2.763553671723328, 2.763553671723328] [-4.1685955946875088, 4.1685955946875088]\n",
      "(56,) 2.08111774662 -1.47311552548\n",
      "Size of the concatenated data:  (26, 56) Number time windows :  56\n",
      "Size of label for classif:  26\n",
      "th_perm :  73.0769230769 76.9230769231 88.4615384615\n"
     ]
    },
    {
     "name": "stderr",
     "output_type": "stream",
     "text": [
      "/home/karim/anaconda3/lib/python3.5/site-packages/matplotlib/axes/_axes.py:545: UserWarning: No labelled objects found. Use label='...' kwarg on individual plots.\n",
      "  warnings.warn(\"No labelled objects found. \"\n"
     ]
    },
    {
     "name": "stdout",
     "output_type": "stream",
     "text": [
      "VACJ Channel :  l9-l8 Label :  pITG Bad shape :  (2560, 13) Good shape :  (2560, 13)\n",
      "Setting up low-pass filter at 10 Hz\n",
      "h_trans_bandwidth chosen to be 2.5 Hz\n",
      "Filter length of 1352 samples (2.641 sec) selected\n",
      "Setting up low-pass filter at 10 Hz\n",
      "h_trans_bandwidth chosen to be 2.5 Hz\n",
      "Filter length of 1352 samples (2.641 sec) selected\n",
      "Size of filtered data bad : (13, 2560) filtered data good :  (13, 2560)\n",
      "time points :  (2560,)\n",
      "Applying baseline correction (mode: mean)\n",
      "Applying baseline correction (mode: mean)\n",
      "Size norm & filtered data 0 :  (13, 2560) (13, 2560)\n",
      "-> Shape of bad data (13, 563) good data (13, 563)\n",
      "(13, 1000, 56) (13, 1000, 56)\n",
      "(1000, 56)\n",
      "[-1.8408410230195866, 1.8408410230195866] [-2.7162886327551514, 2.7162886327551514] [-5.0141572533618559, 5.0141572533618559]\n",
      "(56,) 2.24557736897 -1.3931258381\n",
      "Size of the concatenated data:  (26, 56) Number time windows :  56\n",
      "Size of label for classif:  26\n",
      "th_perm :  73.0769230769 76.9230769231 92.3076923077\n"
     ]
    },
    {
     "name": "stderr",
     "output_type": "stream",
     "text": [
      "/home/karim/anaconda3/lib/python3.5/site-packages/matplotlib/axes/_axes.py:545: UserWarning: No labelled objects found. Use label='...' kwarg on individual plots.\n",
      "  warnings.warn(\"No labelled objects found. \"\n"
     ]
    },
    {
     "name": "stdout",
     "output_type": "stream",
     "text": [
      "VACJ Channel :  l10-l9 Label :  pITG Bad shape :  (2560, 13) Good shape :  (2560, 13)\n",
      "Setting up low-pass filter at 10 Hz\n",
      "h_trans_bandwidth chosen to be 2.5 Hz\n",
      "Filter length of 1352 samples (2.641 sec) selected\n",
      "Setting up low-pass filter at 10 Hz\n",
      "h_trans_bandwidth chosen to be 2.5 Hz\n",
      "Filter length of 1352 samples (2.641 sec) selected\n",
      "Size of filtered data bad : (13, 2560) filtered data good :  (13, 2560)\n",
      "time points :  (2560,)\n",
      "Applying baseline correction (mode: mean)\n",
      "Applying baseline correction (mode: mean)\n",
      "Size norm & filtered data 0 :  (13, 2560) (13, 2560)\n",
      "-> Shape of bad data (13, 563) good data (13, 563)\n",
      "(13, 1000, 56) (13, 1000, 56)\n",
      "(1000, 56)\n",
      "[-1.8888839260806118, 1.8888839260806118] [-2.7990228498815828, 2.7990228498815828] [-4.6564131315605044, 4.6564131315605044]\n",
      "(56,) 1.93123769597 -1.87961780029\n",
      "Size of the concatenated data:  (26, 56) Number time windows :  56\n",
      "Size of label for classif:  26\n",
      "th_perm :  73.0769230769 76.9230769231 88.4615384615\n"
     ]
    },
    {
     "name": "stderr",
     "output_type": "stream",
     "text": [
      "/home/karim/anaconda3/lib/python3.5/site-packages/matplotlib/axes/_axes.py:545: UserWarning: No labelled objects found. Use label='...' kwarg on individual plots.\n",
      "  warnings.warn(\"No labelled objects found. \"\n"
     ]
    },
    {
     "name": "stdout",
     "output_type": "stream",
     "text": [
      "VACJ Channel :  l11-l10 Label :  pITG Bad shape :  (2560, 13) Good shape :  (2560, 13)\n",
      "Setting up low-pass filter at 10 Hz\n",
      "h_trans_bandwidth chosen to be 2.5 Hz\n",
      "Filter length of 1352 samples (2.641 sec) selected\n",
      "Setting up low-pass filter at 10 Hz\n",
      "h_trans_bandwidth chosen to be 2.5 Hz\n",
      "Filter length of 1352 samples (2.641 sec) selected\n",
      "Size of filtered data bad : (13, 2560) filtered data good :  (13, 2560)\n",
      "time points :  (2560,)\n",
      "Applying baseline correction (mode: mean)\n",
      "Applying baseline correction (mode: mean)\n",
      "Size norm & filtered data 0 :  (13, 2560) (13, 2560)\n",
      "-> Shape of bad data (13, 563) good data (13, 563)\n",
      "(13, 1000, 56) (13, 1000, 56)\n",
      "(1000, 56)\n",
      "[-1.8458076071093992, 1.8458076071093992] [-2.705378446735756, 2.705378446735756] [-4.5520516938846916, 4.5520516938846916]\n",
      "(56,) 0.725916567071 -1.59699007693\n",
      "Size of the concatenated data:  (26, 56) Number time windows :  56\n",
      "Size of label for classif:  26\n",
      "th_perm :  73.0769230769 76.9230769231 92.3076923077\n"
     ]
    },
    {
     "name": "stderr",
     "output_type": "stream",
     "text": [
      "/home/karim/anaconda3/lib/python3.5/site-packages/matplotlib/axes/_axes.py:545: UserWarning: No labelled objects found. Use label='...' kwarg on individual plots.\n",
      "  warnings.warn(\"No labelled objects found. \"\n"
     ]
    },
    {
     "name": "stdout",
     "output_type": "stream",
     "text": [
      "VACJ Channel :  l12-l11 Label :  LCR&pITG Bad shape :  (2560, 13) Good shape :  (2560, 13)\n",
      "Setting up low-pass filter at 10 Hz\n",
      "h_trans_bandwidth chosen to be 2.5 Hz\n",
      "Filter length of 1352 samples (2.641 sec) selected\n",
      "Setting up low-pass filter at 10 Hz\n",
      "h_trans_bandwidth chosen to be 2.5 Hz\n",
      "Filter length of 1352 samples (2.641 sec) selected\n",
      "Size of filtered data bad : (13, 2560) filtered data good :  (13, 2560)\n",
      "time points :  (2560,)\n",
      "Applying baseline correction (mode: mean)\n",
      "Applying baseline correction (mode: mean)\n",
      "Size norm & filtered data 0 :  (13, 2560) (13, 2560)\n",
      "-> Shape of bad data (13, 563) good data (13, 563)\n",
      "(13, 1000, 56) (13, 1000, 56)\n",
      "(1000, 56)\n",
      "[-1.8576028811288474, 1.8576028811288474] [-2.8094279129205741, 2.8094279129205741] [-4.9082913676220574, 4.9082913676220574]\n",
      "(56,) 1.4291943836 -1.55754113984\n",
      "Size of the concatenated data:  (26, 56) Number time windows :  56\n",
      "Size of label for classif:  26\n",
      "th_perm :  73.0769230769 76.9230769231 92.3076923077\n"
     ]
    },
    {
     "name": "stderr",
     "output_type": "stream",
     "text": [
      "/home/karim/anaconda3/lib/python3.5/site-packages/matplotlib/axes/_axes.py:545: UserWarning: No labelled objects found. Use label='...' kwarg on individual plots.\n",
      "  warnings.warn(\"No labelled objects found. \"\n"
     ]
    },
    {
     "name": "stdout",
     "output_type": "stream",
     "text": [
      "VACJ Channel :  o2-o1 Label :  SG-MOrG Bad shape :  (2560, 13) Good shape :  (2560, 13)\n",
      "Setting up low-pass filter at 10 Hz\n",
      "h_trans_bandwidth chosen to be 2.5 Hz\n",
      "Filter length of 1352 samples (2.641 sec) selected\n",
      "Setting up low-pass filter at 10 Hz\n",
      "h_trans_bandwidth chosen to be 2.5 Hz\n",
      "Filter length of 1352 samples (2.641 sec) selected\n",
      "Size of filtered data bad : (13, 2560) filtered data good :  (13, 2560)\n",
      "time points :  (2560,)\n",
      "Applying baseline correction (mode: mean)\n",
      "Applying baseline correction (mode: mean)\n",
      "Size norm & filtered data 0 :  (13, 2560) (13, 2560)\n",
      "-> Shape of bad data (13, 563) good data (13, 563)\n",
      "(13, 1000, 56) (13, 1000, 56)\n",
      "(1000, 56)\n",
      "[-1.8075906601866436, 1.8075906601866436] [-2.5940709810432439, 2.5940709810432439] [-4.2357416582190384, 4.2357416582190384]\n",
      "(56,) 1.16035558971 -1.65127820551\n",
      "Size of the concatenated data:  (26, 56) Number time windows :  56\n",
      "Size of label for classif:  26\n",
      "th_perm :  69.2307692308 76.9230769231 88.4615384615\n"
     ]
    },
    {
     "name": "stderr",
     "output_type": "stream",
     "text": [
      "/home/karim/anaconda3/lib/python3.5/site-packages/matplotlib/axes/_axes.py:545: UserWarning: No labelled objects found. Use label='...' kwarg on individual plots.\n",
      "  warnings.warn(\"No labelled objects found. \"\n"
     ]
    },
    {
     "name": "stdout",
     "output_type": "stream",
     "text": [
      "VACJ Channel :  o3-o2 Label :  MOrG&SG-MOrG Bad shape :  (2560, 13) Good shape :  (2560, 13)\n",
      "Setting up low-pass filter at 10 Hz\n",
      "h_trans_bandwidth chosen to be 2.5 Hz\n",
      "Filter length of 1352 samples (2.641 sec) selected\n",
      "Setting up low-pass filter at 10 Hz\n",
      "h_trans_bandwidth chosen to be 2.5 Hz\n",
      "Filter length of 1352 samples (2.641 sec) selected\n",
      "Size of filtered data bad : (13, 2560) filtered data good :  (13, 2560)\n",
      "time points :  (2560,)\n",
      "Applying baseline correction (mode: mean)\n",
      "Applying baseline correction (mode: mean)\n",
      "Size norm & filtered data 0 :  (13, 2560) (13, 2560)\n",
      "-> Shape of bad data (13, 563) good data (13, 563)\n",
      "(13, 1000, 56) (13, 1000, 56)\n",
      "(1000, 56)\n",
      "[-1.817419616170401, 1.817419616170401] [-2.8547905163876726, 2.8547905163876726] [-4.8483378266306891, 4.8483378266306891]\n",
      "(56,) 1.27426557315 -1.46040753076\n",
      "Size of the concatenated data:  (26, 56) Number time windows :  56\n",
      "Size of label for classif:  26\n",
      "th_perm :  73.0769230769 76.9230769231 92.3076923077\n"
     ]
    },
    {
     "name": "stderr",
     "output_type": "stream",
     "text": [
      "/home/karim/anaconda3/lib/python3.5/site-packages/matplotlib/axes/_axes.py:545: UserWarning: No labelled objects found. Use label='...' kwarg on individual plots.\n",
      "  warnings.warn(\"No labelled objects found. \"\n"
     ]
    },
    {
     "name": "stdout",
     "output_type": "stream",
     "text": [
      "VACJ Channel :  o4-o3 Label :  MOrG Bad shape :  (2560, 13) Good shape :  (2560, 13)\n",
      "Setting up low-pass filter at 10 Hz\n",
      "h_trans_bandwidth chosen to be 2.5 Hz\n",
      "Filter length of 1352 samples (2.641 sec) selected\n",
      "Setting up low-pass filter at 10 Hz\n",
      "h_trans_bandwidth chosen to be 2.5 Hz\n",
      "Filter length of 1352 samples (2.641 sec) selected\n",
      "Size of filtered data bad : (13, 2560) filtered data good :  (13, 2560)\n",
      "time points :  (2560,)\n",
      "Applying baseline correction (mode: mean)\n",
      "Applying baseline correction (mode: mean)\n",
      "Size norm & filtered data 0 :  (13, 2560) (13, 2560)\n",
      "-> Shape of bad data (13, 563) good data (13, 563)\n",
      "(13, 1000, 56) (13, 1000, 56)\n",
      "(1000, 56)\n",
      "[-1.8126064422228632, 1.8126064422228632] [-2.8951510284485837, 2.8951510284485837] [-4.7375867686643396, 4.7375867686643396]\n",
      "(56,) 1.77651725272 -1.22474139072\n",
      "Size of the concatenated data:  (26, 56) Number time windows :  56\n",
      "Size of label for classif:  26\n",
      "th_perm :  73.0769230769 80.7692307692 92.3076923077\n"
     ]
    },
    {
     "name": "stderr",
     "output_type": "stream",
     "text": [
      "/home/karim/anaconda3/lib/python3.5/site-packages/matplotlib/axes/_axes.py:545: UserWarning: No labelled objects found. Use label='...' kwarg on individual plots.\n",
      "  warnings.warn(\"No labelled objects found. \"\n"
     ]
    },
    {
     "name": "stdout",
     "output_type": "stream",
     "text": [
      "VACJ Channel :  o5-o4 Label :  MOrG-IOrG&MOrG Bad shape :  (2560, 13) Good shape :  (2560, 13)\n",
      "Setting up low-pass filter at 10 Hz\n",
      "h_trans_bandwidth chosen to be 2.5 Hz\n",
      "Filter length of 1352 samples (2.641 sec) selected\n",
      "Setting up low-pass filter at 10 Hz\n",
      "h_trans_bandwidth chosen to be 2.5 Hz\n",
      "Filter length of 1352 samples (2.641 sec) selected\n",
      "Size of filtered data bad : (13, 2560) filtered data good :  (13, 2560)\n",
      "time points :  (2560,)\n",
      "Applying baseline correction (mode: mean)\n",
      "Applying baseline correction (mode: mean)\n",
      "Size norm & filtered data 0 :  (13, 2560) (13, 2560)\n",
      "-> Shape of bad data (13, 563) good data (13, 563)\n",
      "(13, 1000, 56) (13, 1000, 56)\n",
      "(1000, 56)\n",
      "[-1.8568769068609903, 1.8568769068609903] [-2.86832648549486, 2.86832648549486] [-5.4906492501262374, 5.4906492501262374]\n",
      "(56,) 0.687120995624 -2.08614064067\n",
      "Size of the concatenated data:  (26, 56) Number time windows :  56\n",
      "Size of label for classif:  26\n",
      "th_perm :  69.2307692308 76.9230769231 92.3076923077\n"
     ]
    },
    {
     "name": "stderr",
     "output_type": "stream",
     "text": [
      "/home/karim/anaconda3/lib/python3.5/site-packages/matplotlib/axes/_axes.py:545: UserWarning: No labelled objects found. Use label='...' kwarg on individual plots.\n",
      "  warnings.warn(\"No labelled objects found. \"\n"
     ]
    },
    {
     "name": "stdout",
     "output_type": "stream",
     "text": [
      "VACJ Channel :  o6-o5 Label :  MOrG-IOrG Bad shape :  (2560, 13) Good shape :  (2560, 13)\n",
      "Setting up low-pass filter at 10 Hz\n",
      "h_trans_bandwidth chosen to be 2.5 Hz\n",
      "Filter length of 1352 samples (2.641 sec) selected\n",
      "Setting up low-pass filter at 10 Hz\n",
      "h_trans_bandwidth chosen to be 2.5 Hz\n",
      "Filter length of 1352 samples (2.641 sec) selected\n",
      "Size of filtered data bad : (13, 2560) filtered data good :  (13, 2560)\n",
      "time points :  (2560,)\n",
      "Applying baseline correction (mode: mean)\n",
      "Applying baseline correction (mode: mean)\n",
      "Size norm & filtered data 0 :  (13, 2560) (13, 2560)\n",
      "-> Shape of bad data (13, 563) good data (13, 563)\n",
      "(13, 1000, 56) (13, 1000, 56)\n",
      "(1000, 56)\n",
      "[-1.857998583514711, 1.857998583514711] [-2.8741469369411052, 2.8741469369411052] [-4.7857159404149971, 4.7857159404149971]\n",
      "(56,) 0.890432163509 -2.83435548772\n",
      "Size of the concatenated data:  (26, 56) Number time windows :  56\n",
      "Size of label for classif:  26\n",
      "th_perm :  73.0769230769 76.9230769231 88.4615384615\n"
     ]
    },
    {
     "name": "stderr",
     "output_type": "stream",
     "text": [
      "/home/karim/anaconda3/lib/python3.5/site-packages/matplotlib/axes/_axes.py:545: UserWarning: No labelled objects found. Use label='...' kwarg on individual plots.\n",
      "  warnings.warn(\"No labelled objects found. \"\n"
     ]
    },
    {
     "name": "stdout",
     "output_type": "stream",
     "text": [
      "VACJ Channel :  o7-o6 Label :  IOrG&MOrG-IOrG Bad shape :  (2560, 13) Good shape :  (2560, 13)\n",
      "Setting up low-pass filter at 10 Hz\n",
      "h_trans_bandwidth chosen to be 2.5 Hz\n",
      "Filter length of 1352 samples (2.641 sec) selected\n",
      "Setting up low-pass filter at 10 Hz\n",
      "h_trans_bandwidth chosen to be 2.5 Hz\n",
      "Filter length of 1352 samples (2.641 sec) selected\n",
      "Size of filtered data bad : (13, 2560) filtered data good :  (13, 2560)\n",
      "time points :  (2560,)\n",
      "Applying baseline correction (mode: mean)\n",
      "Applying baseline correction (mode: mean)\n",
      "Size norm & filtered data 0 :  (13, 2560) (13, 2560)\n",
      "-> Shape of bad data (13, 563) good data (13, 563)\n",
      "(13, 1000, 56) (13, 1000, 56)\n",
      "(1000, 56)\n",
      "[-1.8331884515091039, 1.8331884515091039] [-2.8247056727299165, 2.8247056727299165] [-4.7727152778249149, 4.7727152778249149]\n",
      "(56,) 1.01108264134 -0.992885993847\n",
      "Size of the concatenated data:  (26, 56) Number time windows :  56\n",
      "Size of label for classif:  26\n",
      "th_perm :  73.0769230769 76.9230769231 88.4615384615\n"
     ]
    },
    {
     "name": "stderr",
     "output_type": "stream",
     "text": [
      "/home/karim/anaconda3/lib/python3.5/site-packages/matplotlib/axes/_axes.py:545: UserWarning: No labelled objects found. Use label='...' kwarg on individual plots.\n",
      "  warnings.warn(\"No labelled objects found. \"\n"
     ]
    },
    {
     "name": "stdout",
     "output_type": "stream",
     "text": [
      "VACJ Channel :  o8-o7 Label :  IOrG Bad shape :  (2560, 13) Good shape :  (2560, 13)\n",
      "Setting up low-pass filter at 10 Hz\n",
      "h_trans_bandwidth chosen to be 2.5 Hz\n",
      "Filter length of 1352 samples (2.641 sec) selected\n",
      "Setting up low-pass filter at 10 Hz\n",
      "h_trans_bandwidth chosen to be 2.5 Hz\n",
      "Filter length of 1352 samples (2.641 sec) selected\n",
      "Size of filtered data bad : (13, 2560) filtered data good :  (13, 2560)\n",
      "time points :  (2560,)\n",
      "Applying baseline correction (mode: mean)\n",
      "Applying baseline correction (mode: mean)\n",
      "Size norm & filtered data 0 :  (13, 2560) (13, 2560)\n",
      "-> Shape of bad data (13, 563) good data (13, 563)\n",
      "(13, 1000, 56) (13, 1000, 56)\n",
      "(1000, 56)\n",
      "[-1.8983859518307455, 1.8983859518307455] [-2.8642477011701644, 2.8642477011701644] [-4.6973000882923808, 4.6973000882923808]\n",
      "(56,) 2.19935340773 -1.93651983689\n",
      "Size of the concatenated data:  (26, 56) Number time windows :  56\n",
      "Size of label for classif:  26\n",
      "th_perm :  73.0769230769 76.9230769231 88.4615384615\n"
     ]
    },
    {
     "name": "stderr",
     "output_type": "stream",
     "text": [
      "/home/karim/anaconda3/lib/python3.5/site-packages/matplotlib/axes/_axes.py:545: UserWarning: No labelled objects found. Use label='...' kwarg on individual plots.\n",
      "  warnings.warn(\"No labelled objects found. \"\n"
     ]
    },
    {
     "name": "stdout",
     "output_type": "stream",
     "text": [
      "VACJ Channel :  o9-o8 Label :  IOrG-IFGOr&IOrG Bad shape :  (2560, 13) Good shape :  (2560, 13)\n",
      "Setting up low-pass filter at 10 Hz\n",
      "h_trans_bandwidth chosen to be 2.5 Hz\n",
      "Filter length of 1352 samples (2.641 sec) selected\n",
      "Setting up low-pass filter at 10 Hz\n",
      "h_trans_bandwidth chosen to be 2.5 Hz\n",
      "Filter length of 1352 samples (2.641 sec) selected\n",
      "Size of filtered data bad : (13, 2560) filtered data good :  (13, 2560)\n",
      "time points :  (2560,)\n",
      "Applying baseline correction (mode: mean)\n",
      "Applying baseline correction (mode: mean)\n",
      "Size norm & filtered data 0 :  (13, 2560) (13, 2560)\n",
      "-> Shape of bad data (13, 563) good data (13, 563)\n",
      "(13, 1000, 56) (13, 1000, 56)\n",
      "(1000, 56)\n",
      "[-1.836810363591828, 1.836810363591828] [-2.8088624305198353, 2.8088624305198353] [-4.852968085160879, 4.852968085160879]\n",
      "(56,) 2.24847048786 -1.74939874758\n",
      "Size of the concatenated data:  (26, 56) Number time windows :  56\n",
      "Size of label for classif:  26\n",
      "th_perm :  69.2307692308 76.9230769231 92.3076923077\n"
     ]
    },
    {
     "name": "stderr",
     "output_type": "stream",
     "text": [
      "/home/karim/anaconda3/lib/python3.5/site-packages/matplotlib/axes/_axes.py:545: UserWarning: No labelled objects found. Use label='...' kwarg on individual plots.\n",
      "  warnings.warn(\"No labelled objects found. \"\n"
     ]
    },
    {
     "name": "stdout",
     "output_type": "stream",
     "text": [
      "VACJ Channel :  o10-o9 Label :  IFGOr&IOrG-IFGOr Bad shape :  (2560, 13) Good shape :  (2560, 13)\n",
      "Setting up low-pass filter at 10 Hz\n",
      "h_trans_bandwidth chosen to be 2.5 Hz\n",
      "Filter length of 1352 samples (2.641 sec) selected\n",
      "Setting up low-pass filter at 10 Hz\n",
      "h_trans_bandwidth chosen to be 2.5 Hz\n",
      "Filter length of 1352 samples (2.641 sec) selected\n",
      "Size of filtered data bad : (13, 2560) filtered data good :  (13, 2560)\n",
      "time points :  (2560,)\n",
      "Applying baseline correction (mode: mean)\n",
      "Applying baseline correction (mode: mean)\n",
      "Size norm & filtered data 0 :  (13, 2560) (13, 2560)\n",
      "-> Shape of bad data (13, 563) good data (13, 563)\n",
      "(13, 1000, 56) (13, 1000, 56)\n",
      "(1000, 56)\n",
      "[-1.8763809924128172, 1.8763809924128172] [-2.81894673227466, 2.81894673227466] [-5.2670099340456478, 5.2670099340456478]\n",
      "(56,) 1.70761236128 -1.17521590187\n",
      "Size of the concatenated data:  (26, 56) Number time windows :  56\n",
      "Size of label for classif:  26\n",
      "th_perm :  73.0769230769 76.9230769231 92.3076923077\n"
     ]
    },
    {
     "name": "stderr",
     "output_type": "stream",
     "text": [
      "/home/karim/anaconda3/lib/python3.5/site-packages/matplotlib/axes/_axes.py:545: UserWarning: No labelled objects found. Use label='...' kwarg on individual plots.\n",
      "  warnings.warn(\"No labelled objects found. \"\n"
     ]
    },
    {
     "name": "stdout",
     "output_type": "stream",
     "text": [
      "VACJ Channel :  o11-o10 Label :  IFGOr Bad shape :  (2560, 13) Good shape :  (2560, 13)\n",
      "Setting up low-pass filter at 10 Hz\n",
      "h_trans_bandwidth chosen to be 2.5 Hz\n",
      "Filter length of 1352 samples (2.641 sec) selected\n",
      "Setting up low-pass filter at 10 Hz\n",
      "h_trans_bandwidth chosen to be 2.5 Hz\n",
      "Filter length of 1352 samples (2.641 sec) selected\n",
      "Size of filtered data bad : (13, 2560) filtered data good :  (13, 2560)\n",
      "time points :  (2560,)\n",
      "Applying baseline correction (mode: mean)\n",
      "Applying baseline correction (mode: mean)\n",
      "Size norm & filtered data 0 :  (13, 2560) (13, 2560)\n",
      "-> Shape of bad data (13, 563) good data (13, 563)\n",
      "(13, 1000, 56) (13, 1000, 56)\n",
      "(1000, 56)\n",
      "[-1.8292209642491755, 1.8292209642491755] [-2.7166342208254628, 2.7166342208254628] [-4.4634339876069982, 4.4634339876069982]\n",
      "(56,) 0.641655536081 -1.31463038299\n",
      "Size of the concatenated data:  (26, 56) Number time windows :  56\n",
      "Size of label for classif:  26\n",
      "th_perm :  73.0769230769 76.9230769231 88.4615384615\n"
     ]
    },
    {
     "name": "stderr",
     "output_type": "stream",
     "text": [
      "/home/karim/anaconda3/lib/python3.5/site-packages/matplotlib/axes/_axes.py:545: UserWarning: No labelled objects found. Use label='...' kwarg on individual plots.\n",
      "  warnings.warn(\"No labelled objects found. \"\n"
     ]
    },
    {
     "name": "stdout",
     "output_type": "stream",
     "text": [
      "VACJ Channel :  o12-o11 Label :  LCR-IFGOr&IFGOr Bad shape :  (2560, 13) Good shape :  (2560, 13)\n",
      "Setting up low-pass filter at 10 Hz\n",
      "h_trans_bandwidth chosen to be 2.5 Hz\n",
      "Filter length of 1352 samples (2.641 sec) selected\n",
      "Setting up low-pass filter at 10 Hz\n",
      "h_trans_bandwidth chosen to be 2.5 Hz\n",
      "Filter length of 1352 samples (2.641 sec) selected\n",
      "Size of filtered data bad : (13, 2560) filtered data good :  (13, 2560)\n",
      "time points :  (2560,)\n",
      "Applying baseline correction (mode: mean)\n",
      "Applying baseline correction (mode: mean)\n",
      "Size norm & filtered data 0 :  (13, 2560) (13, 2560)\n",
      "-> Shape of bad data (13, 563) good data (13, 563)\n",
      "(13, 1000, 56) (13, 1000, 56)\n",
      "(1000, 56)\n",
      "[-1.8060294403056798, 1.8060294403056798] [-2.7198182854346129, 2.7198182854346129] [-4.6574604544281604, 4.6574604544281604]\n",
      "(56,) 2.03899086008 -1.78060583893\n",
      "Size of the concatenated data:  (26, 56) Number time windows :  56\n",
      "Size of label for classif:  26\n",
      "th_perm :  73.0769230769 76.9230769231 92.3076923077\n"
     ]
    },
    {
     "name": "stderr",
     "output_type": "stream",
     "text": [
      "/home/karim/anaconda3/lib/python3.5/site-packages/matplotlib/axes/_axes.py:545: UserWarning: No labelled objects found. Use label='...' kwarg on individual plots.\n",
      "  warnings.warn(\"No labelled objects found. \"\n"
     ]
    },
    {
     "name": "stdout",
     "output_type": "stream",
     "text": [
      "VACJ Channel :  o'2-o'1 Label :  IRoG Bad shape :  (2560, 13) Good shape :  (2560, 13)\n",
      "Setting up low-pass filter at 10 Hz\n",
      "h_trans_bandwidth chosen to be 2.5 Hz\n",
      "Filter length of 1352 samples (2.641 sec) selected\n",
      "Setting up low-pass filter at 10 Hz\n",
      "h_trans_bandwidth chosen to be 2.5 Hz\n",
      "Filter length of 1352 samples (2.641 sec) selected\n",
      "Size of filtered data bad : (13, 2560) filtered data good :  (13, 2560)\n",
      "time points :  (2560,)\n",
      "Applying baseline correction (mode: mean)\n",
      "Applying baseline correction (mode: mean)\n",
      "Size norm & filtered data 0 :  (13, 2560) (13, 2560)\n",
      "-> Shape of bad data (13, 563) good data (13, 563)\n",
      "(13, 1000, 56) (13, 1000, 56)\n",
      "(1000, 56)\n",
      "[-1.9635445209321309, 1.9635445209321309] [-2.9094732498216782, 2.9094732498216782] [-4.9555266667336051, 4.9555266667336051]\n",
      "(56,) 0.322000961451 -1.86050853935\n",
      "Size of the concatenated data:  (26, 56) Number time windows :  56\n",
      "Size of label for classif:  26\n",
      "th_perm :  73.0769230769 76.9230769231 88.4615384615\n"
     ]
    },
    {
     "name": "stderr",
     "output_type": "stream",
     "text": [
      "/home/karim/anaconda3/lib/python3.5/site-packages/matplotlib/axes/_axes.py:545: UserWarning: No labelled objects found. Use label='...' kwarg on individual plots.\n",
      "  warnings.warn(\"No labelled objects found. \"\n"
     ]
    },
    {
     "name": "stdout",
     "output_type": "stream",
     "text": [
      "VACJ Channel :  o'3-o'2 Label :  IRoG-SG&IRoG Bad shape :  (2560, 13) Good shape :  (2560, 13)\n",
      "Setting up low-pass filter at 10 Hz\n",
      "h_trans_bandwidth chosen to be 2.5 Hz\n",
      "Filter length of 1352 samples (2.641 sec) selected\n",
      "Setting up low-pass filter at 10 Hz\n",
      "h_trans_bandwidth chosen to be 2.5 Hz\n",
      "Filter length of 1352 samples (2.641 sec) selected\n",
      "Size of filtered data bad : (13, 2560) filtered data good :  (13, 2560)\n",
      "time points :  (2560,)\n",
      "Applying baseline correction (mode: mean)\n",
      "Applying baseline correction (mode: mean)\n",
      "Size norm & filtered data 0 :  (13, 2560) (13, 2560)\n",
      "-> Shape of bad data (13, 563) good data (13, 563)\n",
      "(13, 1000, 56) (13, 1000, 56)\n",
      "(1000, 56)\n",
      "[-1.8790572491728006, 1.8790572491728006] [-2.675396789189608, 2.675396789189608] [-5.1095680519931115, 5.1095680519931115]\n",
      "(56,) 2.69210364801 -1.44249663365\n",
      "Size of the concatenated data:  (26, 56) Number time windows :  56\n",
      "Size of label for classif:  26\n",
      "th_perm :  69.2307692308 76.9230769231 88.4615384615\n"
     ]
    },
    {
     "name": "stderr",
     "output_type": "stream",
     "text": [
      "/home/karim/anaconda3/lib/python3.5/site-packages/matplotlib/axes/_axes.py:545: UserWarning: No labelled objects found. Use label='...' kwarg on individual plots.\n",
      "  warnings.warn(\"No labelled objects found. \"\n"
     ]
    },
    {
     "name": "stdout",
     "output_type": "stream",
     "text": [
      "VACJ Channel :  o'6-o'5 Label :  Iorg&MOrG Bad shape :  (2560, 13) Good shape :  (2560, 13)\n",
      "Setting up low-pass filter at 10 Hz\n",
      "h_trans_bandwidth chosen to be 2.5 Hz\n",
      "Filter length of 1352 samples (2.641 sec) selected\n",
      "Setting up low-pass filter at 10 Hz\n",
      "h_trans_bandwidth chosen to be 2.5 Hz\n",
      "Filter length of 1352 samples (2.641 sec) selected\n",
      "Size of filtered data bad : (13, 2560) filtered data good :  (13, 2560)\n",
      "time points :  (2560,)\n",
      "Applying baseline correction (mode: mean)\n",
      "Applying baseline correction (mode: mean)\n",
      "Size norm & filtered data 0 :  (13, 2560) (13, 2560)\n",
      "-> Shape of bad data (13, 563) good data (13, 563)\n",
      "(13, 1000, 56) (13, 1000, 56)\n",
      "(1000, 56)\n",
      "[-1.828710797520533, 1.828710797520533] [-2.7698251633643793, 2.7698251633643793] [-6.5658525359422022, 6.5658525359422022]\n",
      "(56,) 2.17952146357 -0.643236285853\n",
      "Size of the concatenated data:  (26, 56) Number time windows :  56\n",
      "Size of label for classif:  26\n",
      "th_perm :  73.0769230769 76.9230769231 92.3076923077\n"
     ]
    },
    {
     "name": "stderr",
     "output_type": "stream",
     "text": [
      "/home/karim/anaconda3/lib/python3.5/site-packages/matplotlib/axes/_axes.py:545: UserWarning: No labelled objects found. Use label='...' kwarg on individual plots.\n",
      "  warnings.warn(\"No labelled objects found. \"\n"
     ]
    },
    {
     "name": "stdout",
     "output_type": "stream",
     "text": [
      "VACJ Channel :  o'7-o'6 Label :  Iorg Bad shape :  (2560, 13) Good shape :  (2560, 13)\n",
      "Setting up low-pass filter at 10 Hz\n",
      "h_trans_bandwidth chosen to be 2.5 Hz\n",
      "Filter length of 1352 samples (2.641 sec) selected\n",
      "Setting up low-pass filter at 10 Hz\n",
      "h_trans_bandwidth chosen to be 2.5 Hz\n",
      "Filter length of 1352 samples (2.641 sec) selected\n",
      "Size of filtered data bad : (13, 2560) filtered data good :  (13, 2560)\n",
      "time points :  (2560,)\n",
      "Applying baseline correction (mode: mean)\n",
      "Applying baseline correction (mode: mean)\n",
      "Size norm & filtered data 0 :  (13, 2560) (13, 2560)\n",
      "-> Shape of bad data (13, 563) good data (13, 563)\n",
      "(13, 1000, 56) (13, 1000, 56)\n",
      "(1000, 56)\n",
      "[-1.8455237933667303, 1.8455237933667303] [-2.8682163770857172, 2.8682163770857172] [-4.8648772128545295, 4.8648772128545295]\n",
      "(56,) 0.658046270931 -2.36832203706\n",
      "Size of the concatenated data:  (26, 56) Number time windows :  56\n",
      "Size of label for classif:  26\n",
      "th_perm :  69.2307692308 76.9230769231 88.4615384615\n"
     ]
    },
    {
     "name": "stderr",
     "output_type": "stream",
     "text": [
      "/home/karim/anaconda3/lib/python3.5/site-packages/matplotlib/axes/_axes.py:545: UserWarning: No labelled objects found. Use label='...' kwarg on individual plots.\n",
      "  warnings.warn(\"No labelled objects found. \"\n"
     ]
    },
    {
     "name": "stdout",
     "output_type": "stream",
     "text": [
      "VACJ Channel :  o'8-o'7 Label :  Iorg Bad shape :  (2560, 13) Good shape :  (2560, 13)\n",
      "Setting up low-pass filter at 10 Hz\n",
      "h_trans_bandwidth chosen to be 2.5 Hz\n",
      "Filter length of 1352 samples (2.641 sec) selected\n",
      "Setting up low-pass filter at 10 Hz\n",
      "h_trans_bandwidth chosen to be 2.5 Hz\n",
      "Filter length of 1352 samples (2.641 sec) selected\n",
      "Size of filtered data bad : (13, 2560) filtered data good :  (13, 2560)\n",
      "time points :  (2560,)\n",
      "Applying baseline correction (mode: mean)\n",
      "Applying baseline correction (mode: mean)\n",
      "Size norm & filtered data 0 :  (13, 2560) (13, 2560)\n",
      "-> Shape of bad data (13, 563) good data (13, 563)\n",
      "(13, 1000, 56) (13, 1000, 56)\n",
      "(1000, 56)\n",
      "[-1.9095517128011583, 1.9095517128011583] [-2.8027034609079986, 2.8027034609079986] [-5.5249459271330474, 5.5249459271330474]\n",
      "(56,) 0.730128412213 -2.50005409375\n",
      "Size of the concatenated data:  (26, 56) Number time windows :  56\n",
      "Size of label for classif:  26\n",
      "th_perm :  69.2307692308 76.9230769231 92.3076923077\n"
     ]
    },
    {
     "name": "stderr",
     "output_type": "stream",
     "text": [
      "/home/karim/anaconda3/lib/python3.5/site-packages/matplotlib/axes/_axes.py:545: UserWarning: No labelled objects found. Use label='...' kwarg on individual plots.\n",
      "  warnings.warn(\"No labelled objects found. \"\n"
     ]
    },
    {
     "name": "stdout",
     "output_type": "stream",
     "text": [
      "VACJ Channel :  o'9-o'8 Label :  Iorg Bad shape :  (2560, 13) Good shape :  (2560, 13)\n",
      "Setting up low-pass filter at 10 Hz\n",
      "h_trans_bandwidth chosen to be 2.5 Hz\n",
      "Filter length of 1352 samples (2.641 sec) selected\n",
      "Setting up low-pass filter at 10 Hz\n",
      "h_trans_bandwidth chosen to be 2.5 Hz\n",
      "Filter length of 1352 samples (2.641 sec) selected\n",
      "Size of filtered data bad : (13, 2560) filtered data good :  (13, 2560)\n",
      "time points :  (2560,)\n",
      "Applying baseline correction (mode: mean)\n",
      "Applying baseline correction (mode: mean)\n",
      "Size norm & filtered data 0 :  (13, 2560) (13, 2560)\n",
      "-> Shape of bad data (13, 563) good data (13, 563)\n",
      "(13, 1000, 56) (13, 1000, 56)\n",
      "(1000, 56)\n",
      "[-1.813270913043594, 1.813270913043594] [-2.7098913479836648, 2.7098913479836648] [-5.1373943072293704, 5.1373943072293704]\n",
      "(56,) 2.22282535315 -1.00814643371\n",
      "Size of the concatenated data:  (26, 56) Number time windows :  56\n",
      "Size of label for classif:  26\n",
      "th_perm :  73.0769230769 76.9230769231 88.4615384615\n"
     ]
    },
    {
     "name": "stderr",
     "output_type": "stream",
     "text": [
      "/home/karim/anaconda3/lib/python3.5/site-packages/matplotlib/axes/_axes.py:545: UserWarning: No labelled objects found. Use label='...' kwarg on individual plots.\n",
      "  warnings.warn(\"No labelled objects found. \"\n"
     ]
    },
    {
     "name": "stdout",
     "output_type": "stream",
     "text": [
      "VACJ Channel :  o'10-o'9 Label :  Iorg Bad shape :  (2560, 13) Good shape :  (2560, 13)\n",
      "Setting up low-pass filter at 10 Hz\n",
      "h_trans_bandwidth chosen to be 2.5 Hz\n",
      "Filter length of 1352 samples (2.641 sec) selected\n",
      "Setting up low-pass filter at 10 Hz\n",
      "h_trans_bandwidth chosen to be 2.5 Hz\n",
      "Filter length of 1352 samples (2.641 sec) selected\n",
      "Size of filtered data bad : (13, 2560) filtered data good :  (13, 2560)\n",
      "time points :  (2560,)\n",
      "Applying baseline correction (mode: mean)\n",
      "Applying baseline correction (mode: mean)\n",
      "Size norm & filtered data 0 :  (13, 2560) (13, 2560)\n",
      "-> Shape of bad data (13, 563) good data (13, 563)\n",
      "(13, 1000, 56) (13, 1000, 56)\n",
      "(1000, 56)\n",
      "[-1.9774733006849718, 1.9774733006849718] [-2.7994701977807677, 2.7994701977807677] [-4.6117105647928307, 4.6117105647928307]\n",
      "(56,) 0.476691202669 -3.15552932121\n",
      "Size of the concatenated data:  (26, 56) Number time windows :  56\n",
      "Size of label for classif:  26\n",
      "th_perm :  73.0769230769 76.9230769231 88.4615384615\n"
     ]
    },
    {
     "name": "stderr",
     "output_type": "stream",
     "text": [
      "/home/karim/anaconda3/lib/python3.5/site-packages/matplotlib/axes/_axes.py:545: UserWarning: No labelled objects found. Use label='...' kwarg on individual plots.\n",
      "  warnings.warn(\"No labelled objects found. \"\n"
     ]
    },
    {
     "name": "stdout",
     "output_type": "stream",
     "text": [
      "VACJ Channel :  o'12-o'11 Label :  IFGOr Bad shape :  (2560, 13) Good shape :  (2560, 13)\n",
      "Setting up low-pass filter at 10 Hz\n",
      "h_trans_bandwidth chosen to be 2.5 Hz\n",
      "Filter length of 1352 samples (2.641 sec) selected\n",
      "Setting up low-pass filter at 10 Hz\n",
      "h_trans_bandwidth chosen to be 2.5 Hz\n",
      "Filter length of 1352 samples (2.641 sec) selected\n",
      "Size of filtered data bad : (13, 2560) filtered data good :  (13, 2560)\n",
      "time points :  (2560,)\n",
      "Applying baseline correction (mode: mean)\n",
      "Applying baseline correction (mode: mean)\n",
      "Size norm & filtered data 0 :  (13, 2560) (13, 2560)\n",
      "-> Shape of bad data (13, 563) good data (13, 563)\n",
      "(13, 1000, 56) (13, 1000, 56)\n",
      "(1000, 56)\n",
      "[-1.8323091348365084, 1.8323091348365084] [-2.6994249012830478, 2.6994249012830478] [-5.3196544138196113, 5.3196544138196113]\n",
      "(56,) 1.22084681329 -1.98754122014\n",
      "Size of the concatenated data:  (26, 56) Number time windows :  56\n",
      "Size of label for classif:  26\n",
      "th_perm :  69.2307692308 76.9230769231 88.4615384615\n"
     ]
    },
    {
     "name": "stderr",
     "output_type": "stream",
     "text": [
      "/home/karim/anaconda3/lib/python3.5/site-packages/matplotlib/axes/_axes.py:545: UserWarning: No labelled objects found. Use label='...' kwarg on individual plots.\n",
      "  warnings.warn(\"No labelled objects found. \"\n"
     ]
    },
    {
     "name": "stdout",
     "output_type": "stream",
     "text": [
      "VACJ Channel :  t2-t1 Label :  Ins-TTG Bad shape :  (2560, 13) Good shape :  (2560, 13)\n",
      "Setting up low-pass filter at 10 Hz\n",
      "h_trans_bandwidth chosen to be 2.5 Hz\n",
      "Filter length of 1352 samples (2.641 sec) selected\n",
      "Setting up low-pass filter at 10 Hz\n",
      "h_trans_bandwidth chosen to be 2.5 Hz\n",
      "Filter length of 1352 samples (2.641 sec) selected\n",
      "Size of filtered data bad : (13, 2560) filtered data good :  (13, 2560)\n",
      "time points :  (2560,)\n",
      "Applying baseline correction (mode: mean)\n",
      "Applying baseline correction (mode: mean)\n",
      "Size norm & filtered data 0 :  (13, 2560) (13, 2560)\n",
      "-> Shape of bad data (13, 563) good data (13, 563)\n",
      "(13, 1000, 56) (13, 1000, 56)\n",
      "(1000, 56)\n",
      "[-1.7633809557068398, 1.7633809557068398] [-2.5233224471123403, 2.5233224471123403] [-4.4154764914332576, 4.4154764914332576]\n",
      "(56,) 1.39198587601 -1.34327814413\n",
      "Size of the concatenated data:  (26, 56) Number time windows :  56\n",
      "Size of label for classif:  26\n",
      "th_perm :  69.2307692308 76.9230769231 88.4615384615\n"
     ]
    },
    {
     "name": "stderr",
     "output_type": "stream",
     "text": [
      "/home/karim/anaconda3/lib/python3.5/site-packages/matplotlib/axes/_axes.py:545: UserWarning: No labelled objects found. Use label='...' kwarg on individual plots.\n",
      "  warnings.warn(\"No labelled objects found. \"\n"
     ]
    },
    {
     "name": "stdout",
     "output_type": "stream",
     "text": [
      "VACJ Channel :  t3-t2 Label :  TTG&Ins-TTG Bad shape :  (2560, 13) Good shape :  (2560, 13)\n",
      "Setting up low-pass filter at 10 Hz\n",
      "h_trans_bandwidth chosen to be 2.5 Hz\n",
      "Filter length of 1352 samples (2.641 sec) selected\n",
      "Setting up low-pass filter at 10 Hz\n",
      "h_trans_bandwidth chosen to be 2.5 Hz\n",
      "Filter length of 1352 samples (2.641 sec) selected\n",
      "Size of filtered data bad : (13, 2560) filtered data good :  (13, 2560)\n",
      "time points :  (2560,)\n",
      "Applying baseline correction (mode: mean)\n",
      "Applying baseline correction (mode: mean)\n",
      "Size norm & filtered data 0 :  (13, 2560) (13, 2560)\n",
      "-> Shape of bad data (13, 563) good data (13, 563)\n",
      "(13, 1000, 56) (13, 1000, 56)\n",
      "(1000, 56)\n",
      "[-1.8494489062754249, 1.8494489062754249] [-2.7459539250446712, 2.7459539250446712] [-5.9581303745121703, 5.9581303745121703]\n",
      "(56,) 0.973719859225 -3.42747202784\n",
      "Size of the concatenated data:  (26, 56) Number time windows :  56\n",
      "Size of label for classif:  26\n",
      "th_perm :  73.0769230769 76.9230769231 92.3076923077\n"
     ]
    },
    {
     "name": "stderr",
     "output_type": "stream",
     "text": [
      "/home/karim/anaconda3/lib/python3.5/site-packages/matplotlib/axes/_axes.py:545: UserWarning: No labelled objects found. Use label='...' kwarg on individual plots.\n",
      "  warnings.warn(\"No labelled objects found. \"\n"
     ]
    },
    {
     "name": "stdout",
     "output_type": "stream",
     "text": [
      "VACJ Channel :  t4-t3 Label :  TTG Bad shape :  (2560, 13) Good shape :  (2560, 13)\n",
      "Setting up low-pass filter at 10 Hz\n",
      "h_trans_bandwidth chosen to be 2.5 Hz\n",
      "Filter length of 1352 samples (2.641 sec) selected\n",
      "Setting up low-pass filter at 10 Hz\n",
      "h_trans_bandwidth chosen to be 2.5 Hz\n",
      "Filter length of 1352 samples (2.641 sec) selected\n",
      "Size of filtered data bad : (13, 2560) filtered data good :  (13, 2560)\n",
      "time points :  (2560,)\n",
      "Applying baseline correction (mode: mean)\n",
      "Applying baseline correction (mode: mean)\n",
      "Size norm & filtered data 0 :  (13, 2560) (13, 2560)\n",
      "-> Shape of bad data (13, 563) good data (13, 563)\n",
      "(13, 1000, 56) (13, 1000, 56)\n",
      "(1000, 56)\n",
      "[-1.8286392056945304, 1.8286392056945304] [-2.771058318039048, 2.771058318039048] [-4.4194000305703991, 4.4194000305703991]\n",
      "(56,) 2.11878671826 -1.18957723728\n",
      "Size of the concatenated data:  (26, 56) Number time windows :  56\n",
      "Size of label for classif:  26\n",
      "th_perm :  69.2307692308 76.9230769231 88.4615384615\n"
     ]
    },
    {
     "name": "stderr",
     "output_type": "stream",
     "text": [
      "/home/karim/anaconda3/lib/python3.5/site-packages/matplotlib/axes/_axes.py:545: UserWarning: No labelled objects found. Use label='...' kwarg on individual plots.\n",
      "  warnings.warn(\"No labelled objects found. \"\n"
     ]
    },
    {
     "name": "stdout",
     "output_type": "stream",
     "text": [
      "VACJ Channel :  t5-t4 Label :  TTG Bad shape :  (2560, 13) Good shape :  (2560, 13)\n",
      "Setting up low-pass filter at 10 Hz\n",
      "h_trans_bandwidth chosen to be 2.5 Hz\n",
      "Filter length of 1352 samples (2.641 sec) selected\n",
      "Setting up low-pass filter at 10 Hz\n",
      "h_trans_bandwidth chosen to be 2.5 Hz\n",
      "Filter length of 1352 samples (2.641 sec) selected\n",
      "Size of filtered data bad : (13, 2560) filtered data good :  (13, 2560)\n",
      "time points :  (2560,)\n",
      "Applying baseline correction (mode: mean)\n",
      "Applying baseline correction (mode: mean)\n",
      "Size norm & filtered data 0 :  (13, 2560) (13, 2560)\n",
      "-> Shape of bad data (13, 563) good data (13, 563)\n",
      "(13, 1000, 56) (13, 1000, 56)\n",
      "(1000, 56)\n",
      "[-1.8511921726367875, 1.8511921726367875] [-2.788795429840266, 2.788795429840266] [-5.5764394815387606, 5.5764394815387606]\n",
      "(56,) 0.837254179484 -2.21304941026\n",
      "Size of the concatenated data:  (26, 56) Number time windows :  56\n",
      "Size of label for classif:  26\n",
      "th_perm :  73.0769230769 76.9230769231 88.4615384615\n"
     ]
    },
    {
     "name": "stderr",
     "output_type": "stream",
     "text": [
      "/home/karim/anaconda3/lib/python3.5/site-packages/matplotlib/axes/_axes.py:545: UserWarning: No labelled objects found. Use label='...' kwarg on individual plots.\n",
      "  warnings.warn(\"No labelled objects found. \"\n"
     ]
    },
    {
     "name": "stdout",
     "output_type": "stream",
     "text": [
      "VACJ Channel :  t6-t5 Label :  STG-TTG&TTG Bad shape :  (2560, 13) Good shape :  (2560, 13)\n",
      "Setting up low-pass filter at 10 Hz\n",
      "h_trans_bandwidth chosen to be 2.5 Hz\n",
      "Filter length of 1352 samples (2.641 sec) selected\n",
      "Setting up low-pass filter at 10 Hz\n",
      "h_trans_bandwidth chosen to be 2.5 Hz\n",
      "Filter length of 1352 samples (2.641 sec) selected\n",
      "Size of filtered data bad : (13, 2560) filtered data good :  (13, 2560)\n",
      "time points :  (2560,)\n",
      "Applying baseline correction (mode: mean)\n",
      "Applying baseline correction (mode: mean)\n",
      "Size norm & filtered data 0 :  (13, 2560) (13, 2560)\n",
      "-> Shape of bad data (13, 563) good data (13, 563)\n",
      "(13, 1000, 56) (13, 1000, 56)\n",
      "(1000, 56)\n",
      "[-1.8107873621375441, 1.8107873621375441] [-2.8031824862819765, 2.8031824862819765] [-4.1964628047962735, 4.1964628047962735]\n",
      "(56,) 2.65322344434 -1.5158147194\n",
      "Size of the concatenated data:  (26, 56) Number time windows :  56\n",
      "Size of label for classif:  26\n",
      "th_perm :  73.0769230769 76.9230769231 92.3076923077\n"
     ]
    },
    {
     "name": "stderr",
     "output_type": "stream",
     "text": [
      "/home/karim/anaconda3/lib/python3.5/site-packages/matplotlib/axes/_axes.py:545: UserWarning: No labelled objects found. Use label='...' kwarg on individual plots.\n",
      "  warnings.warn(\"No labelled objects found. \"\n"
     ]
    },
    {
     "name": "stdout",
     "output_type": "stream",
     "text": [
      "VACJ Channel :  t7-t6 Label :  STG&STG-TTG Bad shape :  (2560, 13) Good shape :  (2560, 13)\n",
      "Setting up low-pass filter at 10 Hz\n",
      "h_trans_bandwidth chosen to be 2.5 Hz\n",
      "Filter length of 1352 samples (2.641 sec) selected\n",
      "Setting up low-pass filter at 10 Hz\n",
      "h_trans_bandwidth chosen to be 2.5 Hz\n",
      "Filter length of 1352 samples (2.641 sec) selected\n",
      "Size of filtered data bad : (13, 2560) filtered data good :  (13, 2560)\n",
      "time points :  (2560,)\n",
      "Applying baseline correction (mode: mean)\n",
      "Applying baseline correction (mode: mean)\n",
      "Size norm & filtered data 0 :  (13, 2560) (13, 2560)\n",
      "-> Shape of bad data (13, 563) good data (13, 563)\n",
      "(13, 1000, 56) (13, 1000, 56)\n",
      "(1000, 56)\n",
      "[-1.8726875798742986, 1.8726875798742986] [-2.8942580991511151, 2.8942580991511151] [-5.3651627296266922, 5.3651627296266922]\n",
      "(56,) 0.837765842171 -2.89418603772\n",
      "Size of the concatenated data:  (26, 56) Number time windows :  56\n",
      "Size of label for classif:  26\n",
      "th_perm :  69.2307692308 76.9230769231 88.4615384615\n"
     ]
    },
    {
     "name": "stderr",
     "output_type": "stream",
     "text": [
      "/home/karim/anaconda3/lib/python3.5/site-packages/matplotlib/axes/_axes.py:545: UserWarning: No labelled objects found. Use label='...' kwarg on individual plots.\n",
      "  warnings.warn(\"No labelled objects found. \"\n"
     ]
    },
    {
     "name": "stdout",
     "output_type": "stream",
     "text": [
      "VACJ Channel :  t8-t7 Label :  STG Bad shape :  (2560, 13) Good shape :  (2560, 13)\n",
      "Setting up low-pass filter at 10 Hz\n",
      "h_trans_bandwidth chosen to be 2.5 Hz\n",
      "Filter length of 1352 samples (2.641 sec) selected\n",
      "Setting up low-pass filter at 10 Hz\n",
      "h_trans_bandwidth chosen to be 2.5 Hz\n",
      "Filter length of 1352 samples (2.641 sec) selected\n",
      "Size of filtered data bad : (13, 2560) filtered data good :  (13, 2560)\n",
      "time points :  (2560,)\n",
      "Applying baseline correction (mode: mean)\n",
      "Applying baseline correction (mode: mean)\n",
      "Size norm & filtered data 0 :  (13, 2560) (13, 2560)\n",
      "-> Shape of bad data (13, 563) good data (13, 563)\n",
      "(13, 1000, 56) (13, 1000, 56)\n",
      "(1000, 56)\n",
      "[-1.8692089234878779, 1.8692089234878779] [-3.163812052504503, 3.163812052504503] [-4.2766282245951528, 4.2766282245951528]\n",
      "(56,) 1.72508536479 -1.85800065723\n",
      "Size of the concatenated data:  (26, 56) Number time windows :  56\n",
      "Size of label for classif:  26\n",
      "th_perm :  73.0769230769 76.9230769231 92.3076923077\n"
     ]
    },
    {
     "name": "stderr",
     "output_type": "stream",
     "text": [
      "/home/karim/anaconda3/lib/python3.5/site-packages/matplotlib/axes/_axes.py:545: UserWarning: No labelled objects found. Use label='...' kwarg on individual plots.\n",
      "  warnings.warn(\"No labelled objects found. \"\n"
     ]
    },
    {
     "name": "stdout",
     "output_type": "stream",
     "text": [
      "VACJ Channel :  t9-t8 Label :  STG Bad shape :  (2560, 13) Good shape :  (2560, 13)\n",
      "Setting up low-pass filter at 10 Hz\n",
      "h_trans_bandwidth chosen to be 2.5 Hz\n",
      "Filter length of 1352 samples (2.641 sec) selected\n",
      "Setting up low-pass filter at 10 Hz\n",
      "h_trans_bandwidth chosen to be 2.5 Hz\n",
      "Filter length of 1352 samples (2.641 sec) selected\n",
      "Size of filtered data bad : (13, 2560) filtered data good :  (13, 2560)\n",
      "time points :  (2560,)\n",
      "Applying baseline correction (mode: mean)\n",
      "Applying baseline correction (mode: mean)\n",
      "Size norm & filtered data 0 :  (13, 2560) (13, 2560)\n",
      "-> Shape of bad data (13, 563) good data (13, 563)\n",
      "(13, 1000, 56) (13, 1000, 56)\n",
      "(1000, 56)\n",
      "[-1.9173246784434261, 1.9173246784434261] [-3.0240497959287165, 3.0240497959287165] [-5.7266931126011347, 5.7266931126011347]\n",
      "(56,) 1.13815142102 -2.00442828184\n",
      "Size of the concatenated data:  (26, 56) Number time windows :  56\n",
      "Size of label for classif:  26\n",
      "th_perm :  73.0769230769 80.7692307692 92.3076923077\n"
     ]
    },
    {
     "name": "stderr",
     "output_type": "stream",
     "text": [
      "/home/karim/anaconda3/lib/python3.5/site-packages/matplotlib/axes/_axes.py:545: UserWarning: No labelled objects found. Use label='...' kwarg on individual plots.\n",
      "  warnings.warn(\"No labelled objects found. \"\n"
     ]
    },
    {
     "name": "stdout",
     "output_type": "stream",
     "text": [
      "VACJ Channel :  t10-t9 Label :  STG Bad shape :  (2560, 13) Good shape :  (2560, 13)\n",
      "Setting up low-pass filter at 10 Hz\n",
      "h_trans_bandwidth chosen to be 2.5 Hz\n",
      "Filter length of 1352 samples (2.641 sec) selected\n",
      "Setting up low-pass filter at 10 Hz\n",
      "h_trans_bandwidth chosen to be 2.5 Hz\n",
      "Filter length of 1352 samples (2.641 sec) selected\n",
      "Size of filtered data bad : (13, 2560) filtered data good :  (13, 2560)\n",
      "time points :  (2560,)\n",
      "Applying baseline correction (mode: mean)\n",
      "Applying baseline correction (mode: mean)\n",
      "Size norm & filtered data 0 :  (13, 2560) (13, 2560)\n",
      "-> Shape of bad data (13, 563) good data (13, 563)\n",
      "(13, 1000, 56) (13, 1000, 56)\n",
      "(1000, 56)\n",
      "[-1.925081191306486, 1.925081191306486] [-2.7725950262080801, 2.7725950262080801] [-5.521237495122759, 5.521237495122759]\n",
      "(56,) 3.21945454824 -0.759786922229\n",
      "Size of the concatenated data:  (26, 56) Number time windows :  56\n",
      "Size of label for classif:  26\n",
      "th_perm :  73.0769230769 76.9230769231 88.4615384615\n"
     ]
    },
    {
     "name": "stderr",
     "output_type": "stream",
     "text": [
      "/home/karim/anaconda3/lib/python3.5/site-packages/matplotlib/axes/_axes.py:545: UserWarning: No labelled objects found. Use label='...' kwarg on individual plots.\n",
      "  warnings.warn(\"No labelled objects found. \"\n"
     ]
    },
    {
     "name": "stdout",
     "output_type": "stream",
     "text": [
      "balanced data :  (81, 2560, 17) (81, 2560, 17)\n",
      "SEMC Channel :  b2-b1 Label :  aHC&aHC-Ent Bad shape :  (2560, 17) Good shape :  (2560, 17)\n",
      "Setting up low-pass filter at 10 Hz\n",
      "h_trans_bandwidth chosen to be 2.5 Hz\n",
      "Filter length of 1352 samples (2.641 sec) selected\n",
      "Setting up low-pass filter at 10 Hz\n",
      "h_trans_bandwidth chosen to be 2.5 Hz\n",
      "Filter length of 1352 samples (2.641 sec) selected\n",
      "Size of filtered data bad : (17, 2560) filtered data good :  (17, 2560)\n",
      "time points :  (2560,)\n",
      "Applying baseline correction (mode: mean)\n",
      "Applying baseline correction (mode: mean)\n",
      "Size norm & filtered data 0 :  (17, 2560) (17, 2560)\n",
      "-> Shape of bad data (17, 563) good data (17, 563)\n",
      "(17, 1000, 56) (17, 1000, 56)\n",
      "(1000, 56)\n",
      "[-1.8640581331469177, 1.8640581331469177] [-2.8634251830269442, 2.8634251830269442] [-5.2268585088597552, 5.2268585088597552]\n",
      "(56,) 1.58213953807 -2.46022242613\n",
      "Size of the concatenated data:  (34, 56) Number time windows :  56\n",
      "Size of label for classif:  34\n",
      "th_perm :  67.6470588235 73.5294117647 82.3529411765\n"
     ]
    },
    {
     "name": "stderr",
     "output_type": "stream",
     "text": [
      "/home/karim/anaconda3/lib/python3.5/site-packages/matplotlib/axes/_axes.py:545: UserWarning: No labelled objects found. Use label='...' kwarg on individual plots.\n",
      "  warnings.warn(\"No labelled objects found. \"\n"
     ]
    },
    {
     "name": "stdout",
     "output_type": "stream",
     "text": [
      "SEMC Channel :  b3-b2 Label :  aHC Bad shape :  (2560, 17) Good shape :  (2560, 17)\n",
      "Setting up low-pass filter at 10 Hz\n",
      "h_trans_bandwidth chosen to be 2.5 Hz\n",
      "Filter length of 1352 samples (2.641 sec) selected\n",
      "Setting up low-pass filter at 10 Hz\n",
      "h_trans_bandwidth chosen to be 2.5 Hz\n",
      "Filter length of 1352 samples (2.641 sec) selected\n",
      "Size of filtered data bad : (17, 2560) filtered data good :  (17, 2560)\n",
      "time points :  (2560,)\n",
      "Applying baseline correction (mode: mean)\n",
      "Applying baseline correction (mode: mean)\n",
      "Size norm & filtered data 0 :  (17, 2560) (17, 2560)\n",
      "-> Shape of bad data (17, 563) good data (17, 563)\n",
      "(17, 1000, 56) (17, 1000, 56)\n",
      "(1000, 56)\n",
      "[-1.7822929248516863, 1.7822929248516863] [-2.7641376679028387, 2.7641376679028387] [-4.8434961946774635, 4.8434961946774635]\n",
      "(56,) 1.33339121416 -2.25869011582\n",
      "Size of the concatenated data:  (34, 56) Number time windows :  56\n",
      "Size of label for classif:  34\n",
      "th_perm :  67.6470588235 73.5294117647 88.2352941176\n"
     ]
    },
    {
     "name": "stderr",
     "output_type": "stream",
     "text": [
      "/home/karim/anaconda3/lib/python3.5/site-packages/matplotlib/axes/_axes.py:545: UserWarning: No labelled objects found. Use label='...' kwarg on individual plots.\n",
      "  warnings.warn(\"No labelled objects found. \"\n"
     ]
    },
    {
     "name": "stdout",
     "output_type": "stream",
     "text": [
      "SEMC Channel :  b4-b3 Label :  aHC Bad shape :  (2560, 17) Good shape :  (2560, 17)\n",
      "Setting up low-pass filter at 10 Hz\n",
      "h_trans_bandwidth chosen to be 2.5 Hz\n",
      "Filter length of 1352 samples (2.641 sec) selected\n",
      "Setting up low-pass filter at 10 Hz\n",
      "h_trans_bandwidth chosen to be 2.5 Hz\n",
      "Filter length of 1352 samples (2.641 sec) selected\n",
      "Size of filtered data bad : (17, 2560) filtered data good :  (17, 2560)\n",
      "time points :  (2560,)\n",
      "Applying baseline correction (mode: mean)\n",
      "Applying baseline correction (mode: mean)\n",
      "Size norm & filtered data 0 :  (17, 2560) (17, 2560)\n",
      "-> Shape of bad data (17, 563) good data (17, 563)\n",
      "(17, 1000, 56) (17, 1000, 56)\n",
      "(1000, 56)\n",
      "[-1.8051608175226008, 1.8051608175226008] [-2.6887900011213293, 2.6887900011213293] [-4.5280357478513729, 4.5280357478513729]\n",
      "(56,) 2.24966848517 -2.83762123315\n",
      "Size of the concatenated data:  (34, 56) Number time windows :  56\n",
      "Size of label for classif:  34\n",
      "th_perm :  67.6470588235 73.5294117647 88.2352941176\n"
     ]
    },
    {
     "name": "stderr",
     "output_type": "stream",
     "text": [
      "/home/karim/anaconda3/lib/python3.5/site-packages/matplotlib/axes/_axes.py:545: UserWarning: No labelled objects found. Use label='...' kwarg on individual plots.\n",
      "  warnings.warn(\"No labelled objects found. \"\n"
     ]
    },
    {
     "name": "stdout",
     "output_type": "stream",
     "text": [
      "SEMC Channel :  b5-b4 Label :  aHC-PHG&aHC Bad shape :  (2560, 17) Good shape :  (2560, 17)\n",
      "Setting up low-pass filter at 10 Hz\n",
      "h_trans_bandwidth chosen to be 2.5 Hz\n",
      "Filter length of 1352 samples (2.641 sec) selected\n",
      "Setting up low-pass filter at 10 Hz\n",
      "h_trans_bandwidth chosen to be 2.5 Hz\n",
      "Filter length of 1352 samples (2.641 sec) selected\n",
      "Size of filtered data bad : (17, 2560) filtered data good :  (17, 2560)\n",
      "time points :  (2560,)\n",
      "Applying baseline correction (mode: mean)\n",
      "Applying baseline correction (mode: mean)\n",
      "Size norm & filtered data 0 :  (17, 2560) (17, 2560)\n",
      "-> Shape of bad data (17, 563) good data (17, 563)\n",
      "(17, 1000, 56) (17, 1000, 56)\n",
      "(1000, 56)\n",
      "[-1.8615580684190147, 1.8615580684190147] [-2.8179065826168896, 2.8179065826168896] [-5.0751200055921224, 5.0751200055921224]\n",
      "(56,) 2.42658983348 -2.12729518722\n",
      "Size of the concatenated data:  (34, 56) Number time windows :  56\n",
      "Size of label for classif:  34\n",
      "th_perm :  70.5882352941 73.5294117647 85.2941176471\n"
     ]
    },
    {
     "name": "stderr",
     "output_type": "stream",
     "text": [
      "/home/karim/anaconda3/lib/python3.5/site-packages/matplotlib/axes/_axes.py:545: UserWarning: No labelled objects found. Use label='...' kwarg on individual plots.\n",
      "  warnings.warn(\"No labelled objects found. \"\n"
     ]
    },
    {
     "name": "stdout",
     "output_type": "stream",
     "text": [
      "SEMC Channel :  b6-b5 Label :  PHG-FuG&aHC-PHG Bad shape :  (2560, 17) Good shape :  (2560, 17)\n",
      "Setting up low-pass filter at 10 Hz\n",
      "h_trans_bandwidth chosen to be 2.5 Hz\n",
      "Filter length of 1352 samples (2.641 sec) selected\n",
      "Setting up low-pass filter at 10 Hz\n",
      "h_trans_bandwidth chosen to be 2.5 Hz\n",
      "Filter length of 1352 samples (2.641 sec) selected\n",
      "Size of filtered data bad : (17, 2560) filtered data good :  (17, 2560)\n",
      "time points :  (2560,)\n",
      "Applying baseline correction (mode: mean)\n",
      "Applying baseline correction (mode: mean)\n",
      "Size norm & filtered data 0 :  (17, 2560) (17, 2560)\n",
      "-> Shape of bad data (17, 563) good data (17, 563)\n",
      "(17, 1000, 56) (17, 1000, 56)\n",
      "(1000, 56)\n",
      "[-1.7911465487699345, 1.7911465487699345] [-2.8168512324791068, 2.8168512324791068] [-4.5820416843555893, 4.5820416843555893]\n",
      "(56,) 1.40227373961 -2.2512995402\n",
      "Size of the concatenated data:  (34, 56) Number time windows :  56\n",
      "Size of label for classif:  34\n",
      "th_perm :  67.6470588235 73.5294117647 82.3529411765\n"
     ]
    },
    {
     "name": "stderr",
     "output_type": "stream",
     "text": [
      "/home/karim/anaconda3/lib/python3.5/site-packages/matplotlib/axes/_axes.py:545: UserWarning: No labelled objects found. Use label='...' kwarg on individual plots.\n",
      "  warnings.warn(\"No labelled objects found. \"\n"
     ]
    },
    {
     "name": "stdout",
     "output_type": "stream",
     "text": [
      "SEMC Channel :  b12-b11 Label :  MTG Bad shape :  (2560, 17) Good shape :  (2560, 17)\n",
      "Setting up low-pass filter at 10 Hz\n",
      "h_trans_bandwidth chosen to be 2.5 Hz\n",
      "Filter length of 1352 samples (2.641 sec) selected\n",
      "Setting up low-pass filter at 10 Hz\n",
      "h_trans_bandwidth chosen to be 2.5 Hz\n",
      "Filter length of 1352 samples (2.641 sec) selected\n",
      "Size of filtered data bad : (17, 2560) filtered data good :  (17, 2560)\n",
      "time points :  (2560,)\n",
      "Applying baseline correction (mode: mean)\n",
      "Applying baseline correction (mode: mean)\n",
      "Size norm & filtered data 0 :  (17, 2560) (17, 2560)\n",
      "-> Shape of bad data (17, 563) good data (17, 563)\n",
      "(17, 1000, 56) (17, 1000, 56)\n",
      "(1000, 56)\n",
      "[-1.8855187302197667, 1.8855187302197667] [-2.9071317033267867, 2.9071317033267867] [-4.9563880690606039, 4.9563880690606039]\n",
      "(56,) 3.02137515756 -1.13077530185\n",
      "Size of the concatenated data:  (34, 56) Number time windows :  56\n",
      "Size of label for classif:  34\n",
      "th_perm :  67.6470588235 73.5294117647 82.3529411765\n"
     ]
    },
    {
     "name": "stderr",
     "output_type": "stream",
     "text": [
      "/home/karim/anaconda3/lib/python3.5/site-packages/matplotlib/axes/_axes.py:545: UserWarning: No labelled objects found. Use label='...' kwarg on individual plots.\n",
      "  warnings.warn(\"No labelled objects found. \"\n"
     ]
    },
    {
     "name": "stdout",
     "output_type": "stream",
     "text": [
      "SEMC Channel :  e2-e1 Label :  FOp-IG Bad shape :  (2560, 17) Good shape :  (2560, 17)\n",
      "Setting up low-pass filter at 10 Hz\n",
      "h_trans_bandwidth chosen to be 2.5 Hz\n",
      "Filter length of 1352 samples (2.641 sec) selected\n",
      "Setting up low-pass filter at 10 Hz\n",
      "h_trans_bandwidth chosen to be 2.5 Hz\n",
      "Filter length of 1352 samples (2.641 sec) selected\n",
      "Size of filtered data bad : (17, 2560) filtered data good :  (17, 2560)\n",
      "time points :  (2560,)\n",
      "Applying baseline correction (mode: mean)\n",
      "Applying baseline correction (mode: mean)\n",
      "Size norm & filtered data 0 :  (17, 2560) (17, 2560)\n",
      "-> Shape of bad data (17, 563) good data (17, 563)\n",
      "(17, 1000, 56) (17, 1000, 56)\n",
      "(1000, 56)\n",
      "[-1.8675694730347185, 1.8675694730347185] [-3.0043520758617741, 3.0043520758617741] [-4.5301430738968396, 4.5301430738968396]\n",
      "(56,) 0.825917152592 -2.0241515713\n",
      "Size of the concatenated data:  (34, 56) Number time windows :  56\n",
      "Size of label for classif:  34\n",
      "th_perm :  67.6470588235 76.4705882353 85.2941176471\n"
     ]
    },
    {
     "name": "stderr",
     "output_type": "stream",
     "text": [
      "/home/karim/anaconda3/lib/python3.5/site-packages/matplotlib/axes/_axes.py:545: UserWarning: No labelled objects found. Use label='...' kwarg on individual plots.\n",
      "  warnings.warn(\"No labelled objects found. \"\n"
     ]
    },
    {
     "name": "stdout",
     "output_type": "stream",
     "text": [
      "SEMC Channel :  e3-e2 Label :  FOp-IG Bad shape :  (2560, 17) Good shape :  (2560, 17)\n",
      "Setting up low-pass filter at 10 Hz\n",
      "h_trans_bandwidth chosen to be 2.5 Hz\n",
      "Filter length of 1352 samples (2.641 sec) selected\n",
      "Setting up low-pass filter at 10 Hz\n",
      "h_trans_bandwidth chosen to be 2.5 Hz\n",
      "Filter length of 1352 samples (2.641 sec) selected\n",
      "Size of filtered data bad : (17, 2560) filtered data good :  (17, 2560)\n",
      "time points :  (2560,)\n",
      "Applying baseline correction (mode: mean)\n",
      "Applying baseline correction (mode: mean)\n",
      "Size norm & filtered data 0 :  (17, 2560) (17, 2560)\n",
      "-> Shape of bad data (17, 563) good data (17, 563)\n",
      "(17, 1000, 56) (17, 1000, 56)\n",
      "(1000, 56)\n",
      "[-1.8178089184920718, 1.8178089184920718] [-2.7140104238671885, 2.7140104238671885] [-4.6988285629264288, 4.6988285629264288]\n",
      "(56,) 2.65495028166 -1.31014603183\n",
      "Size of the concatenated data:  (34, 56) Number time windows :  56\n",
      "Size of label for classif:  34\n",
      "th_perm :  67.6470588235 73.5294117647 82.3529411765\n"
     ]
    },
    {
     "name": "stderr",
     "output_type": "stream",
     "text": [
      "/home/karim/anaconda3/lib/python3.5/site-packages/matplotlib/axes/_axes.py:545: UserWarning: No labelled objects found. Use label='...' kwarg on individual plots.\n",
      "  warnings.warn(\"No labelled objects found. \"\n"
     ]
    },
    {
     "name": "stdout",
     "output_type": "stream",
     "text": [
      "SEMC Channel :  e4-e3 Label :  FOp&FOp-IG Bad shape :  (2560, 17) Good shape :  (2560, 17)\n",
      "Setting up low-pass filter at 10 Hz\n",
      "h_trans_bandwidth chosen to be 2.5 Hz\n",
      "Filter length of 1352 samples (2.641 sec) selected\n",
      "Setting up low-pass filter at 10 Hz\n",
      "h_trans_bandwidth chosen to be 2.5 Hz\n",
      "Filter length of 1352 samples (2.641 sec) selected\n",
      "Size of filtered data bad : (17, 2560) filtered data good :  (17, 2560)\n",
      "time points :  (2560,)\n",
      "Applying baseline correction (mode: mean)\n",
      "Applying baseline correction (mode: mean)\n",
      "Size norm & filtered data 0 :  (17, 2560) (17, 2560)\n",
      "-> Shape of bad data (17, 563) good data (17, 563)\n",
      "(17, 1000, 56) (17, 1000, 56)\n",
      "(1000, 56)\n",
      "[-1.8499613465536939, 1.8499613465536939] [-2.8625726610574378, 2.8625726610574378] [-6.8595676553260692, 6.8595676553260692]\n",
      "(56,) 1.50857110469 -1.21542698831\n",
      "Size of the concatenated data:  (34, 56) Number time windows :  56\n",
      "Size of label for classif:  34\n",
      "th_perm :  67.6470588235 73.5294117647 85.2941176471\n"
     ]
    },
    {
     "name": "stderr",
     "output_type": "stream",
     "text": [
      "/home/karim/anaconda3/lib/python3.5/site-packages/matplotlib/axes/_axes.py:545: UserWarning: No labelled objects found. Use label='...' kwarg on individual plots.\n",
      "  warnings.warn(\"No labelled objects found. \"\n"
     ]
    },
    {
     "name": "stdout",
     "output_type": "stream",
     "text": [
      "SEMC Channel :  e7-e6 Label :  IFGOp Bad shape :  (2560, 17) Good shape :  (2560, 17)\n",
      "Setting up low-pass filter at 10 Hz\n",
      "h_trans_bandwidth chosen to be 2.5 Hz\n",
      "Filter length of 1352 samples (2.641 sec) selected\n",
      "Setting up low-pass filter at 10 Hz\n",
      "h_trans_bandwidth chosen to be 2.5 Hz\n",
      "Filter length of 1352 samples (2.641 sec) selected\n",
      "Size of filtered data bad : (17, 2560) filtered data good :  (17, 2560)\n",
      "time points :  (2560,)\n",
      "Applying baseline correction (mode: mean)\n",
      "Applying baseline correction (mode: mean)\n",
      "Size norm & filtered data 0 :  (17, 2560) (17, 2560)\n",
      "-> Shape of bad data (17, 563) good data (17, 563)\n",
      "(17, 1000, 56) (17, 1000, 56)\n",
      "(1000, 56)\n",
      "[-1.8121673937442426, 1.8121673937442426] [-2.6681557614154019, 2.6681557614154019] [-5.0420051013179901, 5.0420051013179901]\n",
      "(56,) 3.12381123819 -3.2274093827\n",
      "Size of the concatenated data:  (34, 56) Number time windows :  56\n",
      "Size of label for classif:  34\n",
      "th_perm :  67.6470588235 73.5294117647 82.3529411765\n"
     ]
    },
    {
     "name": "stderr",
     "output_type": "stream",
     "text": [
      "/home/karim/anaconda3/lib/python3.5/site-packages/matplotlib/axes/_axes.py:545: UserWarning: No labelled objects found. Use label='...' kwarg on individual plots.\n",
      "  warnings.warn(\"No labelled objects found. \"\n"
     ]
    },
    {
     "name": "stdout",
     "output_type": "stream",
     "text": [
      "SEMC Channel :  e8-e7 Label :  IFGOp Bad shape :  (2560, 17) Good shape :  (2560, 17)\n",
      "Setting up low-pass filter at 10 Hz\n",
      "h_trans_bandwidth chosen to be 2.5 Hz\n",
      "Filter length of 1352 samples (2.641 sec) selected\n",
      "Setting up low-pass filter at 10 Hz\n",
      "h_trans_bandwidth chosen to be 2.5 Hz\n",
      "Filter length of 1352 samples (2.641 sec) selected\n",
      "Size of filtered data bad : (17, 2560) filtered data good :  (17, 2560)\n",
      "time points :  (2560,)\n",
      "Applying baseline correction (mode: mean)\n",
      "Applying baseline correction (mode: mean)\n",
      "Size norm & filtered data 0 :  (17, 2560) (17, 2560)\n",
      "-> Shape of bad data (17, 563) good data (17, 563)\n",
      "(17, 1000, 56) (17, 1000, 56)\n",
      "(1000, 56)\n",
      "[-1.8559293237406116, 1.8559293237406116] [-2.7723007632016534, 2.7723007632016534] [-4.5356791027038632, 4.5356791027038632]\n",
      "(56,) 1.43345989684 -3.72614240101\n",
      "Size of the concatenated data:  (34, 56) Number time windows :  56\n",
      "Size of label for classif:  34\n",
      "th_perm :  67.6470588235 73.5294117647 85.2941176471\n"
     ]
    },
    {
     "name": "stderr",
     "output_type": "stream",
     "text": [
      "/home/karim/anaconda3/lib/python3.5/site-packages/matplotlib/axes/_axes.py:545: UserWarning: No labelled objects found. Use label='...' kwarg on individual plots.\n",
      "  warnings.warn(\"No labelled objects found. \"\n"
     ]
    },
    {
     "name": "stdout",
     "output_type": "stream",
     "text": [
      "SEMC Channel :  e9-e8 Label :  LCR-IFGOp&IFGOp Bad shape :  (2560, 17) Good shape :  (2560, 17)\n",
      "Setting up low-pass filter at 10 Hz\n",
      "h_trans_bandwidth chosen to be 2.5 Hz\n",
      "Filter length of 1352 samples (2.641 sec) selected\n",
      "Setting up low-pass filter at 10 Hz\n",
      "h_trans_bandwidth chosen to be 2.5 Hz\n",
      "Filter length of 1352 samples (2.641 sec) selected\n",
      "Size of filtered data bad : (17, 2560) filtered data good :  (17, 2560)\n",
      "time points :  (2560,)\n",
      "Applying baseline correction (mode: mean)\n",
      "Applying baseline correction (mode: mean)\n",
      "Size norm & filtered data 0 :  (17, 2560) (17, 2560)\n",
      "-> Shape of bad data (17, 563) good data (17, 563)\n",
      "(17, 1000, 56) (17, 1000, 56)\n",
      "(1000, 56)\n",
      "[-1.7937243726405789, 1.7937243726405789] [-2.7653078496658385, 2.7653078496658385] [-5.0347519543978825, 5.0347519543978825]\n",
      "(56,) 2.77913579893 -2.1542291138\n",
      "Size of the concatenated data:  (34, 56) Number time windows :  56\n",
      "Size of label for classif:  34\n",
      "th_perm :  70.5882352941 76.4705882353 88.2352941176\n"
     ]
    },
    {
     "name": "stderr",
     "output_type": "stream",
     "text": [
      "/home/karim/anaconda3/lib/python3.5/site-packages/matplotlib/axes/_axes.py:545: UserWarning: No labelled objects found. Use label='...' kwarg on individual plots.\n",
      "  warnings.warn(\"No labelled objects found. \"\n"
     ]
    },
    {
     "name": "stdout",
     "output_type": "stream",
     "text": [
      "SEMC Channel :  e10-e9 Label :  LCR&LCR-IFGOp Bad shape :  (2560, 17) Good shape :  (2560, 17)\n",
      "Setting up low-pass filter at 10 Hz\n",
      "h_trans_bandwidth chosen to be 2.5 Hz\n",
      "Filter length of 1352 samples (2.641 sec) selected\n",
      "Setting up low-pass filter at 10 Hz\n",
      "h_trans_bandwidth chosen to be 2.5 Hz\n",
      "Filter length of 1352 samples (2.641 sec) selected\n",
      "Size of filtered data bad : (17, 2560) filtered data good :  (17, 2560)\n",
      "time points :  (2560,)\n",
      "Applying baseline correction (mode: mean)\n",
      "Applying baseline correction (mode: mean)\n",
      "Size norm & filtered data 0 :  (17, 2560) (17, 2560)\n",
      "-> Shape of bad data (17, 563) good data (17, 563)\n",
      "(17, 1000, 56) (17, 1000, 56)\n",
      "(1000, 56)\n",
      "[-1.7625870202654841, 1.7625870202654841] [-2.6815269273947431, 2.6815269273947431] [-5.2420403277606251, 5.2420403277606251]\n",
      "(56,) 1.58332396223 -0.631469487991\n",
      "Size of the concatenated data:  (34, 56) Number time windows :  56\n",
      "Size of label for classif:  34\n",
      "th_perm :  67.6470588235 73.5294117647 91.1764705882\n"
     ]
    },
    {
     "name": "stderr",
     "output_type": "stream",
     "text": [
      "/home/karim/anaconda3/lib/python3.5/site-packages/matplotlib/axes/_axes.py:545: UserWarning: No labelled objects found. Use label='...' kwarg on individual plots.\n",
      "  warnings.warn(\"No labelled objects found. \"\n"
     ]
    },
    {
     "name": "stdout",
     "output_type": "stream",
     "text": [
      "SEMC Channel :  f2-f1 Label :  SRoG-IFPG&SRoG Bad shape :  (2560, 17) Good shape :  (2560, 17)\n",
      "Setting up low-pass filter at 10 Hz\n",
      "h_trans_bandwidth chosen to be 2.5 Hz\n",
      "Filter length of 1352 samples (2.641 sec) selected\n",
      "Setting up low-pass filter at 10 Hz\n",
      "h_trans_bandwidth chosen to be 2.5 Hz\n",
      "Filter length of 1352 samples (2.641 sec) selected\n",
      "Size of filtered data bad : (17, 2560) filtered data good :  (17, 2560)\n",
      "time points :  (2560,)\n",
      "Applying baseline correction (mode: mean)\n",
      "Applying baseline correction (mode: mean)\n",
      "Size norm & filtered data 0 :  (17, 2560) (17, 2560)\n",
      "-> Shape of bad data (17, 563) good data (17, 563)\n",
      "(17, 1000, 56) (17, 1000, 56)\n",
      "(1000, 56)\n",
      "[-1.8317083830543326, 1.8317083830543326] [-2.7448421119683761, 2.7448421119683761] [-5.0569094603216689, 5.0569094603216689]\n",
      "(56,) 1.91597798588 -0.810169820873\n",
      "Size of the concatenated data:  (34, 56) Number time windows :  56\n",
      "Size of label for classif:  34\n",
      "th_perm :  70.5882352941 73.5294117647 85.2941176471\n"
     ]
    },
    {
     "name": "stderr",
     "output_type": "stream",
     "text": [
      "/home/karim/anaconda3/lib/python3.5/site-packages/matplotlib/axes/_axes.py:545: UserWarning: No labelled objects found. Use label='...' kwarg on individual plots.\n",
      "  warnings.warn(\"No labelled objects found. \"\n"
     ]
    },
    {
     "name": "stdout",
     "output_type": "stream",
     "text": [
      "SEMC Channel :  f3-f2 Label :  SRoG-IFPG Bad shape :  (2560, 17) Good shape :  (2560, 17)\n",
      "Setting up low-pass filter at 10 Hz\n",
      "h_trans_bandwidth chosen to be 2.5 Hz\n",
      "Filter length of 1352 samples (2.641 sec) selected\n",
      "Setting up low-pass filter at 10 Hz\n",
      "h_trans_bandwidth chosen to be 2.5 Hz\n",
      "Filter length of 1352 samples (2.641 sec) selected\n",
      "Size of filtered data bad : (17, 2560) filtered data good :  (17, 2560)\n",
      "time points :  (2560,)\n",
      "Applying baseline correction (mode: mean)\n",
      "Applying baseline correction (mode: mean)\n",
      "Size norm & filtered data 0 :  (17, 2560) (17, 2560)\n",
      "-> Shape of bad data (17, 563) good data (17, 563)\n",
      "(17, 1000, 56) (17, 1000, 56)\n",
      "(1000, 56)\n",
      "[-1.88775761680565, 1.88775761680565] [-2.8817940992896065, 2.8817940992896065] [-4.9905613066794894, 4.9905613066794894]\n",
      "(56,) 1.59594368739 -1.53026416607\n",
      "Size of the concatenated data:  (34, 56) Number time windows :  56\n",
      "Size of label for classif:  34\n",
      "th_perm :  67.6470588235 73.5294117647 85.2941176471\n"
     ]
    },
    {
     "name": "stderr",
     "output_type": "stream",
     "text": [
      "/home/karim/anaconda3/lib/python3.5/site-packages/matplotlib/axes/_axes.py:545: UserWarning: No labelled objects found. Use label='...' kwarg on individual plots.\n",
      "  warnings.warn(\"No labelled objects found. \"\n"
     ]
    },
    {
     "name": "stdout",
     "output_type": "stream",
     "text": [
      "SEMC Channel :  f4-f3 Label :  IFPG&SRoG-IFPG Bad shape :  (2560, 17) Good shape :  (2560, 17)\n",
      "Setting up low-pass filter at 10 Hz\n",
      "h_trans_bandwidth chosen to be 2.5 Hz\n",
      "Filter length of 1352 samples (2.641 sec) selected\n",
      "Setting up low-pass filter at 10 Hz\n",
      "h_trans_bandwidth chosen to be 2.5 Hz\n",
      "Filter length of 1352 samples (2.641 sec) selected\n",
      "Size of filtered data bad : (17, 2560) filtered data good :  (17, 2560)\n",
      "time points :  (2560,)\n",
      "Applying baseline correction (mode: mean)\n",
      "Applying baseline correction (mode: mean)\n",
      "Size norm & filtered data 0 :  (17, 2560) (17, 2560)\n",
      "-> Shape of bad data (17, 563) good data (17, 563)\n",
      "(17, 1000, 56) (17, 1000, 56)\n",
      "(1000, 56)\n",
      "[-1.8135630602328008, 1.8135630602328008] [-2.6497372217474062, 2.6497372217474062] [-4.3824108388889869, 4.3824108388889869]\n",
      "(56,) 0.979187015973 -1.94997386721\n",
      "Size of the concatenated data:  (34, 56) Number time windows :  56\n",
      "Size of label for classif:  34\n",
      "th_perm :  67.6470588235 73.5294117647 88.2352941176\n"
     ]
    },
    {
     "name": "stderr",
     "output_type": "stream",
     "text": [
      "/home/karim/anaconda3/lib/python3.5/site-packages/matplotlib/axes/_axes.py:545: UserWarning: No labelled objects found. Use label='...' kwarg on individual plots.\n",
      "  warnings.warn(\"No labelled objects found. \"\n"
     ]
    },
    {
     "name": "stdout",
     "output_type": "stream",
     "text": [
      "SEMC Channel :  f5-f4 Label :  IFPG Bad shape :  (2560, 17) Good shape :  (2560, 17)\n",
      "Setting up low-pass filter at 10 Hz\n",
      "h_trans_bandwidth chosen to be 2.5 Hz\n",
      "Filter length of 1352 samples (2.641 sec) selected\n",
      "Setting up low-pass filter at 10 Hz\n",
      "h_trans_bandwidth chosen to be 2.5 Hz\n",
      "Filter length of 1352 samples (2.641 sec) selected\n",
      "Size of filtered data bad : (17, 2560) filtered data good :  (17, 2560)\n",
      "time points :  (2560,)\n",
      "Applying baseline correction (mode: mean)\n",
      "Applying baseline correction (mode: mean)\n",
      "Size norm & filtered data 0 :  (17, 2560) (17, 2560)\n",
      "-> Shape of bad data (17, 563) good data (17, 563)\n",
      "(17, 1000, 56) (17, 1000, 56)\n",
      "(1000, 56)\n",
      "[-1.7981340337624121, 1.7981340337624121] [-2.6728895898090403, 2.6728895898090403] [-6.0726084039514427, 6.0726084039514427]\n",
      "(56,) 2.10286893087 -2.69827516523\n",
      "Size of the concatenated data:  (34, 56) Number time windows :  56\n",
      "Size of label for classif:  34\n",
      "th_perm :  67.6470588235 73.5294117647 85.2941176471\n"
     ]
    },
    {
     "name": "stderr",
     "output_type": "stream",
     "text": [
      "/home/karim/anaconda3/lib/python3.5/site-packages/matplotlib/axes/_axes.py:545: UserWarning: No labelled objects found. Use label='...' kwarg on individual plots.\n",
      "  warnings.warn(\"No labelled objects found. \"\n"
     ]
    },
    {
     "name": "stdout",
     "output_type": "stream",
     "text": [
      "SEMC Channel :  f6-f5 Label :  MFG&IFPG Bad shape :  (2560, 17) Good shape :  (2560, 17)\n",
      "Setting up low-pass filter at 10 Hz\n",
      "h_trans_bandwidth chosen to be 2.5 Hz\n",
      "Filter length of 1352 samples (2.641 sec) selected\n",
      "Setting up low-pass filter at 10 Hz\n",
      "h_trans_bandwidth chosen to be 2.5 Hz\n",
      "Filter length of 1352 samples (2.641 sec) selected\n",
      "Size of filtered data bad : (17, 2560) filtered data good :  (17, 2560)\n",
      "time points :  (2560,)\n",
      "Applying baseline correction (mode: mean)\n",
      "Applying baseline correction (mode: mean)\n",
      "Size norm & filtered data 0 :  (17, 2560) (17, 2560)\n",
      "-> Shape of bad data (17, 563) good data (17, 563)\n",
      "(17, 1000, 56) (17, 1000, 56)\n",
      "(1000, 56)\n",
      "[-1.795770384729656, 1.795770384729656] [-2.783950029562333, 2.783950029562333] [-5.6366830715147103, 5.6366830715147103]\n",
      "(56,) 1.17253020859 -2.59845107649\n",
      "Size of the concatenated data:  (34, 56) Number time windows :  56\n",
      "Size of label for classif:  34\n",
      "th_perm :  67.6470588235 73.5294117647 85.2941176471\n"
     ]
    },
    {
     "name": "stderr",
     "output_type": "stream",
     "text": [
      "/home/karim/anaconda3/lib/python3.5/site-packages/matplotlib/axes/_axes.py:545: UserWarning: No labelled objects found. Use label='...' kwarg on individual plots.\n",
      "  warnings.warn(\"No labelled objects found. \"\n"
     ]
    },
    {
     "name": "stdout",
     "output_type": "stream",
     "text": [
      "SEMC Channel :  f7-f6 Label :  MFG Bad shape :  (2560, 17) Good shape :  (2560, 17)\n",
      "Setting up low-pass filter at 10 Hz\n",
      "h_trans_bandwidth chosen to be 2.5 Hz\n",
      "Filter length of 1352 samples (2.641 sec) selected\n",
      "Setting up low-pass filter at 10 Hz\n",
      "h_trans_bandwidth chosen to be 2.5 Hz\n",
      "Filter length of 1352 samples (2.641 sec) selected\n",
      "Size of filtered data bad : (17, 2560) filtered data good :  (17, 2560)\n",
      "time points :  (2560,)\n",
      "Applying baseline correction (mode: mean)\n",
      "Applying baseline correction (mode: mean)\n",
      "Size norm & filtered data 0 :  (17, 2560) (17, 2560)\n",
      "-> Shape of bad data (17, 563) good data (17, 563)\n",
      "(17, 1000, 56) (17, 1000, 56)\n",
      "(1000, 56)\n",
      "[-1.7929615527712706, 1.7929615527712706] [-2.619254032878108, 2.619254032878108] [-3.9529436493023065, 3.9529436493023065]\n",
      "(56,) 1.44357142954 -1.22973295696\n",
      "Size of the concatenated data:  (34, 56) Number time windows :  56\n",
      "Size of label for classif:  34\n",
      "th_perm :  67.6470588235 73.5294117647 82.3529411765\n"
     ]
    },
    {
     "name": "stderr",
     "output_type": "stream",
     "text": [
      "/home/karim/anaconda3/lib/python3.5/site-packages/matplotlib/axes/_axes.py:545: UserWarning: No labelled objects found. Use label='...' kwarg on individual plots.\n",
      "  warnings.warn(\"No labelled objects found. \"\n"
     ]
    },
    {
     "name": "stdout",
     "output_type": "stream",
     "text": [
      "SEMC Channel :  f8-f7 Label :  MFG Bad shape :  (2560, 17) Good shape :  (2560, 17)\n",
      "Setting up low-pass filter at 10 Hz\n",
      "h_trans_bandwidth chosen to be 2.5 Hz\n",
      "Filter length of 1352 samples (2.641 sec) selected\n",
      "Setting up low-pass filter at 10 Hz\n",
      "h_trans_bandwidth chosen to be 2.5 Hz\n",
      "Filter length of 1352 samples (2.641 sec) selected\n",
      "Size of filtered data bad : (17, 2560) filtered data good :  (17, 2560)\n",
      "time points :  (2560,)\n",
      "Applying baseline correction (mode: mean)\n",
      "Applying baseline correction (mode: mean)\n",
      "Size norm & filtered data 0 :  (17, 2560) (17, 2560)\n",
      "-> Shape of bad data (17, 563) good data (17, 563)\n",
      "(17, 1000, 56) (17, 1000, 56)\n",
      "(1000, 56)\n",
      "[-1.7471743339467456, 1.7471743339467456] [-2.6152484681453365, 2.6152484681453365] [-6.0665621560444087, 6.0665621560444087]\n",
      "(56,) 3.0388488632 -1.64792851297\n",
      "Size of the concatenated data:  (34, 56) Number time windows :  56\n",
      "Size of label for classif:  34\n",
      "th_perm :  67.6470588235 76.4705882353 85.2941176471\n"
     ]
    },
    {
     "name": "stderr",
     "output_type": "stream",
     "text": [
      "/home/karim/anaconda3/lib/python3.5/site-packages/matplotlib/axes/_axes.py:545: UserWarning: No labelled objects found. Use label='...' kwarg on individual plots.\n",
      "  warnings.warn(\"No labelled objects found. \"\n"
     ]
    },
    {
     "name": "stdout",
     "output_type": "stream",
     "text": [
      "SEMC Channel :  f9-f8 Label :  LCR-MFG&MFG Bad shape :  (2560, 17) Good shape :  (2560, 17)\n",
      "Setting up low-pass filter at 10 Hz\n",
      "h_trans_bandwidth chosen to be 2.5 Hz\n",
      "Filter length of 1352 samples (2.641 sec) selected\n",
      "Setting up low-pass filter at 10 Hz\n",
      "h_trans_bandwidth chosen to be 2.5 Hz\n",
      "Filter length of 1352 samples (2.641 sec) selected\n",
      "Size of filtered data bad : (17, 2560) filtered data good :  (17, 2560)\n",
      "time points :  (2560,)\n",
      "Applying baseline correction (mode: mean)\n",
      "Applying baseline correction (mode: mean)\n",
      "Size norm & filtered data 0 :  (17, 2560) (17, 2560)\n",
      "-> Shape of bad data (17, 563) good data (17, 563)\n",
      "(17, 1000, 56) (17, 1000, 56)\n",
      "(1000, 56)\n",
      "[-1.8041130379626171, 1.8041130379626171] [-2.751849571793159, 2.751849571793159] [-4.2296561205321668, 4.2296561205321668]\n",
      "(56,) 1.18006859212 -3.1575327401\n",
      "Size of the concatenated data:  (34, 56) Number time windows :  56\n",
      "Size of label for classif:  34\n",
      "th_perm :  67.6470588235 73.5294117647 91.1764705882\n"
     ]
    },
    {
     "name": "stderr",
     "output_type": "stream",
     "text": [
      "/home/karim/anaconda3/lib/python3.5/site-packages/matplotlib/axes/_axes.py:545: UserWarning: No labelled objects found. Use label='...' kwarg on individual plots.\n",
      "  warnings.warn(\"No labelled objects found. \"\n"
     ]
    },
    {
     "name": "stdout",
     "output_type": "stream",
     "text": [
      "SEMC Channel :  f10-f9 Label :  LCR&LCR-MFG Bad shape :  (2560, 17) Good shape :  (2560, 17)\n",
      "Setting up low-pass filter at 10 Hz\n",
      "h_trans_bandwidth chosen to be 2.5 Hz\n",
      "Filter length of 1352 samples (2.641 sec) selected\n",
      "Setting up low-pass filter at 10 Hz\n",
      "h_trans_bandwidth chosen to be 2.5 Hz\n",
      "Filter length of 1352 samples (2.641 sec) selected\n",
      "Size of filtered data bad : (17, 2560) filtered data good :  (17, 2560)\n",
      "time points :  (2560,)\n",
      "Applying baseline correction (mode: mean)\n",
      "Applying baseline correction (mode: mean)\n",
      "Size norm & filtered data 0 :  (17, 2560) (17, 2560)\n",
      "-> Shape of bad data (17, 563) good data (17, 563)\n",
      "(17, 1000, 56) (17, 1000, 56)\n",
      "(1000, 56)\n",
      "[-1.8409116040275728, 1.8409116040275728] [-2.7428774242879377, 2.7428774242879377] [-4.5372978213360948, 4.5372978213360948]\n",
      "(56,) 2.50065799715 -1.95367780406\n",
      "Size of the concatenated data:  (34, 56) Number time windows :  56\n",
      "Size of label for classif:  34\n",
      "th_perm :  67.6470588235 73.5294117647 85.2941176471\n"
     ]
    },
    {
     "name": "stderr",
     "output_type": "stream",
     "text": [
      "/home/karim/anaconda3/lib/python3.5/site-packages/matplotlib/axes/_axes.py:545: UserWarning: No labelled objects found. Use label='...' kwarg on individual plots.\n",
      "  warnings.warn(\"No labelled objects found. \"\n"
     ]
    },
    {
     "name": "stdout",
     "output_type": "stream",
     "text": [
      "SEMC Channel :  j2-j1 Label :  PORG-IFGOr&POrG Bad shape :  (2560, 17) Good shape :  (2560, 17)\n",
      "Setting up low-pass filter at 10 Hz\n",
      "h_trans_bandwidth chosen to be 2.5 Hz\n",
      "Filter length of 1352 samples (2.641 sec) selected\n",
      "Setting up low-pass filter at 10 Hz\n",
      "h_trans_bandwidth chosen to be 2.5 Hz\n",
      "Filter length of 1352 samples (2.641 sec) selected\n",
      "Size of filtered data bad : (17, 2560) filtered data good :  (17, 2560)\n",
      "time points :  (2560,)\n",
      "Applying baseline correction (mode: mean)\n",
      "Applying baseline correction (mode: mean)\n",
      "Size norm & filtered data 0 :  (17, 2560) (17, 2560)\n",
      "-> Shape of bad data (17, 563) good data (17, 563)\n",
      "(17, 1000, 56) (17, 1000, 56)\n",
      "(1000, 56)\n",
      "[-1.8163369576216588, 1.8163369576216588] [-2.8415049080676735, 2.8415049080676735] [-4.2272316917790933, 4.2272316917790933]\n",
      "(56,) 2.46090660696 -1.76736730056\n",
      "Size of the concatenated data:  (34, 56) Number time windows :  56\n",
      "Size of label for classif:  34\n",
      "th_perm :  67.6470588235 73.5294117647 82.3529411765\n"
     ]
    },
    {
     "name": "stderr",
     "output_type": "stream",
     "text": [
      "/home/karim/anaconda3/lib/python3.5/site-packages/matplotlib/axes/_axes.py:545: UserWarning: No labelled objects found. Use label='...' kwarg on individual plots.\n",
      "  warnings.warn(\"No labelled objects found. \"\n"
     ]
    },
    {
     "name": "stdout",
     "output_type": "stream",
     "text": [
      "SEMC Channel :  j3-j2 Label :  IFGOr&PORG-IFGOr Bad shape :  (2560, 17) Good shape :  (2560, 17)\n",
      "Setting up low-pass filter at 10 Hz\n",
      "h_trans_bandwidth chosen to be 2.5 Hz\n",
      "Filter length of 1352 samples (2.641 sec) selected\n",
      "Setting up low-pass filter at 10 Hz\n",
      "h_trans_bandwidth chosen to be 2.5 Hz\n",
      "Filter length of 1352 samples (2.641 sec) selected\n",
      "Size of filtered data bad : (17, 2560) filtered data good :  (17, 2560)\n",
      "time points :  (2560,)\n",
      "Applying baseline correction (mode: mean)\n",
      "Applying baseline correction (mode: mean)\n",
      "Size norm & filtered data 0 :  (17, 2560) (17, 2560)\n",
      "-> Shape of bad data (17, 563) good data (17, 563)\n",
      "(17, 1000, 56) (17, 1000, 56)\n",
      "(1000, 56)\n",
      "[-1.7573783406513059, 1.7573783406513059] [-2.7310904033393801, 2.7310904033393801] [-4.840267076741533, 4.840267076741533]\n",
      "(56,) 3.96011691123 -1.00238732223\n",
      "Size of the concatenated data:  (34, 56) Number time windows :  56\n",
      "Size of label for classif:  34\n",
      "th_perm :  67.6470588235 73.5294117647 85.2941176471\n"
     ]
    },
    {
     "name": "stderr",
     "output_type": "stream",
     "text": [
      "/home/karim/anaconda3/lib/python3.5/site-packages/matplotlib/axes/_axes.py:545: UserWarning: No labelled objects found. Use label='...' kwarg on individual plots.\n",
      "  warnings.warn(\"No labelled objects found. \"\n"
     ]
    },
    {
     "name": "stdout",
     "output_type": "stream",
     "text": [
      "SEMC Channel :  j4-j3 Label :  PPo&IFGOr Bad shape :  (2560, 17) Good shape :  (2560, 17)\n",
      "Setting up low-pass filter at 10 Hz\n",
      "h_trans_bandwidth chosen to be 2.5 Hz\n",
      "Filter length of 1352 samples (2.641 sec) selected\n",
      "Setting up low-pass filter at 10 Hz\n",
      "h_trans_bandwidth chosen to be 2.5 Hz\n",
      "Filter length of 1352 samples (2.641 sec) selected\n",
      "Size of filtered data bad : (17, 2560) filtered data good :  (17, 2560)\n",
      "time points :  (2560,)\n",
      "Applying baseline correction (mode: mean)\n",
      "Applying baseline correction (mode: mean)\n",
      "Size norm & filtered data 0 :  (17, 2560) (17, 2560)\n",
      "-> Shape of bad data (17, 563) good data (17, 563)\n",
      "(17, 1000, 56) (17, 1000, 56)\n",
      "(1000, 56)\n",
      "[-1.9408704165669757, 1.9408704165669757] [-2.9630018677024785, 2.9630018677024785] [-4.7125715800376637, 4.7125715800376637]\n",
      "(56,) 1.68592981238 -2.04102682712\n",
      "Size of the concatenated data:  (34, 56) Number time windows :  56\n",
      "Size of label for classif:  34\n",
      "th_perm :  67.6470588235 73.5294117647 85.2941176471\n"
     ]
    },
    {
     "name": "stderr",
     "output_type": "stream",
     "text": [
      "/home/karim/anaconda3/lib/python3.5/site-packages/matplotlib/axes/_axes.py:545: UserWarning: No labelled objects found. Use label='...' kwarg on individual plots.\n",
      "  warnings.warn(\"No labelled objects found. \"\n"
     ]
    },
    {
     "name": "stdout",
     "output_type": "stream",
     "text": [
      "SEMC Channel :  j5-j4 Label :  PPo Bad shape :  (2560, 17) Good shape :  (2560, 17)\n",
      "Setting up low-pass filter at 10 Hz\n",
      "h_trans_bandwidth chosen to be 2.5 Hz\n",
      "Filter length of 1352 samples (2.641 sec) selected\n",
      "Setting up low-pass filter at 10 Hz\n",
      "h_trans_bandwidth chosen to be 2.5 Hz\n",
      "Filter length of 1352 samples (2.641 sec) selected\n",
      "Size of filtered data bad : (17, 2560) filtered data good :  (17, 2560)\n",
      "time points :  (2560,)\n",
      "Applying baseline correction (mode: mean)\n",
      "Applying baseline correction (mode: mean)\n",
      "Size norm & filtered data 0 :  (17, 2560) (17, 2560)\n",
      "-> Shape of bad data (17, 563) good data (17, 563)\n",
      "(17, 1000, 56) (17, 1000, 56)\n",
      "(1000, 56)\n",
      "[-1.8302716199083864, 1.8302716199083864] [-2.7223231515258224, 2.7223231515258224] [-4.6294845553116639, 4.6294845553116639]\n",
      "(56,) 0.590964376383 -2.81457121\n",
      "Size of the concatenated data:  (34, 56) Number time windows :  56\n",
      "Size of label for classif:  34\n",
      "th_perm :  67.6470588235 73.5294117647 82.3529411765\n"
     ]
    },
    {
     "name": "stderr",
     "output_type": "stream",
     "text": [
      "/home/karim/anaconda3/lib/python3.5/site-packages/matplotlib/axes/_axes.py:545: UserWarning: No labelled objects found. Use label='...' kwarg on individual plots.\n",
      "  warnings.warn(\"No labelled objects found. \"\n"
     ]
    },
    {
     "name": "stdout",
     "output_type": "stream",
     "text": [
      "SEMC Channel :  j6-j5 Label :  PPo Bad shape :  (2560, 17) Good shape :  (2560, 17)\n",
      "Setting up low-pass filter at 10 Hz\n",
      "h_trans_bandwidth chosen to be 2.5 Hz\n",
      "Filter length of 1352 samples (2.641 sec) selected\n",
      "Setting up low-pass filter at 10 Hz\n",
      "h_trans_bandwidth chosen to be 2.5 Hz\n",
      "Filter length of 1352 samples (2.641 sec) selected\n",
      "Size of filtered data bad : (17, 2560) filtered data good :  (17, 2560)\n",
      "time points :  (2560,)\n",
      "Applying baseline correction (mode: mean)\n",
      "Applying baseline correction (mode: mean)\n",
      "Size norm & filtered data 0 :  (17, 2560) (17, 2560)\n",
      "-> Shape of bad data (17, 563) good data (17, 563)\n",
      "(17, 1000, 56) (17, 1000, 56)\n",
      "(1000, 56)\n",
      "[-1.8764938097360462, 1.8764938097360462] [-2.8834976689615015, 2.8834976689615015] [-4.4148849278971722, 4.4148849278971722]\n",
      "(56,) 2.402177142 -0.704695626522\n",
      "Size of the concatenated data:  (34, 56) Number time windows :  56\n",
      "Size of label for classif:  34\n",
      "th_perm :  67.6470588235 73.5294117647 85.2941176471\n"
     ]
    },
    {
     "name": "stderr",
     "output_type": "stream",
     "text": [
      "/home/karim/anaconda3/lib/python3.5/site-packages/matplotlib/axes/_axes.py:545: UserWarning: No labelled objects found. Use label='...' kwarg on individual plots.\n",
      "  warnings.warn(\"No labelled objects found. \"\n"
     ]
    },
    {
     "name": "stdout",
     "output_type": "stream",
     "text": [
      "SEMC Channel :  j7-j6 Label :  LCR&PPo Bad shape :  (2560, 17) Good shape :  (2560, 17)\n",
      "Setting up low-pass filter at 10 Hz\n",
      "h_trans_bandwidth chosen to be 2.5 Hz\n",
      "Filter length of 1352 samples (2.641 sec) selected\n",
      "Setting up low-pass filter at 10 Hz\n",
      "h_trans_bandwidth chosen to be 2.5 Hz\n",
      "Filter length of 1352 samples (2.641 sec) selected\n",
      "Size of filtered data bad : (17, 2560) filtered data good :  (17, 2560)\n",
      "time points :  (2560,)\n",
      "Applying baseline correction (mode: mean)\n",
      "Applying baseline correction (mode: mean)\n",
      "Size norm & filtered data 0 :  (17, 2560) (17, 2560)\n",
      "-> Shape of bad data (17, 563) good data (17, 563)\n",
      "(17, 1000, 56) (17, 1000, 56)\n",
      "(1000, 56)\n",
      "[-1.8254930168961223, 1.8254930168961223] [-2.6614006444854565, 2.6614006444854565] [-4.1614312751973017, 4.1614312751973017]\n",
      "(56,) 2.45212795426 -2.16083687942\n",
      "Size of the concatenated data:  (34, 56) Number time windows :  56\n",
      "Size of label for classif:  34\n",
      "th_perm :  67.6470588235 73.5294117647 85.2941176471\n"
     ]
    },
    {
     "name": "stderr",
     "output_type": "stream",
     "text": [
      "/home/karim/anaconda3/lib/python3.5/site-packages/matplotlib/axes/_axes.py:545: UserWarning: No labelled objects found. Use label='...' kwarg on individual plots.\n",
      "  warnings.warn(\"No labelled objects found. \"\n"
     ]
    },
    {
     "name": "stdout",
     "output_type": "stream",
     "text": [
      "SEMC Channel :  j8-j7 Label :  LCR Bad shape :  (2560, 17) Good shape :  (2560, 17)\n",
      "Setting up low-pass filter at 10 Hz\n",
      "h_trans_bandwidth chosen to be 2.5 Hz\n",
      "Filter length of 1352 samples (2.641 sec) selected\n",
      "Setting up low-pass filter at 10 Hz\n",
      "h_trans_bandwidth chosen to be 2.5 Hz\n",
      "Filter length of 1352 samples (2.641 sec) selected\n",
      "Size of filtered data bad : (17, 2560) filtered data good :  (17, 2560)\n",
      "time points :  (2560,)\n",
      "Applying baseline correction (mode: mean)\n",
      "Applying baseline correction (mode: mean)\n",
      "Size norm & filtered data 0 :  (17, 2560) (17, 2560)\n",
      "-> Shape of bad data (17, 563) good data (17, 563)\n",
      "(17, 1000, 56) (17, 1000, 56)\n",
      "(1000, 56)\n",
      "[-1.765793738046904, 1.765793738046904] [-2.7450657524207935, 2.7450657524207935] [-4.2018570507885515, 4.2018570507885515]\n",
      "(56,) 2.32309672831 -2.04043156936\n",
      "Size of the concatenated data:  (34, 56) Number time windows :  56\n",
      "Size of label for classif:  34\n",
      "th_perm :  67.6470588235 73.5294117647 88.2352941176\n"
     ]
    },
    {
     "name": "stderr",
     "output_type": "stream",
     "text": [
      "/home/karim/anaconda3/lib/python3.5/site-packages/matplotlib/axes/_axes.py:545: UserWarning: No labelled objects found. Use label='...' kwarg on individual plots.\n",
      "  warnings.warn(\"No labelled objects found. \"\n"
     ]
    },
    {
     "name": "stdout",
     "output_type": "stream",
     "text": [
      "SEMC Channel :  j10-j9 Label :  skull Bad shape :  (2560, 17) Good shape :  (2560, 17)\n",
      "Setting up low-pass filter at 10 Hz\n",
      "h_trans_bandwidth chosen to be 2.5 Hz\n",
      "Filter length of 1352 samples (2.641 sec) selected\n",
      "Setting up low-pass filter at 10 Hz\n",
      "h_trans_bandwidth chosen to be 2.5 Hz\n",
      "Filter length of 1352 samples (2.641 sec) selected\n",
      "Size of filtered data bad : (17, 2560) filtered data good :  (17, 2560)\n",
      "time points :  (2560,)\n",
      "Applying baseline correction (mode: mean)\n",
      "Applying baseline correction (mode: mean)\n",
      "Size norm & filtered data 0 :  (17, 2560) (17, 2560)\n",
      "-> Shape of bad data (17, 563) good data (17, 563)\n",
      "(17, 1000, 56) (17, 1000, 56)\n",
      "(1000, 56)\n",
      "[-1.7779674148498263, 1.7779674148498263] [-2.6805673849102334, 2.6805673849102334] [-4.4125704505536669, 4.4125704505536669]\n",
      "(56,) 2.38689906759 -1.79817830036\n",
      "Size of the concatenated data:  (34, 56) Number time windows :  56\n",
      "Size of label for classif:  34\n",
      "th_perm :  67.6470588235 73.5294117647 88.2352941176\n"
     ]
    },
    {
     "name": "stderr",
     "output_type": "stream",
     "text": [
      "/home/karim/anaconda3/lib/python3.5/site-packages/matplotlib/axes/_axes.py:545: UserWarning: No labelled objects found. Use label='...' kwarg on individual plots.\n",
      "  warnings.warn(\"No labelled objects found. \"\n"
     ]
    },
    {
     "name": "stdout",
     "output_type": "stream",
     "text": [
      "SEMC Channel :  k2-k1 Label :  pgACC Bad shape :  (2560, 17) Good shape :  (2560, 17)\n",
      "Setting up low-pass filter at 10 Hz\n",
      "h_trans_bandwidth chosen to be 2.5 Hz\n",
      "Filter length of 1352 samples (2.641 sec) selected\n",
      "Setting up low-pass filter at 10 Hz\n",
      "h_trans_bandwidth chosen to be 2.5 Hz\n",
      "Filter length of 1352 samples (2.641 sec) selected\n",
      "Size of filtered data bad : (17, 2560) filtered data good :  (17, 2560)\n",
      "time points :  (2560,)\n",
      "Applying baseline correction (mode: mean)\n",
      "Applying baseline correction (mode: mean)\n",
      "Size norm & filtered data 0 :  (17, 2560) (17, 2560)\n",
      "-> Shape of bad data (17, 563) good data (17, 563)\n",
      "(17, 1000, 56) (17, 1000, 56)\n",
      "(1000, 56)\n",
      "[-1.8197667416865111, 1.8197667416865111] [-2.6545885448864537, 2.6545885448864537] [-4.8080444045286601, 4.8080444045286601]\n",
      "(56,) 1.82889260479 -2.67053536663\n",
      "Size of the concatenated data:  (34, 56) Number time windows :  56\n",
      "Size of label for classif:  34\n",
      "th_perm :  67.6470588235 76.4705882353 85.2941176471\n"
     ]
    },
    {
     "name": "stderr",
     "output_type": "stream",
     "text": [
      "/home/karim/anaconda3/lib/python3.5/site-packages/matplotlib/axes/_axes.py:545: UserWarning: No labelled objects found. Use label='...' kwarg on individual plots.\n",
      "  warnings.warn(\"No labelled objects found. \"\n"
     ]
    },
    {
     "name": "stdout",
     "output_type": "stream",
     "text": [
      "SEMC Channel :  k9-k8 Label :  MFG Bad shape :  (2560, 17) Good shape :  (2560, 17)\n",
      "Setting up low-pass filter at 10 Hz\n",
      "h_trans_bandwidth chosen to be 2.5 Hz\n",
      "Filter length of 1352 samples (2.641 sec) selected\n",
      "Setting up low-pass filter at 10 Hz\n",
      "h_trans_bandwidth chosen to be 2.5 Hz\n",
      "Filter length of 1352 samples (2.641 sec) selected\n",
      "Size of filtered data bad : (17, 2560) filtered data good :  (17, 2560)\n",
      "time points :  (2560,)\n",
      "Applying baseline correction (mode: mean)\n",
      "Applying baseline correction (mode: mean)\n",
      "Size norm & filtered data 0 :  (17, 2560) (17, 2560)\n",
      "-> Shape of bad data (17, 563) good data (17, 563)\n",
      "(17, 1000, 56) (17, 1000, 56)\n",
      "(1000, 56)\n",
      "[-1.9714013761465687, 1.9714013761465687] [-2.8827545894927349, 2.8827545894927349] [-5.626956660406421, 5.626956660406421]\n",
      "(56,) 2.75395631434 -2.32409941883\n",
      "Size of the concatenated data:  (34, 56) Number time windows :  56\n",
      "Size of label for classif:  34\n",
      "th_perm :  67.6470588235 73.5294117647 88.2352941176\n"
     ]
    },
    {
     "name": "stderr",
     "output_type": "stream",
     "text": [
      "/home/karim/anaconda3/lib/python3.5/site-packages/matplotlib/axes/_axes.py:545: UserWarning: No labelled objects found. Use label='...' kwarg on individual plots.\n",
      "  warnings.warn(\"No labelled objects found. \"\n"
     ]
    },
    {
     "name": "stdout",
     "output_type": "stream",
     "text": [
      "SEMC Channel :  k10-k9 Label :  MFG Bad shape :  (2560, 17) Good shape :  (2560, 17)\n",
      "Setting up low-pass filter at 10 Hz\n",
      "h_trans_bandwidth chosen to be 2.5 Hz\n",
      "Filter length of 1352 samples (2.641 sec) selected\n",
      "Setting up low-pass filter at 10 Hz\n",
      "h_trans_bandwidth chosen to be 2.5 Hz\n",
      "Filter length of 1352 samples (2.641 sec) selected\n",
      "Size of filtered data bad : (17, 2560) filtered data good :  (17, 2560)\n",
      "time points :  (2560,)\n",
      "Applying baseline correction (mode: mean)\n",
      "Applying baseline correction (mode: mean)\n",
      "Size norm & filtered data 0 :  (17, 2560) (17, 2560)\n",
      "-> Shape of bad data (17, 563) good data (17, 563)\n",
      "(17, 1000, 56) (17, 1000, 56)\n",
      "(1000, 56)\n",
      "[-1.8002141705835653, 1.8002141705835653] [-2.6835152043920942, 2.6835152043920942] [-5.2669056653401789, 5.2669056653401789]\n",
      "(56,) 1.87769276242 -2.28488003058\n",
      "Size of the concatenated data:  (34, 56) Number time windows :  56\n",
      "Size of label for classif:  34\n",
      "th_perm :  67.6470588235 73.5294117647 85.2941176471\n"
     ]
    },
    {
     "name": "stderr",
     "output_type": "stream",
     "text": [
      "/home/karim/anaconda3/lib/python3.5/site-packages/matplotlib/axes/_axes.py:545: UserWarning: No labelled objects found. Use label='...' kwarg on individual plots.\n",
      "  warnings.warn(\"No labelled objects found. \"\n"
     ]
    },
    {
     "name": "stdout",
     "output_type": "stream",
     "text": [
      "SEMC Channel :  k11-k10 Label :  MFG Bad shape :  (2560, 17) Good shape :  (2560, 17)\n",
      "Setting up low-pass filter at 10 Hz\n",
      "h_trans_bandwidth chosen to be 2.5 Hz\n",
      "Filter length of 1352 samples (2.641 sec) selected\n",
      "Setting up low-pass filter at 10 Hz\n",
      "h_trans_bandwidth chosen to be 2.5 Hz\n",
      "Filter length of 1352 samples (2.641 sec) selected\n",
      "Size of filtered data bad : (17, 2560) filtered data good :  (17, 2560)\n",
      "time points :  (2560,)\n",
      "Applying baseline correction (mode: mean)\n",
      "Applying baseline correction (mode: mean)\n",
      "Size norm & filtered data 0 :  (17, 2560) (17, 2560)\n",
      "-> Shape of bad data (17, 563) good data (17, 563)\n",
      "(17, 1000, 56) (17, 1000, 56)\n",
      "(1000, 56)\n",
      "[-1.8214521154721162, 1.8214521154721162] [-2.7519173735518345, 2.7519173735518345] [-5.1757407293228264, 5.1757407293228264]\n",
      "(56,) 3.12139988124 -2.03967360363\n",
      "Size of the concatenated data:  (34, 56) Number time windows :  56\n",
      "Size of label for classif:  34\n",
      "th_perm :  67.6470588235 76.4705882353 88.2352941176\n"
     ]
    },
    {
     "name": "stderr",
     "output_type": "stream",
     "text": [
      "/home/karim/anaconda3/lib/python3.5/site-packages/matplotlib/axes/_axes.py:545: UserWarning: No labelled objects found. Use label='...' kwarg on individual plots.\n",
      "  warnings.warn(\"No labelled objects found. \"\n"
     ]
    },
    {
     "name": "stdout",
     "output_type": "stream",
     "text": [
      "SEMC Channel :  k12-k11 Label :  MFG Bad shape :  (2560, 17) Good shape :  (2560, 17)\n",
      "Setting up low-pass filter at 10 Hz\n",
      "h_trans_bandwidth chosen to be 2.5 Hz\n",
      "Filter length of 1352 samples (2.641 sec) selected\n",
      "Setting up low-pass filter at 10 Hz\n",
      "h_trans_bandwidth chosen to be 2.5 Hz\n",
      "Filter length of 1352 samples (2.641 sec) selected\n",
      "Size of filtered data bad : (17, 2560) filtered data good :  (17, 2560)\n",
      "time points :  (2560,)\n",
      "Applying baseline correction (mode: mean)\n",
      "Applying baseline correction (mode: mean)\n",
      "Size norm & filtered data 0 :  (17, 2560) (17, 2560)\n",
      "-> Shape of bad data (17, 563) good data (17, 563)\n",
      "(17, 1000, 56) (17, 1000, 56)\n",
      "(1000, 56)\n",
      "[-1.8910817676431508, 1.8910817676431508] [-2.7403000156053112, 2.7403000156053112] [-5.7246169888913618, 5.7246169888913618]\n",
      "(56,) 1.51130080615 -2.79157077978\n",
      "Size of the concatenated data:  (34, 56) Number time windows :  56\n",
      "Size of label for classif:  34\n",
      "th_perm :  67.6470588235 73.5294117647 82.3529411765\n"
     ]
    },
    {
     "name": "stderr",
     "output_type": "stream",
     "text": [
      "/home/karim/anaconda3/lib/python3.5/site-packages/matplotlib/axes/_axes.py:545: UserWarning: No labelled objects found. Use label='...' kwarg on individual plots.\n",
      "  warnings.warn(\"No labelled objects found. \"\n"
     ]
    },
    {
     "name": "stdout",
     "output_type": "stream",
     "text": [
      "SEMC Channel :  m5-m4 Label :  PoG Bad shape :  (2560, 17) Good shape :  (2560, 17)\n",
      "Setting up low-pass filter at 10 Hz\n",
      "h_trans_bandwidth chosen to be 2.5 Hz\n",
      "Filter length of 1352 samples (2.641 sec) selected\n",
      "Setting up low-pass filter at 10 Hz\n",
      "h_trans_bandwidth chosen to be 2.5 Hz\n",
      "Filter length of 1352 samples (2.641 sec) selected\n",
      "Size of filtered data bad : (17, 2560) filtered data good :  (17, 2560)\n",
      "time points :  (2560,)\n",
      "Applying baseline correction (mode: mean)\n",
      "Applying baseline correction (mode: mean)\n",
      "Size norm & filtered data 0 :  (17, 2560) (17, 2560)\n",
      "-> Shape of bad data (17, 563) good data (17, 563)\n",
      "(17, 1000, 56) (17, 1000, 56)\n",
      "(1000, 56)\n",
      "[-1.8861158180413491, 1.8861158180413491] [-2.7331441782462753, 2.7331441782462753] [-4.7975453637370311, 4.7975453637370311]\n",
      "(56,) 2.51576344835 -1.44917356689\n",
      "Size of the concatenated data:  (34, 56) Number time windows :  56\n",
      "Size of label for classif:  34\n",
      "th_perm :  67.6470588235 73.5294117647 82.3529411765\n"
     ]
    },
    {
     "name": "stderr",
     "output_type": "stream",
     "text": [
      "/home/karim/anaconda3/lib/python3.5/site-packages/matplotlib/axes/_axes.py:545: UserWarning: No labelled objects found. Use label='...' kwarg on individual plots.\n",
      "  warnings.warn(\"No labelled objects found. \"\n"
     ]
    },
    {
     "name": "stdout",
     "output_type": "stream",
     "text": [
      "SEMC Channel :  o2-o1 Label :  sgACC-SG&sgACC Bad shape :  (2560, 17) Good shape :  (2560, 17)\n",
      "Setting up low-pass filter at 10 Hz\n",
      "h_trans_bandwidth chosen to be 2.5 Hz\n",
      "Filter length of 1352 samples (2.641 sec) selected\n",
      "Setting up low-pass filter at 10 Hz\n",
      "h_trans_bandwidth chosen to be 2.5 Hz\n",
      "Filter length of 1352 samples (2.641 sec) selected\n",
      "Size of filtered data bad : (17, 2560) filtered data good :  (17, 2560)\n",
      "time points :  (2560,)\n",
      "Applying baseline correction (mode: mean)\n",
      "Applying baseline correction (mode: mean)\n",
      "Size norm & filtered data 0 :  (17, 2560) (17, 2560)\n",
      "-> Shape of bad data (17, 563) good data (17, 563)\n",
      "(17, 1000, 56) (17, 1000, 56)\n",
      "(1000, 56)\n",
      "[-1.9119645531057969, 1.9119645531057969] [-2.7606312470160157, 2.7606312470160157] [-5.416095252905377, 5.416095252905377]\n",
      "(56,) 2.29924774078 -1.37655923399\n",
      "Size of the concatenated data:  (34, 56) Number time windows :  56\n",
      "Size of label for classif:  34\n",
      "th_perm :  67.6470588235 73.5294117647 88.2352941176\n"
     ]
    },
    {
     "name": "stderr",
     "output_type": "stream",
     "text": [
      "/home/karim/anaconda3/lib/python3.5/site-packages/matplotlib/axes/_axes.py:545: UserWarning: No labelled objects found. Use label='...' kwarg on individual plots.\n",
      "  warnings.warn(\"No labelled objects found. \"\n"
     ]
    },
    {
     "name": "stdout",
     "output_type": "stream",
     "text": [
      "SEMC Channel :  o5-o4 Label :  MOrG&MOrG-POrG Bad shape :  (2560, 17) Good shape :  (2560, 17)\n",
      "Setting up low-pass filter at 10 Hz\n",
      "h_trans_bandwidth chosen to be 2.5 Hz\n",
      "Filter length of 1352 samples (2.641 sec) selected\n",
      "Setting up low-pass filter at 10 Hz\n",
      "h_trans_bandwidth chosen to be 2.5 Hz\n",
      "Filter length of 1352 samples (2.641 sec) selected\n",
      "Size of filtered data bad : (17, 2560) filtered data good :  (17, 2560)\n",
      "time points :  (2560,)\n",
      "Applying baseline correction (mode: mean)\n",
      "Applying baseline correction (mode: mean)\n",
      "Size norm & filtered data 0 :  (17, 2560) (17, 2560)\n",
      "-> Shape of bad data (17, 563) good data (17, 563)\n",
      "(17, 1000, 56) (17, 1000, 56)\n",
      "(1000, 56)\n",
      "[-1.9215976090310292, 1.9215976090310292] [-2.7371307442916248, 2.7371307442916248] [-5.0416075000362364, 5.0416075000362364]\n",
      "(56,) 2.35633562363 -2.66784941656\n",
      "Size of the concatenated data:  (34, 56) Number time windows :  56\n",
      "Size of label for classif:  34\n",
      "th_perm :  67.6470588235 73.5294117647 82.3529411765\n"
     ]
    },
    {
     "name": "stderr",
     "output_type": "stream",
     "text": [
      "/home/karim/anaconda3/lib/python3.5/site-packages/matplotlib/axes/_axes.py:545: UserWarning: No labelled objects found. Use label='...' kwarg on individual plots.\n",
      "  warnings.warn(\"No labelled objects found. \"\n"
     ]
    },
    {
     "name": "stdout",
     "output_type": "stream",
     "text": [
      "SEMC Channel :  o6-o5 Label :  MOrG Bad shape :  (2560, 17) Good shape :  (2560, 17)\n",
      "Setting up low-pass filter at 10 Hz\n",
      "h_trans_bandwidth chosen to be 2.5 Hz\n",
      "Filter length of 1352 samples (2.641 sec) selected\n",
      "Setting up low-pass filter at 10 Hz\n",
      "h_trans_bandwidth chosen to be 2.5 Hz\n",
      "Filter length of 1352 samples (2.641 sec) selected\n",
      "Size of filtered data bad : (17, 2560) filtered data good :  (17, 2560)\n",
      "time points :  (2560,)\n",
      "Applying baseline correction (mode: mean)\n",
      "Applying baseline correction (mode: mean)\n",
      "Size norm & filtered data 0 :  (17, 2560) (17, 2560)\n",
      "-> Shape of bad data (17, 563) good data (17, 563)\n",
      "(17, 1000, 56) (17, 1000, 56)\n",
      "(1000, 56)\n",
      "[-1.862398747986437, 1.862398747986437] [-2.8086399083542926, 2.8086399083542926] [-5.2567612668416546, 5.2567612668416546]\n",
      "(56,) 2.73615092794 -0.701314296227\n",
      "Size of the concatenated data:  (34, 56) Number time windows :  56\n",
      "Size of label for classif:  34\n",
      "th_perm :  67.6470588235 76.4705882353 85.2941176471\n"
     ]
    },
    {
     "name": "stderr",
     "output_type": "stream",
     "text": [
      "/home/karim/anaconda3/lib/python3.5/site-packages/matplotlib/axes/_axes.py:545: UserWarning: No labelled objects found. Use label='...' kwarg on individual plots.\n",
      "  warnings.warn(\"No labelled objects found. \"\n"
     ]
    },
    {
     "name": "stdout",
     "output_type": "stream",
     "text": [
      "SEMC Channel :  o7-o6 Label :  MOrG Bad shape :  (2560, 17) Good shape :  (2560, 17)\n",
      "Setting up low-pass filter at 10 Hz\n",
      "h_trans_bandwidth chosen to be 2.5 Hz\n",
      "Filter length of 1352 samples (2.641 sec) selected\n",
      "Setting up low-pass filter at 10 Hz\n",
      "h_trans_bandwidth chosen to be 2.5 Hz\n",
      "Filter length of 1352 samples (2.641 sec) selected\n",
      "Size of filtered data bad : (17, 2560) filtered data good :  (17, 2560)\n",
      "time points :  (2560,)\n",
      "Applying baseline correction (mode: mean)\n",
      "Applying baseline correction (mode: mean)\n",
      "Size norm & filtered data 0 :  (17, 2560) (17, 2560)\n",
      "-> Shape of bad data (17, 563) good data (17, 563)\n",
      "(17, 1000, 56) (17, 1000, 56)\n",
      "(1000, 56)\n",
      "[-1.8998841146796186, 1.8998841146796186] [-2.7195129597853511, 2.7195129597853511] [-4.9650961452361591, 4.9650961452361591]\n",
      "(56,) 2.00450793651 -2.25560868467\n",
      "Size of the concatenated data:  (34, 56) Number time windows :  56\n",
      "Size of label for classif:  34\n",
      "th_perm :  67.6470588235 73.5294117647 88.2352941176\n"
     ]
    },
    {
     "name": "stderr",
     "output_type": "stream",
     "text": [
      "/home/karim/anaconda3/lib/python3.5/site-packages/matplotlib/axes/_axes.py:545: UserWarning: No labelled objects found. Use label='...' kwarg on individual plots.\n",
      "  warnings.warn(\"No labelled objects found. \"\n"
     ]
    },
    {
     "name": "stdout",
     "output_type": "stream",
     "text": [
      "SEMC Channel :  o8-o7 Label :  MOrG Bad shape :  (2560, 17) Good shape :  (2560, 17)\n",
      "Setting up low-pass filter at 10 Hz\n",
      "h_trans_bandwidth chosen to be 2.5 Hz\n",
      "Filter length of 1352 samples (2.641 sec) selected\n",
      "Setting up low-pass filter at 10 Hz\n",
      "h_trans_bandwidth chosen to be 2.5 Hz\n",
      "Filter length of 1352 samples (2.641 sec) selected\n",
      "Size of filtered data bad : (17, 2560) filtered data good :  (17, 2560)\n",
      "time points :  (2560,)\n",
      "Applying baseline correction (mode: mean)\n",
      "Applying baseline correction (mode: mean)\n",
      "Size norm & filtered data 0 :  (17, 2560) (17, 2560)\n",
      "-> Shape of bad data (17, 563) good data (17, 563)\n",
      "(17, 1000, 56) (17, 1000, 56)\n",
      "(1000, 56)\n",
      "[-1.9297967103925351, 1.9297967103925351] [-2.8786014083885449, 2.8786014083885449] [-6.2020080815280645, 6.2020080815280645]\n",
      "(56,) 1.89991848791 -3.67852959433\n",
      "Size of the concatenated data:  (34, 56) Number time windows :  56\n",
      "Size of label for classif:  34\n",
      "th_perm :  67.6470588235 73.5294117647 85.2941176471\n"
     ]
    },
    {
     "name": "stderr",
     "output_type": "stream",
     "text": [
      "/home/karim/anaconda3/lib/python3.5/site-packages/matplotlib/axes/_axes.py:545: UserWarning: No labelled objects found. Use label='...' kwarg on individual plots.\n",
      "  warnings.warn(\"No labelled objects found. \"\n"
     ]
    },
    {
     "name": "stdout",
     "output_type": "stream",
     "text": [
      "SEMC Channel :  o9-o8 Label :  MOrG Bad shape :  (2560, 17) Good shape :  (2560, 17)\n",
      "Setting up low-pass filter at 10 Hz\n",
      "h_trans_bandwidth chosen to be 2.5 Hz\n",
      "Filter length of 1352 samples (2.641 sec) selected\n",
      "Setting up low-pass filter at 10 Hz\n",
      "h_trans_bandwidth chosen to be 2.5 Hz\n",
      "Filter length of 1352 samples (2.641 sec) selected\n",
      "Size of filtered data bad : (17, 2560) filtered data good :  (17, 2560)\n",
      "time points :  (2560,)\n",
      "Applying baseline correction (mode: mean)\n",
      "Applying baseline correction (mode: mean)\n",
      "Size norm & filtered data 0 :  (17, 2560) (17, 2560)\n",
      "-> Shape of bad data (17, 563) good data (17, 563)\n",
      "(17, 1000, 56) (17, 1000, 56)\n",
      "(1000, 56)\n",
      "[-1.8565856146645934, 1.8565856146645934] [-2.7157755278641553, 2.7157755278641553] [-6.0582498592231548, 6.0582498592231548]\n",
      "(56,) 2.43633353784 -2.27176650037\n",
      "Size of the concatenated data:  (34, 56) Number time windows :  56\n",
      "Size of label for classif:  34\n",
      "th_perm :  67.6470588235 73.5294117647 85.2941176471\n"
     ]
    },
    {
     "name": "stderr",
     "output_type": "stream",
     "text": [
      "/home/karim/anaconda3/lib/python3.5/site-packages/matplotlib/axes/_axes.py:545: UserWarning: No labelled objects found. Use label='...' kwarg on individual plots.\n",
      "  warnings.warn(\"No labelled objects found. \"\n"
     ]
    },
    {
     "name": "stdout",
     "output_type": "stream",
     "text": [
      "SEMC Channel :  o10-o9 Label :  MOrG-IFGOr&MOrG Bad shape :  (2560, 17) Good shape :  (2560, 17)\n",
      "Setting up low-pass filter at 10 Hz\n",
      "h_trans_bandwidth chosen to be 2.5 Hz\n",
      "Filter length of 1352 samples (2.641 sec) selected\n",
      "Setting up low-pass filter at 10 Hz\n",
      "h_trans_bandwidth chosen to be 2.5 Hz\n",
      "Filter length of 1352 samples (2.641 sec) selected\n",
      "Size of filtered data bad : (17, 2560) filtered data good :  (17, 2560)\n",
      "time points :  (2560,)\n",
      "Applying baseline correction (mode: mean)\n",
      "Applying baseline correction (mode: mean)\n",
      "Size norm & filtered data 0 :  (17, 2560) (17, 2560)\n",
      "-> Shape of bad data (17, 563) good data (17, 563)\n",
      "(17, 1000, 56) (17, 1000, 56)\n",
      "(1000, 56)\n",
      "[-1.8061584602540381, 1.8061584602540381] [-2.6241275748886683, 2.6241275748886683] [-4.2260047473327758, 4.2260047473327758]\n",
      "(56,) 2.54894290812 -1.13562309623\n",
      "Size of the concatenated data:  (34, 56) Number time windows :  56\n",
      "Size of label for classif:  34\n",
      "th_perm :  67.6470588235 73.5294117647 85.2941176471\n"
     ]
    },
    {
     "name": "stderr",
     "output_type": "stream",
     "text": [
      "/home/karim/anaconda3/lib/python3.5/site-packages/matplotlib/axes/_axes.py:545: UserWarning: No labelled objects found. Use label='...' kwarg on individual plots.\n",
      "  warnings.warn(\"No labelled objects found. \"\n"
     ]
    },
    {
     "name": "stdout",
     "output_type": "stream",
     "text": [
      "SEMC Channel :  o11-o10 Label :  IFGOr-IFGTr&MOrG-IFGOr Bad shape :  (2560, 17) Good shape :  (2560, 17)\n",
      "Setting up low-pass filter at 10 Hz\n",
      "h_trans_bandwidth chosen to be 2.5 Hz\n",
      "Filter length of 1352 samples (2.641 sec) selected\n",
      "Setting up low-pass filter at 10 Hz\n",
      "h_trans_bandwidth chosen to be 2.5 Hz\n",
      "Filter length of 1352 samples (2.641 sec) selected\n",
      "Size of filtered data bad : (17, 2560) filtered data good :  (17, 2560)\n",
      "time points :  (2560,)\n",
      "Applying baseline correction (mode: mean)\n",
      "Applying baseline correction (mode: mean)\n",
      "Size norm & filtered data 0 :  (17, 2560) (17, 2560)\n",
      "-> Shape of bad data (17, 563) good data (17, 563)\n",
      "(17, 1000, 56) (17, 1000, 56)\n",
      "(1000, 56)\n",
      "[-1.8805911328281095, 1.8805911328281095] [-3.0203654789736283, 3.0203654789736283] [-5.2069184947252563, 5.2069184947252563]\n",
      "(56,) 1.21543719941 -2.51561815332\n",
      "Size of the concatenated data:  (34, 56) Number time windows :  56\n",
      "Size of label for classif:  34\n",
      "th_perm :  67.6470588235 76.4705882353 85.2941176471\n"
     ]
    },
    {
     "name": "stderr",
     "output_type": "stream",
     "text": [
      "/home/karim/anaconda3/lib/python3.5/site-packages/matplotlib/axes/_axes.py:545: UserWarning: No labelled objects found. Use label='...' kwarg on individual plots.\n",
      "  warnings.warn(\"No labelled objects found. \"\n"
     ]
    },
    {
     "name": "stdout",
     "output_type": "stream",
     "text": [
      "SEMC Channel :  o12-o11 Label :  IFGOr-IFGTr Bad shape :  (2560, 17) Good shape :  (2560, 17)\n",
      "Setting up low-pass filter at 10 Hz\n",
      "h_trans_bandwidth chosen to be 2.5 Hz\n",
      "Filter length of 1352 samples (2.641 sec) selected\n",
      "Setting up low-pass filter at 10 Hz\n",
      "h_trans_bandwidth chosen to be 2.5 Hz\n",
      "Filter length of 1352 samples (2.641 sec) selected\n",
      "Size of filtered data bad : (17, 2560) filtered data good :  (17, 2560)\n",
      "time points :  (2560,)\n",
      "Applying baseline correction (mode: mean)\n",
      "Applying baseline correction (mode: mean)\n",
      "Size norm & filtered data 0 :  (17, 2560) (17, 2560)\n",
      "-> Shape of bad data (17, 563) good data (17, 563)\n",
      "(17, 1000, 56) (17, 1000, 56)\n",
      "(1000, 56)\n",
      "[-1.8304274658887669, 1.8304274658887669] [-2.9030531487736018, 2.9030531487736018] [-4.4848490506102925, 4.4848490506102925]\n",
      "(56,) 1.3992392091 -2.0646994563\n",
      "Size of the concatenated data:  (34, 56) Number time windows :  56\n",
      "Size of label for classif:  34\n",
      "th_perm :  67.6470588235 76.4705882353 85.2941176471\n"
     ]
    },
    {
     "name": "stderr",
     "output_type": "stream",
     "text": [
      "/home/karim/anaconda3/lib/python3.5/site-packages/matplotlib/axes/_axes.py:545: UserWarning: No labelled objects found. Use label='...' kwarg on individual plots.\n",
      "  warnings.warn(\"No labelled objects found. \"\n"
     ]
    },
    {
     "name": "stdout",
     "output_type": "stream",
     "text": [
      "SEMC Channel :  o13-o12 Label :  IFGOr-IFGTr Bad shape :  (2560, 17) Good shape :  (2560, 17)\n",
      "Setting up low-pass filter at 10 Hz\n",
      "h_trans_bandwidth chosen to be 2.5 Hz\n",
      "Filter length of 1352 samples (2.641 sec) selected\n",
      "Setting up low-pass filter at 10 Hz\n",
      "h_trans_bandwidth chosen to be 2.5 Hz\n",
      "Filter length of 1352 samples (2.641 sec) selected\n",
      "Size of filtered data bad : (17, 2560) filtered data good :  (17, 2560)\n",
      "time points :  (2560,)\n",
      "Applying baseline correction (mode: mean)\n",
      "Applying baseline correction (mode: mean)\n",
      "Size norm & filtered data 0 :  (17, 2560) (17, 2560)\n",
      "-> Shape of bad data (17, 563) good data (17, 563)\n",
      "(17, 1000, 56) (17, 1000, 56)\n",
      "(1000, 56)\n",
      "[-1.8207137525008823, 1.8207137525008823] [-2.8472221790395014, 2.8472221790395014] [-4.4993590078144186, 4.4993590078144186]\n",
      "(56,) 1.97733150796 -1.30759760559\n",
      "Size of the concatenated data:  (34, 56) Number time windows :  56\n",
      "Size of label for classif:  34\n",
      "th_perm :  67.6470588235 73.5294117647 88.2352941176\n"
     ]
    },
    {
     "name": "stderr",
     "output_type": "stream",
     "text": [
      "/home/karim/anaconda3/lib/python3.5/site-packages/matplotlib/axes/_axes.py:545: UserWarning: No labelled objects found. Use label='...' kwarg on individual plots.\n",
      "  warnings.warn(\"No labelled objects found. \"\n"
     ]
    },
    {
     "name": "stdout",
     "output_type": "stream",
     "text": [
      "SEMC Channel :  o14-o13 Label :  IFGTr-LCR&IFGOr-IFGTr Bad shape :  (2560, 17) Good shape :  (2560, 17)\n",
      "Setting up low-pass filter at 10 Hz\n",
      "h_trans_bandwidth chosen to be 2.5 Hz\n",
      "Filter length of 1352 samples (2.641 sec) selected\n",
      "Setting up low-pass filter at 10 Hz\n",
      "h_trans_bandwidth chosen to be 2.5 Hz\n",
      "Filter length of 1352 samples (2.641 sec) selected\n",
      "Size of filtered data bad : (17, 2560) filtered data good :  (17, 2560)\n",
      "time points :  (2560,)\n",
      "Applying baseline correction (mode: mean)\n",
      "Applying baseline correction (mode: mean)\n",
      "Size norm & filtered data 0 :  (17, 2560) (17, 2560)\n",
      "-> Shape of bad data (17, 563) good data (17, 563)\n",
      "(17, 1000, 56) (17, 1000, 56)\n",
      "(1000, 56)\n",
      "[-1.837550277062924, 1.837550277062924] [-2.7145828889363344, 2.7145828889363344] [-4.5626252421783908, 4.5626252421783908]\n",
      "(56,) 2.52409983182 -1.47715540103\n",
      "Size of the concatenated data:  (34, 56) Number time windows :  56\n",
      "Size of label for classif:  34\n",
      "th_perm :  67.6470588235 73.5294117647 85.2941176471\n"
     ]
    },
    {
     "name": "stderr",
     "output_type": "stream",
     "text": [
      "/home/karim/anaconda3/lib/python3.5/site-packages/matplotlib/axes/_axes.py:545: UserWarning: No labelled objects found. Use label='...' kwarg on individual plots.\n",
      "  warnings.warn(\"No labelled objects found. \"\n"
     ]
    },
    {
     "name": "stdout",
     "output_type": "stream",
     "text": [
      "SEMC Channel :  o15-o14 Label :  LCR-skull&IFGTr-LCR Bad shape :  (2560, 17) Good shape :  (2560, 17)\n",
      "Setting up low-pass filter at 10 Hz\n",
      "h_trans_bandwidth chosen to be 2.5 Hz\n",
      "Filter length of 1352 samples (2.641 sec) selected\n",
      "Setting up low-pass filter at 10 Hz\n",
      "h_trans_bandwidth chosen to be 2.5 Hz\n",
      "Filter length of 1352 samples (2.641 sec) selected\n",
      "Size of filtered data bad : (17, 2560) filtered data good :  (17, 2560)\n",
      "time points :  (2560,)\n",
      "Applying baseline correction (mode: mean)\n",
      "Applying baseline correction (mode: mean)\n",
      "Size norm & filtered data 0 :  (17, 2560) (17, 2560)\n",
      "-> Shape of bad data (17, 563) good data (17, 563)\n",
      "(17, 1000, 56) (17, 1000, 56)\n",
      "(1000, 56)\n",
      "[-1.854642721914403, 1.854642721914403] [-2.7405518361530699, 2.7405518361530699] [-4.7909917469148713, 4.7909917469148713]\n",
      "(56,) 1.81946580252 -1.46738948024\n",
      "Size of the concatenated data:  (34, 56) Number time windows :  56\n",
      "Size of label for classif:  34\n",
      "th_perm :  67.6470588235 73.5294117647 85.2941176471\n"
     ]
    },
    {
     "name": "stderr",
     "output_type": "stream",
     "text": [
      "/home/karim/anaconda3/lib/python3.5/site-packages/matplotlib/axes/_axes.py:545: UserWarning: No labelled objects found. Use label='...' kwarg on individual plots.\n",
      "  warnings.warn(\"No labelled objects found. \"\n"
     ]
    },
    {
     "name": "stdout",
     "output_type": "stream",
     "text": [
      "SEMC Channel :  u2-u1 Label :  IRoG-sgACC Bad shape :  (2560, 17) Good shape :  (2560, 17)\n",
      "Setting up low-pass filter at 10 Hz\n",
      "h_trans_bandwidth chosen to be 2.5 Hz\n",
      "Filter length of 1352 samples (2.641 sec) selected\n",
      "Setting up low-pass filter at 10 Hz\n",
      "h_trans_bandwidth chosen to be 2.5 Hz\n",
      "Filter length of 1352 samples (2.641 sec) selected\n",
      "Size of filtered data bad : (17, 2560) filtered data good :  (17, 2560)\n",
      "time points :  (2560,)\n",
      "Applying baseline correction (mode: mean)\n",
      "Applying baseline correction (mode: mean)\n",
      "Size norm & filtered data 0 :  (17, 2560) (17, 2560)\n",
      "-> Shape of bad data (17, 563) good data (17, 563)\n",
      "(17, 1000, 56) (17, 1000, 56)\n",
      "(1000, 56)\n",
      "[-1.9451408465633506, 1.9451408465633506] [-2.7968477954791195, 2.7968477954791195] [-4.9462983229588415, 4.9462983229588415]\n",
      "(56,) 1.63951186065 -2.35689690434\n",
      "Size of the concatenated data:  (34, 56) Number time windows :  56\n",
      "Size of label for classif:  34\n",
      "th_perm :  67.6470588235 73.5294117647 85.2941176471\n"
     ]
    },
    {
     "name": "stderr",
     "output_type": "stream",
     "text": [
      "/home/karim/anaconda3/lib/python3.5/site-packages/matplotlib/axes/_axes.py:545: UserWarning: No labelled objects found. Use label='...' kwarg on individual plots.\n",
      "  warnings.warn(\"No labelled objects found. \"\n"
     ]
    },
    {
     "name": "stdout",
     "output_type": "stream",
     "text": [
      "SEMC Channel :  u5-u4 Label :  MOrG Bad shape :  (2560, 17) Good shape :  (2560, 17)\n",
      "Setting up low-pass filter at 10 Hz\n",
      "h_trans_bandwidth chosen to be 2.5 Hz\n",
      "Filter length of 1352 samples (2.641 sec) selected\n",
      "Setting up low-pass filter at 10 Hz\n",
      "h_trans_bandwidth chosen to be 2.5 Hz\n",
      "Filter length of 1352 samples (2.641 sec) selected\n",
      "Size of filtered data bad : (17, 2560) filtered data good :  (17, 2560)\n",
      "time points :  (2560,)\n",
      "Applying baseline correction (mode: mean)\n",
      "Applying baseline correction (mode: mean)\n",
      "Size norm & filtered data 0 :  (17, 2560) (17, 2560)\n",
      "-> Shape of bad data (17, 563) good data (17, 563)\n",
      "(17, 1000, 56) (17, 1000, 56)\n",
      "(1000, 56)\n",
      "[-1.7986475710512111, 1.7986475710512111] [-2.874859082368082, 2.874859082368082] [-5.0125144252801039, 5.0125144252801039]\n",
      "(56,) 2.43002268777 -2.1514741033\n",
      "Size of the concatenated data:  (34, 56) Number time windows :  56\n",
      "Size of label for classif:  34\n",
      "th_perm :  67.6470588235 76.4705882353 85.2941176471\n"
     ]
    },
    {
     "name": "stderr",
     "output_type": "stream",
     "text": [
      "/home/karim/anaconda3/lib/python3.5/site-packages/matplotlib/axes/_axes.py:545: UserWarning: No labelled objects found. Use label='...' kwarg on individual plots.\n",
      "  warnings.warn(\"No labelled objects found. \"\n"
     ]
    },
    {
     "name": "stdout",
     "output_type": "stream",
     "text": [
      "SEMC Channel :  u6-u5 Label :  MOrG-LOrG&MOrG Bad shape :  (2560, 17) Good shape :  (2560, 17)\n",
      "Setting up low-pass filter at 10 Hz\n",
      "h_trans_bandwidth chosen to be 2.5 Hz\n",
      "Filter length of 1352 samples (2.641 sec) selected\n",
      "Setting up low-pass filter at 10 Hz\n",
      "h_trans_bandwidth chosen to be 2.5 Hz\n",
      "Filter length of 1352 samples (2.641 sec) selected\n",
      "Size of filtered data bad : (17, 2560) filtered data good :  (17, 2560)\n",
      "time points :  (2560,)\n",
      "Applying baseline correction (mode: mean)\n",
      "Applying baseline correction (mode: mean)\n",
      "Size norm & filtered data 0 :  (17, 2560) (17, 2560)\n",
      "-> Shape of bad data (17, 563) good data (17, 563)\n",
      "(17, 1000, 56) (17, 1000, 56)\n",
      "(1000, 56)\n",
      "[-1.8267093829490098, 1.8267093829490098] [-2.6750878231008426, 2.6750878231008426] [-4.1395703792099372, 4.1395703792099372]\n",
      "(56,) 1.30337221851 -0.854649638353\n",
      "Size of the concatenated data:  (34, 56) Number time windows :  56\n",
      "Size of label for classif:  34\n",
      "th_perm :  67.6470588235 73.5294117647 85.2941176471\n"
     ]
    },
    {
     "name": "stderr",
     "output_type": "stream",
     "text": [
      "/home/karim/anaconda3/lib/python3.5/site-packages/matplotlib/axes/_axes.py:545: UserWarning: No labelled objects found. Use label='...' kwarg on individual plots.\n",
      "  warnings.warn(\"No labelled objects found. \"\n"
     ]
    },
    {
     "name": "stdout",
     "output_type": "stream",
     "text": [
      "SEMC Channel :  u7-u6 Label :  MOrG-LOrG Bad shape :  (2560, 17) Good shape :  (2560, 17)\n",
      "Setting up low-pass filter at 10 Hz\n",
      "h_trans_bandwidth chosen to be 2.5 Hz\n",
      "Filter length of 1352 samples (2.641 sec) selected\n",
      "Setting up low-pass filter at 10 Hz\n",
      "h_trans_bandwidth chosen to be 2.5 Hz\n",
      "Filter length of 1352 samples (2.641 sec) selected\n",
      "Size of filtered data bad : (17, 2560) filtered data good :  (17, 2560)\n",
      "time points :  (2560,)\n",
      "Applying baseline correction (mode: mean)\n",
      "Applying baseline correction (mode: mean)\n",
      "Size norm & filtered data 0 :  (17, 2560) (17, 2560)\n",
      "-> Shape of bad data (17, 563) good data (17, 563)\n",
      "(17, 1000, 56) (17, 1000, 56)\n",
      "(1000, 56)\n",
      "[-1.8911700058342147, 1.8911700058342147] [-2.7854697364884742, 2.7854697364884742] [-4.329268775291891, 4.329268775291891]\n",
      "(56,) 0.943177783993 -2.17617403883\n",
      "Size of the concatenated data:  (34, 56) Number time windows :  56\n",
      "Size of label for classif:  34\n",
      "th_perm :  70.5882352941 76.4705882353 85.2941176471\n"
     ]
    },
    {
     "name": "stderr",
     "output_type": "stream",
     "text": [
      "/home/karim/anaconda3/lib/python3.5/site-packages/matplotlib/axes/_axes.py:545: UserWarning: No labelled objects found. Use label='...' kwarg on individual plots.\n",
      "  warnings.warn(\"No labelled objects found. \"\n"
     ]
    },
    {
     "name": "stdout",
     "output_type": "stream",
     "text": [
      "SEMC Channel :  u8-u7 Label :  IFGOr&MOrG-LOrG Bad shape :  (2560, 17) Good shape :  (2560, 17)\n",
      "Setting up low-pass filter at 10 Hz\n",
      "h_trans_bandwidth chosen to be 2.5 Hz\n",
      "Filter length of 1352 samples (2.641 sec) selected\n",
      "Setting up low-pass filter at 10 Hz\n",
      "h_trans_bandwidth chosen to be 2.5 Hz\n",
      "Filter length of 1352 samples (2.641 sec) selected\n",
      "Size of filtered data bad : (17, 2560) filtered data good :  (17, 2560)\n",
      "time points :  (2560,)\n",
      "Applying baseline correction (mode: mean)\n",
      "Applying baseline correction (mode: mean)\n",
      "Size norm & filtered data 0 :  (17, 2560) (17, 2560)\n",
      "-> Shape of bad data (17, 563) good data (17, 563)\n",
      "(17, 1000, 56) (17, 1000, 56)\n",
      "(1000, 56)\n",
      "[-1.8792786485028936, 1.8792786485028936] [-2.761585164265695, 2.761585164265695] [-4.6862210585442625, 4.6862210585442625]\n",
      "(56,) 2.72088055316 -2.74590022381\n",
      "Size of the concatenated data:  (34, 56) Number time windows :  56\n",
      "Size of label for classif:  34\n",
      "th_perm :  67.6470588235 76.4705882353 82.3529411765\n"
     ]
    },
    {
     "name": "stderr",
     "output_type": "stream",
     "text": [
      "/home/karim/anaconda3/lib/python3.5/site-packages/matplotlib/axes/_axes.py:545: UserWarning: No labelled objects found. Use label='...' kwarg on individual plots.\n",
      "  warnings.warn(\"No labelled objects found. \"\n"
     ]
    },
    {
     "name": "stdout",
     "output_type": "stream",
     "text": [
      "SEMC Channel :  u9-u8 Label :  IFGOr Bad shape :  (2560, 17) Good shape :  (2560, 17)\n",
      "Setting up low-pass filter at 10 Hz\n",
      "h_trans_bandwidth chosen to be 2.5 Hz\n",
      "Filter length of 1352 samples (2.641 sec) selected\n",
      "Setting up low-pass filter at 10 Hz\n",
      "h_trans_bandwidth chosen to be 2.5 Hz\n",
      "Filter length of 1352 samples (2.641 sec) selected\n",
      "Size of filtered data bad : (17, 2560) filtered data good :  (17, 2560)\n",
      "time points :  (2560,)\n",
      "Applying baseline correction (mode: mean)\n",
      "Applying baseline correction (mode: mean)\n",
      "Size norm & filtered data 0 :  (17, 2560) (17, 2560)\n",
      "-> Shape of bad data (17, 563) good data (17, 563)\n",
      "(17, 1000, 56) (17, 1000, 56)\n",
      "(1000, 56)\n",
      "[-1.8220869702526443, 1.8220869702526443] [-2.6497867534920183, 2.6497867534920183] [-5.2665598621969174, 5.2665598621969174]\n",
      "(56,) 2.45861297927 -1.43643422669\n",
      "Size of the concatenated data:  (34, 56) Number time windows :  56\n",
      "Size of label for classif:  34\n",
      "th_perm :  67.6470588235 73.5294117647 85.2941176471\n"
     ]
    },
    {
     "name": "stderr",
     "output_type": "stream",
     "text": [
      "/home/karim/anaconda3/lib/python3.5/site-packages/matplotlib/axes/_axes.py:545: UserWarning: No labelled objects found. Use label='...' kwarg on individual plots.\n",
      "  warnings.warn(\"No labelled objects found. \"\n"
     ]
    },
    {
     "name": "stdout",
     "output_type": "stream",
     "text": [
      "SEMC Channel :  u10-u9 Label :  IFGOr Bad shape :  (2560, 17) Good shape :  (2560, 17)\n",
      "Setting up low-pass filter at 10 Hz\n",
      "h_trans_bandwidth chosen to be 2.5 Hz\n",
      "Filter length of 1352 samples (2.641 sec) selected\n",
      "Setting up low-pass filter at 10 Hz\n",
      "h_trans_bandwidth chosen to be 2.5 Hz\n",
      "Filter length of 1352 samples (2.641 sec) selected\n",
      "Size of filtered data bad : (17, 2560) filtered data good :  (17, 2560)\n",
      "time points :  (2560,)\n",
      "Applying baseline correction (mode: mean)\n",
      "Applying baseline correction (mode: mean)\n",
      "Size norm & filtered data 0 :  (17, 2560) (17, 2560)\n",
      "-> Shape of bad data (17, 563) good data (17, 563)\n",
      "(17, 1000, 56) (17, 1000, 56)\n",
      "(1000, 56)\n",
      "[-1.8005375267409307, 1.8005375267409307] [-2.7460121222604039, 2.7460121222604039] [-4.3853988107415187, 4.3853988107415187]\n",
      "(56,) 1.18339131062 -1.30790083368\n",
      "Size of the concatenated data:  (34, 56) Number time windows :  56\n",
      "Size of label for classif:  34\n",
      "th_perm :  70.5882352941 73.5294117647 85.2941176471\n"
     ]
    },
    {
     "name": "stderr",
     "output_type": "stream",
     "text": [
      "/home/karim/anaconda3/lib/python3.5/site-packages/matplotlib/axes/_axes.py:545: UserWarning: No labelled objects found. Use label='...' kwarg on individual plots.\n",
      "  warnings.warn(\"No labelled objects found. \"\n"
     ]
    },
    {
     "name": "stdout",
     "output_type": "stream",
     "text": [
      "SEMC Channel :  u11-u10 Label :  IFGOr Bad shape :  (2560, 17) Good shape :  (2560, 17)\n",
      "Setting up low-pass filter at 10 Hz\n",
      "h_trans_bandwidth chosen to be 2.5 Hz\n",
      "Filter length of 1352 samples (2.641 sec) selected\n",
      "Setting up low-pass filter at 10 Hz\n",
      "h_trans_bandwidth chosen to be 2.5 Hz\n",
      "Filter length of 1352 samples (2.641 sec) selected\n",
      "Size of filtered data bad : (17, 2560) filtered data good :  (17, 2560)\n",
      "time points :  (2560,)\n",
      "Applying baseline correction (mode: mean)\n",
      "Applying baseline correction (mode: mean)\n",
      "Size norm & filtered data 0 :  (17, 2560) (17, 2560)\n",
      "-> Shape of bad data (17, 563) good data (17, 563)\n",
      "(17, 1000, 56) (17, 1000, 56)\n",
      "(1000, 56)\n",
      "[-1.787047275017454, 1.787047275017454] [-2.7460319721989404, 2.7460319721989404] [-4.8275425724554903, 4.8275425724554903]\n",
      "(56,) 1.48723324199 -2.66718203867\n",
      "Size of the concatenated data:  (34, 56) Number time windows :  56\n",
      "Size of label for classif:  34\n",
      "th_perm :  67.6470588235 73.5294117647 85.2941176471\n"
     ]
    },
    {
     "name": "stderr",
     "output_type": "stream",
     "text": [
      "/home/karim/anaconda3/lib/python3.5/site-packages/matplotlib/axes/_axes.py:545: UserWarning: No labelled objects found. Use label='...' kwarg on individual plots.\n",
      "  warnings.warn(\"No labelled objects found. \"\n"
     ]
    },
    {
     "name": "stdout",
     "output_type": "stream",
     "text": [
      "SEMC Channel :  u12-u11 Label :  IFGOr Bad shape :  (2560, 17) Good shape :  (2560, 17)\n",
      "Setting up low-pass filter at 10 Hz\n",
      "h_trans_bandwidth chosen to be 2.5 Hz\n",
      "Filter length of 1352 samples (2.641 sec) selected\n",
      "Setting up low-pass filter at 10 Hz\n",
      "h_trans_bandwidth chosen to be 2.5 Hz\n",
      "Filter length of 1352 samples (2.641 sec) selected\n",
      "Size of filtered data bad : (17, 2560) filtered data good :  (17, 2560)\n",
      "time points :  (2560,)\n",
      "Applying baseline correction (mode: mean)\n",
      "Applying baseline correction (mode: mean)\n",
      "Size norm & filtered data 0 :  (17, 2560) (17, 2560)\n",
      "-> Shape of bad data (17, 563) good data (17, 563)\n",
      "(17, 1000, 56) (17, 1000, 56)\n",
      "(1000, 56)\n",
      "[-1.8375083122482938, 1.8375083122482938] [-2.8131763168617798, 2.8131763168617798] [-4.6967175664550291, 4.6967175664550291]\n",
      "(56,) 2.30179809923 -2.21953175456\n",
      "Size of the concatenated data:  (34, 56) Number time windows :  56\n",
      "Size of label for classif:  34\n",
      "th_perm :  67.6470588235 76.4705882353 82.3529411765\n"
     ]
    },
    {
     "name": "stderr",
     "output_type": "stream",
     "text": [
      "/home/karim/anaconda3/lib/python3.5/site-packages/matplotlib/axes/_axes.py:545: UserWarning: No labelled objects found. Use label='...' kwarg on individual plots.\n",
      "  warnings.warn(\"No labelled objects found. \"\n"
     ]
    },
    {
     "name": "stdout",
     "output_type": "stream",
     "text": [
      "SEMC Channel :  x2-x1 Label :  adACC Bad shape :  (2560, 17) Good shape :  (2560, 17)\n",
      "Setting up low-pass filter at 10 Hz\n",
      "h_trans_bandwidth chosen to be 2.5 Hz\n",
      "Filter length of 1352 samples (2.641 sec) selected\n",
      "Setting up low-pass filter at 10 Hz\n",
      "h_trans_bandwidth chosen to be 2.5 Hz\n",
      "Filter length of 1352 samples (2.641 sec) selected\n",
      "Size of filtered data bad : (17, 2560) filtered data good :  (17, 2560)\n",
      "time points :  (2560,)\n",
      "Applying baseline correction (mode: mean)\n",
      "Applying baseline correction (mode: mean)\n",
      "Size norm & filtered data 0 :  (17, 2560) (17, 2560)\n",
      "-> Shape of bad data (17, 563) good data (17, 563)\n",
      "(17, 1000, 56) (17, 1000, 56)\n",
      "(1000, 56)\n",
      "[-1.8391204218390567, 1.8391204218390567] [-2.8060174842189562, 2.8060174842189562] [-5.6765198389463611, 5.6765198389463611]\n",
      "(56,) 2.02174119975 -1.82284046339\n",
      "Size of the concatenated data:  (34, 56) Number time windows :  56\n",
      "Size of label for classif:  34\n",
      "th_perm :  70.5882352941 73.5294117647 88.2352941176\n"
     ]
    },
    {
     "name": "stderr",
     "output_type": "stream",
     "text": [
      "/home/karim/anaconda3/lib/python3.5/site-packages/matplotlib/axes/_axes.py:545: UserWarning: No labelled objects found. Use label='...' kwarg on individual plots.\n",
      "  warnings.warn(\"No labelled objects found. \"\n"
     ]
    },
    {
     "name": "stdout",
     "output_type": "stream",
     "text": [
      "SEMC Channel :  x8-x7 Label :  MFG Bad shape :  (2560, 17) Good shape :  (2560, 17)\n",
      "Setting up low-pass filter at 10 Hz\n",
      "h_trans_bandwidth chosen to be 2.5 Hz\n",
      "Filter length of 1352 samples (2.641 sec) selected\n",
      "Setting up low-pass filter at 10 Hz\n",
      "h_trans_bandwidth chosen to be 2.5 Hz\n",
      "Filter length of 1352 samples (2.641 sec) selected\n",
      "Size of filtered data bad : (17, 2560) filtered data good :  (17, 2560)\n",
      "time points :  (2560,)\n",
      "Applying baseline correction (mode: mean)\n",
      "Applying baseline correction (mode: mean)\n",
      "Size norm & filtered data 0 :  (17, 2560) (17, 2560)\n",
      "-> Shape of bad data (17, 563) good data (17, 563)\n",
      "(17, 1000, 56) (17, 1000, 56)\n",
      "(1000, 56)\n",
      "[-1.8651567303449159, 1.8651567303449159] [-2.7741325580564302, 2.7741325580564302] [-5.1944992498958342, 5.1944992498958342]\n",
      "(56,) 1.34501039635 -2.67306134074\n",
      "Size of the concatenated data:  (34, 56) Number time windows :  56\n",
      "Size of label for classif:  34\n",
      "th_perm :  70.5882352941 76.4705882353 88.2352941176\n"
     ]
    },
    {
     "name": "stderr",
     "output_type": "stream",
     "text": [
      "/home/karim/anaconda3/lib/python3.5/site-packages/matplotlib/axes/_axes.py:545: UserWarning: No labelled objects found. Use label='...' kwarg on individual plots.\n",
      "  warnings.warn(\"No labelled objects found. \"\n"
     ]
    },
    {
     "name": "stdout",
     "output_type": "stream",
     "text": [
      "SEMC Channel :  x9-x8 Label :  MFG Bad shape :  (2560, 17) Good shape :  (2560, 17)\n",
      "Setting up low-pass filter at 10 Hz\n",
      "h_trans_bandwidth chosen to be 2.5 Hz\n",
      "Filter length of 1352 samples (2.641 sec) selected\n",
      "Setting up low-pass filter at 10 Hz\n",
      "h_trans_bandwidth chosen to be 2.5 Hz\n",
      "Filter length of 1352 samples (2.641 sec) selected\n",
      "Size of filtered data bad : (17, 2560) filtered data good :  (17, 2560)\n",
      "time points :  (2560,)\n",
      "Applying baseline correction (mode: mean)\n",
      "Applying baseline correction (mode: mean)\n",
      "Size norm & filtered data 0 :  (17, 2560) (17, 2560)\n",
      "-> Shape of bad data (17, 563) good data (17, 563)\n",
      "(17, 1000, 56) (17, 1000, 56)\n",
      "(1000, 56)\n",
      "[-1.8457608321043424, 1.8457608321043424] [-2.9142752133789296, 2.9142752133789296] [-4.5135629619677244, 4.5135629619677244]\n",
      "(56,) 2.11600702666 -1.19094565429\n",
      "Size of the concatenated data:  (34, 56) Number time windows :  56\n",
      "Size of label for classif:  34\n",
      "th_perm :  67.6470588235 73.5294117647 88.2352941176\n"
     ]
    },
    {
     "name": "stderr",
     "output_type": "stream",
     "text": [
      "/home/karim/anaconda3/lib/python3.5/site-packages/matplotlib/axes/_axes.py:545: UserWarning: No labelled objects found. Use label='...' kwarg on individual plots.\n",
      "  warnings.warn(\"No labelled objects found. \"\n"
     ]
    },
    {
     "name": "stdout",
     "output_type": "stream",
     "text": [
      "SEMC Channel :  x10-x9 Label :  MFG Bad shape :  (2560, 17) Good shape :  (2560, 17)\n",
      "Setting up low-pass filter at 10 Hz\n",
      "h_trans_bandwidth chosen to be 2.5 Hz\n",
      "Filter length of 1352 samples (2.641 sec) selected\n",
      "Setting up low-pass filter at 10 Hz\n",
      "h_trans_bandwidth chosen to be 2.5 Hz\n",
      "Filter length of 1352 samples (2.641 sec) selected\n",
      "Size of filtered data bad : (17, 2560) filtered data good :  (17, 2560)\n",
      "time points :  (2560,)\n",
      "Applying baseline correction (mode: mean)\n",
      "Applying baseline correction (mode: mean)\n",
      "Size norm & filtered data 0 :  (17, 2560) (17, 2560)\n",
      "-> Shape of bad data (17, 563) good data (17, 563)\n",
      "(17, 1000, 56) (17, 1000, 56)\n",
      "(1000, 56)\n",
      "[-1.8820429974460124, 1.8820429974460124] [-2.7136504507363464, 2.7136504507363464] [-4.7888557561853018, 4.7888557561853018]\n",
      "(56,) 1.3364472413 -2.66702897006\n",
      "Size of the concatenated data:  (34, 56) Number time windows :  56\n",
      "Size of label for classif:  34\n",
      "th_perm :  67.6470588235 76.4705882353 82.3529411765\n"
     ]
    },
    {
     "name": "stderr",
     "output_type": "stream",
     "text": [
      "/home/karim/anaconda3/lib/python3.5/site-packages/matplotlib/axes/_axes.py:545: UserWarning: No labelled objects found. Use label='...' kwarg on individual plots.\n",
      "  warnings.warn(\"No labelled objects found. \"\n"
     ]
    },
    {
     "name": "stdout",
     "output_type": "stream",
     "text": [
      "SEMC Channel :  x11-x10 Label :  MFG Bad shape :  (2560, 17) Good shape :  (2560, 17)\n",
      "Setting up low-pass filter at 10 Hz\n",
      "h_trans_bandwidth chosen to be 2.5 Hz\n",
      "Filter length of 1352 samples (2.641 sec) selected\n",
      "Setting up low-pass filter at 10 Hz\n",
      "h_trans_bandwidth chosen to be 2.5 Hz\n",
      "Filter length of 1352 samples (2.641 sec) selected\n",
      "Size of filtered data bad : (17, 2560) filtered data good :  (17, 2560)\n",
      "time points :  (2560,)\n",
      "Applying baseline correction (mode: mean)\n",
      "Applying baseline correction (mode: mean)\n",
      "Size norm & filtered data 0 :  (17, 2560) (17, 2560)\n",
      "-> Shape of bad data (17, 563) good data (17, 563)\n",
      "(17, 1000, 56) (17, 1000, 56)\n",
      "(1000, 56)\n",
      "[-1.8843935295205116, 1.8843935295205116] [-2.8504573808646936, 2.8504573808646936] [-4.3915428473221088, 4.3915428473221088]\n",
      "(56,) 1.79676024974 -2.19392008697\n",
      "Size of the concatenated data:  (34, 56) Number time windows :  56\n",
      "Size of label for classif:  34\n",
      "th_perm :  67.6470588235 73.5294117647 88.2352941176\n"
     ]
    },
    {
     "name": "stderr",
     "output_type": "stream",
     "text": [
      "/home/karim/anaconda3/lib/python3.5/site-packages/matplotlib/axes/_axes.py:545: UserWarning: No labelled objects found. Use label='...' kwarg on individual plots.\n",
      "  warnings.warn(\"No labelled objects found. \"\n"
     ]
    },
    {
     "name": "stdout",
     "output_type": "stream",
     "text": [
      "SEMC Channel :  x12-x11 Label :  LCR-MFG&MFG Bad shape :  (2560, 17) Good shape :  (2560, 17)\n",
      "Setting up low-pass filter at 10 Hz\n",
      "h_trans_bandwidth chosen to be 2.5 Hz\n",
      "Filter length of 1352 samples (2.641 sec) selected\n",
      "Setting up low-pass filter at 10 Hz\n",
      "h_trans_bandwidth chosen to be 2.5 Hz\n",
      "Filter length of 1352 samples (2.641 sec) selected\n",
      "Size of filtered data bad : (17, 2560) filtered data good :  (17, 2560)\n",
      "time points :  (2560,)\n",
      "Applying baseline correction (mode: mean)\n",
      "Applying baseline correction (mode: mean)\n",
      "Size norm & filtered data 0 :  (17, 2560) (17, 2560)\n",
      "-> Shape of bad data (17, 563) good data (17, 563)\n",
      "(17, 1000, 56) (17, 1000, 56)\n",
      "(1000, 56)\n",
      "[-1.9468796053433304, 1.9468796053433304] [-2.7529524699228327, 2.7529524699228327] [-4.1862444924499371, 4.1862444924499371]\n",
      "(56,) 1.86034324673 -1.90247245257\n",
      "Size of the concatenated data:  (34, 56) Number time windows :  56\n",
      "Size of label for classif:  34\n",
      "th_perm :  67.6470588235 73.5294117647 82.3529411765\n"
     ]
    },
    {
     "name": "stderr",
     "output_type": "stream",
     "text": [
      "/home/karim/anaconda3/lib/python3.5/site-packages/matplotlib/axes/_axes.py:545: UserWarning: No labelled objects found. Use label='...' kwarg on individual plots.\n",
      "  warnings.warn(\"No labelled objects found. \"\n"
     ]
    },
    {
     "name": "stdout",
     "output_type": "stream",
     "text": [
      "SEMC Channel :  y2-y1 Label :  SFGM-SFGL Bad shape :  (2560, 17) Good shape :  (2560, 17)\n",
      "Setting up low-pass filter at 10 Hz\n",
      "h_trans_bandwidth chosen to be 2.5 Hz\n",
      "Filter length of 1352 samples (2.641 sec) selected\n",
      "Setting up low-pass filter at 10 Hz\n",
      "h_trans_bandwidth chosen to be 2.5 Hz\n",
      "Filter length of 1352 samples (2.641 sec) selected\n",
      "Size of filtered data bad : (17, 2560) filtered data good :  (17, 2560)\n",
      "time points :  (2560,)\n",
      "Applying baseline correction (mode: mean)\n",
      "Applying baseline correction (mode: mean)\n",
      "Size norm & filtered data 0 :  (17, 2560) (17, 2560)\n",
      "-> Shape of bad data (17, 563) good data (17, 563)\n",
      "(17, 1000, 56) (17, 1000, 56)\n",
      "(1000, 56)\n",
      "[-1.8872666982679025, 1.8872666982679025] [-2.688795508887067, 2.688795508887067] [-4.3686664509189983, 4.3686664509189983]\n",
      "(56,) 3.53623042514 -0.836440267886\n",
      "Size of the concatenated data:  (34, 56) Number time windows :  56\n",
      "Size of label for classif:  34\n",
      "th_perm :  70.5882352941 73.5294117647 85.2941176471\n"
     ]
    },
    {
     "name": "stderr",
     "output_type": "stream",
     "text": [
      "/home/karim/anaconda3/lib/python3.5/site-packages/matplotlib/axes/_axes.py:545: UserWarning: No labelled objects found. Use label='...' kwarg on individual plots.\n",
      "  warnings.warn(\"No labelled objects found. \"\n"
     ]
    },
    {
     "name": "stdout",
     "output_type": "stream",
     "text": [
      "SEMC Channel :  y3-y2 Label :  SFGL&SFGM-SFGL Bad shape :  (2560, 17) Good shape :  (2560, 17)\n",
      "Setting up low-pass filter at 10 Hz\n",
      "h_trans_bandwidth chosen to be 2.5 Hz\n",
      "Filter length of 1352 samples (2.641 sec) selected\n",
      "Setting up low-pass filter at 10 Hz\n",
      "h_trans_bandwidth chosen to be 2.5 Hz\n",
      "Filter length of 1352 samples (2.641 sec) selected\n",
      "Size of filtered data bad : (17, 2560) filtered data good :  (17, 2560)\n",
      "time points :  (2560,)\n",
      "Applying baseline correction (mode: mean)\n",
      "Applying baseline correction (mode: mean)\n",
      "Size norm & filtered data 0 :  (17, 2560) (17, 2560)\n",
      "-> Shape of bad data (17, 563) good data (17, 563)\n",
      "(17, 1000, 56) (17, 1000, 56)\n",
      "(1000, 56)\n",
      "[-1.8765140018351598, 1.8765140018351598] [-2.716813124096372, 2.716813124096372] [-4.8241703971713203, 4.8241703971713203]\n",
      "(56,) 3.13619407435 -2.99529713215\n",
      "Size of the concatenated data:  (34, 56) Number time windows :  56\n",
      "Size of label for classif:  34\n",
      "th_perm :  67.6470588235 73.5294117647 85.2941176471\n"
     ]
    },
    {
     "name": "stderr",
     "output_type": "stream",
     "text": [
      "/home/karim/anaconda3/lib/python3.5/site-packages/matplotlib/axes/_axes.py:545: UserWarning: No labelled objects found. Use label='...' kwarg on individual plots.\n",
      "  warnings.warn(\"No labelled objects found. \"\n"
     ]
    },
    {
     "name": "stdout",
     "output_type": "stream",
     "text": [
      "SEMC Channel :  y4-y3 Label :  SFGL Bad shape :  (2560, 17) Good shape :  (2560, 17)\n",
      "Setting up low-pass filter at 10 Hz\n",
      "h_trans_bandwidth chosen to be 2.5 Hz\n",
      "Filter length of 1352 samples (2.641 sec) selected\n",
      "Setting up low-pass filter at 10 Hz\n",
      "h_trans_bandwidth chosen to be 2.5 Hz\n",
      "Filter length of 1352 samples (2.641 sec) selected\n",
      "Size of filtered data bad : (17, 2560) filtered data good :  (17, 2560)\n",
      "time points :  (2560,)\n",
      "Applying baseline correction (mode: mean)\n",
      "Applying baseline correction (mode: mean)\n",
      "Size norm & filtered data 0 :  (17, 2560) (17, 2560)\n",
      "-> Shape of bad data (17, 563) good data (17, 563)\n",
      "(17, 1000, 56) (17, 1000, 56)\n",
      "(1000, 56)\n",
      "[-1.8131600934169581, 1.8131600934169581] [-2.5846072571191576, 2.5846072571191576] [-5.3204463023488495, 5.3204463023488495]\n",
      "(56,) 2.13888757964 -1.9131508083\n",
      "Size of the concatenated data:  (34, 56) Number time windows :  56\n",
      "Size of label for classif:  34\n",
      "th_perm :  67.6470588235 73.5294117647 85.2941176471\n"
     ]
    },
    {
     "name": "stderr",
     "output_type": "stream",
     "text": [
      "/home/karim/anaconda3/lib/python3.5/site-packages/matplotlib/axes/_axes.py:545: UserWarning: No labelled objects found. Use label='...' kwarg on individual plots.\n",
      "  warnings.warn(\"No labelled objects found. \"\n"
     ]
    },
    {
     "name": "stdout",
     "output_type": "stream",
     "text": [
      "SEMC Channel :  y5-y4 Label :  SFGL-MFG&SFGL Bad shape :  (2560, 17) Good shape :  (2560, 17)\n",
      "Setting up low-pass filter at 10 Hz\n",
      "h_trans_bandwidth chosen to be 2.5 Hz\n",
      "Filter length of 1352 samples (2.641 sec) selected\n",
      "Setting up low-pass filter at 10 Hz\n",
      "h_trans_bandwidth chosen to be 2.5 Hz\n",
      "Filter length of 1352 samples (2.641 sec) selected\n",
      "Size of filtered data bad : (17, 2560) filtered data good :  (17, 2560)\n",
      "time points :  (2560,)\n",
      "Applying baseline correction (mode: mean)\n",
      "Applying baseline correction (mode: mean)\n",
      "Size norm & filtered data 0 :  (17, 2560) (17, 2560)\n",
      "-> Shape of bad data (17, 563) good data (17, 563)\n",
      "(17, 1000, 56) (17, 1000, 56)\n",
      "(1000, 56)\n",
      "[-1.8687234396045052, 1.8687234396045052] [-2.7066780001834085, 2.7066780001834085] [-5.1696519078997909, 5.1696519078997909]\n",
      "(56,) 2.10591956097 -2.46286957243\n",
      "Size of the concatenated data:  (34, 56) Number time windows :  56\n",
      "Size of label for classif:  34\n",
      "th_perm :  67.6470588235 73.5294117647 85.2941176471\n"
     ]
    },
    {
     "name": "stderr",
     "output_type": "stream",
     "text": [
      "/home/karim/anaconda3/lib/python3.5/site-packages/matplotlib/axes/_axes.py:545: UserWarning: No labelled objects found. Use label='...' kwarg on individual plots.\n",
      "  warnings.warn(\"No labelled objects found. \"\n"
     ]
    },
    {
     "name": "stdout",
     "output_type": "stream",
     "text": [
      "SEMC Channel :  y6-y5 Label :  SFGL-MFG Bad shape :  (2560, 17) Good shape :  (2560, 17)\n",
      "Setting up low-pass filter at 10 Hz\n",
      "h_trans_bandwidth chosen to be 2.5 Hz\n",
      "Filter length of 1352 samples (2.641 sec) selected\n",
      "Setting up low-pass filter at 10 Hz\n",
      "h_trans_bandwidth chosen to be 2.5 Hz\n",
      "Filter length of 1352 samples (2.641 sec) selected\n",
      "Size of filtered data bad : (17, 2560) filtered data good :  (17, 2560)\n",
      "time points :  (2560,)\n",
      "Applying baseline correction (mode: mean)\n",
      "Applying baseline correction (mode: mean)\n",
      "Size norm & filtered data 0 :  (17, 2560) (17, 2560)\n",
      "-> Shape of bad data (17, 563) good data (17, 563)\n",
      "(17, 1000, 56) (17, 1000, 56)\n",
      "(1000, 56)\n",
      "[-1.9709903652672602, 1.9709903652672602] [-2.8051098020781753, 2.8051098020781753] [-5.1467113043428423, 5.1467113043428423]\n",
      "(56,) 2.19351391642 -1.20111081468\n",
      "Size of the concatenated data:  (34, 56) Number time windows :  56\n",
      "Size of label for classif:  34\n",
      "th_perm :  67.6470588235 73.5294117647 88.2352941176\n"
     ]
    },
    {
     "name": "stderr",
     "output_type": "stream",
     "text": [
      "/home/karim/anaconda3/lib/python3.5/site-packages/matplotlib/axes/_axes.py:545: UserWarning: No labelled objects found. Use label='...' kwarg on individual plots.\n",
      "  warnings.warn(\"No labelled objects found. \"\n"
     ]
    },
    {
     "name": "stdout",
     "output_type": "stream",
     "text": [
      "SEMC Channel :  y7-y6 Label :  SFGL-MFG Bad shape :  (2560, 17) Good shape :  (2560, 17)\n",
      "Setting up low-pass filter at 10 Hz\n",
      "h_trans_bandwidth chosen to be 2.5 Hz\n",
      "Filter length of 1352 samples (2.641 sec) selected\n",
      "Setting up low-pass filter at 10 Hz\n",
      "h_trans_bandwidth chosen to be 2.5 Hz\n",
      "Filter length of 1352 samples (2.641 sec) selected\n",
      "Size of filtered data bad : (17, 2560) filtered data good :  (17, 2560)\n",
      "time points :  (2560,)\n",
      "Applying baseline correction (mode: mean)\n",
      "Applying baseline correction (mode: mean)\n",
      "Size norm & filtered data 0 :  (17, 2560) (17, 2560)\n",
      "-> Shape of bad data (17, 563) good data (17, 563)\n",
      "(17, 1000, 56) (17, 1000, 56)\n",
      "(1000, 56)\n",
      "[-1.8483322520030683, 1.8483322520030683] [-2.8609171479861648, 2.8609171479861648] [-5.0721836958942301, 5.0721836958942301]\n",
      "(56,) 1.37216975696 -2.22030707449\n",
      "Size of the concatenated data:  (34, 56) Number time windows :  56\n",
      "Size of label for classif:  34\n",
      "th_perm :  67.6470588235 76.4705882353 82.3529411765\n"
     ]
    },
    {
     "name": "stderr",
     "output_type": "stream",
     "text": [
      "/home/karim/anaconda3/lib/python3.5/site-packages/matplotlib/axes/_axes.py:545: UserWarning: No labelled objects found. Use label='...' kwarg on individual plots.\n",
      "  warnings.warn(\"No labelled objects found. \"\n"
     ]
    },
    {
     "name": "stdout",
     "output_type": "stream",
     "text": [
      "SEMC Channel :  y8-y7 Label :  SFGL-MFG Bad shape :  (2560, 17) Good shape :  (2560, 17)\n",
      "Setting up low-pass filter at 10 Hz\n",
      "h_trans_bandwidth chosen to be 2.5 Hz\n",
      "Filter length of 1352 samples (2.641 sec) selected\n",
      "Setting up low-pass filter at 10 Hz\n",
      "h_trans_bandwidth chosen to be 2.5 Hz\n",
      "Filter length of 1352 samples (2.641 sec) selected\n",
      "Size of filtered data bad : (17, 2560) filtered data good :  (17, 2560)\n",
      "time points :  (2560,)\n",
      "Applying baseline correction (mode: mean)\n",
      "Applying baseline correction (mode: mean)\n",
      "Size norm & filtered data 0 :  (17, 2560) (17, 2560)\n",
      "-> Shape of bad data (17, 563) good data (17, 563)\n",
      "(17, 1000, 56) (17, 1000, 56)\n",
      "(1000, 56)\n",
      "[-1.7823187626549146, 1.7823187626549146] [-2.8354153714348227, 2.8354153714348227] [-5.532986158987363, 5.532986158987363]\n",
      "(56,) 1.30515833706 -2.29566554524\n",
      "Size of the concatenated data:  (34, 56) Number time windows :  56\n",
      "Size of label for classif:  34\n",
      "th_perm :  67.6470588235 73.5294117647 85.2941176471\n"
     ]
    },
    {
     "name": "stderr",
     "output_type": "stream",
     "text": [
      "/home/karim/anaconda3/lib/python3.5/site-packages/matplotlib/axes/_axes.py:545: UserWarning: No labelled objects found. Use label='...' kwarg on individual plots.\n",
      "  warnings.warn(\"No labelled objects found. \"\n"
     ]
    },
    {
     "name": "stdout",
     "output_type": "stream",
     "text": [
      "SEMC Channel :  y9-y8 Label :  LCR-MFG&SFGL-MFG Bad shape :  (2560, 17) Good shape :  (2560, 17)\n",
      "Setting up low-pass filter at 10 Hz\n",
      "h_trans_bandwidth chosen to be 2.5 Hz\n",
      "Filter length of 1352 samples (2.641 sec) selected\n",
      "Setting up low-pass filter at 10 Hz\n",
      "h_trans_bandwidth chosen to be 2.5 Hz\n",
      "Filter length of 1352 samples (2.641 sec) selected\n",
      "Size of filtered data bad : (17, 2560) filtered data good :  (17, 2560)\n",
      "time points :  (2560,)\n",
      "Applying baseline correction (mode: mean)\n",
      "Applying baseline correction (mode: mean)\n",
      "Size norm & filtered data 0 :  (17, 2560) (17, 2560)\n",
      "-> Shape of bad data (17, 563) good data (17, 563)\n",
      "(17, 1000, 56) (17, 1000, 56)\n",
      "(1000, 56)\n",
      "[-1.8813256329208823, 1.8813256329208823] [-2.7723994672779866, 2.7723994672779866] [-5.3189242990316652, 5.3189242990316652]\n",
      "(56,) 1.5773036408 -1.96995532655\n",
      "Size of the concatenated data:  (34, 56) Number time windows :  56\n",
      "Size of label for classif:  34\n",
      "th_perm :  67.6470588235 73.5294117647 85.2941176471\n"
     ]
    },
    {
     "name": "stderr",
     "output_type": "stream",
     "text": [
      "/home/karim/anaconda3/lib/python3.5/site-packages/matplotlib/axes/_axes.py:545: UserWarning: No labelled objects found. Use label='...' kwarg on individual plots.\n",
      "  warnings.warn(\"No labelled objects found. \"\n"
     ]
    },
    {
     "name": "stdout",
     "output_type": "stream",
     "text": [
      "SEMC Channel :  y10-y9 Label :  LCR&LCR-MFG Bad shape :  (2560, 17) Good shape :  (2560, 17)\n",
      "Setting up low-pass filter at 10 Hz\n",
      "h_trans_bandwidth chosen to be 2.5 Hz\n",
      "Filter length of 1352 samples (2.641 sec) selected\n",
      "Setting up low-pass filter at 10 Hz\n",
      "h_trans_bandwidth chosen to be 2.5 Hz\n",
      "Filter length of 1352 samples (2.641 sec) selected\n",
      "Size of filtered data bad : (17, 2560) filtered data good :  (17, 2560)\n",
      "time points :  (2560,)\n",
      "Applying baseline correction (mode: mean)\n",
      "Applying baseline correction (mode: mean)\n",
      "Size norm & filtered data 0 :  (17, 2560) (17, 2560)\n",
      "-> Shape of bad data (17, 563) good data (17, 563)\n",
      "(17, 1000, 56) (17, 1000, 56)\n",
      "(1000, 56)\n",
      "[-1.801444154413711, 1.801444154413711] [-2.7214159168752974, 2.7214159168752974] [-4.7915523200747803, 4.7915523200747803]\n",
      "(56,) 1.60239368077 -1.33769899009\n",
      "Size of the concatenated data:  (34, 56) Number time windows :  56\n",
      "Size of label for classif:  34\n",
      "th_perm :  67.6470588235 73.5294117647 85.2941176471\n"
     ]
    },
    {
     "name": "stderr",
     "output_type": "stream",
     "text": [
      "/home/karim/anaconda3/lib/python3.5/site-packages/matplotlib/axes/_axes.py:545: UserWarning: No labelled objects found. Use label='...' kwarg on individual plots.\n",
      "  warnings.warn(\"No labelled objects found. \"\n"
     ]
    },
    {
     "name": "stdout",
     "output_type": "stream",
     "text": [
      "SEMC Channel :  z2-z1 Label :  SFGM-SFGL&SFGM Bad shape :  (2560, 17) Good shape :  (2560, 17)\n",
      "Setting up low-pass filter at 10 Hz\n",
      "h_trans_bandwidth chosen to be 2.5 Hz\n",
      "Filter length of 1352 samples (2.641 sec) selected\n",
      "Setting up low-pass filter at 10 Hz\n",
      "h_trans_bandwidth chosen to be 2.5 Hz\n",
      "Filter length of 1352 samples (2.641 sec) selected\n",
      "Size of filtered data bad : (17, 2560) filtered data good :  (17, 2560)\n",
      "time points :  (2560,)\n",
      "Applying baseline correction (mode: mean)\n",
      "Applying baseline correction (mode: mean)\n",
      "Size norm & filtered data 0 :  (17, 2560) (17, 2560)\n",
      "-> Shape of bad data (17, 563) good data (17, 563)\n",
      "(17, 1000, 56) (17, 1000, 56)\n",
      "(1000, 56)\n",
      "[-1.8284402134493265, 1.8284402134493265] [-2.8296503204387871, 2.8296503204387871] [-4.3310514302760881, 4.3310514302760881]\n",
      "(56,) 2.44703668008 -1.27092477386\n",
      "Size of the concatenated data:  (34, 56) Number time windows :  56\n",
      "Size of label for classif:  34\n",
      "th_perm :  67.6470588235 73.5294117647 82.3529411765\n"
     ]
    },
    {
     "name": "stderr",
     "output_type": "stream",
     "text": [
      "/home/karim/anaconda3/lib/python3.5/site-packages/matplotlib/axes/_axes.py:545: UserWarning: No labelled objects found. Use label='...' kwarg on individual plots.\n",
      "  warnings.warn(\"No labelled objects found. \"\n"
     ]
    },
    {
     "name": "stdout",
     "output_type": "stream",
     "text": [
      "SEMC Channel :  z3-z2 Label :  SFGL&SFGM-SFGL Bad shape :  (2560, 17) Good shape :  (2560, 17)\n",
      "Setting up low-pass filter at 10 Hz\n",
      "h_trans_bandwidth chosen to be 2.5 Hz\n",
      "Filter length of 1352 samples (2.641 sec) selected\n",
      "Setting up low-pass filter at 10 Hz\n",
      "h_trans_bandwidth chosen to be 2.5 Hz\n",
      "Filter length of 1352 samples (2.641 sec) selected\n",
      "Size of filtered data bad : (17, 2560) filtered data good :  (17, 2560)\n",
      "time points :  (2560,)\n",
      "Applying baseline correction (mode: mean)\n",
      "Applying baseline correction (mode: mean)\n",
      "Size norm & filtered data 0 :  (17, 2560) (17, 2560)\n",
      "-> Shape of bad data (17, 563) good data (17, 563)\n",
      "(17, 1000, 56) (17, 1000, 56)\n",
      "(1000, 56)\n",
      "[-1.9048827503518182, 1.9048827503518182] [-2.9053813343695634, 2.9053813343695634] [-4.5910698298831454, 4.5910698298831454]\n",
      "(56,) 2.2063230054 -2.52537138856\n",
      "Size of the concatenated data:  (34, 56) Number time windows :  56\n",
      "Size of label for classif:  34\n",
      "th_perm :  67.6470588235 73.5294117647 85.2941176471\n"
     ]
    },
    {
     "name": "stderr",
     "output_type": "stream",
     "text": [
      "/home/karim/anaconda3/lib/python3.5/site-packages/matplotlib/axes/_axes.py:545: UserWarning: No labelled objects found. Use label='...' kwarg on individual plots.\n",
      "  warnings.warn(\"No labelled objects found. \"\n"
     ]
    },
    {
     "name": "stdout",
     "output_type": "stream",
     "text": [
      "SEMC Channel :  z4-z3 Label :  SFGL-MFG&SFGL Bad shape :  (2560, 17) Good shape :  (2560, 17)\n",
      "Setting up low-pass filter at 10 Hz\n",
      "h_trans_bandwidth chosen to be 2.5 Hz\n",
      "Filter length of 1352 samples (2.641 sec) selected\n",
      "Setting up low-pass filter at 10 Hz\n",
      "h_trans_bandwidth chosen to be 2.5 Hz\n",
      "Filter length of 1352 samples (2.641 sec) selected\n",
      "Size of filtered data bad : (17, 2560) filtered data good :  (17, 2560)\n",
      "time points :  (2560,)\n",
      "Applying baseline correction (mode: mean)\n",
      "Applying baseline correction (mode: mean)\n",
      "Size norm & filtered data 0 :  (17, 2560) (17, 2560)\n",
      "-> Shape of bad data (17, 563) good data (17, 563)\n",
      "(17, 1000, 56) (17, 1000, 56)\n",
      "(1000, 56)\n",
      "[-1.8941522375373796, 1.8941522375373796] [-2.7023009113950685, 2.7023009113950685] [-5.220822455302514, 5.220822455302514]\n",
      "(56,) 2.95497700304 -2.62177122658\n",
      "Size of the concatenated data:  (34, 56) Number time windows :  56\n",
      "Size of label for classif:  34\n",
      "th_perm :  67.6470588235 73.5294117647 82.3529411765\n"
     ]
    },
    {
     "name": "stderr",
     "output_type": "stream",
     "text": [
      "/home/karim/anaconda3/lib/python3.5/site-packages/matplotlib/axes/_axes.py:545: UserWarning: No labelled objects found. Use label='...' kwarg on individual plots.\n",
      "  warnings.warn(\"No labelled objects found. \"\n"
     ]
    },
    {
     "name": "stdout",
     "output_type": "stream",
     "text": [
      "SEMC Channel :  z5-z4 Label :  MFG&SFGL-MFG Bad shape :  (2560, 17) Good shape :  (2560, 17)\n",
      "Setting up low-pass filter at 10 Hz\n",
      "h_trans_bandwidth chosen to be 2.5 Hz\n",
      "Filter length of 1352 samples (2.641 sec) selected\n",
      "Setting up low-pass filter at 10 Hz\n",
      "h_trans_bandwidth chosen to be 2.5 Hz\n",
      "Filter length of 1352 samples (2.641 sec) selected\n",
      "Size of filtered data bad : (17, 2560) filtered data good :  (17, 2560)\n",
      "time points :  (2560,)\n",
      "Applying baseline correction (mode: mean)\n",
      "Applying baseline correction (mode: mean)\n",
      "Size norm & filtered data 0 :  (17, 2560) (17, 2560)\n",
      "-> Shape of bad data (17, 563) good data (17, 563)\n",
      "(17, 1000, 56) (17, 1000, 56)\n",
      "(1000, 56)\n",
      "[-1.8616587099672728, 1.8616587099672728] [-2.7415367891309836, 2.7415367891309836] [-4.2963648004356303, 4.2963648004356303]\n",
      "(56,) 2.81467273222 -1.51059831625\n",
      "Size of the concatenated data:  (34, 56) Number time windows :  56\n",
      "Size of label for classif:  34\n",
      "th_perm :  67.6470588235 73.5294117647 85.2941176471\n"
     ]
    },
    {
     "name": "stderr",
     "output_type": "stream",
     "text": [
      "/home/karim/anaconda3/lib/python3.5/site-packages/matplotlib/axes/_axes.py:545: UserWarning: No labelled objects found. Use label='...' kwarg on individual plots.\n",
      "  warnings.warn(\"No labelled objects found. \"\n"
     ]
    },
    {
     "name": "stdout",
     "output_type": "stream",
     "text": [
      "SEMC Channel :  z6-z5 Label :  MFG Bad shape :  (2560, 17) Good shape :  (2560, 17)\n",
      "Setting up low-pass filter at 10 Hz\n",
      "h_trans_bandwidth chosen to be 2.5 Hz\n",
      "Filter length of 1352 samples (2.641 sec) selected\n",
      "Setting up low-pass filter at 10 Hz\n",
      "h_trans_bandwidth chosen to be 2.5 Hz\n",
      "Filter length of 1352 samples (2.641 sec) selected\n",
      "Size of filtered data bad : (17, 2560) filtered data good :  (17, 2560)\n",
      "time points :  (2560,)\n",
      "Applying baseline correction (mode: mean)\n",
      "Applying baseline correction (mode: mean)\n",
      "Size norm & filtered data 0 :  (17, 2560) (17, 2560)\n",
      "-> Shape of bad data (17, 563) good data (17, 563)\n",
      "(17, 1000, 56) (17, 1000, 56)\n",
      "(1000, 56)\n",
      "[-1.9008188357711462, 1.9008188357711462] [-2.8343626656375784, 2.8343626656375784] [-5.768382470782659, 5.768382470782659]\n",
      "(56,) 1.67351027334 -3.5971669351\n",
      "Size of the concatenated data:  (34, 56) Number time windows :  56\n",
      "Size of label for classif:  34\n",
      "th_perm :  67.6470588235 73.5294117647 82.3529411765\n"
     ]
    },
    {
     "name": "stderr",
     "output_type": "stream",
     "text": [
      "/home/karim/anaconda3/lib/python3.5/site-packages/matplotlib/axes/_axes.py:545: UserWarning: No labelled objects found. Use label='...' kwarg on individual plots.\n",
      "  warnings.warn(\"No labelled objects found. \"\n"
     ]
    },
    {
     "name": "stdout",
     "output_type": "stream",
     "text": [
      "SEMC Channel :  z7-z6 Label :  MFG Bad shape :  (2560, 17) Good shape :  (2560, 17)\n",
      "Setting up low-pass filter at 10 Hz\n",
      "h_trans_bandwidth chosen to be 2.5 Hz\n",
      "Filter length of 1352 samples (2.641 sec) selected\n",
      "Setting up low-pass filter at 10 Hz\n",
      "h_trans_bandwidth chosen to be 2.5 Hz\n",
      "Filter length of 1352 samples (2.641 sec) selected\n",
      "Size of filtered data bad : (17, 2560) filtered data good :  (17, 2560)\n",
      "time points :  (2560,)\n",
      "Applying baseline correction (mode: mean)\n",
      "Applying baseline correction (mode: mean)\n",
      "Size norm & filtered data 0 :  (17, 2560) (17, 2560)\n",
      "-> Shape of bad data (17, 563) good data (17, 563)\n",
      "(17, 1000, 56) (17, 1000, 56)\n",
      "(1000, 56)\n",
      "[-1.8658832844186124, 1.8658832844186124] [-2.7909308371240615, 2.7909308371240615] [-4.6072014118945663, 4.6072014118945663]\n",
      "(56,) 1.33599744482 -2.97571480951\n",
      "Size of the concatenated data:  (34, 56) Number time windows :  56\n",
      "Size of label for classif:  34\n",
      "th_perm :  67.6470588235 73.5294117647 85.2941176471\n"
     ]
    },
    {
     "name": "stderr",
     "output_type": "stream",
     "text": [
      "/home/karim/anaconda3/lib/python3.5/site-packages/matplotlib/axes/_axes.py:545: UserWarning: No labelled objects found. Use label='...' kwarg on individual plots.\n",
      "  warnings.warn(\"No labelled objects found. \"\n"
     ]
    },
    {
     "name": "stdout",
     "output_type": "stream",
     "text": [
      "SEMC Channel :  z8-z7 Label :  LCR-MFG&MFG Bad shape :  (2560, 17) Good shape :  (2560, 17)\n",
      "Setting up low-pass filter at 10 Hz\n",
      "h_trans_bandwidth chosen to be 2.5 Hz\n",
      "Filter length of 1352 samples (2.641 sec) selected\n",
      "Setting up low-pass filter at 10 Hz\n",
      "h_trans_bandwidth chosen to be 2.5 Hz\n",
      "Filter length of 1352 samples (2.641 sec) selected\n",
      "Size of filtered data bad : (17, 2560) filtered data good :  (17, 2560)\n",
      "time points :  (2560,)\n",
      "Applying baseline correction (mode: mean)\n",
      "Applying baseline correction (mode: mean)\n",
      "Size norm & filtered data 0 :  (17, 2560) (17, 2560)\n",
      "-> Shape of bad data (17, 563) good data (17, 563)\n",
      "(17, 1000, 56) (17, 1000, 56)\n",
      "(1000, 56)\n",
      "[-1.8509686131305574, 1.8509686131305574] [-2.9198512058423001, 2.9198512058423001] [-5.1824520614572318, 5.1824520614572318]\n",
      "(56,) 1.81605583261 -2.74900946397\n",
      "Size of the concatenated data:  (34, 56) Number time windows :  56\n",
      "Size of label for classif:  34\n",
      "th_perm :  70.5882352941 73.5294117647 82.3529411765\n"
     ]
    },
    {
     "name": "stderr",
     "output_type": "stream",
     "text": [
      "/home/karim/anaconda3/lib/python3.5/site-packages/matplotlib/axes/_axes.py:545: UserWarning: No labelled objects found. Use label='...' kwarg on individual plots.\n",
      "  warnings.warn(\"No labelled objects found. \"\n"
     ]
    },
    {
     "name": "stdout",
     "output_type": "stream",
     "text": [
      "SEMC Channel :  z9-z8 Label :  LCR&LCR-MFG Bad shape :  (2560, 17) Good shape :  (2560, 17)\n",
      "Setting up low-pass filter at 10 Hz\n",
      "h_trans_bandwidth chosen to be 2.5 Hz\n",
      "Filter length of 1352 samples (2.641 sec) selected\n",
      "Setting up low-pass filter at 10 Hz\n",
      "h_trans_bandwidth chosen to be 2.5 Hz\n",
      "Filter length of 1352 samples (2.641 sec) selected\n",
      "Size of filtered data bad : (17, 2560) filtered data good :  (17, 2560)\n",
      "time points :  (2560,)\n",
      "Applying baseline correction (mode: mean)\n",
      "Applying baseline correction (mode: mean)\n",
      "Size norm & filtered data 0 :  (17, 2560) (17, 2560)\n",
      "-> Shape of bad data (17, 563) good data (17, 563)\n",
      "(17, 1000, 56) (17, 1000, 56)\n",
      "(1000, 56)\n",
      "[-1.7838390990712869, 1.7838390990712869] [-2.6698111161383569, 2.6698111161383569] [-5.1711560649675334, 5.1711560649675334]\n",
      "(56,) 2.03665113944 -2.41797064637\n",
      "Size of the concatenated data:  (34, 56) Number time windows :  56\n",
      "Size of label for classif:  34\n",
      "th_perm :  67.6470588235 73.5294117647 88.2352941176\n"
     ]
    },
    {
     "name": "stderr",
     "output_type": "stream",
     "text": [
      "/home/karim/anaconda3/lib/python3.5/site-packages/matplotlib/axes/_axes.py:545: UserWarning: No labelled objects found. Use label='...' kwarg on individual plots.\n",
      "  warnings.warn(\"No labelled objects found. \"\n"
     ]
    },
    {
     "name": "stdout",
     "output_type": "stream",
     "text": [
      "SEMC Channel :  z10-z9 Label :  LCR-skull&LCR Bad shape :  (2560, 17) Good shape :  (2560, 17)\n",
      "Setting up low-pass filter at 10 Hz\n",
      "h_trans_bandwidth chosen to be 2.5 Hz\n",
      "Filter length of 1352 samples (2.641 sec) selected\n",
      "Setting up low-pass filter at 10 Hz\n",
      "h_trans_bandwidth chosen to be 2.5 Hz\n",
      "Filter length of 1352 samples (2.641 sec) selected\n",
      "Size of filtered data bad : (17, 2560) filtered data good :  (17, 2560)\n",
      "time points :  (2560,)\n",
      "Applying baseline correction (mode: mean)\n",
      "Applying baseline correction (mode: mean)\n",
      "Size norm & filtered data 0 :  (17, 2560) (17, 2560)\n",
      "-> Shape of bad data (17, 563) good data (17, 563)\n",
      "(17, 1000, 56) (17, 1000, 56)\n",
      "(1000, 56)\n",
      "[-1.8426631791709649, 1.8426631791709649] [-2.6612135258632135, 2.6612135258632135] [-4.9697974082402983, 4.9697974082402983]\n",
      "(56,) 2.70499076213 -2.6060761596\n",
      "Size of the concatenated data:  (34, 56) Number time windows :  56\n",
      "Size of label for classif:  34\n",
      "th_perm :  67.6470588235 73.5294117647 82.3529411765\n"
     ]
    },
    {
     "name": "stderr",
     "output_type": "stream",
     "text": [
      "/home/karim/anaconda3/lib/python3.5/site-packages/matplotlib/axes/_axes.py:545: UserWarning: No labelled objects found. Use label='...' kwarg on individual plots.\n",
      "  warnings.warn(\"No labelled objects found. \"\n"
     ]
    },
    {
     "name": "stdout",
     "output_type": "stream",
     "text": [
      "balanced data :  (62, 2560, 13) (62, 2560, 13)\n",
      "PIRJ Channel :  b2-b1 Label :  aHC Bad shape :  (2560, 13) Good shape :  (2560, 13)\n",
      "Setting up low-pass filter at 10 Hz\n",
      "h_trans_bandwidth chosen to be 2.5 Hz\n",
      "Filter length of 1352 samples (2.641 sec) selected\n",
      "Setting up low-pass filter at 10 Hz\n",
      "h_trans_bandwidth chosen to be 2.5 Hz\n",
      "Filter length of 1352 samples (2.641 sec) selected\n",
      "Size of filtered data bad : (13, 2560) filtered data good :  (13, 2560)\n",
      "time points :  (2560,)\n",
      "Applying baseline correction (mode: mean)\n",
      "Applying baseline correction (mode: mean)\n",
      "Size norm & filtered data 0 :  (13, 2560) (13, 2560)\n",
      "-> Shape of bad data (13, 563) good data (13, 563)\n",
      "(13, 1000, 56) (13, 1000, 56)\n",
      "(1000, 56)\n",
      "[-1.8699633721858839, 1.8699633721858839] [-2.6844117724676946, 2.6844117724676946] [-4.1458136714764713, 4.1458136714764713]\n",
      "(56,) 2.32441054215 -1.65944659102\n",
      "Size of the concatenated data:  (26, 56) Number time windows :  56\n",
      "Size of label for classif:  26\n",
      "th_perm :  69.2307692308 76.9230769231 88.4615384615\n"
     ]
    },
    {
     "name": "stderr",
     "output_type": "stream",
     "text": [
      "/home/karim/anaconda3/lib/python3.5/site-packages/matplotlib/axes/_axes.py:545: UserWarning: No labelled objects found. Use label='...' kwarg on individual plots.\n",
      "  warnings.warn(\"No labelled objects found. \"\n"
     ]
    },
    {
     "name": "stdout",
     "output_type": "stream",
     "text": [
      "PIRJ Channel :  b3-b2 Label :  aHC Bad shape :  (2560, 13) Good shape :  (2560, 13)\n",
      "Setting up low-pass filter at 10 Hz\n",
      "h_trans_bandwidth chosen to be 2.5 Hz\n",
      "Filter length of 1352 samples (2.641 sec) selected\n",
      "Setting up low-pass filter at 10 Hz\n",
      "h_trans_bandwidth chosen to be 2.5 Hz\n",
      "Filter length of 1352 samples (2.641 sec) selected\n",
      "Size of filtered data bad : (13, 2560) filtered data good :  (13, 2560)\n",
      "time points :  (2560,)\n",
      "Applying baseline correction (mode: mean)\n",
      "Applying baseline correction (mode: mean)\n",
      "Size norm & filtered data 0 :  (13, 2560) (13, 2560)\n",
      "-> Shape of bad data (13, 563) good data (13, 563)\n",
      "(13, 1000, 56) (13, 1000, 56)\n",
      "(1000, 56)\n",
      "[-1.8956849631189692, 1.8956849631189692] [-2.8739219315199103, 2.8739219315199103] [-4.5345722560073138, 4.5345722560073138]\n",
      "(56,) 2.38514276927 -2.14512494692\n",
      "Size of the concatenated data:  (26, 56) Number time windows :  56\n",
      "Size of label for classif:  26\n",
      "th_perm :  73.0769230769 76.9230769231 88.4615384615\n"
     ]
    },
    {
     "name": "stderr",
     "output_type": "stream",
     "text": [
      "/home/karim/anaconda3/lib/python3.5/site-packages/matplotlib/axes/_axes.py:545: UserWarning: No labelled objects found. Use label='...' kwarg on individual plots.\n",
      "  warnings.warn(\"No labelled objects found. \"\n"
     ]
    },
    {
     "name": "stdout",
     "output_type": "stream",
     "text": [
      "PIRJ Channel :  b4-b3 Label :  aHC Bad shape :  (2560, 13) Good shape :  (2560, 13)\n",
      "Setting up low-pass filter at 10 Hz\n",
      "h_trans_bandwidth chosen to be 2.5 Hz\n",
      "Filter length of 1352 samples (2.641 sec) selected\n",
      "Setting up low-pass filter at 10 Hz\n",
      "h_trans_bandwidth chosen to be 2.5 Hz\n",
      "Filter length of 1352 samples (2.641 sec) selected\n",
      "Size of filtered data bad : (13, 2560) filtered data good :  (13, 2560)\n",
      "time points :  (2560,)\n",
      "Applying baseline correction (mode: mean)\n",
      "Applying baseline correction (mode: mean)\n",
      "Size norm & filtered data 0 :  (13, 2560) (13, 2560)\n",
      "-> Shape of bad data (13, 563) good data (13, 563)\n",
      "(13, 1000, 56) (13, 1000, 56)\n",
      "(1000, 56)\n",
      "[-1.9072522989738458, 1.9072522989738458] [-2.7117546275932982, 2.7117546275932982] [-6.0156524550257746, 6.0156524550257746]\n",
      "(56,) 2.55675194565 -1.92310620458\n",
      "Size of the concatenated data:  (26, 56) Number time windows :  56\n",
      "Size of label for classif:  26\n",
      "th_perm :  73.0769230769 76.9230769231 84.6153846154\n"
     ]
    },
    {
     "name": "stderr",
     "output_type": "stream",
     "text": [
      "/home/karim/anaconda3/lib/python3.5/site-packages/matplotlib/axes/_axes.py:545: UserWarning: No labelled objects found. Use label='...' kwarg on individual plots.\n",
      "  warnings.warn(\"No labelled objects found. \"\n"
     ]
    },
    {
     "name": "stdout",
     "output_type": "stream",
     "text": [
      "PIRJ Channel :  b8-b7 Label :  pMTG Bad shape :  (2560, 13) Good shape :  (2560, 13)\n",
      "Setting up low-pass filter at 10 Hz\n",
      "h_trans_bandwidth chosen to be 2.5 Hz\n",
      "Filter length of 1352 samples (2.641 sec) selected\n",
      "Setting up low-pass filter at 10 Hz\n",
      "h_trans_bandwidth chosen to be 2.5 Hz\n",
      "Filter length of 1352 samples (2.641 sec) selected\n",
      "Size of filtered data bad : (13, 2560) filtered data good :  (13, 2560)\n",
      "time points :  (2560,)\n",
      "Applying baseline correction (mode: mean)\n",
      "Applying baseline correction (mode: mean)\n",
      "Size norm & filtered data 0 :  (13, 2560) (13, 2560)\n",
      "-> Shape of bad data (13, 563) good data (13, 563)\n",
      "(13, 1000, 56) (13, 1000, 56)\n",
      "(1000, 56)\n",
      "[-1.8655202025221003, 1.8655202025221003] [-2.7590797431308922, 2.7590797431308922] [-6.128618961412541, 6.128618961412541]\n",
      "(56,) 2.52006128613 -1.37276343422\n",
      "Size of the concatenated data:  (26, 56) Number time windows :  56\n",
      "Size of label for classif:  26\n",
      "th_perm :  69.2307692308 76.9230769231 92.3076923077\n"
     ]
    },
    {
     "name": "stderr",
     "output_type": "stream",
     "text": [
      "/home/karim/anaconda3/lib/python3.5/site-packages/matplotlib/axes/_axes.py:545: UserWarning: No labelled objects found. Use label='...' kwarg on individual plots.\n",
      "  warnings.warn(\"No labelled objects found. \"\n"
     ]
    },
    {
     "name": "stdout",
     "output_type": "stream",
     "text": [
      "PIRJ Channel :  b9-b8 Label :  pMTG Bad shape :  (2560, 13) Good shape :  (2560, 13)\n",
      "Setting up low-pass filter at 10 Hz\n",
      "h_trans_bandwidth chosen to be 2.5 Hz\n",
      "Filter length of 1352 samples (2.641 sec) selected\n",
      "Setting up low-pass filter at 10 Hz\n",
      "h_trans_bandwidth chosen to be 2.5 Hz\n",
      "Filter length of 1352 samples (2.641 sec) selected\n",
      "Size of filtered data bad : (13, 2560) filtered data good :  (13, 2560)\n",
      "time points :  (2560,)\n",
      "Applying baseline correction (mode: mean)\n",
      "Applying baseline correction (mode: mean)\n",
      "Size norm & filtered data 0 :  (13, 2560) (13, 2560)\n",
      "-> Shape of bad data (13, 563) good data (13, 563)\n",
      "(13, 1000, 56) (13, 1000, 56)\n",
      "(1000, 56)\n",
      "[-1.8738739904986539, 1.8738739904986539] [-2.8266511500987264, 2.8266511500987264] [-5.6252076139060927, 5.6252076139060927]\n",
      "(56,) 2.70581431942 -3.88588264059\n",
      "Size of the concatenated data:  (26, 56) Number time windows :  56\n",
      "Size of label for classif:  26\n",
      "th_perm :  73.0769230769 76.9230769231 92.3076923077\n"
     ]
    },
    {
     "name": "stderr",
     "output_type": "stream",
     "text": [
      "/home/karim/anaconda3/lib/python3.5/site-packages/matplotlib/axes/_axes.py:545: UserWarning: No labelled objects found. Use label='...' kwarg on individual plots.\n",
      "  warnings.warn(\"No labelled objects found. \"\n"
     ]
    },
    {
     "name": "stdout",
     "output_type": "stream",
     "text": [
      "PIRJ Channel :  b10-b9 Label :  pMTG Bad shape :  (2560, 13) Good shape :  (2560, 13)\n",
      "Setting up low-pass filter at 10 Hz\n",
      "h_trans_bandwidth chosen to be 2.5 Hz\n",
      "Filter length of 1352 samples (2.641 sec) selected\n",
      "Setting up low-pass filter at 10 Hz\n",
      "h_trans_bandwidth chosen to be 2.5 Hz\n",
      "Filter length of 1352 samples (2.641 sec) selected\n",
      "Size of filtered data bad : (13, 2560) filtered data good :  (13, 2560)\n",
      "time points :  (2560,)\n",
      "Applying baseline correction (mode: mean)\n",
      "Applying baseline correction (mode: mean)\n",
      "Size norm & filtered data 0 :  (13, 2560) (13, 2560)\n",
      "-> Shape of bad data (13, 563) good data (13, 563)\n",
      "(13, 1000, 56) (13, 1000, 56)\n",
      "(1000, 56)\n",
      "[-1.786855180768061, 1.786855180768061] [-2.8850238249745601, 2.8850238249745601] [-4.4329261946155993, 4.4329261946155993]\n",
      "(56,) 2.4543470847 -3.67065272645\n",
      "Size of the concatenated data:  (26, 56) Number time windows :  56\n",
      "Size of label for classif:  26\n",
      "th_perm :  73.0769230769 76.9230769231 92.3076923077\n"
     ]
    },
    {
     "name": "stderr",
     "output_type": "stream",
     "text": [
      "/home/karim/anaconda3/lib/python3.5/site-packages/matplotlib/axes/_axes.py:545: UserWarning: No labelled objects found. Use label='...' kwarg on individual plots.\n",
      "  warnings.warn(\"No labelled objects found. \"\n"
     ]
    },
    {
     "name": "stdout",
     "output_type": "stream",
     "text": [
      "PIRJ Channel :  b11-b10 Label :  pMTG Bad shape :  (2560, 13) Good shape :  (2560, 13)\n",
      "Setting up low-pass filter at 10 Hz\n",
      "h_trans_bandwidth chosen to be 2.5 Hz\n",
      "Filter length of 1352 samples (2.641 sec) selected\n",
      "Setting up low-pass filter at 10 Hz\n",
      "h_trans_bandwidth chosen to be 2.5 Hz\n",
      "Filter length of 1352 samples (2.641 sec) selected\n",
      "Size of filtered data bad : (13, 2560) filtered data good :  (13, 2560)\n",
      "time points :  (2560,)\n",
      "Applying baseline correction (mode: mean)\n",
      "Applying baseline correction (mode: mean)\n",
      "Size norm & filtered data 0 :  (13, 2560) (13, 2560)\n",
      "-> Shape of bad data (13, 563) good data (13, 563)\n",
      "(13, 1000, 56) (13, 1000, 56)\n",
      "(1000, 56)\n",
      "[-1.8360597637045821, 1.8360597637045821] [-2.5558704003655346, 2.5558704003655346] [-4.1259931626119419, 4.1259931626119419]\n",
      "(56,) 1.24007668392 -2.63512026909\n",
      "Size of the concatenated data:  (26, 56) Number time windows :  56\n",
      "Size of label for classif:  26\n",
      "th_perm :  69.2307692308 80.7692307692 88.4615384615\n"
     ]
    },
    {
     "name": "stderr",
     "output_type": "stream",
     "text": [
      "/home/karim/anaconda3/lib/python3.5/site-packages/matplotlib/axes/_axes.py:545: UserWarning: No labelled objects found. Use label='...' kwarg on individual plots.\n",
      "  warnings.warn(\"No labelled objects found. \"\n"
     ]
    },
    {
     "name": "stdout",
     "output_type": "stream",
     "text": [
      "PIRJ Channel :  b'2-b'1 Label :  aHC Bad shape :  (2560, 13) Good shape :  (2560, 13)\n",
      "Setting up low-pass filter at 10 Hz\n",
      "h_trans_bandwidth chosen to be 2.5 Hz\n",
      "Filter length of 1352 samples (2.641 sec) selected\n",
      "Setting up low-pass filter at 10 Hz\n",
      "h_trans_bandwidth chosen to be 2.5 Hz\n",
      "Filter length of 1352 samples (2.641 sec) selected\n",
      "Size of filtered data bad : (13, 2560) filtered data good :  (13, 2560)\n",
      "time points :  (2560,)\n",
      "Applying baseline correction (mode: mean)\n",
      "Applying baseline correction (mode: mean)\n",
      "Size norm & filtered data 0 :  (13, 2560) (13, 2560)\n",
      "-> Shape of bad data (13, 563) good data (13, 563)\n",
      "(13, 1000, 56) (13, 1000, 56)\n",
      "(1000, 56)\n",
      "[-1.8793857319627487, 1.8793857319627487] [-2.8209780717899111, 2.8209780717899111] [-4.9172471934957924, 4.9172471934957924]\n",
      "(56,) 2.3161126379 -1.13738550546\n",
      "Size of the concatenated data:  (26, 56) Number time windows :  56\n",
      "Size of label for classif:  26\n",
      "th_perm :  73.0769230769 76.9230769231 88.4615384615\n"
     ]
    },
    {
     "name": "stderr",
     "output_type": "stream",
     "text": [
      "/home/karim/anaconda3/lib/python3.5/site-packages/matplotlib/axes/_axes.py:545: UserWarning: No labelled objects found. Use label='...' kwarg on individual plots.\n",
      "  warnings.warn(\"No labelled objects found. \"\n"
     ]
    },
    {
     "name": "stdout",
     "output_type": "stream",
     "text": [
      "PIRJ Channel :  b'3-b'2 Label :  aHC Bad shape :  (2560, 13) Good shape :  (2560, 13)\n",
      "Setting up low-pass filter at 10 Hz\n",
      "h_trans_bandwidth chosen to be 2.5 Hz\n",
      "Filter length of 1352 samples (2.641 sec) selected\n",
      "Setting up low-pass filter at 10 Hz\n",
      "h_trans_bandwidth chosen to be 2.5 Hz\n",
      "Filter length of 1352 samples (2.641 sec) selected\n",
      "Size of filtered data bad : (13, 2560) filtered data good :  (13, 2560)\n",
      "time points :  (2560,)\n",
      "Applying baseline correction (mode: mean)\n",
      "Applying baseline correction (mode: mean)\n",
      "Size norm & filtered data 0 :  (13, 2560) (13, 2560)\n",
      "-> Shape of bad data (13, 563) good data (13, 563)\n",
      "(13, 1000, 56) (13, 1000, 56)\n",
      "(1000, 56)\n",
      "[-1.8013078451246571, 1.8013078451246571] [-2.8612670797144406, 2.8612670797144406] [-4.6854034901221775, 4.6854034901221775]\n",
      "(56,) 1.22226585256 -1.88112160169\n",
      "Size of the concatenated data:  (26, 56) Number time windows :  56\n",
      "Size of label for classif:  26\n",
      "th_perm :  73.0769230769 76.9230769231 92.3076923077\n"
     ]
    },
    {
     "name": "stderr",
     "output_type": "stream",
     "text": [
      "/home/karim/anaconda3/lib/python3.5/site-packages/matplotlib/axes/_axes.py:545: UserWarning: No labelled objects found. Use label='...' kwarg on individual plots.\n",
      "  warnings.warn(\"No labelled objects found. \"\n"
     ]
    },
    {
     "name": "stdout",
     "output_type": "stream",
     "text": [
      "PIRJ Channel :  b'4-b'3 Label :  aHC Bad shape :  (2560, 13) Good shape :  (2560, 13)\n",
      "Setting up low-pass filter at 10 Hz\n",
      "h_trans_bandwidth chosen to be 2.5 Hz\n",
      "Filter length of 1352 samples (2.641 sec) selected\n",
      "Setting up low-pass filter at 10 Hz\n",
      "h_trans_bandwidth chosen to be 2.5 Hz\n",
      "Filter length of 1352 samples (2.641 sec) selected\n",
      "Size of filtered data bad : (13, 2560) filtered data good :  (13, 2560)\n",
      "time points :  (2560,)\n",
      "Applying baseline correction (mode: mean)\n",
      "Applying baseline correction (mode: mean)\n",
      "Size norm & filtered data 0 :  (13, 2560) (13, 2560)\n",
      "-> Shape of bad data (13, 563) good data (13, 563)\n",
      "(13, 1000, 56) (13, 1000, 56)\n",
      "(1000, 56)\n",
      "[-1.8837333236131699, 1.8837333236131699] [-2.9138406001301704, 2.9138406001301704] [-4.7581652646701791, 4.7581652646701791]\n",
      "(56,) 2.24374662423 -2.73359308546\n",
      "Size of the concatenated data:  (26, 56) Number time windows :  56\n",
      "Size of label for classif:  26\n",
      "th_perm :  73.0769230769 80.7692307692 84.6153846154\n"
     ]
    },
    {
     "name": "stderr",
     "output_type": "stream",
     "text": [
      "/home/karim/anaconda3/lib/python3.5/site-packages/matplotlib/axes/_axes.py:545: UserWarning: No labelled objects found. Use label='...' kwarg on individual plots.\n",
      "  warnings.warn(\"No labelled objects found. \"\n"
     ]
    },
    {
     "name": "stdout",
     "output_type": "stream",
     "text": [
      "PIRJ Channel :  b'9-b'8 Label :  pMTG Bad shape :  (2560, 13) Good shape :  (2560, 13)\n",
      "Setting up low-pass filter at 10 Hz\n",
      "h_trans_bandwidth chosen to be 2.5 Hz\n",
      "Filter length of 1352 samples (2.641 sec) selected\n",
      "Setting up low-pass filter at 10 Hz\n",
      "h_trans_bandwidth chosen to be 2.5 Hz\n",
      "Filter length of 1352 samples (2.641 sec) selected\n",
      "Size of filtered data bad : (13, 2560) filtered data good :  (13, 2560)\n",
      "time points :  (2560,)\n",
      "Applying baseline correction (mode: mean)\n",
      "Applying baseline correction (mode: mean)\n",
      "Size norm & filtered data 0 :  (13, 2560) (13, 2560)\n",
      "-> Shape of bad data (13, 563) good data (13, 563)\n",
      "(13, 1000, 56) (13, 1000, 56)\n",
      "(1000, 56)\n",
      "[-1.8972070392980775, 1.8972070392980775] [-2.7799841729821169, 2.7799841729821169] [-5.0635174676652941, 5.0635174676652941]\n",
      "(56,) 3.93967885039 -1.86644196235\n",
      "Size of the concatenated data:  (26, 56) Number time windows :  56\n",
      "Size of label for classif:  26\n",
      "th_perm :  69.2307692308 76.9230769231 88.4615384615\n"
     ]
    },
    {
     "name": "stderr",
     "output_type": "stream",
     "text": [
      "/home/karim/anaconda3/lib/python3.5/site-packages/matplotlib/axes/_axes.py:545: UserWarning: No labelled objects found. Use label='...' kwarg on individual plots.\n",
      "  warnings.warn(\"No labelled objects found. \"\n"
     ]
    },
    {
     "name": "stdout",
     "output_type": "stream",
     "text": [
      "PIRJ Channel :  b'10-b'9 Label :  pMTG Bad shape :  (2560, 13) Good shape :  (2560, 13)\n",
      "Setting up low-pass filter at 10 Hz\n",
      "h_trans_bandwidth chosen to be 2.5 Hz\n",
      "Filter length of 1352 samples (2.641 sec) selected\n",
      "Setting up low-pass filter at 10 Hz\n",
      "h_trans_bandwidth chosen to be 2.5 Hz\n",
      "Filter length of 1352 samples (2.641 sec) selected\n",
      "Size of filtered data bad : (13, 2560) filtered data good :  (13, 2560)\n",
      "time points :  (2560,)\n",
      "Applying baseline correction (mode: mean)\n",
      "Applying baseline correction (mode: mean)\n",
      "Size norm & filtered data 0 :  (13, 2560) (13, 2560)\n",
      "-> Shape of bad data (13, 563) good data (13, 563)\n",
      "(13, 1000, 56) (13, 1000, 56)\n",
      "(1000, 56)\n",
      "[-1.8148440070632375, 1.8148440070632375] [-2.7098919021941512, 2.7098919021941512] [-4.6778628398018585, 4.6778628398018585]\n",
      "(56,) 2.72367063391 -1.71693903906\n",
      "Size of the concatenated data:  (26, 56) Number time windows :  56\n",
      "Size of label for classif:  26\n",
      "th_perm :  73.0769230769 76.9230769231 92.3076923077\n"
     ]
    },
    {
     "name": "stderr",
     "output_type": "stream",
     "text": [
      "/home/karim/anaconda3/lib/python3.5/site-packages/matplotlib/axes/_axes.py:545: UserWarning: No labelled objects found. Use label='...' kwarg on individual plots.\n",
      "  warnings.warn(\"No labelled objects found. \"\n"
     ]
    },
    {
     "name": "stdout",
     "output_type": "stream",
     "text": [
      "PIRJ Channel :  b'11-b'10 Label :  pMTG Bad shape :  (2560, 13) Good shape :  (2560, 13)\n",
      "Setting up low-pass filter at 10 Hz\n",
      "h_trans_bandwidth chosen to be 2.5 Hz\n",
      "Filter length of 1352 samples (2.641 sec) selected\n",
      "Setting up low-pass filter at 10 Hz\n",
      "h_trans_bandwidth chosen to be 2.5 Hz\n",
      "Filter length of 1352 samples (2.641 sec) selected\n",
      "Size of filtered data bad : (13, 2560) filtered data good :  (13, 2560)\n",
      "time points :  (2560,)\n",
      "Applying baseline correction (mode: mean)\n",
      "Applying baseline correction (mode: mean)\n",
      "Size norm & filtered data 0 :  (13, 2560) (13, 2560)\n",
      "-> Shape of bad data (13, 563) good data (13, 563)\n",
      "(13, 1000, 56) (13, 1000, 56)\n",
      "(1000, 56)\n",
      "[-1.8205936542350647, 1.8205936542350647] [-2.7721321278494795, 2.7721321278494795] [-5.0879110943170396, 5.0879110943170396]\n",
      "(56,) 4.77682956122 -2.98481772349\n",
      "Size of the concatenated data:  (26, 56) Number time windows :  56\n",
      "Size of label for classif:  26\n",
      "th_perm :  73.0769230769 76.9230769231 88.4615384615\n"
     ]
    },
    {
     "name": "stderr",
     "output_type": "stream",
     "text": [
      "/home/karim/anaconda3/lib/python3.5/site-packages/matplotlib/axes/_axes.py:545: UserWarning: No labelled objects found. Use label='...' kwarg on individual plots.\n",
      "  warnings.warn(\"No labelled objects found. \"\n"
     ]
    },
    {
     "name": "stdout",
     "output_type": "stream",
     "text": [
      "PIRJ Channel :  b'12-b'11 Label :  pMTG Bad shape :  (2560, 13) Good shape :  (2560, 13)\n",
      "Setting up low-pass filter at 10 Hz\n",
      "h_trans_bandwidth chosen to be 2.5 Hz\n",
      "Filter length of 1352 samples (2.641 sec) selected\n",
      "Setting up low-pass filter at 10 Hz\n",
      "h_trans_bandwidth chosen to be 2.5 Hz\n",
      "Filter length of 1352 samples (2.641 sec) selected\n",
      "Size of filtered data bad : (13, 2560) filtered data good :  (13, 2560)\n",
      "time points :  (2560,)\n",
      "Applying baseline correction (mode: mean)\n",
      "Applying baseline correction (mode: mean)\n",
      "Size norm & filtered data 0 :  (13, 2560) (13, 2560)\n",
      "-> Shape of bad data (13, 563) good data (13, 563)\n",
      "(13, 1000, 56) (13, 1000, 56)\n",
      "(1000, 56)\n",
      "[-1.8606494939559473, 1.8606494939559473] [-2.897454798378349, 2.897454798378349] [-5.6039165165757341, 5.6039165165757341]\n",
      "(56,) 2.8999573419 -1.66912348354\n",
      "Size of the concatenated data:  (26, 56) Number time windows :  56\n",
      "Size of label for classif:  26\n",
      "th_perm :  73.0769230769 80.7692307692 92.3076923077\n"
     ]
    },
    {
     "name": "stderr",
     "output_type": "stream",
     "text": [
      "/home/karim/anaconda3/lib/python3.5/site-packages/matplotlib/axes/_axes.py:545: UserWarning: No labelled objects found. Use label='...' kwarg on individual plots.\n",
      "  warnings.warn(\"No labelled objects found. \"\n"
     ]
    },
    {
     "name": "stdout",
     "output_type": "stream",
     "text": [
      "PIRJ Channel :  c2-c1 Label :  pHC Bad shape :  (2560, 13) Good shape :  (2560, 13)\n",
      "Setting up low-pass filter at 10 Hz\n",
      "h_trans_bandwidth chosen to be 2.5 Hz\n",
      "Filter length of 1352 samples (2.641 sec) selected\n",
      "Setting up low-pass filter at 10 Hz\n",
      "h_trans_bandwidth chosen to be 2.5 Hz\n",
      "Filter length of 1352 samples (2.641 sec) selected\n",
      "Size of filtered data bad : (13, 2560) filtered data good :  (13, 2560)\n",
      "time points :  (2560,)\n",
      "Applying baseline correction (mode: mean)\n",
      "Applying baseline correction (mode: mean)\n",
      "Size norm & filtered data 0 :  (13, 2560) (13, 2560)\n",
      "-> Shape of bad data (13, 563) good data (13, 563)\n",
      "(13, 1000, 56) (13, 1000, 56)\n",
      "(1000, 56)\n",
      "[-1.8048802664566486, 1.8048802664566486] [-2.597412718611904, 2.597412718611904] [-4.3347328360231181, 4.3347328360231181]\n",
      "(56,) 1.40868310061 -2.05149684066\n",
      "Size of the concatenated data:  (26, 56) Number time windows :  56\n",
      "Size of label for classif:  26\n",
      "th_perm :  73.0769230769 76.9230769231 88.4615384615\n"
     ]
    },
    {
     "name": "stderr",
     "output_type": "stream",
     "text": [
      "/home/karim/anaconda3/lib/python3.5/site-packages/matplotlib/axes/_axes.py:545: UserWarning: No labelled objects found. Use label='...' kwarg on individual plots.\n",
      "  warnings.warn(\"No labelled objects found. \"\n"
     ]
    },
    {
     "name": "stdout",
     "output_type": "stream",
     "text": [
      "PIRJ Channel :  c3-c2 Label :  pHC Bad shape :  (2560, 13) Good shape :  (2560, 13)\n",
      "Setting up low-pass filter at 10 Hz\n",
      "h_trans_bandwidth chosen to be 2.5 Hz\n",
      "Filter length of 1352 samples (2.641 sec) selected\n",
      "Setting up low-pass filter at 10 Hz\n",
      "h_trans_bandwidth chosen to be 2.5 Hz\n",
      "Filter length of 1352 samples (2.641 sec) selected\n",
      "Size of filtered data bad : (13, 2560) filtered data good :  (13, 2560)\n",
      "time points :  (2560,)\n",
      "Applying baseline correction (mode: mean)\n",
      "Applying baseline correction (mode: mean)\n",
      "Size norm & filtered data 0 :  (13, 2560) (13, 2560)\n",
      "-> Shape of bad data (13, 563) good data (13, 563)\n",
      "(13, 1000, 56) (13, 1000, 56)\n",
      "(1000, 56)\n",
      "[-1.8524955730914088, 1.8524955730914088] [-2.6681279695260649, 2.6681279695260649] [-4.1836012364047974, 4.1836012364047974]\n",
      "(56,) 1.83099682115 -2.03614919622\n",
      "Size of the concatenated data:  (26, 56) Number time windows :  56\n",
      "Size of label for classif:  26\n",
      "th_perm :  69.2307692308 76.9230769231 88.4615384615\n"
     ]
    },
    {
     "name": "stderr",
     "output_type": "stream",
     "text": [
      "/home/karim/anaconda3/lib/python3.5/site-packages/matplotlib/axes/_axes.py:545: UserWarning: No labelled objects found. Use label='...' kwarg on individual plots.\n",
      "  warnings.warn(\"No labelled objects found. \"\n"
     ]
    },
    {
     "name": "stdout",
     "output_type": "stream",
     "text": [
      "PIRJ Channel :  c4-c3 Label :  pHC Bad shape :  (2560, 13) Good shape :  (2560, 13)\n",
      "Setting up low-pass filter at 10 Hz\n",
      "h_trans_bandwidth chosen to be 2.5 Hz\n",
      "Filter length of 1352 samples (2.641 sec) selected\n",
      "Setting up low-pass filter at 10 Hz\n",
      "h_trans_bandwidth chosen to be 2.5 Hz\n",
      "Filter length of 1352 samples (2.641 sec) selected\n",
      "Size of filtered data bad : (13, 2560) filtered data good :  (13, 2560)\n",
      "time points :  (2560,)\n",
      "Applying baseline correction (mode: mean)\n",
      "Applying baseline correction (mode: mean)\n",
      "Size norm & filtered data 0 :  (13, 2560) (13, 2560)\n",
      "-> Shape of bad data (13, 563) good data (13, 563)\n",
      "(13, 1000, 56) (13, 1000, 56)\n",
      "(1000, 56)\n",
      "[-1.7555302022722794, 1.7555302022722794] [-2.5219395452657931, 2.5219395452657931] [-3.9366044045685795, 3.9366044045685795]\n",
      "(56,) 1.2455610566 -1.57844943842\n",
      "Size of the concatenated data:  (26, 56) Number time windows :  56\n",
      "Size of label for classif:  26\n",
      "th_perm :  69.2307692308 76.9230769231 84.6153846154\n"
     ]
    },
    {
     "name": "stderr",
     "output_type": "stream",
     "text": [
      "/home/karim/anaconda3/lib/python3.5/site-packages/matplotlib/axes/_axes.py:545: UserWarning: No labelled objects found. Use label='...' kwarg on individual plots.\n",
      "  warnings.warn(\"No labelled objects found. \"\n"
     ]
    },
    {
     "name": "stdout",
     "output_type": "stream",
     "text": [
      "PIRJ Channel :  c10-c9 Label :  pMTG Bad shape :  (2560, 13) Good shape :  (2560, 13)\n",
      "Setting up low-pass filter at 10 Hz\n",
      "h_trans_bandwidth chosen to be 2.5 Hz\n",
      "Filter length of 1352 samples (2.641 sec) selected\n",
      "Setting up low-pass filter at 10 Hz\n",
      "h_trans_bandwidth chosen to be 2.5 Hz\n",
      "Filter length of 1352 samples (2.641 sec) selected\n",
      "Size of filtered data bad : (13, 2560) filtered data good :  (13, 2560)\n",
      "time points :  (2560,)\n",
      "Applying baseline correction (mode: mean)\n",
      "Applying baseline correction (mode: mean)\n",
      "Size norm & filtered data 0 :  (13, 2560) (13, 2560)\n",
      "-> Shape of bad data (13, 563) good data (13, 563)\n",
      "(13, 1000, 56) (13, 1000, 56)\n",
      "(1000, 56)\n",
      "[-1.8769887901255884, 1.8769887901255884] [-2.8178842464874494, 2.8178842464874494] [-4.8177469009851626, 4.8177469009851626]\n",
      "(56,) 2.78797387928 -4.67227060789\n",
      "Size of the concatenated data:  (26, 56) Number time windows :  56\n",
      "Size of label for classif:  26\n",
      "th_perm :  73.0769230769 76.9230769231 88.4615384615\n"
     ]
    },
    {
     "name": "stderr",
     "output_type": "stream",
     "text": [
      "/home/karim/anaconda3/lib/python3.5/site-packages/matplotlib/axes/_axes.py:545: UserWarning: No labelled objects found. Use label='...' kwarg on individual plots.\n",
      "  warnings.warn(\"No labelled objects found. \"\n"
     ]
    },
    {
     "name": "stdout",
     "output_type": "stream",
     "text": [
      "PIRJ Channel :  c11-c10 Label :  pMTG Bad shape :  (2560, 13) Good shape :  (2560, 13)\n",
      "Setting up low-pass filter at 10 Hz\n",
      "h_trans_bandwidth chosen to be 2.5 Hz\n",
      "Filter length of 1352 samples (2.641 sec) selected\n",
      "Setting up low-pass filter at 10 Hz\n",
      "h_trans_bandwidth chosen to be 2.5 Hz\n",
      "Filter length of 1352 samples (2.641 sec) selected\n",
      "Size of filtered data bad : (13, 2560) filtered data good :  (13, 2560)\n",
      "time points :  (2560,)\n",
      "Applying baseline correction (mode: mean)\n",
      "Applying baseline correction (mode: mean)\n",
      "Size norm & filtered data 0 :  (13, 2560) (13, 2560)\n",
      "-> Shape of bad data (13, 563) good data (13, 563)\n",
      "(13, 1000, 56) (13, 1000, 56)\n",
      "(1000, 56)\n",
      "[-1.9190380953884052, 1.9190380953884052] [-2.7992983330542001, 2.7992983330542001] [-4.731695660959665, 4.731695660959665]\n",
      "(56,) 0.853214906003 -3.71095813542\n",
      "Size of the concatenated data:  (26, 56) Number time windows :  56\n",
      "Size of label for classif:  26\n",
      "th_perm :  73.0769230769 76.9230769231 88.4615384615\n"
     ]
    },
    {
     "name": "stderr",
     "output_type": "stream",
     "text": [
      "/home/karim/anaconda3/lib/python3.5/site-packages/matplotlib/axes/_axes.py:545: UserWarning: No labelled objects found. Use label='...' kwarg on individual plots.\n",
      "  warnings.warn(\"No labelled objects found. \"\n"
     ]
    },
    {
     "name": "stdout",
     "output_type": "stream",
     "text": [
      "PIRJ Channel :  c12-c11 Label :  pMTG Bad shape :  (2560, 13) Good shape :  (2560, 13)\n",
      "Setting up low-pass filter at 10 Hz\n",
      "h_trans_bandwidth chosen to be 2.5 Hz\n",
      "Filter length of 1352 samples (2.641 sec) selected\n",
      "Setting up low-pass filter at 10 Hz\n",
      "h_trans_bandwidth chosen to be 2.5 Hz\n",
      "Filter length of 1352 samples (2.641 sec) selected\n",
      "Size of filtered data bad : (13, 2560) filtered data good :  (13, 2560)\n",
      "time points :  (2560,)\n",
      "Applying baseline correction (mode: mean)\n",
      "Applying baseline correction (mode: mean)\n",
      "Size norm & filtered data 0 :  (13, 2560) (13, 2560)\n",
      "-> Shape of bad data (13, 563) good data (13, 563)\n",
      "(13, 1000, 56) (13, 1000, 56)\n",
      "(1000, 56)\n",
      "[-1.8448077252807957, 1.8448077252807957] [-2.8735140853254695, 2.8735140853254695] [-4.2610292278886419, 4.2610292278886419]\n",
      "(56,) 2.47603904201 -3.25055286092\n",
      "Size of the concatenated data:  (26, 56) Number time windows :  56\n",
      "Size of label for classif:  26\n",
      "th_perm :  73.0769230769 76.9230769231 88.4615384615\n"
     ]
    },
    {
     "name": "stderr",
     "output_type": "stream",
     "text": [
      "/home/karim/anaconda3/lib/python3.5/site-packages/matplotlib/axes/_axes.py:545: UserWarning: No labelled objects found. Use label='...' kwarg on individual plots.\n",
      "  warnings.warn(\"No labelled objects found. \"\n"
     ]
    },
    {
     "name": "stdout",
     "output_type": "stream",
     "text": [
      "PIRJ Channel :  c'2-c'1 Label :  pHC Bad shape :  (2560, 13) Good shape :  (2560, 13)\n",
      "Setting up low-pass filter at 10 Hz\n",
      "h_trans_bandwidth chosen to be 2.5 Hz\n",
      "Filter length of 1352 samples (2.641 sec) selected\n",
      "Setting up low-pass filter at 10 Hz\n",
      "h_trans_bandwidth chosen to be 2.5 Hz\n",
      "Filter length of 1352 samples (2.641 sec) selected\n",
      "Size of filtered data bad : (13, 2560) filtered data good :  (13, 2560)\n",
      "time points :  (2560,)\n",
      "Applying baseline correction (mode: mean)\n",
      "Applying baseline correction (mode: mean)\n",
      "Size norm & filtered data 0 :  (13, 2560) (13, 2560)\n",
      "-> Shape of bad data (13, 563) good data (13, 563)\n",
      "(13, 1000, 56) (13, 1000, 56)\n",
      "(1000, 56)\n",
      "[-1.8328127202620934, 1.8328127202620934] [-2.8421789195907281, 2.8421789195907281] [-5.67020278627965, 5.67020278627965]\n",
      "(56,) 2.90464143329 -2.8933549639\n",
      "Size of the concatenated data:  (26, 56) Number time windows :  56\n",
      "Size of label for classif:  26\n",
      "th_perm :  73.0769230769 76.9230769231 88.4615384615\n"
     ]
    },
    {
     "name": "stderr",
     "output_type": "stream",
     "text": [
      "/home/karim/anaconda3/lib/python3.5/site-packages/matplotlib/axes/_axes.py:545: UserWarning: No labelled objects found. Use label='...' kwarg on individual plots.\n",
      "  warnings.warn(\"No labelled objects found. \"\n"
     ]
    },
    {
     "name": "stdout",
     "output_type": "stream",
     "text": [
      "PIRJ Channel :  c'3-c'2 Label :  pHC Bad shape :  (2560, 13) Good shape :  (2560, 13)\n",
      "Setting up low-pass filter at 10 Hz\n",
      "h_trans_bandwidth chosen to be 2.5 Hz\n",
      "Filter length of 1352 samples (2.641 sec) selected\n",
      "Setting up low-pass filter at 10 Hz\n",
      "h_trans_bandwidth chosen to be 2.5 Hz\n",
      "Filter length of 1352 samples (2.641 sec) selected\n",
      "Size of filtered data bad : (13, 2560) filtered data good :  (13, 2560)\n",
      "time points :  (2560,)\n",
      "Applying baseline correction (mode: mean)\n",
      "Applying baseline correction (mode: mean)\n",
      "Size norm & filtered data 0 :  (13, 2560) (13, 2560)\n",
      "-> Shape of bad data (13, 563) good data (13, 563)\n",
      "(13, 1000, 56) (13, 1000, 56)\n",
      "(1000, 56)\n",
      "[-1.9442565068047857, 1.9442565068047857] [-2.8682451279388403, 2.8682451279388403] [-4.1512308435171805, 4.1512308435171805]\n",
      "(56,) 1.61699615462 -3.21217741339\n",
      "Size of the concatenated data:  (26, 56) Number time windows :  56\n",
      "Size of label for classif:  26\n",
      "th_perm :  73.0769230769 76.9230769231 92.3076923077\n"
     ]
    },
    {
     "name": "stderr",
     "output_type": "stream",
     "text": [
      "/home/karim/anaconda3/lib/python3.5/site-packages/matplotlib/axes/_axes.py:545: UserWarning: No labelled objects found. Use label='...' kwarg on individual plots.\n",
      "  warnings.warn(\"No labelled objects found. \"\n"
     ]
    },
    {
     "name": "stdout",
     "output_type": "stream",
     "text": [
      "PIRJ Channel :  c'4-c'3 Label :  pHC Bad shape :  (2560, 13) Good shape :  (2560, 13)\n",
      "Setting up low-pass filter at 10 Hz\n",
      "h_trans_bandwidth chosen to be 2.5 Hz\n",
      "Filter length of 1352 samples (2.641 sec) selected\n",
      "Setting up low-pass filter at 10 Hz\n",
      "h_trans_bandwidth chosen to be 2.5 Hz\n",
      "Filter length of 1352 samples (2.641 sec) selected\n",
      "Size of filtered data bad : (13, 2560) filtered data good :  (13, 2560)\n",
      "time points :  (2560,)\n",
      "Applying baseline correction (mode: mean)\n",
      "Applying baseline correction (mode: mean)\n",
      "Size norm & filtered data 0 :  (13, 2560) (13, 2560)\n",
      "-> Shape of bad data (13, 563) good data (13, 563)\n",
      "(13, 1000, 56) (13, 1000, 56)\n",
      "(1000, 56)\n",
      "[-1.8274030796399696, 1.8274030796399696] [-2.7241368036166902, 2.7241368036166902] [-5.0951360605965874, 5.0951360605965874]\n",
      "(56,) 2.07314851557 -1.94408272685\n",
      "Size of the concatenated data:  (26, 56) Number time windows :  56\n",
      "Size of label for classif:  26\n",
      "th_perm :  73.0769230769 76.9230769231 92.3076923077\n"
     ]
    },
    {
     "name": "stderr",
     "output_type": "stream",
     "text": [
      "/home/karim/anaconda3/lib/python3.5/site-packages/matplotlib/axes/_axes.py:545: UserWarning: No labelled objects found. Use label='...' kwarg on individual plots.\n",
      "  warnings.warn(\"No labelled objects found. \"\n"
     ]
    },
    {
     "name": "stdout",
     "output_type": "stream",
     "text": [
      "PIRJ Channel :  c'5-c'4 Label :  pHC Bad shape :  (2560, 13) Good shape :  (2560, 13)\n",
      "Setting up low-pass filter at 10 Hz\n",
      "h_trans_bandwidth chosen to be 2.5 Hz\n",
      "Filter length of 1352 samples (2.641 sec) selected\n",
      "Setting up low-pass filter at 10 Hz\n",
      "h_trans_bandwidth chosen to be 2.5 Hz\n",
      "Filter length of 1352 samples (2.641 sec) selected\n",
      "Size of filtered data bad : (13, 2560) filtered data good :  (13, 2560)\n",
      "time points :  (2560,)\n",
      "Applying baseline correction (mode: mean)\n",
      "Applying baseline correction (mode: mean)\n",
      "Size norm & filtered data 0 :  (13, 2560) (13, 2560)\n",
      "-> Shape of bad data (13, 563) good data (13, 563)\n",
      "(13, 1000, 56) (13, 1000, 56)\n",
      "(1000, 56)\n",
      "[-1.8439357526475815, 1.8439357526475815] [-2.7886090314976406, 2.7886090314976406] [-5.0690255115858012, 5.0690255115858012]\n",
      "(56,) 1.13480785596 -1.62045634186\n",
      "Size of the concatenated data:  (26, 56) Number time windows :  56\n",
      "Size of label for classif:  26\n",
      "th_perm :  73.0769230769 76.9230769231 88.4615384615\n"
     ]
    },
    {
     "name": "stderr",
     "output_type": "stream",
     "text": [
      "/home/karim/anaconda3/lib/python3.5/site-packages/matplotlib/axes/_axes.py:545: UserWarning: No labelled objects found. Use label='...' kwarg on individual plots.\n",
      "  warnings.warn(\"No labelled objects found. \"\n"
     ]
    },
    {
     "name": "stdout",
     "output_type": "stream",
     "text": [
      "PIRJ Channel :  c'9-c'8 Label :  pMTG Bad shape :  (2560, 13) Good shape :  (2560, 13)\n",
      "Setting up low-pass filter at 10 Hz\n",
      "h_trans_bandwidth chosen to be 2.5 Hz\n",
      "Filter length of 1352 samples (2.641 sec) selected\n",
      "Setting up low-pass filter at 10 Hz\n",
      "h_trans_bandwidth chosen to be 2.5 Hz\n",
      "Filter length of 1352 samples (2.641 sec) selected\n",
      "Size of filtered data bad : (13, 2560) filtered data good :  (13, 2560)\n",
      "time points :  (2560,)\n",
      "Applying baseline correction (mode: mean)\n",
      "Applying baseline correction (mode: mean)\n",
      "Size norm & filtered data 0 :  (13, 2560) (13, 2560)\n",
      "-> Shape of bad data (13, 563) good data (13, 563)\n",
      "(13, 1000, 56) (13, 1000, 56)\n",
      "(1000, 56)\n",
      "[-1.8920592373312581, 1.8920592373312581] [-2.9422809452330054, 2.9422809452330054] [-4.9364219697941385, 4.9364219697941385]\n",
      "(56,) 3.37335921637 -2.88733601918\n",
      "Size of the concatenated data:  (26, 56) Number time windows :  56\n",
      "Size of label for classif:  26\n",
      "th_perm :  73.0769230769 76.9230769231 88.4615384615\n"
     ]
    },
    {
     "name": "stderr",
     "output_type": "stream",
     "text": [
      "/home/karim/anaconda3/lib/python3.5/site-packages/matplotlib/axes/_axes.py:545: UserWarning: No labelled objects found. Use label='...' kwarg on individual plots.\n",
      "  warnings.warn(\"No labelled objects found. \"\n"
     ]
    },
    {
     "name": "stdout",
     "output_type": "stream",
     "text": [
      "PIRJ Channel :  d2-d1 Label :  PRC-aPHG Bad shape :  (2560, 13) Good shape :  (2560, 13)\n",
      "Setting up low-pass filter at 10 Hz\n",
      "h_trans_bandwidth chosen to be 2.5 Hz\n",
      "Filter length of 1352 samples (2.641 sec) selected\n",
      "Setting up low-pass filter at 10 Hz\n",
      "h_trans_bandwidth chosen to be 2.5 Hz\n",
      "Filter length of 1352 samples (2.641 sec) selected\n",
      "Size of filtered data bad : (13, 2560) filtered data good :  (13, 2560)\n",
      "time points :  (2560,)\n",
      "Applying baseline correction (mode: mean)\n",
      "Applying baseline correction (mode: mean)\n",
      "Size norm & filtered data 0 :  (13, 2560) (13, 2560)\n",
      "-> Shape of bad data (13, 563) good data (13, 563)\n",
      "(13, 1000, 56) (13, 1000, 56)\n",
      "(1000, 56)\n",
      "[-1.7708357041180405, 1.7708357041180405] [-2.7464323883689943, 2.7464323883689943] [-4.4114008878509194, 4.4114008878509194]\n",
      "(56,) 0.479949368622 -2.76242715307\n",
      "Size of the concatenated data:  (26, 56) Number time windows :  56\n",
      "Size of label for classif:  26\n",
      "th_perm :  69.2307692308 76.9230769231 88.4615384615\n"
     ]
    },
    {
     "name": "stderr",
     "output_type": "stream",
     "text": [
      "/home/karim/anaconda3/lib/python3.5/site-packages/matplotlib/axes/_axes.py:545: UserWarning: No labelled objects found. Use label='...' kwarg on individual plots.\n",
      "  warnings.warn(\"No labelled objects found. \"\n"
     ]
    },
    {
     "name": "stdout",
     "output_type": "stream",
     "text": [
      "PIRJ Channel :  d3-d2 Label :  PRC-aPHG Bad shape :  (2560, 13) Good shape :  (2560, 13)\n",
      "Setting up low-pass filter at 10 Hz\n",
      "h_trans_bandwidth chosen to be 2.5 Hz\n",
      "Filter length of 1352 samples (2.641 sec) selected\n",
      "Setting up low-pass filter at 10 Hz\n",
      "h_trans_bandwidth chosen to be 2.5 Hz\n",
      "Filter length of 1352 samples (2.641 sec) selected\n",
      "Size of filtered data bad : (13, 2560) filtered data good :  (13, 2560)\n",
      "time points :  (2560,)\n",
      "Applying baseline correction (mode: mean)\n",
      "Applying baseline correction (mode: mean)\n",
      "Size norm & filtered data 0 :  (13, 2560) (13, 2560)\n",
      "-> Shape of bad data (13, 563) good data (13, 563)\n",
      "(13, 1000, 56) (13, 1000, 56)\n",
      "(1000, 56)\n",
      "[-1.8664141285756104, 1.8664141285756104] [-2.8490645768151746, 2.8490645768151746] [-4.5842649216862821, 4.5842649216862821]\n",
      "(56,) 0.957826181647 -3.17330986171\n",
      "Size of the concatenated data:  (26, 56) Number time windows :  56\n",
      "Size of label for classif:  26\n",
      "th_perm :  73.0769230769 80.7692307692 92.3076923077\n"
     ]
    },
    {
     "name": "stderr",
     "output_type": "stream",
     "text": [
      "/home/karim/anaconda3/lib/python3.5/site-packages/matplotlib/axes/_axes.py:545: UserWarning: No labelled objects found. Use label='...' kwarg on individual plots.\n",
      "  warnings.warn(\"No labelled objects found. \"\n"
     ]
    },
    {
     "name": "stdout",
     "output_type": "stream",
     "text": [
      "PIRJ Channel :  d4-d3 Label :  aPHG&PRC-aPHG Bad shape :  (2560, 13) Good shape :  (2560, 13)\n",
      "Setting up low-pass filter at 10 Hz\n",
      "h_trans_bandwidth chosen to be 2.5 Hz\n",
      "Filter length of 1352 samples (2.641 sec) selected\n",
      "Setting up low-pass filter at 10 Hz\n",
      "h_trans_bandwidth chosen to be 2.5 Hz\n",
      "Filter length of 1352 samples (2.641 sec) selected\n",
      "Size of filtered data bad : (13, 2560) filtered data good :  (13, 2560)\n",
      "time points :  (2560,)\n",
      "Applying baseline correction (mode: mean)\n",
      "Applying baseline correction (mode: mean)\n",
      "Size norm & filtered data 0 :  (13, 2560) (13, 2560)\n",
      "-> Shape of bad data (13, 563) good data (13, 563)\n",
      "(13, 1000, 56) (13, 1000, 56)\n",
      "(1000, 56)\n",
      "[-1.8580486067952329, 1.8580486067952329] [-2.8677501050113325, 2.8677501050113325] [-6.6083299353024518, 6.6083299353024518]\n",
      "(56,) 2.9291729738 -1.62410985943\n",
      "Size of the concatenated data:  (26, 56) Number time windows :  56\n",
      "Size of label for classif:  26\n",
      "th_perm :  69.2307692308 76.9230769231 88.4615384615\n"
     ]
    },
    {
     "name": "stderr",
     "output_type": "stream",
     "text": [
      "/home/karim/anaconda3/lib/python3.5/site-packages/matplotlib/axes/_axes.py:545: UserWarning: No labelled objects found. Use label='...' kwarg on individual plots.\n",
      "  warnings.warn(\"No labelled objects found. \"\n"
     ]
    },
    {
     "name": "stdout",
     "output_type": "stream",
     "text": [
      "PIRJ Channel :  d5-d4 Label :  aPHG Bad shape :  (2560, 13) Good shape :  (2560, 13)\n",
      "Setting up low-pass filter at 10 Hz\n",
      "h_trans_bandwidth chosen to be 2.5 Hz\n",
      "Filter length of 1352 samples (2.641 sec) selected\n",
      "Setting up low-pass filter at 10 Hz\n",
      "h_trans_bandwidth chosen to be 2.5 Hz\n",
      "Filter length of 1352 samples (2.641 sec) selected\n",
      "Size of filtered data bad : (13, 2560) filtered data good :  (13, 2560)\n",
      "time points :  (2560,)\n",
      "Applying baseline correction (mode: mean)\n",
      "Applying baseline correction (mode: mean)\n",
      "Size norm & filtered data 0 :  (13, 2560) (13, 2560)\n",
      "-> Shape of bad data (13, 563) good data (13, 563)\n",
      "(13, 1000, 56) (13, 1000, 56)\n",
      "(1000, 56)\n",
      "[-1.8427116865176085, 1.8427116865176085] [-2.6411618707917159, 2.6411618707917159] [-4.7758432318079427, 4.7758432318079427]\n",
      "(56,) 3.43938406081 -0.386678459531\n",
      "Size of the concatenated data:  (26, 56) Number time windows :  56\n",
      "Size of label for classif:  26\n",
      "th_perm :  73.0769230769 76.9230769231 88.4615384615\n"
     ]
    },
    {
     "name": "stderr",
     "output_type": "stream",
     "text": [
      "/home/karim/anaconda3/lib/python3.5/site-packages/matplotlib/axes/_axes.py:545: UserWarning: No labelled objects found. Use label='...' kwarg on individual plots.\n",
      "  warnings.warn(\"No labelled objects found. \"\n"
     ]
    },
    {
     "name": "stdout",
     "output_type": "stream",
     "text": [
      "PIRJ Channel :  d6-d5 Label :  FuG&aPHG Bad shape :  (2560, 13) Good shape :  (2560, 13)\n",
      "Setting up low-pass filter at 10 Hz\n",
      "h_trans_bandwidth chosen to be 2.5 Hz\n",
      "Filter length of 1352 samples (2.641 sec) selected\n",
      "Setting up low-pass filter at 10 Hz\n",
      "h_trans_bandwidth chosen to be 2.5 Hz\n",
      "Filter length of 1352 samples (2.641 sec) selected\n",
      "Size of filtered data bad : (13, 2560) filtered data good :  (13, 2560)\n",
      "time points :  (2560,)\n",
      "Applying baseline correction (mode: mean)\n",
      "Applying baseline correction (mode: mean)\n",
      "Size norm & filtered data 0 :  (13, 2560) (13, 2560)\n",
      "-> Shape of bad data (13, 563) good data (13, 563)\n",
      "(13, 1000, 56) (13, 1000, 56)\n",
      "(1000, 56)\n",
      "[-1.8489462489531137, 1.8489462489531137] [-3.1600005722984421, 3.1600005722984421] [-4.6693474274860796, 4.6693474274860796]\n",
      "(56,) 1.06759338638 -2.77611691612\n",
      "Size of the concatenated data:  (26, 56) Number time windows :  56\n",
      "Size of label for classif:  26\n",
      "th_perm :  73.0769230769 76.9230769231 88.4615384615\n"
     ]
    },
    {
     "name": "stderr",
     "output_type": "stream",
     "text": [
      "/home/karim/anaconda3/lib/python3.5/site-packages/matplotlib/axes/_axes.py:545: UserWarning: No labelled objects found. Use label='...' kwarg on individual plots.\n",
      "  warnings.warn(\"No labelled objects found. \"\n"
     ]
    },
    {
     "name": "stdout",
     "output_type": "stream",
     "text": [
      "PIRJ Channel :  d9-d8 Label :  aMTG&ITG-aMTG Bad shape :  (2560, 13) Good shape :  (2560, 13)\n",
      "Setting up low-pass filter at 10 Hz\n",
      "h_trans_bandwidth chosen to be 2.5 Hz\n",
      "Filter length of 1352 samples (2.641 sec) selected\n",
      "Setting up low-pass filter at 10 Hz\n",
      "h_trans_bandwidth chosen to be 2.5 Hz\n",
      "Filter length of 1352 samples (2.641 sec) selected\n",
      "Size of filtered data bad : (13, 2560) filtered data good :  (13, 2560)\n",
      "time points :  (2560,)\n",
      "Applying baseline correction (mode: mean)\n",
      "Applying baseline correction (mode: mean)\n",
      "Size norm & filtered data 0 :  (13, 2560) (13, 2560)\n",
      "-> Shape of bad data (13, 563) good data (13, 563)\n",
      "(13, 1000, 56) (13, 1000, 56)\n",
      "(1000, 56)\n",
      "[-1.814648083404808, 1.814648083404808] [-2.950068984433146, 2.950068984433146] [-4.9802463883580286, 4.9802463883580286]\n",
      "(56,) 2.28437851932 -1.26830507189\n",
      "Size of the concatenated data:  (26, 56) Number time windows :  56\n",
      "Size of label for classif:  26\n",
      "th_perm :  69.2307692308 76.9230769231 88.4615384615\n"
     ]
    },
    {
     "name": "stderr",
     "output_type": "stream",
     "text": [
      "/home/karim/anaconda3/lib/python3.5/site-packages/matplotlib/axes/_axes.py:545: UserWarning: No labelled objects found. Use label='...' kwarg on individual plots.\n",
      "  warnings.warn(\"No labelled objects found. \"\n"
     ]
    },
    {
     "name": "stdout",
     "output_type": "stream",
     "text": [
      "PIRJ Channel :  d10-d9 Label :  aMTG Bad shape :  (2560, 13) Good shape :  (2560, 13)\n",
      "Setting up low-pass filter at 10 Hz\n",
      "h_trans_bandwidth chosen to be 2.5 Hz\n",
      "Filter length of 1352 samples (2.641 sec) selected\n",
      "Setting up low-pass filter at 10 Hz\n",
      "h_trans_bandwidth chosen to be 2.5 Hz\n",
      "Filter length of 1352 samples (2.641 sec) selected\n",
      "Size of filtered data bad : (13, 2560) filtered data good :  (13, 2560)\n",
      "time points :  (2560,)\n",
      "Applying baseline correction (mode: mean)\n",
      "Applying baseline correction (mode: mean)\n",
      "Size norm & filtered data 0 :  (13, 2560) (13, 2560)\n",
      "-> Shape of bad data (13, 563) good data (13, 563)\n",
      "(13, 1000, 56) (13, 1000, 56)\n",
      "(1000, 56)\n",
      "[-1.8254937742247783, 1.8254937742247783] [-2.7634055773039692, 2.7634055773039692] [-4.7437960307376388, 4.7437960307376388]\n",
      "(56,) 3.84922189784 -1.00305474087\n",
      "Size of the concatenated data:  (26, 56) Number time windows :  56\n",
      "Size of label for classif:  26\n",
      "th_perm :  73.0769230769 76.9230769231 88.4615384615\n"
     ]
    },
    {
     "name": "stderr",
     "output_type": "stream",
     "text": [
      "/home/karim/anaconda3/lib/python3.5/site-packages/matplotlib/axes/_axes.py:545: UserWarning: No labelled objects found. Use label='...' kwarg on individual plots.\n",
      "  warnings.warn(\"No labelled objects found. \"\n"
     ]
    },
    {
     "name": "stdout",
     "output_type": "stream",
     "text": [
      "PIRJ Channel :  g2-g1 Label :  PCC-Pcun Bad shape :  (2560, 13) Good shape :  (2560, 13)\n",
      "Setting up low-pass filter at 10 Hz\n",
      "h_trans_bandwidth chosen to be 2.5 Hz\n",
      "Filter length of 1352 samples (2.641 sec) selected\n",
      "Setting up low-pass filter at 10 Hz\n",
      "h_trans_bandwidth chosen to be 2.5 Hz\n",
      "Filter length of 1352 samples (2.641 sec) selected\n",
      "Size of filtered data bad : (13, 2560) filtered data good :  (13, 2560)\n",
      "time points :  (2560,)\n",
      "Applying baseline correction (mode: mean)\n",
      "Applying baseline correction (mode: mean)\n",
      "Size norm & filtered data 0 :  (13, 2560) (13, 2560)\n",
      "-> Shape of bad data (13, 563) good data (13, 563)\n",
      "(13, 1000, 56) (13, 1000, 56)\n",
      "(1000, 56)\n",
      "[-1.8754111770006099, 1.8754111770006099] [-3.0070435478881175, 3.0070435478881175] [-5.1578240001473192, 5.1578240001473192]\n",
      "(56,) 1.24581688039 -3.1282276311\n",
      "Size of the concatenated data:  (26, 56) Number time windows :  56\n",
      "Size of label for classif:  26\n",
      "th_perm :  73.0769230769 76.9230769231 88.4615384615\n"
     ]
    },
    {
     "name": "stderr",
     "output_type": "stream",
     "text": [
      "/home/karim/anaconda3/lib/python3.5/site-packages/matplotlib/axes/_axes.py:545: UserWarning: No labelled objects found. Use label='...' kwarg on individual plots.\n",
      "  warnings.warn(\"No labelled objects found. \"\n"
     ]
    },
    {
     "name": "stdout",
     "output_type": "stream",
     "text": [
      "PIRJ Channel :  g3-g2 Label :  PCC-Pcun Bad shape :  (2560, 13) Good shape :  (2560, 13)\n",
      "Setting up low-pass filter at 10 Hz\n",
      "h_trans_bandwidth chosen to be 2.5 Hz\n",
      "Filter length of 1352 samples (2.641 sec) selected\n",
      "Setting up low-pass filter at 10 Hz\n",
      "h_trans_bandwidth chosen to be 2.5 Hz\n",
      "Filter length of 1352 samples (2.641 sec) selected\n",
      "Size of filtered data bad : (13, 2560) filtered data good :  (13, 2560)\n",
      "time points :  (2560,)\n",
      "Applying baseline correction (mode: mean)\n",
      "Applying baseline correction (mode: mean)\n",
      "Size norm & filtered data 0 :  (13, 2560) (13, 2560)\n",
      "-> Shape of bad data (13, 563) good data (13, 563)\n",
      "(13, 1000, 56) (13, 1000, 56)\n",
      "(1000, 56)\n",
      "[-1.8096096761590756, 1.8096096761590756] [-2.9958993760869932, 2.9958993760869932] [-5.2377732447576708, 5.2377732447576708]\n",
      "(56,) 1.55162612661 -4.49587101591\n",
      "Size of the concatenated data:  (26, 56) Number time windows :  56\n",
      "Size of label for classif:  26\n",
      "th_perm :  73.0769230769 76.9230769231 88.4615384615\n"
     ]
    },
    {
     "name": "stderr",
     "output_type": "stream",
     "text": [
      "/home/karim/anaconda3/lib/python3.5/site-packages/matplotlib/axes/_axes.py:545: UserWarning: No labelled objects found. Use label='...' kwarg on individual plots.\n",
      "  warnings.warn(\"No labelled objects found. \"\n"
     ]
    },
    {
     "name": "stdout",
     "output_type": "stream",
     "text": [
      "PIRJ Channel :  g14-g13 Label :  SMG-pSTG Bad shape :  (2560, 13) Good shape :  (2560, 13)\n",
      "Setting up low-pass filter at 10 Hz\n",
      "h_trans_bandwidth chosen to be 2.5 Hz\n",
      "Filter length of 1352 samples (2.641 sec) selected\n",
      "Setting up low-pass filter at 10 Hz\n",
      "h_trans_bandwidth chosen to be 2.5 Hz\n",
      "Filter length of 1352 samples (2.641 sec) selected\n",
      "Size of filtered data bad : (13, 2560) filtered data good :  (13, 2560)\n",
      "time points :  (2560,)\n",
      "Applying baseline correction (mode: mean)\n",
      "Applying baseline correction (mode: mean)\n",
      "Size norm & filtered data 0 :  (13, 2560) (13, 2560)\n",
      "-> Shape of bad data (13, 563) good data (13, 563)\n",
      "(13, 1000, 56) (13, 1000, 56)\n",
      "(1000, 56)\n",
      "[-1.856716494574242, 1.856716494574242] [-2.835357475361358, 2.835357475361358] [-4.5219378984569465, 4.5219378984569465]\n",
      "(56,) 3.11452896566 -1.56462991837\n",
      "Size of the concatenated data:  (26, 56) Number time windows :  56\n",
      "Size of label for classif:  26\n",
      "th_perm :  73.0769230769 80.7692307692 88.4615384615\n"
     ]
    },
    {
     "name": "stderr",
     "output_type": "stream",
     "text": [
      "/home/karim/anaconda3/lib/python3.5/site-packages/matplotlib/axes/_axes.py:545: UserWarning: No labelled objects found. Use label='...' kwarg on individual plots.\n",
      "  warnings.warn(\"No labelled objects found. \"\n"
     ]
    },
    {
     "name": "stdout",
     "output_type": "stream",
     "text": [
      "PIRJ Channel :  g15-g14 Label :  LCR&SMG-pSTG Bad shape :  (2560, 13) Good shape :  (2560, 13)\n",
      "Setting up low-pass filter at 10 Hz\n",
      "h_trans_bandwidth chosen to be 2.5 Hz\n",
      "Filter length of 1352 samples (2.641 sec) selected\n",
      "Setting up low-pass filter at 10 Hz\n",
      "h_trans_bandwidth chosen to be 2.5 Hz\n",
      "Filter length of 1352 samples (2.641 sec) selected\n",
      "Size of filtered data bad : (13, 2560) filtered data good :  (13, 2560)\n",
      "time points :  (2560,)\n",
      "Applying baseline correction (mode: mean)\n",
      "Applying baseline correction (mode: mean)\n",
      "Size norm & filtered data 0 :  (13, 2560) (13, 2560)\n",
      "-> Shape of bad data (13, 563) good data (13, 563)\n",
      "(13, 1000, 56) (13, 1000, 56)\n",
      "(1000, 56)\n",
      "[-1.8594303561463541, 1.8594303561463541] [-2.8800448784649983, 2.8800448784649983] [-4.8452235336629226, 4.8452235336629226]\n",
      "(56,) 2.97887778891 -2.04476513684\n",
      "Size of the concatenated data:  (26, 56) Number time windows :  56\n",
      "Size of label for classif:  26\n",
      "th_perm :  73.0769230769 76.9230769231 92.3076923077\n"
     ]
    },
    {
     "name": "stderr",
     "output_type": "stream",
     "text": [
      "/home/karim/anaconda3/lib/python3.5/site-packages/matplotlib/axes/_axes.py:545: UserWarning: No labelled objects found. Use label='...' kwarg on individual plots.\n",
      "  warnings.warn(\"No labelled objects found. \"\n"
     ]
    },
    {
     "name": "stdout",
     "output_type": "stream",
     "text": [
      "PIRJ Channel :  g'12-g'11 Label :  pSTG Bad shape :  (2560, 13) Good shape :  (2560, 13)\n",
      "Setting up low-pass filter at 10 Hz\n",
      "h_trans_bandwidth chosen to be 2.5 Hz\n",
      "Filter length of 1352 samples (2.641 sec) selected\n",
      "Setting up low-pass filter at 10 Hz\n",
      "h_trans_bandwidth chosen to be 2.5 Hz\n",
      "Filter length of 1352 samples (2.641 sec) selected\n",
      "Size of filtered data bad : (13, 2560) filtered data good :  (13, 2560)\n",
      "time points :  (2560,)\n",
      "Applying baseline correction (mode: mean)\n",
      "Applying baseline correction (mode: mean)\n",
      "Size norm & filtered data 0 :  (13, 2560) (13, 2560)\n",
      "-> Shape of bad data (13, 563) good data (13, 563)\n",
      "(13, 1000, 56) (13, 1000, 56)\n",
      "(1000, 56)\n",
      "[-1.8453542842885118, 1.8453542842885118] [-2.9036815933493068, 2.9036815933493068] [-4.9898702755077622, 4.9898702755077622]\n",
      "(56,) 2.49413898175 -1.5417993012\n",
      "Size of the concatenated data:  (26, 56) Number time windows :  56\n",
      "Size of label for classif:  26\n",
      "th_perm :  73.0769230769 80.7692307692 92.3076923077\n"
     ]
    },
    {
     "name": "stderr",
     "output_type": "stream",
     "text": [
      "/home/karim/anaconda3/lib/python3.5/site-packages/matplotlib/axes/_axes.py:545: UserWarning: No labelled objects found. Use label='...' kwarg on individual plots.\n",
      "  warnings.warn(\"No labelled objects found. \"\n"
     ]
    },
    {
     "name": "stdout",
     "output_type": "stream",
     "text": [
      "PIRJ Channel :  g'13-g'12 Label :  pSTG Bad shape :  (2560, 13) Good shape :  (2560, 13)\n",
      "Setting up low-pass filter at 10 Hz\n",
      "h_trans_bandwidth chosen to be 2.5 Hz\n",
      "Filter length of 1352 samples (2.641 sec) selected\n",
      "Setting up low-pass filter at 10 Hz\n",
      "h_trans_bandwidth chosen to be 2.5 Hz\n",
      "Filter length of 1352 samples (2.641 sec) selected\n",
      "Size of filtered data bad : (13, 2560) filtered data good :  (13, 2560)\n",
      "time points :  (2560,)\n",
      "Applying baseline correction (mode: mean)\n",
      "Applying baseline correction (mode: mean)\n",
      "Size norm & filtered data 0 :  (13, 2560) (13, 2560)\n",
      "-> Shape of bad data (13, 563) good data (13, 563)\n",
      "(13, 1000, 56) (13, 1000, 56)\n",
      "(1000, 56)\n",
      "[-1.8337650820181237, 1.8337650820181237] [-2.6420604993697436, 2.6420604993697436] [-4.4231827494088707, 4.4231827494088707]\n",
      "(56,) 0.887605215968 -1.83094141301\n",
      "Size of the concatenated data:  (26, 56) Number time windows :  56\n",
      "Size of label for classif:  26\n",
      "th_perm :  73.0769230769 76.9230769231 88.4615384615\n"
     ]
    },
    {
     "name": "stderr",
     "output_type": "stream",
     "text": [
      "/home/karim/anaconda3/lib/python3.5/site-packages/matplotlib/axes/_axes.py:545: UserWarning: No labelled objects found. Use label='...' kwarg on individual plots.\n",
      "  warnings.warn(\"No labelled objects found. \"\n"
     ]
    },
    {
     "name": "stdout",
     "output_type": "stream",
     "text": [
      "PIRJ Channel :  g'14-g'13 Label :  pSTG Bad shape :  (2560, 13) Good shape :  (2560, 13)\n",
      "Setting up low-pass filter at 10 Hz\n",
      "h_trans_bandwidth chosen to be 2.5 Hz\n",
      "Filter length of 1352 samples (2.641 sec) selected\n",
      "Setting up low-pass filter at 10 Hz\n",
      "h_trans_bandwidth chosen to be 2.5 Hz\n",
      "Filter length of 1352 samples (2.641 sec) selected\n",
      "Size of filtered data bad : (13, 2560) filtered data good :  (13, 2560)\n",
      "time points :  (2560,)\n",
      "Applying baseline correction (mode: mean)\n",
      "Applying baseline correction (mode: mean)\n",
      "Size norm & filtered data 0 :  (13, 2560) (13, 2560)\n",
      "-> Shape of bad data (13, 563) good data (13, 563)\n",
      "(13, 1000, 56) (13, 1000, 56)\n",
      "(1000, 56)\n",
      "[-1.9022224459171195, 1.9022224459171195] [-2.8679375150020414, 2.8679375150020414] [-4.3863896687365527, 4.3863896687365527]\n",
      "(56,) 1.57856295151 -2.33032021883\n",
      "Size of the concatenated data:  (26, 56) Number time windows :  56\n",
      "Size of label for classif:  26\n",
      "th_perm :  73.0769230769 76.9230769231 88.4615384615\n"
     ]
    },
    {
     "name": "stderr",
     "output_type": "stream",
     "text": [
      "/home/karim/anaconda3/lib/python3.5/site-packages/matplotlib/axes/_axes.py:545: UserWarning: No labelled objects found. Use label='...' kwarg on individual plots.\n",
      "  warnings.warn(\"No labelled objects found. \"\n"
     ]
    },
    {
     "name": "stdout",
     "output_type": "stream",
     "text": [
      "PIRJ Channel :  g'15-g'14 Label :  LCR&pSTG Bad shape :  (2560, 13) Good shape :  (2560, 13)\n",
      "Setting up low-pass filter at 10 Hz\n",
      "h_trans_bandwidth chosen to be 2.5 Hz\n",
      "Filter length of 1352 samples (2.641 sec) selected\n",
      "Setting up low-pass filter at 10 Hz\n",
      "h_trans_bandwidth chosen to be 2.5 Hz\n",
      "Filter length of 1352 samples (2.641 sec) selected\n",
      "Size of filtered data bad : (13, 2560) filtered data good :  (13, 2560)\n",
      "time points :  (2560,)\n",
      "Applying baseline correction (mode: mean)\n",
      "Applying baseline correction (mode: mean)\n",
      "Size norm & filtered data 0 :  (13, 2560) (13, 2560)\n",
      "-> Shape of bad data (13, 563) good data (13, 563)\n",
      "(13, 1000, 56) (13, 1000, 56)\n",
      "(1000, 56)\n",
      "[-1.8710175930553883, 1.8710175930553883] [-2.8259536493651187, 2.8259536493651187] [-5.3589262721999189, 5.3589262721999189]\n",
      "(56,) 2.41805895699 -2.98380811821\n",
      "Size of the concatenated data:  (26, 56) Number time windows :  56\n",
      "Size of label for classif:  26\n",
      "th_perm :  73.0769230769 76.9230769231 96.1538461538\n"
     ]
    },
    {
     "name": "stderr",
     "output_type": "stream",
     "text": [
      "/home/karim/anaconda3/lib/python3.5/site-packages/matplotlib/axes/_axes.py:545: UserWarning: No labelled objects found. Use label='...' kwarg on individual plots.\n",
      "  warnings.warn(\"No labelled objects found. \"\n"
     ]
    },
    {
     "name": "stdout",
     "output_type": "stream",
     "text": [
      "PIRJ Channel :  j2-j1 Label :  POrG-LOrG Bad shape :  (2560, 13) Good shape :  (2560, 13)\n",
      "Setting up low-pass filter at 10 Hz\n",
      "h_trans_bandwidth chosen to be 2.5 Hz\n",
      "Filter length of 1352 samples (2.641 sec) selected\n",
      "Setting up low-pass filter at 10 Hz\n",
      "h_trans_bandwidth chosen to be 2.5 Hz\n",
      "Filter length of 1352 samples (2.641 sec) selected\n",
      "Size of filtered data bad : (13, 2560) filtered data good :  (13, 2560)\n",
      "time points :  (2560,)\n",
      "Applying baseline correction (mode: mean)\n",
      "Applying baseline correction (mode: mean)\n",
      "Size norm & filtered data 0 :  (13, 2560) (13, 2560)\n",
      "-> Shape of bad data (13, 563) good data (13, 563)\n",
      "(13, 1000, 56) (13, 1000, 56)\n",
      "(1000, 56)\n",
      "[-1.890254349719928, 1.890254349719928] [-2.6951802684694872, 2.6951802684694872] [-3.9019809782874115, 3.9019809782874115]\n",
      "(56,) 2.74130190647 -0.538357978968\n",
      "Size of the concatenated data:  (26, 56) Number time windows :  56\n",
      "Size of label for classif:  26\n",
      "th_perm :  73.0769230769 76.9230769231 88.4615384615\n"
     ]
    },
    {
     "name": "stderr",
     "output_type": "stream",
     "text": [
      "/home/karim/anaconda3/lib/python3.5/site-packages/matplotlib/axes/_axes.py:545: UserWarning: No labelled objects found. Use label='...' kwarg on individual plots.\n",
      "  warnings.warn(\"No labelled objects found. \"\n"
     ]
    },
    {
     "name": "stdout",
     "output_type": "stream",
     "text": [
      "PIRJ Channel :  j3-j2 Label :  POrG-LOrG Bad shape :  (2560, 13) Good shape :  (2560, 13)\n",
      "Setting up low-pass filter at 10 Hz\n",
      "h_trans_bandwidth chosen to be 2.5 Hz\n",
      "Filter length of 1352 samples (2.641 sec) selected\n",
      "Setting up low-pass filter at 10 Hz\n",
      "h_trans_bandwidth chosen to be 2.5 Hz\n",
      "Filter length of 1352 samples (2.641 sec) selected\n",
      "Size of filtered data bad : (13, 2560) filtered data good :  (13, 2560)\n",
      "time points :  (2560,)\n",
      "Applying baseline correction (mode: mean)\n",
      "Applying baseline correction (mode: mean)\n",
      "Size norm & filtered data 0 :  (13, 2560) (13, 2560)\n",
      "-> Shape of bad data (13, 563) good data (13, 563)\n",
      "(13, 1000, 56) (13, 1000, 56)\n",
      "(1000, 56)\n",
      "[-1.8521336544028502, 1.8521336544028502] [-2.6924464037915605, 2.6924464037915605] [-4.6181634494334913, 4.6181634494334913]\n",
      "(56,) 1.24090308082 -1.31150183215\n",
      "Size of the concatenated data:  (26, 56) Number time windows :  56\n",
      "Size of label for classif:  26\n",
      "th_perm :  73.0769230769 76.9230769231 88.4615384615\n"
     ]
    },
    {
     "name": "stderr",
     "output_type": "stream",
     "text": [
      "/home/karim/anaconda3/lib/python3.5/site-packages/matplotlib/axes/_axes.py:545: UserWarning: No labelled objects found. Use label='...' kwarg on individual plots.\n",
      "  warnings.warn(\"No labelled objects found. \"\n"
     ]
    },
    {
     "name": "stdout",
     "output_type": "stream",
     "text": [
      "PIRJ Channel :  j9-j8 Label :  LCR-ITP&Ppo-ITP Bad shape :  (2560, 13) Good shape :  (2560, 13)\n",
      "Setting up low-pass filter at 10 Hz\n",
      "h_trans_bandwidth chosen to be 2.5 Hz\n",
      "Filter length of 1352 samples (2.641 sec) selected\n",
      "Setting up low-pass filter at 10 Hz\n",
      "h_trans_bandwidth chosen to be 2.5 Hz\n",
      "Filter length of 1352 samples (2.641 sec) selected\n",
      "Size of filtered data bad : (13, 2560) filtered data good :  (13, 2560)\n",
      "time points :  (2560,)\n",
      "Applying baseline correction (mode: mean)\n",
      "Applying baseline correction (mode: mean)\n",
      "Size norm & filtered data 0 :  (13, 2560) (13, 2560)\n",
      "-> Shape of bad data (13, 563) good data (13, 563)\n",
      "(13, 1000, 56) (13, 1000, 56)\n",
      "(1000, 56)\n",
      "[-1.8765295317364536, 1.8765295317364536] [-2.8404272918456983, 2.8404272918456983] [-5.2888159205596015, 5.2888159205596015]\n",
      "(56,) 2.13238309361 -4.35989068995\n",
      "Size of the concatenated data:  (26, 56) Number time windows :  56\n",
      "Size of label for classif:  26\n",
      "th_perm :  69.2307692308 76.9230769231 88.4615384615\n"
     ]
    },
    {
     "name": "stderr",
     "output_type": "stream",
     "text": [
      "/home/karim/anaconda3/lib/python3.5/site-packages/matplotlib/axes/_axes.py:545: UserWarning: No labelled objects found. Use label='...' kwarg on individual plots.\n",
      "  warnings.warn(\"No labelled objects found. \"\n"
     ]
    },
    {
     "name": "stdout",
     "output_type": "stream",
     "text": [
      "PIRJ Channel :  j10-j9 Label :  LCR&LCR-ITP Bad shape :  (2560, 13) Good shape :  (2560, 13)\n",
      "Setting up low-pass filter at 10 Hz\n",
      "h_trans_bandwidth chosen to be 2.5 Hz\n",
      "Filter length of 1352 samples (2.641 sec) selected\n",
      "Setting up low-pass filter at 10 Hz\n",
      "h_trans_bandwidth chosen to be 2.5 Hz\n",
      "Filter length of 1352 samples (2.641 sec) selected\n",
      "Size of filtered data bad : (13, 2560) filtered data good :  (13, 2560)\n",
      "time points :  (2560,)\n",
      "Applying baseline correction (mode: mean)\n",
      "Applying baseline correction (mode: mean)\n",
      "Size norm & filtered data 0 :  (13, 2560) (13, 2560)\n",
      "-> Shape of bad data (13, 563) good data (13, 563)\n",
      "(13, 1000, 56) (13, 1000, 56)\n",
      "(1000, 56)\n",
      "[-1.812523422641179, 1.812523422641179] [-2.6832417042338141, 2.6832417042338141] [-4.6872150190758068, 4.6872150190758068]\n",
      "(56,) 3.83997620158 -1.63784473597\n",
      "Size of the concatenated data:  (26, 56) Number time windows :  56\n",
      "Size of label for classif:  26\n",
      "th_perm :  69.2307692308 76.9230769231 88.4615384615\n"
     ]
    },
    {
     "name": "stderr",
     "output_type": "stream",
     "text": [
      "/home/karim/anaconda3/lib/python3.5/site-packages/matplotlib/axes/_axes.py:545: UserWarning: No labelled objects found. Use label='...' kwarg on individual plots.\n",
      "  warnings.warn(\"No labelled objects found. \"\n"
     ]
    },
    {
     "name": "stdout",
     "output_type": "stream",
     "text": [
      "PIRJ Channel :  o2-o1 Label :  IROG-SG&IRoG Bad shape :  (2560, 13) Good shape :  (2560, 13)\n",
      "Setting up low-pass filter at 10 Hz\n",
      "h_trans_bandwidth chosen to be 2.5 Hz\n",
      "Filter length of 1352 samples (2.641 sec) selected\n",
      "Setting up low-pass filter at 10 Hz\n",
      "h_trans_bandwidth chosen to be 2.5 Hz\n",
      "Filter length of 1352 samples (2.641 sec) selected\n",
      "Size of filtered data bad : (13, 2560) filtered data good :  (13, 2560)\n",
      "time points :  (2560,)\n",
      "Applying baseline correction (mode: mean)\n",
      "Applying baseline correction (mode: mean)\n",
      "Size norm & filtered data 0 :  (13, 2560) (13, 2560)\n",
      "-> Shape of bad data (13, 563) good data (13, 563)\n",
      "(13, 1000, 56) (13, 1000, 56)\n",
      "(1000, 56)\n",
      "[-1.9030706451713182, 1.9030706451713182] [-2.7190365407230042, 2.7190365407230042] [-4.7785314661592553, 4.7785314661592553]\n",
      "(56,) 1.19663083087 -0.731789090282\n",
      "Size of the concatenated data:  (26, 56) Number time windows :  56\n",
      "Size of label for classif:  26\n",
      "th_perm :  73.0769230769 76.9230769231 92.3076923077\n"
     ]
    },
    {
     "name": "stderr",
     "output_type": "stream",
     "text": [
      "/home/karim/anaconda3/lib/python3.5/site-packages/matplotlib/axes/_axes.py:545: UserWarning: No labelled objects found. Use label='...' kwarg on individual plots.\n",
      "  warnings.warn(\"No labelled objects found. \"\n"
     ]
    },
    {
     "name": "stdout",
     "output_type": "stream",
     "text": [
      "PIRJ Channel :  o5-o4 Label :  MOrG Bad shape :  (2560, 13) Good shape :  (2560, 13)\n",
      "Setting up low-pass filter at 10 Hz\n",
      "h_trans_bandwidth chosen to be 2.5 Hz\n",
      "Filter length of 1352 samples (2.641 sec) selected\n",
      "Setting up low-pass filter at 10 Hz\n",
      "h_trans_bandwidth chosen to be 2.5 Hz\n",
      "Filter length of 1352 samples (2.641 sec) selected\n",
      "Size of filtered data bad : (13, 2560) filtered data good :  (13, 2560)\n",
      "time points :  (2560,)\n",
      "Applying baseline correction (mode: mean)\n",
      "Applying baseline correction (mode: mean)\n",
      "Size norm & filtered data 0 :  (13, 2560) (13, 2560)\n",
      "-> Shape of bad data (13, 563) good data (13, 563)\n",
      "(13, 1000, 56) (13, 1000, 56)\n",
      "(1000, 56)\n",
      "[-1.8743443807182081, 1.8743443807182081] [-2.9697995943045328, 2.9697995943045328] [-4.6208851213714759, 4.6208851213714759]\n",
      "(56,) 2.89044682777 -1.50744894952\n",
      "Size of the concatenated data:  (26, 56) Number time windows :  56\n",
      "Size of label for classif:  26\n",
      "th_perm :  73.0769230769 76.9230769231 88.4615384615\n"
     ]
    },
    {
     "name": "stderr",
     "output_type": "stream",
     "text": [
      "/home/karim/anaconda3/lib/python3.5/site-packages/matplotlib/axes/_axes.py:545: UserWarning: No labelled objects found. Use label='...' kwarg on individual plots.\n",
      "  warnings.warn(\"No labelled objects found. \"\n"
     ]
    },
    {
     "name": "stdout",
     "output_type": "stream",
     "text": [
      "PIRJ Channel :  o6-o5 Label :  MOrG-LOrG&MOrG Bad shape :  (2560, 13) Good shape :  (2560, 13)\n",
      "Setting up low-pass filter at 10 Hz\n",
      "h_trans_bandwidth chosen to be 2.5 Hz\n",
      "Filter length of 1352 samples (2.641 sec) selected\n",
      "Setting up low-pass filter at 10 Hz\n",
      "h_trans_bandwidth chosen to be 2.5 Hz\n",
      "Filter length of 1352 samples (2.641 sec) selected\n",
      "Size of filtered data bad : (13, 2560) filtered data good :  (13, 2560)\n",
      "time points :  (2560,)\n",
      "Applying baseline correction (mode: mean)\n",
      "Applying baseline correction (mode: mean)\n",
      "Size norm & filtered data 0 :  (13, 2560) (13, 2560)\n",
      "-> Shape of bad data (13, 563) good data (13, 563)\n",
      "(13, 1000, 56) (13, 1000, 56)\n",
      "(1000, 56)\n",
      "[-1.8588220650008489, 1.8588220650008489] [-2.9417391295309971, 2.9417391295309971] [-4.6535544969045128, 4.6535544969045128]\n",
      "(56,) 1.3550967677 -2.73183068659\n",
      "Size of the concatenated data:  (26, 56) Number time windows :  56\n",
      "Size of label for classif:  26\n",
      "th_perm :  69.2307692308 76.9230769231 88.4615384615\n"
     ]
    },
    {
     "name": "stderr",
     "output_type": "stream",
     "text": [
      "/home/karim/anaconda3/lib/python3.5/site-packages/matplotlib/axes/_axes.py:545: UserWarning: No labelled objects found. Use label='...' kwarg on individual plots.\n",
      "  warnings.warn(\"No labelled objects found. \"\n"
     ]
    },
    {
     "name": "stdout",
     "output_type": "stream",
     "text": [
      "PIRJ Channel :  o7-o6 Label :  MOrG-LOrG Bad shape :  (2560, 13) Good shape :  (2560, 13)\n",
      "Setting up low-pass filter at 10 Hz\n",
      "h_trans_bandwidth chosen to be 2.5 Hz\n",
      "Filter length of 1352 samples (2.641 sec) selected\n",
      "Setting up low-pass filter at 10 Hz\n",
      "h_trans_bandwidth chosen to be 2.5 Hz\n",
      "Filter length of 1352 samples (2.641 sec) selected\n",
      "Size of filtered data bad : (13, 2560) filtered data good :  (13, 2560)\n",
      "time points :  (2560,)\n",
      "Applying baseline correction (mode: mean)\n",
      "Applying baseline correction (mode: mean)\n",
      "Size norm & filtered data 0 :  (13, 2560) (13, 2560)\n",
      "-> Shape of bad data (13, 563) good data (13, 563)\n",
      "(13, 1000, 56) (13, 1000, 56)\n",
      "(1000, 56)\n",
      "[-1.8619586250384195, 1.8619586250384195] [-3.0548249799925249, 3.0548249799925249] [-5.4667876709873342, 5.4667876709873342]\n",
      "(56,) 1.17672775377 -2.89251554627\n",
      "Size of the concatenated data:  (26, 56) Number time windows :  56\n",
      "Size of label for classif:  26\n",
      "th_perm :  69.2307692308 76.9230769231 88.4615384615\n"
     ]
    },
    {
     "name": "stderr",
     "output_type": "stream",
     "text": [
      "/home/karim/anaconda3/lib/python3.5/site-packages/matplotlib/axes/_axes.py:545: UserWarning: No labelled objects found. Use label='...' kwarg on individual plots.\n",
      "  warnings.warn(\"No labelled objects found. \"\n"
     ]
    },
    {
     "name": "stdout",
     "output_type": "stream",
     "text": [
      "PIRJ Channel :  o8-o7 Label :  LOrG&MOrG-LOrG Bad shape :  (2560, 13) Good shape :  (2560, 13)\n",
      "Setting up low-pass filter at 10 Hz\n",
      "h_trans_bandwidth chosen to be 2.5 Hz\n",
      "Filter length of 1352 samples (2.641 sec) selected\n",
      "Setting up low-pass filter at 10 Hz\n",
      "h_trans_bandwidth chosen to be 2.5 Hz\n",
      "Filter length of 1352 samples (2.641 sec) selected\n",
      "Size of filtered data bad : (13, 2560) filtered data good :  (13, 2560)\n",
      "time points :  (2560,)\n",
      "Applying baseline correction (mode: mean)\n",
      "Applying baseline correction (mode: mean)\n",
      "Size norm & filtered data 0 :  (13, 2560) (13, 2560)\n",
      "-> Shape of bad data (13, 563) good data (13, 563)\n",
      "(13, 1000, 56) (13, 1000, 56)\n",
      "(1000, 56)\n",
      "[-1.8851213082634277, 1.8851213082634277] [-2.7603644027018657, 2.7603644027018657] [-5.5940962080486756, 5.5940962080486756]\n",
      "(56,) 4.13158866208 -1.53795574259\n",
      "Size of the concatenated data:  (26, 56) Number time windows :  56\n",
      "Size of label for classif:  26\n",
      "th_perm :  73.0769230769 76.9230769231 92.3076923077\n"
     ]
    },
    {
     "name": "stderr",
     "output_type": "stream",
     "text": [
      "/home/karim/anaconda3/lib/python3.5/site-packages/matplotlib/axes/_axes.py:545: UserWarning: No labelled objects found. Use label='...' kwarg on individual plots.\n",
      "  warnings.warn(\"No labelled objects found. \"\n"
     ]
    },
    {
     "name": "stdout",
     "output_type": "stream",
     "text": [
      "PIRJ Channel :  o9-o8 Label :  LOrG-IFGOr&LOrG Bad shape :  (2560, 13) Good shape :  (2560, 13)\n",
      "Setting up low-pass filter at 10 Hz\n",
      "h_trans_bandwidth chosen to be 2.5 Hz\n",
      "Filter length of 1352 samples (2.641 sec) selected\n",
      "Setting up low-pass filter at 10 Hz\n",
      "h_trans_bandwidth chosen to be 2.5 Hz\n",
      "Filter length of 1352 samples (2.641 sec) selected\n",
      "Size of filtered data bad : (13, 2560) filtered data good :  (13, 2560)\n",
      "time points :  (2560,)\n",
      "Applying baseline correction (mode: mean)\n",
      "Applying baseline correction (mode: mean)\n",
      "Size norm & filtered data 0 :  (13, 2560) (13, 2560)\n",
      "-> Shape of bad data (13, 563) good data (13, 563)\n",
      "(13, 1000, 56) (13, 1000, 56)\n",
      "(1000, 56)\n",
      "[-1.9287653743339401, 1.9287653743339401] [-2.8998908911732313, 2.8998908911732313] [-4.4489341344598436, 4.4489341344598436]\n",
      "(56,) 2.06071613707 -1.71547769984\n",
      "Size of the concatenated data:  (26, 56) Number time windows :  56\n",
      "Size of label for classif:  26\n",
      "th_perm :  73.0769230769 80.7692307692 88.4615384615\n"
     ]
    },
    {
     "name": "stderr",
     "output_type": "stream",
     "text": [
      "/home/karim/anaconda3/lib/python3.5/site-packages/matplotlib/axes/_axes.py:545: UserWarning: No labelled objects found. Use label='...' kwarg on individual plots.\n",
      "  warnings.warn(\"No labelled objects found. \"\n"
     ]
    },
    {
     "name": "stdout",
     "output_type": "stream",
     "text": [
      "PIRJ Channel :  o10-o9 Label :  LOrG-IFGOr Bad shape :  (2560, 13) Good shape :  (2560, 13)\n",
      "Setting up low-pass filter at 10 Hz\n",
      "h_trans_bandwidth chosen to be 2.5 Hz\n",
      "Filter length of 1352 samples (2.641 sec) selected\n",
      "Setting up low-pass filter at 10 Hz\n",
      "h_trans_bandwidth chosen to be 2.5 Hz\n",
      "Filter length of 1352 samples (2.641 sec) selected\n",
      "Size of filtered data bad : (13, 2560) filtered data good :  (13, 2560)\n",
      "time points :  (2560,)\n",
      "Applying baseline correction (mode: mean)\n",
      "Applying baseline correction (mode: mean)\n",
      "Size norm & filtered data 0 :  (13, 2560) (13, 2560)\n",
      "-> Shape of bad data (13, 563) good data (13, 563)\n",
      "(13, 1000, 56) (13, 1000, 56)\n",
      "(1000, 56)\n",
      "[-1.8603527203057857, 1.8603527203057857] [-2.6907174859898975, 2.6907174859898975] [-4.513727356176565, 4.513727356176565]\n",
      "(56,) 1.9062091589 -2.03643354919\n",
      "Size of the concatenated data:  (26, 56) Number time windows :  56\n",
      "Size of label for classif:  26\n",
      "th_perm :  73.0769230769 76.9230769231 92.3076923077\n"
     ]
    },
    {
     "name": "stderr",
     "output_type": "stream",
     "text": [
      "/home/karim/anaconda3/lib/python3.5/site-packages/matplotlib/axes/_axes.py:545: UserWarning: No labelled objects found. Use label='...' kwarg on individual plots.\n",
      "  warnings.warn(\"No labelled objects found. \"\n"
     ]
    },
    {
     "name": "stdout",
     "output_type": "stream",
     "text": [
      "PIRJ Channel :  o11-o10 Label :  IFGOr&LOrG-IFGOr Bad shape :  (2560, 13) Good shape :  (2560, 13)\n",
      "Setting up low-pass filter at 10 Hz\n",
      "h_trans_bandwidth chosen to be 2.5 Hz\n",
      "Filter length of 1352 samples (2.641 sec) selected\n",
      "Setting up low-pass filter at 10 Hz\n",
      "h_trans_bandwidth chosen to be 2.5 Hz\n",
      "Filter length of 1352 samples (2.641 sec) selected\n",
      "Size of filtered data bad : (13, 2560) filtered data good :  (13, 2560)\n",
      "time points :  (2560,)\n",
      "Applying baseline correction (mode: mean)\n",
      "Applying baseline correction (mode: mean)\n",
      "Size norm & filtered data 0 :  (13, 2560) (13, 2560)\n",
      "-> Shape of bad data (13, 563) good data (13, 563)\n",
      "(13, 1000, 56) (13, 1000, 56)\n",
      "(1000, 56)\n",
      "[-1.8254520701758499, 1.8254520701758499] [-2.913725961167279, 2.913725961167279] [-5.626242557997954, 5.626242557997954]\n",
      "(56,) 2.32971469285 -1.83966692294\n",
      "Size of the concatenated data:  (26, 56) Number time windows :  56\n",
      "Size of label for classif:  26\n",
      "th_perm :  73.0769230769 76.9230769231 88.4615384615\n"
     ]
    },
    {
     "name": "stderr",
     "output_type": "stream",
     "text": [
      "/home/karim/anaconda3/lib/python3.5/site-packages/matplotlib/axes/_axes.py:545: UserWarning: No labelled objects found. Use label='...' kwarg on individual plots.\n",
      "  warnings.warn(\"No labelled objects found. \"\n"
     ]
    },
    {
     "name": "stdout",
     "output_type": "stream",
     "text": [
      "PIRJ Channel :  o12-o11 Label :  IFGOr Bad shape :  (2560, 13) Good shape :  (2560, 13)\n",
      "Setting up low-pass filter at 10 Hz\n",
      "h_trans_bandwidth chosen to be 2.5 Hz\n",
      "Filter length of 1352 samples (2.641 sec) selected\n",
      "Setting up low-pass filter at 10 Hz\n",
      "h_trans_bandwidth chosen to be 2.5 Hz\n",
      "Filter length of 1352 samples (2.641 sec) selected\n",
      "Size of filtered data bad : (13, 2560) filtered data good :  (13, 2560)\n",
      "time points :  (2560,)\n",
      "Applying baseline correction (mode: mean)\n",
      "Applying baseline correction (mode: mean)\n",
      "Size norm & filtered data 0 :  (13, 2560) (13, 2560)\n",
      "-> Shape of bad data (13, 563) good data (13, 563)\n",
      "(13, 1000, 56) (13, 1000, 56)\n",
      "(1000, 56)\n",
      "[-1.8960059600477031, 1.8960059600477031] [-2.9308672167733802, 2.9308672167733802] [-4.6543052969608949, 4.6543052969608949]\n",
      "(56,) 2.62343254787 -1.85206856479\n",
      "Size of the concatenated data:  (26, 56) Number time windows :  56\n",
      "Size of label for classif:  26\n",
      "th_perm :  73.0769230769 76.9230769231 88.4615384615\n"
     ]
    },
    {
     "name": "stderr",
     "output_type": "stream",
     "text": [
      "/home/karim/anaconda3/lib/python3.5/site-packages/matplotlib/axes/_axes.py:545: UserWarning: No labelled objects found. Use label='...' kwarg on individual plots.\n",
      "  warnings.warn(\"No labelled objects found. \"\n"
     ]
    },
    {
     "name": "stdout",
     "output_type": "stream",
     "text": [
      "PIRJ Channel :  t2-t1 Label :  pIns Bad shape :  (2560, 13) Good shape :  (2560, 13)\n",
      "Setting up low-pass filter at 10 Hz\n",
      "h_trans_bandwidth chosen to be 2.5 Hz\n",
      "Filter length of 1352 samples (2.641 sec) selected\n",
      "Setting up low-pass filter at 10 Hz\n",
      "h_trans_bandwidth chosen to be 2.5 Hz\n",
      "Filter length of 1352 samples (2.641 sec) selected\n",
      "Size of filtered data bad : (13, 2560) filtered data good :  (13, 2560)\n",
      "time points :  (2560,)\n",
      "Applying baseline correction (mode: mean)\n",
      "Applying baseline correction (mode: mean)\n",
      "Size norm & filtered data 0 :  (13, 2560) (13, 2560)\n",
      "-> Shape of bad data (13, 563) good data (13, 563)\n",
      "(13, 1000, 56) (13, 1000, 56)\n",
      "(1000, 56)\n",
      "[-1.9258718470642964, 1.9258718470642964] [-2.8497524594928256, 2.8497524594928256] [-4.2158464605878985, 4.2158464605878985]\n",
      "(56,) 3.87171876571 -1.43197910226\n",
      "Size of the concatenated data:  (26, 56) Number time windows :  56\n",
      "Size of label for classif:  26\n",
      "th_perm :  73.0769230769 76.9230769231 88.4615384615\n"
     ]
    },
    {
     "name": "stderr",
     "output_type": "stream",
     "text": [
      "/home/karim/anaconda3/lib/python3.5/site-packages/matplotlib/axes/_axes.py:545: UserWarning: No labelled objects found. Use label='...' kwarg on individual plots.\n",
      "  warnings.warn(\"No labelled objects found. \"\n"
     ]
    },
    {
     "name": "stdout",
     "output_type": "stream",
     "text": [
      "PIRJ Channel :  t3-t2 Label :  PIns-TTG&pIns Bad shape :  (2560, 13) Good shape :  (2560, 13)\n",
      "Setting up low-pass filter at 10 Hz\n",
      "h_trans_bandwidth chosen to be 2.5 Hz\n",
      "Filter length of 1352 samples (2.641 sec) selected\n",
      "Setting up low-pass filter at 10 Hz\n",
      "h_trans_bandwidth chosen to be 2.5 Hz\n",
      "Filter length of 1352 samples (2.641 sec) selected\n",
      "Size of filtered data bad : (13, 2560) filtered data good :  (13, 2560)\n",
      "time points :  (2560,)\n",
      "Applying baseline correction (mode: mean)\n",
      "Applying baseline correction (mode: mean)\n",
      "Size norm & filtered data 0 :  (13, 2560) (13, 2560)\n",
      "-> Shape of bad data (13, 563) good data (13, 563)\n",
      "(13, 1000, 56) (13, 1000, 56)\n",
      "(1000, 56)\n",
      "[-1.8715916483790984, 1.8715916483790984] [-2.8392110541213906, 2.8392110541213906] [-5.1396088731832883, 5.1396088731832883]\n",
      "(56,) 2.18405942469 -4.35512317609\n",
      "Size of the concatenated data:  (26, 56) Number time windows :  56\n",
      "Size of label for classif:  26\n",
      "th_perm :  73.0769230769 80.7692307692 92.3076923077\n"
     ]
    },
    {
     "name": "stderr",
     "output_type": "stream",
     "text": [
      "/home/karim/anaconda3/lib/python3.5/site-packages/matplotlib/axes/_axes.py:545: UserWarning: No labelled objects found. Use label='...' kwarg on individual plots.\n",
      "  warnings.warn(\"No labelled objects found. \"\n"
     ]
    },
    {
     "name": "stdout",
     "output_type": "stream",
     "text": [
      "PIRJ Channel :  t4-t3 Label :  pSTG&PIns-TTG Bad shape :  (2560, 13) Good shape :  (2560, 13)\n",
      "Setting up low-pass filter at 10 Hz\n",
      "h_trans_bandwidth chosen to be 2.5 Hz\n",
      "Filter length of 1352 samples (2.641 sec) selected\n",
      "Setting up low-pass filter at 10 Hz\n",
      "h_trans_bandwidth chosen to be 2.5 Hz\n",
      "Filter length of 1352 samples (2.641 sec) selected\n",
      "Size of filtered data bad : (13, 2560) filtered data good :  (13, 2560)\n",
      "time points :  (2560,)\n",
      "Applying baseline correction (mode: mean)\n",
      "Applying baseline correction (mode: mean)\n",
      "Size norm & filtered data 0 :  (13, 2560) (13, 2560)\n",
      "-> Shape of bad data (13, 563) good data (13, 563)\n",
      "(13, 1000, 56) (13, 1000, 56)\n",
      "(1000, 56)\n",
      "[-1.8640897210384586, 1.8640897210384586] [-2.7679197883727826, 2.7679197883727826] [-4.8535678315335549, 4.8535678315335549]\n",
      "(56,) 2.99215130517 -4.68667909447\n",
      "Size of the concatenated data:  (26, 56) Number time windows :  56\n",
      "Size of label for classif:  26\n",
      "th_perm :  73.0769230769 76.9230769231 88.4615384615\n"
     ]
    },
    {
     "name": "stderr",
     "output_type": "stream",
     "text": [
      "/home/karim/anaconda3/lib/python3.5/site-packages/matplotlib/axes/_axes.py:545: UserWarning: No labelled objects found. Use label='...' kwarg on individual plots.\n",
      "  warnings.warn(\"No labelled objects found. \"\n"
     ]
    },
    {
     "name": "stdout",
     "output_type": "stream",
     "text": [
      "PIRJ Channel :  t5-t4 Label :  pSTG Bad shape :  (2560, 13) Good shape :  (2560, 13)\n",
      "Setting up low-pass filter at 10 Hz\n",
      "h_trans_bandwidth chosen to be 2.5 Hz\n",
      "Filter length of 1352 samples (2.641 sec) selected\n",
      "Setting up low-pass filter at 10 Hz\n",
      "h_trans_bandwidth chosen to be 2.5 Hz\n",
      "Filter length of 1352 samples (2.641 sec) selected\n",
      "Size of filtered data bad : (13, 2560) filtered data good :  (13, 2560)\n",
      "time points :  (2560,)\n",
      "Applying baseline correction (mode: mean)\n",
      "Applying baseline correction (mode: mean)\n",
      "Size norm & filtered data 0 :  (13, 2560) (13, 2560)\n",
      "-> Shape of bad data (13, 563) good data (13, 563)\n",
      "(13, 1000, 56) (13, 1000, 56)\n",
      "(1000, 56)\n",
      "[-1.8846169037557146, 1.8846169037557146] [-2.9065458011245906, 2.9065458011245906] [-4.8670803154668647, 4.8670803154668647]\n",
      "(56,) 1.37653872452 -3.39268403251\n",
      "Size of the concatenated data:  (26, 56) Number time windows :  56\n",
      "Size of label for classif:  26\n",
      "th_perm :  69.2307692308 76.9230769231 92.3076923077\n"
     ]
    },
    {
     "name": "stderr",
     "output_type": "stream",
     "text": [
      "/home/karim/anaconda3/lib/python3.5/site-packages/matplotlib/axes/_axes.py:545: UserWarning: No labelled objects found. Use label='...' kwarg on individual plots.\n",
      "  warnings.warn(\"No labelled objects found. \"\n"
     ]
    },
    {
     "name": "stdout",
     "output_type": "stream",
     "text": [
      "PIRJ Channel :  t6-t5 Label :  pSTG Bad shape :  (2560, 13) Good shape :  (2560, 13)\n",
      "Setting up low-pass filter at 10 Hz\n",
      "h_trans_bandwidth chosen to be 2.5 Hz\n",
      "Filter length of 1352 samples (2.641 sec) selected\n",
      "Setting up low-pass filter at 10 Hz\n",
      "h_trans_bandwidth chosen to be 2.5 Hz\n",
      "Filter length of 1352 samples (2.641 sec) selected\n",
      "Size of filtered data bad : (13, 2560) filtered data good :  (13, 2560)\n",
      "time points :  (2560,)\n",
      "Applying baseline correction (mode: mean)\n",
      "Applying baseline correction (mode: mean)\n",
      "Size norm & filtered data 0 :  (13, 2560) (13, 2560)\n",
      "-> Shape of bad data (13, 563) good data (13, 563)\n",
      "(13, 1000, 56) (13, 1000, 56)\n",
      "(1000, 56)\n",
      "[-1.8327956216502748, 1.8327956216502748] [-2.6877081138305412, 2.6877081138305412] [-5.3022156685447035, 5.3022156685447035]\n",
      "(56,) 1.56584320254 -2.61400300093\n",
      "Size of the concatenated data:  (26, 56) Number time windows :  56\n",
      "Size of label for classif:  26\n",
      "th_perm :  73.0769230769 76.9230769231 92.3076923077\n"
     ]
    },
    {
     "name": "stderr",
     "output_type": "stream",
     "text": [
      "/home/karim/anaconda3/lib/python3.5/site-packages/matplotlib/axes/_axes.py:545: UserWarning: No labelled objects found. Use label='...' kwarg on individual plots.\n",
      "  warnings.warn(\"No labelled objects found. \"\n"
     ]
    },
    {
     "name": "stdout",
     "output_type": "stream",
     "text": [
      "PIRJ Channel :  t7-t6 Label :  pSTG Bad shape :  (2560, 13) Good shape :  (2560, 13)\n",
      "Setting up low-pass filter at 10 Hz\n",
      "h_trans_bandwidth chosen to be 2.5 Hz\n",
      "Filter length of 1352 samples (2.641 sec) selected\n",
      "Setting up low-pass filter at 10 Hz\n",
      "h_trans_bandwidth chosen to be 2.5 Hz\n",
      "Filter length of 1352 samples (2.641 sec) selected\n",
      "Size of filtered data bad : (13, 2560) filtered data good :  (13, 2560)\n",
      "time points :  (2560,)\n",
      "Applying baseline correction (mode: mean)\n",
      "Applying baseline correction (mode: mean)\n",
      "Size norm & filtered data 0 :  (13, 2560) (13, 2560)\n",
      "-> Shape of bad data (13, 563) good data (13, 563)\n",
      "(13, 1000, 56) (13, 1000, 56)\n",
      "(1000, 56)\n",
      "[-1.8608543035540845, 1.8608543035540845] [-2.7569262997528945, 2.7569262997528945] [-5.1144574684719712, 5.1144574684719712]\n",
      "(56,) 3.5123659194 -0.56418662317\n",
      "Size of the concatenated data:  (26, 56) Number time windows :  56\n",
      "Size of label for classif:  26\n",
      "th_perm :  69.2307692308 76.9230769231 88.4615384615\n"
     ]
    },
    {
     "name": "stderr",
     "output_type": "stream",
     "text": [
      "/home/karim/anaconda3/lib/python3.5/site-packages/matplotlib/axes/_axes.py:545: UserWarning: No labelled objects found. Use label='...' kwarg on individual plots.\n",
      "  warnings.warn(\"No labelled objects found. \"\n"
     ]
    },
    {
     "name": "stdout",
     "output_type": "stream",
     "text": [
      "PIRJ Channel :  t8-t7 Label :  pSTG Bad shape :  (2560, 13) Good shape :  (2560, 13)\n",
      "Setting up low-pass filter at 10 Hz\n",
      "h_trans_bandwidth chosen to be 2.5 Hz\n",
      "Filter length of 1352 samples (2.641 sec) selected\n",
      "Setting up low-pass filter at 10 Hz\n",
      "h_trans_bandwidth chosen to be 2.5 Hz\n",
      "Filter length of 1352 samples (2.641 sec) selected\n",
      "Size of filtered data bad : (13, 2560) filtered data good :  (13, 2560)\n",
      "time points :  (2560,)\n",
      "Applying baseline correction (mode: mean)\n",
      "Applying baseline correction (mode: mean)\n",
      "Size norm & filtered data 0 :  (13, 2560) (13, 2560)\n",
      "-> Shape of bad data (13, 563) good data (13, 563)\n",
      "(13, 1000, 56) (13, 1000, 56)\n",
      "(1000, 56)\n",
      "[-1.9052678167189856, 1.9052678167189856] [-2.781281141038797, 2.781281141038797] [-5.1313448547091127, 5.1313448547091127]\n",
      "(56,) 3.56290201923 -2.45873228179\n",
      "Size of the concatenated data:  (26, 56) Number time windows :  56\n",
      "Size of label for classif:  26\n",
      "th_perm :  73.0769230769 76.9230769231 88.4615384615\n"
     ]
    },
    {
     "name": "stderr",
     "output_type": "stream",
     "text": [
      "/home/karim/anaconda3/lib/python3.5/site-packages/matplotlib/axes/_axes.py:545: UserWarning: No labelled objects found. Use label='...' kwarg on individual plots.\n",
      "  warnings.warn(\"No labelled objects found. \"\n"
     ]
    },
    {
     "name": "stdout",
     "output_type": "stream",
     "text": [
      "PIRJ Channel :  t9-t8 Label :  pSTG-pMTG&pSTG Bad shape :  (2560, 13) Good shape :  (2560, 13)\n",
      "Setting up low-pass filter at 10 Hz\n",
      "h_trans_bandwidth chosen to be 2.5 Hz\n",
      "Filter length of 1352 samples (2.641 sec) selected\n",
      "Setting up low-pass filter at 10 Hz\n",
      "h_trans_bandwidth chosen to be 2.5 Hz\n",
      "Filter length of 1352 samples (2.641 sec) selected\n",
      "Size of filtered data bad : (13, 2560) filtered data good :  (13, 2560)\n",
      "time points :  (2560,)\n",
      "Applying baseline correction (mode: mean)\n",
      "Applying baseline correction (mode: mean)\n",
      "Size norm & filtered data 0 :  (13, 2560) (13, 2560)\n",
      "-> Shape of bad data (13, 563) good data (13, 563)\n",
      "(13, 1000, 56) (13, 1000, 56)\n",
      "(1000, 56)\n",
      "[-1.9041600702439154, 1.9041600702439154] [-2.8268100960405333, 2.8268100960405333] [-5.0886245946666673, 5.0886245946666673]\n",
      "(56,) 4.60575392951 -2.11420428384\n",
      "Size of the concatenated data:  (26, 56) Number time windows :  56\n",
      "Size of label for classif:  26\n",
      "th_perm :  73.0769230769 80.7692307692 92.3076923077\n"
     ]
    },
    {
     "name": "stderr",
     "output_type": "stream",
     "text": [
      "/home/karim/anaconda3/lib/python3.5/site-packages/matplotlib/axes/_axes.py:545: UserWarning: No labelled objects found. Use label='...' kwarg on individual plots.\n",
      "  warnings.warn(\"No labelled objects found. \"\n"
     ]
    },
    {
     "name": "stdout",
     "output_type": "stream",
     "text": [
      "PIRJ Channel :  t10-t9 Label :  pSTG-pMTG Bad shape :  (2560, 13) Good shape :  (2560, 13)\n",
      "Setting up low-pass filter at 10 Hz\n",
      "h_trans_bandwidth chosen to be 2.5 Hz\n",
      "Filter length of 1352 samples (2.641 sec) selected\n",
      "Setting up low-pass filter at 10 Hz\n",
      "h_trans_bandwidth chosen to be 2.5 Hz\n",
      "Filter length of 1352 samples (2.641 sec) selected\n",
      "Size of filtered data bad : (13, 2560) filtered data good :  (13, 2560)\n",
      "time points :  (2560,)\n",
      "Applying baseline correction (mode: mean)\n",
      "Applying baseline correction (mode: mean)\n",
      "Size norm & filtered data 0 :  (13, 2560) (13, 2560)\n",
      "-> Shape of bad data (13, 563) good data (13, 563)\n",
      "(13, 1000, 56) (13, 1000, 56)\n",
      "(1000, 56)\n",
      "[-1.9014204274646633, 1.9014204274646633] [-2.8189873566495853, 2.8189873566495853] [-5.3428794715797787, 5.3428794715797787]\n",
      "(56,) 3.09926126335 -2.58206778302\n",
      "Size of the concatenated data:  (26, 56) Number time windows :  56\n",
      "Size of label for classif:  26\n",
      "th_perm :  73.0769230769 76.9230769231 88.4615384615\n"
     ]
    },
    {
     "name": "stderr",
     "output_type": "stream",
     "text": [
      "/home/karim/anaconda3/lib/python3.5/site-packages/matplotlib/axes/_axes.py:545: UserWarning: No labelled objects found. Use label='...' kwarg on individual plots.\n",
      "  warnings.warn(\"No labelled objects found. \"\n"
     ]
    },
    {
     "name": "stdout",
     "output_type": "stream",
     "text": [
      "balanced data :  (160, 2560, 22) (160, 2560, 22)\n",
      "LEFC Channel :  a2-a1 Label :  Amg-pPirT Bad shape :  (2560, 22) Good shape :  (2560, 22)\n",
      "Setting up low-pass filter at 10 Hz\n",
      "h_trans_bandwidth chosen to be 2.5 Hz\n",
      "Filter length of 1352 samples (2.641 sec) selected\n",
      "Setting up low-pass filter at 10 Hz\n",
      "h_trans_bandwidth chosen to be 2.5 Hz\n",
      "Filter length of 1352 samples (2.641 sec) selected\n",
      "Size of filtered data bad : (22, 2560) filtered data good :  (22, 2560)\n",
      "time points :  (2560,)\n",
      "Applying baseline correction (mode: mean)\n",
      "Applying baseline correction (mode: mean)\n",
      "Size norm & filtered data 0 :  (22, 2560) (22, 2560)\n",
      "-> Shape of bad data (22, 563) good data (22, 563)\n",
      "(22, 1000, 56) (22, 1000, 56)\n",
      "(1000, 56)\n",
      "[-1.8332215685170048, 1.8332215685170048] [-2.6594346768324941, 2.6594346768324941] [-4.4575727101318821, 4.4575727101318821]\n",
      "(56,) 1.80221495339 -2.64358991483\n",
      "Size of the concatenated data:  (44, 56) Number time windows :  56\n",
      "Size of label for classif:  44\n",
      "th_perm :  65.9090909091 72.7272727273 84.0909090909\n"
     ]
    },
    {
     "name": "stderr",
     "output_type": "stream",
     "text": [
      "/home/karim/anaconda3/lib/python3.5/site-packages/matplotlib/axes/_axes.py:545: UserWarning: No labelled objects found. Use label='...' kwarg on individual plots.\n",
      "  warnings.warn(\"No labelled objects found. \"\n"
     ]
    },
    {
     "name": "stdout",
     "output_type": "stream",
     "text": [
      "LEFC Channel :  a6-a5 Label :  Ins-Ppo Bad shape :  (2560, 22) Good shape :  (2560, 22)\n",
      "Setting up low-pass filter at 10 Hz\n",
      "h_trans_bandwidth chosen to be 2.5 Hz\n",
      "Filter length of 1352 samples (2.641 sec) selected\n",
      "Setting up low-pass filter at 10 Hz\n",
      "h_trans_bandwidth chosen to be 2.5 Hz\n",
      "Filter length of 1352 samples (2.641 sec) selected\n",
      "Size of filtered data bad : (22, 2560) filtered data good :  (22, 2560)\n",
      "time points :  (2560,)\n",
      "Applying baseline correction (mode: mean)\n",
      "Applying baseline correction (mode: mean)\n",
      "Size norm & filtered data 0 :  (22, 2560) (22, 2560)\n",
      "-> Shape of bad data (22, 563) good data (22, 563)\n",
      "(22, 1000, 56) (22, 1000, 56)\n",
      "(1000, 56)\n",
      "[-1.7813077906333741, 1.7813077906333741] [-2.725088206408965, 2.725088206408965] [-4.1100282290377059, 4.1100282290377059]\n",
      "(56,) 2.10446298933 -1.82655151521\n",
      "Size of the concatenated data:  (44, 56) Number time windows :  56\n",
      "Size of label for classif:  44\n",
      "th_perm :  65.9090909091 72.7272727273 84.0909090909\n"
     ]
    },
    {
     "name": "stderr",
     "output_type": "stream",
     "text": [
      "/home/karim/anaconda3/lib/python3.5/site-packages/matplotlib/axes/_axes.py:545: UserWarning: No labelled objects found. Use label='...' kwarg on individual plots.\n",
      "  warnings.warn(\"No labelled objects found. \"\n"
     ]
    },
    {
     "name": "stdout",
     "output_type": "stream",
     "text": [
      "LEFC Channel :  a7-a6 Label :  Ins-Ppo Bad shape :  (2560, 22) Good shape :  (2560, 22)\n",
      "Setting up low-pass filter at 10 Hz\n",
      "h_trans_bandwidth chosen to be 2.5 Hz\n",
      "Filter length of 1352 samples (2.641 sec) selected\n",
      "Setting up low-pass filter at 10 Hz\n",
      "h_trans_bandwidth chosen to be 2.5 Hz\n",
      "Filter length of 1352 samples (2.641 sec) selected\n",
      "Size of filtered data bad : (22, 2560) filtered data good :  (22, 2560)\n",
      "time points :  (2560,)\n",
      "Applying baseline correction (mode: mean)\n",
      "Applying baseline correction (mode: mean)\n",
      "Size norm & filtered data 0 :  (22, 2560) (22, 2560)\n",
      "-> Shape of bad data (22, 563) good data (22, 563)\n",
      "(22, 1000, 56) (22, 1000, 56)\n",
      "(1000, 56)\n",
      "[-1.8188853878765365, 1.8188853878765365] [-2.6983618765498916, 2.6983618765498916] [-4.285267209298282, 4.285267209298282]\n",
      "(56,) 2.12100250438 -1.12317334805\n",
      "Size of the concatenated data:  (44, 56) Number time windows :  56\n",
      "Size of label for classif:  44\n",
      "th_perm :  65.9090909091 72.7272727273 86.3636363636\n"
     ]
    },
    {
     "name": "stderr",
     "output_type": "stream",
     "text": [
      "/home/karim/anaconda3/lib/python3.5/site-packages/matplotlib/axes/_axes.py:545: UserWarning: No labelled objects found. Use label='...' kwarg on individual plots.\n",
      "  warnings.warn(\"No labelled objects found. \"\n"
     ]
    },
    {
     "name": "stdout",
     "output_type": "stream",
     "text": [
      "LEFC Channel :  a8-a7 Label :  aSTG-aMTG&Ins-Ppo Bad shape :  (2560, 22) Good shape :  (2560, 22)\n",
      "Setting up low-pass filter at 10 Hz\n",
      "h_trans_bandwidth chosen to be 2.5 Hz\n",
      "Filter length of 1352 samples (2.641 sec) selected\n",
      "Setting up low-pass filter at 10 Hz\n",
      "h_trans_bandwidth chosen to be 2.5 Hz\n",
      "Filter length of 1352 samples (2.641 sec) selected\n",
      "Size of filtered data bad : (22, 2560) filtered data good :  (22, 2560)\n",
      "time points :  (2560,)\n",
      "Applying baseline correction (mode: mean)\n",
      "Applying baseline correction (mode: mean)\n",
      "Size norm & filtered data 0 :  (22, 2560) (22, 2560)\n",
      "-> Shape of bad data (22, 563) good data (22, 563)\n",
      "(22, 1000, 56) (22, 1000, 56)\n",
      "(1000, 56)\n",
      "[-1.809864879615916, 1.809864879615916] [-2.6622993118590812, 2.6622993118590812] [-4.066483214483851, 4.066483214483851]\n",
      "(56,) 2.21907569108 -2.32092704976\n",
      "Size of the concatenated data:  (44, 56) Number time windows :  56\n",
      "Size of label for classif:  44\n",
      "th_perm :  65.9090909091 70.4545454545 81.8181818182\n"
     ]
    },
    {
     "name": "stderr",
     "output_type": "stream",
     "text": [
      "/home/karim/anaconda3/lib/python3.5/site-packages/matplotlib/axes/_axes.py:545: UserWarning: No labelled objects found. Use label='...' kwarg on individual plots.\n",
      "  warnings.warn(\"No labelled objects found. \"\n"
     ]
    },
    {
     "name": "stdout",
     "output_type": "stream",
     "text": [
      "LEFC Channel :  a9-a8 Label :  aSTG-aMTG Bad shape :  (2560, 22) Good shape :  (2560, 22)\n",
      "Setting up low-pass filter at 10 Hz\n",
      "h_trans_bandwidth chosen to be 2.5 Hz\n",
      "Filter length of 1352 samples (2.641 sec) selected\n",
      "Setting up low-pass filter at 10 Hz\n",
      "h_trans_bandwidth chosen to be 2.5 Hz\n",
      "Filter length of 1352 samples (2.641 sec) selected\n",
      "Size of filtered data bad : (22, 2560) filtered data good :  (22, 2560)\n",
      "time points :  (2560,)\n",
      "Applying baseline correction (mode: mean)\n",
      "Applying baseline correction (mode: mean)\n",
      "Size norm & filtered data 0 :  (22, 2560) (22, 2560)\n",
      "-> Shape of bad data (22, 563) good data (22, 563)\n",
      "(22, 1000, 56) (22, 1000, 56)\n",
      "(1000, 56)\n",
      "[-1.8014393934100805, 1.8014393934100805] [-2.7524176998282388, 2.7524176998282388] [-4.2571190012004374, 4.2571190012004374]\n",
      "(56,) 1.15878197243 -3.14930166126\n",
      "Size of the concatenated data:  (44, 56) Number time windows :  56\n",
      "Size of label for classif:  44\n",
      "th_perm :  65.9090909091 70.4545454545 79.5454545455\n"
     ]
    },
    {
     "name": "stderr",
     "output_type": "stream",
     "text": [
      "/home/karim/anaconda3/lib/python3.5/site-packages/matplotlib/axes/_axes.py:545: UserWarning: No labelled objects found. Use label='...' kwarg on individual plots.\n",
      "  warnings.warn(\"No labelled objects found. \"\n"
     ]
    },
    {
     "name": "stdout",
     "output_type": "stream",
     "text": [
      "LEFC Channel :  a10-a9 Label :  aSTG-aMTG Bad shape :  (2560, 22) Good shape :  (2560, 22)\n",
      "Setting up low-pass filter at 10 Hz\n",
      "h_trans_bandwidth chosen to be 2.5 Hz\n",
      "Filter length of 1352 samples (2.641 sec) selected\n",
      "Setting up low-pass filter at 10 Hz\n",
      "h_trans_bandwidth chosen to be 2.5 Hz\n",
      "Filter length of 1352 samples (2.641 sec) selected\n",
      "Size of filtered data bad : (22, 2560) filtered data good :  (22, 2560)\n",
      "time points :  (2560,)\n",
      "Applying baseline correction (mode: mean)\n",
      "Applying baseline correction (mode: mean)\n",
      "Size norm & filtered data 0 :  (22, 2560) (22, 2560)\n",
      "-> Shape of bad data (22, 563) good data (22, 563)\n",
      "(22, 1000, 56) (22, 1000, 56)\n",
      "(1000, 56)\n",
      "[-1.8466634409345357, 1.8466634409345357] [-2.8405961233270016, 2.8405961233270016] [-4.5142278268073008, 4.5142278268073008]\n",
      "(56,) 2.67786791093 -0.918291003304\n",
      "Size of the concatenated data:  (44, 56) Number time windows :  56\n",
      "Size of label for classif:  44\n",
      "th_perm :  65.9090909091 70.4545454545 81.8181818182\n"
     ]
    },
    {
     "name": "stderr",
     "output_type": "stream",
     "text": [
      "/home/karim/anaconda3/lib/python3.5/site-packages/matplotlib/axes/_axes.py:545: UserWarning: No labelled objects found. Use label='...' kwarg on individual plots.\n",
      "  warnings.warn(\"No labelled objects found. \"\n"
     ]
    },
    {
     "name": "stdout",
     "output_type": "stream",
     "text": [
      "LEFC Channel :  a11-a10 Label :  aSTG-aMTG Bad shape :  (2560, 22) Good shape :  (2560, 22)\n",
      "Setting up low-pass filter at 10 Hz\n",
      "h_trans_bandwidth chosen to be 2.5 Hz\n",
      "Filter length of 1352 samples (2.641 sec) selected\n",
      "Setting up low-pass filter at 10 Hz\n",
      "h_trans_bandwidth chosen to be 2.5 Hz\n",
      "Filter length of 1352 samples (2.641 sec) selected\n",
      "Size of filtered data bad : (22, 2560) filtered data good :  (22, 2560)\n",
      "time points :  (2560,)\n",
      "Applying baseline correction (mode: mean)\n",
      "Applying baseline correction (mode: mean)\n",
      "Size norm & filtered data 0 :  (22, 2560) (22, 2560)\n",
      "-> Shape of bad data (22, 563) good data (22, 563)\n",
      "(22, 1000, 56) (22, 1000, 56)\n",
      "(1000, 56)\n",
      "[-1.8284968499463401, 1.8284968499463401] [-2.7026024403569697, 2.7026024403569697] [-4.1615397708232758, 4.1615397708232758]\n",
      "(56,) 3.02198089447 -2.49770109794\n",
      "Size of the concatenated data:  (44, 56) Number time windows :  56\n",
      "Size of label for classif:  44\n",
      "th_perm :  65.9090909091 70.4545454545 79.5454545455\n"
     ]
    },
    {
     "name": "stderr",
     "output_type": "stream",
     "text": [
      "/home/karim/anaconda3/lib/python3.5/site-packages/matplotlib/axes/_axes.py:545: UserWarning: No labelled objects found. Use label='...' kwarg on individual plots.\n",
      "  warnings.warn(\"No labelled objects found. \"\n"
     ]
    },
    {
     "name": "stdout",
     "output_type": "stream",
     "text": [
      "LEFC Channel :  a12-a11 Label :  LCR-aSTG-aMTG&aSTG-aMTG Bad shape :  (2560, 22) Good shape :  (2560, 22)\n",
      "Setting up low-pass filter at 10 Hz\n",
      "h_trans_bandwidth chosen to be 2.5 Hz\n",
      "Filter length of 1352 samples (2.641 sec) selected\n",
      "Setting up low-pass filter at 10 Hz\n",
      "h_trans_bandwidth chosen to be 2.5 Hz\n",
      "Filter length of 1352 samples (2.641 sec) selected\n",
      "Size of filtered data bad : (22, 2560) filtered data good :  (22, 2560)\n",
      "time points :  (2560,)\n",
      "Applying baseline correction (mode: mean)\n",
      "Applying baseline correction (mode: mean)\n",
      "Size norm & filtered data 0 :  (22, 2560) (22, 2560)\n",
      "-> Shape of bad data (22, 563) good data (22, 563)\n",
      "(22, 1000, 56) (22, 1000, 56)\n",
      "(1000, 56)\n",
      "[-1.9392592514424098, 1.9392592514424098] [-2.8432499736644634, 2.8432499736644634] [-4.988781475170879, 4.988781475170879]\n",
      "(56,) 2.97043792684 -2.47813561992\n",
      "Size of the concatenated data:  (44, 56) Number time windows :  56\n",
      "Size of label for classif:  44\n",
      "th_perm :  65.9090909091 70.4545454545 84.0909090909\n"
     ]
    },
    {
     "name": "stderr",
     "output_type": "stream",
     "text": [
      "/home/karim/anaconda3/lib/python3.5/site-packages/matplotlib/axes/_axes.py:545: UserWarning: No labelled objects found. Use label='...' kwarg on individual plots.\n",
      "  warnings.warn(\"No labelled objects found. \"\n"
     ]
    },
    {
     "name": "stdout",
     "output_type": "stream",
     "text": [
      "LEFC Channel :  b2-b1 Label :  mHC Bad shape :  (2560, 22) Good shape :  (2560, 22)\n",
      "Setting up low-pass filter at 10 Hz\n",
      "h_trans_bandwidth chosen to be 2.5 Hz\n",
      "Filter length of 1352 samples (2.641 sec) selected\n",
      "Setting up low-pass filter at 10 Hz\n",
      "h_trans_bandwidth chosen to be 2.5 Hz\n",
      "Filter length of 1352 samples (2.641 sec) selected\n",
      "Size of filtered data bad : (22, 2560) filtered data good :  (22, 2560)\n",
      "time points :  (2560,)\n",
      "Applying baseline correction (mode: mean)\n",
      "Applying baseline correction (mode: mean)\n",
      "Size norm & filtered data 0 :  (22, 2560) (22, 2560)\n",
      "-> Shape of bad data (22, 563) good data (22, 563)\n",
      "(22, 1000, 56) (22, 1000, 56)\n",
      "(1000, 56)\n",
      "[-1.8147154274325681, 1.8147154274325681] [-2.6199449055399717, 2.6199449055399717] [-3.76384434094469, 3.76384434094469]\n",
      "(56,) 2.05203450728 -2.24710735141\n",
      "Size of the concatenated data:  (44, 56) Number time windows :  56\n",
      "Size of label for classif:  44\n",
      "th_perm :  65.9090909091 72.7272727273 84.0909090909\n"
     ]
    },
    {
     "name": "stderr",
     "output_type": "stream",
     "text": [
      "/home/karim/anaconda3/lib/python3.5/site-packages/matplotlib/axes/_axes.py:545: UserWarning: No labelled objects found. Use label='...' kwarg on individual plots.\n",
      "  warnings.warn(\"No labelled objects found. \"\n"
     ]
    },
    {
     "name": "stdout",
     "output_type": "stream",
     "text": [
      "LEFC Channel :  b3-b2 Label :  mHC Bad shape :  (2560, 22) Good shape :  (2560, 22)\n",
      "Setting up low-pass filter at 10 Hz\n",
      "h_trans_bandwidth chosen to be 2.5 Hz\n",
      "Filter length of 1352 samples (2.641 sec) selected\n",
      "Setting up low-pass filter at 10 Hz\n",
      "h_trans_bandwidth chosen to be 2.5 Hz\n",
      "Filter length of 1352 samples (2.641 sec) selected\n",
      "Size of filtered data bad : (22, 2560) filtered data good :  (22, 2560)\n",
      "time points :  (2560,)\n",
      "Applying baseline correction (mode: mean)\n",
      "Applying baseline correction (mode: mean)\n",
      "Size norm & filtered data 0 :  (22, 2560) (22, 2560)\n",
      "-> Shape of bad data (22, 563) good data (22, 563)\n",
      "(22, 1000, 56) (22, 1000, 56)\n",
      "(1000, 56)\n",
      "[-1.8447149415041235, 1.8447149415041235] [-2.7346438647559683, 2.7346438647559683] [-4.3054006337097945, 4.3054006337097945]\n",
      "(56,) 2.10032110054 -3.05638409119\n",
      "Size of the concatenated data:  (44, 56) Number time windows :  56\n",
      "Size of label for classif:  44\n",
      "th_perm :  65.9090909091 70.4545454545 79.5454545455\n"
     ]
    },
    {
     "name": "stderr",
     "output_type": "stream",
     "text": [
      "/home/karim/anaconda3/lib/python3.5/site-packages/matplotlib/axes/_axes.py:545: UserWarning: No labelled objects found. Use label='...' kwarg on individual plots.\n",
      "  warnings.warn(\"No labelled objects found. \"\n"
     ]
    },
    {
     "name": "stdout",
     "output_type": "stream",
     "text": [
      "LEFC Channel :  b4-b3 Label :  mHC Bad shape :  (2560, 22) Good shape :  (2560, 22)\n",
      "Setting up low-pass filter at 10 Hz\n",
      "h_trans_bandwidth chosen to be 2.5 Hz\n",
      "Filter length of 1352 samples (2.641 sec) selected\n",
      "Setting up low-pass filter at 10 Hz\n",
      "h_trans_bandwidth chosen to be 2.5 Hz\n",
      "Filter length of 1352 samples (2.641 sec) selected\n",
      "Size of filtered data bad : (22, 2560) filtered data good :  (22, 2560)\n",
      "time points :  (2560,)\n",
      "Applying baseline correction (mode: mean)\n",
      "Applying baseline correction (mode: mean)\n",
      "Size norm & filtered data 0 :  (22, 2560) (22, 2560)\n",
      "-> Shape of bad data (22, 563) good data (22, 563)\n",
      "(22, 1000, 56) (22, 1000, 56)\n",
      "(1000, 56)\n",
      "[-1.8795571543139808, 1.8795571543139808] [-2.7334533610868936, 2.7334533610868936] [-4.4335917983934161, 4.4335917983934161]\n",
      "(56,) 2.2502752666 -2.22242095852\n",
      "Size of the concatenated data:  (44, 56) Number time windows :  56\n",
      "Size of label for classif:  44\n",
      "th_perm :  65.9090909091 70.4545454545 79.5454545455\n"
     ]
    },
    {
     "name": "stderr",
     "output_type": "stream",
     "text": [
      "/home/karim/anaconda3/lib/python3.5/site-packages/matplotlib/axes/_axes.py:545: UserWarning: No labelled objects found. Use label='...' kwarg on individual plots.\n",
      "  warnings.warn(\"No labelled objects found. \"\n"
     ]
    },
    {
     "name": "stdout",
     "output_type": "stream",
     "text": [
      "LEFC Channel :  b9-b8 Label :  MTG Bad shape :  (2560, 22) Good shape :  (2560, 22)\n",
      "Setting up low-pass filter at 10 Hz\n",
      "h_trans_bandwidth chosen to be 2.5 Hz\n",
      "Filter length of 1352 samples (2.641 sec) selected\n",
      "Setting up low-pass filter at 10 Hz\n",
      "h_trans_bandwidth chosen to be 2.5 Hz\n",
      "Filter length of 1352 samples (2.641 sec) selected\n",
      "Size of filtered data bad : (22, 2560) filtered data good :  (22, 2560)\n",
      "time points :  (2560,)\n",
      "Applying baseline correction (mode: mean)\n",
      "Applying baseline correction (mode: mean)\n",
      "Size norm & filtered data 0 :  (22, 2560) (22, 2560)\n",
      "-> Shape of bad data (22, 563) good data (22, 563)\n",
      "(22, 1000, 56) (22, 1000, 56)\n",
      "(1000, 56)\n",
      "[-1.825152368756179, 1.825152368756179] [-2.845967741177017, 2.845967741177017] [-4.2545449909433568, 4.2545449909433568]\n",
      "(56,) 1.20746261818 -1.52981406558\n",
      "Size of the concatenated data:  (44, 56) Number time windows :  56\n",
      "Size of label for classif:  44\n",
      "th_perm :  65.9090909091 70.4545454545 84.0909090909\n"
     ]
    },
    {
     "name": "stderr",
     "output_type": "stream",
     "text": [
      "/home/karim/anaconda3/lib/python3.5/site-packages/matplotlib/axes/_axes.py:545: UserWarning: No labelled objects found. Use label='...' kwarg on individual plots.\n",
      "  warnings.warn(\"No labelled objects found. \"\n"
     ]
    },
    {
     "name": "stdout",
     "output_type": "stream",
     "text": [
      "LEFC Channel :  b10-b9 Label :  MTG Bad shape :  (2560, 22) Good shape :  (2560, 22)\n",
      "Setting up low-pass filter at 10 Hz\n",
      "h_trans_bandwidth chosen to be 2.5 Hz\n",
      "Filter length of 1352 samples (2.641 sec) selected\n",
      "Setting up low-pass filter at 10 Hz\n",
      "h_trans_bandwidth chosen to be 2.5 Hz\n",
      "Filter length of 1352 samples (2.641 sec) selected\n",
      "Size of filtered data bad : (22, 2560) filtered data good :  (22, 2560)\n",
      "time points :  (2560,)\n",
      "Applying baseline correction (mode: mean)\n",
      "Applying baseline correction (mode: mean)\n",
      "Size norm & filtered data 0 :  (22, 2560) (22, 2560)\n",
      "-> Shape of bad data (22, 563) good data (22, 563)\n",
      "(22, 1000, 56) (22, 1000, 56)\n",
      "(1000, 56)\n",
      "[-1.8039059038775072, 1.8039059038775072] [-2.6905536654449578, 2.6905536654449578] [-5.0950488333082147, 5.0950488333082147]\n",
      "(56,) 1.54091497016 -0.350044440159\n",
      "Size of the concatenated data:  (44, 56) Number time windows :  56\n",
      "Size of label for classif:  44\n",
      "th_perm :  65.9090909091 70.4545454545 84.0909090909\n"
     ]
    },
    {
     "name": "stderr",
     "output_type": "stream",
     "text": [
      "/home/karim/anaconda3/lib/python3.5/site-packages/matplotlib/axes/_axes.py:545: UserWarning: No labelled objects found. Use label='...' kwarg on individual plots.\n",
      "  warnings.warn(\"No labelled objects found. \"\n"
     ]
    },
    {
     "name": "stdout",
     "output_type": "stream",
     "text": [
      "LEFC Channel :  b11-b10 Label :  MTG Bad shape :  (2560, 22) Good shape :  (2560, 22)\n",
      "Setting up low-pass filter at 10 Hz\n",
      "h_trans_bandwidth chosen to be 2.5 Hz\n",
      "Filter length of 1352 samples (2.641 sec) selected\n",
      "Setting up low-pass filter at 10 Hz\n",
      "h_trans_bandwidth chosen to be 2.5 Hz\n",
      "Filter length of 1352 samples (2.641 sec) selected\n",
      "Size of filtered data bad : (22, 2560) filtered data good :  (22, 2560)\n",
      "time points :  (2560,)\n",
      "Applying baseline correction (mode: mean)\n",
      "Applying baseline correction (mode: mean)\n",
      "Size norm & filtered data 0 :  (22, 2560) (22, 2560)\n",
      "-> Shape of bad data (22, 563) good data (22, 563)\n",
      "(22, 1000, 56) (22, 1000, 56)\n",
      "(1000, 56)\n",
      "[-1.8487163025469089, 1.8487163025469089] [-2.718559906583156, 2.718559906583156] [-4.1121888148962169, 4.1121888148962169]\n",
      "(56,) 1.94034465855 -1.95705555632\n",
      "Size of the concatenated data:  (44, 56) Number time windows :  56\n",
      "Size of label for classif:  44\n",
      "th_perm :  65.9090909091 72.7272727273 81.8181818182\n"
     ]
    },
    {
     "name": "stderr",
     "output_type": "stream",
     "text": [
      "/home/karim/anaconda3/lib/python3.5/site-packages/matplotlib/axes/_axes.py:545: UserWarning: No labelled objects found. Use label='...' kwarg on individual plots.\n",
      "  warnings.warn(\"No labelled objects found. \"\n"
     ]
    },
    {
     "name": "stdout",
     "output_type": "stream",
     "text": [
      "LEFC Channel :  b12-b11 Label :  LCR-MTG&MTG Bad shape :  (2560, 22) Good shape :  (2560, 22)\n",
      "Setting up low-pass filter at 10 Hz\n",
      "h_trans_bandwidth chosen to be 2.5 Hz\n",
      "Filter length of 1352 samples (2.641 sec) selected\n",
      "Setting up low-pass filter at 10 Hz\n",
      "h_trans_bandwidth chosen to be 2.5 Hz\n",
      "Filter length of 1352 samples (2.641 sec) selected\n",
      "Size of filtered data bad : (22, 2560) filtered data good :  (22, 2560)\n",
      "time points :  (2560,)\n",
      "Applying baseline correction (mode: mean)\n",
      "Applying baseline correction (mode: mean)\n",
      "Size norm & filtered data 0 :  (22, 2560) (22, 2560)\n",
      "-> Shape of bad data (22, 563) good data (22, 563)\n",
      "(22, 1000, 56) (22, 1000, 56)\n",
      "(1000, 56)\n",
      "[-1.8141808421521644, 1.8141808421521644] [-2.6991308670393375, 2.6991308670393375] [-3.9574608762506958, 3.9574608762506958]\n",
      "(56,) 2.13117730084 -1.42677496601\n",
      "Size of the concatenated data:  (44, 56) Number time windows :  56\n",
      "Size of label for classif:  44\n",
      "th_perm :  65.9090909091 70.4545454545 84.0909090909\n"
     ]
    },
    {
     "name": "stderr",
     "output_type": "stream",
     "text": [
      "/home/karim/anaconda3/lib/python3.5/site-packages/matplotlib/axes/_axes.py:545: UserWarning: No labelled objects found. Use label='...' kwarg on individual plots.\n",
      "  warnings.warn(\"No labelled objects found. \"\n"
     ]
    },
    {
     "name": "stdout",
     "output_type": "stream",
     "text": [
      "LEFC Channel :  d2-d1 Label :  EC-aHC Bad shape :  (2560, 22) Good shape :  (2560, 22)\n",
      "Setting up low-pass filter at 10 Hz\n",
      "h_trans_bandwidth chosen to be 2.5 Hz\n",
      "Filter length of 1352 samples (2.641 sec) selected\n",
      "Setting up low-pass filter at 10 Hz\n",
      "h_trans_bandwidth chosen to be 2.5 Hz\n",
      "Filter length of 1352 samples (2.641 sec) selected\n",
      "Size of filtered data bad : (22, 2560) filtered data good :  (22, 2560)\n",
      "time points :  (2560,)\n",
      "Applying baseline correction (mode: mean)\n",
      "Applying baseline correction (mode: mean)\n",
      "Size norm & filtered data 0 :  (22, 2560) (22, 2560)\n",
      "-> Shape of bad data (22, 563) good data (22, 563)\n",
      "(22, 1000, 56) (22, 1000, 56)\n",
      "(1000, 56)\n",
      "[-1.8240103613364231, 1.8240103613364231] [-2.6470455197313787, 2.6470455197313787] [-4.9164843485925811, 4.9164843485925811]\n",
      "(56,) 1.40670346154 -2.35660915311\n",
      "Size of the concatenated data:  (44, 56) Number time windows :  56\n",
      "Size of label for classif:  44\n",
      "th_perm :  65.9090909091 72.7272727273 81.8181818182\n"
     ]
    },
    {
     "name": "stderr",
     "output_type": "stream",
     "text": [
      "/home/karim/anaconda3/lib/python3.5/site-packages/matplotlib/axes/_axes.py:545: UserWarning: No labelled objects found. Use label='...' kwarg on individual plots.\n",
      "  warnings.warn(\"No labelled objects found. \"\n"
     ]
    },
    {
     "name": "stdout",
     "output_type": "stream",
     "text": [
      "LEFC Channel :  d3-d2 Label :  EC-aPHG-aHC&EC-aHC Bad shape :  (2560, 22) Good shape :  (2560, 22)\n",
      "Setting up low-pass filter at 10 Hz\n",
      "h_trans_bandwidth chosen to be 2.5 Hz\n",
      "Filter length of 1352 samples (2.641 sec) selected\n",
      "Setting up low-pass filter at 10 Hz\n",
      "h_trans_bandwidth chosen to be 2.5 Hz\n",
      "Filter length of 1352 samples (2.641 sec) selected\n",
      "Size of filtered data bad : (22, 2560) filtered data good :  (22, 2560)\n",
      "time points :  (2560,)\n",
      "Applying baseline correction (mode: mean)\n",
      "Applying baseline correction (mode: mean)\n",
      "Size norm & filtered data 0 :  (22, 2560) (22, 2560)\n",
      "-> Shape of bad data (22, 563) good data (22, 563)\n",
      "(22, 1000, 56) (22, 1000, 56)\n",
      "(1000, 56)\n",
      "[-1.7787889605917171, 1.7787889605917171] [-2.6464889913405605, 2.6464889913405605] [-4.0301174484083848, 4.0301174484083848]\n",
      "(56,) 2.26545749663 -2.54201953547\n",
      "Size of the concatenated data:  (44, 56) Number time windows :  56\n",
      "Size of label for classif:  44\n",
      "th_perm :  68.1818181818 72.7272727273 79.5454545455\n"
     ]
    },
    {
     "name": "stderr",
     "output_type": "stream",
     "text": [
      "/home/karim/anaconda3/lib/python3.5/site-packages/matplotlib/axes/_axes.py:545: UserWarning: No labelled objects found. Use label='...' kwarg on individual plots.\n",
      "  warnings.warn(\"No labelled objects found. \"\n"
     ]
    },
    {
     "name": "stdout",
     "output_type": "stream",
     "text": [
      "LEFC Channel :  d4-d3 Label :  aPHG-aHC&EC-aPHG-aHC Bad shape :  (2560, 22) Good shape :  (2560, 22)\n",
      "Setting up low-pass filter at 10 Hz\n",
      "h_trans_bandwidth chosen to be 2.5 Hz\n",
      "Filter length of 1352 samples (2.641 sec) selected\n",
      "Setting up low-pass filter at 10 Hz\n",
      "h_trans_bandwidth chosen to be 2.5 Hz\n",
      "Filter length of 1352 samples (2.641 sec) selected\n",
      "Size of filtered data bad : (22, 2560) filtered data good :  (22, 2560)\n",
      "time points :  (2560,)\n",
      "Applying baseline correction (mode: mean)\n",
      "Applying baseline correction (mode: mean)\n",
      "Size norm & filtered data 0 :  (22, 2560) (22, 2560)\n",
      "-> Shape of bad data (22, 563) good data (22, 563)\n",
      "(22, 1000, 56) (22, 1000, 56)\n",
      "(1000, 56)\n",
      "[-1.7776450043510343, 1.7776450043510343] [-2.7180812002009906, 2.7180812002009906] [-4.5780132046461235, 4.5780132046461235]\n",
      "(56,) 2.75520002213 -1.53399836212\n",
      "Size of the concatenated data:  (44, 56) Number time windows :  56\n",
      "Size of label for classif:  44\n",
      "th_perm :  65.9090909091 70.4545454545 81.8181818182\n"
     ]
    },
    {
     "name": "stderr",
     "output_type": "stream",
     "text": [
      "/home/karim/anaconda3/lib/python3.5/site-packages/matplotlib/axes/_axes.py:545: UserWarning: No labelled objects found. Use label='...' kwarg on individual plots.\n",
      "  warnings.warn(\"No labelled objects found. \"\n"
     ]
    },
    {
     "name": "stdout",
     "output_type": "stream",
     "text": [
      "LEFC Channel :  d5-d4 Label :  aPHG-aHC-FuG&aPHG-aHC Bad shape :  (2560, 22) Good shape :  (2560, 22)\n",
      "Setting up low-pass filter at 10 Hz\n",
      "h_trans_bandwidth chosen to be 2.5 Hz\n",
      "Filter length of 1352 samples (2.641 sec) selected\n",
      "Setting up low-pass filter at 10 Hz\n",
      "h_trans_bandwidth chosen to be 2.5 Hz\n",
      "Filter length of 1352 samples (2.641 sec) selected\n",
      "Size of filtered data bad : (22, 2560) filtered data good :  (22, 2560)\n",
      "time points :  (2560,)\n",
      "Applying baseline correction (mode: mean)\n",
      "Applying baseline correction (mode: mean)\n",
      "Size norm & filtered data 0 :  (22, 2560) (22, 2560)\n",
      "-> Shape of bad data (22, 563) good data (22, 563)\n",
      "(22, 1000, 56) (22, 1000, 56)\n",
      "(1000, 56)\n",
      "[-1.838304620530552, 1.838304620530552] [-2.8047942232789231, 2.8047942232789231] [-4.4478935580594401, 4.4478935580594401]\n",
      "(56,) 1.67188173135 -3.2481675388\n",
      "Size of the concatenated data:  (44, 56) Number time windows :  56\n",
      "Size of label for classif:  44\n",
      "th_perm :  65.9090909091 70.4545454545 84.0909090909\n"
     ]
    },
    {
     "name": "stderr",
     "output_type": "stream",
     "text": [
      "/home/karim/anaconda3/lib/python3.5/site-packages/matplotlib/axes/_axes.py:545: UserWarning: No labelled objects found. Use label='...' kwarg on individual plots.\n",
      "  warnings.warn(\"No labelled objects found. \"\n"
     ]
    },
    {
     "name": "stdout",
     "output_type": "stream",
     "text": [
      "LEFC Channel :  d6-d5 Label :  aPHG-aHC-FuG Bad shape :  (2560, 22) Good shape :  (2560, 22)\n",
      "Setting up low-pass filter at 10 Hz\n",
      "h_trans_bandwidth chosen to be 2.5 Hz\n",
      "Filter length of 1352 samples (2.641 sec) selected\n",
      "Setting up low-pass filter at 10 Hz\n",
      "h_trans_bandwidth chosen to be 2.5 Hz\n",
      "Filter length of 1352 samples (2.641 sec) selected\n",
      "Size of filtered data bad : (22, 2560) filtered data good :  (22, 2560)\n",
      "time points :  (2560,)\n",
      "Applying baseline correction (mode: mean)\n",
      "Applying baseline correction (mode: mean)\n",
      "Size norm & filtered data 0 :  (22, 2560) (22, 2560)\n",
      "-> Shape of bad data (22, 563) good data (22, 563)\n",
      "(22, 1000, 56) (22, 1000, 56)\n",
      "(1000, 56)\n",
      "[-1.8257348636159347, 1.8257348636159347] [-2.9529019109844277, 2.9529019109844277] [-4.7442122454874909, 4.7442122454874909]\n",
      "(56,) 1.66845388257 -0.666437885833\n",
      "Size of the concatenated data:  (44, 56) Number time windows :  56\n",
      "Size of label for classif:  44\n",
      "th_perm :  65.9090909091 70.4545454545 84.0909090909\n"
     ]
    },
    {
     "name": "stderr",
     "output_type": "stream",
     "text": [
      "/home/karim/anaconda3/lib/python3.5/site-packages/matplotlib/axes/_axes.py:545: UserWarning: No labelled objects found. Use label='...' kwarg on individual plots.\n",
      "  warnings.warn(\"No labelled objects found. \"\n"
     ]
    },
    {
     "name": "stdout",
     "output_type": "stream",
     "text": [
      "LEFC Channel :  d7-d6 Label :  FuG-aITG&aPHG-aHC-FuG Bad shape :  (2560, 22) Good shape :  (2560, 22)\n",
      "Setting up low-pass filter at 10 Hz\n",
      "h_trans_bandwidth chosen to be 2.5 Hz\n",
      "Filter length of 1352 samples (2.641 sec) selected\n",
      "Setting up low-pass filter at 10 Hz\n",
      "h_trans_bandwidth chosen to be 2.5 Hz\n",
      "Filter length of 1352 samples (2.641 sec) selected\n",
      "Size of filtered data bad : (22, 2560) filtered data good :  (22, 2560)\n",
      "time points :  (2560,)\n",
      "Applying baseline correction (mode: mean)\n",
      "Applying baseline correction (mode: mean)\n",
      "Size norm & filtered data 0 :  (22, 2560) (22, 2560)\n",
      "-> Shape of bad data (22, 563) good data (22, 563)\n",
      "(22, 1000, 56) (22, 1000, 56)\n",
      "(1000, 56)\n",
      "[-1.83435388263846, 1.83435388263846] [-2.5840355988196553, 2.5840355988196553] [-4.3893836242800628, 4.3893836242800628]\n",
      "(56,) 0.963074138705 -1.27599459296\n",
      "Size of the concatenated data:  (44, 56) Number time windows :  56\n",
      "Size of label for classif:  44\n",
      "th_perm :  65.9090909091 70.4545454545 81.8181818182\n"
     ]
    },
    {
     "name": "stderr",
     "output_type": "stream",
     "text": [
      "/home/karim/anaconda3/lib/python3.5/site-packages/matplotlib/axes/_axes.py:545: UserWarning: No labelled objects found. Use label='...' kwarg on individual plots.\n",
      "  warnings.warn(\"No labelled objects found. \"\n"
     ]
    },
    {
     "name": "stdout",
     "output_type": "stream",
     "text": [
      "LEFC Channel :  d8-d7 Label :  FuG-aITG Bad shape :  (2560, 22) Good shape :  (2560, 22)\n",
      "Setting up low-pass filter at 10 Hz\n",
      "h_trans_bandwidth chosen to be 2.5 Hz\n",
      "Filter length of 1352 samples (2.641 sec) selected\n",
      "Setting up low-pass filter at 10 Hz\n",
      "h_trans_bandwidth chosen to be 2.5 Hz\n",
      "Filter length of 1352 samples (2.641 sec) selected\n",
      "Size of filtered data bad : (22, 2560) filtered data good :  (22, 2560)\n",
      "time points :  (2560,)\n",
      "Applying baseline correction (mode: mean)\n",
      "Applying baseline correction (mode: mean)\n",
      "Size norm & filtered data 0 :  (22, 2560) (22, 2560)\n",
      "-> Shape of bad data (22, 563) good data (22, 563)\n",
      "(22, 1000, 56) (22, 1000, 56)\n",
      "(1000, 56)\n",
      "[-1.8306915711779095, 1.8306915711779095] [-2.8637883658088392, 2.8637883658088392] [-4.3628795580822448, 4.3628795580822448]\n",
      "(56,) 1.91486682084 -0.494755400023\n",
      "Size of the concatenated data:  (44, 56) Number time windows :  56\n",
      "Size of label for classif:  44\n",
      "th_perm :  65.9090909091 70.4545454545 79.5454545455\n"
     ]
    },
    {
     "name": "stderr",
     "output_type": "stream",
     "text": [
      "/home/karim/anaconda3/lib/python3.5/site-packages/matplotlib/axes/_axes.py:545: UserWarning: No labelled objects found. Use label='...' kwarg on individual plots.\n",
      "  warnings.warn(\"No labelled objects found. \"\n"
     ]
    },
    {
     "name": "stdout",
     "output_type": "stream",
     "text": [
      "LEFC Channel :  d9-d8 Label :  aITG-aMTG&FuG-aITG Bad shape :  (2560, 22) Good shape :  (2560, 22)\n",
      "Setting up low-pass filter at 10 Hz\n",
      "h_trans_bandwidth chosen to be 2.5 Hz\n",
      "Filter length of 1352 samples (2.641 sec) selected\n",
      "Setting up low-pass filter at 10 Hz\n",
      "h_trans_bandwidth chosen to be 2.5 Hz\n",
      "Filter length of 1352 samples (2.641 sec) selected\n",
      "Size of filtered data bad : (22, 2560) filtered data good :  (22, 2560)\n",
      "time points :  (2560,)\n",
      "Applying baseline correction (mode: mean)\n",
      "Applying baseline correction (mode: mean)\n",
      "Size norm & filtered data 0 :  (22, 2560) (22, 2560)\n",
      "-> Shape of bad data (22, 563) good data (22, 563)\n",
      "(22, 1000, 56) (22, 1000, 56)\n",
      "(1000, 56)\n",
      "[-1.8142985796405129, 1.8142985796405129] [-2.620862735156583, 2.620862735156583] [-4.4588720054537738, 4.4588720054537738]\n",
      "(56,) 3.83072919952 -3.60827687569\n",
      "Size of the concatenated data:  (44, 56) Number time windows :  56\n",
      "Size of label for classif:  44\n",
      "th_perm :  65.9090909091 70.4545454545 81.8181818182\n"
     ]
    },
    {
     "name": "stderr",
     "output_type": "stream",
     "text": [
      "/home/karim/anaconda3/lib/python3.5/site-packages/matplotlib/axes/_axes.py:545: UserWarning: No labelled objects found. Use label='...' kwarg on individual plots.\n",
      "  warnings.warn(\"No labelled objects found. \"\n"
     ]
    },
    {
     "name": "stdout",
     "output_type": "stream",
     "text": [
      "LEFC Channel :  d10-d9 Label :  aITG-aMTG Bad shape :  (2560, 22) Good shape :  (2560, 22)\n",
      "Setting up low-pass filter at 10 Hz\n",
      "h_trans_bandwidth chosen to be 2.5 Hz\n",
      "Filter length of 1352 samples (2.641 sec) selected\n",
      "Setting up low-pass filter at 10 Hz\n",
      "h_trans_bandwidth chosen to be 2.5 Hz\n",
      "Filter length of 1352 samples (2.641 sec) selected\n",
      "Size of filtered data bad : (22, 2560) filtered data good :  (22, 2560)\n",
      "time points :  (2560,)\n",
      "Applying baseline correction (mode: mean)\n",
      "Applying baseline correction (mode: mean)\n",
      "Size norm & filtered data 0 :  (22, 2560) (22, 2560)\n",
      "-> Shape of bad data (22, 563) good data (22, 563)\n",
      "(22, 1000, 56) (22, 1000, 56)\n",
      "(1000, 56)\n",
      "[-1.7701729599545881, 1.7701729599545881] [-2.6743866166728161, 2.6743866166728161] [-4.8006225648849128, 4.8006225648849128]\n",
      "(56,) 2.75457401123 -3.02148050651\n",
      "Size of the concatenated data:  (44, 56) Number time windows :  56\n",
      "Size of label for classif:  44\n",
      "th_perm :  65.9090909091 72.7272727273 81.8181818182\n"
     ]
    },
    {
     "name": "stderr",
     "output_type": "stream",
     "text": [
      "/home/karim/anaconda3/lib/python3.5/site-packages/matplotlib/axes/_axes.py:545: UserWarning: No labelled objects found. Use label='...' kwarg on individual plots.\n",
      "  warnings.warn(\"No labelled objects found. \"\n"
     ]
    },
    {
     "name": "stdout",
     "output_type": "stream",
     "text": [
      "LEFC Channel :  d11-d10 Label :  aITG-aMTG Bad shape :  (2560, 22) Good shape :  (2560, 22)\n",
      "Setting up low-pass filter at 10 Hz\n",
      "h_trans_bandwidth chosen to be 2.5 Hz\n",
      "Filter length of 1352 samples (2.641 sec) selected\n",
      "Setting up low-pass filter at 10 Hz\n",
      "h_trans_bandwidth chosen to be 2.5 Hz\n",
      "Filter length of 1352 samples (2.641 sec) selected\n",
      "Size of filtered data bad : (22, 2560) filtered data good :  (22, 2560)\n",
      "time points :  (2560,)\n",
      "Applying baseline correction (mode: mean)\n",
      "Applying baseline correction (mode: mean)\n",
      "Size norm & filtered data 0 :  (22, 2560) (22, 2560)\n",
      "-> Shape of bad data (22, 563) good data (22, 563)\n",
      "(22, 1000, 56) (22, 1000, 56)\n",
      "(1000, 56)\n",
      "[-1.7646402243019326, 1.7646402243019326] [-2.760996529772719, 2.760996529772719] [-4.6890751847308083, 4.6890751847308083]\n",
      "(56,) 2.14978718093 -3.70460316242\n",
      "Size of the concatenated data:  (44, 56) Number time windows :  56\n",
      "Size of label for classif:  44\n",
      "th_perm :  65.9090909091 72.7272727273 79.5454545455\n"
     ]
    },
    {
     "name": "stderr",
     "output_type": "stream",
     "text": [
      "/home/karim/anaconda3/lib/python3.5/site-packages/matplotlib/axes/_axes.py:545: UserWarning: No labelled objects found. Use label='...' kwarg on individual plots.\n",
      "  warnings.warn(\"No labelled objects found. \"\n"
     ]
    },
    {
     "name": "stdout",
     "output_type": "stream",
     "text": [
      "LEFC Channel :  d12-d11 Label :  LCR-aMTG&aITG-aMTG Bad shape :  (2560, 22) Good shape :  (2560, 22)\n",
      "Setting up low-pass filter at 10 Hz\n",
      "h_trans_bandwidth chosen to be 2.5 Hz\n",
      "Filter length of 1352 samples (2.641 sec) selected\n",
      "Setting up low-pass filter at 10 Hz\n",
      "h_trans_bandwidth chosen to be 2.5 Hz\n",
      "Filter length of 1352 samples (2.641 sec) selected\n",
      "Size of filtered data bad : (22, 2560) filtered data good :  (22, 2560)\n",
      "time points :  (2560,)\n",
      "Applying baseline correction (mode: mean)\n",
      "Applying baseline correction (mode: mean)\n",
      "Size norm & filtered data 0 :  (22, 2560) (22, 2560)\n",
      "-> Shape of bad data (22, 563) good data (22, 563)\n",
      "(22, 1000, 56) (22, 1000, 56)\n",
      "(1000, 56)\n",
      "[-1.8015516622625101, 1.8015516622625101] [-2.7133518424514578, 2.7133518424514578] [-4.1553417112670843, 4.1553417112670843]\n",
      "(56,) 3.33747117086 -0.98550619383\n",
      "Size of the concatenated data:  (44, 56) Number time windows :  56\n",
      "Size of label for classif:  44\n",
      "th_perm :  65.9090909091 70.4545454545 81.8181818182\n"
     ]
    },
    {
     "name": "stderr",
     "output_type": "stream",
     "text": [
      "/home/karim/anaconda3/lib/python3.5/site-packages/matplotlib/axes/_axes.py:545: UserWarning: No labelled objects found. Use label='...' kwarg on individual plots.\n",
      "  warnings.warn(\"No labelled objects found. \"\n"
     ]
    },
    {
     "name": "stdout",
     "output_type": "stream",
     "text": [
      "LEFC Channel :  g2-g1 Label :  RSC Bad shape :  (2560, 22) Good shape :  (2560, 22)\n",
      "Setting up low-pass filter at 10 Hz\n",
      "h_trans_bandwidth chosen to be 2.5 Hz\n",
      "Filter length of 1352 samples (2.641 sec) selected\n",
      "Setting up low-pass filter at 10 Hz\n",
      "h_trans_bandwidth chosen to be 2.5 Hz\n",
      "Filter length of 1352 samples (2.641 sec) selected\n",
      "Size of filtered data bad : (22, 2560) filtered data good :  (22, 2560)\n",
      "time points :  (2560,)\n",
      "Applying baseline correction (mode: mean)\n",
      "Applying baseline correction (mode: mean)\n",
      "Size norm & filtered data 0 :  (22, 2560) (22, 2560)\n",
      "-> Shape of bad data (22, 563) good data (22, 563)\n",
      "(22, 1000, 56) (22, 1000, 56)\n",
      "(1000, 56)\n",
      "[-1.8739653117098103, 1.8739653117098103] [-2.9172222983149569, 2.9172222983149569] [-4.6476555314331858, 4.6476555314331858]\n",
      "(56,) 1.30556182074 -1.36001252708\n",
      "Size of the concatenated data:  (44, 56) Number time windows :  56\n",
      "Size of label for classif:  44\n",
      "th_perm :  65.9090909091 70.4545454545 84.0909090909\n"
     ]
    },
    {
     "name": "stderr",
     "output_type": "stream",
     "text": [
      "/home/karim/anaconda3/lib/python3.5/site-packages/matplotlib/axes/_axes.py:545: UserWarning: No labelled objects found. Use label='...' kwarg on individual plots.\n",
      "  warnings.warn(\"No labelled objects found. \"\n"
     ]
    },
    {
     "name": "stdout",
     "output_type": "stream",
     "text": [
      "LEFC Channel :  g3-g2 Label :  RSC Bad shape :  (2560, 22) Good shape :  (2560, 22)\n",
      "Setting up low-pass filter at 10 Hz\n",
      "h_trans_bandwidth chosen to be 2.5 Hz\n",
      "Filter length of 1352 samples (2.641 sec) selected\n",
      "Setting up low-pass filter at 10 Hz\n",
      "h_trans_bandwidth chosen to be 2.5 Hz\n",
      "Filter length of 1352 samples (2.641 sec) selected\n",
      "Size of filtered data bad : (22, 2560) filtered data good :  (22, 2560)\n",
      "time points :  (2560,)\n",
      "Applying baseline correction (mode: mean)\n",
      "Applying baseline correction (mode: mean)\n",
      "Size norm & filtered data 0 :  (22, 2560) (22, 2560)\n",
      "-> Shape of bad data (22, 563) good data (22, 563)\n",
      "(22, 1000, 56) (22, 1000, 56)\n",
      "(1000, 56)\n",
      "[-1.7791500864243144, 1.7791500864243144] [-2.8005253158757917, 2.8005253158757917] [-5.0973772834275053, 5.0973772834275053]\n",
      "(56,) 2.43259035645 -1.75440415859\n",
      "Size of the concatenated data:  (44, 56) Number time windows :  56\n",
      "Size of label for classif:  44\n",
      "th_perm :  65.9090909091 72.7272727273 81.8181818182\n"
     ]
    },
    {
     "name": "stderr",
     "output_type": "stream",
     "text": [
      "/home/karim/anaconda3/lib/python3.5/site-packages/matplotlib/axes/_axes.py:545: UserWarning: No labelled objects found. Use label='...' kwarg on individual plots.\n",
      "  warnings.warn(\"No labelled objects found. \"\n"
     ]
    },
    {
     "name": "stdout",
     "output_type": "stream",
     "text": [
      "LEFC Channel :  g4-g3 Label :  RSC Bad shape :  (2560, 22) Good shape :  (2560, 22)\n",
      "Setting up low-pass filter at 10 Hz\n",
      "h_trans_bandwidth chosen to be 2.5 Hz\n",
      "Filter length of 1352 samples (2.641 sec) selected\n",
      "Setting up low-pass filter at 10 Hz\n",
      "h_trans_bandwidth chosen to be 2.5 Hz\n",
      "Filter length of 1352 samples (2.641 sec) selected\n",
      "Size of filtered data bad : (22, 2560) filtered data good :  (22, 2560)\n",
      "time points :  (2560,)\n",
      "Applying baseline correction (mode: mean)\n",
      "Applying baseline correction (mode: mean)\n",
      "Size norm & filtered data 0 :  (22, 2560) (22, 2560)\n",
      "-> Shape of bad data (22, 563) good data (22, 563)\n",
      "(22, 1000, 56) (22, 1000, 56)\n",
      "(1000, 56)\n",
      "[-1.8063372580533581, 1.8063372580533581] [-2.6583200192792735, 2.6583200192792735] [-4.2664237642950269, 4.2664237642950269]\n",
      "(56,) 1.54977390243 -2.53655914544\n",
      "Size of the concatenated data:  (44, 56) Number time windows :  56\n",
      "Size of label for classif:  44\n",
      "th_perm :  65.9090909091 70.4545454545 88.6363636364\n"
     ]
    },
    {
     "name": "stderr",
     "output_type": "stream",
     "text": [
      "/home/karim/anaconda3/lib/python3.5/site-packages/matplotlib/axes/_axes.py:545: UserWarning: No labelled objects found. Use label='...' kwarg on individual plots.\n",
      "  warnings.warn(\"No labelled objects found. \"\n"
     ]
    },
    {
     "name": "stdout",
     "output_type": "stream",
     "text": [
      "LEFC Channel :  g5-g4 Label :  RSC Bad shape :  (2560, 22) Good shape :  (2560, 22)\n",
      "Setting up low-pass filter at 10 Hz\n",
      "h_trans_bandwidth chosen to be 2.5 Hz\n",
      "Filter length of 1352 samples (2.641 sec) selected\n",
      "Setting up low-pass filter at 10 Hz\n",
      "h_trans_bandwidth chosen to be 2.5 Hz\n",
      "Filter length of 1352 samples (2.641 sec) selected\n",
      "Size of filtered data bad : (22, 2560) filtered data good :  (22, 2560)\n",
      "time points :  (2560,)\n",
      "Applying baseline correction (mode: mean)\n",
      "Applying baseline correction (mode: mean)\n",
      "Size norm & filtered data 0 :  (22, 2560) (22, 2560)\n",
      "-> Shape of bad data (22, 563) good data (22, 563)\n",
      "(22, 1000, 56) (22, 1000, 56)\n",
      "(1000, 56)\n",
      "[-1.8638905312884706, 1.8638905312884706] [-2.7740518717600753, 2.7740518717600753] [-4.5832435686460657, 4.5832435686460657]\n",
      "(56,) 1.45113318485 -3.07790975526\n",
      "Size of the concatenated data:  (44, 56) Number time windows :  56\n",
      "Size of label for classif:  44\n",
      "th_perm :  65.9090909091 70.4545454545 81.8181818182\n"
     ]
    },
    {
     "name": "stderr",
     "output_type": "stream",
     "text": [
      "/home/karim/anaconda3/lib/python3.5/site-packages/matplotlib/axes/_axes.py:545: UserWarning: No labelled objects found. Use label='...' kwarg on individual plots.\n",
      "  warnings.warn(\"No labelled objects found. \"\n"
     ]
    },
    {
     "name": "stdout",
     "output_type": "stream",
     "text": [
      "LEFC Channel :  g6-g5 Label :  SMG&RSC Bad shape :  (2560, 22) Good shape :  (2560, 22)\n",
      "Setting up low-pass filter at 10 Hz\n",
      "h_trans_bandwidth chosen to be 2.5 Hz\n",
      "Filter length of 1352 samples (2.641 sec) selected\n",
      "Setting up low-pass filter at 10 Hz\n",
      "h_trans_bandwidth chosen to be 2.5 Hz\n",
      "Filter length of 1352 samples (2.641 sec) selected\n",
      "Size of filtered data bad : (22, 2560) filtered data good :  (22, 2560)\n",
      "time points :  (2560,)\n",
      "Applying baseline correction (mode: mean)\n",
      "Applying baseline correction (mode: mean)\n",
      "Size norm & filtered data 0 :  (22, 2560) (22, 2560)\n",
      "-> Shape of bad data (22, 563) good data (22, 563)\n",
      "(22, 1000, 56) (22, 1000, 56)\n",
      "(1000, 56)\n",
      "[-1.8852692440567578, 1.8852692440567578] [-2.9443361500259342, 2.9443361500259342] [-5.0628135622843162, 5.0628135622843162]\n",
      "(56,) 2.94610139332 -0.990125038708\n",
      "Size of the concatenated data:  (44, 56) Number time windows :  56\n",
      "Size of label for classif:  44\n",
      "th_perm :  65.9090909091 70.4545454545 81.8181818182\n"
     ]
    },
    {
     "name": "stderr",
     "output_type": "stream",
     "text": [
      "/home/karim/anaconda3/lib/python3.5/site-packages/matplotlib/axes/_axes.py:545: UserWarning: No labelled objects found. Use label='...' kwarg on individual plots.\n",
      "  warnings.warn(\"No labelled objects found. \"\n"
     ]
    },
    {
     "name": "stdout",
     "output_type": "stream",
     "text": [
      "LEFC Channel :  g7-g6 Label :  SMG Bad shape :  (2560, 22) Good shape :  (2560, 22)\n",
      "Setting up low-pass filter at 10 Hz\n",
      "h_trans_bandwidth chosen to be 2.5 Hz\n",
      "Filter length of 1352 samples (2.641 sec) selected\n",
      "Setting up low-pass filter at 10 Hz\n",
      "h_trans_bandwidth chosen to be 2.5 Hz\n",
      "Filter length of 1352 samples (2.641 sec) selected\n",
      "Size of filtered data bad : (22, 2560) filtered data good :  (22, 2560)\n",
      "time points :  (2560,)\n",
      "Applying baseline correction (mode: mean)\n",
      "Applying baseline correction (mode: mean)\n",
      "Size norm & filtered data 0 :  (22, 2560) (22, 2560)\n",
      "-> Shape of bad data (22, 563) good data (22, 563)\n",
      "(22, 1000, 56) (22, 1000, 56)\n",
      "(1000, 56)\n",
      "[-1.8444982645146837, 1.8444982645146837] [-2.6670267118948905, 2.6670267118948905] [-4.556278239153535, 4.556278239153535]\n",
      "(56,) 1.17547119837 -1.70991849785\n",
      "Size of the concatenated data:  (44, 56) Number time windows :  56\n",
      "Size of label for classif:  44\n",
      "th_perm :  65.9090909091 72.7272727273 79.5454545455\n"
     ]
    },
    {
     "name": "stderr",
     "output_type": "stream",
     "text": [
      "/home/karim/anaconda3/lib/python3.5/site-packages/matplotlib/axes/_axes.py:545: UserWarning: No labelled objects found. Use label='...' kwarg on individual plots.\n",
      "  warnings.warn(\"No labelled objects found. \"\n"
     ]
    },
    {
     "name": "stdout",
     "output_type": "stream",
     "text": [
      "LEFC Channel :  g8-g7 Label :  SMG Bad shape :  (2560, 22) Good shape :  (2560, 22)\n",
      "Setting up low-pass filter at 10 Hz\n",
      "h_trans_bandwidth chosen to be 2.5 Hz\n",
      "Filter length of 1352 samples (2.641 sec) selected\n",
      "Setting up low-pass filter at 10 Hz\n",
      "h_trans_bandwidth chosen to be 2.5 Hz\n",
      "Filter length of 1352 samples (2.641 sec) selected\n",
      "Size of filtered data bad : (22, 2560) filtered data good :  (22, 2560)\n",
      "time points :  (2560,)\n",
      "Applying baseline correction (mode: mean)\n",
      "Applying baseline correction (mode: mean)\n",
      "Size norm & filtered data 0 :  (22, 2560) (22, 2560)\n",
      "-> Shape of bad data (22, 563) good data (22, 563)\n",
      "(22, 1000, 56) (22, 1000, 56)\n",
      "(1000, 56)\n",
      "[-1.8200146166642317, 1.8200146166642317] [-2.7418011226211791, 2.7418011226211791] [-5.1962439667691998, 5.1962439667691998]\n",
      "(56,) 2.27639224126 -2.56290708379\n",
      "Size of the concatenated data:  (44, 56) Number time windows :  56\n",
      "Size of label for classif:  44\n",
      "th_perm :  65.9090909091 72.7272727273 81.8181818182\n"
     ]
    },
    {
     "name": "stderr",
     "output_type": "stream",
     "text": [
      "/home/karim/anaconda3/lib/python3.5/site-packages/matplotlib/axes/_axes.py:545: UserWarning: No labelled objects found. Use label='...' kwarg on individual plots.\n",
      "  warnings.warn(\"No labelled objects found. \"\n"
     ]
    },
    {
     "name": "stdout",
     "output_type": "stream",
     "text": [
      "LEFC Channel :  g9-g8 Label :  SMG Bad shape :  (2560, 22) Good shape :  (2560, 22)\n",
      "Setting up low-pass filter at 10 Hz\n",
      "h_trans_bandwidth chosen to be 2.5 Hz\n",
      "Filter length of 1352 samples (2.641 sec) selected\n",
      "Setting up low-pass filter at 10 Hz\n",
      "h_trans_bandwidth chosen to be 2.5 Hz\n",
      "Filter length of 1352 samples (2.641 sec) selected\n",
      "Size of filtered data bad : (22, 2560) filtered data good :  (22, 2560)\n",
      "time points :  (2560,)\n",
      "Applying baseline correction (mode: mean)\n",
      "Applying baseline correction (mode: mean)\n",
      "Size norm & filtered data 0 :  (22, 2560) (22, 2560)\n",
      "-> Shape of bad data (22, 563) good data (22, 563)\n",
      "(22, 1000, 56) (22, 1000, 56)\n",
      "(1000, 56)\n",
      "[-1.8451678732043597, 1.8451678732043597] [-2.6402305460176274, 2.6402305460176274] [-4.9664861770565576, 4.9664861770565576]\n",
      "(56,) 1.06670835822 -3.69265251301\n",
      "Size of the concatenated data:  (44, 56) Number time windows :  56\n",
      "Size of label for classif:  44\n",
      "th_perm :  65.9090909091 72.7272727273 84.0909090909\n"
     ]
    },
    {
     "name": "stderr",
     "output_type": "stream",
     "text": [
      "/home/karim/anaconda3/lib/python3.5/site-packages/matplotlib/axes/_axes.py:545: UserWarning: No labelled objects found. Use label='...' kwarg on individual plots.\n",
      "  warnings.warn(\"No labelled objects found. \"\n"
     ]
    },
    {
     "name": "stdout",
     "output_type": "stream",
     "text": [
      "LEFC Channel :  g10-g9 Label :  SMG-STG&SMG Bad shape :  (2560, 22) Good shape :  (2560, 22)\n",
      "Setting up low-pass filter at 10 Hz\n",
      "h_trans_bandwidth chosen to be 2.5 Hz\n",
      "Filter length of 1352 samples (2.641 sec) selected\n",
      "Setting up low-pass filter at 10 Hz\n",
      "h_trans_bandwidth chosen to be 2.5 Hz\n",
      "Filter length of 1352 samples (2.641 sec) selected\n",
      "Size of filtered data bad : (22, 2560) filtered data good :  (22, 2560)\n",
      "time points :  (2560,)\n",
      "Applying baseline correction (mode: mean)\n",
      "Applying baseline correction (mode: mean)\n",
      "Size norm & filtered data 0 :  (22, 2560) (22, 2560)\n",
      "-> Shape of bad data (22, 563) good data (22, 563)\n",
      "(22, 1000, 56) (22, 1000, 56)\n",
      "(1000, 56)\n",
      "[-1.785575002292344, 1.785575002292344] [-2.668442340987724, 2.668442340987724] [-4.4312076447376878, 4.4312076447376878]\n",
      "(56,) 0.688774078547 -3.13858349979\n",
      "Size of the concatenated data:  (44, 56) Number time windows :  56\n",
      "Size of label for classif:  44\n",
      "th_perm :  65.9090909091 70.4545454545 79.5454545455\n"
     ]
    },
    {
     "name": "stderr",
     "output_type": "stream",
     "text": [
      "/home/karim/anaconda3/lib/python3.5/site-packages/matplotlib/axes/_axes.py:545: UserWarning: No labelled objects found. Use label='...' kwarg on individual plots.\n",
      "  warnings.warn(\"No labelled objects found. \"\n"
     ]
    },
    {
     "name": "stdout",
     "output_type": "stream",
     "text": [
      "LEFC Channel :  g11-g10 Label :  STG&SMG-STG Bad shape :  (2560, 22) Good shape :  (2560, 22)\n",
      "Setting up low-pass filter at 10 Hz\n",
      "h_trans_bandwidth chosen to be 2.5 Hz\n",
      "Filter length of 1352 samples (2.641 sec) selected\n",
      "Setting up low-pass filter at 10 Hz\n",
      "h_trans_bandwidth chosen to be 2.5 Hz\n",
      "Filter length of 1352 samples (2.641 sec) selected\n",
      "Size of filtered data bad : (22, 2560) filtered data good :  (22, 2560)\n",
      "time points :  (2560,)\n",
      "Applying baseline correction (mode: mean)\n",
      "Applying baseline correction (mode: mean)\n",
      "Size norm & filtered data 0 :  (22, 2560) (22, 2560)\n",
      "-> Shape of bad data (22, 563) good data (22, 563)\n",
      "(22, 1000, 56) (22, 1000, 56)\n",
      "(1000, 56)\n",
      "[-1.9421786312509979, 1.9421786312509979] [-2.77779491558187, 2.77779491558187] [-5.1643239347378778, 5.1643239347378778]\n",
      "(56,) 2.79361994081 -1.43921494109\n",
      "Size of the concatenated data:  (44, 56) Number time windows :  56\n",
      "Size of label for classif:  44\n",
      "th_perm :  65.9090909091 72.7272727273 84.0909090909\n"
     ]
    },
    {
     "name": "stderr",
     "output_type": "stream",
     "text": [
      "/home/karim/anaconda3/lib/python3.5/site-packages/matplotlib/axes/_axes.py:545: UserWarning: No labelled objects found. Use label='...' kwarg on individual plots.\n",
      "  warnings.warn(\"No labelled objects found. \"\n"
     ]
    },
    {
     "name": "stdout",
     "output_type": "stream",
     "text": [
      "LEFC Channel :  g12-g11 Label :  STG Bad shape :  (2560, 22) Good shape :  (2560, 22)\n",
      "Setting up low-pass filter at 10 Hz\n",
      "h_trans_bandwidth chosen to be 2.5 Hz\n",
      "Filter length of 1352 samples (2.641 sec) selected\n",
      "Setting up low-pass filter at 10 Hz\n",
      "h_trans_bandwidth chosen to be 2.5 Hz\n",
      "Filter length of 1352 samples (2.641 sec) selected\n",
      "Size of filtered data bad : (22, 2560) filtered data good :  (22, 2560)\n",
      "time points :  (2560,)\n",
      "Applying baseline correction (mode: mean)\n",
      "Applying baseline correction (mode: mean)\n",
      "Size norm & filtered data 0 :  (22, 2560) (22, 2560)\n",
      "-> Shape of bad data (22, 563) good data (22, 563)\n",
      "(22, 1000, 56) (22, 1000, 56)\n",
      "(1000, 56)\n",
      "[-1.8456674375615088, 1.8456674375615088] [-2.6189737277112948, 2.6189737277112948] [-4.0903018148126336, 4.0903018148126336]\n",
      "(56,) 2.4186792579 -0.217005690951\n",
      "Size of the concatenated data:  (44, 56) Number time windows :  56\n",
      "Size of label for classif:  44\n",
      "th_perm :  65.9090909091 70.4545454545 81.8181818182\n"
     ]
    },
    {
     "name": "stderr",
     "output_type": "stream",
     "text": [
      "/home/karim/anaconda3/lib/python3.5/site-packages/matplotlib/axes/_axes.py:545: UserWarning: No labelled objects found. Use label='...' kwarg on individual plots.\n",
      "  warnings.warn(\"No labelled objects found. \"\n"
     ]
    },
    {
     "name": "stdout",
     "output_type": "stream",
     "text": [
      "LEFC Channel :  g13-g12 Label :  STG Bad shape :  (2560, 22) Good shape :  (2560, 22)\n",
      "Setting up low-pass filter at 10 Hz\n",
      "h_trans_bandwidth chosen to be 2.5 Hz\n",
      "Filter length of 1352 samples (2.641 sec) selected\n",
      "Setting up low-pass filter at 10 Hz\n",
      "h_trans_bandwidth chosen to be 2.5 Hz\n",
      "Filter length of 1352 samples (2.641 sec) selected\n",
      "Size of filtered data bad : (22, 2560) filtered data good :  (22, 2560)\n",
      "time points :  (2560,)\n",
      "Applying baseline correction (mode: mean)\n",
      "Applying baseline correction (mode: mean)\n",
      "Size norm & filtered data 0 :  (22, 2560) (22, 2560)\n",
      "-> Shape of bad data (22, 563) good data (22, 563)\n",
      "(22, 1000, 56) (22, 1000, 56)\n",
      "(1000, 56)\n",
      "[-1.8448967905826348, 1.8448967905826348] [-2.7532930132944222, 2.7532930132944222] [-4.0914412925976302, 4.0914412925976302]\n",
      "(56,) 2.1002482826 -1.32392294888\n",
      "Size of the concatenated data:  (44, 56) Number time windows :  56\n",
      "Size of label for classif:  44\n",
      "th_perm :  65.9090909091 70.4545454545 84.0909090909\n"
     ]
    },
    {
     "name": "stderr",
     "output_type": "stream",
     "text": [
      "/home/karim/anaconda3/lib/python3.5/site-packages/matplotlib/axes/_axes.py:545: UserWarning: No labelled objects found. Use label='...' kwarg on individual plots.\n",
      "  warnings.warn(\"No labelled objects found. \"\n"
     ]
    },
    {
     "name": "stdout",
     "output_type": "stream",
     "text": [
      "LEFC Channel :  g14-g13 Label :  STG Bad shape :  (2560, 22) Good shape :  (2560, 22)\n",
      "Setting up low-pass filter at 10 Hz\n",
      "h_trans_bandwidth chosen to be 2.5 Hz\n",
      "Filter length of 1352 samples (2.641 sec) selected\n",
      "Setting up low-pass filter at 10 Hz\n",
      "h_trans_bandwidth chosen to be 2.5 Hz\n",
      "Filter length of 1352 samples (2.641 sec) selected\n",
      "Size of filtered data bad : (22, 2560) filtered data good :  (22, 2560)\n",
      "time points :  (2560,)\n",
      "Applying baseline correction (mode: mean)\n",
      "Applying baseline correction (mode: mean)\n",
      "Size norm & filtered data 0 :  (22, 2560) (22, 2560)\n",
      "-> Shape of bad data (22, 563) good data (22, 563)\n",
      "(22, 1000, 56) (22, 1000, 56)\n",
      "(1000, 56)\n",
      "[-1.843093437707243, 1.843093437707243] [-2.8534623673999424, 2.8534623673999424] [-4.1334248466271948, 4.1334248466271948]\n",
      "(56,) 0.985863928026 -1.96413462368\n",
      "Size of the concatenated data:  (44, 56) Number time windows :  56\n",
      "Size of label for classif:  44\n",
      "th_perm :  65.9090909091 70.4545454545 81.8181818182\n"
     ]
    },
    {
     "name": "stderr",
     "output_type": "stream",
     "text": [
      "/home/karim/anaconda3/lib/python3.5/site-packages/matplotlib/axes/_axes.py:545: UserWarning: No labelled objects found. Use label='...' kwarg on individual plots.\n",
      "  warnings.warn(\"No labelled objects found. \"\n"
     ]
    },
    {
     "name": "stdout",
     "output_type": "stream",
     "text": [
      "LEFC Channel :  g15-g14 Label :  skull-LCR&STG Bad shape :  (2560, 22) Good shape :  (2560, 22)\n",
      "Setting up low-pass filter at 10 Hz\n",
      "h_trans_bandwidth chosen to be 2.5 Hz\n",
      "Filter length of 1352 samples (2.641 sec) selected\n",
      "Setting up low-pass filter at 10 Hz\n",
      "h_trans_bandwidth chosen to be 2.5 Hz\n",
      "Filter length of 1352 samples (2.641 sec) selected\n",
      "Size of filtered data bad : (22, 2560) filtered data good :  (22, 2560)\n",
      "time points :  (2560,)\n",
      "Applying baseline correction (mode: mean)\n",
      "Applying baseline correction (mode: mean)\n",
      "Size norm & filtered data 0 :  (22, 2560) (22, 2560)\n",
      "-> Shape of bad data (22, 563) good data (22, 563)\n",
      "(22, 1000, 56) (22, 1000, 56)\n",
      "(1000, 56)\n",
      "[-1.8120499153635237, 1.8120499153635237] [-2.7269102982676121, 2.7269102982676121] [-4.322895854774762, 4.322895854774762]\n",
      "(56,) 0.829645820646 -2.91323119803\n",
      "Size of the concatenated data:  (44, 56) Number time windows :  56\n",
      "Size of label for classif:  44\n",
      "th_perm :  65.9090909091 70.4545454545 84.0909090909\n"
     ]
    },
    {
     "name": "stderr",
     "output_type": "stream",
     "text": [
      "/home/karim/anaconda3/lib/python3.5/site-packages/matplotlib/axes/_axes.py:545: UserWarning: No labelled objects found. Use label='...' kwarg on individual plots.\n",
      "  warnings.warn(\"No labelled objects found. \"\n"
     ]
    },
    {
     "name": "stdout",
     "output_type": "stream",
     "text": [
      "LEFC Channel :  k2-k1 Label :  ACC-SFGM Bad shape :  (2560, 22) Good shape :  (2560, 22)\n",
      "Setting up low-pass filter at 10 Hz\n",
      "h_trans_bandwidth chosen to be 2.5 Hz\n",
      "Filter length of 1352 samples (2.641 sec) selected\n",
      "Setting up low-pass filter at 10 Hz\n",
      "h_trans_bandwidth chosen to be 2.5 Hz\n",
      "Filter length of 1352 samples (2.641 sec) selected\n",
      "Size of filtered data bad : (22, 2560) filtered data good :  (22, 2560)\n",
      "time points :  (2560,)\n",
      "Applying baseline correction (mode: mean)\n",
      "Applying baseline correction (mode: mean)\n",
      "Size norm & filtered data 0 :  (22, 2560) (22, 2560)\n",
      "-> Shape of bad data (22, 563) good data (22, 563)\n",
      "(22, 1000, 56) (22, 1000, 56)\n",
      "(1000, 56)\n",
      "[-1.8026026175735341, 1.8026026175735341] [-2.5443252146264204, 2.5443252146264204] [-3.3395680732648083, 3.3395680732648083]\n",
      "(56,) 3.33249319201 -3.10201364839\n",
      "Size of the concatenated data:  (44, 56) Number time windows :  56\n",
      "Size of label for classif:  44\n",
      "th_perm :  63.6363636364 68.1818181818 77.2727272727\n"
     ]
    },
    {
     "name": "stderr",
     "output_type": "stream",
     "text": [
      "/home/karim/anaconda3/lib/python3.5/site-packages/matplotlib/axes/_axes.py:545: UserWarning: No labelled objects found. Use label='...' kwarg on individual plots.\n",
      "  warnings.warn(\"No labelled objects found. \"\n"
     ]
    },
    {
     "name": "stdout",
     "output_type": "stream",
     "text": [
      "LEFC Channel :  k3-k2 Label :  ACC-SFGM Bad shape :  (2560, 22) Good shape :  (2560, 22)\n",
      "Setting up low-pass filter at 10 Hz\n",
      "h_trans_bandwidth chosen to be 2.5 Hz\n",
      "Filter length of 1352 samples (2.641 sec) selected\n",
      "Setting up low-pass filter at 10 Hz\n",
      "h_trans_bandwidth chosen to be 2.5 Hz\n",
      "Filter length of 1352 samples (2.641 sec) selected\n",
      "Size of filtered data bad : (22, 2560) filtered data good :  (22, 2560)\n",
      "time points :  (2560,)\n",
      "Applying baseline correction (mode: mean)\n",
      "Applying baseline correction (mode: mean)\n",
      "Size norm & filtered data 0 :  (22, 2560) (22, 2560)\n",
      "-> Shape of bad data (22, 563) good data (22, 563)\n",
      "(22, 1000, 56) (22, 1000, 56)\n",
      "(1000, 56)\n",
      "[-1.7983638231047394, 1.7983638231047394] [-2.6121216871398136, 2.6121216871398136] [-3.7017820830173078, 3.7017820830173078]\n",
      "(56,) 1.48611322266 -2.24251504422\n",
      "Size of the concatenated data:  (44, 56) Number time windows :  56\n",
      "Size of label for classif:  44\n",
      "th_perm :  65.9090909091 72.7272727273 81.8181818182\n"
     ]
    },
    {
     "name": "stderr",
     "output_type": "stream",
     "text": [
      "/home/karim/anaconda3/lib/python3.5/site-packages/matplotlib/axes/_axes.py:545: UserWarning: No labelled objects found. Use label='...' kwarg on individual plots.\n",
      "  warnings.warn(\"No labelled objects found. \"\n"
     ]
    },
    {
     "name": "stdout",
     "output_type": "stream",
     "text": [
      "LEFC Channel :  k4-k3 Label :  ACC-SFGM Bad shape :  (2560, 22) Good shape :  (2560, 22)\n",
      "Setting up low-pass filter at 10 Hz\n",
      "h_trans_bandwidth chosen to be 2.5 Hz\n",
      "Filter length of 1352 samples (2.641 sec) selected\n",
      "Setting up low-pass filter at 10 Hz\n",
      "h_trans_bandwidth chosen to be 2.5 Hz\n",
      "Filter length of 1352 samples (2.641 sec) selected\n",
      "Size of filtered data bad : (22, 2560) filtered data good :  (22, 2560)\n",
      "time points :  (2560,)\n",
      "Applying baseline correction (mode: mean)\n",
      "Applying baseline correction (mode: mean)\n",
      "Size norm & filtered data 0 :  (22, 2560) (22, 2560)\n",
      "-> Shape of bad data (22, 563) good data (22, 563)\n",
      "(22, 1000, 56) (22, 1000, 56)\n",
      "(1000, 56)\n",
      "[-1.7634653262907936, 1.7634653262907936] [-2.6930021228432022, 2.6930021228432022] [-4.2780744008173626, 4.2780744008173626]\n",
      "(56,) 1.36976280858 -2.31412142542\n",
      "Size of the concatenated data:  (44, 56) Number time windows :  56\n",
      "Size of label for classif:  44\n",
      "th_perm :  65.9090909091 72.7272727273 81.8181818182\n"
     ]
    },
    {
     "name": "stderr",
     "output_type": "stream",
     "text": [
      "/home/karim/anaconda3/lib/python3.5/site-packages/matplotlib/axes/_axes.py:545: UserWarning: No labelled objects found. Use label='...' kwarg on individual plots.\n",
      "  warnings.warn(\"No labelled objects found. \"\n"
     ]
    },
    {
     "name": "stdout",
     "output_type": "stream",
     "text": [
      "LEFC Channel :  k8-k7 Label :  MFG&MFPG-MFG Bad shape :  (2560, 22) Good shape :  (2560, 22)\n",
      "Setting up low-pass filter at 10 Hz\n",
      "h_trans_bandwidth chosen to be 2.5 Hz\n",
      "Filter length of 1352 samples (2.641 sec) selected\n",
      "Setting up low-pass filter at 10 Hz\n",
      "h_trans_bandwidth chosen to be 2.5 Hz\n",
      "Filter length of 1352 samples (2.641 sec) selected\n",
      "Size of filtered data bad : (22, 2560) filtered data good :  (22, 2560)\n",
      "time points :  (2560,)\n",
      "Applying baseline correction (mode: mean)\n",
      "Applying baseline correction (mode: mean)\n",
      "Size norm & filtered data 0 :  (22, 2560) (22, 2560)\n",
      "-> Shape of bad data (22, 563) good data (22, 563)\n",
      "(22, 1000, 56) (22, 1000, 56)\n",
      "(1000, 56)\n",
      "[-1.7633949788867043, 1.7633949788867043] [-2.6629113350222462, 2.6629113350222462] [-4.8119540665250993, 4.8119540665250993]\n",
      "(56,) 2.11744112784 -1.5528210783\n",
      "Size of the concatenated data:  (44, 56) Number time windows :  56\n",
      "Size of label for classif:  44\n",
      "th_perm :  65.9090909091 70.4545454545 81.8181818182\n"
     ]
    },
    {
     "name": "stderr",
     "output_type": "stream",
     "text": [
      "/home/karim/anaconda3/lib/python3.5/site-packages/matplotlib/axes/_axes.py:545: UserWarning: No labelled objects found. Use label='...' kwarg on individual plots.\n",
      "  warnings.warn(\"No labelled objects found. \"\n"
     ]
    },
    {
     "name": "stdout",
     "output_type": "stream",
     "text": [
      "LEFC Channel :  k9-k8 Label :  MFG Bad shape :  (2560, 22) Good shape :  (2560, 22)\n",
      "Setting up low-pass filter at 10 Hz\n",
      "h_trans_bandwidth chosen to be 2.5 Hz\n",
      "Filter length of 1352 samples (2.641 sec) selected\n",
      "Setting up low-pass filter at 10 Hz\n",
      "h_trans_bandwidth chosen to be 2.5 Hz\n",
      "Filter length of 1352 samples (2.641 sec) selected\n",
      "Size of filtered data bad : (22, 2560) filtered data good :  (22, 2560)\n",
      "time points :  (2560,)\n",
      "Applying baseline correction (mode: mean)\n",
      "Applying baseline correction (mode: mean)\n",
      "Size norm & filtered data 0 :  (22, 2560) (22, 2560)\n",
      "-> Shape of bad data (22, 563) good data (22, 563)\n",
      "(22, 1000, 56) (22, 1000, 56)\n",
      "(1000, 56)\n",
      "[-1.8150876631290169, 1.8150876631290169] [-2.8070960059592855, 2.8070960059592855] [-4.7414996278944654, 4.7414996278944654]\n",
      "(56,) 0.408532302793 -3.55067272643\n",
      "Size of the concatenated data:  (44, 56) Number time windows :  56\n",
      "Size of label for classif:  44\n",
      "th_perm :  65.9090909091 72.7272727273 84.0909090909\n"
     ]
    },
    {
     "name": "stderr",
     "output_type": "stream",
     "text": [
      "/home/karim/anaconda3/lib/python3.5/site-packages/matplotlib/axes/_axes.py:545: UserWarning: No labelled objects found. Use label='...' kwarg on individual plots.\n",
      "  warnings.warn(\"No labelled objects found. \"\n"
     ]
    },
    {
     "name": "stdout",
     "output_type": "stream",
     "text": [
      "LEFC Channel :  k10-k9 Label :  MFG Bad shape :  (2560, 22) Good shape :  (2560, 22)\n",
      "Setting up low-pass filter at 10 Hz\n",
      "h_trans_bandwidth chosen to be 2.5 Hz\n",
      "Filter length of 1352 samples (2.641 sec) selected\n",
      "Setting up low-pass filter at 10 Hz\n",
      "h_trans_bandwidth chosen to be 2.5 Hz\n",
      "Filter length of 1352 samples (2.641 sec) selected\n",
      "Size of filtered data bad : (22, 2560) filtered data good :  (22, 2560)\n",
      "time points :  (2560,)\n",
      "Applying baseline correction (mode: mean)\n",
      "Applying baseline correction (mode: mean)\n",
      "Size norm & filtered data 0 :  (22, 2560) (22, 2560)\n",
      "-> Shape of bad data (22, 563) good data (22, 563)\n",
      "(22, 1000, 56) (22, 1000, 56)\n",
      "(1000, 56)\n",
      "[-1.8978811111845251, 1.8978811111845251] [-2.6547575567214072, 2.6547575567214072] [-4.8374453932876964, 4.8374453932876964]\n",
      "(56,) 2.90427187437 -1.30191863836\n",
      "Size of the concatenated data:  (44, 56) Number time windows :  56\n",
      "Size of label for classif:  44\n",
      "th_perm :  65.9090909091 72.7272727273 86.3636363636\n"
     ]
    },
    {
     "name": "stderr",
     "output_type": "stream",
     "text": [
      "/home/karim/anaconda3/lib/python3.5/site-packages/matplotlib/axes/_axes.py:545: UserWarning: No labelled objects found. Use label='...' kwarg on individual plots.\n",
      "  warnings.warn(\"No labelled objects found. \"\n"
     ]
    },
    {
     "name": "stdout",
     "output_type": "stream",
     "text": [
      "LEFC Channel :  k11-k10 Label :  MFG Bad shape :  (2560, 22) Good shape :  (2560, 22)\n",
      "Setting up low-pass filter at 10 Hz\n",
      "h_trans_bandwidth chosen to be 2.5 Hz\n",
      "Filter length of 1352 samples (2.641 sec) selected\n",
      "Setting up low-pass filter at 10 Hz\n",
      "h_trans_bandwidth chosen to be 2.5 Hz\n",
      "Filter length of 1352 samples (2.641 sec) selected\n",
      "Size of filtered data bad : (22, 2560) filtered data good :  (22, 2560)\n",
      "time points :  (2560,)\n",
      "Applying baseline correction (mode: mean)\n",
      "Applying baseline correction (mode: mean)\n",
      "Size norm & filtered data 0 :  (22, 2560) (22, 2560)\n",
      "-> Shape of bad data (22, 563) good data (22, 563)\n",
      "(22, 1000, 56) (22, 1000, 56)\n",
      "(1000, 56)\n",
      "[-1.8018347081044139, 1.8018347081044139] [-2.660711031213149, 2.660711031213149] [-4.4642710323778214, 4.4642710323778214]\n",
      "(56,) 1.79063223645 -0.822576584827\n",
      "Size of the concatenated data:  (44, 56) Number time windows :  56\n",
      "Size of label for classif:  44\n",
      "th_perm :  65.9090909091 72.7272727273 79.5454545455\n"
     ]
    },
    {
     "name": "stderr",
     "output_type": "stream",
     "text": [
      "/home/karim/anaconda3/lib/python3.5/site-packages/matplotlib/axes/_axes.py:545: UserWarning: No labelled objects found. Use label='...' kwarg on individual plots.\n",
      "  warnings.warn(\"No labelled objects found. \"\n"
     ]
    },
    {
     "name": "stdout",
     "output_type": "stream",
     "text": [
      "LEFC Channel :  k12-k11 Label :  MFG Bad shape :  (2560, 22) Good shape :  (2560, 22)\n",
      "Setting up low-pass filter at 10 Hz\n",
      "h_trans_bandwidth chosen to be 2.5 Hz\n",
      "Filter length of 1352 samples (2.641 sec) selected\n",
      "Setting up low-pass filter at 10 Hz\n",
      "h_trans_bandwidth chosen to be 2.5 Hz\n",
      "Filter length of 1352 samples (2.641 sec) selected\n",
      "Size of filtered data bad : (22, 2560) filtered data good :  (22, 2560)\n",
      "time points :  (2560,)\n",
      "Applying baseline correction (mode: mean)\n",
      "Applying baseline correction (mode: mean)\n",
      "Size norm & filtered data 0 :  (22, 2560) (22, 2560)\n",
      "-> Shape of bad data (22, 563) good data (22, 563)\n",
      "(22, 1000, 56) (22, 1000, 56)\n",
      "(1000, 56)\n",
      "[-1.8021895807802975, 1.8021895807802975] [-2.7818939862163305, 2.7818939862163305] [-4.413817410535839, 4.413817410535839]\n",
      "(56,) 1.40572997456 -3.07126019848\n",
      "Size of the concatenated data:  (44, 56) Number time windows :  56\n",
      "Size of label for classif:  44\n",
      "th_perm :  65.9090909091 72.7272727273 84.0909090909\n"
     ]
    },
    {
     "name": "stderr",
     "output_type": "stream",
     "text": [
      "/home/karim/anaconda3/lib/python3.5/site-packages/matplotlib/axes/_axes.py:545: UserWarning: No labelled objects found. Use label='...' kwarg on individual plots.\n",
      "  warnings.warn(\"No labelled objects found. \"\n"
     ]
    },
    {
     "name": "stdout",
     "output_type": "stream",
     "text": [
      "LEFC Channel :  l2-l1 Label :  LgG-FuG Bad shape :  (2560, 22) Good shape :  (2560, 22)\n",
      "Setting up low-pass filter at 10 Hz\n",
      "h_trans_bandwidth chosen to be 2.5 Hz\n",
      "Filter length of 1352 samples (2.641 sec) selected\n",
      "Setting up low-pass filter at 10 Hz\n",
      "h_trans_bandwidth chosen to be 2.5 Hz\n",
      "Filter length of 1352 samples (2.641 sec) selected\n",
      "Size of filtered data bad : (22, 2560) filtered data good :  (22, 2560)\n",
      "time points :  (2560,)\n",
      "Applying baseline correction (mode: mean)\n",
      "Applying baseline correction (mode: mean)\n",
      "Size norm & filtered data 0 :  (22, 2560) (22, 2560)\n",
      "-> Shape of bad data (22, 563) good data (22, 563)\n",
      "(22, 1000, 56) (22, 1000, 56)\n",
      "(1000, 56)\n",
      "[-1.8057548798855889, 1.8057548798855889] [-2.681786707728349, 2.681786707728349] [-4.9790423360438698, 4.9790423360438698]\n",
      "(56,) 0.936864702119 -2.43155904169\n",
      "Size of the concatenated data:  (44, 56) Number time windows :  56\n",
      "Size of label for classif:  44\n",
      "th_perm :  65.9090909091 70.4545454545 79.5454545455\n"
     ]
    },
    {
     "name": "stderr",
     "output_type": "stream",
     "text": [
      "/home/karim/anaconda3/lib/python3.5/site-packages/matplotlib/axes/_axes.py:545: UserWarning: No labelled objects found. Use label='...' kwarg on individual plots.\n",
      "  warnings.warn(\"No labelled objects found. \"\n"
     ]
    },
    {
     "name": "stdout",
     "output_type": "stream",
     "text": [
      "LEFC Channel :  l3-l2 Label :  FuG-ITG&LgG-FuG Bad shape :  (2560, 22) Good shape :  (2560, 22)\n",
      "Setting up low-pass filter at 10 Hz\n",
      "h_trans_bandwidth chosen to be 2.5 Hz\n",
      "Filter length of 1352 samples (2.641 sec) selected\n",
      "Setting up low-pass filter at 10 Hz\n",
      "h_trans_bandwidth chosen to be 2.5 Hz\n",
      "Filter length of 1352 samples (2.641 sec) selected\n",
      "Size of filtered data bad : (22, 2560) filtered data good :  (22, 2560)\n",
      "time points :  (2560,)\n",
      "Applying baseline correction (mode: mean)\n",
      "Applying baseline correction (mode: mean)\n",
      "Size norm & filtered data 0 :  (22, 2560) (22, 2560)\n",
      "-> Shape of bad data (22, 563) good data (22, 563)\n",
      "(22, 1000, 56) (22, 1000, 56)\n",
      "(1000, 56)\n",
      "[-1.8871165658156837, 1.8871165658156837] [-2.8518091156254006, 2.8518091156254006] [-5.3766067044263552, 5.3766067044263552]\n",
      "(56,) 1.66428581149 -1.99507903985\n",
      "Size of the concatenated data:  (44, 56) Number time windows :  56\n",
      "Size of label for classif:  44\n",
      "th_perm :  65.9090909091 72.7272727273 81.8181818182\n"
     ]
    },
    {
     "name": "stderr",
     "output_type": "stream",
     "text": [
      "/home/karim/anaconda3/lib/python3.5/site-packages/matplotlib/axes/_axes.py:545: UserWarning: No labelled objects found. Use label='...' kwarg on individual plots.\n",
      "  warnings.warn(\"No labelled objects found. \"\n"
     ]
    },
    {
     "name": "stdout",
     "output_type": "stream",
     "text": [
      "LEFC Channel :  l4-l3 Label :  FuG-ITG Bad shape :  (2560, 22) Good shape :  (2560, 22)\n",
      "Setting up low-pass filter at 10 Hz\n",
      "h_trans_bandwidth chosen to be 2.5 Hz\n",
      "Filter length of 1352 samples (2.641 sec) selected\n",
      "Setting up low-pass filter at 10 Hz\n",
      "h_trans_bandwidth chosen to be 2.5 Hz\n",
      "Filter length of 1352 samples (2.641 sec) selected\n",
      "Size of filtered data bad : (22, 2560) filtered data good :  (22, 2560)\n",
      "time points :  (2560,)\n",
      "Applying baseline correction (mode: mean)\n",
      "Applying baseline correction (mode: mean)\n",
      "Size norm & filtered data 0 :  (22, 2560) (22, 2560)\n",
      "-> Shape of bad data (22, 563) good data (22, 563)\n",
      "(22, 1000, 56) (22, 1000, 56)\n",
      "(1000, 56)\n",
      "[-1.8907479967605185, 1.8907479967605185] [-2.7598569887880839, 2.7598569887880839] [-4.9727279046161748, 4.9727279046161748]\n",
      "(56,) 0.797047833436 -2.72429451103\n",
      "Size of the concatenated data:  (44, 56) Number time windows :  56\n",
      "Size of label for classif:  44\n",
      "th_perm :  65.9090909091 70.4545454545 81.8181818182\n"
     ]
    },
    {
     "name": "stderr",
     "output_type": "stream",
     "text": [
      "/home/karim/anaconda3/lib/python3.5/site-packages/matplotlib/axes/_axes.py:545: UserWarning: No labelled objects found. Use label='...' kwarg on individual plots.\n",
      "  warnings.warn(\"No labelled objects found. \"\n"
     ]
    },
    {
     "name": "stdout",
     "output_type": "stream",
     "text": [
      "LEFC Channel :  l5-l4 Label :  FuG-ITG Bad shape :  (2560, 22) Good shape :  (2560, 22)\n",
      "Setting up low-pass filter at 10 Hz\n",
      "h_trans_bandwidth chosen to be 2.5 Hz\n",
      "Filter length of 1352 samples (2.641 sec) selected\n",
      "Setting up low-pass filter at 10 Hz\n",
      "h_trans_bandwidth chosen to be 2.5 Hz\n",
      "Filter length of 1352 samples (2.641 sec) selected\n",
      "Size of filtered data bad : (22, 2560) filtered data good :  (22, 2560)\n",
      "time points :  (2560,)\n",
      "Applying baseline correction (mode: mean)\n",
      "Applying baseline correction (mode: mean)\n",
      "Size norm & filtered data 0 :  (22, 2560) (22, 2560)\n",
      "-> Shape of bad data (22, 563) good data (22, 563)\n",
      "(22, 1000, 56) (22, 1000, 56)\n",
      "(1000, 56)\n",
      "[-1.8798755755027656, 1.8798755755027656] [-2.7225217717931351, 2.7225217717931351] [-5.0236928182641041, 5.0236928182641041]\n",
      "(56,) 3.69956071886 -0.701684577475\n",
      "Size of the concatenated data:  (44, 56) Number time windows :  56\n",
      "Size of label for classif:  44\n",
      "th_perm :  65.9090909091 70.4545454545 84.0909090909\n"
     ]
    },
    {
     "name": "stderr",
     "output_type": "stream",
     "text": [
      "/home/karim/anaconda3/lib/python3.5/site-packages/matplotlib/axes/_axes.py:545: UserWarning: No labelled objects found. Use label='...' kwarg on individual plots.\n",
      "  warnings.warn(\"No labelled objects found. \"\n"
     ]
    },
    {
     "name": "stdout",
     "output_type": "stream",
     "text": [
      "LEFC Channel :  l6-l5 Label :  ITG&FuG-ITG Bad shape :  (2560, 22) Good shape :  (2560, 22)\n",
      "Setting up low-pass filter at 10 Hz\n",
      "h_trans_bandwidth chosen to be 2.5 Hz\n",
      "Filter length of 1352 samples (2.641 sec) selected\n",
      "Setting up low-pass filter at 10 Hz\n",
      "h_trans_bandwidth chosen to be 2.5 Hz\n",
      "Filter length of 1352 samples (2.641 sec) selected\n",
      "Size of filtered data bad : (22, 2560) filtered data good :  (22, 2560)\n",
      "time points :  (2560,)\n",
      "Applying baseline correction (mode: mean)\n",
      "Applying baseline correction (mode: mean)\n",
      "Size norm & filtered data 0 :  (22, 2560) (22, 2560)\n",
      "-> Shape of bad data (22, 563) good data (22, 563)\n",
      "(22, 1000, 56) (22, 1000, 56)\n",
      "(1000, 56)\n",
      "[-1.8576471491492741, 1.8576471491492741] [-2.6627344148247603, 2.6627344148247603] [-4.0705854914007942, 4.0705854914007942]\n",
      "(56,) 1.73316815571 -3.08018449332\n",
      "Size of the concatenated data:  (44, 56) Number time windows :  56\n",
      "Size of label for classif:  44\n",
      "th_perm :  65.9090909091 72.7272727273 79.5454545455\n"
     ]
    },
    {
     "name": "stderr",
     "output_type": "stream",
     "text": [
      "/home/karim/anaconda3/lib/python3.5/site-packages/matplotlib/axes/_axes.py:545: UserWarning: No labelled objects found. Use label='...' kwarg on individual plots.\n",
      "  warnings.warn(\"No labelled objects found. \"\n"
     ]
    },
    {
     "name": "stdout",
     "output_type": "stream",
     "text": [
      "LEFC Channel :  l7-l6 Label :  ITG Bad shape :  (2560, 22) Good shape :  (2560, 22)\n",
      "Setting up low-pass filter at 10 Hz\n",
      "h_trans_bandwidth chosen to be 2.5 Hz\n",
      "Filter length of 1352 samples (2.641 sec) selected\n",
      "Setting up low-pass filter at 10 Hz\n",
      "h_trans_bandwidth chosen to be 2.5 Hz\n",
      "Filter length of 1352 samples (2.641 sec) selected\n",
      "Size of filtered data bad : (22, 2560) filtered data good :  (22, 2560)\n",
      "time points :  (2560,)\n",
      "Applying baseline correction (mode: mean)\n",
      "Applying baseline correction (mode: mean)\n",
      "Size norm & filtered data 0 :  (22, 2560) (22, 2560)\n",
      "-> Shape of bad data (22, 563) good data (22, 563)\n",
      "(22, 1000, 56) (22, 1000, 56)\n",
      "(1000, 56)\n",
      "[-1.7993691382801043, 1.7993691382801043] [-2.5921188005241564, 2.5921188005241564] [-4.5882261381636846, 4.5882261381636846]\n",
      "(56,) 0.725577996069 -2.15405322427\n",
      "Size of the concatenated data:  (44, 56) Number time windows :  56\n",
      "Size of label for classif:  44\n",
      "th_perm :  65.9090909091 70.4545454545 81.8181818182\n"
     ]
    },
    {
     "name": "stderr",
     "output_type": "stream",
     "text": [
      "/home/karim/anaconda3/lib/python3.5/site-packages/matplotlib/axes/_axes.py:545: UserWarning: No labelled objects found. Use label='...' kwarg on individual plots.\n",
      "  warnings.warn(\"No labelled objects found. \"\n"
     ]
    },
    {
     "name": "stdout",
     "output_type": "stream",
     "text": [
      "LEFC Channel :  l8-l7 Label :  MTG-ITG&ITG Bad shape :  (2560, 22) Good shape :  (2560, 22)\n",
      "Setting up low-pass filter at 10 Hz\n",
      "h_trans_bandwidth chosen to be 2.5 Hz\n",
      "Filter length of 1352 samples (2.641 sec) selected\n",
      "Setting up low-pass filter at 10 Hz\n",
      "h_trans_bandwidth chosen to be 2.5 Hz\n",
      "Filter length of 1352 samples (2.641 sec) selected\n",
      "Size of filtered data bad : (22, 2560) filtered data good :  (22, 2560)\n",
      "time points :  (2560,)\n",
      "Applying baseline correction (mode: mean)\n",
      "Applying baseline correction (mode: mean)\n",
      "Size norm & filtered data 0 :  (22, 2560) (22, 2560)\n",
      "-> Shape of bad data (22, 563) good data (22, 563)\n",
      "(22, 1000, 56) (22, 1000, 56)\n",
      "(1000, 56)\n",
      "[-1.8007790421283385, 1.8007790421283385] [-2.6241043362927114, 2.6241043362927114] [-5.6925358984886456, 5.6925358984886456]\n",
      "(56,) 1.49725439605 -2.00598992822\n",
      "Size of the concatenated data:  (44, 56) Number time windows :  56\n",
      "Size of label for classif:  44\n",
      "th_perm :  65.9090909091 72.7272727273 79.5454545455\n"
     ]
    },
    {
     "name": "stderr",
     "output_type": "stream",
     "text": [
      "/home/karim/anaconda3/lib/python3.5/site-packages/matplotlib/axes/_axes.py:545: UserWarning: No labelled objects found. Use label='...' kwarg on individual plots.\n",
      "  warnings.warn(\"No labelled objects found. \"\n"
     ]
    },
    {
     "name": "stdout",
     "output_type": "stream",
     "text": [
      "LEFC Channel :  l9-l8 Label :  MTG-ITG Bad shape :  (2560, 22) Good shape :  (2560, 22)\n",
      "Setting up low-pass filter at 10 Hz\n",
      "h_trans_bandwidth chosen to be 2.5 Hz\n",
      "Filter length of 1352 samples (2.641 sec) selected\n",
      "Setting up low-pass filter at 10 Hz\n",
      "h_trans_bandwidth chosen to be 2.5 Hz\n",
      "Filter length of 1352 samples (2.641 sec) selected\n",
      "Size of filtered data bad : (22, 2560) filtered data good :  (22, 2560)\n",
      "time points :  (2560,)\n",
      "Applying baseline correction (mode: mean)\n",
      "Applying baseline correction (mode: mean)\n",
      "Size norm & filtered data 0 :  (22, 2560) (22, 2560)\n",
      "-> Shape of bad data (22, 563) good data (22, 563)\n",
      "(22, 1000, 56) (22, 1000, 56)\n",
      "(1000, 56)\n",
      "[-1.8302139882370507, 1.8302139882370507] [-2.7423580079168475, 2.7423580079168475] [-4.4199734591391309, 4.4199734591391309]\n",
      "(56,) 2.57900497856 -2.76106142808\n",
      "Size of the concatenated data:  (44, 56) Number time windows :  56\n",
      "Size of label for classif:  44\n",
      "th_perm :  65.9090909091 72.7272727273 84.0909090909\n"
     ]
    },
    {
     "name": "stderr",
     "output_type": "stream",
     "text": [
      "/home/karim/anaconda3/lib/python3.5/site-packages/matplotlib/axes/_axes.py:545: UserWarning: No labelled objects found. Use label='...' kwarg on individual plots.\n",
      "  warnings.warn(\"No labelled objects found. \"\n"
     ]
    },
    {
     "name": "stdout",
     "output_type": "stream",
     "text": [
      "LEFC Channel :  l10-l9 Label :  MTG-ITG Bad shape :  (2560, 22) Good shape :  (2560, 22)\n",
      "Setting up low-pass filter at 10 Hz\n",
      "h_trans_bandwidth chosen to be 2.5 Hz\n",
      "Filter length of 1352 samples (2.641 sec) selected\n",
      "Setting up low-pass filter at 10 Hz\n",
      "h_trans_bandwidth chosen to be 2.5 Hz\n",
      "Filter length of 1352 samples (2.641 sec) selected\n",
      "Size of filtered data bad : (22, 2560) filtered data good :  (22, 2560)\n",
      "time points :  (2560,)\n",
      "Applying baseline correction (mode: mean)\n",
      "Applying baseline correction (mode: mean)\n",
      "Size norm & filtered data 0 :  (22, 2560) (22, 2560)\n",
      "-> Shape of bad data (22, 563) good data (22, 563)\n",
      "(22, 1000, 56) (22, 1000, 56)\n",
      "(1000, 56)\n",
      "[-1.8024119318229481, 1.8024119318229481] [-2.7426228006082045, 2.7426228006082045] [-4.8122266744865723, 4.8122266744865723]\n",
      "(56,) 2.28488699645 -1.15592035497\n",
      "Size of the concatenated data:  (44, 56) Number time windows :  56\n",
      "Size of label for classif:  44\n",
      "th_perm :  65.9090909091 70.4545454545 81.8181818182\n"
     ]
    },
    {
     "name": "stderr",
     "output_type": "stream",
     "text": [
      "/home/karim/anaconda3/lib/python3.5/site-packages/matplotlib/axes/_axes.py:545: UserWarning: No labelled objects found. Use label='...' kwarg on individual plots.\n",
      "  warnings.warn(\"No labelled objects found. \"\n"
     ]
    },
    {
     "name": "stdout",
     "output_type": "stream",
     "text": [
      "LEFC Channel :  l11-l10 Label :  MTG-ITG Bad shape :  (2560, 22) Good shape :  (2560, 22)\n",
      "Setting up low-pass filter at 10 Hz\n",
      "h_trans_bandwidth chosen to be 2.5 Hz\n",
      "Filter length of 1352 samples (2.641 sec) selected\n",
      "Setting up low-pass filter at 10 Hz\n",
      "h_trans_bandwidth chosen to be 2.5 Hz\n",
      "Filter length of 1352 samples (2.641 sec) selected\n",
      "Size of filtered data bad : (22, 2560) filtered data good :  (22, 2560)\n",
      "time points :  (2560,)\n",
      "Applying baseline correction (mode: mean)\n",
      "Applying baseline correction (mode: mean)\n",
      "Size norm & filtered data 0 :  (22, 2560) (22, 2560)\n",
      "-> Shape of bad data (22, 563) good data (22, 563)\n",
      "(22, 1000, 56) (22, 1000, 56)\n",
      "(1000, 56)\n",
      "[-1.8363561844859508, 1.8363561844859508] [-2.674268713504889, 2.674268713504889] [-4.9355904315593317, 4.9355904315593317]\n",
      "(56,) 3.59560529882 -1.52877185101\n",
      "Size of the concatenated data:  (44, 56) Number time windows :  56\n",
      "Size of label for classif:  44\n",
      "th_perm :  65.9090909091 70.4545454545 81.8181818182\n"
     ]
    },
    {
     "name": "stderr",
     "output_type": "stream",
     "text": [
      "/home/karim/anaconda3/lib/python3.5/site-packages/matplotlib/axes/_axes.py:545: UserWarning: No labelled objects found. Use label='...' kwarg on individual plots.\n",
      "  warnings.warn(\"No labelled objects found. \"\n"
     ]
    },
    {
     "name": "stdout",
     "output_type": "stream",
     "text": [
      "LEFC Channel :  l12-l11 Label :  skull-LCR&MTG-ITG Bad shape :  (2560, 22) Good shape :  (2560, 22)\n",
      "Setting up low-pass filter at 10 Hz\n",
      "h_trans_bandwidth chosen to be 2.5 Hz\n",
      "Filter length of 1352 samples (2.641 sec) selected\n",
      "Setting up low-pass filter at 10 Hz\n",
      "h_trans_bandwidth chosen to be 2.5 Hz\n",
      "Filter length of 1352 samples (2.641 sec) selected\n",
      "Size of filtered data bad : (22, 2560) filtered data good :  (22, 2560)\n",
      "time points :  (2560,)\n",
      "Applying baseline correction (mode: mean)\n",
      "Applying baseline correction (mode: mean)\n",
      "Size norm & filtered data 0 :  (22, 2560) (22, 2560)\n",
      "-> Shape of bad data (22, 563) good data (22, 563)\n",
      "(22, 1000, 56) (22, 1000, 56)\n",
      "(1000, 56)\n",
      "[-1.8787973787048129, 1.8787973787048129] [-2.7467907415598929, 2.7467907415598929] [-4.4175779793133039, 4.4175779793133039]\n",
      "(56,) 2.0511378923 -0.724840811746\n",
      "Size of the concatenated data:  (44, 56) Number time windows :  56\n",
      "Size of label for classif:  44\n",
      "th_perm :  65.9090909091 72.7272727273 79.5454545455\n"
     ]
    },
    {
     "name": "stderr",
     "output_type": "stream",
     "text": [
      "/home/karim/anaconda3/lib/python3.5/site-packages/matplotlib/axes/_axes.py:545: UserWarning: No labelled objects found. Use label='...' kwarg on individual plots.\n",
      "  warnings.warn(\"No labelled objects found. \"\n"
     ]
    },
    {
     "name": "stdout",
     "output_type": "stream",
     "text": [
      "LEFC Channel :  m2-m1 Label :  MCC Bad shape :  (2560, 22) Good shape :  (2560, 22)\n",
      "Setting up low-pass filter at 10 Hz\n",
      "h_trans_bandwidth chosen to be 2.5 Hz\n",
      "Filter length of 1352 samples (2.641 sec) selected\n",
      "Setting up low-pass filter at 10 Hz\n",
      "h_trans_bandwidth chosen to be 2.5 Hz\n",
      "Filter length of 1352 samples (2.641 sec) selected\n",
      "Size of filtered data bad : (22, 2560) filtered data good :  (22, 2560)\n",
      "time points :  (2560,)\n",
      "Applying baseline correction (mode: mean)\n",
      "Applying baseline correction (mode: mean)\n",
      "Size norm & filtered data 0 :  (22, 2560) (22, 2560)\n",
      "-> Shape of bad data (22, 563) good data (22, 563)\n",
      "(22, 1000, 56) (22, 1000, 56)\n",
      "(1000, 56)\n",
      "[-1.857838450188714, 1.857838450188714] [-2.6784188454729021, 2.6784188454729021] [-4.1450362102766283, 4.1450362102766283]\n",
      "(56,) 2.16276626309 -1.68062334962\n",
      "Size of the concatenated data:  (44, 56) Number time windows :  56\n",
      "Size of label for classif:  44\n",
      "th_perm :  65.9090909091 70.4545454545 79.5454545455\n"
     ]
    },
    {
     "name": "stderr",
     "output_type": "stream",
     "text": [
      "/home/karim/anaconda3/lib/python3.5/site-packages/matplotlib/axes/_axes.py:545: UserWarning: No labelled objects found. Use label='...' kwarg on individual plots.\n",
      "  warnings.warn(\"No labelled objects found. \"\n"
     ]
    },
    {
     "name": "stdout",
     "output_type": "stream",
     "text": [
      "LEFC Channel :  m3-m2 Label :  MCC Bad shape :  (2560, 22) Good shape :  (2560, 22)\n",
      "Setting up low-pass filter at 10 Hz\n",
      "h_trans_bandwidth chosen to be 2.5 Hz\n",
      "Filter length of 1352 samples (2.641 sec) selected\n",
      "Setting up low-pass filter at 10 Hz\n",
      "h_trans_bandwidth chosen to be 2.5 Hz\n",
      "Filter length of 1352 samples (2.641 sec) selected\n",
      "Size of filtered data bad : (22, 2560) filtered data good :  (22, 2560)\n",
      "time points :  (2560,)\n",
      "Applying baseline correction (mode: mean)\n",
      "Applying baseline correction (mode: mean)\n",
      "Size norm & filtered data 0 :  (22, 2560) (22, 2560)\n",
      "-> Shape of bad data (22, 563) good data (22, 563)\n",
      "(22, 1000, 56) (22, 1000, 56)\n",
      "(1000, 56)\n",
      "[-1.8000887459528769, 1.8000887459528769] [-2.779798843058126, 2.779798843058126] [-5.0348039502367845, 5.0348039502367845]\n",
      "(56,) 1.31953386045 -1.77231664043\n",
      "Size of the concatenated data:  (44, 56) Number time windows :  56\n",
      "Size of label for classif:  44\n",
      "th_perm :  65.9090909091 70.4545454545 79.5454545455\n"
     ]
    },
    {
     "name": "stderr",
     "output_type": "stream",
     "text": [
      "/home/karim/anaconda3/lib/python3.5/site-packages/matplotlib/axes/_axes.py:545: UserWarning: No labelled objects found. Use label='...' kwarg on individual plots.\n",
      "  warnings.warn(\"No labelled objects found. \"\n"
     ]
    },
    {
     "name": "stdout",
     "output_type": "stream",
     "text": [
      "LEFC Channel :  m10-m9 Label :  PoG-SMG Bad shape :  (2560, 22) Good shape :  (2560, 22)\n",
      "Setting up low-pass filter at 10 Hz\n",
      "h_trans_bandwidth chosen to be 2.5 Hz\n",
      "Filter length of 1352 samples (2.641 sec) selected\n",
      "Setting up low-pass filter at 10 Hz\n",
      "h_trans_bandwidth chosen to be 2.5 Hz\n",
      "Filter length of 1352 samples (2.641 sec) selected\n",
      "Size of filtered data bad : (22, 2560) filtered data good :  (22, 2560)\n",
      "time points :  (2560,)\n",
      "Applying baseline correction (mode: mean)\n",
      "Applying baseline correction (mode: mean)\n",
      "Size norm & filtered data 0 :  (22, 2560) (22, 2560)\n",
      "-> Shape of bad data (22, 563) good data (22, 563)\n",
      "(22, 1000, 56) (22, 1000, 56)\n",
      "(1000, 56)\n",
      "[-1.9086085281688914, 1.9086085281688914] [-2.7448664177633102, 2.7448664177633102] [-4.1510380605300083, 4.1510380605300083]\n",
      "(56,) 3.36041939646 -1.70843916382\n",
      "Size of the concatenated data:  (44, 56) Number time windows :  56\n",
      "Size of label for classif:  44\n",
      "th_perm :  65.9090909091 72.7272727273 81.8181818182\n"
     ]
    },
    {
     "name": "stderr",
     "output_type": "stream",
     "text": [
      "/home/karim/anaconda3/lib/python3.5/site-packages/matplotlib/axes/_axes.py:545: UserWarning: No labelled objects found. Use label='...' kwarg on individual plots.\n",
      "  warnings.warn(\"No labelled objects found. \"\n"
     ]
    },
    {
     "name": "stdout",
     "output_type": "stream",
     "text": [
      "LEFC Channel :  m11-m10 Label :  PoG-SMG Bad shape :  (2560, 22) Good shape :  (2560, 22)\n",
      "Setting up low-pass filter at 10 Hz\n",
      "h_trans_bandwidth chosen to be 2.5 Hz\n",
      "Filter length of 1352 samples (2.641 sec) selected\n",
      "Setting up low-pass filter at 10 Hz\n",
      "h_trans_bandwidth chosen to be 2.5 Hz\n",
      "Filter length of 1352 samples (2.641 sec) selected\n",
      "Size of filtered data bad : (22, 2560) filtered data good :  (22, 2560)\n",
      "time points :  (2560,)\n",
      "Applying baseline correction (mode: mean)\n",
      "Applying baseline correction (mode: mean)\n",
      "Size norm & filtered data 0 :  (22, 2560) (22, 2560)\n",
      "-> Shape of bad data (22, 563) good data (22, 563)\n",
      "(22, 1000, 56) (22, 1000, 56)\n",
      "(1000, 56)\n",
      "[-1.8089201777377404, 1.8089201777377404] [-2.8295870456089105, 2.8295870456089105] [-4.0108814801463, 4.0108814801463]\n",
      "(56,) 1.86899282654 -2.22428901837\n",
      "Size of the concatenated data:  (44, 56) Number time windows :  56\n",
      "Size of label for classif:  44\n",
      "th_perm :  65.9090909091 70.4545454545 84.0909090909\n"
     ]
    },
    {
     "name": "stderr",
     "output_type": "stream",
     "text": [
      "/home/karim/anaconda3/lib/python3.5/site-packages/matplotlib/axes/_axes.py:545: UserWarning: No labelled objects found. Use label='...' kwarg on individual plots.\n",
      "  warnings.warn(\"No labelled objects found. \"\n"
     ]
    },
    {
     "name": "stdout",
     "output_type": "stream",
     "text": [
      "LEFC Channel :  m12-m11 Label :  PoG-SMG Bad shape :  (2560, 22) Good shape :  (2560, 22)\n",
      "Setting up low-pass filter at 10 Hz\n",
      "h_trans_bandwidth chosen to be 2.5 Hz\n",
      "Filter length of 1352 samples (2.641 sec) selected\n",
      "Setting up low-pass filter at 10 Hz\n",
      "h_trans_bandwidth chosen to be 2.5 Hz\n",
      "Filter length of 1352 samples (2.641 sec) selected\n",
      "Size of filtered data bad : (22, 2560) filtered data good :  (22, 2560)\n",
      "time points :  (2560,)\n",
      "Applying baseline correction (mode: mean)\n",
      "Applying baseline correction (mode: mean)\n",
      "Size norm & filtered data 0 :  (22, 2560) (22, 2560)\n",
      "-> Shape of bad data (22, 563) good data (22, 563)\n",
      "(22, 1000, 56) (22, 1000, 56)\n",
      "(1000, 56)\n",
      "[-1.8445513036573173, 1.8445513036573173] [-2.6792539634236809, 2.6792539634236809] [-4.6539856725284174, 4.6539856725284174]\n",
      "(56,) 2.49488774974 -1.75250551015\n",
      "Size of the concatenated data:  (44, 56) Number time windows :  56\n",
      "Size of label for classif:  44\n",
      "th_perm :  65.9090909091 72.7272727273 86.3636363636\n"
     ]
    },
    {
     "name": "stderr",
     "output_type": "stream",
     "text": [
      "/home/karim/anaconda3/lib/python3.5/site-packages/matplotlib/axes/_axes.py:545: UserWarning: No labelled objects found. Use label='...' kwarg on individual plots.\n",
      "  warnings.warn(\"No labelled objects found. \"\n"
     ]
    },
    {
     "name": "stdout",
     "output_type": "stream",
     "text": [
      "LEFC Channel :  m13-m12 Label :  PoG-SMG Bad shape :  (2560, 22) Good shape :  (2560, 22)\n",
      "Setting up low-pass filter at 10 Hz\n",
      "h_trans_bandwidth chosen to be 2.5 Hz\n",
      "Filter length of 1352 samples (2.641 sec) selected\n",
      "Setting up low-pass filter at 10 Hz\n",
      "h_trans_bandwidth chosen to be 2.5 Hz\n",
      "Filter length of 1352 samples (2.641 sec) selected\n",
      "Size of filtered data bad : (22, 2560) filtered data good :  (22, 2560)\n",
      "time points :  (2560,)\n",
      "Applying baseline correction (mode: mean)\n",
      "Applying baseline correction (mode: mean)\n",
      "Size norm & filtered data 0 :  (22, 2560) (22, 2560)\n",
      "-> Shape of bad data (22, 563) good data (22, 563)\n",
      "(22, 1000, 56) (22, 1000, 56)\n",
      "(1000, 56)\n",
      "[-1.811499049427246, 1.811499049427246] [-2.5804146864426336, 2.5804146864426336] [-4.3692401710945816, 4.3692401710945816]\n",
      "(56,) 2.4844671575 -2.12178497349\n",
      "Size of the concatenated data:  (44, 56) Number time windows :  56\n",
      "Size of label for classif:  44\n",
      "th_perm :  65.9090909091 70.4545454545 79.5454545455\n"
     ]
    },
    {
     "name": "stderr",
     "output_type": "stream",
     "text": [
      "/home/karim/anaconda3/lib/python3.5/site-packages/matplotlib/axes/_axes.py:545: UserWarning: No labelled objects found. Use label='...' kwarg on individual plots.\n",
      "  warnings.warn(\"No labelled objects found. \"\n"
     ]
    },
    {
     "name": "stdout",
     "output_type": "stream",
     "text": [
      "LEFC Channel :  m14-m13 Label :  PoG-SMG Bad shape :  (2560, 22) Good shape :  (2560, 22)\n",
      "Setting up low-pass filter at 10 Hz\n",
      "h_trans_bandwidth chosen to be 2.5 Hz\n",
      "Filter length of 1352 samples (2.641 sec) selected\n",
      "Setting up low-pass filter at 10 Hz\n",
      "h_trans_bandwidth chosen to be 2.5 Hz\n",
      "Filter length of 1352 samples (2.641 sec) selected\n",
      "Size of filtered data bad : (22, 2560) filtered data good :  (22, 2560)\n",
      "time points :  (2560,)\n",
      "Applying baseline correction (mode: mean)\n",
      "Applying baseline correction (mode: mean)\n",
      "Size norm & filtered data 0 :  (22, 2560) (22, 2560)\n",
      "-> Shape of bad data (22, 563) good data (22, 563)\n",
      "(22, 1000, 56) (22, 1000, 56)\n",
      "(1000, 56)\n",
      "[-1.7950884323478118, 1.7950884323478118] [-2.6029751496061051, 2.6029751496061051] [-4.3262374903919776, 4.3262374903919776]\n",
      "(56,) 3.42515009531 -0.978673789404\n",
      "Size of the concatenated data:  (44, 56) Number time windows :  56\n",
      "Size of label for classif:  44\n",
      "th_perm :  65.9090909091 72.7272727273 81.8181818182\n"
     ]
    },
    {
     "name": "stderr",
     "output_type": "stream",
     "text": [
      "/home/karim/anaconda3/lib/python3.5/site-packages/matplotlib/axes/_axes.py:545: UserWarning: No labelled objects found. Use label='...' kwarg on individual plots.\n",
      "  warnings.warn(\"No labelled objects found. \"\n"
     ]
    },
    {
     "name": "stdout",
     "output_type": "stream",
     "text": [
      "LEFC Channel :  m15-m14 Label :  LCR-PoG-SMG&PoG-SMG Bad shape :  (2560, 22) Good shape :  (2560, 22)\n",
      "Setting up low-pass filter at 10 Hz\n",
      "h_trans_bandwidth chosen to be 2.5 Hz\n",
      "Filter length of 1352 samples (2.641 sec) selected\n",
      "Setting up low-pass filter at 10 Hz\n",
      "h_trans_bandwidth chosen to be 2.5 Hz\n",
      "Filter length of 1352 samples (2.641 sec) selected\n",
      "Size of filtered data bad : (22, 2560) filtered data good :  (22, 2560)\n",
      "time points :  (2560,)\n",
      "Applying baseline correction (mode: mean)\n",
      "Applying baseline correction (mode: mean)\n",
      "Size norm & filtered data 0 :  (22, 2560) (22, 2560)\n",
      "-> Shape of bad data (22, 563) good data (22, 563)\n",
      "(22, 1000, 56) (22, 1000, 56)\n",
      "(1000, 56)\n",
      "[-1.8493105921838762, 1.8493105921838762] [-2.7790931197697897, 2.7790931197697897] [-4.9706824283281081, 4.9706824283281081]\n",
      "(56,) 3.96655239446 -0.834529064623\n",
      "Size of the concatenated data:  (44, 56) Number time windows :  56\n",
      "Size of label for classif:  44\n",
      "th_perm :  65.9090909091 70.4545454545 79.5454545455\n"
     ]
    },
    {
     "name": "stderr",
     "output_type": "stream",
     "text": [
      "/home/karim/anaconda3/lib/python3.5/site-packages/matplotlib/axes/_axes.py:545: UserWarning: No labelled objects found. Use label='...' kwarg on individual plots.\n",
      "  warnings.warn(\"No labelled objects found. \"\n"
     ]
    },
    {
     "name": "stdout",
     "output_type": "stream",
     "text": [
      "LEFC Channel :  o2-o1 Label :  IRoG-SG-MOrG&IRoG-SG Bad shape :  (2560, 22) Good shape :  (2560, 22)\n",
      "Setting up low-pass filter at 10 Hz\n",
      "h_trans_bandwidth chosen to be 2.5 Hz\n",
      "Filter length of 1352 samples (2.641 sec) selected\n",
      "Setting up low-pass filter at 10 Hz\n",
      "h_trans_bandwidth chosen to be 2.5 Hz\n",
      "Filter length of 1352 samples (2.641 sec) selected\n",
      "Size of filtered data bad : (22, 2560) filtered data good :  (22, 2560)\n",
      "time points :  (2560,)\n",
      "Applying baseline correction (mode: mean)\n",
      "Applying baseline correction (mode: mean)\n",
      "Size norm & filtered data 0 :  (22, 2560) (22, 2560)\n",
      "-> Shape of bad data (22, 563) good data (22, 563)\n",
      "(22, 1000, 56) (22, 1000, 56)\n",
      "(1000, 56)\n",
      "[-1.800174842439503, 1.800174842439503] [-2.6993202167844674, 2.6993202167844674] [-4.299502935191641, 4.299502935191641]\n",
      "(56,) 2.51960434366 -1.32904457867\n",
      "Size of the concatenated data:  (44, 56) Number time windows :  56\n",
      "Size of label for classif:  44\n",
      "th_perm :  65.9090909091 72.7272727273 79.5454545455\n"
     ]
    },
    {
     "name": "stderr",
     "output_type": "stream",
     "text": [
      "/home/karim/anaconda3/lib/python3.5/site-packages/matplotlib/axes/_axes.py:545: UserWarning: No labelled objects found. Use label='...' kwarg on individual plots.\n",
      "  warnings.warn(\"No labelled objects found. \"\n"
     ]
    },
    {
     "name": "stdout",
     "output_type": "stream",
     "text": [
      "LEFC Channel :  o3-o2 Label :  SG-MOrG&IRoG-SG-MOrG Bad shape :  (2560, 22) Good shape :  (2560, 22)\n",
      "Setting up low-pass filter at 10 Hz\n",
      "h_trans_bandwidth chosen to be 2.5 Hz\n",
      "Filter length of 1352 samples (2.641 sec) selected\n",
      "Setting up low-pass filter at 10 Hz\n",
      "h_trans_bandwidth chosen to be 2.5 Hz\n",
      "Filter length of 1352 samples (2.641 sec) selected\n",
      "Size of filtered data bad : (22, 2560) filtered data good :  (22, 2560)\n",
      "time points :  (2560,)\n",
      "Applying baseline correction (mode: mean)\n",
      "Applying baseline correction (mode: mean)\n",
      "Size norm & filtered data 0 :  (22, 2560) (22, 2560)\n",
      "-> Shape of bad data (22, 563) good data (22, 563)\n",
      "(22, 1000, 56) (22, 1000, 56)\n",
      "(1000, 56)\n",
      "[-1.8203438983192703, 1.8203438983192703] [-2.8399693548515774, 2.8399693548515774] [-4.6437108130865719, 4.6437108130865719]\n",
      "(56,) 3.0833952851 -1.61963914673\n",
      "Size of the concatenated data:  (44, 56) Number time windows :  56\n",
      "Size of label for classif:  44\n",
      "th_perm :  65.9090909091 70.4545454545 81.8181818182\n"
     ]
    },
    {
     "name": "stderr",
     "output_type": "stream",
     "text": [
      "/home/karim/anaconda3/lib/python3.5/site-packages/matplotlib/axes/_axes.py:545: UserWarning: No labelled objects found. Use label='...' kwarg on individual plots.\n",
      "  warnings.warn(\"No labelled objects found. \"\n"
     ]
    },
    {
     "name": "stdout",
     "output_type": "stream",
     "text": [
      "LEFC Channel :  o4-o3 Label :  MOrG&SG-MOrG Bad shape :  (2560, 22) Good shape :  (2560, 22)\n",
      "Setting up low-pass filter at 10 Hz\n",
      "h_trans_bandwidth chosen to be 2.5 Hz\n",
      "Filter length of 1352 samples (2.641 sec) selected\n",
      "Setting up low-pass filter at 10 Hz\n",
      "h_trans_bandwidth chosen to be 2.5 Hz\n",
      "Filter length of 1352 samples (2.641 sec) selected\n",
      "Size of filtered data bad : (22, 2560) filtered data good :  (22, 2560)\n",
      "time points :  (2560,)\n",
      "Applying baseline correction (mode: mean)\n",
      "Applying baseline correction (mode: mean)\n",
      "Size norm & filtered data 0 :  (22, 2560) (22, 2560)\n",
      "-> Shape of bad data (22, 563) good data (22, 563)\n",
      "(22, 1000, 56) (22, 1000, 56)\n",
      "(1000, 56)\n",
      "[-1.8807805268958659, 1.8807805268958659] [-2.6691470727786961, 2.6691470727786961] [-4.1986042330024445, 4.1986042330024445]\n",
      "(56,) 1.30629182368 -1.26113440574\n",
      "Size of the concatenated data:  (44, 56) Number time windows :  56\n",
      "Size of label for classif:  44\n",
      "th_perm :  65.9090909091 70.4545454545 81.8181818182\n"
     ]
    },
    {
     "name": "stderr",
     "output_type": "stream",
     "text": [
      "/home/karim/anaconda3/lib/python3.5/site-packages/matplotlib/axes/_axes.py:545: UserWarning: No labelled objects found. Use label='...' kwarg on individual plots.\n",
      "  warnings.warn(\"No labelled objects found. \"\n"
     ]
    },
    {
     "name": "stdout",
     "output_type": "stream",
     "text": [
      "LEFC Channel :  o5-o4 Label :  MorG-IorG&MOrG Bad shape :  (2560, 22) Good shape :  (2560, 22)\n",
      "Setting up low-pass filter at 10 Hz\n",
      "h_trans_bandwidth chosen to be 2.5 Hz\n",
      "Filter length of 1352 samples (2.641 sec) selected\n",
      "Setting up low-pass filter at 10 Hz\n",
      "h_trans_bandwidth chosen to be 2.5 Hz\n",
      "Filter length of 1352 samples (2.641 sec) selected\n",
      "Size of filtered data bad : (22, 2560) filtered data good :  (22, 2560)\n",
      "time points :  (2560,)\n",
      "Applying baseline correction (mode: mean)\n",
      "Applying baseline correction (mode: mean)\n",
      "Size norm & filtered data 0 :  (22, 2560) (22, 2560)\n",
      "-> Shape of bad data (22, 563) good data (22, 563)\n",
      "(22, 1000, 56) (22, 1000, 56)\n",
      "(1000, 56)\n",
      "[-1.7769430389497716, 1.7769430389497716] [-2.6825785819665913, 2.6825785819665913] [-4.4630122017045517, 4.4630122017045517]\n",
      "(56,) 1.14408442052 -2.1477144502\n",
      "Size of the concatenated data:  (44, 56) Number time windows :  56\n",
      "Size of label for classif:  44\n",
      "th_perm :  65.9090909091 70.4545454545 79.5454545455\n"
     ]
    },
    {
     "name": "stderr",
     "output_type": "stream",
     "text": [
      "/home/karim/anaconda3/lib/python3.5/site-packages/matplotlib/axes/_axes.py:545: UserWarning: No labelled objects found. Use label='...' kwarg on individual plots.\n",
      "  warnings.warn(\"No labelled objects found. \"\n"
     ]
    },
    {
     "name": "stdout",
     "output_type": "stream",
     "text": [
      "LEFC Channel :  o6-o5 Label :  MorG-IorG Bad shape :  (2560, 22) Good shape :  (2560, 22)\n",
      "Setting up low-pass filter at 10 Hz\n",
      "h_trans_bandwidth chosen to be 2.5 Hz\n",
      "Filter length of 1352 samples (2.641 sec) selected\n",
      "Setting up low-pass filter at 10 Hz\n",
      "h_trans_bandwidth chosen to be 2.5 Hz\n",
      "Filter length of 1352 samples (2.641 sec) selected\n",
      "Size of filtered data bad : (22, 2560) filtered data good :  (22, 2560)\n",
      "time points :  (2560,)\n",
      "Applying baseline correction (mode: mean)\n",
      "Applying baseline correction (mode: mean)\n",
      "Size norm & filtered data 0 :  (22, 2560) (22, 2560)\n",
      "-> Shape of bad data (22, 563) good data (22, 563)\n",
      "(22, 1000, 56) (22, 1000, 56)\n",
      "(1000, 56)\n",
      "[-1.8224800083905626, 1.8224800083905626] [-2.7469529146526215, 2.7469529146526215] [-4.4623559111271929, 4.4623559111271929]\n",
      "(56,) 2.21217025861 -1.77938716761\n",
      "Size of the concatenated data:  (44, 56) Number time windows :  56\n",
      "Size of label for classif:  44\n",
      "th_perm :  65.9090909091 70.4545454545 81.8181818182\n"
     ]
    },
    {
     "name": "stderr",
     "output_type": "stream",
     "text": [
      "/home/karim/anaconda3/lib/python3.5/site-packages/matplotlib/axes/_axes.py:545: UserWarning: No labelled objects found. Use label='...' kwarg on individual plots.\n",
      "  warnings.warn(\"No labelled objects found. \"\n"
     ]
    },
    {
     "name": "stdout",
     "output_type": "stream",
     "text": [
      "LEFC Channel :  o7-o6 Label :  IOrG-LOrG&MorG-IorG Bad shape :  (2560, 22) Good shape :  (2560, 22)\n",
      "Setting up low-pass filter at 10 Hz\n",
      "h_trans_bandwidth chosen to be 2.5 Hz\n",
      "Filter length of 1352 samples (2.641 sec) selected\n",
      "Setting up low-pass filter at 10 Hz\n",
      "h_trans_bandwidth chosen to be 2.5 Hz\n",
      "Filter length of 1352 samples (2.641 sec) selected\n",
      "Size of filtered data bad : (22, 2560) filtered data good :  (22, 2560)\n",
      "time points :  (2560,)\n",
      "Applying baseline correction (mode: mean)\n",
      "Applying baseline correction (mode: mean)\n",
      "Size norm & filtered data 0 :  (22, 2560) (22, 2560)\n",
      "-> Shape of bad data (22, 563) good data (22, 563)\n",
      "(22, 1000, 56) (22, 1000, 56)\n",
      "(1000, 56)\n",
      "[-1.8751456544919261, 1.8751456544919261] [-2.6517351193542988, 2.6517351193542988] [-4.9384827707238852, 4.9384827707238852]\n",
      "(56,) 1.60399123666 -1.83004021872\n",
      "Size of the concatenated data:  (44, 56) Number time windows :  56\n",
      "Size of label for classif:  44\n",
      "th_perm :  65.9090909091 70.4545454545 81.8181818182\n"
     ]
    },
    {
     "name": "stderr",
     "output_type": "stream",
     "text": [
      "/home/karim/anaconda3/lib/python3.5/site-packages/matplotlib/axes/_axes.py:545: UserWarning: No labelled objects found. Use label='...' kwarg on individual plots.\n",
      "  warnings.warn(\"No labelled objects found. \"\n"
     ]
    },
    {
     "name": "stdout",
     "output_type": "stream",
     "text": [
      "LEFC Channel :  o8-o7 Label :  LOrG&IOrG-LOrG Bad shape :  (2560, 22) Good shape :  (2560, 22)\n",
      "Setting up low-pass filter at 10 Hz\n",
      "h_trans_bandwidth chosen to be 2.5 Hz\n",
      "Filter length of 1352 samples (2.641 sec) selected\n",
      "Setting up low-pass filter at 10 Hz\n",
      "h_trans_bandwidth chosen to be 2.5 Hz\n",
      "Filter length of 1352 samples (2.641 sec) selected\n",
      "Size of filtered data bad : (22, 2560) filtered data good :  (22, 2560)\n",
      "time points :  (2560,)\n",
      "Applying baseline correction (mode: mean)\n",
      "Applying baseline correction (mode: mean)\n",
      "Size norm & filtered data 0 :  (22, 2560) (22, 2560)\n",
      "-> Shape of bad data (22, 563) good data (22, 563)\n",
      "(22, 1000, 56) (22, 1000, 56)\n",
      "(1000, 56)\n",
      "[-1.7969107903389681, 1.7969107903389681] [-2.6878623933310051, 2.6878623933310051] [-4.5606595943511365, 4.5606595943511365]\n",
      "(56,) 0.704421744628 -3.48415091917\n",
      "Size of the concatenated data:  (44, 56) Number time windows :  56\n",
      "Size of label for classif:  44\n",
      "th_perm :  65.9090909091 72.7272727273 81.8181818182\n"
     ]
    },
    {
     "name": "stderr",
     "output_type": "stream",
     "text": [
      "/home/karim/anaconda3/lib/python3.5/site-packages/matplotlib/axes/_axes.py:545: UserWarning: No labelled objects found. Use label='...' kwarg on individual plots.\n",
      "  warnings.warn(\"No labelled objects found. \"\n"
     ]
    },
    {
     "name": "stdout",
     "output_type": "stream",
     "text": [
      "LEFC Channel :  o9-o8 Label :  IFGOr-LOrG&LOrG Bad shape :  (2560, 22) Good shape :  (2560, 22)\n",
      "Setting up low-pass filter at 10 Hz\n",
      "h_trans_bandwidth chosen to be 2.5 Hz\n",
      "Filter length of 1352 samples (2.641 sec) selected\n",
      "Setting up low-pass filter at 10 Hz\n",
      "h_trans_bandwidth chosen to be 2.5 Hz\n",
      "Filter length of 1352 samples (2.641 sec) selected\n",
      "Size of filtered data bad : (22, 2560) filtered data good :  (22, 2560)\n",
      "time points :  (2560,)\n",
      "Applying baseline correction (mode: mean)\n",
      "Applying baseline correction (mode: mean)\n",
      "Size norm & filtered data 0 :  (22, 2560) (22, 2560)\n",
      "-> Shape of bad data (22, 563) good data (22, 563)\n",
      "(22, 1000, 56) (22, 1000, 56)\n",
      "(1000, 56)\n",
      "[-1.8130158590755305, 1.8130158590755305] [-2.6814738359670445, 2.6814738359670445] [-4.287001929896002, 4.287001929896002]\n",
      "(56,) 1.62723674616 -1.53731564792\n",
      "Size of the concatenated data:  (44, 56) Number time windows :  56\n",
      "Size of label for classif:  44\n",
      "th_perm :  65.9090909091 72.7272727273 81.8181818182\n"
     ]
    },
    {
     "name": "stderr",
     "output_type": "stream",
     "text": [
      "/home/karim/anaconda3/lib/python3.5/site-packages/matplotlib/axes/_axes.py:545: UserWarning: No labelled objects found. Use label='...' kwarg on individual plots.\n",
      "  warnings.warn(\"No labelled objects found. \"\n"
     ]
    },
    {
     "name": "stdout",
     "output_type": "stream",
     "text": [
      "LEFC Channel :  o10-o9 Label :  IFGOr&IFGOr-LOrG Bad shape :  (2560, 22) Good shape :  (2560, 22)\n",
      "Setting up low-pass filter at 10 Hz\n",
      "h_trans_bandwidth chosen to be 2.5 Hz\n",
      "Filter length of 1352 samples (2.641 sec) selected\n",
      "Setting up low-pass filter at 10 Hz\n",
      "h_trans_bandwidth chosen to be 2.5 Hz\n",
      "Filter length of 1352 samples (2.641 sec) selected\n",
      "Size of filtered data bad : (22, 2560) filtered data good :  (22, 2560)\n",
      "time points :  (2560,)\n",
      "Applying baseline correction (mode: mean)\n",
      "Applying baseline correction (mode: mean)\n",
      "Size norm & filtered data 0 :  (22, 2560) (22, 2560)\n",
      "-> Shape of bad data (22, 563) good data (22, 563)\n",
      "(22, 1000, 56) (22, 1000, 56)\n",
      "(1000, 56)\n",
      "[-1.9103066580856647, 1.9103066580856647] [-2.7526153962596549, 2.7526153962596549] [-4.5365565186793706, 4.5365565186793706]\n",
      "(56,) 1.9012832938 -0.997883886859\n",
      "Size of the concatenated data:  (44, 56) Number time windows :  56\n",
      "Size of label for classif:  44\n",
      "th_perm :  65.9090909091 70.4545454545 79.5454545455\n"
     ]
    },
    {
     "name": "stderr",
     "output_type": "stream",
     "text": [
      "/home/karim/anaconda3/lib/python3.5/site-packages/matplotlib/axes/_axes.py:545: UserWarning: No labelled objects found. Use label='...' kwarg on individual plots.\n",
      "  warnings.warn(\"No labelled objects found. \"\n"
     ]
    },
    {
     "name": "stdout",
     "output_type": "stream",
     "text": [
      "LEFC Channel :  o11-o10 Label :  IFGOr Bad shape :  (2560, 22) Good shape :  (2560, 22)\n",
      "Setting up low-pass filter at 10 Hz\n",
      "h_trans_bandwidth chosen to be 2.5 Hz\n",
      "Filter length of 1352 samples (2.641 sec) selected\n",
      "Setting up low-pass filter at 10 Hz\n",
      "h_trans_bandwidth chosen to be 2.5 Hz\n",
      "Filter length of 1352 samples (2.641 sec) selected\n",
      "Size of filtered data bad : (22, 2560) filtered data good :  (22, 2560)\n",
      "time points :  (2560,)\n",
      "Applying baseline correction (mode: mean)\n",
      "Applying baseline correction (mode: mean)\n",
      "Size norm & filtered data 0 :  (22, 2560) (22, 2560)\n",
      "-> Shape of bad data (22, 563) good data (22, 563)\n",
      "(22, 1000, 56) (22, 1000, 56)\n",
      "(1000, 56)\n",
      "[-1.8285052557357988, 1.8285052557357988] [-2.6224216526259561, 2.6224216526259561] [-3.8695200195795834, 3.8695200195795834]\n",
      "(56,) 1.35447695389 -0.981584751385\n",
      "Size of the concatenated data:  (44, 56) Number time windows :  56\n",
      "Size of label for classif:  44\n",
      "th_perm :  65.9090909091 70.4545454545 81.8181818182\n"
     ]
    },
    {
     "name": "stderr",
     "output_type": "stream",
     "text": [
      "/home/karim/anaconda3/lib/python3.5/site-packages/matplotlib/axes/_axes.py:545: UserWarning: No labelled objects found. Use label='...' kwarg on individual plots.\n",
      "  warnings.warn(\"No labelled objects found. \"\n"
     ]
    },
    {
     "name": "stdout",
     "output_type": "stream",
     "text": [
      "LEFC Channel :  o12-o11 Label :  LCR-IFGOr&IFGOr Bad shape :  (2560, 22) Good shape :  (2560, 22)\n",
      "Setting up low-pass filter at 10 Hz\n",
      "h_trans_bandwidth chosen to be 2.5 Hz\n",
      "Filter length of 1352 samples (2.641 sec) selected\n",
      "Setting up low-pass filter at 10 Hz\n",
      "h_trans_bandwidth chosen to be 2.5 Hz\n",
      "Filter length of 1352 samples (2.641 sec) selected\n",
      "Size of filtered data bad : (22, 2560) filtered data good :  (22, 2560)\n",
      "time points :  (2560,)\n",
      "Applying baseline correction (mode: mean)\n",
      "Applying baseline correction (mode: mean)\n",
      "Size norm & filtered data 0 :  (22, 2560) (22, 2560)\n",
      "-> Shape of bad data (22, 563) good data (22, 563)\n",
      "(22, 1000, 56) (22, 1000, 56)\n",
      "(1000, 56)\n",
      "[-1.8329101991000369, 1.8329101991000369] [-2.6930340400175017, 2.6930340400175017] [-4.1352184370821146, 4.1352184370821146]\n",
      "(56,) 1.78534950961 -1.23417430241\n",
      "Size of the concatenated data:  (44, 56) Number time windows :  56\n",
      "Size of label for classif:  44\n",
      "th_perm :  65.9090909091 70.4545454545 81.8181818182\n"
     ]
    },
    {
     "name": "stderr",
     "output_type": "stream",
     "text": [
      "/home/karim/anaconda3/lib/python3.5/site-packages/matplotlib/axes/_axes.py:545: UserWarning: No labelled objects found. Use label='...' kwarg on individual plots.\n",
      "  warnings.warn(\"No labelled objects found. \"\n"
     ]
    },
    {
     "name": "stdout",
     "output_type": "stream",
     "text": [
      "LEFC Channel :  q2-q1 Label :  PCL-PoG Bad shape :  (2560, 22) Good shape :  (2560, 22)\n",
      "Setting up low-pass filter at 10 Hz\n",
      "h_trans_bandwidth chosen to be 2.5 Hz\n",
      "Filter length of 1352 samples (2.641 sec) selected\n",
      "Setting up low-pass filter at 10 Hz\n",
      "h_trans_bandwidth chosen to be 2.5 Hz\n",
      "Filter length of 1352 samples (2.641 sec) selected\n",
      "Size of filtered data bad : (22, 2560) filtered data good :  (22, 2560)\n",
      "time points :  (2560,)\n",
      "Applying baseline correction (mode: mean)\n",
      "Applying baseline correction (mode: mean)\n",
      "Size norm & filtered data 0 :  (22, 2560) (22, 2560)\n",
      "-> Shape of bad data (22, 563) good data (22, 563)\n",
      "(22, 1000, 56) (22, 1000, 56)\n",
      "(1000, 56)\n",
      "[-1.8136499729269153, 1.8136499729269153] [-2.7040426278078007, 2.7040426278078007] [-4.3055255096430862, 4.3055255096430862]\n",
      "(56,) 2.69491538717 -2.26493898181\n",
      "Size of the concatenated data:  (44, 56) Number time windows :  56\n",
      "Size of label for classif:  44\n",
      "th_perm :  65.9090909091 72.7272727273 79.5454545455\n"
     ]
    },
    {
     "name": "stderr",
     "output_type": "stream",
     "text": [
      "/home/karim/anaconda3/lib/python3.5/site-packages/matplotlib/axes/_axes.py:545: UserWarning: No labelled objects found. Use label='...' kwarg on individual plots.\n",
      "  warnings.warn(\"No labelled objects found. \"\n"
     ]
    },
    {
     "name": "stdout",
     "output_type": "stream",
     "text": [
      "LEFC Channel :  q3-q2 Label :  PCL-PoG Bad shape :  (2560, 22) Good shape :  (2560, 22)\n",
      "Setting up low-pass filter at 10 Hz\n",
      "h_trans_bandwidth chosen to be 2.5 Hz\n",
      "Filter length of 1352 samples (2.641 sec) selected\n",
      "Setting up low-pass filter at 10 Hz\n",
      "h_trans_bandwidth chosen to be 2.5 Hz\n",
      "Filter length of 1352 samples (2.641 sec) selected\n",
      "Size of filtered data bad : (22, 2560) filtered data good :  (22, 2560)\n",
      "time points :  (2560,)\n",
      "Applying baseline correction (mode: mean)\n",
      "Applying baseline correction (mode: mean)\n",
      "Size norm & filtered data 0 :  (22, 2560) (22, 2560)\n",
      "-> Shape of bad data (22, 563) good data (22, 563)\n",
      "(22, 1000, 56) (22, 1000, 56)\n",
      "(1000, 56)\n",
      "[-1.8145561867969473, 1.8145561867969473] [-2.6700872578956298, 2.6700872578956298] [-4.4257293635783963, 4.4257293635783963]\n",
      "(56,) 2.40467676323 -2.46300687433\n",
      "Size of the concatenated data:  (44, 56) Number time windows :  56\n",
      "Size of label for classif:  44\n",
      "th_perm :  65.9090909091 70.4545454545 79.5454545455\n"
     ]
    },
    {
     "name": "stderr",
     "output_type": "stream",
     "text": [
      "/home/karim/anaconda3/lib/python3.5/site-packages/matplotlib/axes/_axes.py:545: UserWarning: No labelled objects found. Use label='...' kwarg on individual plots.\n",
      "  warnings.warn(\"No labelled objects found. \"\n"
     ]
    },
    {
     "name": "stdout",
     "output_type": "stream",
     "text": [
      "LEFC Channel :  q4-q3 Label :  PoG&PCL-PoG Bad shape :  (2560, 22) Good shape :  (2560, 22)\n",
      "Setting up low-pass filter at 10 Hz\n",
      "h_trans_bandwidth chosen to be 2.5 Hz\n",
      "Filter length of 1352 samples (2.641 sec) selected\n",
      "Setting up low-pass filter at 10 Hz\n",
      "h_trans_bandwidth chosen to be 2.5 Hz\n",
      "Filter length of 1352 samples (2.641 sec) selected\n",
      "Size of filtered data bad : (22, 2560) filtered data good :  (22, 2560)\n",
      "time points :  (2560,)\n",
      "Applying baseline correction (mode: mean)\n",
      "Applying baseline correction (mode: mean)\n",
      "Size norm & filtered data 0 :  (22, 2560) (22, 2560)\n",
      "-> Shape of bad data (22, 563) good data (22, 563)\n",
      "(22, 1000, 56) (22, 1000, 56)\n",
      "(1000, 56)\n",
      "[-1.8894176341072488, 1.8894176341072488] [-2.7916208154504867, 2.7916208154504867] [-4.4377863570304594, 4.4377863570304594]\n",
      "(56,) 2.80855746581 -3.66982355812\n",
      "Size of the concatenated data:  (44, 56) Number time windows :  56\n",
      "Size of label for classif:  44\n",
      "th_perm :  65.9090909091 70.4545454545 81.8181818182\n"
     ]
    },
    {
     "name": "stderr",
     "output_type": "stream",
     "text": [
      "/home/karim/anaconda3/lib/python3.5/site-packages/matplotlib/axes/_axes.py:545: UserWarning: No labelled objects found. Use label='...' kwarg on individual plots.\n",
      "  warnings.warn(\"No labelled objects found. \"\n"
     ]
    },
    {
     "name": "stdout",
     "output_type": "stream",
     "text": [
      "LEFC Channel :  q5-q4 Label :  PoG Bad shape :  (2560, 22) Good shape :  (2560, 22)\n",
      "Setting up low-pass filter at 10 Hz\n",
      "h_trans_bandwidth chosen to be 2.5 Hz\n",
      "Filter length of 1352 samples (2.641 sec) selected\n",
      "Setting up low-pass filter at 10 Hz\n",
      "h_trans_bandwidth chosen to be 2.5 Hz\n",
      "Filter length of 1352 samples (2.641 sec) selected\n",
      "Size of filtered data bad : (22, 2560) filtered data good :  (22, 2560)\n",
      "time points :  (2560,)\n",
      "Applying baseline correction (mode: mean)\n",
      "Applying baseline correction (mode: mean)\n",
      "Size norm & filtered data 0 :  (22, 2560) (22, 2560)\n",
      "-> Shape of bad data (22, 563) good data (22, 563)\n",
      "(22, 1000, 56) (22, 1000, 56)\n",
      "(1000, 56)\n",
      "[-1.8083754996732151, 1.8083754996732151] [-2.5864352468695606, 2.5864352468695606] [-5.1813492366639267, 5.1813492366639267]\n",
      "(56,) 1.73666657493 -2.97134392894\n",
      "Size of the concatenated data:  (44, 56) Number time windows :  56\n",
      "Size of label for classif:  44\n",
      "th_perm :  65.9090909091 70.4545454545 81.8181818182\n"
     ]
    },
    {
     "name": "stderr",
     "output_type": "stream",
     "text": [
      "/home/karim/anaconda3/lib/python3.5/site-packages/matplotlib/axes/_axes.py:545: UserWarning: No labelled objects found. Use label='...' kwarg on individual plots.\n",
      "  warnings.warn(\"No labelled objects found. \"\n"
     ]
    },
    {
     "name": "stdout",
     "output_type": "stream",
     "text": [
      "LEFC Channel :  q6-q5 Label :  PoG Bad shape :  (2560, 22) Good shape :  (2560, 22)\n",
      "Setting up low-pass filter at 10 Hz\n",
      "h_trans_bandwidth chosen to be 2.5 Hz\n",
      "Filter length of 1352 samples (2.641 sec) selected\n",
      "Setting up low-pass filter at 10 Hz\n",
      "h_trans_bandwidth chosen to be 2.5 Hz\n",
      "Filter length of 1352 samples (2.641 sec) selected\n",
      "Size of filtered data bad : (22, 2560) filtered data good :  (22, 2560)\n",
      "time points :  (2560,)\n",
      "Applying baseline correction (mode: mean)\n",
      "Applying baseline correction (mode: mean)\n",
      "Size norm & filtered data 0 :  (22, 2560) (22, 2560)\n",
      "-> Shape of bad data (22, 563) good data (22, 563)\n",
      "(22, 1000, 56) (22, 1000, 56)\n",
      "(1000, 56)\n",
      "[-1.8014352835621625, 1.8014352835621625] [-2.6781356185693141, 2.6781356185693141] [-6.2728600279533016, 6.2728600279533016]\n",
      "(56,) 0.916453803821 -3.53506195449\n",
      "Size of the concatenated data:  (44, 56) Number time windows :  56\n",
      "Size of label for classif:  44\n",
      "th_perm :  65.9090909091 70.4545454545 84.0909090909\n"
     ]
    },
    {
     "name": "stderr",
     "output_type": "stream",
     "text": [
      "/home/karim/anaconda3/lib/python3.5/site-packages/matplotlib/axes/_axes.py:545: UserWarning: No labelled objects found. Use label='...' kwarg on individual plots.\n",
      "  warnings.warn(\"No labelled objects found. \"\n"
     ]
    },
    {
     "name": "stdout",
     "output_type": "stream",
     "text": [
      "LEFC Channel :  q7-q6 Label :  PoG-SMG&PoG Bad shape :  (2560, 22) Good shape :  (2560, 22)\n",
      "Setting up low-pass filter at 10 Hz\n",
      "h_trans_bandwidth chosen to be 2.5 Hz\n",
      "Filter length of 1352 samples (2.641 sec) selected\n",
      "Setting up low-pass filter at 10 Hz\n",
      "h_trans_bandwidth chosen to be 2.5 Hz\n",
      "Filter length of 1352 samples (2.641 sec) selected\n",
      "Size of filtered data bad : (22, 2560) filtered data good :  (22, 2560)\n",
      "time points :  (2560,)\n",
      "Applying baseline correction (mode: mean)\n",
      "Applying baseline correction (mode: mean)\n",
      "Size norm & filtered data 0 :  (22, 2560) (22, 2560)\n",
      "-> Shape of bad data (22, 563) good data (22, 563)\n",
      "(22, 1000, 56) (22, 1000, 56)\n",
      "(1000, 56)\n",
      "[-1.8176165809995475, 1.8176165809995475] [-2.6439436391448901, 2.6439436391448901] [-4.5444094998984781, 4.5444094998984781]\n",
      "(56,) 0.750990232792 -2.99204990065\n",
      "Size of the concatenated data:  (44, 56) Number time windows :  56\n",
      "Size of label for classif:  44\n",
      "th_perm :  65.9090909091 70.4545454545 84.0909090909\n"
     ]
    },
    {
     "name": "stderr",
     "output_type": "stream",
     "text": [
      "/home/karim/anaconda3/lib/python3.5/site-packages/matplotlib/axes/_axes.py:545: UserWarning: No labelled objects found. Use label='...' kwarg on individual plots.\n",
      "  warnings.warn(\"No labelled objects found. \"\n"
     ]
    },
    {
     "name": "stdout",
     "output_type": "stream",
     "text": [
      "LEFC Channel :  q8-q7 Label :  PoG-SMG Bad shape :  (2560, 22) Good shape :  (2560, 22)\n",
      "Setting up low-pass filter at 10 Hz\n",
      "h_trans_bandwidth chosen to be 2.5 Hz\n",
      "Filter length of 1352 samples (2.641 sec) selected\n",
      "Setting up low-pass filter at 10 Hz\n",
      "h_trans_bandwidth chosen to be 2.5 Hz\n",
      "Filter length of 1352 samples (2.641 sec) selected\n",
      "Size of filtered data bad : (22, 2560) filtered data good :  (22, 2560)\n",
      "time points :  (2560,)\n",
      "Applying baseline correction (mode: mean)\n",
      "Applying baseline correction (mode: mean)\n",
      "Size norm & filtered data 0 :  (22, 2560) (22, 2560)\n",
      "-> Shape of bad data (22, 563) good data (22, 563)\n",
      "(22, 1000, 56) (22, 1000, 56)\n",
      "(1000, 56)\n",
      "[-1.835750225495165, 1.835750225495165] [-2.7407697124861028, 2.7407697124861028] [-4.6282162757156016, 4.6282162757156016]\n",
      "(56,) 3.42316250331 -2.50558228177\n",
      "Size of the concatenated data:  (44, 56) Number time windows :  56\n",
      "Size of label for classif:  44\n",
      "th_perm :  65.9090909091 70.4545454545 81.8181818182\n"
     ]
    },
    {
     "name": "stderr",
     "output_type": "stream",
     "text": [
      "/home/karim/anaconda3/lib/python3.5/site-packages/matplotlib/axes/_axes.py:545: UserWarning: No labelled objects found. Use label='...' kwarg on individual plots.\n",
      "  warnings.warn(\"No labelled objects found. \"\n"
     ]
    },
    {
     "name": "stdout",
     "output_type": "stream",
     "text": [
      "LEFC Channel :  q9-q8 Label :  PoG-SMG Bad shape :  (2560, 22) Good shape :  (2560, 22)\n",
      "Setting up low-pass filter at 10 Hz\n",
      "h_trans_bandwidth chosen to be 2.5 Hz\n",
      "Filter length of 1352 samples (2.641 sec) selected\n",
      "Setting up low-pass filter at 10 Hz\n",
      "h_trans_bandwidth chosen to be 2.5 Hz\n",
      "Filter length of 1352 samples (2.641 sec) selected\n",
      "Size of filtered data bad : (22, 2560) filtered data good :  (22, 2560)\n",
      "time points :  (2560,)\n",
      "Applying baseline correction (mode: mean)\n",
      "Applying baseline correction (mode: mean)\n",
      "Size norm & filtered data 0 :  (22, 2560) (22, 2560)\n",
      "-> Shape of bad data (22, 563) good data (22, 563)\n",
      "(22, 1000, 56) (22, 1000, 56)\n",
      "(1000, 56)\n",
      "[-1.8231146616135834, 1.8231146616135834] [-2.6446173309640582, 2.6446173309640582] [-4.6450036255403573, 4.6450036255403573]\n",
      "(56,) 2.21689789819 -2.87424293281\n",
      "Size of the concatenated data:  (44, 56) Number time windows :  56\n",
      "Size of label for classif:  44\n",
      "th_perm :  65.9090909091 70.4545454545 81.8181818182\n"
     ]
    },
    {
     "name": "stderr",
     "output_type": "stream",
     "text": [
      "/home/karim/anaconda3/lib/python3.5/site-packages/matplotlib/axes/_axes.py:545: UserWarning: No labelled objects found. Use label='...' kwarg on individual plots.\n",
      "  warnings.warn(\"No labelled objects found. \"\n"
     ]
    },
    {
     "name": "stdout",
     "output_type": "stream",
     "text": [
      "LEFC Channel :  q10-q9 Label :  SMG&PoG-SMG Bad shape :  (2560, 22) Good shape :  (2560, 22)\n",
      "Setting up low-pass filter at 10 Hz\n",
      "h_trans_bandwidth chosen to be 2.5 Hz\n",
      "Filter length of 1352 samples (2.641 sec) selected\n",
      "Setting up low-pass filter at 10 Hz\n",
      "h_trans_bandwidth chosen to be 2.5 Hz\n",
      "Filter length of 1352 samples (2.641 sec) selected\n",
      "Size of filtered data bad : (22, 2560) filtered data good :  (22, 2560)\n",
      "time points :  (2560,)\n",
      "Applying baseline correction (mode: mean)\n",
      "Applying baseline correction (mode: mean)\n",
      "Size norm & filtered data 0 :  (22, 2560) (22, 2560)\n",
      "-> Shape of bad data (22, 563) good data (22, 563)\n",
      "(22, 1000, 56) (22, 1000, 56)\n",
      "(1000, 56)\n",
      "[-1.8221718047374187, 1.8221718047374187] [-2.8476905796409557, 2.8476905796409557] [-4.7658842379740021, 4.7658842379740021]\n",
      "(56,) 1.69492260424 -2.62567465428\n",
      "Size of the concatenated data:  (44, 56) Number time windows :  56\n",
      "Size of label for classif:  44\n",
      "th_perm :  65.9090909091 70.4545454545 81.8181818182\n"
     ]
    },
    {
     "name": "stderr",
     "output_type": "stream",
     "text": [
      "/home/karim/anaconda3/lib/python3.5/site-packages/matplotlib/axes/_axes.py:545: UserWarning: No labelled objects found. Use label='...' kwarg on individual plots.\n",
      "  warnings.warn(\"No labelled objects found. \"\n"
     ]
    },
    {
     "name": "stdout",
     "output_type": "stream",
     "text": [
      "LEFC Channel :  q11-q10 Label :  SMG Bad shape :  (2560, 22) Good shape :  (2560, 22)\n",
      "Setting up low-pass filter at 10 Hz\n",
      "h_trans_bandwidth chosen to be 2.5 Hz\n",
      "Filter length of 1352 samples (2.641 sec) selected\n",
      "Setting up low-pass filter at 10 Hz\n",
      "h_trans_bandwidth chosen to be 2.5 Hz\n",
      "Filter length of 1352 samples (2.641 sec) selected\n",
      "Size of filtered data bad : (22, 2560) filtered data good :  (22, 2560)\n",
      "time points :  (2560,)\n",
      "Applying baseline correction (mode: mean)\n",
      "Applying baseline correction (mode: mean)\n",
      "Size norm & filtered data 0 :  (22, 2560) (22, 2560)\n",
      "-> Shape of bad data (22, 563) good data (22, 563)\n",
      "(22, 1000, 56) (22, 1000, 56)\n",
      "(1000, 56)\n",
      "[-1.8077739580522287, 1.8077739580522287] [-2.7407128011273163, 2.7407128011273163] [-4.4474888392694742, 4.4474888392694742]\n",
      "(56,) 2.0297157788 -2.85728830871\n",
      "Size of the concatenated data:  (44, 56) Number time windows :  56\n",
      "Size of label for classif:  44\n",
      "th_perm :  65.9090909091 70.4545454545 81.8181818182\n"
     ]
    },
    {
     "name": "stderr",
     "output_type": "stream",
     "text": [
      "/home/karim/anaconda3/lib/python3.5/site-packages/matplotlib/axes/_axes.py:545: UserWarning: No labelled objects found. Use label='...' kwarg on individual plots.\n",
      "  warnings.warn(\"No labelled objects found. \"\n"
     ]
    },
    {
     "name": "stdout",
     "output_type": "stream",
     "text": [
      "LEFC Channel :  q12-q11 Label :  skull-LCR&SMG Bad shape :  (2560, 22) Good shape :  (2560, 22)\n",
      "Setting up low-pass filter at 10 Hz\n",
      "h_trans_bandwidth chosen to be 2.5 Hz\n",
      "Filter length of 1352 samples (2.641 sec) selected\n",
      "Setting up low-pass filter at 10 Hz\n",
      "h_trans_bandwidth chosen to be 2.5 Hz\n",
      "Filter length of 1352 samples (2.641 sec) selected\n",
      "Size of filtered data bad : (22, 2560) filtered data good :  (22, 2560)\n",
      "time points :  (2560,)\n",
      "Applying baseline correction (mode: mean)\n",
      "Applying baseline correction (mode: mean)\n",
      "Size norm & filtered data 0 :  (22, 2560) (22, 2560)\n",
      "-> Shape of bad data (22, 563) good data (22, 563)\n",
      "(22, 1000, 56) (22, 1000, 56)\n",
      "(1000, 56)\n",
      "[-1.8344420442095992, 1.8344420442095992] [-2.6942931274775304, 2.6942931274775304] [-4.4843891457035614, 4.4843891457035614]\n",
      "(56,) 1.98675867101 -2.13897016643\n",
      "Size of the concatenated data:  (44, 56) Number time windows :  56\n",
      "Size of label for classif:  44\n",
      "th_perm :  65.9090909091 70.4545454545 81.8181818182\n"
     ]
    },
    {
     "name": "stderr",
     "output_type": "stream",
     "text": [
      "/home/karim/anaconda3/lib/python3.5/site-packages/matplotlib/axes/_axes.py:545: UserWarning: No labelled objects found. Use label='...' kwarg on individual plots.\n",
      "  warnings.warn(\"No labelled objects found. \"\n"
     ]
    },
    {
     "name": "stdout",
     "output_type": "stream",
     "text": [
      "LEFC Channel :  r2-r1 Label :  PCC-PCL Bad shape :  (2560, 22) Good shape :  (2560, 22)\n",
      "Setting up low-pass filter at 10 Hz\n",
      "h_trans_bandwidth chosen to be 2.5 Hz\n",
      "Filter length of 1352 samples (2.641 sec) selected\n",
      "Setting up low-pass filter at 10 Hz\n",
      "h_trans_bandwidth chosen to be 2.5 Hz\n",
      "Filter length of 1352 samples (2.641 sec) selected\n",
      "Size of filtered data bad : (22, 2560) filtered data good :  (22, 2560)\n",
      "time points :  (2560,)\n",
      "Applying baseline correction (mode: mean)\n",
      "Applying baseline correction (mode: mean)\n",
      "Size norm & filtered data 0 :  (22, 2560) (22, 2560)\n",
      "-> Shape of bad data (22, 563) good data (22, 563)\n",
      "(22, 1000, 56) (22, 1000, 56)\n",
      "(1000, 56)\n",
      "[-1.8209401637426115, 1.8209401637426115] [-2.7479341419219758, 2.7479341419219758] [-5.3370669446329346, 5.3370669446329346]\n",
      "(56,) 2.66211284295 -2.80986483793\n",
      "Size of the concatenated data:  (44, 56) Number time windows :  56\n",
      "Size of label for classif:  44\n",
      "th_perm :  65.9090909091 70.4545454545 81.8181818182\n"
     ]
    },
    {
     "name": "stderr",
     "output_type": "stream",
     "text": [
      "/home/karim/anaconda3/lib/python3.5/site-packages/matplotlib/axes/_axes.py:545: UserWarning: No labelled objects found. Use label='...' kwarg on individual plots.\n",
      "  warnings.warn(\"No labelled objects found. \"\n"
     ]
    },
    {
     "name": "stdout",
     "output_type": "stream",
     "text": [
      "LEFC Channel :  r8-r7 Label :  PoG-SMG Bad shape :  (2560, 22) Good shape :  (2560, 22)\n",
      "Setting up low-pass filter at 10 Hz\n",
      "h_trans_bandwidth chosen to be 2.5 Hz\n",
      "Filter length of 1352 samples (2.641 sec) selected\n",
      "Setting up low-pass filter at 10 Hz\n",
      "h_trans_bandwidth chosen to be 2.5 Hz\n",
      "Filter length of 1352 samples (2.641 sec) selected\n",
      "Size of filtered data bad : (22, 2560) filtered data good :  (22, 2560)\n",
      "time points :  (2560,)\n",
      "Applying baseline correction (mode: mean)\n",
      "Applying baseline correction (mode: mean)\n",
      "Size norm & filtered data 0 :  (22, 2560) (22, 2560)\n",
      "-> Shape of bad data (22, 563) good data (22, 563)\n",
      "(22, 1000, 56) (22, 1000, 56)\n",
      "(1000, 56)\n",
      "[-1.8307087936891779, 1.8307087936891779] [-2.7904260871618582, 2.7904260871618582] [-4.646097797173443, 4.646097797173443]\n",
      "(56,) 2.80538717161 -2.6504711388\n",
      "Size of the concatenated data:  (44, 56) Number time windows :  56\n",
      "Size of label for classif:  44\n",
      "th_perm :  65.9090909091 72.7272727273 79.5454545455\n"
     ]
    },
    {
     "name": "stderr",
     "output_type": "stream",
     "text": [
      "/home/karim/anaconda3/lib/python3.5/site-packages/matplotlib/axes/_axes.py:545: UserWarning: No labelled objects found. Use label='...' kwarg on individual plots.\n",
      "  warnings.warn(\"No labelled objects found. \"\n"
     ]
    },
    {
     "name": "stdout",
     "output_type": "stream",
     "text": [
      "LEFC Channel :  r9-r8 Label :  PoG-SMG Bad shape :  (2560, 22) Good shape :  (2560, 22)\n",
      "Setting up low-pass filter at 10 Hz\n",
      "h_trans_bandwidth chosen to be 2.5 Hz\n",
      "Filter length of 1352 samples (2.641 sec) selected\n",
      "Setting up low-pass filter at 10 Hz\n",
      "h_trans_bandwidth chosen to be 2.5 Hz\n",
      "Filter length of 1352 samples (2.641 sec) selected\n",
      "Size of filtered data bad : (22, 2560) filtered data good :  (22, 2560)\n",
      "time points :  (2560,)\n",
      "Applying baseline correction (mode: mean)\n",
      "Applying baseline correction (mode: mean)\n",
      "Size norm & filtered data 0 :  (22, 2560) (22, 2560)\n",
      "-> Shape of bad data (22, 563) good data (22, 563)\n",
      "(22, 1000, 56) (22, 1000, 56)\n",
      "(1000, 56)\n",
      "[-1.7904743546781938, 1.7904743546781938] [-2.6865255863293687, 2.6865255863293687] [-4.4308740209549473, 4.4308740209549473]\n",
      "(56,) 2.06961111678 -2.42833957505\n",
      "Size of the concatenated data:  (44, 56) Number time windows :  56\n",
      "Size of label for classif:  44\n",
      "th_perm :  65.9090909091 70.4545454545 79.5454545455\n"
     ]
    },
    {
     "name": "stderr",
     "output_type": "stream",
     "text": [
      "/home/karim/anaconda3/lib/python3.5/site-packages/matplotlib/axes/_axes.py:545: UserWarning: No labelled objects found. Use label='...' kwarg on individual plots.\n",
      "  warnings.warn(\"No labelled objects found. \"\n"
     ]
    },
    {
     "name": "stdout",
     "output_type": "stream",
     "text": [
      "LEFC Channel :  r10-r9 Label :  PoG-SMG Bad shape :  (2560, 22) Good shape :  (2560, 22)\n",
      "Setting up low-pass filter at 10 Hz\n",
      "h_trans_bandwidth chosen to be 2.5 Hz\n",
      "Filter length of 1352 samples (2.641 sec) selected\n",
      "Setting up low-pass filter at 10 Hz\n",
      "h_trans_bandwidth chosen to be 2.5 Hz\n",
      "Filter length of 1352 samples (2.641 sec) selected\n",
      "Size of filtered data bad : (22, 2560) filtered data good :  (22, 2560)\n",
      "time points :  (2560,)\n",
      "Applying baseline correction (mode: mean)\n",
      "Applying baseline correction (mode: mean)\n",
      "Size norm & filtered data 0 :  (22, 2560) (22, 2560)\n",
      "-> Shape of bad data (22, 563) good data (22, 563)\n",
      "(22, 1000, 56) (22, 1000, 56)\n",
      "(1000, 56)\n",
      "[-1.8161848437555319, 1.8161848437555319] [-2.6409531007137068, 2.6409531007137068] [-4.3563993100611711, 4.3563993100611711]\n",
      "(56,) 2.07015478123 -2.72509834506\n",
      "Size of the concatenated data:  (44, 56) Number time windows :  56\n",
      "Size of label for classif:  44\n",
      "th_perm :  65.9090909091 70.4545454545 79.5454545455\n"
     ]
    },
    {
     "name": "stderr",
     "output_type": "stream",
     "text": [
      "/home/karim/anaconda3/lib/python3.5/site-packages/matplotlib/axes/_axes.py:545: UserWarning: No labelled objects found. Use label='...' kwarg on individual plots.\n",
      "  warnings.warn(\"No labelled objects found. \"\n"
     ]
    },
    {
     "name": "stdout",
     "output_type": "stream",
     "text": [
      "LEFC Channel :  r11-r10 Label :  SMG&PoG-SMG Bad shape :  (2560, 22) Good shape :  (2560, 22)\n",
      "Setting up low-pass filter at 10 Hz\n",
      "h_trans_bandwidth chosen to be 2.5 Hz\n",
      "Filter length of 1352 samples (2.641 sec) selected\n",
      "Setting up low-pass filter at 10 Hz\n",
      "h_trans_bandwidth chosen to be 2.5 Hz\n",
      "Filter length of 1352 samples (2.641 sec) selected\n",
      "Size of filtered data bad : (22, 2560) filtered data good :  (22, 2560)\n",
      "time points :  (2560,)\n",
      "Applying baseline correction (mode: mean)\n",
      "Applying baseline correction (mode: mean)\n",
      "Size norm & filtered data 0 :  (22, 2560) (22, 2560)\n",
      "-> Shape of bad data (22, 563) good data (22, 563)\n",
      "(22, 1000, 56) (22, 1000, 56)\n",
      "(1000, 56)\n",
      "[-1.8385884839972109, 1.8385884839972109] [-2.8149126233754118, 2.8149126233754118] [-4.3866673803285146, 4.3866673803285146]\n",
      "(56,) 2.34093338071 -2.13293944921\n",
      "Size of the concatenated data:  (44, 56) Number time windows :  56\n",
      "Size of label for classif:  44\n",
      "th_perm :  65.9090909091 70.4545454545 79.5454545455\n"
     ]
    },
    {
     "name": "stderr",
     "output_type": "stream",
     "text": [
      "/home/karim/anaconda3/lib/python3.5/site-packages/matplotlib/axes/_axes.py:545: UserWarning: No labelled objects found. Use label='...' kwarg on individual plots.\n",
      "  warnings.warn(\"No labelled objects found. \"\n"
     ]
    },
    {
     "name": "stdout",
     "output_type": "stream",
     "text": [
      "LEFC Channel :  r12-r11 Label :  SMG Bad shape :  (2560, 22) Good shape :  (2560, 22)\n",
      "Setting up low-pass filter at 10 Hz\n",
      "h_trans_bandwidth chosen to be 2.5 Hz\n",
      "Filter length of 1352 samples (2.641 sec) selected\n",
      "Setting up low-pass filter at 10 Hz\n",
      "h_trans_bandwidth chosen to be 2.5 Hz\n",
      "Filter length of 1352 samples (2.641 sec) selected\n",
      "Size of filtered data bad : (22, 2560) filtered data good :  (22, 2560)\n",
      "time points :  (2560,)\n",
      "Applying baseline correction (mode: mean)\n",
      "Applying baseline correction (mode: mean)\n",
      "Size norm & filtered data 0 :  (22, 2560) (22, 2560)\n",
      "-> Shape of bad data (22, 563) good data (22, 563)\n",
      "(22, 1000, 56) (22, 1000, 56)\n",
      "(1000, 56)\n",
      "[-1.9014184984782894, 1.9014184984782894] [-2.7343080856281152, 2.7343080856281152] [-5.1350114683161046, 5.1350114683161046]\n",
      "(56,) 2.40556633937 -2.51186250909\n",
      "Size of the concatenated data:  (44, 56) Number time windows :  56\n",
      "Size of label for classif:  44\n",
      "th_perm :  65.9090909091 70.4545454545 81.8181818182\n"
     ]
    },
    {
     "name": "stderr",
     "output_type": "stream",
     "text": [
      "/home/karim/anaconda3/lib/python3.5/site-packages/matplotlib/axes/_axes.py:545: UserWarning: No labelled objects found. Use label='...' kwarg on individual plots.\n",
      "  warnings.warn(\"No labelled objects found. \"\n"
     ]
    },
    {
     "name": "stdout",
     "output_type": "stream",
     "text": [
      "LEFC Channel :  r13-r12 Label :  SMG Bad shape :  (2560, 22) Good shape :  (2560, 22)\n",
      "Setting up low-pass filter at 10 Hz\n",
      "h_trans_bandwidth chosen to be 2.5 Hz\n",
      "Filter length of 1352 samples (2.641 sec) selected\n",
      "Setting up low-pass filter at 10 Hz\n",
      "h_trans_bandwidth chosen to be 2.5 Hz\n",
      "Filter length of 1352 samples (2.641 sec) selected\n",
      "Size of filtered data bad : (22, 2560) filtered data good :  (22, 2560)\n",
      "time points :  (2560,)\n",
      "Applying baseline correction (mode: mean)\n",
      "Applying baseline correction (mode: mean)\n",
      "Size norm & filtered data 0 :  (22, 2560) (22, 2560)\n",
      "-> Shape of bad data (22, 563) good data (22, 563)\n",
      "(22, 1000, 56) (22, 1000, 56)\n",
      "(1000, 56)\n",
      "[-1.865765478851289, 1.865765478851289] [-2.8419727287696572, 2.8419727287696572] [-4.9626460023441723, 4.9626460023441723]\n",
      "(56,) 2.79302592934 -2.5465329159\n",
      "Size of the concatenated data:  (44, 56) Number time windows :  56\n",
      "Size of label for classif:  44\n",
      "th_perm :  65.9090909091 70.4545454545 81.8181818182\n"
     ]
    },
    {
     "name": "stderr",
     "output_type": "stream",
     "text": [
      "/home/karim/anaconda3/lib/python3.5/site-packages/matplotlib/axes/_axes.py:545: UserWarning: No labelled objects found. Use label='...' kwarg on individual plots.\n",
      "  warnings.warn(\"No labelled objects found. \"\n"
     ]
    },
    {
     "name": "stdout",
     "output_type": "stream",
     "text": [
      "LEFC Channel :  r14-r13 Label :  SMG Bad shape :  (2560, 22) Good shape :  (2560, 22)\n",
      "Setting up low-pass filter at 10 Hz\n",
      "h_trans_bandwidth chosen to be 2.5 Hz\n",
      "Filter length of 1352 samples (2.641 sec) selected\n",
      "Setting up low-pass filter at 10 Hz\n",
      "h_trans_bandwidth chosen to be 2.5 Hz\n",
      "Filter length of 1352 samples (2.641 sec) selected\n",
      "Size of filtered data bad : (22, 2560) filtered data good :  (22, 2560)\n",
      "time points :  (2560,)\n",
      "Applying baseline correction (mode: mean)\n",
      "Applying baseline correction (mode: mean)\n",
      "Size norm & filtered data 0 :  (22, 2560) (22, 2560)\n",
      "-> Shape of bad data (22, 563) good data (22, 563)\n",
      "(22, 1000, 56) (22, 1000, 56)\n",
      "(1000, 56)\n",
      "[-1.8079777868741822, 1.8079777868741822] [-2.7745143205892751, 2.7745143205892751] [-4.4177760931358154, 4.4177760931358154]\n",
      "(56,) 2.38286993937 -1.95441634751\n",
      "Size of the concatenated data:  (44, 56) Number time windows :  56\n",
      "Size of label for classif:  44\n",
      "th_perm :  65.9090909091 72.7272727273 81.8181818182\n"
     ]
    },
    {
     "name": "stderr",
     "output_type": "stream",
     "text": [
      "/home/karim/anaconda3/lib/python3.5/site-packages/matplotlib/axes/_axes.py:545: UserWarning: No labelled objects found. Use label='...' kwarg on individual plots.\n",
      "  warnings.warn(\"No labelled objects found. \"\n"
     ]
    },
    {
     "name": "stdout",
     "output_type": "stream",
     "text": [
      "LEFC Channel :  r15-r14 Label :  skull-LCR&SMG Bad shape :  (2560, 22) Good shape :  (2560, 22)\n",
      "Setting up low-pass filter at 10 Hz\n",
      "h_trans_bandwidth chosen to be 2.5 Hz\n",
      "Filter length of 1352 samples (2.641 sec) selected\n",
      "Setting up low-pass filter at 10 Hz\n",
      "h_trans_bandwidth chosen to be 2.5 Hz\n",
      "Filter length of 1352 samples (2.641 sec) selected\n",
      "Size of filtered data bad : (22, 2560) filtered data good :  (22, 2560)\n",
      "time points :  (2560,)\n",
      "Applying baseline correction (mode: mean)\n",
      "Applying baseline correction (mode: mean)\n",
      "Size norm & filtered data 0 :  (22, 2560) (22, 2560)\n",
      "-> Shape of bad data (22, 563) good data (22, 563)\n",
      "(22, 1000, 56) (22, 1000, 56)\n",
      "(1000, 56)\n",
      "[-1.8099192979469974, 1.8099192979469974] [-2.7630638452712577, 2.7630638452712577] [-4.0587126236803428, 4.0587126236803428]\n",
      "(56,) 2.95883205788 -1.70983269262\n",
      "Size of the concatenated data:  (44, 56) Number time windows :  56\n",
      "Size of label for classif:  44\n",
      "th_perm :  65.9090909091 72.7272727273 79.5454545455\n"
     ]
    },
    {
     "name": "stderr",
     "output_type": "stream",
     "text": [
      "/home/karim/anaconda3/lib/python3.5/site-packages/matplotlib/axes/_axes.py:545: UserWarning: No labelled objects found. Use label='...' kwarg on individual plots.\n",
      "  warnings.warn(\"No labelled objects found. \"\n"
     ]
    },
    {
     "name": "stdout",
     "output_type": "stream",
     "text": [
      "LEFC Channel :  s2-s1 Label :  PCL-SFGL Bad shape :  (2560, 22) Good shape :  (2560, 22)\n",
      "Setting up low-pass filter at 10 Hz\n",
      "h_trans_bandwidth chosen to be 2.5 Hz\n",
      "Filter length of 1352 samples (2.641 sec) selected\n",
      "Setting up low-pass filter at 10 Hz\n",
      "h_trans_bandwidth chosen to be 2.5 Hz\n",
      "Filter length of 1352 samples (2.641 sec) selected\n",
      "Size of filtered data bad : (22, 2560) filtered data good :  (22, 2560)\n",
      "time points :  (2560,)\n",
      "Applying baseline correction (mode: mean)\n",
      "Applying baseline correction (mode: mean)\n",
      "Size norm & filtered data 0 :  (22, 2560) (22, 2560)\n",
      "-> Shape of bad data (22, 563) good data (22, 563)\n",
      "(22, 1000, 56) (22, 1000, 56)\n",
      "(1000, 56)\n",
      "[-1.9247416650415885, 1.9247416650415885] [-2.7131954559965856, 2.7131954559965856] [-4.520767226966127, 4.520767226966127]\n",
      "(56,) 1.64406253973 -3.78893552034\n",
      "Size of the concatenated data:  (44, 56) Number time windows :  56\n",
      "Size of label for classif:  44\n",
      "th_perm :  65.9090909091 72.7272727273 81.8181818182\n"
     ]
    },
    {
     "name": "stderr",
     "output_type": "stream",
     "text": [
      "/home/karim/anaconda3/lib/python3.5/site-packages/matplotlib/axes/_axes.py:545: UserWarning: No labelled objects found. Use label='...' kwarg on individual plots.\n",
      "  warnings.warn(\"No labelled objects found. \"\n"
     ]
    },
    {
     "name": "stdout",
     "output_type": "stream",
     "text": [
      "LEFC Channel :  s3-s2 Label :  PCL-SFGL Bad shape :  (2560, 22) Good shape :  (2560, 22)\n",
      "Setting up low-pass filter at 10 Hz\n",
      "h_trans_bandwidth chosen to be 2.5 Hz\n",
      "Filter length of 1352 samples (2.641 sec) selected\n",
      "Setting up low-pass filter at 10 Hz\n",
      "h_trans_bandwidth chosen to be 2.5 Hz\n",
      "Filter length of 1352 samples (2.641 sec) selected\n",
      "Size of filtered data bad : (22, 2560) filtered data good :  (22, 2560)\n",
      "time points :  (2560,)\n",
      "Applying baseline correction (mode: mean)\n",
      "Applying baseline correction (mode: mean)\n",
      "Size norm & filtered data 0 :  (22, 2560) (22, 2560)\n",
      "-> Shape of bad data (22, 563) good data (22, 563)\n",
      "(22, 1000, 56) (22, 1000, 56)\n",
      "(1000, 56)\n",
      "[-1.8557026185553209, 1.8557026185553209] [-2.7216496713831231, 2.7216496713831231] [-5.3983013822678005, 5.3983013822678005]\n",
      "(56,) 3.1869293085 -1.84951831386\n",
      "Size of the concatenated data:  (44, 56) Number time windows :  56\n",
      "Size of label for classif:  44\n",
      "th_perm :  65.9090909091 72.7272727273 79.5454545455\n"
     ]
    },
    {
     "name": "stderr",
     "output_type": "stream",
     "text": [
      "/home/karim/anaconda3/lib/python3.5/site-packages/matplotlib/axes/_axes.py:545: UserWarning: No labelled objects found. Use label='...' kwarg on individual plots.\n",
      "  warnings.warn(\"No labelled objects found. \"\n"
     ]
    },
    {
     "name": "stdout",
     "output_type": "stream",
     "text": [
      "LEFC Channel :  s4-s3 Label :  PrG-SFGL&PCL-SFGL Bad shape :  (2560, 22) Good shape :  (2560, 22)\n",
      "Setting up low-pass filter at 10 Hz\n",
      "h_trans_bandwidth chosen to be 2.5 Hz\n",
      "Filter length of 1352 samples (2.641 sec) selected\n",
      "Setting up low-pass filter at 10 Hz\n",
      "h_trans_bandwidth chosen to be 2.5 Hz\n",
      "Filter length of 1352 samples (2.641 sec) selected\n",
      "Size of filtered data bad : (22, 2560) filtered data good :  (22, 2560)\n",
      "time points :  (2560,)\n",
      "Applying baseline correction (mode: mean)\n",
      "Applying baseline correction (mode: mean)\n",
      "Size norm & filtered data 0 :  (22, 2560) (22, 2560)\n",
      "-> Shape of bad data (22, 563) good data (22, 563)\n",
      "(22, 1000, 56) (22, 1000, 56)\n",
      "(1000, 56)\n",
      "[-1.8107260953733788, 1.8107260953733788] [-2.7521568237300755, 2.7521568237300755] [-4.1248806455707845, 4.1248806455707845]\n",
      "(56,) 2.48240451741 -1.54070231218\n",
      "Size of the concatenated data:  (44, 56) Number time windows :  56\n",
      "Size of label for classif:  44\n",
      "th_perm :  68.1818181818 72.7272727273 81.8181818182\n"
     ]
    },
    {
     "name": "stderr",
     "output_type": "stream",
     "text": [
      "/home/karim/anaconda3/lib/python3.5/site-packages/matplotlib/axes/_axes.py:545: UserWarning: No labelled objects found. Use label='...' kwarg on individual plots.\n",
      "  warnings.warn(\"No labelled objects found. \"\n"
     ]
    },
    {
     "name": "stdout",
     "output_type": "stream",
     "text": [
      "LEFC Channel :  s5-s4 Label :  PrG-SFGL Bad shape :  (2560, 22) Good shape :  (2560, 22)\n",
      "Setting up low-pass filter at 10 Hz\n",
      "h_trans_bandwidth chosen to be 2.5 Hz\n",
      "Filter length of 1352 samples (2.641 sec) selected\n",
      "Setting up low-pass filter at 10 Hz\n",
      "h_trans_bandwidth chosen to be 2.5 Hz\n",
      "Filter length of 1352 samples (2.641 sec) selected\n",
      "Size of filtered data bad : (22, 2560) filtered data good :  (22, 2560)\n",
      "time points :  (2560,)\n",
      "Applying baseline correction (mode: mean)\n",
      "Applying baseline correction (mode: mean)\n",
      "Size norm & filtered data 0 :  (22, 2560) (22, 2560)\n",
      "-> Shape of bad data (22, 563) good data (22, 563)\n",
      "(22, 1000, 56) (22, 1000, 56)\n",
      "(1000, 56)\n",
      "[-1.8580243730624881, 1.8580243730624881] [-2.7102058495690362, 2.7102058495690362] [-4.8338897246453403, 4.8338897246453403]\n",
      "(56,) 2.96803936337 -2.50817958105\n",
      "Size of the concatenated data:  (44, 56) Number time windows :  56\n",
      "Size of label for classif:  44\n",
      "th_perm :  65.9090909091 72.7272727273 84.0909090909\n"
     ]
    },
    {
     "name": "stderr",
     "output_type": "stream",
     "text": [
      "/home/karim/anaconda3/lib/python3.5/site-packages/matplotlib/axes/_axes.py:545: UserWarning: No labelled objects found. Use label='...' kwarg on individual plots.\n",
      "  warnings.warn(\"No labelled objects found. \"\n"
     ]
    },
    {
     "name": "stdout",
     "output_type": "stream",
     "text": [
      "LEFC Channel :  s6-s5 Label :  PrG-SFGL Bad shape :  (2560, 22) Good shape :  (2560, 22)\n",
      "Setting up low-pass filter at 10 Hz\n",
      "h_trans_bandwidth chosen to be 2.5 Hz\n",
      "Filter length of 1352 samples (2.641 sec) selected\n",
      "Setting up low-pass filter at 10 Hz\n",
      "h_trans_bandwidth chosen to be 2.5 Hz\n",
      "Filter length of 1352 samples (2.641 sec) selected\n",
      "Size of filtered data bad : (22, 2560) filtered data good :  (22, 2560)\n",
      "time points :  (2560,)\n",
      "Applying baseline correction (mode: mean)\n",
      "Applying baseline correction (mode: mean)\n",
      "Size norm & filtered data 0 :  (22, 2560) (22, 2560)\n",
      "-> Shape of bad data (22, 563) good data (22, 563)\n",
      "(22, 1000, 56) (22, 1000, 56)\n",
      "(1000, 56)\n",
      "[-1.8790939992698752, 1.8790939992698752] [-2.5938320079641048, 2.5938320079641048] [-4.0423389230686615, 4.0423389230686615]\n",
      "(56,) 2.14458102879 -2.33809384577\n",
      "Size of the concatenated data:  (44, 56) Number time windows :  56\n",
      "Size of label for classif:  44\n",
      "th_perm :  65.9090909091 70.4545454545 84.0909090909\n"
     ]
    },
    {
     "name": "stderr",
     "output_type": "stream",
     "text": [
      "/home/karim/anaconda3/lib/python3.5/site-packages/matplotlib/axes/_axes.py:545: UserWarning: No labelled objects found. Use label='...' kwarg on individual plots.\n",
      "  warnings.warn(\"No labelled objects found. \"\n"
     ]
    },
    {
     "name": "stdout",
     "output_type": "stream",
     "text": [
      "LEFC Channel :  s7-s6 Label :  PrG&PrG-SFGL Bad shape :  (2560, 22) Good shape :  (2560, 22)\n",
      "Setting up low-pass filter at 10 Hz\n",
      "h_trans_bandwidth chosen to be 2.5 Hz\n",
      "Filter length of 1352 samples (2.641 sec) selected\n",
      "Setting up low-pass filter at 10 Hz\n",
      "h_trans_bandwidth chosen to be 2.5 Hz\n",
      "Filter length of 1352 samples (2.641 sec) selected\n",
      "Size of filtered data bad : (22, 2560) filtered data good :  (22, 2560)\n",
      "time points :  (2560,)\n",
      "Applying baseline correction (mode: mean)\n",
      "Applying baseline correction (mode: mean)\n",
      "Size norm & filtered data 0 :  (22, 2560) (22, 2560)\n",
      "-> Shape of bad data (22, 563) good data (22, 563)\n",
      "(22, 1000, 56) (22, 1000, 56)\n",
      "(1000, 56)\n",
      "[-1.8447203488344619, 1.8447203488344619] [-2.6661576622098084, 2.6661576622098084] [-4.6826264081544737, 4.6826264081544737]\n",
      "(56,) 1.85484928432 -1.75106682112\n",
      "Size of the concatenated data:  (44, 56) Number time windows :  56\n",
      "Size of label for classif:  44\n",
      "th_perm :  65.9090909091 70.4545454545 81.8181818182\n"
     ]
    },
    {
     "name": "stderr",
     "output_type": "stream",
     "text": [
      "/home/karim/anaconda3/lib/python3.5/site-packages/matplotlib/axes/_axes.py:545: UserWarning: No labelled objects found. Use label='...' kwarg on individual plots.\n",
      "  warnings.warn(\"No labelled objects found. \"\n"
     ]
    },
    {
     "name": "stdout",
     "output_type": "stream",
     "text": [
      "LEFC Channel :  s8-s7 Label :  PrG Bad shape :  (2560, 22) Good shape :  (2560, 22)\n",
      "Setting up low-pass filter at 10 Hz\n",
      "h_trans_bandwidth chosen to be 2.5 Hz\n",
      "Filter length of 1352 samples (2.641 sec) selected\n",
      "Setting up low-pass filter at 10 Hz\n",
      "h_trans_bandwidth chosen to be 2.5 Hz\n",
      "Filter length of 1352 samples (2.641 sec) selected\n",
      "Size of filtered data bad : (22, 2560) filtered data good :  (22, 2560)\n",
      "time points :  (2560,)\n",
      "Applying baseline correction (mode: mean)\n",
      "Applying baseline correction (mode: mean)\n",
      "Size norm & filtered data 0 :  (22, 2560) (22, 2560)\n",
      "-> Shape of bad data (22, 563) good data (22, 563)\n",
      "(22, 1000, 56) (22, 1000, 56)\n",
      "(1000, 56)\n",
      "[-1.8503375725125815, 1.8503375725125815] [-2.7491672292065155, 2.7491672292065155] [-4.1035845602611145, 4.1035845602611145]\n",
      "(56,) 2.0876426361 -2.2163863055\n",
      "Size of the concatenated data:  (44, 56) Number time windows :  56\n",
      "Size of label for classif:  44\n",
      "th_perm :  65.9090909091 70.4545454545 79.5454545455\n"
     ]
    },
    {
     "name": "stderr",
     "output_type": "stream",
     "text": [
      "/home/karim/anaconda3/lib/python3.5/site-packages/matplotlib/axes/_axes.py:545: UserWarning: No labelled objects found. Use label='...' kwarg on individual plots.\n",
      "  warnings.warn(\"No labelled objects found. \"\n"
     ]
    },
    {
     "name": "stdout",
     "output_type": "stream",
     "text": [
      "LEFC Channel :  s9-s8 Label :  PrG Bad shape :  (2560, 22) Good shape :  (2560, 22)\n",
      "Setting up low-pass filter at 10 Hz\n",
      "h_trans_bandwidth chosen to be 2.5 Hz\n",
      "Filter length of 1352 samples (2.641 sec) selected\n",
      "Setting up low-pass filter at 10 Hz\n",
      "h_trans_bandwidth chosen to be 2.5 Hz\n",
      "Filter length of 1352 samples (2.641 sec) selected\n",
      "Size of filtered data bad : (22, 2560) filtered data good :  (22, 2560)\n",
      "time points :  (2560,)\n",
      "Applying baseline correction (mode: mean)\n",
      "Applying baseline correction (mode: mean)\n",
      "Size norm & filtered data 0 :  (22, 2560) (22, 2560)\n",
      "-> Shape of bad data (22, 563) good data (22, 563)\n",
      "(22, 1000, 56) (22, 1000, 56)\n",
      "(1000, 56)\n",
      "[-1.7743557711844278, 1.7743557711844278] [-2.7712872283255527, 2.7712872283255527] [-4.6923881802467413, 4.6923881802467413]\n",
      "(56,) 2.63022054945 -2.50298140034\n",
      "Size of the concatenated data:  (44, 56) Number time windows :  56\n",
      "Size of label for classif:  44\n",
      "th_perm :  65.9090909091 70.4545454545 84.0909090909\n"
     ]
    },
    {
     "name": "stderr",
     "output_type": "stream",
     "text": [
      "/home/karim/anaconda3/lib/python3.5/site-packages/matplotlib/axes/_axes.py:545: UserWarning: No labelled objects found. Use label='...' kwarg on individual plots.\n",
      "  warnings.warn(\"No labelled objects found. \"\n"
     ]
    },
    {
     "name": "stdout",
     "output_type": "stream",
     "text": [
      "LEFC Channel :  s10-s9 Label :  PrG Bad shape :  (2560, 22) Good shape :  (2560, 22)\n",
      "Setting up low-pass filter at 10 Hz\n",
      "h_trans_bandwidth chosen to be 2.5 Hz\n",
      "Filter length of 1352 samples (2.641 sec) selected\n",
      "Setting up low-pass filter at 10 Hz\n",
      "h_trans_bandwidth chosen to be 2.5 Hz\n",
      "Filter length of 1352 samples (2.641 sec) selected\n",
      "Size of filtered data bad : (22, 2560) filtered data good :  (22, 2560)\n",
      "time points :  (2560,)\n",
      "Applying baseline correction (mode: mean)\n",
      "Applying baseline correction (mode: mean)\n",
      "Size norm & filtered data 0 :  (22, 2560) (22, 2560)\n",
      "-> Shape of bad data (22, 563) good data (22, 563)\n",
      "(22, 1000, 56) (22, 1000, 56)\n",
      "(1000, 56)\n",
      "[-1.7819438334692088, 1.7819438334692088] [-2.6299966480618164, 2.6299966480618164] [-4.9090777072586862, 4.9090777072586862]\n",
      "(56,) 2.23036892516 -1.34066761277\n",
      "Size of the concatenated data:  (44, 56) Number time windows :  56\n",
      "Size of label for classif:  44\n",
      "th_perm :  65.9090909091 70.4545454545 81.8181818182\n"
     ]
    },
    {
     "name": "stderr",
     "output_type": "stream",
     "text": [
      "/home/karim/anaconda3/lib/python3.5/site-packages/matplotlib/axes/_axes.py:545: UserWarning: No labelled objects found. Use label='...' kwarg on individual plots.\n",
      "  warnings.warn(\"No labelled objects found. \"\n"
     ]
    },
    {
     "name": "stdout",
     "output_type": "stream",
     "text": [
      "LEFC Channel :  s11-s10 Label :  PrG Bad shape :  (2560, 22) Good shape :  (2560, 22)\n",
      "Setting up low-pass filter at 10 Hz\n",
      "h_trans_bandwidth chosen to be 2.5 Hz\n",
      "Filter length of 1352 samples (2.641 sec) selected\n",
      "Setting up low-pass filter at 10 Hz\n",
      "h_trans_bandwidth chosen to be 2.5 Hz\n",
      "Filter length of 1352 samples (2.641 sec) selected\n",
      "Size of filtered data bad : (22, 2560) filtered data good :  (22, 2560)\n",
      "time points :  (2560,)\n",
      "Applying baseline correction (mode: mean)\n",
      "Applying baseline correction (mode: mean)\n",
      "Size norm & filtered data 0 :  (22, 2560) (22, 2560)\n",
      "-> Shape of bad data (22, 563) good data (22, 563)\n",
      "(22, 1000, 56) (22, 1000, 56)\n",
      "(1000, 56)\n",
      "[-1.8182019888441285, 1.8182019888441285] [-2.6724838119060088, 2.6724838119060088] [-4.4754159233366035, 4.4754159233366035]\n",
      "(56,) 2.39040621391 -1.80949769236\n",
      "Size of the concatenated data:  (44, 56) Number time windows :  56\n",
      "Size of label for classif:  44\n",
      "th_perm :  65.9090909091 70.4545454545 81.8181818182\n"
     ]
    },
    {
     "name": "stderr",
     "output_type": "stream",
     "text": [
      "/home/karim/anaconda3/lib/python3.5/site-packages/matplotlib/axes/_axes.py:545: UserWarning: No labelled objects found. Use label='...' kwarg on individual plots.\n",
      "  warnings.warn(\"No labelled objects found. \"\n"
     ]
    },
    {
     "name": "stdout",
     "output_type": "stream",
     "text": [
      "LEFC Channel :  s12-s11 Label :  LCR-PrG&PrG Bad shape :  (2560, 22) Good shape :  (2560, 22)\n",
      "Setting up low-pass filter at 10 Hz\n",
      "h_trans_bandwidth chosen to be 2.5 Hz\n",
      "Filter length of 1352 samples (2.641 sec) selected\n",
      "Setting up low-pass filter at 10 Hz\n",
      "h_trans_bandwidth chosen to be 2.5 Hz\n",
      "Filter length of 1352 samples (2.641 sec) selected\n",
      "Size of filtered data bad : (22, 2560) filtered data good :  (22, 2560)\n",
      "time points :  (2560,)\n",
      "Applying baseline correction (mode: mean)\n",
      "Applying baseline correction (mode: mean)\n",
      "Size norm & filtered data 0 :  (22, 2560) (22, 2560)\n",
      "-> Shape of bad data (22, 563) good data (22, 563)\n",
      "(22, 1000, 56) (22, 1000, 56)\n",
      "(1000, 56)\n",
      "[-1.7550304408662392, 1.7550304408662392] [-2.6627072811846269, 2.6627072811846269] [-5.0330027813928355, 5.0330027813928355]\n",
      "(56,) 3.13301180056 -1.42971441474\n",
      "Size of the concatenated data:  (44, 56) Number time windows :  56\n",
      "Size of label for classif:  44\n",
      "th_perm :  65.9090909091 72.7272727273 84.0909090909\n"
     ]
    },
    {
     "name": "stderr",
     "output_type": "stream",
     "text": [
      "/home/karim/anaconda3/lib/python3.5/site-packages/matplotlib/axes/_axes.py:545: UserWarning: No labelled objects found. Use label='...' kwarg on individual plots.\n",
      "  warnings.warn(\"No labelled objects found. \"\n"
     ]
    },
    {
     "name": "stdout",
     "output_type": "stream",
     "text": [
      "LEFC Channel :  t2-t1 Label :  Ins-TTG Bad shape :  (2560, 22) Good shape :  (2560, 22)\n",
      "Setting up low-pass filter at 10 Hz\n",
      "h_trans_bandwidth chosen to be 2.5 Hz\n",
      "Filter length of 1352 samples (2.641 sec) selected\n",
      "Setting up low-pass filter at 10 Hz\n",
      "h_trans_bandwidth chosen to be 2.5 Hz\n",
      "Filter length of 1352 samples (2.641 sec) selected\n",
      "Size of filtered data bad : (22, 2560) filtered data good :  (22, 2560)\n",
      "time points :  (2560,)\n",
      "Applying baseline correction (mode: mean)\n",
      "Applying baseline correction (mode: mean)\n",
      "Size norm & filtered data 0 :  (22, 2560) (22, 2560)\n",
      "-> Shape of bad data (22, 563) good data (22, 563)\n",
      "(22, 1000, 56) (22, 1000, 56)\n",
      "(1000, 56)\n",
      "[-1.7943607831106934, 1.7943607831106934] [-2.793153963832232, 2.793153963832232] [-4.5702146678133406, 4.5702146678133406]\n",
      "(56,) 1.0332192692 -1.73668944773\n",
      "Size of the concatenated data:  (44, 56) Number time windows :  56\n",
      "Size of label for classif:  44\n",
      "th_perm :  65.9090909091 70.4545454545 81.8181818182\n"
     ]
    },
    {
     "name": "stderr",
     "output_type": "stream",
     "text": [
      "/home/karim/anaconda3/lib/python3.5/site-packages/matplotlib/axes/_axes.py:545: UserWarning: No labelled objects found. Use label='...' kwarg on individual plots.\n",
      "  warnings.warn(\"No labelled objects found. \"\n"
     ]
    },
    {
     "name": "stdout",
     "output_type": "stream",
     "text": [
      "LEFC Channel :  t3-t2 Label :  TTG-aSTG&Ins-TTG Bad shape :  (2560, 22) Good shape :  (2560, 22)\n",
      "Setting up low-pass filter at 10 Hz\n",
      "h_trans_bandwidth chosen to be 2.5 Hz\n",
      "Filter length of 1352 samples (2.641 sec) selected\n",
      "Setting up low-pass filter at 10 Hz\n",
      "h_trans_bandwidth chosen to be 2.5 Hz\n",
      "Filter length of 1352 samples (2.641 sec) selected\n",
      "Size of filtered data bad : (22, 2560) filtered data good :  (22, 2560)\n",
      "time points :  (2560,)\n",
      "Applying baseline correction (mode: mean)\n",
      "Applying baseline correction (mode: mean)\n",
      "Size norm & filtered data 0 :  (22, 2560) (22, 2560)\n",
      "-> Shape of bad data (22, 563) good data (22, 563)\n",
      "(22, 1000, 56) (22, 1000, 56)\n",
      "(1000, 56)\n",
      "[-1.8369452716378256, 1.8369452716378256] [-2.8097588601558563, 2.8097588601558563] [-3.8943816220221357, 3.8943816220221357]\n",
      "(56,) 1.08353673966 -1.35044397772\n",
      "Size of the concatenated data:  (44, 56) Number time windows :  56\n",
      "Size of label for classif:  44\n",
      "th_perm :  65.9090909091 70.4545454545 81.8181818182\n"
     ]
    },
    {
     "name": "stderr",
     "output_type": "stream",
     "text": [
      "/home/karim/anaconda3/lib/python3.5/site-packages/matplotlib/axes/_axes.py:545: UserWarning: No labelled objects found. Use label='...' kwarg on individual plots.\n",
      "  warnings.warn(\"No labelled objects found. \"\n"
     ]
    },
    {
     "name": "stdout",
     "output_type": "stream",
     "text": [
      "LEFC Channel :  t4-t3 Label :  TTG-aSTG Bad shape :  (2560, 22) Good shape :  (2560, 22)\n",
      "Setting up low-pass filter at 10 Hz\n",
      "h_trans_bandwidth chosen to be 2.5 Hz\n",
      "Filter length of 1352 samples (2.641 sec) selected\n",
      "Setting up low-pass filter at 10 Hz\n",
      "h_trans_bandwidth chosen to be 2.5 Hz\n",
      "Filter length of 1352 samples (2.641 sec) selected\n",
      "Size of filtered data bad : (22, 2560) filtered data good :  (22, 2560)\n",
      "time points :  (2560,)\n",
      "Applying baseline correction (mode: mean)\n",
      "Applying baseline correction (mode: mean)\n",
      "Size norm & filtered data 0 :  (22, 2560) (22, 2560)\n",
      "-> Shape of bad data (22, 563) good data (22, 563)\n",
      "(22, 1000, 56) (22, 1000, 56)\n",
      "(1000, 56)\n",
      "[-1.9010151777504829, 1.9010151777504829] [-2.7165326246895622, 2.7165326246895622] [-4.4798905711320716, 4.4798905711320716]\n",
      "(56,) 2.31603777026 -1.12064448462\n",
      "Size of the concatenated data:  (44, 56) Number time windows :  56\n",
      "Size of label for classif:  44\n",
      "th_perm :  65.9090909091 70.4545454545 84.0909090909\n"
     ]
    },
    {
     "name": "stderr",
     "output_type": "stream",
     "text": [
      "/home/karim/anaconda3/lib/python3.5/site-packages/matplotlib/axes/_axes.py:545: UserWarning: No labelled objects found. Use label='...' kwarg on individual plots.\n",
      "  warnings.warn(\"No labelled objects found. \"\n"
     ]
    },
    {
     "name": "stdout",
     "output_type": "stream",
     "text": [
      "LEFC Channel :  t5-t4 Label :  TTG-aSTG Bad shape :  (2560, 22) Good shape :  (2560, 22)\n",
      "Setting up low-pass filter at 10 Hz\n",
      "h_trans_bandwidth chosen to be 2.5 Hz\n",
      "Filter length of 1352 samples (2.641 sec) selected\n",
      "Setting up low-pass filter at 10 Hz\n",
      "h_trans_bandwidth chosen to be 2.5 Hz\n",
      "Filter length of 1352 samples (2.641 sec) selected\n",
      "Size of filtered data bad : (22, 2560) filtered data good :  (22, 2560)\n",
      "time points :  (2560,)\n",
      "Applying baseline correction (mode: mean)\n",
      "Applying baseline correction (mode: mean)\n",
      "Size norm & filtered data 0 :  (22, 2560) (22, 2560)\n",
      "-> Shape of bad data (22, 563) good data (22, 563)\n",
      "(22, 1000, 56) (22, 1000, 56)\n",
      "(1000, 56)\n",
      "[-1.7922611249946101, 1.7922611249946101] [-2.6544756999527173, 2.6544756999527173] [-4.5002362059716665, 4.5002362059716665]\n",
      "(56,) 1.81198260524 -2.72992530141\n",
      "Size of the concatenated data:  (44, 56) Number time windows :  56\n",
      "Size of label for classif:  44\n",
      "th_perm :  65.9090909091 70.4545454545 81.8181818182\n"
     ]
    },
    {
     "name": "stderr",
     "output_type": "stream",
     "text": [
      "/home/karim/anaconda3/lib/python3.5/site-packages/matplotlib/axes/_axes.py:545: UserWarning: No labelled objects found. Use label='...' kwarg on individual plots.\n",
      "  warnings.warn(\"No labelled objects found. \"\n"
     ]
    },
    {
     "name": "stdout",
     "output_type": "stream",
     "text": [
      "LEFC Channel :  t6-t5 Label :  TTG-aSTG Bad shape :  (2560, 22) Good shape :  (2560, 22)\n",
      "Setting up low-pass filter at 10 Hz\n",
      "h_trans_bandwidth chosen to be 2.5 Hz\n",
      "Filter length of 1352 samples (2.641 sec) selected\n",
      "Setting up low-pass filter at 10 Hz\n",
      "h_trans_bandwidth chosen to be 2.5 Hz\n",
      "Filter length of 1352 samples (2.641 sec) selected\n",
      "Size of filtered data bad : (22, 2560) filtered data good :  (22, 2560)\n",
      "time points :  (2560,)\n",
      "Applying baseline correction (mode: mean)\n",
      "Applying baseline correction (mode: mean)\n",
      "Size norm & filtered data 0 :  (22, 2560) (22, 2560)\n",
      "-> Shape of bad data (22, 563) good data (22, 563)\n",
      "(22, 1000, 56) (22, 1000, 56)\n",
      "(1000, 56)\n",
      "[-1.8927676517357137, 1.8927676517357137] [-2.6722053786257947, 2.6722053786257947] [-4.303931097781839, 4.303931097781839]\n",
      "(56,) 2.03459046688 -1.76562048264\n",
      "Size of the concatenated data:  (44, 56) Number time windows :  56\n",
      "Size of label for classif:  44\n",
      "th_perm :  65.9090909091 72.7272727273 81.8181818182\n"
     ]
    },
    {
     "name": "stderr",
     "output_type": "stream",
     "text": [
      "/home/karim/anaconda3/lib/python3.5/site-packages/matplotlib/axes/_axes.py:545: UserWarning: No labelled objects found. Use label='...' kwarg on individual plots.\n",
      "  warnings.warn(\"No labelled objects found. \"\n"
     ]
    },
    {
     "name": "stdout",
     "output_type": "stream",
     "text": [
      "LEFC Channel :  t7-t6 Label :  TTG-aSTG Bad shape :  (2560, 22) Good shape :  (2560, 22)\n",
      "Setting up low-pass filter at 10 Hz\n",
      "h_trans_bandwidth chosen to be 2.5 Hz\n",
      "Filter length of 1352 samples (2.641 sec) selected\n",
      "Setting up low-pass filter at 10 Hz\n",
      "h_trans_bandwidth chosen to be 2.5 Hz\n",
      "Filter length of 1352 samples (2.641 sec) selected\n",
      "Size of filtered data bad : (22, 2560) filtered data good :  (22, 2560)\n",
      "time points :  (2560,)\n",
      "Applying baseline correction (mode: mean)\n",
      "Applying baseline correction (mode: mean)\n",
      "Size norm & filtered data 0 :  (22, 2560) (22, 2560)\n",
      "-> Shape of bad data (22, 563) good data (22, 563)\n",
      "(22, 1000, 56) (22, 1000, 56)\n",
      "(1000, 56)\n",
      "[-1.8675003672119403, 1.8675003672119403] [-2.8193682229994739, 2.8193682229994739] [-5.0832172997955247, 5.0832172997955247]\n",
      "(56,) 1.64018447037 -1.99188210444\n",
      "Size of the concatenated data:  (44, 56) Number time windows :  56\n",
      "Size of label for classif:  44\n",
      "th_perm :  65.9090909091 72.7272727273 81.8181818182\n"
     ]
    },
    {
     "name": "stderr",
     "output_type": "stream",
     "text": [
      "/home/karim/anaconda3/lib/python3.5/site-packages/matplotlib/axes/_axes.py:545: UserWarning: No labelled objects found. Use label='...' kwarg on individual plots.\n",
      "  warnings.warn(\"No labelled objects found. \"\n"
     ]
    },
    {
     "name": "stdout",
     "output_type": "stream",
     "text": [
      "LEFC Channel :  t10-t9 Label :  LCR-aSTG&aSTG Bad shape :  (2560, 22) Good shape :  (2560, 22)\n",
      "Setting up low-pass filter at 10 Hz\n",
      "h_trans_bandwidth chosen to be 2.5 Hz\n",
      "Filter length of 1352 samples (2.641 sec) selected\n",
      "Setting up low-pass filter at 10 Hz\n",
      "h_trans_bandwidth chosen to be 2.5 Hz\n",
      "Filter length of 1352 samples (2.641 sec) selected\n",
      "Size of filtered data bad : (22, 2560) filtered data good :  (22, 2560)\n",
      "time points :  (2560,)\n",
      "Applying baseline correction (mode: mean)\n",
      "Applying baseline correction (mode: mean)\n",
      "Size norm & filtered data 0 :  (22, 2560) (22, 2560)\n",
      "-> Shape of bad data (22, 563) good data (22, 563)\n",
      "(22, 1000, 56) (22, 1000, 56)\n",
      "(1000, 56)\n",
      "[-1.8828448633306716, 1.8828448633306716] [-2.7524343589852673, 2.7524343589852673] [-4.8641435314411066, 4.8641435314411066]\n",
      "(56,) 2.43973131283 -1.29661766487\n",
      "Size of the concatenated data:  (44, 56) Number time windows :  56\n",
      "Size of label for classif:  44\n",
      "th_perm :  65.9090909091 72.7272727273 81.8181818182\n"
     ]
    },
    {
     "name": "stderr",
     "output_type": "stream",
     "text": [
      "/home/karim/anaconda3/lib/python3.5/site-packages/matplotlib/axes/_axes.py:545: UserWarning: No labelled objects found. Use label='...' kwarg on individual plots.\n",
      "  warnings.warn(\"No labelled objects found. \"\n"
     ]
    },
    {
     "name": "stdout",
     "output_type": "stream",
     "text": [
      "LEFC Channel :  v2-v1 Label :  17 Bad shape :  (2560, 22) Good shape :  (2560, 22)\n",
      "Setting up low-pass filter at 10 Hz\n",
      "h_trans_bandwidth chosen to be 2.5 Hz\n",
      "Filter length of 1352 samples (2.641 sec) selected\n",
      "Setting up low-pass filter at 10 Hz\n",
      "h_trans_bandwidth chosen to be 2.5 Hz\n",
      "Filter length of 1352 samples (2.641 sec) selected\n",
      "Size of filtered data bad : (22, 2560) filtered data good :  (22, 2560)\n",
      "time points :  (2560,)\n",
      "Applying baseline correction (mode: mean)\n",
      "Applying baseline correction (mode: mean)\n",
      "Size norm & filtered data 0 :  (22, 2560) (22, 2560)\n",
      "-> Shape of bad data (22, 563) good data (22, 563)\n",
      "(22, 1000, 56) (22, 1000, 56)\n",
      "(1000, 56)\n",
      "[-1.7771483980698743, 1.7771483980698743] [-2.657388547818778, 2.657388547818778] [-3.8765036732844638, 3.8765036732844638]\n",
      "(56,) 0.712199937429 -3.25329405886\n",
      "Size of the concatenated data:  (44, 56) Number time windows :  56\n",
      "Size of label for classif:  44\n",
      "th_perm :  65.9090909091 72.7272727273 86.3636363636\n"
     ]
    },
    {
     "name": "stderr",
     "output_type": "stream",
     "text": [
      "/home/karim/anaconda3/lib/python3.5/site-packages/matplotlib/axes/_axes.py:545: UserWarning: No labelled objects found. Use label='...' kwarg on individual plots.\n",
      "  warnings.warn(\"No labelled objects found. \"\n"
     ]
    },
    {
     "name": "stdout",
     "output_type": "stream",
     "text": [
      "LEFC Channel :  v3-v2 Label :  17 Bad shape :  (2560, 22) Good shape :  (2560, 22)\n",
      "Setting up low-pass filter at 10 Hz\n",
      "h_trans_bandwidth chosen to be 2.5 Hz\n",
      "Filter length of 1352 samples (2.641 sec) selected\n",
      "Setting up low-pass filter at 10 Hz\n",
      "h_trans_bandwidth chosen to be 2.5 Hz\n",
      "Filter length of 1352 samples (2.641 sec) selected\n",
      "Size of filtered data bad : (22, 2560) filtered data good :  (22, 2560)\n",
      "time points :  (2560,)\n",
      "Applying baseline correction (mode: mean)\n",
      "Applying baseline correction (mode: mean)\n",
      "Size norm & filtered data 0 :  (22, 2560) (22, 2560)\n",
      "-> Shape of bad data (22, 563) good data (22, 563)\n",
      "(22, 1000, 56) (22, 1000, 56)\n",
      "(1000, 56)\n",
      "[-1.7769130408453058, 1.7769130408453058] [-2.6649515728954718, 2.6649515728954718] [-3.8554312579645833, 3.8554312579645833]\n",
      "(56,) 2.17176875424 -1.20396075023\n",
      "Size of the concatenated data:  (44, 56) Number time windows :  56\n",
      "Size of label for classif:  44\n",
      "th_perm :  65.9090909091 70.4545454545 84.0909090909\n"
     ]
    },
    {
     "name": "stderr",
     "output_type": "stream",
     "text": [
      "/home/karim/anaconda3/lib/python3.5/site-packages/matplotlib/axes/_axes.py:545: UserWarning: No labelled objects found. Use label='...' kwarg on individual plots.\n",
      "  warnings.warn(\"No labelled objects found. \"\n"
     ]
    },
    {
     "name": "stdout",
     "output_type": "stream",
     "text": [
      "LEFC Channel :  v4-v3 Label :  17-POTZ-AngG&17 Bad shape :  (2560, 22) Good shape :  (2560, 22)\n",
      "Setting up low-pass filter at 10 Hz\n",
      "h_trans_bandwidth chosen to be 2.5 Hz\n",
      "Filter length of 1352 samples (2.641 sec) selected\n",
      "Setting up low-pass filter at 10 Hz\n",
      "h_trans_bandwidth chosen to be 2.5 Hz\n",
      "Filter length of 1352 samples (2.641 sec) selected\n",
      "Size of filtered data bad : (22, 2560) filtered data good :  (22, 2560)\n",
      "time points :  (2560,)\n",
      "Applying baseline correction (mode: mean)\n",
      "Applying baseline correction (mode: mean)\n",
      "Size norm & filtered data 0 :  (22, 2560) (22, 2560)\n",
      "-> Shape of bad data (22, 563) good data (22, 563)\n",
      "(22, 1000, 56) (22, 1000, 56)\n",
      "(1000, 56)\n",
      "[-1.9332116718838992, 1.9332116718838992] [-2.6916078470508387, 2.6916078470508387] [-4.0114009667052821, 4.0114009667052821]\n",
      "(56,) 1.59392589136 -1.51896054658\n",
      "Size of the concatenated data:  (44, 56) Number time windows :  56\n",
      "Size of label for classif:  44\n",
      "th_perm :  65.9090909091 70.4545454545 84.0909090909\n"
     ]
    },
    {
     "name": "stderr",
     "output_type": "stream",
     "text": [
      "/home/karim/anaconda3/lib/python3.5/site-packages/matplotlib/axes/_axes.py:545: UserWarning: No labelled objects found. Use label='...' kwarg on individual plots.\n",
      "  warnings.warn(\"No labelled objects found. \"\n"
     ]
    },
    {
     "name": "stdout",
     "output_type": "stream",
     "text": [
      "LEFC Channel :  v5-v4 Label :  POTZ-AngG&17-POTZ-AngG Bad shape :  (2560, 22) Good shape :  (2560, 22)\n",
      "Setting up low-pass filter at 10 Hz\n",
      "h_trans_bandwidth chosen to be 2.5 Hz\n",
      "Filter length of 1352 samples (2.641 sec) selected\n",
      "Setting up low-pass filter at 10 Hz\n",
      "h_trans_bandwidth chosen to be 2.5 Hz\n",
      "Filter length of 1352 samples (2.641 sec) selected\n",
      "Size of filtered data bad : (22, 2560) filtered data good :  (22, 2560)\n",
      "time points :  (2560,)\n",
      "Applying baseline correction (mode: mean)\n",
      "Applying baseline correction (mode: mean)\n",
      "Size norm & filtered data 0 :  (22, 2560) (22, 2560)\n",
      "-> Shape of bad data (22, 563) good data (22, 563)\n",
      "(22, 1000, 56) (22, 1000, 56)\n",
      "(1000, 56)\n",
      "[-1.9106864855683872, 1.9106864855683872] [-2.7660424667683627, 2.7660424667683627] [-4.5306236326963738, 4.5306236326963738]\n",
      "(56,) 2.54135697671 -1.6712500001\n",
      "Size of the concatenated data:  (44, 56) Number time windows :  56\n",
      "Size of label for classif:  44\n",
      "th_perm :  65.9090909091 72.7272727273 81.8181818182\n"
     ]
    },
    {
     "name": "stderr",
     "output_type": "stream",
     "text": [
      "/home/karim/anaconda3/lib/python3.5/site-packages/matplotlib/axes/_axes.py:545: UserWarning: No labelled objects found. Use label='...' kwarg on individual plots.\n",
      "  warnings.warn(\"No labelled objects found. \"\n"
     ]
    },
    {
     "name": "stdout",
     "output_type": "stream",
     "text": [
      "LEFC Channel :  v6-v5 Label :  POTZ-AngG Bad shape :  (2560, 22) Good shape :  (2560, 22)\n",
      "Setting up low-pass filter at 10 Hz\n",
      "h_trans_bandwidth chosen to be 2.5 Hz\n",
      "Filter length of 1352 samples (2.641 sec) selected\n",
      "Setting up low-pass filter at 10 Hz\n",
      "h_trans_bandwidth chosen to be 2.5 Hz\n",
      "Filter length of 1352 samples (2.641 sec) selected\n",
      "Size of filtered data bad : (22, 2560) filtered data good :  (22, 2560)\n",
      "time points :  (2560,)\n",
      "Applying baseline correction (mode: mean)\n",
      "Applying baseline correction (mode: mean)\n",
      "Size norm & filtered data 0 :  (22, 2560) (22, 2560)\n",
      "-> Shape of bad data (22, 563) good data (22, 563)\n",
      "(22, 1000, 56) (22, 1000, 56)\n",
      "(1000, 56)\n",
      "[-1.8130058923783379, 1.8130058923783379] [-2.7158081822391398, 2.7158081822391398] [-4.2516030389759774, 4.2516030389759774]\n",
      "(56,) 2.06144103592 -2.04135803285\n",
      "Size of the concatenated data:  (44, 56) Number time windows :  56\n",
      "Size of label for classif:  44\n",
      "th_perm :  65.9090909091 70.4545454545 79.5454545455\n"
     ]
    },
    {
     "name": "stderr",
     "output_type": "stream",
     "text": [
      "/home/karim/anaconda3/lib/python3.5/site-packages/matplotlib/axes/_axes.py:545: UserWarning: No labelled objects found. Use label='...' kwarg on individual plots.\n",
      "  warnings.warn(\"No labelled objects found. \"\n"
     ]
    },
    {
     "name": "stdout",
     "output_type": "stream",
     "text": [
      "LEFC Channel :  v7-v6 Label :  Ang-OcG&POTZ-AngG Bad shape :  (2560, 22) Good shape :  (2560, 22)\n",
      "Setting up low-pass filter at 10 Hz\n",
      "h_trans_bandwidth chosen to be 2.5 Hz\n",
      "Filter length of 1352 samples (2.641 sec) selected\n",
      "Setting up low-pass filter at 10 Hz\n",
      "h_trans_bandwidth chosen to be 2.5 Hz\n",
      "Filter length of 1352 samples (2.641 sec) selected\n",
      "Size of filtered data bad : (22, 2560) filtered data good :  (22, 2560)\n",
      "time points :  (2560,)\n",
      "Applying baseline correction (mode: mean)\n",
      "Applying baseline correction (mode: mean)\n",
      "Size norm & filtered data 0 :  (22, 2560) (22, 2560)\n",
      "-> Shape of bad data (22, 563) good data (22, 563)\n",
      "(22, 1000, 56) (22, 1000, 56)\n",
      "(1000, 56)\n",
      "[-1.7952837913597353, 1.7952837913597353] [-2.6110335079646667, 2.6110335079646667] [-4.0032830091537779, 4.0032830091537779]\n",
      "(56,) 2.56677494868 -1.38396881102\n",
      "Size of the concatenated data:  (44, 56) Number time windows :  56\n",
      "Size of label for classif:  44\n",
      "th_perm :  65.9090909091 70.4545454545 79.5454545455\n"
     ]
    },
    {
     "name": "stderr",
     "output_type": "stream",
     "text": [
      "/home/karim/anaconda3/lib/python3.5/site-packages/matplotlib/axes/_axes.py:545: UserWarning: No labelled objects found. Use label='...' kwarg on individual plots.\n",
      "  warnings.warn(\"No labelled objects found. \"\n"
     ]
    },
    {
     "name": "stdout",
     "output_type": "stream",
     "text": [
      "LEFC Channel :  v8-v7 Label :  OcG&Ang-OcG Bad shape :  (2560, 22) Good shape :  (2560, 22)\n",
      "Setting up low-pass filter at 10 Hz\n",
      "h_trans_bandwidth chosen to be 2.5 Hz\n",
      "Filter length of 1352 samples (2.641 sec) selected\n",
      "Setting up low-pass filter at 10 Hz\n",
      "h_trans_bandwidth chosen to be 2.5 Hz\n",
      "Filter length of 1352 samples (2.641 sec) selected\n",
      "Size of filtered data bad : (22, 2560) filtered data good :  (22, 2560)\n",
      "time points :  (2560,)\n",
      "Applying baseline correction (mode: mean)\n",
      "Applying baseline correction (mode: mean)\n",
      "Size norm & filtered data 0 :  (22, 2560) (22, 2560)\n",
      "-> Shape of bad data (22, 563) good data (22, 563)\n",
      "(22, 1000, 56) (22, 1000, 56)\n",
      "(1000, 56)\n",
      "[-1.8344585714891064, 1.8344585714891064] [-2.6404700159298216, 2.6404700159298216] [-4.1832954554205601, 4.1832954554205601]\n",
      "(56,) 1.80461863061 -0.743539746845\n",
      "Size of the concatenated data:  (44, 56) Number time windows :  56\n",
      "Size of label for classif:  44\n",
      "th_perm :  65.9090909091 72.7272727273 79.5454545455\n"
     ]
    },
    {
     "name": "stderr",
     "output_type": "stream",
     "text": [
      "/home/karim/anaconda3/lib/python3.5/site-packages/matplotlib/axes/_axes.py:545: UserWarning: No labelled objects found. Use label='...' kwarg on individual plots.\n",
      "  warnings.warn(\"No labelled objects found. \"\n"
     ]
    },
    {
     "name": "stdout",
     "output_type": "stream",
     "text": [
      "LEFC Channel :  v9-v8 Label :  OcG Bad shape :  (2560, 22) Good shape :  (2560, 22)\n",
      "Setting up low-pass filter at 10 Hz\n",
      "h_trans_bandwidth chosen to be 2.5 Hz\n",
      "Filter length of 1352 samples (2.641 sec) selected\n",
      "Setting up low-pass filter at 10 Hz\n",
      "h_trans_bandwidth chosen to be 2.5 Hz\n",
      "Filter length of 1352 samples (2.641 sec) selected\n",
      "Size of filtered data bad : (22, 2560) filtered data good :  (22, 2560)\n",
      "time points :  (2560,)\n",
      "Applying baseline correction (mode: mean)\n",
      "Applying baseline correction (mode: mean)\n",
      "Size norm & filtered data 0 :  (22, 2560) (22, 2560)\n",
      "-> Shape of bad data (22, 563) good data (22, 563)\n",
      "(22, 1000, 56) (22, 1000, 56)\n",
      "(1000, 56)\n",
      "[-1.8847818917543464, 1.8847818917543464] [-2.6594933830429754, 2.6594933830429754] [-4.2632646194806494, 4.2632646194806494]\n",
      "(56,) 2.31517906231 -2.29489893106\n",
      "Size of the concatenated data:  (44, 56) Number time windows :  56\n",
      "Size of label for classif:  44\n",
      "th_perm :  65.9090909091 70.4545454545 81.8181818182\n"
     ]
    },
    {
     "name": "stderr",
     "output_type": "stream",
     "text": [
      "/home/karim/anaconda3/lib/python3.5/site-packages/matplotlib/axes/_axes.py:545: UserWarning: No labelled objects found. Use label='...' kwarg on individual plots.\n",
      "  warnings.warn(\"No labelled objects found. \"\n"
     ]
    },
    {
     "name": "stdout",
     "output_type": "stream",
     "text": [
      "LEFC Channel :  v10-v9 Label :  OcG Bad shape :  (2560, 22) Good shape :  (2560, 22)\n",
      "Setting up low-pass filter at 10 Hz\n",
      "h_trans_bandwidth chosen to be 2.5 Hz\n",
      "Filter length of 1352 samples (2.641 sec) selected\n",
      "Setting up low-pass filter at 10 Hz\n",
      "h_trans_bandwidth chosen to be 2.5 Hz\n",
      "Filter length of 1352 samples (2.641 sec) selected\n",
      "Size of filtered data bad : (22, 2560) filtered data good :  (22, 2560)\n",
      "time points :  (2560,)\n",
      "Applying baseline correction (mode: mean)\n",
      "Applying baseline correction (mode: mean)\n",
      "Size norm & filtered data 0 :  (22, 2560) (22, 2560)\n",
      "-> Shape of bad data (22, 563) good data (22, 563)\n",
      "(22, 1000, 56) (22, 1000, 56)\n",
      "(1000, 56)\n",
      "[-1.8263816386882736, 1.8263816386882736] [-2.7391818943126052, 2.7391818943126052] [-4.5178646969032048, 4.5178646969032048]\n",
      "(56,) 3.28339263486 -1.75941060232\n",
      "Size of the concatenated data:  (44, 56) Number time windows :  56\n",
      "Size of label for classif:  44\n",
      "th_perm :  65.9090909091 72.7272727273 81.8181818182\n"
     ]
    },
    {
     "name": "stderr",
     "output_type": "stream",
     "text": [
      "/home/karim/anaconda3/lib/python3.5/site-packages/matplotlib/axes/_axes.py:545: UserWarning: No labelled objects found. Use label='...' kwarg on individual plots.\n",
      "  warnings.warn(\"No labelled objects found. \"\n"
     ]
    },
    {
     "name": "stdout",
     "output_type": "stream",
     "text": [
      "LEFC Channel :  v11-v10 Label :  OcG Bad shape :  (2560, 22) Good shape :  (2560, 22)\n",
      "Setting up low-pass filter at 10 Hz\n",
      "h_trans_bandwidth chosen to be 2.5 Hz\n",
      "Filter length of 1352 samples (2.641 sec) selected\n",
      "Setting up low-pass filter at 10 Hz\n",
      "h_trans_bandwidth chosen to be 2.5 Hz\n",
      "Filter length of 1352 samples (2.641 sec) selected\n",
      "Size of filtered data bad : (22, 2560) filtered data good :  (22, 2560)\n",
      "time points :  (2560,)\n",
      "Applying baseline correction (mode: mean)\n",
      "Applying baseline correction (mode: mean)\n",
      "Size norm & filtered data 0 :  (22, 2560) (22, 2560)\n",
      "-> Shape of bad data (22, 563) good data (22, 563)\n",
      "(22, 1000, 56) (22, 1000, 56)\n",
      "(1000, 56)\n",
      "[-1.832863832355174, 1.832863832355174] [-2.645367247279137, 2.645367247279137] [-4.064029892231682, 4.064029892231682]\n",
      "(56,) 2.63721681449 -0.915111767021\n",
      "Size of the concatenated data:  (44, 56) Number time windows :  56\n",
      "Size of label for classif:  44\n",
      "th_perm :  65.9090909091 70.4545454545 84.0909090909\n"
     ]
    },
    {
     "name": "stderr",
     "output_type": "stream",
     "text": [
      "/home/karim/anaconda3/lib/python3.5/site-packages/matplotlib/axes/_axes.py:545: UserWarning: No labelled objects found. Use label='...' kwarg on individual plots.\n",
      "  warnings.warn(\"No labelled objects found. \"\n"
     ]
    },
    {
     "name": "stdout",
     "output_type": "stream",
     "text": [
      "LEFC Channel :  v12-v11 Label :  Skull-OcG&OcG Bad shape :  (2560, 22) Good shape :  (2560, 22)\n",
      "Setting up low-pass filter at 10 Hz\n",
      "h_trans_bandwidth chosen to be 2.5 Hz\n",
      "Filter length of 1352 samples (2.641 sec) selected\n",
      "Setting up low-pass filter at 10 Hz\n",
      "h_trans_bandwidth chosen to be 2.5 Hz\n",
      "Filter length of 1352 samples (2.641 sec) selected\n",
      "Size of filtered data bad : (22, 2560) filtered data good :  (22, 2560)\n",
      "time points :  (2560,)\n",
      "Applying baseline correction (mode: mean)\n",
      "Applying baseline correction (mode: mean)\n",
      "Size norm & filtered data 0 :  (22, 2560) (22, 2560)\n",
      "-> Shape of bad data (22, 563) good data (22, 563)\n",
      "(22, 1000, 56) (22, 1000, 56)\n",
      "(1000, 56)\n",
      "[-1.7993361809872648, 1.7993361809872648] [-2.6125976762732579, 2.6125976762732579] [-4.2731106485725467, 4.2731106485725467]\n",
      "(56,) 2.75893536096 -1.10790775234\n",
      "Size of the concatenated data:  (44, 56) Number time windows :  56\n",
      "Size of label for classif:  44\n",
      "th_perm :  65.9090909091 70.4545454545 79.5454545455\n"
     ]
    },
    {
     "name": "stderr",
     "output_type": "stream",
     "text": [
      "/home/karim/anaconda3/lib/python3.5/site-packages/matplotlib/axes/_axes.py:545: UserWarning: No labelled objects found. Use label='...' kwarg on individual plots.\n",
      "  warnings.warn(\"No labelled objects found. \"\n"
     ]
    },
    {
     "name": "stdout",
     "output_type": "stream",
     "text": [
      "LEFC Channel :  w2-w1 Label :  PCun Bad shape :  (2560, 22) Good shape :  (2560, 22)\n",
      "Setting up low-pass filter at 10 Hz\n",
      "h_trans_bandwidth chosen to be 2.5 Hz\n",
      "Filter length of 1352 samples (2.641 sec) selected\n",
      "Setting up low-pass filter at 10 Hz\n",
      "h_trans_bandwidth chosen to be 2.5 Hz\n",
      "Filter length of 1352 samples (2.641 sec) selected\n",
      "Size of filtered data bad : (22, 2560) filtered data good :  (22, 2560)\n",
      "time points :  (2560,)\n",
      "Applying baseline correction (mode: mean)\n",
      "Applying baseline correction (mode: mean)\n",
      "Size norm & filtered data 0 :  (22, 2560) (22, 2560)\n",
      "-> Shape of bad data (22, 563) good data (22, 563)\n",
      "(22, 1000, 56) (22, 1000, 56)\n",
      "(1000, 56)\n",
      "[-1.8196173494535071, 1.8196173494535071] [-2.5941488623041518, 2.5941488623041518] [-4.6930695344426105, 4.6930695344426105]\n",
      "(56,) 0.917312676242 -2.15441676051\n",
      "Size of the concatenated data:  (44, 56) Number time windows :  56\n",
      "Size of label for classif:  44\n",
      "th_perm :  65.9090909091 72.7272727273 81.8181818182\n"
     ]
    },
    {
     "name": "stderr",
     "output_type": "stream",
     "text": [
      "/home/karim/anaconda3/lib/python3.5/site-packages/matplotlib/axes/_axes.py:545: UserWarning: No labelled objects found. Use label='...' kwarg on individual plots.\n",
      "  warnings.warn(\"No labelled objects found. \"\n"
     ]
    },
    {
     "name": "stdout",
     "output_type": "stream",
     "text": [
      "LEFC Channel :  w3-w2 Label :  PCun Bad shape :  (2560, 22) Good shape :  (2560, 22)\n",
      "Setting up low-pass filter at 10 Hz\n",
      "h_trans_bandwidth chosen to be 2.5 Hz\n",
      "Filter length of 1352 samples (2.641 sec) selected\n",
      "Setting up low-pass filter at 10 Hz\n",
      "h_trans_bandwidth chosen to be 2.5 Hz\n",
      "Filter length of 1352 samples (2.641 sec) selected\n",
      "Size of filtered data bad : (22, 2560) filtered data good :  (22, 2560)\n",
      "time points :  (2560,)\n",
      "Applying baseline correction (mode: mean)\n",
      "Applying baseline correction (mode: mean)\n",
      "Size norm & filtered data 0 :  (22, 2560) (22, 2560)\n",
      "-> Shape of bad data (22, 563) good data (22, 563)\n",
      "(22, 1000, 56) (22, 1000, 56)\n",
      "(1000, 56)\n",
      "[-1.8017346101816376, 1.8017346101816376] [-2.7207499641229123, 2.7207499641229123] [-4.3570883003162457, 4.3570883003162457]\n",
      "(56,) 2.03618747466 -2.94115295249\n",
      "Size of the concatenated data:  (44, 56) Number time windows :  56\n",
      "Size of label for classif:  44\n",
      "th_perm :  65.9090909091 70.4545454545 88.6363636364\n"
     ]
    },
    {
     "name": "stderr",
     "output_type": "stream",
     "text": [
      "/home/karim/anaconda3/lib/python3.5/site-packages/matplotlib/axes/_axes.py:545: UserWarning: No labelled objects found. Use label='...' kwarg on individual plots.\n",
      "  warnings.warn(\"No labelled objects found. \"\n"
     ]
    },
    {
     "name": "stdout",
     "output_type": "stream",
     "text": [
      "LEFC Channel :  w4-w3 Label :  PCun Bad shape :  (2560, 22) Good shape :  (2560, 22)\n",
      "Setting up low-pass filter at 10 Hz\n",
      "h_trans_bandwidth chosen to be 2.5 Hz\n",
      "Filter length of 1352 samples (2.641 sec) selected\n",
      "Setting up low-pass filter at 10 Hz\n",
      "h_trans_bandwidth chosen to be 2.5 Hz\n",
      "Filter length of 1352 samples (2.641 sec) selected\n",
      "Size of filtered data bad : (22, 2560) filtered data good :  (22, 2560)\n",
      "time points :  (2560,)\n",
      "Applying baseline correction (mode: mean)\n",
      "Applying baseline correction (mode: mean)\n",
      "Size norm & filtered data 0 :  (22, 2560) (22, 2560)\n",
      "-> Shape of bad data (22, 563) good data (22, 563)\n",
      "(22, 1000, 56) (22, 1000, 56)\n",
      "(1000, 56)\n",
      "[-1.7769518798608304, 1.7769518798608304] [-2.6222958052812517, 2.6222958052812517] [-4.1299096120442202, 4.1299096120442202]\n",
      "(56,) 1.65654815204 -3.34044333154\n",
      "Size of the concatenated data:  (44, 56) Number time windows :  56\n",
      "Size of label for classif:  44\n",
      "th_perm :  65.9090909091 70.4545454545 84.0909090909\n"
     ]
    },
    {
     "name": "stderr",
     "output_type": "stream",
     "text": [
      "/home/karim/anaconda3/lib/python3.5/site-packages/matplotlib/axes/_axes.py:545: UserWarning: No labelled objects found. Use label='...' kwarg on individual plots.\n",
      "  warnings.warn(\"No labelled objects found. \"\n"
     ]
    },
    {
     "name": "stdout",
     "output_type": "stream",
     "text": [
      "LEFC Channel :  w5-w4 Label :  POTZ-AngG&PCun Bad shape :  (2560, 22) Good shape :  (2560, 22)\n",
      "Setting up low-pass filter at 10 Hz\n",
      "h_trans_bandwidth chosen to be 2.5 Hz\n",
      "Filter length of 1352 samples (2.641 sec) selected\n",
      "Setting up low-pass filter at 10 Hz\n",
      "h_trans_bandwidth chosen to be 2.5 Hz\n",
      "Filter length of 1352 samples (2.641 sec) selected\n",
      "Size of filtered data bad : (22, 2560) filtered data good :  (22, 2560)\n",
      "time points :  (2560,)\n",
      "Applying baseline correction (mode: mean)\n",
      "Applying baseline correction (mode: mean)\n",
      "Size norm & filtered data 0 :  (22, 2560) (22, 2560)\n",
      "-> Shape of bad data (22, 563) good data (22, 563)\n",
      "(22, 1000, 56) (22, 1000, 56)\n",
      "(1000, 56)\n",
      "[-1.8343707954603576, 1.8343707954603576] [-2.7594526519330085, 2.7594526519330085] [-4.3886454806413431, 4.3886454806413431]\n",
      "(56,) 0.995378824113 -1.99371497658\n",
      "Size of the concatenated data:  (44, 56) Number time windows :  56\n",
      "Size of label for classif:  44\n",
      "th_perm :  65.9090909091 72.7272727273 79.5454545455\n"
     ]
    },
    {
     "name": "stderr",
     "output_type": "stream",
     "text": [
      "/home/karim/anaconda3/lib/python3.5/site-packages/matplotlib/axes/_axes.py:545: UserWarning: No labelled objects found. Use label='...' kwarg on individual plots.\n",
      "  warnings.warn(\"No labelled objects found. \"\n"
     ]
    },
    {
     "name": "stdout",
     "output_type": "stream",
     "text": [
      "LEFC Channel :  w6-w5 Label :  POTZ-AngG Bad shape :  (2560, 22) Good shape :  (2560, 22)\n",
      "Setting up low-pass filter at 10 Hz\n",
      "h_trans_bandwidth chosen to be 2.5 Hz\n",
      "Filter length of 1352 samples (2.641 sec) selected\n",
      "Setting up low-pass filter at 10 Hz\n",
      "h_trans_bandwidth chosen to be 2.5 Hz\n",
      "Filter length of 1352 samples (2.641 sec) selected\n",
      "Size of filtered data bad : (22, 2560) filtered data good :  (22, 2560)\n",
      "time points :  (2560,)\n",
      "Applying baseline correction (mode: mean)\n",
      "Applying baseline correction (mode: mean)\n",
      "Size norm & filtered data 0 :  (22, 2560) (22, 2560)\n",
      "-> Shape of bad data (22, 563) good data (22, 563)\n",
      "(22, 1000, 56) (22, 1000, 56)\n",
      "(1000, 56)\n",
      "[-1.8297628457776034, 1.8297628457776034] [-2.6220739318565678, 2.6220739318565678] [-4.6051949059563881, 4.6051949059563881]\n",
      "(56,) 3.82983418041 -0.761790497542\n",
      "Size of the concatenated data:  (44, 56) Number time windows :  56\n",
      "Size of label for classif:  44\n",
      "th_perm :  65.9090909091 72.7272727273 81.8181818182\n"
     ]
    },
    {
     "name": "stderr",
     "output_type": "stream",
     "text": [
      "/home/karim/anaconda3/lib/python3.5/site-packages/matplotlib/axes/_axes.py:545: UserWarning: No labelled objects found. Use label='...' kwarg on individual plots.\n",
      "  warnings.warn(\"No labelled objects found. \"\n"
     ]
    },
    {
     "name": "stdout",
     "output_type": "stream",
     "text": [
      "LEFC Channel :  w7-w6 Label :  AngG&POTZ-AngG Bad shape :  (2560, 22) Good shape :  (2560, 22)\n",
      "Setting up low-pass filter at 10 Hz\n",
      "h_trans_bandwidth chosen to be 2.5 Hz\n",
      "Filter length of 1352 samples (2.641 sec) selected\n",
      "Setting up low-pass filter at 10 Hz\n",
      "h_trans_bandwidth chosen to be 2.5 Hz\n",
      "Filter length of 1352 samples (2.641 sec) selected\n",
      "Size of filtered data bad : (22, 2560) filtered data good :  (22, 2560)\n",
      "time points :  (2560,)\n",
      "Applying baseline correction (mode: mean)\n",
      "Applying baseline correction (mode: mean)\n",
      "Size norm & filtered data 0 :  (22, 2560) (22, 2560)\n",
      "-> Shape of bad data (22, 563) good data (22, 563)\n",
      "(22, 1000, 56) (22, 1000, 56)\n",
      "(1000, 56)\n",
      "[-1.8021858230818757, 1.8021858230818757] [-2.6828374145253413, 2.6828374145253413] [-4.7795953442187491, 4.7795953442187491]\n",
      "(56,) 1.82410959235 -3.12898221492\n",
      "Size of the concatenated data:  (44, 56) Number time windows :  56\n",
      "Size of label for classif:  44\n",
      "th_perm :  65.9090909091 72.7272727273 79.5454545455\n"
     ]
    },
    {
     "name": "stderr",
     "output_type": "stream",
     "text": [
      "/home/karim/anaconda3/lib/python3.5/site-packages/matplotlib/axes/_axes.py:545: UserWarning: No labelled objects found. Use label='...' kwarg on individual plots.\n",
      "  warnings.warn(\"No labelled objects found. \"\n"
     ]
    },
    {
     "name": "stdout",
     "output_type": "stream",
     "text": [
      "LEFC Channel :  w8-w7 Label :  AngG-OcG&AngG Bad shape :  (2560, 22) Good shape :  (2560, 22)\n",
      "Setting up low-pass filter at 10 Hz\n",
      "h_trans_bandwidth chosen to be 2.5 Hz\n",
      "Filter length of 1352 samples (2.641 sec) selected\n",
      "Setting up low-pass filter at 10 Hz\n",
      "h_trans_bandwidth chosen to be 2.5 Hz\n",
      "Filter length of 1352 samples (2.641 sec) selected\n",
      "Size of filtered data bad : (22, 2560) filtered data good :  (22, 2560)\n",
      "time points :  (2560,)\n",
      "Applying baseline correction (mode: mean)\n",
      "Applying baseline correction (mode: mean)\n",
      "Size norm & filtered data 0 :  (22, 2560) (22, 2560)\n",
      "-> Shape of bad data (22, 563) good data (22, 563)\n",
      "(22, 1000, 56) (22, 1000, 56)\n",
      "(1000, 56)\n",
      "[-1.8321452966549441, 1.8321452966549441] [-2.6644171389956819, 2.6644171389956819] [-4.621720326842822, 4.621720326842822]\n",
      "(56,) 1.87722566549 -1.27995714293\n",
      "Size of the concatenated data:  (44, 56) Number time windows :  56\n",
      "Size of label for classif:  44\n",
      "th_perm :  65.9090909091 70.4545454545 81.8181818182\n"
     ]
    },
    {
     "name": "stderr",
     "output_type": "stream",
     "text": [
      "/home/karim/anaconda3/lib/python3.5/site-packages/matplotlib/axes/_axes.py:545: UserWarning: No labelled objects found. Use label='...' kwarg on individual plots.\n",
      "  warnings.warn(\"No labelled objects found. \"\n"
     ]
    },
    {
     "name": "stdout",
     "output_type": "stream",
     "text": [
      "LEFC Channel :  w9-w8 Label :  AngG-OcG Bad shape :  (2560, 22) Good shape :  (2560, 22)\n",
      "Setting up low-pass filter at 10 Hz\n",
      "h_trans_bandwidth chosen to be 2.5 Hz\n",
      "Filter length of 1352 samples (2.641 sec) selected\n",
      "Setting up low-pass filter at 10 Hz\n",
      "h_trans_bandwidth chosen to be 2.5 Hz\n",
      "Filter length of 1352 samples (2.641 sec) selected\n",
      "Size of filtered data bad : (22, 2560) filtered data good :  (22, 2560)\n",
      "time points :  (2560,)\n",
      "Applying baseline correction (mode: mean)\n",
      "Applying baseline correction (mode: mean)\n",
      "Size norm & filtered data 0 :  (22, 2560) (22, 2560)\n",
      "-> Shape of bad data (22, 563) good data (22, 563)\n",
      "(22, 1000, 56) (22, 1000, 56)\n",
      "(1000, 56)\n",
      "[-1.8045932607661781, 1.8045932607661781] [-2.682420559637523, 2.682420559637523] [-4.6547491651025981, 4.6547491651025981]\n",
      "(56,) 1.52719799521 -1.65200682955\n",
      "Size of the concatenated data:  (44, 56) Number time windows :  56\n",
      "Size of label for classif:  44\n",
      "th_perm :  65.9090909091 70.4545454545 79.5454545455\n"
     ]
    },
    {
     "name": "stderr",
     "output_type": "stream",
     "text": [
      "/home/karim/anaconda3/lib/python3.5/site-packages/matplotlib/axes/_axes.py:545: UserWarning: No labelled objects found. Use label='...' kwarg on individual plots.\n",
      "  warnings.warn(\"No labelled objects found. \"\n"
     ]
    },
    {
     "name": "stdout",
     "output_type": "stream",
     "text": [
      "LEFC Channel :  w10-w9 Label :  AngG-OcG Bad shape :  (2560, 22) Good shape :  (2560, 22)\n",
      "Setting up low-pass filter at 10 Hz\n",
      "h_trans_bandwidth chosen to be 2.5 Hz\n",
      "Filter length of 1352 samples (2.641 sec) selected\n",
      "Setting up low-pass filter at 10 Hz\n",
      "h_trans_bandwidth chosen to be 2.5 Hz\n",
      "Filter length of 1352 samples (2.641 sec) selected\n",
      "Size of filtered data bad : (22, 2560) filtered data good :  (22, 2560)\n",
      "time points :  (2560,)\n",
      "Applying baseline correction (mode: mean)\n",
      "Applying baseline correction (mode: mean)\n",
      "Size norm & filtered data 0 :  (22, 2560) (22, 2560)\n",
      "-> Shape of bad data (22, 563) good data (22, 563)\n",
      "(22, 1000, 56) (22, 1000, 56)\n",
      "(1000, 56)\n",
      "[-1.8648333058213291, 1.8648333058213291] [-2.749113190966348, 2.749113190966348] [-5.2303632934347011, 5.2303632934347011]\n",
      "(56,) 1.48648929986 -1.85072333351\n",
      "Size of the concatenated data:  (44, 56) Number time windows :  56\n",
      "Size of label for classif:  44\n",
      "th_perm :  65.9090909091 70.4545454545 81.8181818182\n"
     ]
    },
    {
     "name": "stderr",
     "output_type": "stream",
     "text": [
      "/home/karim/anaconda3/lib/python3.5/site-packages/matplotlib/axes/_axes.py:545: UserWarning: No labelled objects found. Use label='...' kwarg on individual plots.\n",
      "  warnings.warn(\"No labelled objects found. \"\n"
     ]
    },
    {
     "name": "stdout",
     "output_type": "stream",
     "text": [
      "LEFC Channel :  w11-w10 Label :  AngG-OcG Bad shape :  (2560, 22) Good shape :  (2560, 22)\n",
      "Setting up low-pass filter at 10 Hz\n",
      "h_trans_bandwidth chosen to be 2.5 Hz\n",
      "Filter length of 1352 samples (2.641 sec) selected\n",
      "Setting up low-pass filter at 10 Hz\n",
      "h_trans_bandwidth chosen to be 2.5 Hz\n",
      "Filter length of 1352 samples (2.641 sec) selected\n",
      "Size of filtered data bad : (22, 2560) filtered data good :  (22, 2560)\n",
      "time points :  (2560,)\n",
      "Applying baseline correction (mode: mean)\n",
      "Applying baseline correction (mode: mean)\n",
      "Size norm & filtered data 0 :  (22, 2560) (22, 2560)\n",
      "-> Shape of bad data (22, 563) good data (22, 563)\n",
      "(22, 1000, 56) (22, 1000, 56)\n",
      "(1000, 56)\n",
      "[-1.8388140565956479, 1.8388140565956479] [-2.7059836635813537, 2.7059836635813537] [-4.8962016913566151, 4.8962016913566151]\n",
      "(56,) 2.46118207895 -1.93274114242\n",
      "Size of the concatenated data:  (44, 56) Number time windows :  56\n",
      "Size of label for classif:  44\n",
      "th_perm :  65.9090909091 70.4545454545 81.8181818182\n"
     ]
    },
    {
     "name": "stderr",
     "output_type": "stream",
     "text": [
      "/home/karim/anaconda3/lib/python3.5/site-packages/matplotlib/axes/_axes.py:545: UserWarning: No labelled objects found. Use label='...' kwarg on individual plots.\n",
      "  warnings.warn(\"No labelled objects found. \"\n"
     ]
    },
    {
     "name": "stdout",
     "output_type": "stream",
     "text": [
      "LEFC Channel :  w12-w11 Label :  AngG-OcG Bad shape :  (2560, 22) Good shape :  (2560, 22)\n",
      "Setting up low-pass filter at 10 Hz\n",
      "h_trans_bandwidth chosen to be 2.5 Hz\n",
      "Filter length of 1352 samples (2.641 sec) selected\n",
      "Setting up low-pass filter at 10 Hz\n",
      "h_trans_bandwidth chosen to be 2.5 Hz\n",
      "Filter length of 1352 samples (2.641 sec) selected\n",
      "Size of filtered data bad : (22, 2560) filtered data good :  (22, 2560)\n",
      "time points :  (2560,)\n",
      "Applying baseline correction (mode: mean)\n",
      "Applying baseline correction (mode: mean)\n",
      "Size norm & filtered data 0 :  (22, 2560) (22, 2560)\n",
      "-> Shape of bad data (22, 563) good data (22, 563)\n",
      "(22, 1000, 56) (22, 1000, 56)\n",
      "(1000, 56)\n",
      "[-1.782490132104853, 1.782490132104853] [-2.7625114205447274, 2.7625114205447274] [-4.7779603480135879, 4.7779603480135879]\n",
      "(56,) 3.01912555815 -1.26684074784\n",
      "Size of the concatenated data:  (44, 56) Number time windows :  56\n",
      "Size of label for classif:  44\n",
      "th_perm :  65.9090909091 72.7272727273 81.8181818182\n"
     ]
    },
    {
     "name": "stderr",
     "output_type": "stream",
     "text": [
      "/home/karim/anaconda3/lib/python3.5/site-packages/matplotlib/axes/_axes.py:545: UserWarning: No labelled objects found. Use label='...' kwarg on individual plots.\n",
      "  warnings.warn(\"No labelled objects found. \"\n"
     ]
    },
    {
     "name": "stdout",
     "output_type": "stream",
     "text": [
      "LEFC Channel :  x2-x1 Label :  PCun Bad shape :  (2560, 22) Good shape :  (2560, 22)\n",
      "Setting up low-pass filter at 10 Hz\n",
      "h_trans_bandwidth chosen to be 2.5 Hz\n",
      "Filter length of 1352 samples (2.641 sec) selected\n",
      "Setting up low-pass filter at 10 Hz\n",
      "h_trans_bandwidth chosen to be 2.5 Hz\n",
      "Filter length of 1352 samples (2.641 sec) selected\n",
      "Size of filtered data bad : (22, 2560) filtered data good :  (22, 2560)\n",
      "time points :  (2560,)\n",
      "Applying baseline correction (mode: mean)\n",
      "Applying baseline correction (mode: mean)\n",
      "Size norm & filtered data 0 :  (22, 2560) (22, 2560)\n",
      "-> Shape of bad data (22, 563) good data (22, 563)\n",
      "(22, 1000, 56) (22, 1000, 56)\n",
      "(1000, 56)\n",
      "[-1.8242862017577375, 1.8242862017577375] [-2.687303675041762, 2.687303675041762] [-4.8468007321135609, 4.8468007321135609]\n",
      "(56,) 3.40766468143 -3.91801904154\n",
      "Size of the concatenated data:  (44, 56) Number time windows :  56\n",
      "Size of label for classif:  44\n",
      "th_perm :  65.9090909091 70.4545454545 81.8181818182\n"
     ]
    },
    {
     "name": "stderr",
     "output_type": "stream",
     "text": [
      "/home/karim/anaconda3/lib/python3.5/site-packages/matplotlib/axes/_axes.py:545: UserWarning: No labelled objects found. Use label='...' kwarg on individual plots.\n",
      "  warnings.warn(\"No labelled objects found. \"\n"
     ]
    },
    {
     "name": "stdout",
     "output_type": "stream",
     "text": [
      "LEFC Channel :  x3-x2 Label :  PCun Bad shape :  (2560, 22) Good shape :  (2560, 22)\n",
      "Setting up low-pass filter at 10 Hz\n",
      "h_trans_bandwidth chosen to be 2.5 Hz\n",
      "Filter length of 1352 samples (2.641 sec) selected\n",
      "Setting up low-pass filter at 10 Hz\n",
      "h_trans_bandwidth chosen to be 2.5 Hz\n",
      "Filter length of 1352 samples (2.641 sec) selected\n",
      "Size of filtered data bad : (22, 2560) filtered data good :  (22, 2560)\n",
      "time points :  (2560,)\n",
      "Applying baseline correction (mode: mean)\n",
      "Applying baseline correction (mode: mean)\n",
      "Size norm & filtered data 0 :  (22, 2560) (22, 2560)\n",
      "-> Shape of bad data (22, 563) good data (22, 563)\n",
      "(22, 1000, 56) (22, 1000, 56)\n",
      "(1000, 56)\n",
      "[-1.8016052358122896, 1.8016052358122896] [-2.6962067654590403, 2.6962067654590403] [-4.2078718256557313, 4.2078718256557313]\n",
      "(56,) 4.11129326894 -3.13451136108\n",
      "Size of the concatenated data:  (44, 56) Number time windows :  56\n",
      "Size of label for classif:  44\n",
      "th_perm :  65.9090909091 70.4545454545 81.8181818182\n"
     ]
    },
    {
     "name": "stderr",
     "output_type": "stream",
     "text": [
      "/home/karim/anaconda3/lib/python3.5/site-packages/matplotlib/axes/_axes.py:545: UserWarning: No labelled objects found. Use label='...' kwarg on individual plots.\n",
      "  warnings.warn(\"No labelled objects found. \"\n"
     ]
    },
    {
     "name": "stdout",
     "output_type": "stream",
     "text": [
      "LEFC Channel :  x4-x3 Label :  PCun-SPL-SMG&PCun Bad shape :  (2560, 22) Good shape :  (2560, 22)\n",
      "Setting up low-pass filter at 10 Hz\n",
      "h_trans_bandwidth chosen to be 2.5 Hz\n",
      "Filter length of 1352 samples (2.641 sec) selected\n",
      "Setting up low-pass filter at 10 Hz\n",
      "h_trans_bandwidth chosen to be 2.5 Hz\n",
      "Filter length of 1352 samples (2.641 sec) selected\n",
      "Size of filtered data bad : (22, 2560) filtered data good :  (22, 2560)\n",
      "time points :  (2560,)\n",
      "Applying baseline correction (mode: mean)\n",
      "Applying baseline correction (mode: mean)\n",
      "Size norm & filtered data 0 :  (22, 2560) (22, 2560)\n",
      "-> Shape of bad data (22, 563) good data (22, 563)\n",
      "(22, 1000, 56) (22, 1000, 56)\n",
      "(1000, 56)\n",
      "[-1.8641653219135359, 1.8641653219135359] [-2.7554060776709823, 2.7554060776709823] [-5.0313117307032584, 5.0313117307032584]\n",
      "(56,) 2.62317129274 -1.65405854739\n",
      "Size of the concatenated data:  (44, 56) Number time windows :  56\n",
      "Size of label for classif:  44\n",
      "th_perm :  65.9090909091 72.7272727273 81.8181818182\n"
     ]
    },
    {
     "name": "stderr",
     "output_type": "stream",
     "text": [
      "/home/karim/anaconda3/lib/python3.5/site-packages/matplotlib/axes/_axes.py:545: UserWarning: No labelled objects found. Use label='...' kwarg on individual plots.\n",
      "  warnings.warn(\"No labelled objects found. \"\n"
     ]
    },
    {
     "name": "stdout",
     "output_type": "stream",
     "text": [
      "LEFC Channel :  x5-x4 Label :  SPL-SMG&PCun-SPL-SMG Bad shape :  (2560, 22) Good shape :  (2560, 22)\n",
      "Setting up low-pass filter at 10 Hz\n",
      "h_trans_bandwidth chosen to be 2.5 Hz\n",
      "Filter length of 1352 samples (2.641 sec) selected\n",
      "Setting up low-pass filter at 10 Hz\n",
      "h_trans_bandwidth chosen to be 2.5 Hz\n",
      "Filter length of 1352 samples (2.641 sec) selected\n",
      "Size of filtered data bad : (22, 2560) filtered data good :  (22, 2560)\n",
      "time points :  (2560,)\n",
      "Applying baseline correction (mode: mean)\n",
      "Applying baseline correction (mode: mean)\n",
      "Size norm & filtered data 0 :  (22, 2560) (22, 2560)\n",
      "-> Shape of bad data (22, 563) good data (22, 563)\n",
      "(22, 1000, 56) (22, 1000, 56)\n",
      "(1000, 56)\n",
      "[-1.8582152112073833, 1.8582152112073833] [-2.758294269570249, 2.758294269570249] [-4.2123695721202914, 4.2123695721202914]\n",
      "(56,) 3.79201919422 -2.05856872062\n",
      "Size of the concatenated data:  (44, 56) Number time windows :  56\n",
      "Size of label for classif:  44\n",
      "th_perm :  65.9090909091 70.4545454545 81.8181818182\n"
     ]
    },
    {
     "name": "stderr",
     "output_type": "stream",
     "text": [
      "/home/karim/anaconda3/lib/python3.5/site-packages/matplotlib/axes/_axes.py:545: UserWarning: No labelled objects found. Use label='...' kwarg on individual plots.\n",
      "  warnings.warn(\"No labelled objects found. \"\n"
     ]
    },
    {
     "name": "stdout",
     "output_type": "stream",
     "text": [
      "LEFC Channel :  x6-x5 Label :  SPL-SMG Bad shape :  (2560, 22) Good shape :  (2560, 22)\n",
      "Setting up low-pass filter at 10 Hz\n",
      "h_trans_bandwidth chosen to be 2.5 Hz\n",
      "Filter length of 1352 samples (2.641 sec) selected\n",
      "Setting up low-pass filter at 10 Hz\n",
      "h_trans_bandwidth chosen to be 2.5 Hz\n",
      "Filter length of 1352 samples (2.641 sec) selected\n",
      "Size of filtered data bad : (22, 2560) filtered data good :  (22, 2560)\n",
      "time points :  (2560,)\n",
      "Applying baseline correction (mode: mean)\n",
      "Applying baseline correction (mode: mean)\n",
      "Size norm & filtered data 0 :  (22, 2560) (22, 2560)\n",
      "-> Shape of bad data (22, 563) good data (22, 563)\n",
      "(22, 1000, 56) (22, 1000, 56)\n",
      "(1000, 56)\n",
      "[-1.8329243530233106, 1.8329243530233106] [-2.6546317680630636, 2.6546317680630636] [-4.9272783231783155, 4.9272783231783155]\n",
      "(56,) 3.38233755499 -2.88102367809\n",
      "Size of the concatenated data:  (44, 56) Number time windows :  56\n",
      "Size of label for classif:  44\n",
      "th_perm :  65.9090909091 70.4545454545 81.8181818182\n"
     ]
    },
    {
     "name": "stderr",
     "output_type": "stream",
     "text": [
      "/home/karim/anaconda3/lib/python3.5/site-packages/matplotlib/axes/_axes.py:545: UserWarning: No labelled objects found. Use label='...' kwarg on individual plots.\n",
      "  warnings.warn(\"No labelled objects found. \"\n"
     ]
    },
    {
     "name": "stdout",
     "output_type": "stream",
     "text": [
      "LEFC Channel :  x7-x6 Label :  SPL-SMG Bad shape :  (2560, 22) Good shape :  (2560, 22)\n",
      "Setting up low-pass filter at 10 Hz\n",
      "h_trans_bandwidth chosen to be 2.5 Hz\n",
      "Filter length of 1352 samples (2.641 sec) selected\n",
      "Setting up low-pass filter at 10 Hz\n",
      "h_trans_bandwidth chosen to be 2.5 Hz\n",
      "Filter length of 1352 samples (2.641 sec) selected\n",
      "Size of filtered data bad : (22, 2560) filtered data good :  (22, 2560)\n",
      "time points :  (2560,)\n",
      "Applying baseline correction (mode: mean)\n",
      "Applying baseline correction (mode: mean)\n",
      "Size norm & filtered data 0 :  (22, 2560) (22, 2560)\n",
      "-> Shape of bad data (22, 563) good data (22, 563)\n",
      "(22, 1000, 56) (22, 1000, 56)\n",
      "(1000, 56)\n",
      "[-1.832554605085928, 1.832554605085928] [-2.7060377799188129, 2.7060377799188129] [-4.2083598757046827, 4.2083598757046827]\n",
      "(56,) 1.11385802943 -3.57219689342\n",
      "Size of the concatenated data:  (44, 56) Number time windows :  56\n",
      "Size of label for classif:  44\n",
      "th_perm :  65.9090909091 70.4545454545 81.8181818182\n"
     ]
    },
    {
     "name": "stderr",
     "output_type": "stream",
     "text": [
      "/home/karim/anaconda3/lib/python3.5/site-packages/matplotlib/axes/_axes.py:545: UserWarning: No labelled objects found. Use label='...' kwarg on individual plots.\n",
      "  warnings.warn(\"No labelled objects found. \"\n"
     ]
    },
    {
     "name": "stdout",
     "output_type": "stream",
     "text": [
      "LEFC Channel :  x8-x7 Label :  SMG&SPL-SMG Bad shape :  (2560, 22) Good shape :  (2560, 22)\n",
      "Setting up low-pass filter at 10 Hz\n",
      "h_trans_bandwidth chosen to be 2.5 Hz\n",
      "Filter length of 1352 samples (2.641 sec) selected\n",
      "Setting up low-pass filter at 10 Hz\n",
      "h_trans_bandwidth chosen to be 2.5 Hz\n",
      "Filter length of 1352 samples (2.641 sec) selected\n",
      "Size of filtered data bad : (22, 2560) filtered data good :  (22, 2560)\n",
      "time points :  (2560,)\n",
      "Applying baseline correction (mode: mean)\n",
      "Applying baseline correction (mode: mean)\n",
      "Size norm & filtered data 0 :  (22, 2560) (22, 2560)\n",
      "-> Shape of bad data (22, 563) good data (22, 563)\n",
      "(22, 1000, 56) (22, 1000, 56)\n",
      "(1000, 56)\n",
      "[-1.7702901484695053, 1.7702901484695053] [-2.7573743186363968, 2.7573743186363968] [-5.0147960825978162, 5.0147960825978162]\n",
      "(56,) 1.62467600103 -2.44075078146\n",
      "Size of the concatenated data:  (44, 56) Number time windows :  56\n",
      "Size of label for classif:  44\n",
      "th_perm :  65.9090909091 72.7272727273 84.0909090909\n"
     ]
    },
    {
     "name": "stderr",
     "output_type": "stream",
     "text": [
      "/home/karim/anaconda3/lib/python3.5/site-packages/matplotlib/axes/_axes.py:545: UserWarning: No labelled objects found. Use label='...' kwarg on individual plots.\n",
      "  warnings.warn(\"No labelled objects found. \"\n"
     ]
    },
    {
     "name": "stdout",
     "output_type": "stream",
     "text": [
      "LEFC Channel :  x9-x8 Label :  SMG Bad shape :  (2560, 22) Good shape :  (2560, 22)\n",
      "Setting up low-pass filter at 10 Hz\n",
      "h_trans_bandwidth chosen to be 2.5 Hz\n",
      "Filter length of 1352 samples (2.641 sec) selected\n",
      "Setting up low-pass filter at 10 Hz\n",
      "h_trans_bandwidth chosen to be 2.5 Hz\n",
      "Filter length of 1352 samples (2.641 sec) selected\n",
      "Size of filtered data bad : (22, 2560) filtered data good :  (22, 2560)\n",
      "time points :  (2560,)\n",
      "Applying baseline correction (mode: mean)\n",
      "Applying baseline correction (mode: mean)\n",
      "Size norm & filtered data 0 :  (22, 2560) (22, 2560)\n",
      "-> Shape of bad data (22, 563) good data (22, 563)\n",
      "(22, 1000, 56) (22, 1000, 56)\n",
      "(1000, 56)\n",
      "[-1.7850861987235398, 1.7850861987235398] [-2.8435250392653275, 2.8435250392653275] [-4.4894549994217492, 4.4894549994217492]\n",
      "(56,) 2.77755302541 -2.52834545532\n",
      "Size of the concatenated data:  (44, 56) Number time windows :  56\n",
      "Size of label for classif:  44\n",
      "th_perm :  65.9090909091 70.4545454545 79.5454545455\n"
     ]
    },
    {
     "name": "stderr",
     "output_type": "stream",
     "text": [
      "/home/karim/anaconda3/lib/python3.5/site-packages/matplotlib/axes/_axes.py:545: UserWarning: No labelled objects found. Use label='...' kwarg on individual plots.\n",
      "  warnings.warn(\"No labelled objects found. \"\n"
     ]
    },
    {
     "name": "stdout",
     "output_type": "stream",
     "text": [
      "LEFC Channel :  x10-x9 Label :  SMG Bad shape :  (2560, 22) Good shape :  (2560, 22)\n",
      "Setting up low-pass filter at 10 Hz\n",
      "h_trans_bandwidth chosen to be 2.5 Hz\n",
      "Filter length of 1352 samples (2.641 sec) selected\n",
      "Setting up low-pass filter at 10 Hz\n",
      "h_trans_bandwidth chosen to be 2.5 Hz\n",
      "Filter length of 1352 samples (2.641 sec) selected\n",
      "Size of filtered data bad : (22, 2560) filtered data good :  (22, 2560)\n",
      "time points :  (2560,)\n",
      "Applying baseline correction (mode: mean)\n",
      "Applying baseline correction (mode: mean)\n",
      "Size norm & filtered data 0 :  (22, 2560) (22, 2560)\n",
      "-> Shape of bad data (22, 563) good data (22, 563)\n",
      "(22, 1000, 56) (22, 1000, 56)\n",
      "(1000, 56)\n",
      "[-1.8631782319948444, 1.8631782319948444] [-2.6960443164658492, 2.6960443164658492] [-4.8550753056984615, 4.8550753056984615]\n",
      "(56,) 2.24137099093 -1.56424283061\n",
      "Size of the concatenated data:  (44, 56) Number time windows :  56\n",
      "Size of label for classif:  44\n",
      "th_perm :  65.9090909091 72.7272727273 81.8181818182\n"
     ]
    },
    {
     "name": "stderr",
     "output_type": "stream",
     "text": [
      "/home/karim/anaconda3/lib/python3.5/site-packages/matplotlib/axes/_axes.py:545: UserWarning: No labelled objects found. Use label='...' kwarg on individual plots.\n",
      "  warnings.warn(\"No labelled objects found. \"\n"
     ]
    },
    {
     "name": "stdout",
     "output_type": "stream",
     "text": [
      "LEFC Channel :  x11-x10 Label :  SMG Bad shape :  (2560, 22) Good shape :  (2560, 22)\n",
      "Setting up low-pass filter at 10 Hz\n",
      "h_trans_bandwidth chosen to be 2.5 Hz\n",
      "Filter length of 1352 samples (2.641 sec) selected\n",
      "Setting up low-pass filter at 10 Hz\n",
      "h_trans_bandwidth chosen to be 2.5 Hz\n",
      "Filter length of 1352 samples (2.641 sec) selected\n",
      "Size of filtered data bad : (22, 2560) filtered data good :  (22, 2560)\n",
      "time points :  (2560,)\n",
      "Applying baseline correction (mode: mean)\n",
      "Applying baseline correction (mode: mean)\n",
      "Size norm & filtered data 0 :  (22, 2560) (22, 2560)\n",
      "-> Shape of bad data (22, 563) good data (22, 563)\n",
      "(22, 1000, 56) (22, 1000, 56)\n",
      "(1000, 56)\n",
      "[-1.8327916174641394, 1.8327916174641394] [-2.9713448859617779, 2.9713448859617779] [-4.1518125624342606, 4.1518125624342606]\n",
      "(56,) 1.71932472315 -1.71128489198\n",
      "Size of the concatenated data:  (44, 56) Number time windows :  56\n",
      "Size of label for classif:  44\n",
      "th_perm :  65.9090909091 70.4545454545 84.0909090909\n"
     ]
    },
    {
     "name": "stderr",
     "output_type": "stream",
     "text": [
      "/home/karim/anaconda3/lib/python3.5/site-packages/matplotlib/axes/_axes.py:545: UserWarning: No labelled objects found. Use label='...' kwarg on individual plots.\n",
      "  warnings.warn(\"No labelled objects found. \"\n"
     ]
    },
    {
     "name": "stdout",
     "output_type": "stream",
     "text": [
      "LEFC Channel :  x12-x11 Label :  SMG Bad shape :  (2560, 22) Good shape :  (2560, 22)\n",
      "Setting up low-pass filter at 10 Hz\n",
      "h_trans_bandwidth chosen to be 2.5 Hz\n",
      "Filter length of 1352 samples (2.641 sec) selected\n",
      "Setting up low-pass filter at 10 Hz\n",
      "h_trans_bandwidth chosen to be 2.5 Hz\n",
      "Filter length of 1352 samples (2.641 sec) selected\n",
      "Size of filtered data bad : (22, 2560) filtered data good :  (22, 2560)\n",
      "time points :  (2560,)\n",
      "Applying baseline correction (mode: mean)\n",
      "Applying baseline correction (mode: mean)\n",
      "Size norm & filtered data 0 :  (22, 2560) (22, 2560)\n",
      "-> Shape of bad data (22, 563) good data (22, 563)\n",
      "(22, 1000, 56) (22, 1000, 56)\n",
      "(1000, 56)\n",
      "[-1.8059629210639285, 1.8059629210639285] [-2.6967204449179762, 2.6967204449179762] [-4.7746819985140503, 4.7746819985140503]\n",
      "(56,) 2.50209592467 -2.5432731036\n",
      "Size of the concatenated data:  (44, 56) Number time windows :  56\n",
      "Size of label for classif:  44\n",
      "th_perm :  65.9090909091 72.7272727273 81.8181818182\n"
     ]
    },
    {
     "name": "stderr",
     "output_type": "stream",
     "text": [
      "/home/karim/anaconda3/lib/python3.5/site-packages/matplotlib/axes/_axes.py:545: UserWarning: No labelled objects found. Use label='...' kwarg on individual plots.\n",
      "  warnings.warn(\"No labelled objects found. \"\n"
     ]
    },
    {
     "name": "stdout",
     "output_type": "stream",
     "text": [
      "LEFC Channel :  x13-x12 Label :  SMG Bad shape :  (2560, 22) Good shape :  (2560, 22)\n",
      "Setting up low-pass filter at 10 Hz\n",
      "h_trans_bandwidth chosen to be 2.5 Hz\n",
      "Filter length of 1352 samples (2.641 sec) selected\n",
      "Setting up low-pass filter at 10 Hz\n",
      "h_trans_bandwidth chosen to be 2.5 Hz\n",
      "Filter length of 1352 samples (2.641 sec) selected\n",
      "Size of filtered data bad : (22, 2560) filtered data good :  (22, 2560)\n",
      "time points :  (2560,)\n",
      "Applying baseline correction (mode: mean)\n",
      "Applying baseline correction (mode: mean)\n",
      "Size norm & filtered data 0 :  (22, 2560) (22, 2560)\n",
      "-> Shape of bad data (22, 563) good data (22, 563)\n",
      "(22, 1000, 56) (22, 1000, 56)\n",
      "(1000, 56)\n",
      "[-1.8405111520041999, 1.8405111520041999] [-2.6675753210161197, 2.6675753210161197] [-4.3092216378536321, 4.3092216378536321]\n",
      "(56,) 2.62971503962 -2.21901991405\n",
      "Size of the concatenated data:  (44, 56) Number time windows :  56\n",
      "Size of label for classif:  44\n",
      "th_perm :  65.9090909091 70.4545454545 84.0909090909\n"
     ]
    },
    {
     "name": "stderr",
     "output_type": "stream",
     "text": [
      "/home/karim/anaconda3/lib/python3.5/site-packages/matplotlib/axes/_axes.py:545: UserWarning: No labelled objects found. Use label='...' kwarg on individual plots.\n",
      "  warnings.warn(\"No labelled objects found. \"\n"
     ]
    },
    {
     "name": "stdout",
     "output_type": "stream",
     "text": [
      "LEFC Channel :  x14-x13 Label :  SMG Bad shape :  (2560, 22) Good shape :  (2560, 22)\n",
      "Setting up low-pass filter at 10 Hz\n",
      "h_trans_bandwidth chosen to be 2.5 Hz\n",
      "Filter length of 1352 samples (2.641 sec) selected\n",
      "Setting up low-pass filter at 10 Hz\n",
      "h_trans_bandwidth chosen to be 2.5 Hz\n",
      "Filter length of 1352 samples (2.641 sec) selected\n",
      "Size of filtered data bad : (22, 2560) filtered data good :  (22, 2560)\n",
      "time points :  (2560,)\n",
      "Applying baseline correction (mode: mean)\n",
      "Applying baseline correction (mode: mean)\n",
      "Size norm & filtered data 0 :  (22, 2560) (22, 2560)\n",
      "-> Shape of bad data (22, 563) good data (22, 563)\n",
      "(22, 1000, 56) (22, 1000, 56)\n",
      "(1000, 56)\n",
      "[-1.8676920395226175, 1.8676920395226175] [-2.7236715635697211, 2.7236715635697211] [-4.1572305065877142, 4.1572305065877142]\n",
      "(56,) 1.48195931063 -1.2423486832\n",
      "Size of the concatenated data:  (44, 56) Number time windows :  56\n",
      "Size of label for classif:  44\n",
      "th_perm :  65.9090909091 70.4545454545 79.5454545455\n"
     ]
    },
    {
     "name": "stderr",
     "output_type": "stream",
     "text": [
      "/home/karim/anaconda3/lib/python3.5/site-packages/matplotlib/axes/_axes.py:545: UserWarning: No labelled objects found. Use label='...' kwarg on individual plots.\n",
      "  warnings.warn(\"No labelled objects found. \"\n"
     ]
    },
    {
     "name": "stdout",
     "output_type": "stream",
     "text": [
      "LEFC Channel :  x15-x14 Label :  skull-LCR&SMG Bad shape :  (2560, 22) Good shape :  (2560, 22)\n",
      "Setting up low-pass filter at 10 Hz\n",
      "h_trans_bandwidth chosen to be 2.5 Hz\n",
      "Filter length of 1352 samples (2.641 sec) selected\n",
      "Setting up low-pass filter at 10 Hz\n",
      "h_trans_bandwidth chosen to be 2.5 Hz\n",
      "Filter length of 1352 samples (2.641 sec) selected\n",
      "Size of filtered data bad : (22, 2560) filtered data good :  (22, 2560)\n",
      "time points :  (2560,)\n",
      "Applying baseline correction (mode: mean)\n",
      "Applying baseline correction (mode: mean)\n",
      "Size norm & filtered data 0 :  (22, 2560) (22, 2560)\n",
      "-> Shape of bad data (22, 563) good data (22, 563)\n",
      "(22, 1000, 56) (22, 1000, 56)\n",
      "(1000, 56)\n",
      "[-1.8521967123000864, 1.8521967123000864] [-2.6462376475056417, 2.6462376475056417] [-4.4406361657359241, 4.4406361657359241]\n",
      "(56,) 1.46754626519 -1.64832597452\n",
      "Size of the concatenated data:  (44, 56) Number time windows :  56\n",
      "Size of label for classif:  44\n",
      "th_perm :  65.9090909091 72.7272727273 81.8181818182\n"
     ]
    },
    {
     "name": "stderr",
     "output_type": "stream",
     "text": [
      "/home/karim/anaconda3/lib/python3.5/site-packages/matplotlib/axes/_axes.py:545: UserWarning: No labelled objects found. Use label='...' kwarg on individual plots.\n",
      "  warnings.warn(\"No labelled objects found. \"\n"
     ]
    },
    {
     "name": "stdout",
     "output_type": "stream",
     "text": [
      "LEFC Channel :  y2-y1 Label :  PCun Bad shape :  (2560, 22) Good shape :  (2560, 22)\n",
      "Setting up low-pass filter at 10 Hz\n",
      "h_trans_bandwidth chosen to be 2.5 Hz\n",
      "Filter length of 1352 samples (2.641 sec) selected\n",
      "Setting up low-pass filter at 10 Hz\n",
      "h_trans_bandwidth chosen to be 2.5 Hz\n",
      "Filter length of 1352 samples (2.641 sec) selected\n",
      "Size of filtered data bad : (22, 2560) filtered data good :  (22, 2560)\n",
      "time points :  (2560,)\n",
      "Applying baseline correction (mode: mean)\n",
      "Applying baseline correction (mode: mean)\n",
      "Size norm & filtered data 0 :  (22, 2560) (22, 2560)\n",
      "-> Shape of bad data (22, 563) good data (22, 563)\n",
      "(22, 1000, 56) (22, 1000, 56)\n",
      "(1000, 56)\n",
      "[-1.8639001797908836, 1.8639001797908836] [-2.7665313694844289, 2.7665313694844289] [-5.137077345396599, 5.137077345396599]\n",
      "(56,) 2.14349269159 -0.952098568647\n",
      "Size of the concatenated data:  (44, 56) Number time windows :  56\n",
      "Size of label for classif:  44\n",
      "th_perm :  65.9090909091 70.4545454545 79.5454545455\n"
     ]
    },
    {
     "name": "stderr",
     "output_type": "stream",
     "text": [
      "/home/karim/anaconda3/lib/python3.5/site-packages/matplotlib/axes/_axes.py:545: UserWarning: No labelled objects found. Use label='...' kwarg on individual plots.\n",
      "  warnings.warn(\"No labelled objects found. \"\n"
     ]
    },
    {
     "name": "stdout",
     "output_type": "stream",
     "text": [
      "LEFC Channel :  y3-y2 Label :  PCun-OcG&PCun Bad shape :  (2560, 22) Good shape :  (2560, 22)\n",
      "Setting up low-pass filter at 10 Hz\n",
      "h_trans_bandwidth chosen to be 2.5 Hz\n",
      "Filter length of 1352 samples (2.641 sec) selected\n",
      "Setting up low-pass filter at 10 Hz\n",
      "h_trans_bandwidth chosen to be 2.5 Hz\n",
      "Filter length of 1352 samples (2.641 sec) selected\n",
      "Size of filtered data bad : (22, 2560) filtered data good :  (22, 2560)\n",
      "time points :  (2560,)\n",
      "Applying baseline correction (mode: mean)\n",
      "Applying baseline correction (mode: mean)\n",
      "Size norm & filtered data 0 :  (22, 2560) (22, 2560)\n",
      "-> Shape of bad data (22, 563) good data (22, 563)\n",
      "(22, 1000, 56) (22, 1000, 56)\n",
      "(1000, 56)\n",
      "[-1.7588386231165472, 1.7588386231165472] [-2.798672513686784, 2.798672513686784] [-4.8149615027629524, 4.8149615027629524]\n",
      "(56,) 1.93675002744 -1.88561380179\n",
      "Size of the concatenated data:  (44, 56) Number time windows :  56\n",
      "Size of label for classif:  44\n",
      "th_perm :  65.9090909091 70.4545454545 81.8181818182\n"
     ]
    },
    {
     "name": "stderr",
     "output_type": "stream",
     "text": [
      "/home/karim/anaconda3/lib/python3.5/site-packages/matplotlib/axes/_axes.py:545: UserWarning: No labelled objects found. Use label='...' kwarg on individual plots.\n",
      "  warnings.warn(\"No labelled objects found. \"\n"
     ]
    },
    {
     "name": "stdout",
     "output_type": "stream",
     "text": [
      "LEFC Channel :  y4-y3 Label :  PCun-OcG Bad shape :  (2560, 22) Good shape :  (2560, 22)\n",
      "Setting up low-pass filter at 10 Hz\n",
      "h_trans_bandwidth chosen to be 2.5 Hz\n",
      "Filter length of 1352 samples (2.641 sec) selected\n",
      "Setting up low-pass filter at 10 Hz\n",
      "h_trans_bandwidth chosen to be 2.5 Hz\n",
      "Filter length of 1352 samples (2.641 sec) selected\n",
      "Size of filtered data bad : (22, 2560) filtered data good :  (22, 2560)\n",
      "time points :  (2560,)\n",
      "Applying baseline correction (mode: mean)\n",
      "Applying baseline correction (mode: mean)\n",
      "Size norm & filtered data 0 :  (22, 2560) (22, 2560)\n",
      "-> Shape of bad data (22, 563) good data (22, 563)\n",
      "(22, 1000, 56) (22, 1000, 56)\n",
      "(1000, 56)\n",
      "[-1.8390794283633232, 1.8390794283633232] [-2.6327234217899891, 2.6327234217899891] [-3.9558865323733032, 3.9558865323733032]\n",
      "(56,) 1.425217597 -4.50739607515\n",
      "Size of the concatenated data:  (44, 56) Number time windows :  56\n",
      "Size of label for classif:  44\n",
      "th_perm :  65.9090909091 70.4545454545 81.8181818182\n"
     ]
    },
    {
     "name": "stderr",
     "output_type": "stream",
     "text": [
      "/home/karim/anaconda3/lib/python3.5/site-packages/matplotlib/axes/_axes.py:545: UserWarning: No labelled objects found. Use label='...' kwarg on individual plots.\n",
      "  warnings.warn(\"No labelled objects found. \"\n"
     ]
    },
    {
     "name": "stdout",
     "output_type": "stream",
     "text": [
      "LEFC Channel :  y5-y4 Label :  PCun-OcG Bad shape :  (2560, 22) Good shape :  (2560, 22)\n",
      "Setting up low-pass filter at 10 Hz\n",
      "h_trans_bandwidth chosen to be 2.5 Hz\n",
      "Filter length of 1352 samples (2.641 sec) selected\n",
      "Setting up low-pass filter at 10 Hz\n",
      "h_trans_bandwidth chosen to be 2.5 Hz\n",
      "Filter length of 1352 samples (2.641 sec) selected\n",
      "Size of filtered data bad : (22, 2560) filtered data good :  (22, 2560)\n",
      "time points :  (2560,)\n",
      "Applying baseline correction (mode: mean)\n",
      "Applying baseline correction (mode: mean)\n",
      "Size norm & filtered data 0 :  (22, 2560) (22, 2560)\n",
      "-> Shape of bad data (22, 563) good data (22, 563)\n",
      "(22, 1000, 56) (22, 1000, 56)\n",
      "(1000, 56)\n",
      "[-1.8346764588623221, 1.8346764588623221] [-2.7093682614145433, 2.7093682614145433] [-4.3566857793989113, 4.3566857793989113]\n",
      "(56,) 1.10084169957 -1.96090781837\n",
      "Size of the concatenated data:  (44, 56) Number time windows :  56\n",
      "Size of label for classif:  44\n",
      "th_perm :  65.9090909091 70.4545454545 84.0909090909\n"
     ]
    },
    {
     "name": "stderr",
     "output_type": "stream",
     "text": [
      "/home/karim/anaconda3/lib/python3.5/site-packages/matplotlib/axes/_axes.py:545: UserWarning: No labelled objects found. Use label='...' kwarg on individual plots.\n",
      "  warnings.warn(\"No labelled objects found. \"\n"
     ]
    },
    {
     "name": "stdout",
     "output_type": "stream",
     "text": [
      "LEFC Channel :  y12-y11 Label :  AngG-STG Bad shape :  (2560, 22) Good shape :  (2560, 22)\n",
      "Setting up low-pass filter at 10 Hz\n",
      "h_trans_bandwidth chosen to be 2.5 Hz\n",
      "Filter length of 1352 samples (2.641 sec) selected\n",
      "Setting up low-pass filter at 10 Hz\n",
      "h_trans_bandwidth chosen to be 2.5 Hz\n",
      "Filter length of 1352 samples (2.641 sec) selected\n",
      "Size of filtered data bad : (22, 2560) filtered data good :  (22, 2560)\n",
      "time points :  (2560,)\n",
      "Applying baseline correction (mode: mean)\n",
      "Applying baseline correction (mode: mean)\n",
      "Size norm & filtered data 0 :  (22, 2560) (22, 2560)\n",
      "-> Shape of bad data (22, 563) good data (22, 563)\n",
      "(22, 1000, 56) (22, 1000, 56)\n",
      "(1000, 56)\n",
      "[-1.7640433945689442, 1.7640433945689442] [-2.6901764943078295, 2.6901764943078295] [-3.9295361974665353, 3.9295361974665353]\n",
      "(56,) 2.63769688321 -2.37103498026\n",
      "Size of the concatenated data:  (44, 56) Number time windows :  56\n",
      "Size of label for classif:  44\n",
      "th_perm :  65.9090909091 72.7272727273 81.8181818182\n"
     ]
    },
    {
     "name": "stderr",
     "output_type": "stream",
     "text": [
      "/home/karim/anaconda3/lib/python3.5/site-packages/matplotlib/axes/_axes.py:545: UserWarning: No labelled objects found. Use label='...' kwarg on individual plots.\n",
      "  warnings.warn(\"No labelled objects found. \"\n"
     ]
    },
    {
     "name": "stdout",
     "output_type": "stream",
     "text": [
      "LEFC Channel :  y13-y12 Label :  STG&AngG-STG Bad shape :  (2560, 22) Good shape :  (2560, 22)\n",
      "Setting up low-pass filter at 10 Hz\n",
      "h_trans_bandwidth chosen to be 2.5 Hz\n",
      "Filter length of 1352 samples (2.641 sec) selected\n",
      "Setting up low-pass filter at 10 Hz\n",
      "h_trans_bandwidth chosen to be 2.5 Hz\n",
      "Filter length of 1352 samples (2.641 sec) selected\n",
      "Size of filtered data bad : (22, 2560) filtered data good :  (22, 2560)\n",
      "time points :  (2560,)\n",
      "Applying baseline correction (mode: mean)\n",
      "Applying baseline correction (mode: mean)\n",
      "Size norm & filtered data 0 :  (22, 2560) (22, 2560)\n",
      "-> Shape of bad data (22, 563) good data (22, 563)\n",
      "(22, 1000, 56) (22, 1000, 56)\n",
      "(1000, 56)\n",
      "[-1.811691098658889, 1.811691098658889] [-2.7742551456552875, 2.7742551456552875] [-4.7985498848211474, 4.7985498848211474]\n",
      "(56,) 1.07340098186 -1.65243369628\n",
      "Size of the concatenated data:  (44, 56) Number time windows :  56\n",
      "Size of label for classif:  44\n",
      "th_perm :  65.9090909091 70.4545454545 86.3636363636\n"
     ]
    },
    {
     "name": "stderr",
     "output_type": "stream",
     "text": [
      "/home/karim/anaconda3/lib/python3.5/site-packages/matplotlib/axes/_axes.py:545: UserWarning: No labelled objects found. Use label='...' kwarg on individual plots.\n",
      "  warnings.warn(\"No labelled objects found. \"\n"
     ]
    },
    {
     "name": "stdout",
     "output_type": "stream",
     "text": [
      "LEFC Channel :  y14-y13 Label :  STG Bad shape :  (2560, 22) Good shape :  (2560, 22)\n",
      "Setting up low-pass filter at 10 Hz\n",
      "h_trans_bandwidth chosen to be 2.5 Hz\n",
      "Filter length of 1352 samples (2.641 sec) selected\n",
      "Setting up low-pass filter at 10 Hz\n",
      "h_trans_bandwidth chosen to be 2.5 Hz\n",
      "Filter length of 1352 samples (2.641 sec) selected\n",
      "Size of filtered data bad : (22, 2560) filtered data good :  (22, 2560)\n",
      "time points :  (2560,)\n",
      "Applying baseline correction (mode: mean)\n",
      "Applying baseline correction (mode: mean)\n",
      "Size norm & filtered data 0 :  (22, 2560) (22, 2560)\n",
      "-> Shape of bad data (22, 563) good data (22, 563)\n",
      "(22, 1000, 56) (22, 1000, 56)\n",
      "(1000, 56)\n",
      "[-1.8440106865303376, 1.8440106865303376] [-2.6388883511765227, 2.6388883511765227] [-4.4860050748487748, 4.4860050748487748]\n",
      "(56,) 1.8121594495 -2.03016860545\n",
      "Size of the concatenated data:  (44, 56) Number time windows :  56\n",
      "Size of label for classif:  44\n",
      "th_perm :  65.9090909091 70.4545454545 79.5454545455\n"
     ]
    },
    {
     "name": "stderr",
     "output_type": "stream",
     "text": [
      "/home/karim/anaconda3/lib/python3.5/site-packages/matplotlib/axes/_axes.py:545: UserWarning: No labelled objects found. Use label='...' kwarg on individual plots.\n",
      "  warnings.warn(\"No labelled objects found. \"\n"
     ]
    },
    {
     "name": "stdout",
     "output_type": "stream",
     "text": [
      "LEFC Channel :  y15-y14 Label :  STG Bad shape :  (2560, 22) Good shape :  (2560, 22)\n",
      "Setting up low-pass filter at 10 Hz\n",
      "h_trans_bandwidth chosen to be 2.5 Hz\n",
      "Filter length of 1352 samples (2.641 sec) selected\n",
      "Setting up low-pass filter at 10 Hz\n",
      "h_trans_bandwidth chosen to be 2.5 Hz\n",
      "Filter length of 1352 samples (2.641 sec) selected\n",
      "Size of filtered data bad : (22, 2560) filtered data good :  (22, 2560)\n",
      "time points :  (2560,)\n",
      "Applying baseline correction (mode: mean)\n",
      "Applying baseline correction (mode: mean)\n",
      "Size norm & filtered data 0 :  (22, 2560) (22, 2560)\n",
      "-> Shape of bad data (22, 563) good data (22, 563)\n",
      "(22, 1000, 56) (22, 1000, 56)\n",
      "(1000, 56)\n",
      "[-1.9132654554962853, 1.9132654554962853] [-2.6719272483801682, 2.6719272483801682] [-4.1022971273228181, 4.1022971273228181]\n",
      "(56,) 2.24348694771 -1.7138207255\n",
      "Size of the concatenated data:  (44, 56) Number time windows :  56\n",
      "Size of label for classif:  44\n",
      "th_perm :  65.9090909091 72.7272727273 79.5454545455\n"
     ]
    },
    {
     "name": "stderr",
     "output_type": "stream",
     "text": [
      "/home/karim/anaconda3/lib/python3.5/site-packages/matplotlib/axes/_axes.py:545: UserWarning: No labelled objects found. Use label='...' kwarg on individual plots.\n",
      "  warnings.warn(\"No labelled objects found. \"\n"
     ]
    },
    {
     "name": "stdout",
     "output_type": "stream",
     "text": [
      "balanced data :  (81, 2560, 18) (81, 2560, 18)\n",
      "CHAF Channel :  a'2-a'1 Label :  PCC-PCL Bad shape :  (2560, 18) Good shape :  (2560, 18)\n",
      "Setting up low-pass filter at 10 Hz\n",
      "h_trans_bandwidth chosen to be 2.5 Hz\n",
      "Filter length of 1352 samples (2.641 sec) selected\n",
      "Setting up low-pass filter at 10 Hz\n",
      "h_trans_bandwidth chosen to be 2.5 Hz\n",
      "Filter length of 1352 samples (2.641 sec) selected\n",
      "Size of filtered data bad : (18, 2560) filtered data good :  (18, 2560)\n",
      "time points :  (2560,)\n",
      "Applying baseline correction (mode: mean)\n",
      "Applying baseline correction (mode: mean)\n",
      "Size norm & filtered data 0 :  (18, 2560) (18, 2560)\n",
      "-> Shape of bad data (18, 563) good data (18, 563)\n",
      "(18, 1000, 56) (18, 1000, 56)\n",
      "(1000, 56)\n",
      "[-1.8369225205296171, 1.8369225205296171] [-2.7575359589613391, 2.7575359589613391] [-4.6128739362454816, 4.6128739362454816]\n",
      "(56,) 2.0805889645 -2.25166086927\n",
      "Size of the concatenated data:  (36, 56) Number time windows :  56\n",
      "Size of label for classif:  36\n",
      "th_perm :  69.4444444444 72.2222222222 83.3333333333\n"
     ]
    },
    {
     "name": "stderr",
     "output_type": "stream",
     "text": [
      "/home/karim/anaconda3/lib/python3.5/site-packages/matplotlib/axes/_axes.py:545: UserWarning: No labelled objects found. Use label='...' kwarg on individual plots.\n",
      "  warnings.warn(\"No labelled objects found. \"\n"
     ]
    },
    {
     "name": "stdout",
     "output_type": "stream",
     "text": [
      "CHAF Channel :  a'3-a'2 Label :  PCL&PCC-PCL Bad shape :  (2560, 18) Good shape :  (2560, 18)\n",
      "Setting up low-pass filter at 10 Hz\n",
      "h_trans_bandwidth chosen to be 2.5 Hz\n",
      "Filter length of 1352 samples (2.641 sec) selected\n",
      "Setting up low-pass filter at 10 Hz\n",
      "h_trans_bandwidth chosen to be 2.5 Hz\n",
      "Filter length of 1352 samples (2.641 sec) selected\n",
      "Size of filtered data bad : (18, 2560) filtered data good :  (18, 2560)\n",
      "time points :  (2560,)\n",
      "Applying baseline correction (mode: mean)\n",
      "Applying baseline correction (mode: mean)\n",
      "Size norm & filtered data 0 :  (18, 2560) (18, 2560)\n",
      "-> Shape of bad data (18, 563) good data (18, 563)\n",
      "(18, 1000, 56) (18, 1000, 56)\n",
      "(1000, 56)\n",
      "[-1.8092846145269366, 1.8092846145269366] [-3.0496112092245022, 3.0496112092245022] [-4.5455920162016321, 4.5455920162016321]\n",
      "(56,) 1.2421393577 -2.81601865479\n",
      "Size of the concatenated data:  (36, 56) Number time windows :  56\n",
      "Size of label for classif:  36\n",
      "th_perm :  66.6666666667 75.0 83.3333333333\n"
     ]
    },
    {
     "name": "stderr",
     "output_type": "stream",
     "text": [
      "/home/karim/anaconda3/lib/python3.5/site-packages/matplotlib/axes/_axes.py:545: UserWarning: No labelled objects found. Use label='...' kwarg on individual plots.\n",
      "  warnings.warn(\"No labelled objects found. \"\n"
     ]
    },
    {
     "name": "stdout",
     "output_type": "stream",
     "text": [
      "CHAF Channel :  a'8-a'7 Label :  PrG-PoG Bad shape :  (2560, 18) Good shape :  (2560, 18)\n",
      "Setting up low-pass filter at 10 Hz\n",
      "h_trans_bandwidth chosen to be 2.5 Hz\n",
      "Filter length of 1352 samples (2.641 sec) selected\n",
      "Setting up low-pass filter at 10 Hz\n",
      "h_trans_bandwidth chosen to be 2.5 Hz\n",
      "Filter length of 1352 samples (2.641 sec) selected\n",
      "Size of filtered data bad : (18, 2560) filtered data good :  (18, 2560)\n",
      "time points :  (2560,)\n",
      "Applying baseline correction (mode: mean)\n",
      "Applying baseline correction (mode: mean)\n",
      "Size norm & filtered data 0 :  (18, 2560) (18, 2560)\n",
      "-> Shape of bad data (18, 563) good data (18, 563)\n",
      "(18, 1000, 56) (18, 1000, 56)\n",
      "(1000, 56)\n",
      "[-1.8216861288196611, 1.8216861288196611] [-2.7415217614115424, 2.7415217614115424] [-5.5942845883465324, 5.5942845883465324]\n",
      "(56,) 2.17992513011 -2.41115585941\n",
      "Size of the concatenated data:  (36, 56) Number time windows :  56\n",
      "Size of label for classif:  36\n",
      "th_perm :  66.6666666667 72.2222222222 88.8888888889\n"
     ]
    },
    {
     "name": "stderr",
     "output_type": "stream",
     "text": [
      "/home/karim/anaconda3/lib/python3.5/site-packages/matplotlib/axes/_axes.py:545: UserWarning: No labelled objects found. Use label='...' kwarg on individual plots.\n",
      "  warnings.warn(\"No labelled objects found. \"\n"
     ]
    },
    {
     "name": "stdout",
     "output_type": "stream",
     "text": [
      "CHAF Channel :  a'9-a'8 Label :  PrG-PoG Bad shape :  (2560, 18) Good shape :  (2560, 18)\n",
      "Setting up low-pass filter at 10 Hz\n",
      "h_trans_bandwidth chosen to be 2.5 Hz\n",
      "Filter length of 1352 samples (2.641 sec) selected\n",
      "Setting up low-pass filter at 10 Hz\n",
      "h_trans_bandwidth chosen to be 2.5 Hz\n",
      "Filter length of 1352 samples (2.641 sec) selected\n",
      "Size of filtered data bad : (18, 2560) filtered data good :  (18, 2560)\n",
      "time points :  (2560,)\n",
      "Applying baseline correction (mode: mean)\n",
      "Applying baseline correction (mode: mean)\n",
      "Size norm & filtered data 0 :  (18, 2560) (18, 2560)\n",
      "-> Shape of bad data (18, 563) good data (18, 563)\n",
      "(18, 1000, 56) (18, 1000, 56)\n",
      "(1000, 56)\n",
      "[-1.7963142035781989, 1.7963142035781989] [-2.7727604844367342, 2.7727604844367342] [-5.2011135304490299, 5.2011135304490299]\n",
      "(56,) 3.62353694507 -1.38320648382\n",
      "Size of the concatenated data:  (36, 56) Number time windows :  56\n",
      "Size of label for classif:  36\n",
      "th_perm :  69.4444444444 75.0 86.1111111111\n"
     ]
    },
    {
     "name": "stderr",
     "output_type": "stream",
     "text": [
      "/home/karim/anaconda3/lib/python3.5/site-packages/matplotlib/axes/_axes.py:545: UserWarning: No labelled objects found. Use label='...' kwarg on individual plots.\n",
      "  warnings.warn(\"No labelled objects found. \"\n"
     ]
    },
    {
     "name": "stdout",
     "output_type": "stream",
     "text": [
      "CHAF Channel :  a'10-a'9 Label :  LCR-PoG&PrG-PoG Bad shape :  (2560, 18) Good shape :  (2560, 18)\n",
      "Setting up low-pass filter at 10 Hz\n",
      "h_trans_bandwidth chosen to be 2.5 Hz\n",
      "Filter length of 1352 samples (2.641 sec) selected\n",
      "Setting up low-pass filter at 10 Hz\n",
      "h_trans_bandwidth chosen to be 2.5 Hz\n",
      "Filter length of 1352 samples (2.641 sec) selected\n",
      "Size of filtered data bad : (18, 2560) filtered data good :  (18, 2560)\n",
      "time points :  (2560,)\n",
      "Applying baseline correction (mode: mean)\n",
      "Applying baseline correction (mode: mean)\n",
      "Size norm & filtered data 0 :  (18, 2560) (18, 2560)\n",
      "-> Shape of bad data (18, 563) good data (18, 563)\n",
      "(18, 1000, 56) (18, 1000, 56)\n",
      "(1000, 56)\n",
      "[-1.9334345815432779, 1.9334345815432779] [-2.828224505445764, 2.828224505445764] [-4.8355255812542381, 4.8355255812542381]\n",
      "(56,) 2.62490224685 -2.07697313116\n",
      "Size of the concatenated data:  (36, 56) Number time windows :  56\n",
      "Size of label for classif:  36\n",
      "th_perm :  69.4444444444 75.0 83.3333333333\n"
     ]
    },
    {
     "name": "stderr",
     "output_type": "stream",
     "text": [
      "/home/karim/anaconda3/lib/python3.5/site-packages/matplotlib/axes/_axes.py:545: UserWarning: No labelled objects found. Use label='...' kwarg on individual plots.\n",
      "  warnings.warn(\"No labelled objects found. \"\n"
     ]
    },
    {
     "name": "stdout",
     "output_type": "stream",
     "text": [
      "CHAF Channel :  a'11-a'10 Label :  LCR-PoG Bad shape :  (2560, 18) Good shape :  (2560, 18)\n",
      "Setting up low-pass filter at 10 Hz\n",
      "h_trans_bandwidth chosen to be 2.5 Hz\n",
      "Filter length of 1352 samples (2.641 sec) selected\n",
      "Setting up low-pass filter at 10 Hz\n",
      "h_trans_bandwidth chosen to be 2.5 Hz\n",
      "Filter length of 1352 samples (2.641 sec) selected\n",
      "Size of filtered data bad : (18, 2560) filtered data good :  (18, 2560)\n",
      "time points :  (2560,)\n",
      "Applying baseline correction (mode: mean)\n",
      "Applying baseline correction (mode: mean)\n",
      "Size norm & filtered data 0 :  (18, 2560) (18, 2560)\n",
      "-> Shape of bad data (18, 563) good data (18, 563)\n",
      "(18, 1000, 56) (18, 1000, 56)\n",
      "(1000, 56)\n",
      "[-1.804668867319227, 1.804668867319227] [-2.6261924876865632, 2.6261924876865632] [-4.4246661901830047, 4.4246661901830047]\n",
      "(56,) 3.16769984148 -2.37695055627\n",
      "Size of the concatenated data:  (36, 56) Number time windows :  56\n",
      "Size of label for classif:  36\n",
      "th_perm :  69.4444444444 72.2222222222 83.3333333333\n"
     ]
    },
    {
     "name": "stderr",
     "output_type": "stream",
     "text": [
      "/home/karim/anaconda3/lib/python3.5/site-packages/matplotlib/axes/_axes.py:545: UserWarning: No labelled objects found. Use label='...' kwarg on individual plots.\n",
      "  warnings.warn(\"No labelled objects found. \"\n"
     ]
    },
    {
     "name": "stdout",
     "output_type": "stream",
     "text": [
      "CHAF Channel :  a'12-a'11 Label :  LCR-skull&LCR-PoG Bad shape :  (2560, 18) Good shape :  (2560, 18)\n",
      "Setting up low-pass filter at 10 Hz\n",
      "h_trans_bandwidth chosen to be 2.5 Hz\n",
      "Filter length of 1352 samples (2.641 sec) selected\n",
      "Setting up low-pass filter at 10 Hz\n",
      "h_trans_bandwidth chosen to be 2.5 Hz\n",
      "Filter length of 1352 samples (2.641 sec) selected\n",
      "Size of filtered data bad : (18, 2560) filtered data good :  (18, 2560)\n",
      "time points :  (2560,)\n",
      "Applying baseline correction (mode: mean)\n",
      "Applying baseline correction (mode: mean)\n",
      "Size norm & filtered data 0 :  (18, 2560) (18, 2560)\n",
      "-> Shape of bad data (18, 563) good data (18, 563)\n",
      "(18, 1000, 56) (18, 1000, 56)\n",
      "(1000, 56)\n",
      "[-1.878599453982281, 1.878599453982281] [-2.6755422074273532, 2.6755422074273532] [-4.8420755792955932, 4.8420755792955932]\n",
      "(56,) 1.8206223351 -2.95213812103\n",
      "Size of the concatenated data:  (36, 56) Number time windows :  56\n",
      "Size of label for classif:  36\n",
      "th_perm :  69.4444444444 75.0 83.3333333333\n"
     ]
    },
    {
     "name": "stderr",
     "output_type": "stream",
     "text": [
      "/home/karim/anaconda3/lib/python3.5/site-packages/matplotlib/axes/_axes.py:545: UserWarning: No labelled objects found. Use label='...' kwarg on individual plots.\n",
      "  warnings.warn(\"No labelled objects found. \"\n"
     ]
    },
    {
     "name": "stdout",
     "output_type": "stream",
     "text": [
      "CHAF Channel :  b'2-b'1 Label :  PCL&MCC-PCL Bad shape :  (2560, 18) Good shape :  (2560, 18)\n",
      "Setting up low-pass filter at 10 Hz\n",
      "h_trans_bandwidth chosen to be 2.5 Hz\n",
      "Filter length of 1352 samples (2.641 sec) selected\n",
      "Setting up low-pass filter at 10 Hz\n",
      "h_trans_bandwidth chosen to be 2.5 Hz\n",
      "Filter length of 1352 samples (2.641 sec) selected\n",
      "Size of filtered data bad : (18, 2560) filtered data good :  (18, 2560)\n",
      "time points :  (2560,)\n",
      "Applying baseline correction (mode: mean)\n",
      "Applying baseline correction (mode: mean)\n",
      "Size norm & filtered data 0 :  (18, 2560) (18, 2560)\n",
      "-> Shape of bad data (18, 563) good data (18, 563)\n",
      "(18, 1000, 56) (18, 1000, 56)\n",
      "(1000, 56)\n",
      "[-1.8501658928892486, 1.8501658928892486] [-2.9761219052687853, 2.9761219052687853] [-5.4934281948196295, 5.4934281948196295]\n",
      "(56,) 1.16485160644 -1.78289177425\n",
      "Size of the concatenated data:  (36, 56) Number time windows :  56\n",
      "Size of label for classif:  36\n",
      "th_perm :  69.4444444444 72.2222222222 83.3333333333\n"
     ]
    },
    {
     "name": "stderr",
     "output_type": "stream",
     "text": [
      "/home/karim/anaconda3/lib/python3.5/site-packages/matplotlib/axes/_axes.py:545: UserWarning: No labelled objects found. Use label='...' kwarg on individual plots.\n",
      "  warnings.warn(\"No labelled objects found. \"\n"
     ]
    },
    {
     "name": "stdout",
     "output_type": "stream",
     "text": [
      "CHAF Channel :  b'6-b'5 Label :  PrG Bad shape :  (2560, 18) Good shape :  (2560, 18)\n",
      "Setting up low-pass filter at 10 Hz\n",
      "h_trans_bandwidth chosen to be 2.5 Hz\n",
      "Filter length of 1352 samples (2.641 sec) selected\n",
      "Setting up low-pass filter at 10 Hz\n",
      "h_trans_bandwidth chosen to be 2.5 Hz\n",
      "Filter length of 1352 samples (2.641 sec) selected\n",
      "Size of filtered data bad : (18, 2560) filtered data good :  (18, 2560)\n",
      "time points :  (2560,)\n",
      "Applying baseline correction (mode: mean)\n",
      "Applying baseline correction (mode: mean)\n",
      "Size norm & filtered data 0 :  (18, 2560) (18, 2560)\n",
      "-> Shape of bad data (18, 563) good data (18, 563)\n",
      "(18, 1000, 56) (18, 1000, 56)\n",
      "(1000, 56)\n",
      "[-1.8331092525551398, 1.8331092525551398] [-2.7294125122489903, 2.7294125122489903] [-5.1560837705975207, 5.1560837705975207]\n",
      "(56,) 1.39758327505 -3.40422748848\n",
      "Size of the concatenated data:  (36, 56) Number time windows :  56\n",
      "Size of label for classif:  36\n",
      "th_perm :  69.4444444444 75.0 86.1111111111\n"
     ]
    },
    {
     "name": "stderr",
     "output_type": "stream",
     "text": [
      "/home/karim/anaconda3/lib/python3.5/site-packages/matplotlib/axes/_axes.py:545: UserWarning: No labelled objects found. Use label='...' kwarg on individual plots.\n",
      "  warnings.warn(\"No labelled objects found. \"\n"
     ]
    },
    {
     "name": "stdout",
     "output_type": "stream",
     "text": [
      "CHAF Channel :  b'7-b'6 Label :  PrG Bad shape :  (2560, 18) Good shape :  (2560, 18)\n",
      "Setting up low-pass filter at 10 Hz\n",
      "h_trans_bandwidth chosen to be 2.5 Hz\n",
      "Filter length of 1352 samples (2.641 sec) selected\n",
      "Setting up low-pass filter at 10 Hz\n",
      "h_trans_bandwidth chosen to be 2.5 Hz\n",
      "Filter length of 1352 samples (2.641 sec) selected\n",
      "Size of filtered data bad : (18, 2560) filtered data good :  (18, 2560)\n",
      "time points :  (2560,)\n",
      "Applying baseline correction (mode: mean)\n",
      "Applying baseline correction (mode: mean)\n",
      "Size norm & filtered data 0 :  (18, 2560) (18, 2560)\n",
      "-> Shape of bad data (18, 563) good data (18, 563)\n",
      "(18, 1000, 56) (18, 1000, 56)\n",
      "(1000, 56)\n",
      "[-1.8124305200895678, 1.8124305200895678] [-2.7519987231123402, 2.7519987231123402] [-4.4940665527176424, 4.4940665527176424]\n",
      "(56,) 1.86388969346 -2.55755006206\n",
      "Size of the concatenated data:  (36, 56) Number time windows :  56\n",
      "Size of label for classif:  36\n",
      "th_perm :  66.6666666667 72.2222222222 86.1111111111\n"
     ]
    },
    {
     "name": "stderr",
     "output_type": "stream",
     "text": [
      "/home/karim/anaconda3/lib/python3.5/site-packages/matplotlib/axes/_axes.py:545: UserWarning: No labelled objects found. Use label='...' kwarg on individual plots.\n",
      "  warnings.warn(\"No labelled objects found. \"\n"
     ]
    },
    {
     "name": "stdout",
     "output_type": "stream",
     "text": [
      "CHAF Channel :  b'8-b'7 Label :  PrG Bad shape :  (2560, 18) Good shape :  (2560, 18)\n",
      "Setting up low-pass filter at 10 Hz\n",
      "h_trans_bandwidth chosen to be 2.5 Hz\n",
      "Filter length of 1352 samples (2.641 sec) selected\n",
      "Setting up low-pass filter at 10 Hz\n",
      "h_trans_bandwidth chosen to be 2.5 Hz\n",
      "Filter length of 1352 samples (2.641 sec) selected\n",
      "Size of filtered data bad : (18, 2560) filtered data good :  (18, 2560)\n",
      "time points :  (2560,)\n",
      "Applying baseline correction (mode: mean)\n",
      "Applying baseline correction (mode: mean)\n",
      "Size norm & filtered data 0 :  (18, 2560) (18, 2560)\n",
      "-> Shape of bad data (18, 563) good data (18, 563)\n",
      "(18, 1000, 56) (18, 1000, 56)\n",
      "(1000, 56)\n",
      "[-1.8047285860633295, 1.8047285860633295] [-2.8631308543404637, 2.8631308543404637] [-4.9511401199982314, 4.9511401199982314]\n",
      "(56,) 2.85511056132 -1.02464156958\n",
      "Size of the concatenated data:  (36, 56) Number time windows :  56\n",
      "Size of label for classif:  36\n",
      "th_perm :  66.6666666667 75.0 86.1111111111\n"
     ]
    },
    {
     "name": "stderr",
     "output_type": "stream",
     "text": [
      "/home/karim/anaconda3/lib/python3.5/site-packages/matplotlib/axes/_axes.py:545: UserWarning: No labelled objects found. Use label='...' kwarg on individual plots.\n",
      "  warnings.warn(\"No labelled objects found. \"\n"
     ]
    },
    {
     "name": "stdout",
     "output_type": "stream",
     "text": [
      "CHAF Channel :  b'9-b'8 Label :  LCR-PrG&PrG Bad shape :  (2560, 18) Good shape :  (2560, 18)\n",
      "Setting up low-pass filter at 10 Hz\n",
      "h_trans_bandwidth chosen to be 2.5 Hz\n",
      "Filter length of 1352 samples (2.641 sec) selected\n",
      "Setting up low-pass filter at 10 Hz\n",
      "h_trans_bandwidth chosen to be 2.5 Hz\n",
      "Filter length of 1352 samples (2.641 sec) selected\n",
      "Size of filtered data bad : (18, 2560) filtered data good :  (18, 2560)\n",
      "time points :  (2560,)\n",
      "Applying baseline correction (mode: mean)\n",
      "Applying baseline correction (mode: mean)\n",
      "Size norm & filtered data 0 :  (18, 2560) (18, 2560)\n",
      "-> Shape of bad data (18, 563) good data (18, 563)\n",
      "(18, 1000, 56) (18, 1000, 56)\n",
      "(1000, 56)\n",
      "[-1.8597002210171785, 1.8597002210171785] [-2.8589397641480647, 2.8589397641480647] [-5.2763969427268851, 5.2763969427268851]\n",
      "(56,) 2.59499223703 -1.83290108073\n",
      "Size of the concatenated data:  (36, 56) Number time windows :  56\n",
      "Size of label for classif:  36\n",
      "th_perm :  66.6666666667 72.2222222222 83.3333333333\n"
     ]
    },
    {
     "name": "stderr",
     "output_type": "stream",
     "text": [
      "/home/karim/anaconda3/lib/python3.5/site-packages/matplotlib/axes/_axes.py:545: UserWarning: No labelled objects found. Use label='...' kwarg on individual plots.\n",
      "  warnings.warn(\"No labelled objects found. \"\n"
     ]
    },
    {
     "name": "stdout",
     "output_type": "stream",
     "text": [
      "CHAF Channel :  b'10-b'9 Label :  LCR-skull&LCR-PrG Bad shape :  (2560, 18) Good shape :  (2560, 18)\n",
      "Setting up low-pass filter at 10 Hz\n",
      "h_trans_bandwidth chosen to be 2.5 Hz\n",
      "Filter length of 1352 samples (2.641 sec) selected\n",
      "Setting up low-pass filter at 10 Hz\n",
      "h_trans_bandwidth chosen to be 2.5 Hz\n",
      "Filter length of 1352 samples (2.641 sec) selected\n",
      "Size of filtered data bad : (18, 2560) filtered data good :  (18, 2560)\n",
      "time points :  (2560,)\n",
      "Applying baseline correction (mode: mean)\n",
      "Applying baseline correction (mode: mean)\n",
      "Size norm & filtered data 0 :  (18, 2560) (18, 2560)\n",
      "-> Shape of bad data (18, 563) good data (18, 563)\n",
      "(18, 1000, 56) (18, 1000, 56)\n",
      "(1000, 56)\n",
      "[-1.907087111297483, 1.907087111297483] [-2.808710575889354, 2.808710575889354] [-5.7246221052307735, 5.7246221052307735]\n",
      "(56,) 1.07123035946 -4.53961220611\n",
      "Size of the concatenated data:  (36, 56) Number time windows :  56\n",
      "Size of label for classif:  36\n",
      "th_perm :  69.4444444444 75.0 83.3333333333\n"
     ]
    },
    {
     "name": "stderr",
     "output_type": "stream",
     "text": [
      "/home/karim/anaconda3/lib/python3.5/site-packages/matplotlib/axes/_axes.py:545: UserWarning: No labelled objects found. Use label='...' kwarg on individual plots.\n",
      "  warnings.warn(\"No labelled objects found. \"\n"
     ]
    },
    {
     "name": "stdout",
     "output_type": "stream",
     "text": [
      "CHAF Channel :  c'2-c'1 Label :  MCC-SFGM Bad shape :  (2560, 18) Good shape :  (2560, 18)\n",
      "Setting up low-pass filter at 10 Hz\n",
      "h_trans_bandwidth chosen to be 2.5 Hz\n",
      "Filter length of 1352 samples (2.641 sec) selected\n",
      "Setting up low-pass filter at 10 Hz\n",
      "h_trans_bandwidth chosen to be 2.5 Hz\n",
      "Filter length of 1352 samples (2.641 sec) selected\n",
      "Size of filtered data bad : (18, 2560) filtered data good :  (18, 2560)\n",
      "time points :  (2560,)\n",
      "Applying baseline correction (mode: mean)\n",
      "Applying baseline correction (mode: mean)\n",
      "Size norm & filtered data 0 :  (18, 2560) (18, 2560)\n",
      "-> Shape of bad data (18, 563) good data (18, 563)\n",
      "(18, 1000, 56) (18, 1000, 56)\n",
      "(1000, 56)\n",
      "[-1.8983000533842975, 1.8983000533842975] [-2.815548628997032, 2.815548628997032] [-5.3261131710097382, 5.3261131710097382]\n",
      "(56,) 1.47740261232 -2.44712653978\n",
      "Size of the concatenated data:  (36, 56) Number time windows :  56\n",
      "Size of label for classif:  36\n",
      "th_perm :  69.4444444444 75.0 83.3333333333\n"
     ]
    },
    {
     "name": "stderr",
     "output_type": "stream",
     "text": [
      "/home/karim/anaconda3/lib/python3.5/site-packages/matplotlib/axes/_axes.py:545: UserWarning: No labelled objects found. Use label='...' kwarg on individual plots.\n",
      "  warnings.warn(\"No labelled objects found. \"\n"
     ]
    },
    {
     "name": "stdout",
     "output_type": "stream",
     "text": [
      "CHAF Channel :  c'3-c'2 Label :  SFGM&MCC-SFGM Bad shape :  (2560, 18) Good shape :  (2560, 18)\n",
      "Setting up low-pass filter at 10 Hz\n",
      "h_trans_bandwidth chosen to be 2.5 Hz\n",
      "Filter length of 1352 samples (2.641 sec) selected\n",
      "Setting up low-pass filter at 10 Hz\n",
      "h_trans_bandwidth chosen to be 2.5 Hz\n",
      "Filter length of 1352 samples (2.641 sec) selected\n",
      "Size of filtered data bad : (18, 2560) filtered data good :  (18, 2560)\n",
      "time points :  (2560,)\n",
      "Applying baseline correction (mode: mean)\n",
      "Applying baseline correction (mode: mean)\n",
      "Size norm & filtered data 0 :  (18, 2560) (18, 2560)\n",
      "-> Shape of bad data (18, 563) good data (18, 563)\n",
      "(18, 1000, 56) (18, 1000, 56)\n",
      "(1000, 56)\n",
      "[-1.8519537656417537, 1.8519537656417537] [-2.8274877797641063, 2.8274877797641063] [-4.6868249375802646, 4.6868249375802646]\n",
      "(56,) 2.66939764058 -0.804582594177\n",
      "Size of the concatenated data:  (36, 56) Number time windows :  56\n",
      "Size of label for classif:  36\n",
      "th_perm :  69.4444444444 72.2222222222 80.5555555556\n"
     ]
    },
    {
     "name": "stderr",
     "output_type": "stream",
     "text": [
      "/home/karim/anaconda3/lib/python3.5/site-packages/matplotlib/axes/_axes.py:545: UserWarning: No labelled objects found. Use label='...' kwarg on individual plots.\n",
      "  warnings.warn(\"No labelled objects found. \"\n"
     ]
    },
    {
     "name": "stdout",
     "output_type": "stream",
     "text": [
      "CHAF Channel :  c'4-c'3 Label :  SFGM-SFGL&SFGM Bad shape :  (2560, 18) Good shape :  (2560, 18)\n",
      "Setting up low-pass filter at 10 Hz\n",
      "h_trans_bandwidth chosen to be 2.5 Hz\n",
      "Filter length of 1352 samples (2.641 sec) selected\n",
      "Setting up low-pass filter at 10 Hz\n",
      "h_trans_bandwidth chosen to be 2.5 Hz\n",
      "Filter length of 1352 samples (2.641 sec) selected\n",
      "Size of filtered data bad : (18, 2560) filtered data good :  (18, 2560)\n",
      "time points :  (2560,)\n",
      "Applying baseline correction (mode: mean)\n",
      "Applying baseline correction (mode: mean)\n",
      "Size norm & filtered data 0 :  (18, 2560) (18, 2560)\n",
      "-> Shape of bad data (18, 563) good data (18, 563)\n",
      "(18, 1000, 56) (18, 1000, 56)\n",
      "(1000, 56)\n",
      "[-1.865934139805546, 1.865934139805546] [-2.7762074564425592, 2.7762074564425592] [-5.6824173225593064, 5.6824173225593064]\n",
      "(56,) 2.37179263138 -1.30690972317\n",
      "Size of the concatenated data:  (36, 56) Number time windows :  56\n",
      "Size of label for classif:  36\n",
      "th_perm :  66.6666666667 75.0 86.1111111111\n"
     ]
    },
    {
     "name": "stderr",
     "output_type": "stream",
     "text": [
      "/home/karim/anaconda3/lib/python3.5/site-packages/matplotlib/axes/_axes.py:545: UserWarning: No labelled objects found. Use label='...' kwarg on individual plots.\n",
      "  warnings.warn(\"No labelled objects found. \"\n"
     ]
    },
    {
     "name": "stdout",
     "output_type": "stream",
     "text": [
      "CHAF Channel :  c'5-c'4 Label :  SFGL&SFGM-SFGL Bad shape :  (2560, 18) Good shape :  (2560, 18)\n",
      "Setting up low-pass filter at 10 Hz\n",
      "h_trans_bandwidth chosen to be 2.5 Hz\n",
      "Filter length of 1352 samples (2.641 sec) selected\n",
      "Setting up low-pass filter at 10 Hz\n",
      "h_trans_bandwidth chosen to be 2.5 Hz\n",
      "Filter length of 1352 samples (2.641 sec) selected\n",
      "Size of filtered data bad : (18, 2560) filtered data good :  (18, 2560)\n",
      "time points :  (2560,)\n",
      "Applying baseline correction (mode: mean)\n",
      "Applying baseline correction (mode: mean)\n",
      "Size norm & filtered data 0 :  (18, 2560) (18, 2560)\n",
      "-> Shape of bad data (18, 563) good data (18, 563)\n",
      "(18, 1000, 56) (18, 1000, 56)\n",
      "(1000, 56)\n",
      "[-1.7855361971196897, 1.7855361971196897] [-2.7135241707905018, 2.7135241707905018] [-4.3549335990577287, 4.3549335990577287]\n",
      "(56,) 0.191340269639 -2.49802878128\n",
      "Size of the concatenated data:  (36, 56) Number time windows :  56\n",
      "Size of label for classif:  36\n",
      "th_perm :  66.6666666667 72.2222222222 83.3333333333\n"
     ]
    },
    {
     "name": "stderr",
     "output_type": "stream",
     "text": [
      "/home/karim/anaconda3/lib/python3.5/site-packages/matplotlib/axes/_axes.py:545: UserWarning: No labelled objects found. Use label='...' kwarg on individual plots.\n",
      "  warnings.warn(\"No labelled objects found. \"\n"
     ]
    },
    {
     "name": "stdout",
     "output_type": "stream",
     "text": [
      "CHAF Channel :  c'8-c'7 Label :  SFGL-LCR&SFGL Bad shape :  (2560, 18) Good shape :  (2560, 18)\n",
      "Setting up low-pass filter at 10 Hz\n",
      "h_trans_bandwidth chosen to be 2.5 Hz\n",
      "Filter length of 1352 samples (2.641 sec) selected\n",
      "Setting up low-pass filter at 10 Hz\n",
      "h_trans_bandwidth chosen to be 2.5 Hz\n",
      "Filter length of 1352 samples (2.641 sec) selected\n",
      "Size of filtered data bad : (18, 2560) filtered data good :  (18, 2560)\n",
      "time points :  (2560,)\n",
      "Applying baseline correction (mode: mean)\n",
      "Applying baseline correction (mode: mean)\n",
      "Size norm & filtered data 0 :  (18, 2560) (18, 2560)\n",
      "-> Shape of bad data (18, 563) good data (18, 563)\n",
      "(18, 1000, 56) (18, 1000, 56)\n",
      "(1000, 56)\n",
      "[-1.8037927819492852, 1.8037927819492852] [-2.7455174303505294, 2.7455174303505294] [-4.6093645055352885, 4.6093645055352885]\n",
      "(56,) 2.38932705396 -1.06904550764\n",
      "Size of the concatenated data:  (36, 56) Number time windows :  56\n",
      "Size of label for classif:  36\n",
      "th_perm :  69.4444444444 75.0 83.3333333333\n"
     ]
    },
    {
     "name": "stderr",
     "output_type": "stream",
     "text": [
      "/home/karim/anaconda3/lib/python3.5/site-packages/matplotlib/axes/_axes.py:545: UserWarning: No labelled objects found. Use label='...' kwarg on individual plots.\n",
      "  warnings.warn(\"No labelled objects found. \"\n"
     ]
    },
    {
     "name": "stdout",
     "output_type": "stream",
     "text": [
      "CHAF Channel :  c'9-c'8 Label :  LCR&SFGL-LCR Bad shape :  (2560, 18) Good shape :  (2560, 18)\n",
      "Setting up low-pass filter at 10 Hz\n",
      "h_trans_bandwidth chosen to be 2.5 Hz\n",
      "Filter length of 1352 samples (2.641 sec) selected\n",
      "Setting up low-pass filter at 10 Hz\n",
      "h_trans_bandwidth chosen to be 2.5 Hz\n",
      "Filter length of 1352 samples (2.641 sec) selected\n",
      "Size of filtered data bad : (18, 2560) filtered data good :  (18, 2560)\n",
      "time points :  (2560,)\n",
      "Applying baseline correction (mode: mean)\n",
      "Applying baseline correction (mode: mean)\n",
      "Size norm & filtered data 0 :  (18, 2560) (18, 2560)\n",
      "-> Shape of bad data (18, 563) good data (18, 563)\n",
      "(18, 1000, 56) (18, 1000, 56)\n",
      "(1000, 56)\n",
      "[-1.8359498098536244, 1.8359498098536244] [-2.8796300782018016, 2.8796300782018016] [-4.9180550274548391, 4.9180550274548391]\n",
      "(56,) 1.45217588661 -1.77041123961\n",
      "Size of the concatenated data:  (36, 56) Number time windows :  56\n",
      "Size of label for classif:  36\n",
      "th_perm :  66.6666666667 75.0 83.3333333333\n"
     ]
    },
    {
     "name": "stderr",
     "output_type": "stream",
     "text": [
      "/home/karim/anaconda3/lib/python3.5/site-packages/matplotlib/axes/_axes.py:545: UserWarning: No labelled objects found. Use label='...' kwarg on individual plots.\n",
      "  warnings.warn(\"No labelled objects found. \"\n"
     ]
    },
    {
     "name": "stdout",
     "output_type": "stream",
     "text": [
      "CHAF Channel :  c'10-c'9 Label :  LCR Bad shape :  (2560, 18) Good shape :  (2560, 18)\n",
      "Setting up low-pass filter at 10 Hz\n",
      "h_trans_bandwidth chosen to be 2.5 Hz\n",
      "Filter length of 1352 samples (2.641 sec) selected\n",
      "Setting up low-pass filter at 10 Hz\n",
      "h_trans_bandwidth chosen to be 2.5 Hz\n",
      "Filter length of 1352 samples (2.641 sec) selected\n",
      "Size of filtered data bad : (18, 2560) filtered data good :  (18, 2560)\n",
      "time points :  (2560,)\n",
      "Applying baseline correction (mode: mean)\n",
      "Applying baseline correction (mode: mean)\n",
      "Size norm & filtered data 0 :  (18, 2560) (18, 2560)\n",
      "-> Shape of bad data (18, 563) good data (18, 563)\n",
      "(18, 1000, 56) (18, 1000, 56)\n",
      "(1000, 56)\n",
      "[-1.8447177907224739, 1.8447177907224739] [-2.7068432389488368, 2.7068432389488368] [-4.8042183866954886, 4.8042183866954886]\n",
      "(56,) 1.02349247902 -1.96372412459\n",
      "Size of the concatenated data:  (36, 56) Number time windows :  56\n",
      "Size of label for classif:  36\n",
      "th_perm :  69.4444444444 72.2222222222 86.1111111111\n"
     ]
    },
    {
     "name": "stderr",
     "output_type": "stream",
     "text": [
      "/home/karim/anaconda3/lib/python3.5/site-packages/matplotlib/axes/_axes.py:545: UserWarning: No labelled objects found. Use label='...' kwarg on individual plots.\n",
      "  warnings.warn(\"No labelled objects found. \"\n"
     ]
    },
    {
     "name": "stdout",
     "output_type": "stream",
     "text": [
      "CHAF Channel :  d'2-d'1 Label :  dACC-SFGM Bad shape :  (2560, 18) Good shape :  (2560, 18)\n",
      "Setting up low-pass filter at 10 Hz\n",
      "h_trans_bandwidth chosen to be 2.5 Hz\n",
      "Filter length of 1352 samples (2.641 sec) selected\n",
      "Setting up low-pass filter at 10 Hz\n",
      "h_trans_bandwidth chosen to be 2.5 Hz\n",
      "Filter length of 1352 samples (2.641 sec) selected\n",
      "Size of filtered data bad : (18, 2560) filtered data good :  (18, 2560)\n",
      "time points :  (2560,)\n",
      "Applying baseline correction (mode: mean)\n",
      "Applying baseline correction (mode: mean)\n",
      "Size norm & filtered data 0 :  (18, 2560) (18, 2560)\n",
      "-> Shape of bad data (18, 563) good data (18, 563)\n",
      "(18, 1000, 56) (18, 1000, 56)\n",
      "(1000, 56)\n",
      "[-1.8060273722935964, 1.8060273722935964] [-2.8238348542227625, 2.8238348542227625] [-4.8857319890284057, 4.8857319890284057]\n",
      "(56,) 1.23395329771 -2.42772047526\n",
      "Size of the concatenated data:  (36, 56) Number time windows :  56\n",
      "Size of label for classif:  36\n",
      "th_perm :  69.4444444444 75.0 86.1111111111\n"
     ]
    },
    {
     "name": "stderr",
     "output_type": "stream",
     "text": [
      "/home/karim/anaconda3/lib/python3.5/site-packages/matplotlib/axes/_axes.py:545: UserWarning: No labelled objects found. Use label='...' kwarg on individual plots.\n",
      "  warnings.warn(\"No labelled objects found. \"\n"
     ]
    },
    {
     "name": "stdout",
     "output_type": "stream",
     "text": [
      "CHAF Channel :  d'3-d'2 Label :  SFGM-SFGL&dACC-SFGM Bad shape :  (2560, 18) Good shape :  (2560, 18)\n",
      "Setting up low-pass filter at 10 Hz\n",
      "h_trans_bandwidth chosen to be 2.5 Hz\n",
      "Filter length of 1352 samples (2.641 sec) selected\n",
      "Setting up low-pass filter at 10 Hz\n",
      "h_trans_bandwidth chosen to be 2.5 Hz\n",
      "Filter length of 1352 samples (2.641 sec) selected\n",
      "Size of filtered data bad : (18, 2560) filtered data good :  (18, 2560)\n",
      "time points :  (2560,)\n",
      "Applying baseline correction (mode: mean)\n",
      "Applying baseline correction (mode: mean)\n",
      "Size norm & filtered data 0 :  (18, 2560) (18, 2560)\n",
      "-> Shape of bad data (18, 563) good data (18, 563)\n",
      "(18, 1000, 56) (18, 1000, 56)\n",
      "(1000, 56)\n",
      "[-1.8095509542826755, 1.8095509542826755] [-2.7510659913686424, 2.7510659913686424] [-4.8971664156677637, 4.8971664156677637]\n",
      "(56,) 2.25289829395 -1.5168857483\n",
      "Size of the concatenated data:  (36, 56) Number time windows :  56\n",
      "Size of label for classif:  36\n",
      "th_perm :  66.6666666667 75.0 86.1111111111\n"
     ]
    },
    {
     "name": "stderr",
     "output_type": "stream",
     "text": [
      "/home/karim/anaconda3/lib/python3.5/site-packages/matplotlib/axes/_axes.py:545: UserWarning: No labelled objects found. Use label='...' kwarg on individual plots.\n",
      "  warnings.warn(\"No labelled objects found. \"\n"
     ]
    },
    {
     "name": "stdout",
     "output_type": "stream",
     "text": [
      "CHAF Channel :  d'4-d'3 Label :  SFGM-SFGL Bad shape :  (2560, 18) Good shape :  (2560, 18)\n",
      "Setting up low-pass filter at 10 Hz\n",
      "h_trans_bandwidth chosen to be 2.5 Hz\n",
      "Filter length of 1352 samples (2.641 sec) selected\n",
      "Setting up low-pass filter at 10 Hz\n",
      "h_trans_bandwidth chosen to be 2.5 Hz\n",
      "Filter length of 1352 samples (2.641 sec) selected\n",
      "Size of filtered data bad : (18, 2560) filtered data good :  (18, 2560)\n",
      "time points :  (2560,)\n",
      "Applying baseline correction (mode: mean)\n",
      "Applying baseline correction (mode: mean)\n",
      "Size norm & filtered data 0 :  (18, 2560) (18, 2560)\n",
      "-> Shape of bad data (18, 563) good data (18, 563)\n",
      "(18, 1000, 56) (18, 1000, 56)\n",
      "(1000, 56)\n",
      "[-1.8497187230110745, 1.8497187230110745] [-2.7290081887900683, 2.7290081887900683] [-4.8490935088273277, 4.8490935088273277]\n",
      "(56,) 1.80811225552 -1.90489005215\n",
      "Size of the concatenated data:  (36, 56) Number time windows :  56\n",
      "Size of label for classif:  36\n",
      "th_perm :  66.6666666667 72.2222222222 83.3333333333\n"
     ]
    },
    {
     "name": "stderr",
     "output_type": "stream",
     "text": [
      "/home/karim/anaconda3/lib/python3.5/site-packages/matplotlib/axes/_axes.py:545: UserWarning: No labelled objects found. Use label='...' kwarg on individual plots.\n",
      "  warnings.warn(\"No labelled objects found. \"\n"
     ]
    },
    {
     "name": "stdout",
     "output_type": "stream",
     "text": [
      "CHAF Channel :  d'5-d'4 Label :  SFGM-SFGL Bad shape :  (2560, 18) Good shape :  (2560, 18)\n",
      "Setting up low-pass filter at 10 Hz\n",
      "h_trans_bandwidth chosen to be 2.5 Hz\n",
      "Filter length of 1352 samples (2.641 sec) selected\n",
      "Setting up low-pass filter at 10 Hz\n",
      "h_trans_bandwidth chosen to be 2.5 Hz\n",
      "Filter length of 1352 samples (2.641 sec) selected\n",
      "Size of filtered data bad : (18, 2560) filtered data good :  (18, 2560)\n",
      "time points :  (2560,)\n",
      "Applying baseline correction (mode: mean)\n",
      "Applying baseline correction (mode: mean)\n",
      "Size norm & filtered data 0 :  (18, 2560) (18, 2560)\n",
      "-> Shape of bad data (18, 563) good data (18, 563)\n",
      "(18, 1000, 56) (18, 1000, 56)\n",
      "(1000, 56)\n",
      "[-1.8097750445601817, 1.8097750445601817] [-2.763436733128787, 2.763436733128787] [-5.0010503998904623, 5.0010503998904623]\n",
      "(56,) 1.42874635227 -2.58278395413\n",
      "Size of the concatenated data:  (36, 56) Number time windows :  56\n",
      "Size of label for classif:  36\n",
      "th_perm :  66.6666666667 75.0 86.1111111111\n"
     ]
    },
    {
     "name": "stderr",
     "output_type": "stream",
     "text": [
      "/home/karim/anaconda3/lib/python3.5/site-packages/matplotlib/axes/_axes.py:545: UserWarning: No labelled objects found. Use label='...' kwarg on individual plots.\n",
      "  warnings.warn(\"No labelled objects found. \"\n"
     ]
    },
    {
     "name": "stdout",
     "output_type": "stream",
     "text": [
      "CHAF Channel :  d'6-d'5 Label :  SFGL-SFGM&SFGM-SFGL Bad shape :  (2560, 18) Good shape :  (2560, 18)\n",
      "Setting up low-pass filter at 10 Hz\n",
      "h_trans_bandwidth chosen to be 2.5 Hz\n",
      "Filter length of 1352 samples (2.641 sec) selected\n",
      "Setting up low-pass filter at 10 Hz\n",
      "h_trans_bandwidth chosen to be 2.5 Hz\n",
      "Filter length of 1352 samples (2.641 sec) selected\n",
      "Size of filtered data bad : (18, 2560) filtered data good :  (18, 2560)\n",
      "time points :  (2560,)\n",
      "Applying baseline correction (mode: mean)\n",
      "Applying baseline correction (mode: mean)\n",
      "Size norm & filtered data 0 :  (18, 2560) (18, 2560)\n",
      "-> Shape of bad data (18, 563) good data (18, 563)\n",
      "(18, 1000, 56) (18, 1000, 56)\n",
      "(1000, 56)\n",
      "[-1.827037860316457, 1.827037860316457] [-2.7778256107500989, 2.7778256107500989] [-4.687728130170667, 4.687728130170667]\n",
      "(56,) 1.70450828061 -1.65211847428\n",
      "Size of the concatenated data:  (36, 56) Number time windows :  56\n",
      "Size of label for classif:  36\n",
      "th_perm :  66.6666666667 72.2222222222 83.3333333333\n"
     ]
    },
    {
     "name": "stderr",
     "output_type": "stream",
     "text": [
      "/home/karim/anaconda3/lib/python3.5/site-packages/matplotlib/axes/_axes.py:545: UserWarning: No labelled objects found. Use label='...' kwarg on individual plots.\n",
      "  warnings.warn(\"No labelled objects found. \"\n"
     ]
    },
    {
     "name": "stdout",
     "output_type": "stream",
     "text": [
      "CHAF Channel :  d'7-d'6 Label :  SFGL-SFGM Bad shape :  (2560, 18) Good shape :  (2560, 18)\n",
      "Setting up low-pass filter at 10 Hz\n",
      "h_trans_bandwidth chosen to be 2.5 Hz\n",
      "Filter length of 1352 samples (2.641 sec) selected\n",
      "Setting up low-pass filter at 10 Hz\n",
      "h_trans_bandwidth chosen to be 2.5 Hz\n",
      "Filter length of 1352 samples (2.641 sec) selected\n",
      "Size of filtered data bad : (18, 2560) filtered data good :  (18, 2560)\n",
      "time points :  (2560,)\n",
      "Applying baseline correction (mode: mean)\n",
      "Applying baseline correction (mode: mean)\n",
      "Size norm & filtered data 0 :  (18, 2560) (18, 2560)\n",
      "-> Shape of bad data (18, 563) good data (18, 563)\n",
      "(18, 1000, 56) (18, 1000, 56)\n",
      "(1000, 56)\n",
      "[-1.7843439322227514, 1.7843439322227514] [-2.8207352076258876, 2.8207352076258876] [-5.3718224858883818, 5.3718224858883818]\n",
      "(56,) 2.40106478223 -0.787394576181\n",
      "Size of the concatenated data:  (36, 56) Number time windows :  56\n",
      "Size of label for classif:  36\n",
      "th_perm :  69.4444444444 72.2222222222 86.1111111111\n"
     ]
    },
    {
     "name": "stderr",
     "output_type": "stream",
     "text": [
      "/home/karim/anaconda3/lib/python3.5/site-packages/matplotlib/axes/_axes.py:545: UserWarning: No labelled objects found. Use label='...' kwarg on individual plots.\n",
      "  warnings.warn(\"No labelled objects found. \"\n"
     ]
    },
    {
     "name": "stdout",
     "output_type": "stream",
     "text": [
      "CHAF Channel :  d'8-d'7 Label :  SFGM&SFGL-SFGM Bad shape :  (2560, 18) Good shape :  (2560, 18)\n",
      "Setting up low-pass filter at 10 Hz\n",
      "h_trans_bandwidth chosen to be 2.5 Hz\n",
      "Filter length of 1352 samples (2.641 sec) selected\n",
      "Setting up low-pass filter at 10 Hz\n",
      "h_trans_bandwidth chosen to be 2.5 Hz\n",
      "Filter length of 1352 samples (2.641 sec) selected\n",
      "Size of filtered data bad : (18, 2560) filtered data good :  (18, 2560)\n",
      "time points :  (2560,)\n",
      "Applying baseline correction (mode: mean)\n",
      "Applying baseline correction (mode: mean)\n",
      "Size norm & filtered data 0 :  (18, 2560) (18, 2560)\n",
      "-> Shape of bad data (18, 563) good data (18, 563)\n",
      "(18, 1000, 56) (18, 1000, 56)\n",
      "(1000, 56)\n",
      "[-1.8897210602652792, 1.8897210602652792] [-2.7218001105476972, 2.7218001105476972] [-4.2347274384168587, 4.2347274384168587]\n",
      "(56,) 1.9631026472 -2.47398036598\n",
      "Size of the concatenated data:  (36, 56) Number time windows :  56\n",
      "Size of label for classif:  36\n",
      "th_perm :  66.6666666667 72.2222222222 83.3333333333\n"
     ]
    },
    {
     "name": "stderr",
     "output_type": "stream",
     "text": [
      "/home/karim/anaconda3/lib/python3.5/site-packages/matplotlib/axes/_axes.py:545: UserWarning: No labelled objects found. Use label='...' kwarg on individual plots.\n",
      "  warnings.warn(\"No labelled objects found. \"\n"
     ]
    },
    {
     "name": "stdout",
     "output_type": "stream",
     "text": [
      "CHAF Channel :  d'9-d'8 Label :  SFGM Bad shape :  (2560, 18) Good shape :  (2560, 18)\n",
      "Setting up low-pass filter at 10 Hz\n",
      "h_trans_bandwidth chosen to be 2.5 Hz\n",
      "Filter length of 1352 samples (2.641 sec) selected\n",
      "Setting up low-pass filter at 10 Hz\n",
      "h_trans_bandwidth chosen to be 2.5 Hz\n",
      "Filter length of 1352 samples (2.641 sec) selected\n",
      "Size of filtered data bad : (18, 2560) filtered data good :  (18, 2560)\n",
      "time points :  (2560,)\n",
      "Applying baseline correction (mode: mean)\n",
      "Applying baseline correction (mode: mean)\n",
      "Size norm & filtered data 0 :  (18, 2560) (18, 2560)\n",
      "-> Shape of bad data (18, 563) good data (18, 563)\n",
      "(18, 1000, 56) (18, 1000, 56)\n",
      "(1000, 56)\n",
      "[-1.7858629514863691, 1.7858629514863691] [-2.6155485989086369, 2.6155485989086369] [-4.2332211266661792, 4.2332211266661792]\n",
      "(56,) 0.323336179423 -2.35446732588\n",
      "Size of the concatenated data:  (36, 56) Number time windows :  56\n",
      "Size of label for classif:  36\n",
      "th_perm :  66.6666666667 75.0 83.3333333333\n"
     ]
    },
    {
     "name": "stderr",
     "output_type": "stream",
     "text": [
      "/home/karim/anaconda3/lib/python3.5/site-packages/matplotlib/axes/_axes.py:545: UserWarning: No labelled objects found. Use label='...' kwarg on individual plots.\n",
      "  warnings.warn(\"No labelled objects found. \"\n"
     ]
    },
    {
     "name": "stdout",
     "output_type": "stream",
     "text": [
      "CHAF Channel :  d'10-d'9 Label :  LCR-SFGM&SFGM Bad shape :  (2560, 18) Good shape :  (2560, 18)\n",
      "Setting up low-pass filter at 10 Hz\n",
      "h_trans_bandwidth chosen to be 2.5 Hz\n",
      "Filter length of 1352 samples (2.641 sec) selected\n",
      "Setting up low-pass filter at 10 Hz\n",
      "h_trans_bandwidth chosen to be 2.5 Hz\n",
      "Filter length of 1352 samples (2.641 sec) selected\n",
      "Size of filtered data bad : (18, 2560) filtered data good :  (18, 2560)\n",
      "time points :  (2560,)\n",
      "Applying baseline correction (mode: mean)\n",
      "Applying baseline correction (mode: mean)\n",
      "Size norm & filtered data 0 :  (18, 2560) (18, 2560)\n",
      "-> Shape of bad data (18, 563) good data (18, 563)\n",
      "(18, 1000, 56) (18, 1000, 56)\n",
      "(1000, 56)\n",
      "[-1.8087884745859746, 1.8087884745859746] [-2.7197052331073754, 2.7197052331073754] [-4.6862186930567971, 4.6862186930567971]\n",
      "(56,) 1.8085334884 -1.34256767779\n",
      "Size of the concatenated data:  (36, 56) Number time windows :  56\n",
      "Size of label for classif:  36\n",
      "th_perm :  66.6666666667 72.2222222222 83.3333333333\n"
     ]
    },
    {
     "name": "stderr",
     "output_type": "stream",
     "text": [
      "/home/karim/anaconda3/lib/python3.5/site-packages/matplotlib/axes/_axes.py:545: UserWarning: No labelled objects found. Use label='...' kwarg on individual plots.\n",
      "  warnings.warn(\"No labelled objects found. \"\n"
     ]
    },
    {
     "name": "stdout",
     "output_type": "stream",
     "text": [
      "CHAF Channel :  e'2-e'1 Label :  dACC Bad shape :  (2560, 18) Good shape :  (2560, 18)\n",
      "Setting up low-pass filter at 10 Hz\n",
      "h_trans_bandwidth chosen to be 2.5 Hz\n",
      "Filter length of 1352 samples (2.641 sec) selected\n",
      "Setting up low-pass filter at 10 Hz\n",
      "h_trans_bandwidth chosen to be 2.5 Hz\n",
      "Filter length of 1352 samples (2.641 sec) selected\n",
      "Size of filtered data bad : (18, 2560) filtered data good :  (18, 2560)\n",
      "time points :  (2560,)\n",
      "Applying baseline correction (mode: mean)\n",
      "Applying baseline correction (mode: mean)\n",
      "Size norm & filtered data 0 :  (18, 2560) (18, 2560)\n",
      "-> Shape of bad data (18, 563) good data (18, 563)\n",
      "(18, 1000, 56) (18, 1000, 56)\n",
      "(1000, 56)\n",
      "[-1.8431968785325368, 1.8431968785325368] [-2.7767564330037433, 2.7767564330037433] [-4.1642096651270384, 4.1642096651270384]\n",
      "(56,) 0.979652328979 -2.499561143\n",
      "Size of the concatenated data:  (36, 56) Number time windows :  56\n",
      "Size of label for classif:  36\n",
      "th_perm :  66.6666666667 75.0 83.3333333333\n"
     ]
    },
    {
     "name": "stderr",
     "output_type": "stream",
     "text": [
      "/home/karim/anaconda3/lib/python3.5/site-packages/matplotlib/axes/_axes.py:545: UserWarning: No labelled objects found. Use label='...' kwarg on individual plots.\n",
      "  warnings.warn(\"No labelled objects found. \"\n"
     ]
    },
    {
     "name": "stdout",
     "output_type": "stream",
     "text": [
      "CHAF Channel :  e'3-e'2 Label :  dACC-SFGM&dACC Bad shape :  (2560, 18) Good shape :  (2560, 18)\n",
      "Setting up low-pass filter at 10 Hz\n",
      "h_trans_bandwidth chosen to be 2.5 Hz\n",
      "Filter length of 1352 samples (2.641 sec) selected\n",
      "Setting up low-pass filter at 10 Hz\n",
      "h_trans_bandwidth chosen to be 2.5 Hz\n",
      "Filter length of 1352 samples (2.641 sec) selected\n",
      "Size of filtered data bad : (18, 2560) filtered data good :  (18, 2560)\n",
      "time points :  (2560,)\n",
      "Applying baseline correction (mode: mean)\n",
      "Applying baseline correction (mode: mean)\n",
      "Size norm & filtered data 0 :  (18, 2560) (18, 2560)\n",
      "-> Shape of bad data (18, 563) good data (18, 563)\n",
      "(18, 1000, 56) (18, 1000, 56)\n",
      "(1000, 56)\n",
      "[-1.839193923701123, 1.839193923701123] [-2.6650472212108642, 2.6650472212108642] [-4.317241735508631, 4.317241735508631]\n",
      "(56,) 1.88761322216 -1.88172497086\n",
      "Size of the concatenated data:  (36, 56) Number time windows :  56\n",
      "Size of label for classif:  36\n",
      "th_perm :  69.4444444444 72.2222222222 83.3333333333\n"
     ]
    },
    {
     "name": "stderr",
     "output_type": "stream",
     "text": [
      "/home/karim/anaconda3/lib/python3.5/site-packages/matplotlib/axes/_axes.py:545: UserWarning: No labelled objects found. Use label='...' kwarg on individual plots.\n",
      "  warnings.warn(\"No labelled objects found. \"\n"
     ]
    },
    {
     "name": "stdout",
     "output_type": "stream",
     "text": [
      "CHAF Channel :  e'4-e'3 Label :  SFGM&dACC-SFGM Bad shape :  (2560, 18) Good shape :  (2560, 18)\n",
      "Setting up low-pass filter at 10 Hz\n",
      "h_trans_bandwidth chosen to be 2.5 Hz\n",
      "Filter length of 1352 samples (2.641 sec) selected\n",
      "Setting up low-pass filter at 10 Hz\n",
      "h_trans_bandwidth chosen to be 2.5 Hz\n",
      "Filter length of 1352 samples (2.641 sec) selected\n",
      "Size of filtered data bad : (18, 2560) filtered data good :  (18, 2560)\n",
      "time points :  (2560,)\n",
      "Applying baseline correction (mode: mean)\n",
      "Applying baseline correction (mode: mean)\n",
      "Size norm & filtered data 0 :  (18, 2560) (18, 2560)\n",
      "-> Shape of bad data (18, 563) good data (18, 563)\n",
      "(18, 1000, 56) (18, 1000, 56)\n",
      "(1000, 56)\n",
      "[-1.8685120717928092, 1.8685120717928092] [-2.6631036475198973, 2.6631036475198973] [-4.722569761179801, 4.722569761179801]\n",
      "(56,) 1.75421134847 -1.68295445111\n",
      "Size of the concatenated data:  (36, 56) Number time windows :  56\n",
      "Size of label for classif:  36\n",
      "th_perm :  66.6666666667 72.2222222222 86.1111111111\n"
     ]
    },
    {
     "name": "stderr",
     "output_type": "stream",
     "text": [
      "/home/karim/anaconda3/lib/python3.5/site-packages/matplotlib/axes/_axes.py:545: UserWarning: No labelled objects found. Use label='...' kwarg on individual plots.\n",
      "  warnings.warn(\"No labelled objects found. \"\n"
     ]
    },
    {
     "name": "stdout",
     "output_type": "stream",
     "text": [
      "CHAF Channel :  e'5-e'4 Label :  SFGM-SFGL&SFGM Bad shape :  (2560, 18) Good shape :  (2560, 18)\n",
      "Setting up low-pass filter at 10 Hz\n",
      "h_trans_bandwidth chosen to be 2.5 Hz\n",
      "Filter length of 1352 samples (2.641 sec) selected\n",
      "Setting up low-pass filter at 10 Hz\n",
      "h_trans_bandwidth chosen to be 2.5 Hz\n",
      "Filter length of 1352 samples (2.641 sec) selected\n",
      "Size of filtered data bad : (18, 2560) filtered data good :  (18, 2560)\n",
      "time points :  (2560,)\n",
      "Applying baseline correction (mode: mean)\n",
      "Applying baseline correction (mode: mean)\n",
      "Size norm & filtered data 0 :  (18, 2560) (18, 2560)\n",
      "-> Shape of bad data (18, 563) good data (18, 563)\n",
      "(18, 1000, 56) (18, 1000, 56)\n",
      "(1000, 56)\n",
      "[-1.8173429706982853, 1.8173429706982853] [-2.6907567626624203, 2.6907567626624203] [-4.5050345347914247, 4.5050345347914247]\n",
      "(56,) 2.41947633718 -1.55624092901\n",
      "Size of the concatenated data:  (36, 56) Number time windows :  56\n",
      "Size of label for classif:  36\n",
      "th_perm :  66.6666666667 75.0 83.3333333333\n"
     ]
    },
    {
     "name": "stderr",
     "output_type": "stream",
     "text": [
      "/home/karim/anaconda3/lib/python3.5/site-packages/matplotlib/axes/_axes.py:545: UserWarning: No labelled objects found. Use label='...' kwarg on individual plots.\n",
      "  warnings.warn(\"No labelled objects found. \"\n"
     ]
    },
    {
     "name": "stdout",
     "output_type": "stream",
     "text": [
      "CHAF Channel :  e'6-e'5 Label :  SFGM-SFGL Bad shape :  (2560, 18) Good shape :  (2560, 18)\n",
      "Setting up low-pass filter at 10 Hz\n",
      "h_trans_bandwidth chosen to be 2.5 Hz\n",
      "Filter length of 1352 samples (2.641 sec) selected\n",
      "Setting up low-pass filter at 10 Hz\n",
      "h_trans_bandwidth chosen to be 2.5 Hz\n",
      "Filter length of 1352 samples (2.641 sec) selected\n",
      "Size of filtered data bad : (18, 2560) filtered data good :  (18, 2560)\n",
      "time points :  (2560,)\n",
      "Applying baseline correction (mode: mean)\n",
      "Applying baseline correction (mode: mean)\n",
      "Size norm & filtered data 0 :  (18, 2560) (18, 2560)\n",
      "-> Shape of bad data (18, 563) good data (18, 563)\n",
      "(18, 1000, 56) (18, 1000, 56)\n",
      "(1000, 56)\n",
      "[-1.8689798583729393, 1.8689798583729393] [-2.8573639974262317, 2.8573639974262317] [-5.2468352476355875, 5.2468352476355875]\n",
      "(56,) 3.46238040499 -1.11149584306\n",
      "Size of the concatenated data:  (36, 56) Number time windows :  56\n",
      "Size of label for classif:  36\n",
      "th_perm :  66.6666666667 75.0 86.1111111111\n"
     ]
    },
    {
     "name": "stderr",
     "output_type": "stream",
     "text": [
      "/home/karim/anaconda3/lib/python3.5/site-packages/matplotlib/axes/_axes.py:545: UserWarning: No labelled objects found. Use label='...' kwarg on individual plots.\n",
      "  warnings.warn(\"No labelled objects found. \"\n"
     ]
    },
    {
     "name": "stdout",
     "output_type": "stream",
     "text": [
      "CHAF Channel :  e'7-e'6 Label :  SFGM-SFGL Bad shape :  (2560, 18) Good shape :  (2560, 18)\n",
      "Setting up low-pass filter at 10 Hz\n",
      "h_trans_bandwidth chosen to be 2.5 Hz\n",
      "Filter length of 1352 samples (2.641 sec) selected\n",
      "Setting up low-pass filter at 10 Hz\n",
      "h_trans_bandwidth chosen to be 2.5 Hz\n",
      "Filter length of 1352 samples (2.641 sec) selected\n",
      "Size of filtered data bad : (18, 2560) filtered data good :  (18, 2560)\n",
      "time points :  (2560,)\n",
      "Applying baseline correction (mode: mean)\n",
      "Applying baseline correction (mode: mean)\n",
      "Size norm & filtered data 0 :  (18, 2560) (18, 2560)\n",
      "-> Shape of bad data (18, 563) good data (18, 563)\n",
      "(18, 1000, 56) (18, 1000, 56)\n",
      "(1000, 56)\n",
      "[-1.9136373239487212, 1.9136373239487212] [-2.7111580464252079, 2.7111580464252079] [-4.1517677102407218, 4.1517677102407218]\n",
      "(56,) 3.62175313814 -0.789151802575\n",
      "Size of the concatenated data:  (36, 56) Number time windows :  56\n",
      "Size of label for classif:  36\n",
      "th_perm :  69.4444444444 75.0 86.1111111111\n"
     ]
    },
    {
     "name": "stderr",
     "output_type": "stream",
     "text": [
      "/home/karim/anaconda3/lib/python3.5/site-packages/matplotlib/axes/_axes.py:545: UserWarning: No labelled objects found. Use label='...' kwarg on individual plots.\n",
      "  warnings.warn(\"No labelled objects found. \"\n"
     ]
    },
    {
     "name": "stdout",
     "output_type": "stream",
     "text": [
      "CHAF Channel :  e'8-e'7 Label :  SFGL&SFGM-SFGL Bad shape :  (2560, 18) Good shape :  (2560, 18)\n",
      "Setting up low-pass filter at 10 Hz\n",
      "h_trans_bandwidth chosen to be 2.5 Hz\n",
      "Filter length of 1352 samples (2.641 sec) selected\n",
      "Setting up low-pass filter at 10 Hz\n",
      "h_trans_bandwidth chosen to be 2.5 Hz\n",
      "Filter length of 1352 samples (2.641 sec) selected\n",
      "Size of filtered data bad : (18, 2560) filtered data good :  (18, 2560)\n",
      "time points :  (2560,)\n",
      "Applying baseline correction (mode: mean)\n",
      "Applying baseline correction (mode: mean)\n",
      "Size norm & filtered data 0 :  (18, 2560) (18, 2560)\n",
      "-> Shape of bad data (18, 563) good data (18, 563)\n",
      "(18, 1000, 56) (18, 1000, 56)\n",
      "(1000, 56)\n",
      "[-1.8338777150075942, 1.8338777150075942] [-2.7645389339672106, 2.7645389339672106] [-5.0247398708587951, 5.0247398708587951]\n",
      "(56,) 2.91271087233 -1.45084500364\n",
      "Size of the concatenated data:  (36, 56) Number time windows :  56\n",
      "Size of label for classif:  36\n",
      "th_perm :  69.4444444444 75.0 83.3333333333\n"
     ]
    },
    {
     "name": "stderr",
     "output_type": "stream",
     "text": [
      "/home/karim/anaconda3/lib/python3.5/site-packages/matplotlib/axes/_axes.py:545: UserWarning: No labelled objects found. Use label='...' kwarg on individual plots.\n",
      "  warnings.warn(\"No labelled objects found. \"\n"
     ]
    },
    {
     "name": "stdout",
     "output_type": "stream",
     "text": [
      "CHAF Channel :  e'9-e'8 Label :  SFGL Bad shape :  (2560, 18) Good shape :  (2560, 18)\n",
      "Setting up low-pass filter at 10 Hz\n",
      "h_trans_bandwidth chosen to be 2.5 Hz\n",
      "Filter length of 1352 samples (2.641 sec) selected\n",
      "Setting up low-pass filter at 10 Hz\n",
      "h_trans_bandwidth chosen to be 2.5 Hz\n",
      "Filter length of 1352 samples (2.641 sec) selected\n",
      "Size of filtered data bad : (18, 2560) filtered data good :  (18, 2560)\n",
      "time points :  (2560,)\n",
      "Applying baseline correction (mode: mean)\n",
      "Applying baseline correction (mode: mean)\n",
      "Size norm & filtered data 0 :  (18, 2560) (18, 2560)\n",
      "-> Shape of bad data (18, 563) good data (18, 563)\n",
      "(18, 1000, 56) (18, 1000, 56)\n",
      "(1000, 56)\n",
      "[-1.8079767887612901, 1.8079767887612901] [-2.9663058715699067, 2.9663058715699067] [-5.5204170494058067, 5.5204170494058067]\n",
      "(56,) 2.48731298551 -2.12566068898\n",
      "Size of the concatenated data:  (36, 56) Number time windows :  56\n",
      "Size of label for classif:  36\n",
      "th_perm :  69.4444444444 72.2222222222 83.3333333333\n"
     ]
    },
    {
     "name": "stderr",
     "output_type": "stream",
     "text": [
      "/home/karim/anaconda3/lib/python3.5/site-packages/matplotlib/axes/_axes.py:545: UserWarning: No labelled objects found. Use label='...' kwarg on individual plots.\n",
      "  warnings.warn(\"No labelled objects found. \"\n"
     ]
    },
    {
     "name": "stdout",
     "output_type": "stream",
     "text": [
      "CHAF Channel :  e'10-e'9 Label :  SFGL Bad shape :  (2560, 18) Good shape :  (2560, 18)\n",
      "Setting up low-pass filter at 10 Hz\n",
      "h_trans_bandwidth chosen to be 2.5 Hz\n",
      "Filter length of 1352 samples (2.641 sec) selected\n",
      "Setting up low-pass filter at 10 Hz\n",
      "h_trans_bandwidth chosen to be 2.5 Hz\n",
      "Filter length of 1352 samples (2.641 sec) selected\n",
      "Size of filtered data bad : (18, 2560) filtered data good :  (18, 2560)\n",
      "time points :  (2560,)\n",
      "Applying baseline correction (mode: mean)\n",
      "Applying baseline correction (mode: mean)\n",
      "Size norm & filtered data 0 :  (18, 2560) (18, 2560)\n",
      "-> Shape of bad data (18, 563) good data (18, 563)\n",
      "(18, 1000, 56) (18, 1000, 56)\n",
      "(1000, 56)\n",
      "[-1.7943688421680417, 1.7943688421680417] [-2.8342955552889282, 2.8342955552889282] [-4.212431574027379, 4.212431574027379]\n",
      "(56,) 0.709246694263 -3.24822809236\n",
      "Size of the concatenated data:  (36, 56) Number time windows :  56\n",
      "Size of label for classif:  36\n",
      "th_perm :  69.4444444444 75.0 83.3333333333\n"
     ]
    },
    {
     "name": "stderr",
     "output_type": "stream",
     "text": [
      "/home/karim/anaconda3/lib/python3.5/site-packages/matplotlib/axes/_axes.py:545: UserWarning: No labelled objects found. Use label='...' kwarg on individual plots.\n",
      "  warnings.warn(\"No labelled objects found. \"\n"
     ]
    },
    {
     "name": "stdout",
     "output_type": "stream",
     "text": [
      "CHAF Channel :  e'11-e'10 Label :  LCR-SFGL&SFGL Bad shape :  (2560, 18) Good shape :  (2560, 18)\n",
      "Setting up low-pass filter at 10 Hz\n",
      "h_trans_bandwidth chosen to be 2.5 Hz\n",
      "Filter length of 1352 samples (2.641 sec) selected\n",
      "Setting up low-pass filter at 10 Hz\n",
      "h_trans_bandwidth chosen to be 2.5 Hz\n",
      "Filter length of 1352 samples (2.641 sec) selected\n",
      "Size of filtered data bad : (18, 2560) filtered data good :  (18, 2560)\n",
      "time points :  (2560,)\n",
      "Applying baseline correction (mode: mean)\n",
      "Applying baseline correction (mode: mean)\n",
      "Size norm & filtered data 0 :  (18, 2560) (18, 2560)\n",
      "-> Shape of bad data (18, 563) good data (18, 563)\n",
      "(18, 1000, 56) (18, 1000, 56)\n",
      "(1000, 56)\n",
      "[-1.8313027962947757, 1.8313027962947757] [-2.7461073793786501, 2.7461073793786501] [-4.6870922947710234, 4.6870922947710234]\n",
      "(56,) 2.08529428698 -1.0392434987\n",
      "Size of the concatenated data:  (36, 56) Number time windows :  56\n",
      "Size of label for classif:  36\n",
      "th_perm :  69.4444444444 72.2222222222 83.3333333333\n"
     ]
    },
    {
     "name": "stderr",
     "output_type": "stream",
     "text": [
      "/home/karim/anaconda3/lib/python3.5/site-packages/matplotlib/axes/_axes.py:545: UserWarning: No labelled objects found. Use label='...' kwarg on individual plots.\n",
      "  warnings.warn(\"No labelled objects found. \"\n"
     ]
    },
    {
     "name": "stdout",
     "output_type": "stream",
     "text": [
      "CHAF Channel :  e'12-e'11 Label :  LCR-SFGL Bad shape :  (2560, 18) Good shape :  (2560, 18)\n",
      "Setting up low-pass filter at 10 Hz\n",
      "h_trans_bandwidth chosen to be 2.5 Hz\n",
      "Filter length of 1352 samples (2.641 sec) selected\n",
      "Setting up low-pass filter at 10 Hz\n",
      "h_trans_bandwidth chosen to be 2.5 Hz\n",
      "Filter length of 1352 samples (2.641 sec) selected\n",
      "Size of filtered data bad : (18, 2560) filtered data good :  (18, 2560)\n",
      "time points :  (2560,)\n",
      "Applying baseline correction (mode: mean)\n",
      "Applying baseline correction (mode: mean)\n",
      "Size norm & filtered data 0 :  (18, 2560) (18, 2560)\n",
      "-> Shape of bad data (18, 563) good data (18, 563)\n",
      "(18, 1000, 56) (18, 1000, 56)\n",
      "(1000, 56)\n",
      "[-1.7794467902830402, 1.7794467902830402] [-2.6987668089430312, 2.6987668089430312] [-5.0638365780567005, 5.0638365780567005]\n",
      "(56,) 1.72824712957 -1.00758920258\n",
      "Size of the concatenated data:  (36, 56) Number time windows :  56\n",
      "Size of label for classif:  36\n",
      "th_perm :  69.4444444444 75.0 83.3333333333\n"
     ]
    },
    {
     "name": "stderr",
     "output_type": "stream",
     "text": [
      "/home/karim/anaconda3/lib/python3.5/site-packages/matplotlib/axes/_axes.py:545: UserWarning: No labelled objects found. Use label='...' kwarg on individual plots.\n",
      "  warnings.warn(\"No labelled objects found. \"\n"
     ]
    },
    {
     "name": "stdout",
     "output_type": "stream",
     "text": [
      "CHAF Channel :  f'2-f'1 Label :  pgACC Bad shape :  (2560, 18) Good shape :  (2560, 18)\n",
      "Setting up low-pass filter at 10 Hz\n",
      "h_trans_bandwidth chosen to be 2.5 Hz\n",
      "Filter length of 1352 samples (2.641 sec) selected\n",
      "Setting up low-pass filter at 10 Hz\n",
      "h_trans_bandwidth chosen to be 2.5 Hz\n",
      "Filter length of 1352 samples (2.641 sec) selected\n",
      "Size of filtered data bad : (18, 2560) filtered data good :  (18, 2560)\n",
      "time points :  (2560,)\n",
      "Applying baseline correction (mode: mean)\n",
      "Applying baseline correction (mode: mean)\n",
      "Size norm & filtered data 0 :  (18, 2560) (18, 2560)\n",
      "-> Shape of bad data (18, 563) good data (18, 563)\n",
      "(18, 1000, 56) (18, 1000, 56)\n",
      "(1000, 56)\n",
      "[-1.8463193152334612, 1.8463193152334612] [-2.7756523479758779, 2.7756523479758779] [-4.5215876239852983, 4.5215876239852983]\n",
      "(56,) 1.60351478217 -2.22283491266\n",
      "Size of the concatenated data:  (36, 56) Number time windows :  56\n",
      "Size of label for classif:  36\n",
      "th_perm :  66.6666666667 72.2222222222 83.3333333333\n"
     ]
    },
    {
     "name": "stderr",
     "output_type": "stream",
     "text": [
      "/home/karim/anaconda3/lib/python3.5/site-packages/matplotlib/axes/_axes.py:545: UserWarning: No labelled objects found. Use label='...' kwarg on individual plots.\n",
      "  warnings.warn(\"No labelled objects found. \"\n"
     ]
    },
    {
     "name": "stdout",
     "output_type": "stream",
     "text": [
      "CHAF Channel :  f'3-f'2 Label :  pgACC-SFGM&pgACC Bad shape :  (2560, 18) Good shape :  (2560, 18)\n",
      "Setting up low-pass filter at 10 Hz\n",
      "h_trans_bandwidth chosen to be 2.5 Hz\n",
      "Filter length of 1352 samples (2.641 sec) selected\n",
      "Setting up low-pass filter at 10 Hz\n",
      "h_trans_bandwidth chosen to be 2.5 Hz\n",
      "Filter length of 1352 samples (2.641 sec) selected\n",
      "Size of filtered data bad : (18, 2560) filtered data good :  (18, 2560)\n",
      "time points :  (2560,)\n",
      "Applying baseline correction (mode: mean)\n",
      "Applying baseline correction (mode: mean)\n",
      "Size norm & filtered data 0 :  (18, 2560) (18, 2560)\n",
      "-> Shape of bad data (18, 563) good data (18, 563)\n",
      "(18, 1000, 56) (18, 1000, 56)\n",
      "(1000, 56)\n",
      "[-1.8159945653328471, 1.8159945653328471] [-2.7580769031836447, 2.7580769031836447] [-4.4568523555696373, 4.4568523555696373]\n",
      "(56,) 2.236504611 -1.16260742582\n",
      "Size of the concatenated data:  (36, 56) Number time windows :  56\n",
      "Size of label for classif:  36\n",
      "th_perm :  69.4444444444 75.0 86.1111111111\n"
     ]
    },
    {
     "name": "stderr",
     "output_type": "stream",
     "text": [
      "/home/karim/anaconda3/lib/python3.5/site-packages/matplotlib/axes/_axes.py:545: UserWarning: No labelled objects found. Use label='...' kwarg on individual plots.\n",
      "  warnings.warn(\"No labelled objects found. \"\n"
     ]
    },
    {
     "name": "stdout",
     "output_type": "stream",
     "text": [
      "CHAF Channel :  f'4-f'3 Label :  SFGM&pgACC-SFGM Bad shape :  (2560, 18) Good shape :  (2560, 18)\n",
      "Setting up low-pass filter at 10 Hz\n",
      "h_trans_bandwidth chosen to be 2.5 Hz\n",
      "Filter length of 1352 samples (2.641 sec) selected\n",
      "Setting up low-pass filter at 10 Hz\n",
      "h_trans_bandwidth chosen to be 2.5 Hz\n",
      "Filter length of 1352 samples (2.641 sec) selected\n",
      "Size of filtered data bad : (18, 2560) filtered data good :  (18, 2560)\n",
      "time points :  (2560,)\n",
      "Applying baseline correction (mode: mean)\n",
      "Applying baseline correction (mode: mean)\n",
      "Size norm & filtered data 0 :  (18, 2560) (18, 2560)\n",
      "-> Shape of bad data (18, 563) good data (18, 563)\n",
      "(18, 1000, 56) (18, 1000, 56)\n",
      "(1000, 56)\n",
      "[-1.8255192880810891, 1.8255192880810891] [-2.6727399498572058, 2.6727399498572058] [-4.7464364247017947, 4.7464364247017947]\n",
      "(56,) 1.92957695733 -2.52861778409\n",
      "Size of the concatenated data:  (36, 56) Number time windows :  56\n",
      "Size of label for classif:  36\n",
      "th_perm :  66.6666666667 72.2222222222 83.3333333333\n"
     ]
    },
    {
     "name": "stderr",
     "output_type": "stream",
     "text": [
      "/home/karim/anaconda3/lib/python3.5/site-packages/matplotlib/axes/_axes.py:545: UserWarning: No labelled objects found. Use label='...' kwarg on individual plots.\n",
      "  warnings.warn(\"No labelled objects found. \"\n"
     ]
    },
    {
     "name": "stdout",
     "output_type": "stream",
     "text": [
      "CHAF Channel :  f'5-f'4 Label :  SFGM Bad shape :  (2560, 18) Good shape :  (2560, 18)\n",
      "Setting up low-pass filter at 10 Hz\n",
      "h_trans_bandwidth chosen to be 2.5 Hz\n",
      "Filter length of 1352 samples (2.641 sec) selected\n",
      "Setting up low-pass filter at 10 Hz\n",
      "h_trans_bandwidth chosen to be 2.5 Hz\n",
      "Filter length of 1352 samples (2.641 sec) selected\n",
      "Size of filtered data bad : (18, 2560) filtered data good :  (18, 2560)\n",
      "time points :  (2560,)\n",
      "Applying baseline correction (mode: mean)\n",
      "Applying baseline correction (mode: mean)\n",
      "Size norm & filtered data 0 :  (18, 2560) (18, 2560)\n",
      "-> Shape of bad data (18, 563) good data (18, 563)\n",
      "(18, 1000, 56) (18, 1000, 56)\n",
      "(1000, 56)\n",
      "[-1.7635856286653053, 1.7635856286653053] [-2.6947840683139215, 2.6947840683139215] [-4.8767572002121504, 4.8767572002121504]\n",
      "(56,) 3.57062969196 -1.51407966162\n",
      "Size of the concatenated data:  (36, 56) Number time windows :  56\n",
      "Size of label for classif:  36\n",
      "th_perm :  66.6666666667 75.0 86.1111111111\n"
     ]
    },
    {
     "name": "stderr",
     "output_type": "stream",
     "text": [
      "/home/karim/anaconda3/lib/python3.5/site-packages/matplotlib/axes/_axes.py:545: UserWarning: No labelled objects found. Use label='...' kwarg on individual plots.\n",
      "  warnings.warn(\"No labelled objects found. \"\n"
     ]
    },
    {
     "name": "stdout",
     "output_type": "stream",
     "text": [
      "CHAF Channel :  f'6-f'5 Label :  SFGL&SFGM Bad shape :  (2560, 18) Good shape :  (2560, 18)\n",
      "Setting up low-pass filter at 10 Hz\n",
      "h_trans_bandwidth chosen to be 2.5 Hz\n",
      "Filter length of 1352 samples (2.641 sec) selected\n",
      "Setting up low-pass filter at 10 Hz\n",
      "h_trans_bandwidth chosen to be 2.5 Hz\n",
      "Filter length of 1352 samples (2.641 sec) selected\n",
      "Size of filtered data bad : (18, 2560) filtered data good :  (18, 2560)\n",
      "time points :  (2560,)\n",
      "Applying baseline correction (mode: mean)\n",
      "Applying baseline correction (mode: mean)\n",
      "Size norm & filtered data 0 :  (18, 2560) (18, 2560)\n",
      "-> Shape of bad data (18, 563) good data (18, 563)\n",
      "(18, 1000, 56) (18, 1000, 56)\n",
      "(1000, 56)\n",
      "[-1.8091160662639354, 1.8091160662639354] [-2.5269965942693582, 2.5269965942693582] [-4.5984021004161564, 4.5984021004161564]\n",
      "(56,) 2.49301007419 -2.12730390926\n",
      "Size of the concatenated data:  (36, 56) Number time windows :  56\n",
      "Size of label for classif:  36\n",
      "th_perm :  69.4444444444 75.0 86.1111111111\n"
     ]
    },
    {
     "name": "stderr",
     "output_type": "stream",
     "text": [
      "/home/karim/anaconda3/lib/python3.5/site-packages/matplotlib/axes/_axes.py:545: UserWarning: No labelled objects found. Use label='...' kwarg on individual plots.\n",
      "  warnings.warn(\"No labelled objects found. \"\n"
     ]
    },
    {
     "name": "stdout",
     "output_type": "stream",
     "text": [
      "CHAF Channel :  f'7-f'6 Label :  SFGL Bad shape :  (2560, 18) Good shape :  (2560, 18)\n",
      "Setting up low-pass filter at 10 Hz\n",
      "h_trans_bandwidth chosen to be 2.5 Hz\n",
      "Filter length of 1352 samples (2.641 sec) selected\n",
      "Setting up low-pass filter at 10 Hz\n",
      "h_trans_bandwidth chosen to be 2.5 Hz\n",
      "Filter length of 1352 samples (2.641 sec) selected\n",
      "Size of filtered data bad : (18, 2560) filtered data good :  (18, 2560)\n",
      "time points :  (2560,)\n",
      "Applying baseline correction (mode: mean)\n",
      "Applying baseline correction (mode: mean)\n",
      "Size norm & filtered data 0 :  (18, 2560) (18, 2560)\n",
      "-> Shape of bad data (18, 563) good data (18, 563)\n",
      "(18, 1000, 56) (18, 1000, 56)\n",
      "(1000, 56)\n",
      "[-1.8162556376020536, 1.8162556376020536] [-2.7812713626140639, 2.7812713626140639] [-4.2334356026357787, 4.2334356026357787]\n",
      "(56,) 1.69007517856 -0.678824497516\n",
      "Size of the concatenated data:  (36, 56) Number time windows :  56\n",
      "Size of label for classif:  36\n",
      "th_perm :  66.6666666667 75.0 83.3333333333\n"
     ]
    },
    {
     "name": "stderr",
     "output_type": "stream",
     "text": [
      "/home/karim/anaconda3/lib/python3.5/site-packages/matplotlib/axes/_axes.py:545: UserWarning: No labelled objects found. Use label='...' kwarg on individual plots.\n",
      "  warnings.warn(\"No labelled objects found. \"\n"
     ]
    },
    {
     "name": "stdout",
     "output_type": "stream",
     "text": [
      "CHAF Channel :  f'8-f'7 Label :  SFGL Bad shape :  (2560, 18) Good shape :  (2560, 18)\n",
      "Setting up low-pass filter at 10 Hz\n",
      "h_trans_bandwidth chosen to be 2.5 Hz\n",
      "Filter length of 1352 samples (2.641 sec) selected\n",
      "Setting up low-pass filter at 10 Hz\n",
      "h_trans_bandwidth chosen to be 2.5 Hz\n",
      "Filter length of 1352 samples (2.641 sec) selected\n",
      "Size of filtered data bad : (18, 2560) filtered data good :  (18, 2560)\n",
      "time points :  (2560,)\n",
      "Applying baseline correction (mode: mean)\n",
      "Applying baseline correction (mode: mean)\n",
      "Size norm & filtered data 0 :  (18, 2560) (18, 2560)\n",
      "-> Shape of bad data (18, 563) good data (18, 563)\n",
      "(18, 1000, 56) (18, 1000, 56)\n",
      "(1000, 56)\n",
      "[-1.8360748613990081, 1.8360748613990081] [-2.8341101114006633, 2.8341101114006633] [-4.6955745105092834, 4.6955745105092834]\n",
      "(56,) 1.64869580018 -3.08207032847\n",
      "Size of the concatenated data:  (36, 56) Number time windows :  56\n",
      "Size of label for classif:  36\n",
      "th_perm :  66.6666666667 75.0 86.1111111111\n"
     ]
    },
    {
     "name": "stderr",
     "output_type": "stream",
     "text": [
      "/home/karim/anaconda3/lib/python3.5/site-packages/matplotlib/axes/_axes.py:545: UserWarning: No labelled objects found. Use label='...' kwarg on individual plots.\n",
      "  warnings.warn(\"No labelled objects found. \"\n"
     ]
    },
    {
     "name": "stdout",
     "output_type": "stream",
     "text": [
      "CHAF Channel :  f'9-f'8 Label :  SFGL Bad shape :  (2560, 18) Good shape :  (2560, 18)\n",
      "Setting up low-pass filter at 10 Hz\n",
      "h_trans_bandwidth chosen to be 2.5 Hz\n",
      "Filter length of 1352 samples (2.641 sec) selected\n",
      "Setting up low-pass filter at 10 Hz\n",
      "h_trans_bandwidth chosen to be 2.5 Hz\n",
      "Filter length of 1352 samples (2.641 sec) selected\n",
      "Size of filtered data bad : (18, 2560) filtered data good :  (18, 2560)\n",
      "time points :  (2560,)\n",
      "Applying baseline correction (mode: mean)\n",
      "Applying baseline correction (mode: mean)\n",
      "Size norm & filtered data 0 :  (18, 2560) (18, 2560)\n",
      "-> Shape of bad data (18, 563) good data (18, 563)\n",
      "(18, 1000, 56) (18, 1000, 56)\n",
      "(1000, 56)\n",
      "[-1.8832106572066871, 1.8832106572066871] [-2.8106438251383579, 2.8106438251383579] [-4.3920899302446372, 4.3920899302446372]\n",
      "(56,) 1.41893452915 -2.24962416437\n",
      "Size of the concatenated data:  (36, 56) Number time windows :  56\n",
      "Size of label for classif:  36\n",
      "th_perm :  66.6666666667 75.0 86.1111111111\n"
     ]
    },
    {
     "name": "stderr",
     "output_type": "stream",
     "text": [
      "/home/karim/anaconda3/lib/python3.5/site-packages/matplotlib/axes/_axes.py:545: UserWarning: No labelled objects found. Use label='...' kwarg on individual plots.\n",
      "  warnings.warn(\"No labelled objects found. \"\n"
     ]
    },
    {
     "name": "stdout",
     "output_type": "stream",
     "text": [
      "CHAF Channel :  f'10-f'9 Label :  SFGL Bad shape :  (2560, 18) Good shape :  (2560, 18)\n",
      "Setting up low-pass filter at 10 Hz\n",
      "h_trans_bandwidth chosen to be 2.5 Hz\n",
      "Filter length of 1352 samples (2.641 sec) selected\n",
      "Setting up low-pass filter at 10 Hz\n",
      "h_trans_bandwidth chosen to be 2.5 Hz\n",
      "Filter length of 1352 samples (2.641 sec) selected\n",
      "Size of filtered data bad : (18, 2560) filtered data good :  (18, 2560)\n",
      "time points :  (2560,)\n",
      "Applying baseline correction (mode: mean)\n",
      "Applying baseline correction (mode: mean)\n",
      "Size norm & filtered data 0 :  (18, 2560) (18, 2560)\n",
      "-> Shape of bad data (18, 563) good data (18, 563)\n",
      "(18, 1000, 56) (18, 1000, 56)\n",
      "(1000, 56)\n",
      "[-1.9565754712582968, 1.9565754712582968] [-2.753224539845907, 2.753224539845907] [-4.4273259886416172, 4.4273259886416172]\n",
      "(56,) 2.10590000252 -1.49722298676\n",
      "Size of the concatenated data:  (36, 56) Number time windows :  56\n",
      "Size of label for classif:  36\n",
      "th_perm :  66.6666666667 75.0 83.3333333333\n"
     ]
    },
    {
     "name": "stderr",
     "output_type": "stream",
     "text": [
      "/home/karim/anaconda3/lib/python3.5/site-packages/matplotlib/axes/_axes.py:545: UserWarning: No labelled objects found. Use label='...' kwarg on individual plots.\n",
      "  warnings.warn(\"No labelled objects found. \"\n"
     ]
    },
    {
     "name": "stdout",
     "output_type": "stream",
     "text": [
      "CHAF Channel :  f'11-f'10 Label :  SFGL Bad shape :  (2560, 18) Good shape :  (2560, 18)\n",
      "Setting up low-pass filter at 10 Hz\n",
      "h_trans_bandwidth chosen to be 2.5 Hz\n",
      "Filter length of 1352 samples (2.641 sec) selected\n",
      "Setting up low-pass filter at 10 Hz\n",
      "h_trans_bandwidth chosen to be 2.5 Hz\n",
      "Filter length of 1352 samples (2.641 sec) selected\n",
      "Size of filtered data bad : (18, 2560) filtered data good :  (18, 2560)\n",
      "time points :  (2560,)\n",
      "Applying baseline correction (mode: mean)\n",
      "Applying baseline correction (mode: mean)\n",
      "Size norm & filtered data 0 :  (18, 2560) (18, 2560)\n",
      "-> Shape of bad data (18, 563) good data (18, 563)\n",
      "(18, 1000, 56) (18, 1000, 56)\n",
      "(1000, 56)\n",
      "[-1.8378677314724465, 1.8378677314724465] [-2.8126331433943577, 2.8126331433943577] [-5.1386671877853232, 5.1386671877853232]\n",
      "(56,) 1.54936487378 -2.91934506612\n",
      "Size of the concatenated data:  (36, 56) Number time windows :  56\n",
      "Size of label for classif:  36\n",
      "th_perm :  69.4444444444 75.0 83.3333333333\n"
     ]
    },
    {
     "name": "stderr",
     "output_type": "stream",
     "text": [
      "/home/karim/anaconda3/lib/python3.5/site-packages/matplotlib/axes/_axes.py:545: UserWarning: No labelled objects found. Use label='...' kwarg on individual plots.\n",
      "  warnings.warn(\"No labelled objects found. \"\n"
     ]
    },
    {
     "name": "stdout",
     "output_type": "stream",
     "text": [
      "CHAF Channel :  f'12-f'11 Label :  SFGL Bad shape :  (2560, 18) Good shape :  (2560, 18)\n",
      "Setting up low-pass filter at 10 Hz\n",
      "h_trans_bandwidth chosen to be 2.5 Hz\n",
      "Filter length of 1352 samples (2.641 sec) selected\n",
      "Setting up low-pass filter at 10 Hz\n",
      "h_trans_bandwidth chosen to be 2.5 Hz\n",
      "Filter length of 1352 samples (2.641 sec) selected\n",
      "Size of filtered data bad : (18, 2560) filtered data good :  (18, 2560)\n",
      "time points :  (2560,)\n",
      "Applying baseline correction (mode: mean)\n",
      "Applying baseline correction (mode: mean)\n",
      "Size norm & filtered data 0 :  (18, 2560) (18, 2560)\n",
      "-> Shape of bad data (18, 563) good data (18, 563)\n",
      "(18, 1000, 56) (18, 1000, 56)\n",
      "(1000, 56)\n",
      "[-1.8518532321764676, 1.8518532321764676] [-2.7988971210954263, 2.7988971210954263] [-4.69538712134697, 4.69538712134697]\n",
      "(56,) 1.2809043639 -4.42964306531\n",
      "Size of the concatenated data:  (36, 56) Number time windows :  56\n",
      "Size of label for classif:  36\n",
      "th_perm :  66.6666666667 75.0 86.1111111111\n"
     ]
    },
    {
     "name": "stderr",
     "output_type": "stream",
     "text": [
      "/home/karim/anaconda3/lib/python3.5/site-packages/matplotlib/axes/_axes.py:545: UserWarning: No labelled objects found. Use label='...' kwarg on individual plots.\n",
      "  warnings.warn(\"No labelled objects found. \"\n"
     ]
    },
    {
     "name": "stdout",
     "output_type": "stream",
     "text": [
      "CHAF Channel :  f'13-f'12 Label :  SFGL Bad shape :  (2560, 18) Good shape :  (2560, 18)\n",
      "Setting up low-pass filter at 10 Hz\n",
      "h_trans_bandwidth chosen to be 2.5 Hz\n",
      "Filter length of 1352 samples (2.641 sec) selected\n",
      "Setting up low-pass filter at 10 Hz\n",
      "h_trans_bandwidth chosen to be 2.5 Hz\n",
      "Filter length of 1352 samples (2.641 sec) selected\n",
      "Size of filtered data bad : (18, 2560) filtered data good :  (18, 2560)\n",
      "time points :  (2560,)\n",
      "Applying baseline correction (mode: mean)\n",
      "Applying baseline correction (mode: mean)\n",
      "Size norm & filtered data 0 :  (18, 2560) (18, 2560)\n",
      "-> Shape of bad data (18, 563) good data (18, 563)\n",
      "(18, 1000, 56) (18, 1000, 56)\n",
      "(1000, 56)\n",
      "[-1.8375161317162805, 1.8375161317162805] [-2.8598795699555102, 2.8598795699555102] [-4.722994338915532, 4.722994338915532]\n",
      "(56,) 2.61855349781 -1.68389899931\n",
      "Size of the concatenated data:  (36, 56) Number time windows :  56\n",
      "Size of label for classif:  36\n",
      "th_perm :  69.4444444444 75.0 83.3333333333\n"
     ]
    },
    {
     "name": "stderr",
     "output_type": "stream",
     "text": [
      "/home/karim/anaconda3/lib/python3.5/site-packages/matplotlib/axes/_axes.py:545: UserWarning: No labelled objects found. Use label='...' kwarg on individual plots.\n",
      "  warnings.warn(\"No labelled objects found. \"\n"
     ]
    },
    {
     "name": "stdout",
     "output_type": "stream",
     "text": [
      "CHAF Channel :  f'14-f'13 Label :  SFGL Bad shape :  (2560, 18) Good shape :  (2560, 18)\n",
      "Setting up low-pass filter at 10 Hz\n",
      "h_trans_bandwidth chosen to be 2.5 Hz\n",
      "Filter length of 1352 samples (2.641 sec) selected\n",
      "Setting up low-pass filter at 10 Hz\n",
      "h_trans_bandwidth chosen to be 2.5 Hz\n",
      "Filter length of 1352 samples (2.641 sec) selected\n",
      "Size of filtered data bad : (18, 2560) filtered data good :  (18, 2560)\n",
      "time points :  (2560,)\n",
      "Applying baseline correction (mode: mean)\n",
      "Applying baseline correction (mode: mean)\n",
      "Size norm & filtered data 0 :  (18, 2560) (18, 2560)\n",
      "-> Shape of bad data (18, 563) good data (18, 563)\n",
      "(18, 1000, 56) (18, 1000, 56)\n",
      "(1000, 56)\n",
      "[-1.8026055225069364, 1.8026055225069364] [-2.7932157387875098, 2.7932157387875098] [-4.3933000126835866, 4.3933000126835866]\n",
      "(56,) 2.28055760808 -1.73886913623\n",
      "Size of the concatenated data:  (36, 56) Number time windows :  56\n",
      "Size of label for classif:  36\n",
      "th_perm :  69.4444444444 75.0 86.1111111111\n"
     ]
    },
    {
     "name": "stderr",
     "output_type": "stream",
     "text": [
      "/home/karim/anaconda3/lib/python3.5/site-packages/matplotlib/axes/_axes.py:545: UserWarning: No labelled objects found. Use label='...' kwarg on individual plots.\n",
      "  warnings.warn(\"No labelled objects found. \"\n"
     ]
    },
    {
     "name": "stdout",
     "output_type": "stream",
     "text": [
      "CHAF Channel :  f'15-f'14 Label :  LCR&SFGL Bad shape :  (2560, 18) Good shape :  (2560, 18)\n",
      "Setting up low-pass filter at 10 Hz\n",
      "h_trans_bandwidth chosen to be 2.5 Hz\n",
      "Filter length of 1352 samples (2.641 sec) selected\n",
      "Setting up low-pass filter at 10 Hz\n",
      "h_trans_bandwidth chosen to be 2.5 Hz\n",
      "Filter length of 1352 samples (2.641 sec) selected\n",
      "Size of filtered data bad : (18, 2560) filtered data good :  (18, 2560)\n",
      "time points :  (2560,)\n",
      "Applying baseline correction (mode: mean)\n",
      "Applying baseline correction (mode: mean)\n",
      "Size norm & filtered data 0 :  (18, 2560) (18, 2560)\n",
      "-> Shape of bad data (18, 563) good data (18, 563)\n",
      "(18, 1000, 56) (18, 1000, 56)\n",
      "(1000, 56)\n",
      "[-1.8157224855398135, 1.8157224855398135] [-2.6489088370441833, 2.6489088370441833] [-4.8856890208394246, 4.8856890208394246]\n",
      "(56,) 1.26309353314 -1.75716617415\n",
      "Size of the concatenated data:  (36, 56) Number time windows :  56\n",
      "Size of label for classif:  36\n",
      "th_perm :  69.4444444444 75.0 83.3333333333\n"
     ]
    },
    {
     "name": "stderr",
     "output_type": "stream",
     "text": [
      "/home/karim/anaconda3/lib/python3.5/site-packages/matplotlib/axes/_axes.py:545: UserWarning: No labelled objects found. Use label='...' kwarg on individual plots.\n",
      "  warnings.warn(\"No labelled objects found. \"\n"
     ]
    },
    {
     "name": "stdout",
     "output_type": "stream",
     "text": [
      "CHAF Channel :  g'4-g'3 Label :  MFG-PrG Bad shape :  (2560, 18) Good shape :  (2560, 18)\n",
      "Setting up low-pass filter at 10 Hz\n",
      "h_trans_bandwidth chosen to be 2.5 Hz\n",
      "Filter length of 1352 samples (2.641 sec) selected\n",
      "Setting up low-pass filter at 10 Hz\n",
      "h_trans_bandwidth chosen to be 2.5 Hz\n",
      "Filter length of 1352 samples (2.641 sec) selected\n",
      "Size of filtered data bad : (18, 2560) filtered data good :  (18, 2560)\n",
      "time points :  (2560,)\n",
      "Applying baseline correction (mode: mean)\n",
      "Applying baseline correction (mode: mean)\n",
      "Size norm & filtered data 0 :  (18, 2560) (18, 2560)\n",
      "-> Shape of bad data (18, 563) good data (18, 563)\n",
      "(18, 1000, 56) (18, 1000, 56)\n",
      "(1000, 56)\n",
      "[-1.824009512736263, 1.824009512736263] [-2.7399132897103851, 2.7399132897103851] [-5.441499717350859, 5.441499717350859]\n",
      "(56,) 2.33674075194 -1.2982204673\n",
      "Size of the concatenated data:  (36, 56) Number time windows :  56\n",
      "Size of label for classif:  36\n",
      "th_perm :  69.4444444444 75.0 83.3333333333\n"
     ]
    },
    {
     "name": "stderr",
     "output_type": "stream",
     "text": [
      "/home/karim/anaconda3/lib/python3.5/site-packages/matplotlib/axes/_axes.py:545: UserWarning: No labelled objects found. Use label='...' kwarg on individual plots.\n",
      "  warnings.warn(\"No labelled objects found. \"\n"
     ]
    },
    {
     "name": "stdout",
     "output_type": "stream",
     "text": [
      "CHAF Channel :  g'5-g'4 Label :  MFG-PrG Bad shape :  (2560, 18) Good shape :  (2560, 18)\n",
      "Setting up low-pass filter at 10 Hz\n",
      "h_trans_bandwidth chosen to be 2.5 Hz\n",
      "Filter length of 1352 samples (2.641 sec) selected\n",
      "Setting up low-pass filter at 10 Hz\n",
      "h_trans_bandwidth chosen to be 2.5 Hz\n",
      "Filter length of 1352 samples (2.641 sec) selected\n",
      "Size of filtered data bad : (18, 2560) filtered data good :  (18, 2560)\n",
      "time points :  (2560,)\n",
      "Applying baseline correction (mode: mean)\n",
      "Applying baseline correction (mode: mean)\n",
      "Size norm & filtered data 0 :  (18, 2560) (18, 2560)\n",
      "-> Shape of bad data (18, 563) good data (18, 563)\n",
      "(18, 1000, 56) (18, 1000, 56)\n",
      "(1000, 56)\n",
      "[-1.819300883424068, 1.819300883424068] [-2.7258170494091751, 2.7258170494091751] [-4.7915939253032027, 4.7915939253032027]\n",
      "(56,) 3.22261525724 -1.30365168115\n",
      "Size of the concatenated data:  (36, 56) Number time windows :  56\n",
      "Size of label for classif:  36\n",
      "th_perm :  66.6666666667 72.2222222222 83.3333333333\n"
     ]
    },
    {
     "name": "stderr",
     "output_type": "stream",
     "text": [
      "/home/karim/anaconda3/lib/python3.5/site-packages/matplotlib/axes/_axes.py:545: UserWarning: No labelled objects found. Use label='...' kwarg on individual plots.\n",
      "  warnings.warn(\"No labelled objects found. \"\n"
     ]
    },
    {
     "name": "stdout",
     "output_type": "stream",
     "text": [
      "CHAF Channel :  g'6-g'5 Label :  MFG-PrG Bad shape :  (2560, 18) Good shape :  (2560, 18)\n",
      "Setting up low-pass filter at 10 Hz\n",
      "h_trans_bandwidth chosen to be 2.5 Hz\n",
      "Filter length of 1352 samples (2.641 sec) selected\n",
      "Setting up low-pass filter at 10 Hz\n",
      "h_trans_bandwidth chosen to be 2.5 Hz\n",
      "Filter length of 1352 samples (2.641 sec) selected\n",
      "Size of filtered data bad : (18, 2560) filtered data good :  (18, 2560)\n",
      "time points :  (2560,)\n",
      "Applying baseline correction (mode: mean)\n",
      "Applying baseline correction (mode: mean)\n",
      "Size norm & filtered data 0 :  (18, 2560) (18, 2560)\n",
      "-> Shape of bad data (18, 563) good data (18, 563)\n",
      "(18, 1000, 56) (18, 1000, 56)\n",
      "(1000, 56)\n",
      "[-1.9368069185993526, 1.9368069185993526] [-2.7369526899044736, 2.7369526899044736] [-4.1213505269192368, 4.1213505269192368]\n",
      "(56,) 2.71717590943 -2.04359167242\n",
      "Size of the concatenated data:  (36, 56) Number time windows :  56\n",
      "Size of label for classif:  36\n",
      "th_perm :  66.6666666667 72.2222222222 86.1111111111\n"
     ]
    },
    {
     "name": "stderr",
     "output_type": "stream",
     "text": [
      "/home/karim/anaconda3/lib/python3.5/site-packages/matplotlib/axes/_axes.py:545: UserWarning: No labelled objects found. Use label='...' kwarg on individual plots.\n",
      "  warnings.warn(\"No labelled objects found. \"\n"
     ]
    },
    {
     "name": "stdout",
     "output_type": "stream",
     "text": [
      "CHAF Channel :  g'7-g'6 Label :  MFG-PrG Bad shape :  (2560, 18) Good shape :  (2560, 18)\n",
      "Setting up low-pass filter at 10 Hz\n",
      "h_trans_bandwidth chosen to be 2.5 Hz\n",
      "Filter length of 1352 samples (2.641 sec) selected\n",
      "Setting up low-pass filter at 10 Hz\n",
      "h_trans_bandwidth chosen to be 2.5 Hz\n",
      "Filter length of 1352 samples (2.641 sec) selected\n",
      "Size of filtered data bad : (18, 2560) filtered data good :  (18, 2560)\n",
      "time points :  (2560,)\n",
      "Applying baseline correction (mode: mean)\n",
      "Applying baseline correction (mode: mean)\n",
      "Size norm & filtered data 0 :  (18, 2560) (18, 2560)\n",
      "-> Shape of bad data (18, 563) good data (18, 563)\n",
      "(18, 1000, 56) (18, 1000, 56)\n",
      "(1000, 56)\n",
      "[-1.8621652862586116, 1.8621652862586116] [-2.7581757489297729, 2.7581757489297729] [-4.5320951788736377, 4.5320951788736377]\n",
      "(56,) 1.48499408087 -1.82397373907\n",
      "Size of the concatenated data:  (36, 56) Number time windows :  56\n",
      "Size of label for classif:  36\n",
      "th_perm :  69.4444444444 72.2222222222 86.1111111111\n"
     ]
    },
    {
     "name": "stderr",
     "output_type": "stream",
     "text": [
      "/home/karim/anaconda3/lib/python3.5/site-packages/matplotlib/axes/_axes.py:545: UserWarning: No labelled objects found. Use label='...' kwarg on individual plots.\n",
      "  warnings.warn(\"No labelled objects found. \"\n"
     ]
    },
    {
     "name": "stdout",
     "output_type": "stream",
     "text": [
      "CHAF Channel :  g'10-g'9 Label :  MFG Bad shape :  (2560, 18) Good shape :  (2560, 18)\n",
      "Setting up low-pass filter at 10 Hz\n",
      "h_trans_bandwidth chosen to be 2.5 Hz\n",
      "Filter length of 1352 samples (2.641 sec) selected\n",
      "Setting up low-pass filter at 10 Hz\n",
      "h_trans_bandwidth chosen to be 2.5 Hz\n",
      "Filter length of 1352 samples (2.641 sec) selected\n",
      "Size of filtered data bad : (18, 2560) filtered data good :  (18, 2560)\n",
      "time points :  (2560,)\n",
      "Applying baseline correction (mode: mean)\n",
      "Applying baseline correction (mode: mean)\n",
      "Size norm & filtered data 0 :  (18, 2560) (18, 2560)\n",
      "-> Shape of bad data (18, 563) good data (18, 563)\n",
      "(18, 1000, 56) (18, 1000, 56)\n",
      "(1000, 56)\n",
      "[-1.7777597421285691, 1.7777597421285691] [-2.7251472919361404, 2.7251472919361404] [-4.9140811504253357, 4.9140811504253357]\n",
      "(56,) 1.4232101608 -2.7980152085\n",
      "Size of the concatenated data:  (36, 56) Number time windows :  56\n",
      "Size of label for classif:  36\n",
      "th_perm :  69.4444444444 75.0 86.1111111111\n"
     ]
    },
    {
     "name": "stderr",
     "output_type": "stream",
     "text": [
      "/home/karim/anaconda3/lib/python3.5/site-packages/matplotlib/axes/_axes.py:545: UserWarning: No labelled objects found. Use label='...' kwarg on individual plots.\n",
      "  warnings.warn(\"No labelled objects found. \"\n"
     ]
    },
    {
     "name": "stdout",
     "output_type": "stream",
     "text": [
      "CHAF Channel :  g'11-g'10 Label :  MFG Bad shape :  (2560, 18) Good shape :  (2560, 18)\n",
      "Setting up low-pass filter at 10 Hz\n",
      "h_trans_bandwidth chosen to be 2.5 Hz\n",
      "Filter length of 1352 samples (2.641 sec) selected\n",
      "Setting up low-pass filter at 10 Hz\n",
      "h_trans_bandwidth chosen to be 2.5 Hz\n",
      "Filter length of 1352 samples (2.641 sec) selected\n",
      "Size of filtered data bad : (18, 2560) filtered data good :  (18, 2560)\n",
      "time points :  (2560,)\n",
      "Applying baseline correction (mode: mean)\n",
      "Applying baseline correction (mode: mean)\n",
      "Size norm & filtered data 0 :  (18, 2560) (18, 2560)\n",
      "-> Shape of bad data (18, 563) good data (18, 563)\n",
      "(18, 1000, 56) (18, 1000, 56)\n",
      "(1000, 56)\n",
      "[-1.8852479195836103, 1.8852479195836103] [-2.7172218388021667, 2.7172218388021667] [-3.8206680141226896, 3.8206680141226896]\n",
      "(56,) 1.5402050399 -3.31759946871\n",
      "Size of the concatenated data:  (36, 56) Number time windows :  56\n",
      "Size of label for classif:  36\n",
      "th_perm :  66.6666666667 75.0 83.3333333333\n"
     ]
    },
    {
     "name": "stderr",
     "output_type": "stream",
     "text": [
      "/home/karim/anaconda3/lib/python3.5/site-packages/matplotlib/axes/_axes.py:545: UserWarning: No labelled objects found. Use label='...' kwarg on individual plots.\n",
      "  warnings.warn(\"No labelled objects found. \"\n"
     ]
    },
    {
     "name": "stdout",
     "output_type": "stream",
     "text": [
      "CHAF Channel :  g'12-g'11 Label :  LCR-MFG&MFG Bad shape :  (2560, 18) Good shape :  (2560, 18)\n",
      "Setting up low-pass filter at 10 Hz\n",
      "h_trans_bandwidth chosen to be 2.5 Hz\n",
      "Filter length of 1352 samples (2.641 sec) selected\n",
      "Setting up low-pass filter at 10 Hz\n",
      "h_trans_bandwidth chosen to be 2.5 Hz\n",
      "Filter length of 1352 samples (2.641 sec) selected\n",
      "Size of filtered data bad : (18, 2560) filtered data good :  (18, 2560)\n",
      "time points :  (2560,)\n",
      "Applying baseline correction (mode: mean)\n",
      "Applying baseline correction (mode: mean)\n",
      "Size norm & filtered data 0 :  (18, 2560) (18, 2560)\n",
      "-> Shape of bad data (18, 563) good data (18, 563)\n",
      "(18, 1000, 56) (18, 1000, 56)\n",
      "(1000, 56)\n",
      "[-1.8747442049620193, 1.8747442049620193] [-2.7275763419184038, 2.7275763419184038] [-4.1772303256136416, 4.1772303256136416]\n",
      "(56,) 1.78659155888 -1.52620687181\n",
      "Size of the concatenated data:  (36, 56) Number time windows :  56\n",
      "Size of label for classif:  36\n",
      "th_perm :  69.4444444444 72.2222222222 83.3333333333\n"
     ]
    },
    {
     "name": "stderr",
     "output_type": "stream",
     "text": [
      "/home/karim/anaconda3/lib/python3.5/site-packages/matplotlib/axes/_axes.py:545: UserWarning: No labelled objects found. Use label='...' kwarg on individual plots.\n",
      "  warnings.warn(\"No labelled objects found. \"\n"
     ]
    },
    {
     "name": "stdout",
     "output_type": "stream",
     "text": [
      "CHAF Channel :  h'5-h'4 Label :  MFG Bad shape :  (2560, 18) Good shape :  (2560, 18)\n",
      "Setting up low-pass filter at 10 Hz\n",
      "h_trans_bandwidth chosen to be 2.5 Hz\n",
      "Filter length of 1352 samples (2.641 sec) selected\n",
      "Setting up low-pass filter at 10 Hz\n",
      "h_trans_bandwidth chosen to be 2.5 Hz\n",
      "Filter length of 1352 samples (2.641 sec) selected\n",
      "Size of filtered data bad : (18, 2560) filtered data good :  (18, 2560)\n",
      "time points :  (2560,)\n",
      "Applying baseline correction (mode: mean)\n",
      "Applying baseline correction (mode: mean)\n",
      "Size norm & filtered data 0 :  (18, 2560) (18, 2560)\n",
      "-> Shape of bad data (18, 563) good data (18, 563)\n",
      "(18, 1000, 56) (18, 1000, 56)\n",
      "(1000, 56)\n",
      "[-1.8448429834713886, 1.8448429834713886] [-2.6808389823541527, 2.6808389823541527] [-5.1733804763476998, 5.1733804763476998]\n",
      "(56,) 2.00351779292 -0.865182482717\n",
      "Size of the concatenated data:  (36, 56) Number time windows :  56\n",
      "Size of label for classif:  36\n",
      "th_perm :  66.6666666667 75.0 83.3333333333\n"
     ]
    },
    {
     "name": "stderr",
     "output_type": "stream",
     "text": [
      "/home/karim/anaconda3/lib/python3.5/site-packages/matplotlib/axes/_axes.py:545: UserWarning: No labelled objects found. Use label='...' kwarg on individual plots.\n",
      "  warnings.warn(\"No labelled objects found. \"\n"
     ]
    },
    {
     "name": "stdout",
     "output_type": "stream",
     "text": [
      "CHAF Channel :  h'6-h'5 Label :  MFG Bad shape :  (2560, 18) Good shape :  (2560, 18)\n",
      "Setting up low-pass filter at 10 Hz\n",
      "h_trans_bandwidth chosen to be 2.5 Hz\n",
      "Filter length of 1352 samples (2.641 sec) selected\n",
      "Setting up low-pass filter at 10 Hz\n",
      "h_trans_bandwidth chosen to be 2.5 Hz\n",
      "Filter length of 1352 samples (2.641 sec) selected\n",
      "Size of filtered data bad : (18, 2560) filtered data good :  (18, 2560)\n",
      "time points :  (2560,)\n",
      "Applying baseline correction (mode: mean)\n",
      "Applying baseline correction (mode: mean)\n",
      "Size norm & filtered data 0 :  (18, 2560) (18, 2560)\n",
      "-> Shape of bad data (18, 563) good data (18, 563)\n",
      "(18, 1000, 56) (18, 1000, 56)\n",
      "(1000, 56)\n",
      "[-1.9214482306126039, 1.9214482306126039] [-2.7891193518830231, 2.7891193518830231] [-5.0559073767107234, 5.0559073767107234]\n",
      "(56,) 3.18961490283 -0.985315235882\n",
      "Size of the concatenated data:  (36, 56) Number time windows :  56\n",
      "Size of label for classif:  36\n",
      "th_perm :  66.6666666667 72.2222222222 86.1111111111\n"
     ]
    },
    {
     "name": "stderr",
     "output_type": "stream",
     "text": [
      "/home/karim/anaconda3/lib/python3.5/site-packages/matplotlib/axes/_axes.py:545: UserWarning: No labelled objects found. Use label='...' kwarg on individual plots.\n",
      "  warnings.warn(\"No labelled objects found. \"\n"
     ]
    },
    {
     "name": "stdout",
     "output_type": "stream",
     "text": [
      "CHAF Channel :  h'7-h'6 Label :  MFG Bad shape :  (2560, 18) Good shape :  (2560, 18)\n",
      "Setting up low-pass filter at 10 Hz\n",
      "h_trans_bandwidth chosen to be 2.5 Hz\n",
      "Filter length of 1352 samples (2.641 sec) selected\n",
      "Setting up low-pass filter at 10 Hz\n",
      "h_trans_bandwidth chosen to be 2.5 Hz\n",
      "Filter length of 1352 samples (2.641 sec) selected\n",
      "Size of filtered data bad : (18, 2560) filtered data good :  (18, 2560)\n",
      "time points :  (2560,)\n",
      "Applying baseline correction (mode: mean)\n",
      "Applying baseline correction (mode: mean)\n",
      "Size norm & filtered data 0 :  (18, 2560) (18, 2560)\n",
      "-> Shape of bad data (18, 563) good data (18, 563)\n",
      "(18, 1000, 56) (18, 1000, 56)\n",
      "(1000, 56)\n",
      "[-1.8258327315752196, 1.8258327315752196] [-2.8057108155615906, 2.8057108155615906] [-4.3470245163048009, 4.3470245163048009]\n",
      "(56,) 2.89242892415 -1.11866453231\n",
      "Size of the concatenated data:  (36, 56) Number time windows :  56\n",
      "Size of label for classif:  36\n",
      "th_perm :  66.6666666667 75.0 83.3333333333\n"
     ]
    },
    {
     "name": "stderr",
     "output_type": "stream",
     "text": [
      "/home/karim/anaconda3/lib/python3.5/site-packages/matplotlib/axes/_axes.py:545: UserWarning: No labelled objects found. Use label='...' kwarg on individual plots.\n",
      "  warnings.warn(\"No labelled objects found. \"\n"
     ]
    },
    {
     "name": "stdout",
     "output_type": "stream",
     "text": [
      "CHAF Channel :  h'8-h'7 Label :  MFG Bad shape :  (2560, 18) Good shape :  (2560, 18)\n",
      "Setting up low-pass filter at 10 Hz\n",
      "h_trans_bandwidth chosen to be 2.5 Hz\n",
      "Filter length of 1352 samples (2.641 sec) selected\n",
      "Setting up low-pass filter at 10 Hz\n",
      "h_trans_bandwidth chosen to be 2.5 Hz\n",
      "Filter length of 1352 samples (2.641 sec) selected\n",
      "Size of filtered data bad : (18, 2560) filtered data good :  (18, 2560)\n",
      "time points :  (2560,)\n",
      "Applying baseline correction (mode: mean)\n",
      "Applying baseline correction (mode: mean)\n",
      "Size norm & filtered data 0 :  (18, 2560) (18, 2560)\n",
      "-> Shape of bad data (18, 563) good data (18, 563)\n",
      "(18, 1000, 56) (18, 1000, 56)\n",
      "(1000, 56)\n",
      "[-1.8128711031742446, 1.8128711031742446] [-2.8134602856935955, 2.8134602856935955] [-3.9814067197018397, 3.9814067197018397]\n",
      "(56,) 4.34059383494 -2.38189711764\n",
      "Size of the concatenated data:  (36, 56) Number time windows :  56\n",
      "Size of label for classif:  36\n",
      "th_perm :  66.6666666667 72.2222222222 86.1111111111\n"
     ]
    },
    {
     "name": "stderr",
     "output_type": "stream",
     "text": [
      "/home/karim/anaconda3/lib/python3.5/site-packages/matplotlib/axes/_axes.py:545: UserWarning: No labelled objects found. Use label='...' kwarg on individual plots.\n",
      "  warnings.warn(\"No labelled objects found. \"\n"
     ]
    },
    {
     "name": "stdout",
     "output_type": "stream",
     "text": [
      "CHAF Channel :  h'9-h'8 Label :  MFG Bad shape :  (2560, 18) Good shape :  (2560, 18)\n",
      "Setting up low-pass filter at 10 Hz\n",
      "h_trans_bandwidth chosen to be 2.5 Hz\n",
      "Filter length of 1352 samples (2.641 sec) selected\n",
      "Setting up low-pass filter at 10 Hz\n",
      "h_trans_bandwidth chosen to be 2.5 Hz\n",
      "Filter length of 1352 samples (2.641 sec) selected\n",
      "Size of filtered data bad : (18, 2560) filtered data good :  (18, 2560)\n",
      "time points :  (2560,)\n",
      "Applying baseline correction (mode: mean)\n",
      "Applying baseline correction (mode: mean)\n",
      "Size norm & filtered data 0 :  (18, 2560) (18, 2560)\n",
      "-> Shape of bad data (18, 563) good data (18, 563)\n",
      "(18, 1000, 56) (18, 1000, 56)\n",
      "(1000, 56)\n",
      "[-1.8574425638388594, 1.8574425638388594] [-2.6482672369697404, 2.6482672369697404] [-4.1102156896825344, 4.1102156896825344]\n",
      "(56,) 2.18446645834 -4.27903764559\n",
      "Size of the concatenated data:  (36, 56) Number time windows :  56\n",
      "Size of label for classif:  36\n",
      "th_perm :  66.6666666667 72.2222222222 83.3333333333\n"
     ]
    },
    {
     "name": "stderr",
     "output_type": "stream",
     "text": [
      "/home/karim/anaconda3/lib/python3.5/site-packages/matplotlib/axes/_axes.py:545: UserWarning: No labelled objects found. Use label='...' kwarg on individual plots.\n",
      "  warnings.warn(\"No labelled objects found. \"\n"
     ]
    },
    {
     "name": "stdout",
     "output_type": "stream",
     "text": [
      "CHAF Channel :  h'10-h'9 Label :  LCR-MFG&MFG Bad shape :  (2560, 18) Good shape :  (2560, 18)\n",
      "Setting up low-pass filter at 10 Hz\n",
      "h_trans_bandwidth chosen to be 2.5 Hz\n",
      "Filter length of 1352 samples (2.641 sec) selected\n",
      "Setting up low-pass filter at 10 Hz\n",
      "h_trans_bandwidth chosen to be 2.5 Hz\n",
      "Filter length of 1352 samples (2.641 sec) selected\n",
      "Size of filtered data bad : (18, 2560) filtered data good :  (18, 2560)\n",
      "time points :  (2560,)\n",
      "Applying baseline correction (mode: mean)\n",
      "Applying baseline correction (mode: mean)\n",
      "Size norm & filtered data 0 :  (18, 2560) (18, 2560)\n",
      "-> Shape of bad data (18, 563) good data (18, 563)\n",
      "(18, 1000, 56) (18, 1000, 56)\n",
      "(1000, 56)\n",
      "[-1.789915620194994, 1.789915620194994] [-2.5742581339652428, 2.5742581339652428] [-4.3424206506266794, 4.3424206506266794]\n",
      "(56,) 1.83386757085 -3.01357813611\n",
      "Size of the concatenated data:  (36, 56) Number time windows :  56\n",
      "Size of label for classif:  36\n",
      "th_perm :  66.6666666667 72.2222222222 88.8888888889\n"
     ]
    },
    {
     "name": "stderr",
     "output_type": "stream",
     "text": [
      "/home/karim/anaconda3/lib/python3.5/site-packages/matplotlib/axes/_axes.py:545: UserWarning: No labelled objects found. Use label='...' kwarg on individual plots.\n",
      "  warnings.warn(\"No labelled objects found. \"\n"
     ]
    },
    {
     "name": "stdout",
     "output_type": "stream",
     "text": [
      "CHAF Channel :  i'2-i'1 Label :  MOrG-POrG Bad shape :  (2560, 18) Good shape :  (2560, 18)\n",
      "Setting up low-pass filter at 10 Hz\n",
      "h_trans_bandwidth chosen to be 2.5 Hz\n",
      "Filter length of 1352 samples (2.641 sec) selected\n",
      "Setting up low-pass filter at 10 Hz\n",
      "h_trans_bandwidth chosen to be 2.5 Hz\n",
      "Filter length of 1352 samples (2.641 sec) selected\n",
      "Size of filtered data bad : (18, 2560) filtered data good :  (18, 2560)\n",
      "time points :  (2560,)\n",
      "Applying baseline correction (mode: mean)\n",
      "Applying baseline correction (mode: mean)\n",
      "Size norm & filtered data 0 :  (18, 2560) (18, 2560)\n",
      "-> Shape of bad data (18, 563) good data (18, 563)\n",
      "(18, 1000, 56) (18, 1000, 56)\n",
      "(1000, 56)\n",
      "[-1.8149037685669165, 1.8149037685669165] [-2.658578628940933, 2.658578628940933] [-3.9502227772961529, 3.9502227772961529]\n",
      "(56,) 3.37251827452 -2.94114539956\n",
      "Size of the concatenated data:  (36, 56) Number time windows :  56\n",
      "Size of label for classif:  36\n",
      "th_perm :  66.6666666667 72.2222222222 83.3333333333\n"
     ]
    },
    {
     "name": "stderr",
     "output_type": "stream",
     "text": [
      "/home/karim/anaconda3/lib/python3.5/site-packages/matplotlib/axes/_axes.py:545: UserWarning: No labelled objects found. Use label='...' kwarg on individual plots.\n",
      "  warnings.warn(\"No labelled objects found. \"\n"
     ]
    },
    {
     "name": "stdout",
     "output_type": "stream",
     "text": [
      "CHAF Channel :  i'3-i'2 Label :  POrG&MOrG-POrG Bad shape :  (2560, 18) Good shape :  (2560, 18)\n",
      "Setting up low-pass filter at 10 Hz\n",
      "h_trans_bandwidth chosen to be 2.5 Hz\n",
      "Filter length of 1352 samples (2.641 sec) selected\n",
      "Setting up low-pass filter at 10 Hz\n",
      "h_trans_bandwidth chosen to be 2.5 Hz\n",
      "Filter length of 1352 samples (2.641 sec) selected\n",
      "Size of filtered data bad : (18, 2560) filtered data good :  (18, 2560)\n",
      "time points :  (2560,)\n",
      "Applying baseline correction (mode: mean)\n",
      "Applying baseline correction (mode: mean)\n",
      "Size norm & filtered data 0 :  (18, 2560) (18, 2560)\n",
      "-> Shape of bad data (18, 563) good data (18, 563)\n",
      "(18, 1000, 56) (18, 1000, 56)\n",
      "(1000, 56)\n",
      "[-1.8658421527898534, 1.8658421527898534] [-2.7423703620147637, 2.7423703620147637] [-4.3492624858308711, 4.3492624858308711]\n",
      "(56,) 2.8394585432 -3.26205286792\n",
      "Size of the concatenated data:  (36, 56) Number time windows :  56\n",
      "Size of label for classif:  36\n",
      "th_perm :  69.4444444444 72.2222222222 86.1111111111\n"
     ]
    },
    {
     "name": "stderr",
     "output_type": "stream",
     "text": [
      "/home/karim/anaconda3/lib/python3.5/site-packages/matplotlib/axes/_axes.py:545: UserWarning: No labelled objects found. Use label='...' kwarg on individual plots.\n",
      "  warnings.warn(\"No labelled objects found. \"\n"
     ]
    },
    {
     "name": "stdout",
     "output_type": "stream",
     "text": [
      "CHAF Channel :  i'4-i'3 Label :  POrG-LOrG&POrG Bad shape :  (2560, 18) Good shape :  (2560, 18)\n",
      "Setting up low-pass filter at 10 Hz\n",
      "h_trans_bandwidth chosen to be 2.5 Hz\n",
      "Filter length of 1352 samples (2.641 sec) selected\n",
      "Setting up low-pass filter at 10 Hz\n",
      "h_trans_bandwidth chosen to be 2.5 Hz\n",
      "Filter length of 1352 samples (2.641 sec) selected\n",
      "Size of filtered data bad : (18, 2560) filtered data good :  (18, 2560)\n",
      "time points :  (2560,)\n",
      "Applying baseline correction (mode: mean)\n",
      "Applying baseline correction (mode: mean)\n",
      "Size norm & filtered data 0 :  (18, 2560) (18, 2560)\n",
      "-> Shape of bad data (18, 563) good data (18, 563)\n",
      "(18, 1000, 56) (18, 1000, 56)\n",
      "(1000, 56)\n",
      "[-1.9100219264470442, 1.9100219264470442] [-2.6734240654714925, 2.6734240654714925] [-5.0328008293717366, 5.0328008293717366]\n",
      "(56,) 1.76724621061 -1.81477846681\n",
      "Size of the concatenated data:  (36, 56) Number time windows :  56\n",
      "Size of label for classif:  36\n",
      "th_perm :  66.6666666667 72.2222222222 86.1111111111\n"
     ]
    },
    {
     "name": "stderr",
     "output_type": "stream",
     "text": [
      "/home/karim/anaconda3/lib/python3.5/site-packages/matplotlib/axes/_axes.py:545: UserWarning: No labelled objects found. Use label='...' kwarg on individual plots.\n",
      "  warnings.warn(\"No labelled objects found. \"\n"
     ]
    },
    {
     "name": "stdout",
     "output_type": "stream",
     "text": [
      "CHAF Channel :  i'9-i'8 Label :  SFGL&MFG-SFGL Bad shape :  (2560, 18) Good shape :  (2560, 18)\n",
      "Setting up low-pass filter at 10 Hz\n",
      "h_trans_bandwidth chosen to be 2.5 Hz\n",
      "Filter length of 1352 samples (2.641 sec) selected\n",
      "Setting up low-pass filter at 10 Hz\n",
      "h_trans_bandwidth chosen to be 2.5 Hz\n",
      "Filter length of 1352 samples (2.641 sec) selected\n",
      "Size of filtered data bad : (18, 2560) filtered data good :  (18, 2560)\n",
      "time points :  (2560,)\n",
      "Applying baseline correction (mode: mean)\n",
      "Applying baseline correction (mode: mean)\n",
      "Size norm & filtered data 0 :  (18, 2560) (18, 2560)\n",
      "-> Shape of bad data (18, 563) good data (18, 563)\n",
      "(18, 1000, 56) (18, 1000, 56)\n",
      "(1000, 56)\n",
      "[-1.8353167918637971, 1.8353167918637971] [-2.7364958862297168, 2.7364958862297168] [-4.915002330381367, 4.915002330381367]\n",
      "(56,) 1.32160114505 -2.37792977362\n",
      "Size of the concatenated data:  (36, 56) Number time windows :  56\n",
      "Size of label for classif:  36\n",
      "th_perm :  66.6666666667 75.0 86.1111111111\n"
     ]
    },
    {
     "name": "stderr",
     "output_type": "stream",
     "text": [
      "/home/karim/anaconda3/lib/python3.5/site-packages/matplotlib/axes/_axes.py:545: UserWarning: No labelled objects found. Use label='...' kwarg on individual plots.\n",
      "  warnings.warn(\"No labelled objects found. \"\n"
     ]
    },
    {
     "name": "stdout",
     "output_type": "stream",
     "text": [
      "CHAF Channel :  i'10-i'9 Label :  SFGL Bad shape :  (2560, 18) Good shape :  (2560, 18)\n",
      "Setting up low-pass filter at 10 Hz\n",
      "h_trans_bandwidth chosen to be 2.5 Hz\n",
      "Filter length of 1352 samples (2.641 sec) selected\n",
      "Setting up low-pass filter at 10 Hz\n",
      "h_trans_bandwidth chosen to be 2.5 Hz\n",
      "Filter length of 1352 samples (2.641 sec) selected\n",
      "Size of filtered data bad : (18, 2560) filtered data good :  (18, 2560)\n",
      "time points :  (2560,)\n",
      "Applying baseline correction (mode: mean)\n",
      "Applying baseline correction (mode: mean)\n",
      "Size norm & filtered data 0 :  (18, 2560) (18, 2560)\n",
      "-> Shape of bad data (18, 563) good data (18, 563)\n",
      "(18, 1000, 56) (18, 1000, 56)\n",
      "(1000, 56)\n",
      "[-1.8012497788348956, 1.8012497788348956] [-2.7941345980328323, 2.7941345980328323] [-4.2337880839565782, 4.2337880839565782]\n",
      "(56,) 1.88158628486 -1.61081246977\n",
      "Size of the concatenated data:  (36, 56) Number time windows :  56\n",
      "Size of label for classif:  36\n",
      "th_perm :  66.6666666667 75.0 83.3333333333\n"
     ]
    },
    {
     "name": "stderr",
     "output_type": "stream",
     "text": [
      "/home/karim/anaconda3/lib/python3.5/site-packages/matplotlib/axes/_axes.py:545: UserWarning: No labelled objects found. Use label='...' kwarg on individual plots.\n",
      "  warnings.warn(\"No labelled objects found. \"\n"
     ]
    },
    {
     "name": "stdout",
     "output_type": "stream",
     "text": [
      "CHAF Channel :  i'11-i'10 Label :  SFGL Bad shape :  (2560, 18) Good shape :  (2560, 18)\n",
      "Setting up low-pass filter at 10 Hz\n",
      "h_trans_bandwidth chosen to be 2.5 Hz\n",
      "Filter length of 1352 samples (2.641 sec) selected\n",
      "Setting up low-pass filter at 10 Hz\n",
      "h_trans_bandwidth chosen to be 2.5 Hz\n",
      "Filter length of 1352 samples (2.641 sec) selected\n",
      "Size of filtered data bad : (18, 2560) filtered data good :  (18, 2560)\n",
      "time points :  (2560,)\n",
      "Applying baseline correction (mode: mean)\n",
      "Applying baseline correction (mode: mean)\n",
      "Size norm & filtered data 0 :  (18, 2560) (18, 2560)\n",
      "-> Shape of bad data (18, 563) good data (18, 563)\n",
      "(18, 1000, 56) (18, 1000, 56)\n",
      "(1000, 56)\n",
      "[-1.8494858977455286, 1.8494858977455286] [-2.9083736186317939, 2.9083736186317939] [-5.1166737023272377, 5.1166737023272377]\n",
      "(56,) 1.98999623004 -0.904662008468\n",
      "Size of the concatenated data:  (36, 56) Number time windows :  56\n",
      "Size of label for classif:  36\n",
      "th_perm :  69.4444444444 75.0 80.5555555556\n"
     ]
    },
    {
     "name": "stderr",
     "output_type": "stream",
     "text": [
      "/home/karim/anaconda3/lib/python3.5/site-packages/matplotlib/axes/_axes.py:545: UserWarning: No labelled objects found. Use label='...' kwarg on individual plots.\n",
      "  warnings.warn(\"No labelled objects found. \"\n"
     ]
    },
    {
     "name": "stdout",
     "output_type": "stream",
     "text": [
      "CHAF Channel :  i'12-i'11 Label :  SFGL Bad shape :  (2560, 18) Good shape :  (2560, 18)\n",
      "Setting up low-pass filter at 10 Hz\n",
      "h_trans_bandwidth chosen to be 2.5 Hz\n",
      "Filter length of 1352 samples (2.641 sec) selected\n",
      "Setting up low-pass filter at 10 Hz\n",
      "h_trans_bandwidth chosen to be 2.5 Hz\n",
      "Filter length of 1352 samples (2.641 sec) selected\n",
      "Size of filtered data bad : (18, 2560) filtered data good :  (18, 2560)\n",
      "time points :  (2560,)\n",
      "Applying baseline correction (mode: mean)\n",
      "Applying baseline correction (mode: mean)\n",
      "Size norm & filtered data 0 :  (18, 2560) (18, 2560)\n",
      "-> Shape of bad data (18, 563) good data (18, 563)\n",
      "(18, 1000, 56) (18, 1000, 56)\n",
      "(1000, 56)\n",
      "[-1.8074330717630227, 1.8074330717630227] [-2.7580147695540789, 2.7580147695540789] [-5.3906423308909233, 5.3906423308909233]\n",
      "(56,) 1.53760409159 -0.997297708442\n",
      "Size of the concatenated data:  (36, 56) Number time windows :  56\n",
      "Size of label for classif:  36\n",
      "th_perm :  69.4444444444 75.0 86.1111111111\n"
     ]
    },
    {
     "name": "stderr",
     "output_type": "stream",
     "text": [
      "/home/karim/anaconda3/lib/python3.5/site-packages/matplotlib/axes/_axes.py:545: UserWarning: No labelled objects found. Use label='...' kwarg on individual plots.\n",
      "  warnings.warn(\"No labelled objects found. \"\n"
     ]
    },
    {
     "name": "stdout",
     "output_type": "stream",
     "text": [
      "CHAF Channel :  i'13-i'12 Label :  SFGL Bad shape :  (2560, 18) Good shape :  (2560, 18)\n",
      "Setting up low-pass filter at 10 Hz\n",
      "h_trans_bandwidth chosen to be 2.5 Hz\n",
      "Filter length of 1352 samples (2.641 sec) selected\n",
      "Setting up low-pass filter at 10 Hz\n",
      "h_trans_bandwidth chosen to be 2.5 Hz\n",
      "Filter length of 1352 samples (2.641 sec) selected\n",
      "Size of filtered data bad : (18, 2560) filtered data good :  (18, 2560)\n",
      "time points :  (2560,)\n",
      "Applying baseline correction (mode: mean)\n",
      "Applying baseline correction (mode: mean)\n",
      "Size norm & filtered data 0 :  (18, 2560) (18, 2560)\n",
      "-> Shape of bad data (18, 563) good data (18, 563)\n",
      "(18, 1000, 56) (18, 1000, 56)\n",
      "(1000, 56)\n",
      "[-1.8956363909039586, 1.8956363909039586] [-2.7069485499249817, 2.7069485499249817] [-4.6311469173915514, 4.6311469173915514]\n",
      "(56,) 1.09883621497 -2.50347815028\n",
      "Size of the concatenated data:  (36, 56) Number time windows :  56\n",
      "Size of label for classif:  36\n",
      "th_perm :  66.6666666667 72.2222222222 86.1111111111\n"
     ]
    },
    {
     "name": "stderr",
     "output_type": "stream",
     "text": [
      "/home/karim/anaconda3/lib/python3.5/site-packages/matplotlib/axes/_axes.py:545: UserWarning: No labelled objects found. Use label='...' kwarg on individual plots.\n",
      "  warnings.warn(\"No labelled objects found. \"\n"
     ]
    },
    {
     "name": "stdout",
     "output_type": "stream",
     "text": [
      "CHAF Channel :  i'14-i'13 Label :  SFGL Bad shape :  (2560, 18) Good shape :  (2560, 18)\n",
      "Setting up low-pass filter at 10 Hz\n",
      "h_trans_bandwidth chosen to be 2.5 Hz\n",
      "Filter length of 1352 samples (2.641 sec) selected\n",
      "Setting up low-pass filter at 10 Hz\n",
      "h_trans_bandwidth chosen to be 2.5 Hz\n",
      "Filter length of 1352 samples (2.641 sec) selected\n",
      "Size of filtered data bad : (18, 2560) filtered data good :  (18, 2560)\n",
      "time points :  (2560,)\n",
      "Applying baseline correction (mode: mean)\n",
      "Applying baseline correction (mode: mean)\n",
      "Size norm & filtered data 0 :  (18, 2560) (18, 2560)\n",
      "-> Shape of bad data (18, 563) good data (18, 563)\n",
      "(18, 1000, 56) (18, 1000, 56)\n",
      "(1000, 56)\n",
      "[-1.8176807054476454, 1.8176807054476454] [-2.8593441650977289, 2.8593441650977289] [-5.1910879250976683, 5.1910879250976683]\n",
      "(56,) 1.51684829184 -2.03909097716\n",
      "Size of the concatenated data:  (36, 56) Number time windows :  56\n",
      "Size of label for classif:  36\n",
      "th_perm :  69.4444444444 75.0 86.1111111111\n"
     ]
    },
    {
     "name": "stderr",
     "output_type": "stream",
     "text": [
      "/home/karim/anaconda3/lib/python3.5/site-packages/matplotlib/axes/_axes.py:545: UserWarning: No labelled objects found. Use label='...' kwarg on individual plots.\n",
      "  warnings.warn(\"No labelled objects found. \"\n"
     ]
    },
    {
     "name": "stdout",
     "output_type": "stream",
     "text": [
      "CHAF Channel :  i'15-i'14 Label :  SFGL Bad shape :  (2560, 18) Good shape :  (2560, 18)\n",
      "Setting up low-pass filter at 10 Hz\n",
      "h_trans_bandwidth chosen to be 2.5 Hz\n",
      "Filter length of 1352 samples (2.641 sec) selected\n",
      "Setting up low-pass filter at 10 Hz\n",
      "h_trans_bandwidth chosen to be 2.5 Hz\n",
      "Filter length of 1352 samples (2.641 sec) selected\n",
      "Size of filtered data bad : (18, 2560) filtered data good :  (18, 2560)\n",
      "time points :  (2560,)\n",
      "Applying baseline correction (mode: mean)\n",
      "Applying baseline correction (mode: mean)\n",
      "Size norm & filtered data 0 :  (18, 2560) (18, 2560)\n",
      "-> Shape of bad data (18, 563) good data (18, 563)\n",
      "(18, 1000, 56) (18, 1000, 56)\n",
      "(1000, 56)\n",
      "[-1.9033660977506663, 1.9033660977506663] [-2.9417849718513791, 2.9417849718513791] [-5.2886153747520668, 5.2886153747520668]\n",
      "(56,) 2.25283052526 -0.637231324527\n",
      "Size of the concatenated data:  (36, 56) Number time windows :  56\n",
      "Size of label for classif:  36\n",
      "th_perm :  66.6666666667 72.2222222222 86.1111111111\n"
     ]
    },
    {
     "name": "stderr",
     "output_type": "stream",
     "text": [
      "/home/karim/anaconda3/lib/python3.5/site-packages/matplotlib/axes/_axes.py:545: UserWarning: No labelled objects found. Use label='...' kwarg on individual plots.\n",
      "  warnings.warn(\"No labelled objects found. \"\n"
     ]
    },
    {
     "name": "stdout",
     "output_type": "stream",
     "text": [
      "CHAF Channel :  j'2-j'1 Label :  Cd Bad shape :  (2560, 18) Good shape :  (2560, 18)\n",
      "Setting up low-pass filter at 10 Hz\n",
      "h_trans_bandwidth chosen to be 2.5 Hz\n",
      "Filter length of 1352 samples (2.641 sec) selected\n",
      "Setting up low-pass filter at 10 Hz\n",
      "h_trans_bandwidth chosen to be 2.5 Hz\n",
      "Filter length of 1352 samples (2.641 sec) selected\n",
      "Size of filtered data bad : (18, 2560) filtered data good :  (18, 2560)\n",
      "time points :  (2560,)\n",
      "Applying baseline correction (mode: mean)\n",
      "Applying baseline correction (mode: mean)\n",
      "Size norm & filtered data 0 :  (18, 2560) (18, 2560)\n",
      "-> Shape of bad data (18, 563) good data (18, 563)\n",
      "(18, 1000, 56) (18, 1000, 56)\n",
      "(1000, 56)\n",
      "[-1.7974906120844141, 1.7974906120844141] [-2.6595753967346831, 2.6595753967346831] [-4.4110603378119011, 4.4110603378119011]\n",
      "(56,) 1.79627996076 -1.20396791768\n",
      "Size of the concatenated data:  (36, 56) Number time windows :  56\n",
      "Size of label for classif:  36\n",
      "th_perm :  66.6666666667 72.2222222222 86.1111111111\n"
     ]
    },
    {
     "name": "stderr",
     "output_type": "stream",
     "text": [
      "/home/karim/anaconda3/lib/python3.5/site-packages/matplotlib/axes/_axes.py:545: UserWarning: No labelled objects found. Use label='...' kwarg on individual plots.\n",
      "  warnings.warn(\"No labelled objects found. \"\n"
     ]
    },
    {
     "name": "stdout",
     "output_type": "stream",
     "text": [
      "CHAF Channel :  j'3-j'2 Label :  Cd Bad shape :  (2560, 18) Good shape :  (2560, 18)\n",
      "Setting up low-pass filter at 10 Hz\n",
      "h_trans_bandwidth chosen to be 2.5 Hz\n",
      "Filter length of 1352 samples (2.641 sec) selected\n",
      "Setting up low-pass filter at 10 Hz\n",
      "h_trans_bandwidth chosen to be 2.5 Hz\n",
      "Filter length of 1352 samples (2.641 sec) selected\n",
      "Size of filtered data bad : (18, 2560) filtered data good :  (18, 2560)\n",
      "time points :  (2560,)\n",
      "Applying baseline correction (mode: mean)\n",
      "Applying baseline correction (mode: mean)\n",
      "Size norm & filtered data 0 :  (18, 2560) (18, 2560)\n",
      "-> Shape of bad data (18, 563) good data (18, 563)\n",
      "(18, 1000, 56) (18, 1000, 56)\n",
      "(1000, 56)\n",
      "[-1.8515353291895402, 1.8515353291895402] [-2.6130352502208121, 2.6130352502208121] [-4.4042769192211475, 4.4042769192211475]\n",
      "(56,) 0.754541529137 -2.34933575536\n",
      "Size of the concatenated data:  (36, 56) Number time windows :  56\n",
      "Size of label for classif:  36\n",
      "th_perm :  66.6666666667 72.2222222222 83.3333333333\n"
     ]
    },
    {
     "name": "stderr",
     "output_type": "stream",
     "text": [
      "/home/karim/anaconda3/lib/python3.5/site-packages/matplotlib/axes/_axes.py:545: UserWarning: No labelled objects found. Use label='...' kwarg on individual plots.\n",
      "  warnings.warn(\"No labelled objects found. \"\n"
     ]
    },
    {
     "name": "stdout",
     "output_type": "stream",
     "text": [
      "CHAF Channel :  j'14-j'13 Label :  MFG Bad shape :  (2560, 18) Good shape :  (2560, 18)\n",
      "Setting up low-pass filter at 10 Hz\n",
      "h_trans_bandwidth chosen to be 2.5 Hz\n",
      "Filter length of 1352 samples (2.641 sec) selected\n",
      "Setting up low-pass filter at 10 Hz\n",
      "h_trans_bandwidth chosen to be 2.5 Hz\n",
      "Filter length of 1352 samples (2.641 sec) selected\n",
      "Size of filtered data bad : (18, 2560) filtered data good :  (18, 2560)\n",
      "time points :  (2560,)\n",
      "Applying baseline correction (mode: mean)\n",
      "Applying baseline correction (mode: mean)\n",
      "Size norm & filtered data 0 :  (18, 2560) (18, 2560)\n",
      "-> Shape of bad data (18, 563) good data (18, 563)\n",
      "(18, 1000, 56) (18, 1000, 56)\n",
      "(1000, 56)\n",
      "[-1.8508306630028419, 1.8508306630028419] [-2.8656601018547292, 2.8656601018547292] [-4.5479004897735145, 4.5479004897735145]\n",
      "(56,) 0.302174495999 -3.48133168542\n",
      "Size of the concatenated data:  (36, 56) Number time windows :  56\n",
      "Size of label for classif:  36\n",
      "th_perm :  66.6666666667 75.0 83.3333333333\n"
     ]
    },
    {
     "name": "stderr",
     "output_type": "stream",
     "text": [
      "/home/karim/anaconda3/lib/python3.5/site-packages/matplotlib/axes/_axes.py:545: UserWarning: No labelled objects found. Use label='...' kwarg on individual plots.\n",
      "  warnings.warn(\"No labelled objects found. \"\n"
     ]
    },
    {
     "name": "stdout",
     "output_type": "stream",
     "text": [
      "CHAF Channel :  j'15-j'14 Label :  MFPG&MFG Bad shape :  (2560, 18) Good shape :  (2560, 18)\n",
      "Setting up low-pass filter at 10 Hz\n",
      "h_trans_bandwidth chosen to be 2.5 Hz\n",
      "Filter length of 1352 samples (2.641 sec) selected\n",
      "Setting up low-pass filter at 10 Hz\n",
      "h_trans_bandwidth chosen to be 2.5 Hz\n",
      "Filter length of 1352 samples (2.641 sec) selected\n",
      "Size of filtered data bad : (18, 2560) filtered data good :  (18, 2560)\n",
      "time points :  (2560,)\n",
      "Applying baseline correction (mode: mean)\n",
      "Applying baseline correction (mode: mean)\n",
      "Size norm & filtered data 0 :  (18, 2560) (18, 2560)\n",
      "-> Shape of bad data (18, 563) good data (18, 563)\n",
      "(18, 1000, 56) (18, 1000, 56)\n",
      "(1000, 56)\n",
      "[-1.8703128825664856, 1.8703128825664856] [-2.8569356558561116, 2.8569356558561116] [-5.9420915781130947, 5.9420915781130947]\n",
      "(56,) 3.01038151157 -1.36403983012\n",
      "Size of the concatenated data:  (36, 56) Number time windows :  56\n",
      "Size of label for classif:  36\n",
      "th_perm :  66.6666666667 75.0 83.3333333333\n"
     ]
    },
    {
     "name": "stderr",
     "output_type": "stream",
     "text": [
      "/home/karim/anaconda3/lib/python3.5/site-packages/matplotlib/axes/_axes.py:545: UserWarning: No labelled objects found. Use label='...' kwarg on individual plots.\n",
      "  warnings.warn(\"No labelled objects found. \"\n"
     ]
    }
   ],
   "source": [
    "test = True\n",
    "\n",
    "if test == True:\n",
    "    n_elec = {'PIRJ' :10}\n",
    "    subjects = ['PIRJ']\n",
    "else :\n",
    "    subjects = ['VACJ','SEMC','PIRJ','LEFC','CHAF', 'MICP']\n",
    "    n_elec = {\n",
    "    'CHAF' : 81,\n",
    "    'VACJ' : 91, \n",
    "    'SEMC' : 81,\n",
    "    'PIRJ' : 62,\n",
    "    'LEFC' : 160,\n",
    "    'MICP' : 79,\n",
    "        }\n",
    "\n",
    "for su in subjects:\n",
    "\n",
    "    #Load files\n",
    "    data_bad = np.load(path.join(path_data, su+'_concat_odor_bad_bipo_new.npz'))\n",
    "    data_good = np.load(path.join(path_data, su+'_concat_odor_good_bipo_new.npz'))\n",
    "    data_bad, channels, names, data_good = data_bad['x'], data_bad['channel'], data_bad['label'], data_good['x']\n",
    "    \n",
    "# ==========================  BALANCED CONDITIONS =====================================\n",
    "    if data_bad.shape[2] > data_good.shape[2]:\n",
    "        bad_sel = data_bad[:,:,np.random.randint(data_bad.shape[2], size=data_good.shape[2])] #reshape bad_data to fit good_data shape\n",
    "        good_sel = data_good\n",
    "    elif data_bad.shape[2] < data_good.shape[2]:\n",
    "        bad_sel = data_bad\n",
    "        good_sel = data_good[:,:,np.random.randint(data_good.shape[2], size=data_bad.shape[2])]\n",
    "    else:\n",
    "        bad_sel, good_sel = data_bad, data_good\n",
    "    print ('balanced data : ', bad_sel.shape, good_sel.shape)\n",
    "\n",
    "# ========================= DATA for 1 elec PREPROCESS ====================================\n",
    "    for elec in range(0,n_elec[su]):\n",
    "    #for elec in n_elec[su]:\n",
    "        # Select data for one elec + name :\n",
    "        data_elec_bad = bad_sel[elec,:,:]\n",
    "        data_elec_good = good_sel[elec,:,:]\n",
    "        ntrials = str(data_elec_bad.shape[1])+'/'+ str(data_elec_good.shape[1])\n",
    "        channel, name = channels[elec], names[elec]\n",
    "        print (su, 'Channel : ', channel, 'Label : ', name,'Bad shape : ', \n",
    "               data_elec_bad.shape, 'Good shape : ', data_elec_good.shape)\n",
    "\n",
    "        #Filter data for one elec (all trials):\n",
    "        data_elec_bad = np.array(data_elec_bad, dtype='float64')\n",
    "        data_elec_good = np.array(data_elec_good, dtype='float64')\n",
    "        data_bad_to_filter = np.swapaxes(data_elec_bad, 0, 1)\n",
    "        data_good_to_filter = np.swapaxes(data_elec_good, 0, 1)\n",
    "        filtered_data_bad = filter_data(data_bad_to_filter, sfreq=512, l_freq=None, h_freq=low_pass_filter, method='fir', phase='zero-double')\n",
    "        filtered_data_good = filter_data(data_good_to_filter, sfreq=512, l_freq=None, h_freq=low_pass_filter, method='fir', phase='zero-double')\n",
    "        print ('Size of filtered data bad :', filtered_data_bad.shape, 'filtered data good : ', filtered_data_good.shape,)\n",
    "\n",
    "        #Normalize the non-averaged data (all trials)\n",
    "        times = np.arange(filtered_data_bad.shape[1])\n",
    "        print ('time points : ', times.shape)\n",
    "        norm_filtered_data_bad = rescale(filtered_data_bad, times=times, baseline=baseline, mode=norm_mode)\n",
    "        norm_filtered_data_good = rescale(filtered_data_good, times=times, baseline=baseline, mode=norm_mode)\n",
    "        print ('Size norm & filtered data 0 : ', norm_filtered_data_bad.shape, norm_filtered_data_good.shape,)\n",
    "\n",
    "        # Range of the data to compute\n",
    "        data_range = range(data_to_use[0], data_to_use[1])\n",
    "        bad_win = norm_filtered_data_bad[:, data_range]\n",
    "        good_win = norm_filtered_data_good[:, data_range,]\n",
    "        print ('-> Shape of bad data', bad_win.shape, 'good data', good_win.shape)\n",
    "        \n",
    "        # Average the signal on consecutive windows\n",
    "        n_pts = bad_win.shape[1]\n",
    "        rmPoints = n_pts % winSample # Points to remove before splitting\n",
    "        shapeRmPoints = np.arange(n_pts-rmPoints).astype(int) # Number of points for round division\n",
    "        n_win = int(n_pts / winSample) # Number of segments\n",
    "\n",
    "        # Split and average data (trials, n_pts)\n",
    "        bad_split = np.array(np.split(bad_win[:, shapeRmPoints], n_win, axis=1)) # n_win n_trials n_pts\n",
    "        bad_split = np.mean(bad_split, axis=2).swapaxes(0,1) # n-trials n_win\n",
    "        good_split = np.array(np.split(good_win[:, shapeRmPoints], n_win, axis=1))\n",
    "        good_split = np.mean(good_split, axis=2).swapaxes(0,1)\n",
    "\n",
    "# ===========================  STATISTICS  =====================================\n",
    "        # Permutations and t test of the data\n",
    "        bad_perm, good_perm = perm_swap(bad_split, good_split, n_perm=1000, axis=0)\n",
    "        bad_perm, good_perm = np.swapaxes(bad_perm,0,1), np.swapaxes(good_perm,0,1)\n",
    "        print(bad_perm.shape, good_perm.shape)\n",
    "        Tperm, _ = ttest_ind(bad_perm, good_perm, equal_var=False)\n",
    "        print(Tperm.shape)\n",
    "        thr_0_5_stat = [-perm_pvalue2level(Tperm, p=0.05, maxst=True)[0],perm_pvalue2level(Tperm, p=0.05, maxst=True)[0]]\n",
    "        thr_0_1_stat = [-perm_pvalue2level(Tperm, p=0.01, maxst=True)[0],perm_pvalue2level(Tperm, p=0.01, maxst=True)[0]]\n",
    "        thr_0_0_1_stat = [-perm_pvalue2level(Tperm, p=0.001, maxst=True)[0],perm_pvalue2level(Tperm, p=0.001, maxst=True)[0]]\n",
    "        print(thr_0_5_stat,thr_0_1_stat,thr_0_0_1_stat)\n",
    "        T0, _  = ttest_ind(bad_split, good_split, equal_var=False)\n",
    "        print(T0.shape, T0.max(), T0.min())\n",
    "        \n",
    "        # Create the pvalue vector to plot\n",
    "        pvals = []\n",
    "        for i in range(T0.shape[0]):\n",
    "            if T0[i] < thr_0_0_1_stat[0] or T0[i] > thr_0_0_1_stat[1]:\n",
    "                pval = pvals.append(0.0009)\n",
    "            elif T0[i] < thr_0_1_stat[0] or T0[i] > thr_0_1_stat[1]:\n",
    "                pval = pvals.append(0.009)\n",
    "            elif T0[i] < thr_0_5_stat[0] or T0[i] > thr_0_5_stat[1]:\n",
    "                pval = pvals.append(0.04)\n",
    "            else:\n",
    "                pval = pvals.append(1)\n",
    "                \n",
    "# =============================  CLASSIFICATION COMPUTATION ============================================================           \n",
    "        #create a data matrix, concatenate along the trial dimension\n",
    "        bad_good = np.concatenate((bad_split, good_split), axis=0)\n",
    "        print ('Size of the concatenated data: ', bad_good.shape, 'Number time windows : ', bad_good.shape[1])\n",
    "        #create label vector (0 for rest and 1 for odor)\n",
    "        y = [0]*bad_split.shape[0] + [1]*good_split.shape[0]\n",
    "        print ('Size of label for classif: ', len(y))\n",
    "        # Define a cross validation:\n",
    "        cv = defCv(y, n_folds=10, cvtype='skfold', rep=10)\n",
    "        # Define classifier technique\n",
    "        clf = defClf(y=y, clf=classif)#,n_tree=200, random_state=100)\n",
    "        #Classify rest and odor\n",
    "        cl = classify(y, clf=clf, cvtype=cv)\n",
    "        # Evaluate the classifier on data:\n",
    "        da,pvalues,daperm = cl.fit(bad_good, n_perm=1000,method='full_rnd', mf=False)\n",
    "        #print(pvalues.shape, pvalues.min(), pvalues.max())\n",
    "        th_0_05_perm = perm_pvalue2level(daperm, p=0.05, maxst=True)\n",
    "        th_0_01_perm = perm_pvalue2level(daperm, p=0.01, maxst=True)\n",
    "        th_0_001_perm = perm_pvalue2level(daperm, p=0.001, maxst=True)\n",
    "        print('th_perm : ', th_0_05_perm[0], th_0_01_perm[0], th_0_001_perm[0])\n",
    "\n",
    "# ============================== PLOT ERPs ANALYSIS + STATS & DECODING ACCURACY ===================================================\n",
    "        # plot and figure parameters\n",
    "        xfmt = ScalarFormatter(useMathText=True)\n",
    "        xfmt.set_powerlimits((0,3))\n",
    "        fig = plt.figure(1,figsize=(7,7))\n",
    "        title = 'ERPs-Stats-DA for '+su+' Good/Bad '+str(channel)+' '+str(name)+' ('+str(elec)+') ntrials:'+str(ntrials)\n",
    "        fig.suptitle(title, fontsize=12)\n",
    "        times_plot = 1000 * np.arange((baseline[0] - baseline[1]), len(shapeRmPoints)-baseline[1]+baseline[0],winSample) / sf\n",
    "\n",
    "        # Plot the ERPs + STATS\n",
    "        plt.subplot(211)\n",
    "        BorderPlot(times_plot, bad_good, y=y, kind='sem', alpha=0.2, color=['b','m'], \n",
    "                   linewidth=2, ncol=1, xlabel='Time (ms)',ylabel = r' $\\mu$V', legend=['bad','good'])\n",
    "        addLines(plt.gca(), vLines=[0], vColor=['r'], vWidth=[2], hLines=[0], \n",
    "                 hColor=['#000000'], hWidth=[2])\n",
    "        addPval(plt.gca(), pvals, p=0.05, x=times_plot, y=2, color='orange', lw=2, minsucc=minsucc)\n",
    "        addPval(plt.gca(), pvals, p=0.01, x=times_plot, y=2, color='orangered', lw=2,minsucc=minsucc)\n",
    "        addPval(plt.gca(), pvals, p=0.001, x=times_plot, y=2, color='r', lw=2,minsucc=minsucc)\n",
    "        rmaxis(plt.gca(), ['right', 'top'])\n",
    "        plt.legend(loc=0, handletextpad=0.1, frameon=False)\n",
    "        plt.gca().yaxis.set_major_locator(MaxNLocator(3,integer=True))\n",
    "\n",
    "        # Plot DA for the ERPs\n",
    "        plt.subplot(212)\n",
    "        BorderPlot(times_plot, da, color='b', kind='sem',xlabel='Time (ms)', \n",
    "                   ylim=[da.min()-10,da.max()+10], ylabel='Decoding accuracy (%)',\n",
    "                   linewidth=2, alpha=0.3)\n",
    "        rmaxis(plt.gca(), ['right', 'top'])\n",
    "        addLines(plt.gca(), vLines=[0], vWidth=[2], vColor=['r'], hLines=[50], \n",
    "                 hColor=['#000000'], hWidth=[2])\n",
    "        plt.legend(loc=0, handletextpad=0.1, frameon=False)   \n",
    "        plt.gca().yaxis.set_major_locator(MaxNLocator(3,integer=True))\n",
    "        plt.plot(times_plot, th_0_05_perm*np.ones(len(times_plot)), '--', color='orange', linewidth=2)\n",
    "        plt.plot(times_plot, th_0_01_perm*np.ones(len(times_plot)), '--', color='orangered', linewidth=2)\n",
    "        plt.plot(times_plot, th_0_001_perm*np.ones(len(times_plot)), '--', color='r', linewidth=2)\n",
    "        \n",
    "        # Criteria to be significant\n",
    "        pvals = np.ravel(pvals)\n",
    "        underp = np.where(pvals < alpha)[0]\n",
    "        pvsplit = np.split(underp, np.where(np.diff(underp) != 1)[0]+1)\n",
    "        signif = [True for k in pvsplit if len(k) >= minsucc]\n",
    "        \n",
    "        #Save plots and stats\n",
    "        if len(signif) >=1:\n",
    "            name_t0 = (save_path +str(round((winSample*1000)/512))+'ms/All_balanced_1_1000perm_DA_stats_sametrials/Significant/stat/'+su +'_t0_' + score +'_'+str(name)+'_('+str(elec)+').npy')\n",
    "            name_tperm = (save_path +str(round((winSample*1000)/512))+'ms/All_balanced_1_1000perm_DA_stats_sametrials/Significant/stat/'+su +'_tperm_' + score +'_'+str(name)+'_('+str(elec)+').npy')\n",
    "            name_pval = (save_path +str(round((winSample*1000)/512))+'ms/All_balanced_1_1000perm_DA_stats_sametrials/Significant/stat/'+su +'_pvals_' + score +'_'+str(name)+'_('+str(elec)+').npy')\n",
    "            name_da = (save_path +str(round((winSample*1000)/512))+'ms/All_balanced_1_1000perm_DA_stats_sametrials/Significant/da/'+su +'_da_' + score +'_'+str(name)+'_('+str(elec)+').npy')\n",
    "            name_daperm = (save_path +str(round((winSample*1000)/512))+'ms/All_balanced_1_1000perm_DA_stats_sametrials/Significant/da/'+su +'_daperm_' + score +'_'+str(name)+'_('+str(elec)+').npy')\n",
    "            plot_name = (save_path +str(round((winSample*1000)/512))+'ms/All_balanced_1_1000perm_DA_stats_sametrials/Significant/fig/'+su +'_ERPs_'  + score +'_'+str(name)+'_('+str(elec)+').png')\n",
    "        else:\n",
    "            name_t0 = (save_path +str(round((winSample*1000)/512))+'ms/All_balanced_1_1000perm_DA_stats_sametrials/Not_Significant/stat/'+su +'_t0_' + score +'_'+str(name)+'_('+str(elec)+').npy')\n",
    "            name_tperm = (save_path +str(round((winSample*1000)/512))+'ms/All_balanced_1_1000perm_DA_stats_sametrials/Not_Significant/stat/'+su +'_tperm_' + score +'_'+str(name)+'_('+str(elec)+').npy')\n",
    "            name_pval = (save_path +str(round((winSample*1000)/512))+'ms/All_balanced_1_1000perm_DA_stats_sametrials/Not_Significant/stat/'+su +'_pvals_' + score +'_'+str(name)+'_('+str(elec)+').npy')\n",
    "            name_da = (save_path +str(round((winSample*1000)/512))+'ms/All_balanced_1_1000perm_DA_stats_sametrials/Not_Significant/da/'+su +'_da_' + score +'_'+str(name)+'_('+str(elec)+').npy')\n",
    "            name_daperm = (save_path +str(round((winSample*1000)/512))+'ms/All_balanced_1_1000perm_DA_stats_sametrials/Not_Significant/da/'+su +'_daperm_' + score +'_'+str(name)+'_('+str(elec)+').npy')\n",
    "            plot_name = (save_path +str(round((winSample*1000)/512))+'ms/All_balanced_1_1000perm_DA_stats_sametrials/Not_Significant/fig/'+su +'_ERPs_'  + score +'_'+str(name)+'_('+str(elec)+').png')\n",
    "        \n",
    "        np.save(name_t0, T0)\n",
    "        np.save(name_tperm, Tperm)\n",
    "        np.save(name_pval, pvals)\n",
    "        np.save(name_da, da)\n",
    "        np.save(name_daperm, daperm)\n",
    "        plt.savefig(plot_name, dpi=300, bbox_inches='tight')\n",
    "        plt.clf()\n",
    "        plt.close()\n",
    "        del bad_split, good_split, bad_win, good_win, bad_perm, good_perm, bad_good\n",
    "    del bad_sel, data_bad, good_sel, data_good, channels, names"
   ]
  }
 ],
 "metadata": {
  "anaconda-cloud": {},
  "kernelspec": {
   "display_name": "Python [default]",
   "language": "python",
   "name": "python3"
  },
  "language_info": {
   "codemirror_mode": {
    "name": "ipython",
    "version": 3
   },
   "file_extension": ".py",
   "mimetype": "text/x-python",
   "name": "python",
   "nbconvert_exporter": "python",
   "pygments_lexer": "ipython3",
   "version": "3.5.2"
  }
 },
 "nbformat": 4,
 "nbformat_minor": 1
}
