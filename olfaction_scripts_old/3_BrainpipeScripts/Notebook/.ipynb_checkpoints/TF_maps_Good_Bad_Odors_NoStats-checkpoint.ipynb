{
 "cells": [
  {
   "cell_type": "markdown",
   "metadata": {},
   "source": [
    "## Import libraries"
   ]
  },
  {
   "cell_type": "code",
   "execution_count": null,
   "metadata": {
    "collapsed": true
   },
   "outputs": [],
   "source": [
    "import numpy as np\n",
    "import matplotlib.pyplot as plt\n",
    "from os import path\n",
    "\n",
    "#%matplotlib notebook\n",
    "\n",
    "from brainpipe.system import study\n",
    "from brainpipe.feature import TF\n",
    "from brainpipe.visual import *\n",
    "from brainpipe.statistics import *"
   ]
  },
  {
   "cell_type": "code",
   "execution_count": null,
   "metadata": {
    "collapsed": true
   },
   "outputs": [],
   "source": [
    "sf = 512\n",
    "n_perm = 1000\n",
    "f = (0.1, 150, 4, 2)  # Frequency vector: (from, to, width, step) 0.5 - 0.1\n",
    "baseline = [250, 750] # Time in seconds (rest 500ms au milieu des 1s extraite)\n",
    "lines = [0]\n",
    "norm = 3\n",
    "width, step = 50, 10 #Time vector\n",
    "window_to_plot = [-500, 3000] # In seconds"
   ]
  },
  {
   "cell_type": "markdown",
   "metadata": {},
   "source": [
    "## TF by cond - Good & Bad Odors\n",
    "### Group both conditions later with an other script (Tools)"
   ]
  },
  {
   "cell_type": "code",
   "execution_count": null,
   "metadata": {
    "collapsed": false
   },
   "outputs": [],
   "source": [
    "st = study('Olfacto')\n",
    "path_data = path.join (st.path, 'database/TS_E_all_by_odor_th40_art400_30_250_5s_concatOK/')\n",
    "path2save = path.join (st.path, 'TimeFrequency/TF_Encoding_all_filter1_th40_400art_30_250_GoodBadOdors/0_150Hz_No_Stats/')\n",
    "\n",
    "conds = ['bad', 'good']\n",
    "test = False\n",
    "\n",
    "if test == True:\n",
    "    n_elec = {'VACJ' :50}\n",
    "    subjects = ['VACJ']\n",
    "else :\n",
    "    subjects = [ 'LEFC','PIRJ', 'CHAF', 'SEMC', 'VACJ', 'MICP'] \n",
    "    n_elec = {\n",
    "        'CHAF' : 107,\n",
    "        'VACJ' : 139, \n",
    "        'SEMC' : 107,\n",
    "        'PIRJ' : 106,\n",
    "        'LEFC' : 193,\n",
    "        'MICP' : 105,\n",
    "            }\n",
    "\n",
    "for su in subjects:\n",
    "    for elec in range(n_elec[su]):\n",
    "        for cond in conds:\n",
    "            file = su+'_E1E2_concat_'+cond+'_bipo.npz'\n",
    "            mat = np.load(path.join(st.path, 'database/TS_E_all_cond_by_block_trigs_th40_art400_30_250_5s_learning2blocks', file))\n",
    "            x, sf, channel, label = mat['x'][elec, ...], int(mat['sf']), mat['channel'], mat['label']\n",
    "            label = list(mat['label'])\n",
    "            print (su, elec, cond)\n",
    "            ntrials = x.shape[1]\n",
    "            print ('size of the data : ', x.shape, 'Nb trials : ', ntrials)\n",
    "\n",
    "            #Get the TF\n",
    "            time = 1000 * np.arange(-1024, x.shape[0]-1024) / sf #to set the 0 in your TF\n",
    "            print ('Time points: ', min(time), max(time))\n",
    "            tfObj = TF(sf, x.shape[0], f=f, baseline=baseline,norm=norm, time=time, width=width, step=step,)\n",
    "            xtf, pvaltf = tfObj.get((x), statmeth=None, n_perm=n_perm, maxstat=False, tail=2)\n",
    "            xtf, pvaltf = 100*np.squeeze(xtf), np.squeeze(pvaltf)\n",
    "            print ('TF size :', xtf.shape,) #'pvaltf : ', pvaltf.shape, pvaltf) #Freq bands * time windows\n",
    "\n",
    "            # Plot everything that is inside the window parameter :\n",
    "            timebin = np.array(tfObj.xvec)\n",
    "            sl = slice(np.argmin(np.abs(timebin-window_to_plot[0])), np.argmin(np.abs(timebin-window_to_plot[1])))\n",
    "\n",
    "            # Finally plot you power :\n",
    "            title = 'TF_'+su+'_Elec_'+str(elec)+'_'+channel[elec]+'_'+label[elec]+'_'+cond+'_ntrials:'+str(x.shape[1])\n",
    "    #         th = 0.001 # toute les valeurs au dessus de ce seuil stat seront moins opaques\n",
    "    #         pvaltf_cut = pvaltf[:, sl]\n",
    "    #         mask = pvaltf_cut.copy()\n",
    "    #         print (mask)\n",
    "    #         signi_idx = mask <= th\n",
    "    #         mask[signi_idx] = 1\n",
    "    #         mask[np.invert(signi_idx)] = 0.7 #controle l'opacité du masque\n",
    "\n",
    "    #         # with stats\n",
    "    #         tfObj.plot2D(plt.figure(figsize=(12,10)), xtf[:, sl], cmap='viridis',  xvec=tfObj.xvec[sl], yvec=tfObj.yvec, xlabel='Time (ms)',\n",
    "    #                     vmin=-100, vmax=100, ylabel='Frequency (hz)', title=title,\n",
    "    #                    cblabel='Relative power modulations (%)', mask=mask, pltype='imshow', resample=(0.1, 0.1),\n",
    "    #                     contour={'data':pvaltf_cut, 'level':[0.001,], 'colors':['w'], 'linewidths':[1.5]},)         \n",
    "    #         addLines(plt.gca(), vLines=lines, vColor=['firebrick'], vWidth=[2])\n",
    "\n",
    "            # without stats\n",
    "            tfObj.plot2D(plt.figure(), xtf[:, sl], cmap='viridis',  xvec=tfObj.xvec[sl], yvec=tfObj.yvec, xlabel='Time (ms)',\n",
    "                        vmin=-100, vmax=100, ylabel='Frequency (hz)', title=title,\n",
    "                         cblabel='Relative power modulations (%)', pltype='imshow', resample=(0.1, 0.1),)\n",
    "            addLines(plt.gca(), vLines=lines, vColor=['firebrick'] * 2, vWidth=[2] * 2)\n",
    "\n",
    "            #Save all your plots\n",
    "            rep = path.join(st.path, 'TimeFrequency/TF_Encoding_all_filter1_th40_400art_30_250_Explo2blocks/0_150Hz_No_Stats',su)\n",
    "            fname = (rep + '_TF_elec_'+str(elec)+'_'+channel[elec]+'_'+label[elec]+'_'+cond+'_explo_ntrials:'+str(x.shape[1])+'.png')\n",
    "            print (fname)\n",
    "            plt.savefig(fname, dpi=300, bbox_inches='tight')\n",
    "            plt.close()\n",
    "        del x, sf, channel"
   ]
  }
 ],
 "metadata": {
  "anaconda-cloud": {},
  "kernelspec": {
   "display_name": "Python [default]",
   "language": "python",
   "name": "python3"
  },
  "language_info": {
   "codemirror_mode": {
    "name": "ipython",
    "version": 3
   },
   "file_extension": ".py",
   "mimetype": "text/x-python",
   "name": "python",
   "nbconvert_exporter": "python",
   "pygments_lexer": "ipython3",
   "version": "3.5.2"
  }
 },
 "nbformat": 4,
 "nbformat_minor": 1
}
