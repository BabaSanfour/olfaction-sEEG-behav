{
 "cells": [
  {
   "cell_type": "markdown",
   "metadata": {
    "collapsed": true
   },
   "source": [
    "## Compute Phase Encoding"
   ]
  },
  {
   "cell_type": "code",
   "execution_count": 2,
   "metadata": {
    "collapsed": false
   },
   "outputs": [],
   "source": [
    "import numpy as np\n",
    "import matplotlib.pyplot as plt\n",
    "import scipy.io as sio\n",
    "#%matplotlib notebook\n",
    "# %matplotlib inline\n",
    "# %load_ext autoreload\n",
    "# %autoreload 2\n",
    "from brainpipe.system import study\n",
    "from brainpipe.feature import power, amplitude, sigfilt, phase, PLF\n",
    "from brainpipe.visual import *\n",
    "\n",
    "from brainpipe.statistics import *\n",
    "from os import path"
   ]
  },
  {
   "cell_type": "markdown",
   "metadata": {},
   "source": [
    "### Check all files dimensions"
   ]
  },
  {
   "cell_type": "code",
   "execution_count": null,
   "metadata": {
    "collapsed": false
   },
   "outputs": [],
   "source": [
    "st = study('Olfacto')\n",
    "\n",
    "files = st.search('_bipo_sel.npz', folder='database/TS_E_all_by_odor_th40_art400_30_250_Good_Bad_EpiScore_Expi/')\n",
    "for fi in files:\n",
    "    loadname = path.join(st.path, 'database/TS_E_all_by_odor_th40_art400_30_250_Good_Bad_EpiScore_Expi/', fi)\n",
    "    mat = np.load(loadname)\n",
    "    x = np.load(loadname)['x']\n",
    "    print (fi, x.shape, mat.files)"
   ]
  },
  {
   "cell_type": "markdown",
   "metadata": {},
   "source": [
    "## Compute Phase locking factor\n",
    "    Consistency of phase across trials locked to an event's onset"
   ]
  },
  {
   "cell_type": "code",
   "execution_count": 12,
   "metadata": {
    "collapsed": false
   },
   "outputs": [
    {
     "name": "stdout",
     "output_type": "stream",
     "text": [
      "-> Olfacto loaded\n",
      "--> compute phase on :  LEFC_odor_bad_bipo_sel.npz data (139, 2816, 23) npts 2816 ntrials 23 nelec 139\n",
      "(125, 49) [ 0.45486514  0.49514106  0.54313706  0.62289656  0.69799026  0.74919394\n",
      "  0.6966537   0.71507941  0.76245889  0.79825885  0.82859882  0.94025381\n",
      "  0.95098673  0.93293653  0.93782833  0.92384262  0.91074397  0.90524439\n",
      "  0.90783341  0.90511538  0.89874956  0.90537837  0.91891549  0.92769214\n",
      "  0.94743482  0.9503165   0.96626749  0.97010883  0.97747357  0.97345388\n",
      "  0.98201755  0.98005414  0.9880732   0.9855791   0.98227929  0.98212206\n",
      "  0.98268591  0.99206237  0.99256451  0.99267734  0.99274464  0.99061223\n",
      "  0.98773555  0.98638352  0.9857644   0.99380324  0.99317945  0.99482675\n",
      "  0.99446984  0.99303983  0.99332396  0.99205284  0.99253568  0.99094091\n",
      "  0.99317118  0.99280355  0.9937143   0.99296914  0.99268873  0.99245264\n",
      "  0.99298879  0.99475248  0.9964497   0.9966364   0.99684831  0.99693495\n",
      "  0.99753875  0.99720348  0.9963082   0.99567944  0.996176    0.99675197\n",
      "  0.99748814  0.997432    0.99707231  0.99689201  0.9960908   0.99524794\n",
      "  0.99508569  0.99528522  0.99658477  0.99650111  0.99651748  0.99553032\n",
      "  0.9949416   0.99332771  0.99313646  0.99424974  0.99415008  0.99552174\n",
      "  0.99524667  0.99525286  0.99451723  0.9944718   0.99429534  0.99464426\n",
      "  0.9935117   0.99522939  0.99581058  0.99564888  0.99494912  0.99490136\n",
      "  0.99493851  0.99548413  0.99668345  0.9972069   0.99769263  0.997614\n",
      "  0.99759989  0.99791922  0.99809101  0.99762815  0.99759553  0.99787638\n",
      "  0.99765517  0.99711436  0.99678446  0.99702753  0.9961731   0.99633897\n",
      "  0.99660321  0.995727    0.99593976  0.99649042  0.99703469]\n"
     ]
    },
    {
     "data": {
      "image/png": "[encoded data removed]",
      "text/plain": [
       "<matplotlib.figure.Figure at 0x7faac477e940>"
      ]
     },
     "metadata": {},
     "output_type": "display_data"
    },
    {
     "name": "stderr",
     "output_type": "stream",
     "text": [
      "Process ForkPoolWorker-88:\n",
      "Process ForkPoolWorker-89:\n",
      "Process ForkPoolWorker-90:\n",
      "Process ForkPoolWorker-87:\n",
      "Traceback (most recent call last):\n",
      "Traceback (most recent call last):\n",
      "  File \"/home/karim/anaconda3/lib/python3.5/multiprocessing/process.py\", line 249, in _bootstrap\n",
      "    self.run()\n",
      "  File \"/home/karim/anaconda3/lib/python3.5/multiprocessing/process.py\", line 249, in _bootstrap\n",
      "    self.run()\n",
      "Traceback (most recent call last):\n",
      "  File \"/home/karim/anaconda3/lib/python3.5/multiprocessing/process.py\", line 249, in _bootstrap\n",
      "    self.run()\n",
      "  File \"/home/karim/anaconda3/lib/python3.5/multiprocessing/process.py\", line 93, in run\n",
      "    self._target(*self._args, **self._kwargs)\n",
      "  File \"/home/karim/anaconda3/lib/python3.5/multiprocessing/process.py\", line 93, in run\n",
      "    self._target(*self._args, **self._kwargs)\n",
      "  File \"/home/karim/anaconda3/lib/python3.5/multiprocessing/pool.py\", line 108, in worker\n",
      "    task = get()\n",
      "Traceback (most recent call last):\n",
      "  File \"/home/karim/anaconda3/lib/python3.5/multiprocessing/process.py\", line 93, in run\n",
      "    self._target(*self._args, **self._kwargs)\n",
      "  File \"/home/karim/anaconda3/lib/python3.5/multiprocessing/pool.py\", line 108, in worker\n",
      "    task = get()\n",
      "  File \"/home/karim/anaconda3/lib/python3.5/site-packages/joblib/pool.py\", line 357, in get\n",
      "    racquire()\n",
      "  File \"/home/karim/anaconda3/lib/python3.5/multiprocessing/pool.py\", line 108, in worker\n",
      "    task = get()\n",
      "  File \"/home/karim/anaconda3/lib/python3.5/multiprocessing/process.py\", line 249, in _bootstrap\n",
      "    self.run()\n",
      "  File \"/home/karim/anaconda3/lib/python3.5/site-packages/joblib/pool.py\", line 359, in get\n",
      "    return recv()\n",
      "KeyboardInterrupt\n",
      "  File \"/home/karim/anaconda3/lib/python3.5/multiprocessing/connection.py\", line 250, in recv\n",
      "    buf = self._recv_bytes()\n",
      "  File \"/home/karim/anaconda3/lib/python3.5/site-packages/joblib/pool.py\", line 357, in get\n",
      "    racquire()\n",
      "  File \"/home/karim/anaconda3/lib/python3.5/multiprocessing/process.py\", line 93, in run\n",
      "    self._target(*self._args, **self._kwargs)\n",
      "  File \"/home/karim/anaconda3/lib/python3.5/multiprocessing/connection.py\", line 407, in _recv_bytes\n",
      "    buf = self._recv(4)\n",
      "KeyboardInterrupt\n"
     ]
    },
    {
     "ename": "KeyboardInterrupt",
     "evalue": "",
     "output_type": "error",
     "traceback": [
      "\u001b[0;31m---------------------------------------------------------------------------\u001b[0m",
      "\u001b[0;31mKeyboardInterrupt\u001b[0m                         Traceback (most recent call last)",
      "\u001b[0;32m<ipython-input-12-d67d97a4de0b>\u001b[0m in \u001b[0;36m<module>\u001b[0;34m()\u001b[0m\n\u001b[1;32m     23\u001b[0m             \u001b[0;31m# Define and save power objects :\u001b[0m\u001b[0;34m\u001b[0m\u001b[0;34m\u001b[0m\u001b[0m\n\u001b[1;32m     24\u001b[0m             \u001b[0mPLF0bj\u001b[0m \u001b[0;34m=\u001b[0m \u001b[0mPLF\u001b[0m\u001b[0;34m(\u001b[0m\u001b[0msf\u001b[0m\u001b[0;34m,\u001b[0m \u001b[0mnpts\u001b[0m\u001b[0;34m=\u001b[0m\u001b[0mnpts\u001b[0m\u001b[0;34m,\u001b[0m \u001b[0mf\u001b[0m\u001b[0;34m=\u001b[0m\u001b[0mf\u001b[0m\u001b[0;34m,\u001b[0m \u001b[0mmethod\u001b[0m\u001b[0;34m=\u001b[0m\u001b[0;34m'hilbert'\u001b[0m\u001b[0;34m,\u001b[0m\u001b[0mwidth\u001b[0m\u001b[0;34m=\u001b[0m\u001b[0;36m358\u001b[0m\u001b[0;34m,\u001b[0m \u001b[0mstep\u001b[0m\u001b[0;34m=\u001b[0m\u001b[0;36m51\u001b[0m\u001b[0;34m,\u001b[0m \u001b[0mtime\u001b[0m\u001b[0;34m=\u001b[0m\u001b[0mtime\u001b[0m\u001b[0;34m)\u001b[0m\u001b[0;34m\u001b[0m\u001b[0m\n\u001b[0;32m---> 25\u001b[0;31m             \u001b[0mx_PLF\u001b[0m\u001b[0;34m,\u001b[0m \u001b[0mpval\u001b[0m \u001b[0;34m=\u001b[0m \u001b[0mPLF0bj\u001b[0m\u001b[0;34m.\u001b[0m\u001b[0mget\u001b[0m\u001b[0;34m(\u001b[0m\u001b[0mx_elec\u001b[0m\u001b[0;34m,\u001b[0m\u001b[0mn_jobs\u001b[0m\u001b[0;34m=\u001b[0m\u001b[0;36m5\u001b[0m\u001b[0;34m)\u001b[0m\u001b[0;34m\u001b[0m\u001b[0m\n\u001b[0m\u001b[1;32m     26\u001b[0m             \u001b[0mx_PLF\u001b[0m \u001b[0;34m=\u001b[0m \u001b[0mnp\u001b[0m\u001b[0;34m.\u001b[0m\u001b[0msqueeze\u001b[0m\u001b[0;34m(\u001b[0m\u001b[0mx_PLF\u001b[0m\u001b[0;34m)\u001b[0m\u001b[0;34m\u001b[0m\u001b[0m\n\u001b[1;32m     27\u001b[0m             \u001b[0mprint\u001b[0m\u001b[0;34m(\u001b[0m\u001b[0mx_PLF\u001b[0m\u001b[0;34m.\u001b[0m\u001b[0mshape\u001b[0m\u001b[0;34m,\u001b[0m \u001b[0mx_PLF\u001b[0m\u001b[0;34m[\u001b[0m\u001b[0;34m:\u001b[0m\u001b[0;34m,\u001b[0m\u001b[0;36m1\u001b[0m\u001b[0;34m]\u001b[0m\u001b[0;34m)\u001b[0m\u001b[0;34m\u001b[0m\u001b[0m\n",
      "\u001b[0;32m/home/karim/anaconda3/lib/python3.5/site-packages/brainpipe/feat/basics.py\u001b[0m in \u001b[0;36mget\u001b[0;34m(self, x, getstat, n_jobs)\u001b[0m\n\u001b[1;32m    552\u001b[0m         \"\"\"\n\u001b[1;32m    553\u001b[0m         \u001b[0;31m# Get phase and p-values\u001b[0m\u001b[0;34m\u001b[0m\u001b[0;34m\u001b[0m\u001b[0m\n\u001b[0;32m--> 554\u001b[0;31m         \u001b[0mxf\u001b[0m\u001b[0;34m,\u001b[0m \u001b[0mpval\u001b[0m \u001b[0;34m=\u001b[0m \u001b[0mself\u001b[0m\u001b[0;34m.\u001b[0m\u001b[0m__phaO\u001b[0m\u001b[0;34m.\u001b[0m\u001b[0mget\u001b[0m\u001b[0;34m(\u001b[0m\u001b[0mx\u001b[0m\u001b[0;34m,\u001b[0m \u001b[0mgetstat\u001b[0m\u001b[0;34m=\u001b[0m\u001b[0mgetstat\u001b[0m\u001b[0;34m,\u001b[0m \u001b[0mn_jobs\u001b[0m\u001b[0;34m=\u001b[0m\u001b[0mn_jobs\u001b[0m\u001b[0;34m)\u001b[0m\u001b[0;34m\u001b[0m\u001b[0m\n\u001b[0m\u001b[1;32m    555\u001b[0m         \u001b[0;31m# Get plf\u001b[0m\u001b[0;34m\u001b[0m\u001b[0;34m\u001b[0m\u001b[0m\n\u001b[1;32m    556\u001b[0m         \u001b[0mplf\u001b[0m \u001b[0;34m=\u001b[0m \u001b[0mnp\u001b[0m\u001b[0;34m.\u001b[0m\u001b[0mabs\u001b[0m\u001b[0;34m(\u001b[0m\u001b[0mnp\u001b[0m\u001b[0;34m.\u001b[0m\u001b[0mexp\u001b[0m\u001b[0;34m(\u001b[0m\u001b[0;36m1j\u001b[0m\u001b[0;34m*\u001b[0m\u001b[0;34m(\u001b[0m\u001b[0mxf\u001b[0m\u001b[0;34m)\u001b[0m\u001b[0;34m)\u001b[0m\u001b[0;34m.\u001b[0m\u001b[0mmean\u001b[0m\u001b[0;34m(\u001b[0m\u001b[0;36m3\u001b[0m\u001b[0;34m)\u001b[0m\u001b[0;34m)\u001b[0m\u001b[0;34m\u001b[0m\u001b[0m\n",
      "\u001b[0;32m/home/karim/anaconda3/lib/python3.5/site-packages/brainpipe/feat/basics.py\u001b[0m in \u001b[0;36mget\u001b[0;34m(self, x, getstat, n_jobs)\u001b[0m\n\u001b[1;32m    475\u001b[0m         \u001b[0;31m# run feature computation:\u001b[0m\u001b[0;34m\u001b[0m\u001b[0;34m\u001b[0m\u001b[0m\n\u001b[1;32m    476\u001b[0m         data = Parallel(n_jobs=n_jobs)(\n\u001b[0;32m--> 477\u001b[0;31m             delayed(_phase)(x[k, ...], self) for k in range(nfeat))\n\u001b[0m\u001b[1;32m    478\u001b[0m         \u001b[0mxF\u001b[0m\u001b[0;34m,\u001b[0m \u001b[0mpvalues\u001b[0m \u001b[0;34m=\u001b[0m \u001b[0mzip\u001b[0m\u001b[0;34m(\u001b[0m\u001b[0;34m*\u001b[0m\u001b[0mdata\u001b[0m\u001b[0;34m)\u001b[0m\u001b[0;34m\u001b[0m\u001b[0m\n\u001b[1;32m    479\u001b[0m         \u001b[0;31m# Manage output type:\u001b[0m\u001b[0;34m\u001b[0m\u001b[0;34m\u001b[0m\u001b[0m\n",
      "\u001b[0;32m/home/karim/anaconda3/lib/python3.5/site-packages/joblib/parallel.py\u001b[0m in \u001b[0;36m__call__\u001b[0;34m(self, iterable)\u001b[0m\n\u001b[1;32m    808\u001b[0m                 \u001b[0;31m# consumption.\u001b[0m\u001b[0;34m\u001b[0m\u001b[0;34m\u001b[0m\u001b[0m\n\u001b[1;32m    809\u001b[0m                 \u001b[0mself\u001b[0m\u001b[0;34m.\u001b[0m\u001b[0m_iterating\u001b[0m \u001b[0;34m=\u001b[0m \u001b[0;32mFalse\u001b[0m\u001b[0;34m\u001b[0m\u001b[0m\n\u001b[0;32m--> 810\u001b[0;31m             \u001b[0mself\u001b[0m\u001b[0;34m.\u001b[0m\u001b[0mretrieve\u001b[0m\u001b[0;34m(\u001b[0m\u001b[0;34m)\u001b[0m\u001b[0;34m\u001b[0m\u001b[0m\n\u001b[0m\u001b[1;32m    811\u001b[0m             \u001b[0;31m# Make sure that we get a last message telling us we are done\u001b[0m\u001b[0;34m\u001b[0m\u001b[0;34m\u001b[0m\u001b[0m\n\u001b[1;32m    812\u001b[0m             \u001b[0melapsed_time\u001b[0m \u001b[0;34m=\u001b[0m \u001b[0mtime\u001b[0m\u001b[0;34m.\u001b[0m\u001b[0mtime\u001b[0m\u001b[0;34m(\u001b[0m\u001b[0;34m)\u001b[0m \u001b[0;34m-\u001b[0m \u001b[0mself\u001b[0m\u001b[0;34m.\u001b[0m\u001b[0m_start_time\u001b[0m\u001b[0;34m\u001b[0m\u001b[0m\n",
      "\u001b[0;32m/home/karim/anaconda3/lib/python3.5/site-packages/joblib/parallel.py\u001b[0m in \u001b[0;36mretrieve\u001b[0;34m(self)\u001b[0m\n\u001b[1;32m    755\u001b[0m                     \u001b[0;31m# a working pool as they expect.\u001b[0m\u001b[0;34m\u001b[0m\u001b[0;34m\u001b[0m\u001b[0m\n\u001b[1;32m    756\u001b[0m                     \u001b[0mself\u001b[0m\u001b[0;34m.\u001b[0m\u001b[0m_initialize_pool\u001b[0m\u001b[0;34m(\u001b[0m\u001b[0;34m)\u001b[0m\u001b[0;34m\u001b[0m\u001b[0m\n\u001b[0;32m--> 757\u001b[0;31m                 \u001b[0;32mraise\u001b[0m \u001b[0mexception\u001b[0m\u001b[0;34m\u001b[0m\u001b[0m\n\u001b[0m\u001b[1;32m    758\u001b[0m \u001b[0;34m\u001b[0m\u001b[0m\n\u001b[1;32m    759\u001b[0m     \u001b[0;32mdef\u001b[0m \u001b[0m__call__\u001b[0m\u001b[0;34m(\u001b[0m\u001b[0mself\u001b[0m\u001b[0;34m,\u001b[0m \u001b[0miterable\u001b[0m\u001b[0;34m)\u001b[0m\u001b[0;34m:\u001b[0m\u001b[0;34m\u001b[0m\u001b[0m\n",
      "\u001b[0;32m/home/karim/anaconda3/lib/python3.5/site-packages/joblib/parallel.py\u001b[0m in \u001b[0;36mretrieve\u001b[0;34m(self)\u001b[0m\n\u001b[1;32m    725\u001b[0m                 \u001b[0mjob\u001b[0m \u001b[0;34m=\u001b[0m \u001b[0mself\u001b[0m\u001b[0;34m.\u001b[0m\u001b[0m_jobs\u001b[0m\u001b[0;34m.\u001b[0m\u001b[0mpop\u001b[0m\u001b[0;34m(\u001b[0m\u001b[0;36m0\u001b[0m\u001b[0;34m)\u001b[0m\u001b[0;34m\u001b[0m\u001b[0m\n\u001b[1;32m    726\u001b[0m             \u001b[0;32mtry\u001b[0m\u001b[0;34m:\u001b[0m\u001b[0;34m\u001b[0m\u001b[0m\n\u001b[0;32m--> 727\u001b[0;31m                 \u001b[0mself\u001b[0m\u001b[0;34m.\u001b[0m\u001b[0m_output\u001b[0m\u001b[0;34m.\u001b[0m\u001b[0mextend\u001b[0m\u001b[0;34m(\u001b[0m\u001b[0mjob\u001b[0m\u001b[0;34m.\u001b[0m\u001b[0mget\u001b[0m\u001b[0;34m(\u001b[0m\u001b[0;34m)\u001b[0m\u001b[0;34m)\u001b[0m\u001b[0;34m\u001b[0m\u001b[0m\n\u001b[0m\u001b[1;32m    728\u001b[0m             \u001b[0;32mexcept\u001b[0m \u001b[0mtuple\u001b[0m\u001b[0;34m(\u001b[0m\u001b[0mself\u001b[0m\u001b[0;34m.\u001b[0m\u001b[0mexceptions\u001b[0m\u001b[0;34m)\u001b[0m \u001b[0;32mas\u001b[0m \u001b[0mexception\u001b[0m\u001b[0;34m:\u001b[0m\u001b[0;34m\u001b[0m\u001b[0m\n\u001b[1;32m    729\u001b[0m                 \u001b[0;31m# Stop dispatching any new job in the async callback thread\u001b[0m\u001b[0;34m\u001b[0m\u001b[0;34m\u001b[0m\u001b[0m\n",
      "\u001b[0;32m/home/karim/anaconda3/lib/python3.5/multiprocessing/pool.py\u001b[0m in \u001b[0;36mget\u001b[0;34m(self, timeout)\u001b[0m\n\u001b[1;32m    600\u001b[0m \u001b[0;34m\u001b[0m\u001b[0m\n\u001b[1;32m    601\u001b[0m     \u001b[0;32mdef\u001b[0m \u001b[0mget\u001b[0m\u001b[0;34m(\u001b[0m\u001b[0mself\u001b[0m\u001b[0;34m,\u001b[0m \u001b[0mtimeout\u001b[0m\u001b[0;34m=\u001b[0m\u001b[0;32mNone\u001b[0m\u001b[0;34m)\u001b[0m\u001b[0;34m:\u001b[0m\u001b[0;34m\u001b[0m\u001b[0m\n\u001b[0;32m--> 602\u001b[0;31m         \u001b[0mself\u001b[0m\u001b[0;34m.\u001b[0m\u001b[0mwait\u001b[0m\u001b[0;34m(\u001b[0m\u001b[0mtimeout\u001b[0m\u001b[0;34m)\u001b[0m\u001b[0;34m\u001b[0m\u001b[0m\n\u001b[0m\u001b[1;32m    603\u001b[0m         \u001b[0;32mif\u001b[0m \u001b[0;32mnot\u001b[0m \u001b[0mself\u001b[0m\u001b[0;34m.\u001b[0m\u001b[0mready\u001b[0m\u001b[0;34m(\u001b[0m\u001b[0;34m)\u001b[0m\u001b[0;34m:\u001b[0m\u001b[0;34m\u001b[0m\u001b[0m\n\u001b[1;32m    604\u001b[0m             \u001b[0;32mraise\u001b[0m \u001b[0mTimeoutError\u001b[0m\u001b[0;34m\u001b[0m\u001b[0m\n",
      "\u001b[0;32m/home/karim/anaconda3/lib/python3.5/multiprocessing/pool.py\u001b[0m in \u001b[0;36mwait\u001b[0;34m(self, timeout)\u001b[0m\n\u001b[1;32m    597\u001b[0m \u001b[0;34m\u001b[0m\u001b[0m\n\u001b[1;32m    598\u001b[0m     \u001b[0;32mdef\u001b[0m \u001b[0mwait\u001b[0m\u001b[0;34m(\u001b[0m\u001b[0mself\u001b[0m\u001b[0;34m,\u001b[0m \u001b[0mtimeout\u001b[0m\u001b[0;34m=\u001b[0m\u001b[0;32mNone\u001b[0m\u001b[0;34m)\u001b[0m\u001b[0;34m:\u001b[0m\u001b[0;34m\u001b[0m\u001b[0m\n\u001b[0;32m--> 599\u001b[0;31m         \u001b[0mself\u001b[0m\u001b[0;34m.\u001b[0m\u001b[0m_event\u001b[0m\u001b[0;34m.\u001b[0m\u001b[0mwait\u001b[0m\u001b[0;34m(\u001b[0m\u001b[0mtimeout\u001b[0m\u001b[0;34m)\u001b[0m\u001b[0;34m\u001b[0m\u001b[0m\n\u001b[0m\u001b[1;32m    600\u001b[0m \u001b[0;34m\u001b[0m\u001b[0m\n\u001b[1;32m    601\u001b[0m     \u001b[0;32mdef\u001b[0m \u001b[0mget\u001b[0m\u001b[0;34m(\u001b[0m\u001b[0mself\u001b[0m\u001b[0;34m,\u001b[0m \u001b[0mtimeout\u001b[0m\u001b[0;34m=\u001b[0m\u001b[0;32mNone\u001b[0m\u001b[0;34m)\u001b[0m\u001b[0;34m:\u001b[0m\u001b[0;34m\u001b[0m\u001b[0m\n",
      "\u001b[0;32m/home/karim/anaconda3/lib/python3.5/threading.py\u001b[0m in \u001b[0;36mwait\u001b[0;34m(self, timeout)\u001b[0m\n\u001b[1;32m    547\u001b[0m             \u001b[0msignaled\u001b[0m \u001b[0;34m=\u001b[0m \u001b[0mself\u001b[0m\u001b[0;34m.\u001b[0m\u001b[0m_flag\u001b[0m\u001b[0;34m\u001b[0m\u001b[0m\n\u001b[1;32m    548\u001b[0m             \u001b[0;32mif\u001b[0m \u001b[0;32mnot\u001b[0m \u001b[0msignaled\u001b[0m\u001b[0;34m:\u001b[0m\u001b[0;34m\u001b[0m\u001b[0m\n\u001b[0;32m--> 549\u001b[0;31m                 \u001b[0msignaled\u001b[0m \u001b[0;34m=\u001b[0m \u001b[0mself\u001b[0m\u001b[0;34m.\u001b[0m\u001b[0m_cond\u001b[0m\u001b[0;34m.\u001b[0m\u001b[0mwait\u001b[0m\u001b[0;34m(\u001b[0m\u001b[0mtimeout\u001b[0m\u001b[0;34m)\u001b[0m\u001b[0;34m\u001b[0m\u001b[0m\n\u001b[0m\u001b[1;32m    550\u001b[0m             \u001b[0;32mreturn\u001b[0m \u001b[0msignaled\u001b[0m\u001b[0;34m\u001b[0m\u001b[0m\n\u001b[1;32m    551\u001b[0m \u001b[0;34m\u001b[0m\u001b[0m\n",
      "\u001b[0;32m/home/karim/anaconda3/lib/python3.5/threading.py\u001b[0m in \u001b[0;36mwait\u001b[0;34m(self, timeout)\u001b[0m\n\u001b[1;32m    291\u001b[0m         \u001b[0;32mtry\u001b[0m\u001b[0;34m:\u001b[0m    \u001b[0;31m# restore state no matter what (e.g., KeyboardInterrupt)\u001b[0m\u001b[0;34m\u001b[0m\u001b[0m\n\u001b[1;32m    292\u001b[0m             \u001b[0;32mif\u001b[0m \u001b[0mtimeout\u001b[0m \u001b[0;32mis\u001b[0m \u001b[0;32mNone\u001b[0m\u001b[0;34m:\u001b[0m\u001b[0;34m\u001b[0m\u001b[0m\n\u001b[0;32m--> 293\u001b[0;31m                 \u001b[0mwaiter\u001b[0m\u001b[0;34m.\u001b[0m\u001b[0macquire\u001b[0m\u001b[0;34m(\u001b[0m\u001b[0;34m)\u001b[0m\u001b[0;34m\u001b[0m\u001b[0m\n\u001b[0m\u001b[1;32m    294\u001b[0m                 \u001b[0mgotit\u001b[0m \u001b[0;34m=\u001b[0m \u001b[0;32mTrue\u001b[0m\u001b[0;34m\u001b[0m\u001b[0m\n\u001b[1;32m    295\u001b[0m             \u001b[0;32melse\u001b[0m\u001b[0;34m:\u001b[0m\u001b[0;34m\u001b[0m\u001b[0m\n",
      "\u001b[0;31mKeyboardInterrupt\u001b[0m: "
     ]
    }
   ],
   "source": [
    "st = study('Olfacto')\n",
    "subjects = ['LEFC'] #'FERJ','MICP','VACJ','SEMC','LEFC','PIRJ','CHAF'\n",
    "conds = ['bad', 'good']\n",
    "\n",
    "# Define phase settings \n",
    "f = (0.1,13.,0.5,0.1)\n",
    "fname = ['VLFC','delta','theta', 'alpha']\n",
    "\n",
    "for su in subjects:\n",
    "    for cond in conds:\n",
    "        # Load file :\n",
    "        fi = su+'_odor_'+cond+'_bipo_sel.npz'\n",
    "        loadname = path.join(st.path, 'database/TS_E_all_by_odor_th40_art400_30_250_Good_Bad_EpiScore_Expi/', fi)\n",
    "        mat = np.load(loadname)\n",
    "        x, sf = mat['x'], 512.\n",
    "        n_elec, npts, n_trials = x.shape\n",
    "        print ('--> compute phase on : ', fi, 'data', x.shape, 'npts', npts, 'ntrials',n_trials, 'nelec', n_elec)              \n",
    "        \n",
    "        for elec in range(n_elec):\n",
    "            x_elec = x[elec,:,:]\n",
    "            step = 5500/ x_elec.shape[0]\n",
    "            time = np.arange(0, 5500, step)\n",
    "            # Define and save power objects :\n",
    "            PLF0bj = PLF(sf, npts=npts, f=f, method='hilbert',width=358, step=51, time=time)\n",
    "            x_PLF, pval = PLF0bj.get(x_elec,n_jobs=5)\n",
    "            x_PLF = np.squeeze(x_PLF)\n",
    "            # Plot both PLF in the same figure for good and bad\n",
    "            fig = plt.figure(1,figsize=(6,4))\n",
    "            title = 'trial '+str(elec)\n",
    "            fig, allax = PLF0bj.plot2D(fig, x_PLF, cmap='viridis', xlabel='Time (ms)', \n",
    "                xvec=PLF0bj.xvec, yvec=PLF0bj.yvec, ylabel='Frequency for phase (hz)', \n",
    "                figtitle=title, cblabel='PLF', vmin=0., vmax=1.)\n",
    "            plt.show()\n",
    "            "
   ]
  },
  {
   "cell_type": "code",
   "execution_count": null,
   "metadata": {
    "collapsed": true
   },
   "outputs": [],
   "source": [
    " kwargs = {}\n",
    "        kwargs['f'], kwargs['fname'] = f, fname\n",
    "        kwargs['labels'], kwargs['channels'], kwargs['xyz'] = mat['label'], mat['channel'], mat['xyz']\n",
    "        kwargs['PLF'],  kwargs['PLF_pval']= PLF0bj.get(x,n_jobs=5)\n",
    "        print('shape of PLF for one elec -->', kwargs['PLF'].shape)\n",
    "        save_phase = path.join(st.path, 'feature/7_Phase_E1E2_Odor_Good_Bad_EpiScore_Expi/', fi.replace('.npz', '_PLF.npz'))\n",
    "        np.savez(save_phase, **kwargs)\n",
    "        del kwargs['PLF'],  kwargs['PLF_pval'], kwargs['fname']\n",
    "        del kwargs, x, sf, n_elec, n_trials"
   ]
  },
  {
   "cell_type": "markdown",
   "metadata": {},
   "source": [
    "### Check all phase files dimensions"
   ]
  },
  {
   "cell_type": "code",
   "execution_count": null,
   "metadata": {
    "collapsed": false
   },
   "outputs": [],
   "source": [
    "st = study('Olfacto')\n",
    "files = st.search('_sel_PLF.npz', folder='feature/7_Phase_E1E2_Odor_Good_Bad_EpiScore_Expi/')\n",
    "for fi in files:\n",
    "    loadname = path.join(st.path, 'feature/7_Phase_E1E2_Odor_Good_Bad_EpiScore_Expi/', fi)\n",
    "    mat = np.load(loadname)\n",
    "    x = np.load(loadname)['PLF']\n",
    "    # nfreq, nelec, nwin, ntrials\n",
    "    print (fi, x.shape)\n",
    "    print(mat.files)"
   ]
  },
  {
   "cell_type": "markdown",
   "metadata": {},
   "source": [
    "### Plot all phases for all electrodes    \n",
    "    Ploting the PLF for good and bad conditions with stats"
   ]
  },
  {
   "cell_type": "code",
   "execution_count": null,
   "metadata": {
    "collapsed": false
   },
   "outputs": [],
   "source": [
    "#%matplotlib notebook\n",
    "st = study('Olfacto')\n",
    "path_phase = path.join(st.path, 'feature/7_Phase_E1E2_Odor_Good_Bad_EpiScore_Expi/')\n",
    "path_save = path.join(path_phase, 'figures_PLF/')\n",
    "subjects = ['FERJ','MICP','VACJ','SEMC','LEFC','PIRJ','CHAF']\n",
    "\n",
    "su = 'LEFC'\n",
    "freq = 0\n",
    "elec = 3\n",
    "\n",
    "#load big files (PLF: nelec, nfreq, npts)\n",
    "mat_good = np.load(path_phase+su+'_odor_good_bipo_sel_PLF.npz')\n",
    "good_phase, pvals_good = mat_good['PLF'],mat_good['PLF_pval']\n",
    "print(good_phase.shape, pvals_good.shape)\n",
    "nelecs, nfreq = good_phase.shape[0], good_phase.shape[1]\n",
    "mat_bad = np.load(path_phase+su+'_odor_bad_bipo_sel_PLF.npz')\n",
    "bad_phase, pvals_bad = mat_bad['PLF'], mat_bad['PLF_pval']\n",
    "freq_names, channels, labels = mat_good['fname'], mat_good['channels'], mat_good['labels']\n",
    "\n",
    "# files for one elec (shape: npts)\n",
    "print('plotting --> ', su, freq_names[freq],'elec', elec,'/',nelecs)\n",
    "elec_good_phase = good_phase[elec,freq,:]\n",
    "elec_bad_phase = bad_phase[elec,freq,:]\n",
    "pval_good, pval_bad = pvals_good[elec,freq,:], pvals_bad[elec,freq,:]\n",
    "freq_name, label, channel = freq_names[freq], labels[elec], channels[elec]\n",
    "print('elec good shape', elec_good_phase.shape, 'elec bad shape', elec_bad_phase.shape)\n",
    "\n",
    "# Plot both PLF in the same figure for good and bad\n",
    "fig = plt.figure(1,figsize=(6,4))\n",
    "step = 5500/ elec_good_phase.shape[0]\n",
    "time = np.arange(0, 5500, step)\n",
    "title = 'trial '\n",
    "fig, allax = PLF0bj.plot2D(fig, elec_good_phase, cmap='viridis', xlabel='Time (ms)', \n",
    "            ylabel='Frequency for phase (hz)', figtitle=title, cblabel='PLF')\n",
    "            "
   ]
  },
  {
   "cell_type": "code",
   "execution_count": null,
   "metadata": {
    "collapsed": true
   },
   "outputs": [],
   "source": [
    "time = 1000 * np.arange(plf_all.shape[0]) / sf #to set the 0 in your TF\n",
    "print ('Time points: ', len(time),min(time), max(time))\n",
    "tfObj = TF(sf, bad.shape[0], f=f, time=time, width=width, step=step,baseline=baseline, norm=3)\n",
    "xtf_bad, _ = tfObj.get((bad), statmeth=None, n_perm=n_perm, maxstat=False, tail=2, metric='m_center')\n",
    "xtf_good, _ = tfObj.get((good), statmeth=None, n_perm=n_perm, maxstat=False, tail=2, metric='m_center')\n",
    "print ('TF size :', xtf_bad.shape, xtf_good.shape)\n",
    "xtf_bad, xtf_good = 100*np.swapaxes(xtf_bad,0,1), 100*np.swapaxes(xtf_good,0,1)\n",
    "\n",
    "# plot both TF in the same figure\n",
    "xtf_all = np.concatenate((xtf_bad, xtf_good), axis=0)\n",
    "print ('TF size :', xtf_bad.shape,xtf_good.shape)\n",
    "fig = plt.figure(elec, figsize=(10, 4))\n",
    "title = su+' Elec('+str(elec)+') '+channel+' '+label+' Bad/Good'\n",
    "fig, allax = tfObj.plot2D(fig, xtf_all, cmap='viridis', xvec=tfObj.xvec,\n",
    "             yvec=tfObj.yvec, xlabel='Time (ms)', vmin=-100, vmax=100, ycb=-20,\n",
    "             ylabel='Frequency (hz)', figtitle=title, title=['Bad Odors', 'Good odors'],\n",
    "             cblabel='Power modulations (%)', pltype='imshow', resample=(0.1, 0.1),\n",
    "            sharex=False, sharey=False, subdim=(1,2), subspace={'top':0.8})\n",
    "for k in allax:\n",
    "    addLines(k, vLines=lines, vColor=['firebrick']*2, vWidth=[2]*2)\n",
    "#Save all your plots\n",
    "fname = (path2save+su+'_TF_elec_('+str(elec)+')_'+channel+'_'+label+'_Bad-Good.png')\n",
    "print (fname)\n",
    "fig.savefig(fname, dpi=300, bbox_inches='tight')\n",
    "plt.close()"
   ]
  }
 ],
 "metadata": {
  "anaconda-cloud": {},
  "kernelspec": {
   "display_name": "Python [conda root]",
   "language": "python",
   "name": "conda-root-py"
  },
  "language_info": {
   "codemirror_mode": {
    "name": "ipython",
    "version": 3
   },
   "file_extension": ".py",
   "mimetype": "text/x-python",
   "name": "python",
   "nbconvert_exporter": "python",
   "pygments_lexer": "ipython3",
   "version": "3.5.2"
  }
 },
 "nbformat": 4,
 "nbformat_minor": 1
}
