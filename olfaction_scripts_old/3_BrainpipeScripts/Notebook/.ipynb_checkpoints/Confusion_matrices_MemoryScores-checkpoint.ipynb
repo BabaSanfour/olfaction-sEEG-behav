{
 "cells": [
  {
   "cell_type": "code",
   "execution_count": 39,
   "metadata": {
    "collapsed": false
   },
   "outputs": [
    {
     "name": "stdout",
     "output_type": "stream",
     "text": [
      "PIRJ [2, 4, 3, 5, 5, 3] ['9', '18', '1', '7', '4', '6'] nb of odor change: 3 ratio  0.5\n",
      "LEFC [2, 2, 2, 4, 2, 5, 5, 5] ['15', '2', '1', '3', '16', '14', '4', '17'] nb of odor change: 1 ratio  0.125\n",
      "CHAF [2, 3, 5, 3, 3, 5, 5, 5] ['2', '1', '3', '4', '5', '8', '7', '9'] nb of odor change: 3 ratio  0.375\n",
      "VACJ [2, 4, 2, 4, 3, 3, 5, 5] ['11', '15', '12', '17', '10', '14', '16', '13'] nb of odor change: 4 ratio  0.5\n",
      "SEMC [2, 4, 4, 4, 3, 3, 5, 3] ['10', '7', '11', '12', '5', '8', '9', '13'] nb of odor change: 6 ratio  0.75\n",
      "MICP [4, 2, 2, 3, 5, 5, 5, 3] ['3', '12', '18', '2', '8', '14', '6', '9'] nb of odor change: 3 ratio  0.375\n",
      "FERJ [2, 4, 4, 2, 5, 3, 3, 3] ['2', '12', '17', '16', '1', '5', '7', '13'] nb of odor change: 5 ratio  0.625\n"
     ]
    }
   ],
   "source": [
    "import numpy as np\n",
    "from os import path\n",
    "import matplotlib.pyplot as plt\n",
    "\n",
    "\n",
    "subjects = ['PIRJ', 'LEFC', 'CHAF', 'VACJ', 'SEMC', 'MICP', 'FERJ']\n",
    "#REC SCORE\n",
    "su_rec_groups = {\n",
    "                    'CHAF' : {'bad':['2'],\n",
    "                              'good':['1','3','4','5','8','7','9']},\n",
    "                    'VACJ' : {'bad':['11','15','12','17'],\n",
    "                              'good':['10','14','16','13']},\n",
    "                    'SEMC' : {'bad':['10','7','11','12'],\n",
    "                              'good':['5','8','9','13']},\n",
    "                    'PIRJ' : {'bad':['9','18'],\n",
    "                              'good':['1','7','4','6']}, #1 odor with no clean signal\n",
    "                    'LEFC' : {'bad':['15','2','1','3','16'],\n",
    "                              'good':['14','4','17']},\n",
    "                    'MICP' : {'bad':['3','12','18'],\n",
    "                              'good':['2','8','14','6','9']},\n",
    "                    'FERJ' : {'bad':['2','12','17','16'],\n",
    "                              'good':['1','5','7','13']}\n",
    "                }\n",
    "#EPI SCORE\n",
    "su_epi_groups = {\n",
    "                    'CHAF' : {'bad':['1','2','4','5'],\n",
    "                              'good':['3','8','7','9']},\n",
    "                    'VACJ' : {'bad':['11','14','12','10'],\n",
    "                              'good':['15','17','16','13']},\n",
    "                    'SEMC' : {'bad':['10','5','8','13'],\n",
    "                              'good':['7','11','9','12']},\n",
    "                    'PIRJ' : {'bad':['1','6','9','5'],\n",
    "                              'good':['7','18','4','15']}, #1 odor with no clean signal\n",
    "                    'LEFC' : {'bad':['15','2','1','16'],\n",
    "                              'good':['14','3','4','17']},\n",
    "                    'MICP' : {'bad':['18','12','2','9'],\n",
    "                              'good':['3','8','14','6']},\n",
    "                    'FERJ' : {'bad':['7','5','13','2','16'],\n",
    "                              'good':['12','1','17']},\n",
    "                }\n",
    "    \n",
    "change, ratio_change = [], []\n",
    "for su in subjects:\n",
    "    odors_list = su_rec_groups[su]['bad']+su_rec_groups[su]['good']\n",
    "    rec_vec, epi_vec = [], []\n",
    "    for odor in odors_list:\n",
    "        if odor in su_rec_groups[su]['bad']:\n",
    "            rec_vec.append(0)\n",
    "        if odor in su_rec_groups[su]['good']:\n",
    "            rec_vec.append(1)\n",
    "        if odor in su_epi_groups[su]['bad']:\n",
    "            epi_vec.append(2)\n",
    "        if odor in su_epi_groups[su]['good']:\n",
    "            epi_vec.append(4)\n",
    "    mat = (np.add(rec_vec,epi_vec)).tolist()\n",
    "    nb_change = mat.count(3)+mat.count(4)\n",
    "    change.append(nb_change)\n",
    "    print(su, mat, odors_list, 'nb of odor change:',nb_change, 'ratio ',nb_change/(len(odors_list)))\n",
    "    \n",
    "    "
   ]
  }
 ],
 "metadata": {
  "anaconda-cloud": {},
  "kernelspec": {
   "display_name": "Python [conda root]",
   "language": "python",
   "name": "conda-root-py"
  },
  "language_info": {
   "codemirror_mode": {
    "name": "ipython",
    "version": 3
   },
   "file_extension": ".py",
   "mimetype": "text/x-python",
   "name": "python",
   "nbconvert_exporter": "python",
   "pygments_lexer": "ipython3",
   "version": "3.5.2"
  }
 },
 "nbformat": 4,
 "nbformat_minor": 1
}
