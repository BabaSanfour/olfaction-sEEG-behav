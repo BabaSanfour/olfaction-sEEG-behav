{
 "cells": [
  {
   "cell_type": "markdown",
   "metadata": {},
   "source": [
    "## Calculate ERPs"
   ]
  },
  {
   "cell_type": "code",
   "execution_count": 11,
   "metadata": {
    "collapsed": false
   },
   "outputs": [],
   "source": [
    "import numpy as np\n",
    "import matplotlib.pyplot as plt\n",
    "from os import path\n",
    "from matplotlib.ticker import ScalarFormatter, MaxNLocator\n",
    "#%matplotlib notebook\n",
    "\n",
    "from brainpipe.system import study\n",
    "from brainpipe.visual import *\n",
    "from brainpipe.statistics import *\n",
    "from mne.baseline import rescale\n",
    "from mne.filter import filter_data\n",
    "from mne.stats import *"
   ]
  },
  {
   "cell_type": "markdown",
   "metadata": {},
   "source": [
    "## User variables"
   ]
  },
  {
   "cell_type": "code",
   "execution_count": 35,
   "metadata": {
    "collapsed": false
   },
   "outputs": [
    {
     "name": "stdout",
     "output_type": "stream",
     "text": [
      "-> Olfacto loaded\n"
     ]
    }
   ],
   "source": [
    "# where to find data\n",
    "st = study('Olfacto')\n",
    "path_data = path.join (st.path, 'database/TS_E_all_by_odor_th40_art400_30_250_5s_Good_Bad_EpiScore/')\n",
    "save_path = path.join(st.path, 'feature/ERP_Groups_Odors_250ms_rescale_filtered_stats_bootstrap/')\n",
    "# analysis parameters\n",
    "score = 'Epi' #'Rec'\n",
    "low_pass_filter = 10.\n",
    "sf = 512.\n",
    "norm_mode = 'mean' #'ratio' 'mean' 'percent' \n",
    "baseline = [973 , 1024] #100ms before odor perception\n",
    "data_to_use = [973, 1536] #1000ms after odor\n",
    "time_points = data_to_use[1]-data_to_use[0]"
   ]
  },
  {
   "cell_type": "markdown",
   "metadata": {},
   "source": [
    "## Plot ERPs for Odor groups"
   ]
  },
  {
   "cell_type": "code",
   "execution_count": 38,
   "metadata": {
    "collapsed": false
   },
   "outputs": [
    {
     "name": "stdout",
     "output_type": "stream",
     "text": [
      "Channel :  b2-b1 Label :  mHC-Ent N_trials : 13/13 Bad shape :  (2560, 13) Good shape :  (2560, 13)\n",
      "Setting up low-pass filter at 10 Hz\n",
      "h_trans_bandwidth chosen to be 2.5 Hz\n",
      "Filter length of 1352 samples (2.641 sec) selected\n",
      "Setting up low-pass filter at 10 Hz\n",
      "h_trans_bandwidth chosen to be 2.5 Hz\n",
      "Filter length of 1352 samples (2.641 sec) selected\n",
      "Size of filtered data bad : (13, 2560) filtered data good :  (13, 2560)\n",
      "time points :  (2560,)\n",
      "Applying baseline correction (mode: mean)\n",
      "Applying baseline correction (mode: mean)\n",
      "Size norm & filtered data 0 :  (13, 2560) (13, 2560)\n",
      "563\n",
      "563\n"
     ]
    },
    {
     "ename": "NameError",
     "evalue": "name 'idx_signif_nb' is not defined",
     "output_type": "error",
     "traceback": [
      "\u001b[0;31m---------------------------------------------------------------------------\u001b[0m",
      "\u001b[0;31mNameError\u001b[0m                                 Traceback (most recent call last)",
      "\u001b[0;32m<ipython-input-38-774037d23c0d>\u001b[0m in \u001b[0;36m<module>\u001b[0;34m()\u001b[0m\n\u001b[1;32m    118\u001b[0m \u001b[0;34m\u001b[0m\u001b[0m\n\u001b[1;32m    119\u001b[0m         \u001b[0;31m# Save the plots\u001b[0m\u001b[0;34m\u001b[0m\u001b[0;34m\u001b[0m\u001b[0m\n\u001b[0;32m--> 120\u001b[0;31m         \u001b[0;32mif\u001b[0m \u001b[0msum\u001b[0m\u001b[0;34m(\u001b[0m\u001b[0midx_signif_nb\u001b[0m\u001b[0;34m)\u001b[0m \u001b[0;34m>=\u001b[0m \u001b[0mn_rep\u001b[0m \u001b[0;34m-\u001b[0m \u001b[0mn_rep\u001b[0m\u001b[0;34m*\u001b[0m\u001b[0malpha\u001b[0m\u001b[0;34m:\u001b[0m\u001b[0;34m\u001b[0m\u001b[0m\n\u001b[0m\u001b[1;32m    121\u001b[0m             \u001b[0mname_pval_rep\u001b[0m \u001b[0;34m=\u001b[0m \u001b[0;34m(\u001b[0m\u001b[0msave_path\u001b[0m \u001b[0;34m+\u001b[0m\u001b[0;34m'Significant/'\u001b[0m\u001b[0;34m+\u001b[0m\u001b[0msu\u001b[0m \u001b[0;34m+\u001b[0m\u001b[0;34m'_pvalues_all_'\u001b[0m \u001b[0;34m+\u001b[0m \u001b[0mscore\u001b[0m \u001b[0;34m+\u001b[0m\u001b[0;34m'_'\u001b[0m\u001b[0;34m+\u001b[0m\u001b[0mlabel\u001b[0m\u001b[0;34m[\u001b[0m\u001b[0melec\u001b[0m\u001b[0;34m]\u001b[0m\u001b[0;34m+\u001b[0m\u001b[0;34m'_('\u001b[0m\u001b[0;34m+\u001b[0m\u001b[0mstr\u001b[0m\u001b[0;34m(\u001b[0m\u001b[0melec\u001b[0m\u001b[0;34m)\u001b[0m\u001b[0;34m+\u001b[0m\u001b[0;34m').npy'\u001b[0m\u001b[0;34m)\u001b[0m\u001b[0;34m\u001b[0m\u001b[0m\n\u001b[1;32m    122\u001b[0m             \u001b[0mname_p_val_max\u001b[0m \u001b[0;34m=\u001b[0m \u001b[0;34m(\u001b[0m\u001b[0msave_path\u001b[0m \u001b[0;34m+\u001b[0m\u001b[0;34m'Significant/'\u001b[0m\u001b[0;34m+\u001b[0m\u001b[0msu\u001b[0m \u001b[0;34m+\u001b[0m\u001b[0;34m'_pvalues_max_'\u001b[0m \u001b[0;34m+\u001b[0m \u001b[0mscore\u001b[0m \u001b[0;34m+\u001b[0m\u001b[0;34m'_'\u001b[0m\u001b[0;34m+\u001b[0m\u001b[0mlabel\u001b[0m\u001b[0;34m[\u001b[0m\u001b[0melec\u001b[0m\u001b[0;34m]\u001b[0m\u001b[0;34m+\u001b[0m\u001b[0;34m'_('\u001b[0m\u001b[0;34m+\u001b[0m\u001b[0mstr\u001b[0m\u001b[0;34m(\u001b[0m\u001b[0melec\u001b[0m\u001b[0;34m)\u001b[0m\u001b[0;34m+\u001b[0m\u001b[0;34m').npy'\u001b[0m\u001b[0;34m)\u001b[0m\u001b[0;34m\u001b[0m\u001b[0m\n",
      "\u001b[0;31mNameError\u001b[0m: name 'idx_signif_nb' is not defined"
     ]
    }
   ],
   "source": [
    "test = True\n",
    "\n",
    "if test == True:\n",
    "    n_elec = {'VACJ' :1}\n",
    "    subjects = ['VACJ']\n",
    "else :\n",
    "    subjects = ['SEMC','PIRJ','LEFC','MICP','CHAF','VACJ'] \n",
    "    n_elec = {\n",
    "    'CHAF' : 107,\n",
    "    'VACJ' : 139, \n",
    "    'SEMC' : 107,\n",
    "    'PIRJ' : 106,\n",
    "    'LEFC' : 193,\n",
    "    'MICP' : 105,\n",
    "        }\n",
    "\n",
    "for su in subjects:\n",
    "    for elec in range(0, n_elec[su],1):\n",
    "        #Load files\n",
    "        badname = su+'_concat_odor_bad_bipo.npz'\n",
    "        goodname = su+'_concat_odor_good_bipo.npz'\n",
    "        data_bad = np.load(path.join(path_data, badname))\n",
    "        data_good = np.load(path.join(path_data, goodname))\n",
    "        data_bad, channel, label, data_good = data_bad['x'], data_bad['channel'], data_bad['label'], data_good['x']\n",
    "\n",
    "        # Select data for one elec + name :\n",
    "        data_elec_bad = data_bad[elec,:,:]\n",
    "        data_elec_good = data_good[elec,:,:]\n",
    "        ntrials = str(data_elec_bad.shape[1])+'/'+ str(data_elec_good.shape[1]) #to be displayed on figures\n",
    "        print ('Channel : ', channel[elec], 'Label : ', label[elec], 'N_trials :', ntrials, \n",
    "               'Bad shape : ', data_elec_bad.shape, 'Good shape : ', data_elec_good.shape)\n",
    "\n",
    "        #Filter data for one elec (all trials):\n",
    "        data_elec_bad = np.array(data_elec_bad, dtype='float64')\n",
    "        data_elec_good = np.array(data_elec_good, dtype='float64')\n",
    "        data_bad_to_filter = np.swapaxes(data_elec_bad, 0, 1)\n",
    "        data_good_to_filter = np.swapaxes(data_elec_good, 0, 1)\n",
    "        filtered_data_bad = filter_data(data_bad_to_filter, sfreq=512, l_freq=None, h_freq=low_pass_filter, method='fir', phase='zero-double')\n",
    "        filtered_data_good = filter_data(data_good_to_filter, sfreq=512, l_freq=None, h_freq=low_pass_filter, method='fir', phase='zero-double')\n",
    "        print ('Size of filtered data bad :', filtered_data_bad.shape, 'filtered data good : ', filtered_data_good.shape,)\n",
    "\n",
    "        #Normalize the non-averaged data (all trials)\n",
    "        times = np.arange(filtered_data_bad.shape[1])\n",
    "        print ('time points : ', times.shape)\n",
    "        norm_filtered_data_bad = rescale(filtered_data_bad, times=times, baseline=baseline, mode=norm_mode)\n",
    "        norm_filtered_data_good = rescale(filtered_data_good, times=times, baseline=baseline, mode=norm_mode)\n",
    "        print ('Size norm & filtered data 0 : ', norm_filtered_data_bad.shape, norm_filtered_data_good.shape,)\n",
    "        \n",
    "        # Range of the data to compute\n",
    "        data_range = range(data_to_use[0], data_to_use[1])\n",
    "        # Select a time window in the data\n",
    "        data_bad = norm_filtered_data_bad[:, data_range]\n",
    "        data_good = norm_filtered_data_good[:, data_range,]\n",
    "        #print ('-> Shape of the selected data for learn 0', data_bad.shape, 'learn 1', data_good.shape,)\n",
    "\n",
    "        # =======================================  STATISTICS  =====================================\n",
    "        n_rep = 10 #bootstrap\n",
    "        T_rep = np.array([])\n",
    "        p_val_rep = np.array([])\n",
    "        alpha = 0.05\n",
    "        \n",
    "        for i in range(n_rep):\n",
    "            #reshape data to have the exact same nb of trials (mandatory for t-tests)\n",
    "            if data_bad.shape[0] > data_good.shape[0]:\n",
    "                data_bad = data_bad[np.random.randint(data_bad.shape[0], size=data_good.shape[0]), :] #reshape bad_data to fit good_data shape\n",
    "                #print ('rand bad matrix', data_bad.shape)\n",
    "            if data_bad.shape[0] < data_good.shape[0]:\n",
    "                data_good = data_good[np.random.randint(data_good.shape[0], size=data_bad.shape[0]), :]\n",
    "                #print ('rand good matrix', data_good.shape)\n",
    "            X = data_bad - data_good #the last dimension needs to be time\n",
    "            T0, p_values, H0 = permutation_t_test(X, n_permutations=100, tail=0, n_jobs=1, verbose=None)\n",
    "            T_rep = np.vstack((T_rep,T0)) if np.size(T_rep) else T0\n",
    "            p_val_rep = np.vstack((p_val_rep,p_values)) if np.size(p_val_rep) else p_values\n",
    "        \n",
    "        p_val_max = []\n",
    "        for t in range(time_points):\n",
    "            pmax = p_val_rep[:,t].max()\n",
    "            p_val_max.append(pmax)\n",
    "        \n",
    "        # ========================== PREPARE PLOTS AND SAVE STATS =========================================\n",
    "            \n",
    "        # plot and figure parameters\n",
    "        xfmt = ScalarFormatter(useMathText=True)\n",
    "        xfmt.set_powerlimits((0,3))\n",
    "        fig = plt.figure(1,figsize=(7,7))\n",
    "        title = 'ERP and Stats for '+su+''+score+' Good/Bad '+ channel [elec] +' '+label[elec]+' ('+str(elec)+') ntrials:'+str(ntrials)\n",
    "        fig.suptitle(title, fontsize=12)\n",
    "        times_plot = 1000 * np.arange((baseline[0] - baseline[1]), data_to_use[1]-baseline[1]) / sf\n",
    "        #print (len(times_plot))\n",
    "        lines = [0] #time vector is in ms\n",
    "\n",
    "        # Plot the stats for the ERPs\n",
    "        plt.subplot(211)\n",
    "        BorderPlot(times_plot, p_val_max, color=['b'], linewidth=2, ncol=1, xlabel='Time (ms)',\n",
    "                   ylabel = 'pvalues')\n",
    "        addPval(plt.gca(), p_val_max, p=0.05, x=times_plot, y=0.5, color='r', lw=3)\n",
    "        addLines(plt.gca(), vLines=lines, vColor=['r'], vWidth=[2], hLines=[0], \n",
    "                 hColor=['#000000'], hWidth=[2])\n",
    "        rmaxis(plt.gca(), ['right', 'top'])\n",
    "        plt.gca()\n",
    "\n",
    "        # Plot the ERPs and the stats\n",
    "        plt.subplot(212)\n",
    "        data_all = np.concatenate((data_bad, data_good), axis=0)\n",
    "        label_bad = np.zeros(data_bad.shape[0], dtype='int64')\n",
    "        label_good = np.ones(data_good.shape[0], dtype='int64')\n",
    "        labels = np.concatenate((label_bad, label_good), axis=0)\n",
    "        BorderPlot(times_plot, data_all, y=labels, kind='sem', alpha=0.2, color=['b', 'm'], \n",
    "                   linewidth=2, ncol=1, xlabel='Time (ms)',ylabel = r' $\\mu$V', \n",
    "                   legend = ['bad', 'good'])\n",
    "        addPval(plt.gca(), p_val_rep.mean(0), p=0.05, x=times_plot, y=5, color='r', lw=3)\n",
    "        addLines(plt.gca(), vLines=lines, vColor=['r'], vWidth=[2], hLines=[0], \n",
    "                 hColor=['#000000'], hWidth=[2])\n",
    "        rmaxis(plt.gca(), ['right', 'top'])\n",
    "        plt.legend(loc=0, handletextpad=0.1, frameon=False)\n",
    "        plt.gca().yaxis.set_major_locator(MaxNLocator(3,integer=True))\n",
    "\n",
    "        # Save the plots\n",
    "        if sum(idx_signif_nb) >= n_rep - n_rep*alpha:\n",
    "            name_pval_rep = (save_path +'Significant/'+su +'_pvalues_all_' + score +'_'+label[elec]+'_('+str(elec)+').npy')\n",
    "            name_p_val_max = (save_path +'Significant/'+su +'_pvalues_max_' + score +'_'+label[elec]+'_('+str(elec)+').npy')\n",
    "            plot_name = (save_path +'Significant/'+su +'_pvalues_'  + score +'_'+label[elec]+'_('+str(elec)+').png')\n",
    "        else:\n",
    "            fname = (save_path +su +'_pvalues_good_bad_' + channel [elec] +'_'+label[elec]+'_('+str(elec)+').npy')\n",
    "            plot_name = (save_path +su +'_pvalues_good_bad_'  + channel [elec] +'_'+label[elec]+'_('+str(elec)+').png')\n",
    "        \n",
    "        np.save(name_pval_rep, p_val_rep)\n",
    "        np.save(name_p_val_max, p_val_max)\n",
    "        plt.savefig(plot_name, dpi=300, bbox_inches='tight')\n",
    "        plt.clf()\n",
    "        plt.close()\n",
    "        del idx_signif_nb, T_rep, p_val_rep\n"
   ]
  },
  {
   "cell_type": "code",
   "execution_count": 29,
   "metadata": {
    "collapsed": false
   },
   "outputs": [
    {
     "name": "stdout",
     "output_type": "stream",
     "text": [
      "(100, 563)\n",
      "51\n"
     ]
    }
   ],
   "source": [
    "x = np.load(path.join(save_path,'SEMC_pvalues_good_bad_b2-b1_aHC&aHC-Ent_(0).npy'))\n",
    "print(x.shape)\n",
    "data_range = range(data_to_use[0], data_to_use[1])\n",
    "print(data_to_use[1]-data_to_use[0]-512)"
   ]
  }
 ],
 "metadata": {
  "anaconda-cloud": {},
  "kernelspec": {
   "display_name": "Python [default]",
   "language": "python",
   "name": "python3"
  },
  "language_info": {
   "codemirror_mode": {
    "name": "ipython",
    "version": 3
   },
   "file_extension": ".py",
   "mimetype": "text/x-python",
   "name": "python",
   "nbconvert_exporter": "python",
   "pygments_lexer": "ipython3",
   "version": "3.5.2"
  }
 },
 "nbformat": 4,
 "nbformat_minor": 1
}
