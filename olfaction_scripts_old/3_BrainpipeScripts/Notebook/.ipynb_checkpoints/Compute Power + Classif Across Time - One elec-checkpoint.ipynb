{
 "cells": [
  {
   "cell_type": "markdown",
   "metadata": {
    "collapsed": true
   },
   "source": [
    "# Classification Power Encoding"
   ]
  },
  {
   "cell_type": "code",
   "execution_count": null,
   "metadata": {
    "collapsed": false
   },
   "outputs": [],
   "source": [
    "import numpy as np\n",
    "import matplotlib.pyplot as plt\n",
    "import scipy.io as sio\n",
    "#%matplotlib notebook\n",
    "# %matplotlib inline\n",
    "# %load_ext autoreload\n",
    "# %autoreload 2\n",
    "from brainpipe.classification import *\n",
    "from brainpipe.system import study\n",
    "from brainpipe.feature import power, amplitude, sigfilt\n",
    "from brainpipe.visual import *\n",
    "\n",
    "from brainpipe.statistics import *\n",
    "from os import path"
   ]
  },
  {
   "cell_type": "markdown",
   "metadata": {},
   "source": [
    "### Check all files dimensions"
   ]
  },
  {
   "cell_type": "code",
   "execution_count": null,
   "metadata": {
    "collapsed": false
   },
   "outputs": [],
   "source": [
    "st = study('Olfacto')\n",
    "files = st.search('_E1E2_concat_early_bipo.npz', folder='database/TS_E_all_cond_by_block_trigs_th40_art400_30_250_5s_learning2blocks/')\n",
    "for fi in files:\n",
    "    loadname = path.join(st.path, 'database/TS_E_all_cond_by_block_trigs_th40_art400_30_250_5s_learning2blocks/', fi)\n",
    "    x = np.load(loadname)['x']\n",
    "    print (fi, x.shape)"
   ]
  },
  {
   "cell_type": "markdown",
   "metadata": {},
   "source": [
    "## Calculate all power for classif Baseline = Rest\n",
    "Modification of Time window & steps to compute Power"
   ]
  },
  {
   "cell_type": "code",
   "execution_count": null,
   "metadata": {
    "collapsed": false,
    "scrolled": true
   },
   "outputs": [],
   "source": [
    "st = study('Olfacto')\n",
    "subjects = ['CHAF', 'LEFC', 'PIRJ', 'MICP', 'VACJ', 'SEMC']\n",
    "conds = ['early', 'late']\n",
    "\n",
    "for su in subjects:\n",
    "    for cond in conds:\n",
    "        \n",
    "        # Define power settings :\n",
    "        kwargs = {} # Define an empty dictionnary to save all power parameters\n",
    "        kwargs['f'] = [[2, 4], [5, 7], [8, 13], [13, 30], [30, 60], [60, 150]] # Frequency vector\n",
    "        fname = ['delta', 'theta', 'alpha', 'beta', 'gamma30-60', 'gamma60-150'] # Name of each frequency\n",
    "        kwargs['width'], kwargs['step'] = 358, 25 # take power in 256 samples (500ms) windows width every 64 samples (125ms)\n",
    "        #358, 25 700ms with 50s of overlap, 410, 51 800ms with 100 ms overlap\n",
    "\n",
    "        # Load file :\n",
    "        fi = su+'_E1E2_concat_'+cond+'_bipo.npz'\n",
    "        loadname = path.join(st.path, 'database/TS_E_all_cond_by_block_trigs_th40_art400_30_250_5s_learning2blocks/', fi)\n",
    "        x = np.load(loadname)['x']\n",
    "        rest = x[:, 102:461,:] #700ms 102:461, 500ms 128:384,800ms 51:461\n",
    "        odor = x[:,665:,:] #700ms 665, #500ms 614, #800ms 614\n",
    "        baseline = [102,461]\n",
    "        time = 1000 * np.arange(odor.shape[1]) / 512\n",
    "        print ('--> compute power on : ', fi, 'rest', rest.shape, 'odor', odor.shape)\n",
    "        sf = 512\n",
    "        n_elec, n_pts_rest, n_trials = rest.shape\n",
    "        n_pts_odor = odor.shape[1]\n",
    "\n",
    "        # Define and save power objects :\n",
    "        #ODOR - BASELINE\n",
    "        powObj_odor_corr = power(sf, n_pts_odor, baseline=baseline, norm=3, **kwargs)\n",
    "        kwargs['xpow'],  kwargs['xpow_pval']= powObj_odor_corr.get(odor,n_jobs=-1)\n",
    "        kwargs['fname'] = fname\n",
    "        saveodorcorr = path.join(st.path, 'feature/6_Power_E1E2_Odor_Rest_Explo_2blocks_700_50/', fi.replace('.npz', '_odor_corr_power.npz'))\n",
    "        print(saveodorcorr)\n",
    "        np.savez(saveodorcorr, **kwargs)\n",
    "        del kwargs['xpow'],  kwargs['xpow_pval'], kwargs['fname']\n",
    "\n",
    "        #REST\n",
    "        powObj_rest = power(sf, n_pts_rest, **kwargs)\n",
    "        kwargs['xpow'],  kwargs['xpow_pval']= powObj_rest.get(rest, n_jobs=-1)\n",
    "        kwargs['fname'] = fname\n",
    "        saverest = path.join(st.path, 'feature/2_Power_Encoding_Odor_rest_th40_art400_30_250_across_time_nooverlap/', fi.replace('.npz', '_rest_power.npz'))\n",
    "        print(saverest)\n",
    "        np.savez(saverest, **kwargs)\n",
    "        del kwargs['xpow'],  kwargs['xpow_pval'], kwargs['fname']\n",
    "\n",
    "        #ODOR\n",
    "        powObj_odor = power(sf, n_pts_odor, **kwargs)\n",
    "        kwargs['xpow'],  kwargs['xpow_pval']= powObj_odor.get(odor, n_jobs=-1)\n",
    "        kwargs['fname'] = fname\n",
    "        saveodor = path.join(st.path, 'feature/2_Power_Encoding_Odor_rest_th40_art400_30_250_across_time_nooverlap/', fi.replace('.npz', '_odor_power.npz'))\n",
    "        print(saveodor)\n",
    "        np.savez(saveodor, **kwargs)\n",
    "        del kwargs, x, sf, n_elec, n_trials, n_pts_rest, n_pts_odor"
   ]
  },
  {
   "cell_type": "markdown",
   "metadata": {},
   "source": [
    "## Compute all Power Encoding for early-late Explo"
   ]
  },
  {
   "cell_type": "code",
   "execution_count": null,
   "metadata": {
    "collapsed": false
   },
   "outputs": [],
   "source": [
    "st = study('Olfacto')\n",
    "subjects = ['CHAF', 'LEFC', 'PIRJ', 'MICP', 'VACJ', 'SEMC']\n",
    "conds = ['early', 'late']\n",
    "\n",
    "for su in subjects:\n",
    "    for cond in conds:\n",
    "        \n",
    "        # Define power settings :\n",
    "        kwargs = {} # Define an empty dictionnary to save all power parameters\n",
    "        kwargs['f'] = [[2, 4], [5, 7], [8, 13], [13, 30], [30, 60], [60, 150]] # Frequency vector\n",
    "        fname = ['delta', 'theta', 'alpha', 'beta', 'gamma30-60', 'gamma60-150'] # Name of each frequency\n",
    "        kwargs['width'], kwargs['step'] = 358, 25 # take power in 256 samples (500ms) windows width every 64 samples (125ms)\n",
    "        #358, 25 700ms with 50s of overlap, 410, 51 800ms with 100 ms overlap\n",
    "\n",
    "        # Load file :\n",
    "        fi = su+'_E1E2_concat_'+cond+'_bipo.npz'\n",
    "        loadname = path.join(st.path, 'database/TS_E_all_cond_by_block_trigs_th40_art400_30_250_5s_learning2blocks/', fi)\n",
    "        x = np.load(loadname)['x']\n",
    "        rest = x[:, 102:461,:] #700ms 102:461, 500ms 128:384,800ms 51:461\n",
    "        odor = x[:,665:,:] #700ms 665, #500ms 614, #800ms 614\n",
    "        baseline = [102,461]\n",
    "        time = 1000 * np.arange(odor.shape[1]) / 512\n",
    "        print ('--> compute power on : ', fi, 'rest', rest.shape, 'odor', odor.shape)\n",
    "        sf = 512\n",
    "        n_elec, n_pts_rest, n_trials = rest.shape\n",
    "        n_pts_odor = odor.shape[1]\n",
    "\n",
    "        # Define and save power objects :\n",
    "        #ODOR - BASELINE\n",
    "        powObj_odor_corr = power(sf, n_pts_odor, baseline=baseline, norm=3, **kwargs)\n",
    "        kwargs['xpow'],  kwargs['xpow_pval']= powObj_odor_corr.get(odor,n_jobs=-1)\n",
    "        kwargs['fname'] = fname\n",
    "        saveodorcorr = path.join(st.path, 'feature/6_Power_E1E2_Odor_Rest_Explo_2blocks_700_50/', fi.replace('.npz', '_power.npz'))\n",
    "        print(saveodorcorr)\n",
    "        np.savez(saveodorcorr, **kwargs)\n",
    "        del kwargs, x, sf, n_elec, n_trials, n_pts_rest, n_pts_odor"
   ]
  },
  {
   "cell_type": "markdown",
   "metadata": {},
   "source": [
    "## Calculate all power for classif Baseline = Expect\n",
    "Modification of Time window & steps to compute Power"
   ]
  },
  {
   "cell_type": "code",
   "execution_count": null,
   "metadata": {
    "collapsed": false,
    "scrolled": true
   },
   "outputs": [],
   "source": [
    "st = study('Olfacto')\n",
    "subjects = ['CHAF', 'LEFC', 'PIRJ', 'MICP', 'VACJ', 'SEMC']\n",
    "\n",
    "for su in subjects:\n",
    "    # Define power settings :\n",
    "    kwargs = {} # Define an empty dictionnary to save all power parameters\n",
    "    kwargs['f'] = [[2, 4], [5, 7], [8, 13], [13, 30], [30, 60], [60, 150]] # Frequency vector\n",
    "    fname = ['delta', 'theta', 'alpha', 'beta', 'gamma30-60', 'gamma60-150'] # Name of each frequency\n",
    "    kwargs['width'], kwargs['step'] = 410, 51 # take power in 256 samples (500ms) windows width every 64 samples (125ms)\n",
    "    #358, 25 700ms with 50s of overlap, 410, 51 800ms with 100 ms overlap\n",
    "    \n",
    "    # Load file :\n",
    "    fi = su+'_E1E2_concat_all_bipo.npz'\n",
    "    loadname = path.join(st.path, 'database/TS_E_all_cond_by_block_trigs_th40_art400_30_250_5s_concatOK/', fi)\n",
    "    x = np.load(loadname)['x']\n",
    "    expect = x[:, 614:1024,:] #700ms 102:461, 500ms 128:384,\n",
    "    odor = x[:,1024:,:] #700ms 665 #500ms 614\n",
    "    baseline = [614,1024]\n",
    "    time = 1000 * np.arange(odor.shape[1]) / 512\n",
    "    print ('--> compute power on : ', fi, 'rest', rest.shape, 'odor', odor.shape)\n",
    "    sf = 512\n",
    "    n_elec, n_pts_rest, n_trials = rest.shape\n",
    "    n_pts_odor = odor.shape[1]\n",
    "\n",
    "    # Define and save power objects : \n",
    "    # EXPECT\n",
    "    powObj_expect = power(sf, n_pts_rest, **kwargs)\n",
    "    kwargs['xpow'],  kwargs['xpow_pval']= powObj_expect.get(expect, n_jobs=-1)\n",
    "    kwargs['fname'] = fname\n",
    "    saveexpect = path.join(st.path, 'feature/5_Power_Encoding_Odor_Expect_th40_art400_30_250_across_time_500ms/', fi.replace('.npz', '_expect_power.npz'))\n",
    "    print(saveexpect)\n",
    "    np.savez(saveexpect, **kwargs)\n",
    "    del kwargs['xpow'],  kwargs['xpow_pval'], kwargs['fname']\n",
    "\n",
    "    # ODOR\n",
    "    powObj_odor = power(sf, n_pts_odor, **kwargs)\n",
    "    kwargs['xpow'],  kwargs['xpow_pval']= powObj_odor.get(odor, n_jobs=-1)\n",
    "    kwargs['fname'] = fname\n",
    "    saveodor = path.join(st.path, 'feature/5_Power_Encoding_Odor_Expect_th40_art400_30_250_across_time_500ms/', fi.replace('.npz', '_odor_power.npz'))\n",
    "    print(saveodor)\n",
    "    np.savez(saveodor, **kwargs)\n",
    "    del kwargs, x, sf, n_elec, n_trials, n_pts_rest, n_pts_odor"
   ]
  },
  {
   "cell_type": "markdown",
   "metadata": {},
   "source": [
    "### Check all power files dimensions"
   ]
  },
  {
   "cell_type": "code",
   "execution_count": null,
   "metadata": {
    "collapsed": false
   },
   "outputs": [],
   "source": [
    "st = study('Olfacto')\n",
    "files = st.search('_power.npz', folder='feature/6_Power_E1E2_Odor_Rest_Explo_2blocks_700_50/')\n",
    "for fi in files:\n",
    "    loadname = path.join(st.path, 'feature/6_Power_E1E2_Odor_Rest_Explo_2blocks_700_50/', fi)\n",
    "    x = np.load(loadname)['xpow']\n",
    "    print (fi, x.shape)"
   ]
  },
  {
   "cell_type": "markdown",
   "metadata": {},
   "source": [
    "## Classification across time for all freq bands and subjects\n",
    "### Analysis subject by subject"
   ]
  },
  {
   "cell_type": "code",
   "execution_count": null,
   "metadata": {
    "collapsed": false
   },
   "outputs": [],
   "source": [
    "# Importing files \n",
    "st = study('Olfacto')\n",
    "pathfiles = path.join(st.path, 'feature/2_Power_Encoding_Odor_rest_th40_art400_30_250_across_time/')\n",
    "elecfiles = path.join(st.path, 'database/TS_E_all_cond_by_block_trigs_th40_art400_30_250_5s_concatOK/')\n",
    "path2save = path.join(st.path, 'classified/3_Classif_Windows_Encoding_th40_art400_30_250_by_label_500ms_across_time/')\n",
    "\n",
    "#subjects = ['CHAF','SEMC', 'VACJ','PIRJ', 'MICP', 'LEFC']\n",
    "#freq_bands = ['delta', 'theta', 'alpha', 'beta', 'gamma30-60', 'gamma60-120']\n",
    "\n",
    "freq = 1\n",
    "elec_num = 24\n",
    "\n",
    "#files & data to load\n",
    "odor_data = np.load(path.join(pathfiles, 'PIRJ_E1E2_concat_all_bipo_odor_power.npz'))['xpow'][freq,elec_num] #take power for one freq band, one elec\n",
    "rest_data = np.load(path.join(pathfiles, 'PIRJ_E1E2_concat_all_bipo_rest_power.npz'))['xpow'][freq,elec_num] #take power for one freq band, one elec\n",
    "print ('odor shape: ', odor_data.shape, 'rest shape: ', rest_data.shape)\n",
    "elec = np.load(path.join(elecfiles, 'PIRJ_E1E2_concat_all_bipo.npz'))['channel'][elec_num]\n",
    "elec_label = np.load(path.join(elecfiles, 'PIRJ_E1E2_concat_all_bipo.npz'))['label'][elec_num]\n",
    "freq_name = np.load(path.join(pathfiles, 'PIRJ_E1E2_concat_all_bipo_odor_power.npz'))['fname'][freq]\n",
    "print ('elec ', elec, 'elec_label ', elec_label)\n",
    "\n",
    "#Repeat the rest by the nb of temporal time points (for swap function)\n",
    "rest_rep = np.tile(rest_data, (odor_data.shape[0],1))\n",
    "print('-> Shape of repeated rest :', rest_rep.shape)\n",
    "\n",
    "#create a data matrix, concatenate along the trial dimension\n",
    "odor_rest = np.concatenate((rest_rep, odor_data), axis=1)\n",
    "odor_rest = odor_rest.swapaxes(0,1)\n",
    "print ('Size of the concatenated data: ', odor_rest.shape, 'Number of features : ', odor_rest.shape[1])\n",
    "\n",
    "#create label vector (0 for rest and 1 for odor)\n",
    "label = [1]*odor_data.shape[1] + [0]*rest_rep.shape[1]\n",
    "print ('Size of label for classif: ', len(label))\n",
    "\n",
    "# Define a cross validation:\n",
    "cv = defCv(label, n_folds=10, cvtype='skfold', rep=10)\n",
    "\n",
    "# Define classifier technique\n",
    "clf = defClf(label, clf='knn', n_knn=5,kern='rbf') #,n_tree=200, random_state=100)\n",
    "\n",
    "#Classify rest and odor\n",
    "cl = classify(label, clf=clf, cvtype=cv)\n",
    "\n",
    "# Evaluate the classifier on data:\n",
    "da,pvalue,daperm = cl.fit(odor_rest, n_perm=100,method='label_rnd',mf=False)\n",
    "print ('decoding accuracy',da.shape, 'pvalues ', pvalue.shape, 'daperm', daperm.shape)\n",
    "#print (da)"
   ]
  },
  {
   "cell_type": "markdown",
   "metadata": {},
   "source": [
    "# Plot Power analysis + stats and Decoding accuracy + max stat\n",
    "## corrected across time for the da"
   ]
  },
  {
   "cell_type": "code",
   "execution_count": null,
   "metadata": {
    "collapsed": false
   },
   "outputs": [],
   "source": [
    "from matplotlib.ticker import ScalarFormatter, MaxNLocator\n",
    "%matplotlib notebook\n",
    "#Import odor power corrected with a baseline\n",
    "#odor_corr_data = np.load(path.join(pathfiles, 'PIRJ_E1E2_concat_all_bipo_odor_corr_power.npz'))['xpow'][freq,elec_num] #take power for one freq band, one elec\n",
    "\n",
    "#Parameters figure\n",
    "xfmt = ScalarFormatter(useMathText=True)\n",
    "xfmt.set_powerlimits((0,3))\n",
    "fig = plt.figure(1,figsize=(15,4))\n",
    "step = 3500/ odor_corr_data.shape[0]\n",
    "time = np.arange(-500, 3000, step)\n",
    "title = 'Power and DA for '+str(freq_name)+' PIRJ '+str(elec_label)+' ('+str(elec_num)+')'\n",
    "fig.suptitle(title, fontsize=16)\n",
    "\n",
    "# Plot the power and da :\n",
    "plt.subplot(131)\n",
    "plt.plot(time, rest_rep, color='b', marker='*',)\n",
    "plt.plot(time, odor_data, color='r', marker='o',)\n",
    "plt.gca().yaxis.set_major_locator(MaxNLocator(3,integer=True))\n",
    "\n",
    "#concatenate odor (red) then rest (blue)\n",
    "plt.subplot(132)\n",
    "BorderPlot(time, odor_rest, y=label, xlabel='Time (ms)',ylabel = r' $\\mu$V',\n",
    "           alpha=0.3,linewidth=2,color=['r','b'],kind='sem')\n",
    "rmaxis(plt.gca(), ['right', 'top'])\n",
    "addLines(plt.gca(),hColor= ['dimgrey'], hLines=[0], hWidth=[1], hShape=['-'],vLines=[1],vWidth=[1.5],vShape=['-'])\n",
    "plt.gca().yaxis.set_major_locator(MaxNLocator(3,integer=True))\n",
    "\n",
    "plt.subplot(133)\n",
    "title = str(freq_name)+' da : PIRJ '+str(elec_label)+' ('+str(elec_num)+')'\n",
    "BorderPlot(time, da, color='darkslateblue', kind='std',xlabel='Time (ms)', ylim=[da.min()-10,da.max()+10],\n",
    "           ylabel='Decoding accuracy (%)',linewidth=2,alpha=0.3)\n",
    "rmaxis(plt.gca(), ['right', 'top'])\n",
    "addLines(plt.gca(), vLines=[1],vWidth=[1.5],vShape=['-'], vColor=['dimgrey'])\n",
    "plt.gca().yaxis.set_major_locator(MaxNLocator(3,integer=True))\n",
    "plt.plot(time, daperm.max()*np.ones((len(time),1)), '--', color='dimgrey', linewidth=2, label='p < .05')\n",
    "print(daperm.max())\n",
    "plt.legend(loc=0, handletextpad=0.1, frameon=False)\n",
    "plt.gca().yaxis.set_major_formatter(xfmt)\n"
   ]
  },
  {
   "cell_type": "code",
   "execution_count": null,
   "metadata": {
    "collapsed": true
   },
   "outputs": [],
   "source": [
    "#Generate the figure and save the plot\n",
    "title = 'Classif_Encoding_'+cond+'_'+su+'_'+ freq+'_p<0.001'\n",
    "fig1 = plt.figure(1, figsize=(20,10))\n",
    "fig1.suptitle(title, fontsize=\"x-large\")\n",
    "cl.daplot(da_mean, daperm=daperm, chance_method='perm', rmax=['top', 'right'],\n",
    "dpax=['bottom', 'left'], cmap='magma', ylim=[40,100], chance_unique=True, chance_level = 0.001,\n",
    "chance_color='darkgreen',)\n",
    "\n",
    "fname = path.join(path2save, su + '_'+cond+'_'+freq+'_0.001.png')\n",
    "fig1.savefig(fname, dpi=300, bbox_inches='tight')\n",
    "print ('saving --»' ,fname)\n",
    "cl.info.to_excel(path2save+su+'_'+cond+'_'+freq+'_'+classifier+'.xlsx')\n",
    "plt.clf()\n",
    "plt.close()\n",
    "del da_mean, elec"
   ]
  },
  {
   "cell_type": "markdown",
   "metadata": {},
   "source": [
    "## Check da perm and da"
   ]
  },
  {
   "cell_type": "code",
   "execution_count": null,
   "metadata": {
    "collapsed": false,
    "scrolled": true
   },
   "outputs": [],
   "source": [
    "st = study('Olfacto')\n",
    "files = st.search('da_Odor', folder='classified/5_Classif_Windows_700ms_Encoding_across_time__SVM_linear/')\n",
    "for fi in files:\n",
    "    loadname = path.join(st.path, 'classified/5_Classif_Windows_700ms_Encoding_across_time__SVM_linear/', fi)\n",
    "    x = np.load(loadname)\n",
    "    print (fi, x.shape, x[5])"
   ]
  }
 ],
 "metadata": {
  "anaconda-cloud": {},
  "kernelspec": {
   "display_name": "Python [default]",
   "language": "python",
   "name": "python3"
  },
  "language_info": {
   "codemirror_mode": {
    "name": "ipython",
    "version": 3
   },
   "file_extension": ".py",
   "mimetype": "text/x-python",
   "name": "python",
   "nbconvert_exporter": "python",
   "pygments_lexer": "ipython3",
   "version": "3.5.2"
  }
 },
 "nbformat": 4,
 "nbformat_minor": 1
}
