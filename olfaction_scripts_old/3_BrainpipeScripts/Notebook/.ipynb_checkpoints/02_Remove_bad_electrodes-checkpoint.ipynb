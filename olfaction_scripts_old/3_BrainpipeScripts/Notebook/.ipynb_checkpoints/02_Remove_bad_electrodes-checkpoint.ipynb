{
 "cells": [
  {
   "cell_type": "markdown",
   "metadata": {},
   "source": [
    "## Remove bad electrodes after artefact detection\n",
    "### TF with artefacts or 50Hz"
   ]
  },
  {
   "cell_type": "code",
   "execution_count": null,
   "metadata": {
    "collapsed": false
   },
   "outputs": [],
   "source": [
    "import numpy as np\n",
    "from brainpipe.system import study\n",
    "from os import path"
   ]
  },
  {
   "cell_type": "code",
   "execution_count": null,
   "metadata": {
    "collapsed": false
   },
   "outputs": [],
   "source": [
    "st = study('Olfacto')\n",
    "pathfiles = path.join(st.path, 'database/TS_E_all_by_odor_th40_art400_30_250_Good_Bad_RecScore_Expi/')\n",
    "subjects = ['CHAF','VACJ','SEMC','LEFC','MICP','PIRJ','FERJ'] #'FERJ'\n",
    "conds = ['bad', 'good']\n",
    "phases = ['odor']#'rest'\n",
    "rej_elec = {\n",
    "    'CHAF' : [98,102,103,104],\n",
    "    'VACJ' : [0,66,67,68,122,128], \n",
    "    'SEMC' : [36],\n",
    "    'PIRJ' : [10,14,15,25,26,41,47,48,53,54,55,57,58,63,64,71,72,79,80,81,82,83,],\n",
    "    'LEFC' : [47,48,49,50,140,141,],\n",
    "    'MICP' : [4,9,13,71,],\n",
    "    'FERJ': [],\n",
    "            }\n",
    "\n",
    "for su in subjects:\n",
    "    for cond in conds:\n",
    "        for phase in phases:\n",
    "            mat = np.load(pathfiles+su+'_'+phase+'_'+cond+'_bipo.npz')\n",
    "            x, sf, label, channel, xyz = mat['x'], mat['sf'], mat['label'], mat['channel'], mat['xyz']\n",
    "            print (su, x.shape, label.shape, channel.shape, xyz.shape)\n",
    "\n",
    "            #Remove all bad electrodes from the database\n",
    "            new_x = np.delete(x,rej_elec[su], axis=0)\n",
    "            new_label = np.delete(label,rej_elec[su], axis=0)\n",
    "            new_channel = np.delete(channel,rej_elec[su], axis=0)\n",
    "            new_xyz = np.delete(xyz,rej_elec[su], axis=0)\n",
    "            print (su, len(rej_elec[su]),new_x.shape, new_label.shape, new_channel.shape, new_xyz.shape)\n",
    "\n",
    "            #Save all new information\n",
    "            mat_new = {'x':new_x, 'label':new_label, 'channel':new_channel, 'xyz':new_xyz, 'sf':sf}\n",
    "            file_source = su+'_'+phase+'_'+cond+'_bipo2.npz'\n",
    "            np.savez(pathfiles+file_source,**mat_new)"
   ]
  },
  {
   "cell_type": "markdown",
   "metadata": {},
   "source": [
    "## Remove electrodes with WM"
   ]
  },
  {
   "cell_type": "code",
   "execution_count": null,
   "metadata": {
    "collapsed": false
   },
   "outputs": [],
   "source": [
    "st = study('Olfacto')\n",
    "pathfiles = path.join(st.path, 'database/TS_E_all_by_odor_th40_art400_30_250_Good_Bad_RecScore_Expi/')\n",
    "subjects = ['CHAF','VACJ','SEMC','LEFC','MICP','PIRJ','FERJ'] #'CHAF','VACJ','SEMC', 'LEFC','MICP', \n",
    "phases = ['odor']\n",
    "for su in subjects:\n",
    "    for phase in phases:\n",
    "        print(su)\n",
    "        #load all subjects information\n",
    "        badname = np.load(pathfiles+su+'_odor_bad_bipo2.npz')\n",
    "        goodname = np.load(pathfiles+su+'_odor_good_bipo2.npz')\n",
    "        bad, bad_label, bad_channel, bad_xyz = badname['x'], badname['label'], badname['channel'], badname['xyz']\n",
    "        good, good_label, good_channel, good_xyz = goodname['x'], goodname['label'], goodname['channel'], goodname['xyz']\n",
    "        sf = goodname['sf']\n",
    "        print('bad shape: ', bad.shape, bad_label.shape, bad_channel.shape, bad_xyz.shape)\n",
    "        print('good shape: ', good.shape, good_label.shape, good_channel.shape, good_xyz.shape)\n",
    "\n",
    "        #create a list of all electrodes to remove\n",
    "        elecs = bad_label.shape[0]\n",
    "        print(elecs)\n",
    "        elecs_rej = []\n",
    "        for elec in range(elecs):\n",
    "            elec_rej_wm = np.where(bad_label[elec].find('WM') != -1,int(elec),None)\n",
    "            elec_rej_lcr = np.where(bad_label[elec].find('LCR') != -1,int(elec),None)\n",
    "            elec_rej_skull = np.where(bad_label[elec].find('skull') != -1,int(elec),None)\n",
    "            if elec_rej_wm != None:\n",
    "                elecs_rej = np.append(elecs_rej,elec_rej_wm)\n",
    "            if elec_rej_lcr != None and elec_rej_lcr != elec_rej_wm:\n",
    "                elecs_rej = np.append(elecs_rej,elec_rej_lcr)\n",
    "            if elec_rej_skull != None and elec_rej_skull != elec_rej_wm and elec_rej_skull != elec_rej_lcr:\n",
    "                elecs_rej = np.append(elecs_rej,elec_rej_skull)\n",
    "        print(su, elecs, elecs_rej)\n",
    "\n",
    "        #Remove all bad electrodes from the database\n",
    "        new_bad, new_bad_label = np.delete(bad,elecs_rej, axis=0), np.delete(bad_label,elecs_rej, axis=0)\n",
    "        new_bad_channel, new_bad_xyz = np.delete(bad_channel,elecs_rej, axis=0), np.delete(bad_xyz,elecs_rej, axis=0)\n",
    "        new_good, new_good_label = np.delete(good,elecs_rej, axis=0), np.delete(good_label,elecs_rej, axis=0)\n",
    "        new_good_channel, new_good_xyz = np.delete(good_channel,elecs_rej, axis=0), np.delete(good_xyz,elecs_rej, axis=0)\n",
    "        print (su,phase,'bad',new_bad.shape, new_bad_label.shape,new_bad_channel.shape, new_bad_xyz.shape,\n",
    "              'good', new_good.shape, new_good_label.shape, new_good_channel.shape, new_good_xyz.shape)\n",
    "\n",
    "        #Save all new information\n",
    "        mat_good = {'x':new_bad, 'label':new_bad_label, 'channel':new_bad_channel, 'xyz':new_bad_xyz, 'sf':sf}\n",
    "        mat_bad = {'x':new_good, 'label':new_good_label, 'channel':new_good_channel, 'xyz':new_good_xyz, 'sf':sf}\n",
    "        file_good = su+'_'+phase+'_good_bipo_sel.npz'\n",
    "        file_bad = su+'_'+phase+'_bad_bipo_sel.npz'\n",
    "        np.savez(pathfiles+file_good,**mat_good)\n",
    "        np.savez(pathfiles+file_bad,**mat_bad)\n",
    "        del elecs, elecs_rej, new_bad, new_bad_label, new_bad_channel, new_bad_xyz, new_good\n",
    "        del new_good_label, new_good_channel, new_good_xyz"
   ]
  },
  {
   "cell_type": "markdown",
   "metadata": {},
   "source": [
    "### Add AAL & BA labels to subjects' matrices"
   ]
  },
  {
   "cell_type": "code",
   "execution_count": null,
   "metadata": {
    "collapsed": false,
    "scrolled": true
   },
   "outputs": [],
   "source": [
    "import pandas as pd\n",
    "import numpy as np\n",
    "from brainpipe.system import study\n",
    "from os import path\n",
    "\n",
    "st = study('Olfacto')\n",
    "subjects = ['LEFC','CHAF','VACJ','SEMC','FERJ','MICP','PIRJ']\n",
    "#subjects = ['LEFC']\n",
    "conds=['bad','good']\n",
    "path_data = path.join(st.path,'database/TS_E_all_by_odor_th40_art400_30_250_Good_Bad_RecScore_Expi/')\n",
    "path_labels = path.join(path_data,'labels/')\n",
    "\n",
    "for su in subjects:\n",
    "    for cond in conds:\n",
    "        # Load the data\n",
    "        mat = np.load(path_data+su+'_odor_'+cond+'_bipo_sel.npz')\n",
    "        kwargs = {}\n",
    "        kwargs['x'], kwargs['channels'], kwargs['xyz'] = mat['x'], mat['channel'],mat['xyz']\n",
    "        kwargs['labels'], kwargs['sf']=mat['label'],mat['sf']\n",
    "        # Load the AAL labels\n",
    "        #aal = su+'_physio_labels_aal.csv'\n",
    "        aal = 'Elecs_'+su+'_labels_aal.csv'\n",
    "        df = pd.read_csv(path_labels+aal, sep=',')\n",
    "        kwargs['aal'] = df['aal'].values\n",
    "        # Load the BA labels\n",
    "        BA = 'Elecs_'+su+'_labels_brodmann.csv'\n",
    "        df = pd.read_csv(path_labels+BA, sep=',')\n",
    "        kwargs['BA'] = df['brodmann'].values\n",
    "        # Update the datafile\n",
    "        filename2 = su+'_odor_'+cond+'_bipo_sel_phys.npz'\n",
    "        np.savez(path_data+filename2, **kwargs)\n",
    "        mat2 = np.load(path_data+su+'_odor_'+cond+'_bipo_sel_phys.npz')\n",
    "        print(mat2.files)\n",
    "        print(su,mat2['x'].shape, mat2['xyz'].shape, mat2['aal'].shape, mat2['BA'].shape)\n",
    "    "
   ]
  },
  {
   "cell_type": "markdown",
   "metadata": {},
   "source": [
    "### Select only regions present in at least 2 patients \n",
    "#### Remove all not memory related regions (motor, precentral, SMA)"
   ]
  },
  {
   "cell_type": "code",
   "execution_count": null,
   "metadata": {
    "collapsed": false
   },
   "outputs": [],
   "source": [
    "st = study('Olfacto')\n",
    "pathfiles = path.join(st.path, 'database/TS_E_all_by_odor_th40_art400_30_250_Good_Bad_EpiScore_Expi/')\n",
    "subjects = ['CHAF','VACJ','SEMC','LEFC','MICP','PIRJ','FERJ']\n",
    "conds = ['bad','good']\n",
    "to_keep = ['Amygdala (R)', 'Cingulum Ant (R)','Cingulum Mid (R)', 'Frontal Inf Orb (R)', \n",
    "           'Frontal Inf Tri (R)', 'Frontal Mid (R)', 'Frontal Mid Orb (R)', 'Frontal Sup (R)',\n",
    "           'Frontal Sup Medial (R)', 'Frontal Sup Orb (R)', 'Hippocampus (R)', 'Insula (R)',\n",
    "           'ParaHippocampal (R)','Temporal Inf (R)', 'Temporal Mid (R)', 'Temporal Pole Mid (R)',\n",
    "           'Temporal Pole Sup (R)', 'Temporal Sup (R)','Amygdala (L)', 'Cingulum Ant (L)', \n",
    "           'Cingulum Mid (L)', 'Frontal Inf Orb (L)', 'Frontal Inf Tri (L)','Frontal Mid (L)', \n",
    "           'Frontal Mid Orb (L)', 'Frontal Sup (L)','Frontal Sup Medial (L)', 'Frontal Sup Orb (L)',\n",
    "           'Hippocampus (L)', 'Insula (L)','ParaHippocampal (L)','Temporal Inf (L)', \n",
    "           'Temporal Mid (L)','Temporal Pole Mid (L)','Temporal Pole Sup (L)', 'Temporal Sup (L)']\n",
    "\n",
    "for su in subjects:\n",
    "    for cond in conds:\n",
    "        mat = np.load(pathfiles+su+'_odor_'+cond+'_bipo_sel_phys.npz')\n",
    "        idx = np.where([mat['phys'][i] in to_keep for i in range(len(mat['phys']))])\n",
    "        kwargs = {}\n",
    "        kwargs['labels'], kwargs['x'], kwargs['phys'] = mat['labels'][idx], mat['x'][idx], mat['phys'][idx]\n",
    "        kwargs['xyz'], kwargs['channels'], kwargs['sf'] = mat['xyz'][idx], mat['channels'][idx], mat['sf']\n",
    "        np.savez(pathfiles+su+'_odor_'+cond+'_bipo_sel_phys2.npz',**kwargs)\n",
    "        del mat"
   ]
  }
 ],
 "metadata": {
  "anaconda-cloud": {},
  "kernelspec": {
   "display_name": "Python [conda root]",
   "language": "python",
   "name": "conda-root-py"
  },
  "language_info": {
   "codemirror_mode": {
    "name": "ipython",
    "version": 3
   },
   "file_extension": ".py",
   "mimetype": "text/x-python",
   "name": "python",
   "nbconvert_exporter": "python",
   "pygments_lexer": "ipython3",
   "version": "3.5.2"
  }
 },
 "nbformat": 4,
 "nbformat_minor": 1
}
