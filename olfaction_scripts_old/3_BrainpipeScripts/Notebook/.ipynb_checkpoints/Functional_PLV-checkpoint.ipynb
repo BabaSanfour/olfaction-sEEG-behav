{
 "cells": [
  {
   "cell_type": "code",
   "execution_count": null,
   "metadata": {
    "collapsed": false
   },
   "outputs": [],
   "source": [
    "import numpy as np\n",
    "import matplotlib.pyplot as plt\n",
    "from os import path\n",
    "%matplotlib notebook\n",
    "\n",
    "from brainpipe.system import study\n",
    "from brainpipe.visual import BorderPlot, addLines\n",
    "from brainpipe.feature import TF\n",
    "from brainpipe.feature import PLV\n",
    "from brainpipe import *"
   ]
  },
  {
   "cell_type": "code",
   "execution_count": 36,
   "metadata": {
    "collapsed": false,
    "scrolled": true
   },
   "outputs": [
    {
     "name": "stdout",
     "output_type": "stream",
     "text": [
      "-> Olfacto loaded\n"
     ]
    },
    {
     "ename": "ImportError",
     "evalue": "[joblib] Attempting to do parallel computing without protecting your import on a system that does not support forking. To use parallel-computing in a script, you must protect your main loop using \"if __name__ == '__main__'\". Please see the joblib documentation on Parallel for more information",
     "output_type": "error",
     "traceback": [
      "\u001b[0;31m---------------------------------------------------------------------------\u001b[0m",
      "\u001b[0;31mImportError\u001b[0m                               Traceback (most recent call last)",
      "\u001b[0;32m<ipython-input-36-547f10e33e1a>\u001b[0m in \u001b[0;36m<module>\u001b[0;34m()\u001b[0m\n\u001b[1;32m     58\u001b[0m \u001b[0;34m\u001b[0m\u001b[0m\n\u001b[1;32m     59\u001b[0m                 \u001b[0mdefPlv\u001b[0m \u001b[0;34m=\u001b[0m \u001b[0mPLV\u001b[0m\u001b[0;34m(\u001b[0m\u001b[0msf\u001b[0m\u001b[0;34m=\u001b[0m\u001b[0msf\u001b[0m\u001b[0;34m,\u001b[0m \u001b[0mnpts\u001b[0m\u001b[0;34m=\u001b[0m\u001b[0mn_pts\u001b[0m\u001b[0;34m,\u001b[0m \u001b[0mf\u001b[0m\u001b[0;34m=\u001b[0m\u001b[0mf\u001b[0m\u001b[0;34m,\u001b[0m \u001b[0mmethod\u001b[0m\u001b[0;34m=\u001b[0m\u001b[0mmethod\u001b[0m\u001b[0;34m,\u001b[0m \u001b[0mcycle\u001b[0m\u001b[0;34m=\u001b[0m\u001b[0;36m3\u001b[0m\u001b[0;34m)\u001b[0m\u001b[0;34m\u001b[0m\u001b[0m\n\u001b[0;32m---> 60\u001b[0;31m                 \u001b[0mplv\u001b[0m\u001b[0;34m,\u001b[0m \u001b[0mpvalues\u001b[0m \u001b[0;34m=\u001b[0m \u001b[0mdefPlv\u001b[0m\u001b[0;34m.\u001b[0m\u001b[0mget\u001b[0m\u001b[0;34m(\u001b[0m\u001b[0mall_data\u001b[0m\u001b[0;34m,\u001b[0m\u001b[0melec_data\u001b[0m\u001b[0;34m,\u001b[0m\u001b[0mn_perm\u001b[0m \u001b[0;34m=\u001b[0m \u001b[0mn_perm\u001b[0m\u001b[0;34m)\u001b[0m\u001b[0;34m\u001b[0m\u001b[0m\n\u001b[0m\u001b[1;32m     61\u001b[0m                 \u001b[0mplv\u001b[0m \u001b[0;34m=\u001b[0m \u001b[0mnp\u001b[0m\u001b[0;34m.\u001b[0m\u001b[0msqueeze\u001b[0m\u001b[0;34m(\u001b[0m\u001b[0mplv\u001b[0m\u001b[0;34m)\u001b[0m\u001b[0;34m\u001b[0m\u001b[0m\n\u001b[1;32m     62\u001b[0m                 \u001b[0mprint\u001b[0m \u001b[0;34m(\u001b[0m\u001b[0mplv\u001b[0m\u001b[0;34m.\u001b[0m\u001b[0mshape\u001b[0m\u001b[0;34m)\u001b[0m\u001b[0;34m\u001b[0m\u001b[0m\n",
      "\u001b[0;32m/home/karim/anaconda3/lib/python3.5/site-packages/brainpipe/feat/coupling/cfc.py\u001b[0m in \u001b[0;36mget\u001b[0;34m(***failed resolving arguments***)\u001b[0m\n\u001b[1;32m    962\u001b[0m         \u001b[0;32mdel\u001b[0m \u001b[0mxelec1\u001b[0m\u001b[0;34m,\u001b[0m \u001b[0mxelec2\u001b[0m\u001b[0;34m\u001b[0m\u001b[0m\n\u001b[1;32m    963\u001b[0m         data = np.array(Parallel(n_jobs=n_jobs)(delayed(_plvfilt)(\n\u001b[0;32m--> 964\u001b[0;31m                     xcat[e, ...], self) for e in range(xcat.shape[0])))\n\u001b[0m\u001b[1;32m    965\u001b[0m         \u001b[0mxp1\u001b[0m\u001b[0;34m,\u001b[0m \u001b[0mxp2\u001b[0m \u001b[0;34m=\u001b[0m \u001b[0mdata\u001b[0m\u001b[0;34m[\u001b[0m\u001b[0;36m0\u001b[0m\u001b[0;34m:\u001b[0m\u001b[0mnelec1\u001b[0m\u001b[0;34m,\u001b[0m \u001b[0;34m...\u001b[0m\u001b[0;34m]\u001b[0m\u001b[0;34m,\u001b[0m \u001b[0mdata\u001b[0m\u001b[0;34m[\u001b[0m\u001b[0mnelec1\u001b[0m\u001b[0;34m:\u001b[0m\u001b[0;34m:\u001b[0m\u001b[0;34m,\u001b[0m \u001b[0;34m...\u001b[0m\u001b[0;34m]\u001b[0m\u001b[0;34m\u001b[0m\u001b[0m\n\u001b[1;32m    966\u001b[0m         \u001b[0;32mdel\u001b[0m \u001b[0mdata\u001b[0m\u001b[0;34m\u001b[0m\u001b[0m\n",
      "\u001b[0;32m/home/karim/anaconda3/lib/python3.5/site-packages/joblib/parallel.py\u001b[0m in \u001b[0;36m__call__\u001b[0;34m(self, iterable)\u001b[0m\n\u001b[1;32m    764\u001b[0m         \u001b[0mself\u001b[0m\u001b[0;34m.\u001b[0m\u001b[0m_aborting\u001b[0m \u001b[0;34m=\u001b[0m \u001b[0;32mFalse\u001b[0m\u001b[0;34m\u001b[0m\u001b[0m\n\u001b[1;32m    765\u001b[0m         \u001b[0;32mif\u001b[0m \u001b[0;32mnot\u001b[0m \u001b[0mself\u001b[0m\u001b[0;34m.\u001b[0m\u001b[0m_managed_pool\u001b[0m\u001b[0;34m:\u001b[0m\u001b[0;34m\u001b[0m\u001b[0m\n\u001b[0;32m--> 766\u001b[0;31m             \u001b[0mn_jobs\u001b[0m \u001b[0;34m=\u001b[0m \u001b[0mself\u001b[0m\u001b[0;34m.\u001b[0m\u001b[0m_initialize_pool\u001b[0m\u001b[0;34m(\u001b[0m\u001b[0;34m)\u001b[0m\u001b[0;34m\u001b[0m\u001b[0m\n\u001b[0m\u001b[1;32m    767\u001b[0m         \u001b[0;32melse\u001b[0m\u001b[0;34m:\u001b[0m\u001b[0;34m\u001b[0m\u001b[0m\n\u001b[1;32m    768\u001b[0m             \u001b[0mn_jobs\u001b[0m \u001b[0;34m=\u001b[0m \u001b[0mself\u001b[0m\u001b[0;34m.\u001b[0m\u001b[0m_effective_n_jobs\u001b[0m\u001b[0;34m(\u001b[0m\u001b[0;34m)\u001b[0m\u001b[0;34m\u001b[0m\u001b[0m\n",
      "\u001b[0;32m/home/karim/anaconda3/lib/python3.5/site-packages/joblib/parallel.py\u001b[0m in \u001b[0;36m_initialize_pool\u001b[0;34m(self)\u001b[0m\n\u001b[1;32m    513\u001b[0m                 \u001b[0malready_forked\u001b[0m \u001b[0;34m=\u001b[0m \u001b[0mint\u001b[0m\u001b[0;34m(\u001b[0m\u001b[0mos\u001b[0m\u001b[0;34m.\u001b[0m\u001b[0menviron\u001b[0m\u001b[0;34m.\u001b[0m\u001b[0mget\u001b[0m\u001b[0;34m(\u001b[0m\u001b[0mJOBLIB_SPAWNED_PROCESS\u001b[0m\u001b[0;34m,\u001b[0m \u001b[0;36m0\u001b[0m\u001b[0;34m)\u001b[0m\u001b[0;34m)\u001b[0m\u001b[0;34m\u001b[0m\u001b[0m\n\u001b[1;32m    514\u001b[0m                 \u001b[0;32mif\u001b[0m \u001b[0malready_forked\u001b[0m\u001b[0;34m:\u001b[0m\u001b[0;34m\u001b[0m\u001b[0m\n\u001b[0;32m--> 515\u001b[0;31m                     raise ImportError('[joblib] Attempting to do parallel computing '\n\u001b[0m\u001b[1;32m    516\u001b[0m                             \u001b[0;34m'without protecting your import on a system that does '\u001b[0m\u001b[0;34m\u001b[0m\u001b[0m\n\u001b[1;32m    517\u001b[0m                             \u001b[0;34m'not support forking. To use parallel-computing in a '\u001b[0m\u001b[0;34m\u001b[0m\u001b[0m\n",
      "\u001b[0;31mImportError\u001b[0m: [joblib] Attempting to do parallel computing without protecting your import on a system that does not support forking. To use parallel-computing in a script, you must protect your main loop using \"if __name__ == '__main__'\". Please see the joblib documentation on Parallel for more information"
     ]
    }
   ],
   "source": [
    "st = study('Olfacto')\n",
    "pathdata = path.join(st.path, 'database/TS_E_all_by_odor_th40_art400_30_250_5s_Good_Bad_EpiScore/')\n",
    "path2save = path.join(st.path, 'feature/8_PLV_EPISCORE_Good_Bad_across_time_subset/')\n",
    "\n",
    "test = True \n",
    "\n",
    "if test == True:\n",
    "    n_elec = {'VACJ' :[1,2,3]}\n",
    "    subjects = ['VACJ']\n",
    "    \n",
    "elif test == False :\n",
    "    subjects = ['SEMC','PIRJ','LEFC','MICP','CHAF','VACJ'] \n",
    "    n_elec = {\n",
    "    'CHAF' : 107,\n",
    "    'VACJ' : 139, \n",
    "    'SEMC' : 107,\n",
    "    'PIRJ' : 106,\n",
    "    'LEFC' : 193,\n",
    "    'MICP' : 105,\n",
    "        }\n",
    "    \n",
    "elif test == 'subset': #HC, PHC, Amg, Pir\n",
    "    subjects = ['SEMC','PIRJ','LEFC','MICP','VACJ'] \n",
    "    n_elec = {\n",
    "    'VACJ' : [1,2,3,11,12,13,14,15,16,17,22,23,24,60,61,62],\n",
    "    'SEMC' : [0,1,2,3,4],\n",
    "    'PIRJ' : [0,1,2,3,4,11,12,13,14,15,16,22,23,24,25,26,33,34,35,36,37,38],\n",
    "    'LEFC' : [0,1,11,12,13,14,22,23,24,25,26,27],\n",
    "    'MICP' : [0,1,2,3,9,18,10,11,12,19,20,21,22,23,29,30,31,32,33,40,41,42,43,44],\n",
    "        }\n",
    "    \n",
    "# Parameters for the PLV\n",
    "freq = [[2, 4], [5, 7], [8, 13], [13, 30], [30, 60], [60, 150]] \n",
    "fname = ['delta', 'theta', 'alpha', 'beta', 'gamma30-60', 'gamma60-150'] \n",
    "n_perm = 1\n",
    "sf = 512\n",
    "method = 'hilbert'\n",
    "conds = ['bad', 'good']\n",
    "\n",
    "for su in subjects:\n",
    "    all_data, all_label = np.array([]), np.array([])\n",
    "    for cond in conds:\n",
    "        # create data and labels matrices (to compute PLV on a subset of electrodes)\n",
    "        for elec in n_elec[su]:\n",
    "            data = np.load(path.join(pathdata, su+'_concat_odor_'+cond+'_bipo.npz'))['x'][elec]\n",
    "            label = np.load(path.join(pathdata, su+'_concat_odor_'+cond+'_bipo.npz'))['label'][elec]\n",
    "            data = data[np.newaxis,...]\n",
    "            all_data = np.vstack((all_data,data)) if np.size(all_data) else data\n",
    "            all_label = np.vstack((all_label,label)) if np.size(all_label) else label\n",
    "    \n",
    "        # compute the PLV for one cond, one freq\n",
    "        for elec in n_elec[su]:\n",
    "            for i,f in enumerate(freq):\n",
    "                n_elec, n_pts, n_trials = all_data.shape[0], all_data.shape[1], all_data.shape[2]\n",
    "                elec_data = np.load(path.join(pathdata, su+'_concat_odor_'+cond+'_bipo.npz'))['x'][elec]\n",
    "                elec_data = elec_data[np.newaxis,...]\n",
    "                elec_label = np.load(path.join(pathdata, su+'_concat_odor_'+cond+'_bipo.npz'))['label'][elec]\n",
    "\n",
    "                defPlv = PLV(sf=sf, npts=n_pts, f=f, method=method, cycle=3)\n",
    "                plv, pvalues = defPlv.get(all_data,elec_data,n_perm = n_perm)\n",
    "                plv = np.squeeze(plv)\n",
    "                print (plv.shape)\n",
    "                np.save(path2save +su+'_'+cond+'_plv_'+fname[i]+'_elec_('+str(elec)+')_'+str(elec_label)+'.npy',plv)\n",
    "                np.save(path2save +su+'_'+cond+'_pval_'+fname[i]+'_elec_('+str(elec)+')_'+str(elec_label)+'.npy',pvalues)\n",
    "                \n",
    "                #Plot PLV values and labels\n",
    "                plot_title = 'Plot PLV for '+su+' '+cond+' '+fname[i]+' elec('+str(elec)+') '+str(elec_label)\n",
    "                fig = plt.figure(plot_title,figsize=(9,6))\n",
    "                step = 3700/ elec_data.shape[1]\n",
    "                time = np.arange(-700, 3000, step)\n",
    "                yvec = np.arange(n_elec)\n",
    "                print (yvec)\n",
    "\n",
    "                defPlv.plot2D(fig, plv, xvec=time, yvec=yvec, vmin=0, vmax=0.7,xlabel='Temps', \n",
    "                              ylabel='Electrodes', cmap='inferno', cblabel='LTM - Olfactory')\n",
    "                addLines(plt.gca(), vLines=[0], vColor=['black'], vWidth=[2])\n",
    "\n",
    "\n",
    "                fig.savefig(path2save +su+'_'+cond+'plv_'+fname[i]+'_elec_('+str(elec)+')_'+str(elec_label)+'.png',dpi=300, bbox_inches='tight')\n",
    "                plt.clf()\n",
    "                plt.close()"
   ]
  },
  {
   "cell_type": "code",
   "execution_count": 17,
   "metadata": {
    "collapsed": true
   },
   "outputs": [
    {
     "name": "stdout",
     "output_type": "stream",
     "text": [
      "aHC&aHC-Ent\n",
      "(1, 2560, 23)\n",
      "aHC&aHC-Ent\n",
      "aHC\n",
      "(2, 2560, 23)\n",
      "[['aHC&aHC-Ent']\n",
      " ['aHC']]\n",
      "aHC\n",
      "(3, 2560, 23)\n",
      "[['aHC&aHC-Ent']\n",
      " ['aHC']\n",
      " ['aHC']]\n",
      "aHC-PHG&aHC\n",
      "(4, 2560, 23)\n",
      "[['aHC&aHC-Ent']\n",
      " ['aHC']\n",
      " ['aHC']\n",
      " ['aHC-PHG&aHC']]\n",
      "PHG-FuG&aHC-PHG\n",
      "(5, 2560, 23)\n",
      "[['aHC&aHC-Ent']\n",
      " ['aHC']\n",
      " ['aHC']\n",
      " ['aHC-PHG&aHC']\n",
      " ['PHG-FuG&aHC-PHG']]\n"
     ]
    }
   ],
   "source": [
    "n_elec = [0,1,2,3,4]\n",
    "all_data, all_label = np.array([]), np.array([])\n",
    "for elec in n_elec:\n",
    "    data = np.load(path.join(pathdata, 'SEMC_concat_odor_bad_bipo.npz'))['x'][elec]\n",
    "    label = np.load(path.join(pathdata, 'SEMC_concat_odor_bad_bipo.npz'))['label'][elec]\n",
    "    data = data[np.newaxis,...]\n",
    "    print (label)\n",
    "    all_data = np.vstack((all_data,data)) if np.size(all_data) else data\n",
    "    all_label = np.vstack((all_label,label)) if np.size(all_label) else label\n",
    "    print (all_data.shape)\n",
    "    print (all_label)"
   ]
  },
  {
   "cell_type": "code",
   "execution_count": null,
   "metadata": {
    "collapsed": false
   },
   "outputs": [],
   "source": [
    "test1 = np.load(path + file)[1,:,:]\n",
    "test2 = np.load(path + file)[2,:,:]\n",
    "\n",
    "\n",
    "defPlv = PLV(sf=sf, npts=npts, f=f, method='hilbert', cycle=3)\n",
    "plv, _ = defPlv.get(test1,test2)"
   ]
  },
  {
   "cell_type": "code",
   "execution_count": null,
   "metadata": {
    "collapsed": false
   },
   "outputs": [],
   "source": [
    "fig = plt.figure('2D plot', figsize=(10, 12))\n",
    "#plt.imshow( xpow_elec, aspect='auto', interpolation='none', cmap='viridis'  )\n",
    "yticks = np.arange(96)\n",
    "defPlv.plot2D(fig, xtest, vmin=0, vmax=0.7,xlabel='Temps', ylabel='Electrodes', cmap='inferno', cblabel='Power',\n",
    "              yticks=yticks,yticklabels=grp)"
   ]
  },
  {
   "cell_type": "code",
   "execution_count": null,
   "metadata": {
    "collapsed": true
   },
   "outputs": [],
   "source": [
    "#                 channel = np.load(path+'Martin_chan_bip.npy')\n",
    "#                 channel = channel.tolist()\n",
    "\n",
    "#                 defPlv = PLV(sf=sf, npts=npts, f=f, method=method, cycle=3)\n",
    "\n",
    "#                 plv, pvalues = defPlv.get(mat1,mat2,n_perm = n_perm)\n",
    "\n",
    "#                 savepath = '/home/thomasthiery/Dropbox/iEEG_decision_making/Occulo/plv/'+trigg+'/'\n",
    "#                 np.save(savepath +'plv_'+fn+'_'+k+'.npy',plv)\n",
    "\n",
    "#                 fig = plt.figure('2D plot', figsize=(10, 12))\n",
    "#                 #plt.imshow( xpow_elec, aspect='auto', interpolation='none', cmap='viridis'  )\n",
    "#                 yticks = np.arange(96)\n",
    "#                 plv_temp = np.squeeze(plv)\n",
    "\n",
    "#                 defPlv.plot2D(fig, plv_temp, vmin=0, vmax=0.7,xlabel='Temps', \n",
    "#                               ylabel='Electrodes', cmap='inferno', cblabel='Power',\n",
    "#                 yticks=yticks,yticklabels=grp)\n",
    "\n",
    "\n",
    "#                 fig.savefig(savepath+'fig_'+fn+'_'+k+'.png', \n",
    "#                             dpi=300, bbox_inches='tight')\n",
    "\n",
    "#                 plt.clf()\n",
    "#                 plt.close()"
   ]
  }
 ],
 "metadata": {
  "anaconda-cloud": {},
  "kernelspec": {
   "display_name": "Python [default]",
   "language": "python",
   "name": "python3"
  },
  "language_info": {
   "codemirror_mode": {
    "name": "ipython",
    "version": 3
   },
   "file_extension": ".py",
   "mimetype": "text/x-python",
   "name": "python",
   "nbconvert_exporter": "python",
   "pygments_lexer": "ipython3",
   "version": "3.5.2"
  }
 },
 "nbformat": 4,
 "nbformat_minor": 2
}
