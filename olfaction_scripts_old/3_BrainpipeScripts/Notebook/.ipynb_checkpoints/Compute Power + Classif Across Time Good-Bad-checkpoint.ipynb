{
 "cells": [
  {
   "cell_type": "markdown",
   "metadata": {
    "collapsed": true
   },
   "source": [
    "## Classification Power Encoding"
   ]
  },
  {
   "cell_type": "code",
   "execution_count": null,
   "metadata": {
    "collapsed": false
   },
   "outputs": [],
   "source": [
    "import numpy as np\n",
    "import matplotlib.pyplot as plt\n",
    "import scipy.io as sio\n",
    "#%matplotlib notebook\n",
    "# %matplotlib inline\n",
    "# %load_ext autoreload\n",
    "# %autoreload 2\n",
    "from brainpipe.classification import *\n",
    "from brainpipe.system import study\n",
    "from brainpipe.feature import power, amplitude, sigfilt\n",
    "from brainpipe.visual import *\n",
    "\n",
    "from brainpipe.statistics import *\n",
    "from os import path"
   ]
  },
  {
   "cell_type": "markdown",
   "metadata": {},
   "source": [
    "### Check all files dimensions"
   ]
  },
  {
   "cell_type": "code",
   "execution_count": null,
   "metadata": {
    "collapsed": false
   },
   "outputs": [],
   "source": [
    "st = study('Olfacto')\n",
    "\n",
    "files = st.search('_odor_bad_bipo_sel_phys.npz', folder='database/TS_E_all_by_odor_th40_art400_30_250_Good_Bad_EpiScore_Expi/')\n",
    "for fi in files:\n",
    "    loadname = path.join(st.path, 'database/TS_E_all_by_odor_th40_art400_30_250_Good_Bad_EpiScore_Expi/', fi)\n",
    "    mat = np.load(loadname)\n",
    "    x = np.load(loadname)['x']\n",
    "    print (fi, x.shape, mat.files)"
   ]
  },
  {
   "cell_type": "markdown",
   "metadata": {},
   "source": [
    "### Select only electrodes with 4 or 5 patients by AAL rois"
   ]
  },
  {
   "cell_type": "code",
   "execution_count": null,
   "metadata": {
    "collapsed": false,
    "scrolled": true
   },
   "outputs": [],
   "source": [
    "st = study('Olfacto')\n",
    "path_data = path.join(st.path,'database/TS_E_all_by_odor_th40_art400_30_250_Good_Bad_EpiScore_Expi/')\n",
    "to_keep = ['Cingulum Ant', 'Frontal Inf Orb', 'Frontal Mid', 'Frontal Mid Orb',\n",
    "       'Frontal Sup Orb', 'Fusiform', 'Hippocampus', 'Insula', 'Temporal Inf',\n",
    "       'Temporal Mid', 'Temporal Sup']\n",
    "#to_keep = ['Frontal Inf Orb', 'Frontal Mid Orb', 'Frontal Sup Orb', 'Hippocampus',\n",
    "#       'Insula', 'Temporal Inf', 'Temporal Mid']\n",
    "subjects = ['FERJ','MICP','VACJ','SEMC','LEFC','PIRJ','CHAF']\n",
    "conds = ['bad', 'good']\n",
    "\n",
    "for su in subjects:\n",
    "    for cond in conds:\n",
    "        mat = np.load(path_data+su+'_odor_'+cond+'_bipo_sel_phys.npz')\n",
    "        idx = np.where([mat['aal'][i][:-4] in to_keep for i in range(len(mat['aal']))])\n",
    "        kwargs = {}\n",
    "        kwargs['labels'], kwargs['x'], kwargs['aal'] = mat['labels'][idx], mat['x'][idx], mat['aal'][idx]\n",
    "        kwargs['xyz'], kwargs['channels'], kwargs['sf'] = mat['xyz'][idx], mat['channels'][idx], mat['sf']\n",
    "        kwargs['BA']=mat['BA']\n",
    "        np.savez(path_data+su+'_odor_'+cond+'_bipo_sel_aal_4.npz',**kwargs)\n",
    "        print(su,mat['x'][idx].shape)\n",
    "        del mat"
   ]
  },
  {
   "cell_type": "markdown",
   "metadata": {},
   "source": [
    "### Compute Power for 3 windows in time :: MEAN\n",
    "    No baseline correction OR baseline = mean power along the trial\n",
    "    Win1 = 0-1.5 / Win2 = 1.5-3 / Win3 = 3-4.5 (sec)"
   ]
  },
  {
   "cell_type": "code",
   "execution_count": null,
   "metadata": {
    "collapsed": false,
    "scrolled": true
   },
   "outputs": [],
   "source": [
    "from brainpipe.feat.utils._feat import _manageWindow\n",
    "st = study('Olfacto')\n",
    "subjects = ['FERJ','MICP','VACJ','SEMC','LEFC','PIRJ','CHAF']\n",
    "conds = ['bad', 'good']\n",
    "bsl, width, step = None, 358, 51\n",
    "baseline = 'None'\n",
    "\n",
    "for su in subjects:\n",
    "    for cond in conds:\n",
    "        # Define power settings :\n",
    "        kwargs = {} # Define an empty dictionnary to save all power parameters\n",
    "        kwargs['f'] = [[0.1,1.5],[2,4],[4, 8], [8, 13], [13, 30], [30, 60], [60,120]] # Frequency vector\n",
    "        kwargs['split'] = [None,None,None,None,None,None,6]\n",
    "        fname = ['VLFC','delta','theta', 'alpha', 'beta', 'gamma1', 'gamma2'] # Name of each frequency\n",
    "        kwargs['width'], kwargs['step'] = width, step # take power in 358 samples (700ms) windows width every 51 samples (100ms)\n",
    "        \n",
    "        # Load file :\n",
    "        fi = su+'_odor_'+cond+'_bipo_sel_aal_4.npz'\n",
    "        loadname = path.join(st.path, 'database/TS_E_all_by_odor_th40_art400_30_250_Good_Bad_EpiScore_Expi/', fi)\n",
    "        mat = np.load(loadname)\n",
    "        #print(mat.files)\n",
    "        x, sf, aal_labels = mat['x'], mat['sf'], mat['aal']\n",
    "        n_elec, n_pts, n_trials = x.shape\n",
    "        print ('baseline:', bsl)\n",
    "        print ('--> compute power on : ', fi, cond,'shape', x.shape)\n",
    "        \n",
    "        # Define and save power objects :\n",
    "        powObj_x = power(sf, n_pts, baseline=bsl, norm=3, **kwargs,method='hilbert1')\n",
    "        win_all, time = _manageWindow(2816, width=width, step=step)\n",
    "        kwargs['time'] = np.array(time) / 512\n",
    "        kwargs['fname'], kwargs['s_aal'], kwargs['s_BA'] = fname, mat['aal'], mat['BA']\n",
    "        kwargs['labels'], kwargs['channels'], kwargs['xyz'] = mat['labels'], mat['channels'], mat['xyz']\n",
    "        kwargs['xpow'],  kwargs['xpow_pval']= powObj_x.get(x,n_jobs=-1)\n",
    "        print(kwargs['xpow'].shape)\n",
    "        save_x = path.join(st.path, 'feature/7_Power_E1E2_Odor_Good_Bad_EpiScore_Expi_AAL/', fi.replace('.npz', '_'+baseline+'_pow.npz'))\n",
    "        np.savez(save_x, **kwargs)\n",
    "        del kwargs['xpow'],  kwargs['xpow_pval'], kwargs['fname']\n",
    "        del kwargs, x, sf, n_elec, n_trials"
   ]
  },
  {
   "cell_type": "markdown",
   "metadata": {},
   "source": [
    "### Add BA labels to power files"
   ]
  },
  {
   "cell_type": "code",
   "execution_count": null,
   "metadata": {
    "collapsed": false
   },
   "outputs": [],
   "source": [
    "import pandas as pd\n",
    "import numpy as np\n",
    "from brainpipe.system import study\n",
    "from os import path\n",
    "\n",
    "st = study('Olfacto')\n",
    "subjects = ['LEFC','CHAF','VACJ','SEMC','FERJ','MICP','PIRJ']\n",
    "conds=['bad','good']\n",
    "path_data = path.join(st.path, 'database/TS_E_all_by_odor_th40_art400_30_250_Good_Bad_EpiScore_Expi/')\n",
    "path_pow = path.join(st.path,'feature/7_Power_E1E2_Odor_Good_Bad_EpiScore_Expi/')\n",
    "path_labels = path.join(st.path,'Visbrain/By_subject/')\n",
    "bsl = 'None'\n",
    "\n",
    "for su in subjects:\n",
    "    for cond in conds:\n",
    "        # Load the data\n",
    "        filename = su+'_odor_'+cond+'_bipo_sel_phys_'+bsl+'_pow.npz'\n",
    "        mat = np.load(path_pow+filename)\n",
    "        print(mat.files)\n",
    "        kwargs = {}\n",
    "        kwargs['fname'], kwargs['aal'],kwargs['xyz'] = mat['fname'], mat['phys'], mat['xyz']\n",
    "        kwargs['labels'], kwargs['channels'] = mat['labels'], mat['channels']\n",
    "        kwargs['xpow'],  kwargs['xpow_pval'] = mat['xpow'], mat['xpow_pval']\n",
    "        # Load the BA labels\n",
    "        mat2 = np.load(path_data+su+'_odor_'+cond+'_bipo_sel_phys.npz')\n",
    "        kwargs['BA'] = mat2['BA']\n",
    "        # Update the datafile\n",
    "        np.savez(path_pow+filename, **kwargs)\n",
    "        mat3 = np.load(path_pow+filename)\n",
    "        print(mat3.files)\n",
    "        print(mat3['xpow'].shape, mat3['xyz'].shape, mat3['aal'].shape, mat3['BA'].shape)\n",
    "    "
   ]
  },
  {
   "cell_type": "markdown",
   "metadata": {},
   "source": [
    "### Add BA and AAL labels to Power files"
   ]
  },
  {
   "cell_type": "code",
   "execution_count": null,
   "metadata": {
    "collapsed": false,
    "scrolled": true
   },
   "outputs": [],
   "source": [
    "import pandas as pd\n",
    "import numpy as np\n",
    "from brainpipe.system import study\n",
    "from os import path\n",
    "\n",
    "st = study('Olfacto')\n",
    "subjects = ['LEFC','CHAF','VACJ','SEMC','FERJ','MICP','PIRJ']\n",
    "conds=['bad','good']\n",
    "path_data = path.join(st.path, 'database/TS_E_all_by_odor_th40_art400_30_250_Good_Bad_EpiScore_Expi/')\n",
    "path_pow = path.join(st.path,'feature/7_Power_E1E2_Odor_Good_Bad_EpiScore_Expi/')\n",
    "path_labels = path.join(st.path,'Visbrain/By_subject/')\n",
    "bsl = 'None'\n",
    "\n",
    "for su in subjects:\n",
    "    for cond in conds:\n",
    "        # Load the data\n",
    "        filename = su+'_odor_'+cond+'_bipo_sel_'+bsl+'_pow.npz'\n",
    "        mat = np.load(path_pow+filename)\n",
    "        print(mat.files)\n",
    "        kwargs = {}\n",
    "        kwargs['fname'], kwargs['xyz'] = mat['fname'], mat['xyz']\n",
    "        kwargs['labels'], kwargs['channels'] = mat['labels'], mat['channels']\n",
    "        kwargs['xpow'],  kwargs['xpow_pval'] = mat['xpow'], mat['xpow_pval']\n",
    "        # Load the BA labels\n",
    "        mat2 = np.load(path_data+su+'_odor_'+cond+'_bipo_sel_phys.npz')\n",
    "        kwargs['BA'], kwargs['aal'] = mat2['BA'], mat2['aal']\n",
    "        # Update the datafile\n",
    "        np.savez(path_pow+filename, **kwargs)\n",
    "        mat3 = np.load(path_pow+filename)\n",
    "        print(mat3.files)\n",
    "        print(mat3['xpow'].shape, mat3['xyz'].shape, mat3['aal'].shape, mat3['BA'].shape)\n",
    "    "
   ]
  },
  {
   "cell_type": "markdown",
   "metadata": {},
   "source": [
    "## Compute all power for classif REST\n",
    "Modification of Time window & steps to compute Power\n",
    "\n",
    "Compute power relative to baseline for good and bad odors "
   ]
  },
  {
   "cell_type": "code",
   "execution_count": null,
   "metadata": {
    "collapsed": false,
    "scrolled": false
   },
   "outputs": [],
   "source": [
    "st = study('Olfacto')\n",
    "#subjects = ['FERJ','MICP','VACJ','SEMC','LEFC','PIRJ','CHAF']\n",
    "subjects = ['FERJ','MICP','VACJ','SEMC','LEFC','PIRJ','CHAF']\n",
    "conds = ['bad', 'good']\n",
    "phases = ['odor']\n",
    "bsl = None\n",
    "for su in subjects:\n",
    "    for phase in phases:\n",
    "        for cond in conds:\n",
    "            # Define power settings :\n",
    "            kwargs = {} # Define an empty dictionnary to save all power parameters\n",
    "            kwargs['f'] = [[0.1,1.5],[2,4],[4, 8], [8, 13], [13, 30], [30, 60], [60,120]] # Frequency vector\n",
    "            fname = ['VLFC','delta','theta', 'alpha', 'beta', 'gamma1', 'gamma2'] # Name of each frequency\n",
    "            kwargs['width'], kwargs['step'] = 358, 51 # take power in 358 samples (700ms) windows width every 51 samples (100ms)\n",
    "\n",
    "            #358, 25 700ms with 50ms of overlap, 410, 51 800ms with 100 ms overlap\n",
    "\n",
    "            # Load file :\n",
    "            fi = su+'_'+phase+'_'+cond+'_bipo_sel.npz'\n",
    "            loadname = path.join(st.path, 'database/TS_E_all_by_odor_th40_art400_30_250_Good_Bad_EpiScore_Expi/', fi)\n",
    "            mat = np.load(loadname)\n",
    "            x = mat['x']\n",
    "            # Choice of baseline \n",
    "            baseline = bsl\n",
    "            print ('baseline:', baseline)\n",
    "            print ('--> compute power on : ', fi, phase, cond,'shape', x.shape)\n",
    "            sf = 512\n",
    "            n_elec, n_pts, n_trials = x.shape      \n",
    "\n",
    "            # Define and save power objects :\n",
    "            powObj_x = power(sf, n_pts, baseline=baseline, norm=None, **kwargs,method='hilbert1')\n",
    "            kwargs['fname'] = fname\n",
    "            kwargs['labels'], kwargs['channels'], kwargs['xyz'] = mat['label'], mat['channel'], mat['xyz']\n",
    "            kwargs['xpow'],  kwargs['xpow_pval']= powObj_x.get(x,n_jobs=-1)\n",
    "            save_x = path.join(st.path, 'feature/7_Power_E1E2_Odor_Good_Bad_EpiScore_Expi/', fi.replace('.npz', '_'+str(bsl)+'_pow.npz'))\n",
    "            np.savez(save_x, **kwargs)\n",
    "            del kwargs['xpow'],  kwargs['xpow_pval'], kwargs['fname']\n",
    "            del kwargs, x, sf, n_elec, n_trials"
   ]
  },
  {
   "cell_type": "markdown",
   "metadata": {},
   "source": [
    "### Check all power files dimensions"
   ]
  },
  {
   "cell_type": "code",
   "execution_count": null,
   "metadata": {
    "collapsed": true
   },
   "outputs": [],
   "source": [
    "st = study('Olfacto')\n",
    "files = st.search('500_pow.npz', folder='feature/7_Power_E1E2_Odor_Good_Bad_EpiScore_Expi/')\n",
    "for fi in files:\n",
    "    loadname = path.join(st.path, 'feature/7_Power_E1E2_Odor_Good_Bad_EpiScore_Expi/', fi)\n",
    "    mat = np.load(loadname)\n",
    "    x = np.load(loadname)['xpow']\n",
    "    # nfreq, nelec, nwin, ntrials\n",
    "    print (fi, x.shape)\n",
    "    print(mat.files)"
   ]
  },
  {
   "cell_type": "markdown",
   "metadata": {},
   "source": [
    "## Trick to have the time vector associated with Pow"
   ]
  },
  {
   "cell_type": "code",
   "execution_count": null,
   "metadata": {
    "collapsed": false
   },
   "outputs": [],
   "source": [
    "from brainpipe.feat.utils._feat import _manageWindow\n",
    "\n",
    "win_all, time = _manageWindow(2816, width=256, step=128)\n",
    "time = np.array(time) / 512\n",
    "time[:-3]"
   ]
  },
  {
   "cell_type": "markdown",
   "metadata": {},
   "source": [
    "## Plot all power by elec \n",
    "balanced and unbalanced conditions"
   ]
  },
  {
   "cell_type": "code",
   "execution_count": null,
   "metadata": {
    "collapsed": false
   },
   "outputs": [],
   "source": [
    "%matplotlib notebook\n",
    "#NORMALIZATION BY THE MEAN\n",
    "st = study('Olfacto')\n",
    "fnames = np.load(path.join(st.path, 'feature/7_Power_E1E2_Odor_Good_Bad_EpiScore_Expi/SEMC_odor_good_bipo_sel_phys_None_500_pow.npz'))['fname']\n",
    "good_power = np.load(path.join(st.path, 'feature/7_Power_E1E2_Odor_Good_Bad_EpiScore_Expi/SEMC_odor_good_bipo_sel_phys_None_500_pow.npz'))['xpow']\n",
    "bad_power = np.load(path.join(st.path, 'feature/7_Power_E1E2_Odor_Good_Bad_EpiScore_Expi/SEMC_odor_bad_bipo_sel_phys_None_500_pow.npz'))['xpow']\n",
    "print(good_power.shape, bad_power.shape,fnames[2])\n",
    "elec_good_power = good_power[6,63,:-6,:]\n",
    "elec_bad_power = bad_power[6,63,:-6,:]\n",
    "print(elec_good_power.shape, elec_bad_power.shape)\n",
    "times = np.arange(elec_good_power.shape[0]/512*100)\n",
    "plt.plot(time,np.mean(elec_good_power, axis=1), color='m')\n",
    "plt.plot(time,np.mean(elec_bad_power, axis=1), color='b')\n",
    "plt.xticks(time[:-5])\n",
    "#plt.ylim(0)"
   ]
  },
  {
   "cell_type": "code",
   "execution_count": null,
   "metadata": {
    "collapsed": false
   },
   "outputs": [],
   "source": [
    "%matplotlib notebook\n",
    "#NO NORMALIZATION\n",
    "st = study('Olfacto')\n",
    "fnames = np.load(path.join(st.path, 'feature/7_Power_E1E2_Odor_Good_Bad_EpiScore_Expi/LEFC_odor_good_bipo_sel_phys2_None_pow.npz'))['fname']\n",
    "good_power = np.load(path.join(st.path, 'feature/7_Power_E1E2_Odor_Good_Bad_EpiScore_Expi/LEFC_odor_good_bipo_sel_phys2_None_pow.npz'))['xpow']\n",
    "bad_power = np.load(path.join(st.path, 'feature/7_Power_E1E2_Odor_Good_Bad_EpiScore_Expi/LEFC_odor_bad_bipo_sel_phys2_None_pow.npz'))['xpow']\n",
    "print(good_power.shape, bad_power.shape,fnames[2])\n",
    "elec_good_power = good_power[6,21,:,:]\n",
    "elec_bad_power = bad_power[6,21,:,:]\n",
    "print(elec_good_power.shape, elec_bad_power.shape)\n",
    "plt.plot(np.mean(elec_good_power, axis=1), color='m')\n",
    "plt.plot(np.mean(elec_bad_power, axis=1), color='b')"
   ]
  },
  {
   "cell_type": "markdown",
   "metadata": {},
   "source": [
    "## Classification across time for all freq bands and subjects\n",
    "### Analysis subject by subject"
   ]
  },
  {
   "cell_type": "code",
   "execution_count": null,
   "metadata": {
    "collapsed": false
   },
   "outputs": [],
   "source": [
    "# Importing files \n",
    "st = study('Olfacto')\n",
    "pathfiles = path.join(st.path, 'feature/6_Power_E1E2_Odor_Good_Bad_700_100/')\n",
    "elecfiles = path.join(st.path, 'database/TS_E_all_by_odor_th40_art400_30_250_5s_concatOK/')\n",
    "path2save = path.join(st.path, 'classified/7_Classif_Power_Good_Bad_across_time_700ms_step100ms_subset/')\n",
    "\n",
    "#subjects = ['CHAF','SEMC', 'VACJ','PIRJ', 'MICP', 'LEFC']\n",
    "#freq_bands = ['delta', 'theta', 'alpha', 'beta', 'gamma30-60', 'gamma60-120']\n",
    "\n",
    "freq = 1\n",
    "elec_num = 24\n",
    "classif = 'lda'\n",
    "\n",
    "#files & data to load\n",
    "bad_data = np.load(path.join(pathfiles, 'PIRJ_concat_odor_bad_bipo_power.npz'))['xpow'][freq,elec_num] #take power for one freq band, one elec\n",
    "good_data = np.load(path.join(pathfiles, 'PIRJ_concat_odor_good_bipo_power.npz'))['xpow'][freq,elec_num] #take power for one freq band, one elec\n",
    "print ('bad shape: ', bad_data.shape, 'good shape: ', good_data.shape)\n",
    "elec = np.load(path.join(elecfiles, 'PIRJ_concat_odor_bad_bipo.npz'))['channel'][elec_num]\n",
    "elec_label = np.load(path.join(elecfiles, 'PIRJ_concat_odor_bad_bipo.npz'))['label'][elec_num]\n",
    "freq_name = np.load(path.join(pathfiles, 'PIRJ_concat_odor_bad_bipo_power.npz'))['fname'][freq]\n",
    "print ('elec ', elec, 'elec_label ', elec_label)\n",
    "\n",
    "#create a data matrix, concatenate along the trial dimension\n",
    "bad_good = np.concatenate((bad_data, good_data), axis=1)\n",
    "bad_good = bad_good.swapaxes(0,1)\n",
    "print ('Size of the concatenated data: ', bad_good.shape, 'Number of features : ', bad_good.shape[1])\n",
    "\n",
    "#create label vector (0 for rest and 1 for odor)\n",
    "label = [0]*bad_data.shape[1] + [1]*good_data.shape[1]\n",
    "print ('Size of label for classif: ', len(label))\n",
    "\n",
    "# Define a cross validation:\n",
    "cv = defCv(label, n_folds=10, cvtype='skfold', rep=10)\n",
    "\n",
    "# Define classifier technique\n",
    "clf = defClf(label, clf=classif, n_knn=5,kern='rbf') #,n_tree=200, random_state=100)\n",
    "\n",
    "#Classify rest and odor\n",
    "cl = classify(label, clf=clf, cvtype=cv)\n",
    "\n",
    "# Evaluate the classifier on data:\n",
    "da,pvalue,daperm = cl.fit(bad_good, n_perm=100,method='label_rnd',mf=False)\n",
    "print ('decoding accuracy',da.shape, 'pvalues ', pvalue.shape, 'daperm', daperm.shape)\n",
    "#print (da)"
   ]
  },
  {
   "cell_type": "markdown",
   "metadata": {},
   "source": [
    "# Plot Power analysis + stats and Decoding accuracy + max stat\n",
    "## corrected across time for the da"
   ]
  },
  {
   "cell_type": "code",
   "execution_count": null,
   "metadata": {
    "collapsed": false
   },
   "outputs": [],
   "source": [
    "from matplotlib.ticker import ScalarFormatter, MaxNLocator\n",
    "%matplotlib notebook\n",
    "#Import odor power corrected with a baseline\n",
    "#odor_corr_data = np.load(path.join(pathfiles, 'PIRJ_E1E2_concat_all_bipo_odor_corr_power.npz'))['xpow'][freq,elec_num] #take power for one freq band, one elec\n",
    "\n",
    "#Parameters figure\n",
    "xfmt = ScalarFormatter(useMathText=True)\n",
    "xfmt.set_powerlimits((0,3))\n",
    "fig = plt.figure(1,figsize=(15,4))\n",
    "step = 3500/ bad_data.shape[0]\n",
    "time = np.arange(-500, 3000, step)\n",
    "title = 'Power and DA for '+str(freq_name)+' PIRJ '+str(elec_label)+' ('+str(elec_num)+')'\n",
    "fig.suptitle(title, fontsize=16)\n",
    "\n",
    "# Plot the power and da :\n",
    "plt.subplot(131)\n",
    "plt.plot(time, bad_data, color='b', marker='*',)\n",
    "plt.plot(time, good_data, color='r', marker='o',)\n",
    "plt.gca().yaxis.set_major_locator(MaxNLocator(3,integer=True))\n",
    "\n",
    "#concatenate odor (red) then rest (blue)\n",
    "plt.subplot(132)\n",
    "BorderPlot(time, bad_good, y=label, xlabel='Time (ms)',ylabel = r' $\\mu$V',\n",
    "           alpha=0.3,linewidth=2,color=['r','b'],kind='sem')\n",
    "rmaxis(plt.gca(), ['right', 'top'])\n",
    "addLines(plt.gca(),hColor= ['dimgrey'], hLines=[0], hWidth=[1], hShape=['-'],vLines=[1],vWidth=[1.5],vShape=['-'])\n",
    "plt.gca().yaxis.set_major_locator(MaxNLocator(3,integer=True))\n",
    "\n",
    "plt.subplot(133)\n",
    "title = str(freq_name)+' da : PIRJ '+str(elec_label)+' ('+str(elec_num)+')'\n",
    "BorderPlot(time, da, color='darkslateblue', kind='std',xlabel='Time (ms)', ylim=[da.min()-10,da.max()+10],\n",
    "           ylabel='Decoding accuracy (%)',linewidth=2,alpha=0.3)\n",
    "rmaxis(plt.gca(), ['right', 'top'])\n",
    "addLines(plt.gca(), vLines=[1],vWidth=[1.5],vShape=['-'], vColor=['dimgrey'],\n",
    "        hLines=[50], hColor=['#000000'], hWidth=[2])\n",
    "plt.gca().yaxis.set_major_locator(MaxNLocator(3,integer=True))\n",
    "plt.plot(time, daperm.max()*np.ones((len(time),1)), '--', color='dimgrey', linewidth=2, label='p < .01')\n",
    "print(daperm.max())\n",
    "plt.legend(loc=0, handletextpad=0.1, frameon=False)\n",
    "plt.gca().yaxis.set_major_formatter(xfmt)\n"
   ]
  },
  {
   "cell_type": "code",
   "execution_count": null,
   "metadata": {
    "collapsed": true
   },
   "outputs": [],
   "source": [
    "#Generate the figure and save the plot\n",
    "title = 'Classif_Encoding_'+cond+'_'+su+'_'+ freq+'_p<0.001'\n",
    "fig1 = plt.figure(1, figsize=(20,10))\n",
    "fig1.suptitle(title, fontsize=\"x-large\")\n",
    "cl.daplot(da_mean, daperm=daperm, chance_method='perm', rmax=['top', 'right'],\n",
    "dpax=['bottom', 'left'], cmap='magma', ylim=[40,100], chance_unique=True, chance_level = 0.001,\n",
    "chance_color='darkgreen',)\n",
    "\n",
    "fname = path.join(path2save, su + '_'+cond+'_'+freq+'_0.001.png')\n",
    "fig1.savefig(fname, dpi=300, bbox_inches='tight')\n",
    "print ('saving --»' ,fname)\n",
    "cl.info.to_excel(path2save+su+'_'+cond+'_'+freq+'_'+classifier+'.xlsx')\n",
    "plt.clf()\n",
    "plt.close()\n",
    "del da_mean, elec"
   ]
  },
  {
   "cell_type": "markdown",
   "metadata": {},
   "source": [
    "## Check da perm and da"
   ]
  },
  {
   "cell_type": "code",
   "execution_count": null,
   "metadata": {
    "collapsed": false,
    "scrolled": true
   },
   "outputs": [],
   "source": [
    "st = study('Olfacto')\n",
    "files = st.search('da_Odor', folder='classified/5_Classif_Windows_700ms_Encoding_across_time__SVM_linear/')\n",
    "for fi in files:\n",
    "    loadname = path.join(st.path, 'classified/5_Classif_Windows_700ms_Encoding_across_time__SVM_linear/', fi)\n",
    "    x = np.load(loadname)\n",
    "    print (fi, x.shape, x[5])"
   ]
  }
 ],
 "metadata": {
  "anaconda-cloud": {},
  "kernelspec": {
   "display_name": "Python [conda root]",
   "language": "python",
   "name": "conda-root-py"
  },
  "language_info": {
   "codemirror_mode": {
    "name": "ipython",
    "version": 3
   },
   "file_extension": ".py",
   "mimetype": "text/x-python",
   "name": "python",
   "nbconvert_exporter": "python",
   "pygments_lexer": "ipython3",
   "version": "3.5.2"
  }
 },
 "nbformat": 4,
 "nbformat_minor": 1
}
