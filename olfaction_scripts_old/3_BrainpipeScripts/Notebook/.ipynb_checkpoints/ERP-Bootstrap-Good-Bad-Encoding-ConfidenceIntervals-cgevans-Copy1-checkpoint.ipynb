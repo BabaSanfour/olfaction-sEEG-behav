{
 "cells": [
  {
   "cell_type": "code",
   "execution_count": 1,
   "metadata": {},
   "outputs": [],
   "source": [
    "import numpy as np\n",
    "import matplotlib.pyplot as plt\n",
    "import scikits.bootstrap as boot\n",
    "from os import path\n",
    "from matplotlib.ticker import ScalarFormatter, MaxNLocator\n",
    "\n",
    "from brainpipe.system import study\n",
    "from brainpipe.visual import *\n",
    "from brainpipe.statistics import *\n",
    "from mne.baseline import rescale\n",
    "from mne.filter import filter_data\n",
    "from scipy.stats import *"
   ]
  },
  {
   "cell_type": "markdown",
   "metadata": {},
   "source": [
    "## User variables"
   ]
  },
  {
   "cell_type": "code",
   "execution_count": 15,
   "metadata": {},
   "outputs": [],
   "source": [
    "# ANALYSIS PARAMETERS\n",
    "low_pass_filter = 10.\n",
    "sf = 512.\n",
    "norm_mode = 'zscore' #'ratio' 'mean' 'percent' \n",
    "bsl = (1434,1536) #-200 to 0ms before odor perception\n",
    "data_to_use = [1434, 2048] #-200 to 2000ms after odor\n",
    "time_points = data_to_use[1]-data_to_use[0]\n",
    "n_rep = 100 #bootstrap\n",
    "alpha = 0.05"
   ]
  },
  {
   "cell_type": "code",
   "execution_count": 31,
   "metadata": {
    "scrolled": true
   },
   "outputs": [
    {
     "name": "stdout",
     "output_type": "stream",
     "text": [
      "-> Olfacto loaded\n",
      "Setting up low-pass filter at 10 Hz\n",
      "h_trans_bandwidth chosen to be 2.5 Hz\n",
      "Filter length of 677 samples (1.322 sec) selected\n",
      "Setting up low-pass filter at 10 Hz\n",
      "h_trans_bandwidth chosen to be 2.5 Hz\n",
      "Filter length of 677 samples (1.322 sec) selected\n",
      "Applying baseline correction (mode: zscore)\n",
      "Applying baseline correction (mode: zscore)\n",
      "LEFC OFC_olf low norm shape (34, 614) high norm shape (21, 614)\n",
      "data bad, good (2100, 614) (2100, 614)\n",
      "ci (2, 2, 614)\n"
     ]
    },
    {
     "ename": "ValueError",
     "evalue": "Input passed into argument \"'y1'\"is not 1-dimensional.",
     "output_type": "error",
     "traceback": [
      "\u001b[0;31m---------------------------------------------------------------------------\u001b[0m",
      "\u001b[0;31mValueError\u001b[0m                                Traceback (most recent call last)",
      "\u001b[0;32m<ipython-input-31-29360d51a1bb>\u001b[0m in \u001b[0;36m<module>\u001b[0;34m()\u001b[0m\n\u001b[1;32m     65\u001b[0m         \u001b[0mplt\u001b[0m\u001b[0;34m.\u001b[0m\u001b[0mplot\u001b[0m\u001b[0;34m(\u001b[0m\u001b[0mtimes_plot\u001b[0m\u001b[0;34m,\u001b[0m \u001b[0mnp\u001b[0m\u001b[0;34m.\u001b[0m\u001b[0mmean\u001b[0m\u001b[0;34m(\u001b[0m\u001b[0mnorm_filt_x0\u001b[0m\u001b[0;34m,\u001b[0m\u001b[0maxis\u001b[0m\u001b[0;34m=\u001b[0m\u001b[0;36m0\u001b[0m\u001b[0;34m)\u001b[0m\u001b[0;34m,\u001b[0m\u001b[0;34m'm-'\u001b[0m\u001b[0;34m)\u001b[0m\u001b[0;34m\u001b[0m\u001b[0m\n\u001b[1;32m     66\u001b[0m         plt.fill_between(times_plot,np.mean(norm_filt_x0,axis=0)-ci[0],\n\u001b[0;32m---> 67\u001b[0;31m                         np.mean(norm_filt_x0,axis=0)+ci[0])\n\u001b[0m\u001b[1;32m     68\u001b[0m \u001b[0;31m#         data_all = np.concatenate((data0_rep, data1_rep), axis=0)\u001b[0m\u001b[0;34m\u001b[0m\u001b[0;34m\u001b[0m\u001b[0m\n\u001b[1;32m     69\u001b[0m \u001b[0;31m#         y = np.array([0]*data0_rep.shape[0]+[1]*data1_rep.shape[0])\u001b[0m\u001b[0;34m\u001b[0m\u001b[0;34m\u001b[0m\u001b[0m\n",
      "\u001b[0;32m~/anaconda3/envs/mne_coreg/lib/python3.6/site-packages/matplotlib/pyplot.py\u001b[0m in \u001b[0;36mfill_between\u001b[0;34m(x, y1, y2, where, interpolate, step, data, **kwargs)\u001b[0m\n\u001b[1;32m   2583\u001b[0m     return gca().fill_between(\n\u001b[1;32m   2584\u001b[0m         \u001b[0mx\u001b[0m\u001b[0;34m,\u001b[0m \u001b[0my1\u001b[0m\u001b[0;34m,\u001b[0m \u001b[0my2\u001b[0m\u001b[0;34m=\u001b[0m\u001b[0my2\u001b[0m\u001b[0;34m,\u001b[0m \u001b[0mwhere\u001b[0m\u001b[0;34m=\u001b[0m\u001b[0mwhere\u001b[0m\u001b[0;34m,\u001b[0m \u001b[0minterpolate\u001b[0m\u001b[0;34m=\u001b[0m\u001b[0minterpolate\u001b[0m\u001b[0;34m,\u001b[0m \u001b[0mstep\u001b[0m\u001b[0;34m=\u001b[0m\u001b[0mstep\u001b[0m\u001b[0;34m,\u001b[0m\u001b[0;34m\u001b[0m\u001b[0m\n\u001b[0;32m-> 2585\u001b[0;31m         **({\"data\": data} if data is not None else {}), **kwargs)\n\u001b[0m\u001b[1;32m   2586\u001b[0m \u001b[0;34m\u001b[0m\u001b[0m\n\u001b[1;32m   2587\u001b[0m \u001b[0;34m\u001b[0m\u001b[0m\n",
      "\u001b[0;32m~/anaconda3/envs/mne_coreg/lib/python3.6/site-packages/matplotlib/__init__.py\u001b[0m in \u001b[0;36minner\u001b[0;34m(ax, data, *args, **kwargs)\u001b[0m\n\u001b[1;32m   1587\u001b[0m     \u001b[0;32mdef\u001b[0m \u001b[0minner\u001b[0m\u001b[0;34m(\u001b[0m\u001b[0max\u001b[0m\u001b[0;34m,\u001b[0m \u001b[0;34m*\u001b[0m\u001b[0margs\u001b[0m\u001b[0;34m,\u001b[0m \u001b[0mdata\u001b[0m\u001b[0;34m=\u001b[0m\u001b[0;32mNone\u001b[0m\u001b[0;34m,\u001b[0m \u001b[0;34m**\u001b[0m\u001b[0mkwargs\u001b[0m\u001b[0;34m)\u001b[0m\u001b[0;34m:\u001b[0m\u001b[0;34m\u001b[0m\u001b[0m\n\u001b[1;32m   1588\u001b[0m         \u001b[0;32mif\u001b[0m \u001b[0mdata\u001b[0m \u001b[0;32mis\u001b[0m \u001b[0;32mNone\u001b[0m\u001b[0;34m:\u001b[0m\u001b[0;34m\u001b[0m\u001b[0m\n\u001b[0;32m-> 1589\u001b[0;31m             \u001b[0;32mreturn\u001b[0m \u001b[0mfunc\u001b[0m\u001b[0;34m(\u001b[0m\u001b[0max\u001b[0m\u001b[0;34m,\u001b[0m \u001b[0;34m*\u001b[0m\u001b[0mmap\u001b[0m\u001b[0;34m(\u001b[0m\u001b[0msanitize_sequence\u001b[0m\u001b[0;34m,\u001b[0m \u001b[0margs\u001b[0m\u001b[0;34m)\u001b[0m\u001b[0;34m,\u001b[0m \u001b[0;34m**\u001b[0m\u001b[0mkwargs\u001b[0m\u001b[0;34m)\u001b[0m\u001b[0;34m\u001b[0m\u001b[0m\n\u001b[0m\u001b[1;32m   1590\u001b[0m \u001b[0;34m\u001b[0m\u001b[0m\n\u001b[1;32m   1591\u001b[0m         \u001b[0mbound\u001b[0m \u001b[0;34m=\u001b[0m \u001b[0mnew_sig\u001b[0m\u001b[0;34m.\u001b[0m\u001b[0mbind\u001b[0m\u001b[0;34m(\u001b[0m\u001b[0max\u001b[0m\u001b[0;34m,\u001b[0m \u001b[0;34m*\u001b[0m\u001b[0margs\u001b[0m\u001b[0;34m,\u001b[0m \u001b[0;34m**\u001b[0m\u001b[0mkwargs\u001b[0m\u001b[0;34m)\u001b[0m\u001b[0;34m\u001b[0m\u001b[0m\n",
      "\u001b[0;32m~/anaconda3/envs/mne_coreg/lib/python3.6/site-packages/matplotlib/axes/_axes.py\u001b[0m in \u001b[0;36mfill_between\u001b[0;34m(self, x, y1, y2, where, interpolate, step, **kwargs)\u001b[0m\n\u001b[1;32m   5221\u001b[0m             \u001b[0;32mif\u001b[0m \u001b[0marray\u001b[0m\u001b[0;34m.\u001b[0m\u001b[0mndim\u001b[0m \u001b[0;34m>\u001b[0m \u001b[0;36m1\u001b[0m\u001b[0;34m:\u001b[0m\u001b[0;34m\u001b[0m\u001b[0m\n\u001b[1;32m   5222\u001b[0m                 raise ValueError('Input passed into argument \"%r\"' % name +\n\u001b[0;32m-> 5223\u001b[0;31m                                  'is not 1-dimensional.')\n\u001b[0m\u001b[1;32m   5224\u001b[0m \u001b[0;34m\u001b[0m\u001b[0m\n\u001b[1;32m   5225\u001b[0m         \u001b[0;32mif\u001b[0m \u001b[0mwhere\u001b[0m \u001b[0;32mis\u001b[0m \u001b[0;32mNone\u001b[0m\u001b[0;34m:\u001b[0m\u001b[0;34m\u001b[0m\u001b[0m\n",
      "\u001b[0;31mValueError\u001b[0m: Input passed into argument \"'y1'\"is not 1-dimensional."
     ]
    },
    {
     "data": {
      "image/png": "[encoded data removed]",
      "text/plain": [
       "<Figure size 648x432 with 1 Axes>"
      ]
     },
     "metadata": {
      "needs_background": "light"
     },
     "output_type": "display_data"
    }
   ],
   "source": [
    "st = study('Olfacto')\n",
    "data_path = path.join(st.path, 'database/Encoding_EpiPerf_LowHigh/')\n",
    "dataname = path.join(data_path, '{}_odor_{}_common_renamed_OFC_HC.npz')\n",
    "\n",
    "dict_E = {'LEFC':[23,3,5,8,9],'FERJ':[25,6],'PIRJ':[24],'SEMC':[0,31],'VACJ':[7]}\n",
    "dict_R = {'FERJ':[25],'PIRJ':[20],'SEMC':[26],'VACJ':[8,31]}\n",
    "conds, exp = ['low','high'], 'E'\n",
    "dict_ = dict_E if exp == 'E' else dict_R\n",
    "\n",
    "for su in dict_:\n",
    "    mat0 = np.load(dataname.format(su,conds[0]),allow_pickle=True)\n",
    "    mat1 = np.load(dataname.format(su,conds[1]),allow_pickle=True)\n",
    "    # 3584 points >> 7s from -3 to +4s\n",
    "    data0, data1 = mat0['x'], mat1['x']\n",
    "    labels, channels = mat0['labels'], mat0['channels']\n",
    "\n",
    "    for elec in dict_[su]:\n",
    "        x0, x1, lab = data0[elec].swapaxes(0,1), data1[elec].swapaxes(0,1), labels[elec]\n",
    "        x0, x1 = np.array(x0, dtype='float64'), np.array(x1, dtype='float64')\n",
    "        filt_x0 = filter_data(x0, sfreq=512, l_freq=None, h_freq=low_pass_filter, \n",
    "                                                  method='fir', phase='zero-double')\n",
    "        filt_x1 = filter_data(x1, sfreq=512, l_freq=None, h_freq=low_pass_filter, \n",
    "                                                  method='fir', phase='zero-double')\n",
    "        \n",
    "        time = np.arange(filt_x0.shape[1])\n",
    "        norm_filt_x0 = rescale(filt_x0, times=time, baseline=bsl, mode=norm_mode)\n",
    "        norm_filt_x1 = rescale(filt_x1, times=time, baseline=bsl, mode=norm_mode)\n",
    "        \n",
    "        norm_filt_x0 = norm_filt_x0[:,data_to_use[0]:data_to_use[1]]\n",
    "        norm_filt_x1 = norm_filt_x1[:,data_to_use[0]:data_to_use[1]]\n",
    "        print(su, lab, 'low norm shape', norm_filt_x0.shape, 'high norm shape', \n",
    "              norm_filt_x1.shape)\n",
    "        \n",
    "        data0_rep, data1_rep = np.array([]), np.array([])\n",
    "        for i in range(n_rep):\n",
    "            if norm_filt_x0.shape[0] > norm_filt_x1.shape[0]:\n",
    "                data0_sel = norm_filt_x0[np.random.randint(norm_filt_x0.shape[0],\n",
    "                                            size=norm_filt_x1.shape[0]), :]\n",
    "                data1_sel = norm_filt_x1\n",
    "            if norm_filt_x0.shape[0] < norm_filt_x1.shape[0]:\n",
    "                data0_sel = norm_filt_x0\n",
    "                data1_sel = norm_filt_x1[np.random.randint(norm_filt_x1.shape[0], \n",
    "                                            size=norm_filt_x0.shape[0]), :]\n",
    "            elif norm_filt_x0.shape[0] == norm_filt_x1.shape[0]:\n",
    "                data0_sel, data1_sel = norm_filt_x0, norm_filt_x1\n",
    "            data0_rep = np.vstack((data0_rep,data0_sel)) if np.size(data0_rep) else data0_sel\n",
    "            data1_rep = np.vstack((data1_rep,data1_sel)) if np.size(data1_rep) else data1_sel\n",
    "        print('data bad, good',data0_rep.shape, data1_rep.shape)\n",
    "        \n",
    "        ci = boot.ci((data0_rep,data1_rep), statfunction=ttest_rel, alpha=0.05, \n",
    "                     n_samples=1000, method='pi', output='lowhigh', multi=True)\n",
    "        print('ci',ci.shape)\n",
    "        \n",
    "        # ========================== PREPARE PLOTS AND SAVE STATS =========================================\n",
    "        # plot and figure parameters\n",
    "        xfmt = ScalarFormatter(useMathText=True)\n",
    "        xfmt.set_powerlimits((0,3))\n",
    "        fig = plt.figure(1,figsize=(9,6))\n",
    "        title = 'ERP and Stats for {} High/Low in {}'.format(su,lab)\n",
    "        fig.suptitle(title, fontsize=12)\n",
    "        times_plot = 1000 * np.arange((bsl[0] - bsl[1]), data_to_use[1]-bsl[1]) / sf\n",
    "        \n",
    "        # Plot the ERPs and the stats\n",
    "        plt.plot(times_plot, np.mean(norm_filt_x0,axis=0),'b-')\n",
    "        plt.plot(times_plot, np.mean(norm_filt_x0,axis=0),'m-')\n",
    "        plt.fill_between(times_plot,np.mean(norm_filt_x0,axis=0)-ci[0],\n",
    "                        np.mean(norm_filt_x0,axis=0)+ci[0])\n",
    "#         data_all = np.concatenate((data0_rep, data1_rep), axis=0)\n",
    "#         y = np.array([0]*data0_rep.shape[0]+[1]*data1_rep.shape[0])\n",
    "#         BorderPlot(times_plot, data_all, y=y, kind='sem', alpha=0.2, color=['b','m'], \n",
    "#                    linewidth=2, ncol=1, xlabel='Time (ms)',ylabel = r' $\\mu$V', \n",
    "#                    legend = ['bad', 'good'])\n",
    "        addLines(plt.gca(), vLines=[0], vColor=['r'], vWidth=[2], hLines=[0], \n",
    "                 hColor=['#000000'], hWidth=[2])\n",
    "        rmaxis(plt.gca(), ['right', 'top'])\n",
    "        plt.legend(loc=0, handletextpad=0.1, frameon=False)\n",
    "        plt.gca().yaxis.set_major_locator(MaxNLocator(3,integer=True))\n",
    "        plt.show()\n",
    "        0/0\n",
    "#         plt.savefig(plot_name, dpi=300, bbox_inches='tight')\n",
    "#         plt.clf()\n",
    "#         plt.close()\n",
    "        "
   ]
  },
  {
   "cell_type": "code",
   "execution_count": 33,
   "metadata": {},
   "outputs": [
    {
     "data": {
      "text/plain": [
       "array([[-1.23255044e+01, -1.27380225e+01, -1.29976252e+01, ...,\n",
       "        -1.55648399e+01, -1.56332743e+01, -1.57285427e+01],\n",
       "       [ 9.41913908e-34,  7.44879724e-36,  3.30661166e-37, ...,\n",
       "         8.82095288e-52,  3.37575605e-52,  8.81606001e-53]])"
      ]
     },
     "execution_count": 33,
     "metadata": {},
     "output_type": "execute_result"
    }
   ],
   "source": [
    "ci[0]"
   ]
  }
 ],
 "metadata": {
  "anaconda-cloud": {},
  "kernelspec": {
   "display_name": "Python 3",
   "language": "python",
   "name": "python3"
  },
  "language_info": {
   "codemirror_mode": {
    "name": "ipython",
    "version": 3
   },
   "file_extension": ".py",
   "mimetype": "text/x-python",
   "name": "python",
   "nbconvert_exporter": "python",
   "pygments_lexer": "ipython3",
   "version": "3.6.1"
  }
 },
 "nbformat": 4,
 "nbformat_minor": 1
}
