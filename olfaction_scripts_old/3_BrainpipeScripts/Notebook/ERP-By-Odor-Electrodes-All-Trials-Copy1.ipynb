{
 "cells": [
  {
   "cell_type": "markdown",
   "metadata": {},
   "source": [
    "## Calculate ERPs"
   ]
  },
  {
   "cell_type": "code",
   "execution_count": 1,
   "metadata": {
    "collapsed": false
   },
   "outputs": [],
   "source": [
    "#Importing files and modules\n",
    "\n",
    "import numpy as np\n",
    "import matplotlib.pyplot as plt\n",
    "from matplotlib.ticker import ScalarFormatter, MaxNLocator\n",
    "from os import path, makedirs\n",
    "#%matplotlib notebook\n",
    "from brainpipe.system import study\n",
    "from brainpipe.visual import *\n",
    "from brainpipe.statistics import *\n",
    "from mne.baseline import rescale\n",
    "from mne.filter import filter_data\n",
    "import pandas as pd\n",
    "from pandas import ExcelWriter\n",
    "\n",
    "from brainpipe.feat.utils._feat import _manageWindow"
   ]
  },
  {
   "cell_type": "markdown",
   "metadata": {},
   "source": [
    "## User variables"
   ]
  },
  {
   "cell_type": "code",
   "execution_count": 2,
   "metadata": {
    "collapsed": true
   },
   "outputs": [],
   "source": [
    "low_pass_filter = 10.\n",
    "sf = 512.\n",
    "norm_mode = 'mean' #'ratio' 'mean' 'percent' \n",
    "baseline = [1408,1536] #-250ms à 0ms\n",
    "data_to_use = [-250,2050] # in ms\n",
    "n_perm = 200"
   ]
  },
  {
   "cell_type": "markdown",
   "metadata": {},
   "source": [
    "# Compute ERPs By Odor ALL & selected trials"
   ]
  },
  {
   "cell_type": "code",
   "execution_count": 3,
   "metadata": {},
   "outputs": [],
   "source": [
    "def windows(array, win, step=1):\n",
    "    if step == 0: # otherwise infinite loop\n",
    "        raise ValueError(\"Parameter 'step' can't be 0\")\n",
    "    lst = list(array)\n",
    "    i = 0\n",
    "    while i + win < len(lst):\n",
    "        yield lst[i:i+win]\n",
    "        i += step\n",
    "\n",
    "def downsample(array,win,step):\n",
    "    ds_data = []\n",
    "    for win in windows(array, win, step):\n",
    "        mean = np.mean(win)\n",
    "        ds_data = np.append(ds_data,mean)\n",
    "    return ds_data\n",
    "\n",
    "def timing_ds(time,win,step,sf=512,onset=None):\n",
    "    time_points = []\n",
    "    for win in windows(time, win, step):\n",
    "        t = ((win[int(round((len(win)/2),0))]/512)*1000)-onset\n",
    "        time_points = np.append(time_points,t)\n",
    "    return time_points"
   ]
  },
  {
   "cell_type": "code",
   "execution_count": 5,
   "metadata": {
    "collapsed": false,
    "scrolled": true
   },
   "outputs": [
    {
     "name": "stdout",
     "output_type": "stream",
     "text": [
      "-> Olfacto loaded\n",
      "LEFC (148, 3584, 129) (148, 3584, 24)\n",
      "Setting up low-pass filter at 10 Hz\n",
      "fir_design defaults to \"firwin2\" in 0.15 but will change to \"firwin\" in 0.16, set it explicitly to avoid this warning.\n",
      "h_trans_bandwidth chosen to be 2.5 Hz\n",
      "Filter length of 1352 samples (2.641 sec) selected\n",
      "Size of filtered data: (3584, 153)\n",
      "time points :  (3584,)\n",
      "Applying baseline correction (mode: mean)\n",
      "Size norm & filtered data :  (3584, 153)\n"
     ]
    },
    {
     "name": "stderr",
     "output_type": "stream",
     "text": [
      "<ipython-input-5-154bfa86badc>:37: DeprecationWarning: fir_design defaults to \"firwin2\" in 0.15 but will change to \"firwin\" in 0.16, set it explicitly to avoid this warning.\n",
      "  h_freq=low_pass_filter, method='fir', phase='zero-double').swapaxes(0,1)\n"
     ]
    },
    {
     "name": "stdout",
     "output_type": "stream",
     "text": [
      "-> Shape of all trials data to plot :  (23, 153)\n",
      "-> Shape of time vector :  23\n",
      "/media/karim/Datas4To/1_Analyses_Intra_EM_Odor/Olfacto/feature/ERP_Odor_No_Odor/Retrieval/LEFC_ERP_Amg-pPirT_a2-a1_(0).png\n",
      "data to save (23, 153) cond0 (1, 23, 24) cond1 (1, 23, 129)\n",
      "Setting up low-pass filter at 10 Hz\n",
      "fir_design defaults to \"firwin2\" in 0.15 but will change to \"firwin\" in 0.16, set it explicitly to avoid this warning.\n",
      "h_trans_bandwidth chosen to be 2.5 Hz\n",
      "Filter length of 1352 samples (2.641 sec) selected\n",
      "Size of filtered data: (3584, 153)\n",
      "time points :  (3584,)\n",
      "Applying baseline correction (mode: mean)\n",
      "Size norm & filtered data :  (3584, 153)\n"
     ]
    },
    {
     "name": "stderr",
     "output_type": "stream",
     "text": [
      "<ipython-input-5-154bfa86badc>:37: DeprecationWarning: fir_design defaults to \"firwin2\" in 0.15 but will change to \"firwin\" in 0.16, set it explicitly to avoid this warning.\n",
      "  h_freq=low_pass_filter, method='fir', phase='zero-double').swapaxes(0,1)\n"
     ]
    },
    {
     "name": "stdout",
     "output_type": "stream",
     "text": [
      "-> Shape of all trials data to plot :  (23, 153)\n",
      "-> Shape of time vector :  23\n",
      "/media/karim/Datas4To/1_Analyses_Intra_EM_Odor/Olfacto/feature/ERP_Odor_No_Odor/Retrieval/LEFC_ERP_Ins-Ppo_a6-a5_(1).png\n",
      "data to save (23, 153) cond0 (2, 23, 24) cond1 (2, 23, 129)\n",
      "Setting up low-pass filter at 10 Hz\n",
      "fir_design defaults to \"firwin2\" in 0.15 but will change to \"firwin\" in 0.16, set it explicitly to avoid this warning.\n",
      "h_trans_bandwidth chosen to be 2.5 Hz\n",
      "Filter length of 1352 samples (2.641 sec) selected\n",
      "Size of filtered data: (3584, 153)\n",
      "time points :  (3584,)\n",
      "Applying baseline correction (mode: mean)\n",
      "Size norm & filtered data :  (3584, 153)\n"
     ]
    },
    {
     "name": "stderr",
     "output_type": "stream",
     "text": [
      "<ipython-input-5-154bfa86badc>:37: DeprecationWarning: fir_design defaults to \"firwin2\" in 0.15 but will change to \"firwin\" in 0.16, set it explicitly to avoid this warning.\n",
      "  h_freq=low_pass_filter, method='fir', phase='zero-double').swapaxes(0,1)\n"
     ]
    },
    {
     "name": "stdout",
     "output_type": "stream",
     "text": [
      "-> Shape of all trials data to plot :  (23, 153)\n",
      "-> Shape of time vector :  23\n",
      "/media/karim/Datas4To/1_Analyses_Intra_EM_Odor/Olfacto/feature/ERP_Odor_No_Odor/Retrieval/LEFC_ERP_Ins-Ppo_a7-a6_(2).png\n",
      "data to save (23, 153) cond0 (3, 23, 24) cond1 (3, 23, 129)\n",
      "Setting up low-pass filter at 10 Hz\n",
      "fir_design defaults to \"firwin2\" in 0.15 but will change to \"firwin\" in 0.16, set it explicitly to avoid this warning.\n",
      "h_trans_bandwidth chosen to be 2.5 Hz\n",
      "Filter length of 1352 samples (2.641 sec) selected\n",
      "Size of filtered data: (3584, 153)\n",
      "time points :  (3584,)\n",
      "Applying baseline correction (mode: mean)\n",
      "Size norm & filtered data :  (3584, 153)\n"
     ]
    },
    {
     "name": "stderr",
     "output_type": "stream",
     "text": [
      "<ipython-input-5-154bfa86badc>:37: DeprecationWarning: fir_design defaults to \"firwin2\" in 0.15 but will change to \"firwin\" in 0.16, set it explicitly to avoid this warning.\n",
      "  h_freq=low_pass_filter, method='fir', phase='zero-double').swapaxes(0,1)\n"
     ]
    },
    {
     "name": "stdout",
     "output_type": "stream",
     "text": [
      "-> Shape of all trials data to plot :  (23, 153)\n",
      "-> Shape of time vector :  23\n",
      "/media/karim/Datas4To/1_Analyses_Intra_EM_Odor/Olfacto/feature/ERP_Odor_No_Odor/Retrieval/LEFC_ERP_aSTG-aMTG&Ins-Ppo_a8-a7_(3).png\n",
      "data to save (23, 153) cond0 (4, 23, 24) cond1 (4, 23, 129)\n",
      "Setting up low-pass filter at 10 Hz\n",
      "fir_design defaults to \"firwin2\" in 0.15 but will change to \"firwin\" in 0.16, set it explicitly to avoid this warning.\n",
      "h_trans_bandwidth chosen to be 2.5 Hz\n",
      "Filter length of 1352 samples (2.641 sec) selected\n",
      "Size of filtered data: (3584, 153)\n",
      "time points :  (3584,)\n",
      "Applying baseline correction (mode: mean)\n",
      "Size norm & filtered data :  (3584, 153)\n"
     ]
    },
    {
     "name": "stderr",
     "output_type": "stream",
     "text": [
      "<ipython-input-5-154bfa86badc>:37: DeprecationWarning: fir_design defaults to \"firwin2\" in 0.15 but will change to \"firwin\" in 0.16, set it explicitly to avoid this warning.\n",
      "  h_freq=low_pass_filter, method='fir', phase='zero-double').swapaxes(0,1)\n"
     ]
    },
    {
     "name": "stdout",
     "output_type": "stream",
     "text": [
      "-> Shape of all trials data to plot :  (23, 153)\n",
      "-> Shape of time vector :  23\n",
      "/media/karim/Datas4To/1_Analyses_Intra_EM_Odor/Olfacto/feature/ERP_Odor_No_Odor/Retrieval/LEFC_ERP_aSTG-aMTG_a9-a8_(4).png\n",
      "data to save (23, 153) cond0 (5, 23, 24) cond1 (5, 23, 129)\n",
      "Setting up low-pass filter at 10 Hz\n",
      "fir_design defaults to \"firwin2\" in 0.15 but will change to \"firwin\" in 0.16, set it explicitly to avoid this warning.\n",
      "h_trans_bandwidth chosen to be 2.5 Hz\n",
      "Filter length of 1352 samples (2.641 sec) selected\n",
      "Size of filtered data: (3584, 153)\n",
      "time points :  (3584,)\n",
      "Applying baseline correction (mode: mean)\n",
      "Size norm & filtered data :  (3584, 153)\n"
     ]
    },
    {
     "name": "stderr",
     "output_type": "stream",
     "text": [
      "<ipython-input-5-154bfa86badc>:37: DeprecationWarning: fir_design defaults to \"firwin2\" in 0.15 but will change to \"firwin\" in 0.16, set it explicitly to avoid this warning.\n",
      "  h_freq=low_pass_filter, method='fir', phase='zero-double').swapaxes(0,1)\n"
     ]
    },
    {
     "name": "stdout",
     "output_type": "stream",
     "text": [
      "-> Shape of all trials data to plot :  (23, 153)\n",
      "-> Shape of time vector :  23\n",
      "/media/karim/Datas4To/1_Analyses_Intra_EM_Odor/Olfacto/feature/ERP_Odor_No_Odor/Retrieval/LEFC_ERP_aSTG-aMTG_a10-a9_(5).png\n",
      "data to save (23, 153) cond0 (6, 23, 24) cond1 (6, 23, 129)\n",
      "Setting up low-pass filter at 10 Hz\n",
      "fir_design defaults to \"firwin2\" in 0.15 but will change to \"firwin\" in 0.16, set it explicitly to avoid this warning.\n",
      "h_trans_bandwidth chosen to be 2.5 Hz\n",
      "Filter length of 1352 samples (2.641 sec) selected\n",
      "Size of filtered data: (3584, 153)\n",
      "time points :  (3584,)\n",
      "Applying baseline correction (mode: mean)\n",
      "Size norm & filtered data :  (3584, 153)\n"
     ]
    },
    {
     "name": "stderr",
     "output_type": "stream",
     "text": [
      "<ipython-input-5-154bfa86badc>:37: DeprecationWarning: fir_design defaults to \"firwin2\" in 0.15 but will change to \"firwin\" in 0.16, set it explicitly to avoid this warning.\n",
      "  h_freq=low_pass_filter, method='fir', phase='zero-double').swapaxes(0,1)\n"
     ]
    },
    {
     "name": "stdout",
     "output_type": "stream",
     "text": [
      "-> Shape of all trials data to plot :  (23, 153)\n",
      "-> Shape of time vector :  23\n",
      "/media/karim/Datas4To/1_Analyses_Intra_EM_Odor/Olfacto/feature/ERP_Odor_No_Odor/Retrieval/LEFC_ERP_aSTG-aMTG_a11-a10_(6).png\n",
      "data to save (23, 153) cond0 (7, 23, 24) cond1 (7, 23, 129)\n",
      "Setting up low-pass filter at 10 Hz\n",
      "fir_design defaults to \"firwin2\" in 0.15 but will change to \"firwin\" in 0.16, set it explicitly to avoid this warning.\n",
      "h_trans_bandwidth chosen to be 2.5 Hz\n",
      "Filter length of 1352 samples (2.641 sec) selected\n",
      "Size of filtered data: (3584, 153)\n",
      "time points :  (3584,)\n",
      "Applying baseline correction (mode: mean)\n",
      "Size norm & filtered data :  (3584, 153)\n"
     ]
    },
    {
     "name": "stderr",
     "output_type": "stream",
     "text": [
      "<ipython-input-5-154bfa86badc>:37: DeprecationWarning: fir_design defaults to \"firwin2\" in 0.15 but will change to \"firwin\" in 0.16, set it explicitly to avoid this warning.\n",
      "  h_freq=low_pass_filter, method='fir', phase='zero-double').swapaxes(0,1)\n"
     ]
    },
    {
     "name": "stdout",
     "output_type": "stream",
     "text": [
      "-> Shape of all trials data to plot :  (23, 153)\n",
      "-> Shape of time vector :  23\n",
      "/media/karim/Datas4To/1_Analyses_Intra_EM_Odor/Olfacto/feature/ERP_Odor_No_Odor/Retrieval/LEFC_ERP_mHC_b2-b1_(7).png\n",
      "data to save (23, 153) cond0 (8, 23, 24) cond1 (8, 23, 129)\n",
      "Setting up low-pass filter at 10 Hz\n",
      "fir_design defaults to \"firwin2\" in 0.15 but will change to \"firwin\" in 0.16, set it explicitly to avoid this warning.\n",
      "h_trans_bandwidth chosen to be 2.5 Hz\n",
      "Filter length of 1352 samples (2.641 sec) selected\n",
      "Size of filtered data: (3584, 153)\n",
      "time points :  (3584,)\n",
      "Applying baseline correction (mode: mean)\n",
      "Size norm & filtered data :  (3584, 153)\n"
     ]
    },
    {
     "name": "stderr",
     "output_type": "stream",
     "text": [
      "<ipython-input-5-154bfa86badc>:37: DeprecationWarning: fir_design defaults to \"firwin2\" in 0.15 but will change to \"firwin\" in 0.16, set it explicitly to avoid this warning.\n",
      "  h_freq=low_pass_filter, method='fir', phase='zero-double').swapaxes(0,1)\n"
     ]
    },
    {
     "name": "stdout",
     "output_type": "stream",
     "text": [
      "-> Shape of all trials data to plot :  (23, 153)\n",
      "-> Shape of time vector :  23\n",
      "/media/karim/Datas4To/1_Analyses_Intra_EM_Odor/Olfacto/feature/ERP_Odor_No_Odor/Retrieval/LEFC_ERP_mHC_b3-b2_(8).png\n",
      "data to save (23, 153) cond0 (9, 23, 24) cond1 (9, 23, 129)\n",
      "Setting up low-pass filter at 10 Hz\n",
      "fir_design defaults to \"firwin2\" in 0.15 but will change to \"firwin\" in 0.16, set it explicitly to avoid this warning.\n",
      "h_trans_bandwidth chosen to be 2.5 Hz\n",
      "Filter length of 1352 samples (2.641 sec) selected\n",
      "Size of filtered data: (3584, 153)\n",
      "time points :  (3584,)\n",
      "Applying baseline correction (mode: mean)\n",
      "Size norm & filtered data :  (3584, 153)\n"
     ]
    },
    {
     "name": "stderr",
     "output_type": "stream",
     "text": [
      "<ipython-input-5-154bfa86badc>:37: DeprecationWarning: fir_design defaults to \"firwin2\" in 0.15 but will change to \"firwin\" in 0.16, set it explicitly to avoid this warning.\n",
      "  h_freq=low_pass_filter, method='fir', phase='zero-double').swapaxes(0,1)\n"
     ]
    },
    {
     "name": "stdout",
     "output_type": "stream",
     "text": [
      "-> Shape of all trials data to plot :  (23, 153)\n",
      "-> Shape of time vector :  23\n",
      "/media/karim/Datas4To/1_Analyses_Intra_EM_Odor/Olfacto/feature/ERP_Odor_No_Odor/Retrieval/LEFC_ERP_mHC_b4-b3_(9).png\n",
      "data to save (23, 153) cond0 (10, 23, 24) cond1 (10, 23, 129)\n",
      "Setting up low-pass filter at 10 Hz\n",
      "fir_design defaults to \"firwin2\" in 0.15 but will change to \"firwin\" in 0.16, set it explicitly to avoid this warning.\n",
      "h_trans_bandwidth chosen to be 2.5 Hz\n",
      "Filter length of 1352 samples (2.641 sec) selected\n",
      "Size of filtered data: (3584, 153)\n",
      "time points :  (3584,)\n",
      "Applying baseline correction (mode: mean)\n",
      "Size norm & filtered data :  (3584, 153)\n"
     ]
    },
    {
     "name": "stderr",
     "output_type": "stream",
     "text": [
      "<ipython-input-5-154bfa86badc>:37: DeprecationWarning: fir_design defaults to \"firwin2\" in 0.15 but will change to \"firwin\" in 0.16, set it explicitly to avoid this warning.\n",
      "  h_freq=low_pass_filter, method='fir', phase='zero-double').swapaxes(0,1)\n"
     ]
    },
    {
     "name": "stdout",
     "output_type": "stream",
     "text": [
      "-> Shape of all trials data to plot :  (23, 153)\n",
      "-> Shape of time vector :  23\n",
      "/media/karim/Datas4To/1_Analyses_Intra_EM_Odor/Olfacto/feature/ERP_Odor_No_Odor/Retrieval/LEFC_ERP_MTG_b9-b8_(10).png\n",
      "data to save (23, 153) cond0 (11, 23, 24) cond1 (11, 23, 129)\n",
      "Setting up low-pass filter at 10 Hz\n",
      "fir_design defaults to \"firwin2\" in 0.15 but will change to \"firwin\" in 0.16, set it explicitly to avoid this warning.\n",
      "h_trans_bandwidth chosen to be 2.5 Hz\n",
      "Filter length of 1352 samples (2.641 sec) selected\n",
      "Size of filtered data: (3584, 153)\n",
      "time points :  (3584,)\n",
      "Applying baseline correction (mode: mean)\n",
      "Size norm & filtered data :  (3584, 153)\n"
     ]
    },
    {
     "name": "stderr",
     "output_type": "stream",
     "text": [
      "<ipython-input-5-154bfa86badc>:37: DeprecationWarning: fir_design defaults to \"firwin2\" in 0.15 but will change to \"firwin\" in 0.16, set it explicitly to avoid this warning.\n",
      "  h_freq=low_pass_filter, method='fir', phase='zero-double').swapaxes(0,1)\n"
     ]
    },
    {
     "name": "stdout",
     "output_type": "stream",
     "text": [
      "-> Shape of all trials data to plot :  (23, 153)\n",
      "-> Shape of time vector :  23\n",
      "/media/karim/Datas4To/1_Analyses_Intra_EM_Odor/Olfacto/feature/ERP_Odor_No_Odor/Retrieval/LEFC_ERP_MTG_b10-b9_(11).png\n",
      "data to save (23, 153) cond0 (12, 23, 24) cond1 (12, 23, 129)\n",
      "Setting up low-pass filter at 10 Hz\n",
      "fir_design defaults to \"firwin2\" in 0.15 but will change to \"firwin\" in 0.16, set it explicitly to avoid this warning.\n",
      "h_trans_bandwidth chosen to be 2.5 Hz\n",
      "Filter length of 1352 samples (2.641 sec) selected\n",
      "Size of filtered data: (3584, 153)\n",
      "time points :  (3584,)\n",
      "Applying baseline correction (mode: mean)\n",
      "Size norm & filtered data :  (3584, 153)\n"
     ]
    },
    {
     "name": "stderr",
     "output_type": "stream",
     "text": [
      "<ipython-input-5-154bfa86badc>:37: DeprecationWarning: fir_design defaults to \"firwin2\" in 0.15 but will change to \"firwin\" in 0.16, set it explicitly to avoid this warning.\n",
      "  h_freq=low_pass_filter, method='fir', phase='zero-double').swapaxes(0,1)\n"
     ]
    },
    {
     "name": "stdout",
     "output_type": "stream",
     "text": [
      "-> Shape of all trials data to plot :  (23, 153)\n",
      "-> Shape of time vector :  23\n",
      "/media/karim/Datas4To/1_Analyses_Intra_EM_Odor/Olfacto/feature/ERP_Odor_No_Odor/Retrieval/LEFC_ERP_MTG_b11-b10_(12).png\n",
      "data to save (23, 153) cond0 (13, 23, 24) cond1 (13, 23, 129)\n",
      "Setting up low-pass filter at 10 Hz\n",
      "fir_design defaults to \"firwin2\" in 0.15 but will change to \"firwin\" in 0.16, set it explicitly to avoid this warning.\n",
      "h_trans_bandwidth chosen to be 2.5 Hz\n",
      "Filter length of 1352 samples (2.641 sec) selected\n",
      "Size of filtered data: (3584, 153)\n",
      "time points :  (3584,)\n",
      "Applying baseline correction (mode: mean)\n",
      "Size norm & filtered data :  (3584, 153)\n"
     ]
    },
    {
     "name": "stderr",
     "output_type": "stream",
     "text": [
      "<ipython-input-5-154bfa86badc>:37: DeprecationWarning: fir_design defaults to \"firwin2\" in 0.15 but will change to \"firwin\" in 0.16, set it explicitly to avoid this warning.\n",
      "  h_freq=low_pass_filter, method='fir', phase='zero-double').swapaxes(0,1)\n"
     ]
    },
    {
     "name": "stdout",
     "output_type": "stream",
     "text": [
      "-> Shape of all trials data to plot :  (23, 153)\n",
      "-> Shape of time vector :  23\n",
      "/media/karim/Datas4To/1_Analyses_Intra_EM_Odor/Olfacto/feature/ERP_Odor_No_Odor/Retrieval/LEFC_ERP_EC-aHC_d2-d1_(13).png\n",
      "data to save (23, 153) cond0 (14, 23, 24) cond1 (14, 23, 129)\n",
      "Setting up low-pass filter at 10 Hz\n",
      "fir_design defaults to \"firwin2\" in 0.15 but will change to \"firwin\" in 0.16, set it explicitly to avoid this warning.\n",
      "h_trans_bandwidth chosen to be 2.5 Hz\n",
      "Filter length of 1352 samples (2.641 sec) selected\n",
      "Size of filtered data: (3584, 153)\n",
      "time points :  (3584,)\n",
      "Applying baseline correction (mode: mean)\n",
      "Size norm & filtered data :  (3584, 153)\n"
     ]
    },
    {
     "name": "stderr",
     "output_type": "stream",
     "text": [
      "<ipython-input-5-154bfa86badc>:37: DeprecationWarning: fir_design defaults to \"firwin2\" in 0.15 but will change to \"firwin\" in 0.16, set it explicitly to avoid this warning.\n",
      "  h_freq=low_pass_filter, method='fir', phase='zero-double').swapaxes(0,1)\n"
     ]
    },
    {
     "name": "stdout",
     "output_type": "stream",
     "text": [
      "-> Shape of all trials data to plot :  (23, 153)\n",
      "-> Shape of time vector :  23\n",
      "/media/karim/Datas4To/1_Analyses_Intra_EM_Odor/Olfacto/feature/ERP_Odor_No_Odor/Retrieval/LEFC_ERP_EC-aPHG-aHC&EC-aHC_d3-d2_(14).png\n",
      "data to save (23, 153) cond0 (15, 23, 24) cond1 (15, 23, 129)\n",
      "Setting up low-pass filter at 10 Hz\n",
      "fir_design defaults to \"firwin2\" in 0.15 but will change to \"firwin\" in 0.16, set it explicitly to avoid this warning.\n",
      "h_trans_bandwidth chosen to be 2.5 Hz\n",
      "Filter length of 1352 samples (2.641 sec) selected\n",
      "Size of filtered data: (3584, 153)\n",
      "time points :  (3584,)\n",
      "Applying baseline correction (mode: mean)\n",
      "Size norm & filtered data :  (3584, 153)\n"
     ]
    },
    {
     "name": "stderr",
     "output_type": "stream",
     "text": [
      "<ipython-input-5-154bfa86badc>:37: DeprecationWarning: fir_design defaults to \"firwin2\" in 0.15 but will change to \"firwin\" in 0.16, set it explicitly to avoid this warning.\n",
      "  h_freq=low_pass_filter, method='fir', phase='zero-double').swapaxes(0,1)\n"
     ]
    },
    {
     "name": "stdout",
     "output_type": "stream",
     "text": [
      "-> Shape of all trials data to plot :  (23, 153)\n",
      "-> Shape of time vector :  23\n",
      "/media/karim/Datas4To/1_Analyses_Intra_EM_Odor/Olfacto/feature/ERP_Odor_No_Odor/Retrieval/LEFC_ERP_aPHG-aHC&EC-aPHG-aHC_d4-d3_(15).png\n",
      "data to save (23, 153) cond0 (16, 23, 24) cond1 (16, 23, 129)\n",
      "Setting up low-pass filter at 10 Hz\n",
      "fir_design defaults to \"firwin2\" in 0.15 but will change to \"firwin\" in 0.16, set it explicitly to avoid this warning.\n",
      "h_trans_bandwidth chosen to be 2.5 Hz\n",
      "Filter length of 1352 samples (2.641 sec) selected\n",
      "Size of filtered data: (3584, 153)\n",
      "time points :  (3584,)\n",
      "Applying baseline correction (mode: mean)\n",
      "Size norm & filtered data :  (3584, 153)\n"
     ]
    },
    {
     "name": "stderr",
     "output_type": "stream",
     "text": [
      "<ipython-input-5-154bfa86badc>:37: DeprecationWarning: fir_design defaults to \"firwin2\" in 0.15 but will change to \"firwin\" in 0.16, set it explicitly to avoid this warning.\n",
      "  h_freq=low_pass_filter, method='fir', phase='zero-double').swapaxes(0,1)\n"
     ]
    },
    {
     "name": "stdout",
     "output_type": "stream",
     "text": [
      "-> Shape of all trials data to plot :  (23, 153)\n",
      "-> Shape of time vector :  23\n",
      "/media/karim/Datas4To/1_Analyses_Intra_EM_Odor/Olfacto/feature/ERP_Odor_No_Odor/Retrieval/LEFC_ERP_aPHG-aHC-FuG&aPHG-aHC_d5-d4_(16).png\n",
      "data to save (23, 153) cond0 (17, 23, 24) cond1 (17, 23, 129)\n",
      "Setting up low-pass filter at 10 Hz\n",
      "fir_design defaults to \"firwin2\" in 0.15 but will change to \"firwin\" in 0.16, set it explicitly to avoid this warning.\n",
      "h_trans_bandwidth chosen to be 2.5 Hz\n",
      "Filter length of 1352 samples (2.641 sec) selected\n",
      "Size of filtered data: (3584, 153)\n",
      "time points :  (3584,)\n",
      "Applying baseline correction (mode: mean)\n",
      "Size norm & filtered data :  (3584, 153)\n"
     ]
    },
    {
     "name": "stderr",
     "output_type": "stream",
     "text": [
      "<ipython-input-5-154bfa86badc>:37: DeprecationWarning: fir_design defaults to \"firwin2\" in 0.15 but will change to \"firwin\" in 0.16, set it explicitly to avoid this warning.\n",
      "  h_freq=low_pass_filter, method='fir', phase='zero-double').swapaxes(0,1)\n"
     ]
    },
    {
     "name": "stdout",
     "output_type": "stream",
     "text": [
      "-> Shape of all trials data to plot :  (23, 153)\n",
      "-> Shape of time vector :  23\n",
      "/media/karim/Datas4To/1_Analyses_Intra_EM_Odor/Olfacto/feature/ERP_Odor_No_Odor/Retrieval/LEFC_ERP_aPHG-aHC-FuG_d6-d5_(17).png\n",
      "data to save (23, 153) cond0 (18, 23, 24) cond1 (18, 23, 129)\n",
      "Setting up low-pass filter at 10 Hz\n",
      "fir_design defaults to \"firwin2\" in 0.15 but will change to \"firwin\" in 0.16, set it explicitly to avoid this warning.\n",
      "h_trans_bandwidth chosen to be 2.5 Hz\n",
      "Filter length of 1352 samples (2.641 sec) selected\n",
      "Size of filtered data: (3584, 153)\n",
      "time points :  (3584,)\n",
      "Applying baseline correction (mode: mean)\n",
      "Size norm & filtered data :  (3584, 153)\n"
     ]
    },
    {
     "name": "stderr",
     "output_type": "stream",
     "text": [
      "<ipython-input-5-154bfa86badc>:37: DeprecationWarning: fir_design defaults to \"firwin2\" in 0.15 but will change to \"firwin\" in 0.16, set it explicitly to avoid this warning.\n",
      "  h_freq=low_pass_filter, method='fir', phase='zero-double').swapaxes(0,1)\n"
     ]
    },
    {
     "name": "stdout",
     "output_type": "stream",
     "text": [
      "-> Shape of all trials data to plot :  (23, 153)\n",
      "-> Shape of time vector :  23\n",
      "/media/karim/Datas4To/1_Analyses_Intra_EM_Odor/Olfacto/feature/ERP_Odor_No_Odor/Retrieval/LEFC_ERP_FuG-aITG&aPHG-aHC-FuG_d7-d6_(18).png\n",
      "data to save (23, 153) cond0 (19, 23, 24) cond1 (19, 23, 129)\n",
      "Setting up low-pass filter at 10 Hz\n",
      "fir_design defaults to \"firwin2\" in 0.15 but will change to \"firwin\" in 0.16, set it explicitly to avoid this warning.\n",
      "h_trans_bandwidth chosen to be 2.5 Hz\n",
      "Filter length of 1352 samples (2.641 sec) selected\n",
      "Size of filtered data: (3584, 153)\n",
      "time points :  (3584,)\n",
      "Applying baseline correction (mode: mean)\n",
      "Size norm & filtered data :  (3584, 153)\n"
     ]
    },
    {
     "name": "stderr",
     "output_type": "stream",
     "text": [
      "<ipython-input-5-154bfa86badc>:37: DeprecationWarning: fir_design defaults to \"firwin2\" in 0.15 but will change to \"firwin\" in 0.16, set it explicitly to avoid this warning.\n",
      "  h_freq=low_pass_filter, method='fir', phase='zero-double').swapaxes(0,1)\n"
     ]
    },
    {
     "name": "stdout",
     "output_type": "stream",
     "text": [
      "-> Shape of all trials data to plot :  (23, 153)\n",
      "-> Shape of time vector :  23\n",
      "/media/karim/Datas4To/1_Analyses_Intra_EM_Odor/Olfacto/feature/ERP_Odor_No_Odor/Retrieval/LEFC_ERP_FuG-aITG_d8-d7_(19).png\n",
      "data to save (23, 153) cond0 (20, 23, 24) cond1 (20, 23, 129)\n",
      "Setting up low-pass filter at 10 Hz\n",
      "fir_design defaults to \"firwin2\" in 0.15 but will change to \"firwin\" in 0.16, set it explicitly to avoid this warning.\n",
      "h_trans_bandwidth chosen to be 2.5 Hz\n",
      "Filter length of 1352 samples (2.641 sec) selected\n",
      "Size of filtered data: (3584, 153)\n",
      "time points :  (3584,)\n",
      "Applying baseline correction (mode: mean)\n",
      "Size norm & filtered data :  (3584, 153)\n"
     ]
    },
    {
     "name": "stderr",
     "output_type": "stream",
     "text": [
      "/home/karim/anaconda3/lib/python3.5/site-packages/matplotlib/pyplot.py:528: RuntimeWarning: More than 20 figures have been opened. Figures created through the pyplot interface (`matplotlib.pyplot.figure`) are retained until explicitly closed and may consume too much memory. (To control this warning, see the rcParam `figure.max_open_warning`).\n",
      "  max_open_warning, RuntimeWarning)\n",
      "<ipython-input-5-154bfa86badc>:37: DeprecationWarning: fir_design defaults to \"firwin2\" in 0.15 but will change to \"firwin\" in 0.16, set it explicitly to avoid this warning.\n",
      "  h_freq=low_pass_filter, method='fir', phase='zero-double').swapaxes(0,1)\n"
     ]
    },
    {
     "name": "stdout",
     "output_type": "stream",
     "text": [
      "-> Shape of all trials data to plot :  (23, 153)\n",
      "-> Shape of time vector :  23\n",
      "/media/karim/Datas4To/1_Analyses_Intra_EM_Odor/Olfacto/feature/ERP_Odor_No_Odor/Retrieval/LEFC_ERP_aITG-aMTG&FuG-aITG_d9-d8_(20).png\n",
      "data to save (23, 153) cond0 (21, 23, 24) cond1 (21, 23, 129)\n",
      "Setting up low-pass filter at 10 Hz\n",
      "fir_design defaults to \"firwin2\" in 0.15 but will change to \"firwin\" in 0.16, set it explicitly to avoid this warning.\n",
      "h_trans_bandwidth chosen to be 2.5 Hz\n",
      "Filter length of 1352 samples (2.641 sec) selected\n",
      "Size of filtered data: (3584, 153)\n",
      "time points :  (3584,)\n",
      "Applying baseline correction (mode: mean)\n",
      "Size norm & filtered data :  (3584, 153)\n"
     ]
    },
    {
     "name": "stderr",
     "output_type": "stream",
     "text": [
      "<ipython-input-5-154bfa86badc>:37: DeprecationWarning: fir_design defaults to \"firwin2\" in 0.15 but will change to \"firwin\" in 0.16, set it explicitly to avoid this warning.\n",
      "  h_freq=low_pass_filter, method='fir', phase='zero-double').swapaxes(0,1)\n"
     ]
    },
    {
     "name": "stdout",
     "output_type": "stream",
     "text": [
      "-> Shape of all trials data to plot :  (23, 153)\n",
      "-> Shape of time vector :  23\n",
      "/media/karim/Datas4To/1_Analyses_Intra_EM_Odor/Olfacto/feature/ERP_Odor_No_Odor/Retrieval/LEFC_ERP_aITG-aMTG_d10-d9_(21).png\n",
      "data to save (23, 153) cond0 (22, 23, 24) cond1 (22, 23, 129)\n",
      "Setting up low-pass filter at 10 Hz\n",
      "fir_design defaults to \"firwin2\" in 0.15 but will change to \"firwin\" in 0.16, set it explicitly to avoid this warning.\n",
      "h_trans_bandwidth chosen to be 2.5 Hz\n",
      "Filter length of 1352 samples (2.641 sec) selected\n",
      "Size of filtered data: (3584, 153)\n",
      "time points :  (3584,)\n",
      "Applying baseline correction (mode: mean)\n",
      "Size norm & filtered data :  (3584, 153)\n"
     ]
    },
    {
     "name": "stderr",
     "output_type": "stream",
     "text": [
      "<ipython-input-5-154bfa86badc>:37: DeprecationWarning: fir_design defaults to \"firwin2\" in 0.15 but will change to \"firwin\" in 0.16, set it explicitly to avoid this warning.\n",
      "  h_freq=low_pass_filter, method='fir', phase='zero-double').swapaxes(0,1)\n"
     ]
    },
    {
     "name": "stdout",
     "output_type": "stream",
     "text": [
      "-> Shape of all trials data to plot :  (23, 153)\n",
      "-> Shape of time vector :  23\n",
      "/media/karim/Datas4To/1_Analyses_Intra_EM_Odor/Olfacto/feature/ERP_Odor_No_Odor/Retrieval/LEFC_ERP_aITG-aMTG_d11-d10_(22).png\n",
      "data to save (23, 153) cond0 (23, 23, 24) cond1 (23, 23, 129)\n",
      "Setting up low-pass filter at 10 Hz\n",
      "fir_design defaults to \"firwin2\" in 0.15 but will change to \"firwin\" in 0.16, set it explicitly to avoid this warning.\n",
      "h_trans_bandwidth chosen to be 2.5 Hz\n",
      "Filter length of 1352 samples (2.641 sec) selected\n",
      "Size of filtered data: (3584, 153)\n",
      "time points :  (3584,)\n",
      "Applying baseline correction (mode: mean)\n",
      "Size norm & filtered data :  (3584, 153)\n"
     ]
    },
    {
     "name": "stderr",
     "output_type": "stream",
     "text": [
      "<ipython-input-5-154bfa86badc>:37: DeprecationWarning: fir_design defaults to \"firwin2\" in 0.15 but will change to \"firwin\" in 0.16, set it explicitly to avoid this warning.\n",
      "  h_freq=low_pass_filter, method='fir', phase='zero-double').swapaxes(0,1)\n"
     ]
    },
    {
     "name": "stdout",
     "output_type": "stream",
     "text": [
      "-> Shape of all trials data to plot :  (23, 153)\n",
      "-> Shape of time vector :  23\n",
      "/media/karim/Datas4To/1_Analyses_Intra_EM_Odor/Olfacto/feature/ERP_Odor_No_Odor/Retrieval/LEFC_ERP_RSC_g2-g1_(23).png\n",
      "data to save (23, 153) cond0 (24, 23, 24) cond1 (24, 23, 129)\n",
      "Setting up low-pass filter at 10 Hz\n",
      "fir_design defaults to \"firwin2\" in 0.15 but will change to \"firwin\" in 0.16, set it explicitly to avoid this warning.\n",
      "h_trans_bandwidth chosen to be 2.5 Hz\n",
      "Filter length of 1352 samples (2.641 sec) selected\n",
      "Size of filtered data: (3584, 153)\n",
      "time points :  (3584,)\n",
      "Applying baseline correction (mode: mean)\n",
      "Size norm & filtered data :  (3584, 153)\n"
     ]
    },
    {
     "name": "stderr",
     "output_type": "stream",
     "text": [
      "<ipython-input-5-154bfa86badc>:37: DeprecationWarning: fir_design defaults to \"firwin2\" in 0.15 but will change to \"firwin\" in 0.16, set it explicitly to avoid this warning.\n",
      "  h_freq=low_pass_filter, method='fir', phase='zero-double').swapaxes(0,1)\n"
     ]
    },
    {
     "name": "stdout",
     "output_type": "stream",
     "text": [
      "-> Shape of all trials data to plot :  (23, 153)\n",
      "-> Shape of time vector :  23\n",
      "/media/karim/Datas4To/1_Analyses_Intra_EM_Odor/Olfacto/feature/ERP_Odor_No_Odor/Retrieval/LEFC_ERP_RSC_g3-g2_(24).png\n",
      "data to save (23, 153) cond0 (25, 23, 24) cond1 (25, 23, 129)\n",
      "Setting up low-pass filter at 10 Hz\n",
      "fir_design defaults to \"firwin2\" in 0.15 but will change to \"firwin\" in 0.16, set it explicitly to avoid this warning.\n",
      "h_trans_bandwidth chosen to be 2.5 Hz\n",
      "Filter length of 1352 samples (2.641 sec) selected\n",
      "Size of filtered data: (3584, 153)\n",
      "time points :  (3584,)\n",
      "Applying baseline correction (mode: mean)\n",
      "Size norm & filtered data :  (3584, 153)\n"
     ]
    },
    {
     "name": "stderr",
     "output_type": "stream",
     "text": [
      "<ipython-input-5-154bfa86badc>:37: DeprecationWarning: fir_design defaults to \"firwin2\" in 0.15 but will change to \"firwin\" in 0.16, set it explicitly to avoid this warning.\n",
      "  h_freq=low_pass_filter, method='fir', phase='zero-double').swapaxes(0,1)\n"
     ]
    },
    {
     "name": "stdout",
     "output_type": "stream",
     "text": [
      "-> Shape of all trials data to plot :  (23, 153)\n",
      "-> Shape of time vector :  23\n",
      "/media/karim/Datas4To/1_Analyses_Intra_EM_Odor/Olfacto/feature/ERP_Odor_No_Odor/Retrieval/LEFC_ERP_RSC_g4-g3_(25).png\n",
      "data to save (23, 153) cond0 (26, 23, 24) cond1 (26, 23, 129)\n",
      "Setting up low-pass filter at 10 Hz\n",
      "fir_design defaults to \"firwin2\" in 0.15 but will change to \"firwin\" in 0.16, set it explicitly to avoid this warning.\n",
      "h_trans_bandwidth chosen to be 2.5 Hz\n",
      "Filter length of 1352 samples (2.641 sec) selected\n",
      "Size of filtered data: (3584, 153)\n",
      "time points :  (3584,)\n",
      "Applying baseline correction (mode: mean)\n",
      "Size norm & filtered data :  (3584, 153)\n"
     ]
    },
    {
     "name": "stderr",
     "output_type": "stream",
     "text": [
      "<ipython-input-5-154bfa86badc>:37: DeprecationWarning: fir_design defaults to \"firwin2\" in 0.15 but will change to \"firwin\" in 0.16, set it explicitly to avoid this warning.\n",
      "  h_freq=low_pass_filter, method='fir', phase='zero-double').swapaxes(0,1)\n"
     ]
    },
    {
     "name": "stdout",
     "output_type": "stream",
     "text": [
      "-> Shape of all trials data to plot :  (23, 153)\n",
      "-> Shape of time vector :  23\n",
      "/media/karim/Datas4To/1_Analyses_Intra_EM_Odor/Olfacto/feature/ERP_Odor_No_Odor/Retrieval/LEFC_ERP_RSC_g5-g4_(26).png\n",
      "data to save (23, 153) cond0 (27, 23, 24) cond1 (27, 23, 129)\n",
      "Setting up low-pass filter at 10 Hz\n",
      "fir_design defaults to \"firwin2\" in 0.15 but will change to \"firwin\" in 0.16, set it explicitly to avoid this warning.\n",
      "h_trans_bandwidth chosen to be 2.5 Hz\n",
      "Filter length of 1352 samples (2.641 sec) selected\n",
      "Size of filtered data: (3584, 153)\n",
      "time points :  (3584,)\n",
      "Applying baseline correction (mode: mean)\n",
      "Size norm & filtered data :  (3584, 153)\n"
     ]
    },
    {
     "name": "stderr",
     "output_type": "stream",
     "text": [
      "<ipython-input-5-154bfa86badc>:37: DeprecationWarning: fir_design defaults to \"firwin2\" in 0.15 but will change to \"firwin\" in 0.16, set it explicitly to avoid this warning.\n",
      "  h_freq=low_pass_filter, method='fir', phase='zero-double').swapaxes(0,1)\n"
     ]
    },
    {
     "name": "stdout",
     "output_type": "stream",
     "text": [
      "-> Shape of all trials data to plot :  (23, 153)\n",
      "-> Shape of time vector :  23\n",
      "/media/karim/Datas4To/1_Analyses_Intra_EM_Odor/Olfacto/feature/ERP_Odor_No_Odor/Retrieval/LEFC_ERP_SMG&RSC_g6-g5_(27).png\n",
      "data to save (23, 153) cond0 (28, 23, 24) cond1 (28, 23, 129)\n",
      "Setting up low-pass filter at 10 Hz\n",
      "fir_design defaults to \"firwin2\" in 0.15 but will change to \"firwin\" in 0.16, set it explicitly to avoid this warning.\n",
      "h_trans_bandwidth chosen to be 2.5 Hz\n",
      "Filter length of 1352 samples (2.641 sec) selected\n",
      "Size of filtered data: (3584, 153)\n",
      "time points :  (3584,)\n",
      "Applying baseline correction (mode: mean)\n",
      "Size norm & filtered data :  (3584, 153)\n"
     ]
    },
    {
     "name": "stderr",
     "output_type": "stream",
     "text": [
      "<ipython-input-5-154bfa86badc>:37: DeprecationWarning: fir_design defaults to \"firwin2\" in 0.15 but will change to \"firwin\" in 0.16, set it explicitly to avoid this warning.\n",
      "  h_freq=low_pass_filter, method='fir', phase='zero-double').swapaxes(0,1)\n"
     ]
    },
    {
     "name": "stdout",
     "output_type": "stream",
     "text": [
      "-> Shape of all trials data to plot :  (23, 153)\n",
      "-> Shape of time vector :  23\n",
      "/media/karim/Datas4To/1_Analyses_Intra_EM_Odor/Olfacto/feature/ERP_Odor_No_Odor/Retrieval/LEFC_ERP_SMG_g7-g6_(28).png\n",
      "data to save (23, 153) cond0 (29, 23, 24) cond1 (29, 23, 129)\n",
      "Setting up low-pass filter at 10 Hz\n",
      "fir_design defaults to \"firwin2\" in 0.15 but will change to \"firwin\" in 0.16, set it explicitly to avoid this warning.\n",
      "h_trans_bandwidth chosen to be 2.5 Hz\n",
      "Filter length of 1352 samples (2.641 sec) selected\n",
      "Size of filtered data: (3584, 153)\n",
      "time points :  (3584,)\n",
      "Applying baseline correction (mode: mean)\n",
      "Size norm & filtered data :  (3584, 153)\n"
     ]
    },
    {
     "name": "stderr",
     "output_type": "stream",
     "text": [
      "<ipython-input-5-154bfa86badc>:37: DeprecationWarning: fir_design defaults to \"firwin2\" in 0.15 but will change to \"firwin\" in 0.16, set it explicitly to avoid this warning.\n",
      "  h_freq=low_pass_filter, method='fir', phase='zero-double').swapaxes(0,1)\n"
     ]
    },
    {
     "name": "stdout",
     "output_type": "stream",
     "text": [
      "-> Shape of all trials data to plot :  (23, 153)\n",
      "-> Shape of time vector :  23\n",
      "/media/karim/Datas4To/1_Analyses_Intra_EM_Odor/Olfacto/feature/ERP_Odor_No_Odor/Retrieval/LEFC_ERP_SMG_g8-g7_(29).png\n",
      "data to save (23, 153) cond0 (30, 23, 24) cond1 (30, 23, 129)\n",
      "Setting up low-pass filter at 10 Hz\n",
      "fir_design defaults to \"firwin2\" in 0.15 but will change to \"firwin\" in 0.16, set it explicitly to avoid this warning.\n",
      "h_trans_bandwidth chosen to be 2.5 Hz\n",
      "Filter length of 1352 samples (2.641 sec) selected\n",
      "Size of filtered data: (3584, 153)\n",
      "time points :  (3584,)\n",
      "Applying baseline correction (mode: mean)\n",
      "Size norm & filtered data :  (3584, 153)\n"
     ]
    },
    {
     "name": "stderr",
     "output_type": "stream",
     "text": [
      "<ipython-input-5-154bfa86badc>:37: DeprecationWarning: fir_design defaults to \"firwin2\" in 0.15 but will change to \"firwin\" in 0.16, set it explicitly to avoid this warning.\n",
      "  h_freq=low_pass_filter, method='fir', phase='zero-double').swapaxes(0,1)\n"
     ]
    },
    {
     "name": "stdout",
     "output_type": "stream",
     "text": [
      "-> Shape of all trials data to plot :  (23, 153)\n",
      "-> Shape of time vector :  23\n",
      "/media/karim/Datas4To/1_Analyses_Intra_EM_Odor/Olfacto/feature/ERP_Odor_No_Odor/Retrieval/LEFC_ERP_SMG_g9-g8_(30).png\n",
      "data to save (23, 153) cond0 (31, 23, 24) cond1 (31, 23, 129)\n",
      "Setting up low-pass filter at 10 Hz\n",
      "fir_design defaults to \"firwin2\" in 0.15 but will change to \"firwin\" in 0.16, set it explicitly to avoid this warning.\n",
      "h_trans_bandwidth chosen to be 2.5 Hz\n",
      "Filter length of 1352 samples (2.641 sec) selected\n",
      "Size of filtered data: (3584, 153)\n",
      "time points :  (3584,)\n",
      "Applying baseline correction (mode: mean)\n",
      "Size norm & filtered data :  (3584, 153)\n"
     ]
    },
    {
     "name": "stderr",
     "output_type": "stream",
     "text": [
      "<ipython-input-5-154bfa86badc>:37: DeprecationWarning: fir_design defaults to \"firwin2\" in 0.15 but will change to \"firwin\" in 0.16, set it explicitly to avoid this warning.\n",
      "  h_freq=low_pass_filter, method='fir', phase='zero-double').swapaxes(0,1)\n"
     ]
    },
    {
     "name": "stdout",
     "output_type": "stream",
     "text": [
      "-> Shape of all trials data to plot :  (23, 153)\n",
      "-> Shape of time vector :  23\n",
      "/media/karim/Datas4To/1_Analyses_Intra_EM_Odor/Olfacto/feature/ERP_Odor_No_Odor/Retrieval/LEFC_ERP_SMG-STG&SMG_g10-g9_(31).png\n",
      "data to save (23, 153) cond0 (32, 23, 24) cond1 (32, 23, 129)\n",
      "Setting up low-pass filter at 10 Hz\n",
      "fir_design defaults to \"firwin2\" in 0.15 but will change to \"firwin\" in 0.16, set it explicitly to avoid this warning.\n",
      "h_trans_bandwidth chosen to be 2.5 Hz\n",
      "Filter length of 1352 samples (2.641 sec) selected\n",
      "Size of filtered data: (3584, 153)\n",
      "time points :  (3584,)\n",
      "Applying baseline correction (mode: mean)\n",
      "Size norm & filtered data :  (3584, 153)\n"
     ]
    },
    {
     "name": "stderr",
     "output_type": "stream",
     "text": [
      "<ipython-input-5-154bfa86badc>:37: DeprecationWarning: fir_design defaults to \"firwin2\" in 0.15 but will change to \"firwin\" in 0.16, set it explicitly to avoid this warning.\n",
      "  h_freq=low_pass_filter, method='fir', phase='zero-double').swapaxes(0,1)\n"
     ]
    },
    {
     "name": "stdout",
     "output_type": "stream",
     "text": [
      "-> Shape of all trials data to plot :  (23, 153)\n",
      "-> Shape of time vector :  23\n",
      "/media/karim/Datas4To/1_Analyses_Intra_EM_Odor/Olfacto/feature/ERP_Odor_No_Odor/Retrieval/LEFC_ERP_STG&SMG-STG_g11-g10_(32).png\n",
      "data to save (23, 153) cond0 (33, 23, 24) cond1 (33, 23, 129)\n",
      "Setting up low-pass filter at 10 Hz\n",
      "fir_design defaults to \"firwin2\" in 0.15 but will change to \"firwin\" in 0.16, set it explicitly to avoid this warning.\n",
      "h_trans_bandwidth chosen to be 2.5 Hz\n",
      "Filter length of 1352 samples (2.641 sec) selected\n",
      "Size of filtered data: (3584, 153)\n",
      "time points :  (3584,)\n",
      "Applying baseline correction (mode: mean)\n",
      "Size norm & filtered data :  (3584, 153)\n"
     ]
    },
    {
     "name": "stderr",
     "output_type": "stream",
     "text": [
      "<ipython-input-5-154bfa86badc>:37: DeprecationWarning: fir_design defaults to \"firwin2\" in 0.15 but will change to \"firwin\" in 0.16, set it explicitly to avoid this warning.\n",
      "  h_freq=low_pass_filter, method='fir', phase='zero-double').swapaxes(0,1)\n"
     ]
    },
    {
     "name": "stdout",
     "output_type": "stream",
     "text": [
      "-> Shape of all trials data to plot :  (23, 153)\n",
      "-> Shape of time vector :  23\n",
      "/media/karim/Datas4To/1_Analyses_Intra_EM_Odor/Olfacto/feature/ERP_Odor_No_Odor/Retrieval/LEFC_ERP_STG_g12-g11_(33).png\n",
      "data to save (23, 153) cond0 (34, 23, 24) cond1 (34, 23, 129)\n",
      "Setting up low-pass filter at 10 Hz\n",
      "fir_design defaults to \"firwin2\" in 0.15 but will change to \"firwin\" in 0.16, set it explicitly to avoid this warning.\n",
      "h_trans_bandwidth chosen to be 2.5 Hz\n",
      "Filter length of 1352 samples (2.641 sec) selected\n",
      "Size of filtered data: (3584, 153)\n",
      "time points :  (3584,)\n",
      "Applying baseline correction (mode: mean)\n",
      "Size norm & filtered data :  (3584, 153)\n"
     ]
    },
    {
     "name": "stderr",
     "output_type": "stream",
     "text": [
      "<ipython-input-5-154bfa86badc>:37: DeprecationWarning: fir_design defaults to \"firwin2\" in 0.15 but will change to \"firwin\" in 0.16, set it explicitly to avoid this warning.\n",
      "  h_freq=low_pass_filter, method='fir', phase='zero-double').swapaxes(0,1)\n"
     ]
    },
    {
     "name": "stdout",
     "output_type": "stream",
     "text": [
      "-> Shape of all trials data to plot :  (23, 153)\n",
      "-> Shape of time vector :  23\n",
      "/media/karim/Datas4To/1_Analyses_Intra_EM_Odor/Olfacto/feature/ERP_Odor_No_Odor/Retrieval/LEFC_ERP_STG_g13-g12_(34).png\n",
      "data to save (23, 153) cond0 (35, 23, 24) cond1 (35, 23, 129)\n",
      "Setting up low-pass filter at 10 Hz\n",
      "fir_design defaults to \"firwin2\" in 0.15 but will change to \"firwin\" in 0.16, set it explicitly to avoid this warning.\n",
      "h_trans_bandwidth chosen to be 2.5 Hz\n",
      "Filter length of 1352 samples (2.641 sec) selected\n",
      "Size of filtered data: (3584, 153)\n",
      "time points :  (3584,)\n",
      "Applying baseline correction (mode: mean)\n",
      "Size norm & filtered data :  (3584, 153)\n"
     ]
    },
    {
     "name": "stderr",
     "output_type": "stream",
     "text": [
      "<ipython-input-5-154bfa86badc>:37: DeprecationWarning: fir_design defaults to \"firwin2\" in 0.15 but will change to \"firwin\" in 0.16, set it explicitly to avoid this warning.\n",
      "  h_freq=low_pass_filter, method='fir', phase='zero-double').swapaxes(0,1)\n"
     ]
    },
    {
     "name": "stdout",
     "output_type": "stream",
     "text": [
      "-> Shape of all trials data to plot :  (23, 153)\n",
      "-> Shape of time vector :  23\n",
      "/media/karim/Datas4To/1_Analyses_Intra_EM_Odor/Olfacto/feature/ERP_Odor_No_Odor/Retrieval/LEFC_ERP_STG_g14-g13_(35).png\n",
      "data to save (23, 153) cond0 (36, 23, 24) cond1 (36, 23, 129)\n",
      "Setting up low-pass filter at 10 Hz\n",
      "fir_design defaults to \"firwin2\" in 0.15 but will change to \"firwin\" in 0.16, set it explicitly to avoid this warning.\n",
      "h_trans_bandwidth chosen to be 2.5 Hz\n",
      "Filter length of 1352 samples (2.641 sec) selected\n",
      "Size of filtered data: (3584, 153)\n",
      "time points :  (3584,)\n",
      "Applying baseline correction (mode: mean)\n",
      "Size norm & filtered data :  (3584, 153)\n"
     ]
    },
    {
     "name": "stderr",
     "output_type": "stream",
     "text": [
      "<ipython-input-5-154bfa86badc>:37: DeprecationWarning: fir_design defaults to \"firwin2\" in 0.15 but will change to \"firwin\" in 0.16, set it explicitly to avoid this warning.\n",
      "  h_freq=low_pass_filter, method='fir', phase='zero-double').swapaxes(0,1)\n"
     ]
    },
    {
     "name": "stdout",
     "output_type": "stream",
     "text": [
      "-> Shape of all trials data to plot :  (23, 153)\n",
      "-> Shape of time vector :  23\n",
      "/media/karim/Datas4To/1_Analyses_Intra_EM_Odor/Olfacto/feature/ERP_Odor_No_Odor/Retrieval/LEFC_ERP_ACC-SFGM_k2-k1_(36).png\n",
      "data to save (23, 153) cond0 (37, 23, 24) cond1 (37, 23, 129)\n",
      "Setting up low-pass filter at 10 Hz\n",
      "fir_design defaults to \"firwin2\" in 0.15 but will change to \"firwin\" in 0.16, set it explicitly to avoid this warning.\n",
      "h_trans_bandwidth chosen to be 2.5 Hz\n",
      "Filter length of 1352 samples (2.641 sec) selected\n",
      "Size of filtered data: (3584, 153)\n",
      "time points :  (3584,)\n",
      "Applying baseline correction (mode: mean)\n",
      "Size norm & filtered data :  (3584, 153)\n"
     ]
    },
    {
     "name": "stderr",
     "output_type": "stream",
     "text": [
      "<ipython-input-5-154bfa86badc>:37: DeprecationWarning: fir_design defaults to \"firwin2\" in 0.15 but will change to \"firwin\" in 0.16, set it explicitly to avoid this warning.\n",
      "  h_freq=low_pass_filter, method='fir', phase='zero-double').swapaxes(0,1)\n"
     ]
    },
    {
     "name": "stdout",
     "output_type": "stream",
     "text": [
      "-> Shape of all trials data to plot :  (23, 153)\n",
      "-> Shape of time vector :  23\n",
      "/media/karim/Datas4To/1_Analyses_Intra_EM_Odor/Olfacto/feature/ERP_Odor_No_Odor/Retrieval/LEFC_ERP_ACC-SFGM_k3-k2_(37).png\n",
      "data to save (23, 153) cond0 (38, 23, 24) cond1 (38, 23, 129)\n",
      "Setting up low-pass filter at 10 Hz\n",
      "fir_design defaults to \"firwin2\" in 0.15 but will change to \"firwin\" in 0.16, set it explicitly to avoid this warning.\n",
      "h_trans_bandwidth chosen to be 2.5 Hz\n",
      "Filter length of 1352 samples (2.641 sec) selected\n",
      "Size of filtered data: (3584, 153)\n",
      "time points :  (3584,)\n",
      "Applying baseline correction (mode: mean)\n",
      "Size norm & filtered data :  (3584, 153)\n"
     ]
    },
    {
     "name": "stderr",
     "output_type": "stream",
     "text": [
      "<ipython-input-5-154bfa86badc>:37: DeprecationWarning: fir_design defaults to \"firwin2\" in 0.15 but will change to \"firwin\" in 0.16, set it explicitly to avoid this warning.\n",
      "  h_freq=low_pass_filter, method='fir', phase='zero-double').swapaxes(0,1)\n"
     ]
    },
    {
     "name": "stdout",
     "output_type": "stream",
     "text": [
      "-> Shape of all trials data to plot :  (23, 153)\n",
      "-> Shape of time vector :  23\n",
      "/media/karim/Datas4To/1_Analyses_Intra_EM_Odor/Olfacto/feature/ERP_Odor_No_Odor/Retrieval/LEFC_ERP_ACC-SFGM_k4-k3_(38).png\n",
      "data to save (23, 153) cond0 (39, 23, 24) cond1 (39, 23, 129)\n",
      "Setting up low-pass filter at 10 Hz\n",
      "fir_design defaults to \"firwin2\" in 0.15 but will change to \"firwin\" in 0.16, set it explicitly to avoid this warning.\n",
      "h_trans_bandwidth chosen to be 2.5 Hz\n",
      "Filter length of 1352 samples (2.641 sec) selected\n",
      "Size of filtered data: (3584, 153)\n",
      "time points :  (3584,)\n",
      "Applying baseline correction (mode: mean)\n",
      "Size norm & filtered data :  (3584, 153)\n"
     ]
    },
    {
     "name": "stderr",
     "output_type": "stream",
     "text": [
      "<ipython-input-5-154bfa86badc>:37: DeprecationWarning: fir_design defaults to \"firwin2\" in 0.15 but will change to \"firwin\" in 0.16, set it explicitly to avoid this warning.\n",
      "  h_freq=low_pass_filter, method='fir', phase='zero-double').swapaxes(0,1)\n"
     ]
    },
    {
     "name": "stdout",
     "output_type": "stream",
     "text": [
      "-> Shape of all trials data to plot :  (23, 153)\n",
      "-> Shape of time vector :  23\n",
      "/media/karim/Datas4To/1_Analyses_Intra_EM_Odor/Olfacto/feature/ERP_Odor_No_Odor/Retrieval/LEFC_ERP_MFG&MFPG-MFG_k8-k7_(39).png\n",
      "data to save (23, 153) cond0 (40, 23, 24) cond1 (40, 23, 129)\n",
      "Setting up low-pass filter at 10 Hz\n",
      "fir_design defaults to \"firwin2\" in 0.15 but will change to \"firwin\" in 0.16, set it explicitly to avoid this warning.\n",
      "h_trans_bandwidth chosen to be 2.5 Hz\n",
      "Filter length of 1352 samples (2.641 sec) selected\n",
      "Size of filtered data: (3584, 153)\n",
      "time points :  (3584,)\n",
      "Applying baseline correction (mode: mean)\n",
      "Size norm & filtered data :  (3584, 153)\n"
     ]
    },
    {
     "name": "stderr",
     "output_type": "stream",
     "text": [
      "<ipython-input-5-154bfa86badc>:37: DeprecationWarning: fir_design defaults to \"firwin2\" in 0.15 but will change to \"firwin\" in 0.16, set it explicitly to avoid this warning.\n",
      "  h_freq=low_pass_filter, method='fir', phase='zero-double').swapaxes(0,1)\n"
     ]
    },
    {
     "name": "stdout",
     "output_type": "stream",
     "text": [
      "-> Shape of all trials data to plot :  (23, 153)\n",
      "-> Shape of time vector :  23\n",
      "/media/karim/Datas4To/1_Analyses_Intra_EM_Odor/Olfacto/feature/ERP_Odor_No_Odor/Retrieval/LEFC_ERP_MFG_k9-k8_(40).png\n",
      "data to save (23, 153) cond0 (41, 23, 24) cond1 (41, 23, 129)\n",
      "Setting up low-pass filter at 10 Hz\n",
      "fir_design defaults to \"firwin2\" in 0.15 but will change to \"firwin\" in 0.16, set it explicitly to avoid this warning.\n",
      "h_trans_bandwidth chosen to be 2.5 Hz\n",
      "Filter length of 1352 samples (2.641 sec) selected\n",
      "Size of filtered data: (3584, 153)\n",
      "time points :  (3584,)\n",
      "Applying baseline correction (mode: mean)\n",
      "Size norm & filtered data :  (3584, 153)\n"
     ]
    },
    {
     "name": "stderr",
     "output_type": "stream",
     "text": [
      "<ipython-input-5-154bfa86badc>:37: DeprecationWarning: fir_design defaults to \"firwin2\" in 0.15 but will change to \"firwin\" in 0.16, set it explicitly to avoid this warning.\n",
      "  h_freq=low_pass_filter, method='fir', phase='zero-double').swapaxes(0,1)\n"
     ]
    },
    {
     "name": "stdout",
     "output_type": "stream",
     "text": [
      "-> Shape of all trials data to plot :  (23, 153)\n",
      "-> Shape of time vector :  23\n",
      "/media/karim/Datas4To/1_Analyses_Intra_EM_Odor/Olfacto/feature/ERP_Odor_No_Odor/Retrieval/LEFC_ERP_MFG_k10-k9_(41).png\n",
      "data to save (23, 153) cond0 (42, 23, 24) cond1 (42, 23, 129)\n",
      "Setting up low-pass filter at 10 Hz\n",
      "fir_design defaults to \"firwin2\" in 0.15 but will change to \"firwin\" in 0.16, set it explicitly to avoid this warning.\n",
      "h_trans_bandwidth chosen to be 2.5 Hz\n",
      "Filter length of 1352 samples (2.641 sec) selected\n",
      "Size of filtered data: (3584, 153)\n",
      "time points :  (3584,)\n",
      "Applying baseline correction (mode: mean)\n",
      "Size norm & filtered data :  (3584, 153)\n"
     ]
    },
    {
     "name": "stderr",
     "output_type": "stream",
     "text": [
      "<ipython-input-5-154bfa86badc>:37: DeprecationWarning: fir_design defaults to \"firwin2\" in 0.15 but will change to \"firwin\" in 0.16, set it explicitly to avoid this warning.\n",
      "  h_freq=low_pass_filter, method='fir', phase='zero-double').swapaxes(0,1)\n"
     ]
    },
    {
     "name": "stdout",
     "output_type": "stream",
     "text": [
      "-> Shape of all trials data to plot :  (23, 153)\n",
      "-> Shape of time vector :  23\n",
      "/media/karim/Datas4To/1_Analyses_Intra_EM_Odor/Olfacto/feature/ERP_Odor_No_Odor/Retrieval/LEFC_ERP_MFG_k11-k10_(42).png\n",
      "data to save (23, 153) cond0 (43, 23, 24) cond1 (43, 23, 129)\n",
      "Setting up low-pass filter at 10 Hz\n",
      "fir_design defaults to \"firwin2\" in 0.15 but will change to \"firwin\" in 0.16, set it explicitly to avoid this warning.\n",
      "h_trans_bandwidth chosen to be 2.5 Hz\n",
      "Filter length of 1352 samples (2.641 sec) selected\n",
      "Size of filtered data: (3584, 153)\n",
      "time points :  (3584,)\n",
      "Applying baseline correction (mode: mean)\n",
      "Size norm & filtered data :  (3584, 153)\n"
     ]
    },
    {
     "name": "stderr",
     "output_type": "stream",
     "text": [
      "<ipython-input-5-154bfa86badc>:37: DeprecationWarning: fir_design defaults to \"firwin2\" in 0.15 but will change to \"firwin\" in 0.16, set it explicitly to avoid this warning.\n",
      "  h_freq=low_pass_filter, method='fir', phase='zero-double').swapaxes(0,1)\n"
     ]
    },
    {
     "name": "stdout",
     "output_type": "stream",
     "text": [
      "-> Shape of all trials data to plot :  (23, 153)\n",
      "-> Shape of time vector :  23\n",
      "/media/karim/Datas4To/1_Analyses_Intra_EM_Odor/Olfacto/feature/ERP_Odor_No_Odor/Retrieval/LEFC_ERP_MFG_k12-k11_(43).png\n",
      "data to save (23, 153) cond0 (44, 23, 24) cond1 (44, 23, 129)\n",
      "Setting up low-pass filter at 10 Hz\n",
      "fir_design defaults to \"firwin2\" in 0.15 but will change to \"firwin\" in 0.16, set it explicitly to avoid this warning.\n",
      "h_trans_bandwidth chosen to be 2.5 Hz\n",
      "Filter length of 1352 samples (2.641 sec) selected\n",
      "Size of filtered data: (3584, 153)\n",
      "time points :  (3584,)\n",
      "Applying baseline correction (mode: mean)\n",
      "Size norm & filtered data :  (3584, 153)\n"
     ]
    },
    {
     "name": "stderr",
     "output_type": "stream",
     "text": [
      "<ipython-input-5-154bfa86badc>:37: DeprecationWarning: fir_design defaults to \"firwin2\" in 0.15 but will change to \"firwin\" in 0.16, set it explicitly to avoid this warning.\n",
      "  h_freq=low_pass_filter, method='fir', phase='zero-double').swapaxes(0,1)\n"
     ]
    },
    {
     "name": "stdout",
     "output_type": "stream",
     "text": [
      "-> Shape of all trials data to plot :  (23, 153)\n",
      "-> Shape of time vector :  23\n",
      "/media/karim/Datas4To/1_Analyses_Intra_EM_Odor/Olfacto/feature/ERP_Odor_No_Odor/Retrieval/LEFC_ERP_LgG-FuG_l2-l1_(44).png\n",
      "data to save (23, 153) cond0 (45, 23, 24) cond1 (45, 23, 129)\n",
      "Setting up low-pass filter at 10 Hz\n",
      "fir_design defaults to \"firwin2\" in 0.15 but will change to \"firwin\" in 0.16, set it explicitly to avoid this warning.\n",
      "h_trans_bandwidth chosen to be 2.5 Hz\n",
      "Filter length of 1352 samples (2.641 sec) selected\n",
      "Size of filtered data: (3584, 153)\n",
      "time points :  (3584,)\n",
      "Applying baseline correction (mode: mean)\n",
      "Size norm & filtered data :  (3584, 153)\n"
     ]
    },
    {
     "name": "stderr",
     "output_type": "stream",
     "text": [
      "<ipython-input-5-154bfa86badc>:37: DeprecationWarning: fir_design defaults to \"firwin2\" in 0.15 but will change to \"firwin\" in 0.16, set it explicitly to avoid this warning.\n",
      "  h_freq=low_pass_filter, method='fir', phase='zero-double').swapaxes(0,1)\n"
     ]
    },
    {
     "name": "stdout",
     "output_type": "stream",
     "text": [
      "-> Shape of all trials data to plot :  (23, 153)\n",
      "-> Shape of time vector :  23\n",
      "/media/karim/Datas4To/1_Analyses_Intra_EM_Odor/Olfacto/feature/ERP_Odor_No_Odor/Retrieval/LEFC_ERP_FuG-ITG&LgG-FuG_l3-l2_(45).png\n",
      "data to save (23, 153) cond0 (46, 23, 24) cond1 (46, 23, 129)\n",
      "Setting up low-pass filter at 10 Hz\n",
      "fir_design defaults to \"firwin2\" in 0.15 but will change to \"firwin\" in 0.16, set it explicitly to avoid this warning.\n",
      "h_trans_bandwidth chosen to be 2.5 Hz\n",
      "Filter length of 1352 samples (2.641 sec) selected\n",
      "Size of filtered data: (3584, 153)\n",
      "time points :  (3584,)\n",
      "Applying baseline correction (mode: mean)\n",
      "Size norm & filtered data :  (3584, 153)\n"
     ]
    },
    {
     "name": "stderr",
     "output_type": "stream",
     "text": [
      "<ipython-input-5-154bfa86badc>:37: DeprecationWarning: fir_design defaults to \"firwin2\" in 0.15 but will change to \"firwin\" in 0.16, set it explicitly to avoid this warning.\n",
      "  h_freq=low_pass_filter, method='fir', phase='zero-double').swapaxes(0,1)\n"
     ]
    },
    {
     "name": "stdout",
     "output_type": "stream",
     "text": [
      "-> Shape of all trials data to plot :  (23, 153)\n",
      "-> Shape of time vector :  23\n",
      "/media/karim/Datas4To/1_Analyses_Intra_EM_Odor/Olfacto/feature/ERP_Odor_No_Odor/Retrieval/LEFC_ERP_FuG-ITG_l4-l3_(46).png\n",
      "data to save (23, 153) cond0 (47, 23, 24) cond1 (47, 23, 129)\n",
      "Setting up low-pass filter at 10 Hz\n",
      "fir_design defaults to \"firwin2\" in 0.15 but will change to \"firwin\" in 0.16, set it explicitly to avoid this warning.\n",
      "h_trans_bandwidth chosen to be 2.5 Hz\n",
      "Filter length of 1352 samples (2.641 sec) selected\n",
      "Size of filtered data: (3584, 153)\n",
      "time points :  (3584,)\n",
      "Applying baseline correction (mode: mean)\n",
      "Size norm & filtered data :  (3584, 153)\n"
     ]
    },
    {
     "name": "stderr",
     "output_type": "stream",
     "text": [
      "<ipython-input-5-154bfa86badc>:37: DeprecationWarning: fir_design defaults to \"firwin2\" in 0.15 but will change to \"firwin\" in 0.16, set it explicitly to avoid this warning.\n",
      "  h_freq=low_pass_filter, method='fir', phase='zero-double').swapaxes(0,1)\n"
     ]
    },
    {
     "name": "stdout",
     "output_type": "stream",
     "text": [
      "-> Shape of all trials data to plot :  (23, 153)\n",
      "-> Shape of time vector :  23\n",
      "/media/karim/Datas4To/1_Analyses_Intra_EM_Odor/Olfacto/feature/ERP_Odor_No_Odor/Retrieval/LEFC_ERP_FuG-ITG_l5-l4_(47).png\n",
      "data to save (23, 153) cond0 (48, 23, 24) cond1 (48, 23, 129)\n",
      "Setting up low-pass filter at 10 Hz\n",
      "fir_design defaults to \"firwin2\" in 0.15 but will change to \"firwin\" in 0.16, set it explicitly to avoid this warning.\n",
      "h_trans_bandwidth chosen to be 2.5 Hz\n",
      "Filter length of 1352 samples (2.641 sec) selected\n",
      "Size of filtered data: (3584, 153)\n",
      "time points :  (3584,)\n",
      "Applying baseline correction (mode: mean)\n",
      "Size norm & filtered data :  (3584, 153)\n"
     ]
    },
    {
     "name": "stderr",
     "output_type": "stream",
     "text": [
      "<ipython-input-5-154bfa86badc>:37: DeprecationWarning: fir_design defaults to \"firwin2\" in 0.15 but will change to \"firwin\" in 0.16, set it explicitly to avoid this warning.\n",
      "  h_freq=low_pass_filter, method='fir', phase='zero-double').swapaxes(0,1)\n"
     ]
    },
    {
     "name": "stdout",
     "output_type": "stream",
     "text": [
      "-> Shape of all trials data to plot :  (23, 153)\n",
      "-> Shape of time vector :  23\n",
      "/media/karim/Datas4To/1_Analyses_Intra_EM_Odor/Olfacto/feature/ERP_Odor_No_Odor/Retrieval/LEFC_ERP_ITG&FuG-ITG_l6-l5_(48).png\n",
      "data to save (23, 153) cond0 (49, 23, 24) cond1 (49, 23, 129)\n",
      "Setting up low-pass filter at 10 Hz\n",
      "fir_design defaults to \"firwin2\" in 0.15 but will change to \"firwin\" in 0.16, set it explicitly to avoid this warning.\n",
      "h_trans_bandwidth chosen to be 2.5 Hz\n",
      "Filter length of 1352 samples (2.641 sec) selected\n",
      "Size of filtered data: (3584, 153)\n",
      "time points :  (3584,)\n",
      "Applying baseline correction (mode: mean)\n",
      "Size norm & filtered data :  (3584, 153)\n"
     ]
    },
    {
     "name": "stderr",
     "output_type": "stream",
     "text": [
      "<ipython-input-5-154bfa86badc>:37: DeprecationWarning: fir_design defaults to \"firwin2\" in 0.15 but will change to \"firwin\" in 0.16, set it explicitly to avoid this warning.\n",
      "  h_freq=low_pass_filter, method='fir', phase='zero-double').swapaxes(0,1)\n"
     ]
    },
    {
     "name": "stdout",
     "output_type": "stream",
     "text": [
      "-> Shape of all trials data to plot :  (23, 153)\n",
      "-> Shape of time vector :  23\n",
      "/media/karim/Datas4To/1_Analyses_Intra_EM_Odor/Olfacto/feature/ERP_Odor_No_Odor/Retrieval/LEFC_ERP_ITG_l7-l6_(49).png\n",
      "data to save (23, 153) cond0 (50, 23, 24) cond1 (50, 23, 129)\n",
      "Setting up low-pass filter at 10 Hz\n",
      "fir_design defaults to \"firwin2\" in 0.15 but will change to \"firwin\" in 0.16, set it explicitly to avoid this warning.\n",
      "h_trans_bandwidth chosen to be 2.5 Hz\n",
      "Filter length of 1352 samples (2.641 sec) selected\n",
      "Size of filtered data: (3584, 153)\n",
      "time points :  (3584,)\n",
      "Applying baseline correction (mode: mean)\n",
      "Size norm & filtered data :  (3584, 153)\n"
     ]
    },
    {
     "name": "stderr",
     "output_type": "stream",
     "text": [
      "<ipython-input-5-154bfa86badc>:37: DeprecationWarning: fir_design defaults to \"firwin2\" in 0.15 but will change to \"firwin\" in 0.16, set it explicitly to avoid this warning.\n",
      "  h_freq=low_pass_filter, method='fir', phase='zero-double').swapaxes(0,1)\n"
     ]
    },
    {
     "name": "stdout",
     "output_type": "stream",
     "text": [
      "-> Shape of all trials data to plot :  (23, 153)\n",
      "-> Shape of time vector :  23\n",
      "/media/karim/Datas4To/1_Analyses_Intra_EM_Odor/Olfacto/feature/ERP_Odor_No_Odor/Retrieval/LEFC_ERP_MTG-ITG&ITG_l8-l7_(50).png\n",
      "data to save (23, 153) cond0 (51, 23, 24) cond1 (51, 23, 129)\n",
      "Setting up low-pass filter at 10 Hz\n",
      "fir_design defaults to \"firwin2\" in 0.15 but will change to \"firwin\" in 0.16, set it explicitly to avoid this warning.\n",
      "h_trans_bandwidth chosen to be 2.5 Hz\n",
      "Filter length of 1352 samples (2.641 sec) selected\n",
      "Size of filtered data: (3584, 153)\n",
      "time points :  (3584,)\n",
      "Applying baseline correction (mode: mean)\n",
      "Size norm & filtered data :  (3584, 153)\n"
     ]
    },
    {
     "name": "stderr",
     "output_type": "stream",
     "text": [
      "<ipython-input-5-154bfa86badc>:37: DeprecationWarning: fir_design defaults to \"firwin2\" in 0.15 but will change to \"firwin\" in 0.16, set it explicitly to avoid this warning.\n",
      "  h_freq=low_pass_filter, method='fir', phase='zero-double').swapaxes(0,1)\n"
     ]
    },
    {
     "name": "stdout",
     "output_type": "stream",
     "text": [
      "-> Shape of all trials data to plot :  (23, 153)\n",
      "-> Shape of time vector :  23\n",
      "/media/karim/Datas4To/1_Analyses_Intra_EM_Odor/Olfacto/feature/ERP_Odor_No_Odor/Retrieval/LEFC_ERP_MTG-ITG_l9-l8_(51).png\n",
      "data to save (23, 153) cond0 (52, 23, 24) cond1 (52, 23, 129)\n",
      "Setting up low-pass filter at 10 Hz\n",
      "fir_design defaults to \"firwin2\" in 0.15 but will change to \"firwin\" in 0.16, set it explicitly to avoid this warning.\n",
      "h_trans_bandwidth chosen to be 2.5 Hz\n",
      "Filter length of 1352 samples (2.641 sec) selected\n",
      "Size of filtered data: (3584, 153)\n",
      "time points :  (3584,)\n",
      "Applying baseline correction (mode: mean)\n",
      "Size norm & filtered data :  (3584, 153)\n"
     ]
    },
    {
     "name": "stderr",
     "output_type": "stream",
     "text": [
      "<ipython-input-5-154bfa86badc>:37: DeprecationWarning: fir_design defaults to \"firwin2\" in 0.15 but will change to \"firwin\" in 0.16, set it explicitly to avoid this warning.\n",
      "  h_freq=low_pass_filter, method='fir', phase='zero-double').swapaxes(0,1)\n"
     ]
    },
    {
     "name": "stdout",
     "output_type": "stream",
     "text": [
      "-> Shape of all trials data to plot :  (23, 153)\n",
      "-> Shape of time vector :  23\n",
      "/media/karim/Datas4To/1_Analyses_Intra_EM_Odor/Olfacto/feature/ERP_Odor_No_Odor/Retrieval/LEFC_ERP_MTG-ITG_l10-l9_(52).png\n",
      "data to save (23, 153) cond0 (53, 23, 24) cond1 (53, 23, 129)\n",
      "Setting up low-pass filter at 10 Hz\n",
      "fir_design defaults to \"firwin2\" in 0.15 but will change to \"firwin\" in 0.16, set it explicitly to avoid this warning.\n",
      "h_trans_bandwidth chosen to be 2.5 Hz\n",
      "Filter length of 1352 samples (2.641 sec) selected\n",
      "Size of filtered data: (3584, 153)\n",
      "time points :  (3584,)\n",
      "Applying baseline correction (mode: mean)\n",
      "Size norm & filtered data :  (3584, 153)\n"
     ]
    },
    {
     "name": "stderr",
     "output_type": "stream",
     "text": [
      "<ipython-input-5-154bfa86badc>:37: DeprecationWarning: fir_design defaults to \"firwin2\" in 0.15 but will change to \"firwin\" in 0.16, set it explicitly to avoid this warning.\n",
      "  h_freq=low_pass_filter, method='fir', phase='zero-double').swapaxes(0,1)\n"
     ]
    },
    {
     "name": "stdout",
     "output_type": "stream",
     "text": [
      "-> Shape of all trials data to plot :  (23, 153)\n",
      "-> Shape of time vector :  23\n",
      "/media/karim/Datas4To/1_Analyses_Intra_EM_Odor/Olfacto/feature/ERP_Odor_No_Odor/Retrieval/LEFC_ERP_MTG-ITG_l11-l10_(53).png\n",
      "data to save (23, 153) cond0 (54, 23, 24) cond1 (54, 23, 129)\n",
      "Setting up low-pass filter at 10 Hz\n",
      "fir_design defaults to \"firwin2\" in 0.15 but will change to \"firwin\" in 0.16, set it explicitly to avoid this warning.\n",
      "h_trans_bandwidth chosen to be 2.5 Hz\n",
      "Filter length of 1352 samples (2.641 sec) selected\n",
      "Size of filtered data: (3584, 153)\n",
      "time points :  (3584,)\n",
      "Applying baseline correction (mode: mean)\n",
      "Size norm & filtered data :  (3584, 153)\n"
     ]
    },
    {
     "name": "stderr",
     "output_type": "stream",
     "text": [
      "<ipython-input-5-154bfa86badc>:37: DeprecationWarning: fir_design defaults to \"firwin2\" in 0.15 but will change to \"firwin\" in 0.16, set it explicitly to avoid this warning.\n",
      "  h_freq=low_pass_filter, method='fir', phase='zero-double').swapaxes(0,1)\n"
     ]
    },
    {
     "name": "stdout",
     "output_type": "stream",
     "text": [
      "-> Shape of all trials data to plot :  (23, 153)\n",
      "-> Shape of time vector :  23\n",
      "/media/karim/Datas4To/1_Analyses_Intra_EM_Odor/Olfacto/feature/ERP_Odor_No_Odor/Retrieval/LEFC_ERP_MCC_m2-m1_(54).png\n",
      "data to save (23, 153) cond0 (55, 23, 24) cond1 (55, 23, 129)\n",
      "Setting up low-pass filter at 10 Hz\n",
      "fir_design defaults to \"firwin2\" in 0.15 but will change to \"firwin\" in 0.16, set it explicitly to avoid this warning.\n",
      "h_trans_bandwidth chosen to be 2.5 Hz\n",
      "Filter length of 1352 samples (2.641 sec) selected\n",
      "Size of filtered data: (3584, 153)\n",
      "time points :  (3584,)\n",
      "Applying baseline correction (mode: mean)\n",
      "Size norm & filtered data :  (3584, 153)\n"
     ]
    },
    {
     "name": "stderr",
     "output_type": "stream",
     "text": [
      "<ipython-input-5-154bfa86badc>:37: DeprecationWarning: fir_design defaults to \"firwin2\" in 0.15 but will change to \"firwin\" in 0.16, set it explicitly to avoid this warning.\n",
      "  h_freq=low_pass_filter, method='fir', phase='zero-double').swapaxes(0,1)\n"
     ]
    },
    {
     "name": "stdout",
     "output_type": "stream",
     "text": [
      "-> Shape of all trials data to plot :  (23, 153)\n",
      "-> Shape of time vector :  23\n",
      "/media/karim/Datas4To/1_Analyses_Intra_EM_Odor/Olfacto/feature/ERP_Odor_No_Odor/Retrieval/LEFC_ERP_MCC_m3-m2_(55).png\n",
      "data to save (23, 153) cond0 (56, 23, 24) cond1 (56, 23, 129)\n",
      "Setting up low-pass filter at 10 Hz\n",
      "fir_design defaults to \"firwin2\" in 0.15 but will change to \"firwin\" in 0.16, set it explicitly to avoid this warning.\n",
      "h_trans_bandwidth chosen to be 2.5 Hz\n",
      "Filter length of 1352 samples (2.641 sec) selected\n",
      "Size of filtered data: (3584, 153)\n",
      "time points :  (3584,)\n",
      "Applying baseline correction (mode: mean)\n",
      "Size norm & filtered data :  (3584, 153)\n"
     ]
    },
    {
     "name": "stderr",
     "output_type": "stream",
     "text": [
      "<ipython-input-5-154bfa86badc>:37: DeprecationWarning: fir_design defaults to \"firwin2\" in 0.15 but will change to \"firwin\" in 0.16, set it explicitly to avoid this warning.\n",
      "  h_freq=low_pass_filter, method='fir', phase='zero-double').swapaxes(0,1)\n"
     ]
    },
    {
     "name": "stdout",
     "output_type": "stream",
     "text": [
      "-> Shape of all trials data to plot :  (23, 153)\n",
      "-> Shape of time vector :  23\n",
      "/media/karim/Datas4To/1_Analyses_Intra_EM_Odor/Olfacto/feature/ERP_Odor_No_Odor/Retrieval/LEFC_ERP_PoG-SMG_m10-m9_(56).png\n",
      "data to save (23, 153) cond0 (57, 23, 24) cond1 (57, 23, 129)\n",
      "Setting up low-pass filter at 10 Hz\n",
      "fir_design defaults to \"firwin2\" in 0.15 but will change to \"firwin\" in 0.16, set it explicitly to avoid this warning.\n",
      "h_trans_bandwidth chosen to be 2.5 Hz\n",
      "Filter length of 1352 samples (2.641 sec) selected\n",
      "Size of filtered data: (3584, 153)\n",
      "time points :  (3584,)\n",
      "Applying baseline correction (mode: mean)\n",
      "Size norm & filtered data :  (3584, 153)\n"
     ]
    },
    {
     "name": "stderr",
     "output_type": "stream",
     "text": [
      "<ipython-input-5-154bfa86badc>:37: DeprecationWarning: fir_design defaults to \"firwin2\" in 0.15 but will change to \"firwin\" in 0.16, set it explicitly to avoid this warning.\n",
      "  h_freq=low_pass_filter, method='fir', phase='zero-double').swapaxes(0,1)\n"
     ]
    },
    {
     "name": "stdout",
     "output_type": "stream",
     "text": [
      "-> Shape of all trials data to plot :  (23, 153)\n",
      "-> Shape of time vector :  23\n",
      "/media/karim/Datas4To/1_Analyses_Intra_EM_Odor/Olfacto/feature/ERP_Odor_No_Odor/Retrieval/LEFC_ERP_PoG-SMG_m11-m10_(57).png\n",
      "data to save (23, 153) cond0 (58, 23, 24) cond1 (58, 23, 129)\n",
      "Setting up low-pass filter at 10 Hz\n",
      "fir_design defaults to \"firwin2\" in 0.15 but will change to \"firwin\" in 0.16, set it explicitly to avoid this warning.\n",
      "h_trans_bandwidth chosen to be 2.5 Hz\n",
      "Filter length of 1352 samples (2.641 sec) selected\n",
      "Size of filtered data: (3584, 153)\n",
      "time points :  (3584,)\n",
      "Applying baseline correction (mode: mean)\n",
      "Size norm & filtered data :  (3584, 153)\n"
     ]
    },
    {
     "name": "stderr",
     "output_type": "stream",
     "text": [
      "<ipython-input-5-154bfa86badc>:37: DeprecationWarning: fir_design defaults to \"firwin2\" in 0.15 but will change to \"firwin\" in 0.16, set it explicitly to avoid this warning.\n",
      "  h_freq=low_pass_filter, method='fir', phase='zero-double').swapaxes(0,1)\n"
     ]
    },
    {
     "name": "stdout",
     "output_type": "stream",
     "text": [
      "-> Shape of all trials data to plot :  (23, 153)\n",
      "-> Shape of time vector :  23\n",
      "/media/karim/Datas4To/1_Analyses_Intra_EM_Odor/Olfacto/feature/ERP_Odor_No_Odor/Retrieval/LEFC_ERP_PoG-SMG_m12-m11_(58).png\n",
      "data to save (23, 153) cond0 (59, 23, 24) cond1 (59, 23, 129)\n",
      "Setting up low-pass filter at 10 Hz\n",
      "fir_design defaults to \"firwin2\" in 0.15 but will change to \"firwin\" in 0.16, set it explicitly to avoid this warning.\n",
      "h_trans_bandwidth chosen to be 2.5 Hz\n",
      "Filter length of 1352 samples (2.641 sec) selected\n",
      "Size of filtered data: (3584, 153)\n",
      "time points :  (3584,)\n",
      "Applying baseline correction (mode: mean)\n",
      "Size norm & filtered data :  (3584, 153)\n"
     ]
    },
    {
     "name": "stderr",
     "output_type": "stream",
     "text": [
      "<ipython-input-5-154bfa86badc>:37: DeprecationWarning: fir_design defaults to \"firwin2\" in 0.15 but will change to \"firwin\" in 0.16, set it explicitly to avoid this warning.\n",
      "  h_freq=low_pass_filter, method='fir', phase='zero-double').swapaxes(0,1)\n"
     ]
    },
    {
     "name": "stdout",
     "output_type": "stream",
     "text": [
      "-> Shape of all trials data to plot :  (23, 153)\n",
      "-> Shape of time vector :  23\n",
      "/media/karim/Datas4To/1_Analyses_Intra_EM_Odor/Olfacto/feature/ERP_Odor_No_Odor/Retrieval/LEFC_ERP_PoG-SMG_m13-m12_(59).png\n",
      "data to save (23, 153) cond0 (60, 23, 24) cond1 (60, 23, 129)\n",
      "Setting up low-pass filter at 10 Hz\n",
      "fir_design defaults to \"firwin2\" in 0.15 but will change to \"firwin\" in 0.16, set it explicitly to avoid this warning.\n",
      "h_trans_bandwidth chosen to be 2.5 Hz\n",
      "Filter length of 1352 samples (2.641 sec) selected\n",
      "Size of filtered data: (3584, 153)\n",
      "time points :  (3584,)\n",
      "Applying baseline correction (mode: mean)\n",
      "Size norm & filtered data :  (3584, 153)\n"
     ]
    },
    {
     "name": "stderr",
     "output_type": "stream",
     "text": [
      "<ipython-input-5-154bfa86badc>:37: DeprecationWarning: fir_design defaults to \"firwin2\" in 0.15 but will change to \"firwin\" in 0.16, set it explicitly to avoid this warning.\n",
      "  h_freq=low_pass_filter, method='fir', phase='zero-double').swapaxes(0,1)\n"
     ]
    },
    {
     "name": "stdout",
     "output_type": "stream",
     "text": [
      "-> Shape of all trials data to plot :  (23, 153)\n",
      "-> Shape of time vector :  23\n",
      "/media/karim/Datas4To/1_Analyses_Intra_EM_Odor/Olfacto/feature/ERP_Odor_No_Odor/Retrieval/LEFC_ERP_PoG-SMG_m14-m13_(60).png\n",
      "data to save (23, 153) cond0 (61, 23, 24) cond1 (61, 23, 129)\n",
      "Setting up low-pass filter at 10 Hz\n",
      "fir_design defaults to \"firwin2\" in 0.15 but will change to \"firwin\" in 0.16, set it explicitly to avoid this warning.\n",
      "h_trans_bandwidth chosen to be 2.5 Hz\n",
      "Filter length of 1352 samples (2.641 sec) selected\n",
      "Size of filtered data: (3584, 153)\n",
      "time points :  (3584,)\n",
      "Applying baseline correction (mode: mean)\n",
      "Size norm & filtered data :  (3584, 153)\n"
     ]
    },
    {
     "name": "stderr",
     "output_type": "stream",
     "text": [
      "<ipython-input-5-154bfa86badc>:37: DeprecationWarning: fir_design defaults to \"firwin2\" in 0.15 but will change to \"firwin\" in 0.16, set it explicitly to avoid this warning.\n",
      "  h_freq=low_pass_filter, method='fir', phase='zero-double').swapaxes(0,1)\n"
     ]
    },
    {
     "name": "stdout",
     "output_type": "stream",
     "text": [
      "-> Shape of all trials data to plot :  (23, 153)\n",
      "-> Shape of time vector :  23\n",
      "/media/karim/Datas4To/1_Analyses_Intra_EM_Odor/Olfacto/feature/ERP_Odor_No_Odor/Retrieval/LEFC_ERP_IRoG-SG-MOrG&IRoG-SG_o2-o1_(61).png\n",
      "data to save (23, 153) cond0 (62, 23, 24) cond1 (62, 23, 129)\n",
      "Setting up low-pass filter at 10 Hz\n",
      "fir_design defaults to \"firwin2\" in 0.15 but will change to \"firwin\" in 0.16, set it explicitly to avoid this warning.\n",
      "h_trans_bandwidth chosen to be 2.5 Hz\n",
      "Filter length of 1352 samples (2.641 sec) selected\n",
      "Size of filtered data: (3584, 153)\n",
      "time points :  (3584,)\n",
      "Applying baseline correction (mode: mean)\n",
      "Size norm & filtered data :  (3584, 153)\n"
     ]
    },
    {
     "name": "stderr",
     "output_type": "stream",
     "text": [
      "<ipython-input-5-154bfa86badc>:37: DeprecationWarning: fir_design defaults to \"firwin2\" in 0.15 but will change to \"firwin\" in 0.16, set it explicitly to avoid this warning.\n",
      "  h_freq=low_pass_filter, method='fir', phase='zero-double').swapaxes(0,1)\n"
     ]
    },
    {
     "name": "stdout",
     "output_type": "stream",
     "text": [
      "-> Shape of all trials data to plot :  (23, 153)\n",
      "-> Shape of time vector :  23\n",
      "/media/karim/Datas4To/1_Analyses_Intra_EM_Odor/Olfacto/feature/ERP_Odor_No_Odor/Retrieval/LEFC_ERP_SG-MOrG&IRoG-SG-MOrG_o3-o2_(62).png\n",
      "data to save (23, 153) cond0 (63, 23, 24) cond1 (63, 23, 129)\n",
      "Setting up low-pass filter at 10 Hz\n",
      "fir_design defaults to \"firwin2\" in 0.15 but will change to \"firwin\" in 0.16, set it explicitly to avoid this warning.\n",
      "h_trans_bandwidth chosen to be 2.5 Hz\n",
      "Filter length of 1352 samples (2.641 sec) selected\n",
      "Size of filtered data: (3584, 153)\n",
      "time points :  (3584,)\n",
      "Applying baseline correction (mode: mean)\n",
      "Size norm & filtered data :  (3584, 153)\n"
     ]
    },
    {
     "name": "stderr",
     "output_type": "stream",
     "text": [
      "<ipython-input-5-154bfa86badc>:37: DeprecationWarning: fir_design defaults to \"firwin2\" in 0.15 but will change to \"firwin\" in 0.16, set it explicitly to avoid this warning.\n",
      "  h_freq=low_pass_filter, method='fir', phase='zero-double').swapaxes(0,1)\n"
     ]
    },
    {
     "name": "stdout",
     "output_type": "stream",
     "text": [
      "-> Shape of all trials data to plot :  (23, 153)\n",
      "-> Shape of time vector :  23\n",
      "/media/karim/Datas4To/1_Analyses_Intra_EM_Odor/Olfacto/feature/ERP_Odor_No_Odor/Retrieval/LEFC_ERP_MOrG&SG-MOrG_o4-o3_(63).png\n",
      "data to save (23, 153) cond0 (64, 23, 24) cond1 (64, 23, 129)\n",
      "Setting up low-pass filter at 10 Hz\n",
      "fir_design defaults to \"firwin2\" in 0.15 but will change to \"firwin\" in 0.16, set it explicitly to avoid this warning.\n",
      "h_trans_bandwidth chosen to be 2.5 Hz\n",
      "Filter length of 1352 samples (2.641 sec) selected\n",
      "Size of filtered data: (3584, 153)\n",
      "time points :  (3584,)\n",
      "Applying baseline correction (mode: mean)\n",
      "Size norm & filtered data :  (3584, 153)\n"
     ]
    },
    {
     "name": "stderr",
     "output_type": "stream",
     "text": [
      "<ipython-input-5-154bfa86badc>:37: DeprecationWarning: fir_design defaults to \"firwin2\" in 0.15 but will change to \"firwin\" in 0.16, set it explicitly to avoid this warning.\n",
      "  h_freq=low_pass_filter, method='fir', phase='zero-double').swapaxes(0,1)\n"
     ]
    },
    {
     "name": "stdout",
     "output_type": "stream",
     "text": [
      "-> Shape of all trials data to plot :  (23, 153)\n",
      "-> Shape of time vector :  23\n",
      "/media/karim/Datas4To/1_Analyses_Intra_EM_Odor/Olfacto/feature/ERP_Odor_No_Odor/Retrieval/LEFC_ERP_MorG-IorG&MOrG_o5-o4_(64).png\n",
      "data to save (23, 153) cond0 (65, 23, 24) cond1 (65, 23, 129)\n",
      "Setting up low-pass filter at 10 Hz\n",
      "fir_design defaults to \"firwin2\" in 0.15 but will change to \"firwin\" in 0.16, set it explicitly to avoid this warning.\n",
      "h_trans_bandwidth chosen to be 2.5 Hz\n",
      "Filter length of 1352 samples (2.641 sec) selected\n",
      "Size of filtered data: (3584, 153)\n",
      "time points :  (3584,)\n",
      "Applying baseline correction (mode: mean)\n",
      "Size norm & filtered data :  (3584, 153)\n"
     ]
    },
    {
     "name": "stderr",
     "output_type": "stream",
     "text": [
      "<ipython-input-5-154bfa86badc>:37: DeprecationWarning: fir_design defaults to \"firwin2\" in 0.15 but will change to \"firwin\" in 0.16, set it explicitly to avoid this warning.\n",
      "  h_freq=low_pass_filter, method='fir', phase='zero-double').swapaxes(0,1)\n"
     ]
    },
    {
     "name": "stdout",
     "output_type": "stream",
     "text": [
      "-> Shape of all trials data to plot :  (23, 153)\n",
      "-> Shape of time vector :  23\n",
      "/media/karim/Datas4To/1_Analyses_Intra_EM_Odor/Olfacto/feature/ERP_Odor_No_Odor/Retrieval/LEFC_ERP_MorG-IorG_o6-o5_(65).png\n",
      "data to save (23, 153) cond0 (66, 23, 24) cond1 (66, 23, 129)\n",
      "Setting up low-pass filter at 10 Hz\n",
      "fir_design defaults to \"firwin2\" in 0.15 but will change to \"firwin\" in 0.16, set it explicitly to avoid this warning.\n",
      "h_trans_bandwidth chosen to be 2.5 Hz\n",
      "Filter length of 1352 samples (2.641 sec) selected\n",
      "Size of filtered data: (3584, 153)\n",
      "time points :  (3584,)\n",
      "Applying baseline correction (mode: mean)\n",
      "Size norm & filtered data :  (3584, 153)\n"
     ]
    },
    {
     "name": "stderr",
     "output_type": "stream",
     "text": [
      "<ipython-input-5-154bfa86badc>:37: DeprecationWarning: fir_design defaults to \"firwin2\" in 0.15 but will change to \"firwin\" in 0.16, set it explicitly to avoid this warning.\n",
      "  h_freq=low_pass_filter, method='fir', phase='zero-double').swapaxes(0,1)\n"
     ]
    },
    {
     "name": "stdout",
     "output_type": "stream",
     "text": [
      "-> Shape of all trials data to plot :  (23, 153)\n",
      "-> Shape of time vector :  23\n",
      "/media/karim/Datas4To/1_Analyses_Intra_EM_Odor/Olfacto/feature/ERP_Odor_No_Odor/Retrieval/LEFC_ERP_IOrG-LOrG&MorG-IorG_o7-o6_(66).png\n",
      "data to save (23, 153) cond0 (67, 23, 24) cond1 (67, 23, 129)\n",
      "Setting up low-pass filter at 10 Hz\n",
      "fir_design defaults to \"firwin2\" in 0.15 but will change to \"firwin\" in 0.16, set it explicitly to avoid this warning.\n",
      "h_trans_bandwidth chosen to be 2.5 Hz\n",
      "Filter length of 1352 samples (2.641 sec) selected\n",
      "Size of filtered data: (3584, 153)\n",
      "time points :  (3584,)\n",
      "Applying baseline correction (mode: mean)\n",
      "Size norm & filtered data :  (3584, 153)\n"
     ]
    },
    {
     "name": "stderr",
     "output_type": "stream",
     "text": [
      "<ipython-input-5-154bfa86badc>:37: DeprecationWarning: fir_design defaults to \"firwin2\" in 0.15 but will change to \"firwin\" in 0.16, set it explicitly to avoid this warning.\n",
      "  h_freq=low_pass_filter, method='fir', phase='zero-double').swapaxes(0,1)\n"
     ]
    },
    {
     "name": "stdout",
     "output_type": "stream",
     "text": [
      "-> Shape of all trials data to plot :  (23, 153)\n",
      "-> Shape of time vector :  23\n",
      "/media/karim/Datas4To/1_Analyses_Intra_EM_Odor/Olfacto/feature/ERP_Odor_No_Odor/Retrieval/LEFC_ERP_LOrG&IOrG-LOrG_o8-o7_(67).png\n",
      "data to save (23, 153) cond0 (68, 23, 24) cond1 (68, 23, 129)\n",
      "Setting up low-pass filter at 10 Hz\n",
      "fir_design defaults to \"firwin2\" in 0.15 but will change to \"firwin\" in 0.16, set it explicitly to avoid this warning.\n",
      "h_trans_bandwidth chosen to be 2.5 Hz\n",
      "Filter length of 1352 samples (2.641 sec) selected\n",
      "Size of filtered data: (3584, 153)\n",
      "time points :  (3584,)\n",
      "Applying baseline correction (mode: mean)\n",
      "Size norm & filtered data :  (3584, 153)\n"
     ]
    },
    {
     "name": "stderr",
     "output_type": "stream",
     "text": [
      "<ipython-input-5-154bfa86badc>:37: DeprecationWarning: fir_design defaults to \"firwin2\" in 0.15 but will change to \"firwin\" in 0.16, set it explicitly to avoid this warning.\n",
      "  h_freq=low_pass_filter, method='fir', phase='zero-double').swapaxes(0,1)\n"
     ]
    },
    {
     "name": "stdout",
     "output_type": "stream",
     "text": [
      "-> Shape of all trials data to plot :  (23, 153)\n",
      "-> Shape of time vector :  23\n",
      "/media/karim/Datas4To/1_Analyses_Intra_EM_Odor/Olfacto/feature/ERP_Odor_No_Odor/Retrieval/LEFC_ERP_IFGOr-LOrG&LOrG_o9-o8_(68).png\n",
      "data to save (23, 153) cond0 (69, 23, 24) cond1 (69, 23, 129)\n",
      "Setting up low-pass filter at 10 Hz\n",
      "fir_design defaults to \"firwin2\" in 0.15 but will change to \"firwin\" in 0.16, set it explicitly to avoid this warning.\n",
      "h_trans_bandwidth chosen to be 2.5 Hz\n",
      "Filter length of 1352 samples (2.641 sec) selected\n",
      "Size of filtered data: (3584, 153)\n",
      "time points :  (3584,)\n",
      "Applying baseline correction (mode: mean)\n",
      "Size norm & filtered data :  (3584, 153)\n"
     ]
    },
    {
     "name": "stderr",
     "output_type": "stream",
     "text": [
      "<ipython-input-5-154bfa86badc>:37: DeprecationWarning: fir_design defaults to \"firwin2\" in 0.15 but will change to \"firwin\" in 0.16, set it explicitly to avoid this warning.\n",
      "  h_freq=low_pass_filter, method='fir', phase='zero-double').swapaxes(0,1)\n"
     ]
    },
    {
     "name": "stdout",
     "output_type": "stream",
     "text": [
      "-> Shape of all trials data to plot :  (23, 153)\n",
      "-> Shape of time vector :  23\n",
      "/media/karim/Datas4To/1_Analyses_Intra_EM_Odor/Olfacto/feature/ERP_Odor_No_Odor/Retrieval/LEFC_ERP_IFGOr&IFGOr-LOrG_o10-o9_(69).png\n",
      "data to save (23, 153) cond0 (70, 23, 24) cond1 (70, 23, 129)\n",
      "Setting up low-pass filter at 10 Hz\n",
      "fir_design defaults to \"firwin2\" in 0.15 but will change to \"firwin\" in 0.16, set it explicitly to avoid this warning.\n",
      "h_trans_bandwidth chosen to be 2.5 Hz\n",
      "Filter length of 1352 samples (2.641 sec) selected\n",
      "Size of filtered data: (3584, 153)\n",
      "time points :  (3584,)\n",
      "Applying baseline correction (mode: mean)\n",
      "Size norm & filtered data :  (3584, 153)\n"
     ]
    },
    {
     "name": "stderr",
     "output_type": "stream",
     "text": [
      "<ipython-input-5-154bfa86badc>:37: DeprecationWarning: fir_design defaults to \"firwin2\" in 0.15 but will change to \"firwin\" in 0.16, set it explicitly to avoid this warning.\n",
      "  h_freq=low_pass_filter, method='fir', phase='zero-double').swapaxes(0,1)\n"
     ]
    },
    {
     "name": "stdout",
     "output_type": "stream",
     "text": [
      "-> Shape of all trials data to plot :  (23, 153)\n",
      "-> Shape of time vector :  23\n",
      "/media/karim/Datas4To/1_Analyses_Intra_EM_Odor/Olfacto/feature/ERP_Odor_No_Odor/Retrieval/LEFC_ERP_IFGOr_o11-o10_(70).png\n",
      "data to save (23, 153) cond0 (71, 23, 24) cond1 (71, 23, 129)\n",
      "Setting up low-pass filter at 10 Hz\n",
      "fir_design defaults to \"firwin2\" in 0.15 but will change to \"firwin\" in 0.16, set it explicitly to avoid this warning.\n",
      "h_trans_bandwidth chosen to be 2.5 Hz\n",
      "Filter length of 1352 samples (2.641 sec) selected\n",
      "Size of filtered data: (3584, 153)\n",
      "time points :  (3584,)\n",
      "Applying baseline correction (mode: mean)\n",
      "Size norm & filtered data :  (3584, 153)\n"
     ]
    },
    {
     "name": "stderr",
     "output_type": "stream",
     "text": [
      "<ipython-input-5-154bfa86badc>:37: DeprecationWarning: fir_design defaults to \"firwin2\" in 0.15 but will change to \"firwin\" in 0.16, set it explicitly to avoid this warning.\n",
      "  h_freq=low_pass_filter, method='fir', phase='zero-double').swapaxes(0,1)\n"
     ]
    },
    {
     "name": "stdout",
     "output_type": "stream",
     "text": [
      "-> Shape of all trials data to plot :  (23, 153)\n",
      "-> Shape of time vector :  23\n",
      "/media/karim/Datas4To/1_Analyses_Intra_EM_Odor/Olfacto/feature/ERP_Odor_No_Odor/Retrieval/LEFC_ERP_PCL-PoG_q2-q1_(71).png\n",
      "data to save (23, 153) cond0 (72, 23, 24) cond1 (72, 23, 129)\n",
      "Setting up low-pass filter at 10 Hz\n",
      "fir_design defaults to \"firwin2\" in 0.15 but will change to \"firwin\" in 0.16, set it explicitly to avoid this warning.\n",
      "h_trans_bandwidth chosen to be 2.5 Hz\n",
      "Filter length of 1352 samples (2.641 sec) selected\n",
      "Size of filtered data: (3584, 153)\n",
      "time points :  (3584,)\n",
      "Applying baseline correction (mode: mean)\n",
      "Size norm & filtered data :  (3584, 153)\n"
     ]
    },
    {
     "name": "stderr",
     "output_type": "stream",
     "text": [
      "<ipython-input-5-154bfa86badc>:37: DeprecationWarning: fir_design defaults to \"firwin2\" in 0.15 but will change to \"firwin\" in 0.16, set it explicitly to avoid this warning.\n",
      "  h_freq=low_pass_filter, method='fir', phase='zero-double').swapaxes(0,1)\n"
     ]
    },
    {
     "name": "stdout",
     "output_type": "stream",
     "text": [
      "-> Shape of all trials data to plot :  (23, 153)\n",
      "-> Shape of time vector :  23\n",
      "/media/karim/Datas4To/1_Analyses_Intra_EM_Odor/Olfacto/feature/ERP_Odor_No_Odor/Retrieval/LEFC_ERP_PCL-PoG_q3-q2_(72).png\n",
      "data to save (23, 153) cond0 (73, 23, 24) cond1 (73, 23, 129)\n",
      "Setting up low-pass filter at 10 Hz\n",
      "fir_design defaults to \"firwin2\" in 0.15 but will change to \"firwin\" in 0.16, set it explicitly to avoid this warning.\n",
      "h_trans_bandwidth chosen to be 2.5 Hz\n",
      "Filter length of 1352 samples (2.641 sec) selected\n",
      "Size of filtered data: (3584, 153)\n",
      "time points :  (3584,)\n",
      "Applying baseline correction (mode: mean)\n",
      "Size norm & filtered data :  (3584, 153)\n"
     ]
    },
    {
     "name": "stderr",
     "output_type": "stream",
     "text": [
      "<ipython-input-5-154bfa86badc>:37: DeprecationWarning: fir_design defaults to \"firwin2\" in 0.15 but will change to \"firwin\" in 0.16, set it explicitly to avoid this warning.\n",
      "  h_freq=low_pass_filter, method='fir', phase='zero-double').swapaxes(0,1)\n"
     ]
    },
    {
     "name": "stdout",
     "output_type": "stream",
     "text": [
      "-> Shape of all trials data to plot :  (23, 153)\n",
      "-> Shape of time vector :  23\n",
      "/media/karim/Datas4To/1_Analyses_Intra_EM_Odor/Olfacto/feature/ERP_Odor_No_Odor/Retrieval/LEFC_ERP_PoG&PCL-PoG_q4-q3_(73).png\n",
      "data to save (23, 153) cond0 (74, 23, 24) cond1 (74, 23, 129)\n",
      "Setting up low-pass filter at 10 Hz\n",
      "fir_design defaults to \"firwin2\" in 0.15 but will change to \"firwin\" in 0.16, set it explicitly to avoid this warning.\n",
      "h_trans_bandwidth chosen to be 2.5 Hz\n",
      "Filter length of 1352 samples (2.641 sec) selected\n",
      "Size of filtered data: (3584, 153)\n",
      "time points :  (3584,)\n",
      "Applying baseline correction (mode: mean)\n",
      "Size norm & filtered data :  (3584, 153)\n"
     ]
    },
    {
     "name": "stderr",
     "output_type": "stream",
     "text": [
      "<ipython-input-5-154bfa86badc>:37: DeprecationWarning: fir_design defaults to \"firwin2\" in 0.15 but will change to \"firwin\" in 0.16, set it explicitly to avoid this warning.\n",
      "  h_freq=low_pass_filter, method='fir', phase='zero-double').swapaxes(0,1)\n"
     ]
    },
    {
     "name": "stdout",
     "output_type": "stream",
     "text": [
      "-> Shape of all trials data to plot :  (23, 153)\n",
      "-> Shape of time vector :  23\n",
      "/media/karim/Datas4To/1_Analyses_Intra_EM_Odor/Olfacto/feature/ERP_Odor_No_Odor/Retrieval/LEFC_ERP_PoG_q5-q4_(74).png\n",
      "data to save (23, 153) cond0 (75, 23, 24) cond1 (75, 23, 129)\n",
      "Setting up low-pass filter at 10 Hz\n",
      "fir_design defaults to \"firwin2\" in 0.15 but will change to \"firwin\" in 0.16, set it explicitly to avoid this warning.\n",
      "h_trans_bandwidth chosen to be 2.5 Hz\n",
      "Filter length of 1352 samples (2.641 sec) selected\n",
      "Size of filtered data: (3584, 153)\n",
      "time points :  (3584,)\n",
      "Applying baseline correction (mode: mean)\n",
      "Size norm & filtered data :  (3584, 153)\n"
     ]
    },
    {
     "name": "stderr",
     "output_type": "stream",
     "text": [
      "<ipython-input-5-154bfa86badc>:37: DeprecationWarning: fir_design defaults to \"firwin2\" in 0.15 but will change to \"firwin\" in 0.16, set it explicitly to avoid this warning.\n",
      "  h_freq=low_pass_filter, method='fir', phase='zero-double').swapaxes(0,1)\n"
     ]
    },
    {
     "name": "stdout",
     "output_type": "stream",
     "text": [
      "-> Shape of all trials data to plot :  (23, 153)\n",
      "-> Shape of time vector :  23\n",
      "/media/karim/Datas4To/1_Analyses_Intra_EM_Odor/Olfacto/feature/ERP_Odor_No_Odor/Retrieval/LEFC_ERP_PoG_q6-q5_(75).png\n",
      "data to save (23, 153) cond0 (76, 23, 24) cond1 (76, 23, 129)\n",
      "Setting up low-pass filter at 10 Hz\n",
      "fir_design defaults to \"firwin2\" in 0.15 but will change to \"firwin\" in 0.16, set it explicitly to avoid this warning.\n",
      "h_trans_bandwidth chosen to be 2.5 Hz\n",
      "Filter length of 1352 samples (2.641 sec) selected\n",
      "Size of filtered data: (3584, 153)\n",
      "time points :  (3584,)\n",
      "Applying baseline correction (mode: mean)\n",
      "Size norm & filtered data :  (3584, 153)\n"
     ]
    },
    {
     "name": "stderr",
     "output_type": "stream",
     "text": [
      "<ipython-input-5-154bfa86badc>:37: DeprecationWarning: fir_design defaults to \"firwin2\" in 0.15 but will change to \"firwin\" in 0.16, set it explicitly to avoid this warning.\n",
      "  h_freq=low_pass_filter, method='fir', phase='zero-double').swapaxes(0,1)\n"
     ]
    },
    {
     "name": "stdout",
     "output_type": "stream",
     "text": [
      "-> Shape of all trials data to plot :  (23, 153)\n",
      "-> Shape of time vector :  23\n",
      "/media/karim/Datas4To/1_Analyses_Intra_EM_Odor/Olfacto/feature/ERP_Odor_No_Odor/Retrieval/LEFC_ERP_PoG-SMG&PoG_q7-q6_(76).png\n",
      "data to save (23, 153) cond0 (77, 23, 24) cond1 (77, 23, 129)\n",
      "Setting up low-pass filter at 10 Hz\n",
      "fir_design defaults to \"firwin2\" in 0.15 but will change to \"firwin\" in 0.16, set it explicitly to avoid this warning.\n",
      "h_trans_bandwidth chosen to be 2.5 Hz\n",
      "Filter length of 1352 samples (2.641 sec) selected\n",
      "Size of filtered data: (3584, 153)\n",
      "time points :  (3584,)\n",
      "Applying baseline correction (mode: mean)\n",
      "Size norm & filtered data :  (3584, 153)\n"
     ]
    },
    {
     "name": "stderr",
     "output_type": "stream",
     "text": [
      "<ipython-input-5-154bfa86badc>:37: DeprecationWarning: fir_design defaults to \"firwin2\" in 0.15 but will change to \"firwin\" in 0.16, set it explicitly to avoid this warning.\n",
      "  h_freq=low_pass_filter, method='fir', phase='zero-double').swapaxes(0,1)\n"
     ]
    },
    {
     "name": "stdout",
     "output_type": "stream",
     "text": [
      "-> Shape of all trials data to plot :  (23, 153)\n",
      "-> Shape of time vector :  23\n",
      "/media/karim/Datas4To/1_Analyses_Intra_EM_Odor/Olfacto/feature/ERP_Odor_No_Odor/Retrieval/LEFC_ERP_PoG-SMG_q8-q7_(77).png\n",
      "data to save (23, 153) cond0 (78, 23, 24) cond1 (78, 23, 129)\n",
      "Setting up low-pass filter at 10 Hz\n",
      "fir_design defaults to \"firwin2\" in 0.15 but will change to \"firwin\" in 0.16, set it explicitly to avoid this warning.\n",
      "h_trans_bandwidth chosen to be 2.5 Hz\n",
      "Filter length of 1352 samples (2.641 sec) selected\n",
      "Size of filtered data: (3584, 153)\n",
      "time points :  (3584,)\n",
      "Applying baseline correction (mode: mean)\n",
      "Size norm & filtered data :  (3584, 153)\n"
     ]
    },
    {
     "name": "stderr",
     "output_type": "stream",
     "text": [
      "<ipython-input-5-154bfa86badc>:37: DeprecationWarning: fir_design defaults to \"firwin2\" in 0.15 but will change to \"firwin\" in 0.16, set it explicitly to avoid this warning.\n",
      "  h_freq=low_pass_filter, method='fir', phase='zero-double').swapaxes(0,1)\n"
     ]
    },
    {
     "name": "stdout",
     "output_type": "stream",
     "text": [
      "-> Shape of all trials data to plot :  (23, 153)\n",
      "-> Shape of time vector :  23\n",
      "/media/karim/Datas4To/1_Analyses_Intra_EM_Odor/Olfacto/feature/ERP_Odor_No_Odor/Retrieval/LEFC_ERP_PoG-SMG_q9-q8_(78).png\n",
      "data to save (23, 153) cond0 (79, 23, 24) cond1 (79, 23, 129)\n",
      "Setting up low-pass filter at 10 Hz\n",
      "fir_design defaults to \"firwin2\" in 0.15 but will change to \"firwin\" in 0.16, set it explicitly to avoid this warning.\n",
      "h_trans_bandwidth chosen to be 2.5 Hz\n",
      "Filter length of 1352 samples (2.641 sec) selected\n",
      "Size of filtered data: (3584, 153)\n",
      "time points :  (3584,)\n",
      "Applying baseline correction (mode: mean)\n",
      "Size norm & filtered data :  (3584, 153)\n"
     ]
    },
    {
     "name": "stderr",
     "output_type": "stream",
     "text": [
      "<ipython-input-5-154bfa86badc>:37: DeprecationWarning: fir_design defaults to \"firwin2\" in 0.15 but will change to \"firwin\" in 0.16, set it explicitly to avoid this warning.\n",
      "  h_freq=low_pass_filter, method='fir', phase='zero-double').swapaxes(0,1)\n"
     ]
    },
    {
     "name": "stdout",
     "output_type": "stream",
     "text": [
      "-> Shape of all trials data to plot :  (23, 153)\n",
      "-> Shape of time vector :  23\n",
      "/media/karim/Datas4To/1_Analyses_Intra_EM_Odor/Olfacto/feature/ERP_Odor_No_Odor/Retrieval/LEFC_ERP_SMG&PoG-SMG_q10-q9_(79).png\n",
      "data to save (23, 153) cond0 (80, 23, 24) cond1 (80, 23, 129)\n",
      "Setting up low-pass filter at 10 Hz\n",
      "fir_design defaults to \"firwin2\" in 0.15 but will change to \"firwin\" in 0.16, set it explicitly to avoid this warning.\n",
      "h_trans_bandwidth chosen to be 2.5 Hz\n",
      "Filter length of 1352 samples (2.641 sec) selected\n",
      "Size of filtered data: (3584, 153)\n",
      "time points :  (3584,)\n",
      "Applying baseline correction (mode: mean)\n",
      "Size norm & filtered data :  (3584, 153)\n"
     ]
    },
    {
     "name": "stderr",
     "output_type": "stream",
     "text": [
      "<ipython-input-5-154bfa86badc>:37: DeprecationWarning: fir_design defaults to \"firwin2\" in 0.15 but will change to \"firwin\" in 0.16, set it explicitly to avoid this warning.\n",
      "  h_freq=low_pass_filter, method='fir', phase='zero-double').swapaxes(0,1)\n"
     ]
    },
    {
     "name": "stdout",
     "output_type": "stream",
     "text": [
      "-> Shape of all trials data to plot :  (23, 153)\n",
      "-> Shape of time vector :  23\n",
      "/media/karim/Datas4To/1_Analyses_Intra_EM_Odor/Olfacto/feature/ERP_Odor_No_Odor/Retrieval/LEFC_ERP_SMG_q11-q10_(80).png\n",
      "data to save (23, 153) cond0 (81, 23, 24) cond1 (81, 23, 129)\n",
      "Setting up low-pass filter at 10 Hz\n",
      "fir_design defaults to \"firwin2\" in 0.15 but will change to \"firwin\" in 0.16, set it explicitly to avoid this warning.\n",
      "h_trans_bandwidth chosen to be 2.5 Hz\n",
      "Filter length of 1352 samples (2.641 sec) selected\n",
      "Size of filtered data: (3584, 153)\n",
      "time points :  (3584,)\n",
      "Applying baseline correction (mode: mean)\n",
      "Size norm & filtered data :  (3584, 153)\n"
     ]
    },
    {
     "name": "stderr",
     "output_type": "stream",
     "text": [
      "<ipython-input-5-154bfa86badc>:37: DeprecationWarning: fir_design defaults to \"firwin2\" in 0.15 but will change to \"firwin\" in 0.16, set it explicitly to avoid this warning.\n",
      "  h_freq=low_pass_filter, method='fir', phase='zero-double').swapaxes(0,1)\n"
     ]
    },
    {
     "name": "stdout",
     "output_type": "stream",
     "text": [
      "-> Shape of all trials data to plot :  (23, 153)\n",
      "-> Shape of time vector :  23\n",
      "/media/karim/Datas4To/1_Analyses_Intra_EM_Odor/Olfacto/feature/ERP_Odor_No_Odor/Retrieval/LEFC_ERP_PCC-PCL_r2-r1_(81).png\n",
      "data to save (23, 153) cond0 (82, 23, 24) cond1 (82, 23, 129)\n",
      "Setting up low-pass filter at 10 Hz\n",
      "fir_design defaults to \"firwin2\" in 0.15 but will change to \"firwin\" in 0.16, set it explicitly to avoid this warning.\n",
      "h_trans_bandwidth chosen to be 2.5 Hz\n",
      "Filter length of 1352 samples (2.641 sec) selected\n",
      "Size of filtered data: (3584, 153)\n",
      "time points :  (3584,)\n",
      "Applying baseline correction (mode: mean)\n",
      "Size norm & filtered data :  (3584, 153)\n"
     ]
    },
    {
     "name": "stderr",
     "output_type": "stream",
     "text": [
      "<ipython-input-5-154bfa86badc>:37: DeprecationWarning: fir_design defaults to \"firwin2\" in 0.15 but will change to \"firwin\" in 0.16, set it explicitly to avoid this warning.\n",
      "  h_freq=low_pass_filter, method='fir', phase='zero-double').swapaxes(0,1)\n"
     ]
    },
    {
     "name": "stdout",
     "output_type": "stream",
     "text": [
      "-> Shape of all trials data to plot :  (23, 153)\n",
      "-> Shape of time vector :  23\n",
      "/media/karim/Datas4To/1_Analyses_Intra_EM_Odor/Olfacto/feature/ERP_Odor_No_Odor/Retrieval/LEFC_ERP_PoG-SMG_r8-r7_(82).png\n",
      "data to save (23, 153) cond0 (83, 23, 24) cond1 (83, 23, 129)\n",
      "Setting up low-pass filter at 10 Hz\n",
      "fir_design defaults to \"firwin2\" in 0.15 but will change to \"firwin\" in 0.16, set it explicitly to avoid this warning.\n",
      "h_trans_bandwidth chosen to be 2.5 Hz\n",
      "Filter length of 1352 samples (2.641 sec) selected\n",
      "Size of filtered data: (3584, 153)\n",
      "time points :  (3584,)\n",
      "Applying baseline correction (mode: mean)\n",
      "Size norm & filtered data :  (3584, 153)\n"
     ]
    },
    {
     "name": "stderr",
     "output_type": "stream",
     "text": [
      "<ipython-input-5-154bfa86badc>:37: DeprecationWarning: fir_design defaults to \"firwin2\" in 0.15 but will change to \"firwin\" in 0.16, set it explicitly to avoid this warning.\n",
      "  h_freq=low_pass_filter, method='fir', phase='zero-double').swapaxes(0,1)\n"
     ]
    },
    {
     "name": "stdout",
     "output_type": "stream",
     "text": [
      "-> Shape of all trials data to plot :  (23, 153)\n",
      "-> Shape of time vector :  23\n",
      "/media/karim/Datas4To/1_Analyses_Intra_EM_Odor/Olfacto/feature/ERP_Odor_No_Odor/Retrieval/LEFC_ERP_PoG-SMG_r9-r8_(83).png\n",
      "data to save (23, 153) cond0 (84, 23, 24) cond1 (84, 23, 129)\n",
      "Setting up low-pass filter at 10 Hz\n",
      "fir_design defaults to \"firwin2\" in 0.15 but will change to \"firwin\" in 0.16, set it explicitly to avoid this warning.\n",
      "h_trans_bandwidth chosen to be 2.5 Hz\n",
      "Filter length of 1352 samples (2.641 sec) selected\n",
      "Size of filtered data: (3584, 153)\n",
      "time points :  (3584,)\n",
      "Applying baseline correction (mode: mean)\n",
      "Size norm & filtered data :  (3584, 153)\n"
     ]
    },
    {
     "name": "stderr",
     "output_type": "stream",
     "text": [
      "<ipython-input-5-154bfa86badc>:37: DeprecationWarning: fir_design defaults to \"firwin2\" in 0.15 but will change to \"firwin\" in 0.16, set it explicitly to avoid this warning.\n",
      "  h_freq=low_pass_filter, method='fir', phase='zero-double').swapaxes(0,1)\n"
     ]
    },
    {
     "name": "stdout",
     "output_type": "stream",
     "text": [
      "-> Shape of all trials data to plot :  (23, 153)\n",
      "-> Shape of time vector :  23\n",
      "/media/karim/Datas4To/1_Analyses_Intra_EM_Odor/Olfacto/feature/ERP_Odor_No_Odor/Retrieval/LEFC_ERP_PoG-SMG_r10-r9_(84).png\n",
      "data to save (23, 153) cond0 (85, 23, 24) cond1 (85, 23, 129)\n",
      "Setting up low-pass filter at 10 Hz\n",
      "fir_design defaults to \"firwin2\" in 0.15 but will change to \"firwin\" in 0.16, set it explicitly to avoid this warning.\n",
      "h_trans_bandwidth chosen to be 2.5 Hz\n",
      "Filter length of 1352 samples (2.641 sec) selected\n",
      "Size of filtered data: (3584, 153)\n",
      "time points :  (3584,)\n",
      "Applying baseline correction (mode: mean)\n",
      "Size norm & filtered data :  (3584, 153)\n"
     ]
    },
    {
     "name": "stderr",
     "output_type": "stream",
     "text": [
      "<ipython-input-5-154bfa86badc>:37: DeprecationWarning: fir_design defaults to \"firwin2\" in 0.15 but will change to \"firwin\" in 0.16, set it explicitly to avoid this warning.\n",
      "  h_freq=low_pass_filter, method='fir', phase='zero-double').swapaxes(0,1)\n"
     ]
    },
    {
     "name": "stdout",
     "output_type": "stream",
     "text": [
      "-> Shape of all trials data to plot :  (23, 153)\n",
      "-> Shape of time vector :  23\n",
      "/media/karim/Datas4To/1_Analyses_Intra_EM_Odor/Olfacto/feature/ERP_Odor_No_Odor/Retrieval/LEFC_ERP_SMG&PoG-SMG_r11-r10_(85).png\n",
      "data to save (23, 153) cond0 (86, 23, 24) cond1 (86, 23, 129)\n",
      "Setting up low-pass filter at 10 Hz\n",
      "fir_design defaults to \"firwin2\" in 0.15 but will change to \"firwin\" in 0.16, set it explicitly to avoid this warning.\n",
      "h_trans_bandwidth chosen to be 2.5 Hz\n",
      "Filter length of 1352 samples (2.641 sec) selected\n",
      "Size of filtered data: (3584, 153)\n",
      "time points :  (3584,)\n",
      "Applying baseline correction (mode: mean)\n",
      "Size norm & filtered data :  (3584, 153)\n"
     ]
    },
    {
     "name": "stderr",
     "output_type": "stream",
     "text": [
      "<ipython-input-5-154bfa86badc>:37: DeprecationWarning: fir_design defaults to \"firwin2\" in 0.15 but will change to \"firwin\" in 0.16, set it explicitly to avoid this warning.\n",
      "  h_freq=low_pass_filter, method='fir', phase='zero-double').swapaxes(0,1)\n"
     ]
    },
    {
     "name": "stdout",
     "output_type": "stream",
     "text": [
      "-> Shape of all trials data to plot :  (23, 153)\n",
      "-> Shape of time vector :  23\n",
      "/media/karim/Datas4To/1_Analyses_Intra_EM_Odor/Olfacto/feature/ERP_Odor_No_Odor/Retrieval/LEFC_ERP_SMG_r12-r11_(86).png\n",
      "data to save (23, 153) cond0 (87, 23, 24) cond1 (87, 23, 129)\n",
      "Setting up low-pass filter at 10 Hz\n",
      "fir_design defaults to \"firwin2\" in 0.15 but will change to \"firwin\" in 0.16, set it explicitly to avoid this warning.\n",
      "h_trans_bandwidth chosen to be 2.5 Hz\n",
      "Filter length of 1352 samples (2.641 sec) selected\n",
      "Size of filtered data: (3584, 153)\n",
      "time points :  (3584,)\n",
      "Applying baseline correction (mode: mean)\n",
      "Size norm & filtered data :  (3584, 153)\n"
     ]
    },
    {
     "name": "stderr",
     "output_type": "stream",
     "text": [
      "<ipython-input-5-154bfa86badc>:37: DeprecationWarning: fir_design defaults to \"firwin2\" in 0.15 but will change to \"firwin\" in 0.16, set it explicitly to avoid this warning.\n",
      "  h_freq=low_pass_filter, method='fir', phase='zero-double').swapaxes(0,1)\n"
     ]
    },
    {
     "name": "stdout",
     "output_type": "stream",
     "text": [
      "-> Shape of all trials data to plot :  (23, 153)\n",
      "-> Shape of time vector :  23\n",
      "/media/karim/Datas4To/1_Analyses_Intra_EM_Odor/Olfacto/feature/ERP_Odor_No_Odor/Retrieval/LEFC_ERP_SMG_r13-r12_(87).png\n",
      "data to save (23, 153) cond0 (88, 23, 24) cond1 (88, 23, 129)\n",
      "Setting up low-pass filter at 10 Hz\n",
      "fir_design defaults to \"firwin2\" in 0.15 but will change to \"firwin\" in 0.16, set it explicitly to avoid this warning.\n",
      "h_trans_bandwidth chosen to be 2.5 Hz\n",
      "Filter length of 1352 samples (2.641 sec) selected\n",
      "Size of filtered data: (3584, 153)\n",
      "time points :  (3584,)\n",
      "Applying baseline correction (mode: mean)\n",
      "Size norm & filtered data :  (3584, 153)\n"
     ]
    },
    {
     "name": "stderr",
     "output_type": "stream",
     "text": [
      "<ipython-input-5-154bfa86badc>:37: DeprecationWarning: fir_design defaults to \"firwin2\" in 0.15 but will change to \"firwin\" in 0.16, set it explicitly to avoid this warning.\n",
      "  h_freq=low_pass_filter, method='fir', phase='zero-double').swapaxes(0,1)\n"
     ]
    },
    {
     "name": "stdout",
     "output_type": "stream",
     "text": [
      "-> Shape of all trials data to plot :  (23, 153)\n",
      "-> Shape of time vector :  23\n",
      "/media/karim/Datas4To/1_Analyses_Intra_EM_Odor/Olfacto/feature/ERP_Odor_No_Odor/Retrieval/LEFC_ERP_SMG_r14-r13_(88).png\n",
      "data to save (23, 153) cond0 (89, 23, 24) cond1 (89, 23, 129)\n",
      "Setting up low-pass filter at 10 Hz\n",
      "fir_design defaults to \"firwin2\" in 0.15 but will change to \"firwin\" in 0.16, set it explicitly to avoid this warning.\n",
      "h_trans_bandwidth chosen to be 2.5 Hz\n",
      "Filter length of 1352 samples (2.641 sec) selected\n",
      "Size of filtered data: (3584, 153)\n",
      "time points :  (3584,)\n",
      "Applying baseline correction (mode: mean)\n",
      "Size norm & filtered data :  (3584, 153)\n"
     ]
    },
    {
     "name": "stderr",
     "output_type": "stream",
     "text": [
      "<ipython-input-5-154bfa86badc>:37: DeprecationWarning: fir_design defaults to \"firwin2\" in 0.15 but will change to \"firwin\" in 0.16, set it explicitly to avoid this warning.\n",
      "  h_freq=low_pass_filter, method='fir', phase='zero-double').swapaxes(0,1)\n"
     ]
    },
    {
     "name": "stdout",
     "output_type": "stream",
     "text": [
      "-> Shape of all trials data to plot :  (23, 153)\n",
      "-> Shape of time vector :  23\n",
      "/media/karim/Datas4To/1_Analyses_Intra_EM_Odor/Olfacto/feature/ERP_Odor_No_Odor/Retrieval/LEFC_ERP_PCL-SFGL_s2-s1_(89).png\n",
      "data to save (23, 153) cond0 (90, 23, 24) cond1 (90, 23, 129)\n",
      "Setting up low-pass filter at 10 Hz\n",
      "fir_design defaults to \"firwin2\" in 0.15 but will change to \"firwin\" in 0.16, set it explicitly to avoid this warning.\n",
      "h_trans_bandwidth chosen to be 2.5 Hz\n",
      "Filter length of 1352 samples (2.641 sec) selected\n",
      "Size of filtered data: (3584, 153)\n",
      "time points :  (3584,)\n",
      "Applying baseline correction (mode: mean)\n",
      "Size norm & filtered data :  (3584, 153)\n"
     ]
    },
    {
     "name": "stderr",
     "output_type": "stream",
     "text": [
      "<ipython-input-5-154bfa86badc>:37: DeprecationWarning: fir_design defaults to \"firwin2\" in 0.15 but will change to \"firwin\" in 0.16, set it explicitly to avoid this warning.\n",
      "  h_freq=low_pass_filter, method='fir', phase='zero-double').swapaxes(0,1)\n"
     ]
    },
    {
     "name": "stdout",
     "output_type": "stream",
     "text": [
      "-> Shape of all trials data to plot :  (23, 153)\n",
      "-> Shape of time vector :  23\n",
      "/media/karim/Datas4To/1_Analyses_Intra_EM_Odor/Olfacto/feature/ERP_Odor_No_Odor/Retrieval/LEFC_ERP_PCL-SFGL_s3-s2_(90).png\n",
      "data to save (23, 153) cond0 (91, 23, 24) cond1 (91, 23, 129)\n",
      "Setting up low-pass filter at 10 Hz\n",
      "fir_design defaults to \"firwin2\" in 0.15 but will change to \"firwin\" in 0.16, set it explicitly to avoid this warning.\n",
      "h_trans_bandwidth chosen to be 2.5 Hz\n",
      "Filter length of 1352 samples (2.641 sec) selected\n",
      "Size of filtered data: (3584, 153)\n",
      "time points :  (3584,)\n",
      "Applying baseline correction (mode: mean)\n",
      "Size norm & filtered data :  (3584, 153)\n"
     ]
    },
    {
     "name": "stderr",
     "output_type": "stream",
     "text": [
      "<ipython-input-5-154bfa86badc>:37: DeprecationWarning: fir_design defaults to \"firwin2\" in 0.15 but will change to \"firwin\" in 0.16, set it explicitly to avoid this warning.\n",
      "  h_freq=low_pass_filter, method='fir', phase='zero-double').swapaxes(0,1)\n"
     ]
    },
    {
     "name": "stdout",
     "output_type": "stream",
     "text": [
      "-> Shape of all trials data to plot :  (23, 153)\n",
      "-> Shape of time vector :  23\n",
      "/media/karim/Datas4To/1_Analyses_Intra_EM_Odor/Olfacto/feature/ERP_Odor_No_Odor/Retrieval/LEFC_ERP_PrG-SFGL&PCL-SFGL_s4-s3_(91).png\n",
      "data to save (23, 153) cond0 (92, 23, 24) cond1 (92, 23, 129)\n",
      "Setting up low-pass filter at 10 Hz\n",
      "fir_design defaults to \"firwin2\" in 0.15 but will change to \"firwin\" in 0.16, set it explicitly to avoid this warning.\n",
      "h_trans_bandwidth chosen to be 2.5 Hz\n",
      "Filter length of 1352 samples (2.641 sec) selected\n",
      "Size of filtered data: (3584, 153)\n",
      "time points :  (3584,)\n",
      "Applying baseline correction (mode: mean)\n",
      "Size norm & filtered data :  (3584, 153)\n"
     ]
    },
    {
     "name": "stderr",
     "output_type": "stream",
     "text": [
      "<ipython-input-5-154bfa86badc>:37: DeprecationWarning: fir_design defaults to \"firwin2\" in 0.15 but will change to \"firwin\" in 0.16, set it explicitly to avoid this warning.\n",
      "  h_freq=low_pass_filter, method='fir', phase='zero-double').swapaxes(0,1)\n"
     ]
    },
    {
     "name": "stdout",
     "output_type": "stream",
     "text": [
      "-> Shape of all trials data to plot :  (23, 153)\n",
      "-> Shape of time vector :  23\n",
      "/media/karim/Datas4To/1_Analyses_Intra_EM_Odor/Olfacto/feature/ERP_Odor_No_Odor/Retrieval/LEFC_ERP_PrG-SFGL_s5-s4_(92).png\n",
      "data to save (23, 153) cond0 (93, 23, 24) cond1 (93, 23, 129)\n",
      "Setting up low-pass filter at 10 Hz\n",
      "fir_design defaults to \"firwin2\" in 0.15 but will change to \"firwin\" in 0.16, set it explicitly to avoid this warning.\n",
      "h_trans_bandwidth chosen to be 2.5 Hz\n",
      "Filter length of 1352 samples (2.641 sec) selected\n",
      "Size of filtered data: (3584, 153)\n",
      "time points :  (3584,)\n",
      "Applying baseline correction (mode: mean)\n",
      "Size norm & filtered data :  (3584, 153)\n"
     ]
    },
    {
     "name": "stderr",
     "output_type": "stream",
     "text": [
      "<ipython-input-5-154bfa86badc>:37: DeprecationWarning: fir_design defaults to \"firwin2\" in 0.15 but will change to \"firwin\" in 0.16, set it explicitly to avoid this warning.\n",
      "  h_freq=low_pass_filter, method='fir', phase='zero-double').swapaxes(0,1)\n"
     ]
    },
    {
     "name": "stdout",
     "output_type": "stream",
     "text": [
      "-> Shape of all trials data to plot :  (23, 153)\n",
      "-> Shape of time vector :  23\n",
      "/media/karim/Datas4To/1_Analyses_Intra_EM_Odor/Olfacto/feature/ERP_Odor_No_Odor/Retrieval/LEFC_ERP_PrG-SFGL_s6-s5_(93).png\n",
      "data to save (23, 153) cond0 (94, 23, 24) cond1 (94, 23, 129)\n",
      "Setting up low-pass filter at 10 Hz\n",
      "fir_design defaults to \"firwin2\" in 0.15 but will change to \"firwin\" in 0.16, set it explicitly to avoid this warning.\n",
      "h_trans_bandwidth chosen to be 2.5 Hz\n",
      "Filter length of 1352 samples (2.641 sec) selected\n",
      "Size of filtered data: (3584, 153)\n",
      "time points :  (3584,)\n",
      "Applying baseline correction (mode: mean)\n",
      "Size norm & filtered data :  (3584, 153)\n"
     ]
    },
    {
     "name": "stderr",
     "output_type": "stream",
     "text": [
      "<ipython-input-5-154bfa86badc>:37: DeprecationWarning: fir_design defaults to \"firwin2\" in 0.15 but will change to \"firwin\" in 0.16, set it explicitly to avoid this warning.\n",
      "  h_freq=low_pass_filter, method='fir', phase='zero-double').swapaxes(0,1)\n"
     ]
    },
    {
     "name": "stdout",
     "output_type": "stream",
     "text": [
      "-> Shape of all trials data to plot :  (23, 153)\n",
      "-> Shape of time vector :  23\n",
      "/media/karim/Datas4To/1_Analyses_Intra_EM_Odor/Olfacto/feature/ERP_Odor_No_Odor/Retrieval/LEFC_ERP_PrG&PrG-SFGL_s7-s6_(94).png\n",
      "data to save (23, 153) cond0 (95, 23, 24) cond1 (95, 23, 129)\n",
      "Setting up low-pass filter at 10 Hz\n",
      "fir_design defaults to \"firwin2\" in 0.15 but will change to \"firwin\" in 0.16, set it explicitly to avoid this warning.\n",
      "h_trans_bandwidth chosen to be 2.5 Hz\n",
      "Filter length of 1352 samples (2.641 sec) selected\n",
      "Size of filtered data: (3584, 153)\n",
      "time points :  (3584,)\n",
      "Applying baseline correction (mode: mean)\n",
      "Size norm & filtered data :  (3584, 153)\n"
     ]
    },
    {
     "name": "stderr",
     "output_type": "stream",
     "text": [
      "<ipython-input-5-154bfa86badc>:37: DeprecationWarning: fir_design defaults to \"firwin2\" in 0.15 but will change to \"firwin\" in 0.16, set it explicitly to avoid this warning.\n",
      "  h_freq=low_pass_filter, method='fir', phase='zero-double').swapaxes(0,1)\n"
     ]
    },
    {
     "name": "stdout",
     "output_type": "stream",
     "text": [
      "-> Shape of all trials data to plot :  (23, 153)\n",
      "-> Shape of time vector :  23\n",
      "/media/karim/Datas4To/1_Analyses_Intra_EM_Odor/Olfacto/feature/ERP_Odor_No_Odor/Retrieval/LEFC_ERP_PrG_s8-s7_(95).png\n",
      "data to save (23, 153) cond0 (96, 23, 24) cond1 (96, 23, 129)\n",
      "Setting up low-pass filter at 10 Hz\n",
      "fir_design defaults to \"firwin2\" in 0.15 but will change to \"firwin\" in 0.16, set it explicitly to avoid this warning.\n",
      "h_trans_bandwidth chosen to be 2.5 Hz\n",
      "Filter length of 1352 samples (2.641 sec) selected\n",
      "Size of filtered data: (3584, 153)\n",
      "time points :  (3584,)\n",
      "Applying baseline correction (mode: mean)\n",
      "Size norm & filtered data :  (3584, 153)\n"
     ]
    },
    {
     "name": "stderr",
     "output_type": "stream",
     "text": [
      "<ipython-input-5-154bfa86badc>:37: DeprecationWarning: fir_design defaults to \"firwin2\" in 0.15 but will change to \"firwin\" in 0.16, set it explicitly to avoid this warning.\n",
      "  h_freq=low_pass_filter, method='fir', phase='zero-double').swapaxes(0,1)\n"
     ]
    },
    {
     "name": "stdout",
     "output_type": "stream",
     "text": [
      "-> Shape of all trials data to plot :  (23, 153)\n",
      "-> Shape of time vector :  23\n",
      "/media/karim/Datas4To/1_Analyses_Intra_EM_Odor/Olfacto/feature/ERP_Odor_No_Odor/Retrieval/LEFC_ERP_PrG_s9-s8_(96).png\n",
      "data to save (23, 153) cond0 (97, 23, 24) cond1 (97, 23, 129)\n",
      "Setting up low-pass filter at 10 Hz\n",
      "fir_design defaults to \"firwin2\" in 0.15 but will change to \"firwin\" in 0.16, set it explicitly to avoid this warning.\n",
      "h_trans_bandwidth chosen to be 2.5 Hz\n",
      "Filter length of 1352 samples (2.641 sec) selected\n",
      "Size of filtered data: (3584, 153)\n",
      "time points :  (3584,)\n",
      "Applying baseline correction (mode: mean)\n",
      "Size norm & filtered data :  (3584, 153)\n"
     ]
    },
    {
     "name": "stderr",
     "output_type": "stream",
     "text": [
      "<ipython-input-5-154bfa86badc>:37: DeprecationWarning: fir_design defaults to \"firwin2\" in 0.15 but will change to \"firwin\" in 0.16, set it explicitly to avoid this warning.\n",
      "  h_freq=low_pass_filter, method='fir', phase='zero-double').swapaxes(0,1)\n"
     ]
    },
    {
     "name": "stdout",
     "output_type": "stream",
     "text": [
      "-> Shape of all trials data to plot :  (23, 153)\n",
      "-> Shape of time vector :  23\n",
      "/media/karim/Datas4To/1_Analyses_Intra_EM_Odor/Olfacto/feature/ERP_Odor_No_Odor/Retrieval/LEFC_ERP_PrG_s10-s9_(97).png\n",
      "data to save (23, 153) cond0 (98, 23, 24) cond1 (98, 23, 129)\n",
      "Setting up low-pass filter at 10 Hz\n",
      "fir_design defaults to \"firwin2\" in 0.15 but will change to \"firwin\" in 0.16, set it explicitly to avoid this warning.\n",
      "h_trans_bandwidth chosen to be 2.5 Hz\n",
      "Filter length of 1352 samples (2.641 sec) selected\n",
      "Size of filtered data: (3584, 153)\n",
      "time points :  (3584,)\n",
      "Applying baseline correction (mode: mean)\n",
      "Size norm & filtered data :  (3584, 153)\n"
     ]
    },
    {
     "name": "stderr",
     "output_type": "stream",
     "text": [
      "<ipython-input-5-154bfa86badc>:37: DeprecationWarning: fir_design defaults to \"firwin2\" in 0.15 but will change to \"firwin\" in 0.16, set it explicitly to avoid this warning.\n",
      "  h_freq=low_pass_filter, method='fir', phase='zero-double').swapaxes(0,1)\n"
     ]
    },
    {
     "name": "stdout",
     "output_type": "stream",
     "text": [
      "-> Shape of all trials data to plot :  (23, 153)\n",
      "-> Shape of time vector :  23\n",
      "/media/karim/Datas4To/1_Analyses_Intra_EM_Odor/Olfacto/feature/ERP_Odor_No_Odor/Retrieval/LEFC_ERP_PrG_s11-s10_(98).png\n",
      "data to save (23, 153) cond0 (99, 23, 24) cond1 (99, 23, 129)\n",
      "Setting up low-pass filter at 10 Hz\n",
      "fir_design defaults to \"firwin2\" in 0.15 but will change to \"firwin\" in 0.16, set it explicitly to avoid this warning.\n",
      "h_trans_bandwidth chosen to be 2.5 Hz\n",
      "Filter length of 1352 samples (2.641 sec) selected\n",
      "Size of filtered data: (3584, 153)\n",
      "time points :  (3584,)\n",
      "Applying baseline correction (mode: mean)\n",
      "Size norm & filtered data :  (3584, 153)\n"
     ]
    },
    {
     "name": "stderr",
     "output_type": "stream",
     "text": [
      "<ipython-input-5-154bfa86badc>:37: DeprecationWarning: fir_design defaults to \"firwin2\" in 0.15 but will change to \"firwin\" in 0.16, set it explicitly to avoid this warning.\n",
      "  h_freq=low_pass_filter, method='fir', phase='zero-double').swapaxes(0,1)\n"
     ]
    },
    {
     "name": "stdout",
     "output_type": "stream",
     "text": [
      "-> Shape of all trials data to plot :  (23, 153)\n",
      "-> Shape of time vector :  23\n",
      "/media/karim/Datas4To/1_Analyses_Intra_EM_Odor/Olfacto/feature/ERP_Odor_No_Odor/Retrieval/LEFC_ERP_Ins-TTG_t2-t1_(99).png\n",
      "data to save (23, 153) cond0 (100, 23, 24) cond1 (100, 23, 129)\n",
      "Setting up low-pass filter at 10 Hz\n",
      "fir_design defaults to \"firwin2\" in 0.15 but will change to \"firwin\" in 0.16, set it explicitly to avoid this warning.\n",
      "h_trans_bandwidth chosen to be 2.5 Hz\n",
      "Filter length of 1352 samples (2.641 sec) selected\n",
      "Size of filtered data: (3584, 153)\n",
      "time points :  (3584,)\n",
      "Applying baseline correction (mode: mean)\n",
      "Size norm & filtered data :  (3584, 153)\n"
     ]
    },
    {
     "name": "stderr",
     "output_type": "stream",
     "text": [
      "<ipython-input-5-154bfa86badc>:37: DeprecationWarning: fir_design defaults to \"firwin2\" in 0.15 but will change to \"firwin\" in 0.16, set it explicitly to avoid this warning.\n",
      "  h_freq=low_pass_filter, method='fir', phase='zero-double').swapaxes(0,1)\n"
     ]
    },
    {
     "name": "stdout",
     "output_type": "stream",
     "text": [
      "-> Shape of all trials data to plot :  (23, 153)\n",
      "-> Shape of time vector :  23\n",
      "/media/karim/Datas4To/1_Analyses_Intra_EM_Odor/Olfacto/feature/ERP_Odor_No_Odor/Retrieval/LEFC_ERP_TTG-aSTG&Ins-TTG_t3-t2_(100).png\n",
      "data to save (23, 153) cond0 (101, 23, 24) cond1 (101, 23, 129)\n",
      "Setting up low-pass filter at 10 Hz\n",
      "fir_design defaults to \"firwin2\" in 0.15 but will change to \"firwin\" in 0.16, set it explicitly to avoid this warning.\n",
      "h_trans_bandwidth chosen to be 2.5 Hz\n",
      "Filter length of 1352 samples (2.641 sec) selected\n",
      "Size of filtered data: (3584, 153)\n",
      "time points :  (3584,)\n",
      "Applying baseline correction (mode: mean)\n",
      "Size norm & filtered data :  (3584, 153)\n"
     ]
    },
    {
     "name": "stderr",
     "output_type": "stream",
     "text": [
      "<ipython-input-5-154bfa86badc>:37: DeprecationWarning: fir_design defaults to \"firwin2\" in 0.15 but will change to \"firwin\" in 0.16, set it explicitly to avoid this warning.\n",
      "  h_freq=low_pass_filter, method='fir', phase='zero-double').swapaxes(0,1)\n"
     ]
    },
    {
     "name": "stdout",
     "output_type": "stream",
     "text": [
      "-> Shape of all trials data to plot :  (23, 153)\n",
      "-> Shape of time vector :  23\n",
      "/media/karim/Datas4To/1_Analyses_Intra_EM_Odor/Olfacto/feature/ERP_Odor_No_Odor/Retrieval/LEFC_ERP_TTG-aSTG_t4-t3_(101).png\n",
      "data to save (23, 153) cond0 (102, 23, 24) cond1 (102, 23, 129)\n",
      "Setting up low-pass filter at 10 Hz\n",
      "fir_design defaults to \"firwin2\" in 0.15 but will change to \"firwin\" in 0.16, set it explicitly to avoid this warning.\n",
      "h_trans_bandwidth chosen to be 2.5 Hz\n",
      "Filter length of 1352 samples (2.641 sec) selected\n",
      "Size of filtered data: (3584, 153)\n",
      "time points :  (3584,)\n",
      "Applying baseline correction (mode: mean)\n",
      "Size norm & filtered data :  (3584, 153)\n"
     ]
    },
    {
     "name": "stderr",
     "output_type": "stream",
     "text": [
      "<ipython-input-5-154bfa86badc>:37: DeprecationWarning: fir_design defaults to \"firwin2\" in 0.15 but will change to \"firwin\" in 0.16, set it explicitly to avoid this warning.\n",
      "  h_freq=low_pass_filter, method='fir', phase='zero-double').swapaxes(0,1)\n"
     ]
    },
    {
     "name": "stdout",
     "output_type": "stream",
     "text": [
      "-> Shape of all trials data to plot :  (23, 153)\n",
      "-> Shape of time vector :  23\n",
      "/media/karim/Datas4To/1_Analyses_Intra_EM_Odor/Olfacto/feature/ERP_Odor_No_Odor/Retrieval/LEFC_ERP_TTG-aSTG_t5-t4_(102).png\n",
      "data to save (23, 153) cond0 (103, 23, 24) cond1 (103, 23, 129)\n",
      "Setting up low-pass filter at 10 Hz\n",
      "fir_design defaults to \"firwin2\" in 0.15 but will change to \"firwin\" in 0.16, set it explicitly to avoid this warning.\n",
      "h_trans_bandwidth chosen to be 2.5 Hz\n",
      "Filter length of 1352 samples (2.641 sec) selected\n",
      "Size of filtered data: (3584, 153)\n",
      "time points :  (3584,)\n",
      "Applying baseline correction (mode: mean)\n",
      "Size norm & filtered data :  (3584, 153)\n"
     ]
    },
    {
     "name": "stderr",
     "output_type": "stream",
     "text": [
      "<ipython-input-5-154bfa86badc>:37: DeprecationWarning: fir_design defaults to \"firwin2\" in 0.15 but will change to \"firwin\" in 0.16, set it explicitly to avoid this warning.\n",
      "  h_freq=low_pass_filter, method='fir', phase='zero-double').swapaxes(0,1)\n"
     ]
    },
    {
     "name": "stdout",
     "output_type": "stream",
     "text": [
      "-> Shape of all trials data to plot :  (23, 153)\n",
      "-> Shape of time vector :  23\n",
      "/media/karim/Datas4To/1_Analyses_Intra_EM_Odor/Olfacto/feature/ERP_Odor_No_Odor/Retrieval/LEFC_ERP_TTG-aSTG_t6-t5_(103).png\n",
      "data to save (23, 153) cond0 (104, 23, 24) cond1 (104, 23, 129)\n",
      "Setting up low-pass filter at 10 Hz\n",
      "fir_design defaults to \"firwin2\" in 0.15 but will change to \"firwin\" in 0.16, set it explicitly to avoid this warning.\n",
      "h_trans_bandwidth chosen to be 2.5 Hz\n",
      "Filter length of 1352 samples (2.641 sec) selected\n",
      "Size of filtered data: (3584, 153)\n",
      "time points :  (3584,)\n",
      "Applying baseline correction (mode: mean)\n",
      "Size norm & filtered data :  (3584, 153)\n"
     ]
    },
    {
     "name": "stderr",
     "output_type": "stream",
     "text": [
      "<ipython-input-5-154bfa86badc>:37: DeprecationWarning: fir_design defaults to \"firwin2\" in 0.15 but will change to \"firwin\" in 0.16, set it explicitly to avoid this warning.\n",
      "  h_freq=low_pass_filter, method='fir', phase='zero-double').swapaxes(0,1)\n"
     ]
    },
    {
     "name": "stdout",
     "output_type": "stream",
     "text": [
      "-> Shape of all trials data to plot :  (23, 153)\n",
      "-> Shape of time vector :  23\n",
      "/media/karim/Datas4To/1_Analyses_Intra_EM_Odor/Olfacto/feature/ERP_Odor_No_Odor/Retrieval/LEFC_ERP_TTG-aSTG_t7-t6_(104).png\n",
      "data to save (23, 153) cond0 (105, 23, 24) cond1 (105, 23, 129)\n",
      "Setting up low-pass filter at 10 Hz\n",
      "fir_design defaults to \"firwin2\" in 0.15 but will change to \"firwin\" in 0.16, set it explicitly to avoid this warning.\n",
      "h_trans_bandwidth chosen to be 2.5 Hz\n",
      "Filter length of 1352 samples (2.641 sec) selected\n",
      "Size of filtered data: (3584, 153)\n",
      "time points :  (3584,)\n",
      "Applying baseline correction (mode: mean)\n",
      "Size norm & filtered data :  (3584, 153)\n"
     ]
    },
    {
     "name": "stderr",
     "output_type": "stream",
     "text": [
      "<ipython-input-5-154bfa86badc>:37: DeprecationWarning: fir_design defaults to \"firwin2\" in 0.15 but will change to \"firwin\" in 0.16, set it explicitly to avoid this warning.\n",
      "  h_freq=low_pass_filter, method='fir', phase='zero-double').swapaxes(0,1)\n"
     ]
    },
    {
     "name": "stdout",
     "output_type": "stream",
     "text": [
      "-> Shape of all trials data to plot :  (23, 153)\n",
      "-> Shape of time vector :  23\n",
      "/media/karim/Datas4To/1_Analyses_Intra_EM_Odor/Olfacto/feature/ERP_Odor_No_Odor/Retrieval/LEFC_ERP_17_v2-v1_(105).png\n",
      "data to save (23, 153) cond0 (106, 23, 24) cond1 (106, 23, 129)\n",
      "Setting up low-pass filter at 10 Hz\n",
      "fir_design defaults to \"firwin2\" in 0.15 but will change to \"firwin\" in 0.16, set it explicitly to avoid this warning.\n",
      "h_trans_bandwidth chosen to be 2.5 Hz\n",
      "Filter length of 1352 samples (2.641 sec) selected\n",
      "Size of filtered data: (3584, 153)\n",
      "time points :  (3584,)\n",
      "Applying baseline correction (mode: mean)\n",
      "Size norm & filtered data :  (3584, 153)\n"
     ]
    },
    {
     "name": "stderr",
     "output_type": "stream",
     "text": [
      "<ipython-input-5-154bfa86badc>:37: DeprecationWarning: fir_design defaults to \"firwin2\" in 0.15 but will change to \"firwin\" in 0.16, set it explicitly to avoid this warning.\n",
      "  h_freq=low_pass_filter, method='fir', phase='zero-double').swapaxes(0,1)\n"
     ]
    },
    {
     "name": "stdout",
     "output_type": "stream",
     "text": [
      "-> Shape of all trials data to plot :  (23, 153)\n",
      "-> Shape of time vector :  23\n",
      "/media/karim/Datas4To/1_Analyses_Intra_EM_Odor/Olfacto/feature/ERP_Odor_No_Odor/Retrieval/LEFC_ERP_17_v3-v2_(106).png\n",
      "data to save (23, 153) cond0 (107, 23, 24) cond1 (107, 23, 129)\n",
      "Setting up low-pass filter at 10 Hz\n",
      "fir_design defaults to \"firwin2\" in 0.15 but will change to \"firwin\" in 0.16, set it explicitly to avoid this warning.\n",
      "h_trans_bandwidth chosen to be 2.5 Hz\n",
      "Filter length of 1352 samples (2.641 sec) selected\n",
      "Size of filtered data: (3584, 153)\n",
      "time points :  (3584,)\n",
      "Applying baseline correction (mode: mean)\n",
      "Size norm & filtered data :  (3584, 153)\n"
     ]
    },
    {
     "name": "stderr",
     "output_type": "stream",
     "text": [
      "<ipython-input-5-154bfa86badc>:37: DeprecationWarning: fir_design defaults to \"firwin2\" in 0.15 but will change to \"firwin\" in 0.16, set it explicitly to avoid this warning.\n",
      "  h_freq=low_pass_filter, method='fir', phase='zero-double').swapaxes(0,1)\n"
     ]
    },
    {
     "name": "stdout",
     "output_type": "stream",
     "text": [
      "-> Shape of all trials data to plot :  (23, 153)\n",
      "-> Shape of time vector :  23\n",
      "/media/karim/Datas4To/1_Analyses_Intra_EM_Odor/Olfacto/feature/ERP_Odor_No_Odor/Retrieval/LEFC_ERP_17-POTZ-AngG&17_v4-v3_(107).png\n",
      "data to save (23, 153) cond0 (108, 23, 24) cond1 (108, 23, 129)\n",
      "Setting up low-pass filter at 10 Hz\n",
      "fir_design defaults to \"firwin2\" in 0.15 but will change to \"firwin\" in 0.16, set it explicitly to avoid this warning.\n",
      "h_trans_bandwidth chosen to be 2.5 Hz\n",
      "Filter length of 1352 samples (2.641 sec) selected\n",
      "Size of filtered data: (3584, 153)\n",
      "time points :  (3584,)\n",
      "Applying baseline correction (mode: mean)\n",
      "Size norm & filtered data :  (3584, 153)\n"
     ]
    },
    {
     "name": "stderr",
     "output_type": "stream",
     "text": [
      "<ipython-input-5-154bfa86badc>:37: DeprecationWarning: fir_design defaults to \"firwin2\" in 0.15 but will change to \"firwin\" in 0.16, set it explicitly to avoid this warning.\n",
      "  h_freq=low_pass_filter, method='fir', phase='zero-double').swapaxes(0,1)\n"
     ]
    },
    {
     "name": "stdout",
     "output_type": "stream",
     "text": [
      "-> Shape of all trials data to plot :  (23, 153)\n",
      "-> Shape of time vector :  23\n",
      "/media/karim/Datas4To/1_Analyses_Intra_EM_Odor/Olfacto/feature/ERP_Odor_No_Odor/Retrieval/LEFC_ERP_POTZ-AngG&17-POTZ-AngG_v5-v4_(108).png\n",
      "data to save (23, 153) cond0 (109, 23, 24) cond1 (109, 23, 129)\n",
      "Setting up low-pass filter at 10 Hz\n",
      "fir_design defaults to \"firwin2\" in 0.15 but will change to \"firwin\" in 0.16, set it explicitly to avoid this warning.\n",
      "h_trans_bandwidth chosen to be 2.5 Hz\n",
      "Filter length of 1352 samples (2.641 sec) selected\n",
      "Size of filtered data: (3584, 153)\n",
      "time points :  (3584,)\n",
      "Applying baseline correction (mode: mean)\n",
      "Size norm & filtered data :  (3584, 153)\n"
     ]
    },
    {
     "name": "stderr",
     "output_type": "stream",
     "text": [
      "<ipython-input-5-154bfa86badc>:37: DeprecationWarning: fir_design defaults to \"firwin2\" in 0.15 but will change to \"firwin\" in 0.16, set it explicitly to avoid this warning.\n",
      "  h_freq=low_pass_filter, method='fir', phase='zero-double').swapaxes(0,1)\n"
     ]
    },
    {
     "name": "stdout",
     "output_type": "stream",
     "text": [
      "-> Shape of all trials data to plot :  (23, 153)\n",
      "-> Shape of time vector :  23\n",
      "/media/karim/Datas4To/1_Analyses_Intra_EM_Odor/Olfacto/feature/ERP_Odor_No_Odor/Retrieval/LEFC_ERP_POTZ-AngG_v6-v5_(109).png\n",
      "data to save (23, 153) cond0 (110, 23, 24) cond1 (110, 23, 129)\n",
      "Setting up low-pass filter at 10 Hz\n",
      "fir_design defaults to \"firwin2\" in 0.15 but will change to \"firwin\" in 0.16, set it explicitly to avoid this warning.\n",
      "h_trans_bandwidth chosen to be 2.5 Hz\n",
      "Filter length of 1352 samples (2.641 sec) selected\n",
      "Size of filtered data: (3584, 153)\n",
      "time points :  (3584,)\n",
      "Applying baseline correction (mode: mean)\n",
      "Size norm & filtered data :  (3584, 153)\n"
     ]
    },
    {
     "name": "stderr",
     "output_type": "stream",
     "text": [
      "<ipython-input-5-154bfa86badc>:37: DeprecationWarning: fir_design defaults to \"firwin2\" in 0.15 but will change to \"firwin\" in 0.16, set it explicitly to avoid this warning.\n",
      "  h_freq=low_pass_filter, method='fir', phase='zero-double').swapaxes(0,1)\n"
     ]
    },
    {
     "name": "stdout",
     "output_type": "stream",
     "text": [
      "-> Shape of all trials data to plot :  (23, 153)\n",
      "-> Shape of time vector :  23\n",
      "/media/karim/Datas4To/1_Analyses_Intra_EM_Odor/Olfacto/feature/ERP_Odor_No_Odor/Retrieval/LEFC_ERP_Ang-OcG&POTZ-AngG_v7-v6_(110).png\n",
      "data to save (23, 153) cond0 (111, 23, 24) cond1 (111, 23, 129)\n",
      "Setting up low-pass filter at 10 Hz\n",
      "fir_design defaults to \"firwin2\" in 0.15 but will change to \"firwin\" in 0.16, set it explicitly to avoid this warning.\n",
      "h_trans_bandwidth chosen to be 2.5 Hz\n",
      "Filter length of 1352 samples (2.641 sec) selected\n",
      "Size of filtered data: (3584, 153)\n",
      "time points :  (3584,)\n",
      "Applying baseline correction (mode: mean)\n",
      "Size norm & filtered data :  (3584, 153)\n"
     ]
    },
    {
     "name": "stderr",
     "output_type": "stream",
     "text": [
      "<ipython-input-5-154bfa86badc>:37: DeprecationWarning: fir_design defaults to \"firwin2\" in 0.15 but will change to \"firwin\" in 0.16, set it explicitly to avoid this warning.\n",
      "  h_freq=low_pass_filter, method='fir', phase='zero-double').swapaxes(0,1)\n"
     ]
    },
    {
     "name": "stdout",
     "output_type": "stream",
     "text": [
      "-> Shape of all trials data to plot :  (23, 153)\n",
      "-> Shape of time vector :  23\n",
      "/media/karim/Datas4To/1_Analyses_Intra_EM_Odor/Olfacto/feature/ERP_Odor_No_Odor/Retrieval/LEFC_ERP_OcG&Ang-OcG_v8-v7_(111).png\n",
      "data to save (23, 153) cond0 (112, 23, 24) cond1 (112, 23, 129)\n",
      "Setting up low-pass filter at 10 Hz\n",
      "fir_design defaults to \"firwin2\" in 0.15 but will change to \"firwin\" in 0.16, set it explicitly to avoid this warning.\n",
      "h_trans_bandwidth chosen to be 2.5 Hz\n",
      "Filter length of 1352 samples (2.641 sec) selected\n",
      "Size of filtered data: (3584, 153)\n",
      "time points :  (3584,)\n",
      "Applying baseline correction (mode: mean)\n",
      "Size norm & filtered data :  (3584, 153)\n"
     ]
    },
    {
     "name": "stderr",
     "output_type": "stream",
     "text": [
      "<ipython-input-5-154bfa86badc>:37: DeprecationWarning: fir_design defaults to \"firwin2\" in 0.15 but will change to \"firwin\" in 0.16, set it explicitly to avoid this warning.\n",
      "  h_freq=low_pass_filter, method='fir', phase='zero-double').swapaxes(0,1)\n"
     ]
    },
    {
     "name": "stdout",
     "output_type": "stream",
     "text": [
      "-> Shape of all trials data to plot :  (23, 153)\n",
      "-> Shape of time vector :  23\n",
      "/media/karim/Datas4To/1_Analyses_Intra_EM_Odor/Olfacto/feature/ERP_Odor_No_Odor/Retrieval/LEFC_ERP_OcG_v9-v8_(112).png\n",
      "data to save (23, 153) cond0 (113, 23, 24) cond1 (113, 23, 129)\n",
      "Setting up low-pass filter at 10 Hz\n",
      "fir_design defaults to \"firwin2\" in 0.15 but will change to \"firwin\" in 0.16, set it explicitly to avoid this warning.\n",
      "h_trans_bandwidth chosen to be 2.5 Hz\n",
      "Filter length of 1352 samples (2.641 sec) selected\n",
      "Size of filtered data: (3584, 153)\n",
      "time points :  (3584,)\n",
      "Applying baseline correction (mode: mean)\n",
      "Size norm & filtered data :  (3584, 153)\n"
     ]
    },
    {
     "name": "stderr",
     "output_type": "stream",
     "text": [
      "<ipython-input-5-154bfa86badc>:37: DeprecationWarning: fir_design defaults to \"firwin2\" in 0.15 but will change to \"firwin\" in 0.16, set it explicitly to avoid this warning.\n",
      "  h_freq=low_pass_filter, method='fir', phase='zero-double').swapaxes(0,1)\n"
     ]
    },
    {
     "name": "stdout",
     "output_type": "stream",
     "text": [
      "-> Shape of all trials data to plot :  (23, 153)\n",
      "-> Shape of time vector :  23\n",
      "/media/karim/Datas4To/1_Analyses_Intra_EM_Odor/Olfacto/feature/ERP_Odor_No_Odor/Retrieval/LEFC_ERP_OcG_v10-v9_(113).png\n",
      "data to save (23, 153) cond0 (114, 23, 24) cond1 (114, 23, 129)\n",
      "Setting up low-pass filter at 10 Hz\n",
      "fir_design defaults to \"firwin2\" in 0.15 but will change to \"firwin\" in 0.16, set it explicitly to avoid this warning.\n",
      "h_trans_bandwidth chosen to be 2.5 Hz\n",
      "Filter length of 1352 samples (2.641 sec) selected\n",
      "Size of filtered data: (3584, 153)\n",
      "time points :  (3584,)\n",
      "Applying baseline correction (mode: mean)\n",
      "Size norm & filtered data :  (3584, 153)\n"
     ]
    },
    {
     "name": "stderr",
     "output_type": "stream",
     "text": [
      "<ipython-input-5-154bfa86badc>:37: DeprecationWarning: fir_design defaults to \"firwin2\" in 0.15 but will change to \"firwin\" in 0.16, set it explicitly to avoid this warning.\n",
      "  h_freq=low_pass_filter, method='fir', phase='zero-double').swapaxes(0,1)\n"
     ]
    },
    {
     "name": "stdout",
     "output_type": "stream",
     "text": [
      "-> Shape of all trials data to plot :  (23, 153)\n",
      "-> Shape of time vector :  23\n",
      "/media/karim/Datas4To/1_Analyses_Intra_EM_Odor/Olfacto/feature/ERP_Odor_No_Odor/Retrieval/LEFC_ERP_OcG_v11-v10_(114).png\n",
      "data to save (23, 153) cond0 (115, 23, 24) cond1 (115, 23, 129)\n",
      "Setting up low-pass filter at 10 Hz\n",
      "fir_design defaults to \"firwin2\" in 0.15 but will change to \"firwin\" in 0.16, set it explicitly to avoid this warning.\n",
      "h_trans_bandwidth chosen to be 2.5 Hz\n",
      "Filter length of 1352 samples (2.641 sec) selected\n",
      "Size of filtered data: (3584, 153)\n",
      "time points :  (3584,)\n",
      "Applying baseline correction (mode: mean)\n",
      "Size norm & filtered data :  (3584, 153)\n"
     ]
    },
    {
     "name": "stderr",
     "output_type": "stream",
     "text": [
      "<ipython-input-5-154bfa86badc>:37: DeprecationWarning: fir_design defaults to \"firwin2\" in 0.15 but will change to \"firwin\" in 0.16, set it explicitly to avoid this warning.\n",
      "  h_freq=low_pass_filter, method='fir', phase='zero-double').swapaxes(0,1)\n"
     ]
    },
    {
     "name": "stdout",
     "output_type": "stream",
     "text": [
      "-> Shape of all trials data to plot :  (23, 153)\n",
      "-> Shape of time vector :  23\n",
      "/media/karim/Datas4To/1_Analyses_Intra_EM_Odor/Olfacto/feature/ERP_Odor_No_Odor/Retrieval/LEFC_ERP_Skull-OcG&OcG_v12-v11_(115).png\n",
      "data to save (23, 153) cond0 (116, 23, 24) cond1 (116, 23, 129)\n",
      "Setting up low-pass filter at 10 Hz\n",
      "fir_design defaults to \"firwin2\" in 0.15 but will change to \"firwin\" in 0.16, set it explicitly to avoid this warning.\n",
      "h_trans_bandwidth chosen to be 2.5 Hz\n",
      "Filter length of 1352 samples (2.641 sec) selected\n",
      "Size of filtered data: (3584, 153)\n",
      "time points :  (3584,)\n",
      "Applying baseline correction (mode: mean)\n",
      "Size norm & filtered data :  (3584, 153)\n"
     ]
    },
    {
     "name": "stderr",
     "output_type": "stream",
     "text": [
      "<ipython-input-5-154bfa86badc>:37: DeprecationWarning: fir_design defaults to \"firwin2\" in 0.15 but will change to \"firwin\" in 0.16, set it explicitly to avoid this warning.\n",
      "  h_freq=low_pass_filter, method='fir', phase='zero-double').swapaxes(0,1)\n"
     ]
    },
    {
     "name": "stdout",
     "output_type": "stream",
     "text": [
      "-> Shape of all trials data to plot :  (23, 153)\n",
      "-> Shape of time vector :  23\n",
      "/media/karim/Datas4To/1_Analyses_Intra_EM_Odor/Olfacto/feature/ERP_Odor_No_Odor/Retrieval/LEFC_ERP_PCun_w2-w1_(116).png\n",
      "data to save (23, 153) cond0 (117, 23, 24) cond1 (117, 23, 129)\n",
      "Setting up low-pass filter at 10 Hz\n",
      "fir_design defaults to \"firwin2\" in 0.15 but will change to \"firwin\" in 0.16, set it explicitly to avoid this warning.\n",
      "h_trans_bandwidth chosen to be 2.5 Hz\n",
      "Filter length of 1352 samples (2.641 sec) selected\n",
      "Size of filtered data: (3584, 153)\n",
      "time points :  (3584,)\n",
      "Applying baseline correction (mode: mean)\n",
      "Size norm & filtered data :  (3584, 153)\n"
     ]
    },
    {
     "name": "stderr",
     "output_type": "stream",
     "text": [
      "<ipython-input-5-154bfa86badc>:37: DeprecationWarning: fir_design defaults to \"firwin2\" in 0.15 but will change to \"firwin\" in 0.16, set it explicitly to avoid this warning.\n",
      "  h_freq=low_pass_filter, method='fir', phase='zero-double').swapaxes(0,1)\n"
     ]
    },
    {
     "name": "stdout",
     "output_type": "stream",
     "text": [
      "-> Shape of all trials data to plot :  (23, 153)\n",
      "-> Shape of time vector :  23\n",
      "/media/karim/Datas4To/1_Analyses_Intra_EM_Odor/Olfacto/feature/ERP_Odor_No_Odor/Retrieval/LEFC_ERP_PCun_w3-w2_(117).png\n",
      "data to save (23, 153) cond0 (118, 23, 24) cond1 (118, 23, 129)\n",
      "Setting up low-pass filter at 10 Hz\n",
      "fir_design defaults to \"firwin2\" in 0.15 but will change to \"firwin\" in 0.16, set it explicitly to avoid this warning.\n",
      "h_trans_bandwidth chosen to be 2.5 Hz\n",
      "Filter length of 1352 samples (2.641 sec) selected\n",
      "Size of filtered data: (3584, 153)\n",
      "time points :  (3584,)\n",
      "Applying baseline correction (mode: mean)\n",
      "Size norm & filtered data :  (3584, 153)\n"
     ]
    },
    {
     "name": "stderr",
     "output_type": "stream",
     "text": [
      "<ipython-input-5-154bfa86badc>:37: DeprecationWarning: fir_design defaults to \"firwin2\" in 0.15 but will change to \"firwin\" in 0.16, set it explicitly to avoid this warning.\n",
      "  h_freq=low_pass_filter, method='fir', phase='zero-double').swapaxes(0,1)\n"
     ]
    },
    {
     "name": "stdout",
     "output_type": "stream",
     "text": [
      "-> Shape of all trials data to plot :  (23, 153)\n",
      "-> Shape of time vector :  23\n",
      "/media/karim/Datas4To/1_Analyses_Intra_EM_Odor/Olfacto/feature/ERP_Odor_No_Odor/Retrieval/LEFC_ERP_PCun_w4-w3_(118).png\n",
      "data to save (23, 153) cond0 (119, 23, 24) cond1 (119, 23, 129)\n",
      "Setting up low-pass filter at 10 Hz\n",
      "fir_design defaults to \"firwin2\" in 0.15 but will change to \"firwin\" in 0.16, set it explicitly to avoid this warning.\n",
      "h_trans_bandwidth chosen to be 2.5 Hz\n",
      "Filter length of 1352 samples (2.641 sec) selected\n",
      "Size of filtered data: (3584, 153)\n",
      "time points :  (3584,)\n",
      "Applying baseline correction (mode: mean)\n",
      "Size norm & filtered data :  (3584, 153)\n"
     ]
    },
    {
     "name": "stderr",
     "output_type": "stream",
     "text": [
      "<ipython-input-5-154bfa86badc>:37: DeprecationWarning: fir_design defaults to \"firwin2\" in 0.15 but will change to \"firwin\" in 0.16, set it explicitly to avoid this warning.\n",
      "  h_freq=low_pass_filter, method='fir', phase='zero-double').swapaxes(0,1)\n"
     ]
    },
    {
     "name": "stdout",
     "output_type": "stream",
     "text": [
      "-> Shape of all trials data to plot :  (23, 153)\n",
      "-> Shape of time vector :  23\n",
      "/media/karim/Datas4To/1_Analyses_Intra_EM_Odor/Olfacto/feature/ERP_Odor_No_Odor/Retrieval/LEFC_ERP_POTZ-AngG&PCun_w5-w4_(119).png\n",
      "data to save (23, 153) cond0 (120, 23, 24) cond1 (120, 23, 129)\n",
      "Setting up low-pass filter at 10 Hz\n",
      "fir_design defaults to \"firwin2\" in 0.15 but will change to \"firwin\" in 0.16, set it explicitly to avoid this warning.\n",
      "h_trans_bandwidth chosen to be 2.5 Hz\n",
      "Filter length of 1352 samples (2.641 sec) selected\n",
      "Size of filtered data: (3584, 153)\n",
      "time points :  (3584,)\n",
      "Applying baseline correction (mode: mean)\n",
      "Size norm & filtered data :  (3584, 153)\n"
     ]
    },
    {
     "name": "stderr",
     "output_type": "stream",
     "text": [
      "<ipython-input-5-154bfa86badc>:37: DeprecationWarning: fir_design defaults to \"firwin2\" in 0.15 but will change to \"firwin\" in 0.16, set it explicitly to avoid this warning.\n",
      "  h_freq=low_pass_filter, method='fir', phase='zero-double').swapaxes(0,1)\n"
     ]
    },
    {
     "name": "stdout",
     "output_type": "stream",
     "text": [
      "-> Shape of all trials data to plot :  (23, 153)\n",
      "-> Shape of time vector :  23\n",
      "/media/karim/Datas4To/1_Analyses_Intra_EM_Odor/Olfacto/feature/ERP_Odor_No_Odor/Retrieval/LEFC_ERP_POTZ-AngG_w6-w5_(120).png\n",
      "data to save (23, 153) cond0 (121, 23, 24) cond1 (121, 23, 129)\n",
      "Setting up low-pass filter at 10 Hz\n",
      "fir_design defaults to \"firwin2\" in 0.15 but will change to \"firwin\" in 0.16, set it explicitly to avoid this warning.\n",
      "h_trans_bandwidth chosen to be 2.5 Hz\n",
      "Filter length of 1352 samples (2.641 sec) selected\n",
      "Size of filtered data: (3584, 153)\n",
      "time points :  (3584,)\n",
      "Applying baseline correction (mode: mean)\n",
      "Size norm & filtered data :  (3584, 153)\n"
     ]
    },
    {
     "name": "stderr",
     "output_type": "stream",
     "text": [
      "<ipython-input-5-154bfa86badc>:37: DeprecationWarning: fir_design defaults to \"firwin2\" in 0.15 but will change to \"firwin\" in 0.16, set it explicitly to avoid this warning.\n",
      "  h_freq=low_pass_filter, method='fir', phase='zero-double').swapaxes(0,1)\n"
     ]
    },
    {
     "name": "stdout",
     "output_type": "stream",
     "text": [
      "-> Shape of all trials data to plot :  (23, 153)\n",
      "-> Shape of time vector :  23\n",
      "/media/karim/Datas4To/1_Analyses_Intra_EM_Odor/Olfacto/feature/ERP_Odor_No_Odor/Retrieval/LEFC_ERP_AngG&POTZ-AngG_w7-w6_(121).png\n",
      "data to save (23, 153) cond0 (122, 23, 24) cond1 (122, 23, 129)\n",
      "Setting up low-pass filter at 10 Hz\n",
      "fir_design defaults to \"firwin2\" in 0.15 but will change to \"firwin\" in 0.16, set it explicitly to avoid this warning.\n",
      "h_trans_bandwidth chosen to be 2.5 Hz\n",
      "Filter length of 1352 samples (2.641 sec) selected\n",
      "Size of filtered data: (3584, 153)\n",
      "time points :  (3584,)\n",
      "Applying baseline correction (mode: mean)\n",
      "Size norm & filtered data :  (3584, 153)\n"
     ]
    },
    {
     "name": "stderr",
     "output_type": "stream",
     "text": [
      "<ipython-input-5-154bfa86badc>:37: DeprecationWarning: fir_design defaults to \"firwin2\" in 0.15 but will change to \"firwin\" in 0.16, set it explicitly to avoid this warning.\n",
      "  h_freq=low_pass_filter, method='fir', phase='zero-double').swapaxes(0,1)\n"
     ]
    },
    {
     "name": "stdout",
     "output_type": "stream",
     "text": [
      "-> Shape of all trials data to plot :  (23, 153)\n",
      "-> Shape of time vector :  23\n",
      "/media/karim/Datas4To/1_Analyses_Intra_EM_Odor/Olfacto/feature/ERP_Odor_No_Odor/Retrieval/LEFC_ERP_AngG-OcG&AngG_w8-w7_(122).png\n",
      "data to save (23, 153) cond0 (123, 23, 24) cond1 (123, 23, 129)\n",
      "Setting up low-pass filter at 10 Hz\n",
      "fir_design defaults to \"firwin2\" in 0.15 but will change to \"firwin\" in 0.16, set it explicitly to avoid this warning.\n",
      "h_trans_bandwidth chosen to be 2.5 Hz\n",
      "Filter length of 1352 samples (2.641 sec) selected\n",
      "Size of filtered data: (3584, 153)\n",
      "time points :  (3584,)\n",
      "Applying baseline correction (mode: mean)\n",
      "Size norm & filtered data :  (3584, 153)\n"
     ]
    },
    {
     "name": "stderr",
     "output_type": "stream",
     "text": [
      "<ipython-input-5-154bfa86badc>:37: DeprecationWarning: fir_design defaults to \"firwin2\" in 0.15 but will change to \"firwin\" in 0.16, set it explicitly to avoid this warning.\n",
      "  h_freq=low_pass_filter, method='fir', phase='zero-double').swapaxes(0,1)\n"
     ]
    },
    {
     "name": "stdout",
     "output_type": "stream",
     "text": [
      "-> Shape of all trials data to plot :  (23, 153)\n",
      "-> Shape of time vector :  23\n",
      "/media/karim/Datas4To/1_Analyses_Intra_EM_Odor/Olfacto/feature/ERP_Odor_No_Odor/Retrieval/LEFC_ERP_AngG-OcG_w9-w8_(123).png\n",
      "data to save (23, 153) cond0 (124, 23, 24) cond1 (124, 23, 129)\n",
      "Setting up low-pass filter at 10 Hz\n",
      "fir_design defaults to \"firwin2\" in 0.15 but will change to \"firwin\" in 0.16, set it explicitly to avoid this warning.\n",
      "h_trans_bandwidth chosen to be 2.5 Hz\n",
      "Filter length of 1352 samples (2.641 sec) selected\n",
      "Size of filtered data: (3584, 153)\n",
      "time points :  (3584,)\n",
      "Applying baseline correction (mode: mean)\n",
      "Size norm & filtered data :  (3584, 153)\n"
     ]
    },
    {
     "name": "stderr",
     "output_type": "stream",
     "text": [
      "<ipython-input-5-154bfa86badc>:37: DeprecationWarning: fir_design defaults to \"firwin2\" in 0.15 but will change to \"firwin\" in 0.16, set it explicitly to avoid this warning.\n",
      "  h_freq=low_pass_filter, method='fir', phase='zero-double').swapaxes(0,1)\n"
     ]
    },
    {
     "name": "stdout",
     "output_type": "stream",
     "text": [
      "-> Shape of all trials data to plot :  (23, 153)\n",
      "-> Shape of time vector :  23\n",
      "/media/karim/Datas4To/1_Analyses_Intra_EM_Odor/Olfacto/feature/ERP_Odor_No_Odor/Retrieval/LEFC_ERP_AngG-OcG_w10-w9_(124).png\n",
      "data to save (23, 153) cond0 (125, 23, 24) cond1 (125, 23, 129)\n",
      "Setting up low-pass filter at 10 Hz\n",
      "fir_design defaults to \"firwin2\" in 0.15 but will change to \"firwin\" in 0.16, set it explicitly to avoid this warning.\n",
      "h_trans_bandwidth chosen to be 2.5 Hz\n",
      "Filter length of 1352 samples (2.641 sec) selected\n",
      "Size of filtered data: (3584, 153)\n",
      "time points :  (3584,)\n",
      "Applying baseline correction (mode: mean)\n",
      "Size norm & filtered data :  (3584, 153)\n"
     ]
    },
    {
     "name": "stderr",
     "output_type": "stream",
     "text": [
      "<ipython-input-5-154bfa86badc>:37: DeprecationWarning: fir_design defaults to \"firwin2\" in 0.15 but will change to \"firwin\" in 0.16, set it explicitly to avoid this warning.\n",
      "  h_freq=low_pass_filter, method='fir', phase='zero-double').swapaxes(0,1)\n"
     ]
    },
    {
     "name": "stdout",
     "output_type": "stream",
     "text": [
      "-> Shape of all trials data to plot :  (23, 153)\n",
      "-> Shape of time vector :  23\n",
      "/media/karim/Datas4To/1_Analyses_Intra_EM_Odor/Olfacto/feature/ERP_Odor_No_Odor/Retrieval/LEFC_ERP_AngG-OcG_w11-w10_(125).png\n",
      "data to save (23, 153) cond0 (126, 23, 24) cond1 (126, 23, 129)\n",
      "Setting up low-pass filter at 10 Hz\n",
      "fir_design defaults to \"firwin2\" in 0.15 but will change to \"firwin\" in 0.16, set it explicitly to avoid this warning.\n",
      "h_trans_bandwidth chosen to be 2.5 Hz\n",
      "Filter length of 1352 samples (2.641 sec) selected\n",
      "Size of filtered data: (3584, 153)\n",
      "time points :  (3584,)\n",
      "Applying baseline correction (mode: mean)\n",
      "Size norm & filtered data :  (3584, 153)\n"
     ]
    },
    {
     "name": "stderr",
     "output_type": "stream",
     "text": [
      "<ipython-input-5-154bfa86badc>:37: DeprecationWarning: fir_design defaults to \"firwin2\" in 0.15 but will change to \"firwin\" in 0.16, set it explicitly to avoid this warning.\n",
      "  h_freq=low_pass_filter, method='fir', phase='zero-double').swapaxes(0,1)\n"
     ]
    },
    {
     "name": "stdout",
     "output_type": "stream",
     "text": [
      "-> Shape of all trials data to plot :  (23, 153)\n",
      "-> Shape of time vector :  23\n",
      "/media/karim/Datas4To/1_Analyses_Intra_EM_Odor/Olfacto/feature/ERP_Odor_No_Odor/Retrieval/LEFC_ERP_AngG-OcG_w12-w11_(126).png\n",
      "data to save (23, 153) cond0 (127, 23, 24) cond1 (127, 23, 129)\n",
      "Setting up low-pass filter at 10 Hz\n",
      "fir_design defaults to \"firwin2\" in 0.15 but will change to \"firwin\" in 0.16, set it explicitly to avoid this warning.\n",
      "h_trans_bandwidth chosen to be 2.5 Hz\n",
      "Filter length of 1352 samples (2.641 sec) selected\n",
      "Size of filtered data: (3584, 153)\n",
      "time points :  (3584,)\n",
      "Applying baseline correction (mode: mean)\n",
      "Size norm & filtered data :  (3584, 153)\n"
     ]
    },
    {
     "name": "stderr",
     "output_type": "stream",
     "text": [
      "<ipython-input-5-154bfa86badc>:37: DeprecationWarning: fir_design defaults to \"firwin2\" in 0.15 but will change to \"firwin\" in 0.16, set it explicitly to avoid this warning.\n",
      "  h_freq=low_pass_filter, method='fir', phase='zero-double').swapaxes(0,1)\n"
     ]
    },
    {
     "name": "stdout",
     "output_type": "stream",
     "text": [
      "-> Shape of all trials data to plot :  (23, 153)\n",
      "-> Shape of time vector :  23\n",
      "/media/karim/Datas4To/1_Analyses_Intra_EM_Odor/Olfacto/feature/ERP_Odor_No_Odor/Retrieval/LEFC_ERP_PCun_x2-x1_(127).png\n",
      "data to save (23, 153) cond0 (128, 23, 24) cond1 (128, 23, 129)\n",
      "Setting up low-pass filter at 10 Hz\n",
      "fir_design defaults to \"firwin2\" in 0.15 but will change to \"firwin\" in 0.16, set it explicitly to avoid this warning.\n",
      "h_trans_bandwidth chosen to be 2.5 Hz\n",
      "Filter length of 1352 samples (2.641 sec) selected\n",
      "Size of filtered data: (3584, 153)\n",
      "time points :  (3584,)\n",
      "Applying baseline correction (mode: mean)\n",
      "Size norm & filtered data :  (3584, 153)\n"
     ]
    },
    {
     "name": "stderr",
     "output_type": "stream",
     "text": [
      "<ipython-input-5-154bfa86badc>:37: DeprecationWarning: fir_design defaults to \"firwin2\" in 0.15 but will change to \"firwin\" in 0.16, set it explicitly to avoid this warning.\n",
      "  h_freq=low_pass_filter, method='fir', phase='zero-double').swapaxes(0,1)\n"
     ]
    },
    {
     "name": "stdout",
     "output_type": "stream",
     "text": [
      "-> Shape of all trials data to plot :  (23, 153)\n",
      "-> Shape of time vector :  23\n",
      "/media/karim/Datas4To/1_Analyses_Intra_EM_Odor/Olfacto/feature/ERP_Odor_No_Odor/Retrieval/LEFC_ERP_PCun_x3-x2_(128).png\n",
      "data to save (23, 153) cond0 (129, 23, 24) cond1 (129, 23, 129)\n",
      "Setting up low-pass filter at 10 Hz\n",
      "fir_design defaults to \"firwin2\" in 0.15 but will change to \"firwin\" in 0.16, set it explicitly to avoid this warning.\n",
      "h_trans_bandwidth chosen to be 2.5 Hz\n",
      "Filter length of 1352 samples (2.641 sec) selected\n",
      "Size of filtered data: (3584, 153)\n",
      "time points :  (3584,)\n",
      "Applying baseline correction (mode: mean)\n",
      "Size norm & filtered data :  (3584, 153)\n"
     ]
    },
    {
     "name": "stderr",
     "output_type": "stream",
     "text": [
      "<ipython-input-5-154bfa86badc>:37: DeprecationWarning: fir_design defaults to \"firwin2\" in 0.15 but will change to \"firwin\" in 0.16, set it explicitly to avoid this warning.\n",
      "  h_freq=low_pass_filter, method='fir', phase='zero-double').swapaxes(0,1)\n"
     ]
    },
    {
     "name": "stdout",
     "output_type": "stream",
     "text": [
      "-> Shape of all trials data to plot :  (23, 153)\n",
      "-> Shape of time vector :  23\n",
      "/media/karim/Datas4To/1_Analyses_Intra_EM_Odor/Olfacto/feature/ERP_Odor_No_Odor/Retrieval/LEFC_ERP_PCun-SPL-SMG&PCun_x4-x3_(129).png\n",
      "data to save (23, 153) cond0 (130, 23, 24) cond1 (130, 23, 129)\n",
      "Setting up low-pass filter at 10 Hz\n",
      "fir_design defaults to \"firwin2\" in 0.15 but will change to \"firwin\" in 0.16, set it explicitly to avoid this warning.\n",
      "h_trans_bandwidth chosen to be 2.5 Hz\n",
      "Filter length of 1352 samples (2.641 sec) selected\n",
      "Size of filtered data: (3584, 153)\n",
      "time points :  (3584,)\n",
      "Applying baseline correction (mode: mean)\n",
      "Size norm & filtered data :  (3584, 153)\n"
     ]
    },
    {
     "name": "stderr",
     "output_type": "stream",
     "text": [
      "<ipython-input-5-154bfa86badc>:37: DeprecationWarning: fir_design defaults to \"firwin2\" in 0.15 but will change to \"firwin\" in 0.16, set it explicitly to avoid this warning.\n",
      "  h_freq=low_pass_filter, method='fir', phase='zero-double').swapaxes(0,1)\n"
     ]
    },
    {
     "name": "stdout",
     "output_type": "stream",
     "text": [
      "-> Shape of all trials data to plot :  (23, 153)\n",
      "-> Shape of time vector :  23\n",
      "/media/karim/Datas4To/1_Analyses_Intra_EM_Odor/Olfacto/feature/ERP_Odor_No_Odor/Retrieval/LEFC_ERP_SPL-SMG&PCun-SPL-SMG_x5-x4_(130).png\n",
      "data to save (23, 153) cond0 (131, 23, 24) cond1 (131, 23, 129)\n",
      "Setting up low-pass filter at 10 Hz\n",
      "fir_design defaults to \"firwin2\" in 0.15 but will change to \"firwin\" in 0.16, set it explicitly to avoid this warning.\n",
      "h_trans_bandwidth chosen to be 2.5 Hz\n",
      "Filter length of 1352 samples (2.641 sec) selected\n",
      "Size of filtered data: (3584, 153)\n",
      "time points :  (3584,)\n",
      "Applying baseline correction (mode: mean)\n",
      "Size norm & filtered data :  (3584, 153)\n"
     ]
    },
    {
     "name": "stderr",
     "output_type": "stream",
     "text": [
      "<ipython-input-5-154bfa86badc>:37: DeprecationWarning: fir_design defaults to \"firwin2\" in 0.15 but will change to \"firwin\" in 0.16, set it explicitly to avoid this warning.\n",
      "  h_freq=low_pass_filter, method='fir', phase='zero-double').swapaxes(0,1)\n"
     ]
    },
    {
     "name": "stdout",
     "output_type": "stream",
     "text": [
      "-> Shape of all trials data to plot :  (23, 153)\n",
      "-> Shape of time vector :  23\n",
      "/media/karim/Datas4To/1_Analyses_Intra_EM_Odor/Olfacto/feature/ERP_Odor_No_Odor/Retrieval/LEFC_ERP_SPL-SMG_x6-x5_(131).png\n",
      "data to save (23, 153) cond0 (132, 23, 24) cond1 (132, 23, 129)\n",
      "Setting up low-pass filter at 10 Hz\n",
      "fir_design defaults to \"firwin2\" in 0.15 but will change to \"firwin\" in 0.16, set it explicitly to avoid this warning.\n",
      "h_trans_bandwidth chosen to be 2.5 Hz\n",
      "Filter length of 1352 samples (2.641 sec) selected\n",
      "Size of filtered data: (3584, 153)\n",
      "time points :  (3584,)\n",
      "Applying baseline correction (mode: mean)\n",
      "Size norm & filtered data :  (3584, 153)\n"
     ]
    },
    {
     "name": "stderr",
     "output_type": "stream",
     "text": [
      "<ipython-input-5-154bfa86badc>:37: DeprecationWarning: fir_design defaults to \"firwin2\" in 0.15 but will change to \"firwin\" in 0.16, set it explicitly to avoid this warning.\n",
      "  h_freq=low_pass_filter, method='fir', phase='zero-double').swapaxes(0,1)\n"
     ]
    },
    {
     "name": "stdout",
     "output_type": "stream",
     "text": [
      "-> Shape of all trials data to plot :  (23, 153)\n",
      "-> Shape of time vector :  23\n",
      "/media/karim/Datas4To/1_Analyses_Intra_EM_Odor/Olfacto/feature/ERP_Odor_No_Odor/Retrieval/LEFC_ERP_SPL-SMG_x7-x6_(132).png\n",
      "data to save (23, 153) cond0 (133, 23, 24) cond1 (133, 23, 129)\n",
      "Setting up low-pass filter at 10 Hz\n",
      "fir_design defaults to \"firwin2\" in 0.15 but will change to \"firwin\" in 0.16, set it explicitly to avoid this warning.\n",
      "h_trans_bandwidth chosen to be 2.5 Hz\n",
      "Filter length of 1352 samples (2.641 sec) selected\n",
      "Size of filtered data: (3584, 153)\n",
      "time points :  (3584,)\n",
      "Applying baseline correction (mode: mean)\n",
      "Size norm & filtered data :  (3584, 153)\n"
     ]
    },
    {
     "name": "stderr",
     "output_type": "stream",
     "text": [
      "<ipython-input-5-154bfa86badc>:37: DeprecationWarning: fir_design defaults to \"firwin2\" in 0.15 but will change to \"firwin\" in 0.16, set it explicitly to avoid this warning.\n",
      "  h_freq=low_pass_filter, method='fir', phase='zero-double').swapaxes(0,1)\n"
     ]
    },
    {
     "name": "stdout",
     "output_type": "stream",
     "text": [
      "-> Shape of all trials data to plot :  (23, 153)\n",
      "-> Shape of time vector :  23\n",
      "/media/karim/Datas4To/1_Analyses_Intra_EM_Odor/Olfacto/feature/ERP_Odor_No_Odor/Retrieval/LEFC_ERP_SMG&SPL-SMG_x8-x7_(133).png\n",
      "data to save (23, 153) cond0 (134, 23, 24) cond1 (134, 23, 129)\n",
      "Setting up low-pass filter at 10 Hz\n",
      "fir_design defaults to \"firwin2\" in 0.15 but will change to \"firwin\" in 0.16, set it explicitly to avoid this warning.\n",
      "h_trans_bandwidth chosen to be 2.5 Hz\n",
      "Filter length of 1352 samples (2.641 sec) selected\n",
      "Size of filtered data: (3584, 153)\n",
      "time points :  (3584,)\n",
      "Applying baseline correction (mode: mean)\n",
      "Size norm & filtered data :  (3584, 153)\n"
     ]
    },
    {
     "name": "stderr",
     "output_type": "stream",
     "text": [
      "<ipython-input-5-154bfa86badc>:37: DeprecationWarning: fir_design defaults to \"firwin2\" in 0.15 but will change to \"firwin\" in 0.16, set it explicitly to avoid this warning.\n",
      "  h_freq=low_pass_filter, method='fir', phase='zero-double').swapaxes(0,1)\n"
     ]
    },
    {
     "name": "stdout",
     "output_type": "stream",
     "text": [
      "-> Shape of all trials data to plot :  (23, 153)\n",
      "-> Shape of time vector :  23\n",
      "/media/karim/Datas4To/1_Analyses_Intra_EM_Odor/Olfacto/feature/ERP_Odor_No_Odor/Retrieval/LEFC_ERP_SMG_x9-x8_(134).png\n",
      "data to save (23, 153) cond0 (135, 23, 24) cond1 (135, 23, 129)\n",
      "Setting up low-pass filter at 10 Hz\n",
      "fir_design defaults to \"firwin2\" in 0.15 but will change to \"firwin\" in 0.16, set it explicitly to avoid this warning.\n",
      "h_trans_bandwidth chosen to be 2.5 Hz\n",
      "Filter length of 1352 samples (2.641 sec) selected\n",
      "Size of filtered data: (3584, 153)\n",
      "time points :  (3584,)\n",
      "Applying baseline correction (mode: mean)\n",
      "Size norm & filtered data :  (3584, 153)\n"
     ]
    },
    {
     "name": "stderr",
     "output_type": "stream",
     "text": [
      "<ipython-input-5-154bfa86badc>:37: DeprecationWarning: fir_design defaults to \"firwin2\" in 0.15 but will change to \"firwin\" in 0.16, set it explicitly to avoid this warning.\n",
      "  h_freq=low_pass_filter, method='fir', phase='zero-double').swapaxes(0,1)\n"
     ]
    },
    {
     "name": "stdout",
     "output_type": "stream",
     "text": [
      "-> Shape of all trials data to plot :  (23, 153)\n",
      "-> Shape of time vector :  23\n",
      "/media/karim/Datas4To/1_Analyses_Intra_EM_Odor/Olfacto/feature/ERP_Odor_No_Odor/Retrieval/LEFC_ERP_SMG_x10-x9_(135).png\n",
      "data to save (23, 153) cond0 (136, 23, 24) cond1 (136, 23, 129)\n",
      "Setting up low-pass filter at 10 Hz\n",
      "fir_design defaults to \"firwin2\" in 0.15 but will change to \"firwin\" in 0.16, set it explicitly to avoid this warning.\n",
      "h_trans_bandwidth chosen to be 2.5 Hz\n",
      "Filter length of 1352 samples (2.641 sec) selected\n",
      "Size of filtered data: (3584, 153)\n",
      "time points :  (3584,)\n",
      "Applying baseline correction (mode: mean)\n",
      "Size norm & filtered data :  (3584, 153)\n"
     ]
    },
    {
     "name": "stderr",
     "output_type": "stream",
     "text": [
      "<ipython-input-5-154bfa86badc>:37: DeprecationWarning: fir_design defaults to \"firwin2\" in 0.15 but will change to \"firwin\" in 0.16, set it explicitly to avoid this warning.\n",
      "  h_freq=low_pass_filter, method='fir', phase='zero-double').swapaxes(0,1)\n"
     ]
    },
    {
     "name": "stdout",
     "output_type": "stream",
     "text": [
      "-> Shape of all trials data to plot :  (23, 153)\n",
      "-> Shape of time vector :  23\n",
      "/media/karim/Datas4To/1_Analyses_Intra_EM_Odor/Olfacto/feature/ERP_Odor_No_Odor/Retrieval/LEFC_ERP_SMG_x11-x10_(136).png\n",
      "data to save (23, 153) cond0 (137, 23, 24) cond1 (137, 23, 129)\n",
      "Setting up low-pass filter at 10 Hz\n",
      "fir_design defaults to \"firwin2\" in 0.15 but will change to \"firwin\" in 0.16, set it explicitly to avoid this warning.\n",
      "h_trans_bandwidth chosen to be 2.5 Hz\n",
      "Filter length of 1352 samples (2.641 sec) selected\n",
      "Size of filtered data: (3584, 153)\n",
      "time points :  (3584,)\n",
      "Applying baseline correction (mode: mean)\n",
      "Size norm & filtered data :  (3584, 153)\n"
     ]
    },
    {
     "name": "stderr",
     "output_type": "stream",
     "text": [
      "<ipython-input-5-154bfa86badc>:37: DeprecationWarning: fir_design defaults to \"firwin2\" in 0.15 but will change to \"firwin\" in 0.16, set it explicitly to avoid this warning.\n",
      "  h_freq=low_pass_filter, method='fir', phase='zero-double').swapaxes(0,1)\n"
     ]
    },
    {
     "name": "stdout",
     "output_type": "stream",
     "text": [
      "-> Shape of all trials data to plot :  (23, 153)\n",
      "-> Shape of time vector :  23\n",
      "/media/karim/Datas4To/1_Analyses_Intra_EM_Odor/Olfacto/feature/ERP_Odor_No_Odor/Retrieval/LEFC_ERP_SMG_x12-x11_(137).png\n",
      "data to save (23, 153) cond0 (138, 23, 24) cond1 (138, 23, 129)\n",
      "Setting up low-pass filter at 10 Hz\n",
      "fir_design defaults to \"firwin2\" in 0.15 but will change to \"firwin\" in 0.16, set it explicitly to avoid this warning.\n",
      "h_trans_bandwidth chosen to be 2.5 Hz\n",
      "Filter length of 1352 samples (2.641 sec) selected\n",
      "Size of filtered data: (3584, 153)\n",
      "time points :  (3584,)\n",
      "Applying baseline correction (mode: mean)\n",
      "Size norm & filtered data :  (3584, 153)\n"
     ]
    },
    {
     "name": "stderr",
     "output_type": "stream",
     "text": [
      "<ipython-input-5-154bfa86badc>:37: DeprecationWarning: fir_design defaults to \"firwin2\" in 0.15 but will change to \"firwin\" in 0.16, set it explicitly to avoid this warning.\n",
      "  h_freq=low_pass_filter, method='fir', phase='zero-double').swapaxes(0,1)\n"
     ]
    },
    {
     "name": "stdout",
     "output_type": "stream",
     "text": [
      "-> Shape of all trials data to plot :  (23, 153)\n",
      "-> Shape of time vector :  23\n",
      "/media/karim/Datas4To/1_Analyses_Intra_EM_Odor/Olfacto/feature/ERP_Odor_No_Odor/Retrieval/LEFC_ERP_SMG_x13-x12_(138).png\n",
      "data to save (23, 153) cond0 (139, 23, 24) cond1 (139, 23, 129)\n",
      "Setting up low-pass filter at 10 Hz\n",
      "fir_design defaults to \"firwin2\" in 0.15 but will change to \"firwin\" in 0.16, set it explicitly to avoid this warning.\n",
      "h_trans_bandwidth chosen to be 2.5 Hz\n",
      "Filter length of 1352 samples (2.641 sec) selected\n",
      "Size of filtered data: (3584, 153)\n",
      "time points :  (3584,)\n",
      "Applying baseline correction (mode: mean)\n",
      "Size norm & filtered data :  (3584, 153)\n"
     ]
    },
    {
     "name": "stderr",
     "output_type": "stream",
     "text": [
      "<ipython-input-5-154bfa86badc>:37: DeprecationWarning: fir_design defaults to \"firwin2\" in 0.15 but will change to \"firwin\" in 0.16, set it explicitly to avoid this warning.\n",
      "  h_freq=low_pass_filter, method='fir', phase='zero-double').swapaxes(0,1)\n"
     ]
    },
    {
     "name": "stdout",
     "output_type": "stream",
     "text": [
      "-> Shape of all trials data to plot :  (23, 153)\n",
      "-> Shape of time vector :  23\n",
      "/media/karim/Datas4To/1_Analyses_Intra_EM_Odor/Olfacto/feature/ERP_Odor_No_Odor/Retrieval/LEFC_ERP_SMG_x14-x13_(139).png\n",
      "data to save (23, 153) cond0 (140, 23, 24) cond1 (140, 23, 129)\n",
      "Setting up low-pass filter at 10 Hz\n",
      "fir_design defaults to \"firwin2\" in 0.15 but will change to \"firwin\" in 0.16, set it explicitly to avoid this warning.\n",
      "h_trans_bandwidth chosen to be 2.5 Hz\n",
      "Filter length of 1352 samples (2.641 sec) selected\n",
      "Size of filtered data: (3584, 153)\n",
      "time points :  (3584,)\n",
      "Applying baseline correction (mode: mean)\n",
      "Size norm & filtered data :  (3584, 153)\n"
     ]
    },
    {
     "name": "stderr",
     "output_type": "stream",
     "text": [
      "<ipython-input-5-154bfa86badc>:37: DeprecationWarning: fir_design defaults to \"firwin2\" in 0.15 but will change to \"firwin\" in 0.16, set it explicitly to avoid this warning.\n",
      "  h_freq=low_pass_filter, method='fir', phase='zero-double').swapaxes(0,1)\n"
     ]
    },
    {
     "name": "stdout",
     "output_type": "stream",
     "text": [
      "-> Shape of all trials data to plot :  (23, 153)\n",
      "-> Shape of time vector :  23\n",
      "/media/karim/Datas4To/1_Analyses_Intra_EM_Odor/Olfacto/feature/ERP_Odor_No_Odor/Retrieval/LEFC_ERP_PCun_y2-y1_(140).png\n",
      "data to save (23, 153) cond0 (141, 23, 24) cond1 (141, 23, 129)\n",
      "Setting up low-pass filter at 10 Hz\n",
      "fir_design defaults to \"firwin2\" in 0.15 but will change to \"firwin\" in 0.16, set it explicitly to avoid this warning.\n",
      "h_trans_bandwidth chosen to be 2.5 Hz\n",
      "Filter length of 1352 samples (2.641 sec) selected\n",
      "Size of filtered data: (3584, 153)\n",
      "time points :  (3584,)\n",
      "Applying baseline correction (mode: mean)\n",
      "Size norm & filtered data :  (3584, 153)\n"
     ]
    },
    {
     "name": "stderr",
     "output_type": "stream",
     "text": [
      "<ipython-input-5-154bfa86badc>:37: DeprecationWarning: fir_design defaults to \"firwin2\" in 0.15 but will change to \"firwin\" in 0.16, set it explicitly to avoid this warning.\n",
      "  h_freq=low_pass_filter, method='fir', phase='zero-double').swapaxes(0,1)\n"
     ]
    },
    {
     "name": "stdout",
     "output_type": "stream",
     "text": [
      "-> Shape of all trials data to plot :  (23, 153)\n",
      "-> Shape of time vector :  23\n",
      "/media/karim/Datas4To/1_Analyses_Intra_EM_Odor/Olfacto/feature/ERP_Odor_No_Odor/Retrieval/LEFC_ERP_PCun-OcG&PCun_y3-y2_(141).png\n",
      "data to save (23, 153) cond0 (142, 23, 24) cond1 (142, 23, 129)\n",
      "Setting up low-pass filter at 10 Hz\n",
      "fir_design defaults to \"firwin2\" in 0.15 but will change to \"firwin\" in 0.16, set it explicitly to avoid this warning.\n",
      "h_trans_bandwidth chosen to be 2.5 Hz\n",
      "Filter length of 1352 samples (2.641 sec) selected\n",
      "Size of filtered data: (3584, 153)\n",
      "time points :  (3584,)\n",
      "Applying baseline correction (mode: mean)\n",
      "Size norm & filtered data :  (3584, 153)\n"
     ]
    },
    {
     "name": "stderr",
     "output_type": "stream",
     "text": [
      "<ipython-input-5-154bfa86badc>:37: DeprecationWarning: fir_design defaults to \"firwin2\" in 0.15 but will change to \"firwin\" in 0.16, set it explicitly to avoid this warning.\n",
      "  h_freq=low_pass_filter, method='fir', phase='zero-double').swapaxes(0,1)\n"
     ]
    },
    {
     "name": "stdout",
     "output_type": "stream",
     "text": [
      "-> Shape of all trials data to plot :  (23, 153)\n",
      "-> Shape of time vector :  23\n",
      "/media/karim/Datas4To/1_Analyses_Intra_EM_Odor/Olfacto/feature/ERP_Odor_No_Odor/Retrieval/LEFC_ERP_PCun-OcG_y4-y3_(142).png\n",
      "data to save (23, 153) cond0 (143, 23, 24) cond1 (143, 23, 129)\n",
      "Setting up low-pass filter at 10 Hz\n",
      "fir_design defaults to \"firwin2\" in 0.15 but will change to \"firwin\" in 0.16, set it explicitly to avoid this warning.\n",
      "h_trans_bandwidth chosen to be 2.5 Hz\n",
      "Filter length of 1352 samples (2.641 sec) selected\n",
      "Size of filtered data: (3584, 153)\n",
      "time points :  (3584,)\n",
      "Applying baseline correction (mode: mean)\n",
      "Size norm & filtered data :  (3584, 153)\n"
     ]
    },
    {
     "name": "stderr",
     "output_type": "stream",
     "text": [
      "<ipython-input-5-154bfa86badc>:37: DeprecationWarning: fir_design defaults to \"firwin2\" in 0.15 but will change to \"firwin\" in 0.16, set it explicitly to avoid this warning.\n",
      "  h_freq=low_pass_filter, method='fir', phase='zero-double').swapaxes(0,1)\n"
     ]
    },
    {
     "name": "stdout",
     "output_type": "stream",
     "text": [
      "-> Shape of all trials data to plot :  (23, 153)\n",
      "-> Shape of time vector :  23\n",
      "/media/karim/Datas4To/1_Analyses_Intra_EM_Odor/Olfacto/feature/ERP_Odor_No_Odor/Retrieval/LEFC_ERP_PCun-OcG_y5-y4_(143).png\n",
      "data to save (23, 153) cond0 (144, 23, 24) cond1 (144, 23, 129)\n",
      "Setting up low-pass filter at 10 Hz\n",
      "fir_design defaults to \"firwin2\" in 0.15 but will change to \"firwin\" in 0.16, set it explicitly to avoid this warning.\n",
      "h_trans_bandwidth chosen to be 2.5 Hz\n",
      "Filter length of 1352 samples (2.641 sec) selected\n",
      "Size of filtered data: (3584, 153)\n",
      "time points :  (3584,)\n",
      "Applying baseline correction (mode: mean)\n",
      "Size norm & filtered data :  (3584, 153)\n"
     ]
    },
    {
     "name": "stderr",
     "output_type": "stream",
     "text": [
      "<ipython-input-5-154bfa86badc>:37: DeprecationWarning: fir_design defaults to \"firwin2\" in 0.15 but will change to \"firwin\" in 0.16, set it explicitly to avoid this warning.\n",
      "  h_freq=low_pass_filter, method='fir', phase='zero-double').swapaxes(0,1)\n"
     ]
    },
    {
     "name": "stdout",
     "output_type": "stream",
     "text": [
      "-> Shape of all trials data to plot :  (23, 153)\n",
      "-> Shape of time vector :  23\n",
      "/media/karim/Datas4To/1_Analyses_Intra_EM_Odor/Olfacto/feature/ERP_Odor_No_Odor/Retrieval/LEFC_ERP_AngG-STG_y12-y11_(144).png\n",
      "data to save (23, 153) cond0 (145, 23, 24) cond1 (145, 23, 129)\n",
      "Setting up low-pass filter at 10 Hz\n",
      "fir_design defaults to \"firwin2\" in 0.15 but will change to \"firwin\" in 0.16, set it explicitly to avoid this warning.\n",
      "h_trans_bandwidth chosen to be 2.5 Hz\n",
      "Filter length of 1352 samples (2.641 sec) selected\n",
      "Size of filtered data: (3584, 153)\n",
      "time points :  (3584,)\n",
      "Applying baseline correction (mode: mean)\n",
      "Size norm & filtered data :  (3584, 153)\n"
     ]
    },
    {
     "name": "stderr",
     "output_type": "stream",
     "text": [
      "<ipython-input-5-154bfa86badc>:37: DeprecationWarning: fir_design defaults to \"firwin2\" in 0.15 but will change to \"firwin\" in 0.16, set it explicitly to avoid this warning.\n",
      "  h_freq=low_pass_filter, method='fir', phase='zero-double').swapaxes(0,1)\n"
     ]
    },
    {
     "name": "stdout",
     "output_type": "stream",
     "text": [
      "-> Shape of all trials data to plot :  (23, 153)\n",
      "-> Shape of time vector :  23\n",
      "/media/karim/Datas4To/1_Analyses_Intra_EM_Odor/Olfacto/feature/ERP_Odor_No_Odor/Retrieval/LEFC_ERP_STG&AngG-STG_y13-y12_(145).png\n",
      "data to save (23, 153) cond0 (146, 23, 24) cond1 (146, 23, 129)\n",
      "Setting up low-pass filter at 10 Hz\n",
      "fir_design defaults to \"firwin2\" in 0.15 but will change to \"firwin\" in 0.16, set it explicitly to avoid this warning.\n",
      "h_trans_bandwidth chosen to be 2.5 Hz\n",
      "Filter length of 1352 samples (2.641 sec) selected\n",
      "Size of filtered data: (3584, 153)\n",
      "time points :  (3584,)\n",
      "Applying baseline correction (mode: mean)\n",
      "Size norm & filtered data :  (3584, 153)\n"
     ]
    },
    {
     "name": "stderr",
     "output_type": "stream",
     "text": [
      "<ipython-input-5-154bfa86badc>:37: DeprecationWarning: fir_design defaults to \"firwin2\" in 0.15 but will change to \"firwin\" in 0.16, set it explicitly to avoid this warning.\n",
      "  h_freq=low_pass_filter, method='fir', phase='zero-double').swapaxes(0,1)\n"
     ]
    },
    {
     "name": "stdout",
     "output_type": "stream",
     "text": [
      "-> Shape of all trials data to plot :  (23, 153)\n",
      "-> Shape of time vector :  23\n",
      "/media/karim/Datas4To/1_Analyses_Intra_EM_Odor/Olfacto/feature/ERP_Odor_No_Odor/Retrieval/LEFC_ERP_STG_y14-y13_(146).png\n",
      "data to save (23, 153) cond0 (147, 23, 24) cond1 (147, 23, 129)\n",
      "Setting up low-pass filter at 10 Hz\n",
      "fir_design defaults to \"firwin2\" in 0.15 but will change to \"firwin\" in 0.16, set it explicitly to avoid this warning.\n",
      "h_trans_bandwidth chosen to be 2.5 Hz\n",
      "Filter length of 1352 samples (2.641 sec) selected\n",
      "Size of filtered data: (3584, 153)\n",
      "time points :  (3584,)\n",
      "Applying baseline correction (mode: mean)\n",
      "Size norm & filtered data :  (3584, 153)\n"
     ]
    },
    {
     "name": "stderr",
     "output_type": "stream",
     "text": [
      "<ipython-input-5-154bfa86badc>:37: DeprecationWarning: fir_design defaults to \"firwin2\" in 0.15 but will change to \"firwin\" in 0.16, set it explicitly to avoid this warning.\n",
      "  h_freq=low_pass_filter, method='fir', phase='zero-double').swapaxes(0,1)\n"
     ]
    },
    {
     "name": "stdout",
     "output_type": "stream",
     "text": [
      "-> Shape of all trials data to plot :  (23, 153)\n",
      "-> Shape of time vector :  23\n",
      "/media/karim/Datas4To/1_Analyses_Intra_EM_Odor/Olfacto/feature/ERP_Odor_No_Odor/Retrieval/LEFC_ERP_STG_y15-y14_(147).png\n",
      "data to save (23, 153) cond0 (148, 23, 24) cond1 (148, 23, 129)\n",
      "(148, 23, 129) (148, 23, 24)\n",
      "PIRJ (61, 3584, 133) (61, 3584, 32)\n",
      "Setting up low-pass filter at 10 Hz\n",
      "fir_design defaults to \"firwin2\" in 0.15 but will change to \"firwin\" in 0.16, set it explicitly to avoid this warning.\n",
      "h_trans_bandwidth chosen to be 2.5 Hz\n",
      "Filter length of 1352 samples (2.641 sec) selected\n",
      "Size of filtered data: (3584, 165)\n",
      "time points :  (3584,)\n",
      "Applying baseline correction (mode: mean)\n",
      "Size norm & filtered data :  (3584, 165)\n"
     ]
    },
    {
     "name": "stderr",
     "output_type": "stream",
     "text": [
      "<ipython-input-5-154bfa86badc>:37: DeprecationWarning: fir_design defaults to \"firwin2\" in 0.15 but will change to \"firwin\" in 0.16, set it explicitly to avoid this warning.\n",
      "  h_freq=low_pass_filter, method='fir', phase='zero-double').swapaxes(0,1)\n"
     ]
    },
    {
     "name": "stdout",
     "output_type": "stream",
     "text": [
      "-> Shape of all trials data to plot :  (23, 165)\n",
      "-> Shape of time vector :  23\n",
      "/media/karim/Datas4To/1_Analyses_Intra_EM_Odor/Olfacto/feature/ERP_Odor_No_Odor/Retrieval/PIRJ_ERP_aHC_b2-b1_(0).png\n",
      "data to save (23, 165) cond0 (1, 23, 32) cond1 (1, 23, 133)\n",
      "Setting up low-pass filter at 10 Hz\n",
      "fir_design defaults to \"firwin2\" in 0.15 but will change to \"firwin\" in 0.16, set it explicitly to avoid this warning.\n",
      "h_trans_bandwidth chosen to be 2.5 Hz\n",
      "Filter length of 1352 samples (2.641 sec) selected\n",
      "Size of filtered data: (3584, 165)\n",
      "time points :  (3584,)\n",
      "Applying baseline correction (mode: mean)\n",
      "Size norm & filtered data :  (3584, 165)\n"
     ]
    },
    {
     "name": "stderr",
     "output_type": "stream",
     "text": [
      "<ipython-input-5-154bfa86badc>:37: DeprecationWarning: fir_design defaults to \"firwin2\" in 0.15 but will change to \"firwin\" in 0.16, set it explicitly to avoid this warning.\n",
      "  h_freq=low_pass_filter, method='fir', phase='zero-double').swapaxes(0,1)\n"
     ]
    },
    {
     "name": "stdout",
     "output_type": "stream",
     "text": [
      "-> Shape of all trials data to plot :  (23, 165)\n",
      "-> Shape of time vector :  23\n",
      "/media/karim/Datas4To/1_Analyses_Intra_EM_Odor/Olfacto/feature/ERP_Odor_No_Odor/Retrieval/PIRJ_ERP_aHC_b3-b2_(1).png\n",
      "data to save (23, 165) cond0 (2, 23, 32) cond1 (2, 23, 133)\n",
      "Setting up low-pass filter at 10 Hz\n",
      "fir_design defaults to \"firwin2\" in 0.15 but will change to \"firwin\" in 0.16, set it explicitly to avoid this warning.\n",
      "h_trans_bandwidth chosen to be 2.5 Hz\n",
      "Filter length of 1352 samples (2.641 sec) selected\n",
      "Size of filtered data: (3584, 165)\n",
      "time points :  (3584,)\n",
      "Applying baseline correction (mode: mean)\n",
      "Size norm & filtered data :  (3584, 165)\n"
     ]
    },
    {
     "name": "stderr",
     "output_type": "stream",
     "text": [
      "<ipython-input-5-154bfa86badc>:37: DeprecationWarning: fir_design defaults to \"firwin2\" in 0.15 but will change to \"firwin\" in 0.16, set it explicitly to avoid this warning.\n",
      "  h_freq=low_pass_filter, method='fir', phase='zero-double').swapaxes(0,1)\n"
     ]
    },
    {
     "name": "stdout",
     "output_type": "stream",
     "text": [
      "-> Shape of all trials data to plot :  (23, 165)\n",
      "-> Shape of time vector :  23\n",
      "/media/karim/Datas4To/1_Analyses_Intra_EM_Odor/Olfacto/feature/ERP_Odor_No_Odor/Retrieval/PIRJ_ERP_aHC_b4-b3_(2).png\n",
      "data to save (23, 165) cond0 (3, 23, 32) cond1 (3, 23, 133)\n",
      "Setting up low-pass filter at 10 Hz\n",
      "fir_design defaults to \"firwin2\" in 0.15 but will change to \"firwin\" in 0.16, set it explicitly to avoid this warning.\n",
      "h_trans_bandwidth chosen to be 2.5 Hz\n",
      "Filter length of 1352 samples (2.641 sec) selected\n",
      "Size of filtered data: (3584, 165)\n",
      "time points :  (3584,)\n",
      "Applying baseline correction (mode: mean)\n",
      "Size norm & filtered data :  (3584, 165)\n"
     ]
    },
    {
     "name": "stderr",
     "output_type": "stream",
     "text": [
      "<ipython-input-5-154bfa86badc>:37: DeprecationWarning: fir_design defaults to \"firwin2\" in 0.15 but will change to \"firwin\" in 0.16, set it explicitly to avoid this warning.\n",
      "  h_freq=low_pass_filter, method='fir', phase='zero-double').swapaxes(0,1)\n"
     ]
    },
    {
     "name": "stdout",
     "output_type": "stream",
     "text": [
      "-> Shape of all trials data to plot :  (23, 165)\n",
      "-> Shape of time vector :  23\n",
      "/media/karim/Datas4To/1_Analyses_Intra_EM_Odor/Olfacto/feature/ERP_Odor_No_Odor/Retrieval/PIRJ_ERP_pMTG_b8-b7_(3).png\n",
      "data to save (23, 165) cond0 (4, 23, 32) cond1 (4, 23, 133)\n",
      "Setting up low-pass filter at 10 Hz\n",
      "fir_design defaults to \"firwin2\" in 0.15 but will change to \"firwin\" in 0.16, set it explicitly to avoid this warning.\n",
      "h_trans_bandwidth chosen to be 2.5 Hz\n",
      "Filter length of 1352 samples (2.641 sec) selected\n",
      "Size of filtered data: (3584, 165)\n",
      "time points :  (3584,)\n",
      "Applying baseline correction (mode: mean)\n",
      "Size norm & filtered data :  (3584, 165)\n"
     ]
    },
    {
     "name": "stderr",
     "output_type": "stream",
     "text": [
      "<ipython-input-5-154bfa86badc>:37: DeprecationWarning: fir_design defaults to \"firwin2\" in 0.15 but will change to \"firwin\" in 0.16, set it explicitly to avoid this warning.\n",
      "  h_freq=low_pass_filter, method='fir', phase='zero-double').swapaxes(0,1)\n"
     ]
    },
    {
     "name": "stdout",
     "output_type": "stream",
     "text": [
      "-> Shape of all trials data to plot :  (23, 165)\n",
      "-> Shape of time vector :  23\n",
      "/media/karim/Datas4To/1_Analyses_Intra_EM_Odor/Olfacto/feature/ERP_Odor_No_Odor/Retrieval/PIRJ_ERP_pMTG_b9-b8_(4).png\n",
      "data to save (23, 165) cond0 (5, 23, 32) cond1 (5, 23, 133)\n",
      "Setting up low-pass filter at 10 Hz\n",
      "fir_design defaults to \"firwin2\" in 0.15 but will change to \"firwin\" in 0.16, set it explicitly to avoid this warning.\n",
      "h_trans_bandwidth chosen to be 2.5 Hz\n",
      "Filter length of 1352 samples (2.641 sec) selected\n",
      "Size of filtered data: (3584, 165)\n",
      "time points :  (3584,)\n",
      "Applying baseline correction (mode: mean)\n",
      "Size norm & filtered data :  (3584, 165)\n"
     ]
    },
    {
     "name": "stderr",
     "output_type": "stream",
     "text": [
      "<ipython-input-5-154bfa86badc>:37: DeprecationWarning: fir_design defaults to \"firwin2\" in 0.15 but will change to \"firwin\" in 0.16, set it explicitly to avoid this warning.\n",
      "  h_freq=low_pass_filter, method='fir', phase='zero-double').swapaxes(0,1)\n"
     ]
    },
    {
     "name": "stdout",
     "output_type": "stream",
     "text": [
      "-> Shape of all trials data to plot :  (23, 165)\n",
      "-> Shape of time vector :  23\n",
      "/media/karim/Datas4To/1_Analyses_Intra_EM_Odor/Olfacto/feature/ERP_Odor_No_Odor/Retrieval/PIRJ_ERP_pMTG_b10-b9_(5).png\n",
      "data to save (23, 165) cond0 (6, 23, 32) cond1 (6, 23, 133)\n",
      "Setting up low-pass filter at 10 Hz\n",
      "fir_design defaults to \"firwin2\" in 0.15 but will change to \"firwin\" in 0.16, set it explicitly to avoid this warning.\n",
      "h_trans_bandwidth chosen to be 2.5 Hz\n",
      "Filter length of 1352 samples (2.641 sec) selected\n",
      "Size of filtered data: (3584, 165)\n",
      "time points :  (3584,)\n",
      "Applying baseline correction (mode: mean)\n",
      "Size norm & filtered data :  (3584, 165)\n"
     ]
    },
    {
     "name": "stderr",
     "output_type": "stream",
     "text": [
      "<ipython-input-5-154bfa86badc>:37: DeprecationWarning: fir_design defaults to \"firwin2\" in 0.15 but will change to \"firwin\" in 0.16, set it explicitly to avoid this warning.\n",
      "  h_freq=low_pass_filter, method='fir', phase='zero-double').swapaxes(0,1)\n"
     ]
    },
    {
     "name": "stdout",
     "output_type": "stream",
     "text": [
      "-> Shape of all trials data to plot :  (23, 165)\n",
      "-> Shape of time vector :  23\n",
      "/media/karim/Datas4To/1_Analyses_Intra_EM_Odor/Olfacto/feature/ERP_Odor_No_Odor/Retrieval/PIRJ_ERP_pMTG_b11-b10_(6).png\n",
      "data to save (23, 165) cond0 (7, 23, 32) cond1 (7, 23, 133)\n",
      "Setting up low-pass filter at 10 Hz\n",
      "fir_design defaults to \"firwin2\" in 0.15 but will change to \"firwin\" in 0.16, set it explicitly to avoid this warning.\n",
      "h_trans_bandwidth chosen to be 2.5 Hz\n",
      "Filter length of 1352 samples (2.641 sec) selected\n",
      "Size of filtered data: (3584, 165)\n",
      "time points :  (3584,)\n",
      "Applying baseline correction (mode: mean)\n",
      "Size norm & filtered data :  (3584, 165)\n"
     ]
    },
    {
     "name": "stderr",
     "output_type": "stream",
     "text": [
      "<ipython-input-5-154bfa86badc>:37: DeprecationWarning: fir_design defaults to \"firwin2\" in 0.15 but will change to \"firwin\" in 0.16, set it explicitly to avoid this warning.\n",
      "  h_freq=low_pass_filter, method='fir', phase='zero-double').swapaxes(0,1)\n"
     ]
    },
    {
     "name": "stdout",
     "output_type": "stream",
     "text": [
      "-> Shape of all trials data to plot :  (23, 165)\n",
      "-> Shape of time vector :  23\n",
      "/media/karim/Datas4To/1_Analyses_Intra_EM_Odor/Olfacto/feature/ERP_Odor_No_Odor/Retrieval/PIRJ_ERP_aHC_b'2-b'1_(7).png\n",
      "data to save (23, 165) cond0 (8, 23, 32) cond1 (8, 23, 133)\n",
      "Setting up low-pass filter at 10 Hz\n",
      "fir_design defaults to \"firwin2\" in 0.15 but will change to \"firwin\" in 0.16, set it explicitly to avoid this warning.\n",
      "h_trans_bandwidth chosen to be 2.5 Hz\n",
      "Filter length of 1352 samples (2.641 sec) selected\n",
      "Size of filtered data: (3584, 165)\n",
      "time points :  (3584,)\n",
      "Applying baseline correction (mode: mean)\n",
      "Size norm & filtered data :  (3584, 165)\n"
     ]
    },
    {
     "name": "stderr",
     "output_type": "stream",
     "text": [
      "<ipython-input-5-154bfa86badc>:37: DeprecationWarning: fir_design defaults to \"firwin2\" in 0.15 but will change to \"firwin\" in 0.16, set it explicitly to avoid this warning.\n",
      "  h_freq=low_pass_filter, method='fir', phase='zero-double').swapaxes(0,1)\n"
     ]
    },
    {
     "name": "stdout",
     "output_type": "stream",
     "text": [
      "-> Shape of all trials data to plot :  (23, 165)\n",
      "-> Shape of time vector :  23\n",
      "/media/karim/Datas4To/1_Analyses_Intra_EM_Odor/Olfacto/feature/ERP_Odor_No_Odor/Retrieval/PIRJ_ERP_aHC_b'3-b'2_(8).png\n",
      "data to save (23, 165) cond0 (9, 23, 32) cond1 (9, 23, 133)\n",
      "Setting up low-pass filter at 10 Hz\n",
      "fir_design defaults to \"firwin2\" in 0.15 but will change to \"firwin\" in 0.16, set it explicitly to avoid this warning.\n",
      "h_trans_bandwidth chosen to be 2.5 Hz\n",
      "Filter length of 1352 samples (2.641 sec) selected\n",
      "Size of filtered data: (3584, 165)\n",
      "time points :  (3584,)\n",
      "Applying baseline correction (mode: mean)\n",
      "Size norm & filtered data :  (3584, 165)\n"
     ]
    },
    {
     "name": "stderr",
     "output_type": "stream",
     "text": [
      "<ipython-input-5-154bfa86badc>:37: DeprecationWarning: fir_design defaults to \"firwin2\" in 0.15 but will change to \"firwin\" in 0.16, set it explicitly to avoid this warning.\n",
      "  h_freq=low_pass_filter, method='fir', phase='zero-double').swapaxes(0,1)\n"
     ]
    },
    {
     "name": "stdout",
     "output_type": "stream",
     "text": [
      "-> Shape of all trials data to plot :  (23, 165)\n",
      "-> Shape of time vector :  23\n",
      "/media/karim/Datas4To/1_Analyses_Intra_EM_Odor/Olfacto/feature/ERP_Odor_No_Odor/Retrieval/PIRJ_ERP_aHC_b'4-b'3_(9).png\n",
      "data to save (23, 165) cond0 (10, 23, 32) cond1 (10, 23, 133)\n",
      "Setting up low-pass filter at 10 Hz\n",
      "fir_design defaults to \"firwin2\" in 0.15 but will change to \"firwin\" in 0.16, set it explicitly to avoid this warning.\n",
      "h_trans_bandwidth chosen to be 2.5 Hz\n",
      "Filter length of 1352 samples (2.641 sec) selected\n",
      "Size of filtered data: (3584, 165)\n",
      "time points :  (3584,)\n",
      "Applying baseline correction (mode: mean)\n",
      "Size norm & filtered data :  (3584, 165)\n"
     ]
    },
    {
     "name": "stderr",
     "output_type": "stream",
     "text": [
      "<ipython-input-5-154bfa86badc>:37: DeprecationWarning: fir_design defaults to \"firwin2\" in 0.15 but will change to \"firwin\" in 0.16, set it explicitly to avoid this warning.\n",
      "  h_freq=low_pass_filter, method='fir', phase='zero-double').swapaxes(0,1)\n"
     ]
    },
    {
     "name": "stdout",
     "output_type": "stream",
     "text": [
      "-> Shape of all trials data to plot :  (23, 165)\n",
      "-> Shape of time vector :  23\n",
      "/media/karim/Datas4To/1_Analyses_Intra_EM_Odor/Olfacto/feature/ERP_Odor_No_Odor/Retrieval/PIRJ_ERP_pMTG_b'9-b'8_(10).png\n",
      "data to save (23, 165) cond0 (11, 23, 32) cond1 (11, 23, 133)\n",
      "Setting up low-pass filter at 10 Hz\n",
      "fir_design defaults to \"firwin2\" in 0.15 but will change to \"firwin\" in 0.16, set it explicitly to avoid this warning.\n",
      "h_trans_bandwidth chosen to be 2.5 Hz\n",
      "Filter length of 1352 samples (2.641 sec) selected\n",
      "Size of filtered data: (3584, 165)\n",
      "time points :  (3584,)\n",
      "Applying baseline correction (mode: mean)\n",
      "Size norm & filtered data :  (3584, 165)\n"
     ]
    },
    {
     "name": "stderr",
     "output_type": "stream",
     "text": [
      "<ipython-input-5-154bfa86badc>:37: DeprecationWarning: fir_design defaults to \"firwin2\" in 0.15 but will change to \"firwin\" in 0.16, set it explicitly to avoid this warning.\n",
      "  h_freq=low_pass_filter, method='fir', phase='zero-double').swapaxes(0,1)\n"
     ]
    },
    {
     "name": "stdout",
     "output_type": "stream",
     "text": [
      "-> Shape of all trials data to plot :  (23, 165)\n",
      "-> Shape of time vector :  23\n",
      "/media/karim/Datas4To/1_Analyses_Intra_EM_Odor/Olfacto/feature/ERP_Odor_No_Odor/Retrieval/PIRJ_ERP_pMTG_b'10-b'9_(11).png\n",
      "data to save (23, 165) cond0 (12, 23, 32) cond1 (12, 23, 133)\n",
      "Setting up low-pass filter at 10 Hz\n",
      "fir_design defaults to \"firwin2\" in 0.15 but will change to \"firwin\" in 0.16, set it explicitly to avoid this warning.\n",
      "h_trans_bandwidth chosen to be 2.5 Hz\n",
      "Filter length of 1352 samples (2.641 sec) selected\n",
      "Size of filtered data: (3584, 165)\n",
      "time points :  (3584,)\n",
      "Applying baseline correction (mode: mean)\n",
      "Size norm & filtered data :  (3584, 165)\n"
     ]
    },
    {
     "name": "stderr",
     "output_type": "stream",
     "text": [
      "<ipython-input-5-154bfa86badc>:37: DeprecationWarning: fir_design defaults to \"firwin2\" in 0.15 but will change to \"firwin\" in 0.16, set it explicitly to avoid this warning.\n",
      "  h_freq=low_pass_filter, method='fir', phase='zero-double').swapaxes(0,1)\n"
     ]
    },
    {
     "name": "stdout",
     "output_type": "stream",
     "text": [
      "-> Shape of all trials data to plot :  (23, 165)\n",
      "-> Shape of time vector :  23\n",
      "/media/karim/Datas4To/1_Analyses_Intra_EM_Odor/Olfacto/feature/ERP_Odor_No_Odor/Retrieval/PIRJ_ERP_pMTG_b'11-b'10_(12).png\n",
      "data to save (23, 165) cond0 (13, 23, 32) cond1 (13, 23, 133)\n",
      "Setting up low-pass filter at 10 Hz\n",
      "fir_design defaults to \"firwin2\" in 0.15 but will change to \"firwin\" in 0.16, set it explicitly to avoid this warning.\n",
      "h_trans_bandwidth chosen to be 2.5 Hz\n",
      "Filter length of 1352 samples (2.641 sec) selected\n",
      "Size of filtered data: (3584, 165)\n",
      "time points :  (3584,)\n",
      "Applying baseline correction (mode: mean)\n",
      "Size norm & filtered data :  (3584, 165)\n"
     ]
    },
    {
     "name": "stderr",
     "output_type": "stream",
     "text": [
      "<ipython-input-5-154bfa86badc>:37: DeprecationWarning: fir_design defaults to \"firwin2\" in 0.15 but will change to \"firwin\" in 0.16, set it explicitly to avoid this warning.\n",
      "  h_freq=low_pass_filter, method='fir', phase='zero-double').swapaxes(0,1)\n"
     ]
    },
    {
     "name": "stdout",
     "output_type": "stream",
     "text": [
      "-> Shape of all trials data to plot :  (23, 165)\n",
      "-> Shape of time vector :  23\n",
      "/media/karim/Datas4To/1_Analyses_Intra_EM_Odor/Olfacto/feature/ERP_Odor_No_Odor/Retrieval/PIRJ_ERP_pMTG_b'12-b'11_(13).png\n",
      "data to save (23, 165) cond0 (14, 23, 32) cond1 (14, 23, 133)\n",
      "Setting up low-pass filter at 10 Hz\n",
      "fir_design defaults to \"firwin2\" in 0.15 but will change to \"firwin\" in 0.16, set it explicitly to avoid this warning.\n",
      "h_trans_bandwidth chosen to be 2.5 Hz\n",
      "Filter length of 1352 samples (2.641 sec) selected\n",
      "Size of filtered data: (3584, 165)\n",
      "time points :  (3584,)\n",
      "Applying baseline correction (mode: mean)\n",
      "Size norm & filtered data :  (3584, 165)\n"
     ]
    },
    {
     "name": "stderr",
     "output_type": "stream",
     "text": [
      "<ipython-input-5-154bfa86badc>:37: DeprecationWarning: fir_design defaults to \"firwin2\" in 0.15 but will change to \"firwin\" in 0.16, set it explicitly to avoid this warning.\n",
      "  h_freq=low_pass_filter, method='fir', phase='zero-double').swapaxes(0,1)\n"
     ]
    },
    {
     "name": "stdout",
     "output_type": "stream",
     "text": [
      "-> Shape of all trials data to plot :  (23, 165)\n",
      "-> Shape of time vector :  23\n",
      "/media/karim/Datas4To/1_Analyses_Intra_EM_Odor/Olfacto/feature/ERP_Odor_No_Odor/Retrieval/PIRJ_ERP_pHC_c2-c1_(14).png\n",
      "data to save (23, 165) cond0 (15, 23, 32) cond1 (15, 23, 133)\n",
      "Setting up low-pass filter at 10 Hz\n",
      "fir_design defaults to \"firwin2\" in 0.15 but will change to \"firwin\" in 0.16, set it explicitly to avoid this warning.\n",
      "h_trans_bandwidth chosen to be 2.5 Hz\n",
      "Filter length of 1352 samples (2.641 sec) selected\n",
      "Size of filtered data: (3584, 165)\n",
      "time points :  (3584,)\n",
      "Applying baseline correction (mode: mean)\n",
      "Size norm & filtered data :  (3584, 165)\n"
     ]
    },
    {
     "name": "stderr",
     "output_type": "stream",
     "text": [
      "<ipython-input-5-154bfa86badc>:37: DeprecationWarning: fir_design defaults to \"firwin2\" in 0.15 but will change to \"firwin\" in 0.16, set it explicitly to avoid this warning.\n",
      "  h_freq=low_pass_filter, method='fir', phase='zero-double').swapaxes(0,1)\n"
     ]
    },
    {
     "name": "stdout",
     "output_type": "stream",
     "text": [
      "-> Shape of all trials data to plot :  (23, 165)\n",
      "-> Shape of time vector :  23\n",
      "/media/karim/Datas4To/1_Analyses_Intra_EM_Odor/Olfacto/feature/ERP_Odor_No_Odor/Retrieval/PIRJ_ERP_pHC_c3-c2_(15).png\n",
      "data to save (23, 165) cond0 (16, 23, 32) cond1 (16, 23, 133)\n",
      "Setting up low-pass filter at 10 Hz\n",
      "fir_design defaults to \"firwin2\" in 0.15 but will change to \"firwin\" in 0.16, set it explicitly to avoid this warning.\n",
      "h_trans_bandwidth chosen to be 2.5 Hz\n",
      "Filter length of 1352 samples (2.641 sec) selected\n",
      "Size of filtered data: (3584, 165)\n",
      "time points :  (3584,)\n",
      "Applying baseline correction (mode: mean)\n",
      "Size norm & filtered data :  (3584, 165)\n"
     ]
    },
    {
     "name": "stderr",
     "output_type": "stream",
     "text": [
      "<ipython-input-5-154bfa86badc>:37: DeprecationWarning: fir_design defaults to \"firwin2\" in 0.15 but will change to \"firwin\" in 0.16, set it explicitly to avoid this warning.\n",
      "  h_freq=low_pass_filter, method='fir', phase='zero-double').swapaxes(0,1)\n"
     ]
    },
    {
     "name": "stdout",
     "output_type": "stream",
     "text": [
      "-> Shape of all trials data to plot :  (23, 165)\n",
      "-> Shape of time vector :  23\n",
      "/media/karim/Datas4To/1_Analyses_Intra_EM_Odor/Olfacto/feature/ERP_Odor_No_Odor/Retrieval/PIRJ_ERP_pHC_c4-c3_(16).png\n",
      "data to save (23, 165) cond0 (17, 23, 32) cond1 (17, 23, 133)\n",
      "Setting up low-pass filter at 10 Hz\n",
      "fir_design defaults to \"firwin2\" in 0.15 but will change to \"firwin\" in 0.16, set it explicitly to avoid this warning.\n",
      "h_trans_bandwidth chosen to be 2.5 Hz\n",
      "Filter length of 1352 samples (2.641 sec) selected\n",
      "Size of filtered data: (3584, 165)\n",
      "time points :  (3584,)\n",
      "Applying baseline correction (mode: mean)\n",
      "Size norm & filtered data :  (3584, 165)\n"
     ]
    },
    {
     "name": "stderr",
     "output_type": "stream",
     "text": [
      "<ipython-input-5-154bfa86badc>:37: DeprecationWarning: fir_design defaults to \"firwin2\" in 0.15 but will change to \"firwin\" in 0.16, set it explicitly to avoid this warning.\n",
      "  h_freq=low_pass_filter, method='fir', phase='zero-double').swapaxes(0,1)\n"
     ]
    },
    {
     "name": "stdout",
     "output_type": "stream",
     "text": [
      "-> Shape of all trials data to plot :  (23, 165)\n",
      "-> Shape of time vector :  23\n",
      "/media/karim/Datas4To/1_Analyses_Intra_EM_Odor/Olfacto/feature/ERP_Odor_No_Odor/Retrieval/PIRJ_ERP_pMTG_c10-c9_(17).png\n",
      "data to save (23, 165) cond0 (18, 23, 32) cond1 (18, 23, 133)\n",
      "Setting up low-pass filter at 10 Hz\n",
      "fir_design defaults to \"firwin2\" in 0.15 but will change to \"firwin\" in 0.16, set it explicitly to avoid this warning.\n",
      "h_trans_bandwidth chosen to be 2.5 Hz\n",
      "Filter length of 1352 samples (2.641 sec) selected\n",
      "Size of filtered data: (3584, 165)\n",
      "time points :  (3584,)\n",
      "Applying baseline correction (mode: mean)\n",
      "Size norm & filtered data :  (3584, 165)\n"
     ]
    },
    {
     "name": "stderr",
     "output_type": "stream",
     "text": [
      "<ipython-input-5-154bfa86badc>:37: DeprecationWarning: fir_design defaults to \"firwin2\" in 0.15 but will change to \"firwin\" in 0.16, set it explicitly to avoid this warning.\n",
      "  h_freq=low_pass_filter, method='fir', phase='zero-double').swapaxes(0,1)\n"
     ]
    },
    {
     "name": "stdout",
     "output_type": "stream",
     "text": [
      "-> Shape of all trials data to plot :  (23, 165)\n",
      "-> Shape of time vector :  23\n",
      "/media/karim/Datas4To/1_Analyses_Intra_EM_Odor/Olfacto/feature/ERP_Odor_No_Odor/Retrieval/PIRJ_ERP_pMTG_c11-c10_(18).png\n",
      "data to save (23, 165) cond0 (19, 23, 32) cond1 (19, 23, 133)\n",
      "Setting up low-pass filter at 10 Hz\n",
      "fir_design defaults to \"firwin2\" in 0.15 but will change to \"firwin\" in 0.16, set it explicitly to avoid this warning.\n",
      "h_trans_bandwidth chosen to be 2.5 Hz\n",
      "Filter length of 1352 samples (2.641 sec) selected\n",
      "Size of filtered data: (3584, 165)\n",
      "time points :  (3584,)\n",
      "Applying baseline correction (mode: mean)\n",
      "Size norm & filtered data :  (3584, 165)\n"
     ]
    },
    {
     "name": "stderr",
     "output_type": "stream",
     "text": [
      "<ipython-input-5-154bfa86badc>:37: DeprecationWarning: fir_design defaults to \"firwin2\" in 0.15 but will change to \"firwin\" in 0.16, set it explicitly to avoid this warning.\n",
      "  h_freq=low_pass_filter, method='fir', phase='zero-double').swapaxes(0,1)\n"
     ]
    },
    {
     "name": "stdout",
     "output_type": "stream",
     "text": [
      "-> Shape of all trials data to plot :  (23, 165)\n",
      "-> Shape of time vector :  23\n",
      "/media/karim/Datas4To/1_Analyses_Intra_EM_Odor/Olfacto/feature/ERP_Odor_No_Odor/Retrieval/PIRJ_ERP_pMTG_c12-c11_(19).png\n",
      "data to save (23, 165) cond0 (20, 23, 32) cond1 (20, 23, 133)\n",
      "Setting up low-pass filter at 10 Hz\n",
      "fir_design defaults to \"firwin2\" in 0.15 but will change to \"firwin\" in 0.16, set it explicitly to avoid this warning.\n",
      "h_trans_bandwidth chosen to be 2.5 Hz\n",
      "Filter length of 1352 samples (2.641 sec) selected\n",
      "Size of filtered data: (3584, 165)\n",
      "time points :  (3584,)\n",
      "Applying baseline correction (mode: mean)\n",
      "Size norm & filtered data :  (3584, 165)\n"
     ]
    },
    {
     "name": "stderr",
     "output_type": "stream",
     "text": [
      "<ipython-input-5-154bfa86badc>:37: DeprecationWarning: fir_design defaults to \"firwin2\" in 0.15 but will change to \"firwin\" in 0.16, set it explicitly to avoid this warning.\n",
      "  h_freq=low_pass_filter, method='fir', phase='zero-double').swapaxes(0,1)\n"
     ]
    },
    {
     "name": "stdout",
     "output_type": "stream",
     "text": [
      "-> Shape of all trials data to plot :  (23, 165)\n",
      "-> Shape of time vector :  23\n",
      "/media/karim/Datas4To/1_Analyses_Intra_EM_Odor/Olfacto/feature/ERP_Odor_No_Odor/Retrieval/PIRJ_ERP_pHC_c'2-c'1_(20).png\n",
      "data to save (23, 165) cond0 (21, 23, 32) cond1 (21, 23, 133)\n",
      "Setting up low-pass filter at 10 Hz\n",
      "fir_design defaults to \"firwin2\" in 0.15 but will change to \"firwin\" in 0.16, set it explicitly to avoid this warning.\n",
      "h_trans_bandwidth chosen to be 2.5 Hz\n",
      "Filter length of 1352 samples (2.641 sec) selected\n",
      "Size of filtered data: (3584, 165)\n",
      "time points :  (3584,)\n",
      "Applying baseline correction (mode: mean)\n",
      "Size norm & filtered data :  (3584, 165)\n"
     ]
    },
    {
     "name": "stderr",
     "output_type": "stream",
     "text": [
      "<ipython-input-5-154bfa86badc>:37: DeprecationWarning: fir_design defaults to \"firwin2\" in 0.15 but will change to \"firwin\" in 0.16, set it explicitly to avoid this warning.\n",
      "  h_freq=low_pass_filter, method='fir', phase='zero-double').swapaxes(0,1)\n"
     ]
    },
    {
     "name": "stdout",
     "output_type": "stream",
     "text": [
      "-> Shape of all trials data to plot :  (23, 165)\n",
      "-> Shape of time vector :  23\n",
      "/media/karim/Datas4To/1_Analyses_Intra_EM_Odor/Olfacto/feature/ERP_Odor_No_Odor/Retrieval/PIRJ_ERP_pHC_c'3-c'2_(21).png\n",
      "data to save (23, 165) cond0 (22, 23, 32) cond1 (22, 23, 133)\n",
      "Setting up low-pass filter at 10 Hz\n",
      "fir_design defaults to \"firwin2\" in 0.15 but will change to \"firwin\" in 0.16, set it explicitly to avoid this warning.\n",
      "h_trans_bandwidth chosen to be 2.5 Hz\n",
      "Filter length of 1352 samples (2.641 sec) selected\n",
      "Size of filtered data: (3584, 165)\n",
      "time points :  (3584,)\n",
      "Applying baseline correction (mode: mean)\n",
      "Size norm & filtered data :  (3584, 165)\n"
     ]
    },
    {
     "name": "stderr",
     "output_type": "stream",
     "text": [
      "<ipython-input-5-154bfa86badc>:37: DeprecationWarning: fir_design defaults to \"firwin2\" in 0.15 but will change to \"firwin\" in 0.16, set it explicitly to avoid this warning.\n",
      "  h_freq=low_pass_filter, method='fir', phase='zero-double').swapaxes(0,1)\n"
     ]
    },
    {
     "name": "stdout",
     "output_type": "stream",
     "text": [
      "-> Shape of all trials data to plot :  (23, 165)\n",
      "-> Shape of time vector :  23\n",
      "/media/karim/Datas4To/1_Analyses_Intra_EM_Odor/Olfacto/feature/ERP_Odor_No_Odor/Retrieval/PIRJ_ERP_pHC_c'4-c'3_(22).png\n",
      "data to save (23, 165) cond0 (23, 23, 32) cond1 (23, 23, 133)\n",
      "Setting up low-pass filter at 10 Hz\n",
      "fir_design defaults to \"firwin2\" in 0.15 but will change to \"firwin\" in 0.16, set it explicitly to avoid this warning.\n",
      "h_trans_bandwidth chosen to be 2.5 Hz\n",
      "Filter length of 1352 samples (2.641 sec) selected\n",
      "Size of filtered data: (3584, 165)\n",
      "time points :  (3584,)\n",
      "Applying baseline correction (mode: mean)\n",
      "Size norm & filtered data :  (3584, 165)\n"
     ]
    },
    {
     "name": "stderr",
     "output_type": "stream",
     "text": [
      "<ipython-input-5-154bfa86badc>:37: DeprecationWarning: fir_design defaults to \"firwin2\" in 0.15 but will change to \"firwin\" in 0.16, set it explicitly to avoid this warning.\n",
      "  h_freq=low_pass_filter, method='fir', phase='zero-double').swapaxes(0,1)\n"
     ]
    },
    {
     "name": "stdout",
     "output_type": "stream",
     "text": [
      "-> Shape of all trials data to plot :  (23, 165)\n",
      "-> Shape of time vector :  23\n",
      "/media/karim/Datas4To/1_Analyses_Intra_EM_Odor/Olfacto/feature/ERP_Odor_No_Odor/Retrieval/PIRJ_ERP_pHC_c'5-c'4_(23).png\n",
      "data to save (23, 165) cond0 (24, 23, 32) cond1 (24, 23, 133)\n",
      "Setting up low-pass filter at 10 Hz\n",
      "fir_design defaults to \"firwin2\" in 0.15 but will change to \"firwin\" in 0.16, set it explicitly to avoid this warning.\n",
      "h_trans_bandwidth chosen to be 2.5 Hz\n",
      "Filter length of 1352 samples (2.641 sec) selected\n",
      "Size of filtered data: (3584, 165)\n",
      "time points :  (3584,)\n",
      "Applying baseline correction (mode: mean)\n",
      "Size norm & filtered data :  (3584, 165)\n"
     ]
    },
    {
     "name": "stderr",
     "output_type": "stream",
     "text": [
      "<ipython-input-5-154bfa86badc>:37: DeprecationWarning: fir_design defaults to \"firwin2\" in 0.15 but will change to \"firwin\" in 0.16, set it explicitly to avoid this warning.\n",
      "  h_freq=low_pass_filter, method='fir', phase='zero-double').swapaxes(0,1)\n"
     ]
    },
    {
     "name": "stdout",
     "output_type": "stream",
     "text": [
      "-> Shape of all trials data to plot :  (23, 165)\n",
      "-> Shape of time vector :  23\n",
      "/media/karim/Datas4To/1_Analyses_Intra_EM_Odor/Olfacto/feature/ERP_Odor_No_Odor/Retrieval/PIRJ_ERP_pMTG_c'9-c'8_(24).png\n",
      "data to save (23, 165) cond0 (25, 23, 32) cond1 (25, 23, 133)\n",
      "Setting up low-pass filter at 10 Hz\n",
      "fir_design defaults to \"firwin2\" in 0.15 but will change to \"firwin\" in 0.16, set it explicitly to avoid this warning.\n",
      "h_trans_bandwidth chosen to be 2.5 Hz\n",
      "Filter length of 1352 samples (2.641 sec) selected\n",
      "Size of filtered data: (3584, 165)\n",
      "time points :  (3584,)\n",
      "Applying baseline correction (mode: mean)\n",
      "Size norm & filtered data :  (3584, 165)\n"
     ]
    },
    {
     "name": "stderr",
     "output_type": "stream",
     "text": [
      "<ipython-input-5-154bfa86badc>:37: DeprecationWarning: fir_design defaults to \"firwin2\" in 0.15 but will change to \"firwin\" in 0.16, set it explicitly to avoid this warning.\n",
      "  h_freq=low_pass_filter, method='fir', phase='zero-double').swapaxes(0,1)\n"
     ]
    },
    {
     "name": "stdout",
     "output_type": "stream",
     "text": [
      "-> Shape of all trials data to plot :  (23, 165)\n",
      "-> Shape of time vector :  23\n",
      "/media/karim/Datas4To/1_Analyses_Intra_EM_Odor/Olfacto/feature/ERP_Odor_No_Odor/Retrieval/PIRJ_ERP_PRC-aPHG_d2-d1_(25).png\n",
      "data to save (23, 165) cond0 (26, 23, 32) cond1 (26, 23, 133)\n",
      "Setting up low-pass filter at 10 Hz\n",
      "fir_design defaults to \"firwin2\" in 0.15 but will change to \"firwin\" in 0.16, set it explicitly to avoid this warning.\n",
      "h_trans_bandwidth chosen to be 2.5 Hz\n",
      "Filter length of 1352 samples (2.641 sec) selected\n",
      "Size of filtered data: (3584, 165)\n",
      "time points :  (3584,)\n",
      "Applying baseline correction (mode: mean)\n",
      "Size norm & filtered data :  (3584, 165)\n"
     ]
    },
    {
     "name": "stderr",
     "output_type": "stream",
     "text": [
      "<ipython-input-5-154bfa86badc>:37: DeprecationWarning: fir_design defaults to \"firwin2\" in 0.15 but will change to \"firwin\" in 0.16, set it explicitly to avoid this warning.\n",
      "  h_freq=low_pass_filter, method='fir', phase='zero-double').swapaxes(0,1)\n"
     ]
    },
    {
     "name": "stdout",
     "output_type": "stream",
     "text": [
      "-> Shape of all trials data to plot :  (23, 165)\n",
      "-> Shape of time vector :  23\n",
      "/media/karim/Datas4To/1_Analyses_Intra_EM_Odor/Olfacto/feature/ERP_Odor_No_Odor/Retrieval/PIRJ_ERP_PRC-aPHG_d3-d2_(26).png\n",
      "data to save (23, 165) cond0 (27, 23, 32) cond1 (27, 23, 133)\n",
      "Setting up low-pass filter at 10 Hz\n",
      "fir_design defaults to \"firwin2\" in 0.15 but will change to \"firwin\" in 0.16, set it explicitly to avoid this warning.\n",
      "h_trans_bandwidth chosen to be 2.5 Hz\n",
      "Filter length of 1352 samples (2.641 sec) selected\n",
      "Size of filtered data: (3584, 165)\n",
      "time points :  (3584,)\n",
      "Applying baseline correction (mode: mean)\n",
      "Size norm & filtered data :  (3584, 165)\n"
     ]
    },
    {
     "name": "stderr",
     "output_type": "stream",
     "text": [
      "<ipython-input-5-154bfa86badc>:37: DeprecationWarning: fir_design defaults to \"firwin2\" in 0.15 but will change to \"firwin\" in 0.16, set it explicitly to avoid this warning.\n",
      "  h_freq=low_pass_filter, method='fir', phase='zero-double').swapaxes(0,1)\n"
     ]
    },
    {
     "name": "stdout",
     "output_type": "stream",
     "text": [
      "-> Shape of all trials data to plot :  (23, 165)\n",
      "-> Shape of time vector :  23\n",
      "/media/karim/Datas4To/1_Analyses_Intra_EM_Odor/Olfacto/feature/ERP_Odor_No_Odor/Retrieval/PIRJ_ERP_aPHG&PRC-aPHG_d4-d3_(27).png\n",
      "data to save (23, 165) cond0 (28, 23, 32) cond1 (28, 23, 133)\n",
      "Setting up low-pass filter at 10 Hz\n",
      "fir_design defaults to \"firwin2\" in 0.15 but will change to \"firwin\" in 0.16, set it explicitly to avoid this warning.\n",
      "h_trans_bandwidth chosen to be 2.5 Hz\n",
      "Filter length of 1352 samples (2.641 sec) selected\n",
      "Size of filtered data: (3584, 165)\n",
      "time points :  (3584,)\n",
      "Applying baseline correction (mode: mean)\n",
      "Size norm & filtered data :  (3584, 165)\n"
     ]
    },
    {
     "name": "stderr",
     "output_type": "stream",
     "text": [
      "<ipython-input-5-154bfa86badc>:37: DeprecationWarning: fir_design defaults to \"firwin2\" in 0.15 but will change to \"firwin\" in 0.16, set it explicitly to avoid this warning.\n",
      "  h_freq=low_pass_filter, method='fir', phase='zero-double').swapaxes(0,1)\n"
     ]
    },
    {
     "name": "stdout",
     "output_type": "stream",
     "text": [
      "-> Shape of all trials data to plot :  (23, 165)\n",
      "-> Shape of time vector :  23\n",
      "/media/karim/Datas4To/1_Analyses_Intra_EM_Odor/Olfacto/feature/ERP_Odor_No_Odor/Retrieval/PIRJ_ERP_aPHG_d5-d4_(28).png\n",
      "data to save (23, 165) cond0 (29, 23, 32) cond1 (29, 23, 133)\n",
      "Setting up low-pass filter at 10 Hz\n",
      "fir_design defaults to \"firwin2\" in 0.15 but will change to \"firwin\" in 0.16, set it explicitly to avoid this warning.\n",
      "h_trans_bandwidth chosen to be 2.5 Hz\n",
      "Filter length of 1352 samples (2.641 sec) selected\n",
      "Size of filtered data: (3584, 165)\n",
      "time points :  (3584,)\n",
      "Applying baseline correction (mode: mean)\n",
      "Size norm & filtered data :  (3584, 165)\n"
     ]
    },
    {
     "name": "stderr",
     "output_type": "stream",
     "text": [
      "<ipython-input-5-154bfa86badc>:37: DeprecationWarning: fir_design defaults to \"firwin2\" in 0.15 but will change to \"firwin\" in 0.16, set it explicitly to avoid this warning.\n",
      "  h_freq=low_pass_filter, method='fir', phase='zero-double').swapaxes(0,1)\n"
     ]
    },
    {
     "name": "stdout",
     "output_type": "stream",
     "text": [
      "-> Shape of all trials data to plot :  (23, 165)\n",
      "-> Shape of time vector :  23\n",
      "/media/karim/Datas4To/1_Analyses_Intra_EM_Odor/Olfacto/feature/ERP_Odor_No_Odor/Retrieval/PIRJ_ERP_FuG&aPHG_d6-d5_(29).png\n",
      "data to save (23, 165) cond0 (30, 23, 32) cond1 (30, 23, 133)\n",
      "Setting up low-pass filter at 10 Hz\n",
      "fir_design defaults to \"firwin2\" in 0.15 but will change to \"firwin\" in 0.16, set it explicitly to avoid this warning.\n",
      "h_trans_bandwidth chosen to be 2.5 Hz\n",
      "Filter length of 1352 samples (2.641 sec) selected\n",
      "Size of filtered data: (3584, 165)\n",
      "time points :  (3584,)\n",
      "Applying baseline correction (mode: mean)\n",
      "Size norm & filtered data :  (3584, 165)\n"
     ]
    },
    {
     "name": "stderr",
     "output_type": "stream",
     "text": [
      "<ipython-input-5-154bfa86badc>:37: DeprecationWarning: fir_design defaults to \"firwin2\" in 0.15 but will change to \"firwin\" in 0.16, set it explicitly to avoid this warning.\n",
      "  h_freq=low_pass_filter, method='fir', phase='zero-double').swapaxes(0,1)\n"
     ]
    },
    {
     "name": "stdout",
     "output_type": "stream",
     "text": [
      "-> Shape of all trials data to plot :  (23, 165)\n",
      "-> Shape of time vector :  23\n",
      "/media/karim/Datas4To/1_Analyses_Intra_EM_Odor/Olfacto/feature/ERP_Odor_No_Odor/Retrieval/PIRJ_ERP_aMTG&ITG-aMTG_d9-d8_(30).png\n",
      "data to save (23, 165) cond0 (31, 23, 32) cond1 (31, 23, 133)\n",
      "Setting up low-pass filter at 10 Hz\n",
      "fir_design defaults to \"firwin2\" in 0.15 but will change to \"firwin\" in 0.16, set it explicitly to avoid this warning.\n",
      "h_trans_bandwidth chosen to be 2.5 Hz\n",
      "Filter length of 1352 samples (2.641 sec) selected\n",
      "Size of filtered data: (3584, 165)\n",
      "time points :  (3584,)\n",
      "Applying baseline correction (mode: mean)\n",
      "Size norm & filtered data :  (3584, 165)\n"
     ]
    },
    {
     "name": "stderr",
     "output_type": "stream",
     "text": [
      "<ipython-input-5-154bfa86badc>:37: DeprecationWarning: fir_design defaults to \"firwin2\" in 0.15 but will change to \"firwin\" in 0.16, set it explicitly to avoid this warning.\n",
      "  h_freq=low_pass_filter, method='fir', phase='zero-double').swapaxes(0,1)\n"
     ]
    },
    {
     "name": "stdout",
     "output_type": "stream",
     "text": [
      "-> Shape of all trials data to plot :  (23, 165)\n",
      "-> Shape of time vector :  23\n",
      "/media/karim/Datas4To/1_Analyses_Intra_EM_Odor/Olfacto/feature/ERP_Odor_No_Odor/Retrieval/PIRJ_ERP_aMTG_d10-d9_(31).png\n",
      "data to save (23, 165) cond0 (32, 23, 32) cond1 (32, 23, 133)\n",
      "Setting up low-pass filter at 10 Hz\n",
      "fir_design defaults to \"firwin2\" in 0.15 but will change to \"firwin\" in 0.16, set it explicitly to avoid this warning.\n",
      "h_trans_bandwidth chosen to be 2.5 Hz\n",
      "Filter length of 1352 samples (2.641 sec) selected\n",
      "Size of filtered data: (3584, 165)\n",
      "time points :  (3584,)\n",
      "Applying baseline correction (mode: mean)\n",
      "Size norm & filtered data :  (3584, 165)\n"
     ]
    },
    {
     "name": "stderr",
     "output_type": "stream",
     "text": [
      "<ipython-input-5-154bfa86badc>:37: DeprecationWarning: fir_design defaults to \"firwin2\" in 0.15 but will change to \"firwin\" in 0.16, set it explicitly to avoid this warning.\n",
      "  h_freq=low_pass_filter, method='fir', phase='zero-double').swapaxes(0,1)\n"
     ]
    },
    {
     "name": "stdout",
     "output_type": "stream",
     "text": [
      "-> Shape of all trials data to plot :  (23, 165)\n",
      "-> Shape of time vector :  23\n",
      "/media/karim/Datas4To/1_Analyses_Intra_EM_Odor/Olfacto/feature/ERP_Odor_No_Odor/Retrieval/PIRJ_ERP_PCC-Pcun_g2-g1_(32).png\n",
      "data to save (23, 165) cond0 (33, 23, 32) cond1 (33, 23, 133)\n",
      "Setting up low-pass filter at 10 Hz\n",
      "fir_design defaults to \"firwin2\" in 0.15 but will change to \"firwin\" in 0.16, set it explicitly to avoid this warning.\n",
      "h_trans_bandwidth chosen to be 2.5 Hz\n",
      "Filter length of 1352 samples (2.641 sec) selected\n",
      "Size of filtered data: (3584, 165)\n",
      "time points :  (3584,)\n",
      "Applying baseline correction (mode: mean)\n",
      "Size norm & filtered data :  (3584, 165)\n"
     ]
    },
    {
     "name": "stderr",
     "output_type": "stream",
     "text": [
      "<ipython-input-5-154bfa86badc>:37: DeprecationWarning: fir_design defaults to \"firwin2\" in 0.15 but will change to \"firwin\" in 0.16, set it explicitly to avoid this warning.\n",
      "  h_freq=low_pass_filter, method='fir', phase='zero-double').swapaxes(0,1)\n"
     ]
    },
    {
     "name": "stdout",
     "output_type": "stream",
     "text": [
      "-> Shape of all trials data to plot :  (23, 165)\n",
      "-> Shape of time vector :  23\n",
      "/media/karim/Datas4To/1_Analyses_Intra_EM_Odor/Olfacto/feature/ERP_Odor_No_Odor/Retrieval/PIRJ_ERP_PCC-Pcun_g3-g2_(33).png\n",
      "data to save (23, 165) cond0 (34, 23, 32) cond1 (34, 23, 133)\n",
      "Setting up low-pass filter at 10 Hz\n",
      "fir_design defaults to \"firwin2\" in 0.15 but will change to \"firwin\" in 0.16, set it explicitly to avoid this warning.\n",
      "h_trans_bandwidth chosen to be 2.5 Hz\n",
      "Filter length of 1352 samples (2.641 sec) selected\n",
      "Size of filtered data: (3584, 165)\n",
      "time points :  (3584,)\n",
      "Applying baseline correction (mode: mean)\n",
      "Size norm & filtered data :  (3584, 165)\n"
     ]
    },
    {
     "name": "stderr",
     "output_type": "stream",
     "text": [
      "<ipython-input-5-154bfa86badc>:37: DeprecationWarning: fir_design defaults to \"firwin2\" in 0.15 but will change to \"firwin\" in 0.16, set it explicitly to avoid this warning.\n",
      "  h_freq=low_pass_filter, method='fir', phase='zero-double').swapaxes(0,1)\n"
     ]
    },
    {
     "name": "stdout",
     "output_type": "stream",
     "text": [
      "-> Shape of all trials data to plot :  (23, 165)\n",
      "-> Shape of time vector :  23\n",
      "/media/karim/Datas4To/1_Analyses_Intra_EM_Odor/Olfacto/feature/ERP_Odor_No_Odor/Retrieval/PIRJ_ERP_SMG-pSTG_g12-g11_(34).png\n",
      "data to save (23, 165) cond0 (35, 23, 32) cond1 (35, 23, 133)\n",
      "Setting up low-pass filter at 10 Hz\n",
      "fir_design defaults to \"firwin2\" in 0.15 but will change to \"firwin\" in 0.16, set it explicitly to avoid this warning.\n",
      "h_trans_bandwidth chosen to be 2.5 Hz\n",
      "Filter length of 1352 samples (2.641 sec) selected\n",
      "Size of filtered data: (3584, 165)\n",
      "time points :  (3584,)\n",
      "Applying baseline correction (mode: mean)\n",
      "Size norm & filtered data :  (3584, 165)\n"
     ]
    },
    {
     "name": "stderr",
     "output_type": "stream",
     "text": [
      "<ipython-input-5-154bfa86badc>:37: DeprecationWarning: fir_design defaults to \"firwin2\" in 0.15 but will change to \"firwin\" in 0.16, set it explicitly to avoid this warning.\n",
      "  h_freq=low_pass_filter, method='fir', phase='zero-double').swapaxes(0,1)\n"
     ]
    },
    {
     "name": "stdout",
     "output_type": "stream",
     "text": [
      "-> Shape of all trials data to plot :  (23, 165)\n",
      "-> Shape of time vector :  23\n",
      "/media/karim/Datas4To/1_Analyses_Intra_EM_Odor/Olfacto/feature/ERP_Odor_No_Odor/Retrieval/PIRJ_ERP_SMG-pSTG_g13-g12_(35).png\n",
      "data to save (23, 165) cond0 (36, 23, 32) cond1 (36, 23, 133)\n",
      "Setting up low-pass filter at 10 Hz\n",
      "fir_design defaults to \"firwin2\" in 0.15 but will change to \"firwin\" in 0.16, set it explicitly to avoid this warning.\n",
      "h_trans_bandwidth chosen to be 2.5 Hz\n",
      "Filter length of 1352 samples (2.641 sec) selected\n",
      "Size of filtered data: (3584, 165)\n",
      "time points :  (3584,)\n",
      "Applying baseline correction (mode: mean)\n",
      "Size norm & filtered data :  (3584, 165)\n"
     ]
    },
    {
     "name": "stderr",
     "output_type": "stream",
     "text": [
      "<ipython-input-5-154bfa86badc>:37: DeprecationWarning: fir_design defaults to \"firwin2\" in 0.15 but will change to \"firwin\" in 0.16, set it explicitly to avoid this warning.\n",
      "  h_freq=low_pass_filter, method='fir', phase='zero-double').swapaxes(0,1)\n"
     ]
    },
    {
     "name": "stdout",
     "output_type": "stream",
     "text": [
      "-> Shape of all trials data to plot :  (23, 165)\n",
      "-> Shape of time vector :  23\n",
      "/media/karim/Datas4To/1_Analyses_Intra_EM_Odor/Olfacto/feature/ERP_Odor_No_Odor/Retrieval/PIRJ_ERP_PCC_g'2-g'1_(36).png\n",
      "data to save (23, 165) cond0 (37, 23, 32) cond1 (37, 23, 133)\n",
      "Setting up low-pass filter at 10 Hz\n",
      "fir_design defaults to \"firwin2\" in 0.15 but will change to \"firwin\" in 0.16, set it explicitly to avoid this warning.\n",
      "h_trans_bandwidth chosen to be 2.5 Hz\n",
      "Filter length of 1352 samples (2.641 sec) selected\n",
      "Size of filtered data: (3584, 165)\n",
      "time points :  (3584,)\n",
      "Applying baseline correction (mode: mean)\n",
      "Size norm & filtered data :  (3584, 165)\n"
     ]
    },
    {
     "name": "stderr",
     "output_type": "stream",
     "text": [
      "<ipython-input-5-154bfa86badc>:37: DeprecationWarning: fir_design defaults to \"firwin2\" in 0.15 but will change to \"firwin\" in 0.16, set it explicitly to avoid this warning.\n",
      "  h_freq=low_pass_filter, method='fir', phase='zero-double').swapaxes(0,1)\n"
     ]
    },
    {
     "name": "stdout",
     "output_type": "stream",
     "text": [
      "-> Shape of all trials data to plot :  (23, 165)\n",
      "-> Shape of time vector :  23\n",
      "/media/karim/Datas4To/1_Analyses_Intra_EM_Odor/Olfacto/feature/ERP_Odor_No_Odor/Retrieval/PIRJ_ERP_PCC_g'3-g'2_(37).png\n",
      "data to save (23, 165) cond0 (38, 23, 32) cond1 (38, 23, 133)\n",
      "Setting up low-pass filter at 10 Hz\n",
      "fir_design defaults to \"firwin2\" in 0.15 but will change to \"firwin\" in 0.16, set it explicitly to avoid this warning.\n",
      "h_trans_bandwidth chosen to be 2.5 Hz\n",
      "Filter length of 1352 samples (2.641 sec) selected\n",
      "Size of filtered data: (3584, 165)\n",
      "time points :  (3584,)\n",
      "Applying baseline correction (mode: mean)\n",
      "Size norm & filtered data :  (3584, 165)\n"
     ]
    },
    {
     "name": "stderr",
     "output_type": "stream",
     "text": [
      "<ipython-input-5-154bfa86badc>:37: DeprecationWarning: fir_design defaults to \"firwin2\" in 0.15 but will change to \"firwin\" in 0.16, set it explicitly to avoid this warning.\n",
      "  h_freq=low_pass_filter, method='fir', phase='zero-double').swapaxes(0,1)\n"
     ]
    },
    {
     "name": "stdout",
     "output_type": "stream",
     "text": [
      "-> Shape of all trials data to plot :  (23, 165)\n",
      "-> Shape of time vector :  23\n",
      "/media/karim/Datas4To/1_Analyses_Intra_EM_Odor/Olfacto/feature/ERP_Odor_No_Odor/Retrieval/PIRJ_ERP_pSTG_g'12-g'11_(38).png\n",
      "data to save (23, 165) cond0 (39, 23, 32) cond1 (39, 23, 133)\n",
      "Setting up low-pass filter at 10 Hz\n",
      "fir_design defaults to \"firwin2\" in 0.15 but will change to \"firwin\" in 0.16, set it explicitly to avoid this warning.\n",
      "h_trans_bandwidth chosen to be 2.5 Hz\n",
      "Filter length of 1352 samples (2.641 sec) selected\n",
      "Size of filtered data: (3584, 165)\n",
      "time points :  (3584,)\n",
      "Applying baseline correction (mode: mean)\n",
      "Size norm & filtered data :  (3584, 165)\n"
     ]
    },
    {
     "name": "stderr",
     "output_type": "stream",
     "text": [
      "<ipython-input-5-154bfa86badc>:37: DeprecationWarning: fir_design defaults to \"firwin2\" in 0.15 but will change to \"firwin\" in 0.16, set it explicitly to avoid this warning.\n",
      "  h_freq=low_pass_filter, method='fir', phase='zero-double').swapaxes(0,1)\n"
     ]
    },
    {
     "name": "stdout",
     "output_type": "stream",
     "text": [
      "-> Shape of all trials data to plot :  (23, 165)\n",
      "-> Shape of time vector :  23\n",
      "/media/karim/Datas4To/1_Analyses_Intra_EM_Odor/Olfacto/feature/ERP_Odor_No_Odor/Retrieval/PIRJ_ERP_pSTG_g'13-g'12_(39).png\n",
      "data to save (23, 165) cond0 (40, 23, 32) cond1 (40, 23, 133)\n",
      "Setting up low-pass filter at 10 Hz\n",
      "fir_design defaults to \"firwin2\" in 0.15 but will change to \"firwin\" in 0.16, set it explicitly to avoid this warning.\n",
      "h_trans_bandwidth chosen to be 2.5 Hz\n",
      "Filter length of 1352 samples (2.641 sec) selected\n",
      "Size of filtered data: (3584, 165)\n",
      "time points :  (3584,)\n",
      "Applying baseline correction (mode: mean)\n",
      "Size norm & filtered data :  (3584, 165)\n"
     ]
    },
    {
     "name": "stderr",
     "output_type": "stream",
     "text": [
      "<ipython-input-5-154bfa86badc>:37: DeprecationWarning: fir_design defaults to \"firwin2\" in 0.15 but will change to \"firwin\" in 0.16, set it explicitly to avoid this warning.\n",
      "  h_freq=low_pass_filter, method='fir', phase='zero-double').swapaxes(0,1)\n"
     ]
    },
    {
     "name": "stdout",
     "output_type": "stream",
     "text": [
      "-> Shape of all trials data to plot :  (23, 165)\n",
      "-> Shape of time vector :  23\n",
      "/media/karim/Datas4To/1_Analyses_Intra_EM_Odor/Olfacto/feature/ERP_Odor_No_Odor/Retrieval/PIRJ_ERP_pSTG_g'14-g'13_(40).png\n",
      "data to save (23, 165) cond0 (41, 23, 32) cond1 (41, 23, 133)\n",
      "Setting up low-pass filter at 10 Hz\n",
      "fir_design defaults to \"firwin2\" in 0.15 but will change to \"firwin\" in 0.16, set it explicitly to avoid this warning.\n",
      "h_trans_bandwidth chosen to be 2.5 Hz\n",
      "Filter length of 1352 samples (2.641 sec) selected\n",
      "Size of filtered data: (3584, 165)\n",
      "time points :  (3584,)\n",
      "Applying baseline correction (mode: mean)\n",
      "Size norm & filtered data :  (3584, 165)\n"
     ]
    },
    {
     "name": "stderr",
     "output_type": "stream",
     "text": [
      "<ipython-input-5-154bfa86badc>:37: DeprecationWarning: fir_design defaults to \"firwin2\" in 0.15 but will change to \"firwin\" in 0.16, set it explicitly to avoid this warning.\n",
      "  h_freq=low_pass_filter, method='fir', phase='zero-double').swapaxes(0,1)\n"
     ]
    },
    {
     "name": "stdout",
     "output_type": "stream",
     "text": [
      "-> Shape of all trials data to plot :  (23, 165)\n",
      "-> Shape of time vector :  23\n",
      "/media/karim/Datas4To/1_Analyses_Intra_EM_Odor/Olfacto/feature/ERP_Odor_No_Odor/Retrieval/PIRJ_ERP_Ppo-ITP&PPo_j7-j6_(41).png\n",
      "data to save (23, 165) cond0 (42, 23, 32) cond1 (42, 23, 133)\n",
      "Setting up low-pass filter at 10 Hz\n",
      "fir_design defaults to \"firwin2\" in 0.15 but will change to \"firwin\" in 0.16, set it explicitly to avoid this warning.\n",
      "h_trans_bandwidth chosen to be 2.5 Hz\n",
      "Filter length of 1352 samples (2.641 sec) selected\n",
      "Size of filtered data: (3584, 165)\n",
      "time points :  (3584,)\n",
      "Applying baseline correction (mode: mean)\n",
      "Size norm & filtered data :  (3584, 165)\n"
     ]
    },
    {
     "name": "stderr",
     "output_type": "stream",
     "text": [
      "<ipython-input-5-154bfa86badc>:37: DeprecationWarning: fir_design defaults to \"firwin2\" in 0.15 but will change to \"firwin\" in 0.16, set it explicitly to avoid this warning.\n",
      "  h_freq=low_pass_filter, method='fir', phase='zero-double').swapaxes(0,1)\n"
     ]
    },
    {
     "name": "stdout",
     "output_type": "stream",
     "text": [
      "-> Shape of all trials data to plot :  (23, 165)\n",
      "-> Shape of time vector :  23\n",
      "/media/karim/Datas4To/1_Analyses_Intra_EM_Odor/Olfacto/feature/ERP_Odor_No_Odor/Retrieval/PIRJ_ERP_Ppo-ITP_j8-j7_(42).png\n",
      "data to save (23, 165) cond0 (43, 23, 32) cond1 (43, 23, 133)\n",
      "Setting up low-pass filter at 10 Hz\n",
      "fir_design defaults to \"firwin2\" in 0.15 but will change to \"firwin\" in 0.16, set it explicitly to avoid this warning.\n",
      "h_trans_bandwidth chosen to be 2.5 Hz\n",
      "Filter length of 1352 samples (2.641 sec) selected\n",
      "Size of filtered data: (3584, 165)\n",
      "time points :  (3584,)\n",
      "Applying baseline correction (mode: mean)\n",
      "Size norm & filtered data :  (3584, 165)\n"
     ]
    },
    {
     "name": "stderr",
     "output_type": "stream",
     "text": [
      "<ipython-input-5-154bfa86badc>:37: DeprecationWarning: fir_design defaults to \"firwin2\" in 0.15 but will change to \"firwin\" in 0.16, set it explicitly to avoid this warning.\n",
      "  h_freq=low_pass_filter, method='fir', phase='zero-double').swapaxes(0,1)\n"
     ]
    },
    {
     "name": "stdout",
     "output_type": "stream",
     "text": [
      "-> Shape of all trials data to plot :  (23, 165)\n",
      "-> Shape of time vector :  23\n",
      "/media/karim/Datas4To/1_Analyses_Intra_EM_Odor/Olfacto/feature/ERP_Odor_No_Odor/Retrieval/PIRJ_ERP_IROG-SG&IRoG_o2-o1_(43).png\n",
      "data to save (23, 165) cond0 (44, 23, 32) cond1 (44, 23, 133)\n",
      "Setting up low-pass filter at 10 Hz\n",
      "fir_design defaults to \"firwin2\" in 0.15 but will change to \"firwin\" in 0.16, set it explicitly to avoid this warning.\n",
      "h_trans_bandwidth chosen to be 2.5 Hz\n",
      "Filter length of 1352 samples (2.641 sec) selected\n",
      "Size of filtered data: (3584, 165)\n",
      "time points :  (3584,)\n",
      "Applying baseline correction (mode: mean)\n",
      "Size norm & filtered data :  (3584, 165)\n"
     ]
    },
    {
     "name": "stderr",
     "output_type": "stream",
     "text": [
      "<ipython-input-5-154bfa86badc>:37: DeprecationWarning: fir_design defaults to \"firwin2\" in 0.15 but will change to \"firwin\" in 0.16, set it explicitly to avoid this warning.\n",
      "  h_freq=low_pass_filter, method='fir', phase='zero-double').swapaxes(0,1)\n"
     ]
    },
    {
     "name": "stdout",
     "output_type": "stream",
     "text": [
      "-> Shape of all trials data to plot :  (23, 165)\n",
      "-> Shape of time vector :  23\n",
      "/media/karim/Datas4To/1_Analyses_Intra_EM_Odor/Olfacto/feature/ERP_Odor_No_Odor/Retrieval/PIRJ_ERP_MOrG_o5-o4_(44).png\n",
      "data to save (23, 165) cond0 (45, 23, 32) cond1 (45, 23, 133)\n",
      "Setting up low-pass filter at 10 Hz\n",
      "fir_design defaults to \"firwin2\" in 0.15 but will change to \"firwin\" in 0.16, set it explicitly to avoid this warning.\n",
      "h_trans_bandwidth chosen to be 2.5 Hz\n",
      "Filter length of 1352 samples (2.641 sec) selected\n",
      "Size of filtered data: (3584, 165)\n",
      "time points :  (3584,)\n",
      "Applying baseline correction (mode: mean)\n",
      "Size norm & filtered data :  (3584, 165)\n"
     ]
    },
    {
     "name": "stderr",
     "output_type": "stream",
     "text": [
      "<ipython-input-5-154bfa86badc>:37: DeprecationWarning: fir_design defaults to \"firwin2\" in 0.15 but will change to \"firwin\" in 0.16, set it explicitly to avoid this warning.\n",
      "  h_freq=low_pass_filter, method='fir', phase='zero-double').swapaxes(0,1)\n"
     ]
    },
    {
     "name": "stdout",
     "output_type": "stream",
     "text": [
      "-> Shape of all trials data to plot :  (23, 165)\n",
      "-> Shape of time vector :  23\n",
      "/media/karim/Datas4To/1_Analyses_Intra_EM_Odor/Olfacto/feature/ERP_Odor_No_Odor/Retrieval/PIRJ_ERP_MOrG-LOrG&MOrG_o6-o5_(45).png\n",
      "data to save (23, 165) cond0 (46, 23, 32) cond1 (46, 23, 133)\n",
      "Setting up low-pass filter at 10 Hz\n",
      "fir_design defaults to \"firwin2\" in 0.15 but will change to \"firwin\" in 0.16, set it explicitly to avoid this warning.\n",
      "h_trans_bandwidth chosen to be 2.5 Hz\n",
      "Filter length of 1352 samples (2.641 sec) selected\n",
      "Size of filtered data: (3584, 165)\n",
      "time points :  (3584,)\n",
      "Applying baseline correction (mode: mean)\n",
      "Size norm & filtered data :  (3584, 165)\n"
     ]
    },
    {
     "name": "stderr",
     "output_type": "stream",
     "text": [
      "<ipython-input-5-154bfa86badc>:37: DeprecationWarning: fir_design defaults to \"firwin2\" in 0.15 but will change to \"firwin\" in 0.16, set it explicitly to avoid this warning.\n",
      "  h_freq=low_pass_filter, method='fir', phase='zero-double').swapaxes(0,1)\n"
     ]
    },
    {
     "name": "stdout",
     "output_type": "stream",
     "text": [
      "-> Shape of all trials data to plot :  (23, 165)\n",
      "-> Shape of time vector :  23\n",
      "/media/karim/Datas4To/1_Analyses_Intra_EM_Odor/Olfacto/feature/ERP_Odor_No_Odor/Retrieval/PIRJ_ERP_MOrG-LOrG_o7-o6_(46).png\n",
      "data to save (23, 165) cond0 (47, 23, 32) cond1 (47, 23, 133)\n",
      "Setting up low-pass filter at 10 Hz\n",
      "fir_design defaults to \"firwin2\" in 0.15 but will change to \"firwin\" in 0.16, set it explicitly to avoid this warning.\n",
      "h_trans_bandwidth chosen to be 2.5 Hz\n",
      "Filter length of 1352 samples (2.641 sec) selected\n",
      "Size of filtered data: (3584, 165)\n",
      "time points :  (3584,)\n",
      "Applying baseline correction (mode: mean)\n",
      "Size norm & filtered data :  (3584, 165)\n"
     ]
    },
    {
     "name": "stderr",
     "output_type": "stream",
     "text": [
      "<ipython-input-5-154bfa86badc>:37: DeprecationWarning: fir_design defaults to \"firwin2\" in 0.15 but will change to \"firwin\" in 0.16, set it explicitly to avoid this warning.\n",
      "  h_freq=low_pass_filter, method='fir', phase='zero-double').swapaxes(0,1)\n"
     ]
    },
    {
     "name": "stdout",
     "output_type": "stream",
     "text": [
      "-> Shape of all trials data to plot :  (23, 165)\n",
      "-> Shape of time vector :  23\n",
      "/media/karim/Datas4To/1_Analyses_Intra_EM_Odor/Olfacto/feature/ERP_Odor_No_Odor/Retrieval/PIRJ_ERP_LOrG&MOrG-LOrG_o8-o7_(47).png\n",
      "data to save (23, 165) cond0 (48, 23, 32) cond1 (48, 23, 133)\n",
      "Setting up low-pass filter at 10 Hz\n",
      "fir_design defaults to \"firwin2\" in 0.15 but will change to \"firwin\" in 0.16, set it explicitly to avoid this warning.\n",
      "h_trans_bandwidth chosen to be 2.5 Hz\n",
      "Filter length of 1352 samples (2.641 sec) selected\n",
      "Size of filtered data: (3584, 165)\n",
      "time points :  (3584,)\n",
      "Applying baseline correction (mode: mean)\n",
      "Size norm & filtered data :  (3584, 165)\n"
     ]
    },
    {
     "name": "stderr",
     "output_type": "stream",
     "text": [
      "<ipython-input-5-154bfa86badc>:37: DeprecationWarning: fir_design defaults to \"firwin2\" in 0.15 but will change to \"firwin\" in 0.16, set it explicitly to avoid this warning.\n",
      "  h_freq=low_pass_filter, method='fir', phase='zero-double').swapaxes(0,1)\n"
     ]
    },
    {
     "name": "stdout",
     "output_type": "stream",
     "text": [
      "-> Shape of all trials data to plot :  (23, 165)\n",
      "-> Shape of time vector :  23\n",
      "/media/karim/Datas4To/1_Analyses_Intra_EM_Odor/Olfacto/feature/ERP_Odor_No_Odor/Retrieval/PIRJ_ERP_LOrG-IFGOr&LOrG_o9-o8_(48).png\n",
      "data to save (23, 165) cond0 (49, 23, 32) cond1 (49, 23, 133)\n",
      "Setting up low-pass filter at 10 Hz\n",
      "fir_design defaults to \"firwin2\" in 0.15 but will change to \"firwin\" in 0.16, set it explicitly to avoid this warning.\n",
      "h_trans_bandwidth chosen to be 2.5 Hz\n",
      "Filter length of 1352 samples (2.641 sec) selected\n",
      "Size of filtered data: (3584, 165)\n",
      "time points :  (3584,)\n",
      "Applying baseline correction (mode: mean)\n",
      "Size norm & filtered data :  (3584, 165)\n"
     ]
    },
    {
     "name": "stderr",
     "output_type": "stream",
     "text": [
      "<ipython-input-5-154bfa86badc>:37: DeprecationWarning: fir_design defaults to \"firwin2\" in 0.15 but will change to \"firwin\" in 0.16, set it explicitly to avoid this warning.\n",
      "  h_freq=low_pass_filter, method='fir', phase='zero-double').swapaxes(0,1)\n"
     ]
    },
    {
     "name": "stdout",
     "output_type": "stream",
     "text": [
      "-> Shape of all trials data to plot :  (23, 165)\n",
      "-> Shape of time vector :  23\n",
      "/media/karim/Datas4To/1_Analyses_Intra_EM_Odor/Olfacto/feature/ERP_Odor_No_Odor/Retrieval/PIRJ_ERP_LOrG-IFGOr_o10-o9_(49).png\n",
      "data to save (23, 165) cond0 (50, 23, 32) cond1 (50, 23, 133)\n",
      "Setting up low-pass filter at 10 Hz\n",
      "fir_design defaults to \"firwin2\" in 0.15 but will change to \"firwin\" in 0.16, set it explicitly to avoid this warning.\n",
      "h_trans_bandwidth chosen to be 2.5 Hz\n",
      "Filter length of 1352 samples (2.641 sec) selected\n",
      "Size of filtered data: (3584, 165)\n",
      "time points :  (3584,)\n",
      "Applying baseline correction (mode: mean)\n",
      "Size norm & filtered data :  (3584, 165)\n"
     ]
    },
    {
     "name": "stderr",
     "output_type": "stream",
     "text": [
      "<ipython-input-5-154bfa86badc>:37: DeprecationWarning: fir_design defaults to \"firwin2\" in 0.15 but will change to \"firwin\" in 0.16, set it explicitly to avoid this warning.\n",
      "  h_freq=low_pass_filter, method='fir', phase='zero-double').swapaxes(0,1)\n"
     ]
    },
    {
     "name": "stdout",
     "output_type": "stream",
     "text": [
      "-> Shape of all trials data to plot :  (23, 165)\n",
      "-> Shape of time vector :  23\n",
      "/media/karim/Datas4To/1_Analyses_Intra_EM_Odor/Olfacto/feature/ERP_Odor_No_Odor/Retrieval/PIRJ_ERP_IFGOr&LOrG-IFGOr_o11-o10_(50).png\n",
      "data to save (23, 165) cond0 (51, 23, 32) cond1 (51, 23, 133)\n",
      "Setting up low-pass filter at 10 Hz\n",
      "fir_design defaults to \"firwin2\" in 0.15 but will change to \"firwin\" in 0.16, set it explicitly to avoid this warning.\n",
      "h_trans_bandwidth chosen to be 2.5 Hz\n",
      "Filter length of 1352 samples (2.641 sec) selected\n",
      "Size of filtered data: (3584, 165)\n",
      "time points :  (3584,)\n",
      "Applying baseline correction (mode: mean)\n",
      "Size norm & filtered data :  (3584, 165)\n"
     ]
    },
    {
     "name": "stderr",
     "output_type": "stream",
     "text": [
      "<ipython-input-5-154bfa86badc>:37: DeprecationWarning: fir_design defaults to \"firwin2\" in 0.15 but will change to \"firwin\" in 0.16, set it explicitly to avoid this warning.\n",
      "  h_freq=low_pass_filter, method='fir', phase='zero-double').swapaxes(0,1)\n"
     ]
    },
    {
     "name": "stdout",
     "output_type": "stream",
     "text": [
      "-> Shape of all trials data to plot :  (23, 165)\n",
      "-> Shape of time vector :  23\n",
      "/media/karim/Datas4To/1_Analyses_Intra_EM_Odor/Olfacto/feature/ERP_Odor_No_Odor/Retrieval/PIRJ_ERP_IFGOr_o12-o11_(51).png\n",
      "data to save (23, 165) cond0 (52, 23, 32) cond1 (52, 23, 133)\n",
      "Setting up low-pass filter at 10 Hz\n",
      "fir_design defaults to \"firwin2\" in 0.15 but will change to \"firwin\" in 0.16, set it explicitly to avoid this warning.\n",
      "h_trans_bandwidth chosen to be 2.5 Hz\n",
      "Filter length of 1352 samples (2.641 sec) selected\n",
      "Size of filtered data: (3584, 165)\n",
      "time points :  (3584,)\n",
      "Applying baseline correction (mode: mean)\n",
      "Size norm & filtered data :  (3584, 165)\n"
     ]
    },
    {
     "name": "stderr",
     "output_type": "stream",
     "text": [
      "<ipython-input-5-154bfa86badc>:37: DeprecationWarning: fir_design defaults to \"firwin2\" in 0.15 but will change to \"firwin\" in 0.16, set it explicitly to avoid this warning.\n",
      "  h_freq=low_pass_filter, method='fir', phase='zero-double').swapaxes(0,1)\n"
     ]
    },
    {
     "name": "stdout",
     "output_type": "stream",
     "text": [
      "-> Shape of all trials data to plot :  (23, 165)\n",
      "-> Shape of time vector :  23\n",
      "/media/karim/Datas4To/1_Analyses_Intra_EM_Odor/Olfacto/feature/ERP_Odor_No_Odor/Retrieval/PIRJ_ERP_pIns_t2-t1_(52).png\n",
      "data to save (23, 165) cond0 (53, 23, 32) cond1 (53, 23, 133)\n",
      "Setting up low-pass filter at 10 Hz\n",
      "fir_design defaults to \"firwin2\" in 0.15 but will change to \"firwin\" in 0.16, set it explicitly to avoid this warning.\n",
      "h_trans_bandwidth chosen to be 2.5 Hz\n",
      "Filter length of 1352 samples (2.641 sec) selected\n",
      "Size of filtered data: (3584, 165)\n",
      "time points :  (3584,)\n",
      "Applying baseline correction (mode: mean)\n",
      "Size norm & filtered data :  (3584, 165)\n"
     ]
    },
    {
     "name": "stderr",
     "output_type": "stream",
     "text": [
      "<ipython-input-5-154bfa86badc>:37: DeprecationWarning: fir_design defaults to \"firwin2\" in 0.15 but will change to \"firwin\" in 0.16, set it explicitly to avoid this warning.\n",
      "  h_freq=low_pass_filter, method='fir', phase='zero-double').swapaxes(0,1)\n"
     ]
    },
    {
     "name": "stdout",
     "output_type": "stream",
     "text": [
      "-> Shape of all trials data to plot :  (23, 165)\n",
      "-> Shape of time vector :  23\n",
      "/media/karim/Datas4To/1_Analyses_Intra_EM_Odor/Olfacto/feature/ERP_Odor_No_Odor/Retrieval/PIRJ_ERP_PIns-TTG&pIns_t3-t2_(53).png\n",
      "data to save (23, 165) cond0 (54, 23, 32) cond1 (54, 23, 133)\n",
      "Setting up low-pass filter at 10 Hz\n",
      "fir_design defaults to \"firwin2\" in 0.15 but will change to \"firwin\" in 0.16, set it explicitly to avoid this warning.\n",
      "h_trans_bandwidth chosen to be 2.5 Hz\n",
      "Filter length of 1352 samples (2.641 sec) selected\n",
      "Size of filtered data: (3584, 165)\n",
      "time points :  (3584,)\n",
      "Applying baseline correction (mode: mean)\n",
      "Size norm & filtered data :  (3584, 165)\n"
     ]
    },
    {
     "name": "stderr",
     "output_type": "stream",
     "text": [
      "<ipython-input-5-154bfa86badc>:37: DeprecationWarning: fir_design defaults to \"firwin2\" in 0.15 but will change to \"firwin\" in 0.16, set it explicitly to avoid this warning.\n",
      "  h_freq=low_pass_filter, method='fir', phase='zero-double').swapaxes(0,1)\n"
     ]
    },
    {
     "name": "stdout",
     "output_type": "stream",
     "text": [
      "-> Shape of all trials data to plot :  (23, 165)\n",
      "-> Shape of time vector :  23\n",
      "/media/karim/Datas4To/1_Analyses_Intra_EM_Odor/Olfacto/feature/ERP_Odor_No_Odor/Retrieval/PIRJ_ERP_pSTG&PIns-TTG_t4-t3_(54).png\n",
      "data to save (23, 165) cond0 (55, 23, 32) cond1 (55, 23, 133)\n",
      "Setting up low-pass filter at 10 Hz\n",
      "fir_design defaults to \"firwin2\" in 0.15 but will change to \"firwin\" in 0.16, set it explicitly to avoid this warning.\n",
      "h_trans_bandwidth chosen to be 2.5 Hz\n",
      "Filter length of 1352 samples (2.641 sec) selected\n",
      "Size of filtered data: (3584, 165)\n",
      "time points :  (3584,)\n",
      "Applying baseline correction (mode: mean)\n",
      "Size norm & filtered data :  (3584, 165)\n"
     ]
    },
    {
     "name": "stderr",
     "output_type": "stream",
     "text": [
      "<ipython-input-5-154bfa86badc>:37: DeprecationWarning: fir_design defaults to \"firwin2\" in 0.15 but will change to \"firwin\" in 0.16, set it explicitly to avoid this warning.\n",
      "  h_freq=low_pass_filter, method='fir', phase='zero-double').swapaxes(0,1)\n"
     ]
    },
    {
     "name": "stdout",
     "output_type": "stream",
     "text": [
      "-> Shape of all trials data to plot :  (23, 165)\n",
      "-> Shape of time vector :  23\n",
      "/media/karim/Datas4To/1_Analyses_Intra_EM_Odor/Olfacto/feature/ERP_Odor_No_Odor/Retrieval/PIRJ_ERP_pSTG_t5-t4_(55).png\n",
      "data to save (23, 165) cond0 (56, 23, 32) cond1 (56, 23, 133)\n",
      "Setting up low-pass filter at 10 Hz\n",
      "fir_design defaults to \"firwin2\" in 0.15 but will change to \"firwin\" in 0.16, set it explicitly to avoid this warning.\n",
      "h_trans_bandwidth chosen to be 2.5 Hz\n",
      "Filter length of 1352 samples (2.641 sec) selected\n",
      "Size of filtered data: (3584, 165)\n",
      "time points :  (3584,)\n",
      "Applying baseline correction (mode: mean)\n",
      "Size norm & filtered data :  (3584, 165)\n"
     ]
    },
    {
     "name": "stderr",
     "output_type": "stream",
     "text": [
      "<ipython-input-5-154bfa86badc>:37: DeprecationWarning: fir_design defaults to \"firwin2\" in 0.15 but will change to \"firwin\" in 0.16, set it explicitly to avoid this warning.\n",
      "  h_freq=low_pass_filter, method='fir', phase='zero-double').swapaxes(0,1)\n"
     ]
    },
    {
     "name": "stdout",
     "output_type": "stream",
     "text": [
      "-> Shape of all trials data to plot :  (23, 165)\n",
      "-> Shape of time vector :  23\n",
      "/media/karim/Datas4To/1_Analyses_Intra_EM_Odor/Olfacto/feature/ERP_Odor_No_Odor/Retrieval/PIRJ_ERP_pSTG_t6-t5_(56).png\n",
      "data to save (23, 165) cond0 (57, 23, 32) cond1 (57, 23, 133)\n",
      "Setting up low-pass filter at 10 Hz\n",
      "fir_design defaults to \"firwin2\" in 0.15 but will change to \"firwin\" in 0.16, set it explicitly to avoid this warning.\n",
      "h_trans_bandwidth chosen to be 2.5 Hz\n",
      "Filter length of 1352 samples (2.641 sec) selected\n",
      "Size of filtered data: (3584, 165)\n",
      "time points :  (3584,)\n",
      "Applying baseline correction (mode: mean)\n",
      "Size norm & filtered data :  (3584, 165)\n"
     ]
    },
    {
     "name": "stderr",
     "output_type": "stream",
     "text": [
      "<ipython-input-5-154bfa86badc>:37: DeprecationWarning: fir_design defaults to \"firwin2\" in 0.15 but will change to \"firwin\" in 0.16, set it explicitly to avoid this warning.\n",
      "  h_freq=low_pass_filter, method='fir', phase='zero-double').swapaxes(0,1)\n"
     ]
    },
    {
     "name": "stdout",
     "output_type": "stream",
     "text": [
      "-> Shape of all trials data to plot :  (23, 165)\n",
      "-> Shape of time vector :  23\n",
      "/media/karim/Datas4To/1_Analyses_Intra_EM_Odor/Olfacto/feature/ERP_Odor_No_Odor/Retrieval/PIRJ_ERP_pSTG_t7-t6_(57).png\n",
      "data to save (23, 165) cond0 (58, 23, 32) cond1 (58, 23, 133)\n",
      "Setting up low-pass filter at 10 Hz\n",
      "fir_design defaults to \"firwin2\" in 0.15 but will change to \"firwin\" in 0.16, set it explicitly to avoid this warning.\n",
      "h_trans_bandwidth chosen to be 2.5 Hz\n",
      "Filter length of 1352 samples (2.641 sec) selected\n",
      "Size of filtered data: (3584, 165)\n",
      "time points :  (3584,)\n",
      "Applying baseline correction (mode: mean)\n",
      "Size norm & filtered data :  (3584, 165)\n"
     ]
    },
    {
     "name": "stderr",
     "output_type": "stream",
     "text": [
      "<ipython-input-5-154bfa86badc>:37: DeprecationWarning: fir_design defaults to \"firwin2\" in 0.15 but will change to \"firwin\" in 0.16, set it explicitly to avoid this warning.\n",
      "  h_freq=low_pass_filter, method='fir', phase='zero-double').swapaxes(0,1)\n"
     ]
    },
    {
     "name": "stdout",
     "output_type": "stream",
     "text": [
      "-> Shape of all trials data to plot :  (23, 165)\n",
      "-> Shape of time vector :  23\n",
      "/media/karim/Datas4To/1_Analyses_Intra_EM_Odor/Olfacto/feature/ERP_Odor_No_Odor/Retrieval/PIRJ_ERP_pSTG_t8-t7_(58).png\n",
      "data to save (23, 165) cond0 (59, 23, 32) cond1 (59, 23, 133)\n",
      "Setting up low-pass filter at 10 Hz\n",
      "fir_design defaults to \"firwin2\" in 0.15 but will change to \"firwin\" in 0.16, set it explicitly to avoid this warning.\n",
      "h_trans_bandwidth chosen to be 2.5 Hz\n",
      "Filter length of 1352 samples (2.641 sec) selected\n",
      "Size of filtered data: (3584, 165)\n",
      "time points :  (3584,)\n",
      "Applying baseline correction (mode: mean)\n",
      "Size norm & filtered data :  (3584, 165)\n"
     ]
    },
    {
     "name": "stderr",
     "output_type": "stream",
     "text": [
      "<ipython-input-5-154bfa86badc>:37: DeprecationWarning: fir_design defaults to \"firwin2\" in 0.15 but will change to \"firwin\" in 0.16, set it explicitly to avoid this warning.\n",
      "  h_freq=low_pass_filter, method='fir', phase='zero-double').swapaxes(0,1)\n"
     ]
    },
    {
     "name": "stdout",
     "output_type": "stream",
     "text": [
      "-> Shape of all trials data to plot :  (23, 165)\n",
      "-> Shape of time vector :  23\n",
      "/media/karim/Datas4To/1_Analyses_Intra_EM_Odor/Olfacto/feature/ERP_Odor_No_Odor/Retrieval/PIRJ_ERP_pSTG-pMTG&pSTG_t9-t8_(59).png\n",
      "data to save (23, 165) cond0 (60, 23, 32) cond1 (60, 23, 133)\n",
      "Setting up low-pass filter at 10 Hz\n",
      "fir_design defaults to \"firwin2\" in 0.15 but will change to \"firwin\" in 0.16, set it explicitly to avoid this warning.\n",
      "h_trans_bandwidth chosen to be 2.5 Hz\n",
      "Filter length of 1352 samples (2.641 sec) selected\n",
      "Size of filtered data: (3584, 165)\n",
      "time points :  (3584,)\n",
      "Applying baseline correction (mode: mean)\n",
      "Size norm & filtered data :  (3584, 165)\n"
     ]
    },
    {
     "name": "stderr",
     "output_type": "stream",
     "text": [
      "<ipython-input-5-154bfa86badc>:37: DeprecationWarning: fir_design defaults to \"firwin2\" in 0.15 but will change to \"firwin\" in 0.16, set it explicitly to avoid this warning.\n",
      "  h_freq=low_pass_filter, method='fir', phase='zero-double').swapaxes(0,1)\n"
     ]
    },
    {
     "name": "stdout",
     "output_type": "stream",
     "text": [
      "-> Shape of all trials data to plot :  (23, 165)\n",
      "-> Shape of time vector :  23\n",
      "/media/karim/Datas4To/1_Analyses_Intra_EM_Odor/Olfacto/feature/ERP_Odor_No_Odor/Retrieval/PIRJ_ERP_pSTG-pMTG_t10-t9_(60).png\n",
      "data to save (23, 165) cond0 (61, 23, 32) cond1 (61, 23, 133)\n",
      "(61, 23, 133) (61, 23, 32)\n",
      "SEMC (66, 3584, 142) (66, 3584, 24)\n",
      "Setting up low-pass filter at 10 Hz\n",
      "fir_design defaults to \"firwin2\" in 0.15 but will change to \"firwin\" in 0.16, set it explicitly to avoid this warning.\n",
      "h_trans_bandwidth chosen to be 2.5 Hz\n",
      "Filter length of 1352 samples (2.641 sec) selected\n",
      "Size of filtered data: (3584, 166)\n",
      "time points :  (3584,)\n",
      "Applying baseline correction (mode: mean)\n",
      "Size norm & filtered data :  (3584, 166)\n"
     ]
    },
    {
     "name": "stderr",
     "output_type": "stream",
     "text": [
      "<ipython-input-5-154bfa86badc>:37: DeprecationWarning: fir_design defaults to \"firwin2\" in 0.15 but will change to \"firwin\" in 0.16, set it explicitly to avoid this warning.\n",
      "  h_freq=low_pass_filter, method='fir', phase='zero-double').swapaxes(0,1)\n"
     ]
    },
    {
     "name": "stdout",
     "output_type": "stream",
     "text": [
      "-> Shape of all trials data to plot :  (23, 166)\n",
      "-> Shape of time vector :  23\n",
      "/media/karim/Datas4To/1_Analyses_Intra_EM_Odor/Olfacto/feature/ERP_Odor_No_Odor/Retrieval/SEMC_ERP_aHC&aHC-Ent_b2-b1_(0).png\n",
      "data to save (23, 166) cond0 (1, 23, 24) cond1 (1, 23, 142)\n",
      "Setting up low-pass filter at 10 Hz\n",
      "fir_design defaults to \"firwin2\" in 0.15 but will change to \"firwin\" in 0.16, set it explicitly to avoid this warning.\n",
      "h_trans_bandwidth chosen to be 2.5 Hz\n",
      "Filter length of 1352 samples (2.641 sec) selected\n",
      "Size of filtered data: (3584, 166)\n",
      "time points :  (3584,)\n",
      "Applying baseline correction (mode: mean)\n",
      "Size norm & filtered data :  (3584, 166)\n"
     ]
    },
    {
     "name": "stderr",
     "output_type": "stream",
     "text": [
      "<ipython-input-5-154bfa86badc>:37: DeprecationWarning: fir_design defaults to \"firwin2\" in 0.15 but will change to \"firwin\" in 0.16, set it explicitly to avoid this warning.\n",
      "  h_freq=low_pass_filter, method='fir', phase='zero-double').swapaxes(0,1)\n"
     ]
    },
    {
     "name": "stdout",
     "output_type": "stream",
     "text": [
      "-> Shape of all trials data to plot :  (23, 166)\n",
      "-> Shape of time vector :  23\n",
      "/media/karim/Datas4To/1_Analyses_Intra_EM_Odor/Olfacto/feature/ERP_Odor_No_Odor/Retrieval/SEMC_ERP_aHC_b3-b2_(1).png\n",
      "data to save (23, 166) cond0 (2, 23, 24) cond1 (2, 23, 142)\n",
      "Setting up low-pass filter at 10 Hz\n",
      "fir_design defaults to \"firwin2\" in 0.15 but will change to \"firwin\" in 0.16, set it explicitly to avoid this warning.\n",
      "h_trans_bandwidth chosen to be 2.5 Hz\n",
      "Filter length of 1352 samples (2.641 sec) selected\n",
      "Size of filtered data: (3584, 166)\n",
      "time points :  (3584,)\n",
      "Applying baseline correction (mode: mean)\n",
      "Size norm & filtered data :  (3584, 166)\n"
     ]
    },
    {
     "name": "stderr",
     "output_type": "stream",
     "text": [
      "<ipython-input-5-154bfa86badc>:37: DeprecationWarning: fir_design defaults to \"firwin2\" in 0.15 but will change to \"firwin\" in 0.16, set it explicitly to avoid this warning.\n",
      "  h_freq=low_pass_filter, method='fir', phase='zero-double').swapaxes(0,1)\n"
     ]
    },
    {
     "name": "stdout",
     "output_type": "stream",
     "text": [
      "-> Shape of all trials data to plot :  (23, 166)\n",
      "-> Shape of time vector :  23\n",
      "/media/karim/Datas4To/1_Analyses_Intra_EM_Odor/Olfacto/feature/ERP_Odor_No_Odor/Retrieval/SEMC_ERP_aHC_b4-b3_(2).png\n",
      "data to save (23, 166) cond0 (3, 23, 24) cond1 (3, 23, 142)\n",
      "Setting up low-pass filter at 10 Hz\n",
      "fir_design defaults to \"firwin2\" in 0.15 but will change to \"firwin\" in 0.16, set it explicitly to avoid this warning.\n",
      "h_trans_bandwidth chosen to be 2.5 Hz\n",
      "Filter length of 1352 samples (2.641 sec) selected\n",
      "Size of filtered data: (3584, 166)\n",
      "time points :  (3584,)\n",
      "Applying baseline correction (mode: mean)\n",
      "Size norm & filtered data :  (3584, 166)\n"
     ]
    },
    {
     "name": "stderr",
     "output_type": "stream",
     "text": [
      "<ipython-input-5-154bfa86badc>:37: DeprecationWarning: fir_design defaults to \"firwin2\" in 0.15 but will change to \"firwin\" in 0.16, set it explicitly to avoid this warning.\n",
      "  h_freq=low_pass_filter, method='fir', phase='zero-double').swapaxes(0,1)\n"
     ]
    },
    {
     "name": "stdout",
     "output_type": "stream",
     "text": [
      "-> Shape of all trials data to plot :  (23, 166)\n",
      "-> Shape of time vector :  23\n",
      "/media/karim/Datas4To/1_Analyses_Intra_EM_Odor/Olfacto/feature/ERP_Odor_No_Odor/Retrieval/SEMC_ERP_aHC-PHG&aHC_b5-b4_(3).png\n",
      "data to save (23, 166) cond0 (4, 23, 24) cond1 (4, 23, 142)\n",
      "Setting up low-pass filter at 10 Hz\n",
      "fir_design defaults to \"firwin2\" in 0.15 but will change to \"firwin\" in 0.16, set it explicitly to avoid this warning.\n",
      "h_trans_bandwidth chosen to be 2.5 Hz\n",
      "Filter length of 1352 samples (2.641 sec) selected\n",
      "Size of filtered data: (3584, 166)\n",
      "time points :  (3584,)\n",
      "Applying baseline correction (mode: mean)\n",
      "Size norm & filtered data :  (3584, 166)\n"
     ]
    },
    {
     "name": "stderr",
     "output_type": "stream",
     "text": [
      "<ipython-input-5-154bfa86badc>:37: DeprecationWarning: fir_design defaults to \"firwin2\" in 0.15 but will change to \"firwin\" in 0.16, set it explicitly to avoid this warning.\n",
      "  h_freq=low_pass_filter, method='fir', phase='zero-double').swapaxes(0,1)\n"
     ]
    },
    {
     "name": "stdout",
     "output_type": "stream",
     "text": [
      "-> Shape of all trials data to plot :  (23, 166)\n",
      "-> Shape of time vector :  23\n",
      "/media/karim/Datas4To/1_Analyses_Intra_EM_Odor/Olfacto/feature/ERP_Odor_No_Odor/Retrieval/SEMC_ERP_PHG-FuG&aHC-PHG_b6-b5_(4).png\n",
      "data to save (23, 166) cond0 (5, 23, 24) cond1 (5, 23, 142)\n",
      "Setting up low-pass filter at 10 Hz\n",
      "fir_design defaults to \"firwin2\" in 0.15 but will change to \"firwin\" in 0.16, set it explicitly to avoid this warning.\n",
      "h_trans_bandwidth chosen to be 2.5 Hz\n",
      "Filter length of 1352 samples (2.641 sec) selected\n",
      "Size of filtered data: (3584, 166)\n",
      "time points :  (3584,)\n",
      "Applying baseline correction (mode: mean)\n",
      "Size norm & filtered data :  (3584, 166)\n"
     ]
    },
    {
     "name": "stderr",
     "output_type": "stream",
     "text": [
      "<ipython-input-5-154bfa86badc>:37: DeprecationWarning: fir_design defaults to \"firwin2\" in 0.15 but will change to \"firwin\" in 0.16, set it explicitly to avoid this warning.\n",
      "  h_freq=low_pass_filter, method='fir', phase='zero-double').swapaxes(0,1)\n"
     ]
    },
    {
     "name": "stdout",
     "output_type": "stream",
     "text": [
      "-> Shape of all trials data to plot :  (23, 166)\n",
      "-> Shape of time vector :  23\n",
      "/media/karim/Datas4To/1_Analyses_Intra_EM_Odor/Olfacto/feature/ERP_Odor_No_Odor/Retrieval/SEMC_ERP_MTG_b12-b11_(5).png\n",
      "data to save (23, 166) cond0 (6, 23, 24) cond1 (6, 23, 142)\n",
      "Setting up low-pass filter at 10 Hz\n",
      "fir_design defaults to \"firwin2\" in 0.15 but will change to \"firwin\" in 0.16, set it explicitly to avoid this warning.\n",
      "h_trans_bandwidth chosen to be 2.5 Hz\n",
      "Filter length of 1352 samples (2.641 sec) selected\n",
      "Size of filtered data: (3584, 166)\n",
      "time points :  (3584,)\n",
      "Applying baseline correction (mode: mean)\n",
      "Size norm & filtered data :  (3584, 166)\n"
     ]
    },
    {
     "name": "stderr",
     "output_type": "stream",
     "text": [
      "<ipython-input-5-154bfa86badc>:37: DeprecationWarning: fir_design defaults to \"firwin2\" in 0.15 but will change to \"firwin\" in 0.16, set it explicitly to avoid this warning.\n",
      "  h_freq=low_pass_filter, method='fir', phase='zero-double').swapaxes(0,1)\n"
     ]
    },
    {
     "name": "stdout",
     "output_type": "stream",
     "text": [
      "-> Shape of all trials data to plot :  (23, 166)\n",
      "-> Shape of time vector :  23\n",
      "/media/karim/Datas4To/1_Analyses_Intra_EM_Odor/Olfacto/feature/ERP_Odor_No_Odor/Retrieval/SEMC_ERP_FOp-IG_e2-e1_(6).png\n",
      "data to save (23, 166) cond0 (7, 23, 24) cond1 (7, 23, 142)\n",
      "Setting up low-pass filter at 10 Hz\n",
      "fir_design defaults to \"firwin2\" in 0.15 but will change to \"firwin\" in 0.16, set it explicitly to avoid this warning.\n",
      "h_trans_bandwidth chosen to be 2.5 Hz\n",
      "Filter length of 1352 samples (2.641 sec) selected\n",
      "Size of filtered data: (3584, 166)\n",
      "time points :  (3584,)\n",
      "Applying baseline correction (mode: mean)\n",
      "Size norm & filtered data :  (3584, 166)\n"
     ]
    },
    {
     "name": "stderr",
     "output_type": "stream",
     "text": [
      "<ipython-input-5-154bfa86badc>:37: DeprecationWarning: fir_design defaults to \"firwin2\" in 0.15 but will change to \"firwin\" in 0.16, set it explicitly to avoid this warning.\n",
      "  h_freq=low_pass_filter, method='fir', phase='zero-double').swapaxes(0,1)\n"
     ]
    },
    {
     "name": "stdout",
     "output_type": "stream",
     "text": [
      "-> Shape of all trials data to plot :  (23, 166)\n",
      "-> Shape of time vector :  23\n",
      "/media/karim/Datas4To/1_Analyses_Intra_EM_Odor/Olfacto/feature/ERP_Odor_No_Odor/Retrieval/SEMC_ERP_FOp-IG_e3-e2_(7).png\n",
      "data to save (23, 166) cond0 (8, 23, 24) cond1 (8, 23, 142)\n",
      "Setting up low-pass filter at 10 Hz\n",
      "fir_design defaults to \"firwin2\" in 0.15 but will change to \"firwin\" in 0.16, set it explicitly to avoid this warning.\n",
      "h_trans_bandwidth chosen to be 2.5 Hz\n",
      "Filter length of 1352 samples (2.641 sec) selected\n",
      "Size of filtered data: (3584, 166)\n",
      "time points :  (3584,)\n",
      "Applying baseline correction (mode: mean)\n",
      "Size norm & filtered data :  (3584, 166)\n"
     ]
    },
    {
     "name": "stderr",
     "output_type": "stream",
     "text": [
      "<ipython-input-5-154bfa86badc>:37: DeprecationWarning: fir_design defaults to \"firwin2\" in 0.15 but will change to \"firwin\" in 0.16, set it explicitly to avoid this warning.\n",
      "  h_freq=low_pass_filter, method='fir', phase='zero-double').swapaxes(0,1)\n"
     ]
    },
    {
     "name": "stdout",
     "output_type": "stream",
     "text": [
      "-> Shape of all trials data to plot :  (23, 166)\n",
      "-> Shape of time vector :  23\n",
      "/media/karim/Datas4To/1_Analyses_Intra_EM_Odor/Olfacto/feature/ERP_Odor_No_Odor/Retrieval/SEMC_ERP_FOp&FOp-IG_e4-e3_(8).png\n",
      "data to save (23, 166) cond0 (9, 23, 24) cond1 (9, 23, 142)\n",
      "Setting up low-pass filter at 10 Hz\n",
      "fir_design defaults to \"firwin2\" in 0.15 but will change to \"firwin\" in 0.16, set it explicitly to avoid this warning.\n",
      "h_trans_bandwidth chosen to be 2.5 Hz\n",
      "Filter length of 1352 samples (2.641 sec) selected\n",
      "Size of filtered data: (3584, 166)\n",
      "time points :  (3584,)\n",
      "Applying baseline correction (mode: mean)\n",
      "Size norm & filtered data :  (3584, 166)\n"
     ]
    },
    {
     "name": "stderr",
     "output_type": "stream",
     "text": [
      "<ipython-input-5-154bfa86badc>:37: DeprecationWarning: fir_design defaults to \"firwin2\" in 0.15 but will change to \"firwin\" in 0.16, set it explicitly to avoid this warning.\n",
      "  h_freq=low_pass_filter, method='fir', phase='zero-double').swapaxes(0,1)\n"
     ]
    },
    {
     "name": "stdout",
     "output_type": "stream",
     "text": [
      "-> Shape of all trials data to plot :  (23, 166)\n",
      "-> Shape of time vector :  23\n",
      "/media/karim/Datas4To/1_Analyses_Intra_EM_Odor/Olfacto/feature/ERP_Odor_No_Odor/Retrieval/SEMC_ERP_IFGOp_e7-e6_(9).png\n",
      "data to save (23, 166) cond0 (10, 23, 24) cond1 (10, 23, 142)\n",
      "Setting up low-pass filter at 10 Hz\n",
      "fir_design defaults to \"firwin2\" in 0.15 but will change to \"firwin\" in 0.16, set it explicitly to avoid this warning.\n",
      "h_trans_bandwidth chosen to be 2.5 Hz\n",
      "Filter length of 1352 samples (2.641 sec) selected\n",
      "Size of filtered data: (3584, 166)\n",
      "time points :  (3584,)\n",
      "Applying baseline correction (mode: mean)\n",
      "Size norm & filtered data :  (3584, 166)\n"
     ]
    },
    {
     "name": "stderr",
     "output_type": "stream",
     "text": [
      "<ipython-input-5-154bfa86badc>:37: DeprecationWarning: fir_design defaults to \"firwin2\" in 0.15 but will change to \"firwin\" in 0.16, set it explicitly to avoid this warning.\n",
      "  h_freq=low_pass_filter, method='fir', phase='zero-double').swapaxes(0,1)\n"
     ]
    },
    {
     "name": "stdout",
     "output_type": "stream",
     "text": [
      "-> Shape of all trials data to plot :  (23, 166)\n",
      "-> Shape of time vector :  23\n",
      "/media/karim/Datas4To/1_Analyses_Intra_EM_Odor/Olfacto/feature/ERP_Odor_No_Odor/Retrieval/SEMC_ERP_IFGOp_e8-e7_(10).png\n",
      "data to save (23, 166) cond0 (11, 23, 24) cond1 (11, 23, 142)\n",
      "Setting up low-pass filter at 10 Hz\n",
      "fir_design defaults to \"firwin2\" in 0.15 but will change to \"firwin\" in 0.16, set it explicitly to avoid this warning.\n",
      "h_trans_bandwidth chosen to be 2.5 Hz\n",
      "Filter length of 1352 samples (2.641 sec) selected\n",
      "Size of filtered data: (3584, 166)\n",
      "time points :  (3584,)\n",
      "Applying baseline correction (mode: mean)\n",
      "Size norm & filtered data :  (3584, 166)\n"
     ]
    },
    {
     "name": "stderr",
     "output_type": "stream",
     "text": [
      "<ipython-input-5-154bfa86badc>:37: DeprecationWarning: fir_design defaults to \"firwin2\" in 0.15 but will change to \"firwin\" in 0.16, set it explicitly to avoid this warning.\n",
      "  h_freq=low_pass_filter, method='fir', phase='zero-double').swapaxes(0,1)\n"
     ]
    },
    {
     "name": "stdout",
     "output_type": "stream",
     "text": [
      "-> Shape of all trials data to plot :  (23, 166)\n",
      "-> Shape of time vector :  23\n",
      "/media/karim/Datas4To/1_Analyses_Intra_EM_Odor/Olfacto/feature/ERP_Odor_No_Odor/Retrieval/SEMC_ERP_SRoG-IFPG&SRoG_f2-f1_(11).png\n",
      "data to save (23, 166) cond0 (12, 23, 24) cond1 (12, 23, 142)\n",
      "Setting up low-pass filter at 10 Hz\n",
      "fir_design defaults to \"firwin2\" in 0.15 but will change to \"firwin\" in 0.16, set it explicitly to avoid this warning.\n",
      "h_trans_bandwidth chosen to be 2.5 Hz\n",
      "Filter length of 1352 samples (2.641 sec) selected\n",
      "Size of filtered data: (3584, 166)\n",
      "time points :  (3584,)\n",
      "Applying baseline correction (mode: mean)\n",
      "Size norm & filtered data :  (3584, 166)\n"
     ]
    },
    {
     "name": "stderr",
     "output_type": "stream",
     "text": [
      "<ipython-input-5-154bfa86badc>:37: DeprecationWarning: fir_design defaults to \"firwin2\" in 0.15 but will change to \"firwin\" in 0.16, set it explicitly to avoid this warning.\n",
      "  h_freq=low_pass_filter, method='fir', phase='zero-double').swapaxes(0,1)\n"
     ]
    },
    {
     "name": "stdout",
     "output_type": "stream",
     "text": [
      "-> Shape of all trials data to plot :  (23, 166)\n",
      "-> Shape of time vector :  23\n",
      "/media/karim/Datas4To/1_Analyses_Intra_EM_Odor/Olfacto/feature/ERP_Odor_No_Odor/Retrieval/SEMC_ERP_SRoG-IFPG_f3-f2_(12).png\n",
      "data to save (23, 166) cond0 (13, 23, 24) cond1 (13, 23, 142)\n",
      "Setting up low-pass filter at 10 Hz\n",
      "fir_design defaults to \"firwin2\" in 0.15 but will change to \"firwin\" in 0.16, set it explicitly to avoid this warning.\n",
      "h_trans_bandwidth chosen to be 2.5 Hz\n",
      "Filter length of 1352 samples (2.641 sec) selected\n",
      "Size of filtered data: (3584, 166)\n",
      "time points :  (3584,)\n",
      "Applying baseline correction (mode: mean)\n",
      "Size norm & filtered data :  (3584, 166)\n"
     ]
    },
    {
     "name": "stderr",
     "output_type": "stream",
     "text": [
      "<ipython-input-5-154bfa86badc>:37: DeprecationWarning: fir_design defaults to \"firwin2\" in 0.15 but will change to \"firwin\" in 0.16, set it explicitly to avoid this warning.\n",
      "  h_freq=low_pass_filter, method='fir', phase='zero-double').swapaxes(0,1)\n"
     ]
    },
    {
     "name": "stdout",
     "output_type": "stream",
     "text": [
      "-> Shape of all trials data to plot :  (23, 166)\n",
      "-> Shape of time vector :  23\n",
      "/media/karim/Datas4To/1_Analyses_Intra_EM_Odor/Olfacto/feature/ERP_Odor_No_Odor/Retrieval/SEMC_ERP_IFPG&SRoG-IFPG_f4-f3_(13).png\n",
      "data to save (23, 166) cond0 (14, 23, 24) cond1 (14, 23, 142)\n",
      "Setting up low-pass filter at 10 Hz\n",
      "fir_design defaults to \"firwin2\" in 0.15 but will change to \"firwin\" in 0.16, set it explicitly to avoid this warning.\n",
      "h_trans_bandwidth chosen to be 2.5 Hz\n",
      "Filter length of 1352 samples (2.641 sec) selected\n",
      "Size of filtered data: (3584, 166)\n",
      "time points :  (3584,)\n",
      "Applying baseline correction (mode: mean)\n",
      "Size norm & filtered data :  (3584, 166)\n"
     ]
    },
    {
     "name": "stderr",
     "output_type": "stream",
     "text": [
      "<ipython-input-5-154bfa86badc>:37: DeprecationWarning: fir_design defaults to \"firwin2\" in 0.15 but will change to \"firwin\" in 0.16, set it explicitly to avoid this warning.\n",
      "  h_freq=low_pass_filter, method='fir', phase='zero-double').swapaxes(0,1)\n"
     ]
    },
    {
     "name": "stdout",
     "output_type": "stream",
     "text": [
      "-> Shape of all trials data to plot :  (23, 166)\n",
      "-> Shape of time vector :  23\n",
      "/media/karim/Datas4To/1_Analyses_Intra_EM_Odor/Olfacto/feature/ERP_Odor_No_Odor/Retrieval/SEMC_ERP_IFPG_f5-f4_(14).png\n",
      "data to save (23, 166) cond0 (15, 23, 24) cond1 (15, 23, 142)\n",
      "Setting up low-pass filter at 10 Hz\n",
      "fir_design defaults to \"firwin2\" in 0.15 but will change to \"firwin\" in 0.16, set it explicitly to avoid this warning.\n",
      "h_trans_bandwidth chosen to be 2.5 Hz\n",
      "Filter length of 1352 samples (2.641 sec) selected\n",
      "Size of filtered data: (3584, 166)\n",
      "time points :  (3584,)\n",
      "Applying baseline correction (mode: mean)\n",
      "Size norm & filtered data :  (3584, 166)\n"
     ]
    },
    {
     "name": "stderr",
     "output_type": "stream",
     "text": [
      "<ipython-input-5-154bfa86badc>:37: DeprecationWarning: fir_design defaults to \"firwin2\" in 0.15 but will change to \"firwin\" in 0.16, set it explicitly to avoid this warning.\n",
      "  h_freq=low_pass_filter, method='fir', phase='zero-double').swapaxes(0,1)\n"
     ]
    },
    {
     "name": "stdout",
     "output_type": "stream",
     "text": [
      "-> Shape of all trials data to plot :  (23, 166)\n",
      "-> Shape of time vector :  23\n",
      "/media/karim/Datas4To/1_Analyses_Intra_EM_Odor/Olfacto/feature/ERP_Odor_No_Odor/Retrieval/SEMC_ERP_MFG&IFPG_f6-f5_(15).png\n",
      "data to save (23, 166) cond0 (16, 23, 24) cond1 (16, 23, 142)\n",
      "Setting up low-pass filter at 10 Hz\n",
      "fir_design defaults to \"firwin2\" in 0.15 but will change to \"firwin\" in 0.16, set it explicitly to avoid this warning.\n",
      "h_trans_bandwidth chosen to be 2.5 Hz\n",
      "Filter length of 1352 samples (2.641 sec) selected\n",
      "Size of filtered data: (3584, 166)\n",
      "time points :  (3584,)\n",
      "Applying baseline correction (mode: mean)\n",
      "Size norm & filtered data :  (3584, 166)\n"
     ]
    },
    {
     "name": "stderr",
     "output_type": "stream",
     "text": [
      "<ipython-input-5-154bfa86badc>:37: DeprecationWarning: fir_design defaults to \"firwin2\" in 0.15 but will change to \"firwin\" in 0.16, set it explicitly to avoid this warning.\n",
      "  h_freq=low_pass_filter, method='fir', phase='zero-double').swapaxes(0,1)\n"
     ]
    },
    {
     "name": "stdout",
     "output_type": "stream",
     "text": [
      "-> Shape of all trials data to plot :  (23, 166)\n",
      "-> Shape of time vector :  23\n",
      "/media/karim/Datas4To/1_Analyses_Intra_EM_Odor/Olfacto/feature/ERP_Odor_No_Odor/Retrieval/SEMC_ERP_MFG_f7-f6_(16).png\n",
      "data to save (23, 166) cond0 (17, 23, 24) cond1 (17, 23, 142)\n",
      "Setting up low-pass filter at 10 Hz\n",
      "fir_design defaults to \"firwin2\" in 0.15 but will change to \"firwin\" in 0.16, set it explicitly to avoid this warning.\n",
      "h_trans_bandwidth chosen to be 2.5 Hz\n",
      "Filter length of 1352 samples (2.641 sec) selected\n",
      "Size of filtered data: (3584, 166)\n",
      "time points :  (3584,)\n",
      "Applying baseline correction (mode: mean)\n",
      "Size norm & filtered data :  (3584, 166)\n"
     ]
    },
    {
     "name": "stderr",
     "output_type": "stream",
     "text": [
      "<ipython-input-5-154bfa86badc>:37: DeprecationWarning: fir_design defaults to \"firwin2\" in 0.15 but will change to \"firwin\" in 0.16, set it explicitly to avoid this warning.\n",
      "  h_freq=low_pass_filter, method='fir', phase='zero-double').swapaxes(0,1)\n"
     ]
    },
    {
     "name": "stdout",
     "output_type": "stream",
     "text": [
      "-> Shape of all trials data to plot :  (23, 166)\n",
      "-> Shape of time vector :  23\n",
      "/media/karim/Datas4To/1_Analyses_Intra_EM_Odor/Olfacto/feature/ERP_Odor_No_Odor/Retrieval/SEMC_ERP_MFG_f8-f7_(17).png\n",
      "data to save (23, 166) cond0 (18, 23, 24) cond1 (18, 23, 142)\n",
      "Setting up low-pass filter at 10 Hz\n",
      "fir_design defaults to \"firwin2\" in 0.15 but will change to \"firwin\" in 0.16, set it explicitly to avoid this warning.\n",
      "h_trans_bandwidth chosen to be 2.5 Hz\n",
      "Filter length of 1352 samples (2.641 sec) selected\n",
      "Size of filtered data: (3584, 166)\n",
      "time points :  (3584,)\n",
      "Applying baseline correction (mode: mean)\n",
      "Size norm & filtered data :  (3584, 166)\n"
     ]
    },
    {
     "name": "stderr",
     "output_type": "stream",
     "text": [
      "<ipython-input-5-154bfa86badc>:37: DeprecationWarning: fir_design defaults to \"firwin2\" in 0.15 but will change to \"firwin\" in 0.16, set it explicitly to avoid this warning.\n",
      "  h_freq=low_pass_filter, method='fir', phase='zero-double').swapaxes(0,1)\n"
     ]
    },
    {
     "name": "stdout",
     "output_type": "stream",
     "text": [
      "-> Shape of all trials data to plot :  (23, 166)\n",
      "-> Shape of time vector :  23\n",
      "/media/karim/Datas4To/1_Analyses_Intra_EM_Odor/Olfacto/feature/ERP_Odor_No_Odor/Retrieval/SEMC_ERP_PORG-IFGOr&POrG_j2-j1_(18).png\n",
      "data to save (23, 166) cond0 (19, 23, 24) cond1 (19, 23, 142)\n",
      "Setting up low-pass filter at 10 Hz\n",
      "fir_design defaults to \"firwin2\" in 0.15 but will change to \"firwin\" in 0.16, set it explicitly to avoid this warning.\n",
      "h_trans_bandwidth chosen to be 2.5 Hz\n",
      "Filter length of 1352 samples (2.641 sec) selected\n",
      "Size of filtered data: (3584, 166)\n",
      "time points :  (3584,)\n",
      "Applying baseline correction (mode: mean)\n",
      "Size norm & filtered data :  (3584, 166)\n"
     ]
    },
    {
     "name": "stderr",
     "output_type": "stream",
     "text": [
      "<ipython-input-5-154bfa86badc>:37: DeprecationWarning: fir_design defaults to \"firwin2\" in 0.15 but will change to \"firwin\" in 0.16, set it explicitly to avoid this warning.\n",
      "  h_freq=low_pass_filter, method='fir', phase='zero-double').swapaxes(0,1)\n"
     ]
    },
    {
     "name": "stdout",
     "output_type": "stream",
     "text": [
      "-> Shape of all trials data to plot :  (23, 166)\n",
      "-> Shape of time vector :  23\n",
      "/media/karim/Datas4To/1_Analyses_Intra_EM_Odor/Olfacto/feature/ERP_Odor_No_Odor/Retrieval/SEMC_ERP_IFGOr&PORG-IFGOr_j3-j2_(19).png\n",
      "data to save (23, 166) cond0 (20, 23, 24) cond1 (20, 23, 142)\n",
      "Setting up low-pass filter at 10 Hz\n",
      "fir_design defaults to \"firwin2\" in 0.15 but will change to \"firwin\" in 0.16, set it explicitly to avoid this warning.\n",
      "h_trans_bandwidth chosen to be 2.5 Hz\n",
      "Filter length of 1352 samples (2.641 sec) selected\n",
      "Size of filtered data: (3584, 166)\n",
      "time points :  (3584,)\n",
      "Applying baseline correction (mode: mean)\n",
      "Size norm & filtered data :  (3584, 166)\n"
     ]
    },
    {
     "name": "stderr",
     "output_type": "stream",
     "text": [
      "<ipython-input-5-154bfa86badc>:37: DeprecationWarning: fir_design defaults to \"firwin2\" in 0.15 but will change to \"firwin\" in 0.16, set it explicitly to avoid this warning.\n",
      "  h_freq=low_pass_filter, method='fir', phase='zero-double').swapaxes(0,1)\n"
     ]
    },
    {
     "name": "stdout",
     "output_type": "stream",
     "text": [
      "-> Shape of all trials data to plot :  (23, 166)\n",
      "-> Shape of time vector :  23\n",
      "/media/karim/Datas4To/1_Analyses_Intra_EM_Odor/Olfacto/feature/ERP_Odor_No_Odor/Retrieval/SEMC_ERP_PPo&IFGOr_j4-j3_(20).png\n",
      "data to save (23, 166) cond0 (21, 23, 24) cond1 (21, 23, 142)\n",
      "Setting up low-pass filter at 10 Hz\n",
      "fir_design defaults to \"firwin2\" in 0.15 but will change to \"firwin\" in 0.16, set it explicitly to avoid this warning.\n",
      "h_trans_bandwidth chosen to be 2.5 Hz\n",
      "Filter length of 1352 samples (2.641 sec) selected\n",
      "Size of filtered data: (3584, 166)\n",
      "time points :  (3584,)\n",
      "Applying baseline correction (mode: mean)\n",
      "Size norm & filtered data :  (3584, 166)\n"
     ]
    },
    {
     "name": "stderr",
     "output_type": "stream",
     "text": [
      "<ipython-input-5-154bfa86badc>:37: DeprecationWarning: fir_design defaults to \"firwin2\" in 0.15 but will change to \"firwin\" in 0.16, set it explicitly to avoid this warning.\n",
      "  h_freq=low_pass_filter, method='fir', phase='zero-double').swapaxes(0,1)\n"
     ]
    },
    {
     "name": "stdout",
     "output_type": "stream",
     "text": [
      "-> Shape of all trials data to plot :  (23, 166)\n",
      "-> Shape of time vector :  23\n",
      "/media/karim/Datas4To/1_Analyses_Intra_EM_Odor/Olfacto/feature/ERP_Odor_No_Odor/Retrieval/SEMC_ERP_PPo_j5-j4_(21).png\n",
      "data to save (23, 166) cond0 (22, 23, 24) cond1 (22, 23, 142)\n",
      "Setting up low-pass filter at 10 Hz\n",
      "fir_design defaults to \"firwin2\" in 0.15 but will change to \"firwin\" in 0.16, set it explicitly to avoid this warning.\n",
      "h_trans_bandwidth chosen to be 2.5 Hz\n",
      "Filter length of 1352 samples (2.641 sec) selected\n",
      "Size of filtered data: (3584, 166)\n",
      "time points :  (3584,)\n",
      "Applying baseline correction (mode: mean)\n",
      "Size norm & filtered data :  (3584, 166)\n"
     ]
    },
    {
     "name": "stderr",
     "output_type": "stream",
     "text": [
      "<ipython-input-5-154bfa86badc>:37: DeprecationWarning: fir_design defaults to \"firwin2\" in 0.15 but will change to \"firwin\" in 0.16, set it explicitly to avoid this warning.\n",
      "  h_freq=low_pass_filter, method='fir', phase='zero-double').swapaxes(0,1)\n"
     ]
    },
    {
     "name": "stdout",
     "output_type": "stream",
     "text": [
      "-> Shape of all trials data to plot :  (23, 166)\n",
      "-> Shape of time vector :  23\n",
      "/media/karim/Datas4To/1_Analyses_Intra_EM_Odor/Olfacto/feature/ERP_Odor_No_Odor/Retrieval/SEMC_ERP_PPo_j6-j5_(22).png\n",
      "data to save (23, 166) cond0 (23, 23, 24) cond1 (23, 23, 142)\n",
      "Setting up low-pass filter at 10 Hz\n",
      "fir_design defaults to \"firwin2\" in 0.15 but will change to \"firwin\" in 0.16, set it explicitly to avoid this warning.\n",
      "h_trans_bandwidth chosen to be 2.5 Hz\n",
      "Filter length of 1352 samples (2.641 sec) selected\n",
      "Size of filtered data: (3584, 166)\n",
      "time points :  (3584,)\n",
      "Applying baseline correction (mode: mean)\n",
      "Size norm & filtered data :  (3584, 166)\n"
     ]
    },
    {
     "name": "stderr",
     "output_type": "stream",
     "text": [
      "<ipython-input-5-154bfa86badc>:37: DeprecationWarning: fir_design defaults to \"firwin2\" in 0.15 but will change to \"firwin\" in 0.16, set it explicitly to avoid this warning.\n",
      "  h_freq=low_pass_filter, method='fir', phase='zero-double').swapaxes(0,1)\n"
     ]
    },
    {
     "name": "stdout",
     "output_type": "stream",
     "text": [
      "-> Shape of all trials data to plot :  (23, 166)\n",
      "-> Shape of time vector :  23\n",
      "/media/karim/Datas4To/1_Analyses_Intra_EM_Odor/Olfacto/feature/ERP_Odor_No_Odor/Retrieval/SEMC_ERP_pgACC_k2-k1_(23).png\n",
      "data to save (23, 166) cond0 (24, 23, 24) cond1 (24, 23, 142)\n",
      "Setting up low-pass filter at 10 Hz\n",
      "fir_design defaults to \"firwin2\" in 0.15 but will change to \"firwin\" in 0.16, set it explicitly to avoid this warning.\n",
      "h_trans_bandwidth chosen to be 2.5 Hz\n",
      "Filter length of 1352 samples (2.641 sec) selected\n",
      "Size of filtered data: (3584, 166)\n",
      "time points :  (3584,)\n",
      "Applying baseline correction (mode: mean)\n",
      "Size norm & filtered data :  (3584, 166)\n"
     ]
    },
    {
     "name": "stderr",
     "output_type": "stream",
     "text": [
      "<ipython-input-5-154bfa86badc>:37: DeprecationWarning: fir_design defaults to \"firwin2\" in 0.15 but will change to \"firwin\" in 0.16, set it explicitly to avoid this warning.\n",
      "  h_freq=low_pass_filter, method='fir', phase='zero-double').swapaxes(0,1)\n"
     ]
    },
    {
     "name": "stdout",
     "output_type": "stream",
     "text": [
      "-> Shape of all trials data to plot :  (23, 166)\n",
      "-> Shape of time vector :  23\n",
      "/media/karim/Datas4To/1_Analyses_Intra_EM_Odor/Olfacto/feature/ERP_Odor_No_Odor/Retrieval/SEMC_ERP_MFG_k9-k8_(24).png\n",
      "data to save (23, 166) cond0 (25, 23, 24) cond1 (25, 23, 142)\n",
      "Setting up low-pass filter at 10 Hz\n",
      "fir_design defaults to \"firwin2\" in 0.15 but will change to \"firwin\" in 0.16, set it explicitly to avoid this warning.\n",
      "h_trans_bandwidth chosen to be 2.5 Hz\n",
      "Filter length of 1352 samples (2.641 sec) selected\n",
      "Size of filtered data: (3584, 166)\n",
      "time points :  (3584,)\n",
      "Applying baseline correction (mode: mean)\n",
      "Size norm & filtered data :  (3584, 166)\n"
     ]
    },
    {
     "name": "stderr",
     "output_type": "stream",
     "text": [
      "<ipython-input-5-154bfa86badc>:37: DeprecationWarning: fir_design defaults to \"firwin2\" in 0.15 but will change to \"firwin\" in 0.16, set it explicitly to avoid this warning.\n",
      "  h_freq=low_pass_filter, method='fir', phase='zero-double').swapaxes(0,1)\n"
     ]
    },
    {
     "name": "stdout",
     "output_type": "stream",
     "text": [
      "-> Shape of all trials data to plot :  (23, 166)\n",
      "-> Shape of time vector :  23\n",
      "/media/karim/Datas4To/1_Analyses_Intra_EM_Odor/Olfacto/feature/ERP_Odor_No_Odor/Retrieval/SEMC_ERP_MFG_k10-k9_(25).png\n",
      "data to save (23, 166) cond0 (26, 23, 24) cond1 (26, 23, 142)\n",
      "Setting up low-pass filter at 10 Hz\n",
      "fir_design defaults to \"firwin2\" in 0.15 but will change to \"firwin\" in 0.16, set it explicitly to avoid this warning.\n",
      "h_trans_bandwidth chosen to be 2.5 Hz\n",
      "Filter length of 1352 samples (2.641 sec) selected\n",
      "Size of filtered data: (3584, 166)\n",
      "time points :  (3584,)\n",
      "Applying baseline correction (mode: mean)\n",
      "Size norm & filtered data :  (3584, 166)\n"
     ]
    },
    {
     "name": "stderr",
     "output_type": "stream",
     "text": [
      "<ipython-input-5-154bfa86badc>:37: DeprecationWarning: fir_design defaults to \"firwin2\" in 0.15 but will change to \"firwin\" in 0.16, set it explicitly to avoid this warning.\n",
      "  h_freq=low_pass_filter, method='fir', phase='zero-double').swapaxes(0,1)\n"
     ]
    },
    {
     "name": "stdout",
     "output_type": "stream",
     "text": [
      "-> Shape of all trials data to plot :  (23, 166)\n",
      "-> Shape of time vector :  23\n",
      "/media/karim/Datas4To/1_Analyses_Intra_EM_Odor/Olfacto/feature/ERP_Odor_No_Odor/Retrieval/SEMC_ERP_MFG_k11-k10_(26).png\n",
      "data to save (23, 166) cond0 (27, 23, 24) cond1 (27, 23, 142)\n",
      "Setting up low-pass filter at 10 Hz\n",
      "fir_design defaults to \"firwin2\" in 0.15 but will change to \"firwin\" in 0.16, set it explicitly to avoid this warning.\n",
      "h_trans_bandwidth chosen to be 2.5 Hz\n",
      "Filter length of 1352 samples (2.641 sec) selected\n",
      "Size of filtered data: (3584, 166)\n",
      "time points :  (3584,)\n",
      "Applying baseline correction (mode: mean)\n",
      "Size norm & filtered data :  (3584, 166)\n"
     ]
    },
    {
     "name": "stderr",
     "output_type": "stream",
     "text": [
      "<ipython-input-5-154bfa86badc>:37: DeprecationWarning: fir_design defaults to \"firwin2\" in 0.15 but will change to \"firwin\" in 0.16, set it explicitly to avoid this warning.\n",
      "  h_freq=low_pass_filter, method='fir', phase='zero-double').swapaxes(0,1)\n"
     ]
    },
    {
     "name": "stdout",
     "output_type": "stream",
     "text": [
      "-> Shape of all trials data to plot :  (23, 166)\n",
      "-> Shape of time vector :  23\n",
      "/media/karim/Datas4To/1_Analyses_Intra_EM_Odor/Olfacto/feature/ERP_Odor_No_Odor/Retrieval/SEMC_ERP_MFG_k12-k11_(27).png\n",
      "data to save (23, 166) cond0 (28, 23, 24) cond1 (28, 23, 142)\n",
      "Setting up low-pass filter at 10 Hz\n",
      "fir_design defaults to \"firwin2\" in 0.15 but will change to \"firwin\" in 0.16, set it explicitly to avoid this warning.\n",
      "h_trans_bandwidth chosen to be 2.5 Hz\n",
      "Filter length of 1352 samples (2.641 sec) selected\n",
      "Size of filtered data: (3584, 166)\n",
      "time points :  (3584,)\n",
      "Applying baseline correction (mode: mean)\n",
      "Size norm & filtered data :  (3584, 166)\n"
     ]
    },
    {
     "name": "stderr",
     "output_type": "stream",
     "text": [
      "<ipython-input-5-154bfa86badc>:37: DeprecationWarning: fir_design defaults to \"firwin2\" in 0.15 but will change to \"firwin\" in 0.16, set it explicitly to avoid this warning.\n",
      "  h_freq=low_pass_filter, method='fir', phase='zero-double').swapaxes(0,1)\n"
     ]
    },
    {
     "name": "stdout",
     "output_type": "stream",
     "text": [
      "-> Shape of all trials data to plot :  (23, 166)\n",
      "-> Shape of time vector :  23\n",
      "/media/karim/Datas4To/1_Analyses_Intra_EM_Odor/Olfacto/feature/ERP_Odor_No_Odor/Retrieval/SEMC_ERP_PoG_m5-m4_(28).png\n",
      "data to save (23, 166) cond0 (29, 23, 24) cond1 (29, 23, 142)\n",
      "Setting up low-pass filter at 10 Hz\n",
      "fir_design defaults to \"firwin2\" in 0.15 but will change to \"firwin\" in 0.16, set it explicitly to avoid this warning.\n",
      "h_trans_bandwidth chosen to be 2.5 Hz\n",
      "Filter length of 1352 samples (2.641 sec) selected\n",
      "Size of filtered data: (3584, 166)\n",
      "time points :  (3584,)\n",
      "Applying baseline correction (mode: mean)\n",
      "Size norm & filtered data :  (3584, 166)\n"
     ]
    },
    {
     "name": "stderr",
     "output_type": "stream",
     "text": [
      "<ipython-input-5-154bfa86badc>:37: DeprecationWarning: fir_design defaults to \"firwin2\" in 0.15 but will change to \"firwin\" in 0.16, set it explicitly to avoid this warning.\n",
      "  h_freq=low_pass_filter, method='fir', phase='zero-double').swapaxes(0,1)\n"
     ]
    },
    {
     "name": "stdout",
     "output_type": "stream",
     "text": [
      "-> Shape of all trials data to plot :  (23, 166)\n",
      "-> Shape of time vector :  23\n",
      "/media/karim/Datas4To/1_Analyses_Intra_EM_Odor/Olfacto/feature/ERP_Odor_No_Odor/Retrieval/SEMC_ERP_sgACC-SG&sgACC_o2-o1_(29).png\n",
      "data to save (23, 166) cond0 (30, 23, 24) cond1 (30, 23, 142)\n",
      "Setting up low-pass filter at 10 Hz\n",
      "fir_design defaults to \"firwin2\" in 0.15 but will change to \"firwin\" in 0.16, set it explicitly to avoid this warning.\n",
      "h_trans_bandwidth chosen to be 2.5 Hz\n",
      "Filter length of 1352 samples (2.641 sec) selected\n",
      "Size of filtered data: (3584, 166)\n",
      "time points :  (3584,)\n",
      "Applying baseline correction (mode: mean)\n",
      "Size norm & filtered data :  (3584, 166)\n"
     ]
    },
    {
     "name": "stderr",
     "output_type": "stream",
     "text": [
      "<ipython-input-5-154bfa86badc>:37: DeprecationWarning: fir_design defaults to \"firwin2\" in 0.15 but will change to \"firwin\" in 0.16, set it explicitly to avoid this warning.\n",
      "  h_freq=low_pass_filter, method='fir', phase='zero-double').swapaxes(0,1)\n"
     ]
    },
    {
     "name": "stdout",
     "output_type": "stream",
     "text": [
      "-> Shape of all trials data to plot :  (23, 166)\n",
      "-> Shape of time vector :  23\n",
      "/media/karim/Datas4To/1_Analyses_Intra_EM_Odor/Olfacto/feature/ERP_Odor_No_Odor/Retrieval/SEMC_ERP_MOrG&MOrG-POrG_o5-o4_(30).png\n",
      "data to save (23, 166) cond0 (31, 23, 24) cond1 (31, 23, 142)\n",
      "Setting up low-pass filter at 10 Hz\n",
      "fir_design defaults to \"firwin2\" in 0.15 but will change to \"firwin\" in 0.16, set it explicitly to avoid this warning.\n",
      "h_trans_bandwidth chosen to be 2.5 Hz\n",
      "Filter length of 1352 samples (2.641 sec) selected\n",
      "Size of filtered data: (3584, 166)\n",
      "time points :  (3584,)\n",
      "Applying baseline correction (mode: mean)\n",
      "Size norm & filtered data :  (3584, 166)\n"
     ]
    },
    {
     "name": "stderr",
     "output_type": "stream",
     "text": [
      "<ipython-input-5-154bfa86badc>:37: DeprecationWarning: fir_design defaults to \"firwin2\" in 0.15 but will change to \"firwin\" in 0.16, set it explicitly to avoid this warning.\n",
      "  h_freq=low_pass_filter, method='fir', phase='zero-double').swapaxes(0,1)\n"
     ]
    },
    {
     "name": "stdout",
     "output_type": "stream",
     "text": [
      "-> Shape of all trials data to plot :  (23, 166)\n",
      "-> Shape of time vector :  23\n",
      "/media/karim/Datas4To/1_Analyses_Intra_EM_Odor/Olfacto/feature/ERP_Odor_No_Odor/Retrieval/SEMC_ERP_MOrG_o6-o5_(31).png\n",
      "data to save (23, 166) cond0 (32, 23, 24) cond1 (32, 23, 142)\n",
      "Setting up low-pass filter at 10 Hz\n",
      "fir_design defaults to \"firwin2\" in 0.15 but will change to \"firwin\" in 0.16, set it explicitly to avoid this warning.\n",
      "h_trans_bandwidth chosen to be 2.5 Hz\n",
      "Filter length of 1352 samples (2.641 sec) selected\n",
      "Size of filtered data: (3584, 166)\n",
      "time points :  (3584,)\n",
      "Applying baseline correction (mode: mean)\n",
      "Size norm & filtered data :  (3584, 166)\n"
     ]
    },
    {
     "name": "stderr",
     "output_type": "stream",
     "text": [
      "<ipython-input-5-154bfa86badc>:37: DeprecationWarning: fir_design defaults to \"firwin2\" in 0.15 but will change to \"firwin\" in 0.16, set it explicitly to avoid this warning.\n",
      "  h_freq=low_pass_filter, method='fir', phase='zero-double').swapaxes(0,1)\n"
     ]
    },
    {
     "name": "stdout",
     "output_type": "stream",
     "text": [
      "-> Shape of all trials data to plot :  (23, 166)\n",
      "-> Shape of time vector :  23\n",
      "/media/karim/Datas4To/1_Analyses_Intra_EM_Odor/Olfacto/feature/ERP_Odor_No_Odor/Retrieval/SEMC_ERP_MOrG_o7-o6_(32).png\n",
      "data to save (23, 166) cond0 (33, 23, 24) cond1 (33, 23, 142)\n",
      "Setting up low-pass filter at 10 Hz\n",
      "fir_design defaults to \"firwin2\" in 0.15 but will change to \"firwin\" in 0.16, set it explicitly to avoid this warning.\n",
      "h_trans_bandwidth chosen to be 2.5 Hz\n",
      "Filter length of 1352 samples (2.641 sec) selected\n",
      "Size of filtered data: (3584, 166)\n",
      "time points :  (3584,)\n",
      "Applying baseline correction (mode: mean)\n",
      "Size norm & filtered data :  (3584, 166)\n"
     ]
    },
    {
     "name": "stderr",
     "output_type": "stream",
     "text": [
      "<ipython-input-5-154bfa86badc>:37: DeprecationWarning: fir_design defaults to \"firwin2\" in 0.15 but will change to \"firwin\" in 0.16, set it explicitly to avoid this warning.\n",
      "  h_freq=low_pass_filter, method='fir', phase='zero-double').swapaxes(0,1)\n"
     ]
    },
    {
     "name": "stdout",
     "output_type": "stream",
     "text": [
      "-> Shape of all trials data to plot :  (23, 166)\n",
      "-> Shape of time vector :  23\n",
      "/media/karim/Datas4To/1_Analyses_Intra_EM_Odor/Olfacto/feature/ERP_Odor_No_Odor/Retrieval/SEMC_ERP_MOrG_o8-o7_(33).png\n",
      "data to save (23, 166) cond0 (34, 23, 24) cond1 (34, 23, 142)\n",
      "Setting up low-pass filter at 10 Hz\n",
      "fir_design defaults to \"firwin2\" in 0.15 but will change to \"firwin\" in 0.16, set it explicitly to avoid this warning.\n",
      "h_trans_bandwidth chosen to be 2.5 Hz\n",
      "Filter length of 1352 samples (2.641 sec) selected\n",
      "Size of filtered data: (3584, 166)\n",
      "time points :  (3584,)\n",
      "Applying baseline correction (mode: mean)\n",
      "Size norm & filtered data :  (3584, 166)\n"
     ]
    },
    {
     "name": "stderr",
     "output_type": "stream",
     "text": [
      "<ipython-input-5-154bfa86badc>:37: DeprecationWarning: fir_design defaults to \"firwin2\" in 0.15 but will change to \"firwin\" in 0.16, set it explicitly to avoid this warning.\n",
      "  h_freq=low_pass_filter, method='fir', phase='zero-double').swapaxes(0,1)\n"
     ]
    },
    {
     "name": "stdout",
     "output_type": "stream",
     "text": [
      "-> Shape of all trials data to plot :  (23, 166)\n",
      "-> Shape of time vector :  23\n",
      "/media/karim/Datas4To/1_Analyses_Intra_EM_Odor/Olfacto/feature/ERP_Odor_No_Odor/Retrieval/SEMC_ERP_MOrG_o9-o8_(34).png\n",
      "data to save (23, 166) cond0 (35, 23, 24) cond1 (35, 23, 142)\n",
      "Setting up low-pass filter at 10 Hz\n",
      "fir_design defaults to \"firwin2\" in 0.15 but will change to \"firwin\" in 0.16, set it explicitly to avoid this warning.\n",
      "h_trans_bandwidth chosen to be 2.5 Hz\n",
      "Filter length of 1352 samples (2.641 sec) selected\n",
      "Size of filtered data: (3584, 166)\n",
      "time points :  (3584,)\n",
      "Applying baseline correction (mode: mean)\n",
      "Size norm & filtered data :  (3584, 166)\n"
     ]
    },
    {
     "name": "stderr",
     "output_type": "stream",
     "text": [
      "<ipython-input-5-154bfa86badc>:37: DeprecationWarning: fir_design defaults to \"firwin2\" in 0.15 but will change to \"firwin\" in 0.16, set it explicitly to avoid this warning.\n",
      "  h_freq=low_pass_filter, method='fir', phase='zero-double').swapaxes(0,1)\n"
     ]
    },
    {
     "name": "stdout",
     "output_type": "stream",
     "text": [
      "-> Shape of all trials data to plot :  (23, 166)\n",
      "-> Shape of time vector :  23\n",
      "/media/karim/Datas4To/1_Analyses_Intra_EM_Odor/Olfacto/feature/ERP_Odor_No_Odor/Retrieval/SEMC_ERP_MOrG-IFGOr&MOrG_o10-o9_(35).png\n",
      "data to save (23, 166) cond0 (36, 23, 24) cond1 (36, 23, 142)\n",
      "Setting up low-pass filter at 10 Hz\n",
      "fir_design defaults to \"firwin2\" in 0.15 but will change to \"firwin\" in 0.16, set it explicitly to avoid this warning.\n",
      "h_trans_bandwidth chosen to be 2.5 Hz\n",
      "Filter length of 1352 samples (2.641 sec) selected\n",
      "Size of filtered data: (3584, 166)\n",
      "time points :  (3584,)\n",
      "Applying baseline correction (mode: mean)\n",
      "Size norm & filtered data :  (3584, 166)\n"
     ]
    },
    {
     "name": "stderr",
     "output_type": "stream",
     "text": [
      "<ipython-input-5-154bfa86badc>:37: DeprecationWarning: fir_design defaults to \"firwin2\" in 0.15 but will change to \"firwin\" in 0.16, set it explicitly to avoid this warning.\n",
      "  h_freq=low_pass_filter, method='fir', phase='zero-double').swapaxes(0,1)\n"
     ]
    },
    {
     "name": "stdout",
     "output_type": "stream",
     "text": [
      "-> Shape of all trials data to plot :  (23, 166)\n",
      "-> Shape of time vector :  23\n",
      "/media/karim/Datas4To/1_Analyses_Intra_EM_Odor/Olfacto/feature/ERP_Odor_No_Odor/Retrieval/SEMC_ERP_IFGOr-IFGTr&MOrG-IFGOr_o11-o10_(36).png\n",
      "data to save (23, 166) cond0 (37, 23, 24) cond1 (37, 23, 142)\n",
      "Setting up low-pass filter at 10 Hz\n",
      "fir_design defaults to \"firwin2\" in 0.15 but will change to \"firwin\" in 0.16, set it explicitly to avoid this warning.\n",
      "h_trans_bandwidth chosen to be 2.5 Hz\n",
      "Filter length of 1352 samples (2.641 sec) selected\n",
      "Size of filtered data: (3584, 166)\n",
      "time points :  (3584,)\n",
      "Applying baseline correction (mode: mean)\n",
      "Size norm & filtered data :  (3584, 166)\n"
     ]
    },
    {
     "name": "stderr",
     "output_type": "stream",
     "text": [
      "<ipython-input-5-154bfa86badc>:37: DeprecationWarning: fir_design defaults to \"firwin2\" in 0.15 but will change to \"firwin\" in 0.16, set it explicitly to avoid this warning.\n",
      "  h_freq=low_pass_filter, method='fir', phase='zero-double').swapaxes(0,1)\n"
     ]
    },
    {
     "name": "stdout",
     "output_type": "stream",
     "text": [
      "-> Shape of all trials data to plot :  (23, 166)\n",
      "-> Shape of time vector :  23\n",
      "/media/karim/Datas4To/1_Analyses_Intra_EM_Odor/Olfacto/feature/ERP_Odor_No_Odor/Retrieval/SEMC_ERP_IFGOr-IFGTr_o12-o11_(37).png\n",
      "data to save (23, 166) cond0 (38, 23, 24) cond1 (38, 23, 142)\n",
      "Setting up low-pass filter at 10 Hz\n",
      "fir_design defaults to \"firwin2\" in 0.15 but will change to \"firwin\" in 0.16, set it explicitly to avoid this warning.\n",
      "h_trans_bandwidth chosen to be 2.5 Hz\n",
      "Filter length of 1352 samples (2.641 sec) selected\n",
      "Size of filtered data: (3584, 166)\n",
      "time points :  (3584,)\n",
      "Applying baseline correction (mode: mean)\n",
      "Size norm & filtered data :  (3584, 166)\n"
     ]
    },
    {
     "name": "stderr",
     "output_type": "stream",
     "text": [
      "<ipython-input-5-154bfa86badc>:37: DeprecationWarning: fir_design defaults to \"firwin2\" in 0.15 but will change to \"firwin\" in 0.16, set it explicitly to avoid this warning.\n",
      "  h_freq=low_pass_filter, method='fir', phase='zero-double').swapaxes(0,1)\n"
     ]
    },
    {
     "name": "stdout",
     "output_type": "stream",
     "text": [
      "-> Shape of all trials data to plot :  (23, 166)\n",
      "-> Shape of time vector :  23\n",
      "/media/karim/Datas4To/1_Analyses_Intra_EM_Odor/Olfacto/feature/ERP_Odor_No_Odor/Retrieval/SEMC_ERP_IFGOr-IFGTr_o13-o12_(38).png\n",
      "data to save (23, 166) cond0 (39, 23, 24) cond1 (39, 23, 142)\n",
      "Setting up low-pass filter at 10 Hz\n",
      "fir_design defaults to \"firwin2\" in 0.15 but will change to \"firwin\" in 0.16, set it explicitly to avoid this warning.\n",
      "h_trans_bandwidth chosen to be 2.5 Hz\n",
      "Filter length of 1352 samples (2.641 sec) selected\n",
      "Size of filtered data: (3584, 166)\n",
      "time points :  (3584,)\n",
      "Applying baseline correction (mode: mean)\n",
      "Size norm & filtered data :  (3584, 166)\n"
     ]
    },
    {
     "name": "stderr",
     "output_type": "stream",
     "text": [
      "<ipython-input-5-154bfa86badc>:37: DeprecationWarning: fir_design defaults to \"firwin2\" in 0.15 but will change to \"firwin\" in 0.16, set it explicitly to avoid this warning.\n",
      "  h_freq=low_pass_filter, method='fir', phase='zero-double').swapaxes(0,1)\n"
     ]
    },
    {
     "name": "stdout",
     "output_type": "stream",
     "text": [
      "-> Shape of all trials data to plot :  (23, 166)\n",
      "-> Shape of time vector :  23\n",
      "/media/karim/Datas4To/1_Analyses_Intra_EM_Odor/Olfacto/feature/ERP_Odor_No_Odor/Retrieval/SEMC_ERP_IRoG-sgACC_u2-u1_(39).png\n",
      "data to save (23, 166) cond0 (40, 23, 24) cond1 (40, 23, 142)\n",
      "Setting up low-pass filter at 10 Hz\n",
      "fir_design defaults to \"firwin2\" in 0.15 but will change to \"firwin\" in 0.16, set it explicitly to avoid this warning.\n",
      "h_trans_bandwidth chosen to be 2.5 Hz\n",
      "Filter length of 1352 samples (2.641 sec) selected\n",
      "Size of filtered data: (3584, 166)\n",
      "time points :  (3584,)\n",
      "Applying baseline correction (mode: mean)\n",
      "Size norm & filtered data :  (3584, 166)\n"
     ]
    },
    {
     "name": "stderr",
     "output_type": "stream",
     "text": [
      "<ipython-input-5-154bfa86badc>:37: DeprecationWarning: fir_design defaults to \"firwin2\" in 0.15 but will change to \"firwin\" in 0.16, set it explicitly to avoid this warning.\n",
      "  h_freq=low_pass_filter, method='fir', phase='zero-double').swapaxes(0,1)\n"
     ]
    },
    {
     "name": "stdout",
     "output_type": "stream",
     "text": [
      "-> Shape of all trials data to plot :  (23, 166)\n",
      "-> Shape of time vector :  23\n",
      "/media/karim/Datas4To/1_Analyses_Intra_EM_Odor/Olfacto/feature/ERP_Odor_No_Odor/Retrieval/SEMC_ERP_MOrG_u5-u4_(40).png\n",
      "data to save (23, 166) cond0 (41, 23, 24) cond1 (41, 23, 142)\n",
      "Setting up low-pass filter at 10 Hz\n",
      "fir_design defaults to \"firwin2\" in 0.15 but will change to \"firwin\" in 0.16, set it explicitly to avoid this warning.\n",
      "h_trans_bandwidth chosen to be 2.5 Hz\n",
      "Filter length of 1352 samples (2.641 sec) selected\n",
      "Size of filtered data: (3584, 166)\n",
      "time points :  (3584,)\n",
      "Applying baseline correction (mode: mean)\n",
      "Size norm & filtered data :  (3584, 166)\n"
     ]
    },
    {
     "name": "stderr",
     "output_type": "stream",
     "text": [
      "<ipython-input-5-154bfa86badc>:37: DeprecationWarning: fir_design defaults to \"firwin2\" in 0.15 but will change to \"firwin\" in 0.16, set it explicitly to avoid this warning.\n",
      "  h_freq=low_pass_filter, method='fir', phase='zero-double').swapaxes(0,1)\n"
     ]
    },
    {
     "name": "stdout",
     "output_type": "stream",
     "text": [
      "-> Shape of all trials data to plot :  (23, 166)\n",
      "-> Shape of time vector :  23\n",
      "/media/karim/Datas4To/1_Analyses_Intra_EM_Odor/Olfacto/feature/ERP_Odor_No_Odor/Retrieval/SEMC_ERP_MOrG-LOrG&MOrG_u6-u5_(41).png\n",
      "data to save (23, 166) cond0 (42, 23, 24) cond1 (42, 23, 142)\n",
      "Setting up low-pass filter at 10 Hz\n",
      "fir_design defaults to \"firwin2\" in 0.15 but will change to \"firwin\" in 0.16, set it explicitly to avoid this warning.\n",
      "h_trans_bandwidth chosen to be 2.5 Hz\n",
      "Filter length of 1352 samples (2.641 sec) selected\n",
      "Size of filtered data: (3584, 166)\n",
      "time points :  (3584,)\n",
      "Applying baseline correction (mode: mean)\n",
      "Size norm & filtered data :  (3584, 166)\n"
     ]
    },
    {
     "name": "stderr",
     "output_type": "stream",
     "text": [
      "<ipython-input-5-154bfa86badc>:37: DeprecationWarning: fir_design defaults to \"firwin2\" in 0.15 but will change to \"firwin\" in 0.16, set it explicitly to avoid this warning.\n",
      "  h_freq=low_pass_filter, method='fir', phase='zero-double').swapaxes(0,1)\n"
     ]
    },
    {
     "name": "stdout",
     "output_type": "stream",
     "text": [
      "-> Shape of all trials data to plot :  (23, 166)\n",
      "-> Shape of time vector :  23\n",
      "/media/karim/Datas4To/1_Analyses_Intra_EM_Odor/Olfacto/feature/ERP_Odor_No_Odor/Retrieval/SEMC_ERP_MOrG-LOrG_u7-u6_(42).png\n",
      "data to save (23, 166) cond0 (43, 23, 24) cond1 (43, 23, 142)\n",
      "Setting up low-pass filter at 10 Hz\n",
      "fir_design defaults to \"firwin2\" in 0.15 but will change to \"firwin\" in 0.16, set it explicitly to avoid this warning.\n",
      "h_trans_bandwidth chosen to be 2.5 Hz\n",
      "Filter length of 1352 samples (2.641 sec) selected\n",
      "Size of filtered data: (3584, 166)\n",
      "time points :  (3584,)\n",
      "Applying baseline correction (mode: mean)\n",
      "Size norm & filtered data :  (3584, 166)\n"
     ]
    },
    {
     "name": "stderr",
     "output_type": "stream",
     "text": [
      "<ipython-input-5-154bfa86badc>:37: DeprecationWarning: fir_design defaults to \"firwin2\" in 0.15 but will change to \"firwin\" in 0.16, set it explicitly to avoid this warning.\n",
      "  h_freq=low_pass_filter, method='fir', phase='zero-double').swapaxes(0,1)\n"
     ]
    },
    {
     "name": "stdout",
     "output_type": "stream",
     "text": [
      "-> Shape of all trials data to plot :  (23, 166)\n",
      "-> Shape of time vector :  23\n",
      "/media/karim/Datas4To/1_Analyses_Intra_EM_Odor/Olfacto/feature/ERP_Odor_No_Odor/Retrieval/SEMC_ERP_IFGOr&MOrG-LOrG_u8-u7_(43).png\n",
      "data to save (23, 166) cond0 (44, 23, 24) cond1 (44, 23, 142)\n",
      "Setting up low-pass filter at 10 Hz\n",
      "fir_design defaults to \"firwin2\" in 0.15 but will change to \"firwin\" in 0.16, set it explicitly to avoid this warning.\n",
      "h_trans_bandwidth chosen to be 2.5 Hz\n",
      "Filter length of 1352 samples (2.641 sec) selected\n",
      "Size of filtered data: (3584, 166)\n",
      "time points :  (3584,)\n",
      "Applying baseline correction (mode: mean)\n",
      "Size norm & filtered data :  (3584, 166)\n"
     ]
    },
    {
     "name": "stderr",
     "output_type": "stream",
     "text": [
      "<ipython-input-5-154bfa86badc>:37: DeprecationWarning: fir_design defaults to \"firwin2\" in 0.15 but will change to \"firwin\" in 0.16, set it explicitly to avoid this warning.\n",
      "  h_freq=low_pass_filter, method='fir', phase='zero-double').swapaxes(0,1)\n"
     ]
    },
    {
     "name": "stdout",
     "output_type": "stream",
     "text": [
      "-> Shape of all trials data to plot :  (23, 166)\n",
      "-> Shape of time vector :  23\n",
      "/media/karim/Datas4To/1_Analyses_Intra_EM_Odor/Olfacto/feature/ERP_Odor_No_Odor/Retrieval/SEMC_ERP_IFGOr_u9-u8_(44).png\n",
      "data to save (23, 166) cond0 (45, 23, 24) cond1 (45, 23, 142)\n",
      "Setting up low-pass filter at 10 Hz\n",
      "fir_design defaults to \"firwin2\" in 0.15 but will change to \"firwin\" in 0.16, set it explicitly to avoid this warning.\n",
      "h_trans_bandwidth chosen to be 2.5 Hz\n",
      "Filter length of 1352 samples (2.641 sec) selected\n",
      "Size of filtered data: (3584, 166)\n",
      "time points :  (3584,)\n",
      "Applying baseline correction (mode: mean)\n",
      "Size norm & filtered data :  (3584, 166)\n"
     ]
    },
    {
     "name": "stderr",
     "output_type": "stream",
     "text": [
      "<ipython-input-5-154bfa86badc>:37: DeprecationWarning: fir_design defaults to \"firwin2\" in 0.15 but will change to \"firwin\" in 0.16, set it explicitly to avoid this warning.\n",
      "  h_freq=low_pass_filter, method='fir', phase='zero-double').swapaxes(0,1)\n"
     ]
    },
    {
     "name": "stdout",
     "output_type": "stream",
     "text": [
      "-> Shape of all trials data to plot :  (23, 166)\n",
      "-> Shape of time vector :  23\n",
      "/media/karim/Datas4To/1_Analyses_Intra_EM_Odor/Olfacto/feature/ERP_Odor_No_Odor/Retrieval/SEMC_ERP_IFGOr_u10-u9_(45).png\n",
      "data to save (23, 166) cond0 (46, 23, 24) cond1 (46, 23, 142)\n",
      "Setting up low-pass filter at 10 Hz\n",
      "fir_design defaults to \"firwin2\" in 0.15 but will change to \"firwin\" in 0.16, set it explicitly to avoid this warning.\n",
      "h_trans_bandwidth chosen to be 2.5 Hz\n",
      "Filter length of 1352 samples (2.641 sec) selected\n",
      "Size of filtered data: (3584, 166)\n",
      "time points :  (3584,)\n",
      "Applying baseline correction (mode: mean)\n",
      "Size norm & filtered data :  (3584, 166)\n"
     ]
    },
    {
     "name": "stderr",
     "output_type": "stream",
     "text": [
      "<ipython-input-5-154bfa86badc>:37: DeprecationWarning: fir_design defaults to \"firwin2\" in 0.15 but will change to \"firwin\" in 0.16, set it explicitly to avoid this warning.\n",
      "  h_freq=low_pass_filter, method='fir', phase='zero-double').swapaxes(0,1)\n"
     ]
    },
    {
     "name": "stdout",
     "output_type": "stream",
     "text": [
      "-> Shape of all trials data to plot :  (23, 166)\n",
      "-> Shape of time vector :  23\n",
      "/media/karim/Datas4To/1_Analyses_Intra_EM_Odor/Olfacto/feature/ERP_Odor_No_Odor/Retrieval/SEMC_ERP_IFGOr_u11-u10_(46).png\n",
      "data to save (23, 166) cond0 (47, 23, 24) cond1 (47, 23, 142)\n",
      "Setting up low-pass filter at 10 Hz\n",
      "fir_design defaults to \"firwin2\" in 0.15 but will change to \"firwin\" in 0.16, set it explicitly to avoid this warning.\n",
      "h_trans_bandwidth chosen to be 2.5 Hz\n",
      "Filter length of 1352 samples (2.641 sec) selected\n",
      "Size of filtered data: (3584, 166)\n",
      "time points :  (3584,)\n",
      "Applying baseline correction (mode: mean)\n",
      "Size norm & filtered data :  (3584, 166)\n"
     ]
    },
    {
     "name": "stderr",
     "output_type": "stream",
     "text": [
      "<ipython-input-5-154bfa86badc>:37: DeprecationWarning: fir_design defaults to \"firwin2\" in 0.15 but will change to \"firwin\" in 0.16, set it explicitly to avoid this warning.\n",
      "  h_freq=low_pass_filter, method='fir', phase='zero-double').swapaxes(0,1)\n"
     ]
    },
    {
     "name": "stdout",
     "output_type": "stream",
     "text": [
      "-> Shape of all trials data to plot :  (23, 166)\n",
      "-> Shape of time vector :  23\n",
      "/media/karim/Datas4To/1_Analyses_Intra_EM_Odor/Olfacto/feature/ERP_Odor_No_Odor/Retrieval/SEMC_ERP_IFGOr_u12-u11_(47).png\n",
      "data to save (23, 166) cond0 (48, 23, 24) cond1 (48, 23, 142)\n",
      "Setting up low-pass filter at 10 Hz\n",
      "fir_design defaults to \"firwin2\" in 0.15 but will change to \"firwin\" in 0.16, set it explicitly to avoid this warning.\n",
      "h_trans_bandwidth chosen to be 2.5 Hz\n",
      "Filter length of 1352 samples (2.641 sec) selected\n",
      "Size of filtered data: (3584, 166)\n",
      "time points :  (3584,)\n",
      "Applying baseline correction (mode: mean)\n",
      "Size norm & filtered data :  (3584, 166)\n"
     ]
    },
    {
     "name": "stderr",
     "output_type": "stream",
     "text": [
      "<ipython-input-5-154bfa86badc>:37: DeprecationWarning: fir_design defaults to \"firwin2\" in 0.15 but will change to \"firwin\" in 0.16, set it explicitly to avoid this warning.\n",
      "  h_freq=low_pass_filter, method='fir', phase='zero-double').swapaxes(0,1)\n"
     ]
    },
    {
     "name": "stdout",
     "output_type": "stream",
     "text": [
      "-> Shape of all trials data to plot :  (23, 166)\n",
      "-> Shape of time vector :  23\n",
      "/media/karim/Datas4To/1_Analyses_Intra_EM_Odor/Olfacto/feature/ERP_Odor_No_Odor/Retrieval/SEMC_ERP_adACC_x2-x1_(48).png\n",
      "data to save (23, 166) cond0 (49, 23, 24) cond1 (49, 23, 142)\n",
      "Setting up low-pass filter at 10 Hz\n",
      "fir_design defaults to \"firwin2\" in 0.15 but will change to \"firwin\" in 0.16, set it explicitly to avoid this warning.\n",
      "h_trans_bandwidth chosen to be 2.5 Hz\n",
      "Filter length of 1352 samples (2.641 sec) selected\n",
      "Size of filtered data: (3584, 166)\n",
      "time points :  (3584,)\n",
      "Applying baseline correction (mode: mean)\n",
      "Size norm & filtered data :  (3584, 166)\n"
     ]
    },
    {
     "name": "stderr",
     "output_type": "stream",
     "text": [
      "<ipython-input-5-154bfa86badc>:37: DeprecationWarning: fir_design defaults to \"firwin2\" in 0.15 but will change to \"firwin\" in 0.16, set it explicitly to avoid this warning.\n",
      "  h_freq=low_pass_filter, method='fir', phase='zero-double').swapaxes(0,1)\n"
     ]
    },
    {
     "name": "stdout",
     "output_type": "stream",
     "text": [
      "-> Shape of all trials data to plot :  (23, 166)\n",
      "-> Shape of time vector :  23\n",
      "/media/karim/Datas4To/1_Analyses_Intra_EM_Odor/Olfacto/feature/ERP_Odor_No_Odor/Retrieval/SEMC_ERP_MFG_x8-x7_(49).png\n",
      "data to save (23, 166) cond0 (50, 23, 24) cond1 (50, 23, 142)\n",
      "Setting up low-pass filter at 10 Hz\n",
      "fir_design defaults to \"firwin2\" in 0.15 but will change to \"firwin\" in 0.16, set it explicitly to avoid this warning.\n",
      "h_trans_bandwidth chosen to be 2.5 Hz\n",
      "Filter length of 1352 samples (2.641 sec) selected\n",
      "Size of filtered data: (3584, 166)\n",
      "time points :  (3584,)\n",
      "Applying baseline correction (mode: mean)\n",
      "Size norm & filtered data :  (3584, 166)\n"
     ]
    },
    {
     "name": "stderr",
     "output_type": "stream",
     "text": [
      "<ipython-input-5-154bfa86badc>:37: DeprecationWarning: fir_design defaults to \"firwin2\" in 0.15 but will change to \"firwin\" in 0.16, set it explicitly to avoid this warning.\n",
      "  h_freq=low_pass_filter, method='fir', phase='zero-double').swapaxes(0,1)\n"
     ]
    },
    {
     "name": "stdout",
     "output_type": "stream",
     "text": [
      "-> Shape of all trials data to plot :  (23, 166)\n",
      "-> Shape of time vector :  23\n",
      "/media/karim/Datas4To/1_Analyses_Intra_EM_Odor/Olfacto/feature/ERP_Odor_No_Odor/Retrieval/SEMC_ERP_MFG_x9-x8_(50).png\n",
      "data to save (23, 166) cond0 (51, 23, 24) cond1 (51, 23, 142)\n",
      "Setting up low-pass filter at 10 Hz\n",
      "fir_design defaults to \"firwin2\" in 0.15 but will change to \"firwin\" in 0.16, set it explicitly to avoid this warning.\n",
      "h_trans_bandwidth chosen to be 2.5 Hz\n",
      "Filter length of 1352 samples (2.641 sec) selected\n",
      "Size of filtered data: (3584, 166)\n",
      "time points :  (3584,)\n",
      "Applying baseline correction (mode: mean)\n",
      "Size norm & filtered data :  (3584, 166)\n"
     ]
    },
    {
     "name": "stderr",
     "output_type": "stream",
     "text": [
      "<ipython-input-5-154bfa86badc>:37: DeprecationWarning: fir_design defaults to \"firwin2\" in 0.15 but will change to \"firwin\" in 0.16, set it explicitly to avoid this warning.\n",
      "  h_freq=low_pass_filter, method='fir', phase='zero-double').swapaxes(0,1)\n"
     ]
    },
    {
     "name": "stdout",
     "output_type": "stream",
     "text": [
      "-> Shape of all trials data to plot :  (23, 166)\n",
      "-> Shape of time vector :  23\n",
      "/media/karim/Datas4To/1_Analyses_Intra_EM_Odor/Olfacto/feature/ERP_Odor_No_Odor/Retrieval/SEMC_ERP_MFG_x10-x9_(51).png\n",
      "data to save (23, 166) cond0 (52, 23, 24) cond1 (52, 23, 142)\n",
      "Setting up low-pass filter at 10 Hz\n",
      "fir_design defaults to \"firwin2\" in 0.15 but will change to \"firwin\" in 0.16, set it explicitly to avoid this warning.\n",
      "h_trans_bandwidth chosen to be 2.5 Hz\n",
      "Filter length of 1352 samples (2.641 sec) selected\n",
      "Size of filtered data: (3584, 166)\n",
      "time points :  (3584,)\n",
      "Applying baseline correction (mode: mean)\n",
      "Size norm & filtered data :  (3584, 166)\n"
     ]
    },
    {
     "name": "stderr",
     "output_type": "stream",
     "text": [
      "<ipython-input-5-154bfa86badc>:37: DeprecationWarning: fir_design defaults to \"firwin2\" in 0.15 but will change to \"firwin\" in 0.16, set it explicitly to avoid this warning.\n",
      "  h_freq=low_pass_filter, method='fir', phase='zero-double').swapaxes(0,1)\n"
     ]
    },
    {
     "name": "stdout",
     "output_type": "stream",
     "text": [
      "-> Shape of all trials data to plot :  (23, 166)\n",
      "-> Shape of time vector :  23\n",
      "/media/karim/Datas4To/1_Analyses_Intra_EM_Odor/Olfacto/feature/ERP_Odor_No_Odor/Retrieval/SEMC_ERP_MFG_x11-x10_(52).png\n",
      "data to save (23, 166) cond0 (53, 23, 24) cond1 (53, 23, 142)\n",
      "Setting up low-pass filter at 10 Hz\n",
      "fir_design defaults to \"firwin2\" in 0.15 but will change to \"firwin\" in 0.16, set it explicitly to avoid this warning.\n",
      "h_trans_bandwidth chosen to be 2.5 Hz\n",
      "Filter length of 1352 samples (2.641 sec) selected\n",
      "Size of filtered data: (3584, 166)\n",
      "time points :  (3584,)\n",
      "Applying baseline correction (mode: mean)\n",
      "Size norm & filtered data :  (3584, 166)\n"
     ]
    },
    {
     "name": "stderr",
     "output_type": "stream",
     "text": [
      "<ipython-input-5-154bfa86badc>:37: DeprecationWarning: fir_design defaults to \"firwin2\" in 0.15 but will change to \"firwin\" in 0.16, set it explicitly to avoid this warning.\n",
      "  h_freq=low_pass_filter, method='fir', phase='zero-double').swapaxes(0,1)\n"
     ]
    },
    {
     "name": "stdout",
     "output_type": "stream",
     "text": [
      "-> Shape of all trials data to plot :  (23, 166)\n",
      "-> Shape of time vector :  23\n",
      "/media/karim/Datas4To/1_Analyses_Intra_EM_Odor/Olfacto/feature/ERP_Odor_No_Odor/Retrieval/SEMC_ERP_SFGM-SFGL_y2-y1_(53).png\n",
      "data to save (23, 166) cond0 (54, 23, 24) cond1 (54, 23, 142)\n",
      "Setting up low-pass filter at 10 Hz\n",
      "fir_design defaults to \"firwin2\" in 0.15 but will change to \"firwin\" in 0.16, set it explicitly to avoid this warning.\n",
      "h_trans_bandwidth chosen to be 2.5 Hz\n",
      "Filter length of 1352 samples (2.641 sec) selected\n",
      "Size of filtered data: (3584, 166)\n",
      "time points :  (3584,)\n",
      "Applying baseline correction (mode: mean)\n",
      "Size norm & filtered data :  (3584, 166)\n"
     ]
    },
    {
     "name": "stderr",
     "output_type": "stream",
     "text": [
      "<ipython-input-5-154bfa86badc>:37: DeprecationWarning: fir_design defaults to \"firwin2\" in 0.15 but will change to \"firwin\" in 0.16, set it explicitly to avoid this warning.\n",
      "  h_freq=low_pass_filter, method='fir', phase='zero-double').swapaxes(0,1)\n"
     ]
    },
    {
     "name": "stdout",
     "output_type": "stream",
     "text": [
      "-> Shape of all trials data to plot :  (23, 166)\n",
      "-> Shape of time vector :  23\n",
      "/media/karim/Datas4To/1_Analyses_Intra_EM_Odor/Olfacto/feature/ERP_Odor_No_Odor/Retrieval/SEMC_ERP_SFGL&SFGM-SFGL_y3-y2_(54).png\n",
      "data to save (23, 166) cond0 (55, 23, 24) cond1 (55, 23, 142)\n",
      "Setting up low-pass filter at 10 Hz\n",
      "fir_design defaults to \"firwin2\" in 0.15 but will change to \"firwin\" in 0.16, set it explicitly to avoid this warning.\n",
      "h_trans_bandwidth chosen to be 2.5 Hz\n",
      "Filter length of 1352 samples (2.641 sec) selected\n",
      "Size of filtered data: (3584, 166)\n",
      "time points :  (3584,)\n",
      "Applying baseline correction (mode: mean)\n",
      "Size norm & filtered data :  (3584, 166)\n"
     ]
    },
    {
     "name": "stderr",
     "output_type": "stream",
     "text": [
      "<ipython-input-5-154bfa86badc>:37: DeprecationWarning: fir_design defaults to \"firwin2\" in 0.15 but will change to \"firwin\" in 0.16, set it explicitly to avoid this warning.\n",
      "  h_freq=low_pass_filter, method='fir', phase='zero-double').swapaxes(0,1)\n"
     ]
    },
    {
     "name": "stdout",
     "output_type": "stream",
     "text": [
      "-> Shape of all trials data to plot :  (23, 166)\n",
      "-> Shape of time vector :  23\n",
      "/media/karim/Datas4To/1_Analyses_Intra_EM_Odor/Olfacto/feature/ERP_Odor_No_Odor/Retrieval/SEMC_ERP_SFGL_y4-y3_(55).png\n",
      "data to save (23, 166) cond0 (56, 23, 24) cond1 (56, 23, 142)\n",
      "Setting up low-pass filter at 10 Hz\n",
      "fir_design defaults to \"firwin2\" in 0.15 but will change to \"firwin\" in 0.16, set it explicitly to avoid this warning.\n",
      "h_trans_bandwidth chosen to be 2.5 Hz\n",
      "Filter length of 1352 samples (2.641 sec) selected\n",
      "Size of filtered data: (3584, 166)\n",
      "time points :  (3584,)\n",
      "Applying baseline correction (mode: mean)\n",
      "Size norm & filtered data :  (3584, 166)\n"
     ]
    },
    {
     "name": "stderr",
     "output_type": "stream",
     "text": [
      "<ipython-input-5-154bfa86badc>:37: DeprecationWarning: fir_design defaults to \"firwin2\" in 0.15 but will change to \"firwin\" in 0.16, set it explicitly to avoid this warning.\n",
      "  h_freq=low_pass_filter, method='fir', phase='zero-double').swapaxes(0,1)\n"
     ]
    },
    {
     "name": "stdout",
     "output_type": "stream",
     "text": [
      "-> Shape of all trials data to plot :  (23, 166)\n",
      "-> Shape of time vector :  23\n",
      "/media/karim/Datas4To/1_Analyses_Intra_EM_Odor/Olfacto/feature/ERP_Odor_No_Odor/Retrieval/SEMC_ERP_SFGL-MFG&SFGL_y5-y4_(56).png\n",
      "data to save (23, 166) cond0 (57, 23, 24) cond1 (57, 23, 142)\n",
      "Setting up low-pass filter at 10 Hz\n",
      "fir_design defaults to \"firwin2\" in 0.15 but will change to \"firwin\" in 0.16, set it explicitly to avoid this warning.\n",
      "h_trans_bandwidth chosen to be 2.5 Hz\n",
      "Filter length of 1352 samples (2.641 sec) selected\n",
      "Size of filtered data: (3584, 166)\n",
      "time points :  (3584,)\n",
      "Applying baseline correction (mode: mean)\n",
      "Size norm & filtered data :  (3584, 166)\n"
     ]
    },
    {
     "name": "stderr",
     "output_type": "stream",
     "text": [
      "<ipython-input-5-154bfa86badc>:37: DeprecationWarning: fir_design defaults to \"firwin2\" in 0.15 but will change to \"firwin\" in 0.16, set it explicitly to avoid this warning.\n",
      "  h_freq=low_pass_filter, method='fir', phase='zero-double').swapaxes(0,1)\n"
     ]
    },
    {
     "name": "stdout",
     "output_type": "stream",
     "text": [
      "-> Shape of all trials data to plot :  (23, 166)\n",
      "-> Shape of time vector :  23\n",
      "/media/karim/Datas4To/1_Analyses_Intra_EM_Odor/Olfacto/feature/ERP_Odor_No_Odor/Retrieval/SEMC_ERP_SFGL-MFG_y6-y5_(57).png\n",
      "data to save (23, 166) cond0 (58, 23, 24) cond1 (58, 23, 142)\n",
      "Setting up low-pass filter at 10 Hz\n",
      "fir_design defaults to \"firwin2\" in 0.15 but will change to \"firwin\" in 0.16, set it explicitly to avoid this warning.\n",
      "h_trans_bandwidth chosen to be 2.5 Hz\n",
      "Filter length of 1352 samples (2.641 sec) selected\n",
      "Size of filtered data: (3584, 166)\n",
      "time points :  (3584,)\n",
      "Applying baseline correction (mode: mean)\n",
      "Size norm & filtered data :  (3584, 166)\n"
     ]
    },
    {
     "name": "stderr",
     "output_type": "stream",
     "text": [
      "<ipython-input-5-154bfa86badc>:37: DeprecationWarning: fir_design defaults to \"firwin2\" in 0.15 but will change to \"firwin\" in 0.16, set it explicitly to avoid this warning.\n",
      "  h_freq=low_pass_filter, method='fir', phase='zero-double').swapaxes(0,1)\n"
     ]
    },
    {
     "name": "stdout",
     "output_type": "stream",
     "text": [
      "-> Shape of all trials data to plot :  (23, 166)\n",
      "-> Shape of time vector :  23\n",
      "/media/karim/Datas4To/1_Analyses_Intra_EM_Odor/Olfacto/feature/ERP_Odor_No_Odor/Retrieval/SEMC_ERP_SFGL-MFG_y7-y6_(58).png\n",
      "data to save (23, 166) cond0 (59, 23, 24) cond1 (59, 23, 142)\n",
      "Setting up low-pass filter at 10 Hz\n",
      "fir_design defaults to \"firwin2\" in 0.15 but will change to \"firwin\" in 0.16, set it explicitly to avoid this warning.\n",
      "h_trans_bandwidth chosen to be 2.5 Hz\n",
      "Filter length of 1352 samples (2.641 sec) selected\n",
      "Size of filtered data: (3584, 166)\n",
      "time points :  (3584,)\n",
      "Applying baseline correction (mode: mean)\n",
      "Size norm & filtered data :  (3584, 166)\n"
     ]
    },
    {
     "name": "stderr",
     "output_type": "stream",
     "text": [
      "<ipython-input-5-154bfa86badc>:37: DeprecationWarning: fir_design defaults to \"firwin2\" in 0.15 but will change to \"firwin\" in 0.16, set it explicitly to avoid this warning.\n",
      "  h_freq=low_pass_filter, method='fir', phase='zero-double').swapaxes(0,1)\n"
     ]
    },
    {
     "name": "stdout",
     "output_type": "stream",
     "text": [
      "-> Shape of all trials data to plot :  (23, 166)\n",
      "-> Shape of time vector :  23\n",
      "/media/karim/Datas4To/1_Analyses_Intra_EM_Odor/Olfacto/feature/ERP_Odor_No_Odor/Retrieval/SEMC_ERP_SFGL-MFG_y8-y7_(59).png\n",
      "data to save (23, 166) cond0 (60, 23, 24) cond1 (60, 23, 142)\n",
      "Setting up low-pass filter at 10 Hz\n",
      "fir_design defaults to \"firwin2\" in 0.15 but will change to \"firwin\" in 0.16, set it explicitly to avoid this warning.\n",
      "h_trans_bandwidth chosen to be 2.5 Hz\n",
      "Filter length of 1352 samples (2.641 sec) selected\n",
      "Size of filtered data: (3584, 166)\n",
      "time points :  (3584,)\n",
      "Applying baseline correction (mode: mean)\n",
      "Size norm & filtered data :  (3584, 166)\n"
     ]
    },
    {
     "name": "stderr",
     "output_type": "stream",
     "text": [
      "<ipython-input-5-154bfa86badc>:37: DeprecationWarning: fir_design defaults to \"firwin2\" in 0.15 but will change to \"firwin\" in 0.16, set it explicitly to avoid this warning.\n",
      "  h_freq=low_pass_filter, method='fir', phase='zero-double').swapaxes(0,1)\n"
     ]
    },
    {
     "name": "stdout",
     "output_type": "stream",
     "text": [
      "-> Shape of all trials data to plot :  (23, 166)\n",
      "-> Shape of time vector :  23\n",
      "/media/karim/Datas4To/1_Analyses_Intra_EM_Odor/Olfacto/feature/ERP_Odor_No_Odor/Retrieval/SEMC_ERP_SFGM-SFGL&SFGM_z2-z1_(60).png\n",
      "data to save (23, 166) cond0 (61, 23, 24) cond1 (61, 23, 142)\n",
      "Setting up low-pass filter at 10 Hz\n",
      "fir_design defaults to \"firwin2\" in 0.15 but will change to \"firwin\" in 0.16, set it explicitly to avoid this warning.\n",
      "h_trans_bandwidth chosen to be 2.5 Hz\n",
      "Filter length of 1352 samples (2.641 sec) selected\n",
      "Size of filtered data: (3584, 166)\n",
      "time points :  (3584,)\n",
      "Applying baseline correction (mode: mean)\n",
      "Size norm & filtered data :  (3584, 166)\n"
     ]
    },
    {
     "name": "stderr",
     "output_type": "stream",
     "text": [
      "<ipython-input-5-154bfa86badc>:37: DeprecationWarning: fir_design defaults to \"firwin2\" in 0.15 but will change to \"firwin\" in 0.16, set it explicitly to avoid this warning.\n",
      "  h_freq=low_pass_filter, method='fir', phase='zero-double').swapaxes(0,1)\n"
     ]
    },
    {
     "name": "stdout",
     "output_type": "stream",
     "text": [
      "-> Shape of all trials data to plot :  (23, 166)\n",
      "-> Shape of time vector :  23\n",
      "/media/karim/Datas4To/1_Analyses_Intra_EM_Odor/Olfacto/feature/ERP_Odor_No_Odor/Retrieval/SEMC_ERP_SFGL&SFGM-SFGL_z3-z2_(61).png\n",
      "data to save (23, 166) cond0 (62, 23, 24) cond1 (62, 23, 142)\n",
      "Setting up low-pass filter at 10 Hz\n",
      "fir_design defaults to \"firwin2\" in 0.15 but will change to \"firwin\" in 0.16, set it explicitly to avoid this warning.\n",
      "h_trans_bandwidth chosen to be 2.5 Hz\n",
      "Filter length of 1352 samples (2.641 sec) selected\n",
      "Size of filtered data: (3584, 166)\n",
      "time points :  (3584,)\n",
      "Applying baseline correction (mode: mean)\n",
      "Size norm & filtered data :  (3584, 166)\n"
     ]
    },
    {
     "name": "stderr",
     "output_type": "stream",
     "text": [
      "<ipython-input-5-154bfa86badc>:37: DeprecationWarning: fir_design defaults to \"firwin2\" in 0.15 but will change to \"firwin\" in 0.16, set it explicitly to avoid this warning.\n",
      "  h_freq=low_pass_filter, method='fir', phase='zero-double').swapaxes(0,1)\n"
     ]
    },
    {
     "name": "stdout",
     "output_type": "stream",
     "text": [
      "-> Shape of all trials data to plot :  (23, 166)\n",
      "-> Shape of time vector :  23\n",
      "/media/karim/Datas4To/1_Analyses_Intra_EM_Odor/Olfacto/feature/ERP_Odor_No_Odor/Retrieval/SEMC_ERP_SFGL-MFG&SFGL_z4-z3_(62).png\n",
      "data to save (23, 166) cond0 (63, 23, 24) cond1 (63, 23, 142)\n",
      "Setting up low-pass filter at 10 Hz\n",
      "fir_design defaults to \"firwin2\" in 0.15 but will change to \"firwin\" in 0.16, set it explicitly to avoid this warning.\n",
      "h_trans_bandwidth chosen to be 2.5 Hz\n",
      "Filter length of 1352 samples (2.641 sec) selected\n",
      "Size of filtered data: (3584, 166)\n",
      "time points :  (3584,)\n",
      "Applying baseline correction (mode: mean)\n",
      "Size norm & filtered data :  (3584, 166)\n"
     ]
    },
    {
     "name": "stderr",
     "output_type": "stream",
     "text": [
      "<ipython-input-5-154bfa86badc>:37: DeprecationWarning: fir_design defaults to \"firwin2\" in 0.15 but will change to \"firwin\" in 0.16, set it explicitly to avoid this warning.\n",
      "  h_freq=low_pass_filter, method='fir', phase='zero-double').swapaxes(0,1)\n"
     ]
    },
    {
     "name": "stdout",
     "output_type": "stream",
     "text": [
      "-> Shape of all trials data to plot :  (23, 166)\n",
      "-> Shape of time vector :  23\n",
      "/media/karim/Datas4To/1_Analyses_Intra_EM_Odor/Olfacto/feature/ERP_Odor_No_Odor/Retrieval/SEMC_ERP_MFG&SFGL-MFG_z5-z4_(63).png\n",
      "data to save (23, 166) cond0 (64, 23, 24) cond1 (64, 23, 142)\n",
      "Setting up low-pass filter at 10 Hz\n",
      "fir_design defaults to \"firwin2\" in 0.15 but will change to \"firwin\" in 0.16, set it explicitly to avoid this warning.\n",
      "h_trans_bandwidth chosen to be 2.5 Hz\n",
      "Filter length of 1352 samples (2.641 sec) selected\n",
      "Size of filtered data: (3584, 166)\n",
      "time points :  (3584,)\n",
      "Applying baseline correction (mode: mean)\n",
      "Size norm & filtered data :  (3584, 166)\n"
     ]
    },
    {
     "name": "stderr",
     "output_type": "stream",
     "text": [
      "<ipython-input-5-154bfa86badc>:37: DeprecationWarning: fir_design defaults to \"firwin2\" in 0.15 but will change to \"firwin\" in 0.16, set it explicitly to avoid this warning.\n",
      "  h_freq=low_pass_filter, method='fir', phase='zero-double').swapaxes(0,1)\n"
     ]
    },
    {
     "name": "stdout",
     "output_type": "stream",
     "text": [
      "-> Shape of all trials data to plot :  (23, 166)\n",
      "-> Shape of time vector :  23\n",
      "/media/karim/Datas4To/1_Analyses_Intra_EM_Odor/Olfacto/feature/ERP_Odor_No_Odor/Retrieval/SEMC_ERP_MFG_z6-z5_(64).png\n",
      "data to save (23, 166) cond0 (65, 23, 24) cond1 (65, 23, 142)\n",
      "Setting up low-pass filter at 10 Hz\n",
      "fir_design defaults to \"firwin2\" in 0.15 but will change to \"firwin\" in 0.16, set it explicitly to avoid this warning.\n",
      "h_trans_bandwidth chosen to be 2.5 Hz\n",
      "Filter length of 1352 samples (2.641 sec) selected\n",
      "Size of filtered data: (3584, 166)\n",
      "time points :  (3584,)\n",
      "Applying baseline correction (mode: mean)\n",
      "Size norm & filtered data :  (3584, 166)\n"
     ]
    },
    {
     "name": "stderr",
     "output_type": "stream",
     "text": [
      "<ipython-input-5-154bfa86badc>:37: DeprecationWarning: fir_design defaults to \"firwin2\" in 0.15 but will change to \"firwin\" in 0.16, set it explicitly to avoid this warning.\n",
      "  h_freq=low_pass_filter, method='fir', phase='zero-double').swapaxes(0,1)\n"
     ]
    },
    {
     "name": "stdout",
     "output_type": "stream",
     "text": [
      "-> Shape of all trials data to plot :  (23, 166)\n",
      "-> Shape of time vector :  23\n",
      "/media/karim/Datas4To/1_Analyses_Intra_EM_Odor/Olfacto/feature/ERP_Odor_No_Odor/Retrieval/SEMC_ERP_MFG_z7-z6_(65).png\n",
      "data to save (23, 166) cond0 (66, 23, 24) cond1 (66, 23, 142)\n",
      "(66, 23, 142) (66, 23, 24)\n",
      "CHAF (94, 3584, 82) (94, 3584, 24)\n",
      "Setting up low-pass filter at 10 Hz\n",
      "fir_design defaults to \"firwin2\" in 0.15 but will change to \"firwin\" in 0.16, set it explicitly to avoid this warning.\n",
      "h_trans_bandwidth chosen to be 2.5 Hz\n",
      "Filter length of 1352 samples (2.641 sec) selected\n",
      "Size of filtered data: (3584, 106)\n",
      "time points :  (3584,)\n",
      "Applying baseline correction (mode: mean)\n",
      "Size norm & filtered data :  (3584, 106)\n"
     ]
    },
    {
     "name": "stderr",
     "output_type": "stream",
     "text": [
      "<ipython-input-5-154bfa86badc>:37: DeprecationWarning: fir_design defaults to \"firwin2\" in 0.15 but will change to \"firwin\" in 0.16, set it explicitly to avoid this warning.\n",
      "  h_freq=low_pass_filter, method='fir', phase='zero-double').swapaxes(0,1)\n"
     ]
    },
    {
     "name": "stdout",
     "output_type": "stream",
     "text": [
      "-> Shape of all trials data to plot :  (23, 106)\n",
      "-> Shape of time vector :  23\n",
      "/media/karim/Datas4To/1_Analyses_Intra_EM_Odor/Olfacto/feature/ERP_Odor_No_Odor/Retrieval/CHAF_ERP_PCC-PCL_a'2-a'1_(0).png\n",
      "data to save (23, 106) cond0 (1, 23, 24) cond1 (1, 23, 82)\n",
      "Setting up low-pass filter at 10 Hz\n",
      "fir_design defaults to \"firwin2\" in 0.15 but will change to \"firwin\" in 0.16, set it explicitly to avoid this warning.\n",
      "h_trans_bandwidth chosen to be 2.5 Hz\n",
      "Filter length of 1352 samples (2.641 sec) selected\n",
      "Size of filtered data: (3584, 106)\n",
      "time points :  (3584,)\n",
      "Applying baseline correction (mode: mean)\n",
      "Size norm & filtered data :  (3584, 106)\n"
     ]
    },
    {
     "name": "stderr",
     "output_type": "stream",
     "text": [
      "<ipython-input-5-154bfa86badc>:37: DeprecationWarning: fir_design defaults to \"firwin2\" in 0.15 but will change to \"firwin\" in 0.16, set it explicitly to avoid this warning.\n",
      "  h_freq=low_pass_filter, method='fir', phase='zero-double').swapaxes(0,1)\n"
     ]
    },
    {
     "name": "stdout",
     "output_type": "stream",
     "text": [
      "-> Shape of all trials data to plot :  (23, 106)\n",
      "-> Shape of time vector :  23\n",
      "/media/karim/Datas4To/1_Analyses_Intra_EM_Odor/Olfacto/feature/ERP_Odor_No_Odor/Retrieval/CHAF_ERP_PCL&PCC-PCL_a'3-a'2_(1).png\n",
      "data to save (23, 106) cond0 (2, 23, 24) cond1 (2, 23, 82)\n",
      "Setting up low-pass filter at 10 Hz\n",
      "fir_design defaults to \"firwin2\" in 0.15 but will change to \"firwin\" in 0.16, set it explicitly to avoid this warning.\n",
      "h_trans_bandwidth chosen to be 2.5 Hz\n",
      "Filter length of 1352 samples (2.641 sec) selected\n",
      "Size of filtered data: (3584, 106)\n",
      "time points :  (3584,)\n",
      "Applying baseline correction (mode: mean)\n",
      "Size norm & filtered data :  (3584, 106)\n"
     ]
    },
    {
     "name": "stderr",
     "output_type": "stream",
     "text": [
      "<ipython-input-5-154bfa86badc>:37: DeprecationWarning: fir_design defaults to \"firwin2\" in 0.15 but will change to \"firwin\" in 0.16, set it explicitly to avoid this warning.\n",
      "  h_freq=low_pass_filter, method='fir', phase='zero-double').swapaxes(0,1)\n"
     ]
    },
    {
     "name": "stdout",
     "output_type": "stream",
     "text": [
      "-> Shape of all trials data to plot :  (23, 106)\n",
      "-> Shape of time vector :  23\n",
      "/media/karim/Datas4To/1_Analyses_Intra_EM_Odor/Olfacto/feature/ERP_Odor_No_Odor/Retrieval/CHAF_ERP_PrG-PoG&PCL_a'4-a'3_(2).png\n",
      "data to save (23, 106) cond0 (3, 23, 24) cond1 (3, 23, 82)\n",
      "Setting up low-pass filter at 10 Hz\n",
      "fir_design defaults to \"firwin2\" in 0.15 but will change to \"firwin\" in 0.16, set it explicitly to avoid this warning.\n",
      "h_trans_bandwidth chosen to be 2.5 Hz\n",
      "Filter length of 1352 samples (2.641 sec) selected\n",
      "Size of filtered data: (3584, 106)\n",
      "time points :  (3584,)\n",
      "Applying baseline correction (mode: mean)\n",
      "Size norm & filtered data :  (3584, 106)\n"
     ]
    },
    {
     "name": "stderr",
     "output_type": "stream",
     "text": [
      "<ipython-input-5-154bfa86badc>:37: DeprecationWarning: fir_design defaults to \"firwin2\" in 0.15 but will change to \"firwin\" in 0.16, set it explicitly to avoid this warning.\n",
      "  h_freq=low_pass_filter, method='fir', phase='zero-double').swapaxes(0,1)\n"
     ]
    },
    {
     "name": "stdout",
     "output_type": "stream",
     "text": [
      "-> Shape of all trials data to plot :  (23, 106)\n",
      "-> Shape of time vector :  23\n",
      "/media/karim/Datas4To/1_Analyses_Intra_EM_Odor/Olfacto/feature/ERP_Odor_No_Odor/Retrieval/CHAF_ERP_PrG-PoG_a'5-a'4_(3).png\n",
      "data to save (23, 106) cond0 (4, 23, 24) cond1 (4, 23, 82)\n",
      "Setting up low-pass filter at 10 Hz\n",
      "fir_design defaults to \"firwin2\" in 0.15 but will change to \"firwin\" in 0.16, set it explicitly to avoid this warning.\n",
      "h_trans_bandwidth chosen to be 2.5 Hz\n",
      "Filter length of 1352 samples (2.641 sec) selected\n",
      "Size of filtered data: (3584, 106)\n",
      "time points :  (3584,)\n",
      "Applying baseline correction (mode: mean)\n",
      "Size norm & filtered data :  (3584, 106)\n"
     ]
    },
    {
     "name": "stderr",
     "output_type": "stream",
     "text": [
      "<ipython-input-5-154bfa86badc>:37: DeprecationWarning: fir_design defaults to \"firwin2\" in 0.15 but will change to \"firwin\" in 0.16, set it explicitly to avoid this warning.\n",
      "  h_freq=low_pass_filter, method='fir', phase='zero-double').swapaxes(0,1)\n"
     ]
    },
    {
     "name": "stdout",
     "output_type": "stream",
     "text": [
      "-> Shape of all trials data to plot :  (23, 106)\n",
      "-> Shape of time vector :  23\n",
      "/media/karim/Datas4To/1_Analyses_Intra_EM_Odor/Olfacto/feature/ERP_Odor_No_Odor/Retrieval/CHAF_ERP_PrG-PoG_a'6-a'5_(4).png\n",
      "data to save (23, 106) cond0 (5, 23, 24) cond1 (5, 23, 82)\n",
      "Setting up low-pass filter at 10 Hz\n",
      "fir_design defaults to \"firwin2\" in 0.15 but will change to \"firwin\" in 0.16, set it explicitly to avoid this warning.\n",
      "h_trans_bandwidth chosen to be 2.5 Hz\n",
      "Filter length of 1352 samples (2.641 sec) selected\n",
      "Size of filtered data: (3584, 106)\n",
      "time points :  (3584,)\n",
      "Applying baseline correction (mode: mean)\n",
      "Size norm & filtered data :  (3584, 106)\n"
     ]
    },
    {
     "name": "stderr",
     "output_type": "stream",
     "text": [
      "<ipython-input-5-154bfa86badc>:37: DeprecationWarning: fir_design defaults to \"firwin2\" in 0.15 but will change to \"firwin\" in 0.16, set it explicitly to avoid this warning.\n",
      "  h_freq=low_pass_filter, method='fir', phase='zero-double').swapaxes(0,1)\n"
     ]
    },
    {
     "name": "stdout",
     "output_type": "stream",
     "text": [
      "-> Shape of all trials data to plot :  (23, 106)\n",
      "-> Shape of time vector :  23\n",
      "/media/karim/Datas4To/1_Analyses_Intra_EM_Odor/Olfacto/feature/ERP_Odor_No_Odor/Retrieval/CHAF_ERP_PrG-PoG_a'7-a'6_(5).png\n",
      "data to save (23, 106) cond0 (6, 23, 24) cond1 (6, 23, 82)\n",
      "Setting up low-pass filter at 10 Hz\n",
      "fir_design defaults to \"firwin2\" in 0.15 but will change to \"firwin\" in 0.16, set it explicitly to avoid this warning.\n",
      "h_trans_bandwidth chosen to be 2.5 Hz\n",
      "Filter length of 1352 samples (2.641 sec) selected\n",
      "Size of filtered data: (3584, 106)\n",
      "time points :  (3584,)\n",
      "Applying baseline correction (mode: mean)\n",
      "Size norm & filtered data :  (3584, 106)\n"
     ]
    },
    {
     "name": "stderr",
     "output_type": "stream",
     "text": [
      "<ipython-input-5-154bfa86badc>:37: DeprecationWarning: fir_design defaults to \"firwin2\" in 0.15 but will change to \"firwin\" in 0.16, set it explicitly to avoid this warning.\n",
      "  h_freq=low_pass_filter, method='fir', phase='zero-double').swapaxes(0,1)\n"
     ]
    },
    {
     "name": "stdout",
     "output_type": "stream",
     "text": [
      "-> Shape of all trials data to plot :  (23, 106)\n",
      "-> Shape of time vector :  23\n",
      "/media/karim/Datas4To/1_Analyses_Intra_EM_Odor/Olfacto/feature/ERP_Odor_No_Odor/Retrieval/CHAF_ERP_PrG-PoG_a'8-a'7_(6).png\n",
      "data to save (23, 106) cond0 (7, 23, 24) cond1 (7, 23, 82)\n",
      "Setting up low-pass filter at 10 Hz\n",
      "fir_design defaults to \"firwin2\" in 0.15 but will change to \"firwin\" in 0.16, set it explicitly to avoid this warning.\n",
      "h_trans_bandwidth chosen to be 2.5 Hz\n",
      "Filter length of 1352 samples (2.641 sec) selected\n",
      "Size of filtered data: (3584, 106)\n",
      "time points :  (3584,)\n",
      "Applying baseline correction (mode: mean)\n",
      "Size norm & filtered data :  (3584, 106)\n"
     ]
    },
    {
     "name": "stderr",
     "output_type": "stream",
     "text": [
      "<ipython-input-5-154bfa86badc>:37: DeprecationWarning: fir_design defaults to \"firwin2\" in 0.15 but will change to \"firwin\" in 0.16, set it explicitly to avoid this warning.\n",
      "  h_freq=low_pass_filter, method='fir', phase='zero-double').swapaxes(0,1)\n"
     ]
    },
    {
     "name": "stdout",
     "output_type": "stream",
     "text": [
      "-> Shape of all trials data to plot :  (23, 106)\n",
      "-> Shape of time vector :  23\n",
      "/media/karim/Datas4To/1_Analyses_Intra_EM_Odor/Olfacto/feature/ERP_Odor_No_Odor/Retrieval/CHAF_ERP_PrG-PoG_a'9-a'8_(7).png\n",
      "data to save (23, 106) cond0 (8, 23, 24) cond1 (8, 23, 82)\n",
      "Setting up low-pass filter at 10 Hz\n",
      "fir_design defaults to \"firwin2\" in 0.15 but will change to \"firwin\" in 0.16, set it explicitly to avoid this warning.\n",
      "h_trans_bandwidth chosen to be 2.5 Hz\n",
      "Filter length of 1352 samples (2.641 sec) selected\n",
      "Size of filtered data: (3584, 106)\n",
      "time points :  (3584,)\n",
      "Applying baseline correction (mode: mean)\n",
      "Size norm & filtered data :  (3584, 106)\n"
     ]
    },
    {
     "name": "stderr",
     "output_type": "stream",
     "text": [
      "<ipython-input-5-154bfa86badc>:37: DeprecationWarning: fir_design defaults to \"firwin2\" in 0.15 but will change to \"firwin\" in 0.16, set it explicitly to avoid this warning.\n",
      "  h_freq=low_pass_filter, method='fir', phase='zero-double').swapaxes(0,1)\n"
     ]
    },
    {
     "name": "stdout",
     "output_type": "stream",
     "text": [
      "-> Shape of all trials data to plot :  (23, 106)\n",
      "-> Shape of time vector :  23\n",
      "/media/karim/Datas4To/1_Analyses_Intra_EM_Odor/Olfacto/feature/ERP_Odor_No_Odor/Retrieval/CHAF_ERP_PoG&PrG-PoG_a'10-a'9_(8).png\n",
      "data to save (23, 106) cond0 (9, 23, 24) cond1 (9, 23, 82)\n",
      "Setting up low-pass filter at 10 Hz\n",
      "fir_design defaults to \"firwin2\" in 0.15 but will change to \"firwin\" in 0.16, set it explicitly to avoid this warning.\n",
      "h_trans_bandwidth chosen to be 2.5 Hz\n",
      "Filter length of 1352 samples (2.641 sec) selected\n",
      "Size of filtered data: (3584, 106)\n",
      "time points :  (3584,)\n",
      "Applying baseline correction (mode: mean)\n",
      "Size norm & filtered data :  (3584, 106)\n"
     ]
    },
    {
     "name": "stderr",
     "output_type": "stream",
     "text": [
      "<ipython-input-5-154bfa86badc>:37: DeprecationWarning: fir_design defaults to \"firwin2\" in 0.15 but will change to \"firwin\" in 0.16, set it explicitly to avoid this warning.\n",
      "  h_freq=low_pass_filter, method='fir', phase='zero-double').swapaxes(0,1)\n"
     ]
    },
    {
     "name": "stdout",
     "output_type": "stream",
     "text": [
      "-> Shape of all trials data to plot :  (23, 106)\n",
      "-> Shape of time vector :  23\n",
      "/media/karim/Datas4To/1_Analyses_Intra_EM_Odor/Olfacto/feature/ERP_Odor_No_Odor/Retrieval/CHAF_ERP_PoG_a'11-a'10_(9).png\n",
      "data to save (23, 106) cond0 (10, 23, 24) cond1 (10, 23, 82)\n",
      "Setting up low-pass filter at 10 Hz\n",
      "fir_design defaults to \"firwin2\" in 0.15 but will change to \"firwin\" in 0.16, set it explicitly to avoid this warning.\n",
      "h_trans_bandwidth chosen to be 2.5 Hz\n",
      "Filter length of 1352 samples (2.641 sec) selected\n",
      "Size of filtered data: (3584, 106)\n",
      "time points :  (3584,)\n",
      "Applying baseline correction (mode: mean)\n",
      "Size norm & filtered data :  (3584, 106)\n"
     ]
    },
    {
     "name": "stderr",
     "output_type": "stream",
     "text": [
      "<ipython-input-5-154bfa86badc>:37: DeprecationWarning: fir_design defaults to \"firwin2\" in 0.15 but will change to \"firwin\" in 0.16, set it explicitly to avoid this warning.\n",
      "  h_freq=low_pass_filter, method='fir', phase='zero-double').swapaxes(0,1)\n"
     ]
    },
    {
     "name": "stdout",
     "output_type": "stream",
     "text": [
      "-> Shape of all trials data to plot :  (23, 106)\n",
      "-> Shape of time vector :  23\n",
      "/media/karim/Datas4To/1_Analyses_Intra_EM_Odor/Olfacto/feature/ERP_Odor_No_Odor/Retrieval/CHAF_ERP_PCL&MCC-PCL_b'2-b'1_(10).png\n",
      "data to save (23, 106) cond0 (11, 23, 24) cond1 (11, 23, 82)\n",
      "Setting up low-pass filter at 10 Hz\n",
      "fir_design defaults to \"firwin2\" in 0.15 but will change to \"firwin\" in 0.16, set it explicitly to avoid this warning.\n",
      "h_trans_bandwidth chosen to be 2.5 Hz\n",
      "Filter length of 1352 samples (2.641 sec) selected\n",
      "Size of filtered data: (3584, 106)\n",
      "time points :  (3584,)\n",
      "Applying baseline correction (mode: mean)\n",
      "Size norm & filtered data :  (3584, 106)\n"
     ]
    },
    {
     "name": "stderr",
     "output_type": "stream",
     "text": [
      "<ipython-input-5-154bfa86badc>:37: DeprecationWarning: fir_design defaults to \"firwin2\" in 0.15 but will change to \"firwin\" in 0.16, set it explicitly to avoid this warning.\n",
      "  h_freq=low_pass_filter, method='fir', phase='zero-double').swapaxes(0,1)\n"
     ]
    },
    {
     "name": "stdout",
     "output_type": "stream",
     "text": [
      "-> Shape of all trials data to plot :  (23, 106)\n",
      "-> Shape of time vector :  23\n",
      "/media/karim/Datas4To/1_Analyses_Intra_EM_Odor/Olfacto/feature/ERP_Odor_No_Odor/Retrieval/CHAF_ERP_PrG&PCL_b'3-b'2_(11).png\n",
      "data to save (23, 106) cond0 (12, 23, 24) cond1 (12, 23, 82)\n",
      "Setting up low-pass filter at 10 Hz\n",
      "fir_design defaults to \"firwin2\" in 0.15 but will change to \"firwin\" in 0.16, set it explicitly to avoid this warning.\n",
      "h_trans_bandwidth chosen to be 2.5 Hz\n",
      "Filter length of 1352 samples (2.641 sec) selected\n",
      "Size of filtered data: (3584, 106)\n",
      "time points :  (3584,)\n",
      "Applying baseline correction (mode: mean)\n",
      "Size norm & filtered data :  (3584, 106)\n"
     ]
    },
    {
     "name": "stderr",
     "output_type": "stream",
     "text": [
      "<ipython-input-5-154bfa86badc>:37: DeprecationWarning: fir_design defaults to \"firwin2\" in 0.15 but will change to \"firwin\" in 0.16, set it explicitly to avoid this warning.\n",
      "  h_freq=low_pass_filter, method='fir', phase='zero-double').swapaxes(0,1)\n"
     ]
    },
    {
     "name": "stdout",
     "output_type": "stream",
     "text": [
      "-> Shape of all trials data to plot :  (23, 106)\n",
      "-> Shape of time vector :  23\n",
      "/media/karim/Datas4To/1_Analyses_Intra_EM_Odor/Olfacto/feature/ERP_Odor_No_Odor/Retrieval/CHAF_ERP_PrG_b'4-b'3_(12).png\n",
      "data to save (23, 106) cond0 (13, 23, 24) cond1 (13, 23, 82)\n",
      "Setting up low-pass filter at 10 Hz\n",
      "fir_design defaults to \"firwin2\" in 0.15 but will change to \"firwin\" in 0.16, set it explicitly to avoid this warning.\n",
      "h_trans_bandwidth chosen to be 2.5 Hz\n",
      "Filter length of 1352 samples (2.641 sec) selected\n",
      "Size of filtered data: (3584, 106)\n",
      "time points :  (3584,)\n",
      "Applying baseline correction (mode: mean)\n",
      "Size norm & filtered data :  (3584, 106)\n"
     ]
    },
    {
     "name": "stderr",
     "output_type": "stream",
     "text": [
      "<ipython-input-5-154bfa86badc>:37: DeprecationWarning: fir_design defaults to \"firwin2\" in 0.15 but will change to \"firwin\" in 0.16, set it explicitly to avoid this warning.\n",
      "  h_freq=low_pass_filter, method='fir', phase='zero-double').swapaxes(0,1)\n"
     ]
    },
    {
     "name": "stdout",
     "output_type": "stream",
     "text": [
      "-> Shape of all trials data to plot :  (23, 106)\n",
      "-> Shape of time vector :  23\n",
      "/media/karim/Datas4To/1_Analyses_Intra_EM_Odor/Olfacto/feature/ERP_Odor_No_Odor/Retrieval/CHAF_ERP_PrG_b'5-b'4_(13).png\n",
      "data to save (23, 106) cond0 (14, 23, 24) cond1 (14, 23, 82)\n",
      "Setting up low-pass filter at 10 Hz\n",
      "fir_design defaults to \"firwin2\" in 0.15 but will change to \"firwin\" in 0.16, set it explicitly to avoid this warning.\n",
      "h_trans_bandwidth chosen to be 2.5 Hz\n",
      "Filter length of 1352 samples (2.641 sec) selected\n",
      "Size of filtered data: (3584, 106)\n",
      "time points :  (3584,)\n",
      "Applying baseline correction (mode: mean)\n",
      "Size norm & filtered data :  (3584, 106)\n"
     ]
    },
    {
     "name": "stderr",
     "output_type": "stream",
     "text": [
      "<ipython-input-5-154bfa86badc>:37: DeprecationWarning: fir_design defaults to \"firwin2\" in 0.15 but will change to \"firwin\" in 0.16, set it explicitly to avoid this warning.\n",
      "  h_freq=low_pass_filter, method='fir', phase='zero-double').swapaxes(0,1)\n"
     ]
    },
    {
     "name": "stdout",
     "output_type": "stream",
     "text": [
      "-> Shape of all trials data to plot :  (23, 106)\n",
      "-> Shape of time vector :  23\n",
      "/media/karim/Datas4To/1_Analyses_Intra_EM_Odor/Olfacto/feature/ERP_Odor_No_Odor/Retrieval/CHAF_ERP_PrG_b'6-b'5_(14).png\n",
      "data to save (23, 106) cond0 (15, 23, 24) cond1 (15, 23, 82)\n",
      "Setting up low-pass filter at 10 Hz\n",
      "fir_design defaults to \"firwin2\" in 0.15 but will change to \"firwin\" in 0.16, set it explicitly to avoid this warning.\n",
      "h_trans_bandwidth chosen to be 2.5 Hz\n",
      "Filter length of 1352 samples (2.641 sec) selected\n",
      "Size of filtered data: (3584, 106)\n",
      "time points :  (3584,)\n",
      "Applying baseline correction (mode: mean)\n",
      "Size norm & filtered data :  (3584, 106)\n"
     ]
    },
    {
     "name": "stderr",
     "output_type": "stream",
     "text": [
      "<ipython-input-5-154bfa86badc>:37: DeprecationWarning: fir_design defaults to \"firwin2\" in 0.15 but will change to \"firwin\" in 0.16, set it explicitly to avoid this warning.\n",
      "  h_freq=low_pass_filter, method='fir', phase='zero-double').swapaxes(0,1)\n"
     ]
    },
    {
     "name": "stdout",
     "output_type": "stream",
     "text": [
      "-> Shape of all trials data to plot :  (23, 106)\n",
      "-> Shape of time vector :  23\n",
      "/media/karim/Datas4To/1_Analyses_Intra_EM_Odor/Olfacto/feature/ERP_Odor_No_Odor/Retrieval/CHAF_ERP_PrG_b'7-b'6_(15).png\n",
      "data to save (23, 106) cond0 (16, 23, 24) cond1 (16, 23, 82)\n",
      "Setting up low-pass filter at 10 Hz\n",
      "fir_design defaults to \"firwin2\" in 0.15 but will change to \"firwin\" in 0.16, set it explicitly to avoid this warning.\n",
      "h_trans_bandwidth chosen to be 2.5 Hz\n",
      "Filter length of 1352 samples (2.641 sec) selected\n",
      "Size of filtered data: (3584, 106)\n",
      "time points :  (3584,)\n",
      "Applying baseline correction (mode: mean)\n",
      "Size norm & filtered data :  (3584, 106)\n"
     ]
    },
    {
     "name": "stderr",
     "output_type": "stream",
     "text": [
      "<ipython-input-5-154bfa86badc>:37: DeprecationWarning: fir_design defaults to \"firwin2\" in 0.15 but will change to \"firwin\" in 0.16, set it explicitly to avoid this warning.\n",
      "  h_freq=low_pass_filter, method='fir', phase='zero-double').swapaxes(0,1)\n"
     ]
    },
    {
     "name": "stdout",
     "output_type": "stream",
     "text": [
      "-> Shape of all trials data to plot :  (23, 106)\n",
      "-> Shape of time vector :  23\n",
      "/media/karim/Datas4To/1_Analyses_Intra_EM_Odor/Olfacto/feature/ERP_Odor_No_Odor/Retrieval/CHAF_ERP_PrG_b'8-b'7_(16).png\n",
      "data to save (23, 106) cond0 (17, 23, 24) cond1 (17, 23, 82)\n",
      "Setting up low-pass filter at 10 Hz\n",
      "fir_design defaults to \"firwin2\" in 0.15 but will change to \"firwin\" in 0.16, set it explicitly to avoid this warning.\n",
      "h_trans_bandwidth chosen to be 2.5 Hz\n",
      "Filter length of 1352 samples (2.641 sec) selected\n",
      "Size of filtered data: (3584, 106)\n",
      "time points :  (3584,)\n",
      "Applying baseline correction (mode: mean)\n",
      "Size norm & filtered data :  (3584, 106)\n"
     ]
    },
    {
     "name": "stderr",
     "output_type": "stream",
     "text": [
      "<ipython-input-5-154bfa86badc>:37: DeprecationWarning: fir_design defaults to \"firwin2\" in 0.15 but will change to \"firwin\" in 0.16, set it explicitly to avoid this warning.\n",
      "  h_freq=low_pass_filter, method='fir', phase='zero-double').swapaxes(0,1)\n"
     ]
    },
    {
     "name": "stdout",
     "output_type": "stream",
     "text": [
      "-> Shape of all trials data to plot :  (23, 106)\n",
      "-> Shape of time vector :  23\n",
      "/media/karim/Datas4To/1_Analyses_Intra_EM_Odor/Olfacto/feature/ERP_Odor_No_Odor/Retrieval/CHAF_ERP_PrG_b'9-b'8_(17).png\n",
      "data to save (23, 106) cond0 (18, 23, 24) cond1 (18, 23, 82)\n",
      "Setting up low-pass filter at 10 Hz\n",
      "fir_design defaults to \"firwin2\" in 0.15 but will change to \"firwin\" in 0.16, set it explicitly to avoid this warning.\n",
      "h_trans_bandwidth chosen to be 2.5 Hz\n",
      "Filter length of 1352 samples (2.641 sec) selected\n",
      "Size of filtered data: (3584, 106)\n",
      "time points :  (3584,)\n",
      "Applying baseline correction (mode: mean)\n",
      "Size norm & filtered data :  (3584, 106)\n"
     ]
    },
    {
     "name": "stderr",
     "output_type": "stream",
     "text": [
      "<ipython-input-5-154bfa86badc>:37: DeprecationWarning: fir_design defaults to \"firwin2\" in 0.15 but will change to \"firwin\" in 0.16, set it explicitly to avoid this warning.\n",
      "  h_freq=low_pass_filter, method='fir', phase='zero-double').swapaxes(0,1)\n"
     ]
    },
    {
     "name": "stdout",
     "output_type": "stream",
     "text": [
      "-> Shape of all trials data to plot :  (23, 106)\n",
      "-> Shape of time vector :  23\n",
      "/media/karim/Datas4To/1_Analyses_Intra_EM_Odor/Olfacto/feature/ERP_Odor_No_Odor/Retrieval/CHAF_ERP_MCC-SFGM_c'2-c'1_(18).png\n",
      "data to save (23, 106) cond0 (19, 23, 24) cond1 (19, 23, 82)\n",
      "Setting up low-pass filter at 10 Hz\n",
      "fir_design defaults to \"firwin2\" in 0.15 but will change to \"firwin\" in 0.16, set it explicitly to avoid this warning.\n",
      "h_trans_bandwidth chosen to be 2.5 Hz\n",
      "Filter length of 1352 samples (2.641 sec) selected\n",
      "Size of filtered data: (3584, 106)\n",
      "time points :  (3584,)\n",
      "Applying baseline correction (mode: mean)\n",
      "Size norm & filtered data :  (3584, 106)\n"
     ]
    },
    {
     "name": "stderr",
     "output_type": "stream",
     "text": [
      "<ipython-input-5-154bfa86badc>:37: DeprecationWarning: fir_design defaults to \"firwin2\" in 0.15 but will change to \"firwin\" in 0.16, set it explicitly to avoid this warning.\n",
      "  h_freq=low_pass_filter, method='fir', phase='zero-double').swapaxes(0,1)\n"
     ]
    },
    {
     "name": "stdout",
     "output_type": "stream",
     "text": [
      "-> Shape of all trials data to plot :  (23, 106)\n",
      "-> Shape of time vector :  23\n",
      "/media/karim/Datas4To/1_Analyses_Intra_EM_Odor/Olfacto/feature/ERP_Odor_No_Odor/Retrieval/CHAF_ERP_SFGM&MCC-SFGM_c'3-c'2_(19).png\n",
      "data to save (23, 106) cond0 (20, 23, 24) cond1 (20, 23, 82)\n",
      "Setting up low-pass filter at 10 Hz\n",
      "fir_design defaults to \"firwin2\" in 0.15 but will change to \"firwin\" in 0.16, set it explicitly to avoid this warning.\n",
      "h_trans_bandwidth chosen to be 2.5 Hz\n",
      "Filter length of 1352 samples (2.641 sec) selected\n",
      "Size of filtered data: (3584, 106)\n",
      "time points :  (3584,)\n",
      "Applying baseline correction (mode: mean)\n",
      "Size norm & filtered data :  (3584, 106)\n"
     ]
    },
    {
     "name": "stderr",
     "output_type": "stream",
     "text": [
      "<ipython-input-5-154bfa86badc>:37: DeprecationWarning: fir_design defaults to \"firwin2\" in 0.15 but will change to \"firwin\" in 0.16, set it explicitly to avoid this warning.\n",
      "  h_freq=low_pass_filter, method='fir', phase='zero-double').swapaxes(0,1)\n"
     ]
    },
    {
     "name": "stdout",
     "output_type": "stream",
     "text": [
      "-> Shape of all trials data to plot :  (23, 106)\n",
      "-> Shape of time vector :  23\n",
      "/media/karim/Datas4To/1_Analyses_Intra_EM_Odor/Olfacto/feature/ERP_Odor_No_Odor/Retrieval/CHAF_ERP_SFGM-SFGL&SFGM_c'4-c'3_(20).png\n",
      "data to save (23, 106) cond0 (21, 23, 24) cond1 (21, 23, 82)\n",
      "Setting up low-pass filter at 10 Hz\n",
      "fir_design defaults to \"firwin2\" in 0.15 but will change to \"firwin\" in 0.16, set it explicitly to avoid this warning.\n",
      "h_trans_bandwidth chosen to be 2.5 Hz\n",
      "Filter length of 1352 samples (2.641 sec) selected\n",
      "Size of filtered data: (3584, 106)\n",
      "time points :  (3584,)\n",
      "Applying baseline correction (mode: mean)\n",
      "Size norm & filtered data :  (3584, 106)\n"
     ]
    },
    {
     "name": "stderr",
     "output_type": "stream",
     "text": [
      "<ipython-input-5-154bfa86badc>:37: DeprecationWarning: fir_design defaults to \"firwin2\" in 0.15 but will change to \"firwin\" in 0.16, set it explicitly to avoid this warning.\n",
      "  h_freq=low_pass_filter, method='fir', phase='zero-double').swapaxes(0,1)\n"
     ]
    },
    {
     "name": "stdout",
     "output_type": "stream",
     "text": [
      "-> Shape of all trials data to plot :  (23, 106)\n",
      "-> Shape of time vector :  23\n",
      "/media/karim/Datas4To/1_Analyses_Intra_EM_Odor/Olfacto/feature/ERP_Odor_No_Odor/Retrieval/CHAF_ERP_SFGL&SFGM-SFGL_c'5-c'4_(21).png\n",
      "data to save (23, 106) cond0 (22, 23, 24) cond1 (22, 23, 82)\n",
      "Setting up low-pass filter at 10 Hz\n",
      "fir_design defaults to \"firwin2\" in 0.15 but will change to \"firwin\" in 0.16, set it explicitly to avoid this warning.\n",
      "h_trans_bandwidth chosen to be 2.5 Hz\n",
      "Filter length of 1352 samples (2.641 sec) selected\n",
      "Size of filtered data: (3584, 106)\n",
      "time points :  (3584,)\n",
      "Applying baseline correction (mode: mean)\n",
      "Size norm & filtered data :  (3584, 106)\n"
     ]
    },
    {
     "name": "stderr",
     "output_type": "stream",
     "text": [
      "<ipython-input-5-154bfa86badc>:37: DeprecationWarning: fir_design defaults to \"firwin2\" in 0.15 but will change to \"firwin\" in 0.16, set it explicitly to avoid this warning.\n",
      "  h_freq=low_pass_filter, method='fir', phase='zero-double').swapaxes(0,1)\n"
     ]
    },
    {
     "name": "stdout",
     "output_type": "stream",
     "text": [
      "-> Shape of all trials data to plot :  (23, 106)\n",
      "-> Shape of time vector :  23\n",
      "/media/karim/Datas4To/1_Analyses_Intra_EM_Odor/Olfacto/feature/ERP_Odor_No_Odor/Retrieval/CHAF_ERP_SFGL_c'6-c'5_(22).png\n",
      "data to save (23, 106) cond0 (23, 23, 24) cond1 (23, 23, 82)\n",
      "Setting up low-pass filter at 10 Hz\n",
      "fir_design defaults to \"firwin2\" in 0.15 but will change to \"firwin\" in 0.16, set it explicitly to avoid this warning.\n",
      "h_trans_bandwidth chosen to be 2.5 Hz\n",
      "Filter length of 1352 samples (2.641 sec) selected\n",
      "Size of filtered data: (3584, 106)\n",
      "time points :  (3584,)\n",
      "Applying baseline correction (mode: mean)\n",
      "Size norm & filtered data :  (3584, 106)\n"
     ]
    },
    {
     "name": "stderr",
     "output_type": "stream",
     "text": [
      "<ipython-input-5-154bfa86badc>:37: DeprecationWarning: fir_design defaults to \"firwin2\" in 0.15 but will change to \"firwin\" in 0.16, set it explicitly to avoid this warning.\n",
      "  h_freq=low_pass_filter, method='fir', phase='zero-double').swapaxes(0,1)\n"
     ]
    },
    {
     "name": "stdout",
     "output_type": "stream",
     "text": [
      "-> Shape of all trials data to plot :  (23, 106)\n",
      "-> Shape of time vector :  23\n",
      "/media/karim/Datas4To/1_Analyses_Intra_EM_Odor/Olfacto/feature/ERP_Odor_No_Odor/Retrieval/CHAF_ERP_SFGL_c'7-c'6_(23).png\n",
      "data to save (23, 106) cond0 (24, 23, 24) cond1 (24, 23, 82)\n",
      "Setting up low-pass filter at 10 Hz\n",
      "fir_design defaults to \"firwin2\" in 0.15 but will change to \"firwin\" in 0.16, set it explicitly to avoid this warning.\n",
      "h_trans_bandwidth chosen to be 2.5 Hz\n",
      "Filter length of 1352 samples (2.641 sec) selected\n",
      "Size of filtered data: (3584, 106)\n",
      "time points :  (3584,)\n",
      "Applying baseline correction (mode: mean)\n",
      "Size norm & filtered data :  (3584, 106)\n"
     ]
    },
    {
     "name": "stderr",
     "output_type": "stream",
     "text": [
      "<ipython-input-5-154bfa86badc>:37: DeprecationWarning: fir_design defaults to \"firwin2\" in 0.15 but will change to \"firwin\" in 0.16, set it explicitly to avoid this warning.\n",
      "  h_freq=low_pass_filter, method='fir', phase='zero-double').swapaxes(0,1)\n"
     ]
    },
    {
     "name": "stdout",
     "output_type": "stream",
     "text": [
      "-> Shape of all trials data to plot :  (23, 106)\n",
      "-> Shape of time vector :  23\n",
      "/media/karim/Datas4To/1_Analyses_Intra_EM_Odor/Olfacto/feature/ERP_Odor_No_Odor/Retrieval/CHAF_ERP_SFGL_c'8-c'7_(24).png\n",
      "data to save (23, 106) cond0 (25, 23, 24) cond1 (25, 23, 82)\n",
      "Setting up low-pass filter at 10 Hz\n",
      "fir_design defaults to \"firwin2\" in 0.15 but will change to \"firwin\" in 0.16, set it explicitly to avoid this warning.\n",
      "h_trans_bandwidth chosen to be 2.5 Hz\n",
      "Filter length of 1352 samples (2.641 sec) selected\n",
      "Size of filtered data: (3584, 106)\n",
      "time points :  (3584,)\n",
      "Applying baseline correction (mode: mean)\n",
      "Size norm & filtered data :  (3584, 106)\n"
     ]
    },
    {
     "name": "stderr",
     "output_type": "stream",
     "text": [
      "<ipython-input-5-154bfa86badc>:37: DeprecationWarning: fir_design defaults to \"firwin2\" in 0.15 but will change to \"firwin\" in 0.16, set it explicitly to avoid this warning.\n",
      "  h_freq=low_pass_filter, method='fir', phase='zero-double').swapaxes(0,1)\n"
     ]
    },
    {
     "name": "stdout",
     "output_type": "stream",
     "text": [
      "-> Shape of all trials data to plot :  (23, 106)\n",
      "-> Shape of time vector :  23\n",
      "/media/karim/Datas4To/1_Analyses_Intra_EM_Odor/Olfacto/feature/ERP_Odor_No_Odor/Retrieval/CHAF_ERP_ACC-SFGM_d'2-d'1_(25).png\n",
      "data to save (23, 106) cond0 (26, 23, 24) cond1 (26, 23, 82)\n",
      "Setting up low-pass filter at 10 Hz\n",
      "fir_design defaults to \"firwin2\" in 0.15 but will change to \"firwin\" in 0.16, set it explicitly to avoid this warning.\n",
      "h_trans_bandwidth chosen to be 2.5 Hz\n",
      "Filter length of 1352 samples (2.641 sec) selected\n",
      "Size of filtered data: (3584, 106)\n",
      "time points :  (3584,)\n",
      "Applying baseline correction (mode: mean)\n",
      "Size norm & filtered data :  (3584, 106)\n"
     ]
    },
    {
     "name": "stderr",
     "output_type": "stream",
     "text": [
      "<ipython-input-5-154bfa86badc>:37: DeprecationWarning: fir_design defaults to \"firwin2\" in 0.15 but will change to \"firwin\" in 0.16, set it explicitly to avoid this warning.\n",
      "  h_freq=low_pass_filter, method='fir', phase='zero-double').swapaxes(0,1)\n"
     ]
    },
    {
     "name": "stdout",
     "output_type": "stream",
     "text": [
      "-> Shape of all trials data to plot :  (23, 106)\n",
      "-> Shape of time vector :  23\n",
      "/media/karim/Datas4To/1_Analyses_Intra_EM_Odor/Olfacto/feature/ERP_Odor_No_Odor/Retrieval/CHAF_ERP_SFGM-SFGL&ACC-SFGM_d'3-d'2_(26).png\n",
      "data to save (23, 106) cond0 (27, 23, 24) cond1 (27, 23, 82)\n",
      "Setting up low-pass filter at 10 Hz\n",
      "fir_design defaults to \"firwin2\" in 0.15 but will change to \"firwin\" in 0.16, set it explicitly to avoid this warning.\n",
      "h_trans_bandwidth chosen to be 2.5 Hz\n",
      "Filter length of 1352 samples (2.641 sec) selected\n",
      "Size of filtered data: (3584, 106)\n",
      "time points :  (3584,)\n",
      "Applying baseline correction (mode: mean)\n",
      "Size norm & filtered data :  (3584, 106)\n"
     ]
    },
    {
     "name": "stderr",
     "output_type": "stream",
     "text": [
      "<ipython-input-5-154bfa86badc>:37: DeprecationWarning: fir_design defaults to \"firwin2\" in 0.15 but will change to \"firwin\" in 0.16, set it explicitly to avoid this warning.\n",
      "  h_freq=low_pass_filter, method='fir', phase='zero-double').swapaxes(0,1)\n"
     ]
    },
    {
     "name": "stdout",
     "output_type": "stream",
     "text": [
      "-> Shape of all trials data to plot :  (23, 106)\n",
      "-> Shape of time vector :  23\n",
      "/media/karim/Datas4To/1_Analyses_Intra_EM_Odor/Olfacto/feature/ERP_Odor_No_Odor/Retrieval/CHAF_ERP_SFGM-SFGL_d'4-d'3_(27).png\n",
      "data to save (23, 106) cond0 (28, 23, 24) cond1 (28, 23, 82)\n",
      "Setting up low-pass filter at 10 Hz\n",
      "fir_design defaults to \"firwin2\" in 0.15 but will change to \"firwin\" in 0.16, set it explicitly to avoid this warning.\n",
      "h_trans_bandwidth chosen to be 2.5 Hz\n",
      "Filter length of 1352 samples (2.641 sec) selected\n",
      "Size of filtered data: (3584, 106)\n",
      "time points :  (3584,)\n",
      "Applying baseline correction (mode: mean)\n",
      "Size norm & filtered data :  (3584, 106)\n"
     ]
    },
    {
     "name": "stderr",
     "output_type": "stream",
     "text": [
      "<ipython-input-5-154bfa86badc>:37: DeprecationWarning: fir_design defaults to \"firwin2\" in 0.15 but will change to \"firwin\" in 0.16, set it explicitly to avoid this warning.\n",
      "  h_freq=low_pass_filter, method='fir', phase='zero-double').swapaxes(0,1)\n"
     ]
    },
    {
     "name": "stdout",
     "output_type": "stream",
     "text": [
      "-> Shape of all trials data to plot :  (23, 106)\n",
      "-> Shape of time vector :  23\n",
      "/media/karim/Datas4To/1_Analyses_Intra_EM_Odor/Olfacto/feature/ERP_Odor_No_Odor/Retrieval/CHAF_ERP_SFGM-SFGL_d'5-d'4_(28).png\n",
      "data to save (23, 106) cond0 (29, 23, 24) cond1 (29, 23, 82)\n",
      "Setting up low-pass filter at 10 Hz\n",
      "fir_design defaults to \"firwin2\" in 0.15 but will change to \"firwin\" in 0.16, set it explicitly to avoid this warning.\n",
      "h_trans_bandwidth chosen to be 2.5 Hz\n",
      "Filter length of 1352 samples (2.641 sec) selected\n",
      "Size of filtered data: (3584, 106)\n",
      "time points :  (3584,)\n",
      "Applying baseline correction (mode: mean)\n",
      "Size norm & filtered data :  (3584, 106)\n"
     ]
    },
    {
     "name": "stderr",
     "output_type": "stream",
     "text": [
      "<ipython-input-5-154bfa86badc>:37: DeprecationWarning: fir_design defaults to \"firwin2\" in 0.15 but will change to \"firwin\" in 0.16, set it explicitly to avoid this warning.\n",
      "  h_freq=low_pass_filter, method='fir', phase='zero-double').swapaxes(0,1)\n"
     ]
    },
    {
     "name": "stdout",
     "output_type": "stream",
     "text": [
      "-> Shape of all trials data to plot :  (23, 106)\n",
      "-> Shape of time vector :  23\n",
      "/media/karim/Datas4To/1_Analyses_Intra_EM_Odor/Olfacto/feature/ERP_Odor_No_Odor/Retrieval/CHAF_ERP_SFGL-SFGM&SFGM-SFGL_d'6-d'5_(29).png\n",
      "data to save (23, 106) cond0 (30, 23, 24) cond1 (30, 23, 82)\n",
      "Setting up low-pass filter at 10 Hz\n",
      "fir_design defaults to \"firwin2\" in 0.15 but will change to \"firwin\" in 0.16, set it explicitly to avoid this warning.\n",
      "h_trans_bandwidth chosen to be 2.5 Hz\n",
      "Filter length of 1352 samples (2.641 sec) selected\n",
      "Size of filtered data: (3584, 106)\n",
      "time points :  (3584,)\n",
      "Applying baseline correction (mode: mean)\n",
      "Size norm & filtered data :  (3584, 106)\n"
     ]
    },
    {
     "name": "stderr",
     "output_type": "stream",
     "text": [
      "<ipython-input-5-154bfa86badc>:37: DeprecationWarning: fir_design defaults to \"firwin2\" in 0.15 but will change to \"firwin\" in 0.16, set it explicitly to avoid this warning.\n",
      "  h_freq=low_pass_filter, method='fir', phase='zero-double').swapaxes(0,1)\n"
     ]
    },
    {
     "name": "stdout",
     "output_type": "stream",
     "text": [
      "-> Shape of all trials data to plot :  (23, 106)\n",
      "-> Shape of time vector :  23\n",
      "/media/karim/Datas4To/1_Analyses_Intra_EM_Odor/Olfacto/feature/ERP_Odor_No_Odor/Retrieval/CHAF_ERP_SFGL-SFGM_d'7-d'6_(30).png\n",
      "data to save (23, 106) cond0 (31, 23, 24) cond1 (31, 23, 82)\n",
      "Setting up low-pass filter at 10 Hz\n",
      "fir_design defaults to \"firwin2\" in 0.15 but will change to \"firwin\" in 0.16, set it explicitly to avoid this warning.\n",
      "h_trans_bandwidth chosen to be 2.5 Hz\n",
      "Filter length of 1352 samples (2.641 sec) selected\n",
      "Size of filtered data: (3584, 106)\n",
      "time points :  (3584,)\n",
      "Applying baseline correction (mode: mean)\n",
      "Size norm & filtered data :  (3584, 106)\n"
     ]
    },
    {
     "name": "stderr",
     "output_type": "stream",
     "text": [
      "<ipython-input-5-154bfa86badc>:37: DeprecationWarning: fir_design defaults to \"firwin2\" in 0.15 but will change to \"firwin\" in 0.16, set it explicitly to avoid this warning.\n",
      "  h_freq=low_pass_filter, method='fir', phase='zero-double').swapaxes(0,1)\n"
     ]
    },
    {
     "name": "stdout",
     "output_type": "stream",
     "text": [
      "-> Shape of all trials data to plot :  (23, 106)\n",
      "-> Shape of time vector :  23\n",
      "/media/karim/Datas4To/1_Analyses_Intra_EM_Odor/Olfacto/feature/ERP_Odor_No_Odor/Retrieval/CHAF_ERP_SFGM&SFGL-SFGM_d'8-d'7_(31).png\n",
      "data to save (23, 106) cond0 (32, 23, 24) cond1 (32, 23, 82)\n",
      "Setting up low-pass filter at 10 Hz\n",
      "fir_design defaults to \"firwin2\" in 0.15 but will change to \"firwin\" in 0.16, set it explicitly to avoid this warning.\n",
      "h_trans_bandwidth chosen to be 2.5 Hz\n",
      "Filter length of 1352 samples (2.641 sec) selected\n",
      "Size of filtered data: (3584, 106)\n",
      "time points :  (3584,)\n",
      "Applying baseline correction (mode: mean)\n",
      "Size norm & filtered data :  (3584, 106)\n"
     ]
    },
    {
     "name": "stderr",
     "output_type": "stream",
     "text": [
      "<ipython-input-5-154bfa86badc>:37: DeprecationWarning: fir_design defaults to \"firwin2\" in 0.15 but will change to \"firwin\" in 0.16, set it explicitly to avoid this warning.\n",
      "  h_freq=low_pass_filter, method='fir', phase='zero-double').swapaxes(0,1)\n"
     ]
    },
    {
     "name": "stdout",
     "output_type": "stream",
     "text": [
      "-> Shape of all trials data to plot :  (23, 106)\n",
      "-> Shape of time vector :  23\n",
      "/media/karim/Datas4To/1_Analyses_Intra_EM_Odor/Olfacto/feature/ERP_Odor_No_Odor/Retrieval/CHAF_ERP_SFGM_d'9-d'8_(32).png\n",
      "data to save (23, 106) cond0 (33, 23, 24) cond1 (33, 23, 82)\n",
      "Setting up low-pass filter at 10 Hz\n",
      "fir_design defaults to \"firwin2\" in 0.15 but will change to \"firwin\" in 0.16, set it explicitly to avoid this warning.\n",
      "h_trans_bandwidth chosen to be 2.5 Hz\n",
      "Filter length of 1352 samples (2.641 sec) selected\n",
      "Size of filtered data: (3584, 106)\n",
      "time points :  (3584,)\n",
      "Applying baseline correction (mode: mean)\n",
      "Size norm & filtered data :  (3584, 106)\n"
     ]
    },
    {
     "name": "stderr",
     "output_type": "stream",
     "text": [
      "<ipython-input-5-154bfa86badc>:37: DeprecationWarning: fir_design defaults to \"firwin2\" in 0.15 but will change to \"firwin\" in 0.16, set it explicitly to avoid this warning.\n",
      "  h_freq=low_pass_filter, method='fir', phase='zero-double').swapaxes(0,1)\n"
     ]
    },
    {
     "name": "stdout",
     "output_type": "stream",
     "text": [
      "-> Shape of all trials data to plot :  (23, 106)\n",
      "-> Shape of time vector :  23\n",
      "/media/karim/Datas4To/1_Analyses_Intra_EM_Odor/Olfacto/feature/ERP_Odor_No_Odor/Retrieval/CHAF_ERP_SFGM_d'10-d'9_(33).png\n",
      "data to save (23, 106) cond0 (34, 23, 24) cond1 (34, 23, 82)\n",
      "Setting up low-pass filter at 10 Hz\n",
      "fir_design defaults to \"firwin2\" in 0.15 but will change to \"firwin\" in 0.16, set it explicitly to avoid this warning.\n",
      "h_trans_bandwidth chosen to be 2.5 Hz\n",
      "Filter length of 1352 samples (2.641 sec) selected\n",
      "Size of filtered data: (3584, 106)\n",
      "time points :  (3584,)\n",
      "Applying baseline correction (mode: mean)\n",
      "Size norm & filtered data :  (3584, 106)\n"
     ]
    },
    {
     "name": "stderr",
     "output_type": "stream",
     "text": [
      "<ipython-input-5-154bfa86badc>:37: DeprecationWarning: fir_design defaults to \"firwin2\" in 0.15 but will change to \"firwin\" in 0.16, set it explicitly to avoid this warning.\n",
      "  h_freq=low_pass_filter, method='fir', phase='zero-double').swapaxes(0,1)\n"
     ]
    },
    {
     "name": "stdout",
     "output_type": "stream",
     "text": [
      "-> Shape of all trials data to plot :  (23, 106)\n",
      "-> Shape of time vector :  23\n",
      "/media/karim/Datas4To/1_Analyses_Intra_EM_Odor/Olfacto/feature/ERP_Odor_No_Odor/Retrieval/CHAF_ERP_ACC_e'2-e'1_(34).png\n",
      "data to save (23, 106) cond0 (35, 23, 24) cond1 (35, 23, 82)\n",
      "Setting up low-pass filter at 10 Hz\n",
      "fir_design defaults to \"firwin2\" in 0.15 but will change to \"firwin\" in 0.16, set it explicitly to avoid this warning.\n",
      "h_trans_bandwidth chosen to be 2.5 Hz\n",
      "Filter length of 1352 samples (2.641 sec) selected\n",
      "Size of filtered data: (3584, 106)\n",
      "time points :  (3584,)\n",
      "Applying baseline correction (mode: mean)\n",
      "Size norm & filtered data :  (3584, 106)\n"
     ]
    },
    {
     "name": "stderr",
     "output_type": "stream",
     "text": [
      "<ipython-input-5-154bfa86badc>:37: DeprecationWarning: fir_design defaults to \"firwin2\" in 0.15 but will change to \"firwin\" in 0.16, set it explicitly to avoid this warning.\n",
      "  h_freq=low_pass_filter, method='fir', phase='zero-double').swapaxes(0,1)\n"
     ]
    },
    {
     "name": "stdout",
     "output_type": "stream",
     "text": [
      "-> Shape of all trials data to plot :  (23, 106)\n",
      "-> Shape of time vector :  23\n",
      "/media/karim/Datas4To/1_Analyses_Intra_EM_Odor/Olfacto/feature/ERP_Odor_No_Odor/Retrieval/CHAF_ERP_ACC-SFGM&ACC_e'3-e'2_(35).png\n",
      "data to save (23, 106) cond0 (36, 23, 24) cond1 (36, 23, 82)\n",
      "Setting up low-pass filter at 10 Hz\n",
      "fir_design defaults to \"firwin2\" in 0.15 but will change to \"firwin\" in 0.16, set it explicitly to avoid this warning.\n",
      "h_trans_bandwidth chosen to be 2.5 Hz\n",
      "Filter length of 1352 samples (2.641 sec) selected\n",
      "Size of filtered data: (3584, 106)\n",
      "time points :  (3584,)\n",
      "Applying baseline correction (mode: mean)\n",
      "Size norm & filtered data :  (3584, 106)\n"
     ]
    },
    {
     "name": "stderr",
     "output_type": "stream",
     "text": [
      "<ipython-input-5-154bfa86badc>:37: DeprecationWarning: fir_design defaults to \"firwin2\" in 0.15 but will change to \"firwin\" in 0.16, set it explicitly to avoid this warning.\n",
      "  h_freq=low_pass_filter, method='fir', phase='zero-double').swapaxes(0,1)\n"
     ]
    },
    {
     "name": "stdout",
     "output_type": "stream",
     "text": [
      "-> Shape of all trials data to plot :  (23, 106)\n",
      "-> Shape of time vector :  23\n",
      "/media/karim/Datas4To/1_Analyses_Intra_EM_Odor/Olfacto/feature/ERP_Odor_No_Odor/Retrieval/CHAF_ERP_SFGM&ACC-SFGM_e'4-e'3_(36).png\n",
      "data to save (23, 106) cond0 (37, 23, 24) cond1 (37, 23, 82)\n",
      "Setting up low-pass filter at 10 Hz\n",
      "fir_design defaults to \"firwin2\" in 0.15 but will change to \"firwin\" in 0.16, set it explicitly to avoid this warning.\n",
      "h_trans_bandwidth chosen to be 2.5 Hz\n",
      "Filter length of 1352 samples (2.641 sec) selected\n",
      "Size of filtered data: (3584, 106)\n",
      "time points :  (3584,)\n",
      "Applying baseline correction (mode: mean)\n",
      "Size norm & filtered data :  (3584, 106)\n"
     ]
    },
    {
     "name": "stderr",
     "output_type": "stream",
     "text": [
      "<ipython-input-5-154bfa86badc>:37: DeprecationWarning: fir_design defaults to \"firwin2\" in 0.15 but will change to \"firwin\" in 0.16, set it explicitly to avoid this warning.\n",
      "  h_freq=low_pass_filter, method='fir', phase='zero-double').swapaxes(0,1)\n"
     ]
    },
    {
     "name": "stdout",
     "output_type": "stream",
     "text": [
      "-> Shape of all trials data to plot :  (23, 106)\n",
      "-> Shape of time vector :  23\n",
      "/media/karim/Datas4To/1_Analyses_Intra_EM_Odor/Olfacto/feature/ERP_Odor_No_Odor/Retrieval/CHAF_ERP_SFGM_e'5-e'4_(37).png\n",
      "data to save (23, 106) cond0 (38, 23, 24) cond1 (38, 23, 82)\n",
      "Setting up low-pass filter at 10 Hz\n",
      "fir_design defaults to \"firwin2\" in 0.15 but will change to \"firwin\" in 0.16, set it explicitly to avoid this warning.\n",
      "h_trans_bandwidth chosen to be 2.5 Hz\n",
      "Filter length of 1352 samples (2.641 sec) selected\n",
      "Size of filtered data: (3584, 106)\n",
      "time points :  (3584,)\n",
      "Applying baseline correction (mode: mean)\n",
      "Size norm & filtered data :  (3584, 106)\n"
     ]
    },
    {
     "name": "stderr",
     "output_type": "stream",
     "text": [
      "<ipython-input-5-154bfa86badc>:37: DeprecationWarning: fir_design defaults to \"firwin2\" in 0.15 but will change to \"firwin\" in 0.16, set it explicitly to avoid this warning.\n",
      "  h_freq=low_pass_filter, method='fir', phase='zero-double').swapaxes(0,1)\n"
     ]
    },
    {
     "name": "stdout",
     "output_type": "stream",
     "text": [
      "-> Shape of all trials data to plot :  (23, 106)\n",
      "-> Shape of time vector :  23\n",
      "/media/karim/Datas4To/1_Analyses_Intra_EM_Odor/Olfacto/feature/ERP_Odor_No_Odor/Retrieval/CHAF_ERP_SFGM_e'6-e'5_(38).png\n",
      "data to save (23, 106) cond0 (39, 23, 24) cond1 (39, 23, 82)\n",
      "Setting up low-pass filter at 10 Hz\n",
      "fir_design defaults to \"firwin2\" in 0.15 but will change to \"firwin\" in 0.16, set it explicitly to avoid this warning.\n",
      "h_trans_bandwidth chosen to be 2.5 Hz\n",
      "Filter length of 1352 samples (2.641 sec) selected\n",
      "Size of filtered data: (3584, 106)\n",
      "time points :  (3584,)\n",
      "Applying baseline correction (mode: mean)\n",
      "Size norm & filtered data :  (3584, 106)\n"
     ]
    },
    {
     "name": "stderr",
     "output_type": "stream",
     "text": [
      "<ipython-input-5-154bfa86badc>:37: DeprecationWarning: fir_design defaults to \"firwin2\" in 0.15 but will change to \"firwin\" in 0.16, set it explicitly to avoid this warning.\n",
      "  h_freq=low_pass_filter, method='fir', phase='zero-double').swapaxes(0,1)\n"
     ]
    },
    {
     "name": "stdout",
     "output_type": "stream",
     "text": [
      "-> Shape of all trials data to plot :  (23, 106)\n",
      "-> Shape of time vector :  23\n",
      "/media/karim/Datas4To/1_Analyses_Intra_EM_Odor/Olfacto/feature/ERP_Odor_No_Odor/Retrieval/CHAF_ERP_SFGM_e'7-e'6_(39).png\n",
      "data to save (23, 106) cond0 (40, 23, 24) cond1 (40, 23, 82)\n",
      "Setting up low-pass filter at 10 Hz\n",
      "fir_design defaults to \"firwin2\" in 0.15 but will change to \"firwin\" in 0.16, set it explicitly to avoid this warning.\n",
      "h_trans_bandwidth chosen to be 2.5 Hz\n",
      "Filter length of 1352 samples (2.641 sec) selected\n",
      "Size of filtered data: (3584, 106)\n",
      "time points :  (3584,)\n",
      "Applying baseline correction (mode: mean)\n",
      "Size norm & filtered data :  (3584, 106)\n"
     ]
    },
    {
     "name": "stderr",
     "output_type": "stream",
     "text": [
      "<ipython-input-5-154bfa86badc>:37: DeprecationWarning: fir_design defaults to \"firwin2\" in 0.15 but will change to \"firwin\" in 0.16, set it explicitly to avoid this warning.\n",
      "  h_freq=low_pass_filter, method='fir', phase='zero-double').swapaxes(0,1)\n"
     ]
    },
    {
     "name": "stdout",
     "output_type": "stream",
     "text": [
      "-> Shape of all trials data to plot :  (23, 106)\n",
      "-> Shape of time vector :  23\n",
      "/media/karim/Datas4To/1_Analyses_Intra_EM_Odor/Olfacto/feature/ERP_Odor_No_Odor/Retrieval/CHAF_ERP_SFGL&SFGM_e'8-e'7_(40).png\n",
      "data to save (23, 106) cond0 (41, 23, 24) cond1 (41, 23, 82)\n",
      "Setting up low-pass filter at 10 Hz\n",
      "fir_design defaults to \"firwin2\" in 0.15 but will change to \"firwin\" in 0.16, set it explicitly to avoid this warning.\n",
      "h_trans_bandwidth chosen to be 2.5 Hz\n",
      "Filter length of 1352 samples (2.641 sec) selected\n",
      "Size of filtered data: (3584, 106)\n",
      "time points :  (3584,)\n",
      "Applying baseline correction (mode: mean)\n",
      "Size norm & filtered data :  (3584, 106)\n"
     ]
    },
    {
     "name": "stderr",
     "output_type": "stream",
     "text": [
      "<ipython-input-5-154bfa86badc>:37: DeprecationWarning: fir_design defaults to \"firwin2\" in 0.15 but will change to \"firwin\" in 0.16, set it explicitly to avoid this warning.\n",
      "  h_freq=low_pass_filter, method='fir', phase='zero-double').swapaxes(0,1)\n"
     ]
    },
    {
     "name": "stdout",
     "output_type": "stream",
     "text": [
      "-> Shape of all trials data to plot :  (23, 106)\n",
      "-> Shape of time vector :  23\n",
      "/media/karim/Datas4To/1_Analyses_Intra_EM_Odor/Olfacto/feature/ERP_Odor_No_Odor/Retrieval/CHAF_ERP_SFGL_e'9-e'8_(41).png\n",
      "data to save (23, 106) cond0 (42, 23, 24) cond1 (42, 23, 82)\n",
      "Setting up low-pass filter at 10 Hz\n",
      "fir_design defaults to \"firwin2\" in 0.15 but will change to \"firwin\" in 0.16, set it explicitly to avoid this warning.\n",
      "h_trans_bandwidth chosen to be 2.5 Hz\n",
      "Filter length of 1352 samples (2.641 sec) selected\n",
      "Size of filtered data: (3584, 106)\n",
      "time points :  (3584,)\n",
      "Applying baseline correction (mode: mean)\n",
      "Size norm & filtered data :  (3584, 106)\n"
     ]
    },
    {
     "name": "stderr",
     "output_type": "stream",
     "text": [
      "<ipython-input-5-154bfa86badc>:37: DeprecationWarning: fir_design defaults to \"firwin2\" in 0.15 but will change to \"firwin\" in 0.16, set it explicitly to avoid this warning.\n",
      "  h_freq=low_pass_filter, method='fir', phase='zero-double').swapaxes(0,1)\n"
     ]
    },
    {
     "name": "stdout",
     "output_type": "stream",
     "text": [
      "-> Shape of all trials data to plot :  (23, 106)\n",
      "-> Shape of time vector :  23\n",
      "/media/karim/Datas4To/1_Analyses_Intra_EM_Odor/Olfacto/feature/ERP_Odor_No_Odor/Retrieval/CHAF_ERP_SFGL_e'10-e'9_(42).png\n",
      "data to save (23, 106) cond0 (43, 23, 24) cond1 (43, 23, 82)\n",
      "Setting up low-pass filter at 10 Hz\n",
      "fir_design defaults to \"firwin2\" in 0.15 but will change to \"firwin\" in 0.16, set it explicitly to avoid this warning.\n",
      "h_trans_bandwidth chosen to be 2.5 Hz\n",
      "Filter length of 1352 samples (2.641 sec) selected\n",
      "Size of filtered data: (3584, 106)\n",
      "time points :  (3584,)\n",
      "Applying baseline correction (mode: mean)\n",
      "Size norm & filtered data :  (3584, 106)\n"
     ]
    },
    {
     "name": "stderr",
     "output_type": "stream",
     "text": [
      "<ipython-input-5-154bfa86badc>:37: DeprecationWarning: fir_design defaults to \"firwin2\" in 0.15 but will change to \"firwin\" in 0.16, set it explicitly to avoid this warning.\n",
      "  h_freq=low_pass_filter, method='fir', phase='zero-double').swapaxes(0,1)\n"
     ]
    },
    {
     "name": "stdout",
     "output_type": "stream",
     "text": [
      "-> Shape of all trials data to plot :  (23, 106)\n",
      "-> Shape of time vector :  23\n",
      "/media/karim/Datas4To/1_Analyses_Intra_EM_Odor/Olfacto/feature/ERP_Odor_No_Odor/Retrieval/CHAF_ERP_SFGL_e'11-e'10_(43).png\n",
      "data to save (23, 106) cond0 (44, 23, 24) cond1 (44, 23, 82)\n",
      "Setting up low-pass filter at 10 Hz\n",
      "fir_design defaults to \"firwin2\" in 0.15 but will change to \"firwin\" in 0.16, set it explicitly to avoid this warning.\n",
      "h_trans_bandwidth chosen to be 2.5 Hz\n",
      "Filter length of 1352 samples (2.641 sec) selected\n",
      "Size of filtered data: (3584, 106)\n",
      "time points :  (3584,)\n",
      "Applying baseline correction (mode: mean)\n",
      "Size norm & filtered data :  (3584, 106)\n"
     ]
    },
    {
     "name": "stderr",
     "output_type": "stream",
     "text": [
      "<ipython-input-5-154bfa86badc>:37: DeprecationWarning: fir_design defaults to \"firwin2\" in 0.15 but will change to \"firwin\" in 0.16, set it explicitly to avoid this warning.\n",
      "  h_freq=low_pass_filter, method='fir', phase='zero-double').swapaxes(0,1)\n"
     ]
    },
    {
     "name": "stdout",
     "output_type": "stream",
     "text": [
      "-> Shape of all trials data to plot :  (23, 106)\n",
      "-> Shape of time vector :  23\n",
      "/media/karim/Datas4To/1_Analyses_Intra_EM_Odor/Olfacto/feature/ERP_Odor_No_Odor/Retrieval/CHAF_ERP_SFGL_e'12-e'11_(44).png\n",
      "data to save (23, 106) cond0 (45, 23, 24) cond1 (45, 23, 82)\n",
      "Setting up low-pass filter at 10 Hz\n",
      "fir_design defaults to \"firwin2\" in 0.15 but will change to \"firwin\" in 0.16, set it explicitly to avoid this warning.\n",
      "h_trans_bandwidth chosen to be 2.5 Hz\n",
      "Filter length of 1352 samples (2.641 sec) selected\n",
      "Size of filtered data: (3584, 106)\n",
      "time points :  (3584,)\n",
      "Applying baseline correction (mode: mean)\n",
      "Size norm & filtered data :  (3584, 106)\n"
     ]
    },
    {
     "name": "stderr",
     "output_type": "stream",
     "text": [
      "<ipython-input-5-154bfa86badc>:37: DeprecationWarning: fir_design defaults to \"firwin2\" in 0.15 but will change to \"firwin\" in 0.16, set it explicitly to avoid this warning.\n",
      "  h_freq=low_pass_filter, method='fir', phase='zero-double').swapaxes(0,1)\n"
     ]
    },
    {
     "name": "stdout",
     "output_type": "stream",
     "text": [
      "-> Shape of all trials data to plot :  (23, 106)\n",
      "-> Shape of time vector :  23\n",
      "/media/karim/Datas4To/1_Analyses_Intra_EM_Odor/Olfacto/feature/ERP_Odor_No_Odor/Retrieval/CHAF_ERP_ACC_f'2-f'1_(45).png\n",
      "data to save (23, 106) cond0 (46, 23, 24) cond1 (46, 23, 82)\n",
      "Setting up low-pass filter at 10 Hz\n",
      "fir_design defaults to \"firwin2\" in 0.15 but will change to \"firwin\" in 0.16, set it explicitly to avoid this warning.\n",
      "h_trans_bandwidth chosen to be 2.5 Hz\n",
      "Filter length of 1352 samples (2.641 sec) selected\n",
      "Size of filtered data: (3584, 106)\n",
      "time points :  (3584,)\n",
      "Applying baseline correction (mode: mean)\n",
      "Size norm & filtered data :  (3584, 106)\n"
     ]
    },
    {
     "name": "stderr",
     "output_type": "stream",
     "text": [
      "<ipython-input-5-154bfa86badc>:37: DeprecationWarning: fir_design defaults to \"firwin2\" in 0.15 but will change to \"firwin\" in 0.16, set it explicitly to avoid this warning.\n",
      "  h_freq=low_pass_filter, method='fir', phase='zero-double').swapaxes(0,1)\n"
     ]
    },
    {
     "name": "stdout",
     "output_type": "stream",
     "text": [
      "-> Shape of all trials data to plot :  (23, 106)\n",
      "-> Shape of time vector :  23\n",
      "/media/karim/Datas4To/1_Analyses_Intra_EM_Odor/Olfacto/feature/ERP_Odor_No_Odor/Retrieval/CHAF_ERP_ACC_f'3-f'2_(46).png\n",
      "data to save (23, 106) cond0 (47, 23, 24) cond1 (47, 23, 82)\n",
      "Setting up low-pass filter at 10 Hz\n",
      "fir_design defaults to \"firwin2\" in 0.15 but will change to \"firwin\" in 0.16, set it explicitly to avoid this warning.\n",
      "h_trans_bandwidth chosen to be 2.5 Hz\n",
      "Filter length of 1352 samples (2.641 sec) selected\n",
      "Size of filtered data: (3584, 106)\n",
      "time points :  (3584,)\n",
      "Applying baseline correction (mode: mean)\n",
      "Size norm & filtered data :  (3584, 106)\n"
     ]
    },
    {
     "name": "stderr",
     "output_type": "stream",
     "text": [
      "<ipython-input-5-154bfa86badc>:37: DeprecationWarning: fir_design defaults to \"firwin2\" in 0.15 but will change to \"firwin\" in 0.16, set it explicitly to avoid this warning.\n",
      "  h_freq=low_pass_filter, method='fir', phase='zero-double').swapaxes(0,1)\n"
     ]
    },
    {
     "name": "stdout",
     "output_type": "stream",
     "text": [
      "-> Shape of all trials data to plot :  (23, 106)\n",
      "-> Shape of time vector :  23\n",
      "/media/karim/Datas4To/1_Analyses_Intra_EM_Odor/Olfacto/feature/ERP_Odor_No_Odor/Retrieval/CHAF_ERP_SFGM&ACC_f'4-f'3_(47).png\n",
      "data to save (23, 106) cond0 (48, 23, 24) cond1 (48, 23, 82)\n",
      "Setting up low-pass filter at 10 Hz\n",
      "fir_design defaults to \"firwin2\" in 0.15 but will change to \"firwin\" in 0.16, set it explicitly to avoid this warning.\n",
      "h_trans_bandwidth chosen to be 2.5 Hz\n",
      "Filter length of 1352 samples (2.641 sec) selected\n",
      "Size of filtered data: (3584, 106)\n",
      "time points :  (3584,)\n",
      "Applying baseline correction (mode: mean)\n",
      "Size norm & filtered data :  (3584, 106)\n"
     ]
    },
    {
     "name": "stderr",
     "output_type": "stream",
     "text": [
      "<ipython-input-5-154bfa86badc>:37: DeprecationWarning: fir_design defaults to \"firwin2\" in 0.15 but will change to \"firwin\" in 0.16, set it explicitly to avoid this warning.\n",
      "  h_freq=low_pass_filter, method='fir', phase='zero-double').swapaxes(0,1)\n"
     ]
    },
    {
     "name": "stdout",
     "output_type": "stream",
     "text": [
      "-> Shape of all trials data to plot :  (23, 106)\n",
      "-> Shape of time vector :  23\n",
      "/media/karim/Datas4To/1_Analyses_Intra_EM_Odor/Olfacto/feature/ERP_Odor_No_Odor/Retrieval/CHAF_ERP_SFGM_f'5-f'4_(48).png\n",
      "data to save (23, 106) cond0 (49, 23, 24) cond1 (49, 23, 82)\n",
      "Setting up low-pass filter at 10 Hz\n",
      "fir_design defaults to \"firwin2\" in 0.15 but will change to \"firwin\" in 0.16, set it explicitly to avoid this warning.\n",
      "h_trans_bandwidth chosen to be 2.5 Hz\n",
      "Filter length of 1352 samples (2.641 sec) selected\n",
      "Size of filtered data: (3584, 106)\n",
      "time points :  (3584,)\n",
      "Applying baseline correction (mode: mean)\n",
      "Size norm & filtered data :  (3584, 106)\n"
     ]
    },
    {
     "name": "stderr",
     "output_type": "stream",
     "text": [
      "<ipython-input-5-154bfa86badc>:37: DeprecationWarning: fir_design defaults to \"firwin2\" in 0.15 but will change to \"firwin\" in 0.16, set it explicitly to avoid this warning.\n",
      "  h_freq=low_pass_filter, method='fir', phase='zero-double').swapaxes(0,1)\n"
     ]
    },
    {
     "name": "stdout",
     "output_type": "stream",
     "text": [
      "-> Shape of all trials data to plot :  (23, 106)\n",
      "-> Shape of time vector :  23\n",
      "/media/karim/Datas4To/1_Analyses_Intra_EM_Odor/Olfacto/feature/ERP_Odor_No_Odor/Retrieval/CHAF_ERP_SFGL&SFGM_f'6-f'5_(49).png\n",
      "data to save (23, 106) cond0 (50, 23, 24) cond1 (50, 23, 82)\n",
      "Setting up low-pass filter at 10 Hz\n",
      "fir_design defaults to \"firwin2\" in 0.15 but will change to \"firwin\" in 0.16, set it explicitly to avoid this warning.\n",
      "h_trans_bandwidth chosen to be 2.5 Hz\n",
      "Filter length of 1352 samples (2.641 sec) selected\n",
      "Size of filtered data: (3584, 106)\n",
      "time points :  (3584,)\n",
      "Applying baseline correction (mode: mean)\n",
      "Size norm & filtered data :  (3584, 106)\n"
     ]
    },
    {
     "name": "stderr",
     "output_type": "stream",
     "text": [
      "<ipython-input-5-154bfa86badc>:37: DeprecationWarning: fir_design defaults to \"firwin2\" in 0.15 but will change to \"firwin\" in 0.16, set it explicitly to avoid this warning.\n",
      "  h_freq=low_pass_filter, method='fir', phase='zero-double').swapaxes(0,1)\n"
     ]
    },
    {
     "name": "stdout",
     "output_type": "stream",
     "text": [
      "-> Shape of all trials data to plot :  (23, 106)\n",
      "-> Shape of time vector :  23\n",
      "/media/karim/Datas4To/1_Analyses_Intra_EM_Odor/Olfacto/feature/ERP_Odor_No_Odor/Retrieval/CHAF_ERP_SFGL_f'7-f'6_(50).png\n",
      "data to save (23, 106) cond0 (51, 23, 24) cond1 (51, 23, 82)\n",
      "Setting up low-pass filter at 10 Hz\n",
      "fir_design defaults to \"firwin2\" in 0.15 but will change to \"firwin\" in 0.16, set it explicitly to avoid this warning.\n",
      "h_trans_bandwidth chosen to be 2.5 Hz\n",
      "Filter length of 1352 samples (2.641 sec) selected\n",
      "Size of filtered data: (3584, 106)\n",
      "time points :  (3584,)\n",
      "Applying baseline correction (mode: mean)\n",
      "Size norm & filtered data :  (3584, 106)\n"
     ]
    },
    {
     "name": "stderr",
     "output_type": "stream",
     "text": [
      "<ipython-input-5-154bfa86badc>:37: DeprecationWarning: fir_design defaults to \"firwin2\" in 0.15 but will change to \"firwin\" in 0.16, set it explicitly to avoid this warning.\n",
      "  h_freq=low_pass_filter, method='fir', phase='zero-double').swapaxes(0,1)\n"
     ]
    },
    {
     "name": "stdout",
     "output_type": "stream",
     "text": [
      "-> Shape of all trials data to plot :  (23, 106)\n",
      "-> Shape of time vector :  23\n",
      "/media/karim/Datas4To/1_Analyses_Intra_EM_Odor/Olfacto/feature/ERP_Odor_No_Odor/Retrieval/CHAF_ERP_SFGL_f'8-f'7_(51).png\n",
      "data to save (23, 106) cond0 (52, 23, 24) cond1 (52, 23, 82)\n",
      "Setting up low-pass filter at 10 Hz\n",
      "fir_design defaults to \"firwin2\" in 0.15 but will change to \"firwin\" in 0.16, set it explicitly to avoid this warning.\n",
      "h_trans_bandwidth chosen to be 2.5 Hz\n",
      "Filter length of 1352 samples (2.641 sec) selected\n",
      "Size of filtered data: (3584, 106)\n",
      "time points :  (3584,)\n",
      "Applying baseline correction (mode: mean)\n",
      "Size norm & filtered data :  (3584, 106)\n"
     ]
    },
    {
     "name": "stderr",
     "output_type": "stream",
     "text": [
      "<ipython-input-5-154bfa86badc>:37: DeprecationWarning: fir_design defaults to \"firwin2\" in 0.15 but will change to \"firwin\" in 0.16, set it explicitly to avoid this warning.\n",
      "  h_freq=low_pass_filter, method='fir', phase='zero-double').swapaxes(0,1)\n"
     ]
    },
    {
     "name": "stdout",
     "output_type": "stream",
     "text": [
      "-> Shape of all trials data to plot :  (23, 106)\n",
      "-> Shape of time vector :  23\n",
      "/media/karim/Datas4To/1_Analyses_Intra_EM_Odor/Olfacto/feature/ERP_Odor_No_Odor/Retrieval/CHAF_ERP_SFGL_f'9-f'8_(52).png\n",
      "data to save (23, 106) cond0 (53, 23, 24) cond1 (53, 23, 82)\n",
      "Setting up low-pass filter at 10 Hz\n",
      "fir_design defaults to \"firwin2\" in 0.15 but will change to \"firwin\" in 0.16, set it explicitly to avoid this warning.\n",
      "h_trans_bandwidth chosen to be 2.5 Hz\n",
      "Filter length of 1352 samples (2.641 sec) selected\n",
      "Size of filtered data: (3584, 106)\n",
      "time points :  (3584,)\n",
      "Applying baseline correction (mode: mean)\n",
      "Size norm & filtered data :  (3584, 106)\n"
     ]
    },
    {
     "name": "stderr",
     "output_type": "stream",
     "text": [
      "<ipython-input-5-154bfa86badc>:37: DeprecationWarning: fir_design defaults to \"firwin2\" in 0.15 but will change to \"firwin\" in 0.16, set it explicitly to avoid this warning.\n",
      "  h_freq=low_pass_filter, method='fir', phase='zero-double').swapaxes(0,1)\n"
     ]
    },
    {
     "name": "stdout",
     "output_type": "stream",
     "text": [
      "-> Shape of all trials data to plot :  (23, 106)\n",
      "-> Shape of time vector :  23\n",
      "/media/karim/Datas4To/1_Analyses_Intra_EM_Odor/Olfacto/feature/ERP_Odor_No_Odor/Retrieval/CHAF_ERP_SFGL_f'10-f'9_(53).png\n",
      "data to save (23, 106) cond0 (54, 23, 24) cond1 (54, 23, 82)\n",
      "Setting up low-pass filter at 10 Hz\n",
      "fir_design defaults to \"firwin2\" in 0.15 but will change to \"firwin\" in 0.16, set it explicitly to avoid this warning.\n",
      "h_trans_bandwidth chosen to be 2.5 Hz\n",
      "Filter length of 1352 samples (2.641 sec) selected\n",
      "Size of filtered data: (3584, 106)\n",
      "time points :  (3584,)\n",
      "Applying baseline correction (mode: mean)\n",
      "Size norm & filtered data :  (3584, 106)\n"
     ]
    },
    {
     "name": "stderr",
     "output_type": "stream",
     "text": [
      "<ipython-input-5-154bfa86badc>:37: DeprecationWarning: fir_design defaults to \"firwin2\" in 0.15 but will change to \"firwin\" in 0.16, set it explicitly to avoid this warning.\n",
      "  h_freq=low_pass_filter, method='fir', phase='zero-double').swapaxes(0,1)\n"
     ]
    },
    {
     "name": "stdout",
     "output_type": "stream",
     "text": [
      "-> Shape of all trials data to plot :  (23, 106)\n",
      "-> Shape of time vector :  23\n",
      "/media/karim/Datas4To/1_Analyses_Intra_EM_Odor/Olfacto/feature/ERP_Odor_No_Odor/Retrieval/CHAF_ERP_SFGL_f'11-f'10_(54).png\n",
      "data to save (23, 106) cond0 (55, 23, 24) cond1 (55, 23, 82)\n",
      "Setting up low-pass filter at 10 Hz\n",
      "fir_design defaults to \"firwin2\" in 0.15 but will change to \"firwin\" in 0.16, set it explicitly to avoid this warning.\n",
      "h_trans_bandwidth chosen to be 2.5 Hz\n",
      "Filter length of 1352 samples (2.641 sec) selected\n",
      "Size of filtered data: (3584, 106)\n",
      "time points :  (3584,)\n",
      "Applying baseline correction (mode: mean)\n",
      "Size norm & filtered data :  (3584, 106)\n"
     ]
    },
    {
     "name": "stderr",
     "output_type": "stream",
     "text": [
      "<ipython-input-5-154bfa86badc>:37: DeprecationWarning: fir_design defaults to \"firwin2\" in 0.15 but will change to \"firwin\" in 0.16, set it explicitly to avoid this warning.\n",
      "  h_freq=low_pass_filter, method='fir', phase='zero-double').swapaxes(0,1)\n"
     ]
    },
    {
     "name": "stdout",
     "output_type": "stream",
     "text": [
      "-> Shape of all trials data to plot :  (23, 106)\n",
      "-> Shape of time vector :  23\n",
      "/media/karim/Datas4To/1_Analyses_Intra_EM_Odor/Olfacto/feature/ERP_Odor_No_Odor/Retrieval/CHAF_ERP_SFGL_f'12-f'11_(55).png\n",
      "data to save (23, 106) cond0 (56, 23, 24) cond1 (56, 23, 82)\n",
      "Setting up low-pass filter at 10 Hz\n",
      "fir_design defaults to \"firwin2\" in 0.15 but will change to \"firwin\" in 0.16, set it explicitly to avoid this warning.\n",
      "h_trans_bandwidth chosen to be 2.5 Hz\n",
      "Filter length of 1352 samples (2.641 sec) selected\n",
      "Size of filtered data: (3584, 106)\n",
      "time points :  (3584,)\n",
      "Applying baseline correction (mode: mean)\n",
      "Size norm & filtered data :  (3584, 106)\n"
     ]
    },
    {
     "name": "stderr",
     "output_type": "stream",
     "text": [
      "<ipython-input-5-154bfa86badc>:37: DeprecationWarning: fir_design defaults to \"firwin2\" in 0.15 but will change to \"firwin\" in 0.16, set it explicitly to avoid this warning.\n",
      "  h_freq=low_pass_filter, method='fir', phase='zero-double').swapaxes(0,1)\n"
     ]
    },
    {
     "name": "stdout",
     "output_type": "stream",
     "text": [
      "-> Shape of all trials data to plot :  (23, 106)\n",
      "-> Shape of time vector :  23\n",
      "/media/karim/Datas4To/1_Analyses_Intra_EM_Odor/Olfacto/feature/ERP_Odor_No_Odor/Retrieval/CHAF_ERP_SFGL_f'13-f'12_(56).png\n",
      "data to save (23, 106) cond0 (57, 23, 24) cond1 (57, 23, 82)\n",
      "Setting up low-pass filter at 10 Hz\n",
      "fir_design defaults to \"firwin2\" in 0.15 but will change to \"firwin\" in 0.16, set it explicitly to avoid this warning.\n",
      "h_trans_bandwidth chosen to be 2.5 Hz\n",
      "Filter length of 1352 samples (2.641 sec) selected\n",
      "Size of filtered data: (3584, 106)\n",
      "time points :  (3584,)\n",
      "Applying baseline correction (mode: mean)\n",
      "Size norm & filtered data :  (3584, 106)\n"
     ]
    },
    {
     "name": "stderr",
     "output_type": "stream",
     "text": [
      "<ipython-input-5-154bfa86badc>:37: DeprecationWarning: fir_design defaults to \"firwin2\" in 0.15 but will change to \"firwin\" in 0.16, set it explicitly to avoid this warning.\n",
      "  h_freq=low_pass_filter, method='fir', phase='zero-double').swapaxes(0,1)\n"
     ]
    },
    {
     "name": "stdout",
     "output_type": "stream",
     "text": [
      "-> Shape of all trials data to plot :  (23, 106)\n",
      "-> Shape of time vector :  23\n",
      "/media/karim/Datas4To/1_Analyses_Intra_EM_Odor/Olfacto/feature/ERP_Odor_No_Odor/Retrieval/CHAF_ERP_SFGL_f'14-f'13_(57).png\n",
      "data to save (23, 106) cond0 (58, 23, 24) cond1 (58, 23, 82)\n",
      "Setting up low-pass filter at 10 Hz\n",
      "fir_design defaults to \"firwin2\" in 0.15 but will change to \"firwin\" in 0.16, set it explicitly to avoid this warning.\n",
      "h_trans_bandwidth chosen to be 2.5 Hz\n",
      "Filter length of 1352 samples (2.641 sec) selected\n",
      "Size of filtered data: (3584, 106)\n",
      "time points :  (3584,)\n",
      "Applying baseline correction (mode: mean)\n",
      "Size norm & filtered data :  (3584, 106)\n"
     ]
    },
    {
     "name": "stderr",
     "output_type": "stream",
     "text": [
      "<ipython-input-5-154bfa86badc>:37: DeprecationWarning: fir_design defaults to \"firwin2\" in 0.15 but will change to \"firwin\" in 0.16, set it explicitly to avoid this warning.\n",
      "  h_freq=low_pass_filter, method='fir', phase='zero-double').swapaxes(0,1)\n"
     ]
    },
    {
     "name": "stdout",
     "output_type": "stream",
     "text": [
      "-> Shape of all trials data to plot :  (23, 106)\n",
      "-> Shape of time vector :  23\n",
      "/media/karim/Datas4To/1_Analyses_Intra_EM_Odor/Olfacto/feature/ERP_Odor_No_Odor/Retrieval/CHAF_ERP_MFG-PrG_g'3-g'2_(58).png\n",
      "data to save (23, 106) cond0 (59, 23, 24) cond1 (59, 23, 82)\n",
      "Setting up low-pass filter at 10 Hz\n",
      "fir_design defaults to \"firwin2\" in 0.15 but will change to \"firwin\" in 0.16, set it explicitly to avoid this warning.\n",
      "h_trans_bandwidth chosen to be 2.5 Hz\n",
      "Filter length of 1352 samples (2.641 sec) selected\n",
      "Size of filtered data: (3584, 106)\n",
      "time points :  (3584,)\n",
      "Applying baseline correction (mode: mean)\n",
      "Size norm & filtered data :  (3584, 106)\n"
     ]
    },
    {
     "name": "stderr",
     "output_type": "stream",
     "text": [
      "<ipython-input-5-154bfa86badc>:37: DeprecationWarning: fir_design defaults to \"firwin2\" in 0.15 but will change to \"firwin\" in 0.16, set it explicitly to avoid this warning.\n",
      "  h_freq=low_pass_filter, method='fir', phase='zero-double').swapaxes(0,1)\n"
     ]
    },
    {
     "name": "stdout",
     "output_type": "stream",
     "text": [
      "-> Shape of all trials data to plot :  (23, 106)\n",
      "-> Shape of time vector :  23\n",
      "/media/karim/Datas4To/1_Analyses_Intra_EM_Odor/Olfacto/feature/ERP_Odor_No_Odor/Retrieval/CHAF_ERP_MFG-PrG_g'4-g'3_(59).png\n",
      "data to save (23, 106) cond0 (60, 23, 24) cond1 (60, 23, 82)\n",
      "Setting up low-pass filter at 10 Hz\n",
      "fir_design defaults to \"firwin2\" in 0.15 but will change to \"firwin\" in 0.16, set it explicitly to avoid this warning.\n",
      "h_trans_bandwidth chosen to be 2.5 Hz\n",
      "Filter length of 1352 samples (2.641 sec) selected\n",
      "Size of filtered data: (3584, 106)\n",
      "time points :  (3584,)\n",
      "Applying baseline correction (mode: mean)\n",
      "Size norm & filtered data :  (3584, 106)\n"
     ]
    },
    {
     "name": "stderr",
     "output_type": "stream",
     "text": [
      "<ipython-input-5-154bfa86badc>:37: DeprecationWarning: fir_design defaults to \"firwin2\" in 0.15 but will change to \"firwin\" in 0.16, set it explicitly to avoid this warning.\n",
      "  h_freq=low_pass_filter, method='fir', phase='zero-double').swapaxes(0,1)\n"
     ]
    },
    {
     "name": "stdout",
     "output_type": "stream",
     "text": [
      "-> Shape of all trials data to plot :  (23, 106)\n",
      "-> Shape of time vector :  23\n",
      "/media/karim/Datas4To/1_Analyses_Intra_EM_Odor/Olfacto/feature/ERP_Odor_No_Odor/Retrieval/CHAF_ERP_MFG-PrG_g'5-g'4_(60).png\n",
      "data to save (23, 106) cond0 (61, 23, 24) cond1 (61, 23, 82)\n",
      "Setting up low-pass filter at 10 Hz\n",
      "fir_design defaults to \"firwin2\" in 0.15 but will change to \"firwin\" in 0.16, set it explicitly to avoid this warning.\n",
      "h_trans_bandwidth chosen to be 2.5 Hz\n",
      "Filter length of 1352 samples (2.641 sec) selected\n",
      "Size of filtered data: (3584, 106)\n",
      "time points :  (3584,)\n",
      "Applying baseline correction (mode: mean)\n",
      "Size norm & filtered data :  (3584, 106)\n"
     ]
    },
    {
     "name": "stderr",
     "output_type": "stream",
     "text": [
      "<ipython-input-5-154bfa86badc>:37: DeprecationWarning: fir_design defaults to \"firwin2\" in 0.15 but will change to \"firwin\" in 0.16, set it explicitly to avoid this warning.\n",
      "  h_freq=low_pass_filter, method='fir', phase='zero-double').swapaxes(0,1)\n"
     ]
    },
    {
     "name": "stdout",
     "output_type": "stream",
     "text": [
      "-> Shape of all trials data to plot :  (23, 106)\n",
      "-> Shape of time vector :  23\n",
      "/media/karim/Datas4To/1_Analyses_Intra_EM_Odor/Olfacto/feature/ERP_Odor_No_Odor/Retrieval/CHAF_ERP_MFG-PrG_g'6-g'5_(61).png\n",
      "data to save (23, 106) cond0 (62, 23, 24) cond1 (62, 23, 82)\n",
      "Setting up low-pass filter at 10 Hz\n",
      "fir_design defaults to \"firwin2\" in 0.15 but will change to \"firwin\" in 0.16, set it explicitly to avoid this warning.\n",
      "h_trans_bandwidth chosen to be 2.5 Hz\n",
      "Filter length of 1352 samples (2.641 sec) selected\n",
      "Size of filtered data: (3584, 106)\n",
      "time points :  (3584,)\n",
      "Applying baseline correction (mode: mean)\n",
      "Size norm & filtered data :  (3584, 106)\n"
     ]
    },
    {
     "name": "stderr",
     "output_type": "stream",
     "text": [
      "<ipython-input-5-154bfa86badc>:37: DeprecationWarning: fir_design defaults to \"firwin2\" in 0.15 but will change to \"firwin\" in 0.16, set it explicitly to avoid this warning.\n",
      "  h_freq=low_pass_filter, method='fir', phase='zero-double').swapaxes(0,1)\n"
     ]
    },
    {
     "name": "stdout",
     "output_type": "stream",
     "text": [
      "-> Shape of all trials data to plot :  (23, 106)\n",
      "-> Shape of time vector :  23\n",
      "/media/karim/Datas4To/1_Analyses_Intra_EM_Odor/Olfacto/feature/ERP_Odor_No_Odor/Retrieval/CHAF_ERP_MFG-PrG_g'7-g'6_(62).png\n",
      "data to save (23, 106) cond0 (63, 23, 24) cond1 (63, 23, 82)\n",
      "Setting up low-pass filter at 10 Hz\n",
      "fir_design defaults to \"firwin2\" in 0.15 but will change to \"firwin\" in 0.16, set it explicitly to avoid this warning.\n",
      "h_trans_bandwidth chosen to be 2.5 Hz\n",
      "Filter length of 1352 samples (2.641 sec) selected\n",
      "Size of filtered data: (3584, 106)\n",
      "time points :  (3584,)\n",
      "Applying baseline correction (mode: mean)\n",
      "Size norm & filtered data :  (3584, 106)\n"
     ]
    },
    {
     "name": "stderr",
     "output_type": "stream",
     "text": [
      "<ipython-input-5-154bfa86badc>:37: DeprecationWarning: fir_design defaults to \"firwin2\" in 0.15 but will change to \"firwin\" in 0.16, set it explicitly to avoid this warning.\n",
      "  h_freq=low_pass_filter, method='fir', phase='zero-double').swapaxes(0,1)\n"
     ]
    },
    {
     "name": "stdout",
     "output_type": "stream",
     "text": [
      "-> Shape of all trials data to plot :  (23, 106)\n",
      "-> Shape of time vector :  23\n",
      "/media/karim/Datas4To/1_Analyses_Intra_EM_Odor/Olfacto/feature/ERP_Odor_No_Odor/Retrieval/CHAF_ERP_MFG_g'10-g'9_(63).png\n",
      "data to save (23, 106) cond0 (64, 23, 24) cond1 (64, 23, 82)\n",
      "Setting up low-pass filter at 10 Hz\n",
      "fir_design defaults to \"firwin2\" in 0.15 but will change to \"firwin\" in 0.16, set it explicitly to avoid this warning.\n",
      "h_trans_bandwidth chosen to be 2.5 Hz\n",
      "Filter length of 1352 samples (2.641 sec) selected\n",
      "Size of filtered data: (3584, 106)\n",
      "time points :  (3584,)\n",
      "Applying baseline correction (mode: mean)\n",
      "Size norm & filtered data :  (3584, 106)\n"
     ]
    },
    {
     "name": "stderr",
     "output_type": "stream",
     "text": [
      "<ipython-input-5-154bfa86badc>:37: DeprecationWarning: fir_design defaults to \"firwin2\" in 0.15 but will change to \"firwin\" in 0.16, set it explicitly to avoid this warning.\n",
      "  h_freq=low_pass_filter, method='fir', phase='zero-double').swapaxes(0,1)\n"
     ]
    },
    {
     "name": "stdout",
     "output_type": "stream",
     "text": [
      "-> Shape of all trials data to plot :  (23, 106)\n",
      "-> Shape of time vector :  23\n",
      "/media/karim/Datas4To/1_Analyses_Intra_EM_Odor/Olfacto/feature/ERP_Odor_No_Odor/Retrieval/CHAF_ERP_MFG_g'11-g'10_(64).png\n",
      "data to save (23, 106) cond0 (65, 23, 24) cond1 (65, 23, 82)\n",
      "Setting up low-pass filter at 10 Hz\n",
      "fir_design defaults to \"firwin2\" in 0.15 but will change to \"firwin\" in 0.16, set it explicitly to avoid this warning.\n",
      "h_trans_bandwidth chosen to be 2.5 Hz\n",
      "Filter length of 1352 samples (2.641 sec) selected\n",
      "Size of filtered data: (3584, 106)\n",
      "time points :  (3584,)\n",
      "Applying baseline correction (mode: mean)\n",
      "Size norm & filtered data :  (3584, 106)\n"
     ]
    },
    {
     "name": "stderr",
     "output_type": "stream",
     "text": [
      "<ipython-input-5-154bfa86badc>:37: DeprecationWarning: fir_design defaults to \"firwin2\" in 0.15 but will change to \"firwin\" in 0.16, set it explicitly to avoid this warning.\n",
      "  h_freq=low_pass_filter, method='fir', phase='zero-double').swapaxes(0,1)\n"
     ]
    },
    {
     "name": "stdout",
     "output_type": "stream",
     "text": [
      "-> Shape of all trials data to plot :  (23, 106)\n",
      "-> Shape of time vector :  23\n",
      "/media/karim/Datas4To/1_Analyses_Intra_EM_Odor/Olfacto/feature/ERP_Odor_No_Odor/Retrieval/CHAF_ERP_MFG_h'4-h'3_(65).png\n",
      "data to save (23, 106) cond0 (66, 23, 24) cond1 (66, 23, 82)\n",
      "Setting up low-pass filter at 10 Hz\n",
      "fir_design defaults to \"firwin2\" in 0.15 but will change to \"firwin\" in 0.16, set it explicitly to avoid this warning.\n",
      "h_trans_bandwidth chosen to be 2.5 Hz\n",
      "Filter length of 1352 samples (2.641 sec) selected\n",
      "Size of filtered data: (3584, 106)\n",
      "time points :  (3584,)\n",
      "Applying baseline correction (mode: mean)\n",
      "Size norm & filtered data :  (3584, 106)\n"
     ]
    },
    {
     "name": "stderr",
     "output_type": "stream",
     "text": [
      "<ipython-input-5-154bfa86badc>:37: DeprecationWarning: fir_design defaults to \"firwin2\" in 0.15 but will change to \"firwin\" in 0.16, set it explicitly to avoid this warning.\n",
      "  h_freq=low_pass_filter, method='fir', phase='zero-double').swapaxes(0,1)\n"
     ]
    },
    {
     "name": "stdout",
     "output_type": "stream",
     "text": [
      "-> Shape of all trials data to plot :  (23, 106)\n",
      "-> Shape of time vector :  23\n",
      "/media/karim/Datas4To/1_Analyses_Intra_EM_Odor/Olfacto/feature/ERP_Odor_No_Odor/Retrieval/CHAF_ERP_MFG_h'5-h'4_(66).png\n",
      "data to save (23, 106) cond0 (67, 23, 24) cond1 (67, 23, 82)\n",
      "Setting up low-pass filter at 10 Hz\n",
      "fir_design defaults to \"firwin2\" in 0.15 but will change to \"firwin\" in 0.16, set it explicitly to avoid this warning.\n",
      "h_trans_bandwidth chosen to be 2.5 Hz\n",
      "Filter length of 1352 samples (2.641 sec) selected\n",
      "Size of filtered data: (3584, 106)\n",
      "time points :  (3584,)\n",
      "Applying baseline correction (mode: mean)\n",
      "Size norm & filtered data :  (3584, 106)\n"
     ]
    },
    {
     "name": "stderr",
     "output_type": "stream",
     "text": [
      "<ipython-input-5-154bfa86badc>:37: DeprecationWarning: fir_design defaults to \"firwin2\" in 0.15 but will change to \"firwin\" in 0.16, set it explicitly to avoid this warning.\n",
      "  h_freq=low_pass_filter, method='fir', phase='zero-double').swapaxes(0,1)\n"
     ]
    },
    {
     "name": "stdout",
     "output_type": "stream",
     "text": [
      "-> Shape of all trials data to plot :  (23, 106)\n",
      "-> Shape of time vector :  23\n",
      "/media/karim/Datas4To/1_Analyses_Intra_EM_Odor/Olfacto/feature/ERP_Odor_No_Odor/Retrieval/CHAF_ERP_MFG_h'6-h'5_(67).png\n",
      "data to save (23, 106) cond0 (68, 23, 24) cond1 (68, 23, 82)\n",
      "Setting up low-pass filter at 10 Hz\n",
      "fir_design defaults to \"firwin2\" in 0.15 but will change to \"firwin\" in 0.16, set it explicitly to avoid this warning.\n",
      "h_trans_bandwidth chosen to be 2.5 Hz\n",
      "Filter length of 1352 samples (2.641 sec) selected\n",
      "Size of filtered data: (3584, 106)\n",
      "time points :  (3584,)\n",
      "Applying baseline correction (mode: mean)\n",
      "Size norm & filtered data :  (3584, 106)\n"
     ]
    },
    {
     "name": "stderr",
     "output_type": "stream",
     "text": [
      "<ipython-input-5-154bfa86badc>:37: DeprecationWarning: fir_design defaults to \"firwin2\" in 0.15 but will change to \"firwin\" in 0.16, set it explicitly to avoid this warning.\n",
      "  h_freq=low_pass_filter, method='fir', phase='zero-double').swapaxes(0,1)\n"
     ]
    },
    {
     "name": "stdout",
     "output_type": "stream",
     "text": [
      "-> Shape of all trials data to plot :  (23, 106)\n",
      "-> Shape of time vector :  23\n",
      "/media/karim/Datas4To/1_Analyses_Intra_EM_Odor/Olfacto/feature/ERP_Odor_No_Odor/Retrieval/CHAF_ERP_MFG_h'7-h'6_(68).png\n",
      "data to save (23, 106) cond0 (69, 23, 24) cond1 (69, 23, 82)\n",
      "Setting up low-pass filter at 10 Hz\n",
      "fir_design defaults to \"firwin2\" in 0.15 but will change to \"firwin\" in 0.16, set it explicitly to avoid this warning.\n",
      "h_trans_bandwidth chosen to be 2.5 Hz\n",
      "Filter length of 1352 samples (2.641 sec) selected\n",
      "Size of filtered data: (3584, 106)\n",
      "time points :  (3584,)\n",
      "Applying baseline correction (mode: mean)\n",
      "Size norm & filtered data :  (3584, 106)\n"
     ]
    },
    {
     "name": "stderr",
     "output_type": "stream",
     "text": [
      "<ipython-input-5-154bfa86badc>:37: DeprecationWarning: fir_design defaults to \"firwin2\" in 0.15 but will change to \"firwin\" in 0.16, set it explicitly to avoid this warning.\n",
      "  h_freq=low_pass_filter, method='fir', phase='zero-double').swapaxes(0,1)\n"
     ]
    },
    {
     "name": "stdout",
     "output_type": "stream",
     "text": [
      "-> Shape of all trials data to plot :  (23, 106)\n",
      "-> Shape of time vector :  23\n",
      "/media/karim/Datas4To/1_Analyses_Intra_EM_Odor/Olfacto/feature/ERP_Odor_No_Odor/Retrieval/CHAF_ERP_MFG_h'8-h'7_(69).png\n",
      "data to save (23, 106) cond0 (70, 23, 24) cond1 (70, 23, 82)\n",
      "Setting up low-pass filter at 10 Hz\n",
      "fir_design defaults to \"firwin2\" in 0.15 but will change to \"firwin\" in 0.16, set it explicitly to avoid this warning.\n",
      "h_trans_bandwidth chosen to be 2.5 Hz\n",
      "Filter length of 1352 samples (2.641 sec) selected\n",
      "Size of filtered data: (3584, 106)\n",
      "time points :  (3584,)\n",
      "Applying baseline correction (mode: mean)\n",
      "Size norm & filtered data :  (3584, 106)\n"
     ]
    },
    {
     "name": "stderr",
     "output_type": "stream",
     "text": [
      "<ipython-input-5-154bfa86badc>:37: DeprecationWarning: fir_design defaults to \"firwin2\" in 0.15 but will change to \"firwin\" in 0.16, set it explicitly to avoid this warning.\n",
      "  h_freq=low_pass_filter, method='fir', phase='zero-double').swapaxes(0,1)\n"
     ]
    },
    {
     "name": "stdout",
     "output_type": "stream",
     "text": [
      "-> Shape of all trials data to plot :  (23, 106)\n",
      "-> Shape of time vector :  23\n",
      "/media/karim/Datas4To/1_Analyses_Intra_EM_Odor/Olfacto/feature/ERP_Odor_No_Odor/Retrieval/CHAF_ERP_MFG_h'9-h'8_(70).png\n",
      "data to save (23, 106) cond0 (71, 23, 24) cond1 (71, 23, 82)\n",
      "Setting up low-pass filter at 10 Hz\n",
      "fir_design defaults to \"firwin2\" in 0.15 but will change to \"firwin\" in 0.16, set it explicitly to avoid this warning.\n",
      "h_trans_bandwidth chosen to be 2.5 Hz\n",
      "Filter length of 1352 samples (2.641 sec) selected\n",
      "Size of filtered data: (3584, 106)\n",
      "time points :  (3584,)\n",
      "Applying baseline correction (mode: mean)\n",
      "Size norm & filtered data :  (3584, 106)\n"
     ]
    },
    {
     "name": "stderr",
     "output_type": "stream",
     "text": [
      "<ipython-input-5-154bfa86badc>:37: DeprecationWarning: fir_design defaults to \"firwin2\" in 0.15 but will change to \"firwin\" in 0.16, set it explicitly to avoid this warning.\n",
      "  h_freq=low_pass_filter, method='fir', phase='zero-double').swapaxes(0,1)\n"
     ]
    },
    {
     "name": "stdout",
     "output_type": "stream",
     "text": [
      "-> Shape of all trials data to plot :  (23, 106)\n",
      "-> Shape of time vector :  23\n",
      "/media/karim/Datas4To/1_Analyses_Intra_EM_Odor/Olfacto/feature/ERP_Odor_No_Odor/Retrieval/CHAF_ERP_MFG_h'10-h'9_(71).png\n",
      "data to save (23, 106) cond0 (72, 23, 24) cond1 (72, 23, 82)\n",
      "Setting up low-pass filter at 10 Hz\n",
      "fir_design defaults to \"firwin2\" in 0.15 but will change to \"firwin\" in 0.16, set it explicitly to avoid this warning.\n",
      "h_trans_bandwidth chosen to be 2.5 Hz\n",
      "Filter length of 1352 samples (2.641 sec) selected\n",
      "Size of filtered data: (3584, 106)\n",
      "time points :  (3584,)\n",
      "Applying baseline correction (mode: mean)\n",
      "Size norm & filtered data :  (3584, 106)\n"
     ]
    },
    {
     "name": "stderr",
     "output_type": "stream",
     "text": [
      "<ipython-input-5-154bfa86badc>:37: DeprecationWarning: fir_design defaults to \"firwin2\" in 0.15 but will change to \"firwin\" in 0.16, set it explicitly to avoid this warning.\n",
      "  h_freq=low_pass_filter, method='fir', phase='zero-double').swapaxes(0,1)\n"
     ]
    },
    {
     "name": "stdout",
     "output_type": "stream",
     "text": [
      "-> Shape of all trials data to plot :  (23, 106)\n",
      "-> Shape of time vector :  23\n",
      "/media/karim/Datas4To/1_Analyses_Intra_EM_Odor/Olfacto/feature/ERP_Odor_No_Odor/Retrieval/CHAF_ERP_OrG_i'2-i'1_(72).png\n",
      "data to save (23, 106) cond0 (73, 23, 24) cond1 (73, 23, 82)\n",
      "Setting up low-pass filter at 10 Hz\n",
      "fir_design defaults to \"firwin2\" in 0.15 but will change to \"firwin\" in 0.16, set it explicitly to avoid this warning.\n",
      "h_trans_bandwidth chosen to be 2.5 Hz\n",
      "Filter length of 1352 samples (2.641 sec) selected\n",
      "Size of filtered data: (3584, 106)\n",
      "time points :  (3584,)\n",
      "Applying baseline correction (mode: mean)\n",
      "Size norm & filtered data :  (3584, 106)\n"
     ]
    },
    {
     "name": "stderr",
     "output_type": "stream",
     "text": [
      "<ipython-input-5-154bfa86badc>:37: DeprecationWarning: fir_design defaults to \"firwin2\" in 0.15 but will change to \"firwin\" in 0.16, set it explicitly to avoid this warning.\n",
      "  h_freq=low_pass_filter, method='fir', phase='zero-double').swapaxes(0,1)\n"
     ]
    },
    {
     "name": "stdout",
     "output_type": "stream",
     "text": [
      "-> Shape of all trials data to plot :  (23, 106)\n",
      "-> Shape of time vector :  23\n",
      "/media/karim/Datas4To/1_Analyses_Intra_EM_Odor/Olfacto/feature/ERP_Odor_No_Odor/Retrieval/CHAF_ERP_OrG_i'3-i'2_(73).png\n",
      "data to save (23, 106) cond0 (74, 23, 24) cond1 (74, 23, 82)\n",
      "Setting up low-pass filter at 10 Hz\n",
      "fir_design defaults to \"firwin2\" in 0.15 but will change to \"firwin\" in 0.16, set it explicitly to avoid this warning.\n",
      "h_trans_bandwidth chosen to be 2.5 Hz\n",
      "Filter length of 1352 samples (2.641 sec) selected\n",
      "Size of filtered data: (3584, 106)\n",
      "time points :  (3584,)\n",
      "Applying baseline correction (mode: mean)\n",
      "Size norm & filtered data :  (3584, 106)\n"
     ]
    },
    {
     "name": "stderr",
     "output_type": "stream",
     "text": [
      "<ipython-input-5-154bfa86badc>:37: DeprecationWarning: fir_design defaults to \"firwin2\" in 0.15 but will change to \"firwin\" in 0.16, set it explicitly to avoid this warning.\n",
      "  h_freq=low_pass_filter, method='fir', phase='zero-double').swapaxes(0,1)\n"
     ]
    },
    {
     "name": "stdout",
     "output_type": "stream",
     "text": [
      "-> Shape of all trials data to plot :  (23, 106)\n",
      "-> Shape of time vector :  23\n",
      "/media/karim/Datas4To/1_Analyses_Intra_EM_Odor/Olfacto/feature/ERP_Odor_No_Odor/Retrieval/CHAF_ERP_OrG_i'4-i'3_(74).png\n",
      "data to save (23, 106) cond0 (75, 23, 24) cond1 (75, 23, 82)\n",
      "Setting up low-pass filter at 10 Hz\n",
      "fir_design defaults to \"firwin2\" in 0.15 but will change to \"firwin\" in 0.16, set it explicitly to avoid this warning.\n",
      "h_trans_bandwidth chosen to be 2.5 Hz\n",
      "Filter length of 1352 samples (2.641 sec) selected\n",
      "Size of filtered data: (3584, 106)\n",
      "time points :  (3584,)\n",
      "Applying baseline correction (mode: mean)\n",
      "Size norm & filtered data :  (3584, 106)\n"
     ]
    },
    {
     "name": "stderr",
     "output_type": "stream",
     "text": [
      "<ipython-input-5-154bfa86badc>:37: DeprecationWarning: fir_design defaults to \"firwin2\" in 0.15 but will change to \"firwin\" in 0.16, set it explicitly to avoid this warning.\n",
      "  h_freq=low_pass_filter, method='fir', phase='zero-double').swapaxes(0,1)\n"
     ]
    },
    {
     "name": "stdout",
     "output_type": "stream",
     "text": [
      "-> Shape of all trials data to plot :  (23, 106)\n",
      "-> Shape of time vector :  23\n",
      "/media/karim/Datas4To/1_Analyses_Intra_EM_Odor/Olfacto/feature/ERP_Odor_No_Odor/Retrieval/CHAF_ERP_OrG_i'5-i'4_(75).png\n",
      "data to save (23, 106) cond0 (76, 23, 24) cond1 (76, 23, 82)\n",
      "Setting up low-pass filter at 10 Hz\n",
      "fir_design defaults to \"firwin2\" in 0.15 but will change to \"firwin\" in 0.16, set it explicitly to avoid this warning.\n",
      "h_trans_bandwidth chosen to be 2.5 Hz\n",
      "Filter length of 1352 samples (2.641 sec) selected\n",
      "Size of filtered data: (3584, 106)\n",
      "time points :  (3584,)\n",
      "Applying baseline correction (mode: mean)\n",
      "Size norm & filtered data :  (3584, 106)\n"
     ]
    },
    {
     "name": "stderr",
     "output_type": "stream",
     "text": [
      "<ipython-input-5-154bfa86badc>:37: DeprecationWarning: fir_design defaults to \"firwin2\" in 0.15 but will change to \"firwin\" in 0.16, set it explicitly to avoid this warning.\n",
      "  h_freq=low_pass_filter, method='fir', phase='zero-double').swapaxes(0,1)\n"
     ]
    },
    {
     "name": "stdout",
     "output_type": "stream",
     "text": [
      "-> Shape of all trials data to plot :  (23, 106)\n",
      "-> Shape of time vector :  23\n",
      "/media/karim/Datas4To/1_Analyses_Intra_EM_Odor/Olfacto/feature/ERP_Odor_No_Odor/Retrieval/CHAF_ERP_MFG-SFGL&MFG_i'8-i'7_(76).png\n",
      "data to save (23, 106) cond0 (77, 23, 24) cond1 (77, 23, 82)\n",
      "Setting up low-pass filter at 10 Hz\n",
      "fir_design defaults to \"firwin2\" in 0.15 but will change to \"firwin\" in 0.16, set it explicitly to avoid this warning.\n",
      "h_trans_bandwidth chosen to be 2.5 Hz\n",
      "Filter length of 1352 samples (2.641 sec) selected\n",
      "Size of filtered data: (3584, 106)\n",
      "time points :  (3584,)\n",
      "Applying baseline correction (mode: mean)\n",
      "Size norm & filtered data :  (3584, 106)\n"
     ]
    },
    {
     "name": "stderr",
     "output_type": "stream",
     "text": [
      "<ipython-input-5-154bfa86badc>:37: DeprecationWarning: fir_design defaults to \"firwin2\" in 0.15 but will change to \"firwin\" in 0.16, set it explicitly to avoid this warning.\n",
      "  h_freq=low_pass_filter, method='fir', phase='zero-double').swapaxes(0,1)\n"
     ]
    },
    {
     "name": "stdout",
     "output_type": "stream",
     "text": [
      "-> Shape of all trials data to plot :  (23, 106)\n",
      "-> Shape of time vector :  23\n",
      "/media/karim/Datas4To/1_Analyses_Intra_EM_Odor/Olfacto/feature/ERP_Odor_No_Odor/Retrieval/CHAF_ERP_SFGL&MFG-SFGL_i'9-i'8_(77).png\n",
      "data to save (23, 106) cond0 (78, 23, 24) cond1 (78, 23, 82)\n",
      "Setting up low-pass filter at 10 Hz\n",
      "fir_design defaults to \"firwin2\" in 0.15 but will change to \"firwin\" in 0.16, set it explicitly to avoid this warning.\n",
      "h_trans_bandwidth chosen to be 2.5 Hz\n",
      "Filter length of 1352 samples (2.641 sec) selected\n",
      "Size of filtered data: (3584, 106)\n",
      "time points :  (3584,)\n",
      "Applying baseline correction (mode: mean)\n",
      "Size norm & filtered data :  (3584, 106)\n"
     ]
    },
    {
     "name": "stderr",
     "output_type": "stream",
     "text": [
      "<ipython-input-5-154bfa86badc>:37: DeprecationWarning: fir_design defaults to \"firwin2\" in 0.15 but will change to \"firwin\" in 0.16, set it explicitly to avoid this warning.\n",
      "  h_freq=low_pass_filter, method='fir', phase='zero-double').swapaxes(0,1)\n"
     ]
    },
    {
     "name": "stdout",
     "output_type": "stream",
     "text": [
      "-> Shape of all trials data to plot :  (23, 106)\n",
      "-> Shape of time vector :  23\n",
      "/media/karim/Datas4To/1_Analyses_Intra_EM_Odor/Olfacto/feature/ERP_Odor_No_Odor/Retrieval/CHAF_ERP_SFGL_i'10-i'9_(78).png\n",
      "data to save (23, 106) cond0 (79, 23, 24) cond1 (79, 23, 82)\n",
      "Setting up low-pass filter at 10 Hz\n",
      "fir_design defaults to \"firwin2\" in 0.15 but will change to \"firwin\" in 0.16, set it explicitly to avoid this warning.\n",
      "h_trans_bandwidth chosen to be 2.5 Hz\n",
      "Filter length of 1352 samples (2.641 sec) selected\n",
      "Size of filtered data: (3584, 106)\n",
      "time points :  (3584,)\n",
      "Applying baseline correction (mode: mean)\n",
      "Size norm & filtered data :  (3584, 106)\n"
     ]
    },
    {
     "name": "stderr",
     "output_type": "stream",
     "text": [
      "<ipython-input-5-154bfa86badc>:37: DeprecationWarning: fir_design defaults to \"firwin2\" in 0.15 but will change to \"firwin\" in 0.16, set it explicitly to avoid this warning.\n",
      "  h_freq=low_pass_filter, method='fir', phase='zero-double').swapaxes(0,1)\n"
     ]
    },
    {
     "name": "stdout",
     "output_type": "stream",
     "text": [
      "-> Shape of all trials data to plot :  (23, 106)\n",
      "-> Shape of time vector :  23\n",
      "/media/karim/Datas4To/1_Analyses_Intra_EM_Odor/Olfacto/feature/ERP_Odor_No_Odor/Retrieval/CHAF_ERP_SFGL_i'11-i'10_(79).png\n",
      "data to save (23, 106) cond0 (80, 23, 24) cond1 (80, 23, 82)\n",
      "Setting up low-pass filter at 10 Hz\n",
      "fir_design defaults to \"firwin2\" in 0.15 but will change to \"firwin\" in 0.16, set it explicitly to avoid this warning.\n",
      "h_trans_bandwidth chosen to be 2.5 Hz\n",
      "Filter length of 1352 samples (2.641 sec) selected\n",
      "Size of filtered data: (3584, 106)\n",
      "time points :  (3584,)\n",
      "Applying baseline correction (mode: mean)\n",
      "Size norm & filtered data :  (3584, 106)\n"
     ]
    },
    {
     "name": "stderr",
     "output_type": "stream",
     "text": [
      "<ipython-input-5-154bfa86badc>:37: DeprecationWarning: fir_design defaults to \"firwin2\" in 0.15 but will change to \"firwin\" in 0.16, set it explicitly to avoid this warning.\n",
      "  h_freq=low_pass_filter, method='fir', phase='zero-double').swapaxes(0,1)\n"
     ]
    },
    {
     "name": "stdout",
     "output_type": "stream",
     "text": [
      "-> Shape of all trials data to plot :  (23, 106)\n",
      "-> Shape of time vector :  23\n",
      "/media/karim/Datas4To/1_Analyses_Intra_EM_Odor/Olfacto/feature/ERP_Odor_No_Odor/Retrieval/CHAF_ERP_SFGL_i'12-i'11_(80).png\n",
      "data to save (23, 106) cond0 (81, 23, 24) cond1 (81, 23, 82)\n",
      "Setting up low-pass filter at 10 Hz\n",
      "fir_design defaults to \"firwin2\" in 0.15 but will change to \"firwin\" in 0.16, set it explicitly to avoid this warning.\n",
      "h_trans_bandwidth chosen to be 2.5 Hz\n",
      "Filter length of 1352 samples (2.641 sec) selected\n",
      "Size of filtered data: (3584, 106)\n",
      "time points :  (3584,)\n",
      "Applying baseline correction (mode: mean)\n",
      "Size norm & filtered data :  (3584, 106)\n"
     ]
    },
    {
     "name": "stderr",
     "output_type": "stream",
     "text": [
      "<ipython-input-5-154bfa86badc>:37: DeprecationWarning: fir_design defaults to \"firwin2\" in 0.15 but will change to \"firwin\" in 0.16, set it explicitly to avoid this warning.\n",
      "  h_freq=low_pass_filter, method='fir', phase='zero-double').swapaxes(0,1)\n"
     ]
    },
    {
     "name": "stdout",
     "output_type": "stream",
     "text": [
      "-> Shape of all trials data to plot :  (23, 106)\n",
      "-> Shape of time vector :  23\n",
      "/media/karim/Datas4To/1_Analyses_Intra_EM_Odor/Olfacto/feature/ERP_Odor_No_Odor/Retrieval/CHAF_ERP_SFGL_i'13-i'12_(81).png\n",
      "data to save (23, 106) cond0 (82, 23, 24) cond1 (82, 23, 82)\n",
      "Setting up low-pass filter at 10 Hz\n",
      "fir_design defaults to \"firwin2\" in 0.15 but will change to \"firwin\" in 0.16, set it explicitly to avoid this warning.\n",
      "h_trans_bandwidth chosen to be 2.5 Hz\n",
      "Filter length of 1352 samples (2.641 sec) selected\n",
      "Size of filtered data: (3584, 106)\n",
      "time points :  (3584,)\n",
      "Applying baseline correction (mode: mean)\n",
      "Size norm & filtered data :  (3584, 106)\n"
     ]
    },
    {
     "name": "stderr",
     "output_type": "stream",
     "text": [
      "<ipython-input-5-154bfa86badc>:37: DeprecationWarning: fir_design defaults to \"firwin2\" in 0.15 but will change to \"firwin\" in 0.16, set it explicitly to avoid this warning.\n",
      "  h_freq=low_pass_filter, method='fir', phase='zero-double').swapaxes(0,1)\n"
     ]
    },
    {
     "name": "stdout",
     "output_type": "stream",
     "text": [
      "-> Shape of all trials data to plot :  (23, 106)\n",
      "-> Shape of time vector :  23\n",
      "/media/karim/Datas4To/1_Analyses_Intra_EM_Odor/Olfacto/feature/ERP_Odor_No_Odor/Retrieval/CHAF_ERP_SFGL_i'14-i'13_(82).png\n",
      "data to save (23, 106) cond0 (83, 23, 24) cond1 (83, 23, 82)\n",
      "Setting up low-pass filter at 10 Hz\n",
      "fir_design defaults to \"firwin2\" in 0.15 but will change to \"firwin\" in 0.16, set it explicitly to avoid this warning.\n",
      "h_trans_bandwidth chosen to be 2.5 Hz\n",
      "Filter length of 1352 samples (2.641 sec) selected\n",
      "Size of filtered data: (3584, 106)\n",
      "time points :  (3584,)\n",
      "Applying baseline correction (mode: mean)\n",
      "Size norm & filtered data :  (3584, 106)\n"
     ]
    },
    {
     "name": "stderr",
     "output_type": "stream",
     "text": [
      "<ipython-input-5-154bfa86badc>:37: DeprecationWarning: fir_design defaults to \"firwin2\" in 0.15 but will change to \"firwin\" in 0.16, set it explicitly to avoid this warning.\n",
      "  h_freq=low_pass_filter, method='fir', phase='zero-double').swapaxes(0,1)\n"
     ]
    },
    {
     "name": "stdout",
     "output_type": "stream",
     "text": [
      "-> Shape of all trials data to plot :  (23, 106)\n",
      "-> Shape of time vector :  23\n",
      "/media/karim/Datas4To/1_Analyses_Intra_EM_Odor/Olfacto/feature/ERP_Odor_No_Odor/Retrieval/CHAF_ERP_SFGL_i'15-i'14_(83).png\n",
      "data to save (23, 106) cond0 (84, 23, 24) cond1 (84, 23, 82)\n",
      "Setting up low-pass filter at 10 Hz\n",
      "fir_design defaults to \"firwin2\" in 0.15 but will change to \"firwin\" in 0.16, set it explicitly to avoid this warning.\n",
      "h_trans_bandwidth chosen to be 2.5 Hz\n",
      "Filter length of 1352 samples (2.641 sec) selected\n",
      "Size of filtered data: (3584, 106)\n",
      "time points :  (3584,)\n",
      "Applying baseline correction (mode: mean)\n",
      "Size norm & filtered data :  (3584, 106)\n"
     ]
    },
    {
     "name": "stderr",
     "output_type": "stream",
     "text": [
      "<ipython-input-5-154bfa86badc>:37: DeprecationWarning: fir_design defaults to \"firwin2\" in 0.15 but will change to \"firwin\" in 0.16, set it explicitly to avoid this warning.\n",
      "  h_freq=low_pass_filter, method='fir', phase='zero-double').swapaxes(0,1)\n"
     ]
    },
    {
     "name": "stdout",
     "output_type": "stream",
     "text": [
      "-> Shape of all trials data to plot :  (23, 106)\n",
      "-> Shape of time vector :  23\n",
      "/media/karim/Datas4To/1_Analyses_Intra_EM_Odor/Olfacto/feature/ERP_Odor_No_Odor/Retrieval/CHAF_ERP_Cd_j'2-j'1_(84).png\n",
      "data to save (23, 106) cond0 (85, 23, 24) cond1 (85, 23, 82)\n",
      "Setting up low-pass filter at 10 Hz\n",
      "fir_design defaults to \"firwin2\" in 0.15 but will change to \"firwin\" in 0.16, set it explicitly to avoid this warning.\n",
      "h_trans_bandwidth chosen to be 2.5 Hz\n",
      "Filter length of 1352 samples (2.641 sec) selected\n",
      "Size of filtered data: (3584, 106)\n",
      "time points :  (3584,)\n",
      "Applying baseline correction (mode: mean)\n",
      "Size norm & filtered data :  (3584, 106)\n"
     ]
    },
    {
     "name": "stderr",
     "output_type": "stream",
     "text": [
      "<ipython-input-5-154bfa86badc>:37: DeprecationWarning: fir_design defaults to \"firwin2\" in 0.15 but will change to \"firwin\" in 0.16, set it explicitly to avoid this warning.\n",
      "  h_freq=low_pass_filter, method='fir', phase='zero-double').swapaxes(0,1)\n"
     ]
    },
    {
     "name": "stdout",
     "output_type": "stream",
     "text": [
      "-> Shape of all trials data to plot :  (23, 106)\n",
      "-> Shape of time vector :  23\n",
      "/media/karim/Datas4To/1_Analyses_Intra_EM_Odor/Olfacto/feature/ERP_Odor_No_Odor/Retrieval/CHAF_ERP_Cd_j'3-j'2_(85).png\n",
      "data to save (23, 106) cond0 (86, 23, 24) cond1 (86, 23, 82)\n",
      "Setting up low-pass filter at 10 Hz\n",
      "fir_design defaults to \"firwin2\" in 0.15 but will change to \"firwin\" in 0.16, set it explicitly to avoid this warning.\n",
      "h_trans_bandwidth chosen to be 2.5 Hz\n",
      "Filter length of 1352 samples (2.641 sec) selected\n",
      "Size of filtered data: (3584, 106)\n",
      "time points :  (3584,)\n",
      "Applying baseline correction (mode: mean)\n",
      "Size norm & filtered data :  (3584, 106)\n"
     ]
    },
    {
     "name": "stderr",
     "output_type": "stream",
     "text": [
      "<ipython-input-5-154bfa86badc>:37: DeprecationWarning: fir_design defaults to \"firwin2\" in 0.15 but will change to \"firwin\" in 0.16, set it explicitly to avoid this warning.\n",
      "  h_freq=low_pass_filter, method='fir', phase='zero-double').swapaxes(0,1)\n"
     ]
    },
    {
     "name": "stdout",
     "output_type": "stream",
     "text": [
      "-> Shape of all trials data to plot :  (23, 106)\n",
      "-> Shape of time vector :  23\n",
      "/media/karim/Datas4To/1_Analyses_Intra_EM_Odor/Olfacto/feature/ERP_Odor_No_Odor/Retrieval/CHAF_ERP_Cd_j'4-j'3_(86).png\n",
      "data to save (23, 106) cond0 (87, 23, 24) cond1 (87, 23, 82)\n",
      "Setting up low-pass filter at 10 Hz\n",
      "fir_design defaults to \"firwin2\" in 0.15 but will change to \"firwin\" in 0.16, set it explicitly to avoid this warning.\n",
      "h_trans_bandwidth chosen to be 2.5 Hz\n",
      "Filter length of 1352 samples (2.641 sec) selected\n",
      "Size of filtered data: (3584, 106)\n",
      "time points :  (3584,)\n",
      "Applying baseline correction (mode: mean)\n",
      "Size norm & filtered data :  (3584, 106)\n"
     ]
    },
    {
     "name": "stderr",
     "output_type": "stream",
     "text": [
      "<ipython-input-5-154bfa86badc>:37: DeprecationWarning: fir_design defaults to \"firwin2\" in 0.15 but will change to \"firwin\" in 0.16, set it explicitly to avoid this warning.\n",
      "  h_freq=low_pass_filter, method='fir', phase='zero-double').swapaxes(0,1)\n"
     ]
    },
    {
     "name": "stdout",
     "output_type": "stream",
     "text": [
      "-> Shape of all trials data to plot :  (23, 106)\n",
      "-> Shape of time vector :  23\n",
      "/media/karim/Datas4To/1_Analyses_Intra_EM_Odor/Olfacto/feature/ERP_Odor_No_Odor/Retrieval/CHAF_ERP_Cd_j'5-j'4_(87).png\n",
      "data to save (23, 106) cond0 (88, 23, 24) cond1 (88, 23, 82)\n",
      "Setting up low-pass filter at 10 Hz\n",
      "fir_design defaults to \"firwin2\" in 0.15 but will change to \"firwin\" in 0.16, set it explicitly to avoid this warning.\n",
      "h_trans_bandwidth chosen to be 2.5 Hz\n",
      "Filter length of 1352 samples (2.641 sec) selected\n",
      "Size of filtered data: (3584, 106)\n",
      "time points :  (3584,)\n",
      "Applying baseline correction (mode: mean)\n",
      "Size norm & filtered data :  (3584, 106)\n"
     ]
    },
    {
     "name": "stderr",
     "output_type": "stream",
     "text": [
      "<ipython-input-5-154bfa86badc>:37: DeprecationWarning: fir_design defaults to \"firwin2\" in 0.15 but will change to \"firwin\" in 0.16, set it explicitly to avoid this warning.\n",
      "  h_freq=low_pass_filter, method='fir', phase='zero-double').swapaxes(0,1)\n"
     ]
    },
    {
     "name": "stdout",
     "output_type": "stream",
     "text": [
      "-> Shape of all trials data to plot :  (23, 106)\n",
      "-> Shape of time vector :  23\n",
      "/media/karim/Datas4To/1_Analyses_Intra_EM_Odor/Olfacto/feature/ERP_Odor_No_Odor/Retrieval/CHAF_ERP_PrG&Cd_j'7-j'6_(88).png\n",
      "data to save (23, 106) cond0 (89, 23, 24) cond1 (89, 23, 82)\n",
      "Setting up low-pass filter at 10 Hz\n",
      "fir_design defaults to \"firwin2\" in 0.15 but will change to \"firwin\" in 0.16, set it explicitly to avoid this warning.\n",
      "h_trans_bandwidth chosen to be 2.5 Hz\n",
      "Filter length of 1352 samples (2.641 sec) selected\n",
      "Size of filtered data: (3584, 106)\n",
      "time points :  (3584,)\n",
      "Applying baseline correction (mode: mean)\n",
      "Size norm & filtered data :  (3584, 106)\n"
     ]
    },
    {
     "name": "stderr",
     "output_type": "stream",
     "text": [
      "<ipython-input-5-154bfa86badc>:37: DeprecationWarning: fir_design defaults to \"firwin2\" in 0.15 but will change to \"firwin\" in 0.16, set it explicitly to avoid this warning.\n",
      "  h_freq=low_pass_filter, method='fir', phase='zero-double').swapaxes(0,1)\n"
     ]
    },
    {
     "name": "stdout",
     "output_type": "stream",
     "text": [
      "-> Shape of all trials data to plot :  (23, 106)\n",
      "-> Shape of time vector :  23\n",
      "/media/karim/Datas4To/1_Analyses_Intra_EM_Odor/Olfacto/feature/ERP_Odor_No_Odor/Retrieval/CHAF_ERP_PrG_j'8-j'7_(89).png\n",
      "data to save (23, 106) cond0 (90, 23, 24) cond1 (90, 23, 82)\n",
      "Setting up low-pass filter at 10 Hz\n",
      "fir_design defaults to \"firwin2\" in 0.15 but will change to \"firwin\" in 0.16, set it explicitly to avoid this warning.\n",
      "h_trans_bandwidth chosen to be 2.5 Hz\n",
      "Filter length of 1352 samples (2.641 sec) selected\n",
      "Size of filtered data: (3584, 106)\n",
      "time points :  (3584,)\n",
      "Applying baseline correction (mode: mean)\n",
      "Size norm & filtered data :  (3584, 106)\n"
     ]
    },
    {
     "name": "stderr",
     "output_type": "stream",
     "text": [
      "<ipython-input-5-154bfa86badc>:37: DeprecationWarning: fir_design defaults to \"firwin2\" in 0.15 but will change to \"firwin\" in 0.16, set it explicitly to avoid this warning.\n",
      "  h_freq=low_pass_filter, method='fir', phase='zero-double').swapaxes(0,1)\n"
     ]
    },
    {
     "name": "stdout",
     "output_type": "stream",
     "text": [
      "-> Shape of all trials data to plot :  (23, 106)\n",
      "-> Shape of time vector :  23\n",
      "/media/karim/Datas4To/1_Analyses_Intra_EM_Odor/Olfacto/feature/ERP_Odor_No_Odor/Retrieval/CHAF_ERP_PrG_j'9-j'8_(90).png\n",
      "data to save (23, 106) cond0 (91, 23, 24) cond1 (91, 23, 82)\n",
      "Setting up low-pass filter at 10 Hz\n",
      "fir_design defaults to \"firwin2\" in 0.15 but will change to \"firwin\" in 0.16, set it explicitly to avoid this warning.\n",
      "h_trans_bandwidth chosen to be 2.5 Hz\n",
      "Filter length of 1352 samples (2.641 sec) selected\n",
      "Size of filtered data: (3584, 106)\n",
      "time points :  (3584,)\n",
      "Applying baseline correction (mode: mean)\n",
      "Size norm & filtered data :  (3584, 106)\n"
     ]
    },
    {
     "name": "stderr",
     "output_type": "stream",
     "text": [
      "<ipython-input-5-154bfa86badc>:37: DeprecationWarning: fir_design defaults to \"firwin2\" in 0.15 but will change to \"firwin\" in 0.16, set it explicitly to avoid this warning.\n",
      "  h_freq=low_pass_filter, method='fir', phase='zero-double').swapaxes(0,1)\n"
     ]
    },
    {
     "name": "stdout",
     "output_type": "stream",
     "text": [
      "-> Shape of all trials data to plot :  (23, 106)\n",
      "-> Shape of time vector :  23\n",
      "/media/karim/Datas4To/1_Analyses_Intra_EM_Odor/Olfacto/feature/ERP_Odor_No_Odor/Retrieval/CHAF_ERP_MFG&MFG-IFGOp_j'13-j'12_(91).png\n",
      "data to save (23, 106) cond0 (92, 23, 24) cond1 (92, 23, 82)\n",
      "Setting up low-pass filter at 10 Hz\n",
      "fir_design defaults to \"firwin2\" in 0.15 but will change to \"firwin\" in 0.16, set it explicitly to avoid this warning.\n",
      "h_trans_bandwidth chosen to be 2.5 Hz\n",
      "Filter length of 1352 samples (2.641 sec) selected\n",
      "Size of filtered data: (3584, 106)\n",
      "time points :  (3584,)\n",
      "Applying baseline correction (mode: mean)\n",
      "Size norm & filtered data :  (3584, 106)\n"
     ]
    },
    {
     "name": "stderr",
     "output_type": "stream",
     "text": [
      "<ipython-input-5-154bfa86badc>:37: DeprecationWarning: fir_design defaults to \"firwin2\" in 0.15 but will change to \"firwin\" in 0.16, set it explicitly to avoid this warning.\n",
      "  h_freq=low_pass_filter, method='fir', phase='zero-double').swapaxes(0,1)\n"
     ]
    },
    {
     "name": "stdout",
     "output_type": "stream",
     "text": [
      "-> Shape of all trials data to plot :  (23, 106)\n",
      "-> Shape of time vector :  23\n",
      "/media/karim/Datas4To/1_Analyses_Intra_EM_Odor/Olfacto/feature/ERP_Odor_No_Odor/Retrieval/CHAF_ERP_MFG_j'14-j'13_(92).png\n",
      "data to save (23, 106) cond0 (93, 23, 24) cond1 (93, 23, 82)\n",
      "Setting up low-pass filter at 10 Hz\n",
      "fir_design defaults to \"firwin2\" in 0.15 but will change to \"firwin\" in 0.16, set it explicitly to avoid this warning.\n",
      "h_trans_bandwidth chosen to be 2.5 Hz\n",
      "Filter length of 1352 samples (2.641 sec) selected\n",
      "Size of filtered data: (3584, 106)\n",
      "time points :  (3584,)\n",
      "Applying baseline correction (mode: mean)\n",
      "Size norm & filtered data :  (3584, 106)\n"
     ]
    },
    {
     "name": "stderr",
     "output_type": "stream",
     "text": [
      "<ipython-input-5-154bfa86badc>:37: DeprecationWarning: fir_design defaults to \"firwin2\" in 0.15 but will change to \"firwin\" in 0.16, set it explicitly to avoid this warning.\n",
      "  h_freq=low_pass_filter, method='fir', phase='zero-double').swapaxes(0,1)\n"
     ]
    },
    {
     "name": "stdout",
     "output_type": "stream",
     "text": [
      "-> Shape of all trials data to plot :  (23, 106)\n",
      "-> Shape of time vector :  23\n",
      "/media/karim/Datas4To/1_Analyses_Intra_EM_Odor/Olfacto/feature/ERP_Odor_No_Odor/Retrieval/CHAF_ERP_MFG_j'15-j'14_(93).png\n",
      "data to save (23, 106) cond0 (94, 23, 24) cond1 (94, 23, 82)\n",
      "(94, 23, 82) (94, 23, 24)\n",
      "FERJ (85, 3584, 152) (85, 3584, 24)\n",
      "Setting up low-pass filter at 10 Hz\n",
      "fir_design defaults to \"firwin2\" in 0.15 but will change to \"firwin\" in 0.16, set it explicitly to avoid this warning.\n",
      "h_trans_bandwidth chosen to be 2.5 Hz\n",
      "Filter length of 1352 samples (2.641 sec) selected\n",
      "Size of filtered data: (3584, 176)\n",
      "time points :  (3584,)\n",
      "Applying baseline correction (mode: mean)\n",
      "Size norm & filtered data :  (3584, 176)\n"
     ]
    },
    {
     "name": "stderr",
     "output_type": "stream",
     "text": [
      "<ipython-input-5-154bfa86badc>:37: DeprecationWarning: fir_design defaults to \"firwin2\" in 0.15 but will change to \"firwin\" in 0.16, set it explicitly to avoid this warning.\n",
      "  h_freq=low_pass_filter, method='fir', phase='zero-double').swapaxes(0,1)\n"
     ]
    },
    {
     "name": "stdout",
     "output_type": "stream",
     "text": [
      "-> Shape of all trials data to plot :  (23, 176)\n",
      "-> Shape of time vector :  23\n",
      "/media/karim/Datas4To/1_Analyses_Intra_EM_Odor/Olfacto/feature/ERP_Odor_No_Odor/Retrieval/FERJ_ERP_Amg_a2-a1_(0).png\n",
      "data to save (23, 176) cond0 (1, 23, 24) cond1 (1, 23, 152)\n",
      "Setting up low-pass filter at 10 Hz\n",
      "fir_design defaults to \"firwin2\" in 0.15 but will change to \"firwin\" in 0.16, set it explicitly to avoid this warning.\n",
      "h_trans_bandwidth chosen to be 2.5 Hz\n",
      "Filter length of 1352 samples (2.641 sec) selected\n",
      "Size of filtered data: (3584, 176)\n",
      "time points :  (3584,)\n",
      "Applying baseline correction (mode: mean)\n",
      "Size norm & filtered data :  (3584, 176)\n"
     ]
    },
    {
     "name": "stderr",
     "output_type": "stream",
     "text": [
      "<ipython-input-5-154bfa86badc>:37: DeprecationWarning: fir_design defaults to \"firwin2\" in 0.15 but will change to \"firwin\" in 0.16, set it explicitly to avoid this warning.\n",
      "  h_freq=low_pass_filter, method='fir', phase='zero-double').swapaxes(0,1)\n"
     ]
    },
    {
     "name": "stdout",
     "output_type": "stream",
     "text": [
      "-> Shape of all trials data to plot :  (23, 176)\n",
      "-> Shape of time vector :  23\n",
      "/media/karim/Datas4To/1_Analyses_Intra_EM_Odor/Olfacto/feature/ERP_Odor_No_Odor/Retrieval/FERJ_ERP_Amg_a3-a2_(1).png\n",
      "data to save (23, 176) cond0 (2, 23, 24) cond1 (2, 23, 152)\n",
      "Setting up low-pass filter at 10 Hz\n",
      "fir_design defaults to \"firwin2\" in 0.15 but will change to \"firwin\" in 0.16, set it explicitly to avoid this warning.\n",
      "h_trans_bandwidth chosen to be 2.5 Hz\n",
      "Filter length of 1352 samples (2.641 sec) selected\n",
      "Size of filtered data: (3584, 176)\n",
      "time points :  (3584,)\n",
      "Applying baseline correction (mode: mean)\n",
      "Size norm & filtered data :  (3584, 176)\n"
     ]
    },
    {
     "name": "stderr",
     "output_type": "stream",
     "text": [
      "<ipython-input-5-154bfa86badc>:37: DeprecationWarning: fir_design defaults to \"firwin2\" in 0.15 but will change to \"firwin\" in 0.16, set it explicitly to avoid this warning.\n",
      "  h_freq=low_pass_filter, method='fir', phase='zero-double').swapaxes(0,1)\n"
     ]
    },
    {
     "name": "stdout",
     "output_type": "stream",
     "text": [
      "-> Shape of all trials data to plot :  (23, 176)\n",
      "-> Shape of time vector :  23\n",
      "/media/karim/Datas4To/1_Analyses_Intra_EM_Odor/Olfacto/feature/ERP_Odor_No_Odor/Retrieval/FERJ_ERP_STG-MTG_a8-a7_(2).png\n",
      "data to save (23, 176) cond0 (3, 23, 24) cond1 (3, 23, 152)\n",
      "Setting up low-pass filter at 10 Hz\n",
      "fir_design defaults to \"firwin2\" in 0.15 but will change to \"firwin\" in 0.16, set it explicitly to avoid this warning.\n",
      "h_trans_bandwidth chosen to be 2.5 Hz\n",
      "Filter length of 1352 samples (2.641 sec) selected\n",
      "Size of filtered data: (3584, 176)\n",
      "time points :  (3584,)\n",
      "Applying baseline correction (mode: mean)\n",
      "Size norm & filtered data :  (3584, 176)\n"
     ]
    },
    {
     "name": "stderr",
     "output_type": "stream",
     "text": [
      "<ipython-input-5-154bfa86badc>:37: DeprecationWarning: fir_design defaults to \"firwin2\" in 0.15 but will change to \"firwin\" in 0.16, set it explicitly to avoid this warning.\n",
      "  h_freq=low_pass_filter, method='fir', phase='zero-double').swapaxes(0,1)\n"
     ]
    },
    {
     "name": "stdout",
     "output_type": "stream",
     "text": [
      "-> Shape of all trials data to plot :  (23, 176)\n",
      "-> Shape of time vector :  23\n",
      "/media/karim/Datas4To/1_Analyses_Intra_EM_Odor/Olfacto/feature/ERP_Odor_No_Odor/Retrieval/FERJ_ERP_STG-MTG_a9-a8_(3).png\n",
      "data to save (23, 176) cond0 (4, 23, 24) cond1 (4, 23, 152)\n",
      "Setting up low-pass filter at 10 Hz\n",
      "fir_design defaults to \"firwin2\" in 0.15 but will change to \"firwin\" in 0.16, set it explicitly to avoid this warning.\n",
      "h_trans_bandwidth chosen to be 2.5 Hz\n",
      "Filter length of 1352 samples (2.641 sec) selected\n",
      "Size of filtered data: (3584, 176)\n",
      "time points :  (3584,)\n",
      "Applying baseline correction (mode: mean)\n",
      "Size norm & filtered data :  (3584, 176)\n"
     ]
    },
    {
     "name": "stderr",
     "output_type": "stream",
     "text": [
      "<ipython-input-5-154bfa86badc>:37: DeprecationWarning: fir_design defaults to \"firwin2\" in 0.15 but will change to \"firwin\" in 0.16, set it explicitly to avoid this warning.\n",
      "  h_freq=low_pass_filter, method='fir', phase='zero-double').swapaxes(0,1)\n"
     ]
    },
    {
     "name": "stdout",
     "output_type": "stream",
     "text": [
      "-> Shape of all trials data to plot :  (23, 176)\n",
      "-> Shape of time vector :  23\n",
      "/media/karim/Datas4To/1_Analyses_Intra_EM_Odor/Olfacto/feature/ERP_Odor_No_Odor/Retrieval/FERJ_ERP_STG-MTG_a10-a9_(4).png\n",
      "data to save (23, 176) cond0 (5, 23, 24) cond1 (5, 23, 152)\n",
      "Setting up low-pass filter at 10 Hz\n",
      "fir_design defaults to \"firwin2\" in 0.15 but will change to \"firwin\" in 0.16, set it explicitly to avoid this warning.\n",
      "h_trans_bandwidth chosen to be 2.5 Hz\n",
      "Filter length of 1352 samples (2.641 sec) selected\n",
      "Size of filtered data: (3584, 176)\n",
      "time points :  (3584,)\n",
      "Applying baseline correction (mode: mean)\n"
     ]
    },
    {
     "name": "stderr",
     "output_type": "stream",
     "text": [
      "<ipython-input-5-154bfa86badc>:37: DeprecationWarning: fir_design defaults to \"firwin2\" in 0.15 but will change to \"firwin\" in 0.16, set it explicitly to avoid this warning.\n",
      "  h_freq=low_pass_filter, method='fir', phase='zero-double').swapaxes(0,1)\n"
     ]
    },
    {
     "name": "stdout",
     "output_type": "stream",
     "text": [
      "Size norm & filtered data :  (3584, 176)\n",
      "-> Shape of all trials data to plot :  (23, 176)\n",
      "-> Shape of time vector :  23\n",
      "/media/karim/Datas4To/1_Analyses_Intra_EM_Odor/Olfacto/feature/ERP_Odor_No_Odor/Retrieval/FERJ_ERP_aHC-aPHG&aHC-Ent_b2-b1_(5).png\n",
      "data to save (23, 176) cond0 (6, 23, 24) cond1 (6, 23, 152)\n",
      "Setting up low-pass filter at 10 Hz\n",
      "fir_design defaults to \"firwin2\" in 0.15 but will change to \"firwin\" in 0.16, set it explicitly to avoid this warning.\n",
      "h_trans_bandwidth chosen to be 2.5 Hz\n",
      "Filter length of 1352 samples (2.641 sec) selected\n",
      "Size of filtered data: (3584, 176)\n",
      "time points :  (3584,)\n",
      "Applying baseline correction (mode: mean)\n",
      "Size norm & filtered data :  (3584, 176)\n"
     ]
    },
    {
     "name": "stderr",
     "output_type": "stream",
     "text": [
      "<ipython-input-5-154bfa86badc>:37: DeprecationWarning: fir_design defaults to \"firwin2\" in 0.15 but will change to \"firwin\" in 0.16, set it explicitly to avoid this warning.\n",
      "  h_freq=low_pass_filter, method='fir', phase='zero-double').swapaxes(0,1)\n"
     ]
    },
    {
     "name": "stdout",
     "output_type": "stream",
     "text": [
      "-> Shape of all trials data to plot :  (23, 176)\n",
      "-> Shape of time vector :  23\n",
      "/media/karim/Datas4To/1_Analyses_Intra_EM_Odor/Olfacto/feature/ERP_Odor_No_Odor/Retrieval/FERJ_ERP_aHC-aPHG_b3-b2_(6).png\n",
      "data to save (23, 176) cond0 (7, 23, 24) cond1 (7, 23, 152)\n",
      "Setting up low-pass filter at 10 Hz\n",
      "fir_design defaults to \"firwin2\" in 0.15 but will change to \"firwin\" in 0.16, set it explicitly to avoid this warning.\n",
      "h_trans_bandwidth chosen to be 2.5 Hz\n",
      "Filter length of 1352 samples (2.641 sec) selected\n",
      "Size of filtered data: (3584, 176)\n",
      "time points :  (3584,)\n",
      "Applying baseline correction (mode: mean)\n",
      "Size norm & filtered data :  (3584, 176)\n"
     ]
    },
    {
     "name": "stderr",
     "output_type": "stream",
     "text": [
      "<ipython-input-5-154bfa86badc>:37: DeprecationWarning: fir_design defaults to \"firwin2\" in 0.15 but will change to \"firwin\" in 0.16, set it explicitly to avoid this warning.\n",
      "  h_freq=low_pass_filter, method='fir', phase='zero-double').swapaxes(0,1)\n"
     ]
    },
    {
     "name": "stdout",
     "output_type": "stream",
     "text": [
      "-> Shape of all trials data to plot :  (23, 176)\n",
      "-> Shape of time vector :  23\n",
      "/media/karim/Datas4To/1_Analyses_Intra_EM_Odor/Olfacto/feature/ERP_Odor_No_Odor/Retrieval/FERJ_ERP_aHC-aPHG_b4-b3_(7).png\n",
      "data to save (23, 176) cond0 (8, 23, 24) cond1 (8, 23, 152)\n",
      "Setting up low-pass filter at 10 Hz\n",
      "fir_design defaults to \"firwin2\" in 0.15 but will change to \"firwin\" in 0.16, set it explicitly to avoid this warning.\n",
      "h_trans_bandwidth chosen to be 2.5 Hz\n",
      "Filter length of 1352 samples (2.641 sec) selected\n",
      "Size of filtered data: (3584, 176)\n",
      "time points :  (3584,)\n",
      "Applying baseline correction (mode: mean)\n",
      "Size norm & filtered data :  (3584, 176)\n"
     ]
    },
    {
     "name": "stderr",
     "output_type": "stream",
     "text": [
      "<ipython-input-5-154bfa86badc>:37: DeprecationWarning: fir_design defaults to \"firwin2\" in 0.15 but will change to \"firwin\" in 0.16, set it explicitly to avoid this warning.\n",
      "  h_freq=low_pass_filter, method='fir', phase='zero-double').swapaxes(0,1)\n"
     ]
    },
    {
     "name": "stdout",
     "output_type": "stream",
     "text": [
      "-> Shape of all trials data to plot :  (23, 176)\n",
      "-> Shape of time vector :  23\n",
      "/media/karim/Datas4To/1_Analyses_Intra_EM_Odor/Olfacto/feature/ERP_Odor_No_Odor/Retrieval/FERJ_ERP_aHC-aPHG_b5-b4_(8).png\n",
      "data to save (23, 176) cond0 (9, 23, 24) cond1 (9, 23, 152)\n",
      "Setting up low-pass filter at 10 Hz\n",
      "fir_design defaults to \"firwin2\" in 0.15 but will change to \"firwin\" in 0.16, set it explicitly to avoid this warning.\n",
      "h_trans_bandwidth chosen to be 2.5 Hz\n",
      "Filter length of 1352 samples (2.641 sec) selected\n",
      "Size of filtered data: (3584, 176)\n",
      "time points :  (3584,)\n",
      "Applying baseline correction (mode: mean)\n",
      "Size norm & filtered data :  (3584, 176)\n"
     ]
    },
    {
     "name": "stderr",
     "output_type": "stream",
     "text": [
      "<ipython-input-5-154bfa86badc>:37: DeprecationWarning: fir_design defaults to \"firwin2\" in 0.15 but will change to \"firwin\" in 0.16, set it explicitly to avoid this warning.\n",
      "  h_freq=low_pass_filter, method='fir', phase='zero-double').swapaxes(0,1)\n"
     ]
    },
    {
     "name": "stdout",
     "output_type": "stream",
     "text": [
      "-> Shape of all trials data to plot :  (23, 176)\n",
      "-> Shape of time vector :  23\n",
      "/media/karim/Datas4To/1_Analyses_Intra_EM_Odor/Olfacto/feature/ERP_Odor_No_Odor/Retrieval/FERJ_ERP_FuG&aHC-aPHG_b6-b5_(9).png\n",
      "data to save (23, 176) cond0 (10, 23, 24) cond1 (10, 23, 152)\n",
      "Setting up low-pass filter at 10 Hz\n",
      "fir_design defaults to \"firwin2\" in 0.15 but will change to \"firwin\" in 0.16, set it explicitly to avoid this warning.\n",
      "h_trans_bandwidth chosen to be 2.5 Hz\n",
      "Filter length of 1352 samples (2.641 sec) selected\n",
      "Size of filtered data: (3584, 176)\n",
      "time points :  (3584,)\n",
      "Applying baseline correction (mode: mean)\n",
      "Size norm & filtered data :  (3584, 176)\n"
     ]
    },
    {
     "name": "stderr",
     "output_type": "stream",
     "text": [
      "<ipython-input-5-154bfa86badc>:37: DeprecationWarning: fir_design defaults to \"firwin2\" in 0.15 but will change to \"firwin\" in 0.16, set it explicitly to avoid this warning.\n",
      "  h_freq=low_pass_filter, method='fir', phase='zero-double').swapaxes(0,1)\n"
     ]
    },
    {
     "name": "stdout",
     "output_type": "stream",
     "text": [
      "-> Shape of all trials data to plot :  (23, 176)\n",
      "-> Shape of time vector :  23\n",
      "/media/karim/Datas4To/1_Analyses_Intra_EM_Odor/Olfacto/feature/ERP_Odor_No_Odor/Retrieval/FERJ_ERP_ITG-MTG&FuG_b7-b6_(10).png\n",
      "data to save (23, 176) cond0 (11, 23, 24) cond1 (11, 23, 152)\n",
      "Setting up low-pass filter at 10 Hz\n",
      "fir_design defaults to \"firwin2\" in 0.15 but will change to \"firwin\" in 0.16, set it explicitly to avoid this warning.\n",
      "h_trans_bandwidth chosen to be 2.5 Hz\n",
      "Filter length of 1352 samples (2.641 sec) selected\n",
      "Size of filtered data: (3584, 176)\n",
      "time points :  (3584,)\n",
      "Applying baseline correction (mode: mean)\n",
      "Size norm & filtered data :  (3584, 176)\n"
     ]
    },
    {
     "name": "stderr",
     "output_type": "stream",
     "text": [
      "<ipython-input-5-154bfa86badc>:37: DeprecationWarning: fir_design defaults to \"firwin2\" in 0.15 but will change to \"firwin\" in 0.16, set it explicitly to avoid this warning.\n",
      "  h_freq=low_pass_filter, method='fir', phase='zero-double').swapaxes(0,1)\n"
     ]
    },
    {
     "name": "stdout",
     "output_type": "stream",
     "text": [
      "-> Shape of all trials data to plot :  (23, 176)\n",
      "-> Shape of time vector :  23\n",
      "/media/karim/Datas4To/1_Analyses_Intra_EM_Odor/Olfacto/feature/ERP_Odor_No_Odor/Retrieval/FERJ_ERP_MTG&ITG-MTG_b8-b7_(11).png\n",
      "data to save (23, 176) cond0 (12, 23, 24) cond1 (12, 23, 152)\n",
      "Setting up low-pass filter at 10 Hz\n",
      "fir_design defaults to \"firwin2\" in 0.15 but will change to \"firwin\" in 0.16, set it explicitly to avoid this warning.\n",
      "h_trans_bandwidth chosen to be 2.5 Hz\n",
      "Filter length of 1352 samples (2.641 sec) selected\n",
      "Size of filtered data: (3584, 176)\n",
      "time points :  (3584,)\n",
      "Applying baseline correction (mode: mean)\n",
      "Size norm & filtered data :  (3584, 176)\n"
     ]
    },
    {
     "name": "stderr",
     "output_type": "stream",
     "text": [
      "<ipython-input-5-154bfa86badc>:37: DeprecationWarning: fir_design defaults to \"firwin2\" in 0.15 but will change to \"firwin\" in 0.16, set it explicitly to avoid this warning.\n",
      "  h_freq=low_pass_filter, method='fir', phase='zero-double').swapaxes(0,1)\n"
     ]
    },
    {
     "name": "stdout",
     "output_type": "stream",
     "text": [
      "-> Shape of all trials data to plot :  (23, 176)\n",
      "-> Shape of time vector :  23\n",
      "/media/karim/Datas4To/1_Analyses_Intra_EM_Odor/Olfacto/feature/ERP_Odor_No_Odor/Retrieval/FERJ_ERP_MTG_b9-b8_(12).png\n",
      "data to save (23, 176) cond0 (13, 23, 24) cond1 (13, 23, 152)\n",
      "Setting up low-pass filter at 10 Hz\n",
      "fir_design defaults to \"firwin2\" in 0.15 but will change to \"firwin\" in 0.16, set it explicitly to avoid this warning.\n",
      "h_trans_bandwidth chosen to be 2.5 Hz\n",
      "Filter length of 1352 samples (2.641 sec) selected\n",
      "Size of filtered data: (3584, 176)\n",
      "time points :  (3584,)\n",
      "Applying baseline correction (mode: mean)\n",
      "Size norm & filtered data :  (3584, 176)\n"
     ]
    },
    {
     "name": "stderr",
     "output_type": "stream",
     "text": [
      "<ipython-input-5-154bfa86badc>:37: DeprecationWarning: fir_design defaults to \"firwin2\" in 0.15 but will change to \"firwin\" in 0.16, set it explicitly to avoid this warning.\n",
      "  h_freq=low_pass_filter, method='fir', phase='zero-double').swapaxes(0,1)\n"
     ]
    },
    {
     "name": "stdout",
     "output_type": "stream",
     "text": [
      "-> Shape of all trials data to plot :  (23, 176)\n",
      "-> Shape of time vector :  23\n",
      "/media/karim/Datas4To/1_Analyses_Intra_EM_Odor/Olfacto/feature/ERP_Odor_No_Odor/Retrieval/FERJ_ERP_MTG_b10-b9_(13).png\n",
      "data to save (23, 176) cond0 (14, 23, 24) cond1 (14, 23, 152)\n",
      "Setting up low-pass filter at 10 Hz\n",
      "fir_design defaults to \"firwin2\" in 0.15 but will change to \"firwin\" in 0.16, set it explicitly to avoid this warning.\n",
      "h_trans_bandwidth chosen to be 2.5 Hz\n",
      "Filter length of 1352 samples (2.641 sec) selected\n",
      "Size of filtered data: (3584, 176)\n",
      "time points :  (3584,)\n",
      "Applying baseline correction (mode: mean)\n",
      "Size norm & filtered data :  (3584, 176)\n"
     ]
    },
    {
     "name": "stderr",
     "output_type": "stream",
     "text": [
      "<ipython-input-5-154bfa86badc>:37: DeprecationWarning: fir_design defaults to \"firwin2\" in 0.15 but will change to \"firwin\" in 0.16, set it explicitly to avoid this warning.\n",
      "  h_freq=low_pass_filter, method='fir', phase='zero-double').swapaxes(0,1)\n"
     ]
    },
    {
     "name": "stdout",
     "output_type": "stream",
     "text": [
      "-> Shape of all trials data to plot :  (23, 176)\n",
      "-> Shape of time vector :  23\n",
      "/media/karim/Datas4To/1_Analyses_Intra_EM_Odor/Olfacto/feature/ERP_Odor_No_Odor/Retrieval/FERJ_ERP_aHC_b'2-b'1_(14).png\n",
      "data to save (23, 176) cond0 (15, 23, 24) cond1 (15, 23, 152)\n",
      "Setting up low-pass filter at 10 Hz\n",
      "fir_design defaults to \"firwin2\" in 0.15 but will change to \"firwin\" in 0.16, set it explicitly to avoid this warning.\n",
      "h_trans_bandwidth chosen to be 2.5 Hz\n",
      "Filter length of 1352 samples (2.641 sec) selected\n",
      "Size of filtered data: (3584, 176)\n",
      "time points :  (3584,)\n",
      "Applying baseline correction (mode: mean)\n",
      "Size norm & filtered data :  (3584, 176)\n"
     ]
    },
    {
     "name": "stderr",
     "output_type": "stream",
     "text": [
      "<ipython-input-5-154bfa86badc>:37: DeprecationWarning: fir_design defaults to \"firwin2\" in 0.15 but will change to \"firwin\" in 0.16, set it explicitly to avoid this warning.\n",
      "  h_freq=low_pass_filter, method='fir', phase='zero-double').swapaxes(0,1)\n"
     ]
    },
    {
     "name": "stdout",
     "output_type": "stream",
     "text": [
      "-> Shape of all trials data to plot :  (23, 176)\n",
      "-> Shape of time vector :  23\n",
      "/media/karim/Datas4To/1_Analyses_Intra_EM_Odor/Olfacto/feature/ERP_Odor_No_Odor/Retrieval/FERJ_ERP_aHC_b'3-b'2_(15).png\n",
      "data to save (23, 176) cond0 (16, 23, 24) cond1 (16, 23, 152)\n",
      "Setting up low-pass filter at 10 Hz\n",
      "fir_design defaults to \"firwin2\" in 0.15 but will change to \"firwin\" in 0.16, set it explicitly to avoid this warning.\n",
      "h_trans_bandwidth chosen to be 2.5 Hz\n",
      "Filter length of 1352 samples (2.641 sec) selected\n",
      "Size of filtered data: (3584, 176)\n",
      "time points :  (3584,)\n",
      "Applying baseline correction (mode: mean)\n",
      "Size norm & filtered data :  (3584, 176)\n"
     ]
    },
    {
     "name": "stderr",
     "output_type": "stream",
     "text": [
      "<ipython-input-5-154bfa86badc>:37: DeprecationWarning: fir_design defaults to \"firwin2\" in 0.15 but will change to \"firwin\" in 0.16, set it explicitly to avoid this warning.\n",
      "  h_freq=low_pass_filter, method='fir', phase='zero-double').swapaxes(0,1)\n"
     ]
    },
    {
     "name": "stdout",
     "output_type": "stream",
     "text": [
      "-> Shape of all trials data to plot :  (23, 176)\n",
      "-> Shape of time vector :  23\n",
      "/media/karim/Datas4To/1_Analyses_Intra_EM_Odor/Olfacto/feature/ERP_Odor_No_Odor/Retrieval/FERJ_ERP_aHC_b'4-b'3_(16).png\n",
      "data to save (23, 176) cond0 (17, 23, 24) cond1 (17, 23, 152)\n",
      "Setting up low-pass filter at 10 Hz\n",
      "fir_design defaults to \"firwin2\" in 0.15 but will change to \"firwin\" in 0.16, set it explicitly to avoid this warning.\n",
      "h_trans_bandwidth chosen to be 2.5 Hz\n",
      "Filter length of 1352 samples (2.641 sec) selected\n",
      "Size of filtered data: (3584, 176)\n",
      "time points :  (3584,)\n",
      "Applying baseline correction (mode: mean)\n",
      "Size norm & filtered data :  (3584, 176)\n"
     ]
    },
    {
     "name": "stderr",
     "output_type": "stream",
     "text": [
      "<ipython-input-5-154bfa86badc>:37: DeprecationWarning: fir_design defaults to \"firwin2\" in 0.15 but will change to \"firwin\" in 0.16, set it explicitly to avoid this warning.\n",
      "  h_freq=low_pass_filter, method='fir', phase='zero-double').swapaxes(0,1)\n"
     ]
    },
    {
     "name": "stdout",
     "output_type": "stream",
     "text": [
      "-> Shape of all trials data to plot :  (23, 176)\n",
      "-> Shape of time vector :  23\n",
      "/media/karim/Datas4To/1_Analyses_Intra_EM_Odor/Olfacto/feature/ERP_Odor_No_Odor/Retrieval/FERJ_ERP_aHC-aPHG-FuG&aHC_b'5-b'4_(17).png\n",
      "data to save (23, 176) cond0 (18, 23, 24) cond1 (18, 23, 152)\n",
      "Setting up low-pass filter at 10 Hz\n",
      "fir_design defaults to \"firwin2\" in 0.15 but will change to \"firwin\" in 0.16, set it explicitly to avoid this warning.\n",
      "h_trans_bandwidth chosen to be 2.5 Hz\n",
      "Filter length of 1352 samples (2.641 sec) selected\n",
      "Size of filtered data: (3584, 176)\n",
      "time points :  (3584,)\n",
      "Applying baseline correction (mode: mean)\n",
      "Size norm & filtered data :  (3584, 176)\n"
     ]
    },
    {
     "name": "stderr",
     "output_type": "stream",
     "text": [
      "<ipython-input-5-154bfa86badc>:37: DeprecationWarning: fir_design defaults to \"firwin2\" in 0.15 but will change to \"firwin\" in 0.16, set it explicitly to avoid this warning.\n",
      "  h_freq=low_pass_filter, method='fir', phase='zero-double').swapaxes(0,1)\n"
     ]
    },
    {
     "name": "stdout",
     "output_type": "stream",
     "text": [
      "-> Shape of all trials data to plot :  (23, 176)\n",
      "-> Shape of time vector :  23\n",
      "/media/karim/Datas4To/1_Analyses_Intra_EM_Odor/Olfacto/feature/ERP_Odor_No_Odor/Retrieval/FERJ_ERP_aHC-aPHG-FuG_b'6-b'5_(18).png\n",
      "data to save (23, 176) cond0 (19, 23, 24) cond1 (19, 23, 152)\n",
      "Setting up low-pass filter at 10 Hz\n",
      "fir_design defaults to \"firwin2\" in 0.15 but will change to \"firwin\" in 0.16, set it explicitly to avoid this warning.\n",
      "h_trans_bandwidth chosen to be 2.5 Hz\n",
      "Filter length of 1352 samples (2.641 sec) selected\n",
      "Size of filtered data: (3584, 176)\n",
      "time points :  (3584,)\n",
      "Applying baseline correction (mode: mean)\n",
      "Size norm & filtered data :  (3584, 176)\n"
     ]
    },
    {
     "name": "stderr",
     "output_type": "stream",
     "text": [
      "<ipython-input-5-154bfa86badc>:37: DeprecationWarning: fir_design defaults to \"firwin2\" in 0.15 but will change to \"firwin\" in 0.16, set it explicitly to avoid this warning.\n",
      "  h_freq=low_pass_filter, method='fir', phase='zero-double').swapaxes(0,1)\n"
     ]
    },
    {
     "name": "stdout",
     "output_type": "stream",
     "text": [
      "-> Shape of all trials data to plot :  (23, 176)\n",
      "-> Shape of time vector :  23\n",
      "/media/karim/Datas4To/1_Analyses_Intra_EM_Odor/Olfacto/feature/ERP_Odor_No_Odor/Retrieval/FERJ_ERP_MTG_b'11-b'10_(19).png\n",
      "data to save (23, 176) cond0 (20, 23, 24) cond1 (20, 23, 152)\n",
      "Setting up low-pass filter at 10 Hz\n",
      "fir_design defaults to \"firwin2\" in 0.15 but will change to \"firwin\" in 0.16, set it explicitly to avoid this warning.\n",
      "h_trans_bandwidth chosen to be 2.5 Hz\n",
      "Filter length of 1352 samples (2.641 sec) selected\n",
      "Size of filtered data: (3584, 176)\n",
      "time points :  (3584,)\n",
      "Applying baseline correction (mode: mean)\n",
      "Size norm & filtered data :  (3584, 176)\n"
     ]
    },
    {
     "name": "stderr",
     "output_type": "stream",
     "text": [
      "<ipython-input-5-154bfa86badc>:37: DeprecationWarning: fir_design defaults to \"firwin2\" in 0.15 but will change to \"firwin\" in 0.16, set it explicitly to avoid this warning.\n",
      "  h_freq=low_pass_filter, method='fir', phase='zero-double').swapaxes(0,1)\n"
     ]
    },
    {
     "name": "stdout",
     "output_type": "stream",
     "text": [
      "-> Shape of all trials data to plot :  (23, 176)\n",
      "-> Shape of time vector :  23\n",
      "/media/karim/Datas4To/1_Analyses_Intra_EM_Odor/Olfacto/feature/ERP_Odor_No_Odor/Retrieval/FERJ_ERP_mHC-Ent-PHG_d2-d1_(20).png\n",
      "data to save (23, 176) cond0 (21, 23, 24) cond1 (21, 23, 152)\n",
      "Setting up low-pass filter at 10 Hz\n",
      "fir_design defaults to \"firwin2\" in 0.15 but will change to \"firwin\" in 0.16, set it explicitly to avoid this warning.\n",
      "h_trans_bandwidth chosen to be 2.5 Hz\n",
      "Filter length of 1352 samples (2.641 sec) selected\n",
      "Size of filtered data: (3584, 176)\n",
      "time points :  (3584,)\n",
      "Applying baseline correction (mode: mean)\n",
      "Size norm & filtered data :  (3584, 176)\n"
     ]
    },
    {
     "name": "stderr",
     "output_type": "stream",
     "text": [
      "<ipython-input-5-154bfa86badc>:37: DeprecationWarning: fir_design defaults to \"firwin2\" in 0.15 but will change to \"firwin\" in 0.16, set it explicitly to avoid this warning.\n",
      "  h_freq=low_pass_filter, method='fir', phase='zero-double').swapaxes(0,1)\n"
     ]
    },
    {
     "name": "stdout",
     "output_type": "stream",
     "text": [
      "-> Shape of all trials data to plot :  (23, 176)\n",
      "-> Shape of time vector :  23\n",
      "/media/karim/Datas4To/1_Analyses_Intra_EM_Odor/Olfacto/feature/ERP_Odor_No_Odor/Retrieval/FERJ_ERP_mHC-PHG&mHC-Ent-PHG_d3-d2_(21).png\n",
      "data to save (23, 176) cond0 (22, 23, 24) cond1 (22, 23, 152)\n",
      "Setting up low-pass filter at 10 Hz\n",
      "fir_design defaults to \"firwin2\" in 0.15 but will change to \"firwin\" in 0.16, set it explicitly to avoid this warning.\n",
      "h_trans_bandwidth chosen to be 2.5 Hz\n",
      "Filter length of 1352 samples (2.641 sec) selected\n",
      "Size of filtered data: (3584, 176)\n",
      "time points :  (3584,)\n",
      "Applying baseline correction (mode: mean)\n",
      "Size norm & filtered data :  (3584, 176)\n"
     ]
    },
    {
     "name": "stderr",
     "output_type": "stream",
     "text": [
      "<ipython-input-5-154bfa86badc>:37: DeprecationWarning: fir_design defaults to \"firwin2\" in 0.15 but will change to \"firwin\" in 0.16, set it explicitly to avoid this warning.\n",
      "  h_freq=low_pass_filter, method='fir', phase='zero-double').swapaxes(0,1)\n"
     ]
    },
    {
     "name": "stdout",
     "output_type": "stream",
     "text": [
      "-> Shape of all trials data to plot :  (23, 176)\n",
      "-> Shape of time vector :  23\n",
      "/media/karim/Datas4To/1_Analyses_Intra_EM_Odor/Olfacto/feature/ERP_Odor_No_Odor/Retrieval/FERJ_ERP_mHC-PHG-FuG&mHC-PHG_d4-d3_(22).png\n",
      "data to save (23, 176) cond0 (23, 23, 24) cond1 (23, 23, 152)\n",
      "Setting up low-pass filter at 10 Hz\n",
      "fir_design defaults to \"firwin2\" in 0.15 but will change to \"firwin\" in 0.16, set it explicitly to avoid this warning.\n",
      "h_trans_bandwidth chosen to be 2.5 Hz\n",
      "Filter length of 1352 samples (2.641 sec) selected\n",
      "Size of filtered data: (3584, 176)\n",
      "time points :  (3584,)\n",
      "Applying baseline correction (mode: mean)\n",
      "Size norm & filtered data :  (3584, 176)\n"
     ]
    },
    {
     "name": "stderr",
     "output_type": "stream",
     "text": [
      "<ipython-input-5-154bfa86badc>:37: DeprecationWarning: fir_design defaults to \"firwin2\" in 0.15 but will change to \"firwin\" in 0.16, set it explicitly to avoid this warning.\n",
      "  h_freq=low_pass_filter, method='fir', phase='zero-double').swapaxes(0,1)\n"
     ]
    },
    {
     "name": "stdout",
     "output_type": "stream",
     "text": [
      "-> Shape of all trials data to plot :  (23, 176)\n",
      "-> Shape of time vector :  23\n",
      "/media/karim/Datas4To/1_Analyses_Intra_EM_Odor/Olfacto/feature/ERP_Odor_No_Odor/Retrieval/FERJ_ERP_mHC-PHG-FuG_d5-d4_(23).png\n",
      "data to save (23, 176) cond0 (24, 23, 24) cond1 (24, 23, 152)\n",
      "Setting up low-pass filter at 10 Hz\n",
      "fir_design defaults to \"firwin2\" in 0.15 but will change to \"firwin\" in 0.16, set it explicitly to avoid this warning.\n",
      "h_trans_bandwidth chosen to be 2.5 Hz\n",
      "Filter length of 1352 samples (2.641 sec) selected\n",
      "Size of filtered data: (3584, 176)\n",
      "time points :  (3584,)\n",
      "Applying baseline correction (mode: mean)\n",
      "Size norm & filtered data :  (3584, 176)\n"
     ]
    },
    {
     "name": "stderr",
     "output_type": "stream",
     "text": [
      "<ipython-input-5-154bfa86badc>:37: DeprecationWarning: fir_design defaults to \"firwin2\" in 0.15 but will change to \"firwin\" in 0.16, set it explicitly to avoid this warning.\n",
      "  h_freq=low_pass_filter, method='fir', phase='zero-double').swapaxes(0,1)\n"
     ]
    },
    {
     "name": "stdout",
     "output_type": "stream",
     "text": [
      "-> Shape of all trials data to plot :  (23, 176)\n",
      "-> Shape of time vector :  23\n",
      "/media/karim/Datas4To/1_Analyses_Intra_EM_Odor/Olfacto/feature/ERP_Odor_No_Odor/Retrieval/FERJ_ERP_FuG-ITG&mHC-PHG-FuG_d6-d5_(24).png\n",
      "data to save (23, 176) cond0 (25, 23, 24) cond1 (25, 23, 152)\n",
      "Setting up low-pass filter at 10 Hz\n",
      "fir_design defaults to \"firwin2\" in 0.15 but will change to \"firwin\" in 0.16, set it explicitly to avoid this warning.\n",
      "h_trans_bandwidth chosen to be 2.5 Hz\n",
      "Filter length of 1352 samples (2.641 sec) selected\n",
      "Size of filtered data: (3584, 176)\n",
      "time points :  (3584,)\n",
      "Applying baseline correction (mode: mean)\n",
      "Size norm & filtered data :  (3584, 176)\n"
     ]
    },
    {
     "name": "stderr",
     "output_type": "stream",
     "text": [
      "<ipython-input-5-154bfa86badc>:37: DeprecationWarning: fir_design defaults to \"firwin2\" in 0.15 but will change to \"firwin\" in 0.16, set it explicitly to avoid this warning.\n",
      "  h_freq=low_pass_filter, method='fir', phase='zero-double').swapaxes(0,1)\n"
     ]
    },
    {
     "name": "stdout",
     "output_type": "stream",
     "text": [
      "-> Shape of all trials data to plot :  (23, 176)\n",
      "-> Shape of time vector :  23\n",
      "/media/karim/Datas4To/1_Analyses_Intra_EM_Odor/Olfacto/feature/ERP_Odor_No_Odor/Retrieval/FERJ_ERP_FuG-ITG_d7-d6_(25).png\n",
      "data to save (23, 176) cond0 (26, 23, 24) cond1 (26, 23, 152)\n",
      "Setting up low-pass filter at 10 Hz\n",
      "fir_design defaults to \"firwin2\" in 0.15 but will change to \"firwin\" in 0.16, set it explicitly to avoid this warning.\n",
      "h_trans_bandwidth chosen to be 2.5 Hz\n",
      "Filter length of 1352 samples (2.641 sec) selected\n",
      "Size of filtered data: (3584, 176)\n",
      "time points :  (3584,)\n",
      "Applying baseline correction (mode: mean)\n",
      "Size norm & filtered data :  (3584, 176)\n"
     ]
    },
    {
     "name": "stderr",
     "output_type": "stream",
     "text": [
      "<ipython-input-5-154bfa86badc>:37: DeprecationWarning: fir_design defaults to \"firwin2\" in 0.15 but will change to \"firwin\" in 0.16, set it explicitly to avoid this warning.\n",
      "  h_freq=low_pass_filter, method='fir', phase='zero-double').swapaxes(0,1)\n"
     ]
    },
    {
     "name": "stdout",
     "output_type": "stream",
     "text": [
      "-> Shape of all trials data to plot :  (23, 176)\n",
      "-> Shape of time vector :  23\n",
      "/media/karim/Datas4To/1_Analyses_Intra_EM_Odor/Olfacto/feature/ERP_Odor_No_Odor/Retrieval/FERJ_ERP_ITG-MTG&FuG-ITG_d8-d7_(26).png\n",
      "data to save (23, 176) cond0 (27, 23, 24) cond1 (27, 23, 152)\n",
      "Setting up low-pass filter at 10 Hz\n",
      "fir_design defaults to \"firwin2\" in 0.15 but will change to \"firwin\" in 0.16, set it explicitly to avoid this warning.\n",
      "h_trans_bandwidth chosen to be 2.5 Hz\n",
      "Filter length of 1352 samples (2.641 sec) selected\n",
      "Size of filtered data: (3584, 176)\n",
      "time points :  (3584,)\n",
      "Applying baseline correction (mode: mean)\n",
      "Size norm & filtered data :  (3584, 176)\n"
     ]
    },
    {
     "name": "stderr",
     "output_type": "stream",
     "text": [
      "<ipython-input-5-154bfa86badc>:37: DeprecationWarning: fir_design defaults to \"firwin2\" in 0.15 but will change to \"firwin\" in 0.16, set it explicitly to avoid this warning.\n",
      "  h_freq=low_pass_filter, method='fir', phase='zero-double').swapaxes(0,1)\n"
     ]
    },
    {
     "name": "stdout",
     "output_type": "stream",
     "text": [
      "-> Shape of all trials data to plot :  (23, 176)\n",
      "-> Shape of time vector :  23\n",
      "/media/karim/Datas4To/1_Analyses_Intra_EM_Odor/Olfacto/feature/ERP_Odor_No_Odor/Retrieval/FERJ_ERP_MTG&ITG-MTG_d9-d8_(27).png\n",
      "data to save (23, 176) cond0 (28, 23, 24) cond1 (28, 23, 152)\n",
      "Setting up low-pass filter at 10 Hz\n",
      "fir_design defaults to \"firwin2\" in 0.15 but will change to \"firwin\" in 0.16, set it explicitly to avoid this warning.\n",
      "h_trans_bandwidth chosen to be 2.5 Hz\n",
      "Filter length of 1352 samples (2.641 sec) selected\n",
      "Size of filtered data: (3584, 176)\n",
      "time points :  (3584,)\n",
      "Applying baseline correction (mode: mean)\n",
      "Size norm & filtered data :  (3584, 176)\n"
     ]
    },
    {
     "name": "stderr",
     "output_type": "stream",
     "text": [
      "<ipython-input-5-154bfa86badc>:37: DeprecationWarning: fir_design defaults to \"firwin2\" in 0.15 but will change to \"firwin\" in 0.16, set it explicitly to avoid this warning.\n",
      "  h_freq=low_pass_filter, method='fir', phase='zero-double').swapaxes(0,1)\n"
     ]
    },
    {
     "name": "stdout",
     "output_type": "stream",
     "text": [
      "-> Shape of all trials data to plot :  (23, 176)\n",
      "-> Shape of time vector :  23\n",
      "/media/karim/Datas4To/1_Analyses_Intra_EM_Odor/Olfacto/feature/ERP_Odor_No_Odor/Retrieval/FERJ_ERP_MTG_d10-d9_(28).png\n",
      "data to save (23, 176) cond0 (29, 23, 24) cond1 (29, 23, 152)\n",
      "Setting up low-pass filter at 10 Hz\n",
      "fir_design defaults to \"firwin2\" in 0.15 but will change to \"firwin\" in 0.16, set it explicitly to avoid this warning.\n",
      "h_trans_bandwidth chosen to be 2.5 Hz\n",
      "Filter length of 1352 samples (2.641 sec) selected\n",
      "Size of filtered data: (3584, 176)\n",
      "time points :  (3584,)\n",
      "Applying baseline correction (mode: mean)\n",
      "Size norm & filtered data :  (3584, 176)\n"
     ]
    },
    {
     "name": "stderr",
     "output_type": "stream",
     "text": [
      "<ipython-input-5-154bfa86badc>:37: DeprecationWarning: fir_design defaults to \"firwin2\" in 0.15 but will change to \"firwin\" in 0.16, set it explicitly to avoid this warning.\n",
      "  h_freq=low_pass_filter, method='fir', phase='zero-double').swapaxes(0,1)\n"
     ]
    },
    {
     "name": "stdout",
     "output_type": "stream",
     "text": [
      "-> Shape of all trials data to plot :  (23, 176)\n",
      "-> Shape of time vector :  23\n",
      "/media/karim/Datas4To/1_Analyses_Intra_EM_Odor/Olfacto/feature/ERP_Odor_No_Odor/Retrieval/FERJ_ERP_MTG_d11-d10_(29).png\n",
      "data to save (23, 176) cond0 (30, 23, 24) cond1 (30, 23, 152)\n",
      "Setting up low-pass filter at 10 Hz\n",
      "fir_design defaults to \"firwin2\" in 0.15 but will change to \"firwin\" in 0.16, set it explicitly to avoid this warning.\n",
      "h_trans_bandwidth chosen to be 2.5 Hz\n",
      "Filter length of 1352 samples (2.641 sec) selected\n",
      "Size of filtered data: (3584, 176)\n",
      "time points :  (3584,)\n",
      "Applying baseline correction (mode: mean)\n",
      "Size norm & filtered data :  (3584, 176)\n"
     ]
    },
    {
     "name": "stderr",
     "output_type": "stream",
     "text": [
      "<ipython-input-5-154bfa86badc>:37: DeprecationWarning: fir_design defaults to \"firwin2\" in 0.15 but will change to \"firwin\" in 0.16, set it explicitly to avoid this warning.\n",
      "  h_freq=low_pass_filter, method='fir', phase='zero-double').swapaxes(0,1)\n"
     ]
    },
    {
     "name": "stdout",
     "output_type": "stream",
     "text": [
      "-> Shape of all trials data to plot :  (23, 176)\n",
      "-> Shape of time vector :  23\n",
      "/media/karim/Datas4To/1_Analyses_Intra_EM_Odor/Olfacto/feature/ERP_Odor_No_Odor/Retrieval/FERJ_ERP_pHC-PHG_d'2-d'1_(30).png\n",
      "data to save (23, 176) cond0 (31, 23, 24) cond1 (31, 23, 152)\n",
      "Setting up low-pass filter at 10 Hz\n",
      "fir_design defaults to \"firwin2\" in 0.15 but will change to \"firwin\" in 0.16, set it explicitly to avoid this warning.\n",
      "h_trans_bandwidth chosen to be 2.5 Hz\n",
      "Filter length of 1352 samples (2.641 sec) selected\n",
      "Size of filtered data: (3584, 176)\n",
      "time points :  (3584,)\n",
      "Applying baseline correction (mode: mean)\n",
      "Size norm & filtered data :  (3584, 176)\n"
     ]
    },
    {
     "name": "stderr",
     "output_type": "stream",
     "text": [
      "<ipython-input-5-154bfa86badc>:37: DeprecationWarning: fir_design defaults to \"firwin2\" in 0.15 but will change to \"firwin\" in 0.16, set it explicitly to avoid this warning.\n",
      "  h_freq=low_pass_filter, method='fir', phase='zero-double').swapaxes(0,1)\n"
     ]
    },
    {
     "name": "stdout",
     "output_type": "stream",
     "text": [
      "-> Shape of all trials data to plot :  (23, 176)\n",
      "-> Shape of time vector :  23\n",
      "/media/karim/Datas4To/1_Analyses_Intra_EM_Odor/Olfacto/feature/ERP_Odor_No_Odor/Retrieval/FERJ_ERP_pHC-PHG_d'3-d'2_(31).png\n",
      "data to save (23, 176) cond0 (32, 23, 24) cond1 (32, 23, 152)\n",
      "Setting up low-pass filter at 10 Hz\n",
      "fir_design defaults to \"firwin2\" in 0.15 but will change to \"firwin\" in 0.16, set it explicitly to avoid this warning.\n",
      "h_trans_bandwidth chosen to be 2.5 Hz\n",
      "Filter length of 1352 samples (2.641 sec) selected\n",
      "Size of filtered data: (3584, 176)\n",
      "time points :  (3584,)\n",
      "Applying baseline correction (mode: mean)\n",
      "Size norm & filtered data :  (3584, 176)\n"
     ]
    },
    {
     "name": "stderr",
     "output_type": "stream",
     "text": [
      "<ipython-input-5-154bfa86badc>:37: DeprecationWarning: fir_design defaults to \"firwin2\" in 0.15 but will change to \"firwin\" in 0.16, set it explicitly to avoid this warning.\n",
      "  h_freq=low_pass_filter, method='fir', phase='zero-double').swapaxes(0,1)\n"
     ]
    },
    {
     "name": "stdout",
     "output_type": "stream",
     "text": [
      "-> Shape of all trials data to plot :  (23, 176)\n",
      "-> Shape of time vector :  23\n",
      "/media/karim/Datas4To/1_Analyses_Intra_EM_Odor/Olfacto/feature/ERP_Odor_No_Odor/Retrieval/FERJ_ERP_pHC-PHG-FuG&pHC-PHG_d'4-d'3_(32).png\n",
      "data to save (23, 176) cond0 (33, 23, 24) cond1 (33, 23, 152)\n",
      "Setting up low-pass filter at 10 Hz\n",
      "fir_design defaults to \"firwin2\" in 0.15 but will change to \"firwin\" in 0.16, set it explicitly to avoid this warning.\n",
      "h_trans_bandwidth chosen to be 2.5 Hz\n",
      "Filter length of 1352 samples (2.641 sec) selected\n",
      "Size of filtered data: (3584, 176)\n",
      "time points :  (3584,)\n",
      "Applying baseline correction (mode: mean)\n",
      "Size norm & filtered data :  (3584, 176)\n"
     ]
    },
    {
     "name": "stderr",
     "output_type": "stream",
     "text": [
      "<ipython-input-5-154bfa86badc>:37: DeprecationWarning: fir_design defaults to \"firwin2\" in 0.15 but will change to \"firwin\" in 0.16, set it explicitly to avoid this warning.\n",
      "  h_freq=low_pass_filter, method='fir', phase='zero-double').swapaxes(0,1)\n"
     ]
    },
    {
     "name": "stdout",
     "output_type": "stream",
     "text": [
      "-> Shape of all trials data to plot :  (23, 176)\n",
      "-> Shape of time vector :  23\n",
      "/media/karim/Datas4To/1_Analyses_Intra_EM_Odor/Olfacto/feature/ERP_Odor_No_Odor/Retrieval/FERJ_ERP_pHC-PHG-FuG_d'5-d'4_(33).png\n",
      "data to save (23, 176) cond0 (34, 23, 24) cond1 (34, 23, 152)\n",
      "Setting up low-pass filter at 10 Hz\n",
      "fir_design defaults to \"firwin2\" in 0.15 but will change to \"firwin\" in 0.16, set it explicitly to avoid this warning.\n",
      "h_trans_bandwidth chosen to be 2.5 Hz\n",
      "Filter length of 1352 samples (2.641 sec) selected\n",
      "Size of filtered data: (3584, 176)\n",
      "time points :  (3584,)\n",
      "Applying baseline correction (mode: mean)\n",
      "Size norm & filtered data :  (3584, 176)\n"
     ]
    },
    {
     "name": "stderr",
     "output_type": "stream",
     "text": [
      "<ipython-input-5-154bfa86badc>:37: DeprecationWarning: fir_design defaults to \"firwin2\" in 0.15 but will change to \"firwin\" in 0.16, set it explicitly to avoid this warning.\n",
      "  h_freq=low_pass_filter, method='fir', phase='zero-double').swapaxes(0,1)\n"
     ]
    },
    {
     "name": "stdout",
     "output_type": "stream",
     "text": [
      "-> Shape of all trials data to plot :  (23, 176)\n",
      "-> Shape of time vector :  23\n",
      "/media/karim/Datas4To/1_Analyses_Intra_EM_Odor/Olfacto/feature/ERP_Odor_No_Odor/Retrieval/FERJ_ERP_pHC-PHG-FuG_d'6-d'5_(34).png\n",
      "data to save (23, 176) cond0 (35, 23, 24) cond1 (35, 23, 152)\n",
      "Setting up low-pass filter at 10 Hz\n",
      "fir_design defaults to \"firwin2\" in 0.15 but will change to \"firwin\" in 0.16, set it explicitly to avoid this warning.\n",
      "h_trans_bandwidth chosen to be 2.5 Hz\n",
      "Filter length of 1352 samples (2.641 sec) selected\n",
      "Size of filtered data: (3584, 176)\n",
      "time points :  (3584,)\n",
      "Applying baseline correction (mode: mean)\n",
      "Size norm & filtered data :  (3584, 176)\n"
     ]
    },
    {
     "name": "stderr",
     "output_type": "stream",
     "text": [
      "<ipython-input-5-154bfa86badc>:37: DeprecationWarning: fir_design defaults to \"firwin2\" in 0.15 but will change to \"firwin\" in 0.16, set it explicitly to avoid this warning.\n",
      "  h_freq=low_pass_filter, method='fir', phase='zero-double').swapaxes(0,1)\n"
     ]
    },
    {
     "name": "stdout",
     "output_type": "stream",
     "text": [
      "-> Shape of all trials data to plot :  (23, 176)\n",
      "-> Shape of time vector :  23\n",
      "/media/karim/Datas4To/1_Analyses_Intra_EM_Odor/Olfacto/feature/ERP_Odor_No_Odor/Retrieval/FERJ_ERP_FuG-pITG&pHC-PHG-FuG_d'7-d'6_(35).png\n",
      "data to save (23, 176) cond0 (36, 23, 24) cond1 (36, 23, 152)\n",
      "Setting up low-pass filter at 10 Hz\n",
      "fir_design defaults to \"firwin2\" in 0.15 but will change to \"firwin\" in 0.16, set it explicitly to avoid this warning.\n",
      "h_trans_bandwidth chosen to be 2.5 Hz\n",
      "Filter length of 1352 samples (2.641 sec) selected\n",
      "Size of filtered data: (3584, 176)\n",
      "time points :  (3584,)\n",
      "Applying baseline correction (mode: mean)\n",
      "Size norm & filtered data :  (3584, 176)\n"
     ]
    },
    {
     "name": "stderr",
     "output_type": "stream",
     "text": [
      "<ipython-input-5-154bfa86badc>:37: DeprecationWarning: fir_design defaults to \"firwin2\" in 0.15 but will change to \"firwin\" in 0.16, set it explicitly to avoid this warning.\n",
      "  h_freq=low_pass_filter, method='fir', phase='zero-double').swapaxes(0,1)\n"
     ]
    },
    {
     "name": "stdout",
     "output_type": "stream",
     "text": [
      "-> Shape of all trials data to plot :  (23, 176)\n",
      "-> Shape of time vector :  23\n",
      "/media/karim/Datas4To/1_Analyses_Intra_EM_Odor/Olfacto/feature/ERP_Odor_No_Odor/Retrieval/FERJ_ERP_FuG-pITG_d'8-d'7_(36).png\n",
      "data to save (23, 176) cond0 (37, 23, 24) cond1 (37, 23, 152)\n",
      "Setting up low-pass filter at 10 Hz\n",
      "fir_design defaults to \"firwin2\" in 0.15 but will change to \"firwin\" in 0.16, set it explicitly to avoid this warning.\n",
      "h_trans_bandwidth chosen to be 2.5 Hz\n",
      "Filter length of 1352 samples (2.641 sec) selected\n",
      "Size of filtered data: (3584, 176)\n",
      "time points :  (3584,)\n",
      "Applying baseline correction (mode: mean)\n",
      "Size norm & filtered data :  (3584, 176)\n"
     ]
    },
    {
     "name": "stderr",
     "output_type": "stream",
     "text": [
      "<ipython-input-5-154bfa86badc>:37: DeprecationWarning: fir_design defaults to \"firwin2\" in 0.15 but will change to \"firwin\" in 0.16, set it explicitly to avoid this warning.\n",
      "  h_freq=low_pass_filter, method='fir', phase='zero-double').swapaxes(0,1)\n"
     ]
    },
    {
     "name": "stdout",
     "output_type": "stream",
     "text": [
      "-> Shape of all trials data to plot :  (23, 176)\n",
      "-> Shape of time vector :  23\n",
      "/media/karim/Datas4To/1_Analyses_Intra_EM_Odor/Olfacto/feature/ERP_Odor_No_Odor/Retrieval/FERJ_ERP_pITG&FuG-pITG_d'9-d'8_(37).png\n",
      "data to save (23, 176) cond0 (38, 23, 24) cond1 (38, 23, 152)\n",
      "Setting up low-pass filter at 10 Hz\n",
      "fir_design defaults to \"firwin2\" in 0.15 but will change to \"firwin\" in 0.16, set it explicitly to avoid this warning.\n",
      "h_trans_bandwidth chosen to be 2.5 Hz\n",
      "Filter length of 1352 samples (2.641 sec) selected\n",
      "Size of filtered data: (3584, 176)\n",
      "time points :  (3584,)\n",
      "Applying baseline correction (mode: mean)\n",
      "Size norm & filtered data :  (3584, 176)\n"
     ]
    },
    {
     "name": "stderr",
     "output_type": "stream",
     "text": [
      "<ipython-input-5-154bfa86badc>:37: DeprecationWarning: fir_design defaults to \"firwin2\" in 0.15 but will change to \"firwin\" in 0.16, set it explicitly to avoid this warning.\n",
      "  h_freq=low_pass_filter, method='fir', phase='zero-double').swapaxes(0,1)\n"
     ]
    },
    {
     "name": "stdout",
     "output_type": "stream",
     "text": [
      "-> Shape of all trials data to plot :  (23, 176)\n",
      "-> Shape of time vector :  23\n",
      "/media/karim/Datas4To/1_Analyses_Intra_EM_Odor/Olfacto/feature/ERP_Odor_No_Odor/Retrieval/FERJ_ERP_pITG_d'10-d'9_(38).png\n",
      "data to save (23, 176) cond0 (39, 23, 24) cond1 (39, 23, 152)\n",
      "Setting up low-pass filter at 10 Hz\n",
      "fir_design defaults to \"firwin2\" in 0.15 but will change to \"firwin\" in 0.16, set it explicitly to avoid this warning.\n",
      "h_trans_bandwidth chosen to be 2.5 Hz\n",
      "Filter length of 1352 samples (2.641 sec) selected\n",
      "Size of filtered data: (3584, 176)\n",
      "time points :  (3584,)\n",
      "Applying baseline correction (mode: mean)\n",
      "Size norm & filtered data :  (3584, 176)\n"
     ]
    },
    {
     "name": "stderr",
     "output_type": "stream",
     "text": [
      "<ipython-input-5-154bfa86badc>:37: DeprecationWarning: fir_design defaults to \"firwin2\" in 0.15 but will change to \"firwin\" in 0.16, set it explicitly to avoid this warning.\n",
      "  h_freq=low_pass_filter, method='fir', phase='zero-double').swapaxes(0,1)\n"
     ]
    },
    {
     "name": "stdout",
     "output_type": "stream",
     "text": [
      "-> Shape of all trials data to plot :  (23, 176)\n",
      "-> Shape of time vector :  23\n",
      "/media/karim/Datas4To/1_Analyses_Intra_EM_Odor/Olfacto/feature/ERP_Odor_No_Odor/Retrieval/FERJ_ERP_pITG_d'11-d'10_(39).png\n",
      "data to save (23, 176) cond0 (40, 23, 24) cond1 (40, 23, 152)\n",
      "Setting up low-pass filter at 10 Hz\n",
      "fir_design defaults to \"firwin2\" in 0.15 but will change to \"firwin\" in 0.16, set it explicitly to avoid this warning.\n",
      "h_trans_bandwidth chosen to be 2.5 Hz\n",
      "Filter length of 1352 samples (2.641 sec) selected\n",
      "Size of filtered data: (3584, 176)\n",
      "time points :  (3584,)\n",
      "Applying baseline correction (mode: mean)\n",
      "Size norm & filtered data :  (3584, 176)\n"
     ]
    },
    {
     "name": "stderr",
     "output_type": "stream",
     "text": [
      "<ipython-input-5-154bfa86badc>:37: DeprecationWarning: fir_design defaults to \"firwin2\" in 0.15 but will change to \"firwin\" in 0.16, set it explicitly to avoid this warning.\n",
      "  h_freq=low_pass_filter, method='fir', phase='zero-double').swapaxes(0,1)\n"
     ]
    },
    {
     "name": "stdout",
     "output_type": "stream",
     "text": [
      "-> Shape of all trials data to plot :  (23, 176)\n",
      "-> Shape of time vector :  23\n",
      "/media/karim/Datas4To/1_Analyses_Intra_EM_Odor/Olfacto/feature/ERP_Odor_No_Odor/Retrieval/FERJ_ERP_pHC_e2-e1_(40).png\n",
      "data to save (23, 176) cond0 (41, 23, 24) cond1 (41, 23, 152)\n",
      "Setting up low-pass filter at 10 Hz\n",
      "fir_design defaults to \"firwin2\" in 0.15 but will change to \"firwin\" in 0.16, set it explicitly to avoid this warning.\n",
      "h_trans_bandwidth chosen to be 2.5 Hz\n",
      "Filter length of 1352 samples (2.641 sec) selected\n",
      "Size of filtered data: (3584, 176)\n",
      "time points :  (3584,)\n",
      "Applying baseline correction (mode: mean)\n",
      "Size norm & filtered data :  (3584, 176)\n"
     ]
    },
    {
     "name": "stderr",
     "output_type": "stream",
     "text": [
      "<ipython-input-5-154bfa86badc>:37: DeprecationWarning: fir_design defaults to \"firwin2\" in 0.15 but will change to \"firwin\" in 0.16, set it explicitly to avoid this warning.\n",
      "  h_freq=low_pass_filter, method='fir', phase='zero-double').swapaxes(0,1)\n"
     ]
    },
    {
     "name": "stdout",
     "output_type": "stream",
     "text": [
      "-> Shape of all trials data to plot :  (23, 176)\n",
      "-> Shape of time vector :  23\n",
      "/media/karim/Datas4To/1_Analyses_Intra_EM_Odor/Olfacto/feature/ERP_Odor_No_Odor/Retrieval/FERJ_ERP_pHC_e3-e2_(41).png\n",
      "data to save (23, 176) cond0 (42, 23, 24) cond1 (42, 23, 152)\n",
      "Setting up low-pass filter at 10 Hz\n",
      "fir_design defaults to \"firwin2\" in 0.15 but will change to \"firwin\" in 0.16, set it explicitly to avoid this warning.\n",
      "h_trans_bandwidth chosen to be 2.5 Hz\n",
      "Filter length of 1352 samples (2.641 sec) selected\n",
      "Size of filtered data: (3584, 176)\n",
      "time points :  (3584,)\n",
      "Applying baseline correction (mode: mean)\n",
      "Size norm & filtered data :  (3584, 176)\n"
     ]
    },
    {
     "name": "stderr",
     "output_type": "stream",
     "text": [
      "<ipython-input-5-154bfa86badc>:37: DeprecationWarning: fir_design defaults to \"firwin2\" in 0.15 but will change to \"firwin\" in 0.16, set it explicitly to avoid this warning.\n",
      "  h_freq=low_pass_filter, method='fir', phase='zero-double').swapaxes(0,1)\n"
     ]
    },
    {
     "name": "stdout",
     "output_type": "stream",
     "text": [
      "-> Shape of all trials data to plot :  (23, 176)\n",
      "-> Shape of time vector :  23\n",
      "/media/karim/Datas4To/1_Analyses_Intra_EM_Odor/Olfacto/feature/ERP_Odor_No_Odor/Retrieval/FERJ_ERP_MTG_e7-e6_(42).png\n",
      "data to save (23, 176) cond0 (43, 23, 24) cond1 (43, 23, 152)\n",
      "Setting up low-pass filter at 10 Hz\n",
      "fir_design defaults to \"firwin2\" in 0.15 but will change to \"firwin\" in 0.16, set it explicitly to avoid this warning.\n",
      "h_trans_bandwidth chosen to be 2.5 Hz\n",
      "Filter length of 1352 samples (2.641 sec) selected\n",
      "Size of filtered data: (3584, 176)\n",
      "time points :  (3584,)\n",
      "Applying baseline correction (mode: mean)\n",
      "Size norm & filtered data :  (3584, 176)\n"
     ]
    },
    {
     "name": "stderr",
     "output_type": "stream",
     "text": [
      "<ipython-input-5-154bfa86badc>:37: DeprecationWarning: fir_design defaults to \"firwin2\" in 0.15 but will change to \"firwin\" in 0.16, set it explicitly to avoid this warning.\n",
      "  h_freq=low_pass_filter, method='fir', phase='zero-double').swapaxes(0,1)\n"
     ]
    },
    {
     "name": "stdout",
     "output_type": "stream",
     "text": [
      "-> Shape of all trials data to plot :  (23, 176)\n",
      "-> Shape of time vector :  23\n",
      "/media/karim/Datas4To/1_Analyses_Intra_EM_Odor/Olfacto/feature/ERP_Odor_No_Odor/Retrieval/FERJ_ERP_MTG_e8-e7_(43).png\n",
      "data to save (23, 176) cond0 (44, 23, 24) cond1 (44, 23, 152)\n",
      "Setting up low-pass filter at 10 Hz\n",
      "fir_design defaults to \"firwin2\" in 0.15 but will change to \"firwin\" in 0.16, set it explicitly to avoid this warning.\n",
      "h_trans_bandwidth chosen to be 2.5 Hz\n",
      "Filter length of 1352 samples (2.641 sec) selected\n",
      "Size of filtered data: (3584, 176)\n",
      "time points :  (3584,)\n",
      "Applying baseline correction (mode: mean)\n",
      "Size norm & filtered data :  (3584, 176)\n"
     ]
    },
    {
     "name": "stderr",
     "output_type": "stream",
     "text": [
      "<ipython-input-5-154bfa86badc>:37: DeprecationWarning: fir_design defaults to \"firwin2\" in 0.15 but will change to \"firwin\" in 0.16, set it explicitly to avoid this warning.\n",
      "  h_freq=low_pass_filter, method='fir', phase='zero-double').swapaxes(0,1)\n"
     ]
    },
    {
     "name": "stdout",
     "output_type": "stream",
     "text": [
      "-> Shape of all trials data to plot :  (23, 176)\n",
      "-> Shape of time vector :  23\n",
      "/media/karim/Datas4To/1_Analyses_Intra_EM_Odor/Olfacto/feature/ERP_Odor_No_Odor/Retrieval/FERJ_ERP_MTG_e9-e8_(44).png\n",
      "data to save (23, 176) cond0 (45, 23, 24) cond1 (45, 23, 152)\n",
      "Setting up low-pass filter at 10 Hz\n",
      "fir_design defaults to \"firwin2\" in 0.15 but will change to \"firwin\" in 0.16, set it explicitly to avoid this warning.\n",
      "h_trans_bandwidth chosen to be 2.5 Hz\n",
      "Filter length of 1352 samples (2.641 sec) selected\n",
      "Size of filtered data: (3584, 176)\n",
      "time points :  (3584,)\n",
      "Applying baseline correction (mode: mean)\n",
      "Size norm & filtered data :  (3584, 176)\n"
     ]
    },
    {
     "name": "stderr",
     "output_type": "stream",
     "text": [
      "<ipython-input-5-154bfa86badc>:37: DeprecationWarning: fir_design defaults to \"firwin2\" in 0.15 but will change to \"firwin\" in 0.16, set it explicitly to avoid this warning.\n",
      "  h_freq=low_pass_filter, method='fir', phase='zero-double').swapaxes(0,1)\n"
     ]
    },
    {
     "name": "stdout",
     "output_type": "stream",
     "text": [
      "-> Shape of all trials data to plot :  (23, 176)\n",
      "-> Shape of time vector :  23\n",
      "/media/karim/Datas4To/1_Analyses_Intra_EM_Odor/Olfacto/feature/ERP_Odor_No_Odor/Retrieval/FERJ_ERP_MTG_e10-e9_(45).png\n",
      "data to save (23, 176) cond0 (46, 23, 24) cond1 (46, 23, 152)\n",
      "Setting up low-pass filter at 10 Hz\n",
      "fir_design defaults to \"firwin2\" in 0.15 but will change to \"firwin\" in 0.16, set it explicitly to avoid this warning.\n",
      "h_trans_bandwidth chosen to be 2.5 Hz\n",
      "Filter length of 1352 samples (2.641 sec) selected\n",
      "Size of filtered data: (3584, 176)\n",
      "time points :  (3584,)\n",
      "Applying baseline correction (mode: mean)\n",
      "Size norm & filtered data :  (3584, 176)\n"
     ]
    },
    {
     "name": "stderr",
     "output_type": "stream",
     "text": [
      "<ipython-input-5-154bfa86badc>:37: DeprecationWarning: fir_design defaults to \"firwin2\" in 0.15 but will change to \"firwin\" in 0.16, set it explicitly to avoid this warning.\n",
      "  h_freq=low_pass_filter, method='fir', phase='zero-double').swapaxes(0,1)\n"
     ]
    },
    {
     "name": "stdout",
     "output_type": "stream",
     "text": [
      "-> Shape of all trials data to plot :  (23, 176)\n",
      "-> Shape of time vector :  23\n",
      "/media/karim/Datas4To/1_Analyses_Intra_EM_Odor/Olfacto/feature/ERP_Odor_No_Odor/Retrieval/FERJ_ERP_MTG_e11-e10_(46).png\n",
      "data to save (23, 176) cond0 (47, 23, 24) cond1 (47, 23, 152)\n",
      "Setting up low-pass filter at 10 Hz\n",
      "fir_design defaults to \"firwin2\" in 0.15 but will change to \"firwin\" in 0.16, set it explicitly to avoid this warning.\n",
      "h_trans_bandwidth chosen to be 2.5 Hz\n",
      "Filter length of 1352 samples (2.641 sec) selected\n",
      "Size of filtered data: (3584, 176)\n",
      "time points :  (3584,)\n",
      "Applying baseline correction (mode: mean)\n",
      "Size norm & filtered data :  (3584, 176)\n"
     ]
    },
    {
     "name": "stderr",
     "output_type": "stream",
     "text": [
      "<ipython-input-5-154bfa86badc>:37: DeprecationWarning: fir_design defaults to \"firwin2\" in 0.15 but will change to \"firwin\" in 0.16, set it explicitly to avoid this warning.\n",
      "  h_freq=low_pass_filter, method='fir', phase='zero-double').swapaxes(0,1)\n"
     ]
    },
    {
     "name": "stdout",
     "output_type": "stream",
     "text": [
      "-> Shape of all trials data to plot :  (23, 176)\n",
      "-> Shape of time vector :  23\n",
      "/media/karim/Datas4To/1_Analyses_Intra_EM_Odor/Olfacto/feature/ERP_Odor_No_Odor/Retrieval/FERJ_ERP_Ins_h2-h1_(47).png\n",
      "data to save (23, 176) cond0 (48, 23, 24) cond1 (48, 23, 152)\n",
      "Setting up low-pass filter at 10 Hz\n",
      "fir_design defaults to \"firwin2\" in 0.15 but will change to \"firwin\" in 0.16, set it explicitly to avoid this warning.\n",
      "h_trans_bandwidth chosen to be 2.5 Hz\n",
      "Filter length of 1352 samples (2.641 sec) selected\n",
      "Size of filtered data: (3584, 176)\n",
      "time points :  (3584,)\n",
      "Applying baseline correction (mode: mean)\n",
      "Size norm & filtered data :  (3584, 176)\n"
     ]
    },
    {
     "name": "stderr",
     "output_type": "stream",
     "text": [
      "<ipython-input-5-154bfa86badc>:37: DeprecationWarning: fir_design defaults to \"firwin2\" in 0.15 but will change to \"firwin\" in 0.16, set it explicitly to avoid this warning.\n",
      "  h_freq=low_pass_filter, method='fir', phase='zero-double').swapaxes(0,1)\n"
     ]
    },
    {
     "name": "stdout",
     "output_type": "stream",
     "text": [
      "-> Shape of all trials data to plot :  (23, 176)\n",
      "-> Shape of time vector :  23\n",
      "/media/karim/Datas4To/1_Analyses_Intra_EM_Odor/Olfacto/feature/ERP_Odor_No_Odor/Retrieval/FERJ_ERP_Ins_h3-h2_(48).png\n",
      "data to save (23, 176) cond0 (49, 23, 24) cond1 (49, 23, 152)\n",
      "Setting up low-pass filter at 10 Hz\n",
      "fir_design defaults to \"firwin2\" in 0.15 but will change to \"firwin\" in 0.16, set it explicitly to avoid this warning.\n",
      "h_trans_bandwidth chosen to be 2.5 Hz\n",
      "Filter length of 1352 samples (2.641 sec) selected\n",
      "Size of filtered data: (3584, 176)\n",
      "time points :  (3584,)\n",
      "Applying baseline correction (mode: mean)\n",
      "Size norm & filtered data :  (3584, 176)\n"
     ]
    },
    {
     "name": "stderr",
     "output_type": "stream",
     "text": [
      "<ipython-input-5-154bfa86badc>:37: DeprecationWarning: fir_design defaults to \"firwin2\" in 0.15 but will change to \"firwin\" in 0.16, set it explicitly to avoid this warning.\n",
      "  h_freq=low_pass_filter, method='fir', phase='zero-double').swapaxes(0,1)\n"
     ]
    },
    {
     "name": "stdout",
     "output_type": "stream",
     "text": [
      "-> Shape of all trials data to plot :  (23, 176)\n",
      "-> Shape of time vector :  23\n",
      "/media/karim/Datas4To/1_Analyses_Intra_EM_Odor/Olfacto/feature/ERP_Odor_No_Odor/Retrieval/FERJ_ERP_TTG1&Ins_h4-h3_(49).png\n",
      "data to save (23, 176) cond0 (50, 23, 24) cond1 (50, 23, 152)\n",
      "Setting up low-pass filter at 10 Hz\n",
      "fir_design defaults to \"firwin2\" in 0.15 but will change to \"firwin\" in 0.16, set it explicitly to avoid this warning.\n",
      "h_trans_bandwidth chosen to be 2.5 Hz\n",
      "Filter length of 1352 samples (2.641 sec) selected\n",
      "Size of filtered data: (3584, 176)\n",
      "time points :  (3584,)\n",
      "Applying baseline correction (mode: mean)\n",
      "Size norm & filtered data :  (3584, 176)\n"
     ]
    },
    {
     "name": "stderr",
     "output_type": "stream",
     "text": [
      "<ipython-input-5-154bfa86badc>:37: DeprecationWarning: fir_design defaults to \"firwin2\" in 0.15 but will change to \"firwin\" in 0.16, set it explicitly to avoid this warning.\n",
      "  h_freq=low_pass_filter, method='fir', phase='zero-double').swapaxes(0,1)\n"
     ]
    },
    {
     "name": "stdout",
     "output_type": "stream",
     "text": [
      "-> Shape of all trials data to plot :  (23, 176)\n",
      "-> Shape of time vector :  23\n",
      "/media/karim/Datas4To/1_Analyses_Intra_EM_Odor/Olfacto/feature/ERP_Odor_No_Odor/Retrieval/FERJ_ERP_TTG4-STG&TTG1_h7-h6_(50).png\n",
      "data to save (23, 176) cond0 (51, 23, 24) cond1 (51, 23, 152)\n",
      "Setting up low-pass filter at 10 Hz\n",
      "fir_design defaults to \"firwin2\" in 0.15 but will change to \"firwin\" in 0.16, set it explicitly to avoid this warning.\n",
      "h_trans_bandwidth chosen to be 2.5 Hz\n",
      "Filter length of 1352 samples (2.641 sec) selected\n",
      "Size of filtered data: (3584, 176)\n",
      "time points :  (3584,)\n",
      "Applying baseline correction (mode: mean)\n",
      "Size norm & filtered data :  (3584, 176)\n"
     ]
    },
    {
     "name": "stderr",
     "output_type": "stream",
     "text": [
      "<ipython-input-5-154bfa86badc>:37: DeprecationWarning: fir_design defaults to \"firwin2\" in 0.15 but will change to \"firwin\" in 0.16, set it explicitly to avoid this warning.\n",
      "  h_freq=low_pass_filter, method='fir', phase='zero-double').swapaxes(0,1)\n"
     ]
    },
    {
     "name": "stdout",
     "output_type": "stream",
     "text": [
      "-> Shape of all trials data to plot :  (23, 176)\n",
      "-> Shape of time vector :  23\n",
      "/media/karim/Datas4To/1_Analyses_Intra_EM_Odor/Olfacto/feature/ERP_Odor_No_Odor/Retrieval/FERJ_ERP_STG&TTG4-STG_h8-h7_(51).png\n",
      "data to save (23, 176) cond0 (52, 23, 24) cond1 (52, 23, 152)\n",
      "Setting up low-pass filter at 10 Hz\n",
      "fir_design defaults to \"firwin2\" in 0.15 but will change to \"firwin\" in 0.16, set it explicitly to avoid this warning.\n",
      "h_trans_bandwidth chosen to be 2.5 Hz\n",
      "Filter length of 1352 samples (2.641 sec) selected\n",
      "Size of filtered data: (3584, 176)\n",
      "time points :  (3584,)\n",
      "Applying baseline correction (mode: mean)\n",
      "Size norm & filtered data :  (3584, 176)\n"
     ]
    },
    {
     "name": "stderr",
     "output_type": "stream",
     "text": [
      "<ipython-input-5-154bfa86badc>:37: DeprecationWarning: fir_design defaults to \"firwin2\" in 0.15 but will change to \"firwin\" in 0.16, set it explicitly to avoid this warning.\n",
      "  h_freq=low_pass_filter, method='fir', phase='zero-double').swapaxes(0,1)\n"
     ]
    },
    {
     "name": "stdout",
     "output_type": "stream",
     "text": [
      "-> Shape of all trials data to plot :  (23, 176)\n",
      "-> Shape of time vector :  23\n",
      "/media/karim/Datas4To/1_Analyses_Intra_EM_Odor/Olfacto/feature/ERP_Odor_No_Odor/Retrieval/FERJ_ERP_FuG-aITG&Ent-pPirT_j2-j1_(52).png\n",
      "data to save (23, 176) cond0 (53, 23, 24) cond1 (53, 23, 152)\n",
      "Setting up low-pass filter at 10 Hz\n",
      "fir_design defaults to \"firwin2\" in 0.15 but will change to \"firwin\" in 0.16, set it explicitly to avoid this warning.\n",
      "h_trans_bandwidth chosen to be 2.5 Hz\n",
      "Filter length of 1352 samples (2.641 sec) selected\n",
      "Size of filtered data: (3584, 176)\n",
      "time points :  (3584,)\n",
      "Applying baseline correction (mode: mean)\n",
      "Size norm & filtered data :  (3584, 176)\n"
     ]
    },
    {
     "name": "stderr",
     "output_type": "stream",
     "text": [
      "<ipython-input-5-154bfa86badc>:37: DeprecationWarning: fir_design defaults to \"firwin2\" in 0.15 but will change to \"firwin\" in 0.16, set it explicitly to avoid this warning.\n",
      "  h_freq=low_pass_filter, method='fir', phase='zero-double').swapaxes(0,1)\n"
     ]
    },
    {
     "name": "stdout",
     "output_type": "stream",
     "text": [
      "-> Shape of all trials data to plot :  (23, 176)\n",
      "-> Shape of time vector :  23\n",
      "/media/karim/Datas4To/1_Analyses_Intra_EM_Odor/Olfacto/feature/ERP_Odor_No_Odor/Retrieval/FERJ_ERP_aITG-MTG&FuG-aITG_j3-j2_(53).png\n",
      "data to save (23, 176) cond0 (54, 23, 24) cond1 (54, 23, 152)\n",
      "Setting up low-pass filter at 10 Hz\n",
      "fir_design defaults to \"firwin2\" in 0.15 but will change to \"firwin\" in 0.16, set it explicitly to avoid this warning.\n",
      "h_trans_bandwidth chosen to be 2.5 Hz\n",
      "Filter length of 1352 samples (2.641 sec) selected\n",
      "Size of filtered data: (3584, 176)\n",
      "time points :  (3584,)\n",
      "Applying baseline correction (mode: mean)\n"
     ]
    },
    {
     "name": "stderr",
     "output_type": "stream",
     "text": [
      "<ipython-input-5-154bfa86badc>:37: DeprecationWarning: fir_design defaults to \"firwin2\" in 0.15 but will change to \"firwin\" in 0.16, set it explicitly to avoid this warning.\n",
      "  h_freq=low_pass_filter, method='fir', phase='zero-double').swapaxes(0,1)\n"
     ]
    },
    {
     "name": "stdout",
     "output_type": "stream",
     "text": [
      "Size norm & filtered data :  (3584, 176)\n",
      "-> Shape of all trials data to plot :  (23, 176)\n",
      "-> Shape of time vector :  23\n",
      "/media/karim/Datas4To/1_Analyses_Intra_EM_Odor/Olfacto/feature/ERP_Odor_No_Odor/Retrieval/FERJ_ERP_MTG&aITG-MTG_j4-j3_(54).png\n",
      "data to save (23, 176) cond0 (55, 23, 24) cond1 (55, 23, 152)\n",
      "Setting up low-pass filter at 10 Hz\n",
      "fir_design defaults to \"firwin2\" in 0.15 but will change to \"firwin\" in 0.16, set it explicitly to avoid this warning.\n",
      "h_trans_bandwidth chosen to be 2.5 Hz\n",
      "Filter length of 1352 samples (2.641 sec) selected\n",
      "Size of filtered data: (3584, 176)\n",
      "time points :  (3584,)\n",
      "Applying baseline correction (mode: mean)\n",
      "Size norm & filtered data :  (3584, 176)\n"
     ]
    },
    {
     "name": "stderr",
     "output_type": "stream",
     "text": [
      "<ipython-input-5-154bfa86badc>:37: DeprecationWarning: fir_design defaults to \"firwin2\" in 0.15 but will change to \"firwin\" in 0.16, set it explicitly to avoid this warning.\n",
      "  h_freq=low_pass_filter, method='fir', phase='zero-double').swapaxes(0,1)\n"
     ]
    },
    {
     "name": "stdout",
     "output_type": "stream",
     "text": [
      "-> Shape of all trials data to plot :  (23, 176)\n",
      "-> Shape of time vector :  23\n",
      "/media/karim/Datas4To/1_Analyses_Intra_EM_Odor/Olfacto/feature/ERP_Odor_No_Odor/Retrieval/FERJ_ERP_MTG_j5-j4_(55).png\n",
      "data to save (23, 176) cond0 (56, 23, 24) cond1 (56, 23, 152)\n",
      "Setting up low-pass filter at 10 Hz\n",
      "fir_design defaults to \"firwin2\" in 0.15 but will change to \"firwin\" in 0.16, set it explicitly to avoid this warning.\n",
      "h_trans_bandwidth chosen to be 2.5 Hz\n",
      "Filter length of 1352 samples (2.641 sec) selected\n",
      "Size of filtered data: (3584, 176)\n",
      "time points :  (3584,)\n",
      "Applying baseline correction (mode: mean)\n",
      "Size norm & filtered data :  (3584, 176)\n"
     ]
    },
    {
     "name": "stderr",
     "output_type": "stream",
     "text": [
      "<ipython-input-5-154bfa86badc>:37: DeprecationWarning: fir_design defaults to \"firwin2\" in 0.15 but will change to \"firwin\" in 0.16, set it explicitly to avoid this warning.\n",
      "  h_freq=low_pass_filter, method='fir', phase='zero-double').swapaxes(0,1)\n"
     ]
    },
    {
     "name": "stdout",
     "output_type": "stream",
     "text": [
      "-> Shape of all trials data to plot :  (23, 176)\n",
      "-> Shape of time vector :  23\n",
      "/media/karim/Datas4To/1_Analyses_Intra_EM_Odor/Olfacto/feature/ERP_Odor_No_Odor/Retrieval/FERJ_ERP_MTG_j6-j5_(56).png\n",
      "data to save (23, 176) cond0 (57, 23, 24) cond1 (57, 23, 152)\n",
      "Setting up low-pass filter at 10 Hz\n",
      "fir_design defaults to \"firwin2\" in 0.15 but will change to \"firwin\" in 0.16, set it explicitly to avoid this warning.\n",
      "h_trans_bandwidth chosen to be 2.5 Hz\n",
      "Filter length of 1352 samples (2.641 sec) selected\n",
      "Size of filtered data: (3584, 176)\n",
      "time points :  (3584,)\n",
      "Applying baseline correction (mode: mean)\n",
      "Size norm & filtered data :  (3584, 176)\n"
     ]
    },
    {
     "name": "stderr",
     "output_type": "stream",
     "text": [
      "<ipython-input-5-154bfa86badc>:37: DeprecationWarning: fir_design defaults to \"firwin2\" in 0.15 but will change to \"firwin\" in 0.16, set it explicitly to avoid this warning.\n",
      "  h_freq=low_pass_filter, method='fir', phase='zero-double').swapaxes(0,1)\n"
     ]
    },
    {
     "name": "stdout",
     "output_type": "stream",
     "text": [
      "-> Shape of all trials data to plot :  (23, 176)\n",
      "-> Shape of time vector :  23\n",
      "/media/karim/Datas4To/1_Analyses_Intra_EM_Odor/Olfacto/feature/ERP_Odor_No_Odor/Retrieval/FERJ_ERP_Ent-pPirT-PRC_j'2-j'1_(57).png\n",
      "data to save (23, 176) cond0 (58, 23, 24) cond1 (58, 23, 152)\n",
      "Setting up low-pass filter at 10 Hz\n",
      "fir_design defaults to \"firwin2\" in 0.15 but will change to \"firwin\" in 0.16, set it explicitly to avoid this warning.\n",
      "h_trans_bandwidth chosen to be 2.5 Hz\n",
      "Filter length of 1352 samples (2.641 sec) selected\n",
      "Size of filtered data: (3584, 176)\n",
      "time points :  (3584,)\n",
      "Applying baseline correction (mode: mean)\n",
      "Size norm & filtered data :  (3584, 176)\n"
     ]
    },
    {
     "name": "stderr",
     "output_type": "stream",
     "text": [
      "<ipython-input-5-154bfa86badc>:37: DeprecationWarning: fir_design defaults to \"firwin2\" in 0.15 but will change to \"firwin\" in 0.16, set it explicitly to avoid this warning.\n",
      "  h_freq=low_pass_filter, method='fir', phase='zero-double').swapaxes(0,1)\n"
     ]
    },
    {
     "name": "stdout",
     "output_type": "stream",
     "text": [
      "-> Shape of all trials data to plot :  (23, 176)\n",
      "-> Shape of time vector :  23\n",
      "/media/karim/Datas4To/1_Analyses_Intra_EM_Odor/Olfacto/feature/ERP_Odor_No_Odor/Retrieval/FERJ_ERP_pPirT-aITG&Ent-pPirT-PRC_j'3-j'2_(58).png\n",
      "data to save (23, 176) cond0 (59, 23, 24) cond1 (59, 23, 152)\n",
      "Setting up low-pass filter at 10 Hz\n",
      "fir_design defaults to \"firwin2\" in 0.15 but will change to \"firwin\" in 0.16, set it explicitly to avoid this warning.\n",
      "h_trans_bandwidth chosen to be 2.5 Hz\n",
      "Filter length of 1352 samples (2.641 sec) selected\n",
      "Size of filtered data: (3584, 176)\n",
      "time points :  (3584,)\n",
      "Applying baseline correction (mode: mean)\n",
      "Size norm & filtered data :  (3584, 176)\n"
     ]
    },
    {
     "name": "stderr",
     "output_type": "stream",
     "text": [
      "<ipython-input-5-154bfa86badc>:37: DeprecationWarning: fir_design defaults to \"firwin2\" in 0.15 but will change to \"firwin\" in 0.16, set it explicitly to avoid this warning.\n",
      "  h_freq=low_pass_filter, method='fir', phase='zero-double').swapaxes(0,1)\n"
     ]
    },
    {
     "name": "stdout",
     "output_type": "stream",
     "text": [
      "-> Shape of all trials data to plot :  (23, 176)\n",
      "-> Shape of time vector :  23\n",
      "/media/karim/Datas4To/1_Analyses_Intra_EM_Odor/Olfacto/feature/ERP_Odor_No_Odor/Retrieval/FERJ_ERP_pPirT-aITG_j'4-j'3_(59).png\n",
      "data to save (23, 176) cond0 (60, 23, 24) cond1 (60, 23, 152)\n",
      "Setting up low-pass filter at 10 Hz\n",
      "fir_design defaults to \"firwin2\" in 0.15 but will change to \"firwin\" in 0.16, set it explicitly to avoid this warning.\n",
      "h_trans_bandwidth chosen to be 2.5 Hz\n",
      "Filter length of 1352 samples (2.641 sec) selected\n",
      "Size of filtered data: (3584, 176)\n",
      "time points :  (3584,)\n",
      "Applying baseline correction (mode: mean)\n",
      "Size norm & filtered data :  (3584, 176)\n"
     ]
    },
    {
     "name": "stderr",
     "output_type": "stream",
     "text": [
      "<ipython-input-5-154bfa86badc>:37: DeprecationWarning: fir_design defaults to \"firwin2\" in 0.15 but will change to \"firwin\" in 0.16, set it explicitly to avoid this warning.\n",
      "  h_freq=low_pass_filter, method='fir', phase='zero-double').swapaxes(0,1)\n"
     ]
    },
    {
     "name": "stdout",
     "output_type": "stream",
     "text": [
      "-> Shape of all trials data to plot :  (23, 176)\n",
      "-> Shape of time vector :  23\n",
      "/media/karim/Datas4To/1_Analyses_Intra_EM_Odor/Olfacto/feature/ERP_Odor_No_Odor/Retrieval/FERJ_ERP_pHC-pPHG_l2-l1_(60).png\n",
      "data to save (23, 176) cond0 (61, 23, 24) cond1 (61, 23, 152)\n",
      "Setting up low-pass filter at 10 Hz\n",
      "fir_design defaults to \"firwin2\" in 0.15 but will change to \"firwin\" in 0.16, set it explicitly to avoid this warning.\n",
      "h_trans_bandwidth chosen to be 2.5 Hz\n",
      "Filter length of 1352 samples (2.641 sec) selected\n",
      "Size of filtered data: (3584, 176)\n",
      "time points :  (3584,)\n",
      "Applying baseline correction (mode: mean)\n",
      "Size norm & filtered data :  (3584, 176)\n"
     ]
    },
    {
     "name": "stderr",
     "output_type": "stream",
     "text": [
      "<ipython-input-5-154bfa86badc>:37: DeprecationWarning: fir_design defaults to \"firwin2\" in 0.15 but will change to \"firwin\" in 0.16, set it explicitly to avoid this warning.\n",
      "  h_freq=low_pass_filter, method='fir', phase='zero-double').swapaxes(0,1)\n"
     ]
    },
    {
     "name": "stdout",
     "output_type": "stream",
     "text": [
      "-> Shape of all trials data to plot :  (23, 176)\n",
      "-> Shape of time vector :  23\n",
      "/media/karim/Datas4To/1_Analyses_Intra_EM_Odor/Olfacto/feature/ERP_Odor_No_Odor/Retrieval/FERJ_ERP_pHC-pPHG_l3-l2_(61).png\n",
      "data to save (23, 176) cond0 (62, 23, 24) cond1 (62, 23, 152)\n",
      "Setting up low-pass filter at 10 Hz\n",
      "fir_design defaults to \"firwin2\" in 0.15 but will change to \"firwin\" in 0.16, set it explicitly to avoid this warning.\n",
      "h_trans_bandwidth chosen to be 2.5 Hz\n",
      "Filter length of 1352 samples (2.641 sec) selected\n",
      "Size of filtered data: (3584, 176)\n",
      "time points :  (3584,)\n",
      "Applying baseline correction (mode: mean)\n",
      "Size norm & filtered data :  (3584, 176)\n"
     ]
    },
    {
     "name": "stderr",
     "output_type": "stream",
     "text": [
      "<ipython-input-5-154bfa86badc>:37: DeprecationWarning: fir_design defaults to \"firwin2\" in 0.15 but will change to \"firwin\" in 0.16, set it explicitly to avoid this warning.\n",
      "  h_freq=low_pass_filter, method='fir', phase='zero-double').swapaxes(0,1)\n"
     ]
    },
    {
     "name": "stdout",
     "output_type": "stream",
     "text": [
      "-> Shape of all trials data to plot :  (23, 176)\n",
      "-> Shape of time vector :  23\n",
      "/media/karim/Datas4To/1_Analyses_Intra_EM_Odor/Olfacto/feature/ERP_Odor_No_Odor/Retrieval/FERJ_ERP_pHC-pPHG_l4-l3_(62).png\n",
      "data to save (23, 176) cond0 (63, 23, 24) cond1 (63, 23, 152)\n",
      "Setting up low-pass filter at 10 Hz\n",
      "fir_design defaults to \"firwin2\" in 0.15 but will change to \"firwin\" in 0.16, set it explicitly to avoid this warning.\n",
      "h_trans_bandwidth chosen to be 2.5 Hz\n",
      "Filter length of 1352 samples (2.641 sec) selected\n",
      "Size of filtered data: (3584, 176)\n",
      "time points :  (3584,)\n",
      "Applying baseline correction (mode: mean)\n",
      "Size norm & filtered data :  (3584, 176)\n"
     ]
    },
    {
     "name": "stderr",
     "output_type": "stream",
     "text": [
      "<ipython-input-5-154bfa86badc>:37: DeprecationWarning: fir_design defaults to \"firwin2\" in 0.15 but will change to \"firwin\" in 0.16, set it explicitly to avoid this warning.\n",
      "  h_freq=low_pass_filter, method='fir', phase='zero-double').swapaxes(0,1)\n"
     ]
    },
    {
     "name": "stdout",
     "output_type": "stream",
     "text": [
      "-> Shape of all trials data to plot :  (23, 176)\n",
      "-> Shape of time vector :  23\n",
      "/media/karim/Datas4To/1_Analyses_Intra_EM_Odor/Olfacto/feature/ERP_Odor_No_Odor/Retrieval/FERJ_ERP_pPHG-FuG&pHC-pPHG_l5-l4_(63).png\n",
      "data to save (23, 176) cond0 (64, 23, 24) cond1 (64, 23, 152)\n",
      "Setting up low-pass filter at 10 Hz\n",
      "fir_design defaults to \"firwin2\" in 0.15 but will change to \"firwin\" in 0.16, set it explicitly to avoid this warning.\n",
      "h_trans_bandwidth chosen to be 2.5 Hz\n",
      "Filter length of 1352 samples (2.641 sec) selected\n",
      "Size of filtered data: (3584, 176)\n",
      "time points :  (3584,)\n",
      "Applying baseline correction (mode: mean)\n",
      "Size norm & filtered data :  (3584, 176)\n"
     ]
    },
    {
     "name": "stderr",
     "output_type": "stream",
     "text": [
      "<ipython-input-5-154bfa86badc>:37: DeprecationWarning: fir_design defaults to \"firwin2\" in 0.15 but will change to \"firwin\" in 0.16, set it explicitly to avoid this warning.\n",
      "  h_freq=low_pass_filter, method='fir', phase='zero-double').swapaxes(0,1)\n"
     ]
    },
    {
     "name": "stdout",
     "output_type": "stream",
     "text": [
      "-> Shape of all trials data to plot :  (23, 176)\n",
      "-> Shape of time vector :  23\n",
      "/media/karim/Datas4To/1_Analyses_Intra_EM_Odor/Olfacto/feature/ERP_Odor_No_Odor/Retrieval/FERJ_ERP_FuG-pITG&pPHG-FuG_l6-l5_(64).png\n",
      "data to save (23, 176) cond0 (65, 23, 24) cond1 (65, 23, 152)\n",
      "Setting up low-pass filter at 10 Hz\n",
      "fir_design defaults to \"firwin2\" in 0.15 but will change to \"firwin\" in 0.16, set it explicitly to avoid this warning.\n",
      "h_trans_bandwidth chosen to be 2.5 Hz\n",
      "Filter length of 1352 samples (2.641 sec) selected\n",
      "Size of filtered data: (3584, 176)\n",
      "time points :  (3584,)\n",
      "Applying baseline correction (mode: mean)\n",
      "Size norm & filtered data :  (3584, 176)\n"
     ]
    },
    {
     "name": "stderr",
     "output_type": "stream",
     "text": [
      "<ipython-input-5-154bfa86badc>:37: DeprecationWarning: fir_design defaults to \"firwin2\" in 0.15 but will change to \"firwin\" in 0.16, set it explicitly to avoid this warning.\n",
      "  h_freq=low_pass_filter, method='fir', phase='zero-double').swapaxes(0,1)\n"
     ]
    },
    {
     "name": "stdout",
     "output_type": "stream",
     "text": [
      "-> Shape of all trials data to plot :  (23, 176)\n",
      "-> Shape of time vector :  23\n",
      "/media/karim/Datas4To/1_Analyses_Intra_EM_Odor/Olfacto/feature/ERP_Odor_No_Odor/Retrieval/FERJ_ERP_FuG-pITG_l7-l6_(65).png\n",
      "data to save (23, 176) cond0 (66, 23, 24) cond1 (66, 23, 152)\n",
      "Setting up low-pass filter at 10 Hz\n",
      "fir_design defaults to \"firwin2\" in 0.15 but will change to \"firwin\" in 0.16, set it explicitly to avoid this warning.\n",
      "h_trans_bandwidth chosen to be 2.5 Hz\n",
      "Filter length of 1352 samples (2.641 sec) selected\n",
      "Size of filtered data: (3584, 176)\n",
      "time points :  (3584,)\n",
      "Applying baseline correction (mode: mean)\n",
      "Size norm & filtered data :  (3584, 176)\n"
     ]
    },
    {
     "name": "stderr",
     "output_type": "stream",
     "text": [
      "<ipython-input-5-154bfa86badc>:37: DeprecationWarning: fir_design defaults to \"firwin2\" in 0.15 but will change to \"firwin\" in 0.16, set it explicitly to avoid this warning.\n",
      "  h_freq=low_pass_filter, method='fir', phase='zero-double').swapaxes(0,1)\n"
     ]
    },
    {
     "name": "stdout",
     "output_type": "stream",
     "text": [
      "-> Shape of all trials data to plot :  (23, 176)\n",
      "-> Shape of time vector :  23\n",
      "/media/karim/Datas4To/1_Analyses_Intra_EM_Odor/Olfacto/feature/ERP_Odor_No_Odor/Retrieval/FERJ_ERP_pITG-MTG&FuG-pITG_l8-l7_(66).png\n",
      "data to save (23, 176) cond0 (67, 23, 24) cond1 (67, 23, 152)\n",
      "Setting up low-pass filter at 10 Hz\n",
      "fir_design defaults to \"firwin2\" in 0.15 but will change to \"firwin\" in 0.16, set it explicitly to avoid this warning.\n",
      "h_trans_bandwidth chosen to be 2.5 Hz\n",
      "Filter length of 1352 samples (2.641 sec) selected\n",
      "Size of filtered data: (3584, 176)\n",
      "time points :  (3584,)\n",
      "Applying baseline correction (mode: mean)\n",
      "Size norm & filtered data :  (3584, 176)\n"
     ]
    },
    {
     "name": "stderr",
     "output_type": "stream",
     "text": [
      "<ipython-input-5-154bfa86badc>:37: DeprecationWarning: fir_design defaults to \"firwin2\" in 0.15 but will change to \"firwin\" in 0.16, set it explicitly to avoid this warning.\n",
      "  h_freq=low_pass_filter, method='fir', phase='zero-double').swapaxes(0,1)\n"
     ]
    },
    {
     "name": "stdout",
     "output_type": "stream",
     "text": [
      "-> Shape of all trials data to plot :  (23, 176)\n",
      "-> Shape of time vector :  23\n",
      "/media/karim/Datas4To/1_Analyses_Intra_EM_Odor/Olfacto/feature/ERP_Odor_No_Odor/Retrieval/FERJ_ERP_MTG&pITG-MTG_l9-l8_(67).png\n",
      "data to save (23, 176) cond0 (68, 23, 24) cond1 (68, 23, 152)\n",
      "Setting up low-pass filter at 10 Hz\n",
      "fir_design defaults to \"firwin2\" in 0.15 but will change to \"firwin\" in 0.16, set it explicitly to avoid this warning.\n",
      "h_trans_bandwidth chosen to be 2.5 Hz\n",
      "Filter length of 1352 samples (2.641 sec) selected\n",
      "Size of filtered data: (3584, 176)\n",
      "time points :  (3584,)\n",
      "Applying baseline correction (mode: mean)\n",
      "Size norm & filtered data :  (3584, 176)\n"
     ]
    },
    {
     "name": "stderr",
     "output_type": "stream",
     "text": [
      "<ipython-input-5-154bfa86badc>:37: DeprecationWarning: fir_design defaults to \"firwin2\" in 0.15 but will change to \"firwin\" in 0.16, set it explicitly to avoid this warning.\n",
      "  h_freq=low_pass_filter, method='fir', phase='zero-double').swapaxes(0,1)\n"
     ]
    },
    {
     "name": "stdout",
     "output_type": "stream",
     "text": [
      "-> Shape of all trials data to plot :  (23, 176)\n",
      "-> Shape of time vector :  23\n",
      "/media/karim/Datas4To/1_Analyses_Intra_EM_Odor/Olfacto/feature/ERP_Odor_No_Odor/Retrieval/FERJ_ERP_MTG_l10-l9_(68).png\n",
      "data to save (23, 176) cond0 (69, 23, 24) cond1 (69, 23, 152)\n",
      "Setting up low-pass filter at 10 Hz\n",
      "fir_design defaults to \"firwin2\" in 0.15 but will change to \"firwin\" in 0.16, set it explicitly to avoid this warning.\n",
      "h_trans_bandwidth chosen to be 2.5 Hz\n",
      "Filter length of 1352 samples (2.641 sec) selected\n",
      "Size of filtered data: (3584, 176)\n",
      "time points :  (3584,)\n",
      "Applying baseline correction (mode: mean)\n",
      "Size norm & filtered data :  (3584, 176)\n"
     ]
    },
    {
     "name": "stderr",
     "output_type": "stream",
     "text": [
      "<ipython-input-5-154bfa86badc>:37: DeprecationWarning: fir_design defaults to \"firwin2\" in 0.15 but will change to \"firwin\" in 0.16, set it explicitly to avoid this warning.\n",
      "  h_freq=low_pass_filter, method='fir', phase='zero-double').swapaxes(0,1)\n"
     ]
    },
    {
     "name": "stdout",
     "output_type": "stream",
     "text": [
      "-> Shape of all trials data to plot :  (23, 176)\n",
      "-> Shape of time vector :  23\n",
      "/media/karim/Datas4To/1_Analyses_Intra_EM_Odor/Olfacto/feature/ERP_Odor_No_Odor/Retrieval/FERJ_ERP_MTG_l11-l10_(69).png\n",
      "data to save (23, 176) cond0 (70, 23, 24) cond1 (70, 23, 152)\n",
      "Setting up low-pass filter at 10 Hz\n",
      "fir_design defaults to \"firwin2\" in 0.15 but will change to \"firwin\" in 0.16, set it explicitly to avoid this warning.\n",
      "h_trans_bandwidth chosen to be 2.5 Hz\n",
      "Filter length of 1352 samples (2.641 sec) selected\n",
      "Size of filtered data: (3584, 176)\n",
      "time points :  (3584,)\n",
      "Applying baseline correction (mode: mean)\n",
      "Size norm & filtered data :  (3584, 176)\n"
     ]
    },
    {
     "name": "stderr",
     "output_type": "stream",
     "text": [
      "<ipython-input-5-154bfa86badc>:37: DeprecationWarning: fir_design defaults to \"firwin2\" in 0.15 but will change to \"firwin\" in 0.16, set it explicitly to avoid this warning.\n",
      "  h_freq=low_pass_filter, method='fir', phase='zero-double').swapaxes(0,1)\n"
     ]
    },
    {
     "name": "stdout",
     "output_type": "stream",
     "text": [
      "-> Shape of all trials data to plot :  (23, 176)\n",
      "-> Shape of time vector :  23\n",
      "/media/karim/Datas4To/1_Analyses_Intra_EM_Odor/Olfacto/feature/ERP_Odor_No_Odor/Retrieval/FERJ_ERP_IRoG_o2-o1_(70).png\n",
      "data to save (23, 176) cond0 (71, 23, 24) cond1 (71, 23, 152)\n",
      "Setting up low-pass filter at 10 Hz\n",
      "fir_design defaults to \"firwin2\" in 0.15 but will change to \"firwin\" in 0.16, set it explicitly to avoid this warning.\n",
      "h_trans_bandwidth chosen to be 2.5 Hz\n",
      "Filter length of 1352 samples (2.641 sec) selected\n",
      "Size of filtered data: (3584, 176)\n",
      "time points :  (3584,)\n",
      "Applying baseline correction (mode: mean)\n",
      "Size norm & filtered data :  (3584, 176)\n"
     ]
    },
    {
     "name": "stderr",
     "output_type": "stream",
     "text": [
      "<ipython-input-5-154bfa86badc>:37: DeprecationWarning: fir_design defaults to \"firwin2\" in 0.15 but will change to \"firwin\" in 0.16, set it explicitly to avoid this warning.\n",
      "  h_freq=low_pass_filter, method='fir', phase='zero-double').swapaxes(0,1)\n"
     ]
    },
    {
     "name": "stdout",
     "output_type": "stream",
     "text": [
      "-> Shape of all trials data to plot :  (23, 176)\n",
      "-> Shape of time vector :  23\n",
      "/media/karim/Datas4To/1_Analyses_Intra_EM_Odor/Olfacto/feature/ERP_Odor_No_Odor/Retrieval/FERJ_ERP_IRoG-MOrG&IRoG_o3-o2_(71).png\n",
      "data to save (23, 176) cond0 (72, 23, 24) cond1 (72, 23, 152)\n",
      "Setting up low-pass filter at 10 Hz\n",
      "fir_design defaults to \"firwin2\" in 0.15 but will change to \"firwin\" in 0.16, set it explicitly to avoid this warning.\n",
      "h_trans_bandwidth chosen to be 2.5 Hz\n",
      "Filter length of 1352 samples (2.641 sec) selected\n",
      "Size of filtered data: (3584, 176)\n",
      "time points :  (3584,)\n",
      "Applying baseline correction (mode: mean)\n",
      "Size norm & filtered data :  (3584, 176)\n"
     ]
    },
    {
     "name": "stderr",
     "output_type": "stream",
     "text": [
      "<ipython-input-5-154bfa86badc>:37: DeprecationWarning: fir_design defaults to \"firwin2\" in 0.15 but will change to \"firwin\" in 0.16, set it explicitly to avoid this warning.\n",
      "  h_freq=low_pass_filter, method='fir', phase='zero-double').swapaxes(0,1)\n"
     ]
    },
    {
     "name": "stdout",
     "output_type": "stream",
     "text": [
      "-> Shape of all trials data to plot :  (23, 176)\n",
      "-> Shape of time vector :  23\n",
      "/media/karim/Datas4To/1_Analyses_Intra_EM_Odor/Olfacto/feature/ERP_Odor_No_Odor/Retrieval/FERJ_ERP_IRoG-MOrG_o4-o3_(72).png\n",
      "data to save (23, 176) cond0 (73, 23, 24) cond1 (73, 23, 152)\n",
      "Setting up low-pass filter at 10 Hz\n",
      "fir_design defaults to \"firwin2\" in 0.15 but will change to \"firwin\" in 0.16, set it explicitly to avoid this warning.\n",
      "h_trans_bandwidth chosen to be 2.5 Hz\n",
      "Filter length of 1352 samples (2.641 sec) selected\n",
      "Size of filtered data: (3584, 176)\n",
      "time points :  (3584,)\n",
      "Applying baseline correction (mode: mean)\n",
      "Size norm & filtered data :  (3584, 176)\n"
     ]
    },
    {
     "name": "stderr",
     "output_type": "stream",
     "text": [
      "<ipython-input-5-154bfa86badc>:37: DeprecationWarning: fir_design defaults to \"firwin2\" in 0.15 but will change to \"firwin\" in 0.16, set it explicitly to avoid this warning.\n",
      "  h_freq=low_pass_filter, method='fir', phase='zero-double').swapaxes(0,1)\n"
     ]
    },
    {
     "name": "stdout",
     "output_type": "stream",
     "text": [
      "-> Shape of all trials data to plot :  (23, 176)\n",
      "-> Shape of time vector :  23\n",
      "/media/karim/Datas4To/1_Analyses_Intra_EM_Odor/Olfacto/feature/ERP_Odor_No_Odor/Retrieval/FERJ_ERP_LOrG&IRoG-MOrG_o5-o4_(73).png\n",
      "data to save (23, 176) cond0 (74, 23, 24) cond1 (74, 23, 152)\n",
      "Setting up low-pass filter at 10 Hz\n",
      "fir_design defaults to \"firwin2\" in 0.15 but will change to \"firwin\" in 0.16, set it explicitly to avoid this warning.\n",
      "h_trans_bandwidth chosen to be 2.5 Hz\n",
      "Filter length of 1352 samples (2.641 sec) selected\n",
      "Size of filtered data: (3584, 176)\n",
      "time points :  (3584,)\n",
      "Applying baseline correction (mode: mean)\n",
      "Size norm & filtered data :  (3584, 176)\n"
     ]
    },
    {
     "name": "stderr",
     "output_type": "stream",
     "text": [
      "<ipython-input-5-154bfa86badc>:37: DeprecationWarning: fir_design defaults to \"firwin2\" in 0.15 but will change to \"firwin\" in 0.16, set it explicitly to avoid this warning.\n",
      "  h_freq=low_pass_filter, method='fir', phase='zero-double').swapaxes(0,1)\n"
     ]
    },
    {
     "name": "stdout",
     "output_type": "stream",
     "text": [
      "-> Shape of all trials data to plot :  (23, 176)\n",
      "-> Shape of time vector :  23\n",
      "/media/karim/Datas4To/1_Analyses_Intra_EM_Odor/Olfacto/feature/ERP_Odor_No_Odor/Retrieval/FERJ_ERP_LOrG_o6-o5_(74).png\n",
      "data to save (23, 176) cond0 (75, 23, 24) cond1 (75, 23, 152)\n",
      "Setting up low-pass filter at 10 Hz\n",
      "fir_design defaults to \"firwin2\" in 0.15 but will change to \"firwin\" in 0.16, set it explicitly to avoid this warning.\n",
      "h_trans_bandwidth chosen to be 2.5 Hz\n",
      "Filter length of 1352 samples (2.641 sec) selected\n",
      "Size of filtered data: (3584, 176)\n",
      "time points :  (3584,)\n",
      "Applying baseline correction (mode: mean)\n",
      "Size norm & filtered data :  (3584, 176)\n"
     ]
    },
    {
     "name": "stderr",
     "output_type": "stream",
     "text": [
      "<ipython-input-5-154bfa86badc>:37: DeprecationWarning: fir_design defaults to \"firwin2\" in 0.15 but will change to \"firwin\" in 0.16, set it explicitly to avoid this warning.\n",
      "  h_freq=low_pass_filter, method='fir', phase='zero-double').swapaxes(0,1)\n"
     ]
    },
    {
     "name": "stdout",
     "output_type": "stream",
     "text": [
      "-> Shape of all trials data to plot :  (23, 176)\n",
      "-> Shape of time vector :  23\n",
      "/media/karim/Datas4To/1_Analyses_Intra_EM_Odor/Olfacto/feature/ERP_Odor_No_Odor/Retrieval/FERJ_ERP_LOrG_o7-o6_(75).png\n",
      "data to save (23, 176) cond0 (76, 23, 24) cond1 (76, 23, 152)\n",
      "Setting up low-pass filter at 10 Hz\n",
      "fir_design defaults to \"firwin2\" in 0.15 but will change to \"firwin\" in 0.16, set it explicitly to avoid this warning.\n",
      "h_trans_bandwidth chosen to be 2.5 Hz\n",
      "Filter length of 1352 samples (2.641 sec) selected\n",
      "Size of filtered data: (3584, 176)\n",
      "time points :  (3584,)\n",
      "Applying baseline correction (mode: mean)\n",
      "Size norm & filtered data :  (3584, 176)\n"
     ]
    },
    {
     "name": "stderr",
     "output_type": "stream",
     "text": [
      "<ipython-input-5-154bfa86badc>:37: DeprecationWarning: fir_design defaults to \"firwin2\" in 0.15 but will change to \"firwin\" in 0.16, set it explicitly to avoid this warning.\n",
      "  h_freq=low_pass_filter, method='fir', phase='zero-double').swapaxes(0,1)\n"
     ]
    },
    {
     "name": "stdout",
     "output_type": "stream",
     "text": [
      "-> Shape of all trials data to plot :  (23, 176)\n",
      "-> Shape of time vector :  23\n",
      "/media/karim/Datas4To/1_Analyses_Intra_EM_Odor/Olfacto/feature/ERP_Odor_No_Odor/Retrieval/FERJ_ERP_LOrG-IFGOr&LOrG_o8-o7_(76).png\n",
      "data to save (23, 176) cond0 (77, 23, 24) cond1 (77, 23, 152)\n",
      "Setting up low-pass filter at 10 Hz\n",
      "fir_design defaults to \"firwin2\" in 0.15 but will change to \"firwin\" in 0.16, set it explicitly to avoid this warning.\n",
      "h_trans_bandwidth chosen to be 2.5 Hz\n",
      "Filter length of 1352 samples (2.641 sec) selected\n",
      "Size of filtered data: (3584, 176)\n",
      "time points :  (3584,)\n",
      "Applying baseline correction (mode: mean)\n",
      "Size norm & filtered data :  (3584, 176)\n"
     ]
    },
    {
     "name": "stderr",
     "output_type": "stream",
     "text": [
      "<ipython-input-5-154bfa86badc>:37: DeprecationWarning: fir_design defaults to \"firwin2\" in 0.15 but will change to \"firwin\" in 0.16, set it explicitly to avoid this warning.\n",
      "  h_freq=low_pass_filter, method='fir', phase='zero-double').swapaxes(0,1)\n"
     ]
    },
    {
     "name": "stdout",
     "output_type": "stream",
     "text": [
      "-> Shape of all trials data to plot :  (23, 176)\n",
      "-> Shape of time vector :  23\n",
      "/media/karim/Datas4To/1_Analyses_Intra_EM_Odor/Olfacto/feature/ERP_Odor_No_Odor/Retrieval/FERJ_ERP_IFGOr&LOrG-IFGOr_o9-o8_(77).png\n",
      "data to save (23, 176) cond0 (78, 23, 24) cond1 (78, 23, 152)\n",
      "Setting up low-pass filter at 10 Hz\n",
      "fir_design defaults to \"firwin2\" in 0.15 but will change to \"firwin\" in 0.16, set it explicitly to avoid this warning.\n",
      "h_trans_bandwidth chosen to be 2.5 Hz\n",
      "Filter length of 1352 samples (2.641 sec) selected\n",
      "Size of filtered data: (3584, 176)\n",
      "time points :  (3584,)\n",
      "Applying baseline correction (mode: mean)\n",
      "Size norm & filtered data :  (3584, 176)\n"
     ]
    },
    {
     "name": "stderr",
     "output_type": "stream",
     "text": [
      "<ipython-input-5-154bfa86badc>:37: DeprecationWarning: fir_design defaults to \"firwin2\" in 0.15 but will change to \"firwin\" in 0.16, set it explicitly to avoid this warning.\n",
      "  h_freq=low_pass_filter, method='fir', phase='zero-double').swapaxes(0,1)\n"
     ]
    },
    {
     "name": "stdout",
     "output_type": "stream",
     "text": [
      "-> Shape of all trials data to plot :  (23, 176)\n",
      "-> Shape of time vector :  23\n",
      "/media/karim/Datas4To/1_Analyses_Intra_EM_Odor/Olfacto/feature/ERP_Odor_No_Odor/Retrieval/FERJ_ERP_IFGOr_o10-o9_(78).png\n",
      "data to save (23, 176) cond0 (79, 23, 24) cond1 (79, 23, 152)\n",
      "Setting up low-pass filter at 10 Hz\n",
      "fir_design defaults to \"firwin2\" in 0.15 but will change to \"firwin\" in 0.16, set it explicitly to avoid this warning.\n",
      "h_trans_bandwidth chosen to be 2.5 Hz\n",
      "Filter length of 1352 samples (2.641 sec) selected\n",
      "Size of filtered data: (3584, 176)\n",
      "time points :  (3584,)\n",
      "Applying baseline correction (mode: mean)\n",
      "Size norm & filtered data :  (3584, 176)\n"
     ]
    },
    {
     "name": "stderr",
     "output_type": "stream",
     "text": [
      "<ipython-input-5-154bfa86badc>:37: DeprecationWarning: fir_design defaults to \"firwin2\" in 0.15 but will change to \"firwin\" in 0.16, set it explicitly to avoid this warning.\n",
      "  h_freq=low_pass_filter, method='fir', phase='zero-double').swapaxes(0,1)\n"
     ]
    },
    {
     "name": "stdout",
     "output_type": "stream",
     "text": [
      "-> Shape of all trials data to plot :  (23, 176)\n",
      "-> Shape of time vector :  23\n",
      "/media/karim/Datas4To/1_Analyses_Intra_EM_Odor/Olfacto/feature/ERP_Odor_No_Odor/Retrieval/FERJ_ERP_Ins&Ins-Pu_t2-t1_(79).png\n",
      "data to save (23, 176) cond0 (80, 23, 24) cond1 (80, 23, 152)\n",
      "Setting up low-pass filter at 10 Hz\n",
      "fir_design defaults to \"firwin2\" in 0.15 but will change to \"firwin\" in 0.16, set it explicitly to avoid this warning.\n",
      "h_trans_bandwidth chosen to be 2.5 Hz\n",
      "Filter length of 1352 samples (2.641 sec) selected\n",
      "Size of filtered data: (3584, 176)\n",
      "time points :  (3584,)\n",
      "Applying baseline correction (mode: mean)\n",
      "Size norm & filtered data :  (3584, 176)\n"
     ]
    },
    {
     "name": "stderr",
     "output_type": "stream",
     "text": [
      "<ipython-input-5-154bfa86badc>:37: DeprecationWarning: fir_design defaults to \"firwin2\" in 0.15 but will change to \"firwin\" in 0.16, set it explicitly to avoid this warning.\n",
      "  h_freq=low_pass_filter, method='fir', phase='zero-double').swapaxes(0,1)\n"
     ]
    },
    {
     "name": "stdout",
     "output_type": "stream",
     "text": [
      "-> Shape of all trials data to plot :  (23, 176)\n",
      "-> Shape of time vector :  23\n",
      "/media/karim/Datas4To/1_Analyses_Intra_EM_Odor/Olfacto/feature/ERP_Odor_No_Odor/Retrieval/FERJ_ERP_Ins_t3-t2_(80).png\n",
      "data to save (23, 176) cond0 (81, 23, 24) cond1 (81, 23, 152)\n",
      "Setting up low-pass filter at 10 Hz\n",
      "fir_design defaults to \"firwin2\" in 0.15 but will change to \"firwin\" in 0.16, set it explicitly to avoid this warning.\n",
      "h_trans_bandwidth chosen to be 2.5 Hz\n",
      "Filter length of 1352 samples (2.641 sec) selected\n",
      "Size of filtered data: (3584, 176)\n",
      "time points :  (3584,)\n",
      "Applying baseline correction (mode: mean)\n",
      "Size norm & filtered data :  (3584, 176)\n"
     ]
    },
    {
     "name": "stderr",
     "output_type": "stream",
     "text": [
      "<ipython-input-5-154bfa86badc>:37: DeprecationWarning: fir_design defaults to \"firwin2\" in 0.15 but will change to \"firwin\" in 0.16, set it explicitly to avoid this warning.\n",
      "  h_freq=low_pass_filter, method='fir', phase='zero-double').swapaxes(0,1)\n"
     ]
    },
    {
     "name": "stdout",
     "output_type": "stream",
     "text": [
      "-> Shape of all trials data to plot :  (23, 176)\n",
      "-> Shape of time vector :  23\n",
      "/media/karim/Datas4To/1_Analyses_Intra_EM_Odor/Olfacto/feature/ERP_Odor_No_Odor/Retrieval/FERJ_ERP_PPo-STG&Ins_t4-t3_(81).png\n",
      "data to save (23, 176) cond0 (82, 23, 24) cond1 (82, 23, 152)\n",
      "Setting up low-pass filter at 10 Hz\n",
      "fir_design defaults to \"firwin2\" in 0.15 but will change to \"firwin\" in 0.16, set it explicitly to avoid this warning.\n",
      "h_trans_bandwidth chosen to be 2.5 Hz\n",
      "Filter length of 1352 samples (2.641 sec) selected\n",
      "Size of filtered data: (3584, 176)\n",
      "time points :  (3584,)\n",
      "Applying baseline correction (mode: mean)\n",
      "Size norm & filtered data :  (3584, 176)\n"
     ]
    },
    {
     "name": "stderr",
     "output_type": "stream",
     "text": [
      "<ipython-input-5-154bfa86badc>:37: DeprecationWarning: fir_design defaults to \"firwin2\" in 0.15 but will change to \"firwin\" in 0.16, set it explicitly to avoid this warning.\n",
      "  h_freq=low_pass_filter, method='fir', phase='zero-double').swapaxes(0,1)\n"
     ]
    },
    {
     "name": "stdout",
     "output_type": "stream",
     "text": [
      "-> Shape of all trials data to plot :  (23, 176)\n",
      "-> Shape of time vector :  23\n",
      "/media/karim/Datas4To/1_Analyses_Intra_EM_Odor/Olfacto/feature/ERP_Odor_No_Odor/Retrieval/FERJ_ERP_PPo-STG_t5-t4_(82).png\n",
      "data to save (23, 176) cond0 (83, 23, 24) cond1 (83, 23, 152)\n",
      "Setting up low-pass filter at 10 Hz\n",
      "fir_design defaults to \"firwin2\" in 0.15 but will change to \"firwin\" in 0.16, set it explicitly to avoid this warning.\n",
      "h_trans_bandwidth chosen to be 2.5 Hz\n",
      "Filter length of 1352 samples (2.641 sec) selected\n",
      "Size of filtered data: (3584, 176)\n",
      "time points :  (3584,)\n",
      "Applying baseline correction (mode: mean)\n",
      "Size norm & filtered data :  (3584, 176)\n"
     ]
    },
    {
     "name": "stderr",
     "output_type": "stream",
     "text": [
      "<ipython-input-5-154bfa86badc>:37: DeprecationWarning: fir_design defaults to \"firwin2\" in 0.15 but will change to \"firwin\" in 0.16, set it explicitly to avoid this warning.\n",
      "  h_freq=low_pass_filter, method='fir', phase='zero-double').swapaxes(0,1)\n"
     ]
    },
    {
     "name": "stdout",
     "output_type": "stream",
     "text": [
      "-> Shape of all trials data to plot :  (23, 176)\n",
      "-> Shape of time vector :  23\n",
      "/media/karim/Datas4To/1_Analyses_Intra_EM_Odor/Olfacto/feature/ERP_Odor_No_Odor/Retrieval/FERJ_ERP_STG&PPo-STG_t6-t5_(83).png\n",
      "data to save (23, 176) cond0 (84, 23, 24) cond1 (84, 23, 152)\n",
      "Setting up low-pass filter at 10 Hz\n",
      "fir_design defaults to \"firwin2\" in 0.15 but will change to \"firwin\" in 0.16, set it explicitly to avoid this warning.\n",
      "h_trans_bandwidth chosen to be 2.5 Hz\n",
      "Filter length of 1352 samples (2.641 sec) selected\n",
      "Size of filtered data: (3584, 176)\n",
      "time points :  (3584,)\n",
      "Applying baseline correction (mode: mean)\n",
      "Size norm & filtered data :  (3584, 176)\n"
     ]
    },
    {
     "name": "stderr",
     "output_type": "stream",
     "text": [
      "<ipython-input-5-154bfa86badc>:37: DeprecationWarning: fir_design defaults to \"firwin2\" in 0.15 but will change to \"firwin\" in 0.16, set it explicitly to avoid this warning.\n",
      "  h_freq=low_pass_filter, method='fir', phase='zero-double').swapaxes(0,1)\n"
     ]
    },
    {
     "name": "stdout",
     "output_type": "stream",
     "text": [
      "-> Shape of all trials data to plot :  (23, 176)\n",
      "-> Shape of time vector :  23\n",
      "/media/karim/Datas4To/1_Analyses_Intra_EM_Odor/Olfacto/feature/ERP_Odor_No_Odor/Retrieval/FERJ_ERP_STG_t7-t6_(84).png\n",
      "data to save (23, 176) cond0 (85, 23, 24) cond1 (85, 23, 152)\n",
      "(85, 23, 152) (85, 23, 24)\n",
      "VACJ (80, 3584, 260) (80, 3584, 24)\n",
      "Setting up low-pass filter at 10 Hz\n",
      "fir_design defaults to \"firwin2\" in 0.15 but will change to \"firwin\" in 0.16, set it explicitly to avoid this warning.\n",
      "h_trans_bandwidth chosen to be 2.5 Hz\n",
      "Filter length of 1352 samples (2.641 sec) selected\n",
      "Size of filtered data: (3584, 284)\n",
      "time points :  (3584,)\n",
      "Applying baseline correction (mode: mean)\n",
      "Size norm & filtered data :  (3584, 284)\n"
     ]
    },
    {
     "name": "stderr",
     "output_type": "stream",
     "text": [
      "<ipython-input-5-154bfa86badc>:37: DeprecationWarning: fir_design defaults to \"firwin2\" in 0.15 but will change to \"firwin\" in 0.16, set it explicitly to avoid this warning.\n",
      "  h_freq=low_pass_filter, method='fir', phase='zero-double').swapaxes(0,1)\n"
     ]
    },
    {
     "name": "stdout",
     "output_type": "stream",
     "text": [
      "-> Shape of all trials data to plot :  (23, 284)\n",
      "-> Shape of time vector :  23\n",
      "/media/karim/Datas4To/1_Analyses_Intra_EM_Odor/Olfacto/feature/ERP_Odor_No_Odor/Retrieval/VACJ_ERP_mHC-PHG&mHC-Ent_b3-b2_(0).png\n",
      "data to save (23, 284) cond0 (1, 23, 24) cond1 (1, 23, 260)\n",
      "Setting up low-pass filter at 10 Hz\n",
      "fir_design defaults to \"firwin2\" in 0.15 but will change to \"firwin\" in 0.16, set it explicitly to avoid this warning.\n",
      "h_trans_bandwidth chosen to be 2.5 Hz\n",
      "Filter length of 1352 samples (2.641 sec) selected\n",
      "Size of filtered data: (3584, 284)\n",
      "time points :  (3584,)\n",
      "Applying baseline correction (mode: mean)\n",
      "Size norm & filtered data :  (3584, 284)\n"
     ]
    },
    {
     "name": "stderr",
     "output_type": "stream",
     "text": [
      "<ipython-input-5-154bfa86badc>:37: DeprecationWarning: fir_design defaults to \"firwin2\" in 0.15 but will change to \"firwin\" in 0.16, set it explicitly to avoid this warning.\n",
      "  h_freq=low_pass_filter, method='fir', phase='zero-double').swapaxes(0,1)\n"
     ]
    },
    {
     "name": "stdout",
     "output_type": "stream",
     "text": [
      "-> Shape of all trials data to plot :  (23, 284)\n",
      "-> Shape of time vector :  23\n",
      "/media/karim/Datas4To/1_Analyses_Intra_EM_Odor/Olfacto/feature/ERP_Odor_No_Odor/Retrieval/VACJ_ERP_mHC-PHG-FuG&mHC-PHG_b4-b3_(1).png\n",
      "data to save (23, 284) cond0 (2, 23, 24) cond1 (2, 23, 260)\n",
      "Setting up low-pass filter at 10 Hz\n",
      "fir_design defaults to \"firwin2\" in 0.15 but will change to \"firwin\" in 0.16, set it explicitly to avoid this warning.\n",
      "h_trans_bandwidth chosen to be 2.5 Hz\n",
      "Filter length of 1352 samples (2.641 sec) selected\n"
     ]
    },
    {
     "name": "stderr",
     "output_type": "stream",
     "text": [
      "<ipython-input-5-154bfa86badc>:37: DeprecationWarning: fir_design defaults to \"firwin2\" in 0.15 but will change to \"firwin\" in 0.16, set it explicitly to avoid this warning.\n",
      "  h_freq=low_pass_filter, method='fir', phase='zero-double').swapaxes(0,1)\n"
     ]
    },
    {
     "name": "stdout",
     "output_type": "stream",
     "text": [
      "Size of filtered data: (3584, 284)\n",
      "time points :  (3584,)\n",
      "Applying baseline correction (mode: mean)\n",
      "Size norm & filtered data :  (3584, 284)\n",
      "-> Shape of all trials data to plot :  (23, 284)\n",
      "-> Shape of time vector :  23\n",
      "/media/karim/Datas4To/1_Analyses_Intra_EM_Odor/Olfacto/feature/ERP_Odor_No_Odor/Retrieval/VACJ_ERP_MTG_b7-b6_(2).png\n",
      "data to save (23, 284) cond0 (3, 23, 24) cond1 (3, 23, 260)\n",
      "Setting up low-pass filter at 10 Hz\n",
      "fir_design defaults to \"firwin2\" in 0.15 but will change to \"firwin\" in 0.16, set it explicitly to avoid this warning.\n",
      "h_trans_bandwidth chosen to be 2.5 Hz\n",
      "Filter length of 1352 samples (2.641 sec) selected\n",
      "Size of filtered data: (3584, 284)\n",
      "time points :  (3584,)\n",
      "Applying baseline correction (mode: mean)\n",
      "Size norm & filtered data :  (3584, 284)\n"
     ]
    },
    {
     "name": "stderr",
     "output_type": "stream",
     "text": [
      "<ipython-input-5-154bfa86badc>:37: DeprecationWarning: fir_design defaults to \"firwin2\" in 0.15 but will change to \"firwin\" in 0.16, set it explicitly to avoid this warning.\n",
      "  h_freq=low_pass_filter, method='fir', phase='zero-double').swapaxes(0,1)\n"
     ]
    },
    {
     "name": "stdout",
     "output_type": "stream",
     "text": [
      "-> Shape of all trials data to plot :  (23, 284)\n",
      "-> Shape of time vector :  23\n",
      "/media/karim/Datas4To/1_Analyses_Intra_EM_Odor/Olfacto/feature/ERP_Odor_No_Odor/Retrieval/VACJ_ERP_MTG_b8-b7_(3).png\n",
      "data to save (23, 284) cond0 (4, 23, 24) cond1 (4, 23, 260)\n",
      "Setting up low-pass filter at 10 Hz\n",
      "fir_design defaults to \"firwin2\" in 0.15 but will change to \"firwin\" in 0.16, set it explicitly to avoid this warning.\n",
      "h_trans_bandwidth chosen to be 2.5 Hz\n",
      "Filter length of 1352 samples (2.641 sec) selected\n",
      "Size of filtered data: (3584, 284)\n",
      "time points :  (3584,)\n",
      "Applying baseline correction (mode: mean)\n",
      "Size norm & filtered data :  (3584, 284)\n"
     ]
    },
    {
     "name": "stderr",
     "output_type": "stream",
     "text": [
      "<ipython-input-5-154bfa86badc>:37: DeprecationWarning: fir_design defaults to \"firwin2\" in 0.15 but will change to \"firwin\" in 0.16, set it explicitly to avoid this warning.\n",
      "  h_freq=low_pass_filter, method='fir', phase='zero-double').swapaxes(0,1)\n"
     ]
    },
    {
     "name": "stdout",
     "output_type": "stream",
     "text": [
      "-> Shape of all trials data to plot :  (23, 284)\n",
      "-> Shape of time vector :  23\n",
      "/media/karim/Datas4To/1_Analyses_Intra_EM_Odor/Olfacto/feature/ERP_Odor_No_Odor/Retrieval/VACJ_ERP_MTG_b9-b8_(4).png\n",
      "data to save (23, 284) cond0 (5, 23, 24) cond1 (5, 23, 260)\n",
      "Setting up low-pass filter at 10 Hz\n",
      "fir_design defaults to \"firwin2\" in 0.15 but will change to \"firwin\" in 0.16, set it explicitly to avoid this warning.\n",
      "h_trans_bandwidth chosen to be 2.5 Hz\n",
      "Filter length of 1352 samples (2.641 sec) selected\n",
      "Size of filtered data: (3584, 284)\n",
      "time points :  (3584,)\n",
      "Applying baseline correction (mode: mean)\n",
      "Size norm & filtered data :  (3584, 284)\n"
     ]
    },
    {
     "name": "stderr",
     "output_type": "stream",
     "text": [
      "<ipython-input-5-154bfa86badc>:37: DeprecationWarning: fir_design defaults to \"firwin2\" in 0.15 but will change to \"firwin\" in 0.16, set it explicitly to avoid this warning.\n",
      "  h_freq=low_pass_filter, method='fir', phase='zero-double').swapaxes(0,1)\n"
     ]
    },
    {
     "name": "stdout",
     "output_type": "stream",
     "text": [
      "-> Shape of all trials data to plot :  (23, 284)\n",
      "-> Shape of time vector :  23\n",
      "/media/karim/Datas4To/1_Analyses_Intra_EM_Odor/Olfacto/feature/ERP_Odor_No_Odor/Retrieval/VACJ_ERP_MTG_b10-b9_(5).png\n",
      "data to save (23, 284) cond0 (6, 23, 24) cond1 (6, 23, 260)\n",
      "Setting up low-pass filter at 10 Hz\n",
      "fir_design defaults to \"firwin2\" in 0.15 but will change to \"firwin\" in 0.16, set it explicitly to avoid this warning.\n",
      "h_trans_bandwidth chosen to be 2.5 Hz\n",
      "Filter length of 1352 samples (2.641 sec) selected\n",
      "Size of filtered data: (3584, 284)\n",
      "time points :  (3584,)\n",
      "Applying baseline correction (mode: mean)\n",
      "Size norm & filtered data :  (3584, 284)\n"
     ]
    },
    {
     "name": "stderr",
     "output_type": "stream",
     "text": [
      "<ipython-input-5-154bfa86badc>:37: DeprecationWarning: fir_design defaults to \"firwin2\" in 0.15 but will change to \"firwin\" in 0.16, set it explicitly to avoid this warning.\n",
      "  h_freq=low_pass_filter, method='fir', phase='zero-double').swapaxes(0,1)\n"
     ]
    },
    {
     "name": "stdout",
     "output_type": "stream",
     "text": [
      "-> Shape of all trials data to plot :  (23, 284)\n",
      "-> Shape of time vector :  23\n",
      "/media/karim/Datas4To/1_Analyses_Intra_EM_Odor/Olfacto/feature/ERP_Odor_No_Odor/Retrieval/VACJ_ERP_MTG_b11-b10_(6).png\n",
      "data to save (23, 284) cond0 (7, 23, 24) cond1 (7, 23, 260)\n",
      "Setting up low-pass filter at 10 Hz\n",
      "fir_design defaults to \"firwin2\" in 0.15 but will change to \"firwin\" in 0.16, set it explicitly to avoid this warning.\n",
      "h_trans_bandwidth chosen to be 2.5 Hz\n",
      "Filter length of 1352 samples (2.641 sec) selected\n",
      "Size of filtered data: (3584, 284)\n",
      "time points :  (3584,)\n",
      "Applying baseline correction (mode: mean)\n",
      "Size norm & filtered data :  (3584, 284)\n"
     ]
    },
    {
     "name": "stderr",
     "output_type": "stream",
     "text": [
      "<ipython-input-5-154bfa86badc>:37: DeprecationWarning: fir_design defaults to \"firwin2\" in 0.15 but will change to \"firwin\" in 0.16, set it explicitly to avoid this warning.\n",
      "  h_freq=low_pass_filter, method='fir', phase='zero-double').swapaxes(0,1)\n"
     ]
    },
    {
     "name": "stdout",
     "output_type": "stream",
     "text": [
      "-> Shape of all trials data to plot :  (23, 284)\n",
      "-> Shape of time vector :  23\n",
      "/media/karim/Datas4To/1_Analyses_Intra_EM_Odor/Olfacto/feature/ERP_Odor_No_Odor/Retrieval/VACJ_ERP_MTG_b12-b11_(7).png\n",
      "data to save (23, 284) cond0 (8, 23, 24) cond1 (8, 23, 260)\n",
      "Setting up low-pass filter at 10 Hz\n",
      "fir_design defaults to \"firwin2\" in 0.15 but will change to \"firwin\" in 0.16, set it explicitly to avoid this warning.\n",
      "h_trans_bandwidth chosen to be 2.5 Hz\n",
      "Filter length of 1352 samples (2.641 sec) selected\n",
      "Size of filtered data: (3584, 284)\n",
      "time points :  (3584,)\n",
      "Applying baseline correction (mode: mean)\n",
      "Size norm & filtered data :  (3584, 284)\n"
     ]
    },
    {
     "name": "stderr",
     "output_type": "stream",
     "text": [
      "<ipython-input-5-154bfa86badc>:37: DeprecationWarning: fir_design defaults to \"firwin2\" in 0.15 but will change to \"firwin\" in 0.16, set it explicitly to avoid this warning.\n",
      "  h_freq=low_pass_filter, method='fir', phase='zero-double').swapaxes(0,1)\n"
     ]
    },
    {
     "name": "stdout",
     "output_type": "stream",
     "text": [
      "-> Shape of all trials data to plot :  (23, 284)\n",
      "-> Shape of time vector :  23\n",
      "/media/karim/Datas4To/1_Analyses_Intra_EM_Odor/Olfacto/feature/ERP_Odor_No_Odor/Retrieval/VACJ_ERP_mHC_b'2-b'1_(8).png\n",
      "data to save (23, 284) cond0 (9, 23, 24) cond1 (9, 23, 260)\n",
      "Setting up low-pass filter at 10 Hz\n",
      "fir_design defaults to \"firwin2\" in 0.15 but will change to \"firwin\" in 0.16, set it explicitly to avoid this warning.\n",
      "h_trans_bandwidth chosen to be 2.5 Hz\n",
      "Filter length of 1352 samples (2.641 sec) selected\n"
     ]
    },
    {
     "name": "stderr",
     "output_type": "stream",
     "text": [
      "<ipython-input-5-154bfa86badc>:37: DeprecationWarning: fir_design defaults to \"firwin2\" in 0.15 but will change to \"firwin\" in 0.16, set it explicitly to avoid this warning.\n",
      "  h_freq=low_pass_filter, method='fir', phase='zero-double').swapaxes(0,1)\n"
     ]
    },
    {
     "name": "stdout",
     "output_type": "stream",
     "text": [
      "Size of filtered data: (3584, 284)\n",
      "time points :  (3584,)\n",
      "Applying baseline correction (mode: mean)\n",
      "Size norm & filtered data :  (3584, 284)\n",
      "-> Shape of all trials data to plot :  (23, 284)\n",
      "-> Shape of time vector :  23\n",
      "/media/karim/Datas4To/1_Analyses_Intra_EM_Odor/Olfacto/feature/ERP_Odor_No_Odor/Retrieval/VACJ_ERP_mHC_b'3-b'2_(9).png\n",
      "data to save (23, 284) cond0 (10, 23, 24) cond1 (10, 23, 260)\n",
      "Setting up low-pass filter at 10 Hz\n",
      "fir_design defaults to \"firwin2\" in 0.15 but will change to \"firwin\" in 0.16, set it explicitly to avoid this warning.\n",
      "h_trans_bandwidth chosen to be 2.5 Hz\n",
      "Filter length of 1352 samples (2.641 sec) selected\n",
      "Size of filtered data: (3584, 284)\n",
      "time points :  (3584,)\n",
      "Applying baseline correction (mode: mean)\n",
      "Size norm & filtered data :  (3584, 284)\n"
     ]
    },
    {
     "name": "stderr",
     "output_type": "stream",
     "text": [
      "<ipython-input-5-154bfa86badc>:37: DeprecationWarning: fir_design defaults to \"firwin2\" in 0.15 but will change to \"firwin\" in 0.16, set it explicitly to avoid this warning.\n",
      "  h_freq=low_pass_filter, method='fir', phase='zero-double').swapaxes(0,1)\n"
     ]
    },
    {
     "name": "stdout",
     "output_type": "stream",
     "text": [
      "-> Shape of all trials data to plot :  (23, 284)\n",
      "-> Shape of time vector :  23\n",
      "/media/karim/Datas4To/1_Analyses_Intra_EM_Odor/Olfacto/feature/ERP_Odor_No_Odor/Retrieval/VACJ_ERP_mHC_b'4-b'3_(10).png\n",
      "data to save (23, 284) cond0 (11, 23, 24) cond1 (11, 23, 260)\n",
      "Setting up low-pass filter at 10 Hz\n",
      "fir_design defaults to \"firwin2\" in 0.15 but will change to \"firwin\" in 0.16, set it explicitly to avoid this warning.\n",
      "h_trans_bandwidth chosen to be 2.5 Hz\n",
      "Filter length of 1352 samples (2.641 sec) selected\n"
     ]
    },
    {
     "name": "stderr",
     "output_type": "stream",
     "text": [
      "<ipython-input-5-154bfa86badc>:37: DeprecationWarning: fir_design defaults to \"firwin2\" in 0.15 but will change to \"firwin\" in 0.16, set it explicitly to avoid this warning.\n",
      "  h_freq=low_pass_filter, method='fir', phase='zero-double').swapaxes(0,1)\n"
     ]
    },
    {
     "name": "stdout",
     "output_type": "stream",
     "text": [
      "Size of filtered data: (3584, 284)\n",
      "time points :  (3584,)\n",
      "Applying baseline correction (mode: mean)\n",
      "Size norm & filtered data :  (3584, 284)\n",
      "-> Shape of all trials data to plot :  (23, 284)\n",
      "-> Shape of time vector :  23\n",
      "/media/karim/Datas4To/1_Analyses_Intra_EM_Odor/Olfacto/feature/ERP_Odor_No_Odor/Retrieval/VACJ_ERP_mHC_b'5-b'4_(11).png\n",
      "data to save (23, 284) cond0 (12, 23, 24) cond1 (12, 23, 260)\n",
      "Setting up low-pass filter at 10 Hz\n",
      "fir_design defaults to \"firwin2\" in 0.15 but will change to \"firwin\" in 0.16, set it explicitly to avoid this warning.\n",
      "h_trans_bandwidth chosen to be 2.5 Hz\n",
      "Filter length of 1352 samples (2.641 sec) selected\n",
      "Size of filtered data: (3584, 284)\n",
      "time points :  (3584,)\n",
      "Applying baseline correction (mode: mean)\n",
      "Size norm & filtered data :  (3584, 284)\n"
     ]
    },
    {
     "name": "stderr",
     "output_type": "stream",
     "text": [
      "<ipython-input-5-154bfa86badc>:37: DeprecationWarning: fir_design defaults to \"firwin2\" in 0.15 but will change to \"firwin\" in 0.16, set it explicitly to avoid this warning.\n",
      "  h_freq=low_pass_filter, method='fir', phase='zero-double').swapaxes(0,1)\n"
     ]
    },
    {
     "name": "stdout",
     "output_type": "stream",
     "text": [
      "-> Shape of all trials data to plot :  (23, 284)\n",
      "-> Shape of time vector :  23\n",
      "/media/karim/Datas4To/1_Analyses_Intra_EM_Odor/Olfacto/feature/ERP_Odor_No_Odor/Retrieval/VACJ_ERP_mHC_b'6-b'5_(12).png\n",
      "data to save (23, 284) cond0 (13, 23, 24) cond1 (13, 23, 260)\n",
      "Setting up low-pass filter at 10 Hz\n",
      "fir_design defaults to \"firwin2\" in 0.15 but will change to \"firwin\" in 0.16, set it explicitly to avoid this warning.\n",
      "h_trans_bandwidth chosen to be 2.5 Hz\n",
      "Filter length of 1352 samples (2.641 sec) selected\n",
      "Size of filtered data: (3584, 284)\n",
      "time points :  (3584,)\n",
      "Applying baseline correction (mode: mean)\n",
      "Size norm & filtered data :  (3584, 284)\n"
     ]
    },
    {
     "name": "stderr",
     "output_type": "stream",
     "text": [
      "<ipython-input-5-154bfa86badc>:37: DeprecationWarning: fir_design defaults to \"firwin2\" in 0.15 but will change to \"firwin\" in 0.16, set it explicitly to avoid this warning.\n",
      "  h_freq=low_pass_filter, method='fir', phase='zero-double').swapaxes(0,1)\n"
     ]
    },
    {
     "name": "stdout",
     "output_type": "stream",
     "text": [
      "-> Shape of all trials data to plot :  (23, 284)\n",
      "-> Shape of time vector :  23\n",
      "/media/karim/Datas4To/1_Analyses_Intra_EM_Odor/Olfacto/feature/ERP_Odor_No_Odor/Retrieval/VACJ_ERP_MTG_b'11-b'10_(13).png\n",
      "data to save (23, 284) cond0 (14, 23, 24) cond1 (14, 23, 260)\n",
      "Setting up low-pass filter at 10 Hz\n",
      "fir_design defaults to \"firwin2\" in 0.15 but will change to \"firwin\" in 0.16, set it explicitly to avoid this warning.\n",
      "h_trans_bandwidth chosen to be 2.5 Hz\n",
      "Filter length of 1352 samples (2.641 sec) selected\n"
     ]
    },
    {
     "name": "stderr",
     "output_type": "stream",
     "text": [
      "<ipython-input-5-154bfa86badc>:37: DeprecationWarning: fir_design defaults to \"firwin2\" in 0.15 but will change to \"firwin\" in 0.16, set it explicitly to avoid this warning.\n",
      "  h_freq=low_pass_filter, method='fir', phase='zero-double').swapaxes(0,1)\n"
     ]
    },
    {
     "name": "stdout",
     "output_type": "stream",
     "text": [
      "Size of filtered data: (3584, 284)\n",
      "time points :  (3584,)\n",
      "Applying baseline correction (mode: mean)\n",
      "Size norm & filtered data :  (3584, 284)\n",
      "-> Shape of all trials data to plot :  (23, 284)\n",
      "-> Shape of time vector :  23\n",
      "/media/karim/Datas4To/1_Analyses_Intra_EM_Odor/Olfacto/feature/ERP_Odor_No_Odor/Retrieval/VACJ_ERP_MTG_b'12-b'11_(14).png\n",
      "data to save (23, 284) cond0 (15, 23, 24) cond1 (15, 23, 260)\n",
      "Setting up low-pass filter at 10 Hz\n",
      "fir_design defaults to \"firwin2\" in 0.15 but will change to \"firwin\" in 0.16, set it explicitly to avoid this warning.\n",
      "h_trans_bandwidth chosen to be 2.5 Hz\n",
      "Filter length of 1352 samples (2.641 sec) selected\n",
      "Size of filtered data: (3584, 284)\n",
      "time points :  (3584,)\n",
      "Applying baseline correction (mode: mean)\n",
      "Size norm & filtered data :  (3584, 284)\n"
     ]
    },
    {
     "name": "stderr",
     "output_type": "stream",
     "text": [
      "<ipython-input-5-154bfa86badc>:37: DeprecationWarning: fir_design defaults to \"firwin2\" in 0.15 but will change to \"firwin\" in 0.16, set it explicitly to avoid this warning.\n",
      "  h_freq=low_pass_filter, method='fir', phase='zero-double').swapaxes(0,1)\n"
     ]
    },
    {
     "name": "stdout",
     "output_type": "stream",
     "text": [
      "-> Shape of all trials data to plot :  (23, 284)\n",
      "-> Shape of time vector :  23\n",
      "/media/karim/Datas4To/1_Analyses_Intra_EM_Odor/Olfacto/feature/ERP_Odor_No_Odor/Retrieval/VACJ_ERP_Amg-PRC&Amg_d'2-d'1_(15).png\n",
      "data to save (23, 284) cond0 (16, 23, 24) cond1 (16, 23, 260)\n",
      "Setting up low-pass filter at 10 Hz\n",
      "fir_design defaults to \"firwin2\" in 0.15 but will change to \"firwin\" in 0.16, set it explicitly to avoid this warning.\n",
      "h_trans_bandwidth chosen to be 2.5 Hz\n",
      "Filter length of 1352 samples (2.641 sec) selected\n"
     ]
    },
    {
     "name": "stderr",
     "output_type": "stream",
     "text": [
      "<ipython-input-5-154bfa86badc>:37: DeprecationWarning: fir_design defaults to \"firwin2\" in 0.15 but will change to \"firwin\" in 0.16, set it explicitly to avoid this warning.\n",
      "  h_freq=low_pass_filter, method='fir', phase='zero-double').swapaxes(0,1)\n"
     ]
    },
    {
     "name": "stdout",
     "output_type": "stream",
     "text": [
      "Size of filtered data: (3584, 284)\n",
      "time points :  (3584,)\n",
      "Applying baseline correction (mode: mean)\n",
      "Size norm & filtered data :  (3584, 284)\n",
      "-> Shape of all trials data to plot :  (23, 284)\n",
      "-> Shape of time vector :  23\n",
      "/media/karim/Datas4To/1_Analyses_Intra_EM_Odor/Olfacto/feature/ERP_Odor_No_Odor/Retrieval/VACJ_ERP_Amg-PRC_d'3-d'2_(16).png\n",
      "data to save (23, 284) cond0 (17, 23, 24) cond1 (17, 23, 260)\n",
      "Setting up low-pass filter at 10 Hz\n",
      "fir_design defaults to \"firwin2\" in 0.15 but will change to \"firwin\" in 0.16, set it explicitly to avoid this warning.\n",
      "h_trans_bandwidth chosen to be 2.5 Hz\n",
      "Filter length of 1352 samples (2.641 sec) selected\n"
     ]
    },
    {
     "name": "stderr",
     "output_type": "stream",
     "text": [
      "<ipython-input-5-154bfa86badc>:37: DeprecationWarning: fir_design defaults to \"firwin2\" in 0.15 but will change to \"firwin\" in 0.16, set it explicitly to avoid this warning.\n",
      "  h_freq=low_pass_filter, method='fir', phase='zero-double').swapaxes(0,1)\n"
     ]
    },
    {
     "name": "stdout",
     "output_type": "stream",
     "text": [
      "Size of filtered data: (3584, 284)\n",
      "time points :  (3584,)\n",
      "Applying baseline correction (mode: mean)\n",
      "Size norm & filtered data :  (3584, 284)\n",
      "-> Shape of all trials data to plot :  (23, 284)\n",
      "-> Shape of time vector :  23\n",
      "/media/karim/Datas4To/1_Analyses_Intra_EM_Odor/Olfacto/feature/ERP_Odor_No_Odor/Retrieval/VACJ_ERP_PRC&Amg-PRC_d'4-d'3_(17).png\n",
      "data to save (23, 284) cond0 (18, 23, 24) cond1 (18, 23, 260)\n",
      "Setting up low-pass filter at 10 Hz\n",
      "fir_design defaults to \"firwin2\" in 0.15 but will change to \"firwin\" in 0.16, set it explicitly to avoid this warning.\n",
      "h_trans_bandwidth chosen to be 2.5 Hz\n",
      "Filter length of 1352 samples (2.641 sec) selected\n"
     ]
    },
    {
     "name": "stderr",
     "output_type": "stream",
     "text": [
      "<ipython-input-5-154bfa86badc>:37: DeprecationWarning: fir_design defaults to \"firwin2\" in 0.15 but will change to \"firwin\" in 0.16, set it explicitly to avoid this warning.\n",
      "  h_freq=low_pass_filter, method='fir', phase='zero-double').swapaxes(0,1)\n"
     ]
    },
    {
     "name": "stdout",
     "output_type": "stream",
     "text": [
      "Size of filtered data: (3584, 284)\n",
      "time points :  (3584,)\n",
      "Applying baseline correction (mode: mean)\n",
      "Size norm & filtered data :  (3584, 284)\n",
      "-> Shape of all trials data to plot :  (23, 284)\n",
      "-> Shape of time vector :  23\n",
      "/media/karim/Datas4To/1_Analyses_Intra_EM_Odor/Olfacto/feature/ERP_Odor_No_Odor/Retrieval/VACJ_ERP_MTG_d'9-d'8_(18).png\n",
      "data to save (23, 284) cond0 (19, 23, 24) cond1 (19, 23, 260)\n",
      "Setting up low-pass filter at 10 Hz\n",
      "fir_design defaults to \"firwin2\" in 0.15 but will change to \"firwin\" in 0.16, set it explicitly to avoid this warning.\n",
      "h_trans_bandwidth chosen to be 2.5 Hz\n",
      "Filter length of 1352 samples (2.641 sec) selected\n"
     ]
    },
    {
     "name": "stderr",
     "output_type": "stream",
     "text": [
      "<ipython-input-5-154bfa86badc>:37: DeprecationWarning: fir_design defaults to \"firwin2\" in 0.15 but will change to \"firwin\" in 0.16, set it explicitly to avoid this warning.\n",
      "  h_freq=low_pass_filter, method='fir', phase='zero-double').swapaxes(0,1)\n"
     ]
    },
    {
     "name": "stdout",
     "output_type": "stream",
     "text": [
      "Size of filtered data: (3584, 284)\n",
      "time points :  (3584,)\n",
      "Applying baseline correction (mode: mean)\n",
      "Size norm & filtered data :  (3584, 284)\n",
      "-> Shape of all trials data to plot :  (23, 284)\n",
      "-> Shape of time vector :  23\n",
      "/media/karim/Datas4To/1_Analyses_Intra_EM_Odor/Olfacto/feature/ERP_Odor_No_Odor/Retrieval/VACJ_ERP_MTG_d'10-d'9_(19).png\n",
      "data to save (23, 284) cond0 (20, 23, 24) cond1 (20, 23, 260)\n",
      "Setting up low-pass filter at 10 Hz\n",
      "fir_design defaults to \"firwin2\" in 0.15 but will change to \"firwin\" in 0.16, set it explicitly to avoid this warning.\n",
      "h_trans_bandwidth chosen to be 2.5 Hz\n",
      "Filter length of 1352 samples (2.641 sec) selected\n",
      "Size of filtered data: (3584, 284)\n",
      "time points :  (3584,)\n",
      "Applying baseline correction (mode: mean)\n",
      "Size norm & filtered data :  (3584, 284)\n"
     ]
    },
    {
     "name": "stderr",
     "output_type": "stream",
     "text": [
      "<ipython-input-5-154bfa86badc>:37: DeprecationWarning: fir_design defaults to \"firwin2\" in 0.15 but will change to \"firwin\" in 0.16, set it explicitly to avoid this warning.\n",
      "  h_freq=low_pass_filter, method='fir', phase='zero-double').swapaxes(0,1)\n"
     ]
    },
    {
     "name": "stdout",
     "output_type": "stream",
     "text": [
      "-> Shape of all trials data to plot :  (23, 284)\n",
      "-> Shape of time vector :  23\n",
      "/media/karim/Datas4To/1_Analyses_Intra_EM_Odor/Olfacto/feature/ERP_Odor_No_Odor/Retrieval/VACJ_ERP_MTG_d'11-d'10_(20).png\n",
      "data to save (23, 284) cond0 (21, 23, 24) cond1 (21, 23, 260)\n",
      "Setting up low-pass filter at 10 Hz\n",
      "fir_design defaults to \"firwin2\" in 0.15 but will change to \"firwin\" in 0.16, set it explicitly to avoid this warning.\n",
      "h_trans_bandwidth chosen to be 2.5 Hz\n",
      "Filter length of 1352 samples (2.641 sec) selected\n",
      "Size of filtered data: (3584, 284)\n",
      "time points :  (3584,)\n",
      "Applying baseline correction (mode: mean)\n",
      "Size norm & filtered data :  (3584, 284)\n"
     ]
    },
    {
     "name": "stderr",
     "output_type": "stream",
     "text": [
      "<ipython-input-5-154bfa86badc>:37: DeprecationWarning: fir_design defaults to \"firwin2\" in 0.15 but will change to \"firwin\" in 0.16, set it explicitly to avoid this warning.\n",
      "  h_freq=low_pass_filter, method='fir', phase='zero-double').swapaxes(0,1)\n"
     ]
    },
    {
     "name": "stdout",
     "output_type": "stream",
     "text": [
      "-> Shape of all trials data to plot :  (23, 284)\n",
      "-> Shape of time vector :  23\n",
      "/media/karim/Datas4To/1_Analyses_Intra_EM_Odor/Olfacto/feature/ERP_Odor_No_Odor/Retrieval/VACJ_ERP_MTG_d'12-d'11_(21).png\n",
      "data to save (23, 284) cond0 (22, 23, 24) cond1 (22, 23, 260)\n",
      "Setting up low-pass filter at 10 Hz\n",
      "fir_design defaults to \"firwin2\" in 0.15 but will change to \"firwin\" in 0.16, set it explicitly to avoid this warning.\n",
      "h_trans_bandwidth chosen to be 2.5 Hz\n",
      "Filter length of 1352 samples (2.641 sec) selected\n"
     ]
    },
    {
     "name": "stderr",
     "output_type": "stream",
     "text": [
      "<ipython-input-5-154bfa86badc>:37: DeprecationWarning: fir_design defaults to \"firwin2\" in 0.15 but will change to \"firwin\" in 0.16, set it explicitly to avoid this warning.\n",
      "  h_freq=low_pass_filter, method='fir', phase='zero-double').swapaxes(0,1)\n"
     ]
    },
    {
     "name": "stdout",
     "output_type": "stream",
     "text": [
      "Size of filtered data: (3584, 284)\n",
      "time points :  (3584,)\n",
      "Applying baseline correction (mode: mean)\n",
      "Size norm & filtered data :  (3584, 284)\n",
      "-> Shape of all trials data to plot :  (23, 284)\n",
      "-> Shape of time vector :  23\n",
      "/media/karim/Datas4To/1_Analyses_Intra_EM_Odor/Olfacto/feature/ERP_Odor_No_Odor/Retrieval/VACJ_ERP_IFGOp-IG_e'2-e'1_(22).png\n",
      "data to save (23, 284) cond0 (23, 23, 24) cond1 (23, 23, 260)\n",
      "Setting up low-pass filter at 10 Hz\n",
      "fir_design defaults to \"firwin2\" in 0.15 but will change to \"firwin\" in 0.16, set it explicitly to avoid this warning.\n",
      "h_trans_bandwidth chosen to be 2.5 Hz\n",
      "Filter length of 1352 samples (2.641 sec) selected\n"
     ]
    },
    {
     "name": "stderr",
     "output_type": "stream",
     "text": [
      "<ipython-input-5-154bfa86badc>:37: DeprecationWarning: fir_design defaults to \"firwin2\" in 0.15 but will change to \"firwin\" in 0.16, set it explicitly to avoid this warning.\n",
      "  h_freq=low_pass_filter, method='fir', phase='zero-double').swapaxes(0,1)\n"
     ]
    },
    {
     "name": "stdout",
     "output_type": "stream",
     "text": [
      "Size of filtered data: (3584, 284)\n",
      "time points :  (3584,)\n",
      "Applying baseline correction (mode: mean)\n",
      "Size norm & filtered data :  (3584, 284)\n",
      "-> Shape of all trials data to plot :  (23, 284)\n",
      "-> Shape of time vector :  23\n",
      "/media/karim/Datas4To/1_Analyses_Intra_EM_Odor/Olfacto/feature/ERP_Odor_No_Odor/Retrieval/VACJ_ERP_IFGOp-IFGTr&IFGOp-IG_e'3-e'2_(23).png\n",
      "data to save (23, 284) cond0 (24, 23, 24) cond1 (24, 23, 260)\n",
      "Setting up low-pass filter at 10 Hz\n",
      "fir_design defaults to \"firwin2\" in 0.15 but will change to \"firwin\" in 0.16, set it explicitly to avoid this warning.\n",
      "h_trans_bandwidth chosen to be 2.5 Hz\n",
      "Filter length of 1352 samples (2.641 sec) selected\n",
      "Size of filtered data: (3584, 284)\n",
      "time points :  (3584,)\n",
      "Applying baseline correction (mode: mean)\n"
     ]
    },
    {
     "name": "stderr",
     "output_type": "stream",
     "text": [
      "<ipython-input-5-154bfa86badc>:37: DeprecationWarning: fir_design defaults to \"firwin2\" in 0.15 but will change to \"firwin\" in 0.16, set it explicitly to avoid this warning.\n",
      "  h_freq=low_pass_filter, method='fir', phase='zero-double').swapaxes(0,1)\n"
     ]
    },
    {
     "name": "stdout",
     "output_type": "stream",
     "text": [
      "Size norm & filtered data :  (3584, 284)\n",
      "-> Shape of all trials data to plot :  (23, 284)\n",
      "-> Shape of time vector :  23\n",
      "/media/karim/Datas4To/1_Analyses_Intra_EM_Odor/Olfacto/feature/ERP_Odor_No_Odor/Retrieval/VACJ_ERP_IFGOp-IFGTr_e'4-e'3_(24).png\n",
      "data to save (23, 284) cond0 (25, 23, 24) cond1 (25, 23, 260)\n",
      "Setting up low-pass filter at 10 Hz\n",
      "fir_design defaults to \"firwin2\" in 0.15 but will change to \"firwin\" in 0.16, set it explicitly to avoid this warning.\n",
      "h_trans_bandwidth chosen to be 2.5 Hz\n",
      "Filter length of 1352 samples (2.641 sec) selected\n",
      "Size of filtered data: (3584, 284)\n",
      "time points :  (3584,)\n",
      "Applying baseline correction (mode: mean)\n"
     ]
    },
    {
     "name": "stderr",
     "output_type": "stream",
     "text": [
      "<ipython-input-5-154bfa86badc>:37: DeprecationWarning: fir_design defaults to \"firwin2\" in 0.15 but will change to \"firwin\" in 0.16, set it explicitly to avoid this warning.\n",
      "  h_freq=low_pass_filter, method='fir', phase='zero-double').swapaxes(0,1)\n"
     ]
    },
    {
     "name": "stdout",
     "output_type": "stream",
     "text": [
      "Size norm & filtered data :  (3584, 284)\n",
      "-> Shape of all trials data to plot :  (23, 284)\n",
      "-> Shape of time vector :  23\n",
      "/media/karim/Datas4To/1_Analyses_Intra_EM_Odor/Olfacto/feature/ERP_Odor_No_Odor/Retrieval/VACJ_ERP_IFGOp-IFGTr_e'5-e'4_(25).png\n",
      "data to save (23, 284) cond0 (26, 23, 24) cond1 (26, 23, 260)\n",
      "Setting up low-pass filter at 10 Hz\n",
      "fir_design defaults to \"firwin2\" in 0.15 but will change to \"firwin\" in 0.16, set it explicitly to avoid this warning.\n",
      "h_trans_bandwidth chosen to be 2.5 Hz\n",
      "Filter length of 1352 samples (2.641 sec) selected\n"
     ]
    },
    {
     "name": "stderr",
     "output_type": "stream",
     "text": [
      "<ipython-input-5-154bfa86badc>:37: DeprecationWarning: fir_design defaults to \"firwin2\" in 0.15 but will change to \"firwin\" in 0.16, set it explicitly to avoid this warning.\n",
      "  h_freq=low_pass_filter, method='fir', phase='zero-double').swapaxes(0,1)\n"
     ]
    },
    {
     "name": "stdout",
     "output_type": "stream",
     "text": [
      "Size of filtered data: (3584, 284)\n",
      "time points :  (3584,)\n",
      "Applying baseline correction (mode: mean)\n",
      "Size norm & filtered data :  (3584, 284)\n",
      "-> Shape of all trials data to plot :  (23, 284)\n",
      "-> Shape of time vector :  23\n",
      "/media/karim/Datas4To/1_Analyses_Intra_EM_Odor/Olfacto/feature/ERP_Odor_No_Odor/Retrieval/VACJ_ERP_IFGOp-IFGTr_e'9-e'8_(26).png\n",
      "data to save (23, 284) cond0 (27, 23, 24) cond1 (27, 23, 260)\n",
      "Setting up low-pass filter at 10 Hz\n",
      "fir_design defaults to \"firwin2\" in 0.15 but will change to \"firwin\" in 0.16, set it explicitly to avoid this warning.\n",
      "h_trans_bandwidth chosen to be 2.5 Hz\n",
      "Filter length of 1352 samples (2.641 sec) selected\n",
      "Size of filtered data: (3584, 284)\n",
      "time points :  (3584,)\n",
      "Applying baseline correction (mode: mean)\n",
      "Size norm & filtered data :  (3584, 284)\n"
     ]
    },
    {
     "name": "stderr",
     "output_type": "stream",
     "text": [
      "<ipython-input-5-154bfa86badc>:37: DeprecationWarning: fir_design defaults to \"firwin2\" in 0.15 but will change to \"firwin\" in 0.16, set it explicitly to avoid this warning.\n",
      "  h_freq=low_pass_filter, method='fir', phase='zero-double').swapaxes(0,1)\n"
     ]
    },
    {
     "name": "stdout",
     "output_type": "stream",
     "text": [
      "-> Shape of all trials data to plot :  (23, 284)\n",
      "-> Shape of time vector :  23\n",
      "/media/karim/Datas4To/1_Analyses_Intra_EM_Odor/Olfacto/feature/ERP_Odor_No_Odor/Retrieval/VACJ_ERP_SRoG_f2-f1_(27).png\n",
      "data to save (23, 284) cond0 (28, 23, 24) cond1 (28, 23, 260)\n",
      "Setting up low-pass filter at 10 Hz\n",
      "fir_design defaults to \"firwin2\" in 0.15 but will change to \"firwin\" in 0.16, set it explicitly to avoid this warning.\n",
      "h_trans_bandwidth chosen to be 2.5 Hz\n",
      "Filter length of 1352 samples (2.641 sec) selected\n"
     ]
    },
    {
     "name": "stderr",
     "output_type": "stream",
     "text": [
      "<ipython-input-5-154bfa86badc>:37: DeprecationWarning: fir_design defaults to \"firwin2\" in 0.15 but will change to \"firwin\" in 0.16, set it explicitly to avoid this warning.\n",
      "  h_freq=low_pass_filter, method='fir', phase='zero-double').swapaxes(0,1)\n"
     ]
    },
    {
     "name": "stdout",
     "output_type": "stream",
     "text": [
      "Size of filtered data: (3584, 284)\n",
      "time points :  (3584,)\n",
      "Applying baseline correction (mode: mean)\n",
      "Size norm & filtered data :  (3584, 284)\n",
      "-> Shape of all trials data to plot :  (23, 284)\n",
      "-> Shape of time vector :  23\n",
      "/media/karim/Datas4To/1_Analyses_Intra_EM_Odor/Olfacto/feature/ERP_Odor_No_Odor/Retrieval/VACJ_ERP_MFG_f10-f9_(28).png\n",
      "data to save (23, 284) cond0 (29, 23, 24) cond1 (29, 23, 260)\n",
      "Setting up low-pass filter at 10 Hz\n",
      "fir_design defaults to \"firwin2\" in 0.15 but will change to \"firwin\" in 0.16, set it explicitly to avoid this warning.\n",
      "h_trans_bandwidth chosen to be 2.5 Hz\n",
      "Filter length of 1352 samples (2.641 sec) selected\n"
     ]
    },
    {
     "name": "stderr",
     "output_type": "stream",
     "text": [
      "<ipython-input-5-154bfa86badc>:37: DeprecationWarning: fir_design defaults to \"firwin2\" in 0.15 but will change to \"firwin\" in 0.16, set it explicitly to avoid this warning.\n",
      "  h_freq=low_pass_filter, method='fir', phase='zero-double').swapaxes(0,1)\n"
     ]
    },
    {
     "name": "stdout",
     "output_type": "stream",
     "text": [
      "Size of filtered data: (3584, 284)\n",
      "time points :  (3584,)\n",
      "Applying baseline correction (mode: mean)\n",
      "Size norm & filtered data :  (3584, 284)\n",
      "-> Shape of all trials data to plot :  (23, 284)\n",
      "-> Shape of time vector :  23\n",
      "/media/karim/Datas4To/1_Analyses_Intra_EM_Odor/Olfacto/feature/ERP_Odor_No_Odor/Retrieval/VACJ_ERP_MFG_f11-f10_(29).png\n",
      "data to save (23, 284) cond0 (30, 23, 24) cond1 (30, 23, 260)\n",
      "Setting up low-pass filter at 10 Hz\n",
      "fir_design defaults to \"firwin2\" in 0.15 but will change to \"firwin\" in 0.16, set it explicitly to avoid this warning.\n",
      "h_trans_bandwidth chosen to be 2.5 Hz\n",
      "Filter length of 1352 samples (2.641 sec) selected\n",
      "Size of filtered data: (3584, 284)\n",
      "time points :  (3584,)\n",
      "Applying baseline correction (mode: mean)\n"
     ]
    },
    {
     "name": "stderr",
     "output_type": "stream",
     "text": [
      "<ipython-input-5-154bfa86badc>:37: DeprecationWarning: fir_design defaults to \"firwin2\" in 0.15 but will change to \"firwin\" in 0.16, set it explicitly to avoid this warning.\n",
      "  h_freq=low_pass_filter, method='fir', phase='zero-double').swapaxes(0,1)\n"
     ]
    },
    {
     "name": "stdout",
     "output_type": "stream",
     "text": [
      "Size norm & filtered data :  (3584, 284)\n",
      "-> Shape of all trials data to plot :  (23, 284)\n",
      "-> Shape of time vector :  23\n",
      "/media/karim/Datas4To/1_Analyses_Intra_EM_Odor/Olfacto/feature/ERP_Odor_No_Odor/Retrieval/VACJ_ERP_MTG_j4-j3_(30).png\n",
      "data to save (23, 284) cond0 (31, 23, 24) cond1 (31, 23, 260)\n",
      "Setting up low-pass filter at 10 Hz\n",
      "fir_design defaults to \"firwin2\" in 0.15 but will change to \"firwin\" in 0.16, set it explicitly to avoid this warning.\n",
      "h_trans_bandwidth chosen to be 2.5 Hz\n",
      "Filter length of 1352 samples (2.641 sec) selected\n"
     ]
    },
    {
     "name": "stderr",
     "output_type": "stream",
     "text": [
      "<ipython-input-5-154bfa86badc>:37: DeprecationWarning: fir_design defaults to \"firwin2\" in 0.15 but will change to \"firwin\" in 0.16, set it explicitly to avoid this warning.\n",
      "  h_freq=low_pass_filter, method='fir', phase='zero-double').swapaxes(0,1)\n"
     ]
    },
    {
     "name": "stdout",
     "output_type": "stream",
     "text": [
      "Size of filtered data: (3584, 284)\n",
      "time points :  (3584,)\n",
      "Applying baseline correction (mode: mean)\n",
      "Size norm & filtered data :  (3584, 284)\n",
      "-> Shape of all trials data to plot :  (23, 284)\n",
      "-> Shape of time vector :  23\n",
      "/media/karim/Datas4To/1_Analyses_Intra_EM_Odor/Olfacto/feature/ERP_Odor_No_Odor/Retrieval/VACJ_ERP_pPirtT&pPirT-Ent_j'2-j'1_(31).png\n",
      "data to save (23, 284) cond0 (32, 23, 24) cond1 (32, 23, 260)\n",
      "Setting up low-pass filter at 10 Hz\n",
      "fir_design defaults to \"firwin2\" in 0.15 but will change to \"firwin\" in 0.16, set it explicitly to avoid this warning.\n",
      "h_trans_bandwidth chosen to be 2.5 Hz\n",
      "Filter length of 1352 samples (2.641 sec) selected\n",
      "Size of filtered data: (3584, 284)\n",
      "time points :  (3584,)\n",
      "Applying baseline correction (mode: mean)\n",
      "Size norm & filtered data :  (3584, 284)\n"
     ]
    },
    {
     "name": "stderr",
     "output_type": "stream",
     "text": [
      "<ipython-input-5-154bfa86badc>:37: DeprecationWarning: fir_design defaults to \"firwin2\" in 0.15 but will change to \"firwin\" in 0.16, set it explicitly to avoid this warning.\n",
      "  h_freq=low_pass_filter, method='fir', phase='zero-double').swapaxes(0,1)\n"
     ]
    },
    {
     "name": "stdout",
     "output_type": "stream",
     "text": [
      "-> Shape of all trials data to plot :  (23, 284)\n",
      "-> Shape of time vector :  23\n",
      "/media/karim/Datas4To/1_Analyses_Intra_EM_Odor/Olfacto/feature/ERP_Odor_No_Odor/Retrieval/VACJ_ERP_pgACC_k2-k1_(32).png\n",
      "data to save (23, 284) cond0 (33, 23, 24) cond1 (33, 23, 260)\n",
      "Setting up low-pass filter at 10 Hz\n",
      "fir_design defaults to \"firwin2\" in 0.15 but will change to \"firwin\" in 0.16, set it explicitly to avoid this warning.\n",
      "h_trans_bandwidth chosen to be 2.5 Hz\n",
      "Filter length of 1352 samples (2.641 sec) selected\n",
      "Size of filtered data: (3584, 284)\n",
      "time points :  (3584,)\n",
      "Applying baseline correction (mode: mean)\n",
      "Size norm & filtered data :  (3584, 284)\n"
     ]
    },
    {
     "name": "stderr",
     "output_type": "stream",
     "text": [
      "<ipython-input-5-154bfa86badc>:37: DeprecationWarning: fir_design defaults to \"firwin2\" in 0.15 but will change to \"firwin\" in 0.16, set it explicitly to avoid this warning.\n",
      "  h_freq=low_pass_filter, method='fir', phase='zero-double').swapaxes(0,1)\n"
     ]
    },
    {
     "name": "stdout",
     "output_type": "stream",
     "text": [
      "-> Shape of all trials data to plot :  (23, 284)\n",
      "-> Shape of time vector :  23\n",
      "/media/karim/Datas4To/1_Analyses_Intra_EM_Odor/Olfacto/feature/ERP_Odor_No_Odor/Retrieval/VACJ_ERP_MFG_k8-k7_(33).png\n",
      "data to save (23, 284) cond0 (34, 23, 24) cond1 (34, 23, 260)\n",
      "Setting up low-pass filter at 10 Hz\n",
      "fir_design defaults to \"firwin2\" in 0.15 but will change to \"firwin\" in 0.16, set it explicitly to avoid this warning.\n",
      "h_trans_bandwidth chosen to be 2.5 Hz\n",
      "Filter length of 1352 samples (2.641 sec) selected\n",
      "Size of filtered data: (3584, 284)\n",
      "time points :  (3584,)\n",
      "Applying baseline correction (mode: mean)\n",
      "Size norm & filtered data :  (3584, 284)\n"
     ]
    },
    {
     "name": "stderr",
     "output_type": "stream",
     "text": [
      "<ipython-input-5-154bfa86badc>:37: DeprecationWarning: fir_design defaults to \"firwin2\" in 0.15 but will change to \"firwin\" in 0.16, set it explicitly to avoid this warning.\n",
      "  h_freq=low_pass_filter, method='fir', phase='zero-double').swapaxes(0,1)\n"
     ]
    },
    {
     "name": "stdout",
     "output_type": "stream",
     "text": [
      "-> Shape of all trials data to plot :  (23, 284)\n",
      "-> Shape of time vector :  23\n",
      "/media/karim/Datas4To/1_Analyses_Intra_EM_Odor/Olfacto/feature/ERP_Odor_No_Odor/Retrieval/VACJ_ERP_MFG_k9-k8_(34).png\n",
      "data to save (23, 284) cond0 (35, 23, 24) cond1 (35, 23, 260)\n",
      "Setting up low-pass filter at 10 Hz\n",
      "fir_design defaults to \"firwin2\" in 0.15 but will change to \"firwin\" in 0.16, set it explicitly to avoid this warning.\n",
      "h_trans_bandwidth chosen to be 2.5 Hz\n",
      "Filter length of 1352 samples (2.641 sec) selected\n"
     ]
    },
    {
     "name": "stderr",
     "output_type": "stream",
     "text": [
      "<ipython-input-5-154bfa86badc>:37: DeprecationWarning: fir_design defaults to \"firwin2\" in 0.15 but will change to \"firwin\" in 0.16, set it explicitly to avoid this warning.\n",
      "  h_freq=low_pass_filter, method='fir', phase='zero-double').swapaxes(0,1)\n"
     ]
    },
    {
     "name": "stdout",
     "output_type": "stream",
     "text": [
      "Size of filtered data: (3584, 284)\n",
      "time points :  (3584,)\n",
      "Applying baseline correction (mode: mean)\n",
      "Size norm & filtered data :  (3584, 284)\n",
      "-> Shape of all trials data to plot :  (23, 284)\n",
      "-> Shape of time vector :  23\n",
      "/media/karim/Datas4To/1_Analyses_Intra_EM_Odor/Olfacto/feature/ERP_Odor_No_Odor/Retrieval/VACJ_ERP_MFG_k10-k9_(35).png\n",
      "data to save (23, 284) cond0 (36, 23, 24) cond1 (36, 23, 260)\n",
      "Setting up low-pass filter at 10 Hz\n",
      "fir_design defaults to \"firwin2\" in 0.15 but will change to \"firwin\" in 0.16, set it explicitly to avoid this warning.\n",
      "h_trans_bandwidth chosen to be 2.5 Hz\n",
      "Filter length of 1352 samples (2.641 sec) selected\n"
     ]
    },
    {
     "name": "stderr",
     "output_type": "stream",
     "text": [
      "<ipython-input-5-154bfa86badc>:37: DeprecationWarning: fir_design defaults to \"firwin2\" in 0.15 but will change to \"firwin\" in 0.16, set it explicitly to avoid this warning.\n",
      "  h_freq=low_pass_filter, method='fir', phase='zero-double').swapaxes(0,1)\n"
     ]
    },
    {
     "name": "stdout",
     "output_type": "stream",
     "text": [
      "Size of filtered data: (3584, 284)\n",
      "time points :  (3584,)\n",
      "Applying baseline correction (mode: mean)\n",
      "Size norm & filtered data :  (3584, 284)\n",
      "-> Shape of all trials data to plot :  (23, 284)\n",
      "-> Shape of time vector :  23\n",
      "/media/karim/Datas4To/1_Analyses_Intra_EM_Odor/Olfacto/feature/ERP_Odor_No_Odor/Retrieval/VACJ_ERP_MFG_k11-k10_(36).png\n",
      "data to save (23, 284) cond0 (37, 23, 24) cond1 (37, 23, 260)\n",
      "Setting up low-pass filter at 10 Hz\n",
      "fir_design defaults to \"firwin2\" in 0.15 but will change to \"firwin\" in 0.16, set it explicitly to avoid this warning.\n",
      "h_trans_bandwidth chosen to be 2.5 Hz\n",
      "Filter length of 1352 samples (2.641 sec) selected\n"
     ]
    },
    {
     "name": "stderr",
     "output_type": "stream",
     "text": [
      "<ipython-input-5-154bfa86badc>:37: DeprecationWarning: fir_design defaults to \"firwin2\" in 0.15 but will change to \"firwin\" in 0.16, set it explicitly to avoid this warning.\n",
      "  h_freq=low_pass_filter, method='fir', phase='zero-double').swapaxes(0,1)\n"
     ]
    },
    {
     "name": "stdout",
     "output_type": "stream",
     "text": [
      "Size of filtered data: (3584, 284)\n",
      "time points :  (3584,)\n",
      "Applying baseline correction (mode: mean)\n",
      "Size norm & filtered data :  (3584, 284)\n",
      "-> Shape of all trials data to plot :  (23, 284)\n",
      "-> Shape of time vector :  23\n",
      "/media/karim/Datas4To/1_Analyses_Intra_EM_Odor/Olfacto/feature/ERP_Odor_No_Odor/Retrieval/VACJ_ERP_MFG_k12-k11_(37).png\n",
      "data to save (23, 284) cond0 (38, 23, 24) cond1 (38, 23, 260)\n",
      "Setting up low-pass filter at 10 Hz\n",
      "fir_design defaults to \"firwin2\" in 0.15 but will change to \"firwin\" in 0.16, set it explicitly to avoid this warning.\n",
      "h_trans_bandwidth chosen to be 2.5 Hz\n",
      "Filter length of 1352 samples (2.641 sec) selected\n",
      "Size of filtered data: (3584, 284)\n",
      "time points :  (3584,)\n",
      "Applying baseline correction (mode: mean)\n",
      "Size norm & filtered data :  (3584, 284)\n"
     ]
    },
    {
     "name": "stderr",
     "output_type": "stream",
     "text": [
      "<ipython-input-5-154bfa86badc>:37: DeprecationWarning: fir_design defaults to \"firwin2\" in 0.15 but will change to \"firwin\" in 0.16, set it explicitly to avoid this warning.\n",
      "  h_freq=low_pass_filter, method='fir', phase='zero-double').swapaxes(0,1)\n"
     ]
    },
    {
     "name": "stdout",
     "output_type": "stream",
     "text": [
      "-> Shape of all trials data to plot :  (23, 284)\n",
      "-> Shape of time vector :  23\n",
      "/media/karim/Datas4To/1_Analyses_Intra_EM_Odor/Olfacto/feature/ERP_Odor_No_Odor/Retrieval/VACJ_ERP_MFG_k13-k12_(38).png\n",
      "data to save (23, 284) cond0 (39, 23, 24) cond1 (39, 23, 260)\n",
      "Setting up low-pass filter at 10 Hz\n",
      "fir_design defaults to \"firwin2\" in 0.15 but will change to \"firwin\" in 0.16, set it explicitly to avoid this warning.\n",
      "h_trans_bandwidth chosen to be 2.5 Hz\n",
      "Filter length of 1352 samples (2.641 sec) selected\n",
      "Size of filtered data: (3584, 284)\n",
      "time points :  (3584,)\n",
      "Applying baseline correction (mode: mean)\n"
     ]
    },
    {
     "name": "stderr",
     "output_type": "stream",
     "text": [
      "<ipython-input-5-154bfa86badc>:37: DeprecationWarning: fir_design defaults to \"firwin2\" in 0.15 but will change to \"firwin\" in 0.16, set it explicitly to avoid this warning.\n",
      "  h_freq=low_pass_filter, method='fir', phase='zero-double').swapaxes(0,1)\n"
     ]
    },
    {
     "name": "stdout",
     "output_type": "stream",
     "text": [
      "Size norm & filtered data :  (3584, 284)\n",
      "-> Shape of all trials data to plot :  (23, 284)\n",
      "-> Shape of time vector :  23\n",
      "/media/karim/Datas4To/1_Analyses_Intra_EM_Odor/Olfacto/feature/ERP_Odor_No_Odor/Retrieval/VACJ_ERP_pgACC_k'2-k'1_(39).png\n",
      "data to save (23, 284) cond0 (40, 23, 24) cond1 (40, 23, 260)\n",
      "Setting up low-pass filter at 10 Hz\n",
      "fir_design defaults to \"firwin2\" in 0.15 but will change to \"firwin\" in 0.16, set it explicitly to avoid this warning.\n",
      "h_trans_bandwidth chosen to be 2.5 Hz\n",
      "Filter length of 1352 samples (2.641 sec) selected\n"
     ]
    },
    {
     "name": "stderr",
     "output_type": "stream",
     "text": [
      "<ipython-input-5-154bfa86badc>:37: DeprecationWarning: fir_design defaults to \"firwin2\" in 0.15 but will change to \"firwin\" in 0.16, set it explicitly to avoid this warning.\n",
      "  h_freq=low_pass_filter, method='fir', phase='zero-double').swapaxes(0,1)\n"
     ]
    },
    {
     "name": "stdout",
     "output_type": "stream",
     "text": [
      "Size of filtered data: (3584, 284)\n",
      "time points :  (3584,)\n",
      "Applying baseline correction (mode: mean)\n",
      "Size norm & filtered data :  (3584, 284)\n",
      "-> Shape of all trials data to plot :  (23, 284)\n",
      "-> Shape of time vector :  23\n",
      "/media/karim/Datas4To/1_Analyses_Intra_EM_Odor/Olfacto/feature/ERP_Odor_No_Odor/Retrieval/VACJ_ERP_IFGTr_k'12-k'11_(40).png\n",
      "data to save (23, 284) cond0 (41, 23, 24) cond1 (41, 23, 260)\n",
      "Setting up low-pass filter at 10 Hz\n",
      "fir_design defaults to \"firwin2\" in 0.15 but will change to \"firwin\" in 0.16, set it explicitly to avoid this warning.\n",
      "h_trans_bandwidth chosen to be 2.5 Hz\n",
      "Filter length of 1352 samples (2.641 sec) selected\n"
     ]
    },
    {
     "name": "stderr",
     "output_type": "stream",
     "text": [
      "<ipython-input-5-154bfa86badc>:37: DeprecationWarning: fir_design defaults to \"firwin2\" in 0.15 but will change to \"firwin\" in 0.16, set it explicitly to avoid this warning.\n",
      "  h_freq=low_pass_filter, method='fir', phase='zero-double').swapaxes(0,1)\n"
     ]
    },
    {
     "name": "stdout",
     "output_type": "stream",
     "text": [
      "Size of filtered data: (3584, 284)\n",
      "time points :  (3584,)\n",
      "Applying baseline correction (mode: mean)\n",
      "Size norm & filtered data :  (3584, 284)\n",
      "-> Shape of all trials data to plot :  (23, 284)\n",
      "-> Shape of time vector :  23\n",
      "/media/karim/Datas4To/1_Analyses_Intra_EM_Odor/Olfacto/feature/ERP_Odor_No_Odor/Retrieval/VACJ_ERP_IFGTr_k'13-k'12_(41).png\n",
      "data to save (23, 284) cond0 (42, 23, 24) cond1 (42, 23, 260)\n",
      "Setting up low-pass filter at 10 Hz\n",
      "fir_design defaults to \"firwin2\" in 0.15 but will change to \"firwin\" in 0.16, set it explicitly to avoid this warning.\n",
      "h_trans_bandwidth chosen to be 2.5 Hz\n",
      "Filter length of 1352 samples (2.641 sec) selected\n",
      "Size of filtered data: (3584, 284)\n",
      "time points :  (3584,)\n",
      "Applying baseline correction (mode: mean)\n",
      "Size norm & filtered data :  (3584, 284)\n"
     ]
    },
    {
     "name": "stderr",
     "output_type": "stream",
     "text": [
      "<ipython-input-5-154bfa86badc>:37: DeprecationWarning: fir_design defaults to \"firwin2\" in 0.15 but will change to \"firwin\" in 0.16, set it explicitly to avoid this warning.\n",
      "  h_freq=low_pass_filter, method='fir', phase='zero-double').swapaxes(0,1)\n"
     ]
    },
    {
     "name": "stdout",
     "output_type": "stream",
     "text": [
      "-> Shape of all trials data to plot :  (23, 284)\n",
      "-> Shape of time vector :  23\n",
      "/media/karim/Datas4To/1_Analyses_Intra_EM_Odor/Olfacto/feature/ERP_Odor_No_Odor/Retrieval/VACJ_ERP_IFGTr_k'14-k'13_(42).png\n",
      "data to save (23, 284) cond0 (43, 23, 24) cond1 (43, 23, 260)\n",
      "Setting up low-pass filter at 10 Hz\n",
      "fir_design defaults to \"firwin2\" in 0.15 but will change to \"firwin\" in 0.16, set it explicitly to avoid this warning.\n",
      "h_trans_bandwidth chosen to be 2.5 Hz\n",
      "Filter length of 1352 samples (2.641 sec) selected\n",
      "Size of filtered data: (3584, 284)\n",
      "time points :  (3584,)\n",
      "Applying baseline correction (mode: mean)\n",
      "Size norm & filtered data :  (3584, 284)\n"
     ]
    },
    {
     "name": "stderr",
     "output_type": "stream",
     "text": [
      "<ipython-input-5-154bfa86badc>:37: DeprecationWarning: fir_design defaults to \"firwin2\" in 0.15 but will change to \"firwin\" in 0.16, set it explicitly to avoid this warning.\n",
      "  h_freq=low_pass_filter, method='fir', phase='zero-double').swapaxes(0,1)\n"
     ]
    },
    {
     "name": "stdout",
     "output_type": "stream",
     "text": [
      "-> Shape of all trials data to plot :  (23, 284)\n",
      "-> Shape of time vector :  23\n",
      "/media/karim/Datas4To/1_Analyses_Intra_EM_Odor/Olfacto/feature/ERP_Odor_No_Odor/Retrieval/VACJ_ERP_LgG-FuG_l2-l1_(43).png\n",
      "data to save (23, 284) cond0 (44, 23, 24) cond1 (44, 23, 260)\n",
      "Setting up low-pass filter at 10 Hz\n",
      "fir_design defaults to \"firwin2\" in 0.15 but will change to \"firwin\" in 0.16, set it explicitly to avoid this warning.\n",
      "h_trans_bandwidth chosen to be 2.5 Hz\n",
      "Filter length of 1352 samples (2.641 sec) selected\n"
     ]
    },
    {
     "name": "stderr",
     "output_type": "stream",
     "text": [
      "<ipython-input-5-154bfa86badc>:37: DeprecationWarning: fir_design defaults to \"firwin2\" in 0.15 but will change to \"firwin\" in 0.16, set it explicitly to avoid this warning.\n",
      "  h_freq=low_pass_filter, method='fir', phase='zero-double').swapaxes(0,1)\n"
     ]
    },
    {
     "name": "stdout",
     "output_type": "stream",
     "text": [
      "Size of filtered data: (3584, 284)\n",
      "time points :  (3584,)\n",
      "Applying baseline correction (mode: mean)\n",
      "Size norm & filtered data :  (3584, 284)\n",
      "-> Shape of all trials data to plot :  (23, 284)\n",
      "-> Shape of time vector :  23\n",
      "/media/karim/Datas4To/1_Analyses_Intra_EM_Odor/Olfacto/feature/ERP_Odor_No_Odor/Retrieval/VACJ_ERP_FuG&LgG-FuG_l3-l2_(44).png\n",
      "data to save (23, 284) cond0 (45, 23, 24) cond1 (45, 23, 260)\n",
      "Setting up low-pass filter at 10 Hz\n",
      "fir_design defaults to \"firwin2\" in 0.15 but will change to \"firwin\" in 0.16, set it explicitly to avoid this warning.\n",
      "h_trans_bandwidth chosen to be 2.5 Hz\n",
      "Filter length of 1352 samples (2.641 sec) selected\n",
      "Size of filtered data: (3584, 284)\n",
      "time points :  (3584,)\n",
      "Applying baseline correction (mode: mean)\n",
      "Size norm & filtered data :  (3584, 284)\n"
     ]
    },
    {
     "name": "stderr",
     "output_type": "stream",
     "text": [
      "<ipython-input-5-154bfa86badc>:37: DeprecationWarning: fir_design defaults to \"firwin2\" in 0.15 but will change to \"firwin\" in 0.16, set it explicitly to avoid this warning.\n",
      "  h_freq=low_pass_filter, method='fir', phase='zero-double').swapaxes(0,1)\n"
     ]
    },
    {
     "name": "stdout",
     "output_type": "stream",
     "text": [
      "-> Shape of all trials data to plot :  (23, 284)\n",
      "-> Shape of time vector :  23\n",
      "/media/karim/Datas4To/1_Analyses_Intra_EM_Odor/Olfacto/feature/ERP_Odor_No_Odor/Retrieval/VACJ_ERP_FuG_l4-l3_(45).png\n",
      "data to save (23, 284) cond0 (46, 23, 24) cond1 (46, 23, 260)\n",
      "Setting up low-pass filter at 10 Hz\n",
      "fir_design defaults to \"firwin2\" in 0.15 but will change to \"firwin\" in 0.16, set it explicitly to avoid this warning.\n",
      "h_trans_bandwidth chosen to be 2.5 Hz\n",
      "Filter length of 1352 samples (2.641 sec) selected\n"
     ]
    },
    {
     "name": "stderr",
     "output_type": "stream",
     "text": [
      "<ipython-input-5-154bfa86badc>:37: DeprecationWarning: fir_design defaults to \"firwin2\" in 0.15 but will change to \"firwin\" in 0.16, set it explicitly to avoid this warning.\n",
      "  h_freq=low_pass_filter, method='fir', phase='zero-double').swapaxes(0,1)\n"
     ]
    },
    {
     "name": "stdout",
     "output_type": "stream",
     "text": [
      "Size of filtered data: (3584, 284)\n",
      "time points :  (3584,)\n",
      "Applying baseline correction (mode: mean)\n",
      "Size norm & filtered data :  (3584, 284)\n",
      "-> Shape of all trials data to plot :  (23, 284)\n",
      "-> Shape of time vector :  23\n",
      "/media/karim/Datas4To/1_Analyses_Intra_EM_Odor/Olfacto/feature/ERP_Odor_No_Odor/Retrieval/VACJ_ERP_FuG-pITG&FuG_l5-l4_(46).png\n",
      "data to save (23, 284) cond0 (47, 23, 24) cond1 (47, 23, 260)\n",
      "Setting up low-pass filter at 10 Hz\n",
      "fir_design defaults to \"firwin2\" in 0.15 but will change to \"firwin\" in 0.16, set it explicitly to avoid this warning.\n",
      "h_trans_bandwidth chosen to be 2.5 Hz\n",
      "Filter length of 1352 samples (2.641 sec) selected\n",
      "Size of filtered data: (3584, 284)\n",
      "time points :  (3584,)\n",
      "Applying baseline correction (mode: mean)\n",
      "Size norm & filtered data :  (3584, 284)\n"
     ]
    },
    {
     "name": "stderr",
     "output_type": "stream",
     "text": [
      "<ipython-input-5-154bfa86badc>:37: DeprecationWarning: fir_design defaults to \"firwin2\" in 0.15 but will change to \"firwin\" in 0.16, set it explicitly to avoid this warning.\n",
      "  h_freq=low_pass_filter, method='fir', phase='zero-double').swapaxes(0,1)\n"
     ]
    },
    {
     "name": "stdout",
     "output_type": "stream",
     "text": [
      "-> Shape of all trials data to plot :  (23, 284)\n",
      "-> Shape of time vector :  23\n",
      "/media/karim/Datas4To/1_Analyses_Intra_EM_Odor/Olfacto/feature/ERP_Odor_No_Odor/Retrieval/VACJ_ERP_FuG-pITG_l6-l5_(47).png\n",
      "data to save (23, 284) cond0 (48, 23, 24) cond1 (48, 23, 260)\n",
      "Setting up low-pass filter at 10 Hz\n",
      "fir_design defaults to \"firwin2\" in 0.15 but will change to \"firwin\" in 0.16, set it explicitly to avoid this warning.\n",
      "h_trans_bandwidth chosen to be 2.5 Hz\n",
      "Filter length of 1352 samples (2.641 sec) selected\n",
      "Size of filtered data: (3584, 284)\n",
      "time points :  (3584,)\n",
      "Applying baseline correction (mode: mean)\n",
      "Size norm & filtered data :  (3584, 284)\n"
     ]
    },
    {
     "name": "stderr",
     "output_type": "stream",
     "text": [
      "<ipython-input-5-154bfa86badc>:37: DeprecationWarning: fir_design defaults to \"firwin2\" in 0.15 but will change to \"firwin\" in 0.16, set it explicitly to avoid this warning.\n",
      "  h_freq=low_pass_filter, method='fir', phase='zero-double').swapaxes(0,1)\n"
     ]
    },
    {
     "name": "stdout",
     "output_type": "stream",
     "text": [
      "-> Shape of all trials data to plot :  (23, 284)\n",
      "-> Shape of time vector :  23\n",
      "/media/karim/Datas4To/1_Analyses_Intra_EM_Odor/Olfacto/feature/ERP_Odor_No_Odor/Retrieval/VACJ_ERP_pITG&FuG-pITG_l7-l6_(48).png\n",
      "data to save (23, 284) cond0 (49, 23, 24) cond1 (49, 23, 260)\n",
      "Setting up low-pass filter at 10 Hz\n",
      "fir_design defaults to \"firwin2\" in 0.15 but will change to \"firwin\" in 0.16, set it explicitly to avoid this warning.\n",
      "h_trans_bandwidth chosen to be 2.5 Hz\n",
      "Filter length of 1352 samples (2.641 sec) selected\n"
     ]
    },
    {
     "name": "stderr",
     "output_type": "stream",
     "text": [
      "<ipython-input-5-154bfa86badc>:37: DeprecationWarning: fir_design defaults to \"firwin2\" in 0.15 but will change to \"firwin\" in 0.16, set it explicitly to avoid this warning.\n",
      "  h_freq=low_pass_filter, method='fir', phase='zero-double').swapaxes(0,1)\n"
     ]
    },
    {
     "name": "stdout",
     "output_type": "stream",
     "text": [
      "Size of filtered data: (3584, 284)\n",
      "time points :  (3584,)\n",
      "Applying baseline correction (mode: mean)\n",
      "Size norm & filtered data :  (3584, 284)\n",
      "-> Shape of all trials data to plot :  (23, 284)\n",
      "-> Shape of time vector :  23\n",
      "/media/karim/Datas4To/1_Analyses_Intra_EM_Odor/Olfacto/feature/ERP_Odor_No_Odor/Retrieval/VACJ_ERP_pITG_l8-l7_(49).png\n",
      "data to save (23, 284) cond0 (50, 23, 24) cond1 (50, 23, 260)\n",
      "Setting up low-pass filter at 10 Hz\n",
      "fir_design defaults to \"firwin2\" in 0.15 but will change to \"firwin\" in 0.16, set it explicitly to avoid this warning.\n",
      "h_trans_bandwidth chosen to be 2.5 Hz\n",
      "Filter length of 1352 samples (2.641 sec) selected\n",
      "Size of filtered data: (3584, 284)\n",
      "time points :  (3584,)\n",
      "Applying baseline correction (mode: mean)\n",
      "Size norm & filtered data :  (3584, 284)\n"
     ]
    },
    {
     "name": "stderr",
     "output_type": "stream",
     "text": [
      "<ipython-input-5-154bfa86badc>:37: DeprecationWarning: fir_design defaults to \"firwin2\" in 0.15 but will change to \"firwin\" in 0.16, set it explicitly to avoid this warning.\n",
      "  h_freq=low_pass_filter, method='fir', phase='zero-double').swapaxes(0,1)\n"
     ]
    },
    {
     "name": "stdout",
     "output_type": "stream",
     "text": [
      "-> Shape of all trials data to plot :  (23, 284)\n",
      "-> Shape of time vector :  23\n",
      "/media/karim/Datas4To/1_Analyses_Intra_EM_Odor/Olfacto/feature/ERP_Odor_No_Odor/Retrieval/VACJ_ERP_pITG_l9-l8_(50).png\n",
      "data to save (23, 284) cond0 (51, 23, 24) cond1 (51, 23, 260)\n",
      "Setting up low-pass filter at 10 Hz\n",
      "fir_design defaults to \"firwin2\" in 0.15 but will change to \"firwin\" in 0.16, set it explicitly to avoid this warning.\n",
      "h_trans_bandwidth chosen to be 2.5 Hz\n",
      "Filter length of 1352 samples (2.641 sec) selected\n",
      "Size of filtered data: (3584, 284)\n",
      "time points :  (3584,)\n",
      "Applying baseline correction (mode: mean)\n"
     ]
    },
    {
     "name": "stderr",
     "output_type": "stream",
     "text": [
      "<ipython-input-5-154bfa86badc>:37: DeprecationWarning: fir_design defaults to \"firwin2\" in 0.15 but will change to \"firwin\" in 0.16, set it explicitly to avoid this warning.\n",
      "  h_freq=low_pass_filter, method='fir', phase='zero-double').swapaxes(0,1)\n"
     ]
    },
    {
     "name": "stdout",
     "output_type": "stream",
     "text": [
      "Size norm & filtered data :  (3584, 284)\n",
      "-> Shape of all trials data to plot :  (23, 284)\n",
      "-> Shape of time vector :  23\n",
      "/media/karim/Datas4To/1_Analyses_Intra_EM_Odor/Olfacto/feature/ERP_Odor_No_Odor/Retrieval/VACJ_ERP_pITG_l10-l9_(51).png\n",
      "data to save (23, 284) cond0 (52, 23, 24) cond1 (52, 23, 260)\n",
      "Setting up low-pass filter at 10 Hz\n",
      "fir_design defaults to \"firwin2\" in 0.15 but will change to \"firwin\" in 0.16, set it explicitly to avoid this warning.\n",
      "h_trans_bandwidth chosen to be 2.5 Hz\n",
      "Filter length of 1352 samples (2.641 sec) selected\n",
      "Size of filtered data: (3584, 284)\n",
      "time points :  (3584,)\n",
      "Applying baseline correction (mode: mean)\n",
      "Size norm & filtered data :  (3584, 284)\n"
     ]
    },
    {
     "name": "stderr",
     "output_type": "stream",
     "text": [
      "<ipython-input-5-154bfa86badc>:37: DeprecationWarning: fir_design defaults to \"firwin2\" in 0.15 but will change to \"firwin\" in 0.16, set it explicitly to avoid this warning.\n",
      "  h_freq=low_pass_filter, method='fir', phase='zero-double').swapaxes(0,1)\n"
     ]
    },
    {
     "name": "stdout",
     "output_type": "stream",
     "text": [
      "-> Shape of all trials data to plot :  (23, 284)\n",
      "-> Shape of time vector :  23\n",
      "/media/karim/Datas4To/1_Analyses_Intra_EM_Odor/Olfacto/feature/ERP_Odor_No_Odor/Retrieval/VACJ_ERP_pITG_l11-l10_(52).png\n",
      "data to save (23, 284) cond0 (53, 23, 24) cond1 (53, 23, 260)\n",
      "Setting up low-pass filter at 10 Hz\n",
      "fir_design defaults to \"firwin2\" in 0.15 but will change to \"firwin\" in 0.16, set it explicitly to avoid this warning.\n",
      "h_trans_bandwidth chosen to be 2.5 Hz\n",
      "Filter length of 1352 samples (2.641 sec) selected\n",
      "Size of filtered data: (3584, 284)\n",
      "time points :  (3584,)\n",
      "Applying baseline correction (mode: mean)\n"
     ]
    },
    {
     "name": "stderr",
     "output_type": "stream",
     "text": [
      "<ipython-input-5-154bfa86badc>:37: DeprecationWarning: fir_design defaults to \"firwin2\" in 0.15 but will change to \"firwin\" in 0.16, set it explicitly to avoid this warning.\n",
      "  h_freq=low_pass_filter, method='fir', phase='zero-double').swapaxes(0,1)\n"
     ]
    },
    {
     "name": "stdout",
     "output_type": "stream",
     "text": [
      "Size norm & filtered data :  (3584, 284)\n",
      "-> Shape of all trials data to plot :  (23, 284)\n",
      "-> Shape of time vector :  23\n",
      "/media/karim/Datas4To/1_Analyses_Intra_EM_Odor/Olfacto/feature/ERP_Odor_No_Odor/Retrieval/VACJ_ERP_SG-MOrG_o2-o1_(53).png\n",
      "data to save (23, 284) cond0 (54, 23, 24) cond1 (54, 23, 260)\n",
      "Setting up low-pass filter at 10 Hz\n",
      "fir_design defaults to \"firwin2\" in 0.15 but will change to \"firwin\" in 0.16, set it explicitly to avoid this warning.\n",
      "h_trans_bandwidth chosen to be 2.5 Hz\n",
      "Filter length of 1352 samples (2.641 sec) selected\n"
     ]
    },
    {
     "name": "stderr",
     "output_type": "stream",
     "text": [
      "<ipython-input-5-154bfa86badc>:37: DeprecationWarning: fir_design defaults to \"firwin2\" in 0.15 but will change to \"firwin\" in 0.16, set it explicitly to avoid this warning.\n",
      "  h_freq=low_pass_filter, method='fir', phase='zero-double').swapaxes(0,1)\n"
     ]
    },
    {
     "name": "stdout",
     "output_type": "stream",
     "text": [
      "Size of filtered data: (3584, 284)\n",
      "time points :  (3584,)\n",
      "Applying baseline correction (mode: mean)\n",
      "Size norm & filtered data :  (3584, 284)\n",
      "-> Shape of all trials data to plot :  (23, 284)\n",
      "-> Shape of time vector :  23\n",
      "/media/karim/Datas4To/1_Analyses_Intra_EM_Odor/Olfacto/feature/ERP_Odor_No_Odor/Retrieval/VACJ_ERP_MOrG&SG-MOrG_o3-o2_(54).png\n",
      "data to save (23, 284) cond0 (55, 23, 24) cond1 (55, 23, 260)\n",
      "Setting up low-pass filter at 10 Hz\n",
      "fir_design defaults to \"firwin2\" in 0.15 but will change to \"firwin\" in 0.16, set it explicitly to avoid this warning.\n",
      "h_trans_bandwidth chosen to be 2.5 Hz\n",
      "Filter length of 1352 samples (2.641 sec) selected\n",
      "Size of filtered data: (3584, 284)\n",
      "time points :  (3584,)\n",
      "Applying baseline correction (mode: mean)\n",
      "Size norm & filtered data :  (3584, 284)\n"
     ]
    },
    {
     "name": "stderr",
     "output_type": "stream",
     "text": [
      "<ipython-input-5-154bfa86badc>:37: DeprecationWarning: fir_design defaults to \"firwin2\" in 0.15 but will change to \"firwin\" in 0.16, set it explicitly to avoid this warning.\n",
      "  h_freq=low_pass_filter, method='fir', phase='zero-double').swapaxes(0,1)\n"
     ]
    },
    {
     "name": "stdout",
     "output_type": "stream",
     "text": [
      "-> Shape of all trials data to plot :  (23, 284)\n",
      "-> Shape of time vector :  23\n",
      "/media/karim/Datas4To/1_Analyses_Intra_EM_Odor/Olfacto/feature/ERP_Odor_No_Odor/Retrieval/VACJ_ERP_MOrG_o4-o3_(55).png\n",
      "data to save (23, 284) cond0 (56, 23, 24) cond1 (56, 23, 260)\n",
      "Setting up low-pass filter at 10 Hz\n",
      "fir_design defaults to \"firwin2\" in 0.15 but will change to \"firwin\" in 0.16, set it explicitly to avoid this warning.\n",
      "h_trans_bandwidth chosen to be 2.5 Hz\n",
      "Filter length of 1352 samples (2.641 sec) selected\n",
      "Size of filtered data: (3584, 284)\n",
      "time points :  (3584,)\n",
      "Applying baseline correction (mode: mean)\n",
      "Size norm & filtered data :  (3584, 284)\n"
     ]
    },
    {
     "name": "stderr",
     "output_type": "stream",
     "text": [
      "<ipython-input-5-154bfa86badc>:37: DeprecationWarning: fir_design defaults to \"firwin2\" in 0.15 but will change to \"firwin\" in 0.16, set it explicitly to avoid this warning.\n",
      "  h_freq=low_pass_filter, method='fir', phase='zero-double').swapaxes(0,1)\n"
     ]
    },
    {
     "name": "stdout",
     "output_type": "stream",
     "text": [
      "-> Shape of all trials data to plot :  (23, 284)\n",
      "-> Shape of time vector :  23\n",
      "/media/karim/Datas4To/1_Analyses_Intra_EM_Odor/Olfacto/feature/ERP_Odor_No_Odor/Retrieval/VACJ_ERP_MOrG-IOrG&MOrG_o5-o4_(56).png\n",
      "data to save (23, 284) cond0 (57, 23, 24) cond1 (57, 23, 260)\n",
      "Setting up low-pass filter at 10 Hz\n",
      "fir_design defaults to \"firwin2\" in 0.15 but will change to \"firwin\" in 0.16, set it explicitly to avoid this warning.\n",
      "h_trans_bandwidth chosen to be 2.5 Hz\n",
      "Filter length of 1352 samples (2.641 sec) selected\n",
      "Size of filtered data: (3584, 284)\n",
      "time points :  (3584,)\n",
      "Applying baseline correction (mode: mean)\n",
      "Size norm & filtered data :  (3584, 284)\n"
     ]
    },
    {
     "name": "stderr",
     "output_type": "stream",
     "text": [
      "<ipython-input-5-154bfa86badc>:37: DeprecationWarning: fir_design defaults to \"firwin2\" in 0.15 but will change to \"firwin\" in 0.16, set it explicitly to avoid this warning.\n",
      "  h_freq=low_pass_filter, method='fir', phase='zero-double').swapaxes(0,1)\n"
     ]
    },
    {
     "name": "stdout",
     "output_type": "stream",
     "text": [
      "-> Shape of all trials data to plot :  (23, 284)\n",
      "-> Shape of time vector :  23\n",
      "/media/karim/Datas4To/1_Analyses_Intra_EM_Odor/Olfacto/feature/ERP_Odor_No_Odor/Retrieval/VACJ_ERP_MOrG-IOrG_o6-o5_(57).png\n",
      "data to save (23, 284) cond0 (58, 23, 24) cond1 (58, 23, 260)\n",
      "Setting up low-pass filter at 10 Hz\n",
      "fir_design defaults to \"firwin2\" in 0.15 but will change to \"firwin\" in 0.16, set it explicitly to avoid this warning.\n",
      "h_trans_bandwidth chosen to be 2.5 Hz\n",
      "Filter length of 1352 samples (2.641 sec) selected\n",
      "Size of filtered data: (3584, 284)\n",
      "time points :  (3584,)\n",
      "Applying baseline correction (mode: mean)\n",
      "Size norm & filtered data :  (3584, 284)\n"
     ]
    },
    {
     "name": "stderr",
     "output_type": "stream",
     "text": [
      "<ipython-input-5-154bfa86badc>:37: DeprecationWarning: fir_design defaults to \"firwin2\" in 0.15 but will change to \"firwin\" in 0.16, set it explicitly to avoid this warning.\n",
      "  h_freq=low_pass_filter, method='fir', phase='zero-double').swapaxes(0,1)\n"
     ]
    },
    {
     "name": "stdout",
     "output_type": "stream",
     "text": [
      "-> Shape of all trials data to plot :  (23, 284)\n",
      "-> Shape of time vector :  23\n",
      "/media/karim/Datas4To/1_Analyses_Intra_EM_Odor/Olfacto/feature/ERP_Odor_No_Odor/Retrieval/VACJ_ERP_IOrG&MOrG-IOrG_o7-o6_(58).png\n",
      "data to save (23, 284) cond0 (59, 23, 24) cond1 (59, 23, 260)\n",
      "Setting up low-pass filter at 10 Hz\n",
      "fir_design defaults to \"firwin2\" in 0.15 but will change to \"firwin\" in 0.16, set it explicitly to avoid this warning.\n",
      "h_trans_bandwidth chosen to be 2.5 Hz\n",
      "Filter length of 1352 samples (2.641 sec) selected\n",
      "Size of filtered data: (3584, 284)\n",
      "time points :  (3584,)\n",
      "Applying baseline correction (mode: mean)\n",
      "Size norm & filtered data :  (3584, 284)\n"
     ]
    },
    {
     "name": "stderr",
     "output_type": "stream",
     "text": [
      "<ipython-input-5-154bfa86badc>:37: DeprecationWarning: fir_design defaults to \"firwin2\" in 0.15 but will change to \"firwin\" in 0.16, set it explicitly to avoid this warning.\n",
      "  h_freq=low_pass_filter, method='fir', phase='zero-double').swapaxes(0,1)\n"
     ]
    },
    {
     "name": "stdout",
     "output_type": "stream",
     "text": [
      "-> Shape of all trials data to plot :  (23, 284)\n",
      "-> Shape of time vector :  23\n",
      "/media/karim/Datas4To/1_Analyses_Intra_EM_Odor/Olfacto/feature/ERP_Odor_No_Odor/Retrieval/VACJ_ERP_IOrG_o8-o7_(59).png\n",
      "data to save (23, 284) cond0 (60, 23, 24) cond1 (60, 23, 260)\n",
      "Setting up low-pass filter at 10 Hz\n",
      "fir_design defaults to \"firwin2\" in 0.15 but will change to \"firwin\" in 0.16, set it explicitly to avoid this warning.\n",
      "h_trans_bandwidth chosen to be 2.5 Hz\n",
      "Filter length of 1352 samples (2.641 sec) selected\n"
     ]
    },
    {
     "name": "stderr",
     "output_type": "stream",
     "text": [
      "<ipython-input-5-154bfa86badc>:37: DeprecationWarning: fir_design defaults to \"firwin2\" in 0.15 but will change to \"firwin\" in 0.16, set it explicitly to avoid this warning.\n",
      "  h_freq=low_pass_filter, method='fir', phase='zero-double').swapaxes(0,1)\n"
     ]
    },
    {
     "name": "stdout",
     "output_type": "stream",
     "text": [
      "Size of filtered data: (3584, 284)\n",
      "time points :  (3584,)\n",
      "Applying baseline correction (mode: mean)\n",
      "Size norm & filtered data :  (3584, 284)\n",
      "-> Shape of all trials data to plot :  (23, 284)\n",
      "-> Shape of time vector :  23\n",
      "/media/karim/Datas4To/1_Analyses_Intra_EM_Odor/Olfacto/feature/ERP_Odor_No_Odor/Retrieval/VACJ_ERP_IOrG-IFGOr&IOrG_o9-o8_(60).png\n",
      "data to save (23, 284) cond0 (61, 23, 24) cond1 (61, 23, 260)\n",
      "Setting up low-pass filter at 10 Hz\n",
      "fir_design defaults to \"firwin2\" in 0.15 but will change to \"firwin\" in 0.16, set it explicitly to avoid this warning.\n",
      "h_trans_bandwidth chosen to be 2.5 Hz\n",
      "Filter length of 1352 samples (2.641 sec) selected\n",
      "Size of filtered data: (3584, 284)\n",
      "time points :  (3584,)\n",
      "Applying baseline correction (mode: mean)\n",
      "Size norm & filtered data :  (3584, 284)\n"
     ]
    },
    {
     "name": "stderr",
     "output_type": "stream",
     "text": [
      "<ipython-input-5-154bfa86badc>:37: DeprecationWarning: fir_design defaults to \"firwin2\" in 0.15 but will change to \"firwin\" in 0.16, set it explicitly to avoid this warning.\n",
      "  h_freq=low_pass_filter, method='fir', phase='zero-double').swapaxes(0,1)\n"
     ]
    },
    {
     "name": "stdout",
     "output_type": "stream",
     "text": [
      "-> Shape of all trials data to plot :  (23, 284)\n",
      "-> Shape of time vector :  23\n",
      "/media/karim/Datas4To/1_Analyses_Intra_EM_Odor/Olfacto/feature/ERP_Odor_No_Odor/Retrieval/VACJ_ERP_IFGOr&IOrG-IFGOr_o10-o9_(61).png\n",
      "data to save (23, 284) cond0 (62, 23, 24) cond1 (62, 23, 260)\n",
      "Setting up low-pass filter at 10 Hz\n",
      "fir_design defaults to \"firwin2\" in 0.15 but will change to \"firwin\" in 0.16, set it explicitly to avoid this warning.\n",
      "h_trans_bandwidth chosen to be 2.5 Hz\n",
      "Filter length of 1352 samples (2.641 sec) selected\n",
      "Size of filtered data: (3584, 284)\n",
      "time points :  (3584,)\n",
      "Applying baseline correction (mode: mean)\n",
      "Size norm & filtered data :  (3584, 284)\n"
     ]
    },
    {
     "name": "stderr",
     "output_type": "stream",
     "text": [
      "<ipython-input-5-154bfa86badc>:37: DeprecationWarning: fir_design defaults to \"firwin2\" in 0.15 but will change to \"firwin\" in 0.16, set it explicitly to avoid this warning.\n",
      "  h_freq=low_pass_filter, method='fir', phase='zero-double').swapaxes(0,1)\n"
     ]
    },
    {
     "name": "stdout",
     "output_type": "stream",
     "text": [
      "-> Shape of all trials data to plot :  (23, 284)\n",
      "-> Shape of time vector :  23\n",
      "/media/karim/Datas4To/1_Analyses_Intra_EM_Odor/Olfacto/feature/ERP_Odor_No_Odor/Retrieval/VACJ_ERP_IFGOr_o11-o10_(62).png\n",
      "data to save (23, 284) cond0 (63, 23, 24) cond1 (63, 23, 260)\n",
      "Setting up low-pass filter at 10 Hz\n",
      "fir_design defaults to \"firwin2\" in 0.15 but will change to \"firwin\" in 0.16, set it explicitly to avoid this warning.\n",
      "h_trans_bandwidth chosen to be 2.5 Hz\n",
      "Filter length of 1352 samples (2.641 sec) selected\n"
     ]
    },
    {
     "name": "stderr",
     "output_type": "stream",
     "text": [
      "<ipython-input-5-154bfa86badc>:37: DeprecationWarning: fir_design defaults to \"firwin2\" in 0.15 but will change to \"firwin\" in 0.16, set it explicitly to avoid this warning.\n",
      "  h_freq=low_pass_filter, method='fir', phase='zero-double').swapaxes(0,1)\n"
     ]
    },
    {
     "name": "stdout",
     "output_type": "stream",
     "text": [
      "Size of filtered data: (3584, 284)\n",
      "time points :  (3584,)\n",
      "Applying baseline correction (mode: mean)\n",
      "Size norm & filtered data :  (3584, 284)\n",
      "-> Shape of all trials data to plot :  (23, 284)\n",
      "-> Shape of time vector :  23\n",
      "/media/karim/Datas4To/1_Analyses_Intra_EM_Odor/Olfacto/feature/ERP_Odor_No_Odor/Retrieval/VACJ_ERP_IRoG_o'2-o'1_(63).png\n",
      "data to save (23, 284) cond0 (64, 23, 24) cond1 (64, 23, 260)\n",
      "Setting up low-pass filter at 10 Hz\n",
      "fir_design defaults to \"firwin2\" in 0.15 but will change to \"firwin\" in 0.16, set it explicitly to avoid this warning.\n",
      "h_trans_bandwidth chosen to be 2.5 Hz\n",
      "Filter length of 1352 samples (2.641 sec) selected\n"
     ]
    },
    {
     "name": "stderr",
     "output_type": "stream",
     "text": [
      "<ipython-input-5-154bfa86badc>:37: DeprecationWarning: fir_design defaults to \"firwin2\" in 0.15 but will change to \"firwin\" in 0.16, set it explicitly to avoid this warning.\n",
      "  h_freq=low_pass_filter, method='fir', phase='zero-double').swapaxes(0,1)\n"
     ]
    },
    {
     "name": "stdout",
     "output_type": "stream",
     "text": [
      "Size of filtered data: (3584, 284)\n",
      "time points :  (3584,)\n",
      "Applying baseline correction (mode: mean)\n",
      "Size norm & filtered data :  (3584, 284)\n",
      "-> Shape of all trials data to plot :  (23, 284)\n",
      "-> Shape of time vector :  23\n",
      "/media/karim/Datas4To/1_Analyses_Intra_EM_Odor/Olfacto/feature/ERP_Odor_No_Odor/Retrieval/VACJ_ERP_IRoG-SG&IRoG_o'3-o'2_(64).png\n",
      "data to save (23, 284) cond0 (65, 23, 24) cond1 (65, 23, 260)\n",
      "Setting up low-pass filter at 10 Hz\n",
      "fir_design defaults to \"firwin2\" in 0.15 but will change to \"firwin\" in 0.16, set it explicitly to avoid this warning.\n",
      "h_trans_bandwidth chosen to be 2.5 Hz\n",
      "Filter length of 1352 samples (2.641 sec) selected\n"
     ]
    },
    {
     "name": "stderr",
     "output_type": "stream",
     "text": [
      "<ipython-input-5-154bfa86badc>:37: DeprecationWarning: fir_design defaults to \"firwin2\" in 0.15 but will change to \"firwin\" in 0.16, set it explicitly to avoid this warning.\n",
      "  h_freq=low_pass_filter, method='fir', phase='zero-double').swapaxes(0,1)\n"
     ]
    },
    {
     "name": "stdout",
     "output_type": "stream",
     "text": [
      "Size of filtered data: (3584, 284)\n",
      "time points :  (3584,)\n",
      "Applying baseline correction (mode: mean)\n",
      "Size norm & filtered data :  (3584, 284)\n",
      "-> Shape of all trials data to plot :  (23, 284)\n",
      "-> Shape of time vector :  23\n",
      "/media/karim/Datas4To/1_Analyses_Intra_EM_Odor/Olfacto/feature/ERP_Odor_No_Odor/Retrieval/VACJ_ERP_Iorg&MOrG_o'6-o'5_(65).png\n",
      "data to save (23, 284) cond0 (66, 23, 24) cond1 (66, 23, 260)\n",
      "Setting up low-pass filter at 10 Hz\n",
      "fir_design defaults to \"firwin2\" in 0.15 but will change to \"firwin\" in 0.16, set it explicitly to avoid this warning.\n",
      "h_trans_bandwidth chosen to be 2.5 Hz\n",
      "Filter length of 1352 samples (2.641 sec) selected\n",
      "Size of filtered data: (3584, 284)\n",
      "time points :  (3584,)\n",
      "Applying baseline correction (mode: mean)\n"
     ]
    },
    {
     "name": "stderr",
     "output_type": "stream",
     "text": [
      "<ipython-input-5-154bfa86badc>:37: DeprecationWarning: fir_design defaults to \"firwin2\" in 0.15 but will change to \"firwin\" in 0.16, set it explicitly to avoid this warning.\n",
      "  h_freq=low_pass_filter, method='fir', phase='zero-double').swapaxes(0,1)\n"
     ]
    },
    {
     "name": "stdout",
     "output_type": "stream",
     "text": [
      "Size norm & filtered data :  (3584, 284)\n",
      "-> Shape of all trials data to plot :  (23, 284)\n",
      "-> Shape of time vector :  23\n",
      "/media/karim/Datas4To/1_Analyses_Intra_EM_Odor/Olfacto/feature/ERP_Odor_No_Odor/Retrieval/VACJ_ERP_Iorg_o'7-o'6_(66).png\n",
      "data to save (23, 284) cond0 (67, 23, 24) cond1 (67, 23, 260)\n",
      "Setting up low-pass filter at 10 Hz\n",
      "fir_design defaults to \"firwin2\" in 0.15 but will change to \"firwin\" in 0.16, set it explicitly to avoid this warning.\n",
      "h_trans_bandwidth chosen to be 2.5 Hz\n",
      "Filter length of 1352 samples (2.641 sec) selected\n",
      "Size of filtered data: (3584, 284)\n",
      "time points :  (3584,)\n",
      "Applying baseline correction (mode: mean)\n",
      "Size norm & filtered data :  (3584, 284)\n"
     ]
    },
    {
     "name": "stderr",
     "output_type": "stream",
     "text": [
      "<ipython-input-5-154bfa86badc>:37: DeprecationWarning: fir_design defaults to \"firwin2\" in 0.15 but will change to \"firwin\" in 0.16, set it explicitly to avoid this warning.\n",
      "  h_freq=low_pass_filter, method='fir', phase='zero-double').swapaxes(0,1)\n"
     ]
    },
    {
     "name": "stdout",
     "output_type": "stream",
     "text": [
      "-> Shape of all trials data to plot :  (23, 284)\n",
      "-> Shape of time vector :  23\n",
      "/media/karim/Datas4To/1_Analyses_Intra_EM_Odor/Olfacto/feature/ERP_Odor_No_Odor/Retrieval/VACJ_ERP_Iorg_o'8-o'7_(67).png\n",
      "data to save (23, 284) cond0 (68, 23, 24) cond1 (68, 23, 260)\n",
      "Setting up low-pass filter at 10 Hz\n",
      "fir_design defaults to \"firwin2\" in 0.15 but will change to \"firwin\" in 0.16, set it explicitly to avoid this warning.\n",
      "h_trans_bandwidth chosen to be 2.5 Hz\n",
      "Filter length of 1352 samples (2.641 sec) selected\n",
      "Size of filtered data: (3584, 284)\n",
      "time points :  (3584,)\n",
      "Applying baseline correction (mode: mean)\n",
      "Size norm & filtered data :  (3584, 284)\n"
     ]
    },
    {
     "name": "stderr",
     "output_type": "stream",
     "text": [
      "<ipython-input-5-154bfa86badc>:37: DeprecationWarning: fir_design defaults to \"firwin2\" in 0.15 but will change to \"firwin\" in 0.16, set it explicitly to avoid this warning.\n",
      "  h_freq=low_pass_filter, method='fir', phase='zero-double').swapaxes(0,1)\n"
     ]
    },
    {
     "name": "stdout",
     "output_type": "stream",
     "text": [
      "-> Shape of all trials data to plot :  (23, 284)\n",
      "-> Shape of time vector :  23\n",
      "/media/karim/Datas4To/1_Analyses_Intra_EM_Odor/Olfacto/feature/ERP_Odor_No_Odor/Retrieval/VACJ_ERP_Iorg_o'9-o'8_(68).png\n",
      "data to save (23, 284) cond0 (69, 23, 24) cond1 (69, 23, 260)\n",
      "Setting up low-pass filter at 10 Hz\n",
      "fir_design defaults to \"firwin2\" in 0.15 but will change to \"firwin\" in 0.16, set it explicitly to avoid this warning.\n",
      "h_trans_bandwidth chosen to be 2.5 Hz\n",
      "Filter length of 1352 samples (2.641 sec) selected\n",
      "Size of filtered data: (3584, 284)\n",
      "time points :  (3584,)\n",
      "Applying baseline correction (mode: mean)\n",
      "Size norm & filtered data :  (3584, 284)\n"
     ]
    },
    {
     "name": "stderr",
     "output_type": "stream",
     "text": [
      "<ipython-input-5-154bfa86badc>:37: DeprecationWarning: fir_design defaults to \"firwin2\" in 0.15 but will change to \"firwin\" in 0.16, set it explicitly to avoid this warning.\n",
      "  h_freq=low_pass_filter, method='fir', phase='zero-double').swapaxes(0,1)\n"
     ]
    },
    {
     "name": "stdout",
     "output_type": "stream",
     "text": [
      "-> Shape of all trials data to plot :  (23, 284)\n",
      "-> Shape of time vector :  23\n",
      "/media/karim/Datas4To/1_Analyses_Intra_EM_Odor/Olfacto/feature/ERP_Odor_No_Odor/Retrieval/VACJ_ERP_Iorg_o'10-o'9_(69).png\n",
      "data to save (23, 284) cond0 (70, 23, 24) cond1 (70, 23, 260)\n",
      "Setting up low-pass filter at 10 Hz\n",
      "fir_design defaults to \"firwin2\" in 0.15 but will change to \"firwin\" in 0.16, set it explicitly to avoid this warning.\n",
      "h_trans_bandwidth chosen to be 2.5 Hz\n",
      "Filter length of 1352 samples (2.641 sec) selected\n"
     ]
    },
    {
     "name": "stderr",
     "output_type": "stream",
     "text": [
      "<ipython-input-5-154bfa86badc>:37: DeprecationWarning: fir_design defaults to \"firwin2\" in 0.15 but will change to \"firwin\" in 0.16, set it explicitly to avoid this warning.\n",
      "  h_freq=low_pass_filter, method='fir', phase='zero-double').swapaxes(0,1)\n"
     ]
    },
    {
     "name": "stdout",
     "output_type": "stream",
     "text": [
      "Size of filtered data: (3584, 284)\n",
      "time points :  (3584,)\n",
      "Applying baseline correction (mode: mean)\n",
      "Size norm & filtered data :  (3584, 284)\n",
      "-> Shape of all trials data to plot :  (23, 284)\n",
      "-> Shape of time vector :  23\n",
      "/media/karim/Datas4To/1_Analyses_Intra_EM_Odor/Olfacto/feature/ERP_Odor_No_Odor/Retrieval/VACJ_ERP_IFGOr_o'12-o'11_(70).png\n",
      "data to save (23, 284) cond0 (71, 23, 24) cond1 (71, 23, 260)\n",
      "Setting up low-pass filter at 10 Hz\n",
      "fir_design defaults to \"firwin2\" in 0.15 but will change to \"firwin\" in 0.16, set it explicitly to avoid this warning.\n",
      "h_trans_bandwidth chosen to be 2.5 Hz\n",
      "Filter length of 1352 samples (2.641 sec) selected\n"
     ]
    },
    {
     "name": "stderr",
     "output_type": "stream",
     "text": [
      "<ipython-input-5-154bfa86badc>:37: DeprecationWarning: fir_design defaults to \"firwin2\" in 0.15 but will change to \"firwin\" in 0.16, set it explicitly to avoid this warning.\n",
      "  h_freq=low_pass_filter, method='fir', phase='zero-double').swapaxes(0,1)\n"
     ]
    },
    {
     "name": "stdout",
     "output_type": "stream",
     "text": [
      "Size of filtered data: (3584, 284)\n",
      "time points :  (3584,)\n",
      "Applying baseline correction (mode: mean)\n",
      "Size norm & filtered data :  (3584, 284)\n",
      "-> Shape of all trials data to plot :  (23, 284)\n",
      "-> Shape of time vector :  23\n",
      "/media/karim/Datas4To/1_Analyses_Intra_EM_Odor/Olfacto/feature/ERP_Odor_No_Odor/Retrieval/VACJ_ERP_Ins-TTG_t2-t1_(71).png\n",
      "data to save (23, 284) cond0 (72, 23, 24) cond1 (72, 23, 260)\n",
      "Setting up low-pass filter at 10 Hz\n",
      "fir_design defaults to \"firwin2\" in 0.15 but will change to \"firwin\" in 0.16, set it explicitly to avoid this warning.\n",
      "h_trans_bandwidth chosen to be 2.5 Hz\n",
      "Filter length of 1352 samples (2.641 sec) selected\n"
     ]
    },
    {
     "name": "stderr",
     "output_type": "stream",
     "text": [
      "<ipython-input-5-154bfa86badc>:37: DeprecationWarning: fir_design defaults to \"firwin2\" in 0.15 but will change to \"firwin\" in 0.16, set it explicitly to avoid this warning.\n",
      "  h_freq=low_pass_filter, method='fir', phase='zero-double').swapaxes(0,1)\n"
     ]
    },
    {
     "name": "stdout",
     "output_type": "stream",
     "text": [
      "Size of filtered data: (3584, 284)\n",
      "time points :  (3584,)\n",
      "Applying baseline correction (mode: mean)\n",
      "Size norm & filtered data :  (3584, 284)\n",
      "-> Shape of all trials data to plot :  (23, 284)\n",
      "-> Shape of time vector :  23\n",
      "/media/karim/Datas4To/1_Analyses_Intra_EM_Odor/Olfacto/feature/ERP_Odor_No_Odor/Retrieval/VACJ_ERP_TTG&Ins-TTG_t3-t2_(72).png\n",
      "data to save (23, 284) cond0 (73, 23, 24) cond1 (73, 23, 260)\n",
      "Setting up low-pass filter at 10 Hz\n",
      "fir_design defaults to \"firwin2\" in 0.15 but will change to \"firwin\" in 0.16, set it explicitly to avoid this warning.\n",
      "h_trans_bandwidth chosen to be 2.5 Hz\n",
      "Filter length of 1352 samples (2.641 sec) selected\n"
     ]
    },
    {
     "name": "stderr",
     "output_type": "stream",
     "text": [
      "<ipython-input-5-154bfa86badc>:37: DeprecationWarning: fir_design defaults to \"firwin2\" in 0.15 but will change to \"firwin\" in 0.16, set it explicitly to avoid this warning.\n",
      "  h_freq=low_pass_filter, method='fir', phase='zero-double').swapaxes(0,1)\n"
     ]
    },
    {
     "name": "stdout",
     "output_type": "stream",
     "text": [
      "Size of filtered data: (3584, 284)\n",
      "time points :  (3584,)\n",
      "Applying baseline correction (mode: mean)\n",
      "Size norm & filtered data :  (3584, 284)\n",
      "-> Shape of all trials data to plot :  (23, 284)\n",
      "-> Shape of time vector :  23\n",
      "/media/karim/Datas4To/1_Analyses_Intra_EM_Odor/Olfacto/feature/ERP_Odor_No_Odor/Retrieval/VACJ_ERP_TTG_t4-t3_(73).png\n",
      "data to save (23, 284) cond0 (74, 23, 24) cond1 (74, 23, 260)\n",
      "Setting up low-pass filter at 10 Hz\n",
      "fir_design defaults to \"firwin2\" in 0.15 but will change to \"firwin\" in 0.16, set it explicitly to avoid this warning.\n",
      "h_trans_bandwidth chosen to be 2.5 Hz\n",
      "Filter length of 1352 samples (2.641 sec) selected\n",
      "Size of filtered data: (3584, 284)\n",
      "time points :  (3584,)\n",
      "Applying baseline correction (mode: mean)\n",
      "Size norm & filtered data :  (3584, 284)\n"
     ]
    },
    {
     "name": "stderr",
     "output_type": "stream",
     "text": [
      "<ipython-input-5-154bfa86badc>:37: DeprecationWarning: fir_design defaults to \"firwin2\" in 0.15 but will change to \"firwin\" in 0.16, set it explicitly to avoid this warning.\n",
      "  h_freq=low_pass_filter, method='fir', phase='zero-double').swapaxes(0,1)\n"
     ]
    },
    {
     "name": "stdout",
     "output_type": "stream",
     "text": [
      "-> Shape of all trials data to plot :  (23, 284)\n",
      "-> Shape of time vector :  23\n",
      "/media/karim/Datas4To/1_Analyses_Intra_EM_Odor/Olfacto/feature/ERP_Odor_No_Odor/Retrieval/VACJ_ERP_TTG_t5-t4_(74).png\n",
      "data to save (23, 284) cond0 (75, 23, 24) cond1 (75, 23, 260)\n",
      "Setting up low-pass filter at 10 Hz\n",
      "fir_design defaults to \"firwin2\" in 0.15 but will change to \"firwin\" in 0.16, set it explicitly to avoid this warning.\n",
      "h_trans_bandwidth chosen to be 2.5 Hz\n",
      "Filter length of 1352 samples (2.641 sec) selected\n"
     ]
    },
    {
     "name": "stderr",
     "output_type": "stream",
     "text": [
      "<ipython-input-5-154bfa86badc>:37: DeprecationWarning: fir_design defaults to \"firwin2\" in 0.15 but will change to \"firwin\" in 0.16, set it explicitly to avoid this warning.\n",
      "  h_freq=low_pass_filter, method='fir', phase='zero-double').swapaxes(0,1)\n"
     ]
    },
    {
     "name": "stdout",
     "output_type": "stream",
     "text": [
      "Size of filtered data: (3584, 284)\n",
      "time points :  (3584,)\n",
      "Applying baseline correction (mode: mean)\n",
      "Size norm & filtered data :  (3584, 284)\n",
      "-> Shape of all trials data to plot :  (23, 284)\n",
      "-> Shape of time vector :  23\n",
      "/media/karim/Datas4To/1_Analyses_Intra_EM_Odor/Olfacto/feature/ERP_Odor_No_Odor/Retrieval/VACJ_ERP_STG-TTG&TTG_t6-t5_(75).png\n",
      "data to save (23, 284) cond0 (76, 23, 24) cond1 (76, 23, 260)\n",
      "Setting up low-pass filter at 10 Hz\n",
      "fir_design defaults to \"firwin2\" in 0.15 but will change to \"firwin\" in 0.16, set it explicitly to avoid this warning.\n",
      "h_trans_bandwidth chosen to be 2.5 Hz\n",
      "Filter length of 1352 samples (2.641 sec) selected\n"
     ]
    },
    {
     "name": "stderr",
     "output_type": "stream",
     "text": [
      "<ipython-input-5-154bfa86badc>:37: DeprecationWarning: fir_design defaults to \"firwin2\" in 0.15 but will change to \"firwin\" in 0.16, set it explicitly to avoid this warning.\n",
      "  h_freq=low_pass_filter, method='fir', phase='zero-double').swapaxes(0,1)\n"
     ]
    },
    {
     "name": "stdout",
     "output_type": "stream",
     "text": [
      "Size of filtered data: (3584, 284)\n",
      "time points :  (3584,)\n",
      "Applying baseline correction (mode: mean)\n",
      "Size norm & filtered data :  (3584, 284)\n",
      "-> Shape of all trials data to plot :  (23, 284)\n",
      "-> Shape of time vector :  23\n",
      "/media/karim/Datas4To/1_Analyses_Intra_EM_Odor/Olfacto/feature/ERP_Odor_No_Odor/Retrieval/VACJ_ERP_STG&STG-TTG_t7-t6_(76).png\n",
      "data to save (23, 284) cond0 (77, 23, 24) cond1 (77, 23, 260)\n",
      "Setting up low-pass filter at 10 Hz\n",
      "fir_design defaults to \"firwin2\" in 0.15 but will change to \"firwin\" in 0.16, set it explicitly to avoid this warning.\n",
      "h_trans_bandwidth chosen to be 2.5 Hz\n",
      "Filter length of 1352 samples (2.641 sec) selected\n"
     ]
    },
    {
     "name": "stderr",
     "output_type": "stream",
     "text": [
      "<ipython-input-5-154bfa86badc>:37: DeprecationWarning: fir_design defaults to \"firwin2\" in 0.15 but will change to \"firwin\" in 0.16, set it explicitly to avoid this warning.\n",
      "  h_freq=low_pass_filter, method='fir', phase='zero-double').swapaxes(0,1)\n"
     ]
    },
    {
     "name": "stdout",
     "output_type": "stream",
     "text": [
      "Size of filtered data: (3584, 284)\n",
      "time points :  (3584,)\n",
      "Applying baseline correction (mode: mean)\n",
      "Size norm & filtered data :  (3584, 284)\n",
      "-> Shape of all trials data to plot :  (23, 284)\n",
      "-> Shape of time vector :  23\n",
      "/media/karim/Datas4To/1_Analyses_Intra_EM_Odor/Olfacto/feature/ERP_Odor_No_Odor/Retrieval/VACJ_ERP_STG_t8-t7_(77).png\n",
      "data to save (23, 284) cond0 (78, 23, 24) cond1 (78, 23, 260)\n",
      "Setting up low-pass filter at 10 Hz\n",
      "fir_design defaults to \"firwin2\" in 0.15 but will change to \"firwin\" in 0.16, set it explicitly to avoid this warning.\n",
      "h_trans_bandwidth chosen to be 2.5 Hz\n",
      "Filter length of 1352 samples (2.641 sec) selected\n"
     ]
    },
    {
     "name": "stderr",
     "output_type": "stream",
     "text": [
      "<ipython-input-5-154bfa86badc>:37: DeprecationWarning: fir_design defaults to \"firwin2\" in 0.15 but will change to \"firwin\" in 0.16, set it explicitly to avoid this warning.\n",
      "  h_freq=low_pass_filter, method='fir', phase='zero-double').swapaxes(0,1)\n"
     ]
    },
    {
     "name": "stdout",
     "output_type": "stream",
     "text": [
      "Size of filtered data: (3584, 284)\n",
      "time points :  (3584,)\n",
      "Applying baseline correction (mode: mean)\n",
      "Size norm & filtered data :  (3584, 284)\n",
      "-> Shape of all trials data to plot :  (23, 284)\n",
      "-> Shape of time vector :  23\n",
      "/media/karim/Datas4To/1_Analyses_Intra_EM_Odor/Olfacto/feature/ERP_Odor_No_Odor/Retrieval/VACJ_ERP_STG_t9-t8_(78).png\n",
      "data to save (23, 284) cond0 (79, 23, 24) cond1 (79, 23, 260)\n",
      "Setting up low-pass filter at 10 Hz\n",
      "fir_design defaults to \"firwin2\" in 0.15 but will change to \"firwin\" in 0.16, set it explicitly to avoid this warning.\n",
      "h_trans_bandwidth chosen to be 2.5 Hz\n",
      "Filter length of 1352 samples (2.641 sec) selected\n"
     ]
    },
    {
     "name": "stderr",
     "output_type": "stream",
     "text": [
      "<ipython-input-5-154bfa86badc>:37: DeprecationWarning: fir_design defaults to \"firwin2\" in 0.15 but will change to \"firwin\" in 0.16, set it explicitly to avoid this warning.\n",
      "  h_freq=low_pass_filter, method='fir', phase='zero-double').swapaxes(0,1)\n"
     ]
    },
    {
     "name": "stdout",
     "output_type": "stream",
     "text": [
      "Size of filtered data: (3584, 284)\n",
      "time points :  (3584,)\n",
      "Applying baseline correction (mode: mean)\n",
      "Size norm & filtered data :  (3584, 284)\n",
      "-> Shape of all trials data to plot :  (23, 284)\n",
      "-> Shape of time vector :  23\n",
      "/media/karim/Datas4To/1_Analyses_Intra_EM_Odor/Olfacto/feature/ERP_Odor_No_Odor/Retrieval/VACJ_ERP_STG_t10-t9_(79).png\n",
      "data to save (23, 284) cond0 (80, 23, 24) cond1 (80, 23, 260)\n",
      "(80, 23, 260) (80, 23, 24)\n"
     ]
    },
    {
     "data": {
      "text/plain": [
       "<matplotlib.figure.Figure at 0x7f1e9b819e80>"
      ]
     },
     "metadata": {},
     "output_type": "display_data"
    },
    {
     "data": {
      "text/plain": [
       "<matplotlib.figure.Figure at 0x7f1e9b8f9f28>"
      ]
     },
     "metadata": {},
     "output_type": "display_data"
    },
    {
     "data": {
      "text/plain": [
       "<matplotlib.figure.Figure at 0x7f1e9b981358>"
      ]
     },
     "metadata": {},
     "output_type": "display_data"
    },
    {
     "data": {
      "text/plain": [
       "<matplotlib.figure.Figure at 0x7f1e9bb407b8>"
      ]
     },
     "metadata": {},
     "output_type": "display_data"
    },
    {
     "data": {
      "text/plain": [
       "<matplotlib.figure.Figure at 0x7f1e9b9910b8>"
      ]
     },
     "metadata": {},
     "output_type": "display_data"
    },
    {
     "data": {
      "text/plain": [
       "<matplotlib.figure.Figure at 0x7f1e9ba22780>"
      ]
     },
     "metadata": {},
     "output_type": "display_data"
    },
    {
     "data": {
      "text/plain": [
       "<matplotlib.figure.Figure at 0x7f1ed1319860>"
      ]
     },
     "metadata": {},
     "output_type": "display_data"
    },
    {
     "data": {
      "text/plain": [
       "<matplotlib.figure.Figure at 0x7f1ed146c860>"
      ]
     },
     "metadata": {},
     "output_type": "display_data"
    },
    {
     "data": {
      "text/plain": [
       "<matplotlib.figure.Figure at 0x7f1e9bb8c908>"
      ]
     },
     "metadata": {},
     "output_type": "display_data"
    },
    {
     "data": {
      "text/plain": [
       "<matplotlib.figure.Figure at 0x7f1ed15f4e80>"
      ]
     },
     "metadata": {},
     "output_type": "display_data"
    },
    {
     "data": {
      "text/plain": [
       "<matplotlib.figure.Figure at 0x7f1e9b5eba58>"
      ]
     },
     "metadata": {},
     "output_type": "display_data"
    },
    {
     "data": {
      "text/plain": [
       "<matplotlib.figure.Figure at 0x7f1ed17fda90>"
      ]
     },
     "metadata": {},
     "output_type": "display_data"
    },
    {
     "data": {
      "text/plain": [
       "<matplotlib.figure.Figure at 0x7f1ed1173f98>"
      ]
     },
     "metadata": {},
     "output_type": "display_data"
    },
    {
     "data": {
      "text/plain": [
       "<matplotlib.figure.Figure at 0x7f1ed12e8828>"
      ]
     },
     "metadata": {},
     "output_type": "display_data"
    },
    {
     "data": {
      "text/plain": [
       "<matplotlib.figure.Figure at 0x7f1ed1320cf8>"
      ]
     },
     "metadata": {},
     "output_type": "display_data"
    },
    {
     "data": {
      "text/plain": [
       "<matplotlib.figure.Figure at 0x7f1ed1165b70>"
      ]
     },
     "metadata": {},
     "output_type": "display_data"
    },
    {
     "data": {
      "text/plain": [
       "<matplotlib.figure.Figure at 0x7f1ed1189a90>"
      ]
     },
     "metadata": {},
     "output_type": "display_data"
    },
    {
     "data": {
      "text/plain": [
       "<matplotlib.figure.Figure at 0x7f1ed12690b8>"
      ]
     },
     "metadata": {},
     "output_type": "display_data"
    },
    {
     "data": {
      "text/plain": [
       "<matplotlib.figure.Figure at 0x7f1ed1479ac8>"
      ]
     },
     "metadata": {},
     "output_type": "display_data"
    },
    {
     "data": {
      "text/plain": [
       "<matplotlib.figure.Figure at 0x7f1ed14791d0>"
      ]
     },
     "metadata": {},
     "output_type": "display_data"
    },
    {
     "data": {
      "text/plain": [
       "<matplotlib.figure.Figure at 0x7f1ed138ee10>"
      ]
     },
     "metadata": {},
     "output_type": "display_data"
    },
    {
     "data": {
      "text/plain": [
       "<matplotlib.figure.Figure at 0x7f1ed1128400>"
      ]
     },
     "metadata": {},
     "output_type": "display_data"
    },
    {
     "data": {
      "text/plain": [
       "<matplotlib.figure.Figure at 0x7f1ed11772e8>"
      ]
     },
     "metadata": {},
     "output_type": "display_data"
    },
    {
     "data": {
      "text/plain": [
       "<matplotlib.figure.Figure at 0x7f1ed1405ac8>"
      ]
     },
     "metadata": {},
     "output_type": "display_data"
    },
    {
     "data": {
      "text/plain": [
       "<matplotlib.figure.Figure at 0x7f1ed1479208>"
      ]
     },
     "metadata": {},
     "output_type": "display_data"
    },
    {
     "data": {
      "text/plain": [
       "<matplotlib.figure.Figure at 0x7f1ed1281048>"
      ]
     },
     "metadata": {},
     "output_type": "display_data"
    },
    {
     "data": {
      "text/plain": [
       "<matplotlib.figure.Figure at 0x7f1ed1498cc0>"
      ]
     },
     "metadata": {},
     "output_type": "display_data"
    },
    {
     "data": {
      "text/plain": [
       "<matplotlib.figure.Figure at 0x7f1ed154be80>"
      ]
     },
     "metadata": {},
     "output_type": "display_data"
    },
    {
     "data": {
      "text/plain": [
       "<matplotlib.figure.Figure at 0x7f1ed1177240>"
      ]
     },
     "metadata": {},
     "output_type": "display_data"
    },
    {
     "data": {
      "text/plain": [
       "<matplotlib.figure.Figure at 0x7f1ed14ce320>"
      ]
     },
     "metadata": {},
     "output_type": "display_data"
    },
    {
     "data": {
      "text/plain": [
       "<matplotlib.figure.Figure at 0x7f1ed154b3c8>"
      ]
     },
     "metadata": {},
     "output_type": "display_data"
    },
    {
     "data": {
      "text/plain": [
       "<matplotlib.figure.Figure at 0x7f1ed1173f60>"
      ]
     },
     "metadata": {},
     "output_type": "display_data"
    },
    {
     "data": {
      "text/plain": [
       "<matplotlib.figure.Figure at 0x7f1ed14ce240>"
      ]
     },
     "metadata": {},
     "output_type": "display_data"
    },
    {
     "data": {
      "text/plain": [
       "<matplotlib.figure.Figure at 0x7f1ed15ce978>"
      ]
     },
     "metadata": {},
     "output_type": "display_data"
    },
    {
     "data": {
      "text/plain": [
       "<matplotlib.figure.Figure at 0x7f1ed154b080>"
      ]
     },
     "metadata": {},
     "output_type": "display_data"
    },
    {
     "data": {
      "text/plain": [
       "<matplotlib.figure.Figure at 0x7f1ed1679fd0>"
      ]
     },
     "metadata": {},
     "output_type": "display_data"
    },
    {
     "data": {
      "text/plain": [
       "<matplotlib.figure.Figure at 0x7f1ed175e438>"
      ]
     },
     "metadata": {},
     "output_type": "display_data"
    },
    {
     "data": {
      "text/plain": [
       "<matplotlib.figure.Figure at 0x7f1ed1710e10>"
      ]
     },
     "metadata": {},
     "output_type": "display_data"
    },
    {
     "data": {
      "text/plain": [
       "<matplotlib.figure.Figure at 0x7f1ed16cc630>"
      ]
     },
     "metadata": {},
     "output_type": "display_data"
    },
    {
     "data": {
      "text/plain": [
       "<matplotlib.figure.Figure at 0x7f1f080d8c50>"
      ]
     },
     "metadata": {},
     "output_type": "display_data"
    },
    {
     "data": {
      "text/plain": [
       "<matplotlib.figure.Figure at 0x7f1ed16ccef0>"
      ]
     },
     "metadata": {},
     "output_type": "display_data"
    },
    {
     "data": {
      "text/plain": [
       "<matplotlib.figure.Figure at 0x7f1ed17a8ba8>"
      ]
     },
     "metadata": {},
     "output_type": "display_data"
    },
    {
     "data": {
      "text/plain": [
       "<matplotlib.figure.Figure at 0x7f1ed14e3160>"
      ]
     },
     "metadata": {},
     "output_type": "display_data"
    },
    {
     "data": {
      "text/plain": [
       "<matplotlib.figure.Figure at 0x7f1ed192f710>"
      ]
     },
     "metadata": {},
     "output_type": "display_data"
    },
    {
     "data": {
      "text/plain": [
       "<matplotlib.figure.Figure at 0x7f1ed17ca128>"
      ]
     },
     "metadata": {},
     "output_type": "display_data"
    },
    {
     "data": {
      "text/plain": [
       "<matplotlib.figure.Figure at 0x7f1ed14eac18>"
      ]
     },
     "metadata": {},
     "output_type": "display_data"
    },
    {
     "data": {
      "text/plain": [
       "<matplotlib.figure.Figure at 0x7f1ed176c400>"
      ]
     },
     "metadata": {},
     "output_type": "display_data"
    },
    {
     "data": {
      "text/plain": [
       "<matplotlib.figure.Figure at 0x7f1ed197d828>"
      ]
     },
     "metadata": {},
     "output_type": "display_data"
    },
    {
     "data": {
      "text/plain": [
       "<matplotlib.figure.Figure at 0x7f1ed1934208>"
      ]
     },
     "metadata": {},
     "output_type": "display_data"
    },
    {
     "data": {
      "text/plain": [
       "<matplotlib.figure.Figure at 0x7f1ed1914be0>"
      ]
     },
     "metadata": {},
     "output_type": "display_data"
    },
    {
     "data": {
      "text/plain": [
       "<matplotlib.figure.Figure at 0x7f1ed15d3c50>"
      ]
     },
     "metadata": {},
     "output_type": "display_data"
    },
    {
     "data": {
      "text/plain": [
       "<matplotlib.figure.Figure at 0x7f1ed18a9588>"
      ]
     },
     "metadata": {},
     "output_type": "display_data"
    },
    {
     "data": {
      "text/plain": [
       "<matplotlib.figure.Figure at 0x7f1ed1a455f8>"
      ]
     },
     "metadata": {},
     "output_type": "display_data"
    },
    {
     "data": {
      "text/plain": [
       "<matplotlib.figure.Figure at 0x7f1ed17101d0>"
      ]
     },
     "metadata": {},
     "output_type": "display_data"
    },
    {
     "data": {
      "text/plain": [
       "<matplotlib.figure.Figure at 0x7f1ed17a8198>"
      ]
     },
     "metadata": {},
     "output_type": "display_data"
    },
    {
     "data": {
      "text/plain": [
       "<matplotlib.figure.Figure at 0x7f1ed154b278>"
      ]
     },
     "metadata": {},
     "output_type": "display_data"
    },
    {
     "data": {
      "text/plain": [
       "<matplotlib.figure.Figure at 0x7f1ed17fd128>"
      ]
     },
     "metadata": {},
     "output_type": "display_data"
    },
    {
     "data": {
      "text/plain": [
       "<matplotlib.figure.Figure at 0x7f1ed16267b8>"
      ]
     },
     "metadata": {},
     "output_type": "display_data"
    },
    {
     "data": {
      "text/plain": [
       "<matplotlib.figure.Figure at 0x7f1ed1809400>"
      ]
     },
     "metadata": {},
     "output_type": "display_data"
    },
    {
     "data": {
      "text/plain": [
       "<matplotlib.figure.Figure at 0x7f1ed15e5080>"
      ]
     },
     "metadata": {},
     "output_type": "display_data"
    },
    {
     "data": {
      "text/plain": [
       "<matplotlib.figure.Figure at 0x7f1ed113f2e8>"
      ]
     },
     "metadata": {},
     "output_type": "display_data"
    },
    {
     "data": {
      "text/plain": [
       "<matplotlib.figure.Figure at 0x7f1ed150cfd0>"
      ]
     },
     "metadata": {},
     "output_type": "display_data"
    },
    {
     "data": {
      "text/plain": [
       "<matplotlib.figure.Figure at 0x7f1ed1776518>"
      ]
     },
     "metadata": {},
     "output_type": "display_data"
    },
    {
     "data": {
      "text/plain": [
       "<matplotlib.figure.Figure at 0x7f1ed175e7f0>"
      ]
     },
     "metadata": {},
     "output_type": "display_data"
    },
    {
     "data": {
      "text/plain": [
       "<matplotlib.figure.Figure at 0x7f1ed1173780>"
      ]
     },
     "metadata": {},
     "output_type": "display_data"
    },
    {
     "data": {
      "text/plain": [
       "<matplotlib.figure.Figure at 0x7f1ed1479240>"
      ]
     },
     "metadata": {},
     "output_type": "display_data"
    },
    {
     "data": {
      "text/plain": [
       "<matplotlib.figure.Figure at 0x7f1ed1904cc0>"
      ]
     },
     "metadata": {},
     "output_type": "display_data"
    },
    {
     "data": {
      "text/plain": [
       "<matplotlib.figure.Figure at 0x7f1ed183d240>"
      ]
     },
     "metadata": {},
     "output_type": "display_data"
    },
    {
     "data": {
      "text/plain": [
       "<matplotlib.figure.Figure at 0x7f1ed15b4cf8>"
      ]
     },
     "metadata": {},
     "output_type": "display_data"
    },
    {
     "data": {
      "text/plain": [
       "<matplotlib.figure.Figure at 0x7f1ed149ef28>"
      ]
     },
     "metadata": {},
     "output_type": "display_data"
    },
    {
     "data": {
      "text/plain": [
       "<matplotlib.figure.Figure at 0x7f1ed18a9780>"
      ]
     },
     "metadata": {},
     "output_type": "display_data"
    },
    {
     "data": {
      "text/plain": [
       "<matplotlib.figure.Figure at 0x7f1ed1401550>"
      ]
     },
     "metadata": {},
     "output_type": "display_data"
    },
    {
     "data": {
      "text/plain": [
       "<matplotlib.figure.Figure at 0x7f1ed1391320>"
      ]
     },
     "metadata": {},
     "output_type": "display_data"
    },
    {
     "data": {
      "text/plain": [
       "<matplotlib.figure.Figure at 0x7f1ed14c6c50>"
      ]
     },
     "metadata": {},
     "output_type": "display_data"
    },
    {
     "data": {
      "text/plain": [
       "<matplotlib.figure.Figure at 0x7f1ed175ec50>"
      ]
     },
     "metadata": {},
     "output_type": "display_data"
    },
    {
     "data": {
      "text/plain": [
       "<matplotlib.figure.Figure at 0x7f1ed16ccc18>"
      ]
     },
     "metadata": {},
     "output_type": "display_data"
    },
    {
     "data": {
      "text/plain": [
       "<matplotlib.figure.Figure at 0x7f1ed1438048>"
      ]
     },
     "metadata": {},
     "output_type": "display_data"
    },
    {
     "data": {
      "text/plain": [
       "<matplotlib.figure.Figure at 0x7f1ed161dba8>"
      ]
     },
     "metadata": {},
     "output_type": "display_data"
    },
    {
     "data": {
      "text/plain": [
       "<matplotlib.figure.Figure at 0x7f1ed161d198>"
      ]
     },
     "metadata": {},
     "output_type": "display_data"
    },
    {
     "data": {
      "text/plain": [
       "<matplotlib.figure.Figure at 0x7f1ed17243c8>"
      ]
     },
     "metadata": {},
     "output_type": "display_data"
    },
    {
     "data": {
      "text/plain": [
       "<matplotlib.figure.Figure at 0x7f1ed17d40f0>"
      ]
     },
     "metadata": {},
     "output_type": "display_data"
    },
    {
     "data": {
      "text/plain": [
       "<matplotlib.figure.Figure at 0x7f1ed176cd68>"
      ]
     },
     "metadata": {},
     "output_type": "display_data"
    },
    {
     "data": {
      "text/plain": [
       "<matplotlib.figure.Figure at 0x7f1ed1665a90>"
      ]
     },
     "metadata": {},
     "output_type": "display_data"
    },
    {
     "data": {
      "text/plain": [
       "<matplotlib.figure.Figure at 0x7f1ed1a8cf60>"
      ]
     },
     "metadata": {},
     "output_type": "display_data"
    },
    {
     "data": {
      "text/plain": [
       "<matplotlib.figure.Figure at 0x7f1ed1da1da0>"
      ]
     },
     "metadata": {},
     "output_type": "display_data"
    },
    {
     "data": {
      "text/plain": [
       "<matplotlib.figure.Figure at 0x7f1ed1ac60f0>"
      ]
     },
     "metadata": {},
     "output_type": "display_data"
    },
    {
     "data": {
      "text/plain": [
       "<matplotlib.figure.Figure at 0x7f1ed19810f0>"
      ]
     },
     "metadata": {},
     "output_type": "display_data"
    },
    {
     "data": {
      "text/plain": [
       "<matplotlib.figure.Figure at 0x7f1ed1269860>"
      ]
     },
     "metadata": {},
     "output_type": "display_data"
    },
    {
     "data": {
      "text/plain": [
       "<matplotlib.figure.Figure at 0x7f1ed1ae64a8>"
      ]
     },
     "metadata": {},
     "output_type": "display_data"
    },
    {
     "data": {
      "text/plain": [
       "<matplotlib.figure.Figure at 0x7f1ed1900588>"
      ]
     },
     "metadata": {},
     "output_type": "display_data"
    },
    {
     "data": {
      "text/plain": [
       "<matplotlib.figure.Figure at 0x7f1ed1189e48>"
      ]
     },
     "metadata": {},
     "output_type": "display_data"
    },
    {
     "data": {
      "text/plain": [
       "<matplotlib.figure.Figure at 0x7f1ed122b2b0>"
      ]
     },
     "metadata": {},
     "output_type": "display_data"
    },
    {
     "data": {
      "text/plain": [
       "<matplotlib.figure.Figure at 0x7f1ed1397a20>"
      ]
     },
     "metadata": {},
     "output_type": "display_data"
    },
    {
     "data": {
      "text/plain": [
       "<matplotlib.figure.Figure at 0x7f1ed11ab8d0>"
      ]
     },
     "metadata": {},
     "output_type": "display_data"
    },
    {
     "data": {
      "text/plain": [
       "<matplotlib.figure.Figure at 0x7f1ed1aeae80>"
      ]
     },
     "metadata": {},
     "output_type": "display_data"
    },
    {
     "data": {
      "text/plain": [
       "<matplotlib.figure.Figure at 0x7f1ed154b588>"
      ]
     },
     "metadata": {},
     "output_type": "display_data"
    },
    {
     "data": {
      "text/plain": [
       "<matplotlib.figure.Figure at 0x7f1ed13410b8>"
      ]
     },
     "metadata": {},
     "output_type": "display_data"
    },
    {
     "data": {
      "text/plain": [
       "<matplotlib.figure.Figure at 0x7f1ed1a48c18>"
      ]
     },
     "metadata": {},
     "output_type": "display_data"
    },
    {
     "data": {
      "text/plain": [
       "<matplotlib.figure.Figure at 0x7f1ed18fa550>"
      ]
     },
     "metadata": {},
     "output_type": "display_data"
    },
    {
     "data": {
      "text/plain": [
       "<matplotlib.figure.Figure at 0x7f1ed197d978>"
      ]
     },
     "metadata": {},
     "output_type": "display_data"
    },
    {
     "data": {
      "text/plain": [
       "<matplotlib.figure.Figure at 0x7f1ed1416e10>"
      ]
     },
     "metadata": {},
     "output_type": "display_data"
    },
    {
     "data": {
      "text/plain": [
       "<matplotlib.figure.Figure at 0x7f1ed1a7b8d0>"
      ]
     },
     "metadata": {},
     "output_type": "display_data"
    },
    {
     "data": {
      "text/plain": [
       "<matplotlib.figure.Figure at 0x7f1ed17100f0>"
      ]
     },
     "metadata": {},
     "output_type": "display_data"
    },
    {
     "data": {
      "text/plain": [
       "<matplotlib.figure.Figure at 0x7f1ed149ed68>"
      ]
     },
     "metadata": {},
     "output_type": "display_data"
    },
    {
     "data": {
      "text/plain": [
       "<matplotlib.figure.Figure at 0x7f1ed1607f28>"
      ]
     },
     "metadata": {},
     "output_type": "display_data"
    },
    {
     "data": {
      "text/plain": [
       "<matplotlib.figure.Figure at 0x7f1ed11775c0>"
      ]
     },
     "metadata": {},
     "output_type": "display_data"
    },
    {
     "data": {
      "text/plain": [
       "<matplotlib.figure.Figure at 0x7f1ed15b4a90>"
      ]
     },
     "metadata": {},
     "output_type": "display_data"
    },
    {
     "data": {
      "text/plain": [
       "<matplotlib.figure.Figure at 0x7f1ed18fa630>"
      ]
     },
     "metadata": {},
     "output_type": "display_data"
    },
    {
     "data": {
      "text/plain": [
       "<matplotlib.figure.Figure at 0x7f1ed14820b8>"
      ]
     },
     "metadata": {},
     "output_type": "display_data"
    },
    {
     "data": {
      "text/plain": [
       "<matplotlib.figure.Figure at 0x7f1ed14e38d0>"
      ]
     },
     "metadata": {},
     "output_type": "display_data"
    },
    {
     "data": {
      "text/plain": [
       "<matplotlib.figure.Figure at 0x7f1ed1926da0>"
      ]
     },
     "metadata": {},
     "output_type": "display_data"
    },
    {
     "data": {
      "text/plain": [
       "<matplotlib.figure.Figure at 0x7f1ed15e5550>"
      ]
     },
     "metadata": {},
     "output_type": "display_data"
    },
    {
     "data": {
      "text/plain": [
       "<matplotlib.figure.Figure at 0x7f1ed14e3c18>"
      ]
     },
     "metadata": {},
     "output_type": "display_data"
    },
    {
     "data": {
      "text/plain": [
       "<matplotlib.figure.Figure at 0x7f1ed1a90e80>"
      ]
     },
     "metadata": {},
     "output_type": "display_data"
    },
    {
     "data": {
      "text/plain": [
       "<matplotlib.figure.Figure at 0x7f1ed14ce198>"
      ]
     },
     "metadata": {},
     "output_type": "display_data"
    },
    {
     "data": {
      "text/plain": [
       "<matplotlib.figure.Figure at 0x7f1ed14bfc88>"
      ]
     },
     "metadata": {},
     "output_type": "display_data"
    },
    {
     "data": {
      "text/plain": [
       "<matplotlib.figure.Figure at 0x7f1ed1750c50>"
      ]
     },
     "metadata": {},
     "output_type": "display_data"
    },
    {
     "data": {
      "text/plain": [
       "<matplotlib.figure.Figure at 0x7f1ed1c22cc0>"
      ]
     },
     "metadata": {},
     "output_type": "display_data"
    },
    {
     "data": {
      "text/plain": [
       "<matplotlib.figure.Figure at 0x7f1ed17a87b8>"
      ]
     },
     "metadata": {},
     "output_type": "display_data"
    },
    {
     "data": {
      "text/plain": [
       "<matplotlib.figure.Figure at 0x7f1ed17ed6d8>"
      ]
     },
     "metadata": {},
     "output_type": "display_data"
    },
    {
     "data": {
      "text/plain": [
       "<matplotlib.figure.Figure at 0x7f1ed1aa1e80>"
      ]
     },
     "metadata": {},
     "output_type": "display_data"
    },
    {
     "data": {
      "text/plain": [
       "<matplotlib.figure.Figure at 0x7f1ed1cb6160>"
      ]
     },
     "metadata": {},
     "output_type": "display_data"
    },
    {
     "data": {
      "text/plain": [
       "<matplotlib.figure.Figure at 0x7f1ed0920c50>"
      ]
     },
     "metadata": {},
     "output_type": "display_data"
    },
    {
     "data": {
      "text/plain": [
       "<matplotlib.figure.Figure at 0x7f1ed154bcf8>"
      ]
     },
     "metadata": {},
     "output_type": "display_data"
    },
    {
     "data": {
      "text/plain": [
       "<matplotlib.figure.Figure at 0x7f1ed16cc748>"
      ]
     },
     "metadata": {},
     "output_type": "display_data"
    },
    {
     "data": {
      "text/plain": [
       "<matplotlib.figure.Figure at 0x7f1ed1a8c7f0>"
      ]
     },
     "metadata": {},
     "output_type": "display_data"
    },
    {
     "data": {
      "text/plain": [
       "<matplotlib.figure.Figure at 0x7f1ed17a80b8>"
      ]
     },
     "metadata": {},
     "output_type": "display_data"
    },
    {
     "data": {
      "text/plain": [
       "<matplotlib.figure.Figure at 0x7f1ed175e908>"
      ]
     },
     "metadata": {},
     "output_type": "display_data"
    },
    {
     "data": {
      "text/plain": [
       "<matplotlib.figure.Figure at 0x7f1ed1cfb0f0>"
      ]
     },
     "metadata": {},
     "output_type": "display_data"
    },
    {
     "data": {
      "text/plain": [
       "<matplotlib.figure.Figure at 0x7f1ed15daa20>"
      ]
     },
     "metadata": {},
     "output_type": "display_data"
    },
    {
     "data": {
      "text/plain": [
       "<matplotlib.figure.Figure at 0x7f1ed1479a58>"
      ]
     },
     "metadata": {},
     "output_type": "display_data"
    },
    {
     "data": {
      "text/plain": [
       "<matplotlib.figure.Figure at 0x7f1ed197d518>"
      ]
     },
     "metadata": {},
     "output_type": "display_data"
    },
    {
     "data": {
      "text/plain": [
       "<matplotlib.figure.Figure at 0x7f1ed196ed68>"
      ]
     },
     "metadata": {},
     "output_type": "display_data"
    },
    {
     "data": {
      "text/plain": [
       "<matplotlib.figure.Figure at 0x7f1ed1a8cba8>"
      ]
     },
     "metadata": {},
     "output_type": "display_data"
    },
    {
     "data": {
      "text/plain": [
       "<matplotlib.figure.Figure at 0x7f1ed1981dd8>"
      ]
     },
     "metadata": {},
     "output_type": "display_data"
    },
    {
     "data": {
      "text/plain": [
       "<matplotlib.figure.Figure at 0x7f1ed14a59e8>"
      ]
     },
     "metadata": {},
     "output_type": "display_data"
    },
    {
     "data": {
      "text/plain": [
       "<matplotlib.figure.Figure at 0x7f1ed1724908>"
      ]
     },
     "metadata": {},
     "output_type": "display_data"
    },
    {
     "data": {
      "text/plain": [
       "<matplotlib.figure.Figure at 0x7f1ed19046d8>"
      ]
     },
     "metadata": {},
     "output_type": "display_data"
    },
    {
     "data": {
      "text/plain": [
       "<matplotlib.figure.Figure at 0x7f1ed1c12898>"
      ]
     },
     "metadata": {},
     "output_type": "display_data"
    },
    {
     "data": {
      "text/plain": [
       "<matplotlib.figure.Figure at 0x7f1ed1bbeda0>"
      ]
     },
     "metadata": {},
     "output_type": "display_data"
    },
    {
     "data": {
      "text/plain": [
       "<matplotlib.figure.Figure at 0x7f1ed1900eb8>"
      ]
     },
     "metadata": {},
     "output_type": "display_data"
    },
    {
     "data": {
      "text/plain": [
       "<matplotlib.figure.Figure at 0x7f1ed194f828>"
      ]
     },
     "metadata": {},
     "output_type": "display_data"
    },
    {
     "data": {
      "text/plain": [
       "<matplotlib.figure.Figure at 0x7f1ed1aa1f98>"
      ]
     },
     "metadata": {},
     "output_type": "display_data"
    },
    {
     "data": {
      "text/plain": [
       "<matplotlib.figure.Figure at 0x7f1ed1cfb978>"
      ]
     },
     "metadata": {},
     "output_type": "display_data"
    },
    {
     "data": {
      "text/plain": [
       "<matplotlib.figure.Figure at 0x7f1ed1b615c0>"
      ]
     },
     "metadata": {},
     "output_type": "display_data"
    },
    {
     "data": {
      "text/plain": [
       "<matplotlib.figure.Figure at 0x7f1ed183d320>"
      ]
     },
     "metadata": {},
     "output_type": "display_data"
    },
    {
     "data": {
      "text/plain": [
       "<matplotlib.figure.Figure at 0x7f1ed1750a58>"
      ]
     },
     "metadata": {},
     "output_type": "display_data"
    },
    {
     "data": {
      "text/plain": [
       "<matplotlib.figure.Figure at 0x7f1ed1a52b70>"
      ]
     },
     "metadata": {},
     "output_type": "display_data"
    },
    {
     "data": {
      "text/plain": [
       "<matplotlib.figure.Figure at 0x7f1ed1438ac8>"
      ]
     },
     "metadata": {},
     "output_type": "display_data"
    },
    {
     "data": {
      "text/plain": [
       "<matplotlib.figure.Figure at 0x7f1ed1bbe2b0>"
      ]
     },
     "metadata": {},
     "output_type": "display_data"
    },
    {
     "data": {
      "text/plain": [
       "<matplotlib.figure.Figure at 0x7f1ed1cab2b0>"
      ]
     },
     "metadata": {},
     "output_type": "display_data"
    },
    {
     "data": {
      "text/plain": [
       "<matplotlib.figure.Figure at 0x7f1ed17f0048>"
      ]
     },
     "metadata": {},
     "output_type": "display_data"
    },
    {
     "data": {
      "text/plain": [
       "<matplotlib.figure.Figure at 0x7f1ed1d68d68>"
      ]
     },
     "metadata": {},
     "output_type": "display_data"
    },
    {
     "data": {
      "text/plain": [
       "<matplotlib.figure.Figure at 0x7f1ed17d8278>"
      ]
     },
     "metadata": {},
     "output_type": "display_data"
    },
    {
     "data": {
      "text/plain": [
       "<matplotlib.figure.Figure at 0x7f1ed14bf5c0>"
      ]
     },
     "metadata": {},
     "output_type": "display_data"
    },
    {
     "data": {
      "text/plain": [
       "<matplotlib.figure.Figure at 0x7f1ed1d837f0>"
      ]
     },
     "metadata": {},
     "output_type": "display_data"
    },
    {
     "data": {
      "text/plain": [
       "<matplotlib.figure.Figure at 0x7f1ed1bf8160>"
      ]
     },
     "metadata": {},
     "output_type": "display_data"
    },
    {
     "data": {
      "text/plain": [
       "<matplotlib.figure.Figure at 0x7f1ed14663c8>"
      ]
     },
     "metadata": {},
     "output_type": "display_data"
    },
    {
     "data": {
      "text/plain": [
       "<matplotlib.figure.Figure at 0x7f1ed18d5438>"
      ]
     },
     "metadata": {},
     "output_type": "display_data"
    },
    {
     "data": {
      "text/plain": [
       "<matplotlib.figure.Figure at 0x7f1ed0925908>"
      ]
     },
     "metadata": {},
     "output_type": "display_data"
    },
    {
     "data": {
      "text/plain": [
       "<matplotlib.figure.Figure at 0x7f1ed08c8780>"
      ]
     },
     "metadata": {},
     "output_type": "display_data"
    },
    {
     "data": {
      "text/plain": [
       "<matplotlib.figure.Figure at 0x7f1ed1724eb8>"
      ]
     },
     "metadata": {},
     "output_type": "display_data"
    },
    {
     "data": {
      "text/plain": [
       "<matplotlib.figure.Figure at 0x7f1ed1da19b0>"
      ]
     },
     "metadata": {},
     "output_type": "display_data"
    },
    {
     "data": {
      "text/plain": [
       "<matplotlib.figure.Figure at 0x7f1ed14a5470>"
      ]
     },
     "metadata": {},
     "output_type": "display_data"
    },
    {
     "data": {
      "text/plain": [
       "<matplotlib.figure.Figure at 0x7f1ed1779fd0>"
      ]
     },
     "metadata": {},
     "output_type": "display_data"
    },
    {
     "data": {
      "text/plain": [
       "<matplotlib.figure.Figure at 0x7f1ed1a71a20>"
      ]
     },
     "metadata": {},
     "output_type": "display_data"
    },
    {
     "data": {
      "text/plain": [
       "<matplotlib.figure.Figure at 0x7f1ed158d7f0>"
      ]
     },
     "metadata": {},
     "output_type": "display_data"
    },
    {
     "data": {
      "text/plain": [
       "<matplotlib.figure.Figure at 0x7f1ed1a45a20>"
      ]
     },
     "metadata": {},
     "output_type": "display_data"
    },
    {
     "data": {
      "text/plain": [
       "<matplotlib.figure.Figure at 0x7f1ed1ae57f0>"
      ]
     },
     "metadata": {},
     "output_type": "display_data"
    },
    {
     "data": {
      "text/plain": [
       "<matplotlib.figure.Figure at 0x7f1ed15dd550>"
      ]
     },
     "metadata": {},
     "output_type": "display_data"
    },
    {
     "data": {
      "text/plain": [
       "<matplotlib.figure.Figure at 0x7f1ed149c4a8>"
      ]
     },
     "metadata": {},
     "output_type": "display_data"
    },
    {
     "data": {
      "text/plain": [
       "<matplotlib.figure.Figure at 0x7f1ed1809588>"
      ]
     },
     "metadata": {},
     "output_type": "display_data"
    },
    {
     "data": {
      "text/plain": [
       "<matplotlib.figure.Figure at 0x7f1ed16b3278>"
      ]
     },
     "metadata": {},
     "output_type": "display_data"
    },
    {
     "data": {
      "text/plain": [
       "<matplotlib.figure.Figure at 0x7f1ed1ad0470>"
      ]
     },
     "metadata": {},
     "output_type": "display_data"
    },
    {
     "data": {
      "text/plain": [
       "<matplotlib.figure.Figure at 0x7f1ed1779f28>"
      ]
     },
     "metadata": {},
     "output_type": "display_data"
    },
    {
     "data": {
      "text/plain": [
       "<matplotlib.figure.Figure at 0x7f1ed1926748>"
      ]
     },
     "metadata": {},
     "output_type": "display_data"
    },
    {
     "data": {
      "text/plain": [
       "<matplotlib.figure.Figure at 0x7f1ed162c828>"
      ]
     },
     "metadata": {},
     "output_type": "display_data"
    },
    {
     "data": {
      "text/plain": [
       "<matplotlib.figure.Figure at 0x7f1ed1a6c470>"
      ]
     },
     "metadata": {},
     "output_type": "display_data"
    },
    {
     "data": {
      "text/plain": [
       "<matplotlib.figure.Figure at 0x7f1ed0921208>"
      ]
     },
     "metadata": {},
     "output_type": "display_data"
    },
    {
     "data": {
      "text/plain": [
       "<matplotlib.figure.Figure at 0x7f1ed1cb1cc0>"
      ]
     },
     "metadata": {},
     "output_type": "display_data"
    },
    {
     "data": {
      "text/plain": [
       "<matplotlib.figure.Figure at 0x7f1ed1ce3588>"
      ]
     },
     "metadata": {},
     "output_type": "display_data"
    },
    {
     "data": {
      "text/plain": [
       "<matplotlib.figure.Figure at 0x7f1ed15a34a8>"
      ]
     },
     "metadata": {},
     "output_type": "display_data"
    },
    {
     "data": {
      "text/plain": [
       "<matplotlib.figure.Figure at 0x7f1ed1914ef0>"
      ]
     },
     "metadata": {},
     "output_type": "display_data"
    },
    {
     "data": {
      "text/plain": [
       "<matplotlib.figure.Figure at 0x7f1ed18d54a8>"
      ]
     },
     "metadata": {},
     "output_type": "display_data"
    },
    {
     "data": {
      "text/plain": [
       "<matplotlib.figure.Figure at 0x7f1ed1926710>"
      ]
     },
     "metadata": {},
     "output_type": "display_data"
    },
    {
     "data": {
      "text/plain": [
       "<matplotlib.figure.Figure at 0x7f1ed1a45eb8>"
      ]
     },
     "metadata": {},
     "output_type": "display_data"
    },
    {
     "data": {
      "text/plain": [
       "<matplotlib.figure.Figure at 0x7f1ed1ac6748>"
      ]
     },
     "metadata": {},
     "output_type": "display_data"
    },
    {
     "data": {
      "text/plain": [
       "<matplotlib.figure.Figure at 0x7f1ed14f42e8>"
      ]
     },
     "metadata": {},
     "output_type": "display_data"
    },
    {
     "data": {
      "text/plain": [
       "<matplotlib.figure.Figure at 0x7f1ed1a266a0>"
      ]
     },
     "metadata": {},
     "output_type": "display_data"
    },
    {
     "data": {
      "text/plain": [
       "<matplotlib.figure.Figure at 0x7f1ed1aea6d8>"
      ]
     },
     "metadata": {},
     "output_type": "display_data"
    },
    {
     "data": {
      "text/plain": [
       "<matplotlib.figure.Figure at 0x7f1ed1bed550>"
      ]
     },
     "metadata": {},
     "output_type": "display_data"
    },
    {
     "data": {
      "text/plain": [
       "<matplotlib.figure.Figure at 0x7f1e9b5dc278>"
      ]
     },
     "metadata": {},
     "output_type": "display_data"
    },
    {
     "data": {
      "text/plain": [
       "<matplotlib.figure.Figure at 0x7f1ed090eeb8>"
      ]
     },
     "metadata": {},
     "output_type": "display_data"
    },
    {
     "data": {
      "text/plain": [
       "<matplotlib.figure.Figure at 0x7f1e9b6377b8>"
      ]
     },
     "metadata": {},
     "output_type": "display_data"
    },
    {
     "data": {
      "text/plain": [
       "<matplotlib.figure.Figure at 0x7f1ed1be3390>"
      ]
     },
     "metadata": {},
     "output_type": "display_data"
    },
    {
     "data": {
      "text/plain": [
       "<matplotlib.figure.Figure at 0x7f1e9b714d30>"
      ]
     },
     "metadata": {},
     "output_type": "display_data"
    },
    {
     "data": {
      "text/plain": [
       "<matplotlib.figure.Figure at 0x7f1e9b620b38>"
      ]
     },
     "metadata": {},
     "output_type": "display_data"
    },
    {
     "data": {
      "text/plain": [
       "<matplotlib.figure.Figure at 0x7f1ed1a8c2b0>"
      ]
     },
     "metadata": {},
     "output_type": "display_data"
    },
    {
     "data": {
      "text/plain": [
       "<matplotlib.figure.Figure at 0x7f1ed1a86550>"
      ]
     },
     "metadata": {},
     "output_type": "display_data"
    },
    {
     "data": {
      "text/plain": [
       "<matplotlib.figure.Figure at 0x7f1ed1a77eb8>"
      ]
     },
     "metadata": {},
     "output_type": "display_data"
    },
    {
     "data": {
      "text/plain": [
       "<matplotlib.figure.Figure at 0x7f1ed090a9e8>"
      ]
     },
     "metadata": {},
     "output_type": "display_data"
    },
    {
     "data": {
      "text/plain": [
       "<matplotlib.figure.Figure at 0x7f1ed0904160>"
      ]
     },
     "metadata": {},
     "output_type": "display_data"
    },
    {
     "data": {
      "text/plain": [
       "<matplotlib.figure.Figure at 0x7f1e9b6fba20>"
      ]
     },
     "metadata": {},
     "output_type": "display_data"
    },
    {
     "data": {
      "text/plain": [
       "<matplotlib.figure.Figure at 0x7f1ed1a77be0>"
      ]
     },
     "metadata": {},
     "output_type": "display_data"
    },
    {
     "data": {
      "text/plain": [
       "<matplotlib.figure.Figure at 0x7f1e9b637d68>"
      ]
     },
     "metadata": {},
     "output_type": "display_data"
    },
    {
     "data": {
      "text/plain": [
       "<matplotlib.figure.Figure at 0x7f1ed1397320>"
      ]
     },
     "metadata": {},
     "output_type": "display_data"
    },
    {
     "data": {
      "text/plain": [
       "<matplotlib.figure.Figure at 0x7f1ed15a3160>"
      ]
     },
     "metadata": {},
     "output_type": "display_data"
    },
    {
     "data": {
      "text/plain": [
       "<matplotlib.figure.Figure at 0x7f1ed1aff9e8>"
      ]
     },
     "metadata": {},
     "output_type": "display_data"
    },
    {
     "data": {
      "text/plain": [
       "<matplotlib.figure.Figure at 0x7f1ed1affc18>"
      ]
     },
     "metadata": {},
     "output_type": "display_data"
    },
    {
     "data": {
      "text/plain": [
       "<matplotlib.figure.Figure at 0x7f1ed18d5f28>"
      ]
     },
     "metadata": {},
     "output_type": "display_data"
    },
    {
     "data": {
      "text/plain": [
       "<matplotlib.figure.Figure at 0x7f1ed1a8c9e8>"
      ]
     },
     "metadata": {},
     "output_type": "display_data"
    },
    {
     "data": {
      "text/plain": [
       "<matplotlib.figure.Figure at 0x7f1ed14bcba8>"
      ]
     },
     "metadata": {},
     "output_type": "display_data"
    },
    {
     "data": {
      "text/plain": [
       "<matplotlib.figure.Figure at 0x7f1ed192f550>"
      ]
     },
     "metadata": {},
     "output_type": "display_data"
    },
    {
     "data": {
      "text/plain": [
       "<matplotlib.figure.Figure at 0x7f1ed17d8080>"
      ]
     },
     "metadata": {},
     "output_type": "display_data"
    },
    {
     "data": {
      "text/plain": [
       "<matplotlib.figure.Figure at 0x7f1ed1822f60>"
      ]
     },
     "metadata": {},
     "output_type": "display_data"
    },
    {
     "data": {
      "text/plain": [
       "<matplotlib.figure.Figure at 0x7f1ed18fa9b0>"
      ]
     },
     "metadata": {},
     "output_type": "display_data"
    },
    {
     "data": {
      "text/plain": [
       "<matplotlib.figure.Figure at 0x7f1e9b5dcfd0>"
      ]
     },
     "metadata": {},
     "output_type": "display_data"
    },
    {
     "data": {
      "text/plain": [
       "<matplotlib.figure.Figure at 0x7f1ed1d336d8>"
      ]
     },
     "metadata": {},
     "output_type": "display_data"
    },
    {
     "data": {
      "text/plain": [
       "<matplotlib.figure.Figure at 0x7f1ed15dd780>"
      ]
     },
     "metadata": {},
     "output_type": "display_data"
    },
    {
     "data": {
      "text/plain": [
       "<matplotlib.figure.Figure at 0x7f1ed1782f98>"
      ]
     },
     "metadata": {},
     "output_type": "display_data"
    },
    {
     "data": {
      "text/plain": [
       "<matplotlib.figure.Figure at 0x7f1ed1269438>"
      ]
     },
     "metadata": {},
     "output_type": "display_data"
    },
    {
     "data": {
      "text/plain": [
       "<matplotlib.figure.Figure at 0x7f1ed1d3e390>"
      ]
     },
     "metadata": {},
     "output_type": "display_data"
    },
    {
     "data": {
      "text/plain": [
       "<matplotlib.figure.Figure at 0x7f1ed1d41cc0>"
      ]
     },
     "metadata": {},
     "output_type": "display_data"
    },
    {
     "data": {
      "text/plain": [
       "<matplotlib.figure.Figure at 0x7f1ed1926588>"
      ]
     },
     "metadata": {},
     "output_type": "display_data"
    },
    {
     "data": {
      "text/plain": [
       "<matplotlib.figure.Figure at 0x7f1ed1629e80>"
      ]
     },
     "metadata": {},
     "output_type": "display_data"
    },
    {
     "data": {
      "text/plain": [
       "<matplotlib.figure.Figure at 0x7f1ed1b61e10>"
      ]
     },
     "metadata": {},
     "output_type": "display_data"
    },
    {
     "data": {
      "text/plain": [
       "<matplotlib.figure.Figure at 0x7f1ed1a90cf8>"
      ]
     },
     "metadata": {},
     "output_type": "display_data"
    },
    {
     "data": {
      "text/plain": [
       "<matplotlib.figure.Figure at 0x7f1ed1ce3438>"
      ]
     },
     "metadata": {},
     "output_type": "display_data"
    },
    {
     "data": {
      "text/plain": [
       "<matplotlib.figure.Figure at 0x7f1e9b5fb208>"
      ]
     },
     "metadata": {},
     "output_type": "display_data"
    },
    {
     "data": {
      "text/plain": [
       "<matplotlib.figure.Figure at 0x7f1ed16792e8>"
      ]
     },
     "metadata": {},
     "output_type": "display_data"
    },
    {
     "data": {
      "text/plain": [
       "<matplotlib.figure.Figure at 0x7f1ed1a6cba8>"
      ]
     },
     "metadata": {},
     "output_type": "display_data"
    },
    {
     "data": {
      "text/plain": [
       "<matplotlib.figure.Figure at 0x7f1ed1a26cc0>"
      ]
     },
     "metadata": {},
     "output_type": "display_data"
    },
    {
     "data": {
      "text/plain": [
       "<matplotlib.figure.Figure at 0x7f1ed1b42470>"
      ]
     },
     "metadata": {},
     "output_type": "display_data"
    },
    {
     "data": {
      "text/plain": [
       "<matplotlib.figure.Figure at 0x7f1e9b6d8f60>"
      ]
     },
     "metadata": {},
     "output_type": "display_data"
    },
    {
     "data": {
      "text/plain": [
       "<matplotlib.figure.Figure at 0x7f1ed094f400>"
      ]
     },
     "metadata": {},
     "output_type": "display_data"
    },
    {
     "data": {
      "text/plain": [
       "<matplotlib.figure.Figure at 0x7f1e9b5fb518>"
      ]
     },
     "metadata": {},
     "output_type": "display_data"
    },
    {
     "data": {
      "text/plain": [
       "<matplotlib.figure.Figure at 0x7f1ed094f860>"
      ]
     },
     "metadata": {},
     "output_type": "display_data"
    },
    {
     "data": {
      "text/plain": [
       "<matplotlib.figure.Figure at 0x7f1e9b87a7f0>"
      ]
     },
     "metadata": {},
     "output_type": "display_data"
    },
    {
     "data": {
      "text/plain": [
       "<matplotlib.figure.Figure at 0x7f1ed1d7cda0>"
      ]
     },
     "metadata": {},
     "output_type": "display_data"
    },
    {
     "data": {
      "text/plain": [
       "<matplotlib.figure.Figure at 0x7f1ed13cef28>"
      ]
     },
     "metadata": {},
     "output_type": "display_data"
    },
    {
     "data": {
      "text/plain": [
       "<matplotlib.figure.Figure at 0x7f1ed1a6cf28>"
      ]
     },
     "metadata": {},
     "output_type": "display_data"
    },
    {
     "data": {
      "text/plain": [
       "<matplotlib.figure.Figure at 0x7f1ed16077b8>"
      ]
     },
     "metadata": {},
     "output_type": "display_data"
    },
    {
     "data": {
      "text/plain": [
       "<matplotlib.figure.Figure at 0x7f1e9b8080f0>"
      ]
     },
     "metadata": {},
     "output_type": "display_data"
    },
    {
     "data": {
      "text/plain": [
       "<matplotlib.figure.Figure at 0x7f1ed1bbe940>"
      ]
     },
     "metadata": {},
     "output_type": "display_data"
    },
    {
     "data": {
      "text/plain": [
       "<matplotlib.figure.Figure at 0x7f1ed192fb38>"
      ]
     },
     "metadata": {},
     "output_type": "display_data"
    },
    {
     "data": {
      "text/plain": [
       "<matplotlib.figure.Figure at 0x7f1ed1a6c278>"
      ]
     },
     "metadata": {},
     "output_type": "display_data"
    },
    {
     "data": {
      "text/plain": [
       "<matplotlib.figure.Figure at 0x7f1ed18e8e80>"
      ]
     },
     "metadata": {},
     "output_type": "display_data"
    },
    {
     "data": {
      "text/plain": [
       "<matplotlib.figure.Figure at 0x7f1ed1cb6320>"
      ]
     },
     "metadata": {},
     "output_type": "display_data"
    },
    {
     "data": {
      "text/plain": [
       "<matplotlib.figure.Figure at 0x7f1ed1a9f748>"
      ]
     },
     "metadata": {},
     "output_type": "display_data"
    },
    {
     "data": {
      "text/plain": [
       "<matplotlib.figure.Figure at 0x7f1e9b808ba8>"
      ]
     },
     "metadata": {},
     "output_type": "display_data"
    },
    {
     "data": {
      "text/plain": [
       "<matplotlib.figure.Figure at 0x7f1ed15daa90>"
      ]
     },
     "metadata": {},
     "output_type": "display_data"
    },
    {
     "data": {
      "text/plain": [
       "<matplotlib.figure.Figure at 0x7f1e9b673278>"
      ]
     },
     "metadata": {},
     "output_type": "display_data"
    },
    {
     "data": {
      "text/plain": [
       "<matplotlib.figure.Figure at 0x7f1e9b673a58>"
      ]
     },
     "metadata": {},
     "output_type": "display_data"
    },
    {
     "data": {
      "text/plain": [
       "<matplotlib.figure.Figure at 0x7f1ed15da4a8>"
      ]
     },
     "metadata": {},
     "output_type": "display_data"
    },
    {
     "data": {
      "text/plain": [
       "<matplotlib.figure.Figure at 0x7f1ed184acf8>"
      ]
     },
     "metadata": {},
     "output_type": "display_data"
    },
    {
     "data": {
      "text/plain": [
       "<matplotlib.figure.Figure at 0x7f1ed1423e48>"
      ]
     },
     "metadata": {},
     "output_type": "display_data"
    },
    {
     "data": {
      "text/plain": [
       "<matplotlib.figure.Figure at 0x7f1ed1ac6f98>"
      ]
     },
     "metadata": {},
     "output_type": "display_data"
    },
    {
     "data": {
      "text/plain": [
       "<matplotlib.figure.Figure at 0x7f1ed09217b8>"
      ]
     },
     "metadata": {},
     "output_type": "display_data"
    },
    {
     "data": {
      "text/plain": [
       "<matplotlib.figure.Figure at 0x7f1ed0926b00>"
      ]
     },
     "metadata": {},
     "output_type": "display_data"
    },
    {
     "data": {
      "text/plain": [
       "<matplotlib.figure.Figure at 0x7f1ed161df60>"
      ]
     },
     "metadata": {},
     "output_type": "display_data"
    },
    {
     "data": {
      "text/plain": [
       "<matplotlib.figure.Figure at 0x7f1ed1a48b70>"
      ]
     },
     "metadata": {},
     "output_type": "display_data"
    },
    {
     "data": {
      "text/plain": [
       "<matplotlib.figure.Figure at 0x7f1e9b7e4898>"
      ]
     },
     "metadata": {},
     "output_type": "display_data"
    },
    {
     "data": {
      "text/plain": [
       "<matplotlib.figure.Figure at 0x7f1e9b7d96d8>"
      ]
     },
     "metadata": {},
     "output_type": "display_data"
    },
    {
     "data": {
      "text/plain": [
       "<matplotlib.figure.Figure at 0x7f1ed1a9f0b8>"
      ]
     },
     "metadata": {},
     "output_type": "display_data"
    },
    {
     "data": {
      "text/plain": [
       "<matplotlib.figure.Figure at 0x7f1e9b611c50>"
      ]
     },
     "metadata": {},
     "output_type": "display_data"
    },
    {
     "data": {
      "text/plain": [
       "<matplotlib.figure.Figure at 0x7f1ed18fa0f0>"
      ]
     },
     "metadata": {},
     "output_type": "display_data"
    },
    {
     "data": {
      "text/plain": [
       "<matplotlib.figure.Figure at 0x7f1e9b7ab630>"
      ]
     },
     "metadata": {},
     "output_type": "display_data"
    },
    {
     "data": {
      "text/plain": [
       "<matplotlib.figure.Figure at 0x7f1ed196e3c8>"
      ]
     },
     "metadata": {},
     "output_type": "display_data"
    },
    {
     "data": {
      "text/plain": [
       "<matplotlib.figure.Figure at 0x7f1e9b634588>"
      ]
     },
     "metadata": {},
     "output_type": "display_data"
    },
    {
     "data": {
      "text/plain": [
       "<matplotlib.figure.Figure at 0x7f1ed095a3c8>"
      ]
     },
     "metadata": {},
     "output_type": "display_data"
    },
    {
     "data": {
      "text/plain": [
       "<matplotlib.figure.Figure at 0x7f1ed1629fd0>"
      ]
     },
     "metadata": {},
     "output_type": "display_data"
    },
    {
     "data": {
      "text/plain": [
       "<matplotlib.figure.Figure at 0x7f1e9b5dc7b8>"
      ]
     },
     "metadata": {},
     "output_type": "display_data"
    },
    {
     "data": {
      "text/plain": [
       "<matplotlib.figure.Figure at 0x7f1e9b804f60>"
      ]
     },
     "metadata": {},
     "output_type": "display_data"
    },
    {
     "data": {
      "text/plain": [
       "<matplotlib.figure.Figure at 0x7f1ed09814e0>"
      ]
     },
     "metadata": {},
     "output_type": "display_data"
    },
    {
     "data": {
      "text/plain": [
       "<matplotlib.figure.Figure at 0x7f1ed1b3e6a0>"
      ]
     },
     "metadata": {},
     "output_type": "display_data"
    },
    {
     "data": {
      "text/plain": [
       "<matplotlib.figure.Figure at 0x7f1ed1a9fc50>"
      ]
     },
     "metadata": {},
     "output_type": "display_data"
    },
    {
     "data": {
      "text/plain": [
       "<matplotlib.figure.Figure at 0x7f1ed18d5048>"
      ]
     },
     "metadata": {},
     "output_type": "display_data"
    },
    {
     "data": {
      "text/plain": [
       "<matplotlib.figure.Figure at 0x7f1e9b7145f8>"
      ]
     },
     "metadata": {},
     "output_type": "display_data"
    },
    {
     "data": {
      "text/plain": [
       "<matplotlib.figure.Figure at 0x7f1ed1625630>"
      ]
     },
     "metadata": {},
     "output_type": "display_data"
    },
    {
     "data": {
      "text/plain": [
       "<matplotlib.figure.Figure at 0x7f1e9b981978>"
      ]
     },
     "metadata": {},
     "output_type": "display_data"
    },
    {
     "data": {
      "text/plain": [
       "<matplotlib.figure.Figure at 0x7f1ed1405438>"
      ]
     },
     "metadata": {},
     "output_type": "display_data"
    },
    {
     "data": {
      "text/plain": [
       "<matplotlib.figure.Figure at 0x7f1e9b8db160>"
      ]
     },
     "metadata": {},
     "output_type": "display_data"
    },
    {
     "data": {
      "text/plain": [
       "<matplotlib.figure.Figure at 0x7f1e9b8f9eb8>"
      ]
     },
     "metadata": {},
     "output_type": "display_data"
    },
    {
     "data": {
      "text/plain": [
       "<matplotlib.figure.Figure at 0x7f1ed1c308d0>"
      ]
     },
     "metadata": {},
     "output_type": "display_data"
    },
    {
     "data": {
      "text/plain": [
       "<matplotlib.figure.Figure at 0x7f1e9ba2f128>"
      ]
     },
     "metadata": {},
     "output_type": "display_data"
    },
    {
     "data": {
      "text/plain": [
       "<matplotlib.figure.Figure at 0x7f1e9b732c50>"
      ]
     },
     "metadata": {},
     "output_type": "display_data"
    },
    {
     "data": {
      "text/plain": [
       "<matplotlib.figure.Figure at 0x7f1ed0925588>"
      ]
     },
     "metadata": {},
     "output_type": "display_data"
    },
    {
     "data": {
      "text/plain": [
       "<matplotlib.figure.Figure at 0x7f1ed14c60b8>"
      ]
     },
     "metadata": {},
     "output_type": "display_data"
    },
    {
     "data": {
      "text/plain": [
       "<matplotlib.figure.Figure at 0x7f1e9b628be0>"
      ]
     },
     "metadata": {},
     "output_type": "display_data"
    },
    {
     "data": {
      "text/plain": [
       "<matplotlib.figure.Figure at 0x7f1ed17a8320>"
      ]
     },
     "metadata": {},
     "output_type": "display_data"
    },
    {
     "data": {
      "text/plain": [
       "<matplotlib.figure.Figure at 0x7f1ed15d38d0>"
      ]
     },
     "metadata": {},
     "output_type": "display_data"
    },
    {
     "data": {
      "text/plain": [
       "<matplotlib.figure.Figure at 0x7f1ed15f4cf8>"
      ]
     },
     "metadata": {},
     "output_type": "display_data"
    },
    {
     "data": {
      "text/plain": [
       "<matplotlib.figure.Figure at 0x7f1ed095ac50>"
      ]
     },
     "metadata": {},
     "output_type": "display_data"
    },
    {
     "data": {
      "text/plain": [
       "<matplotlib.figure.Figure at 0x7f1ed1d2c8d0>"
      ]
     },
     "metadata": {},
     "output_type": "display_data"
    },
    {
     "data": {
      "text/plain": [
       "<matplotlib.figure.Figure at 0x7f1ed18e41d0>"
      ]
     },
     "metadata": {},
     "output_type": "display_data"
    },
    {
     "data": {
      "text/plain": [
       "<matplotlib.figure.Figure at 0x7f1ed08fff98>"
      ]
     },
     "metadata": {},
     "output_type": "display_data"
    },
    {
     "data": {
      "text/plain": [
       "<matplotlib.figure.Figure at 0x7f1ed1c10198>"
      ]
     },
     "metadata": {},
     "output_type": "display_data"
    },
    {
     "data": {
      "text/plain": [
       "<matplotlib.figure.Figure at 0x7f1e9b87a0b8>"
      ]
     },
     "metadata": {},
     "output_type": "display_data"
    },
    {
     "data": {
      "text/plain": [
       "<matplotlib.figure.Figure at 0x7f1ed1cab198>"
      ]
     },
     "metadata": {},
     "output_type": "display_data"
    },
    {
     "data": {
      "text/plain": [
       "<matplotlib.figure.Figure at 0x7f1e9b819198>"
      ]
     },
     "metadata": {},
     "output_type": "display_data"
    },
    {
     "data": {
      "text/plain": [
       "<matplotlib.figure.Figure at 0x7f1ed0994470>"
      ]
     },
     "metadata": {},
     "output_type": "display_data"
    },
    {
     "data": {
      "text/plain": [
       "<matplotlib.figure.Figure at 0x7f1ed1be3908>"
      ]
     },
     "metadata": {},
     "output_type": "display_data"
    },
    {
     "data": {
      "text/plain": [
       "<matplotlib.figure.Figure at 0x7f1ed0989cf8>"
      ]
     },
     "metadata": {},
     "output_type": "display_data"
    },
    {
     "data": {
      "text/plain": [
       "<matplotlib.figure.Figure at 0x7f1ed1d38908>"
      ]
     },
     "metadata": {},
     "output_type": "display_data"
    },
    {
     "data": {
      "text/plain": [
       "<matplotlib.figure.Figure at 0x7f1ed1798710>"
      ]
     },
     "metadata": {},
     "output_type": "display_data"
    },
    {
     "data": {
      "text/plain": [
       "<matplotlib.figure.Figure at 0x7f1e9b9312b0>"
      ]
     },
     "metadata": {},
     "output_type": "display_data"
    },
    {
     "data": {
      "text/plain": [
       "<matplotlib.figure.Figure at 0x7f1ed196e4a8>"
      ]
     },
     "metadata": {},
     "output_type": "display_data"
    },
    {
     "data": {
      "text/plain": [
       "<matplotlib.figure.Figure at 0x7f1ed1d386d8>"
      ]
     },
     "metadata": {},
     "output_type": "display_data"
    },
    {
     "data": {
      "text/plain": [
       "<matplotlib.figure.Figure at 0x7f1e9b673710>"
      ]
     },
     "metadata": {},
     "output_type": "display_data"
    },
    {
     "data": {
      "text/plain": [
       "<matplotlib.figure.Figure at 0x7f1ed090a208>"
      ]
     },
     "metadata": {},
     "output_type": "display_data"
    },
    {
     "data": {
      "text/plain": [
       "<matplotlib.figure.Figure at 0x7f1ed1b431d0>"
      ]
     },
     "metadata": {},
     "output_type": "display_data"
    },
    {
     "data": {
      "text/plain": [
       "<matplotlib.figure.Figure at 0x7f1e9b86c048>"
      ]
     },
     "metadata": {},
     "output_type": "display_data"
    },
    {
     "data": {
      "text/plain": [
       "<matplotlib.figure.Figure at 0x7f1e9b894be0>"
      ]
     },
     "metadata": {},
     "output_type": "display_data"
    },
    {
     "data": {
      "text/plain": [
       "<matplotlib.figure.Figure at 0x7f1e9b981eb8>"
      ]
     },
     "metadata": {},
     "output_type": "display_data"
    },
    {
     "data": {
      "text/plain": [
       "<matplotlib.figure.Figure at 0x7f1ed1ce3320>"
      ]
     },
     "metadata": {},
     "output_type": "display_data"
    },
    {
     "data": {
      "text/plain": [
       "<matplotlib.figure.Figure at 0x7f1ed15f4630>"
      ]
     },
     "metadata": {},
     "output_type": "display_data"
    },
    {
     "data": {
      "text/plain": [
       "<matplotlib.figure.Figure at 0x7f1e9bb649e8>"
      ]
     },
     "metadata": {},
     "output_type": "display_data"
    },
    {
     "data": {
      "text/plain": [
       "<matplotlib.figure.Figure at 0x7f1e9bae9e10>"
      ]
     },
     "metadata": {},
     "output_type": "display_data"
    },
    {
     "data": {
      "text/plain": [
       "<matplotlib.figure.Figure at 0x7f1e9b94a7b8>"
      ]
     },
     "metadata": {},
     "output_type": "display_data"
    },
    {
     "data": {
      "text/plain": [
       "<matplotlib.figure.Figure at 0x7f1e9bb26748>"
      ]
     },
     "metadata": {},
     "output_type": "display_data"
    },
    {
     "data": {
      "text/plain": [
       "<matplotlib.figure.Figure at 0x7f1e9ba3e9e8>"
      ]
     },
     "metadata": {},
     "output_type": "display_data"
    },
    {
     "data": {
      "text/plain": [
       "<matplotlib.figure.Figure at 0x7f1e9b9ae668>"
      ]
     },
     "metadata": {},
     "output_type": "display_data"
    },
    {
     "data": {
      "text/plain": [
       "<matplotlib.figure.Figure at 0x7f1e9bbe4e10>"
      ]
     },
     "metadata": {},
     "output_type": "display_data"
    },
    {
     "data": {
      "text/plain": [
       "<matplotlib.figure.Figure at 0x7f1e9ba5c320>"
      ]
     },
     "metadata": {},
     "output_type": "display_data"
    },
    {
     "data": {
      "text/plain": [
       "<matplotlib.figure.Figure at 0x7f1e9ba74128>"
      ]
     },
     "metadata": {},
     "output_type": "display_data"
    },
    {
     "data": {
      "text/plain": [
       "<matplotlib.figure.Figure at 0x7f1e9ba86dd8>"
      ]
     },
     "metadata": {},
     "output_type": "display_data"
    },
    {
     "data": {
      "text/plain": [
       "<matplotlib.figure.Figure at 0x7f1ed175b780>"
      ]
     },
     "metadata": {},
     "output_type": "display_data"
    },
    {
     "data": {
      "text/plain": [
       "<matplotlib.figure.Figure at 0x7f1e9b96ac88>"
      ]
     },
     "metadata": {},
     "output_type": "display_data"
    },
    {
     "data": {
      "text/plain": [
       "<matplotlib.figure.Figure at 0x7f1e9b86ce80>"
      ]
     },
     "metadata": {},
     "output_type": "display_data"
    },
    {
     "data": {
      "text/plain": [
       "<matplotlib.figure.Figure at 0x7f1e9b931320>"
      ]
     },
     "metadata": {},
     "output_type": "display_data"
    },
    {
     "data": {
      "text/plain": [
       "<matplotlib.figure.Figure at 0x7f1e9b7a46d8>"
      ]
     },
     "metadata": {},
     "output_type": "display_data"
    },
    {
     "data": {
      "text/plain": [
       "<matplotlib.figure.Figure at 0x7f1ed1926828>"
      ]
     },
     "metadata": {},
     "output_type": "display_data"
    },
    {
     "data": {
      "text/plain": [
       "<matplotlib.figure.Figure at 0x7f1e9b5dc9b0>"
      ]
     },
     "metadata": {},
     "output_type": "display_data"
    },
    {
     "data": {
      "text/plain": [
       "<matplotlib.figure.Figure at 0x7f1e9b73b400>"
      ]
     },
     "metadata": {},
     "output_type": "display_data"
    },
    {
     "data": {
      "text/plain": [
       "<matplotlib.figure.Figure at 0x7f1ed1a486d8>"
      ]
     },
     "metadata": {},
     "output_type": "display_data"
    },
    {
     "data": {
      "text/plain": [
       "<matplotlib.figure.Figure at 0x7f1ed1439780>"
      ]
     },
     "metadata": {},
     "output_type": "display_data"
    },
    {
     "data": {
      "text/plain": [
       "<matplotlib.figure.Figure at 0x7f1e9b7146d8>"
      ]
     },
     "metadata": {},
     "output_type": "display_data"
    },
    {
     "data": {
      "text/plain": [
       "<matplotlib.figure.Figure at 0x7f1e9b981550>"
      ]
     },
     "metadata": {},
     "output_type": "display_data"
    },
    {
     "data": {
      "text/plain": [
       "<matplotlib.figure.Figure at 0x7f1ed1c42400>"
      ]
     },
     "metadata": {},
     "output_type": "display_data"
    },
    {
     "data": {
      "text/plain": [
       "<matplotlib.figure.Figure at 0x7f1e9b628978>"
      ]
     },
     "metadata": {},
     "output_type": "display_data"
    },
    {
     "data": {
      "text/plain": [
       "<matplotlib.figure.Figure at 0x7f1ed1a45ba8>"
      ]
     },
     "metadata": {},
     "output_type": "display_data"
    },
    {
     "data": {
      "text/plain": [
       "<matplotlib.figure.Figure at 0x7f1ed0966358>"
      ]
     },
     "metadata": {},
     "output_type": "display_data"
    },
    {
     "data": {
      "text/plain": [
       "<matplotlib.figure.Figure at 0x7f1e9ba8d2b0>"
      ]
     },
     "metadata": {},
     "output_type": "display_data"
    },
    {
     "data": {
      "text/plain": [
       "<matplotlib.figure.Figure at 0x7f1ed1d837b8>"
      ]
     },
     "metadata": {},
     "output_type": "display_data"
    },
    {
     "data": {
      "text/plain": [
       "<matplotlib.figure.Figure at 0x7f1e9b79e160>"
      ]
     },
     "metadata": {},
     "output_type": "display_data"
    },
    {
     "data": {
      "text/plain": [
       "<matplotlib.figure.Figure at 0x7f1e9b7d9668>"
      ]
     },
     "metadata": {},
     "output_type": "display_data"
    },
    {
     "data": {
      "text/plain": [
       "<matplotlib.figure.Figure at 0x7f1e9b9f59b0>"
      ]
     },
     "metadata": {},
     "output_type": "display_data"
    },
    {
     "data": {
      "text/plain": [
       "<matplotlib.figure.Figure at 0x7f1ed1cfb0b8>"
      ]
     },
     "metadata": {},
     "output_type": "display_data"
    },
    {
     "data": {
      "text/plain": [
       "<matplotlib.figure.Figure at 0x7f1ed14bcd30>"
      ]
     },
     "metadata": {},
     "output_type": "display_data"
    },
    {
     "data": {
      "text/plain": [
       "<matplotlib.figure.Figure at 0x7f1ed08fffd0>"
      ]
     },
     "metadata": {},
     "output_type": "display_data"
    },
    {
     "data": {
      "text/plain": [
       "<matplotlib.figure.Figure at 0x7f1ed14824a8>"
      ]
     },
     "metadata": {},
     "output_type": "display_data"
    },
    {
     "data": {
      "text/plain": [
       "<matplotlib.figure.Figure at 0x7f1e9b72ce80>"
      ]
     },
     "metadata": {},
     "output_type": "display_data"
    },
    {
     "data": {
      "text/plain": [
       "<matplotlib.figure.Figure at 0x7f1e9b7e6080>"
      ]
     },
     "metadata": {},
     "output_type": "display_data"
    },
    {
     "data": {
      "text/plain": [
       "<matplotlib.figure.Figure at 0x7f1ed1cd6908>"
      ]
     },
     "metadata": {},
     "output_type": "display_data"
    },
    {
     "data": {
      "text/plain": [
       "<matplotlib.figure.Figure at 0x7f1ed0904320>"
      ]
     },
     "metadata": {},
     "output_type": "display_data"
    },
    {
     "data": {
      "text/plain": [
       "<matplotlib.figure.Figure at 0x7f1e9b73b0f0>"
      ]
     },
     "metadata": {},
     "output_type": "display_data"
    },
    {
     "data": {
      "text/plain": [
       "<matplotlib.figure.Figure at 0x7f1ed1d2c828>"
      ]
     },
     "metadata": {},
     "output_type": "display_data"
    },
    {
     "data": {
      "text/plain": [
       "<matplotlib.figure.Figure at 0x7f1e9ba29470>"
      ]
     },
     "metadata": {},
     "output_type": "display_data"
    },
    {
     "data": {
      "text/plain": [
       "<matplotlib.figure.Figure at 0x7f1e9bb757b8>"
      ]
     },
     "metadata": {},
     "output_type": "display_data"
    },
    {
     "data": {
      "text/plain": [
       "<matplotlib.figure.Figure at 0x7f1e9b9aed30>"
      ]
     },
     "metadata": {},
     "output_type": "display_data"
    },
    {
     "data": {
      "text/plain": [
       "<matplotlib.figure.Figure at 0x7f1ed146cbe0>"
      ]
     },
     "metadata": {},
     "output_type": "display_data"
    },
    {
     "data": {
      "text/plain": [
       "<matplotlib.figure.Figure at 0x7f1e9bad2320>"
      ]
     },
     "metadata": {},
     "output_type": "display_data"
    },
    {
     "data": {
      "text/plain": [
       "<matplotlib.figure.Figure at 0x7f1e9b7f7ba8>"
      ]
     },
     "metadata": {},
     "output_type": "display_data"
    },
    {
     "data": {
      "text/plain": [
       "<matplotlib.figure.Figure at 0x7f1ed14b4cc0>"
      ]
     },
     "metadata": {},
     "output_type": "display_data"
    },
    {
     "data": {
      "text/plain": [
       "<matplotlib.figure.Figure at 0x7f1ed094f518>"
      ]
     },
     "metadata": {},
     "output_type": "display_data"
    },
    {
     "data": {
      "text/plain": [
       "<matplotlib.figure.Figure at 0x7f1e9b79f0b8>"
      ]
     },
     "metadata": {},
     "output_type": "display_data"
    },
    {
     "data": {
      "text/plain": [
       "<matplotlib.figure.Figure at 0x7f1e9bacf668>"
      ]
     },
     "metadata": {},
     "output_type": "display_data"
    },
    {
     "data": {
      "text/plain": [
       "<matplotlib.figure.Figure at 0x7f1ed1ae3550>"
      ]
     },
     "metadata": {},
     "output_type": "display_data"
    },
    {
     "data": {
      "text/plain": [
       "<matplotlib.figure.Figure at 0x7f1ed1d3e860>"
      ]
     },
     "metadata": {},
     "output_type": "display_data"
    },
    {
     "data": {
      "text/plain": [
       "<matplotlib.figure.Figure at 0x7f1ed1a6cd30>"
      ]
     },
     "metadata": {},
     "output_type": "display_data"
    },
    {
     "data": {
      "text/plain": [
       "<matplotlib.figure.Figure at 0x7f1ed1d0fb38>"
      ]
     },
     "metadata": {},
     "output_type": "display_data"
    },
    {
     "data": {
      "text/plain": [
       "<matplotlib.figure.Figure at 0x7f1ed19d6e48>"
      ]
     },
     "metadata": {},
     "output_type": "display_data"
    },
    {
     "data": {
      "text/plain": [
       "<matplotlib.figure.Figure at 0x7f1ed15916a0>"
      ]
     },
     "metadata": {},
     "output_type": "display_data"
    },
    {
     "data": {
      "text/plain": [
       "<matplotlib.figure.Figure at 0x7f1ed14b4f60>"
      ]
     },
     "metadata": {},
     "output_type": "display_data"
    },
    {
     "data": {
      "text/plain": [
       "<matplotlib.figure.Figure at 0x7f1e9b804198>"
      ]
     },
     "metadata": {},
     "output_type": "display_data"
    },
    {
     "data": {
      "text/plain": [
       "<matplotlib.figure.Figure at 0x7f1ed1266550>"
      ]
     },
     "metadata": {},
     "output_type": "display_data"
    },
    {
     "data": {
      "text/plain": [
       "<matplotlib.figure.Figure at 0x7f1ed1aaab70>"
      ]
     },
     "metadata": {},
     "output_type": "display_data"
    },
    {
     "data": {
      "text/plain": [
       "<matplotlib.figure.Figure at 0x7f1e9baefe80>"
      ]
     },
     "metadata": {},
     "output_type": "display_data"
    },
    {
     "data": {
      "text/plain": [
       "<matplotlib.figure.Figure at 0x7f1ed16110b8>"
      ]
     },
     "metadata": {},
     "output_type": "display_data"
    },
    {
     "data": {
      "text/plain": [
       "<matplotlib.figure.Figure at 0x7f1ed11674a8>"
      ]
     },
     "metadata": {},
     "output_type": "display_data"
    },
    {
     "data": {
      "text/plain": [
       "<matplotlib.figure.Figure at 0x7f1ed1266470>"
      ]
     },
     "metadata": {},
     "output_type": "display_data"
    },
    {
     "data": {
      "text/plain": [
       "<matplotlib.figure.Figure at 0x7f1ed09a76d8>"
      ]
     },
     "metadata": {},
     "output_type": "display_data"
    },
    {
     "data": {
      "text/plain": [
       "<matplotlib.figure.Figure at 0x7f1ed146cdd8>"
      ]
     },
     "metadata": {},
     "output_type": "display_data"
    },
    {
     "data": {
      "text/plain": [
       "<matplotlib.figure.Figure at 0x7f1ed16576a0>"
      ]
     },
     "metadata": {},
     "output_type": "display_data"
    },
    {
     "data": {
      "text/plain": [
       "<matplotlib.figure.Figure at 0x7f1e9bbe4e48>"
      ]
     },
     "metadata": {},
     "output_type": "display_data"
    },
    {
     "data": {
      "text/plain": [
       "<matplotlib.figure.Figure at 0x7f1ed1aa1588>"
      ]
     },
     "metadata": {},
     "output_type": "display_data"
    },
    {
     "data": {
      "text/plain": [
       "<matplotlib.figure.Figure at 0x7f1e9b839a58>"
      ]
     },
     "metadata": {},
     "output_type": "display_data"
    },
    {
     "data": {
      "text/plain": [
       "<matplotlib.figure.Figure at 0x7f1e9b936940>"
      ]
     },
     "metadata": {},
     "output_type": "display_data"
    },
    {
     "data": {
      "text/plain": [
       "<matplotlib.figure.Figure at 0x7f1e9bbfd748>"
      ]
     },
     "metadata": {},
     "output_type": "display_data"
    },
    {
     "data": {
      "text/plain": [
       "<matplotlib.figure.Figure at 0x7f1e9bbf2940>"
      ]
     },
     "metadata": {},
     "output_type": "display_data"
    },
    {
     "data": {
      "text/plain": [
       "<matplotlib.figure.Figure at 0x7f1ed19644a8>"
      ]
     },
     "metadata": {},
     "output_type": "display_data"
    },
    {
     "data": {
      "text/plain": [
       "<matplotlib.figure.Figure at 0x7f1ed0966f98>"
      ]
     },
     "metadata": {},
     "output_type": "display_data"
    },
    {
     "data": {
      "text/plain": [
       "<matplotlib.figure.Figure at 0x7f1ed1aa56d8>"
      ]
     },
     "metadata": {},
     "output_type": "display_data"
    },
    {
     "data": {
      "text/plain": [
       "<matplotlib.figure.Figure at 0x7f1e9b634a20>"
      ]
     },
     "metadata": {},
     "output_type": "display_data"
    },
    {
     "data": {
      "text/plain": [
       "<matplotlib.figure.Figure at 0x7f1ed17edd68>"
      ]
     },
     "metadata": {},
     "output_type": "display_data"
    },
    {
     "data": {
      "text/plain": [
       "<matplotlib.figure.Figure at 0x7f1ed1665550>"
      ]
     },
     "metadata": {},
     "output_type": "display_data"
    },
    {
     "data": {
      "text/plain": [
       "<matplotlib.figure.Figure at 0x7f1e9b611cc0>"
      ]
     },
     "metadata": {},
     "output_type": "display_data"
    },
    {
     "data": {
      "text/plain": [
       "<matplotlib.figure.Figure at 0x7f1ed1aa13c8>"
      ]
     },
     "metadata": {},
     "output_type": "display_data"
    },
    {
     "data": {
      "text/plain": [
       "<matplotlib.figure.Figure at 0x7f1ed08ff630>"
      ]
     },
     "metadata": {},
     "output_type": "display_data"
    },
    {
     "data": {
      "text/plain": [
       "<matplotlib.figure.Figure at 0x7f1e9ba3e588>"
      ]
     },
     "metadata": {},
     "output_type": "display_data"
    },
    {
     "data": {
      "text/plain": [
       "<matplotlib.figure.Figure at 0x7f1e9b958e80>"
      ]
     },
     "metadata": {},
     "output_type": "display_data"
    },
    {
     "data": {
      "text/plain": [
       "<matplotlib.figure.Figure at 0x7f1e9b5fbcc0>"
      ]
     },
     "metadata": {},
     "output_type": "display_data"
    },
    {
     "data": {
      "text/plain": [
       "<matplotlib.figure.Figure at 0x7f1e9ba86710>"
      ]
     },
     "metadata": {},
     "output_type": "display_data"
    },
    {
     "data": {
      "text/plain": [
       "<matplotlib.figure.Figure at 0x7f1ed1afb898>"
      ]
     },
     "metadata": {},
     "output_type": "display_data"
    },
    {
     "data": {
      "text/plain": [
       "<matplotlib.figure.Figure at 0x7f1ed1b424e0>"
      ]
     },
     "metadata": {},
     "output_type": "display_data"
    },
    {
     "data": {
      "text/plain": [
       "<matplotlib.figure.Figure at 0x7f1e9b7aaeb8>"
      ]
     },
     "metadata": {},
     "output_type": "display_data"
    },
    {
     "data": {
      "text/plain": [
       "<matplotlib.figure.Figure at 0x7f1e9ba86e80>"
      ]
     },
     "metadata": {},
     "output_type": "display_data"
    },
    {
     "data": {
      "text/plain": [
       "<matplotlib.figure.Figure at 0x7f1ed1d31a90>"
      ]
     },
     "metadata": {},
     "output_type": "display_data"
    },
    {
     "data": {
      "text/plain": [
       "<matplotlib.figure.Figure at 0x7f1ed1611ef0>"
      ]
     },
     "metadata": {},
     "output_type": "display_data"
    },
    {
     "data": {
      "text/plain": [
       "<matplotlib.figure.Figure at 0x7f1ed1bb0b70>"
      ]
     },
     "metadata": {},
     "output_type": "display_data"
    },
    {
     "data": {
      "text/plain": [
       "<matplotlib.figure.Figure at 0x7f1ed1cab518>"
      ]
     },
     "metadata": {},
     "output_type": "display_data"
    },
    {
     "data": {
      "text/plain": [
       "<matplotlib.figure.Figure at 0x7f1ed1bb04e0>"
      ]
     },
     "metadata": {},
     "output_type": "display_data"
    },
    {
     "data": {
      "text/plain": [
       "<matplotlib.figure.Figure at 0x7f1ed1d1a780>"
      ]
     },
     "metadata": {},
     "output_type": "display_data"
    },
    {
     "data": {
      "text/plain": [
       "<matplotlib.figure.Figure at 0x7f1e9b991358>"
      ]
     },
     "metadata": {},
     "output_type": "display_data"
    },
    {
     "data": {
      "text/plain": [
       "<matplotlib.figure.Figure at 0x7f1e9b972cf8>"
      ]
     },
     "metadata": {},
     "output_type": "display_data"
    },
    {
     "data": {
      "text/plain": [
       "<matplotlib.figure.Figure at 0x7f1e9ba03be0>"
      ]
     },
     "metadata": {},
     "output_type": "display_data"
    },
    {
     "data": {
      "text/plain": [
       "<matplotlib.figure.Figure at 0x7f1ed175b2b0>"
      ]
     },
     "metadata": {},
     "output_type": "display_data"
    },
    {
     "data": {
      "text/plain": [
       "<matplotlib.figure.Figure at 0x7f1e9b81bfd0>"
      ]
     },
     "metadata": {},
     "output_type": "display_data"
    },
    {
     "data": {
      "text/plain": [
       "<matplotlib.figure.Figure at 0x7f1ed1ba4080>"
      ]
     },
     "metadata": {},
     "output_type": "display_data"
    },
    {
     "data": {
      "text/plain": [
       "<matplotlib.figure.Figure at 0x7f1ed11591d0>"
      ]
     },
     "metadata": {},
     "output_type": "display_data"
    },
    {
     "data": {
      "text/plain": [
       "<matplotlib.figure.Figure at 0x7f1ed1213f98>"
      ]
     },
     "metadata": {},
     "output_type": "display_data"
    },
    {
     "data": {
      "text/plain": [
       "<matplotlib.figure.Figure at 0x7f1ed095a518>"
      ]
     },
     "metadata": {},
     "output_type": "display_data"
    },
    {
     "data": {
      "text/plain": [
       "<matplotlib.figure.Figure at 0x7f1e9b7b1470>"
      ]
     },
     "metadata": {},
     "output_type": "display_data"
    },
    {
     "data": {
      "text/plain": [
       "<matplotlib.figure.Figure at 0x7f1e9b81b908>"
      ]
     },
     "metadata": {},
     "output_type": "display_data"
    },
    {
     "data": {
      "text/plain": [
       "<matplotlib.figure.Figure at 0x7f1e9bb476d8>"
      ]
     },
     "metadata": {},
     "output_type": "display_data"
    },
    {
     "data": {
      "text/plain": [
       "<matplotlib.figure.Figure at 0x7f1ed11655c0>"
      ]
     },
     "metadata": {},
     "output_type": "display_data"
    },
    {
     "data": {
      "text/plain": [
       "<matplotlib.figure.Figure at 0x7f1f0817f4a8>"
      ]
     },
     "metadata": {},
     "output_type": "display_data"
    },
    {
     "data": {
      "text/plain": [
       "<matplotlib.figure.Figure at 0x7f1e9b8041d0>"
      ]
     },
     "metadata": {},
     "output_type": "display_data"
    },
    {
     "data": {
      "text/plain": [
       "<matplotlib.figure.Figure at 0x7f1e9bb26908>"
      ]
     },
     "metadata": {},
     "output_type": "display_data"
    },
    {
     "data": {
      "text/plain": [
       "<matplotlib.figure.Figure at 0x7f1e9bb47438>"
      ]
     },
     "metadata": {},
     "output_type": "display_data"
    },
    {
     "data": {
      "text/plain": [
       "<matplotlib.figure.Figure at 0x7f1e9b65a208>"
      ]
     },
     "metadata": {},
     "output_type": "display_data"
    },
    {
     "data": {
      "text/plain": [
       "<matplotlib.figure.Figure at 0x7f1e9ba84550>"
      ]
     },
     "metadata": {},
     "output_type": "display_data"
    },
    {
     "data": {
      "text/plain": [
       "<matplotlib.figure.Figure at 0x7f1e9bba7a20>"
      ]
     },
     "metadata": {},
     "output_type": "display_data"
    },
    {
     "data": {
      "text/plain": [
       "<matplotlib.figure.Figure at 0x7f1ed17fdc18>"
      ]
     },
     "metadata": {},
     "output_type": "display_data"
    },
    {
     "data": {
      "text/plain": [
       "<matplotlib.figure.Figure at 0x7f1ed1a770f0>"
      ]
     },
     "metadata": {},
     "output_type": "display_data"
    },
    {
     "data": {
      "text/plain": [
       "<matplotlib.figure.Figure at 0x7f1ed1a905f8>"
      ]
     },
     "metadata": {},
     "output_type": "display_data"
    },
    {
     "data": {
      "text/plain": [
       "<matplotlib.figure.Figure at 0x7f1e9b94eac8>"
      ]
     },
     "metadata": {},
     "output_type": "display_data"
    },
    {
     "data": {
      "text/plain": [
       "<matplotlib.figure.Figure at 0x7f1e9b6d89e8>"
      ]
     },
     "metadata": {},
     "output_type": "display_data"
    },
    {
     "data": {
      "text/plain": [
       "<matplotlib.figure.Figure at 0x7f1ed1320400>"
      ]
     },
     "metadata": {},
     "output_type": "display_data"
    },
    {
     "data": {
      "text/plain": [
       "<matplotlib.figure.Figure at 0x7f1ed13ce3c8>"
      ]
     },
     "metadata": {},
     "output_type": "display_data"
    },
    {
     "data": {
      "text/plain": [
       "<matplotlib.figure.Figure at 0x7f1ed12d6978>"
      ]
     },
     "metadata": {},
     "output_type": "display_data"
    },
    {
     "data": {
      "text/plain": [
       "<matplotlib.figure.Figure at 0x7f1e9b808978>"
      ]
     },
     "metadata": {},
     "output_type": "display_data"
    },
    {
     "data": {
      "text/plain": [
       "<matplotlib.figure.Figure at 0x7f1ed12f3f98>"
      ]
     },
     "metadata": {},
     "output_type": "display_data"
    },
    {
     "data": {
      "text/plain": [
       "<matplotlib.figure.Figure at 0x7f1ed1a90be0>"
      ]
     },
     "metadata": {},
     "output_type": "display_data"
    },
    {
     "data": {
      "text/plain": [
       "<matplotlib.figure.Figure at 0x7f1ed111df60>"
      ]
     },
     "metadata": {},
     "output_type": "display_data"
    },
    {
     "data": {
      "text/plain": [
       "<matplotlib.figure.Figure at 0x7f1e9b86c278>"
      ]
     },
     "metadata": {},
     "output_type": "display_data"
    },
    {
     "data": {
      "text/plain": [
       "<matplotlib.figure.Figure at 0x7f1ed0925198>"
      ]
     },
     "metadata": {},
     "output_type": "display_data"
    },
    {
     "data": {
      "text/plain": [
       "<matplotlib.figure.Figure at 0x7f1ed1c9a080>"
      ]
     },
     "metadata": {},
     "output_type": "display_data"
    },
    {
     "data": {
      "text/plain": [
       "<matplotlib.figure.Figure at 0x7f1e9b72c4e0>"
      ]
     },
     "metadata": {},
     "output_type": "display_data"
    },
    {
     "data": {
      "text/plain": [
       "<matplotlib.figure.Figure at 0x7f1ed11c0c50>"
      ]
     },
     "metadata": {},
     "output_type": "display_data"
    },
    {
     "data": {
      "text/plain": [
       "<matplotlib.figure.Figure at 0x7f1e9bbfd588>"
      ]
     },
     "metadata": {},
     "output_type": "display_data"
    },
    {
     "data": {
      "text/plain": [
       "<matplotlib.figure.Figure at 0x7f1e9b7e9a58>"
      ]
     },
     "metadata": {},
     "output_type": "display_data"
    },
    {
     "data": {
      "text/plain": [
       "<matplotlib.figure.Figure at 0x7f1ed0957710>"
      ]
     },
     "metadata": {},
     "output_type": "display_data"
    },
    {
     "data": {
      "text/plain": [
       "<matplotlib.figure.Figure at 0x7f1e9bb757f0>"
      ]
     },
     "metadata": {},
     "output_type": "display_data"
    },
    {
     "data": {
      "text/plain": [
       "<matplotlib.figure.Figure at 0x7f1ed1a52e48>"
      ]
     },
     "metadata": {},
     "output_type": "display_data"
    },
    {
     "data": {
      "text/plain": [
       "<matplotlib.figure.Figure at 0x7f1e9b5da6a0>"
      ]
     },
     "metadata": {},
     "output_type": "display_data"
    },
    {
     "data": {
      "text/plain": [
       "<matplotlib.figure.Figure at 0x7f1ed1159748>"
      ]
     },
     "metadata": {},
     "output_type": "display_data"
    },
    {
     "data": {
      "text/plain": [
       "<matplotlib.figure.Figure at 0x7f1e9b7a47f0>"
      ]
     },
     "metadata": {},
     "output_type": "display_data"
    },
    {
     "data": {
      "text/plain": [
       "<matplotlib.figure.Figure at 0x7f1ed1167390>"
      ]
     },
     "metadata": {},
     "output_type": "display_data"
    },
    {
     "data": {
      "text/plain": [
       "<matplotlib.figure.Figure at 0x7f1e9bb2fc50>"
      ]
     },
     "metadata": {},
     "output_type": "display_data"
    },
    {
     "data": {
      "text/plain": [
       "<matplotlib.figure.Figure at 0x7f1e9b991a58>"
      ]
     },
     "metadata": {},
     "output_type": "display_data"
    },
    {
     "data": {
      "text/plain": [
       "<matplotlib.figure.Figure at 0x7f1ed12e8f98>"
      ]
     },
     "metadata": {},
     "output_type": "display_data"
    },
    {
     "data": {
      "text/plain": [
       "<matplotlib.figure.Figure at 0x7f1e9b5da8d0>"
      ]
     },
     "metadata": {},
     "output_type": "display_data"
    },
    {
     "data": {
      "text/plain": [
       "<matplotlib.figure.Figure at 0x7f1ed132a470>"
      ]
     },
     "metadata": {},
     "output_type": "display_data"
    },
    {
     "data": {
      "text/plain": [
       "<matplotlib.figure.Figure at 0x7f1e9bb40208>"
      ]
     },
     "metadata": {},
     "output_type": "display_data"
    },
    {
     "data": {
      "text/plain": [
       "<matplotlib.figure.Figure at 0x7f1e9bbc73c8>"
      ]
     },
     "metadata": {},
     "output_type": "display_data"
    },
    {
     "data": {
      "text/plain": [
       "<matplotlib.figure.Figure at 0x7f1e9ba79be0>"
      ]
     },
     "metadata": {},
     "output_type": "display_data"
    },
    {
     "data": {
      "text/plain": [
       "<matplotlib.figure.Figure at 0x7f1e9b620828>"
      ]
     },
     "metadata": {},
     "output_type": "display_data"
    },
    {
     "data": {
      "text/plain": [
       "<matplotlib.figure.Figure at 0x7f1ed186cef0>"
      ]
     },
     "metadata": {},
     "output_type": "display_data"
    },
    {
     "data": {
      "text/plain": [
       "<matplotlib.figure.Figure at 0x7f1e9ba2fac8>"
      ]
     },
     "metadata": {},
     "output_type": "display_data"
    },
    {
     "data": {
      "text/plain": [
       "<matplotlib.figure.Figure at 0x7f1ed1d09e80>"
      ]
     },
     "metadata": {},
     "output_type": "display_data"
    },
    {
     "data": {
      "text/plain": [
       "<matplotlib.figure.Figure at 0x7f1ed1543f98>"
      ]
     },
     "metadata": {},
     "output_type": "display_data"
    },
    {
     "data": {
      "text/plain": [
       "<matplotlib.figure.Figure at 0x7f1ed186c748>"
      ]
     },
     "metadata": {},
     "output_type": "display_data"
    },
    {
     "data": {
      "text/plain": [
       "<matplotlib.figure.Figure at 0x7f1e9bbc7be0>"
      ]
     },
     "metadata": {},
     "output_type": "display_data"
    },
    {
     "data": {
      "text/plain": [
       "<matplotlib.figure.Figure at 0x7f1ed12faa20>"
      ]
     },
     "metadata": {},
     "output_type": "display_data"
    },
    {
     "data": {
      "text/plain": [
       "<matplotlib.figure.Figure at 0x7f1e9ba4bef0>"
      ]
     },
     "metadata": {},
     "output_type": "display_data"
    },
    {
     "data": {
      "text/plain": [
       "<matplotlib.figure.Figure at 0x7f1e9b931438>"
      ]
     },
     "metadata": {},
     "output_type": "display_data"
    },
    {
     "data": {
      "text/plain": [
       "<matplotlib.figure.Figure at 0x7f1ed14c17b8>"
      ]
     },
     "metadata": {},
     "output_type": "display_data"
    },
    {
     "data": {
      "text/plain": [
       "<matplotlib.figure.Figure at 0x7f1ed1867b00>"
      ]
     },
     "metadata": {},
     "output_type": "display_data"
    },
    {
     "data": {
      "text/plain": [
       "<matplotlib.figure.Figure at 0x7f1e9ba747b8>"
      ]
     },
     "metadata": {},
     "output_type": "display_data"
    },
    {
     "data": {
      "text/plain": [
       "<matplotlib.figure.Figure at 0x7f1e9ba4b978>"
      ]
     },
     "metadata": {},
     "output_type": "display_data"
    },
    {
     "data": {
      "text/plain": [
       "<matplotlib.figure.Figure at 0x7f1ed150eb70>"
      ]
     },
     "metadata": {},
     "output_type": "display_data"
    },
    {
     "data": {
      "text/plain": [
       "<matplotlib.figure.Figure at 0x7f1ed095a0f0>"
      ]
     },
     "metadata": {},
     "output_type": "display_data"
    },
    {
     "data": {
      "text/plain": [
       "<matplotlib.figure.Figure at 0x7f1ed12f0550>"
      ]
     },
     "metadata": {},
     "output_type": "display_data"
    },
    {
     "data": {
      "text/plain": [
       "<matplotlib.figure.Figure at 0x7f1e9ba2f6d8>"
      ]
     },
     "metadata": {},
     "output_type": "display_data"
    },
    {
     "data": {
      "text/plain": [
       "<matplotlib.figure.Figure at 0x7f1ed150e978>"
      ]
     },
     "metadata": {},
     "output_type": "display_data"
    },
    {
     "data": {
      "text/plain": [
       "<matplotlib.figure.Figure at 0x7f1e9b7a4940>"
      ]
     },
     "metadata": {},
     "output_type": "display_data"
    },
    {
     "data": {
      "text/plain": [
       "<matplotlib.figure.Figure at 0x7f1e9b9722b0>"
      ]
     },
     "metadata": {},
     "output_type": "display_data"
    },
    {
     "data": {
      "text/plain": [
       "<matplotlib.figure.Figure at 0x7f1ed1c222b0>"
      ]
     },
     "metadata": {},
     "output_type": "display_data"
    },
    {
     "data": {
      "text/plain": [
       "<matplotlib.figure.Figure at 0x7f1e9b8db438>"
      ]
     },
     "metadata": {},
     "output_type": "display_data"
    },
    {
     "data": {
      "text/plain": [
       "<matplotlib.figure.Figure at 0x7f1ed1864588>"
      ]
     },
     "metadata": {},
     "output_type": "display_data"
    },
    {
     "data": {
      "text/plain": [
       "<matplotlib.figure.Figure at 0x7f1ed1aaa160>"
      ]
     },
     "metadata": {},
     "output_type": "display_data"
    },
    {
     "data": {
      "text/plain": [
       "<matplotlib.figure.Figure at 0x7f1ed1266f98>"
      ]
     },
     "metadata": {},
     "output_type": "display_data"
    },
    {
     "data": {
      "text/plain": [
       "<matplotlib.figure.Figure at 0x7f1ed11587b8>"
      ]
     },
     "metadata": {},
     "output_type": "display_data"
    },
    {
     "data": {
      "text/plain": [
       "<matplotlib.figure.Figure at 0x7f1e9b732048>"
      ]
     },
     "metadata": {},
     "output_type": "display_data"
    },
    {
     "data": {
      "text/plain": [
       "<matplotlib.figure.Figure at 0x7f1ed1791cf8>"
      ]
     },
     "metadata": {},
     "output_type": "display_data"
    },
    {
     "data": {
      "text/plain": [
       "<matplotlib.figure.Figure at 0x7f1ed1412048>"
      ]
     },
     "metadata": {},
     "output_type": "display_data"
    },
    {
     "data": {
      "text/plain": [
       "<matplotlib.figure.Figure at 0x7f1ed1261748>"
      ]
     },
     "metadata": {},
     "output_type": "display_data"
    },
    {
     "data": {
      "text/plain": [
       "<matplotlib.figure.Figure at 0x7f1e9b9f54e0>"
      ]
     },
     "metadata": {},
     "output_type": "display_data"
    },
    {
     "data": {
      "text/plain": [
       "<matplotlib.figure.Figure at 0x7f1e9b73b0b8>"
      ]
     },
     "metadata": {},
     "output_type": "display_data"
    },
    {
     "data": {
      "text/plain": [
       "<matplotlib.figure.Figure at 0x7f1e9b634b00>"
      ]
     },
     "metadata": {},
     "output_type": "display_data"
    },
    {
     "data": {
      "text/plain": [
       "<matplotlib.figure.Figure at 0x7f1ed1ce3668>"
      ]
     },
     "metadata": {},
     "output_type": "display_data"
    },
    {
     "data": {
      "text/plain": [
       "<matplotlib.figure.Figure at 0x7f1e9baefda0>"
      ]
     },
     "metadata": {},
     "output_type": "display_data"
    },
    {
     "data": {
      "text/plain": [
       "<matplotlib.figure.Figure at 0x7f1ed14bc5f8>"
      ]
     },
     "metadata": {},
     "output_type": "display_data"
    },
    {
     "data": {
      "text/plain": [
       "<matplotlib.figure.Figure at 0x7f1e9b8db5f8>"
      ]
     },
     "metadata": {},
     "output_type": "display_data"
    },
    {
     "data": {
      "text/plain": [
       "<matplotlib.figure.Figure at 0x7f1e9b628ba8>"
      ]
     },
     "metadata": {},
     "output_type": "display_data"
    },
    {
     "data": {
      "text/plain": [
       "<matplotlib.figure.Figure at 0x7f1e9b93c9b0>"
      ]
     },
     "metadata": {},
     "output_type": "display_data"
    },
    {
     "data": {
      "text/plain": [
       "<matplotlib.figure.Figure at 0x7f1e9b680908>"
      ]
     },
     "metadata": {},
     "output_type": "display_data"
    },
    {
     "data": {
      "text/plain": [
       "<matplotlib.figure.Figure at 0x7f1ed08dcda0>"
      ]
     },
     "metadata": {},
     "output_type": "display_data"
    },
    {
     "data": {
      "text/plain": [
       "<matplotlib.figure.Figure at 0x7f1ed1cfbbe0>"
      ]
     },
     "metadata": {},
     "output_type": "display_data"
    },
    {
     "data": {
      "text/plain": [
       "<matplotlib.figure.Figure at 0x7f1ed0904a90>"
      ]
     },
     "metadata": {},
     "output_type": "display_data"
    },
    {
     "data": {
      "text/plain": [
       "<matplotlib.figure.Figure at 0x7f1e9b8f34e0>"
      ]
     },
     "metadata": {},
     "output_type": "display_data"
    },
    {
     "data": {
      "text/plain": [
       "<matplotlib.figure.Figure at 0x7f1ed190be80>"
      ]
     },
     "metadata": {},
     "output_type": "display_data"
    },
    {
     "data": {
      "text/plain": [
       "<matplotlib.figure.Figure at 0x7f1ed098f0f0>"
      ]
     },
     "metadata": {},
     "output_type": "display_data"
    },
    {
     "data": {
      "text/plain": [
       "<matplotlib.figure.Figure at 0x7f1ed1be7320>"
      ]
     },
     "metadata": {},
     "output_type": "display_data"
    },
    {
     "data": {
      "text/plain": [
       "<matplotlib.figure.Figure at 0x7f1ed14fb6a0>"
      ]
     },
     "metadata": {},
     "output_type": "display_data"
    },
    {
     "data": {
      "text/plain": [
       "<matplotlib.figure.Figure at 0x7f1ed12f0780>"
      ]
     },
     "metadata": {},
     "output_type": "display_data"
    },
    {
     "data": {
      "text/plain": [
       "<matplotlib.figure.Figure at 0x7f1e9bbc7b38>"
      ]
     },
     "metadata": {},
     "output_type": "display_data"
    },
    {
     "data": {
      "text/plain": [
       "<matplotlib.figure.Figure at 0x7f1e9b903fd0>"
      ]
     },
     "metadata": {},
     "output_type": "display_data"
    },
    {
     "data": {
      "text/plain": [
       "<matplotlib.figure.Figure at 0x7f1ed141b550>"
      ]
     },
     "metadata": {},
     "output_type": "display_data"
    },
    {
     "data": {
      "text/plain": [
       "<matplotlib.figure.Figure at 0x7f1ed14fba20>"
      ]
     },
     "metadata": {},
     "output_type": "display_data"
    },
    {
     "data": {
      "text/plain": [
       "<matplotlib.figure.Figure at 0x7f1ed1867748>"
      ]
     },
     "metadata": {},
     "output_type": "display_data"
    },
    {
     "data": {
      "text/plain": [
       "<matplotlib.figure.Figure at 0x7f1ed132a0b8>"
      ]
     },
     "metadata": {},
     "output_type": "display_data"
    },
    {
     "data": {
      "text/plain": [
       "<matplotlib.figure.Figure at 0x7f1e9bbf2908>"
      ]
     },
     "metadata": {},
     "output_type": "display_data"
    },
    {
     "data": {
      "text/plain": [
       "<matplotlib.figure.Figure at 0x7f1e9ba7a240>"
      ]
     },
     "metadata": {},
     "output_type": "display_data"
    },
    {
     "data": {
      "text/plain": [
       "<matplotlib.figure.Figure at 0x7f1e9bb2fa20>"
      ]
     },
     "metadata": {},
     "output_type": "display_data"
    },
    {
     "data": {
      "text/plain": [
       "<matplotlib.figure.Figure at 0x7f1e9b903ba8>"
      ]
     },
     "metadata": {},
     "output_type": "display_data"
    },
    {
     "data": {
      "text/plain": [
       "<matplotlib.figure.Figure at 0x7f1ed1c6a470>"
      ]
     },
     "metadata": {},
     "output_type": "display_data"
    },
    {
     "data": {
      "text/plain": [
       "<matplotlib.figure.Figure at 0x7f1e9b92cdd8>"
      ]
     },
     "metadata": {},
     "output_type": "display_data"
    },
    {
     "data": {
      "text/plain": [
       "<matplotlib.figure.Figure at 0x7f1ed1c6a9e8>"
      ]
     },
     "metadata": {},
     "output_type": "display_data"
    },
    {
     "data": {
      "text/plain": [
       "<matplotlib.figure.Figure at 0x7f1e9ba61630>"
      ]
     },
     "metadata": {},
     "output_type": "display_data"
    },
    {
     "data": {
      "text/plain": [
       "<matplotlib.figure.Figure at 0x7f1e9ba5da58>"
      ]
     },
     "metadata": {},
     "output_type": "display_data"
    },
    {
     "data": {
      "text/plain": [
       "<matplotlib.figure.Figure at 0x7f1ed08f6c50>"
      ]
     },
     "metadata": {},
     "output_type": "display_data"
    },
    {
     "data": {
      "text/plain": [
       "<matplotlib.figure.Figure at 0x7f1ed132a2e8>"
      ]
     },
     "metadata": {},
     "output_type": "display_data"
    }
   ],
   "source": [
    "st = study('Olfacto')\n",
    "path_data0 = path.join(st.path, 'database/Retrieval_No_Odor/')\n",
    "path_data1 = path.join(st.path, 'database/Retrieval_EpiPerf_LowHigh/')\n",
    "path2save = path.join(st.path,'feature/ERP_Odor_No_Odor/Retrieval/')\n",
    "########################################################################\n",
    "if not path.exists(path2save):\n",
    "    makedirs(path2save)\n",
    "########################################################################\n",
    "\n",
    "subjects = ['LEFC','PIRJ','SEMC','CHAF','FERJ','VACJ']\n",
    "#subjects = ['CHAF', 'VACJ', 'SEMC', 'PIRJ','MICP'] # 'LEFC',\n",
    "conds = ['no_odor','low','high']\n",
    "\n",
    "for su in subjects:\n",
    "    mat0 = np.load(path_data0+su+'_odor_'+conds[0]+'_bipo_sel_phys.npz')\n",
    "    data0,labels,channels = mat0['x'],mat0['labels'],mat0['channels']\n",
    "    data1 = np.load(path_data1+su+'_odor_'+conds[1]+'_bipo_sel_phys.npz')['x']\n",
    "    data2 = np.load(path_data1+su+'_odor_'+conds[2]+'_bipo_sel_phys.npz')['x']\n",
    "    data_odor = np.concatenate((data1,data2), axis=2)\n",
    "    print(su,data0.shape, data_odor.shape)\n",
    "    \n",
    "    cond0_erps, cond1_erps = np.array([]), np.array([])\n",
    "    for elec in range(data0.shape[0]):\n",
    "        fig = plt.figure()\n",
    "\n",
    "        # Select data for one elec + name :\n",
    "        odor_elec = data_odor[elec].swapaxes(0,1)\n",
    "        no_odor_elec = data0[elec].swapaxes(0,1)\n",
    "        channel,label = channels[elec],labels[elec]\n",
    "        concat = np.concatenate((odor_elec,no_odor_elec), axis=0)\n",
    "        concat = np.array(concat, dtype='float64')\n",
    "        y = [0]*odor_elec.shape[0]+[1]*no_odor_elec.shape[0]\n",
    "        #print(odor_elec.shape, no_odor_elec.shape, concat.shape,len(y),y)\n",
    "                \n",
    "        #Filter data for one elec (all trials):\n",
    "        filtered_data = filter_data(concat, sfreq=512, l_freq=None, \n",
    "                    h_freq=low_pass_filter, method='fir', phase='zero-double').swapaxes(0,1)\n",
    "        print ('Size of filtered data:', filtered_data.shape)\n",
    "\n",
    "        #Normalize the non-averaged data (all trials)\n",
    "        times = np.arange(filtered_data.shape[0])\n",
    "        print ('time points : ', times.shape)\n",
    "        filtered_data_to_norm = np.swapaxes(filtered_data, 0, 1)\n",
    "        norm_filtered_data = rescale(filtered_data_to_norm, times=times, baseline=baseline, mode=norm_mode)\n",
    "        norm_filtered_data = np.swapaxes(norm_filtered_data, 0, 1)\n",
    "        print ('Size norm & filtered data : ', norm_filtered_data.shape,)\n",
    "\n",
    "# =======================PREPARE DATA TO PLOT AND PLOT THE ERPs=====================================\n",
    "        # Downsample each trial STER and extract time\n",
    "        time = np.arange(norm_filtered_data.shape[0])\n",
    "        ds_time = timing_ds(time,win=358,step=51, sf=512, onset=3000)\n",
    "        time_plot = [t for t in ds_time if data_to_use[0] < t <= data_to_use[1]]\n",
    "        \n",
    "        ds_data_all_plot = np.array([])\n",
    "        for trial in range(norm_filtered_data.shape[1]):\n",
    "            ds_data = downsample(norm_filtered_data[:,trial],win=358, step=51)\n",
    "            ds_plot = [p for i,p in enumerate(ds_data) if data_to_use[0] < ds_time[i] <= data_to_use[1]]\n",
    "            ds_data_all_plot = np.vstack((ds_data_all_plot,ds_plot)) if np.size(ds_data_all_plot) else ds_plot\n",
    "        ds_data_all_plot = ds_data_all_plot.swapaxes(0,1)\n",
    "        print('-> Shape of all trials data to plot : ',ds_data_all_plot.shape)\n",
    "        print('-> Shape of time vector : ', len(time_plot))\n",
    "\n",
    "        #Plot all trials \n",
    "        fig.suptitle(su+' ERP Odor/No Odor '+str(label)+' ('+str(channel)+') ', fontsize=14)\n",
    "        BorderPlot(time_plot, ds_data_all_plot, y=y, xlabel='Time (ms)',ylabel = 'ERP',\n",
    "                   alpha=0.3,linewidth=2, color = ['orange','blue'],legend=['odor','no odor'])\n",
    "        plt.gca().yaxis.set_major_locator(MaxNLocator(3,integer=True))\n",
    "        rmaxis(plt.gca(), ['right', 'top'])\n",
    "        addLines(plt.gca(), vLines=[0], vColor=['firebrick']*2, vWidth=[2]*2, hLines=[0], hColor=['#000000'], hWidth=[2])\n",
    "\n",
    "        plt.legend(loc=0, handletextpad=0.1, frameon=False, fontsize = 'xx-small')\n",
    "        \n",
    "        #Save all the plots\n",
    "        fname = (path2save +su+ '_ERP_'+str(label)+'_'+str(channel)+'_('+str(elec)+').png')\n",
    "        print (fname)\n",
    "        plt.savefig(fname, dpi=300, bbox_inches='tight')\n",
    "        plt.clf()\n",
    "        plt.close\n",
    "        \n",
    "        #Save STER for each condition\n",
    "        yClass = np.unique(y)\n",
    "        cond0 = ds_data_all_plot[:, np.where(y == yClass[0])[0]][np.newaxis]\n",
    "        cond1 = ds_data_all_plot[:, np.where(y == yClass[1])[0]][np.newaxis]\n",
    "        cond0_erps = np.vstack((cond0_erps,cond0)) if np.size(cond0_erps) else cond0\n",
    "        cond1_erps = np.vstack((cond1_erps,cond1)) if np.size(cond1_erps) else cond1\n",
    "    \n",
    "        print('data to save', ds_data_all_plot.shape,'cond0',cond0_erps.shape,'cond1',cond1_erps.shape)\n",
    "        del label, elec, channel, odor_elec, no_odor_elec, concat, filtered_data, filtered_data_to_norm, \n",
    "        norm_filtered_data, times, time_plot, ds_data_all_plot\n",
    "    print(cond1_erps.shape,cond0_erps.shape)\n",
    "    np.save(path2save+su+'_odor_bipo_sel_phys.npy',cond0_erps)\n",
    "    np.save(path2save+su+'_no_odor_bipo_sel_phys.npy',cond1_erps)"
   ]
  },
  {
   "cell_type": "code",
   "execution_count": null,
   "metadata": {
    "collapsed": true
   },
   "outputs": [],
   "source": []
  }
 ],
 "metadata": {
  "anaconda-cloud": {},
  "kernelspec": {
   "display_name": "Python [default]",
   "language": "python",
   "name": "python3"
  },
  "language_info": {
   "codemirror_mode": {
    "name": "ipython",
    "version": 3
   },
   "file_extension": ".py",
   "mimetype": "text/x-python",
   "name": "python",
   "nbconvert_exporter": "python",
   "pygments_lexer": "ipython3",
   "version": "3.5.5"
  }
 },
 "nbformat": 4,
 "nbformat_minor": 2
}
