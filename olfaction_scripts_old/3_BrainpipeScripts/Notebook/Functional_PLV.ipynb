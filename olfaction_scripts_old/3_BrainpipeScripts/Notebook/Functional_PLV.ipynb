{
 "cells": [
  {
   "cell_type": "code",
   "execution_count": 1,
   "metadata": {},
   "outputs": [],
   "source": [
    "import numpy as np\n",
    "import matplotlib.pyplot as plt\n",
    "from os import path\n",
    "#%matplotlib notebook\n",
    "\n",
    "from brainpipe.system import study\n",
    "from brainpipe.visual import BorderPlot, addLines\n",
    "from brainpipe.feature import TF\n",
    "from brainpipe.feature import PLV\n",
    "from brainpipe import *"
   ]
  },
  {
   "cell_type": "code",
   "execution_count": 3,
   "metadata": {
    "scrolled": true
   },
   "outputs": [
    {
     "name": "stdout",
     "output_type": "stream",
     "text": [
      "-> Olfacto loaded\n"
     ]
    }
   ],
   "source": [
    "st = study('Olfacto')\n",
    "pathdata = path.join(st.path, 'database/TS_E_all_by_odor_th40_art400_30_250_Good_Bad_RecScore/')\n",
    "path2save = path.join(st.path, 'feature/8_PLV_RECSCORE_Good_Bad_across_time_subset/')\n",
    "\n",
    "test = 'subset' \n",
    "\n",
    "if test == True:\n",
    "    n_elec_list = {'VACJ' :[1,2]}\n",
    "    subjects = ['VACJ']\n",
    "    freq = [[2, 4], [5, 7]] \n",
    "    fname = ['delta', 'theta'] \n",
    "    \n",
    "elif test == False :\n",
    "    subjects = ['SEMC','PIRJ','LEFC','MICP','CHAF','VACJ'] \n",
    "    n_elec_list = {\n",
    "    'CHAF' : 107,\n",
    "    'VACJ' : 139, \n",
    "    'SEMC' : 107,\n",
    "    'PIRJ' : 106,\n",
    "    'LEFC' : 193,\n",
    "    'MICP' : 105,\n",
    "        }\n",
    "    \n",
    "elif test == 'subset': #HC, PHC, Amg, Pir\n",
    "    subjects = ['SEMC','PIRJ','LEFC','MICP','VACJ'] \n",
    "    n_elec_list = {\n",
    "    'VACJ' : [1,2,3,11,12,13,14,15,16,17,22,23,24,60,61,62],\n",
    "    'SEMC' : [0,1,2,3,4],\n",
    "    'PIRJ' : [0,1,2,3,4,11,12,13,14,15,16,22,23,24,25,26,33,34,35,36,37,38],\n",
    "    'LEFC' : [0,1,11,12,13,14,22,23,24,25,26,27],\n",
    "    'MICP' : [0,1,2,3,9,18,10,11,12,19,20,21,22,23,29,30,31,32,33,40,41,42,43,44],\n",
    "        }\n",
    "    \n",
    "# Parameters for the PLV\n",
    "freq = [[2, 4], [5, 7], [8, 13], [13, 30], [30, 60], [60, 150]] \n",
    "fname = ['delta', 'theta', 'alpha', 'beta', 'gamma30-60', 'gamma60-150'] \n",
    "n_perm = 1\n",
    "sf = 512\n",
    "method = 'hilbert'\n",
    "conds = ['bad', 'good']\n",
    "\n",
    "for su in subjects:\n",
    "    for cond in conds:\n",
    "        \n",
    "        all_data, all_label = np.array([]), np.array([])\n",
    "        # create data and labels matrices (to compute PLV on a subset of electrodes)\n",
    "        for elec in n_elec_list[su]:\n",
    "            data = np.load(path.join(pathdata, su+'_concat_odor_'+cond+'_bipo.npz'))['x'][elec]\n",
    "            label = np.load(path.join(pathdata, su+'_concat_odor_'+cond+'_bipo.npz'))['label'][elec]\n",
    "            data = data[np.newaxis,...]\n",
    "            all_data = np.vstack((all_data,data)) if np.size(all_data) else data\n",
    "            all_label = np.vstack((all_label,label)) if np.size(all_label) else label\n",
    "        all_label = all_label.ravel()\n",
    "    \n",
    "        # compute the PLV for one cond, one freq\n",
    "        for elec in n_elec_list[su]:\n",
    "            for i,f in enumerate(freq):\n",
    "                n_elec, n_pts, n_trials = all_data.shape[0], all_data.shape[1], all_data.shape[2]\n",
    "                elec_data = np.load(path.join(pathdata, su+'_concat_odor_'+cond+'_bipo.npz'))['x'][elec]\n",
    "                elec_data = elec_data[np.newaxis,...]\n",
    "                elec_label = np.load(path.join(pathdata, su+'_concat_odor_'+cond+'_bipo.npz'))['label'][elec]\n",
    "\n",
    "                defPlv = PLV(sf=sf, npts=n_pts, f=f, method=method, cycle=3)\n",
    "                plv, pvalues = defPlv.get(all_data,elec_data,n_perm = n_perm)\n",
    "                plv = np.squeeze(plv)\n",
    "                np.save(path2save +su+'_'+cond+'_plv_'+fname[i]+'_elec_('+str(elec)+')_'+str(elec_label)+'.npy',plv)\n",
    "                \n",
    "                #Plot PLV values and labels\n",
    "                plot_title = 'Plot PLV for '+su+' '+cond+' '+fname[i]+' elec('+str(elec)+') '+str(elec_label)\n",
    "                fig = plt.figure(figsize=(9,6))\n",
    "                fig.suptitle(plot_title, fontsize=16, y=1., fontweight='bold')\n",
    "                step = 3700/ elec_data.shape[1]\n",
    "                time = np.arange(-700, 3000, step)\n",
    "\n",
    "                defPlv.plot2D(fig, plv, xvec=time, vmin=0, vmax=0.8,xlabel='Temps', \n",
    "                              ylabel='Electrodes', cmap='jet', cblabel='LTM - Olfactory')\n",
    "                addLines(plt.gca(), vLines=[0], vColor=['black'], vWidth=[2], vShape=['-'])\n",
    "                #print (all_label)\n",
    "                plt.yticks(np.arange(len(all_label))+0.5,all_label)\n",
    "                fig.savefig(path2save +su+'_'+cond+'_plv_'+fname[i]+'_elec_('+str(elec)+')_'+str(elec_label)+'.png',dpi=300, bbox_inches='tight')\n",
    "                plt.clf()\n",
    "                plt.close()\n",
    "        del elec, all_data, all_label, elec_data, elec_label\n",
    "                "
   ]
  }
 ],
 "metadata": {
  "anaconda-cloud": {},
  "kernelspec": {
   "display_name": "Python 3",
   "language": "python",
   "name": "python3"
  },
  "language_info": {
   "codemirror_mode": {
    "name": "ipython",
    "version": 3
   },
   "file_extension": ".py",
   "mimetype": "text/x-python",
   "name": "python",
   "nbconvert_exporter": "python",
   "pygments_lexer": "ipython3",
   "version": "3.6.1"
  }
 },
 "nbformat": 4,
 "nbformat_minor": 2
}
