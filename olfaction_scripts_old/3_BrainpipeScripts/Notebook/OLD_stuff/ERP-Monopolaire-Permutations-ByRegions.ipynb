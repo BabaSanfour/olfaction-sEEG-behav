{
 "cells": [
  {
   "cell_type": "markdown",
   "metadata": {},
   "source": [
    "## Calculate ERPs"
   ]
  },
  {
   "cell_type": "code",
   "execution_count": 7,
   "metadata": {
    "collapsed": true
   },
   "outputs": [],
   "source": [
    "#Importing files and modules\n",
    "\n",
    "import numpy as np\n",
    "import matplotlib.pyplot as plt\n",
    "from os import path\n",
    "%matplotlib notebook\n",
    "from brainpipe.system import study\n",
    "from brainpipe.visual import *\n",
    "from brainpipe.statistics import *\n",
    "from mne.baseline import rescale\n",
    "from mne.filter import filter_data\n",
    "import pandas, re"
   ]
  },
  {
   "cell_type": "markdown",
   "metadata": {},
   "source": [
    "## Variables"
   ]
  },
  {
   "cell_type": "code",
   "execution_count": 10,
   "metadata": {
    "collapsed": false
   },
   "outputs": [
    {
     "name": "stdout",
     "output_type": "stream",
     "text": [
      "-> Olfacto loaded\n"
     ]
    }
   ],
   "source": [
    "st = study('Olfacto')\n",
    "path_data = path.join (st.path, 'database/TS_E_all_cond_by_block_trigs_th40_art400_30_250/')\n",
    "\n",
    "low_pass_filter = 10.\n",
    "norm_mode = 'mean' #'ratio' 'mean' 'percent' \n",
    "sf = 512.\n",
    "baseline = [717 , 768]\n",
    "data_to_use = [768, 1536]\n",
    "n_perm = 200\n"
   ]
  },
  {
   "cell_type": "code",
   "execution_count": 11,
   "metadata": {
    "collapsed": false,
    "scrolled": true
   },
   "outputs": [
    {
     "name": "stdout",
     "output_type": "stream",
     "text": [
      "Sujet:  PIRJ roi :  Amg mat size :  (0,)\n",
      "Sujet:  PIRJ roi :  Pir mat size :  (0,)\n",
      "Sujet:  PIRJ roi :  Ins mat size :  (3, 1, 2304, 29)\n",
      "Sujet:  PIRJ roi :  ACC mat size :  (0,)\n",
      "Sujet:  PIRJ roi :  PCC mat size :  (9, 1, 2304, 29)\n",
      "Sujet:  PIRJ roi :  Ang mat size :  (5, 1, 2304, 29)\n",
      "Sujet:  PIRJ roi :  Fu mat size :  (2, 1, 2304, 29)\n",
      "Sujet:  PIRJ roi :  MFG mat size :  (0,)\n",
      "Sujet:  PIRJ roi :  SFG mat size :  (0,)\n",
      "Sujet:  PIRJ roi :  mHC mat size :  (0,)\n",
      "Sujet:  PIRJ roi :  aHC mat size :  (11, 1, 2304, 29)\n",
      "Sujet:  PIRJ roi :  pHC mat size :  (11, 1, 2304, 29)\n",
      "Sujet:  PIRJ roi :  PHG mat size :  (5, 1, 2304, 29)\n",
      "Sujet:  PIRJ roi :  HC mat size :  (22, 1, 2304, 29)\n",
      "Sujet:  PIRJ roi :  Ent mat size :  (0,)\n",
      "Sujet:  PIRJ roi :  PRC mat size :  (3, 1, 2304, 29)\n",
      "Sujet:  PIRJ roi :  STG mat size :  (14, 2304, 29)\n",
      "Sujet:  PIRJ roi :  ITG mat size :  (2, 1, 2304, 29)\n",
      "Sujet:  PIRJ roi :  MTG mat size :  (30, 2304, 29)\n",
      "Sujet:  PIRJ roi :  IFG mat size :  (4, 1, 2304, 29)\n"
     ]
    }
   ],
   "source": [
    "rois = ['Amg', 'Pir', 'Ins', 'ACC', 'PCC', 'Ang', 'Fu', 'MFG', 'SFG', 'mHC', 'aHC', 'pHC', 'PHG', 'HC',\n",
    "           'Ent', 'PRC', 'STG', 'ITG', 'MTG', 'IFG']\n",
    "suj = ['PIRJ']\n",
    "\n",
    "for su in suj:\n",
    "    filename = su+'_E1E2_concat_allfilter1.npz'\n",
    "    data_all = np.load(path.join(path_data, filename))\n",
    "    data, label = data_all['x'], [data_all['label'][i][0] for i in range(len(data_all['label']))]\n",
    "    for roi in rois:\n",
    "        roi_data_all = []\n",
    "        for elec, lab in enumerate(label):\n",
    "            match = re.search(roi, lab)\n",
    "            if match is not None :\n",
    "                roi_data_elec = data[elec][np.newaxis]\n",
    "                #print ('Data to append : ', roi_data_elec.shape)\n",
    "                roi_data_all.append(roi_data_elec)\n",
    "                concat_roi = np.concatenate(roi_data_all, axis=0)\n",
    "            else:\n",
    "                concat_roi = np.array(roi_data_all)\n",
    "                \n",
    "        if concat_roi.shape != (0):\n",
    "            print ('Sujet: ', su, 'roi : ', roi, 'mat size : ', concat_roi.shape)"
   ]
  },
  {
   "cell_type": "code",
   "execution_count": 12,
   "metadata": {
    "collapsed": false
   },
   "outputs": [
    {
     "ename": "KeyboardInterrupt",
     "evalue": "",
     "output_type": "error",
     "traceback": [
      "\u001b[0;31m---------------------------------------------------------------------------\u001b[0m",
      "\u001b[0;31mKeyboardInterrupt\u001b[0m                         Traceback (most recent call last)",
      "\u001b[0;32m<ipython-input-12-aedeba30bcac>\u001b[0m in \u001b[0;36m<module>\u001b[0;34m()\u001b[0m\n\u001b[1;32m     13\u001b[0m             \u001b[0mmatch\u001b[0m \u001b[0;34m=\u001b[0m \u001b[0mre\u001b[0m\u001b[0;34m.\u001b[0m\u001b[0msearch\u001b[0m\u001b[0;34m(\u001b[0m\u001b[0mroi\u001b[0m\u001b[0;34m,\u001b[0m \u001b[0mlab\u001b[0m\u001b[0;34m)\u001b[0m\u001b[0;34m\u001b[0m\u001b[0m\n\u001b[1;32m     14\u001b[0m             \u001b[0;32mif\u001b[0m \u001b[0mmatch\u001b[0m \u001b[0;32mis\u001b[0m \u001b[0;32mnot\u001b[0m \u001b[0;32mNone\u001b[0m \u001b[0;34m:\u001b[0m\u001b[0;34m\u001b[0m\u001b[0m\n\u001b[0;32m---> 15\u001b[0;31m                 \u001b[0mroi_data_elec\u001b[0m \u001b[0;34m=\u001b[0m \u001b[0mdata_all\u001b[0m\u001b[0;34m[\u001b[0m\u001b[0;34m'x'\u001b[0m\u001b[0;34m]\u001b[0m\u001b[0;34m[\u001b[0m\u001b[0melec\u001b[0m\u001b[0;34m]\u001b[0m\u001b[0;34m[\u001b[0m\u001b[0mnp\u001b[0m\u001b[0;34m.\u001b[0m\u001b[0mnewaxis\u001b[0m\u001b[0;34m]\u001b[0m\u001b[0;34m\u001b[0m\u001b[0m\n\u001b[0m\u001b[1;32m     16\u001b[0m                 \u001b[0;31m#print ('Data to append : ', roi_data_elec.shape)\u001b[0m\u001b[0;34m\u001b[0m\u001b[0;34m\u001b[0m\u001b[0m\n\u001b[1;32m     17\u001b[0m                 \u001b[0mroi_data_all\u001b[0m\u001b[0;34m.\u001b[0m\u001b[0mappend\u001b[0m\u001b[0;34m(\u001b[0m\u001b[0mroi_data_elec\u001b[0m\u001b[0;34m)\u001b[0m\u001b[0;34m\u001b[0m\u001b[0m\n",
      "\u001b[0;32m/home/karim/anaconda3/lib/python3.5/site-packages/numpy/lib/npyio.py\u001b[0m in \u001b[0;36m__getitem__\u001b[0;34m(self, key)\u001b[0m\n\u001b[1;32m    222\u001b[0m                 return format.read_array(bytes,\n\u001b[1;32m    223\u001b[0m                                          \u001b[0mallow_pickle\u001b[0m\u001b[0;34m=\u001b[0m\u001b[0mself\u001b[0m\u001b[0;34m.\u001b[0m\u001b[0mallow_pickle\u001b[0m\u001b[0;34m,\u001b[0m\u001b[0;34m\u001b[0m\u001b[0m\n\u001b[0;32m--> 224\u001b[0;31m                                          pickle_kwargs=self.pickle_kwargs)\n\u001b[0m\u001b[1;32m    225\u001b[0m             \u001b[0;32melse\u001b[0m\u001b[0;34m:\u001b[0m\u001b[0;34m\u001b[0m\u001b[0m\n\u001b[1;32m    226\u001b[0m                 \u001b[0;32mreturn\u001b[0m \u001b[0mself\u001b[0m\u001b[0;34m.\u001b[0m\u001b[0mzip\u001b[0m\u001b[0;34m.\u001b[0m\u001b[0mread\u001b[0m\u001b[0;34m(\u001b[0m\u001b[0mkey\u001b[0m\u001b[0;34m)\u001b[0m\u001b[0;34m\u001b[0m\u001b[0m\n",
      "\u001b[0;32m/home/karim/anaconda3/lib/python3.5/site-packages/numpy/lib/format.py\u001b[0m in \u001b[0;36mread_array\u001b[0;34m(fp, allow_pickle, pickle_kwargs)\u001b[0m\n\u001b[1;32m    662\u001b[0m                 \u001b[0mread_count\u001b[0m \u001b[0;34m=\u001b[0m \u001b[0mmin\u001b[0m\u001b[0;34m(\u001b[0m\u001b[0mmax_read_count\u001b[0m\u001b[0;34m,\u001b[0m \u001b[0mcount\u001b[0m \u001b[0;34m-\u001b[0m \u001b[0mi\u001b[0m\u001b[0;34m)\u001b[0m\u001b[0;34m\u001b[0m\u001b[0m\n\u001b[1;32m    663\u001b[0m                 \u001b[0mread_size\u001b[0m \u001b[0;34m=\u001b[0m \u001b[0mint\u001b[0m\u001b[0;34m(\u001b[0m\u001b[0mread_count\u001b[0m \u001b[0;34m*\u001b[0m \u001b[0mdtype\u001b[0m\u001b[0;34m.\u001b[0m\u001b[0mitemsize\u001b[0m\u001b[0;34m)\u001b[0m\u001b[0;34m\u001b[0m\u001b[0m\n\u001b[0;32m--> 664\u001b[0;31m                 \u001b[0mdata\u001b[0m \u001b[0;34m=\u001b[0m \u001b[0m_read_bytes\u001b[0m\u001b[0;34m(\u001b[0m\u001b[0mfp\u001b[0m\u001b[0;34m,\u001b[0m \u001b[0mread_size\u001b[0m\u001b[0;34m,\u001b[0m \u001b[0;34m\"array data\"\u001b[0m\u001b[0;34m)\u001b[0m\u001b[0;34m\u001b[0m\u001b[0m\n\u001b[0m\u001b[1;32m    665\u001b[0m                 array[i:i+read_count] = numpy.frombuffer(data, dtype=dtype,\n\u001b[1;32m    666\u001b[0m                                                          count=read_count)\n",
      "\u001b[0;32m/home/karim/anaconda3/lib/python3.5/site-packages/numpy/lib/format.py\u001b[0m in \u001b[0;36m_read_bytes\u001b[0;34m(fp, size, error_template)\u001b[0m\n\u001b[1;32m    801\u001b[0m         \u001b[0;31m# done about that.  note that regular files can't be non-blocking\u001b[0m\u001b[0;34m\u001b[0m\u001b[0;34m\u001b[0m\u001b[0m\n\u001b[1;32m    802\u001b[0m         \u001b[0;32mtry\u001b[0m\u001b[0;34m:\u001b[0m\u001b[0;34m\u001b[0m\u001b[0m\n\u001b[0;32m--> 803\u001b[0;31m             \u001b[0mr\u001b[0m \u001b[0;34m=\u001b[0m \u001b[0mfp\u001b[0m\u001b[0;34m.\u001b[0m\u001b[0mread\u001b[0m\u001b[0;34m(\u001b[0m\u001b[0msize\u001b[0m \u001b[0;34m-\u001b[0m \u001b[0mlen\u001b[0m\u001b[0;34m(\u001b[0m\u001b[0mdata\u001b[0m\u001b[0;34m)\u001b[0m\u001b[0;34m)\u001b[0m\u001b[0;34m\u001b[0m\u001b[0m\n\u001b[0m\u001b[1;32m    804\u001b[0m             \u001b[0mdata\u001b[0m \u001b[0;34m+=\u001b[0m \u001b[0mr\u001b[0m\u001b[0;34m\u001b[0m\u001b[0m\n\u001b[1;32m    805\u001b[0m             \u001b[0;32mif\u001b[0m \u001b[0mlen\u001b[0m\u001b[0;34m(\u001b[0m\u001b[0mr\u001b[0m\u001b[0;34m)\u001b[0m \u001b[0;34m==\u001b[0m \u001b[0;36m0\u001b[0m \u001b[0;32mor\u001b[0m \u001b[0mlen\u001b[0m\u001b[0;34m(\u001b[0m\u001b[0mdata\u001b[0m\u001b[0;34m)\u001b[0m \u001b[0;34m==\u001b[0m \u001b[0msize\u001b[0m\u001b[0;34m:\u001b[0m\u001b[0;34m\u001b[0m\u001b[0m\n",
      "\u001b[0;32m/home/karim/anaconda3/lib/python3.5/zipfile.py\u001b[0m in \u001b[0;36mread\u001b[0;34m(self, n)\u001b[0m\n\u001b[1;32m    842\u001b[0m         \u001b[0mself\u001b[0m\u001b[0;34m.\u001b[0m\u001b[0m_offset\u001b[0m \u001b[0;34m=\u001b[0m \u001b[0;36m0\u001b[0m\u001b[0;34m\u001b[0m\u001b[0m\n\u001b[1;32m    843\u001b[0m         \u001b[0;32mwhile\u001b[0m \u001b[0mn\u001b[0m \u001b[0;34m>\u001b[0m \u001b[0;36m0\u001b[0m \u001b[0;32mand\u001b[0m \u001b[0;32mnot\u001b[0m \u001b[0mself\u001b[0m\u001b[0;34m.\u001b[0m\u001b[0m_eof\u001b[0m\u001b[0;34m:\u001b[0m\u001b[0;34m\u001b[0m\u001b[0m\n\u001b[0;32m--> 844\u001b[0;31m             \u001b[0mdata\u001b[0m \u001b[0;34m=\u001b[0m \u001b[0mself\u001b[0m\u001b[0;34m.\u001b[0m\u001b[0m_read1\u001b[0m\u001b[0;34m(\u001b[0m\u001b[0mn\u001b[0m\u001b[0;34m)\u001b[0m\u001b[0;34m\u001b[0m\u001b[0m\n\u001b[0m\u001b[1;32m    845\u001b[0m             \u001b[0;32mif\u001b[0m \u001b[0mn\u001b[0m \u001b[0;34m<\u001b[0m \u001b[0mlen\u001b[0m\u001b[0;34m(\u001b[0m\u001b[0mdata\u001b[0m\u001b[0;34m)\u001b[0m\u001b[0;34m:\u001b[0m\u001b[0;34m\u001b[0m\u001b[0m\n\u001b[1;32m    846\u001b[0m                 \u001b[0mself\u001b[0m\u001b[0;34m.\u001b[0m\u001b[0m_readbuffer\u001b[0m \u001b[0;34m=\u001b[0m \u001b[0mdata\u001b[0m\u001b[0;34m\u001b[0m\u001b[0m\n",
      "\u001b[0;32m/home/karim/anaconda3/lib/python3.5/zipfile.py\u001b[0m in \u001b[0;36m_read1\u001b[0;34m(self, n)\u001b[0m\n\u001b[1;32m    912\u001b[0m                 \u001b[0mdata\u001b[0m \u001b[0;34m+=\u001b[0m \u001b[0mself\u001b[0m\u001b[0;34m.\u001b[0m\u001b[0m_read2\u001b[0m\u001b[0;34m(\u001b[0m\u001b[0mn\u001b[0m \u001b[0;34m-\u001b[0m \u001b[0mlen\u001b[0m\u001b[0;34m(\u001b[0m\u001b[0mdata\u001b[0m\u001b[0;34m)\u001b[0m\u001b[0;34m)\u001b[0m\u001b[0;34m\u001b[0m\u001b[0m\n\u001b[1;32m    913\u001b[0m         \u001b[0;32melse\u001b[0m\u001b[0;34m:\u001b[0m\u001b[0;34m\u001b[0m\u001b[0m\n\u001b[0;32m--> 914\u001b[0;31m             \u001b[0mdata\u001b[0m \u001b[0;34m=\u001b[0m \u001b[0mself\u001b[0m\u001b[0;34m.\u001b[0m\u001b[0m_read2\u001b[0m\u001b[0;34m(\u001b[0m\u001b[0mn\u001b[0m\u001b[0;34m)\u001b[0m\u001b[0;34m\u001b[0m\u001b[0m\n\u001b[0m\u001b[1;32m    915\u001b[0m \u001b[0;34m\u001b[0m\u001b[0m\n\u001b[1;32m    916\u001b[0m         \u001b[0;32mif\u001b[0m \u001b[0mself\u001b[0m\u001b[0;34m.\u001b[0m\u001b[0m_compress_type\u001b[0m \u001b[0;34m==\u001b[0m \u001b[0mZIP_STORED\u001b[0m\u001b[0;34m:\u001b[0m\u001b[0;34m\u001b[0m\u001b[0m\n",
      "\u001b[0;32m/home/karim/anaconda3/lib/python3.5/zipfile.py\u001b[0m in \u001b[0;36m_read2\u001b[0;34m(self, n)\u001b[0m\n\u001b[1;32m    942\u001b[0m         \u001b[0mn\u001b[0m \u001b[0;34m=\u001b[0m \u001b[0mmin\u001b[0m\u001b[0;34m(\u001b[0m\u001b[0mn\u001b[0m\u001b[0;34m,\u001b[0m \u001b[0mself\u001b[0m\u001b[0;34m.\u001b[0m\u001b[0m_compress_left\u001b[0m\u001b[0;34m)\u001b[0m\u001b[0;34m\u001b[0m\u001b[0m\n\u001b[1;32m    943\u001b[0m \u001b[0;34m\u001b[0m\u001b[0m\n\u001b[0;32m--> 944\u001b[0;31m         \u001b[0mdata\u001b[0m \u001b[0;34m=\u001b[0m \u001b[0mself\u001b[0m\u001b[0;34m.\u001b[0m\u001b[0m_fileobj\u001b[0m\u001b[0;34m.\u001b[0m\u001b[0mread\u001b[0m\u001b[0;34m(\u001b[0m\u001b[0mn\u001b[0m\u001b[0;34m)\u001b[0m\u001b[0;34m\u001b[0m\u001b[0m\n\u001b[0m\u001b[1;32m    945\u001b[0m         \u001b[0mself\u001b[0m\u001b[0;34m.\u001b[0m\u001b[0m_compress_left\u001b[0m \u001b[0;34m-=\u001b[0m \u001b[0mlen\u001b[0m\u001b[0;34m(\u001b[0m\u001b[0mdata\u001b[0m\u001b[0;34m)\u001b[0m\u001b[0;34m\u001b[0m\u001b[0m\n\u001b[1;32m    946\u001b[0m         \u001b[0;32mif\u001b[0m \u001b[0;32mnot\u001b[0m \u001b[0mdata\u001b[0m\u001b[0;34m:\u001b[0m\u001b[0;34m\u001b[0m\u001b[0m\n",
      "\u001b[0;32m/home/karim/anaconda3/lib/python3.5/zipfile.py\u001b[0m in \u001b[0;36mread\u001b[0;34m(self, n)\u001b[0m\n\u001b[1;32m    661\u001b[0m         \u001b[0;32mwith\u001b[0m \u001b[0mself\u001b[0m\u001b[0;34m.\u001b[0m\u001b[0m_lock\u001b[0m\u001b[0;34m:\u001b[0m\u001b[0;34m\u001b[0m\u001b[0m\n\u001b[1;32m    662\u001b[0m             \u001b[0mself\u001b[0m\u001b[0;34m.\u001b[0m\u001b[0m_file\u001b[0m\u001b[0;34m.\u001b[0m\u001b[0mseek\u001b[0m\u001b[0;34m(\u001b[0m\u001b[0mself\u001b[0m\u001b[0;34m.\u001b[0m\u001b[0m_pos\u001b[0m\u001b[0;34m)\u001b[0m\u001b[0;34m\u001b[0m\u001b[0m\n\u001b[0;32m--> 663\u001b[0;31m             \u001b[0mdata\u001b[0m \u001b[0;34m=\u001b[0m \u001b[0mself\u001b[0m\u001b[0;34m.\u001b[0m\u001b[0m_file\u001b[0m\u001b[0;34m.\u001b[0m\u001b[0mread\u001b[0m\u001b[0;34m(\u001b[0m\u001b[0mn\u001b[0m\u001b[0;34m)\u001b[0m\u001b[0;34m\u001b[0m\u001b[0m\n\u001b[0m\u001b[1;32m    664\u001b[0m             \u001b[0mself\u001b[0m\u001b[0;34m.\u001b[0m\u001b[0m_pos\u001b[0m \u001b[0;34m=\u001b[0m \u001b[0mself\u001b[0m\u001b[0;34m.\u001b[0m\u001b[0m_file\u001b[0m\u001b[0;34m.\u001b[0m\u001b[0mtell\u001b[0m\u001b[0;34m(\u001b[0m\u001b[0;34m)\u001b[0m\u001b[0;34m\u001b[0m\u001b[0m\n\u001b[1;32m    665\u001b[0m             \u001b[0;32mreturn\u001b[0m \u001b[0mdata\u001b[0m\u001b[0;34m\u001b[0m\u001b[0m\n",
      "\u001b[0;31mKeyboardInterrupt\u001b[0m: "
     ]
    }
   ],
   "source": [
    "subjects = ['CHAF','VACJ','SEMC','FERJ','PIRJ','LEFC','MICP',]\n",
    "\n",
    "rois = ['Amg', 'Pir', 'Ins', 'ACC', 'PCC', 'Ang', 'Fu', 'MFG', 'SFG', 'mHC', 'aHC', 'pHC', 'PHG', 'HC',\n",
    "           'Ent', 'PRC', 'STG', 'ITG', 'MTG', 'IFG']\n",
    "\n",
    "for su in subjects:\n",
    "    filename = su +'_E1E2_concat_allfilter1.npz'\n",
    "    data_all = np.load(path.join(path_data, filename))\n",
    "    data, label = data_all['x'], [data_all['label'][i][0] for i in range(len(data_all['label']))]\n",
    "    for roi in rois:\n",
    "        roi_data_all = []\n",
    "        for elec, lab in enumerate(label):\n",
    "            match = re.search(roi, lab)\n",
    "            if match is not None :\n",
    "                roi_data_elec = data_all['x'][elec][np.newaxis]\n",
    "                #print ('Data to append : ', roi_data_elec.shape)\n",
    "                roi_data_all.append(roi_data_elec)\n",
    "                concat_roi = np.concatenate(roi_data_all, axis=0)\n",
    "            else:\n",
    "                concat_roi = roi_data_all\n"
   ]
  },
  {
   "cell_type": "markdown",
   "metadata": {},
   "source": [
    "## Plot ERP by region"
   ]
  },
  {
   "cell_type": "code",
   "execution_count": 13,
   "metadata": {
    "collapsed": false,
    "scrolled": true
   },
   "outputs": [
    {
     "name": "stdout",
     "output_type": "stream",
     "text": [
      "-> Olfacto loaded\n"
     ]
    },
    {
     "ename": "NameError",
     "evalue": "name 'roi_suj_elec_dict' is not defined",
     "output_type": "error",
     "traceback": [
      "\u001b[0;31m---------------------------------------------------------------------------\u001b[0m",
      "\u001b[0;31mNameError\u001b[0m                                 Traceback (most recent call last)",
      "\u001b[0;32m<ipython-input-13-e7068b1af404>\u001b[0m in \u001b[0;36m<module>\u001b[0;34m()\u001b[0m\n\u001b[1;32m      4\u001b[0m \u001b[0mnorm_mode\u001b[0m \u001b[0;34m=\u001b[0m \u001b[0;34m'mean'\u001b[0m \u001b[0;31m#'ratio' 'mean' 'percent'\u001b[0m\u001b[0;34m\u001b[0m\u001b[0m\n\u001b[1;32m      5\u001b[0m \u001b[0;34m\u001b[0m\u001b[0m\n\u001b[0;32m----> 6\u001b[0;31m \u001b[0;32mfor\u001b[0m \u001b[0mroi\u001b[0m \u001b[0;32min\u001b[0m \u001b[0mroi_suj_elec_dict\u001b[0m\u001b[0;34m:\u001b[0m\u001b[0;34m\u001b[0m\u001b[0m\n\u001b[0m\u001b[1;32m      7\u001b[0m     \u001b[0mprint\u001b[0m \u001b[0;34m(\u001b[0m\u001b[0mroi\u001b[0m\u001b[0;34m)\u001b[0m\u001b[0;34m\u001b[0m\u001b[0m\n\u001b[1;32m      8\u001b[0m     \u001b[0mroi_data\u001b[0m \u001b[0;34m=\u001b[0m \u001b[0;34m[\u001b[0m\u001b[0;34m]\u001b[0m \u001b[0;31m#reset for every brain region\u001b[0m\u001b[0;34m\u001b[0m\u001b[0m\n",
      "\u001b[0;31mNameError\u001b[0m: name 'roi_suj_elec_dict' is not defined"
     ]
    }
   ],
   "source": [
    "st = study('Olfacto')\n",
    "path_data = path.join (st.path, 'database/TS_E_all_cond_by_block_trigs_filter1_500art/')\n",
    "low_pass_filter = 10.\n",
    "norm_mode = 'mean' #'ratio' 'mean' 'percent' \n",
    "\n",
    "for roi in roi_suj_elec_dict:\n",
    "    print (roi)\n",
    "    roi_data = [] #reset for every brain region\n",
    "    for suj, elecs in roi_suj_elec_dict[roi].items():\n",
    "        print ('{} = {}'.format(suj, elecs))\n",
    "        filename = suj +'_E1E2_concat_allfilter1.npz'\n",
    "        data_all = np.load(path.join(path_data, filename))\n",
    "        channel = [data_all['channel'][i][0] for i in range(len(data_all['channel']))]\n",
    "        #print (filename)\n",
    "        for elec in elecs:\n",
    "            print (elec, channel[elec])\n",
    "            data_elec = data_all['x'][elec]\n",
    "            mean_data_elec = np.mean(data_elec, axis=1) #average all trials\n",
    "\n",
    "            #Normalize the ERP\n",
    "            baseline = [973 , 1024]   #matrix are in sample\n",
    "            times = np.arange(mean_data_elec.shape[0])\n",
    "            norm_data = rescale(mean_data_elec, times=times, baseline=baseline, mode=norm_mode,)\n",
    "    #         print (norm_data.shape, norm_data.dtype)\n",
    "            norm_data = norm_data[np.newaxis]\n",
    "            roi_data.append(norm_data)\n",
    "            concat_roi = np.concatenate(roi_data, axis=0)    \n",
    "            print (concat_roi.shape)\n"
   ]
  },
  {
   "cell_type": "markdown",
   "metadata": {},
   "source": [
    "## Statistics perm on raw data"
   ]
  },
  {
   "cell_type": "code",
   "execution_count": null,
   "metadata": {
    "collapsed": false
   },
   "outputs": [],
   "source": [
    "#Average all ERPs for all subjects\n",
    "print (concat_roi.shape)\n",
    "mean_roi_data = np.mean(concat_roi, axis=0)\n",
    "print (mean_roi_data.shape)\n",
    "\n",
    "#generate the permutations between baseline and signal\n",
    "baseline = mean_roi_data [973:1024]\n",
    "print (baseline.shape)\n",
    "evoked_signal = mean_roi_data[1024:1792]\n",
    "print (evoked_signal.shape)\n",
    "perm_data = perm_swap(baseline, evoked_signal, n_perm=1000, axis=-1, rndstate=0) #axis=-1, the shape of a and b could be diffrent\n",
    "print(perm_data[0].shape, perm_data[1].shape)\n",
    "\n",
    "#Compute the statistics\n",
    "p_vals = perm_2pvalue(evoked_signal, perm_data[1], n_perm=1000, threshold=None, tail=2)\n",
    "print (p_vals.shape)\n",
    "add_p_to_plot = np.ones(int(baseline.shape[0]), dtype = None, order = 'C')\n",
    "#np.ndarray(shape=(51))\n",
    "print (add_p_to_plot.shape, add_p_to_plot)\n",
    "concat = [add_p_to_plot, p_vals]\n",
    "p_vals_raw_to_plot = np.concatenate(concat, axis=0)\n",
    "print (p_vals_raw_to_plot.shape)"
   ]
  },
  {
   "cell_type": "markdown",
   "metadata": {},
   "source": [
    "## Statistics perm on filtered data"
   ]
  },
  {
   "cell_type": "code",
   "execution_count": null,
   "metadata": {
    "collapsed": false
   },
   "outputs": [],
   "source": [
    "#Average all ERPs for all subjects\n",
    "print (concat_roi.shape)\n",
    "mean_roi_data = np.mean(concat_roi, axis=0)\n",
    "print (mean_roi_data.shape)\n",
    "\n",
    "#Filtered data\n",
    "data_to_filter = np.array(mean_roi_data, dtype='float64')\n",
    "print (data_to_filter.shape, data_to_filter.dtype)\n",
    "filtered_data = filter_data(data_to_filter, sfreq=512, l_freq=None, h_freq=low_pass_filter, method='fir', phase='zero-double')\n",
    "print (filtered_data.shape,)\n",
    "\n",
    "#generate the permutations between baseline and signal\n",
    "baseline = filtered_data [973:1024]\n",
    "print (baseline.shape)\n",
    "evoked_signal = filtered_data[1024:1792]\n",
    "print (evoked_signal.shape)\n",
    "perm_data = perm_swap(baseline, evoked_signal, n_perm=1000, axis=-1, rndstate=0) #axis=-1, the shape of a and b could be diffrent\n",
    "print(perm_data[0].shape, perm_data[1].shape)\n",
    "\n",
    "#Compute the statistics\n",
    "p_vals = perm_2pvalue(evoked_signal, perm_data[1], n_perm=1000, threshold=None, tail=2)\n",
    "print (p_vals.shape)\n",
    "add_p_to_plot = np.ones(int(baseline.shape[0]), dtype = None, order = 'C')\n",
    "#np.ndarray(shape=(51))\n",
    "print (add_p_to_plot.shape, add_p_to_plot)\n",
    "concat = [add_p_to_plot, p_vals]\n",
    "p_vals_filt_to_plot = np.concatenate(concat, axis=0)\n",
    "print (p_vals_filt_to_plot.shape)"
   ]
  },
  {
   "cell_type": "markdown",
   "metadata": {},
   "source": [
    "## Plots stats and ERPs"
   ]
  },
  {
   "cell_type": "code",
   "execution_count": null,
   "metadata": {
    "collapsed": false
   },
   "outputs": [],
   "source": [
    "#Filter the data 10Hz (just for illustration)\n",
    "data_to_filter = np.array(concat_roi, dtype='float64')\n",
    "print (data_to_filter.shape, data_to_filter.dtype)\n",
    "filtered_data = filter_data(data_to_filter, sfreq=512, l_freq=None, h_freq=low_pass_filter, method='fir', phase='zero-double')\n",
    "print (filtered_data.shape,)\n",
    "\n",
    "#Data to plot\n",
    "filtered_data_to_plot = filtered_data[:,973:1792]\n",
    "print ('data to plot', filtered_data_to_plot.shape)\n",
    "times_plot = 1000 * np.arange(-51, filtered_data_to_plot.shape[1]-51,) / 512\n",
    "print ('time to plot', times_plot.shape)\n",
    "\n",
    "#Plot the ERP data and filtered data\n",
    "fig = plt.figure()\n",
    "ax = fig.add_subplot(111)\n",
    "fig.subplots_adjust(top=0.85)\n",
    "ax.set_title(ax.set_title(roi+'_ERP_Odor_'+norm_mode, fontsize=14, fontweight='bold'))\n",
    "ax.set_xlabel('Times (ms)', fontsize=12)\n",
    "ax.set_ylabel('Potential', fontsize=12)\n",
    "BorderPlot(times_plot, filtered_data_to_plot, kind='sem', color='', alpha=0.2, linewidth=2, ncol=1, legend= roi+'_filter < '+str(low_pass_filter)+'Hz')\n",
    "lines = (-100, 0) #time vector is in ms\n",
    "addPval(plt.gca(), p_vals_raw_to_plot, p=0.05, x=times_plot, y=4, color='darkred', lw=3)\n",
    "addPval(plt.gca(), p_vals_raw_to_plot, p=0.01, x=times_plot, y=2, color='darkblue', lw=4)\n",
    "addPval(plt.gca(), p_vals_filt_to_plot, p=0.05, x=times_plot, y=8, color='red', lw=3)\n",
    "addPval(plt.gca(), p_vals_filt_to_plot, p=0.01, x=times_plot, y=6, color='dodgerblue', lw=4)\n",
    "addLines(plt.gca(), vLines=lines, vColor=['firebrick']*2, vWidth=[2]*2, hLines=[0], hColor=['#000000'], hWidth=[2])\n",
    "plt.grid()\n",
    "plt.legend(fontsize='small')\n",
    "plt.show()\n",
    "\n"
   ]
  },
  {
   "cell_type": "markdown",
   "metadata": {},
   "source": [
    "## All regions computed and saved"
   ]
  },
  {
   "cell_type": "code",
   "execution_count": 6,
   "metadata": {
    "collapsed": false
   },
   "outputs": [
    {
     "name": "stdout",
     "output_type": "stream",
     "text": [
      "-> Olfacto loaded\n"
     ]
    },
    {
     "ename": "NameError",
     "evalue": "name 'roi_suj_elec_dict' is not defined",
     "output_type": "error",
     "traceback": [
      "\u001b[0;31m---------------------------------------------------------------------------\u001b[0m",
      "\u001b[0;31mNameError\u001b[0m                                 Traceback (most recent call last)",
      "\u001b[0;32m<ipython-input-6-f02702528bdc>\u001b[0m in \u001b[0;36m<module>\u001b[0;34m()\u001b[0m\n\u001b[1;32m      4\u001b[0m \u001b[0mnorm_mode\u001b[0m \u001b[0;34m=\u001b[0m \u001b[0;34m'mean'\u001b[0m \u001b[0;31m#'ratio' 'mean' 'percent'\u001b[0m\u001b[0;34m\u001b[0m\u001b[0m\n\u001b[1;32m      5\u001b[0m \u001b[0;34m\u001b[0m\u001b[0m\n\u001b[0;32m----> 6\u001b[0;31m \u001b[0;32mfor\u001b[0m \u001b[0mroi\u001b[0m \u001b[0;32min\u001b[0m \u001b[0mroi_suj_elec_dict\u001b[0m\u001b[0;34m:\u001b[0m\u001b[0;34m\u001b[0m\u001b[0m\n\u001b[0m\u001b[1;32m      7\u001b[0m     \u001b[0mprint\u001b[0m \u001b[0;34m(\u001b[0m\u001b[0mroi\u001b[0m\u001b[0;34m)\u001b[0m\u001b[0;34m\u001b[0m\u001b[0m\n\u001b[1;32m      8\u001b[0m     \u001b[0mroi_data\u001b[0m \u001b[0;34m=\u001b[0m \u001b[0;34m[\u001b[0m\u001b[0;34m]\u001b[0m \u001b[0;31m#reset for every brain region\u001b[0m\u001b[0;34m\u001b[0m\u001b[0m\n",
      "\u001b[0;31mNameError\u001b[0m: name 'roi_suj_elec_dict' is not defined"
     ]
    }
   ],
   "source": [
    "st = study('Olfacto')\n",
    "path_data = path.join (st.path, 'database/TS_E_all_cond_by_block_trigs_filter1_500art/')\n",
    "low_pass_filter = 10.\n",
    "norm_mode = 'mean' #'ratio' 'mean' 'percent' \n",
    "\n",
    "for roi in roi_suj_elec_dict:\n",
    "    print (roi)\n",
    "    roi_data = [] #reset for every brain region\n",
    "    for suj, elecs in roi_suj_elec_dict[roi].items():\n",
    "        print ('{} = {}'.format(suj, elecs))\n",
    "        filename = suj +'_E1E2_concat_allfilter1.npz'\n",
    "        data_all = np.load(path.join(path_data, filename))\n",
    "        channel = [data_all['channel'][i][0] for i in range(len(data_all['channel']))]\n",
    "        #print (filename)\n",
    "        for elec in elecs:\n",
    "            print (elec, channel[elec])\n",
    "            data_elec = data_all['x'][elec]\n",
    "            mean_data_elec = np.mean(data_elec, axis=1) #average all trials\n",
    "\n",
    "            #Normalize the ERP\n",
    "            baseline = [973 , 1024]   #matrix are in sample\n",
    "            times = np.arange(mean_data_elec.shape[0])\n",
    "            norm_data = rescale(mean_data_elec, times=times, baseline=baseline, mode=norm_mode,)\n",
    "    #         print (norm_data.shape, norm_data.dtype)\n",
    "            norm_data = norm_data[np.newaxis]\n",
    "            roi_data.append(norm_data)\n",
    "            concat_roi = np.concatenate(roi_data, axis=0)    \n",
    "            print (concat_roi.shape)\n",
    "\n",
    "    #STATS-Average all ERPs for all subjects\n",
    "    mean_roi_data = np.mean(concat_roi, axis=0)\n",
    "\n",
    "    #STATS-RAW DATA generate the permutations between baseline and signal\n",
    "    baseline_raw = mean_roi_data [973:1024]\n",
    "    evoked_signal_raw = mean_roi_data[1024:1792]\n",
    "    perm_data_raw = perm_swap(baseline_raw, evoked_signal_raw, n_perm=1000, axis=-1, rndstate=0) #axis=-1, the shape of a and b could be diffrent\n",
    "    #Compute the statistics\n",
    "    p_vals_raw = perm_2pvalue(evoked_signal_raw, perm_data_raw[1], n_perm=1000, threshold=None, tail=2)\n",
    "    add_p_raw= np.ones(int(baseline_raw.shape[0]), dtype = None, order = 'C')\n",
    "    #np.ndarray(shape=(51))\n",
    "    concat_raw = [add_p_raw, p_vals_raw]\n",
    "    p_vals_raw_to_plot = np.concatenate(concat_raw, axis=0)\n",
    "\n",
    "    #STATS-FITLERED DATA\n",
    "    #generate the permutations between baseline and signal\n",
    "    data_to_filter = np.array(mean_roi_data, dtype='float64')\n",
    "    filtered_data = filter_data(data_to_filter, sfreq=512, l_freq=None, h_freq=low_pass_filter, method='fir', phase='zero-double')  \n",
    "    baseline_filt = filtered_data [973:1024]\n",
    "    evoked_signal_filt = filtered_data[1024:1792]\n",
    "    perm_data_filt = perm_swap(baseline_filt, evoked_signal_filt, n_perm=1000, axis=-1, rndstate=0) #axis=-1, the shape of a and b could be diffrent\n",
    "    #Compute the statistics\n",
    "    p_vals_filt = perm_2pvalue(evoked_signal_filt, perm_data_filt[1], n_perm=1000, threshold=None, tail=2)\n",
    "    add_p_filt = np.ones(int(baseline_filt.shape[0]), dtype = None, order = 'C')\n",
    "    #np.ndarray(shape=(51))\n",
    "    concat_filt = [add_p_filt, p_vals_filt]\n",
    "    p_vals_filt_to_plot = np.concatenate(concat_filt, axis=0)\n",
    "\n",
    "    #Data to plot\n",
    "    roi_data_to_filter = np.array(concat_roi, dtype='float64')\n",
    "    roi_filtered_data = filter_data(roi_data_to_filter, sfreq=512, l_freq=None, h_freq=low_pass_filter, method='fir', phase='zero-double')\n",
    "    filtered_data_to_plot = roi_filtered_data[:,973:1792]\n",
    "    print ('data to plot', filtered_data_to_plot.shape)\n",
    "    times_plot = 1000 * np.arange(-51, filtered_data_to_plot.shape[1]-51,) / 512\n",
    "    print ('times to plot', times_plot.shape)\n",
    "    n_regions = concat_roi.shape[0]\n",
    "    print (n_regions)\n",
    "\n",
    "    #Plot the ERP data and filtered data\n",
    "    fig = plt.figure()\n",
    "    ax = fig.add_subplot(111)\n",
    "    fig.subplots_adjust(top=0.85)\n",
    "    #ax.set_title(ax.set_title(roi+'_ERP_Odor_'+norm_mode+'_'+n_regions+'regions', fontsize=14, fontweight='bold'))\n",
    "    ax.set_xlabel('Times (ms)', fontsize=12)\n",
    "    ax.set_ylabel('Potential', fontsize=12)\n",
    "    BorderPlot(times_plot, filtered_data_to_plot, kind='sem', color='', alpha=0.2, linewidth=2, ncol=1, legend= roi+'_filter < '+str(low_pass_filter)+'Hz')\n",
    "    lines = (-100, 0) #time vector is in ms\n",
    "    addPval(plt.gca(), p_vals_raw_to_plot, p=0.05, x=times_plot, y=4, color='darkred', lw=3)\n",
    "    addPval(plt.gca(), p_vals_raw_to_plot, p=0.01, x=times_plot, y=2, color='darkblue', lw=4)\n",
    "    addPval(plt.gca(), p_vals_filt_to_plot, p=0.05, x=times_plot, y=8, color='red', lw=3)\n",
    "    addPval(plt.gca(), p_vals_filt_to_plot, p=0.01, x=times_plot, y=6, color='dodgerblue', lw=4)\n",
    "    addLines(plt.gca(), vLines=lines, vColor=['firebrick']*2, vWidth=[2]*2, hLines=[0], hColor=['#000000'], hWidth=[2])\n",
    "    plt.grid()\n",
    "    plt.legend(fontsize='small')\n",
    "\n",
    "    #Save all your plots\n",
    "    rep = path.join(st.path, 'feature/ERP_Encoding_all_mono_100ms_mean_Stats_filt_raw_By_region/',roi)\n",
    "    fname = (rep + '_E1E2_ERP_concat_all_mono_'+str(n_regions)+'plots.png')\n",
    "    print (fname)\n",
    "    plt.savefig(fname, dpi=300, bbox_inches='tight')\n",
    "    plt.close()\n"
   ]
  }
 ],
 "metadata": {
  "anaconda-cloud": {},
  "kernelspec": {
   "display_name": "Python [default]",
   "language": "python",
   "name": "python3"
  },
  "language_info": {
   "codemirror_mode": {
    "name": "ipython",
    "version": 3
   },
   "file_extension": ".py",
   "mimetype": "text/x-python",
   "name": "python",
   "nbconvert_exporter": "python",
   "pygments_lexer": "ipython3",
   "version": "3.5.2"
  }
 },
 "nbformat": 4,
 "nbformat_minor": 1
}
