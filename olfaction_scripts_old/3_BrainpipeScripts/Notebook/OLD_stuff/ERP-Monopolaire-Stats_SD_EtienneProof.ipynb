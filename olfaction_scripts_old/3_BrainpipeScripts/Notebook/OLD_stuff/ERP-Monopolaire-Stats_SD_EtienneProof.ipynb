{
 "cells": [
  {
   "cell_type": "markdown",
   "metadata": {},
   "source": [
    "## Calculate ERPs"
   ]
  },
  {
   "cell_type": "code",
   "execution_count": 2,
   "metadata": {
    "collapsed": false
   },
   "outputs": [],
   "source": [
    "#Importing files and modules\n",
    "\n",
    "import numpy as np\n",
    "import matplotlib.pyplot as plt\n",
    "from os import path\n",
    "%matplotlib notebook\n",
    "from brainpipe.system import study\n",
    "from brainpipe.visual import *\n",
    "from brainpipe.statistics import *\n",
    "from mne.baseline import rescale\n",
    "from mne.filter import filter_data"
   ]
  },
  {
   "cell_type": "markdown",
   "metadata": {},
   "source": [
    "# User variables"
   ]
  },
  {
   "cell_type": "code",
   "execution_count": 2,
   "metadata": {
    "collapsed": true
   },
   "outputs": [],
   "source": [
    "filename = 'MICP_E1E2_concat_allfilter1.npz'\n",
    "low_pass_filter = 10.\n",
    "sf = 512.\n",
    "norm_mode = 'mean' #'ratio' 'mean' 'percent' \n",
    "elec = 5\n",
    "baseline = [973 , 1024]\n",
    "data_to_use = [1024, 1792]\n",
    "n_perm = 1000"
   ]
  },
  {
   "cell_type": "markdown",
   "metadata": {},
   "source": [
    "# Load and prepare data\n",
    "## Load file"
   ]
  },
  {
   "cell_type": "code",
   "execution_count": 3,
   "metadata": {
    "collapsed": false
   },
   "outputs": [
    {
     "name": "stdout",
     "output_type": "stream",
     "text": [
      "-> Olfacto loaded\n",
      "\n",
      "Original data :  (122, 3072, 77) Channel :  a'1 N_trials : 77 New shape :  (3072, 77)\n",
      "Size of the meaned data: (3072,)\n"
     ]
    }
   ],
   "source": [
    "st = study('Olfacto')\n",
    "path_data = path.join (st.path, 'database/TS_E_all_cond_by_block_trigs_filter1_500art/')\n",
    "filename = 'CHAF_E1E2_concat_allfilter1.npz'\n",
    "\n",
    "# Data file for 1 subject\n",
    "data_all = np.load(filename)\n",
    "\n",
    "# Load data and channels :\n",
    "data, channel = data_all['x'], [data_all['channel'][i][0] for i in range(len(data_all['channel']))]\n",
    "\n",
    "# Select data for one elec + name :\n",
    "data_elec = data[elec,:,:]\n",
    "ntrials = len(data_elec[2])\n",
    "print ('\\nOriginal data : ', data.shape, 'Channel : ', channel[0], 'N_trials :', ntrials, 'New shape : ', data_elec.shape)\n",
    "\n",
    "#Average the data across trials for one electrode :\n",
    "mean_data_elec = np.mean(data_elec, axis=1)\n",
    "print ('Size of the meaned data:',mean_data_elec.shape)"
   ]
  },
  {
   "cell_type": "markdown",
   "metadata": {},
   "source": [
    "## Normalize ERP"
   ]
  },
  {
   "cell_type": "code",
   "execution_count": 4,
   "metadata": {
    "collapsed": false
   },
   "outputs": [
    {
     "name": "stdout",
     "output_type": "stream",
     "text": [
      "Applying baseline correction (mode: mean)\n",
      "(3072,) float32\n"
     ]
    }
   ],
   "source": [
    "#Normalize the ERP\n",
    "times = np.arange(mean_data_elec.shape[0])\n",
    "norm_data = rescale(mean_data_elec, times=times, baseline=baseline, mode=norm_mode,)\n",
    "print (norm_data.shape, norm_data.dtype)"
   ]
  },
  {
   "cell_type": "markdown",
   "metadata": {},
   "source": [
    "# Compute stats\n",
    "## Select data\n",
    "Calcul des stats sur des données non-moyénnées et à travers la dimension trial mais baseline moyennée (consistency)"
   ]
  },
  {
   "cell_type": "code",
   "execution_count": 5,
   "metadata": {
    "collapsed": false
   },
   "outputs": [
    {
     "name": "stdout",
     "output_type": "stream",
     "text": [
      "-> Shape of the baseline :  (1, 77)  and the selected data : (768, 77)\n"
     ]
    }
   ],
   "source": [
    "# Define a range vector for the baseline and data :\n",
    "baseline_range = range(baseline[0], baseline[1])\n",
    "data_range = range(data_to_use[0], data_to_use[1])\n",
    "\n",
    "# Now, get the baseline and data from the RAW data :\n",
    "baseline_tr = data_elec[baseline_range, :]\n",
    "data_elec_tr = data_elec[data_range, :]\n",
    "\n",
    "# Mean the baseline across time (increase consistency) :\n",
    "baseline_tr = baseline_tr.mean(0)[np.newaxis, ...]\n",
    "\n",
    "print('-> Shape of the baseline : ', baseline_tr.shape,' and the selected data :', data_elec_tr.shape)"
   ]
  },
  {
   "cell_type": "markdown",
   "metadata": {},
   "source": [
    "## Prepare data (insure compatibility with the perm_swap function)\n",
    "pour fonctionner, perm_swap demande à ce que les deux matrices a et b aient la même taille. Donc on va prendre la baseline et la répétée autant de fois qu'il y a de points temporels."
   ]
  },
  {
   "cell_type": "code",
   "execution_count": 6,
   "metadata": {
    "collapsed": false
   },
   "outputs": [
    {
     "name": "stdout",
     "output_type": "stream",
     "text": [
      "-> Shape of repeated baseline : (768, 77)\n"
     ]
    }
   ],
   "source": [
    "# Repeat the basline :\n",
    "baseline_tr_rep = np.tile(baseline_tr, (data_elec_tr.shape[0], 1))\n",
    "print('-> Shape of repeated baseline :', baseline_tr_rep.shape)"
   ]
  },
  {
   "cell_type": "markdown",
   "metadata": {},
   "source": [
    "## Compute the stats using permutations"
   ]
  },
  {
   "cell_type": "code",
   "execution_count": 9,
   "metadata": {
    "collapsed": false
   },
   "outputs": [
    {
     "name": "stdout",
     "output_type": "stream",
     "text": [
      "-> Shape of permuted data / baseline :  (1000, 768, 77)\n",
      "-> Shape of meaned permuted data / baseline :  (1000, 768)\n",
      "-> Shape of non-corrected p-values :  (768,)\n"
     ]
    }
   ],
   "source": [
    "# Swap RAW data and baseline across trials (dim 1) :\n",
    "perm_data = perm_swap(baseline_tr_rep, data_elec_tr, axis=1, n_perm=n_perm)[0]\n",
    "print('-> Shape of permuted data / baseline : ', perm_data.shape)\n",
    "\n",
    "# Take the mean across time :\n",
    "perm_data_raw = perm_data.mean(2)\n",
    "print('-> Shape of meaned permuted data / baseline : ', perm_data_raw.shape)\n",
    "\n",
    "# Get p-values from the permuted data :\n",
    "p_vals_raw = perm_2pvalue(data_elec_tr.mean(1), perm_data_raw, n_perm=n_perm, threshold=None, tail=2)\n",
    "print('-> Shape of non-corrected p-values : ', p_vals_raw.shape)"
   ]
  },
  {
   "cell_type": "markdown",
   "metadata": {},
   "source": [
    "## Correction of p-values for multiple comparison (across time)"
   ]
  },
  {
   "cell_type": "code",
   "execution_count": 16,
   "metadata": {
    "collapsed": false
   },
   "outputs": [
    {
     "name": "stdout",
     "output_type": "stream",
     "text": [
      "-> Shape of maxstat perm :  (1000, 768)\n",
      "-> Shape of corrected p-values :  (768,)\n",
      "-> Significant p-values after mutiple comparison?  False\n"
     ]
    }
   ],
   "source": [
    "# Correct across time :\n",
    "perm_raw_corr = maxstat(perm_data, axis=2)[..., 0]\n",
    "print('-> Shape of maxstat perm : ', perm_raw_corr.shape)\n",
    "\n",
    "# Get p-values from the permuted data :\n",
    "p_vals_raw_corr = perm_2pvalue(data_elec_tr.mean(1), perm_raw_corr, n_perm=n_perm, threshold=None, tail=2)\n",
    "print('-> Shape of corrected p-values : ', p_vals_raw_corr.shape)\n",
    "\n",
    "# Test if there's significant p-values after multiplt comparison :\n",
    "print('-> Significant p-values after mutiple comparison? ', p_vals_raw_corr.min() <= 0.05)"
   ]
  },
  {
   "cell_type": "markdown",
   "metadata": {},
   "source": [
    "# Plot\n",
    "## Prepare plotting variables"
   ]
  },
  {
   "cell_type": "code",
   "execution_count": 19,
   "metadata": {
    "collapsed": false
   },
   "outputs": [
    {
     "name": "stdout",
     "output_type": "stream",
     "text": [
      "-> Shape of data to plot :  (819,)\n",
      "-> Shape of time vector :  (819,)\n",
      "-> Shape of p-values to plot : (819,) (819,)\n"
     ]
    }
   ],
   "source": [
    "# Data to plot :\n",
    "data_to_plot = norm_data[range(baseline[0], data_to_use[1])]\n",
    "print('-> Shape of data to plot : ', data_to_plot.shape)\n",
    "\n",
    "# Time vector :\n",
    "times_plot = 1000 * np.arange(-51, data_to_plot.shape[0]-51,) / sf\n",
    "print('-> Shape of time vector : ', times_plot.shape)\n",
    "\n",
    "\n",
    "# P-values to plot :\n",
    "p_vals_raw_to_plot = np.insert(p_vals_raw, 0, 10 * np.ones((baseline[1] - baseline[0],)))\n",
    "p_vals_raw_corr_to_plot = np.insert(p_vals_raw_corr, 0, 10 * np.ones((baseline[1] - baseline[0],)))\n",
    "print('-> Shape of p-values to plot :', p_vals_raw_to_plot.shape, p_vals_raw_corr_to_plot.shape)"
   ]
  },
  {
   "cell_type": "markdown",
   "metadata": {},
   "source": [
    "## Plots stats and ERPs"
   ]
  },
  {
   "cell_type": "code",
   "execution_count": 1,
   "metadata": {
    "collapsed": false
   },
   "outputs": [
    {
     "ename": "NameError",
     "evalue": "name 'norm_data' is not defined",
     "output_type": "error",
     "traceback": [
      "\u001b[0;31m---------------------------------------------------------------------------\u001b[0m",
      "\u001b[0;31mNameError\u001b[0m                                 Traceback (most recent call last)",
      "\u001b[0;32m<ipython-input-1-6d85c2c77bf9>\u001b[0m in \u001b[0;36m<module>\u001b[0;34m()\u001b[0m\n\u001b[1;32m      1\u001b[0m \u001b[0;31m#Data to plot\u001b[0m\u001b[0;34m\u001b[0m\u001b[0;34m\u001b[0m\u001b[0m\n\u001b[0;32m----> 2\u001b[0;31m \u001b[0mnorm_data_to_plot\u001b[0m \u001b[0;34m=\u001b[0m \u001b[0mnorm_data\u001b[0m\u001b[0;34m[\u001b[0m\u001b[0;36m973\u001b[0m\u001b[0;34m:\u001b[0m\u001b[0;36m1792\u001b[0m\u001b[0;34m]\u001b[0m\u001b[0;34m\u001b[0m\u001b[0m\n\u001b[0m\u001b[1;32m      3\u001b[0m \u001b[0mprint\u001b[0m \u001b[0;34m(\u001b[0m\u001b[0;34m'size window to plot'\u001b[0m\u001b[0;34m,\u001b[0m \u001b[0mnorm_data_to_plot\u001b[0m\u001b[0;34m.\u001b[0m\u001b[0mshape\u001b[0m\u001b[0;34m)\u001b[0m\u001b[0;34m\u001b[0m\u001b[0m\n\u001b[1;32m      4\u001b[0m \u001b[0;31m#filtered_data_to_plot = filtered_data[973:1792]\u001b[0m\u001b[0;34m\u001b[0m\u001b[0;34m\u001b[0m\u001b[0m\n\u001b[1;32m      5\u001b[0m \u001b[0mtimes_plot\u001b[0m \u001b[0;34m=\u001b[0m \u001b[0;36m1000\u001b[0m \u001b[0;34m*\u001b[0m \u001b[0mnp\u001b[0m\u001b[0;34m.\u001b[0m\u001b[0marange\u001b[0m\u001b[0;34m(\u001b[0m\u001b[0;34m-\u001b[0m\u001b[0;36m51\u001b[0m\u001b[0;34m,\u001b[0m \u001b[0mnorm_data_to_plot\u001b[0m\u001b[0;34m.\u001b[0m\u001b[0mshape\u001b[0m\u001b[0;34m[\u001b[0m\u001b[0;36m0\u001b[0m\u001b[0;34m]\u001b[0m\u001b[0;34m-\u001b[0m\u001b[0;36m51\u001b[0m\u001b[0;34m,\u001b[0m\u001b[0;34m)\u001b[0m \u001b[0;34m/\u001b[0m \u001b[0;36m512\u001b[0m\u001b[0;34m\u001b[0m\u001b[0m\n",
      "\u001b[0;31mNameError\u001b[0m: name 'norm_data' is not defined"
     ]
    }
   ],
   "source": [
    "#Data to plot\n",
    "norm_data_to_plot = norm_data[973:1792]\n",
    "print ('size window to plot', norm_data_to_plot.shape)\n",
    "#filtered_data_to_plot = filtered_data[973:1792]\n",
    "times_plot = 1000 * np.arange(-51, norm_data_to_plot.shape[0]-51,) / 512\n",
    "print (times_plot.shape)\n",
    "\n",
    "#Plot the ERP data and filtered data\n",
    "fig = plt.figure(0, figsize=(12, 7))\n",
    "ax = fig.add_subplot(111)\n",
    "fig.subplots_adjust(top=0.85)\n",
    "ax.set_title('ERP_'+norm_mode, fontsize=14, fontweight='bold')\n",
    "ax.set_xlabel('Times (ms)', fontsize=12)\n",
    "ax.set_ylabel('Potential', fontsize=12)\n",
    "#BorderPlot(times_plot, filtered_data_to_plot, kind='sem', color='', alpha=0.2, linewidth=2, ncol=1, legend='filtered data < '+str(low_pass_filter)+'Hz')\n",
    "\n",
    "# =================== PLOT DATA ===================\n",
    "plt.plot(times_plot, data_to_plot, '#808080', linewidth=1, label='data')\n",
    "#plt.plot(times_plot, filtered_data_to_plot, 'g-', linewidth=2, label='filtered data < '+str(low_pass_filter)+'Hz')\n",
    "lines = (-100, 0) #time vector is in ms\n",
    "addPval(plt.gca(), p_vals_raw_to_plot, p=0.05, x=times_plot, y=0.5, color='darkred', lw=3)\n",
    "addPval(plt.gca(), p_vals_raw_to_plot, p=0.01, x=times_plot, y=1, color='darkblue', lw=4)\n",
    "addPval(plt.gca(), p_vals_raw_corr_to_plot, p=0.05, x=times_plot, y=2, color='red', lw=3)\n",
    "addPval(plt.gca(), p_vals_raw_corr_to_plot, p=0.01, x=times_plot, y=3, color='dodgerblue', lw=4)\n",
    "#addPval(plt.gca(), p_vals_filt_to_plot, p=0.05, x=times_plot, y=2, color='red', lw=3)\n",
    "#addPval(plt.gca(), p_vals_filt_to_plot, p=0.01, x=times_plot, y=3, color='dodgerblue', lw=4)\n",
    "addLines(plt.gca(), vLines=lines, vColor=['firebrick']*2, vWidth=[2]*2, hLines=[0], hColor=['#000000'], hWidth=[2])\n",
    "plt.grid()\n",
    "plt.legend(fontsize='small')\n",
    "plt.show()"
   ]
  }
 ],
 "metadata": {
  "anaconda-cloud": {},
  "kernelspec": {
   "display_name": "Python [default]",
   "language": "python",
   "name": "python3"
  },
  "language_info": {
   "codemirror_mode": {
    "name": "ipython",
    "version": 3
   },
   "file_extension": ".py",
   "mimetype": "text/x-python",
   "name": "python",
   "nbconvert_exporter": "python",
   "pygments_lexer": "ipython3",
   "version": "3.5.2"
  }
 },
 "nbformat": 4,
 "nbformat_minor": 1
}
