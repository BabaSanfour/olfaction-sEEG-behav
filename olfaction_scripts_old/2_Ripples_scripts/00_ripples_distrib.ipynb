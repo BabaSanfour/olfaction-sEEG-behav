{
 "cells": [
  {
   "cell_type": "code",
   "execution_count": 5,
   "metadata": {},
   "outputs": [],
   "source": [
    "def wind_select(rep):\n",
    "    if rep != 'Retrieval_new_rec':\n",
    "        win = [1500,2500] #0 to 2s\n",
    "    else:\n",
    "        win = [1750,2500] #-1.5s to 0s\n",
    "    return win"
   ]
  },
  {
   "cell_type": "code",
   "execution_count": 6,
   "metadata": {},
   "outputs": [
    {
     "name": "stdout",
     "output_type": "stream",
     "text": [
      "-> Ripples loaded\n",
      ">> processing Encoding CHAF\n",
      "CHECK same file [[[ 11.75773349  47.34217015]\n",
      "  [ 10.10963645  49.79978689]\n",
      "  [  9.94269863  48.32357217]\n",
      "  ...\n",
      "  [ 22.65930605  59.68101587]\n",
      "  [ 23.23838875  57.55737974]\n",
      "  [ 21.35247154  60.95794862]]\n",
      "\n",
      " [[ -3.6721529  -46.41692094]\n",
      "  [ -7.46526839 -42.90348316]\n",
      "  [ -5.25416672 -42.53551954]\n",
      "  ...\n",
      "  [  2.90735238 -48.6811588 ]\n",
      "  [  2.38204031 -45.68320049]\n",
      "  [ -0.49033027 -49.68584723]]]\n",
      "['f', 'time', 'xampl', 'x', 'fname', 'new_labels', 'channels', 'labels', 'xyz', 'ripples', 'artefacts']\n",
      "[]\n",
      "[array([], dtype=int64)]\n"
     ]
    },
    {
     "ename": "ZeroDivisionError",
     "evalue": "division by zero",
     "output_type": "error",
     "traceback": [
      "\u001b[0;31m----------------------------------------------------------------\u001b[0m",
      "\u001b[0;31mZeroDivisionError\u001b[0m              Traceback (most recent call last)",
      "\u001b[0;32m<ipython-input-6-93d636ea762f>\u001b[0m in \u001b[0;36m<module>\u001b[0;34m()\u001b[0m\n\u001b[1;32m     33\u001b[0m                 \u001b[0mrip_split\u001b[0m \u001b[0;34m=\u001b[0m \u001b[0mnp\u001b[0m\u001b[0;34m.\u001b[0m\u001b[0msplit\u001b[0m\u001b[0;34m(\u001b[0m\u001b[0mindx_rip\u001b[0m\u001b[0;34m,\u001b[0m \u001b[0mnp\u001b[0m\u001b[0;34m.\u001b[0m\u001b[0mwhere\u001b[0m\u001b[0;34m(\u001b[0m\u001b[0mnp\u001b[0m\u001b[0;34m.\u001b[0m\u001b[0mdiff\u001b[0m\u001b[0;34m(\u001b[0m\u001b[0mindx_rip\u001b[0m\u001b[0;34m)\u001b[0m \u001b[0;34m!=\u001b[0m \u001b[0;36m1\u001b[0m\u001b[0;34m)\u001b[0m\u001b[0;34m[\u001b[0m\u001b[0;36m0\u001b[0m\u001b[0;34m]\u001b[0m\u001b[0;34m+\u001b[0m\u001b[0;36m1\u001b[0m\u001b[0;34m)\u001b[0m\u001b[0;34m\u001b[0m\u001b[0m\n\u001b[1;32m     34\u001b[0m                 \u001b[0mprint\u001b[0m\u001b[0;34m(\u001b[0m\u001b[0mrip_split\u001b[0m\u001b[0;34m)\u001b[0m\u001b[0;34m\u001b[0m\u001b[0m\n\u001b[0;32m---> 35\u001b[0;31m                 \u001b[0;36m0\u001b[0m\u001b[0;34m/\u001b[0m\u001b[0;36m0\u001b[0m\u001b[0;34m\u001b[0m\u001b[0m\n\u001b[0m\u001b[1;32m     36\u001b[0m \u001b[0;34m\u001b[0m\u001b[0m\n\u001b[1;32m     37\u001b[0m             \u001b[0;31m#append information to create global df for all subj\u001b[0m\u001b[0;34m\u001b[0m\u001b[0;34m\u001b[0m\u001b[0m\n",
      "\u001b[0;31mZeroDivisionError\u001b[0m: division by zero"
     ]
    }
   ],
   "source": [
    "\"\"\"Quantify detected ripples by ROI and patient\"\"\"\n",
    "\n",
    "from params import subjects\n",
    "import numpy as np\n",
    "from brainpipe.system import study\n",
    "from os.path import join\n",
    "\n",
    "reps = ['Encoding', 'Retrieval_new_odors', 'Retrieval_new_rec']\n",
    "st = study('Ripples')\n",
    "path_data = join(st.path, 'ripples/{}/')\n",
    "file_name = join(path_data,'{}_cond=ALL_odors=ALL_rip_art.npz')\n",
    "\n",
    "for rep in reps:\n",
    "    subj, rois, elecs, channels, nb_tot, nb_trial = [], [], [], [], [], []\n",
    "    for su in subjects:\n",
    "        print('>> processing',rep,su)\n",
    "        mat_r = np.load(file_name.format(rep,su), allow_pickle=True)\n",
    "        wind = wind_select(rep)\n",
    "        ripples = mat_r['ripples'][:,wind[0]:wind[1],:]\n",
    "        nelecs, np, ntrials = ripples.shape\n",
    "        print(mat_r.files)\n",
    "        elecs.append(np.arange(nelecs)), subj.append([su]*nelecs)\n",
    "        rois.append(mat_r['new_labels']), channels.append(mat_r['channels'])\n",
    "        \n",
    "        for elec in range(nelecs):\n",
    "            rip_e = ripples[elec]\n",
    "            for t in range(ntrials):          \n",
    "                #count ripples in selected window\n",
    "                indx_rip = np.where(rip_e[:,t] == 1)[0]\n",
    "                print(indx_rip)\n",
    "                rip_split = np.split(indx_rip, np.where(np.diff(indx_rip) != 1)[0]+1)\n",
    "                print(rip_split)\n",
    "                0/0\n",
    "\n",
    "            #append information to create global df for all subj\n",
    "        0/0"
   ]
  }
 ],
 "metadata": {
  "kernelspec": {
   "display_name": "Python 3",
   "language": "python",
   "name": "python3"
  },
  "language_info": {
   "codemirror_mode": {
    "name": "ipython",
    "version": 3
   },
   "file_extension": ".py",
   "mimetype": "text/x-python",
   "name": "python",
   "nbconvert_exporter": "python",
   "pygments_lexer": "ipython3",
   "version": "3.6.1"
  }
 },
 "nbformat": 4,
 "nbformat_minor": 2
}
