{
 "cells": [
  {
   "cell_type": "markdown",
   "metadata": {},
   "source": [
    "### Npz files 1000 perm "
   ]
  },
  {
   "cell_type": "code",
   "execution_count": null,
   "metadata": {
    "scrolled": true
   },
   "outputs": [
    {
     "name": "stdout",
     "output_type": "stream",
     "text": [
      "-> respi loaded\n",
      "0_VLFC\n",
      "CHAF\n",
      "['BA', 'f', 'aal', 'xyz', 'labels', 'channels', 'fname', 'pow'] labels (96,) (96, 6, 174, 30)\n",
      "FERJ\n",
      "['BA', 'f', 'aal', 'xyz', 'labels', 'channels', 'fname', 'pow'] labels (102,) (102, 6, 227, 30)\n",
      "LEFC\n",
      "['BA', 'f', 'aal', 'xyz', 'labels', 'channels', 'fname', 'pow'] labels (175,) (175, 6, 183, 30)\n",
      "MICP\n",
      "['BA', 'f', 'aal', 'xyz', 'labels', 'channels', 'fname', 'pow'] labels (96,) (96, 6, 124, 30)\n",
      "PIRJ\n",
      "['BA', 'f', 'aal', 'xyz', 'labels', 'channels', 'fname', 'pow'] labels (83,) (83, 6, 289, 30)\n"
     ]
    }
   ],
   "source": [
    "from brainpipe.system import study\n",
    "import numpy as np\n",
    "from os import listdir,makedirs\n",
    "from os.path import isfile, join,exists\n",
    "import numpy as np\n",
    "from itertools import product\n",
    "\n",
    "st = study('respi')\n",
    "phase = '_reshape'\n",
    "conds = ['no_odor','odorall']\n",
    "\n",
    "path_classif = join(st.path, 'classified/0_Classif_Power_Odor_NoOdor_Reshaped_1000perm/')\n",
    "path_pow = join(st.path, 'Power_reshape/')\n",
    "path2save = join(st.path, 'figure/0_Classif_Power_E_Odor_NoOdor_Reshaped_1000perm/')\n",
    "subjects = ['CHAF','FERJ','LEFC','SEMC','PIRJ','VACJ','MICP']\n",
    "\n",
    "fnames = np.load(path_pow+'{}_E_{}_pow{}.npz'.format(subjects[0],conds[0],phase))['fname']\n",
    "freqs = [str(i)+'_'+freq.decode(\"utf-8\") for i,freq in enumerate(fnames)]\n",
    "\n",
    "## Create a npz file with all sources informations + POWER (subjects, coords, labels)\n",
    "for id_freq,freq in enumerate(freqs):\n",
    "    su_codes, s_xyz, s_channels,s_labels, s_elec, s_elec_pow0, s_elec_pow1 = np.array([]),np.array([]), np.array([]), np.array([]),np.array([]),np.array([]),np.array([])\n",
    "    s_stats, s_stats_t0, s_da, s_perm = np.array([]),np.array([]),np.array([]),np.array([])\n",
    "    s_BA, s_AAL, s_AAL_RL, s_MAI, s_MAI_RL = np.array([]),np.array([]),np.array([]),np.array([]),np.array([])\n",
    "    print(freq)\n",
    "    for i,su in enumerate(sorted(subjects)):\n",
    "        print(su)\n",
    "        mat0 = np.load(path_pow+'{}_E_{}_pow{}.npz'.format(su,conds[0],phase))\n",
    "        mat1 = np.load(path_pow+'{}_E_{}_pow{}.npz'.format(su,conds[1],phase))\n",
    "        pow0 = mat0['pow'].swapaxes(0,1).swapaxes(2,3)\n",
    "        pow1 = mat1['pow'].swapaxes(0,1).swapaxes(2,3)\n",
    "        print(mat0.files,'labels',mat0['labels'].shape, mat0['pow'].shape)\n",
    "        xyz_all = mat0['xyz']\n",
    "        for elec in range(xyz_all.shape[0]):\n",
    "            ### INFO electrodes for all subjects\n",
    "            su_codes = np.vstack((su_codes,'S'+str(i))) if np.size(su_codes) else 'S'+str(i)\n",
    "            xyz = xyz_all[elec]\n",
    "            s_xyz = np.vstack((s_xyz, xyz)) if np.size(s_xyz) else xyz\n",
    "            aal = mat0['aal'][elec]\n",
    "            s_AAL = np.vstack((s_AAL, aal)) if np.size(s_AAL) else aal\n",
    "            aal_RL = aal[:-4]\n",
    "            s_AAL_RL = np.vstack((s_AAL_RL, aal_RL)) if np.size(s_AAL_RL) else aal_RL\n",
    "            BA = mat0['BA'][elec]\n",
    "            s_BA = np.vstack((s_BA, BA)) if np.size(s_BA) else BA\n",
    "            label = mat0['labels'][elec]\n",
    "            channel = mat0['channels'][elec]               \n",
    "            s_labels = np.vstack((s_labels, label)) if np.size(s_labels) else label\n",
    "            s_channels = np.vstack((s_channels, channel)) if np.size(s_channels) else channel\n",
    "            ### POWER values for 1 electrode for 1 freq for Good & Bad conditions\n",
    "            #print('power shape',pow0['xpow'].shape, pow1['xpow'].shape)\n",
    "            elec_pow0 = pow0[id_freq,elec,:,:]\n",
    "            elec_pow1 = pow1[id_freq,elec,:,:]\n",
    "            #print(elec_pow0.shape, elec_pow1.shape)\n",
    "            ## AVERAGE POWER power across trials + select values only AFTER odor perception (14 windows)\n",
    "            elec_pow0 = np.mean(elec_pow0, axis=1)#0 for rest\n",
    "            elec_pow1 = np.mean(elec_pow1, axis=1)#0 for rest\n",
    "            s_elec_pow0 = np.vstack((s_elec_pow0, elec_pow0)) if np.size(s_elec_pow0) else elec_pow0\n",
    "            s_elec_pow1 = np.vstack((s_elec_pow1, elec_pow1)) if np.size(s_elec_pow1) else elec_pow1\n",
    "            s_elec = np.vstack((s_elec,str(elec))) if np.size(s_elec) else str(elec)\n",
    "            ### STATS & DECODING ACCURACY for all electrodes\n",
    "            da = np.mean(np.load(join(path_classif, freq+'/auc/'+su+'_auc'+phase+'_'+conds[0]+'_'+conds[1]+'_'+label+'_('+str(elec)+').npy')),axis=0)\n",
    "            perm = np.load(join(path_classif, freq+'/auc/'+su+'_perm'+phase+'_'+conds[0]+'_'+conds[1]+'_'+label+'_('+str(elec)+').npy'))[np.newaxis]\n",
    "            ### AVERAGE stats across repetitions for da + select only values AFTER odor perception\n",
    "            s_da = np.vstack((s_da, da)) if np.size(s_da) else da\n",
    "            s_perm = np.vstack((s_perm, perm)) if np.size(s_perm) else perm\n",
    "    print ('before', 'pow1',s_elec_pow1.shape, 'pow0',s_elec_pow0.shape,'da', s_da.shape, \n",
    "           'perm',s_perm.shape,'aal',s_AAL.shape,'BA',s_BA.shape)   \n",
    "    su_codes = np.squeeze(su_codes)\n",
    "    s_labels = np.squeeze(s_labels)\n",
    "    s_AAL = np.squeeze(s_AAL)\n",
    "    s_AAL_RL = np.squeeze(s_AAL_RL)\n",
    "    s_BA = np.squeeze(s_BA)\n",
    "    s_channels = np.squeeze(s_channels)\n",
    "    s_elec = np.squeeze(s_elec)\n",
    "    s_da = np.squeeze(s_da)\n",
    "    s_perm = np.squeeze(s_perm)\n",
    "    print ('after', 'pow1',s_elec_pow1.shape, 'pow0',s_elec_pow0.shape,\n",
    "           'da', s_da.shape, 'perm',s_perm.shape,'aal',s_AAL.shape, 'BA',s_BA.shape)\n",
    "    su_coord_label = {'su_codes':su_codes, 's_xyz':s_xyz, 's_labels':s_labels,'s_channels':s_channels, \n",
    "                      's_elec':s_elec, 's_elec_pow0':s_elec_pow0,'s_time':s_time,\n",
    "                     's_elec_pow1':s_elec_pow1,'s_da':s_da,'s_perm':s_perm,'s_aal':s_AAL,\n",
    "                      's_BA':s_BA, 's_aal_RL':s_AAL_RL}\n",
    "    file_source = 'All_subjects_sources_'+freq+'_'+phase+'_'+conds[0]+'_'+conds[1]+'_sel_physFT.npz'\n",
    "    if not exists(path2save):\n",
    "        makedirs(path2save)\n",
    "    np.savez(path2save+file_source,**su_coord_label)"
   ]
  },
  {
   "cell_type": "code",
   "execution_count": null,
   "metadata": {
    "collapsed": true
   },
   "outputs": [],
   "source": []
  }
 ],
 "metadata": {
  "anaconda-cloud": {},
  "kernelspec": {
   "display_name": "Python [conda env:anaconda3]",
   "language": "python",
   "name": "conda-env-anaconda3-py"
  },
  "language_info": {
   "codemirror_mode": {
    "name": "ipython",
    "version": 3
   },
   "file_extension": ".py",
   "mimetype": "text/x-python",
   "name": "python",
   "nbconvert_exporter": "python",
   "pygments_lexer": "ipython3",
   "version": "3.5.5"
  }
 },
 "nbformat": 4,
 "nbformat_minor": 2
}
